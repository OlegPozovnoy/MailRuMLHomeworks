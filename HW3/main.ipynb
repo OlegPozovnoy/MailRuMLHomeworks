{
  "nbformat": 4,
  "nbformat_minor": 0,
  "metadata": {
    "colab": {
      "name": "Untitled",
      "provenance": [],
      "collapsed_sections": [],
      "authorship_tag": "ABX9TyPnDfQ+NV2p5iy8qjPwExgI",
      "include_colab_link": true
    },
    "kernelspec": {
      "name": "python3",
      "display_name": "Python 3"
    }
  },
  "cells": [
    {
      "cell_type": "markdown",
      "metadata": {
        "id": "view-in-github",
        "colab_type": "text"
      },
      "source": [
        "<a href=\"https://colab.research.google.com/github/OlegPozovnoy/MailRuMLHomeworks/blob/master/HW3/main.ipynb\" target=\"_parent\"><img src=\"https://colab.research.google.com/assets/colab-badge.svg\" alt=\"Open In Colab\"/></a>"
      ]
    },
    {
      "cell_type": "code",
      "metadata": {
        "id": "6Zu_gS6BesAI",
        "colab_type": "code",
        "outputId": "4f4c0e2b-ad59-49a9-e0c2-156e4922ba1c",
        "colab": {
          "base_uri": "https://localhost:8080/",
          "height": 34
        }
      },
      "source": [
        "from google.colab import drive\n",
        "drive.mount('/datasets/')"
      ],
      "execution_count": 1,
      "outputs": [
        {
          "output_type": "stream",
          "text": [
            "Drive already mounted at /datasets/; to attempt to forcibly remount, call drive.mount(\"/datasets/\", force_remount=True).\n"
          ],
          "name": "stdout"
        }
      ]
    },
    {
      "cell_type": "code",
      "metadata": {
        "id": "YUKYWDYejhWP",
        "colab_type": "code",
        "outputId": "baf3598b-67ee-4d54-adb9-94d569e75b58",
        "colab": {
          "base_uri": "https://localhost:8080/",
          "height": 34
        }
      },
      "source": [
        "!ls \"/datasets/My Drive/datasets/\""
      ],
      "execution_count": 2,
      "outputs": [
        {
          "output_type": "stream",
          "text": [
            "players.pkl  results.pkl  tournaments.pkl\n"
          ],
          "name": "stdout"
        }
      ]
    },
    {
      "cell_type": "code",
      "metadata": {
        "id": "VPH9pU3ai3hh",
        "colab_type": "code",
        "colab": {}
      },
      "source": [
        "import pickle\n",
        "import pandas as pd"
      ],
      "execution_count": 0,
      "outputs": []
    },
    {
      "cell_type": "code",
      "metadata": {
        "id": "SjVYMl3_l-nH",
        "colab_type": "code",
        "colab": {}
      },
      "source": [
        "tournaments = pd.read_pickle(\"/datasets/My Drive/datasets/tournaments.pkl\")\n",
        "#tournaments = pd.read_pickle(\"./tournaments.pkl\")\n",
        "\n",
        "tournaments_cleaned = [(v['id'], v['name'], v['dateStart'][0:4], v['type']['name'], v['questionQty']) for k,v in tournaments.items() if v['questionQty'] != None]\n",
        "del tournaments"
      ],
      "execution_count": 0,
      "outputs": []
    },
    {
      "cell_type": "markdown",
      "metadata": {
        "id": "0tf0NonT3YUU",
        "colab_type": "text"
      },
      "source": [
        "Создадим трейн и тест набор турниров."
      ]
    },
    {
      "cell_type": "code",
      "metadata": {
        "id": "_CGbnhciI8Tm",
        "colab_type": "code",
        "outputId": "5aa8e193-9154-4557-ecc7-3539bc015e65",
        "colab": {
          "base_uri": "https://localhost:8080/",
          "height": 51
        }
      },
      "source": [
        "train_id = [ v[0] for v in tournaments_cleaned if int(v[2])<= 2019]\n",
        "test_id = [v[0] for v in tournaments_cleaned if int(v[2])== 2020]\n",
        "\n",
        "print(len(train_id))\n",
        "print(len(test_id))"
      ],
      "execution_count": 6,
      "outputs": [
        {
          "output_type": "stream",
          "text": [
            "3921\n",
            "418\n"
          ],
          "name": "stdout"
        }
      ]
    },
    {
      "cell_type": "code",
      "metadata": {
        "id": "P7fpAzcWk_mT",
        "colab_type": "code",
        "colab": {}
      },
      "source": [
        "results = pd.read_pickle(\"/datasets/My Drive/datasets/results.pkl\")\n",
        "#results = pd.read_pickle(\"./results.pkl\")\n",
        "results_cleaned = {k: v for k,v in results.items() if k in train_id or k in test_id}\n",
        "\n",
        "results_cleaned2 = {}\n",
        "for k,v in results_cleaned.items():\n",
        "  results_cleaned2[k] = []\n",
        "  for s in v:\n",
        "    if s.get('mask') != None:\n",
        "      results_cleaned2[k].append((s.get('mask'),s.get('questionsTotal'), [k.get('player').get('id') for k in s.get('teamMembers')]))\n",
        "\n",
        "del results\n",
        "del results_cleaned"
      ],
      "execution_count": 0,
      "outputs": []
    },
    {
      "cell_type": "code",
      "metadata": {
        "id": "Ba8T5dEQLw7g",
        "colab_type": "code",
        "outputId": "ff3883b0-caad-4a4c-a891-a0f4ed8426b3",
        "colab": {
          "base_uri": "https://localhost:8080/",
          "height": 51
        }
      },
      "source": [
        "train_id = [id for id in train_id if id in results_cleaned2.keys() and len(results_cleaned2[id]) > 0]\n",
        "test_id = [id for id in test_id if id in results_cleaned2.keys() and len(results_cleaned2[id]) > 0]\n",
        "\n",
        "print(len(train_id))\n",
        "print(len(test_id))"
      ],
      "execution_count": 8,
      "outputs": [
        {
          "output_type": "stream",
          "text": [
            "3486\n",
            "173\n"
          ],
          "name": "stdout"
        }
      ]
    },
    {
      "cell_type": "code",
      "metadata": {
        "id": "y-bgXk1RT8A-",
        "colab_type": "code",
        "outputId": "7934817f-4628-498d-efa0-a6df5c8e53f6",
        "colab": {
          "base_uri": "https://localhost:8080/",
          "height": 68
        }
      },
      "source": [
        "import numpy as np\n",
        "from sklearn.linear_model import LogisticRegression\n",
        "import tqdm\n",
        "import gc\n",
        "\n",
        "all_words = []\n",
        "\n",
        "for k,v in results_cleaned2.items():\n",
        "  for team in v: \n",
        "    for p in range(len(team[0])):\n",
        "        all_words.append(str(k)+'_'+str(p))\n",
        "    for m in team[2]:\n",
        "        all_words.append(m)\n",
        "\n",
        "all_words = set(all_words)\n",
        "print(len(all_words))\n",
        "\n",
        "all_results = {}\n",
        "for s in all_words:\n",
        "  all_results[s] = [0,0]\n",
        "\n",
        "\n",
        "print (len(results_cleaned2))\n",
        "vocabulary =  set()\n",
        "\n",
        "logistic = LogisticRegression(fit_intercept = False)\n",
        "\n",
        "def process_tournament(id):\n",
        "  task3 = []\n",
        "  words = []\n",
        "    \n",
        "  pairs = len(results_cleaned2[id]) * len(results_cleaned2[id][0][0])* len(results_cleaned2[id][0][2]) \n",
        "  if  pairs > 10000000:\n",
        "    print('There are ' + str(pairs) + 'player x questions pairs, tournament will be skipped')\n",
        "    return\n",
        "\n",
        "  for v in results_cleaned2[id]:\n",
        "    for p in range(len(v[0])): #answers\n",
        "      for k in v[2]: # players\n",
        "        quest = str(id)+'_'+str(p)\n",
        "        player = int(k)\n",
        "        task3.append((quest, player, v[0][p]) )\n",
        "        words.append(quest)\n",
        "        words.append(player)\n",
        "\n",
        "  if len(words)==0:\n",
        "    return []\n",
        "  \n",
        "  words = set(words)\n",
        "  word_to_idx = dict([(y,x) for x,y in enumerate(words)])\n",
        "  idx_to_word = dict([(x,y) for x,y in enumerate(words)])\n",
        "  \n",
        "  # как такое сосчитать\n",
        "  if (len(task3) * len(words) > 100000000):\n",
        "    print('There are ' + str(len(task3) * len(words)) + 'player x questions pairs, tournament will be skipped')\n",
        "    return\n",
        "        \n",
        "    \n",
        "  X = np.zeros((len(task3),len(words)))\n",
        "  Y = np.zeros(len(task3))\n",
        "  for i in range(len(task3)):\n",
        "    X[i,word_to_idx[task3[i][0]]] = 1\n",
        "    X[i,word_to_idx[task3[i][1]]] = 1\n",
        "    Y[i] = 1 if str(task3[i][2]) == '1' else 0\n",
        "\n",
        " #penalty = 'none', \n",
        "  print(X.shape)\n",
        "  logistic.fit(X, Y)\n",
        "\n",
        "  result = []\n",
        "  for s in range(len(logistic.coef_[0])):\n",
        "    all_results[idx_to_word[s]][1] +=1\n",
        "    all_results[idx_to_word[s]][0] +=logistic.coef_[0][s]\n",
        "\n",
        "#print(process_tournament(1521))\n",
        "process_tournament(1526)"
      ],
      "execution_count": 9,
      "outputs": [
        {
          "output_type": "stream",
          "text": [
            "357955\n",
            "4339\n",
            "There are 1403619840player x questions pairs, tournament will be skipped\n"
          ],
          "name": "stdout"
        }
      ]
    },
    {
      "cell_type": "markdown",
      "metadata": {
        "id": "ZYAuLnul2Ztn",
        "colab_type": "text"
      },
      "source": [
        "Создадим словарь из всех вопросов и игроков, их можно отличать по наличию символа '_' в названии."
      ]
    },
    {
      "cell_type": "markdown",
      "metadata": {
        "id": "Ec8_oUCP2pir",
        "colab_type": "text"
      },
      "source": [
        "Пройдемся по всем турнирам и посчитаем рейтинг всех игроков и вопросов в заданном турнире, за неимением лучшего, усредним по каждому игроку рейтинг в турнире"
      ]
    },
    {
      "cell_type": "code",
      "metadata": {
        "id": "ovg-qp80xZy0",
        "colab_type": "code",
        "outputId": "79dffceb-063d-4c04-f068-e801fc6c6f71",
        "colab": {
          "base_uri": "https://localhost:8080/",
          "height": 1000
        }
      },
      "source": [
        "import tqdm\n",
        "\n",
        "i=0\n",
        "for tourn in tqdm.tqdm(train_id):\n",
        "  i=i+1\n",
        "  print(tourn)\n",
        "  process_tournament(tourn)\n"
      ],
      "execution_count": 10,
      "outputs": [
        {
          "output_type": "stream",
          "text": [
            "\r  0%|          | 0/3486 [00:00<?, ?it/s]"
          ],
          "name": "stderr"
        },
        {
          "output_type": "stream",
          "text": [
            "22\n",
            "(10080, 202)\n",
            "76\n"
          ],
          "name": "stdout"
        },
        {
          "output_type": "stream",
          "text": [
            "\r  0%|          | 2/3486 [00:00<17:39,  3.29it/s]"
          ],
          "name": "stderr"
        },
        {
          "output_type": "stream",
          "text": [
            "(29250, 415)\n",
            "141\n",
            "(24840, 366)\n"
          ],
          "name": "stdout"
        },
        {
          "output_type": "stream",
          "text": [
            "\r  0%|          | 3/3486 [00:00<19:05,  3.04it/s]"
          ],
          "name": "stderr"
        },
        {
          "output_type": "stream",
          "text": [
            "226\n",
            "(34560, 474)\n"
          ],
          "name": "stdout"
        },
        {
          "output_type": "stream",
          "text": [
            "\r  0%|          | 4/3486 [00:01<25:39,  2.26it/s]"
          ],
          "name": "stderr"
        },
        {
          "output_type": "stream",
          "text": [
            "315\n",
            "(42300, 560)\n"
          ],
          "name": "stdout"
        },
        {
          "output_type": "stream",
          "text": [
            "\r  0%|          | 5/3486 [00:02<35:59,  1.61it/s]"
          ],
          "name": "stderr"
        },
        {
          "output_type": "stream",
          "text": [
            "484\n",
            "(48960, 634)\n"
          ],
          "name": "stdout"
        },
        {
          "output_type": "stream",
          "text": [
            "\r  0%|          | 6/3486 [00:04<50:59,  1.14it/s]"
          ],
          "name": "stderr"
        },
        {
          "output_type": "stream",
          "text": [
            "583\n",
            "(43830, 577)\n"
          ],
          "name": "stdout"
        },
        {
          "output_type": "stream",
          "text": [
            "  0%|          | 8/3486 [00:05<39:35,  1.46it/s]"
          ],
          "name": "stderr"
        },
        {
          "output_type": "stream",
          "text": [
            "652\n",
            "(9810, 263)\n",
            "1082\n",
            "(19530, 307)\n"
          ],
          "name": "stdout"
        },
        {
          "output_type": "stream",
          "text": [
            "\r  0%|          | 9/3486 [00:05<32:26,  1.79it/s]"
          ],
          "name": "stderr"
        },
        {
          "output_type": "stream",
          "text": [
            "1224\n",
            "(21150, 325)\n"
          ],
          "name": "stdout"
        },
        {
          "output_type": "stream",
          "text": [
            "  0%|          | 12/3486 [00:06<20:48,  2.78it/s]"
          ],
          "name": "stderr"
        },
        {
          "output_type": "stream",
          "text": [
            "1348\n",
            "(2340, 101)\n",
            "1369\n",
            "(13500, 240)\n",
            "1515\n",
            "(12456, 245)\n"
          ],
          "name": "stdout"
        },
        {
          "output_type": "stream",
          "text": [
            "\r  0%|          | 13/3486 [00:06<17:19,  3.34it/s]"
          ],
          "name": "stderr"
        },
        {
          "output_type": "stream",
          "text": [
            "1516\n",
            "(7830, 219)\n",
            "1517\n",
            "(16875, 300)\n"
          ],
          "name": "stdout"
        },
        {
          "output_type": "stream",
          "text": [
            "  0%|          | 16/3486 [00:06<13:03,  4.43it/s]"
          ],
          "name": "stderr"
        },
        {
          "output_type": "stream",
          "text": [
            "1518\n",
            "There are 164906820player x questions pairs, tournament will be skipped\n",
            "1519\n",
            "(23025, 382)\n"
          ],
          "name": "stdout"
        },
        {
          "output_type": "stream",
          "text": [
            "  1%|          | 18/3486 [00:07<13:17,  4.35it/s]"
          ],
          "name": "stderr"
        },
        {
          "output_type": "stream",
          "text": [
            "1521\n",
            "There are 101835630player x questions pairs, tournament will be skipped\n",
            "1526\n"
          ],
          "name": "stdout"
        },
        {
          "output_type": "stream",
          "text": [
            "  1%|          | 20/3486 [00:07<12:27,  4.64it/s]"
          ],
          "name": "stderr"
        },
        {
          "output_type": "stream",
          "text": [
            "There are 1403619840player x questions pairs, tournament will be skipped\n",
            "1531\n",
            "There are 875435820player x questions pairs, tournament will be skipped\n",
            "1532\n",
            "(43650, 575)\n"
          ],
          "name": "stdout"
        },
        {
          "output_type": "stream",
          "text": [
            "\r  1%|          | 21/3486 [00:08<31:41,  1.82it/s]"
          ],
          "name": "stderr"
        },
        {
          "output_type": "stream",
          "text": [
            "1534\n"
          ],
          "name": "stdout"
        },
        {
          "output_type": "stream",
          "text": [
            "\r  1%|          | 22/3486 [00:09<27:30,  2.10it/s]"
          ],
          "name": "stderr"
        },
        {
          "output_type": "stream",
          "text": [
            "There are 1358739360player x questions pairs, tournament will be skipped\n",
            "1536\n",
            "(39420, 528)\n"
          ],
          "name": "stdout"
        },
        {
          "output_type": "stream",
          "text": [
            "\r  1%|          | 23/3486 [00:10<34:05,  1.69it/s]"
          ],
          "name": "stderr"
        },
        {
          "output_type": "stream",
          "text": [
            "1552\n",
            "1576\n",
            "1631\n",
            "(22230, 337)\n"
          ],
          "name": "stdout"
        },
        {
          "output_type": "stream",
          "text": [
            "  1%|          | 27/3486 [00:10<21:51,  2.64it/s]"
          ],
          "name": "stderr"
        },
        {
          "output_type": "stream",
          "text": [
            "1635\n",
            "There are 627941424player x questions pairs, tournament will be skipped\n",
            "1644\n",
            "(4380, 133)\n",
            "1646\n",
            "(19530, 479)\n"
          ],
          "name": "stdout"
        },
        {
          "output_type": "stream",
          "text": [
            "  1%|          | 30/3486 [00:11<16:43,  3.44it/s]"
          ],
          "name": "stderr"
        },
        {
          "output_type": "stream",
          "text": [
            "1647\n",
            "There are 277610580player x questions pairs, tournament will be skipped\n",
            "1660\n",
            "(5895, 176)\n",
            "1668\n"
          ],
          "name": "stdout"
        },
        {
          "output_type": "stream",
          "text": [
            "\r  1%|          | 32/3486 [00:11<12:51,  4.48it/s]"
          ],
          "name": "stderr"
        },
        {
          "output_type": "stream",
          "text": [
            "(8640, 214)\n",
            "1690\n",
            "(4050, 135)\n",
            "1709\n",
            "(23775, 392)\n"
          ],
          "name": "stdout"
        },
        {
          "output_type": "stream",
          "text": [
            "\r  1%|          | 34/3486 [00:12<13:13,  4.35it/s]"
          ],
          "name": "stderr"
        },
        {
          "output_type": "stream",
          "text": [
            "1710\n",
            "(37350, 505)\n"
          ],
          "name": "stdout"
        },
        {
          "output_type": "stream",
          "text": [
            "  1%|          | 36/3486 [00:13<18:32,  3.10it/s]"
          ],
          "name": "stderr"
        },
        {
          "output_type": "stream",
          "text": [
            "1715\n",
            "(10120, 274)\n",
            "1718\n",
            "(35055, 824)\n"
          ],
          "name": "stdout"
        },
        {
          "output_type": "stream",
          "text": [
            "  1%|          | 39/3486 [00:14<32:10,  1.79it/s]"
          ],
          "name": "stderr"
        },
        {
          "output_type": "stream",
          "text": [
            "1723\n",
            "(1515, 116)\n",
            "1725\n",
            "There are 205962930player x questions pairs, tournament will be skipped\n",
            "1735\n",
            "(15948, 479)\n"
          ],
          "name": "stdout"
        },
        {
          "output_type": "stream",
          "text": [
            "\r  1%|          | 40/3486 [00:15<28:52,  1.99it/s]"
          ],
          "name": "stderr"
        },
        {
          "output_type": "stream",
          "text": [
            "1737\n",
            "(14328, 434)\n"
          ],
          "name": "stdout"
        },
        {
          "output_type": "stream",
          "text": [
            "  1%|          | 42/3486 [00:15<20:39,  2.78it/s]"
          ],
          "name": "stderr"
        },
        {
          "output_type": "stream",
          "text": [
            "1738\n",
            "(11880, 258)\n",
            "1743\n",
            "(17460, 433)\n"
          ],
          "name": "stdout"
        },
        {
          "output_type": "stream",
          "text": [
            "\r  1%|          | 43/3486 [00:16<21:37,  2.65it/s]"
          ],
          "name": "stderr"
        },
        {
          "output_type": "stream",
          "text": [
            "1744\n",
            "(13392, 408)\n"
          ],
          "name": "stdout"
        },
        {
          "output_type": "stream",
          "text": [
            "\r  1%|▏         | 44/3486 [00:16<20:07,  2.85it/s]"
          ],
          "name": "stderr"
        },
        {
          "output_type": "stream",
          "text": [
            "1745\n",
            "(15120, 381)\n"
          ],
          "name": "stdout"
        },
        {
          "output_type": "stream",
          "text": [
            "\r  1%|▏         | 45/3486 [00:16<20:16,  2.83it/s]"
          ],
          "name": "stderr"
        },
        {
          "output_type": "stream",
          "text": [
            "1754\n",
            "(55800, 1586)\n"
          ],
          "name": "stdout"
        },
        {
          "output_type": "stream",
          "text": [
            "\r  1%|▏         | 46/3486 [00:23<2:11:57,  2.30s/it]"
          ],
          "name": "stderr"
        },
        {
          "output_type": "stream",
          "text": [
            "1762\n",
            "(16680, 338)\n"
          ],
          "name": "stdout"
        },
        {
          "output_type": "stream",
          "text": [
            "  1%|▏         | 48/3486 [00:24<1:09:50,  1.22s/it]"
          ],
          "name": "stderr"
        },
        {
          "output_type": "stream",
          "text": [
            "1764\n",
            "(8955, 244)\n",
            "1769\n",
            "(9660, 221)\n"
          ],
          "name": "stdout"
        },
        {
          "output_type": "stream",
          "text": [
            "\r  1%|▏         | 49/3486 [00:24<50:37,  1.13it/s]  "
          ],
          "name": "stderr"
        },
        {
          "output_type": "stream",
          "text": [
            "1771\n",
            "(28650, 457)\n"
          ],
          "name": "stdout"
        },
        {
          "output_type": "stream",
          "text": [
            "\r  1%|▏         | 50/3486 [00:24<47:34,  1.20it/s]"
          ],
          "name": "stderr"
        },
        {
          "output_type": "stream",
          "text": [
            "1774\n",
            "(22230, 337)\n"
          ],
          "name": "stdout"
        },
        {
          "output_type": "stream",
          "text": [
            "  1%|▏         | 52/3486 [00:25<29:43,  1.93it/s]"
          ],
          "name": "stderr"
        },
        {
          "output_type": "stream",
          "text": [
            "1775\n",
            "(11700, 220)\n",
            "1780\n",
            "(13452, 337)\n"
          ],
          "name": "stdout"
        },
        {
          "output_type": "stream",
          "text": [
            "\r  2%|▏         | 53/3486 [00:25<25:31,  2.24it/s]"
          ],
          "name": "stderr"
        },
        {
          "output_type": "stream",
          "text": [
            "1781\n",
            "(6885, 198)\n",
            "1791\n",
            "(58104, 1650)\n"
          ],
          "name": "stdout"
        },
        {
          "output_type": "stream",
          "text": [
            "  2%|▏         | 58/3486 [00:32<50:52,  1.12it/s]  "
          ],
          "name": "stderr"
        },
        {
          "output_type": "stream",
          "text": [
            "1802\n",
            "(6360, 166)\n",
            "1803\n",
            "(2670, 119)\n",
            "1812\n",
            "(2430, 99)\n",
            "1813\n",
            "(5040, 144)\n",
            "1814\n",
            "(30330, 427)\n"
          ],
          "name": "stdout"
        },
        {
          "output_type": "stream",
          "text": [
            "\r  2%|▏         | 60/3486 [00:32<41:27,  1.38it/s]"
          ],
          "name": "stderr"
        },
        {
          "output_type": "stream",
          "text": [
            "1816\n"
          ],
          "name": "stdout"
        },
        {
          "output_type": "stream",
          "text": [
            "\r  2%|▏         | 61/3486 [00:33<34:00,  1.68it/s]"
          ],
          "name": "stderr"
        },
        {
          "output_type": "stream",
          "text": [
            "There are 1338828750player x questions pairs, tournament will be skipped\n",
            "1817\n"
          ],
          "name": "stdout"
        },
        {
          "output_type": "stream",
          "text": [
            "  2%|▏         | 63/3486 [00:33<23:10,  2.46it/s]"
          ],
          "name": "stderr"
        },
        {
          "output_type": "stream",
          "text": [
            "There are 1705212036player x questions pairs, tournament will be skipped\n",
            "1818\n",
            "There are 859416192player x questions pairs, tournament will be skipped\n",
            "1819\n",
            "(4380, 133)\n"
          ],
          "name": "stdout"
        },
        {
          "output_type": "stream",
          "text": [
            "\r  2%|▏         | 68/3486 [00:33<16:46,  3.40it/s]"
          ],
          "name": "stderr"
        },
        {
          "output_type": "stream",
          "text": [
            "1820\n",
            "(4140, 129)\n",
            "1821\n",
            "(1344, 76)\n",
            "1826\n",
            "(2880, 108)\n",
            "1827\n",
            "(6900, 175)\n",
            "1828\n",
            "(8505, 234)\n"
          ],
          "name": "stdout"
        },
        {
          "output_type": "stream",
          "text": [
            "\r  2%|▏         | 70/3486 [00:33<12:51,  4.43it/s]"
          ],
          "name": "stderr"
        },
        {
          "output_type": "stream",
          "text": [
            "1829\n",
            "(2745, 106)\n",
            "1845\n",
            "There are 220060170player x questions pairs, tournament will be skipped\n",
            "1849\n"
          ],
          "name": "stdout"
        },
        {
          "output_type": "stream",
          "text": [
            "  2%|▏         | 74/3486 [00:34<09:50,  5.78it/s]"
          ],
          "name": "stderr"
        },
        {
          "output_type": "stream",
          "text": [
            "There are 793915824player x questions pairs, tournament will be skipped\n",
            "1851\n",
            "(8220, 197)\n",
            "1852\n",
            "(9120, 212)\n",
            "1853\n",
            "There are 460057500player x questions pairs, tournament will be skipped\n",
            "1854\n"
          ],
          "name": "stdout"
        },
        {
          "output_type": "stream",
          "text": [
            "\r  2%|▏         | 76/3486 [00:35<19:15,  2.95it/s]"
          ],
          "name": "stderr"
        },
        {
          "output_type": "stream",
          "text": [
            "There are 10771152540player x questions pairs, tournament will be skipped\n",
            "1856\n",
            "(55800, 1285)\n"
          ],
          "name": "stdout"
        },
        {
          "output_type": "stream",
          "text": [
            "  2%|▏         | 78/3486 [00:40<1:03:45,  1.12s/it]"
          ],
          "name": "stderr"
        },
        {
          "output_type": "stream",
          "text": [
            "1857\n",
            "There are 459578756player x questions pairs, tournament will be skipped\n",
            "1858\n"
          ],
          "name": "stdout"
        },
        {
          "output_type": "stream",
          "text": [
            "  2%|▏         | 80/3486 [00:40<36:08,  1.57it/s]"
          ],
          "name": "stderr"
        },
        {
          "output_type": "stream",
          "text": [
            "There are 410892300player x questions pairs, tournament will be skipped\n",
            "1863\n",
            "(15900, 287)\n",
            "1865\n"
          ],
          "name": "stdout"
        },
        {
          "output_type": "stream",
          "text": [
            "\r  2%|▏         | 81/3486 [00:40<27:23,  2.07it/s]"
          ],
          "name": "stderr"
        },
        {
          "output_type": "stream",
          "text": [
            "(10920, 242)\n",
            "1868\n",
            "(12750, 305)\n"
          ],
          "name": "stdout"
        },
        {
          "output_type": "stream",
          "text": [
            "\r  2%|▏         | 82/3486 [00:40<22:46,  2.49it/s]"
          ],
          "name": "stderr"
        },
        {
          "output_type": "stream",
          "text": [
            "1878\n",
            "(22176, 380)\n"
          ],
          "name": "stdout"
        },
        {
          "output_type": "stream",
          "text": [
            "\r  2%|▏         | 83/3486 [00:41<22:26,  2.53it/s]"
          ],
          "name": "stderr"
        },
        {
          "output_type": "stream",
          "text": [
            "1879\n",
            "(33930, 467)\n"
          ],
          "name": "stdout"
        },
        {
          "output_type": "stream",
          "text": [
            "\r  2%|▏         | 84/3486 [00:42<29:15,  1.94it/s]"
          ],
          "name": "stderr"
        },
        {
          "output_type": "stream",
          "text": [
            "1880\n",
            "(20520, 402)\n"
          ],
          "name": "stdout"
        },
        {
          "output_type": "stream",
          "text": [
            "  3%|▎         | 88/3486 [00:42<19:47,  2.86it/s]"
          ],
          "name": "stderr"
        },
        {
          "output_type": "stream",
          "text": [
            "1885\n",
            "(5796, 197)\n",
            "1889\n",
            "(432, 48)\n",
            "1890\n",
            "(4224, 136)\n",
            "1891\n",
            "(17820, 357)\n",
            "1893\n",
            "(27108, 452)\n"
          ],
          "name": "stdout"
        },
        {
          "output_type": "stream",
          "text": [
            "\r  3%|▎         | 90/3486 [00:43<23:20,  2.43it/s]"
          ],
          "name": "stderr"
        },
        {
          "output_type": "stream",
          "text": [
            "1902\n",
            "(5400, 150)\n",
            "1905\n",
            "(39690, 531)\n"
          ],
          "name": "stdout"
        },
        {
          "output_type": "stream",
          "text": [
            "  3%|▎         | 93/3486 [00:44<20:36,  2.74it/s]"
          ],
          "name": "stderr"
        },
        {
          "output_type": "stream",
          "text": [
            "1906\n",
            "There are 330438528player x questions pairs, tournament will be skipped\n",
            "1919\n",
            "(6885, 198)\n",
            "1921\n",
            "(20736, 360)\n"
          ],
          "name": "stdout"
        },
        {
          "output_type": "stream",
          "text": [
            "  3%|▎         | 96/3486 [00:45<14:36,  3.87it/s]"
          ],
          "name": "stderr"
        },
        {
          "output_type": "stream",
          "text": [
            "1922\n",
            "(8640, 237)\n",
            "1924\n",
            "(6930, 199)\n",
            "1925\n",
            "(18216, 429)\n"
          ],
          "name": "stdout"
        },
        {
          "output_type": "stream",
          "text": [
            "\r  3%|▎         | 98/3486 [00:46<14:51,  3.80it/s]"
          ],
          "name": "stderr"
        },
        {
          "output_type": "stream",
          "text": [
            "1926\n",
            "(27540, 801)\n"
          ],
          "name": "stdout"
        },
        {
          "output_type": "stream",
          "text": [
            "\r  3%|▎         | 99/3486 [00:47<30:46,  1.83it/s]"
          ],
          "name": "stderr"
        },
        {
          "output_type": "stream",
          "text": [
            "1927\n",
            "(25245, 606)\n"
          ],
          "name": "stdout"
        },
        {
          "output_type": "stream",
          "text": [
            "\r  3%|▎         | 100/3486 [00:48<36:36,  1.54it/s]"
          ],
          "name": "stderr"
        },
        {
          "output_type": "stream",
          "text": [
            "1928\n",
            "(16380, 435)\n"
          ],
          "name": "stdout"
        },
        {
          "output_type": "stream",
          "text": [
            "\r  3%|▎         | 101/3486 [00:48<33:10,  1.70it/s]"
          ],
          "name": "stderr"
        },
        {
          "output_type": "stream",
          "text": [
            "1931\n"
          ],
          "name": "stdout"
        },
        {
          "output_type": "stream",
          "text": [
            "\r  3%|▎         | 102/3486 [00:49<37:06,  1.52it/s]"
          ],
          "name": "stderr"
        },
        {
          "output_type": "stream",
          "text": [
            "There are 4363693200player x questions pairs, tournament will be skipped\n",
            "1939\n",
            "(2412, 103)\n",
            "1940\n",
            "(25560, 486)\n"
          ],
          "name": "stdout"
        },
        {
          "output_type": "stream",
          "text": [
            "  3%|▎         | 105/3486 [00:50<24:06,  2.34it/s]"
          ],
          "name": "stderr"
        },
        {
          "output_type": "stream",
          "text": [
            "1941\n",
            "(12060, 224)\n",
            "1943\n",
            "(7380, 183)\n",
            "1945\n",
            "(22500, 340)\n"
          ],
          "name": "stdout"
        },
        {
          "output_type": "stream",
          "text": [
            "  3%|▎         | 108/3486 [00:50<17:37,  3.19it/s]"
          ],
          "name": "stderr"
        },
        {
          "output_type": "stream",
          "text": [
            "1946\n",
            "(13080, 278)\n",
            "1949\n",
            "(22950, 345)\n"
          ],
          "name": "stdout"
        },
        {
          "output_type": "stream",
          "text": [
            "\r  3%|▎         | 109/3486 [00:51<18:41,  3.01it/s]"
          ],
          "name": "stderr"
        },
        {
          "output_type": "stream",
          "text": [
            "1952\n",
            "(16950, 301)\n"
          ],
          "name": "stdout"
        },
        {
          "output_type": "stream",
          "text": [
            "\r  3%|▎         | 110/3486 [00:51<17:19,  3.25it/s]"
          ],
          "name": "stderr"
        },
        {
          "output_type": "stream",
          "text": [
            "1953\n",
            "(4260, 131)\n",
            "1956\n",
            "(12204, 280)\n"
          ],
          "name": "stdout"
        },
        {
          "output_type": "stream",
          "text": [
            "  3%|▎         | 114/3486 [00:51<10:53,  5.16it/s]"
          ],
          "name": "stderr"
        },
        {
          "output_type": "stream",
          "text": [
            "1957\n",
            "(6420, 167)\n",
            "1959\n",
            "(5400, 210)\n",
            "1960\n",
            "(2304, 100)\n",
            "1961\n",
            "(2916, 117)\n",
            "1962\n"
          ],
          "name": "stdout"
        },
        {
          "output_type": "stream",
          "text": [
            "\r  3%|▎         | 117/3486 [00:52<09:05,  6.18it/s]"
          ],
          "name": "stderr"
        },
        {
          "output_type": "stream",
          "text": [
            "(11802, 323)\n",
            "1963\n",
            "(18720, 372)\n"
          ],
          "name": "stdout"
        },
        {
          "output_type": "stream",
          "text": [
            "\r  3%|▎         | 118/3486 [00:52<12:12,  4.60it/s]"
          ],
          "name": "stderr"
        },
        {
          "output_type": "stream",
          "text": [
            "1964\n",
            "(12912, 317)\n"
          ],
          "name": "stdout"
        },
        {
          "output_type": "stream",
          "text": [
            "\r  3%|▎         | 119/3486 [00:52<12:25,  4.52it/s]"
          ],
          "name": "stderr"
        },
        {
          "output_type": "stream",
          "text": [
            "1965\n",
            "(19620, 308)\n"
          ],
          "name": "stdout"
        },
        {
          "output_type": "stream",
          "text": [
            "  3%|▎         | 122/3486 [00:53<11:07,  5.04it/s]"
          ],
          "name": "stderr"
        },
        {
          "output_type": "stream",
          "text": [
            "1966\n",
            "(5688, 194)\n",
            "1967\n",
            "(11052, 219)\n",
            "1973\n"
          ],
          "name": "stdout"
        },
        {
          "output_type": "stream",
          "text": [
            "\r  4%|▎         | 124/3486 [00:53<08:58,  6.24it/s]"
          ],
          "name": "stderr"
        },
        {
          "output_type": "stream",
          "text": [
            "(3456, 120)\n",
            "1977\n",
            "(3888, 144)\n",
            "1980\n",
            "(4896, 140)\n",
            "1983\n",
            "(43020, 568)\n"
          ],
          "name": "stdout"
        },
        {
          "output_type": "stream",
          "text": [
            "\r  4%|▎         | 126/3486 [00:54<16:29,  3.39it/s]"
          ],
          "name": "stderr"
        },
        {
          "output_type": "stream",
          "text": [
            "1984\n",
            "(2820, 107)\n",
            "1985\n",
            "(2196, 97)\n",
            "1988\n",
            "(2115, 92)\n",
            "1990\n",
            "(1944, 90)\n",
            "1992\n",
            "(25380, 609)\n"
          ],
          "name": "stdout"
        },
        {
          "output_type": "stream",
          "text": [
            "\r  4%|▍         | 131/3486 [00:55<14:36,  3.83it/s]"
          ],
          "name": "stderr"
        },
        {
          "output_type": "stream",
          "text": [
            "1993\n",
            "(3825, 130)\n",
            "1995\n",
            "(59895, 1376)\n"
          ],
          "name": "stdout"
        },
        {
          "output_type": "stream",
          "text": [
            "  4%|▍         | 134/3486 [01:00<38:56,  1.43it/s]"
          ],
          "name": "stderr"
        },
        {
          "output_type": "stream",
          "text": [
            "1998\n",
            "(12576, 310)\n",
            "2000\n",
            "(3636, 137)\n",
            "2001\n",
            "(24360, 466)\n"
          ],
          "name": "stdout"
        },
        {
          "output_type": "stream",
          "text": [
            "  4%|▍         | 137/3486 [01:01<25:43,  2.17it/s]"
          ],
          "name": "stderr"
        },
        {
          "output_type": "stream",
          "text": [
            "2002\n",
            "(14100, 295)\n",
            "2003\n"
          ],
          "name": "stdout"
        },
        {
          "output_type": "stream",
          "text": [
            "\r  4%|▍         | 138/3486 [01:01<21:55,  2.55it/s]"
          ],
          "name": "stderr"
        },
        {
          "output_type": "stream",
          "text": [
            "(13725, 350)\n",
            "2010\n"
          ],
          "name": "stdout"
        },
        {
          "output_type": "stream",
          "text": [
            "\r  4%|▍         | 139/3486 [01:01<18:40,  2.99it/s]"
          ],
          "name": "stderr"
        },
        {
          "output_type": "stream",
          "text": [
            "(14400, 272)\n",
            "2011\n",
            "(22875, 380)\n"
          ],
          "name": "stdout"
        },
        {
          "output_type": "stream",
          "text": [
            "  4%|▍         | 142/3486 [01:02<14:56,  3.73it/s]"
          ],
          "name": "stderr"
        },
        {
          "output_type": "stream",
          "text": [
            "2012\n",
            "(3105, 114)\n",
            "2015\n",
            "(9540, 219)\n",
            "2016\n",
            "(14040, 294)\n"
          ],
          "name": "stdout"
        },
        {
          "output_type": "stream",
          "text": [
            "\r  4%|▍         | 143/3486 [01:02<13:58,  3.99it/s]"
          ],
          "name": "stderr"
        },
        {
          "output_type": "stream",
          "text": [
            "2017\n",
            "(19560, 386)\n"
          ],
          "name": "stdout"
        },
        {
          "output_type": "stream",
          "text": [
            "  4%|▍         | 145/3486 [01:03<14:03,  3.96it/s]"
          ],
          "name": "stderr"
        },
        {
          "output_type": "stream",
          "text": [
            "2019\n",
            "There are 144149740player x questions pairs, tournament will be skipped\n",
            "2020\n",
            "(17580, 353)\n"
          ],
          "name": "stdout"
        },
        {
          "output_type": "stream",
          "text": [
            "  4%|▍         | 147/3486 [01:03<12:52,  4.32it/s]"
          ],
          "name": "stderr"
        },
        {
          "output_type": "stream",
          "text": [
            "2023\n",
            "There are 202702500player x questions pairs, tournament will be skipped\n",
            "2025\n",
            "(33930, 467)\n"
          ],
          "name": "stdout"
        },
        {
          "output_type": "stream",
          "text": [
            "  4%|▍         | 149/3486 [01:04<17:59,  3.09it/s]"
          ],
          "name": "stderr"
        },
        {
          "output_type": "stream",
          "text": [
            "2026\n",
            "(11280, 283)\n",
            "2027\n"
          ],
          "name": "stdout"
        },
        {
          "output_type": "stream",
          "text": [
            "\r  4%|▍         | 150/3486 [01:04<15:34,  3.57it/s]"
          ],
          "name": "stderr"
        },
        {
          "output_type": "stream",
          "text": [
            "(15768, 254)\n",
            "2028\n",
            "(1728, 84)\n",
            "2029\n",
            "(1800, 85)\n",
            "2031\n",
            "(46908, 1339)\n"
          ],
          "name": "stdout"
        },
        {
          "output_type": "stream",
          "text": [
            "\r  4%|▍         | 153/3486 [01:09<36:23,  1.53it/s]"
          ],
          "name": "stderr"
        },
        {
          "output_type": "stream",
          "text": [
            "2032\n",
            "(20250, 345)\n"
          ],
          "name": "stdout"
        },
        {
          "output_type": "stream",
          "text": [
            "  4%|▍         | 155/3486 [01:09<25:02,  2.22it/s]"
          ],
          "name": "stderr"
        },
        {
          "output_type": "stream",
          "text": [
            "2033\n",
            "(14100, 244)\n",
            "2034\n",
            "(27075, 436)\n"
          ],
          "name": "stdout"
        },
        {
          "output_type": "stream",
          "text": [
            "  5%|▍         | 157/3486 [01:10<21:12,  2.62it/s]"
          ],
          "name": "stderr"
        },
        {
          "output_type": "stream",
          "text": [
            "2035\n",
            "(10140, 229)\n",
            "2036\n",
            "(13860, 353)\n"
          ],
          "name": "stdout"
        },
        {
          "output_type": "stream",
          "text": [
            "\r  5%|▍         | 158/3486 [01:10<18:46,  2.96it/s]"
          ],
          "name": "stderr"
        },
        {
          "output_type": "stream",
          "text": [
            "2037\n",
            "(13455, 344)\n"
          ],
          "name": "stdout"
        },
        {
          "output_type": "stream",
          "text": [
            "\r  5%|▍         | 159/3486 [01:10<16:55,  3.28it/s]"
          ],
          "name": "stderr"
        },
        {
          "output_type": "stream",
          "text": [
            "2039\n",
            "(8496, 225)\n",
            "2040\n",
            "(13296, 325)\n"
          ],
          "name": "stdout"
        },
        {
          "output_type": "stream",
          "text": [
            "  5%|▍         | 162/3486 [01:11<13:18,  4.16it/s]"
          ],
          "name": "stderr"
        },
        {
          "output_type": "stream",
          "text": [
            "2041\n",
            "(12285, 318)\n",
            "2043\n"
          ],
          "name": "stdout"
        },
        {
          "output_type": "stream",
          "text": [
            "\r  5%|▍         | 163/3486 [01:11<13:26,  4.12it/s]"
          ],
          "name": "stderr"
        },
        {
          "output_type": "stream",
          "text": [
            "(15300, 315)\n",
            "2045\n"
          ],
          "name": "stdout"
        },
        {
          "output_type": "stream",
          "text": [
            "\r  5%|▍         | 164/3486 [01:11<11:26,  4.84it/s]"
          ],
          "name": "stderr"
        },
        {
          "output_type": "stream",
          "text": [
            "(9540, 257)\n",
            "2047\n",
            "(35250, 545)\n"
          ],
          "name": "stdout"
        },
        {
          "output_type": "stream",
          "text": [
            "  5%|▍         | 167/3486 [01:12<17:23,  3.18it/s]"
          ],
          "name": "stderr"
        },
        {
          "output_type": "stream",
          "text": [
            "2050\n",
            "(7920, 192)\n",
            "2052\n",
            "(3870, 131)\n",
            "2056\n",
            "(75, 20)\n",
            "2060\n",
            "(3105, 114)\n",
            "2062\n",
            "(3465, 122)\n",
            "2063\n",
            "(3645, 126)\n",
            "2064\n",
            "(3840, 158)\n"
          ],
          "name": "stdout"
        },
        {
          "output_type": "stream",
          "text": [
            "  5%|▍         | 174/3486 [01:13<09:58,  5.53it/s]"
          ],
          "name": "stderr"
        },
        {
          "output_type": "stream",
          "text": [
            "2066\n",
            "(2484, 105)\n",
            "2068\n",
            "(9765, 262)\n",
            "2069\n",
            "(10140, 229)\n"
          ],
          "name": "stdout"
        },
        {
          "output_type": "stream",
          "text": [
            "\r  5%|▌         | 176/3486 [01:13<08:20,  6.62it/s]"
          ],
          "name": "stderr"
        },
        {
          "output_type": "stream",
          "text": [
            "2071\n",
            "(4788, 169)\n",
            "2073\n",
            "(5130, 159)\n",
            "2075\n",
            "(17250, 305)\n"
          ],
          "name": "stdout"
        },
        {
          "output_type": "stream",
          "text": [
            "\r  5%|▌         | 178/3486 [01:13<08:35,  6.42it/s]"
          ],
          "name": "stderr"
        },
        {
          "output_type": "stream",
          "text": [
            "2076\n",
            "(3852, 143)\n",
            "2077\n"
          ],
          "name": "stdout"
        },
        {
          "output_type": "stream",
          "text": [
            "\r  5%|▌         | 180/3486 [01:13<09:01,  6.10it/s]"
          ],
          "name": "stderr"
        },
        {
          "output_type": "stream",
          "text": [
            "There are 1470708960player x questions pairs, tournament will be skipped\n",
            "2078\n",
            "(24030, 357)\n"
          ],
          "name": "stdout"
        },
        {
          "output_type": "stream",
          "text": [
            "\r  5%|▌         | 182/3486 [01:14<11:19,  4.86it/s]"
          ],
          "name": "stderr"
        },
        {
          "output_type": "stream",
          "text": [
            "2082\n",
            "(12240, 264)\n",
            "2083\n",
            "(7515, 212)\n",
            "2084\n",
            "(15675, 284)\n"
          ],
          "name": "stdout"
        },
        {
          "output_type": "stream",
          "text": [
            "  5%|▌         | 186/3486 [01:14<08:28,  6.50it/s]"
          ],
          "name": "stderr"
        },
        {
          "output_type": "stream",
          "text": [
            "2085\n",
            "(6885, 198)\n",
            "2086\n",
            "(9960, 226)\n",
            "2087\n"
          ],
          "name": "stdout"
        },
        {
          "output_type": "stream",
          "text": [
            "\r  5%|▌         | 187/3486 [01:15<09:20,  5.88it/s]"
          ],
          "name": "stderr"
        },
        {
          "output_type": "stream",
          "text": [
            "(13590, 269)\n",
            "2088\n",
            "(21240, 367)\n"
          ],
          "name": "stdout"
        },
        {
          "output_type": "stream",
          "text": [
            "  5%|▌         | 190/3486 [01:15<10:42,  5.13it/s]"
          ],
          "name": "stderr"
        },
        {
          "output_type": "stream",
          "text": [
            "2091\n",
            "(2448, 99)\n",
            "2093\n",
            "(8640, 204)\n",
            "2098\n",
            "(4860, 141)\n",
            "2099\n",
            "(10350, 205)\n"
          ],
          "name": "stdout"
        },
        {
          "output_type": "stream",
          "text": [
            "  6%|▌         | 194/3486 [01:16<07:15,  7.56it/s]"
          ],
          "name": "stderr"
        },
        {
          "output_type": "stream",
          "text": [
            "2101\n",
            "(5940, 159)\n",
            "2105\n",
            "(6750, 195)\n",
            "2110\n",
            "(3285, 118)\n",
            "2111\n",
            "(47000, 1215)\n"
          ],
          "name": "stdout"
        },
        {
          "output_type": "stream",
          "text": [
            "\r  6%|▌         | 196/3486 [01:20<41:29,  1.32it/s]"
          ],
          "name": "stderr"
        },
        {
          "output_type": "stream",
          "text": [
            "2112\n",
            "(36432, 1048)\n"
          ],
          "name": "stdout"
        },
        {
          "output_type": "stream",
          "text": [
            "\r  6%|▌         | 197/3486 [01:22<1:06:15,  1.21s/it]"
          ],
          "name": "stderr"
        },
        {
          "output_type": "stream",
          "text": [
            "2113\n",
            "(4200, 130)\n",
            "2114\n",
            "(22896, 390)\n"
          ],
          "name": "stdout"
        },
        {
          "output_type": "stream",
          "text": [
            "  6%|▌         | 200/3486 [01:23<38:33,  1.42it/s]"
          ],
          "name": "stderr"
        },
        {
          "output_type": "stream",
          "text": [
            "2116\n",
            "(13560, 286)\n",
            "2117\n",
            "(38640, 473)\n"
          ],
          "name": "stdout"
        },
        {
          "output_type": "stream",
          "text": [
            "  6%|▌         | 203/3486 [01:24<30:12,  1.81it/s]"
          ],
          "name": "stderr"
        },
        {
          "output_type": "stream",
          "text": [
            "2123\n",
            "(2475, 100)\n",
            "2127\n",
            "(3510, 123)\n",
            "2128\n",
            "(56400, 661)\n"
          ],
          "name": "stdout"
        },
        {
          "output_type": "stream",
          "text": [
            "  6%|▌         | 205/3486 [01:27<49:12,  1.11it/s]  "
          ],
          "name": "stderr"
        },
        {
          "output_type": "stream",
          "text": [
            "2130\n",
            "(12120, 262)\n",
            "2131\n",
            "(12204, 375)\n"
          ],
          "name": "stdout"
        },
        {
          "output_type": "stream",
          "text": [
            "  6%|▌         | 208/3486 [01:27<28:08,  1.94it/s]"
          ],
          "name": "stderr"
        },
        {
          "output_type": "stream",
          "text": [
            "2132\n",
            "(3240, 117)\n",
            "2134\n",
            "(8880, 208)\n",
            "2135\n",
            "(5200, 170)\n",
            "2136\n",
            "(20808, 361)\n"
          ],
          "name": "stdout"
        },
        {
          "output_type": "stream",
          "text": [
            "  6%|▌         | 211/3486 [01:28<18:49,  2.90it/s]"
          ],
          "name": "stderr"
        },
        {
          "output_type": "stream",
          "text": [
            "2147\n",
            "There are 250509090player x questions pairs, tournament will be skipped\n",
            "2148\n",
            "(11520, 301)\n"
          ],
          "name": "stdout"
        },
        {
          "output_type": "stream",
          "text": [
            "\r  6%|▌         | 212/3486 [01:28<15:30,  3.52it/s]"
          ],
          "name": "stderr"
        },
        {
          "output_type": "stream",
          "text": [
            "2151\n"
          ],
          "name": "stdout"
        },
        {
          "output_type": "stream",
          "text": [
            "\r  6%|▌         | 213/3486 [01:29<26:39,  2.05it/s]"
          ],
          "name": "stderr"
        },
        {
          "output_type": "stream",
          "text": [
            "There are 6230596968player x questions pairs, tournament will be skipped\n",
            "2153\n",
            "(18450, 295)\n"
          ],
          "name": "stdout"
        },
        {
          "output_type": "stream",
          "text": [
            "  6%|▌         | 215/3486 [01:29<17:18,  3.15it/s]"
          ],
          "name": "stderr"
        },
        {
          "output_type": "stream",
          "text": [
            "2154\n",
            "(8100, 225)\n",
            "2155\n"
          ],
          "name": "stdout"
        },
        {
          "output_type": "stream",
          "text": [
            "\r  6%|▌         | 216/3486 [01:29<14:35,  3.73it/s]"
          ],
          "name": "stderr"
        },
        {
          "output_type": "stream",
          "text": [
            "There are 254327040player x questions pairs, tournament will be skipped\n",
            "2156\n",
            "(41850, 555)\n"
          ],
          "name": "stdout"
        },
        {
          "output_type": "stream",
          "text": [
            "  6%|▋         | 218/3486 [01:31<20:39,  2.64it/s]"
          ],
          "name": "stderr"
        },
        {
          "output_type": "stream",
          "text": [
            "2158\n",
            "There are 329900688player x questions pairs, tournament will be skipped\n",
            "2159\n",
            "(11616, 290)\n"
          ],
          "name": "stdout"
        },
        {
          "output_type": "stream",
          "text": [
            "\r  6%|▋         | 219/3486 [01:31<16:52,  3.23it/s]"
          ],
          "name": "stderr"
        },
        {
          "output_type": "stream",
          "text": [
            "2161\n",
            "(23088, 529)\n"
          ],
          "name": "stdout"
        },
        {
          "output_type": "stream",
          "text": [
            "  6%|▋         | 221/3486 [01:31<17:12,  3.16it/s]"
          ],
          "name": "stderr"
        },
        {
          "output_type": "stream",
          "text": [
            "2162\n",
            "(10080, 228)\n",
            "2163\n",
            "(9900, 200)\n",
            "2164\n"
          ],
          "name": "stdout"
        },
        {
          "output_type": "stream",
          "text": [
            "  6%|▋         | 224/3486 [01:32<11:41,  4.65it/s]"
          ],
          "name": "stderr"
        },
        {
          "output_type": "stream",
          "text": [
            "There are 470475720player x questions pairs, tournament will be skipped\n",
            "2165\n",
            "There are 249718950player x questions pairs, tournament will be skipped\n",
            "2166\n"
          ],
          "name": "stdout"
        },
        {
          "output_type": "stream",
          "text": [
            "\r  6%|▋         | 225/3486 [01:33<27:07,  2.00it/s]"
          ],
          "name": "stderr"
        },
        {
          "output_type": "stream",
          "text": [
            "There are 9712441512player x questions pairs, tournament will be skipped\n",
            "2167\n",
            "(2340, 97)\n",
            "2168\n",
            "(4680, 149)\n",
            "2169\n",
            "(2835, 108)\n",
            "2172\n",
            "(20880, 322)\n"
          ],
          "name": "stdout"
        },
        {
          "output_type": "stream",
          "text": [
            "\r  7%|▋         | 229/3486 [01:33<20:47,  2.61it/s]"
          ],
          "name": "stderr"
        },
        {
          "output_type": "stream",
          "text": [
            "2174\n",
            "(12960, 333)\n"
          ],
          "name": "stdout"
        },
        {
          "output_type": "stream",
          "text": [
            "  7%|▋         | 233/3486 [01:34<13:47,  3.93it/s]"
          ],
          "name": "stderr"
        },
        {
          "output_type": "stream",
          "text": [
            "2175\n",
            "(3105, 114)\n",
            "2177\n",
            "(3720, 122)\n",
            "2178\n",
            "(10710, 283)\n",
            "2179\n",
            "(21960, 334)\n"
          ],
          "name": "stdout"
        },
        {
          "output_type": "stream",
          "text": [
            "\r  7%|▋         | 234/3486 [01:34<14:56,  3.63it/s]"
          ],
          "name": "stderr"
        },
        {
          "output_type": "stream",
          "text": [
            "2180\n"
          ],
          "name": "stdout"
        },
        {
          "output_type": "stream",
          "text": [
            "  7%|▋         | 236/3486 [01:35<14:19,  3.78it/s]"
          ],
          "name": "stderr"
        },
        {
          "output_type": "stream",
          "text": [
            "There are 1321338480player x questions pairs, tournament will be skipped\n",
            "2181\n",
            "There are 986953392player x questions pairs, tournament will be skipped\n",
            "2182\n"
          ],
          "name": "stdout"
        },
        {
          "output_type": "stream",
          "text": [
            "\r  7%|▋         | 237/3486 [01:35<11:44,  4.61it/s]"
          ],
          "name": "stderr"
        },
        {
          "output_type": "stream",
          "text": [
            "There are 232982730player x questions pairs, tournament will be skipped\n",
            "2183\n",
            "(25560, 427)\n"
          ],
          "name": "stdout"
        },
        {
          "output_type": "stream",
          "text": [
            "\r  7%|▋         | 238/3486 [01:35<15:36,  3.47it/s]"
          ],
          "name": "stderr"
        },
        {
          "output_type": "stream",
          "text": [
            "2184\n",
            "(22050, 335)\n"
          ],
          "name": "stdout"
        },
        {
          "output_type": "stream",
          "text": [
            "\r  7%|▋         | 239/3486 [01:36<17:21,  3.12it/s]"
          ],
          "name": "stderr"
        },
        {
          "output_type": "stream",
          "text": [
            "2185\n",
            "(21540, 419)\n"
          ],
          "name": "stdout"
        },
        {
          "output_type": "stream",
          "text": [
            "  7%|▋         | 241/3486 [01:36<17:46,  3.04it/s]"
          ],
          "name": "stderr"
        },
        {
          "output_type": "stream",
          "text": [
            "2188\n",
            "There are 257021820player x questions pairs, tournament will be skipped\n",
            "2189\n"
          ],
          "name": "stdout"
        },
        {
          "output_type": "stream",
          "text": [
            "\r  7%|▋         | 242/3486 [01:37<14:45,  3.66it/s]"
          ],
          "name": "stderr"
        },
        {
          "output_type": "stream",
          "text": [
            "There are 388542420player x questions pairs, tournament will be skipped\n",
            "2191\n",
            "(4608, 136)\n",
            "2192\n",
            "(26280, 498)\n"
          ],
          "name": "stdout"
        },
        {
          "output_type": "stream",
          "text": [
            "  7%|▋         | 246/3486 [01:37<12:39,  4.27it/s]"
          ],
          "name": "stderr"
        },
        {
          "output_type": "stream",
          "text": [
            "2194\n",
            "(5652, 193)\n",
            "2195\n",
            "(8106, 235)\n",
            "2196\n",
            "(4716, 167)\n",
            "2197\n",
            "(2385, 98)\n",
            "2199\n",
            "(13920, 338)\n"
          ],
          "name": "stdout"
        },
        {
          "output_type": "stream",
          "text": [
            "  7%|▋         | 250/3486 [01:38<09:08,  5.90it/s]"
          ],
          "name": "stderr"
        },
        {
          "output_type": "stream",
          "text": [
            "2200\n",
            "(10500, 215)\n",
            "2201\n",
            "(12615, 240)\n"
          ],
          "name": "stdout"
        },
        {
          "output_type": "stream",
          "text": [
            "  7%|▋         | 252/3486 [01:38<09:36,  5.61it/s]"
          ],
          "name": "stderr"
        },
        {
          "output_type": "stream",
          "text": [
            "2205\n",
            "(12645, 326)\n",
            "2206\n",
            "(20430, 317)\n"
          ],
          "name": "stdout"
        },
        {
          "output_type": "stream",
          "text": [
            "  7%|▋         | 254/3486 [01:39<10:24,  5.17it/s]"
          ],
          "name": "stderr"
        },
        {
          "output_type": "stream",
          "text": [
            "2207\n",
            "(8550, 235)\n",
            "2208\n",
            "(4032, 132)\n",
            "2209\n",
            "(17820, 357)\n"
          ],
          "name": "stdout"
        },
        {
          "output_type": "stream",
          "text": [
            "\r  7%|▋         | 256/3486 [01:39<10:04,  5.34it/s]"
          ],
          "name": "stderr"
        },
        {
          "output_type": "stream",
          "text": [
            "2210\n",
            "(1968, 89)\n",
            "2211\n",
            "(1188, 69)\n",
            "2212\n",
            "(1620, 81)\n",
            "2213\n",
            "(13800, 290)\n"
          ],
          "name": "stdout"
        },
        {
          "output_type": "stream",
          "text": [
            "\r  7%|▋         | 260/3486 [01:39<08:02,  6.69it/s]"
          ],
          "name": "stderr"
        },
        {
          "output_type": "stream",
          "text": [
            "2214\n",
            "(4236, 138)\n",
            "2216\n",
            "(4032, 148)\n",
            "2217\n",
            "(24480, 362)\n"
          ],
          "name": "stdout"
        },
        {
          "output_type": "stream",
          "text": [
            "  8%|▊         | 264/3486 [01:40<07:30,  7.14it/s]"
          ],
          "name": "stderr"
        },
        {
          "output_type": "stream",
          "text": [
            "2218\n",
            "(9840, 224)\n",
            "2222\n",
            "(14496, 350)\n"
          ],
          "name": "stdout"
        },
        {
          "output_type": "stream",
          "text": [
            "  8%|▊         | 266/3486 [01:40<09:50,  5.45it/s]"
          ],
          "name": "stderr"
        },
        {
          "output_type": "stream",
          "text": [
            "2223\n",
            "(12864, 316)\n",
            "2225\n",
            "(62784, 1356)\n"
          ],
          "name": "stdout"
        },
        {
          "output_type": "stream",
          "text": [
            "\r  8%|▊         | 267/3486 [01:47<1:57:33,  2.19s/it]"
          ],
          "name": "stderr"
        },
        {
          "output_type": "stream",
          "text": [
            "2227\n",
            "(23328, 339)\n"
          ],
          "name": "stdout"
        },
        {
          "output_type": "stream",
          "text": [
            "\r  8%|▊         | 268/3486 [01:48<1:28:52,  1.66s/it]"
          ],
          "name": "stderr"
        },
        {
          "output_type": "stream",
          "text": [
            "2228\n",
            "(2412, 103)\n",
            "2231\n",
            "(17100, 280)\n"
          ],
          "name": "stdout"
        },
        {
          "output_type": "stream",
          "text": [
            "\r  8%|▊         | 270/3486 [01:48<1:04:19,  1.20s/it]"
          ],
          "name": "stderr"
        },
        {
          "output_type": "stream",
          "text": [
            "2232\n"
          ],
          "name": "stdout"
        },
        {
          "output_type": "stream",
          "text": [
            "\r  8%|▊         | 271/3486 [01:48<48:43,  1.10it/s]  "
          ],
          "name": "stderr"
        },
        {
          "output_type": "stream",
          "text": [
            "There are 639452352player x questions pairs, tournament will be skipped\n",
            "2235\n",
            "(23310, 563)\n"
          ],
          "name": "stdout"
        },
        {
          "output_type": "stream",
          "text": [
            "\r  8%|▊         | 272/3486 [01:49<45:08,  1.19it/s]"
          ],
          "name": "stderr"
        },
        {
          "output_type": "stream",
          "text": [
            "2236\n",
            "(27120, 512)\n"
          ],
          "name": "stdout"
        },
        {
          "output_type": "stream",
          "text": [
            "\r  8%|▊         | 273/3486 [01:50<42:28,  1.26it/s]"
          ],
          "name": "stderr"
        },
        {
          "output_type": "stream",
          "text": [
            "2237\n",
            "(14700, 305)\n"
          ],
          "name": "stdout"
        },
        {
          "output_type": "stream",
          "text": [
            "\r  8%|▊         | 274/3486 [01:50<33:48,  1.58it/s]"
          ],
          "name": "stderr"
        },
        {
          "output_type": "stream",
          "text": [
            "2238\n",
            "(1260, 71)\n",
            "2239\n",
            "(1260, 71)\n",
            "2242\n",
            "(14100, 295)\n"
          ],
          "name": "stdout"
        },
        {
          "output_type": "stream",
          "text": [
            "  8%|▊         | 278/3486 [01:50<20:40,  2.59it/s]"
          ],
          "name": "stderr"
        },
        {
          "output_type": "stream",
          "text": [
            "2243\n",
            "(15480, 262)\n",
            "2244\n",
            "(29940, 559)\n"
          ],
          "name": "stdout"
        },
        {
          "output_type": "stream",
          "text": [
            "\r  8%|▊         | 279/3486 [01:51<31:09,  1.72it/s]"
          ],
          "name": "stderr"
        },
        {
          "output_type": "stream",
          "text": [
            "2245\n",
            "(28710, 409)\n"
          ],
          "name": "stdout"
        },
        {
          "output_type": "stream",
          "text": [
            "  8%|▊         | 281/3486 [01:52<23:34,  2.27it/s]"
          ],
          "name": "stderr"
        },
        {
          "output_type": "stream",
          "text": [
            "2246\n",
            "There are 106214670player x questions pairs, tournament will be skipped\n",
            "2247\n",
            "(23220, 561)\n"
          ],
          "name": "stdout"
        },
        {
          "output_type": "stream",
          "text": [
            "  8%|▊         | 283/3486 [01:53<21:03,  2.53it/s]"
          ],
          "name": "stderr"
        },
        {
          "output_type": "stream",
          "text": [
            "2248\n",
            "There are 284855220player x questions pairs, tournament will be skipped\n",
            "2250\n",
            "(6840, 197)\n",
            "2251\n"
          ],
          "name": "stdout"
        },
        {
          "output_type": "stream",
          "text": [
            "\r  8%|▊         | 285/3486 [01:53<16:12,  3.29it/s]"
          ],
          "name": "stderr"
        },
        {
          "output_type": "stream",
          "text": [
            "There are 111406440player x questions pairs, tournament will be skipped\n",
            "2254\n",
            "(35550, 485)\n"
          ],
          "name": "stdout"
        },
        {
          "output_type": "stream",
          "text": [
            "\r  8%|▊         | 286/3486 [01:54<24:30,  2.18it/s]"
          ],
          "name": "stderr"
        },
        {
          "output_type": "stream",
          "text": [
            "2256\n",
            "(4320, 156)\n",
            "2257\n",
            "(28620, 408)\n"
          ],
          "name": "stdout"
        },
        {
          "output_type": "stream",
          "text": [
            "\r  8%|▊         | 288/3486 [01:54<22:06,  2.41it/s]"
          ],
          "name": "stderr"
        },
        {
          "output_type": "stream",
          "text": [
            "2258\n",
            "(900, 61)\n",
            "2260\n",
            "(2016, 92)\n",
            "2261\n",
            "(28620, 831)\n"
          ],
          "name": "stdout"
        },
        {
          "output_type": "stream",
          "text": [
            "\r  8%|▊         | 291/3486 [01:56<23:59,  2.22it/s]"
          ],
          "name": "stderr"
        },
        {
          "output_type": "stream",
          "text": [
            "2262\n",
            "(5904, 171)\n",
            "2263\n",
            "(18960, 376)\n"
          ],
          "name": "stdout"
        },
        {
          "output_type": "stream",
          "text": [
            "\r  8%|▊         | 293/3486 [01:56<19:51,  2.68it/s]"
          ],
          "name": "stderr"
        },
        {
          "output_type": "stream",
          "text": [
            "2264\n",
            "(2556, 107)\n",
            "2265\n",
            "(27690, 953)\n"
          ],
          "name": "stdout"
        },
        {
          "output_type": "stream",
          "text": [
            "  8%|▊         | 296/3486 [01:58<22:39,  2.35it/s]"
          ],
          "name": "stderr"
        },
        {
          "output_type": "stream",
          "text": [
            "2266\n",
            "(14640, 304)\n",
            "2267\n",
            "(8400, 200)\n",
            "2268\n",
            "(26505, 634)\n"
          ],
          "name": "stdout"
        },
        {
          "output_type": "stream",
          "text": [
            "  9%|▊         | 299/3486 [01:59<18:32,  2.86it/s]"
          ],
          "name": "stderr"
        },
        {
          "output_type": "stream",
          "text": [
            "2269\n",
            "(8400, 242)\n",
            "2270\n",
            "(11400, 250)\n"
          ],
          "name": "stdout"
        },
        {
          "output_type": "stream",
          "text": [
            "\r  9%|▊         | 300/3486 [02:00<15:27,  3.44it/s]"
          ],
          "name": "stderr"
        },
        {
          "output_type": "stream",
          "text": [
            "2271\n",
            "(2070, 91)\n",
            "2273\n",
            "(7560, 221)\n",
            "2274\n"
          ],
          "name": "stdout"
        },
        {
          "output_type": "stream",
          "text": [
            "\r  9%|▊         | 303/3486 [02:00<12:12,  4.34it/s]"
          ],
          "name": "stderr"
        },
        {
          "output_type": "stream",
          "text": [
            "There are 266463720player x questions pairs, tournament will be skipped\n",
            "2275\n",
            "There are 106907220player x questions pairs, tournament will be skipped\n",
            "2276\n",
            "(20970, 323)\n"
          ],
          "name": "stdout"
        },
        {
          "output_type": "stream",
          "text": [
            "\r  9%|▊         | 305/3486 [02:00<11:40,  4.54it/s]"
          ],
          "name": "stderr"
        },
        {
          "output_type": "stream",
          "text": [
            "2277\n",
            "(19950, 341)\n"
          ],
          "name": "stdout"
        },
        {
          "output_type": "stream",
          "text": [
            "\r  9%|▉         | 306/3486 [02:01<13:44,  3.86it/s]"
          ],
          "name": "stderr"
        },
        {
          "output_type": "stream",
          "text": [
            "2278\n",
            "(14445, 366)\n"
          ],
          "name": "stdout"
        },
        {
          "output_type": "stream",
          "text": [
            "  9%|▉         | 309/3486 [02:01<11:22,  4.66it/s]"
          ],
          "name": "stderr"
        },
        {
          "output_type": "stream",
          "text": [
            "2279\n",
            "(6660, 171)\n",
            "2280\n",
            "(9600, 248)\n",
            "2281\n",
            "(9432, 203)\n",
            "2282\n",
            "(19875, 340)\n"
          ],
          "name": "stdout"
        },
        {
          "output_type": "stream",
          "text": [
            "\r  9%|▉         | 311/3486 [02:01<11:13,  4.71it/s]"
          ],
          "name": "stderr"
        },
        {
          "output_type": "stream",
          "text": [
            "2283\n",
            "(23925, 394)\n"
          ],
          "name": "stdout"
        },
        {
          "output_type": "stream",
          "text": [
            "  9%|▉         | 314/3486 [02:02<11:46,  4.49it/s]"
          ],
          "name": "stderr"
        },
        {
          "output_type": "stream",
          "text": [
            "2284\n",
            "(4980, 143)\n",
            "2285\n",
            "(9000, 210)\n",
            "2286\n",
            "(15900, 287)\n"
          ],
          "name": "stdout"
        },
        {
          "output_type": "stream",
          "text": [
            "  9%|▉         | 316/3486 [02:02<11:21,  4.65it/s]"
          ],
          "name": "stderr"
        },
        {
          "output_type": "stream",
          "text": [
            "2287\n",
            "(16500, 295)\n",
            "2288\n",
            "(3015, 112)\n",
            "2289\n"
          ],
          "name": "stdout"
        },
        {
          "output_type": "stream",
          "text": [
            "\r  9%|▉         | 319/3486 [02:03<08:35,  6.14it/s]"
          ],
          "name": "stderr"
        },
        {
          "output_type": "stream",
          "text": [
            "(1404, 75)\n",
            "2291\n",
            "(6264, 210)\n",
            "2293\n",
            "(7704, 179)\n",
            "2295\n",
            "(22200, 430)\n"
          ],
          "name": "stdout"
        },
        {
          "output_type": "stream",
          "text": [
            "  9%|▉         | 322/3486 [02:03<10:28,  5.03it/s]"
          ],
          "name": "stderr"
        },
        {
          "output_type": "stream",
          "text": [
            "2296\n",
            "(12900, 275)\n",
            "2297\n",
            "(45315, 1052)\n"
          ],
          "name": "stdout"
        },
        {
          "output_type": "stream",
          "text": [
            "\r  9%|▉         | 323/3486 [02:06<54:21,  1.03s/it]"
          ],
          "name": "stderr"
        },
        {
          "output_type": "stream",
          "text": [
            "2300\n",
            "(18975, 328)\n"
          ],
          "name": "stdout"
        },
        {
          "output_type": "stream",
          "text": [
            "  9%|▉         | 325/3486 [02:07<32:23,  1.63it/s]"
          ],
          "name": "stderr"
        },
        {
          "output_type": "stream",
          "text": [
            "2301\n",
            "There are 262101420player x questions pairs, tournament will be skipped\n",
            "2303\n",
            "(55296, 1572)\n"
          ],
          "name": "stdout"
        },
        {
          "output_type": "stream",
          "text": [
            "\r  9%|▉         | 326/3486 [02:12<1:52:20,  2.13s/it]"
          ],
          "name": "stderr"
        },
        {
          "output_type": "stream",
          "text": [
            "2304\n",
            "(24900, 407)\n"
          ],
          "name": "stdout"
        },
        {
          "output_type": "stream",
          "text": [
            "  9%|▉         | 330/3486 [02:13<1:01:10,  1.16s/it]"
          ],
          "name": "stderr"
        },
        {
          "output_type": "stream",
          "text": [
            "2305\n",
            "(3168, 114)\n",
            "2306\n",
            "(1872, 88)\n",
            "2307\n",
            "(7200, 198)\n",
            "2308\n",
            "(7380, 241)\n"
          ],
          "name": "stdout"
        },
        {
          "output_type": "stream",
          "text": [
            "\r  9%|▉         | 331/3486 [02:13<44:31,  1.18it/s]  "
          ],
          "name": "stderr"
        },
        {
          "output_type": "stream",
          "text": [
            "2310\n",
            "(32250, 505)\n"
          ],
          "name": "stdout"
        },
        {
          "output_type": "stream",
          "text": [
            " 10%|▉         | 336/3486 [02:14<31:47,  1.65it/s]"
          ],
          "name": "stderr"
        },
        {
          "output_type": "stream",
          "text": [
            "2311\n",
            "(900, 61)\n",
            "2312\n",
            "(1044, 65)\n",
            "2313\n",
            "(2304, 100)\n",
            "2314\n",
            "There are 226611252player x questions pairs, tournament will be skipped\n",
            "2315\n",
            "(41404, 985)\n",
            "2316\n",
            "(23472, 688)\n"
          ],
          "name": "stdout"
        },
        {
          "output_type": "stream",
          "text": [
            " 10%|▉         | 340/3486 [02:18<37:14,  1.41it/s]"
          ],
          "name": "stderr"
        },
        {
          "output_type": "stream",
          "text": [
            "2317\n",
            "(3420, 131)\n",
            "2318\n",
            "(8232, 238)\n",
            "2319\n",
            "(5616, 165)\n",
            "2322\n"
          ],
          "name": "stdout"
        },
        {
          "output_type": "stream",
          "text": [
            "\r 10%|▉         | 342/3486 [02:18<28:18,  1.85it/s]"
          ],
          "name": "stderr"
        },
        {
          "output_type": "stream",
          "text": [
            "(15780, 323)\n",
            "2323\n",
            "(5220, 161)\n"
          ],
          "name": "stdout"
        },
        {
          "output_type": "stream",
          "text": [
            "\r 10%|▉         | 344/3486 [02:19<20:40,  2.53it/s]"
          ],
          "name": "stderr"
        },
        {
          "output_type": "stream",
          "text": [
            "2324\n",
            "(5184, 156)\n",
            "2325\n",
            "(14904, 450)\n",
            "2326\n",
            "(12996, 397)\n"
          ],
          "name": "stdout"
        },
        {
          "output_type": "stream",
          "text": [
            " 10%|▉         | 347/3486 [02:19<15:38,  3.35it/s]"
          ],
          "name": "stderr"
        },
        {
          "output_type": "stream",
          "text": [
            "2331\n",
            "(9360, 253)\n",
            "2332\n",
            "(2556, 107)\n",
            "2333\n",
            "(5175, 160)\n",
            "2334\n"
          ],
          "name": "stdout"
        },
        {
          "output_type": "stream",
          "text": [
            " 10%|█         | 352/3486 [02:20<08:54,  5.87it/s]"
          ],
          "name": "stderr"
        },
        {
          "output_type": "stream",
          "text": [
            "(3510, 123)\n",
            "2335\n",
            "(2184, 115)\n",
            "2336\n",
            "(7488, 204)\n",
            "2337\n",
            "(5220, 147)\n",
            "2340\n",
            "(2820, 107)\n",
            "2343\n",
            "(20100, 343)\n"
          ],
          "name": "stdout"
        },
        {
          "output_type": "stream",
          "text": [
            "\r 10%|█         | 355/3486 [02:20<08:25,  6.19it/s]"
          ],
          "name": "stderr"
        },
        {
          "output_type": "stream",
          "text": [
            "2344\n",
            "(24000, 395)\n",
            "2345\n",
            "(42624, 1220)\n"
          ],
          "name": "stdout"
        },
        {
          "output_type": "stream",
          "text": [
            "\r 10%|█         | 357/3486 [02:24<36:46,  1.42it/s]"
          ],
          "name": "stderr"
        },
        {
          "output_type": "stream",
          "text": [
            "2346\n",
            "(27180, 791)\n"
          ],
          "name": "stdout"
        },
        {
          "output_type": "stream",
          "text": [
            " 10%|█         | 361/3486 [02:25<33:13,  1.57it/s]"
          ],
          "name": "stderr"
        },
        {
          "output_type": "stream",
          "text": [
            "2347\n",
            "(2544, 101)\n",
            "2348\n",
            "(5640, 154)\n",
            "2350\n",
            "(2655, 104)\n",
            "2351\n",
            "(5130, 159)\n",
            "2352\n",
            "(3528, 134)\n",
            "2353\n"
          ],
          "name": "stdout"
        },
        {
          "output_type": "stream",
          "text": [
            "\r 10%|█         | 364/3486 [02:26<24:48,  2.10it/s]"
          ],
          "name": "stderr"
        },
        {
          "output_type": "stream",
          "text": [
            "(11412, 353)\n",
            "2354\n",
            "(54810, 1263)\n",
            "2355\n",
            "(34695, 816)\n"
          ],
          "name": "stdout"
        },
        {
          "output_type": "stream",
          "text": [
            " 11%|█         | 369/3486 [02:32<48:14,  1.08it/s]  "
          ],
          "name": "stderr"
        },
        {
          "output_type": "stream",
          "text": [
            "2358\n",
            "(4848, 149)\n",
            "2359\n",
            "(2124, 95)\n",
            "2360\n",
            "(8760, 206)\n",
            "2361\n",
            "(1860, 91)\n",
            "2362\n",
            "(9090, 191)\n"
          ],
          "name": "stdout"
        },
        {
          "output_type": "stream",
          "text": [
            "\r 11%|█         | 371/3486 [02:32<34:37,  1.50it/s]"
          ],
          "name": "stderr"
        },
        {
          "output_type": "stream",
          "text": [
            "2364\n",
            "(10680, 238)\n",
            "2366\n",
            "(9420, 217)\n"
          ],
          "name": "stdout"
        },
        {
          "output_type": "stream",
          "text": [
            " 11%|█         | 375/3486 [02:33<19:34,  2.65it/s]"
          ],
          "name": "stderr"
        },
        {
          "output_type": "stream",
          "text": [
            "2367\n",
            "(2223, 96)\n",
            "2368\n",
            "(10575, 280)\n",
            "2370\n",
            "(11616, 290)\n",
            "2371\n",
            "(22800, 310)\n"
          ],
          "name": "stdout"
        },
        {
          "output_type": "stream",
          "text": [
            " 11%|█         | 379/3486 [02:33<13:26,  3.85it/s]"
          ],
          "name": "stderr"
        },
        {
          "output_type": "stream",
          "text": [
            "2372\n",
            "(8940, 209)\n",
            "2374\n",
            "(9000, 210)\n",
            "2375\n",
            "(5265, 162)\n",
            "2376\n",
            "(19512, 343)\n"
          ],
          "name": "stdout"
        },
        {
          "output_type": "stream",
          "text": [
            "\r 11%|█         | 381/3486 [02:34<12:24,  4.17it/s]"
          ],
          "name": "stderr"
        },
        {
          "output_type": "stream",
          "text": [
            "2377\n",
            "(27660, 521)\n"
          ],
          "name": "stdout"
        },
        {
          "output_type": "stream",
          "text": [
            "\r 11%|█         | 382/3486 [02:35<19:06,  2.71it/s]"
          ],
          "name": "stderr"
        },
        {
          "output_type": "stream",
          "text": [
            "2378\n",
            "(4380, 133)\n",
            "2379\n",
            "(54675, 1260)\n"
          ],
          "name": "stdout"
        },
        {
          "output_type": "stream",
          "text": [
            "\r 11%|█         | 384/3486 [02:40<53:31,  1.04s/it]"
          ],
          "name": "stderr"
        },
        {
          "output_type": "stream",
          "text": [
            "2380\n",
            "(5175, 160)\n",
            "2384\n",
            "(19260, 571)\n"
          ],
          "name": "stdout"
        },
        {
          "output_type": "stream",
          "text": [
            " 11%|█         | 388/3486 [02:40<30:55,  1.67it/s]"
          ],
          "name": "stderr"
        },
        {
          "output_type": "stream",
          "text": [
            "2385\n",
            "(7904, 204)\n",
            "2388\n",
            "(6444, 215)\n",
            "2389\n",
            "(3420, 121)\n",
            "2390\n",
            "(6525, 190)\n"
          ],
          "name": "stdout"
        },
        {
          "output_type": "stream",
          "text": [
            " 11%|█▏        | 394/3486 [02:41<16:16,  3.17it/s]"
          ],
          "name": "stderr"
        },
        {
          "output_type": "stream",
          "text": [
            "2392\n",
            "(2256, 95)\n",
            "2393\n",
            "(2808, 114)\n",
            "2395\n",
            "(2556, 107)\n",
            "2398\n",
            "(5350, 157)\n",
            "2400\n",
            "(4536, 162)\n",
            "2403\n"
          ],
          "name": "stdout"
        },
        {
          "output_type": "stream",
          "text": [
            "\r 11%|█▏        | 396/3486 [02:41<13:05,  3.93it/s]"
          ],
          "name": "stderr"
        },
        {
          "output_type": "stream",
          "text": [
            "(9504, 300)\n",
            "2404\n",
            "(8520, 202)\n"
          ],
          "name": "stdout"
        },
        {
          "output_type": "stream",
          "text": [
            "\r 11%|█▏        | 398/3486 [02:41<10:12,  5.04it/s]"
          ],
          "name": "stderr"
        },
        {
          "output_type": "stream",
          "text": [
            "2405\n",
            "(3375, 120)\n",
            "2406\n",
            "(24975, 600)\n"
          ],
          "name": "stdout"
        },
        {
          "output_type": "stream",
          "text": [
            "\r 11%|█▏        | 400/3486 [02:42<14:29,  3.55it/s]"
          ],
          "name": "stderr"
        },
        {
          "output_type": "stream",
          "text": [
            "2414\n",
            "(5460, 151)\n",
            "2415\n",
            "(5085, 158)\n",
            "2419\n",
            "(27468, 799)\n"
          ],
          "name": "stdout"
        },
        {
          "output_type": "stream",
          "text": [
            " 12%|█▏        | 403/3486 [02:44<16:51,  3.05it/s]"
          ],
          "name": "stderr"
        },
        {
          "output_type": "stream",
          "text": [
            "2420\n",
            "(10764, 216)\n",
            "2421\n",
            "(9120, 212)\n",
            "2422\n"
          ],
          "name": "stdout"
        },
        {
          "output_type": "stream",
          "text": [
            "\r 12%|█▏        | 405/3486 [02:44<12:54,  3.98it/s]"
          ],
          "name": "stderr"
        },
        {
          "output_type": "stream",
          "text": [
            "(4080, 128)\n",
            "2423\n",
            "(3408, 119)\n",
            "2424\n",
            "(58256, 1368)\n"
          ],
          "name": "stdout"
        },
        {
          "output_type": "stream",
          "text": [
            "\r 12%|█▏        | 407/3486 [02:49<51:51,  1.01s/it]"
          ],
          "name": "stderr"
        },
        {
          "output_type": "stream",
          "text": [
            "2425\n",
            "(2475, 108)\n",
            "2452\n",
            "(25272, 423)\n"
          ],
          "name": "stdout"
        },
        {
          "output_type": "stream",
          "text": [
            " 12%|█▏        | 412/3486 [02:50<28:55,  1.77it/s]"
          ],
          "name": "stderr"
        },
        {
          "output_type": "stream",
          "text": [
            "2453\n",
            "(3216, 158)\n",
            "2460\n",
            "(3132, 123)\n",
            "2461\n",
            "(5460, 151)\n",
            "2462\n",
            "(8700, 205)\n"
          ],
          "name": "stdout"
        },
        {
          "output_type": "stream",
          "text": [
            "\r 12%|█▏        | 414/3486 [02:50<22:20,  2.29it/s]"
          ],
          "name": "stderr"
        },
        {
          "output_type": "stream",
          "text": [
            "2463\n",
            "(13752, 263)\n",
            "2464\n"
          ],
          "name": "stdout"
        },
        {
          "output_type": "stream",
          "text": [
            "\r 12%|█▏        | 415/3486 [02:50<17:43,  2.89it/s]"
          ],
          "name": "stderr"
        },
        {
          "output_type": "stream",
          "text": [
            "(10800, 240)\n",
            "2465\n",
            "(3660, 121)\n",
            "2467\n",
            "(6660, 171)\n",
            "2468\n"
          ],
          "name": "stdout"
        },
        {
          "output_type": "stream",
          "text": [
            "\r 12%|█▏        | 418/3486 [02:51<13:46,  3.71it/s]"
          ],
          "name": "stderr"
        },
        {
          "output_type": "stream",
          "text": [
            "(14850, 255)\n",
            "2472\n"
          ],
          "name": "stdout"
        },
        {
          "output_type": "stream",
          "text": [
            "\r 12%|█▏        | 419/3486 [02:51<12:50,  3.98it/s]"
          ],
          "name": "stderr"
        },
        {
          "output_type": "stream",
          "text": [
            "There are 528626250player x questions pairs, tournament will be skipped\n",
            "2473\n",
            "(20664, 610)\n"
          ],
          "name": "stdout"
        },
        {
          "output_type": "stream",
          "text": [
            "\r 12%|█▏        | 420/3486 [02:52<18:51,  2.71it/s]"
          ],
          "name": "stderr"
        },
        {
          "output_type": "stream",
          "text": [
            "2475\n",
            "(7596, 247)\n",
            "2479\n",
            "(61908, 1455)\n"
          ],
          "name": "stdout"
        },
        {
          "output_type": "stream",
          "text": [
            " 12%|█▏        | 423/3486 [02:58<45:11,  1.13it/s]  "
          ],
          "name": "stderr"
        },
        {
          "output_type": "stream",
          "text": [
            "2481\n",
            "(13260, 281)\n",
            "2506\n"
          ],
          "name": "stdout"
        },
        {
          "output_type": "stream",
          "text": [
            "\r 12%|█▏        | 424/3486 [02:58<36:12,  1.41it/s]"
          ],
          "name": "stderr"
        },
        {
          "output_type": "stream",
          "text": [
            "There are 1355002278player x questions pairs, tournament will be skipped\n",
            "2512\n",
            "(32004, 609)\n"
          ],
          "name": "stdout"
        },
        {
          "output_type": "stream",
          "text": [
            " 12%|█▏        | 426/3486 [03:00<32:14,  1.58it/s]"
          ],
          "name": "stderr"
        },
        {
          "output_type": "stream",
          "text": [
            "2521\n",
            "(13185, 261)\n",
            "2522\n",
            "(26376, 1277)\n"
          ],
          "name": "stdout"
        },
        {
          "output_type": "stream",
          "text": [
            "\r 12%|█▏        | 427/3486 [03:02<59:18,  1.16s/it]"
          ],
          "name": "stderr"
        },
        {
          "output_type": "stream",
          "text": [
            "2523\n",
            "(24192, 1173)\n"
          ],
          "name": "stdout"
        },
        {
          "output_type": "stream",
          "text": [
            "\r 12%|█▏        | 428/3486 [03:04<1:15:51,  1.49s/it]"
          ],
          "name": "stderr"
        },
        {
          "output_type": "stream",
          "text": [
            "2524\n",
            "(19425, 946)\n"
          ],
          "name": "stdout"
        },
        {
          "output_type": "stream",
          "text": [
            " 12%|█▏        | 431/3486 [03:05<49:15,  1.03it/s]  "
          ],
          "name": "stderr"
        },
        {
          "output_type": "stream",
          "text": [
            "2525\n",
            "(2880, 116)\n",
            "2526\n",
            "(10320, 263)\n",
            "2527\n",
            "(17955, 876)\n"
          ],
          "name": "stdout"
        },
        {
          "output_type": "stream",
          "text": [
            "\r 12%|█▏        | 432/3486 [03:06<50:14,  1.01it/s]"
          ],
          "name": "stderr"
        },
        {
          "output_type": "stream",
          "text": [
            "2528\n",
            "(14280, 701)\n"
          ],
          "name": "stdout"
        },
        {
          "output_type": "stream",
          "text": [
            "\r 12%|█▏        | 433/3486 [03:07<43:41,  1.16it/s]"
          ],
          "name": "stderr"
        },
        {
          "output_type": "stream",
          "text": [
            "2529\n",
            "(21528, 371)\n"
          ],
          "name": "stdout"
        },
        {
          "output_type": "stream",
          "text": [
            " 12%|█▏        | 435/3486 [03:08<28:17,  1.80it/s]"
          ],
          "name": "stderr"
        },
        {
          "output_type": "stream",
          "text": [
            "2530\n",
            "(14250, 265)\n",
            "2531\n",
            "(3180, 113)\n",
            "2532\n"
          ],
          "name": "stdout"
        },
        {
          "output_type": "stream",
          "text": [
            "\r 13%|█▎        | 437/3486 [03:08<21:13,  2.39it/s]"
          ],
          "name": "stderr"
        },
        {
          "output_type": "stream",
          "text": [
            "(14130, 247)\n",
            "2533\n",
            "(22770, 343)\n"
          ],
          "name": "stdout"
        },
        {
          "output_type": "stream",
          "text": [
            "\r 13%|█▎        | 438/3486 [03:08<20:38,  2.46it/s]"
          ],
          "name": "stderr"
        },
        {
          "output_type": "stream",
          "text": [
            "2534\n",
            "(22896, 390)\n"
          ],
          "name": "stdout"
        },
        {
          "output_type": "stream",
          "text": [
            " 13%|█▎        | 440/3486 [03:09<17:57,  2.83it/s]"
          ],
          "name": "stderr"
        },
        {
          "output_type": "stream",
          "text": [
            "2535\n",
            "There are 369734220player x questions pairs, tournament will be skipped\n",
            "2537\n",
            "(23310, 349)\n"
          ],
          "name": "stdout"
        },
        {
          "output_type": "stream",
          "text": [
            "\r 13%|█▎        | 441/3486 [03:09<17:47,  2.85it/s]"
          ],
          "name": "stderr"
        },
        {
          "output_type": "stream",
          "text": [
            "2538\n",
            "(7980, 193)\n",
            "2539\n",
            "(13050, 249)\n"
          ],
          "name": "stdout"
        },
        {
          "output_type": "stream",
          "text": [
            "\r 13%|█▎        | 443/3486 [03:09<14:16,  3.55it/s]"
          ],
          "name": "stderr"
        },
        {
          "output_type": "stream",
          "text": [
            "2547\n",
            "(27840, 524)\n"
          ],
          "name": "stdout"
        },
        {
          "output_type": "stream",
          "text": [
            "\r 13%|█▎        | 444/3486 [03:10<21:50,  2.32it/s]"
          ],
          "name": "stderr"
        },
        {
          "output_type": "stream",
          "text": [
            "2548\n",
            "(14352, 347)\n"
          ],
          "name": "stdout"
        },
        {
          "output_type": "stream",
          "text": [
            "\r 13%|█▎        | 445/3486 [03:10<19:02,  2.66it/s]"
          ],
          "name": "stderr"
        },
        {
          "output_type": "stream",
          "text": [
            "2554\n",
            "(24984, 730)\n"
          ],
          "name": "stdout"
        },
        {
          "output_type": "stream",
          "text": [
            "\r 13%|█▎        | 446/3486 [03:11<29:46,  1.70it/s]"
          ],
          "name": "stderr"
        },
        {
          "output_type": "stream",
          "text": [
            "2555\n",
            "(6225, 158)\n",
            "2556\n"
          ],
          "name": "stdout"
        },
        {
          "output_type": "stream",
          "text": [
            " 13%|█▎        | 450/3486 [03:12<16:52,  3.00it/s]"
          ],
          "name": "stderr"
        },
        {
          "output_type": "stream",
          "text": [
            "There are 379261818player x questions pairs, tournament will be skipped\n",
            "2557\n",
            "There are 176293620player x questions pairs, tournament will be skipped\n",
            "2558\n",
            "(5580, 191)\n",
            "2562\n"
          ],
          "name": "stdout"
        },
        {
          "output_type": "stream",
          "text": [
            "\r 13%|█▎        | 451/3486 [03:12<14:56,  3.39it/s]"
          ],
          "name": "stderr"
        },
        {
          "output_type": "stream",
          "text": [
            "There are 580605552player x questions pairs, tournament will be skipped\n",
            "2567\n",
            "(33876, 977)\n"
          ],
          "name": "stdout"
        },
        {
          "output_type": "stream",
          "text": [
            " 13%|█▎        | 454/3486 [03:14<31:07,  1.62it/s]"
          ],
          "name": "stderr"
        },
        {
          "output_type": "stream",
          "text": [
            "2573\n",
            "(2196, 97)\n",
            "2576\n",
            "There are 101636304player x questions pairs, tournament will be skipped\n",
            "2577\n"
          ],
          "name": "stdout"
        },
        {
          "output_type": "stream",
          "text": [
            "\r 13%|█▎        | 455/3486 [03:14<23:59,  2.11it/s]"
          ],
          "name": "stderr"
        },
        {
          "output_type": "stream",
          "text": [
            "There are 105106176player x questions pairs, tournament will be skipped\n",
            "2578\n"
          ],
          "name": "stdout"
        },
        {
          "output_type": "stream",
          "text": [
            "\r 13%|█▎        | 456/3486 [03:16<35:15,  1.43it/s]"
          ],
          "name": "stderr"
        },
        {
          "output_type": "stream",
          "text": [
            "There are 10563432912player x questions pairs, tournament will be skipped\n",
            "2579\n",
            "(35640, 486)\n"
          ],
          "name": "stdout"
        },
        {
          "output_type": "stream",
          "text": [
            "\r 13%|█▎        | 457/3486 [03:17<37:37,  1.34it/s]"
          ],
          "name": "stderr"
        },
        {
          "output_type": "stream",
          "text": [
            "2584\n",
            "(4620, 137)\n",
            "2585\n",
            "(36288, 906)\n"
          ],
          "name": "stdout"
        },
        {
          "output_type": "stream",
          "text": [
            "\r 13%|█▎        | 459/3486 [03:19<42:13,  1.19it/s]"
          ],
          "name": "stderr"
        },
        {
          "output_type": "stream",
          "text": [
            "2586\n",
            "(24840, 366)\n"
          ],
          "name": "stdout"
        },
        {
          "output_type": "stream",
          "text": [
            " 13%|█▎        | 461/3486 [03:19<27:31,  1.83it/s]"
          ],
          "name": "stderr"
        },
        {
          "output_type": "stream",
          "text": [
            "2592\n",
            "There are 161488080player x questions pairs, tournament will be skipped\n",
            "2607\n",
            "(3240, 117)\n",
            "2608\n",
            "(27240, 514)\n"
          ],
          "name": "stdout"
        },
        {
          "output_type": "stream",
          "text": [
            " 13%|█▎        | 465/3486 [03:20<18:57,  2.66it/s]"
          ],
          "name": "stderr"
        },
        {
          "output_type": "stream",
          "text": [
            "2609\n",
            "(792, 58)\n",
            "2610\n",
            "(15360, 304)\n",
            "2611\n",
            "(15600, 330)\n"
          ],
          "name": "stdout"
        },
        {
          "output_type": "stream",
          "text": [
            "\r 13%|█▎        | 466/3486 [03:20<17:37,  2.86it/s]"
          ],
          "name": "stderr"
        },
        {
          "output_type": "stream",
          "text": [
            "2613\n",
            "(16020, 327)\n"
          ],
          "name": "stdout"
        },
        {
          "output_type": "stream",
          "text": [
            " 13%|█▎        | 469/3486 [03:21<13:02,  3.86it/s]"
          ],
          "name": "stderr"
        },
        {
          "output_type": "stream",
          "text": [
            "2619\n",
            "(6120, 162)\n",
            "2620\n",
            "There are 242787060player x questions pairs, tournament will be skipped\n",
            "2627\n",
            "(32130, 759)\n"
          ],
          "name": "stdout"
        },
        {
          "output_type": "stream",
          "text": [
            " 14%|█▎        | 471/3486 [03:23<24:52,  2.02it/s]"
          ],
          "name": "stderr"
        },
        {
          "output_type": "stream",
          "text": [
            "2629\n",
            "(12660, 271)\n",
            "2630\n",
            "(5400, 150)\n",
            "2631\n",
            "(22980, 443)\n"
          ],
          "name": "stdout"
        },
        {
          "output_type": "stream",
          "text": [
            "\r 14%|█▎        | 473/3486 [03:23<22:24,  2.24it/s]"
          ],
          "name": "stderr"
        },
        {
          "output_type": "stream",
          "text": [
            "2632\n",
            "(4824, 170)\n",
            "2633\n",
            "(2820, 124)\n",
            "2640\n",
            "(19080, 378)\n"
          ],
          "name": "stdout"
        },
        {
          "output_type": "stream",
          "text": [
            "\r 14%|█▎        | 476/3486 [03:24<17:50,  2.81it/s]"
          ],
          "name": "stderr"
        },
        {
          "output_type": "stream",
          "text": [
            "2643\n",
            "(64350, 1475)\n"
          ],
          "name": "stdout"
        },
        {
          "output_type": "stream",
          "text": [
            " 14%|█▎        | 479/3486 [03:31<1:21:16,  1.62s/it]"
          ],
          "name": "stderr"
        },
        {
          "output_type": "stream",
          "text": [
            "2644\n",
            "(5175, 160)\n",
            "2648\n",
            "(10350, 205)\n",
            "2649\n",
            "(8160, 196)\n"
          ],
          "name": "stdout"
        },
        {
          "output_type": "stream",
          "text": [
            "\r 14%|█▍        | 481/3486 [03:31<57:48,  1.15s/it]  "
          ],
          "name": "stderr"
        },
        {
          "output_type": "stream",
          "text": [
            "2651\n",
            "(3060, 121)\n",
            "2656\n",
            "(2016, 92)\n",
            "2657\n",
            "(18675, 324)\n"
          ],
          "name": "stdout"
        },
        {
          "output_type": "stream",
          "text": [
            "\r 14%|█▍        | 483/3486 [03:31<42:48,  1.17it/s]"
          ],
          "name": "stderr"
        },
        {
          "output_type": "stream",
          "text": [
            "2658\n",
            "(17010, 279)\n"
          ],
          "name": "stdout"
        },
        {
          "output_type": "stream",
          "text": [
            "\r 14%|█▍        | 484/3486 [03:31<33:36,  1.49it/s]"
          ],
          "name": "stderr"
        },
        {
          "output_type": "stream",
          "text": [
            "2659\n",
            "(28836, 837)\n"
          ],
          "name": "stdout"
        },
        {
          "output_type": "stream",
          "text": [
            "\r 14%|█▍        | 485/3486 [03:33<46:37,  1.07it/s]"
          ],
          "name": "stderr"
        },
        {
          "output_type": "stream",
          "text": [
            "2660\n",
            "(26244, 765)\n"
          ],
          "name": "stdout"
        },
        {
          "output_type": "stream",
          "text": [
            " 14%|█▍        | 487/3486 [03:34<39:26,  1.27it/s]"
          ],
          "name": "stderr"
        },
        {
          "output_type": "stream",
          "text": [
            "2662\n",
            "There are 633215232player x questions pairs, tournament will be skipped\n",
            "2663\n"
          ],
          "name": "stdout"
        },
        {
          "output_type": "stream",
          "text": [
            "\r 14%|█▍        | 489/3486 [03:34<28:24,  1.76it/s]"
          ],
          "name": "stderr"
        },
        {
          "output_type": "stream",
          "text": [
            "(3996, 147)\n",
            "2664\n",
            "(7380, 183)\n",
            "2665\n",
            "(28518, 721)\n"
          ],
          "name": "stdout"
        },
        {
          "output_type": "stream",
          "text": [
            " 14%|█▍        | 491/3486 [03:36<30:02,  1.66it/s]"
          ],
          "name": "stderr"
        },
        {
          "output_type": "stream",
          "text": [
            "2667\n",
            "(13185, 338)\n",
            "2668\n"
          ],
          "name": "stdout"
        },
        {
          "output_type": "stream",
          "text": [
            "\r 14%|█▍        | 492/3486 [03:36<23:48,  2.10it/s]"
          ],
          "name": "stderr"
        },
        {
          "output_type": "stream",
          "text": [
            "(15570, 263)\n",
            "2669\n",
            "(3132, 123)\n",
            "2670\n",
            "(1476, 77)\n",
            "2675\n"
          ],
          "name": "stdout"
        },
        {
          "output_type": "stream",
          "text": [
            "\r 14%|█▍        | 495/3486 [03:36<18:04,  2.76it/s]"
          ],
          "name": "stderr"
        },
        {
          "output_type": "stream",
          "text": [
            "(13776, 335)\n",
            "2676\n"
          ],
          "name": "stdout"
        },
        {
          "output_type": "stream",
          "text": [
            "\r 14%|█▍        | 496/3486 [03:37<16:29,  3.02it/s]"
          ],
          "name": "stderr"
        },
        {
          "output_type": "stream",
          "text": [
            "(18000, 322)\n",
            "2677\n",
            "(5130, 147)\n",
            "2680\n",
            "(6000, 160)\n",
            "2682\n",
            "(33813, 906)\n"
          ],
          "name": "stdout"
        },
        {
          "output_type": "stream",
          "text": [
            "\r 14%|█▍        | 499/3486 [03:39<23:38,  2.11it/s]"
          ],
          "name": "stderr"
        },
        {
          "output_type": "stream",
          "text": [
            "2683\n",
            "(11136, 488)\n"
          ],
          "name": "stdout"
        },
        {
          "output_type": "stream",
          "text": [
            "\r 14%|█▍        | 500/3486 [03:39<20:56,  2.38it/s]"
          ],
          "name": "stderr"
        },
        {
          "output_type": "stream",
          "text": [
            "2684\n",
            "(5700, 155)\n",
            "2685\n",
            "(14550, 269)\n"
          ],
          "name": "stdout"
        },
        {
          "output_type": "stream",
          "text": [
            "\r 14%|█▍        | 502/3486 [03:40<16:30,  3.01it/s]"
          ],
          "name": "stderr"
        },
        {
          "output_type": "stream",
          "text": [
            "2687\n",
            "(3105, 114)\n",
            "2689\n"
          ],
          "name": "stdout"
        },
        {
          "output_type": "stream",
          "text": [
            "\r 14%|█▍        | 504/3486 [03:40<13:30,  3.68it/s]"
          ],
          "name": "stderr"
        },
        {
          "output_type": "stream",
          "text": [
            "There are 624820224player x questions pairs, tournament will be skipped\n",
            "2691\n",
            "(2124, 95)\n",
            "2692\n",
            "(18180, 363)\n"
          ],
          "name": "stdout"
        },
        {
          "output_type": "stream",
          "text": [
            "\r 15%|█▍        | 506/3486 [03:40<12:12,  4.07it/s]"
          ],
          "name": "stderr"
        },
        {
          "output_type": "stream",
          "text": [
            "2694\n",
            "(29250, 695)\n"
          ],
          "name": "stdout"
        },
        {
          "output_type": "stream",
          "text": [
            " 15%|█▍        | 508/3486 [03:42<21:45,  2.28it/s]"
          ],
          "name": "stderr"
        },
        {
          "output_type": "stream",
          "text": [
            "2695\n",
            "There are 153980580player x questions pairs, tournament will be skipped\n",
            "2696\n"
          ],
          "name": "stdout"
        },
        {
          "output_type": "stream",
          "text": [
            " 15%|█▍        | 512/3486 [03:42<12:32,  3.95it/s]"
          ],
          "name": "stderr"
        },
        {
          "output_type": "stream",
          "text": [
            "There are 325722780player x questions pairs, tournament will be skipped\n",
            "2697\n",
            "There are 105007804player x questions pairs, tournament will be skipped\n",
            "2702\n",
            "(2124, 95)\n",
            "2704\n",
            "(2772, 108)\n",
            "2705\n",
            "(22980, 443)\n",
            "2706\n",
            "(18480, 317)\n"
          ],
          "name": "stdout"
        },
        {
          "output_type": "stream",
          "text": [
            "\r 15%|█▍        | 514/3486 [03:43<16:04,  3.08it/s]"
          ],
          "name": "stderr"
        },
        {
          "output_type": "stream",
          "text": [
            "2707\n"
          ],
          "name": "stdout"
        },
        {
          "output_type": "stream",
          "text": [
            "\r 15%|█▍        | 515/3486 [03:43<16:05,  3.08it/s]"
          ],
          "name": "stderr"
        },
        {
          "output_type": "stream",
          "text": [
            "There are 1513999272player x questions pairs, tournament will be skipped\n",
            "2708\n",
            "There are 122267700player x questions pairs, tournament will be skipped\n",
            "2709\n",
            "(21915, 532)\n"
          ],
          "name": "stdout"
        },
        {
          "output_type": "stream",
          "text": [
            " 15%|█▍        | 518/3486 [03:44<12:59,  3.81it/s]"
          ],
          "name": "stderr"
        },
        {
          "output_type": "stream",
          "text": [
            "2710\n",
            "(8496, 272)\n",
            "2711\n",
            "(14490, 251)\n"
          ],
          "name": "stdout"
        },
        {
          "output_type": "stream",
          "text": [
            "\r 15%|█▍        | 519/3486 [03:44<11:29,  4.30it/s]"
          ],
          "name": "stderr"
        },
        {
          "output_type": "stream",
          "text": [
            "2712\n",
            "(3384, 130)\n",
            "2713\n",
            "(5640, 259)\n",
            "2714\n",
            "(6816, 308)\n"
          ],
          "name": "stdout"
        },
        {
          "output_type": "stream",
          "text": [
            "\r 15%|█▍        | 522/3486 [03:44<09:07,  5.41it/s]"
          ],
          "name": "stderr"
        },
        {
          "output_type": "stream",
          "text": [
            "2715\n",
            "(7236, 237)\n",
            "2716\n",
            "(24030, 579)\n"
          ],
          "name": "stdout"
        },
        {
          "output_type": "stream",
          "text": [
            " 15%|█▌        | 526/3486 [03:46<11:04,  4.46it/s]"
          ],
          "name": "stderr"
        },
        {
          "output_type": "stream",
          "text": [
            "2717\n",
            "(972, 63)\n",
            "2718\n",
            "(12330, 319)\n",
            "2719\n",
            "(17100, 511)\n"
          ],
          "name": "stdout"
        },
        {
          "output_type": "stream",
          "text": [
            "\r 15%|█▌        | 527/3486 [03:46<13:43,  3.59it/s]"
          ],
          "name": "stderr"
        },
        {
          "output_type": "stream",
          "text": [
            "2720\n",
            "(1692, 83)\n",
            "2721\n",
            "(900, 61)\n",
            "2722\n",
            "(936, 62)\n",
            "2723\n",
            "(22680, 342)\n"
          ],
          "name": "stdout"
        },
        {
          "output_type": "stream",
          "text": [
            "\r 15%|█▌        | 531/3486 [03:46<11:02,  4.46it/s]"
          ],
          "name": "stderr"
        },
        {
          "output_type": "stream",
          "text": [
            "2724\n",
            "(12924, 395)\n"
          ],
          "name": "stdout"
        },
        {
          "output_type": "stream",
          "text": [
            " 15%|█▌        | 534/3486 [03:47<09:26,  5.21it/s]"
          ],
          "name": "stderr"
        },
        {
          "output_type": "stream",
          "text": [
            "2725\n",
            "(5832, 198)\n",
            "2726\n",
            "(6624, 220)\n",
            "2727\n",
            "(23004, 675)\n"
          ],
          "name": "stdout"
        },
        {
          "output_type": "stream",
          "text": [
            "\r 15%|█▌        | 535/3486 [03:48<21:56,  2.24it/s]"
          ],
          "name": "stderr"
        },
        {
          "output_type": "stream",
          "text": [
            "2728\n",
            "(37170, 503)\n"
          ],
          "name": "stdout"
        },
        {
          "output_type": "stream",
          "text": [
            " 15%|█▌        | 538/3486 [03:49<21:12,  2.32it/s]"
          ],
          "name": "stderr"
        },
        {
          "output_type": "stream",
          "text": [
            "2729\n",
            "(1248, 76)\n",
            "2730\n",
            "(10380, 233)\n",
            "2731\n",
            "(51885, 1198)\n"
          ],
          "name": "stdout"
        },
        {
          "output_type": "stream",
          "text": [
            "\r 15%|█▌        | 539/3486 [03:53<1:09:48,  1.42s/it]"
          ],
          "name": "stderr"
        },
        {
          "output_type": "stream",
          "text": [
            "2732\n",
            "(42024, 1206)\n"
          ],
          "name": "stdout"
        },
        {
          "output_type": "stream",
          "text": [
            " 16%|█▌        | 541/3486 [03:57<1:14:30,  1.52s/it]"
          ],
          "name": "stderr"
        },
        {
          "output_type": "stream",
          "text": [
            "2733\n",
            "(16515, 272)\n",
            "2734\n",
            "(50265, 1162)\n"
          ],
          "name": "stdout"
        },
        {
          "output_type": "stream",
          "text": [
            " 16%|█▌        | 545/3486 [04:00<1:13:58,  1.51s/it]"
          ],
          "name": "stderr"
        },
        {
          "output_type": "stream",
          "text": [
            "2736\n",
            "(8160, 196)\n",
            "2737\n",
            "(1728, 84)\n",
            "2738\n",
            "(9960, 226)\n",
            "2739\n",
            "(3780, 123)\n",
            "2740\n",
            "(18675, 460)\n"
          ],
          "name": "stdout"
        },
        {
          "output_type": "stream",
          "text": [
            " 16%|█▌        | 548/3486 [04:01<40:10,  1.22it/s]"
          ],
          "name": "stderr"
        },
        {
          "output_type": "stream",
          "text": [
            "2741\n",
            "(9840, 224)\n",
            "2742\n"
          ],
          "name": "stdout"
        },
        {
          "output_type": "stream",
          "text": [
            "\r 16%|█▌        | 549/3486 [04:02<41:24,  1.18it/s]"
          ],
          "name": "stderr"
        },
        {
          "output_type": "stream",
          "text": [
            "There are 7133446512player x questions pairs, tournament will be skipped\n",
            "2743\n",
            "(4770, 151)\n",
            "2744\n",
            "(1368, 74)\n",
            "2745\n"
          ],
          "name": "stdout"
        },
        {
          "output_type": "stream",
          "text": [
            " 16%|█▌        | 554/3486 [04:02<22:17,  2.19it/s]"
          ],
          "name": "stderr"
        },
        {
          "output_type": "stream",
          "text": [
            "There are 460605780player x questions pairs, tournament will be skipped\n",
            "2749\n",
            "There are 114673770player x questions pairs, tournament will be skipped\n",
            "2750\n",
            "(9360, 274)\n",
            "2751\n",
            "(8680, 257)\n"
          ],
          "name": "stdout"
        },
        {
          "output_type": "stream",
          "text": [
            " 16%|█▌        | 557/3486 [04:02<13:21,  3.66it/s]"
          ],
          "name": "stderr"
        },
        {
          "output_type": "stream",
          "text": [
            "2752\n",
            "(7360, 224)\n",
            "2753\n",
            "(7760, 234)\n",
            "2754\n",
            "(31536, 912)\n"
          ],
          "name": "stdout"
        },
        {
          "output_type": "stream",
          "text": [
            "\r 16%|█▌        | 558/3486 [04:04<34:53,  1.40it/s]"
          ],
          "name": "stderr"
        },
        {
          "output_type": "stream",
          "text": [
            "2756\n",
            "(40365, 942)\n"
          ],
          "name": "stdout"
        },
        {
          "output_type": "stream",
          "text": [
            " 16%|█▌        | 560/3486 [04:07<41:44,  1.17it/s]"
          ],
          "name": "stderr"
        },
        {
          "output_type": "stream",
          "text": [
            "2757\n",
            "There are 148626000player x questions pairs, tournament will be skipped\n",
            "2759\n",
            "(15120, 258)\n"
          ],
          "name": "stdout"
        },
        {
          "output_type": "stream",
          "text": [
            " 16%|█▌        | 563/3486 [04:07<23:07,  2.11it/s]"
          ],
          "name": "stderr"
        },
        {
          "output_type": "stream",
          "text": [
            "2761\n",
            "(7500, 185)\n",
            "2762\n",
            "(8760, 206)\n",
            "2763\n"
          ],
          "name": "stdout"
        },
        {
          "output_type": "stream",
          "text": [
            "\r 16%|█▌        | 564/3486 [04:07<17:52,  2.73it/s]"
          ],
          "name": "stderr"
        },
        {
          "output_type": "stream",
          "text": [
            "There are 121251600player x questions pairs, tournament will be skipped\n",
            "2764\n",
            "(16200, 330)\n"
          ],
          "name": "stdout"
        },
        {
          "output_type": "stream",
          "text": [
            " 16%|█▋        | 567/3486 [04:07<12:33,  3.87it/s]"
          ],
          "name": "stderr"
        },
        {
          "output_type": "stream",
          "text": [
            "2765\n",
            "(6975, 200)\n",
            "2769\n",
            "(8748, 279)\n",
            "2771\n"
          ],
          "name": "stdout"
        },
        {
          "output_type": "stream",
          "text": [
            "\r 16%|█▋        | 568/3486 [04:08<10:44,  4.53it/s]"
          ],
          "name": "stderr"
        },
        {
          "output_type": "stream",
          "text": [
            "There are 131946750player x questions pairs, tournament will be skipped\n",
            "2772\n",
            "(22200, 371)\n"
          ],
          "name": "stdout"
        },
        {
          "output_type": "stream",
          "text": [
            "\r 16%|█▋        | 569/3486 [04:08<12:52,  3.78it/s]"
          ],
          "name": "stderr"
        },
        {
          "output_type": "stream",
          "text": [
            "2774\n",
            "(7182, 213)\n",
            "2775\n",
            "(14760, 254)\n"
          ],
          "name": "stdout"
        },
        {
          "output_type": "stream",
          "text": [
            "\r 16%|█▋        | 571/3486 [04:08<10:45,  4.52it/s]"
          ],
          "name": "stderr"
        },
        {
          "output_type": "stream",
          "text": [
            "2776\n",
            "(46044, 1315)\n"
          ],
          "name": "stdout"
        },
        {
          "output_type": "stream",
          "text": [
            "\r 16%|█▋        | 572/3486 [04:12<1:05:57,  1.36s/it]"
          ],
          "name": "stderr"
        },
        {
          "output_type": "stream",
          "text": [
            "2777\n",
            "(5472, 188)\n",
            "2778\n",
            "(40464, 1160)\n"
          ],
          "name": "stdout"
        },
        {
          "output_type": "stream",
          "text": [
            " 17%|█▋        | 576/3486 [04:15<47:02,  1.03it/s]  "
          ],
          "name": "stderr"
        },
        {
          "output_type": "stream",
          "text": [
            "2779\n",
            "(1830, 91)\n",
            "2780\n",
            "(13392, 302)\n"
          ],
          "name": "stdout"
        },
        {
          "output_type": "stream",
          "text": [
            "\r 17%|█▋        | 578/3486 [04:15<34:02,  1.42it/s]"
          ],
          "name": "stderr"
        },
        {
          "output_type": "stream",
          "text": [
            "2781\n",
            "(2520, 101)\n",
            "2782\n",
            "There are 164545920player x questions pairs, tournament will be skipped\n",
            "2783\n",
            "There are 202069056player x questions pairs, tournament will be skipped\n",
            "2784\n",
            "(23328, 534)\n"
          ],
          "name": "stdout"
        },
        {
          "output_type": "stream",
          "text": [
            " 17%|█▋        | 581/3486 [04:16<23:07,  2.09it/s]"
          ],
          "name": "stderr"
        },
        {
          "output_type": "stream",
          "text": [
            "2785\n",
            "(17010, 279)\n",
            "2786\n",
            "(19044, 565)\n"
          ],
          "name": "stdout"
        },
        {
          "output_type": "stream",
          "text": [
            "\r 17%|█▋        | 582/3486 [04:17<25:18,  1.91it/s]"
          ],
          "name": "stderr"
        },
        {
          "output_type": "stream",
          "text": [
            "2787\n",
            "(53388, 1519)\n"
          ],
          "name": "stdout"
        },
        {
          "output_type": "stream",
          "text": [
            "\r 17%|█▋        | 583/3486 [04:22<1:32:44,  1.92s/it]"
          ],
          "name": "stderr"
        },
        {
          "output_type": "stream",
          "text": [
            "2788\n",
            "(44968, 1066)\n"
          ],
          "name": "stdout"
        },
        {
          "output_type": "stream",
          "text": [
            " 17%|█▋        | 585/3486 [04:25<1:18:28,  1.62s/it]"
          ],
          "name": "stderr"
        },
        {
          "output_type": "stream",
          "text": [
            "2789\n",
            "There are 387526932player x questions pairs, tournament will be skipped\n",
            "2790\n",
            "(42165, 982)\n"
          ],
          "name": "stdout"
        },
        {
          "output_type": "stream",
          "text": [
            "\r 17%|█▋        | 586/3486 [04:27<1:28:29,  1.83s/it]"
          ],
          "name": "stderr"
        },
        {
          "output_type": "stream",
          "text": [
            "2791\n",
            "(34818, 871)\n"
          ],
          "name": "stdout"
        },
        {
          "output_type": "stream",
          "text": [
            "\r 17%|█▋        | 587/3486 [04:29<1:27:10,  1.80s/it]"
          ],
          "name": "stderr"
        },
        {
          "output_type": "stream",
          "text": [
            "2792\n",
            "(2295, 96)\n",
            "2793\n",
            "(12894, 349)\n"
          ],
          "name": "stdout"
        },
        {
          "output_type": "stream",
          "text": [
            "\r 17%|█▋        | 589/3486 [04:29<1:02:46,  1.30s/it]"
          ],
          "name": "stderr"
        },
        {
          "output_type": "stream",
          "text": [
            "2794\n",
            "(8880, 208)\n",
            "2796\n",
            "(13200, 280)\n"
          ],
          "name": "stdout"
        },
        {
          "output_type": "stream",
          "text": [
            " 17%|█▋        | 592/3486 [04:30<34:46,  1.39it/s]"
          ],
          "name": "stderr"
        },
        {
          "output_type": "stream",
          "text": [
            "2797\n",
            "There are 408119040player x questions pairs, tournament will be skipped\n",
            "2798\n",
            "(5760, 168)\n",
            "2799\n",
            "(19050, 329)\n"
          ],
          "name": "stdout"
        },
        {
          "output_type": "stream",
          "text": [
            "\r 17%|█▋        | 594/3486 [04:30<26:55,  1.79it/s]"
          ],
          "name": "stderr"
        },
        {
          "output_type": "stream",
          "text": [
            "2800\n",
            "(7392, 202)\n",
            "2802\n",
            "(44595, 1036)\n"
          ],
          "name": "stdout"
        },
        {
          "output_type": "stream",
          "text": [
            "\r 17%|█▋        | 596/3486 [04:33<40:01,  1.20it/s]"
          ],
          "name": "stderr"
        },
        {
          "output_type": "stream",
          "text": [
            "2803\n",
            "(4896, 150)\n",
            "2804\n",
            "(13680, 349)\n"
          ],
          "name": "stdout"
        },
        {
          "output_type": "stream",
          "text": [
            " 17%|█▋        | 599/3486 [04:34<23:23,  2.06it/s]"
          ],
          "name": "stderr"
        },
        {
          "output_type": "stream",
          "text": [
            "2805\n",
            "(7632, 207)\n",
            "2806\n",
            "(7800, 190)\n"
          ],
          "name": "stdout"
        },
        {
          "output_type": "stream",
          "text": [
            "\r 17%|█▋        | 600/3486 [04:34<18:18,  2.63it/s]"
          ],
          "name": "stderr"
        },
        {
          "output_type": "stream",
          "text": [
            "2807\n",
            "(21024, 620)\n"
          ],
          "name": "stdout"
        },
        {
          "output_type": "stream",
          "text": [
            " 17%|█▋        | 602/3486 [04:35<21:51,  2.20it/s]"
          ],
          "name": "stderr"
        },
        {
          "output_type": "stream",
          "text": [
            "2808\n",
            "(8340, 199)\n",
            "2810\n",
            "(12690, 231)\n"
          ],
          "name": "stdout"
        },
        {
          "output_type": "stream",
          "text": [
            "\r 17%|█▋        | 603/3486 [04:35<18:21,  2.62it/s]"
          ],
          "name": "stderr"
        },
        {
          "output_type": "stream",
          "text": [
            "2811\n",
            "(3072, 112)\n",
            "2813\n",
            "(44940, 533)\n"
          ],
          "name": "stdout"
        },
        {
          "output_type": "stream",
          "text": [
            "\r 17%|█▋        | 605/3486 [04:37<23:14,  2.07it/s]"
          ],
          "name": "stderr"
        },
        {
          "output_type": "stream",
          "text": [
            "2814\n",
            "(36540, 857)\n"
          ],
          "name": "stdout"
        },
        {
          "output_type": "stream",
          "text": [
            "\r 17%|█▋        | 606/3486 [04:39<53:36,  1.12s/it]"
          ],
          "name": "stderr"
        },
        {
          "output_type": "stream",
          "text": [
            "2815\n",
            "(38400, 587)\n"
          ],
          "name": "stdout"
        },
        {
          "output_type": "stream",
          "text": [
            "\r 17%|█▋        | 607/3486 [04:40<55:25,  1.15s/it]"
          ],
          "name": "stderr"
        },
        {
          "output_type": "stream",
          "text": [
            "2816\n",
            "(16860, 341)\n"
          ],
          "name": "stdout"
        },
        {
          "output_type": "stream",
          "text": [
            " 17%|█▋        | 609/3486 [04:41<32:45,  1.46it/s]"
          ],
          "name": "stderr"
        },
        {
          "output_type": "stream",
          "text": [
            "2817\n",
            "There are 426741300player x questions pairs, tournament will be skipped\n",
            "2818\n",
            "(15120, 381)\n"
          ],
          "name": "stdout"
        },
        {
          "output_type": "stream",
          "text": [
            "\r 17%|█▋        | 610/3486 [04:41<26:46,  1.79it/s]"
          ],
          "name": "stderr"
        },
        {
          "output_type": "stream",
          "text": [
            "2819\n",
            "(39780, 929)\n"
          ],
          "name": "stdout"
        },
        {
          "output_type": "stream",
          "text": [
            " 18%|█▊        | 613/3486 [04:43<34:54,  1.37it/s]"
          ],
          "name": "stderr"
        },
        {
          "output_type": "stream",
          "text": [
            "2820\n",
            "(5232, 242)\n",
            "2822\n",
            "(4080, 133)\n",
            "2823\n",
            "(2256, 95)\n",
            "2824\n",
            "(17100, 511)\n"
          ],
          "name": "stdout"
        },
        {
          "output_type": "stream",
          "text": [
            " 18%|█▊        | 617/3486 [04:44<21:14,  2.25it/s]"
          ],
          "name": "stderr"
        },
        {
          "output_type": "stream",
          "text": [
            "2826\n",
            "(4200, 130)\n",
            "2827\n",
            "(14100, 241)\n",
            "2828\n",
            "(6960, 176)\n",
            "2829\n",
            "(31995, 756)\n"
          ],
          "name": "stdout"
        },
        {
          "output_type": "stream",
          "text": [
            "\r 18%|█▊        | 619/3486 [04:46<25:24,  1.88it/s]"
          ],
          "name": "stderr"
        },
        {
          "output_type": "stream",
          "text": [
            "2830\n",
            "(1476, 77)\n",
            "2831\n",
            "(1320, 74)\n",
            "2832\n",
            "(17850, 275)\n"
          ],
          "name": "stdout"
        },
        {
          "output_type": "stream",
          "text": [
            "\r 18%|█▊        | 622/3486 [04:46<19:03,  2.51it/s]"
          ],
          "name": "stderr"
        },
        {
          "output_type": "stream",
          "text": [
            "2833\n"
          ],
          "name": "stdout"
        },
        {
          "output_type": "stream",
          "text": [
            " 18%|█▊        | 625/3486 [04:46<13:07,  3.63it/s]"
          ],
          "name": "stderr"
        },
        {
          "output_type": "stream",
          "text": [
            "There are 1370985960player x questions pairs, tournament will be skipped\n",
            "2834\n",
            "There are 142022160player x questions pairs, tournament will be skipped\n",
            "2835\n",
            "(7350, 173)\n",
            "2836\n",
            "(6840, 309)\n"
          ],
          "name": "stdout"
        },
        {
          "output_type": "stream",
          "text": [
            " 18%|█▊        | 627/3486 [04:47<10:07,  4.71it/s]"
          ],
          "name": "stderr"
        },
        {
          "output_type": "stream",
          "text": [
            "2837\n",
            "(14475, 268)\n",
            "2838\n",
            "(2460, 101)\n",
            "2839\n",
            "(31050, 435)\n"
          ],
          "name": "stdout"
        },
        {
          "output_type": "stream",
          "text": [
            " 18%|█▊        | 631/3486 [04:47<09:15,  5.14it/s]"
          ],
          "name": "stderr"
        },
        {
          "output_type": "stream",
          "text": [
            "2840\n",
            "(3528, 134)\n",
            "2841\n",
            "(8340, 199)\n",
            "2842\n",
            "(7140, 212)\n",
            "2843\n",
            "(61380, 1439)\n"
          ],
          "name": "stdout"
        },
        {
          "output_type": "stream",
          "text": [
            " 18%|█▊        | 634/3486 [04:53<31:38,  1.50it/s]"
          ],
          "name": "stderr"
        },
        {
          "output_type": "stream",
          "text": [
            "2844\n",
            "(9660, 221)\n",
            "2847\n",
            "(13200, 251)\n"
          ],
          "name": "stdout"
        },
        {
          "output_type": "stream",
          "text": [
            "\r 18%|█▊        | 635/3486 [04:53<24:27,  1.94it/s]"
          ],
          "name": "stderr"
        },
        {
          "output_type": "stream",
          "text": [
            "2848\n",
            "(6240, 164)\n",
            "2849\n",
            "(26520, 703)\n"
          ],
          "name": "stdout"
        },
        {
          "output_type": "stream",
          "text": [
            " 18%|█▊        | 641/3486 [04:54<18:59,  2.50it/s]"
          ],
          "name": "stderr"
        },
        {
          "output_type": "stream",
          "text": [
            "2850\n",
            "(3420, 121)\n",
            "2851\n",
            "(1800, 99)\n",
            "2852\n",
            "(2088, 94)\n",
            "2853\n",
            "(3780, 141)\n",
            "2854\n",
            "(5184, 180)\n",
            "2855\n"
          ],
          "name": "stdout"
        },
        {
          "output_type": "stream",
          "text": [
            "\r 18%|█▊        | 643/3486 [04:55<15:21,  3.09it/s]"
          ],
          "name": "stderr"
        },
        {
          "output_type": "stream",
          "text": [
            "(14880, 308)\n",
            "2856\n",
            "(40950, 1017)\n"
          ],
          "name": "stdout"
        },
        {
          "output_type": "stream",
          "text": [
            "\r 19%|█▊        | 645/3486 [04:57<31:42,  1.49it/s]"
          ],
          "name": "stderr"
        },
        {
          "output_type": "stream",
          "text": [
            "2857\n",
            "There are 330282612player x questions pairs, tournament will be skipped\n",
            "2858\n"
          ],
          "name": "stdout"
        },
        {
          "output_type": "stream",
          "text": [
            "\r 19%|█▊        | 647/3486 [04:58<23:34,  2.01it/s]"
          ],
          "name": "stderr"
        },
        {
          "output_type": "stream",
          "text": [
            "There are 127666530player x questions pairs, tournament will be skipped\n",
            "2859\n",
            "There are 253942080player x questions pairs, tournament will be skipped\n",
            "2860\n",
            "(11700, 361)\n"
          ],
          "name": "stdout"
        },
        {
          "output_type": "stream",
          "text": [
            " 19%|█▊        | 650/3486 [04:58<15:02,  3.14it/s]"
          ],
          "name": "stderr"
        },
        {
          "output_type": "stream",
          "text": [
            "2861\n",
            "(4200, 145)\n",
            "2862\n",
            "(10404, 325)\n",
            "2863\n"
          ],
          "name": "stdout"
        },
        {
          "output_type": "stream",
          "text": [
            "\r 19%|█▊        | 651/3486 [04:58<12:06,  3.90it/s]"
          ],
          "name": "stderr"
        },
        {
          "output_type": "stream",
          "text": [
            "(10560, 236)\n",
            "2864\n",
            "(1830, 91)\n",
            "2865\n",
            "(2700, 105)\n",
            "2867\n",
            "(15975, 288)\n"
          ],
          "name": "stdout"
        },
        {
          "output_type": "stream",
          "text": [
            "\r 19%|█▉        | 654/3486 [04:58<09:46,  4.83it/s]"
          ],
          "name": "stderr"
        },
        {
          "output_type": "stream",
          "text": [
            "2868\n",
            "(1575, 80)\n",
            "2869\n",
            "(13464, 259)\n"
          ],
          "name": "stdout"
        },
        {
          "output_type": "stream",
          "text": [
            " 19%|█▉        | 658/3486 [04:59<06:47,  6.93it/s]"
          ],
          "name": "stderr"
        },
        {
          "output_type": "stream",
          "text": [
            "2870\n",
            "(2820, 107)\n",
            "2871\n",
            "(10680, 238)\n",
            "2872\n",
            "(4815, 152)\n",
            "2873\n",
            "(40968, 1174)\n"
          ],
          "name": "stdout"
        },
        {
          "output_type": "stream",
          "text": [
            "\r 19%|█▉        | 660/3486 [05:02<28:17,  1.66it/s]"
          ],
          "name": "stderr"
        },
        {
          "output_type": "stream",
          "text": [
            "2874\n",
            "(4020, 127)\n",
            "2875\n",
            "(1080, 66)\n",
            "2877\n",
            "(15660, 264)\n"
          ],
          "name": "stdout"
        },
        {
          "output_type": "stream",
          "text": [
            "\r 19%|█▉        | 663/3486 [05:02<20:53,  2.25it/s]"
          ],
          "name": "stderr"
        },
        {
          "output_type": "stream",
          "text": [
            "2880\n",
            "(2376, 102)\n",
            "2881\n"
          ],
          "name": "stdout"
        },
        {
          "output_type": "stream",
          "text": [
            "\r 19%|█▉        | 665/3486 [05:03<16:50,  2.79it/s]"
          ],
          "name": "stderr"
        },
        {
          "output_type": "stream",
          "text": [
            "There are 1244741190player x questions pairs, tournament will be skipped\n",
            "2882\n",
            "(5292, 221)\n",
            "2883\n",
            "(24768, 416)\n"
          ],
          "name": "stdout"
        },
        {
          "output_type": "stream",
          "text": [
            " 19%|█▉        | 668/3486 [05:03<12:25,  3.78it/s]"
          ],
          "name": "stderr"
        },
        {
          "output_type": "stream",
          "text": [
            "2884\n",
            "There are 121932480player x questions pairs, tournament will be skipped\n",
            "2885\n",
            "(4704, 146)\n",
            "2886\n",
            "(7992, 257)\n"
          ],
          "name": "stdout"
        },
        {
          "output_type": "stream",
          "text": [
            "\r 19%|█▉        | 670/3486 [05:03<09:38,  4.87it/s]"
          ],
          "name": "stderr"
        },
        {
          "output_type": "stream",
          "text": [
            "2889\n",
            "(35010, 823)\n"
          ],
          "name": "stdout"
        },
        {
          "output_type": "stream",
          "text": [
            "\r 19%|█▉        | 671/3486 [05:05<34:11,  1.37it/s]"
          ],
          "name": "stderr"
        },
        {
          "output_type": "stream",
          "text": [
            "2890\n",
            "(3150, 115)\n",
            "2891\n",
            "(4998, 161)\n",
            "2892\n"
          ],
          "name": "stdout"
        },
        {
          "output_type": "stream",
          "text": [
            "\r 19%|█▉        | 674/3486 [05:06<25:10,  1.86it/s]"
          ],
          "name": "stderr"
        },
        {
          "output_type": "stream",
          "text": [
            "There are 410531130player x questions pairs, tournament will be skipped\n",
            "2893\n",
            "(23925, 394)\n"
          ],
          "name": "stdout"
        },
        {
          "output_type": "stream",
          "text": [
            "\r 19%|█▉        | 675/3486 [05:06<23:37,  1.98it/s]"
          ],
          "name": "stderr"
        },
        {
          "output_type": "stream",
          "text": [
            "2894\n",
            "(23775, 392)\n"
          ],
          "name": "stdout"
        },
        {
          "output_type": "stream",
          "text": [
            "\r 19%|█▉        | 676/3486 [05:07<22:30,  2.08it/s]"
          ],
          "name": "stderr"
        },
        {
          "output_type": "stream",
          "text": [
            "2895\n",
            "(18612, 553)\n"
          ],
          "name": "stdout"
        },
        {
          "output_type": "stream",
          "text": [
            " 19%|█▉        | 678/3486 [05:07<18:28,  2.53it/s]"
          ],
          "name": "stderr"
        },
        {
          "output_type": "stream",
          "text": [
            "2896\n",
            "There are 224089236player x questions pairs, tournament will be skipped\n",
            "2898\n",
            "(24120, 407)\n"
          ],
          "name": "stdout"
        },
        {
          "output_type": "stream",
          "text": [
            " 20%|█▉        | 680/3486 [05:08<15:22,  3.04it/s]"
          ],
          "name": "stderr"
        },
        {
          "output_type": "stream",
          "text": [
            "2899\n",
            "There are 167163750player x questions pairs, tournament will be skipped\n",
            "2900\n",
            "(9308, 231)\n"
          ],
          "name": "stdout"
        },
        {
          "output_type": "stream",
          "text": [
            "\r 20%|█▉        | 682/3486 [05:08<12:49,  3.64it/s]"
          ],
          "name": "stderr"
        },
        {
          "output_type": "stream",
          "text": [
            "2901\n",
            "(11745, 306)\n",
            "2902\n"
          ],
          "name": "stdout"
        },
        {
          "output_type": "stream",
          "text": [
            "\r 20%|█▉        | 683/3486 [05:08<12:18,  3.79it/s]"
          ],
          "name": "stderr"
        },
        {
          "output_type": "stream",
          "text": [
            "(13590, 347)\n",
            "2903\n"
          ],
          "name": "stdout"
        },
        {
          "output_type": "stream",
          "text": [
            "\r 20%|█▉        | 684/3486 [05:08<10:15,  4.55it/s]"
          ],
          "name": "stderr"
        },
        {
          "output_type": "stream",
          "text": [
            "(10680, 238)\n",
            "2904\n"
          ],
          "name": "stdout"
        },
        {
          "output_type": "stream",
          "text": [
            "\r 20%|█▉        | 685/3486 [05:09<09:07,  5.12it/s]"
          ],
          "name": "stderr"
        },
        {
          "output_type": "stream",
          "text": [
            "There are 153906480player x questions pairs, tournament will be skipped\n",
            "2905\n",
            "(19620, 387)\n"
          ],
          "name": "stdout"
        },
        {
          "output_type": "stream",
          "text": [
            "\r 20%|█▉        | 686/3486 [05:09<11:59,  3.89it/s]"
          ],
          "name": "stderr"
        },
        {
          "output_type": "stream",
          "text": [
            "2906\n",
            "(58005, 1334)\n"
          ],
          "name": "stdout"
        },
        {
          "output_type": "stream",
          "text": [
            "\r 20%|█▉        | 687/3486 [05:14<1:14:44,  1.60s/it]"
          ],
          "name": "stderr"
        },
        {
          "output_type": "stream",
          "text": [
            "2907\n",
            "(18900, 465)\n"
          ],
          "name": "stdout"
        },
        {
          "output_type": "stream",
          "text": [
            "\r 20%|█▉        | 688/3486 [05:14<59:13,  1.27s/it]  "
          ],
          "name": "stderr"
        },
        {
          "output_type": "stream",
          "text": [
            "2908\n",
            "(20925, 510)\n"
          ],
          "name": "stdout"
        },
        {
          "output_type": "stream",
          "text": [
            " 20%|█▉        | 690/3486 [05:15<37:15,  1.25it/s]"
          ],
          "name": "stderr"
        },
        {
          "output_type": "stream",
          "text": [
            "2909\n",
            "(10080, 228)\n",
            "2910\n"
          ],
          "name": "stdout"
        },
        {
          "output_type": "stream",
          "text": [
            " 20%|█▉        | 692/3486 [05:15<22:43,  2.05it/s]"
          ],
          "name": "stderr"
        },
        {
          "output_type": "stream",
          "text": [
            "There are 825286320player x questions pairs, tournament will be skipped\n",
            "2911\n",
            "There are 735157332player x questions pairs, tournament will be skipped\n",
            "2912\n"
          ],
          "name": "stdout"
        },
        {
          "output_type": "stream",
          "text": [
            " 20%|█▉        | 694/3486 [05:16<14:42,  3.16it/s]"
          ],
          "name": "stderr"
        },
        {
          "output_type": "stream",
          "text": [
            "There are 649932372player x questions pairs, tournament will be skipped\n",
            "2913\n",
            "There are 480650112player x questions pairs, tournament will be skipped\n",
            "2914\n"
          ],
          "name": "stdout"
        },
        {
          "output_type": "stream",
          "text": [
            "\r 20%|█▉        | 695/3486 [05:16<12:26,  3.74it/s]"
          ],
          "name": "stderr"
        },
        {
          "output_type": "stream",
          "text": [
            "There are 564811092player x questions pairs, tournament will be skipped\n",
            "2915\n",
            "(3456, 120)\n",
            "2916\n",
            "(4500, 140)\n",
            "2917\n",
            "(10260, 231)\n"
          ],
          "name": "stdout"
        },
        {
          "output_type": "stream",
          "text": [
            "\r 20%|██        | 698/3486 [05:16<09:36,  4.84it/s]"
          ],
          "name": "stderr"
        },
        {
          "output_type": "stream",
          "text": [
            "2918\n",
            "(16920, 342)\n"
          ],
          "name": "stdout"
        },
        {
          "output_type": "stream",
          "text": [
            "\r 20%|██        | 699/3486 [05:16<10:50,  4.28it/s]"
          ],
          "name": "stderr"
        },
        {
          "output_type": "stream",
          "text": [
            "2919\n",
            "(3060, 121)\n",
            "2920\n",
            "(4128, 134)\n",
            "2922\n",
            "(31050, 735)\n"
          ],
          "name": "stdout"
        },
        {
          "output_type": "stream",
          "text": [
            "\r 20%|██        | 702/3486 [05:18<14:10,  3.27it/s]"
          ],
          "name": "stderr"
        },
        {
          "output_type": "stream",
          "text": [
            "2923\n",
            "(32340, 812)\n"
          ],
          "name": "stdout"
        },
        {
          "output_type": "stream",
          "text": [
            " 20%|██        | 705/3486 [05:19<22:15,  2.08it/s]"
          ],
          "name": "stderr"
        },
        {
          "output_type": "stream",
          "text": [
            "2924\n",
            "(3510, 123)\n",
            "2925\n",
            "(7380, 209)\n",
            "2926\n",
            "(13275, 252)\n"
          ],
          "name": "stdout"
        },
        {
          "output_type": "stream",
          "text": [
            "\r 20%|██        | 706/3486 [05:19<17:38,  2.63it/s]"
          ],
          "name": "stderr"
        },
        {
          "output_type": "stream",
          "text": [
            "2927\n",
            "(2412, 103)\n",
            "2928\n",
            "(24804, 725)\n"
          ],
          "name": "stdout"
        },
        {
          "output_type": "stream",
          "text": [
            " 20%|██        | 709/3486 [05:21<16:54,  2.74it/s]"
          ],
          "name": "stderr"
        },
        {
          "output_type": "stream",
          "text": [
            "2929\n",
            "There are 154196328player x questions pairs, tournament will be skipped\n",
            "2930\n",
            "(51165, 1182)\n"
          ],
          "name": "stdout"
        },
        {
          "output_type": "stream",
          "text": [
            "\r 20%|██        | 710/3486 [05:25<1:03:05,  1.36s/it]"
          ],
          "name": "stderr"
        },
        {
          "output_type": "stream",
          "text": [
            "2931\n",
            "(54956, 1293)\n"
          ],
          "name": "stdout"
        },
        {
          "output_type": "stream",
          "text": [
            "\r 20%|██        | 711/3486 [05:29<1:40:37,  2.18s/it]"
          ],
          "name": "stderr"
        },
        {
          "output_type": "stream",
          "text": [
            "2932\n",
            "(50940, 1177)\n"
          ],
          "name": "stdout"
        },
        {
          "output_type": "stream",
          "text": [
            "\r 20%|██        | 712/3486 [05:32<2:00:21,  2.60s/it]"
          ],
          "name": "stderr"
        },
        {
          "output_type": "stream",
          "text": [
            "2933\n",
            "(54810, 1263)\n"
          ],
          "name": "stdout"
        },
        {
          "output_type": "stream",
          "text": [
            "\r 20%|██        | 713/3486 [05:36<2:18:05,  2.99s/it]"
          ],
          "name": "stderr"
        },
        {
          "output_type": "stream",
          "text": [
            "2934\n",
            "(44550, 1035)\n"
          ],
          "name": "stdout"
        },
        {
          "output_type": "stream",
          "text": [
            "\r 20%|██        | 714/3486 [05:39<2:16:21,  2.95s/it]"
          ],
          "name": "stderr"
        },
        {
          "output_type": "stream",
          "text": [
            "2935\n",
            "(27900, 665)\n"
          ],
          "name": "stdout"
        },
        {
          "output_type": "stream",
          "text": [
            "\r 21%|██        | 715/3486 [05:40<1:49:13,  2.36s/it]"
          ],
          "name": "stderr"
        },
        {
          "output_type": "stream",
          "text": [
            "2936\n",
            "(31455, 744)\n"
          ],
          "name": "stdout"
        },
        {
          "output_type": "stream",
          "text": [
            " 21%|██        | 718/3486 [05:42<1:07:36,  1.47s/it]"
          ],
          "name": "stderr"
        },
        {
          "output_type": "stream",
          "text": [
            "2938\n",
            "(672, 52)\n",
            "2939\n",
            "(11808, 236)\n",
            "2940\n",
            "(51912, 1478)\n"
          ],
          "name": "stdout"
        },
        {
          "output_type": "stream",
          "text": [
            "\r 21%|██        | 719/3486 [05:47<1:59:23,  2.59s/it]"
          ],
          "name": "stderr"
        },
        {
          "output_type": "stream",
          "text": [
            "2941\n",
            "(29196, 847)\n"
          ],
          "name": "stdout"
        },
        {
          "output_type": "stream",
          "text": [
            "\r 21%|██        | 720/3486 [05:48<1:46:38,  2.31s/it]"
          ],
          "name": "stderr"
        },
        {
          "output_type": "stream",
          "text": [
            "2942\n",
            "(27684, 805)\n"
          ],
          "name": "stdout"
        },
        {
          "output_type": "stream",
          "text": [
            "\r 21%|██        | 721/3486 [05:50<1:33:13,  2.02s/it]"
          ],
          "name": "stderr"
        },
        {
          "output_type": "stream",
          "text": [
            "2943\n",
            "(18216, 542)\n"
          ],
          "name": "stdout"
        },
        {
          "output_type": "stream",
          "text": [
            "\r 21%|██        | 722/3486 [05:50<1:13:07,  1.59s/it]"
          ],
          "name": "stderr"
        },
        {
          "output_type": "stream",
          "text": [
            "2945\n",
            "(19620, 308)\n"
          ],
          "name": "stdout"
        },
        {
          "output_type": "stream",
          "text": [
            "\r 21%|██        | 723/3486 [05:51<55:34,  1.21s/it]  "
          ],
          "name": "stderr"
        },
        {
          "output_type": "stream",
          "text": [
            "2946\n",
            "(24030, 357)\n"
          ],
          "name": "stdout"
        },
        {
          "output_type": "stream",
          "text": [
            "\r 21%|██        | 724/3486 [05:51<44:34,  1.03it/s]"
          ],
          "name": "stderr"
        },
        {
          "output_type": "stream",
          "text": [
            "2947\n",
            "(20664, 359)\n"
          ],
          "name": "stdout"
        },
        {
          "output_type": "stream",
          "text": [
            "\r 21%|██        | 725/3486 [05:51<36:14,  1.27it/s]"
          ],
          "name": "stderr"
        },
        {
          "output_type": "stream",
          "text": [
            "2948\n",
            "(4788, 169)\n",
            "2949\n",
            "(18096, 425)\n"
          ],
          "name": "stdout"
        },
        {
          "output_type": "stream",
          "text": [
            "\r 21%|██        | 727/3486 [05:52<28:44,  1.60it/s]"
          ],
          "name": "stderr"
        },
        {
          "output_type": "stream",
          "text": [
            "2950\n",
            "(3492, 133)\n",
            "2951\n",
            "(15768, 474)\n"
          ],
          "name": "stdout"
        },
        {
          "output_type": "stream",
          "text": [
            " 21%|██        | 731/3486 [05:53<17:05,  2.69it/s]"
          ],
          "name": "stderr"
        },
        {
          "output_type": "stream",
          "text": [
            "2952\n",
            "(4860, 171)\n",
            "2953\n",
            "(6696, 222)\n",
            "2954\n",
            "(10512, 328)\n"
          ],
          "name": "stdout"
        },
        {
          "output_type": "stream",
          "text": [
            "\r 21%|██        | 732/3486 [05:53<14:30,  3.16it/s]"
          ],
          "name": "stderr"
        },
        {
          "output_type": "stream",
          "text": [
            "2955\n",
            "(23436, 600)\n"
          ],
          "name": "stdout"
        },
        {
          "output_type": "stream",
          "text": [
            " 21%|██        | 734/3486 [05:54<15:59,  2.87it/s]"
          ],
          "name": "stderr"
        },
        {
          "output_type": "stream",
          "text": [
            "2956\n",
            "(13440, 284)\n",
            "2957\n",
            "(2412, 103)\n",
            "2958\n",
            "(5700, 155)\n",
            "2960\n"
          ],
          "name": "stdout"
        },
        {
          "output_type": "stream",
          "text": [
            "\r 21%|██        | 737/3486 [05:54<12:57,  3.54it/s]"
          ],
          "name": "stderr"
        },
        {
          "output_type": "stream",
          "text": [
            "There are 1373852352player x questions pairs, tournament will be skipped\n",
            "2961\n"
          ],
          "name": "stdout"
        },
        {
          "output_type": "stream",
          "text": [
            " 21%|██        | 739/3486 [05:54<09:47,  4.68it/s]"
          ],
          "name": "stderr"
        },
        {
          "output_type": "stream",
          "text": [
            "There are 1250600832player x questions pairs, tournament will be skipped\n",
            "2962\n",
            "There are 214719030player x questions pairs, tournament will be skipped\n",
            "2963\n",
            "(3456, 132)\n",
            "2964\n",
            "(2928, 109)\n",
            "2965\n",
            "(11280, 248)\n"
          ],
          "name": "stdout"
        },
        {
          "output_type": "stream",
          "text": [
            "\r 21%|██▏       | 742/3486 [05:54<07:42,  5.93it/s]"
          ],
          "name": "stderr"
        },
        {
          "output_type": "stream",
          "text": [
            "2966\n",
            "(2295, 96)\n",
            "2967\n",
            "(2700, 105)\n",
            "2968\n",
            "(42336, 1212)\n"
          ],
          "name": "stdout"
        },
        {
          "output_type": "stream",
          "text": [
            "\r 21%|██▏       | 745/3486 [05:57<18:47,  2.43it/s]"
          ],
          "name": "stderr"
        },
        {
          "output_type": "stream",
          "text": [
            "2969\n",
            "(29844, 865)\n"
          ],
          "name": "stdout"
        },
        {
          "output_type": "stream",
          "text": [
            "\r 21%|██▏       | 746/3486 [05:59<37:50,  1.21it/s]"
          ],
          "name": "stderr"
        },
        {
          "output_type": "stream",
          "text": [
            "2971\n",
            "(5232, 157)\n",
            "2972\n",
            "(40320, 1002)\n"
          ],
          "name": "stdout"
        },
        {
          "output_type": "stream",
          "text": [
            "\r 21%|██▏       | 748/3486 [06:02<44:30,  1.03it/s]"
          ],
          "name": "stderr"
        },
        {
          "output_type": "stream",
          "text": [
            "2973\n"
          ],
          "name": "stdout"
        },
        {
          "output_type": "stream",
          "text": [
            "\r 21%|██▏       | 749/3486 [06:05<1:08:45,  1.51s/it]"
          ],
          "name": "stderr"
        },
        {
          "output_type": "stream",
          "text": [
            "(43218, 1071)\n",
            "2974\n",
            "(55230, 1357)\n"
          ],
          "name": "stdout"
        },
        {
          "output_type": "stream",
          "text": [
            "\r 22%|██▏       | 750/3486 [06:09<1:55:34,  2.53s/it]"
          ],
          "name": "stderr"
        },
        {
          "output_type": "stream",
          "text": [
            "2975\n",
            "(42210, 1047)\n"
          ],
          "name": "stdout"
        },
        {
          "output_type": "stream",
          "text": [
            "\r 22%|██▏       | 751/3486 [06:12<1:53:57,  2.50s/it]"
          ],
          "name": "stderr"
        },
        {
          "output_type": "stream",
          "text": [
            "2976\n",
            "(36372, 908)\n"
          ],
          "name": "stdout"
        },
        {
          "output_type": "stream",
          "text": [
            "\r 22%|██▏       | 752/3486 [06:14<1:45:04,  2.31s/it]"
          ],
          "name": "stderr"
        },
        {
          "output_type": "stream",
          "text": [
            "2977\n",
            "(35700, 892)\n"
          ],
          "name": "stdout"
        },
        {
          "output_type": "stream",
          "text": [
            " 22%|██▏       | 755/3486 [06:16<1:11:17,  1.57s/it]"
          ],
          "name": "stderr"
        },
        {
          "output_type": "stream",
          "text": [
            "2978\n",
            "(5640, 154)\n",
            "2979\n",
            "(9840, 224)\n",
            "3015\n",
            "(11565, 302)\n"
          ],
          "name": "stdout"
        },
        {
          "output_type": "stream",
          "text": [
            " 22%|██▏       | 759/3486 [06:16<37:10,  1.22it/s]"
          ],
          "name": "stderr"
        },
        {
          "output_type": "stream",
          "text": [
            "3016\n",
            "(2160, 96)\n",
            "3017\n",
            "(6000, 160)\n",
            "3018\n",
            "(4752, 168)\n",
            "3019\n",
            "(46080, 1316)\n",
            "3020\n",
            "(36828, 1059)\n"
          ],
          "name": "stdout"
        },
        {
          "output_type": "stream",
          "text": [
            "\r 22%|██▏       | 761/3486 [06:23<1:10:21,  1.55s/it]"
          ],
          "name": "stderr"
        },
        {
          "output_type": "stream",
          "text": [
            "3021\n",
            "(2664, 110)\n",
            "3023\n",
            "(15732, 473)\n"
          ],
          "name": "stdout"
        },
        {
          "output_type": "stream",
          "text": [
            "\r 22%|██▏       | 763/3486 [06:23<52:07,  1.15s/it]  "
          ],
          "name": "stderr"
        },
        {
          "output_type": "stream",
          "text": [
            "3024\n",
            "(30525, 482)\n"
          ],
          "name": "stdout"
        },
        {
          "output_type": "stream",
          "text": [
            "\r 22%|██▏       | 764/3486 [06:24<46:57,  1.04s/it]"
          ],
          "name": "stderr"
        },
        {
          "output_type": "stream",
          "text": [
            "3025\n",
            "(7452, 243)\n",
            "3026\n",
            "(19620, 581)\n"
          ],
          "name": "stdout"
        },
        {
          "output_type": "stream",
          "text": [
            "\r 22%|██▏       | 766/3486 [06:25<38:20,  1.18it/s]"
          ],
          "name": "stderr"
        },
        {
          "output_type": "stream",
          "text": [
            "3027\n",
            "(24390, 587)\n"
          ],
          "name": "stdout"
        },
        {
          "output_type": "stream",
          "text": [
            " 22%|██▏       | 768/3486 [06:26<28:58,  1.56it/s]"
          ],
          "name": "stderr"
        },
        {
          "output_type": "stream",
          "text": [
            "3028\n",
            "(11220, 247)\n",
            "3029\n",
            "(10944, 276)\n"
          ],
          "name": "stdout"
        },
        {
          "output_type": "stream",
          "text": [
            " 22%|██▏       | 770/3486 [06:26<18:09,  2.49it/s]"
          ],
          "name": "stderr"
        },
        {
          "output_type": "stream",
          "text": [
            "3031\n",
            "(11628, 359)\n",
            "3032\n"
          ],
          "name": "stdout"
        },
        {
          "output_type": "stream",
          "text": [
            "\r 22%|██▏       | 771/3486 [06:26<14:37,  3.10it/s]"
          ],
          "name": "stderr"
        },
        {
          "output_type": "stream",
          "text": [
            "There are 224268912player x questions pairs, tournament will be skipped\n",
            "3033\n",
            "(8112, 217)\n",
            "3034\n",
            "(47556, 1357)\n"
          ],
          "name": "stdout"
        },
        {
          "output_type": "stream",
          "text": [
            "\r 22%|██▏       | 773/3486 [06:31<39:29,  1.14it/s]"
          ],
          "name": "stderr"
        },
        {
          "output_type": "stream",
          "text": [
            "3035\n",
            "(4545, 146)\n",
            "3036\n",
            "(22950, 555)\n"
          ],
          "name": "stdout"
        },
        {
          "output_type": "stream",
          "text": [
            " 22%|██▏       | 777/3486 [06:31<24:03,  1.88it/s]"
          ],
          "name": "stderr"
        },
        {
          "output_type": "stream",
          "text": [
            "3037\n",
            "(2664, 110)\n",
            "3038\n",
            "(9135, 248)\n",
            "3039\n",
            "(11460, 251)\n"
          ],
          "name": "stdout"
        },
        {
          "output_type": "stream",
          "text": [
            "\r 22%|██▏       | 778/3486 [06:32<18:47,  2.40it/s]"
          ],
          "name": "stderr"
        },
        {
          "output_type": "stream",
          "text": [
            "3040\n",
            "(47385, 1098)\n"
          ],
          "name": "stdout"
        },
        {
          "output_type": "stream",
          "text": [
            "\r 22%|██▏       | 779/3486 [06:34<51:17,  1.14s/it]"
          ],
          "name": "stderr"
        },
        {
          "output_type": "stream",
          "text": [
            "3041\n",
            "(25920, 492)\n"
          ],
          "name": "stdout"
        },
        {
          "output_type": "stream",
          "text": [
            "\r 22%|██▏       | 780/3486 [06:35<43:54,  1.03it/s]"
          ],
          "name": "stderr"
        },
        {
          "output_type": "stream",
          "text": [
            "3044\n",
            "(47640, 1231)\n"
          ],
          "name": "stdout"
        },
        {
          "output_type": "stream",
          "text": [
            "\r 22%|██▏       | 781/3486 [06:39<1:27:39,  1.94s/it]"
          ],
          "name": "stderr"
        },
        {
          "output_type": "stream",
          "text": [
            "3045\n",
            "(5628, 176)\n",
            "3046\n",
            "(21420, 328)\n"
          ],
          "name": "stdout"
        },
        {
          "output_type": "stream",
          "text": [
            "\r 22%|██▏       | 783/3486 [06:40<1:03:55,  1.42s/it]"
          ],
          "name": "stderr"
        },
        {
          "output_type": "stream",
          "text": [
            "3047\n",
            "(1584, 81)\n",
            "3048\n",
            "(2976, 110)\n",
            "3049\n",
            "(50292, 1433)\n"
          ],
          "name": "stdout"
        },
        {
          "output_type": "stream",
          "text": [
            " 23%|██▎       | 787/3486 [06:45<47:58,  1.07s/it]  "
          ],
          "name": "stderr"
        },
        {
          "output_type": "stream",
          "text": [
            "3050\n",
            "(8028, 259)\n",
            "3051\n",
            "(6120, 206)\n",
            "3053\n",
            "(5040, 176)\n"
          ],
          "name": "stdout"
        },
        {
          "output_type": "stream",
          "text": [
            "\r 23%|██▎       | 789/3486 [06:45<34:20,  1.31it/s]"
          ],
          "name": "stderr"
        },
        {
          "output_type": "stream",
          "text": [
            "3054\n",
            "(14400, 365)\n"
          ],
          "name": "stdout"
        },
        {
          "output_type": "stream",
          "text": [
            "\r 23%|██▎       | 790/3486 [06:45<27:50,  1.61it/s]"
          ],
          "name": "stderr"
        },
        {
          "output_type": "stream",
          "text": [
            "3055\n",
            "(3816, 142)\n",
            "3056\n",
            "(2232, 98)\n",
            "3057\n",
            "(3240, 126)\n",
            "3059\n",
            "(98580, 677)\n"
          ],
          "name": "stdout"
        },
        {
          "output_type": "stream",
          "text": [
            "\r 23%|██▎       | 794/3486 [06:48<29:26,  1.52it/s]"
          ],
          "name": "stderr"
        },
        {
          "output_type": "stream",
          "text": [
            "3060\n",
            "(3744, 126)\n",
            "3061\n",
            "(2880, 116)\n",
            "3062\n",
            "(13464, 410)\n"
          ],
          "name": "stdout"
        },
        {
          "output_type": "stream",
          "text": [
            "\r 23%|██▎       | 797/3486 [06:48<21:58,  2.04it/s]"
          ],
          "name": "stderr"
        },
        {
          "output_type": "stream",
          "text": [
            "3063\n",
            "(16380, 491)\n"
          ],
          "name": "stdout"
        },
        {
          "output_type": "stream",
          "text": [
            " 23%|██▎       | 799/3486 [06:49<17:38,  2.54it/s]"
          ],
          "name": "stderr"
        },
        {
          "output_type": "stream",
          "text": [
            "3064\n",
            "There are 161012124player x questions pairs, tournament will be skipped\n",
            "3066\n",
            "(7092, 233)\n",
            "3067\n"
          ],
          "name": "stdout"
        },
        {
          "output_type": "stream",
          "text": [
            "\r 23%|██▎       | 801/3486 [06:49<14:14,  3.14it/s]"
          ],
          "name": "stderr"
        },
        {
          "output_type": "stream",
          "text": [
            "(11880, 366)\n",
            "3068\n",
            "(37125, 410)\n"
          ],
          "name": "stdout"
        },
        {
          "output_type": "stream",
          "text": [
            "\r 23%|██▎       | 802/3486 [06:50<20:52,  2.14it/s]"
          ],
          "name": "stderr"
        },
        {
          "output_type": "stream",
          "text": [
            "3069\n",
            "(35685, 838)\n"
          ],
          "name": "stdout"
        },
        {
          "output_type": "stream",
          "text": [
            "\r 23%|██▎       | 803/3486 [06:52<36:31,  1.22it/s]"
          ],
          "name": "stderr"
        },
        {
          "output_type": "stream",
          "text": [
            "3070\n"
          ],
          "name": "stdout"
        },
        {
          "output_type": "stream",
          "text": [
            " 23%|██▎       | 805/3486 [06:53<28:52,  1.55it/s]"
          ],
          "name": "stderr"
        },
        {
          "output_type": "stream",
          "text": [
            "There are 9859810752player x questions pairs, tournament will be skipped\n",
            "3071\n",
            "(11664, 222)\n",
            "3072\n",
            "(5490, 167)\n",
            "3073\n",
            "(20760, 406)\n"
          ],
          "name": "stdout"
        },
        {
          "output_type": "stream",
          "text": [
            "\r 23%|██▎       | 807/3486 [06:53<23:24,  1.91it/s]"
          ],
          "name": "stderr"
        },
        {
          "output_type": "stream",
          "text": [
            "3074\n",
            "(29160, 693)\n"
          ],
          "name": "stdout"
        },
        {
          "output_type": "stream",
          "text": [
            "\r 23%|██▎       | 808/3486 [06:54<31:52,  1.40it/s]"
          ],
          "name": "stderr"
        },
        {
          "output_type": "stream",
          "text": [
            "3075\n",
            "(17100, 303)\n"
          ],
          "name": "stdout"
        },
        {
          "output_type": "stream",
          "text": [
            " 23%|██▎       | 810/3486 [06:55<19:50,  2.25it/s]"
          ],
          "name": "stderr"
        },
        {
          "output_type": "stream",
          "text": [
            "3078\n",
            "(11100, 245)\n",
            "3079\n",
            "(8700, 205)\n"
          ],
          "name": "stdout"
        },
        {
          "output_type": "stream",
          "text": [
            " 23%|██▎       | 813/3486 [06:55<12:02,  3.70it/s]"
          ],
          "name": "stderr"
        },
        {
          "output_type": "stream",
          "text": [
            "3080\n",
            "(3780, 132)\n",
            "3081\n",
            "There are 119317770player x questions pairs, tournament will be skipped\n",
            "3082\n",
            "(22320, 338)\n"
          ],
          "name": "stdout"
        },
        {
          "output_type": "stream",
          "text": [
            "\r 23%|██▎       | 814/3486 [06:55<12:49,  3.47it/s]"
          ],
          "name": "stderr"
        },
        {
          "output_type": "stream",
          "text": [
            "3083\n",
            "(1188, 69)\n",
            "3084\n",
            "(16260, 331)\n"
          ],
          "name": "stdout"
        },
        {
          "output_type": "stream",
          "text": [
            "\r 23%|██▎       | 816/3486 [06:56<10:49,  4.11it/s]"
          ],
          "name": "stderr"
        },
        {
          "output_type": "stream",
          "text": [
            "3085\n",
            "(3060, 121)\n",
            "3086\n",
            "(29160, 414)\n"
          ],
          "name": "stdout"
        },
        {
          "output_type": "stream",
          "text": [
            "\r 23%|██▎       | 818/3486 [06:56<11:33,  3.85it/s]"
          ],
          "name": "stderr"
        },
        {
          "output_type": "stream",
          "text": [
            "3087\n",
            "(1224, 70)\n",
            "3088\n",
            "(23715, 572)\n"
          ],
          "name": "stdout"
        },
        {
          "output_type": "stream",
          "text": [
            " 24%|██▎       | 822/3486 [06:57<09:53,  4.49it/s]"
          ],
          "name": "stderr"
        },
        {
          "output_type": "stream",
          "text": [
            "3089\n",
            "(3190, 167)\n",
            "3090\n",
            "(7344, 240)\n",
            "3091\n",
            "(6540, 169)\n",
            "3093\n",
            "(2484, 105)\n"
          ],
          "name": "stdout"
        },
        {
          "output_type": "stream",
          "text": [
            "\r 24%|██▎       | 825/3486 [06:57<07:22,  6.01it/s]"
          ],
          "name": "stderr"
        },
        {
          "output_type": "stream",
          "text": [
            "3094\n",
            "(2520, 106)\n",
            "3095\n",
            "(13968, 266)\n",
            "3096\n",
            "(1872, 88)\n"
          ],
          "name": "stdout"
        },
        {
          "output_type": "stream",
          "text": [
            "\r 24%|██▎       | 827/3486 [06:57<06:26,  6.89it/s]"
          ],
          "name": "stderr"
        },
        {
          "output_type": "stream",
          "text": [
            "3097\n",
            "(1944, 90)\n",
            "3099\n",
            "(43380, 572)\n"
          ],
          "name": "stdout"
        },
        {
          "output_type": "stream",
          "text": [
            "\r 24%|██▍       | 829/3486 [06:59<12:39,  3.50it/s]"
          ],
          "name": "stderr"
        },
        {
          "output_type": "stream",
          "text": [
            "3100\n",
            "(15000, 310)\n"
          ],
          "name": "stdout"
        },
        {
          "output_type": "stream",
          "text": [
            " 24%|██▍       | 832/3486 [06:59<10:15,  4.32it/s]"
          ],
          "name": "stderr"
        },
        {
          "output_type": "stream",
          "text": [
            "3103\n",
            "(6012, 203)\n",
            "3104\n",
            "(8280, 198)\n",
            "3106\n",
            "(4860, 153)\n",
            "3107\n"
          ],
          "name": "stdout"
        },
        {
          "output_type": "stream",
          "text": [
            "\r 24%|██▍       | 834/3486 [06:59<08:18,  5.32it/s]"
          ],
          "name": "stderr"
        },
        {
          "output_type": "stream",
          "text": [
            "(9252, 293)\n",
            "3108\n",
            "(9936, 312)\n"
          ],
          "name": "stdout"
        },
        {
          "output_type": "stream",
          "text": [
            "\r 24%|██▍       | 836/3486 [07:00<07:23,  5.98it/s]"
          ],
          "name": "stderr"
        },
        {
          "output_type": "stream",
          "text": [
            "3109\n",
            "(8136, 262)\n",
            "3110\n",
            "(9420, 217)\n",
            "3111\n"
          ],
          "name": "stdout"
        },
        {
          "output_type": "stream",
          "text": [
            "\r 24%|██▍       | 838/3486 [07:00<06:01,  7.33it/s]"
          ],
          "name": "stderr"
        },
        {
          "output_type": "stream",
          "text": [
            "(3060, 113)\n",
            "3113\n",
            "(10080, 228)\n",
            "3115\n",
            "(31140, 737)\n"
          ],
          "name": "stdout"
        },
        {
          "output_type": "stream",
          "text": [
            "\r 24%|██▍       | 840/3486 [07:01<13:15,  3.33it/s]"
          ],
          "name": "stderr"
        },
        {
          "output_type": "stream",
          "text": [
            "3116\n",
            "(58860, 1353)\n"
          ],
          "name": "stdout"
        },
        {
          "output_type": "stream",
          "text": [
            "\r 24%|██▍       | 841/3486 [07:06<1:20:24,  1.82s/it]"
          ],
          "name": "stderr"
        },
        {
          "output_type": "stream",
          "text": [
            "3117\n",
            "(57735, 1328)\n"
          ],
          "name": "stdout"
        },
        {
          "output_type": "stream",
          "text": [
            " 24%|██▍       | 844/3486 [07:12<1:28:32,  2.01s/it]"
          ],
          "name": "stderr"
        },
        {
          "output_type": "stream",
          "text": [
            "3119\n",
            "(4680, 149)\n",
            "3120\n",
            "(7056, 210)\n",
            "3121\n",
            "(8676, 277)\n"
          ],
          "name": "stdout"
        },
        {
          "output_type": "stream",
          "text": [
            "\r 24%|██▍       | 845/3486 [07:12<1:03:24,  1.44s/it]"
          ],
          "name": "stderr"
        },
        {
          "output_type": "stream",
          "text": [
            "3122\n",
            "(7776, 198)\n",
            "3123\n",
            "(22212, 653)\n"
          ],
          "name": "stdout"
        },
        {
          "output_type": "stream",
          "text": [
            "\r 24%|██▍       | 847/3486 [07:13<51:17,  1.17s/it]  "
          ],
          "name": "stderr"
        },
        {
          "output_type": "stream",
          "text": [
            "3124\n",
            "(18600, 370)\n"
          ],
          "name": "stdout"
        },
        {
          "output_type": "stream",
          "text": [
            " 24%|██▍       | 849/3486 [07:13<29:55,  1.47it/s]"
          ],
          "name": "stderr"
        },
        {
          "output_type": "stream",
          "text": [
            "3125\n",
            "(9648, 249)\n",
            "3126\n",
            "(13104, 400)\n"
          ],
          "name": "stdout"
        },
        {
          "output_type": "stream",
          "text": [
            "\r 24%|██▍       | 850/3486 [07:14<24:17,  1.81it/s]"
          ],
          "name": "stderr"
        },
        {
          "output_type": "stream",
          "text": [
            "3127\n",
            "(27675, 660)\n"
          ],
          "name": "stdout"
        },
        {
          "output_type": "stream",
          "text": [
            " 24%|██▍       | 852/3486 [07:15<23:15,  1.89it/s]"
          ],
          "name": "stderr"
        },
        {
          "output_type": "stream",
          "text": [
            "3130\n",
            "(14688, 272)\n",
            "3131\n",
            "(7380, 241)\n",
            "3132\n",
            "(19950, 295)\n"
          ],
          "name": "stdout"
        },
        {
          "output_type": "stream",
          "text": [
            " 25%|██▍       | 855/3486 [07:15<15:48,  2.77it/s]"
          ],
          "name": "stderr"
        },
        {
          "output_type": "stream",
          "text": [
            "3133\n",
            "(13005, 334)\n",
            "3134\n",
            "(7620, 187)\n",
            "3135\n"
          ],
          "name": "stdout"
        },
        {
          "output_type": "stream",
          "text": [
            "\r 25%|██▍       | 857/3486 [07:16<13:59,  3.13it/s]"
          ],
          "name": "stderr"
        },
        {
          "output_type": "stream",
          "text": [
            "There are 1132203555player x questions pairs, tournament will be skipped\n",
            "3136\n"
          ],
          "name": "stdout"
        },
        {
          "output_type": "stream",
          "text": [
            " 25%|██▍       | 860/3486 [07:16<12:41,  3.45it/s]"
          ],
          "name": "stderr"
        },
        {
          "output_type": "stream",
          "text": [
            "There are 2615837040player x questions pairs, tournament will be skipped\n",
            "3137\n",
            "There are 134765280player x questions pairs, tournament will be skipped\n",
            "3138\n",
            "There are 127542912player x questions pairs, tournament will be skipped\n",
            "3139\n"
          ],
          "name": "stdout"
        },
        {
          "output_type": "stream",
          "text": [
            "\r 25%|██▍       | 861/3486 [07:17<13:04,  3.34it/s]"
          ],
          "name": "stderr"
        },
        {
          "output_type": "stream",
          "text": [
            "There are 1201562352player x questions pairs, tournament will be skipped\n",
            "3140\n"
          ],
          "name": "stdout"
        },
        {
          "output_type": "stream",
          "text": [
            "\r 25%|██▍       | 862/3486 [07:17<13:09,  3.32it/s]"
          ],
          "name": "stderr"
        },
        {
          "output_type": "stream",
          "text": [
            "There are 1548910440player x questions pairs, tournament will be skipped\n",
            "3141\n",
            "(15928, 406)\n"
          ],
          "name": "stdout"
        },
        {
          "output_type": "stream",
          "text": [
            "\r 25%|██▍       | 863/3486 [07:17<13:26,  3.25it/s]"
          ],
          "name": "stderr"
        },
        {
          "output_type": "stream",
          "text": [
            "3142\n"
          ],
          "name": "stdout"
        },
        {
          "output_type": "stream",
          "text": [
            " 25%|██▍       | 865/3486 [07:18<11:16,  3.87it/s]"
          ],
          "name": "stderr"
        },
        {
          "output_type": "stream",
          "text": [
            "There are 1173218550player x questions pairs, tournament will be skipped\n",
            "3143\n",
            "There are 134409915player x questions pairs, tournament will be skipped\n",
            "3145\n",
            "(15300, 351)\n"
          ],
          "name": "stdout"
        },
        {
          "output_type": "stream",
          "text": [
            " 25%|██▍       | 867/3486 [07:18<09:17,  4.70it/s]"
          ],
          "name": "stderr"
        },
        {
          "output_type": "stream",
          "text": [
            "3146\n",
            "(8064, 260)\n",
            "3147\n",
            "(28440, 677)\n"
          ],
          "name": "stdout"
        },
        {
          "output_type": "stream",
          "text": [
            "\r 25%|██▍       | 868/3486 [07:19<20:18,  2.15it/s]"
          ],
          "name": "stderr"
        },
        {
          "output_type": "stream",
          "text": [
            "3148\n",
            "(5355, 164)\n",
            "3149\n",
            "(13500, 240)\n"
          ],
          "name": "stdout"
        },
        {
          "output_type": "stream",
          "text": [
            "\r 25%|██▍       | 870/3486 [07:20<15:58,  2.73it/s]"
          ],
          "name": "stderr"
        },
        {
          "output_type": "stream",
          "text": [
            "3150\n",
            "(20160, 596)\n"
          ],
          "name": "stdout"
        },
        {
          "output_type": "stream",
          "text": [
            " 25%|██▌       | 872/3486 [07:20<15:17,  2.85it/s]"
          ],
          "name": "stderr"
        },
        {
          "output_type": "stream",
          "text": [
            "3151\n",
            "(10476, 327)\n",
            "3152\n",
            "(9900, 311)\n"
          ],
          "name": "stdout"
        },
        {
          "output_type": "stream",
          "text": [
            "\r 25%|██▌       | 873/3486 [07:21<12:57,  3.36it/s]"
          ],
          "name": "stderr"
        },
        {
          "output_type": "stream",
          "text": [
            "3154\n",
            "(34368, 847)\n"
          ],
          "name": "stdout"
        },
        {
          "output_type": "stream",
          "text": [
            "\r 25%|██▌       | 874/3486 [07:23<35:55,  1.21it/s]"
          ],
          "name": "stderr"
        },
        {
          "output_type": "stream",
          "text": [
            "3155\n",
            "(41800, 1085)\n"
          ],
          "name": "stdout"
        },
        {
          "output_type": "stream",
          "text": [
            " 25%|██▌       | 878/3486 [07:25<41:33,  1.05it/s]"
          ],
          "name": "stderr"
        },
        {
          "output_type": "stream",
          "text": [
            "3156\n",
            "(1800, 86)\n",
            "3157\n",
            "(3915, 132)\n",
            "3158\n",
            "(5820, 157)\n",
            "3159\n",
            "(2160, 96)\n",
            "3160\n",
            "(5580, 169)\n",
            "3161\n",
            "(49392, 1408)\n"
          ],
          "name": "stdout"
        },
        {
          "output_type": "stream",
          "text": [
            " 25%|██▌       | 882/3486 [07:30<36:10,  1.20it/s]"
          ],
          "name": "stderr"
        },
        {
          "output_type": "stream",
          "text": [
            "3162\n",
            "(14310, 266)\n",
            "3163\n"
          ],
          "name": "stdout"
        },
        {
          "output_type": "stream",
          "text": [
            "\r 25%|██▌       | 883/3486 [07:30<27:13,  1.59it/s]"
          ],
          "name": "stderr"
        },
        {
          "output_type": "stream",
          "text": [
            "(9180, 231)\n",
            "3164\n",
            "(864, 60)\n",
            "3165\n",
            "(7488, 244)\n"
          ],
          "name": "stdout"
        },
        {
          "output_type": "stream",
          "text": [
            "\r 25%|██▌       | 885/3486 [07:30<19:52,  2.18it/s]"
          ],
          "name": "stderr"
        },
        {
          "output_type": "stream",
          "text": [
            "3166\n",
            "(22302, 573)\n"
          ],
          "name": "stdout"
        },
        {
          "output_type": "stream",
          "text": [
            " 25%|██▌       | 887/3486 [07:31<18:51,  2.30it/s]"
          ],
          "name": "stderr"
        },
        {
          "output_type": "stream",
          "text": [
            "3167\n",
            "(15225, 278)\n",
            "3168\n"
          ],
          "name": "stdout"
        },
        {
          "output_type": "stream",
          "text": [
            "\r 26%|██▌       | 889/3486 [07:31<14:11,  3.05it/s]"
          ],
          "name": "stderr"
        },
        {
          "output_type": "stream",
          "text": [
            "(5670, 171)\n",
            "3169\n",
            "(11430, 217)\n",
            "3170\n",
            "(8460, 233)\n"
          ],
          "name": "stdout"
        },
        {
          "output_type": "stream",
          "text": [
            "\r 26%|██▌       | 891/3486 [07:31<10:43,  4.03it/s]"
          ],
          "name": "stderr"
        },
        {
          "output_type": "stream",
          "text": [
            "3171\n",
            "(4032, 132)\n",
            "3172\n",
            "(6426, 173)\n",
            "3173\n",
            "(1632, 92)\n",
            "3174\n",
            "(1656, 82)\n",
            "3175\n",
            "(9780, 223)\n"
          ],
          "name": "stdout"
        },
        {
          "output_type": "stream",
          "text": [
            "\r 26%|██▌       | 895/3486 [07:31<08:08,  5.31it/s]"
          ],
          "name": "stderr"
        },
        {
          "output_type": "stream",
          "text": [
            "3176\n",
            "(34020, 468)\n",
            "3177\n",
            "(34080, 892)\n"
          ],
          "name": "stdout"
        },
        {
          "output_type": "stream",
          "text": [
            " 26%|██▌       | 900/3486 [07:34<15:07,  2.85it/s]"
          ],
          "name": "stderr"
        },
        {
          "output_type": "stream",
          "text": [
            "3179\n",
            "(3408, 119)\n",
            "3180\n",
            "(2310, 97)\n",
            "3181\n",
            "(5520, 163)\n",
            "3182\n",
            "(4368, 139)\n",
            "3183\n",
            "(5520, 163)\n",
            "3184\n",
            "(38916, 1117)\n"
          ],
          "name": "stdout"
        },
        {
          "output_type": "stream",
          "text": [
            "\r 26%|██▌       | 903/3486 [07:37<23:46,  1.81it/s]"
          ],
          "name": "stderr"
        },
        {
          "output_type": "stream",
          "text": [
            "3185\n",
            "(38340, 1101)\n",
            "3186\n",
            "(9120, 238)\n"
          ],
          "name": "stdout"
        },
        {
          "output_type": "stream",
          "text": [
            " 26%|██▌       | 906/3486 [07:42<34:38,  1.24it/s]"
          ],
          "name": "stderr"
        },
        {
          "output_type": "stream",
          "text": [
            "3187\n",
            "(5720, 159)\n",
            "3188\n",
            "(19440, 384)\n"
          ],
          "name": "stdout"
        },
        {
          "output_type": "stream",
          "text": [
            "\r 26%|██▌       | 907/3486 [07:43<35:17,  1.22it/s]"
          ],
          "name": "stderr"
        },
        {
          "output_type": "stream",
          "text": [
            "3190\n",
            "(24525, 402)\n"
          ],
          "name": "stdout"
        },
        {
          "output_type": "stream",
          "text": [
            "\r 26%|██▌       | 908/3486 [07:44<36:16,  1.18it/s]"
          ],
          "name": "stderr"
        },
        {
          "output_type": "stream",
          "text": [
            "3191\n",
            "(42416, 1008)\n"
          ],
          "name": "stdout"
        },
        {
          "output_type": "stream",
          "text": [
            "\r 26%|██▌       | 909/3486 [07:47<1:04:57,  1.51s/it]"
          ],
          "name": "stderr"
        },
        {
          "output_type": "stream",
          "text": [
            "3192\n",
            "(24225, 398)\n"
          ],
          "name": "stdout"
        },
        {
          "output_type": "stream",
          "text": [
            "\r 26%|██▌       | 910/3486 [07:47<51:17,  1.19s/it]  "
          ],
          "name": "stderr"
        },
        {
          "output_type": "stream",
          "text": [
            "3193\n",
            "(2820, 107)\n",
            "3194\n",
            "(6688, 196)\n",
            "3195\n",
            "(10260, 321)\n"
          ],
          "name": "stdout"
        },
        {
          "output_type": "stream",
          "text": [
            "\r 26%|██▌       | 913/3486 [07:47<36:55,  1.16it/s]"
          ],
          "name": "stderr"
        },
        {
          "output_type": "stream",
          "text": [
            "3196\n",
            "(17280, 408)\n"
          ],
          "name": "stdout"
        },
        {
          "output_type": "stream",
          "text": [
            " 26%|██▌       | 915/3486 [07:48<22:46,  1.88it/s]"
          ],
          "name": "stderr"
        },
        {
          "output_type": "stream",
          "text": [
            "3198\n",
            "(10440, 277)\n",
            "3199\n",
            "(12960, 276)\n"
          ],
          "name": "stdout"
        },
        {
          "output_type": "stream",
          "text": [
            "\r 26%|██▋       | 916/3486 [07:48<18:06,  2.36it/s]"
          ],
          "name": "stderr"
        },
        {
          "output_type": "stream",
          "text": [
            "3200\n",
            "(52812, 597)\n"
          ],
          "name": "stdout"
        },
        {
          "output_type": "stream",
          "text": [
            "\r 26%|██▋       | 917/3486 [07:49<31:45,  1.35it/s]"
          ],
          "name": "stderr"
        },
        {
          "output_type": "stream",
          "text": [
            "3201\n",
            "(5670, 177)\n",
            "3202\n",
            "(71910, 1314)\n"
          ],
          "name": "stdout"
        },
        {
          "output_type": "stream",
          "text": [
            "\r 26%|██▋       | 919/3486 [07:55<1:00:28,  1.41s/it]"
          ],
          "name": "stderr"
        },
        {
          "output_type": "stream",
          "text": [
            "3203\n",
            "(6336, 212)\n",
            "3206\n",
            "(16140, 329)\n"
          ],
          "name": "stdout"
        },
        {
          "output_type": "stream",
          "text": [
            " 26%|██▋       | 922/3486 [07:56<33:01,  1.29it/s]"
          ],
          "name": "stderr"
        },
        {
          "output_type": "stream",
          "text": [
            "3211\n",
            "(9612, 303)\n",
            "3212\n",
            "(11280, 283)\n"
          ],
          "name": "stdout"
        },
        {
          "output_type": "stream",
          "text": [
            "\r 26%|██▋       | 923/3486 [07:56<24:50,  1.72it/s]"
          ],
          "name": "stderr"
        },
        {
          "output_type": "stream",
          "text": [
            "3213\n",
            "(14460, 301)\n"
          ],
          "name": "stdout"
        },
        {
          "output_type": "stream",
          "text": [
            "\r 27%|██▋       | 924/3486 [07:56<20:03,  2.13it/s]"
          ],
          "name": "stderr"
        },
        {
          "output_type": "stream",
          "text": [
            "3214\n",
            "(3072, 112)\n",
            "3215\n",
            "(4860, 141)\n",
            "3216\n",
            "(9828, 291)\n"
          ],
          "name": "stdout"
        },
        {
          "output_type": "stream",
          "text": [
            " 27%|██▋       | 928/3486 [07:57<12:13,  3.49it/s]"
          ],
          "name": "stderr"
        },
        {
          "output_type": "stream",
          "text": [
            "3217\n",
            "There are 216254772player x questions pairs, tournament will be skipped\n",
            "3219\n",
            "(15168, 364)\n"
          ],
          "name": "stdout"
        },
        {
          "output_type": "stream",
          "text": [
            "\r 27%|██▋       | 929/3486 [07:57<11:56,  3.57it/s]"
          ],
          "name": "stderr"
        },
        {
          "output_type": "stream",
          "text": [
            "3220\n",
            "(3555, 124)\n",
            "3221\n",
            "(1800, 86)\n",
            "3223\n",
            "(35208, 1014)\n"
          ],
          "name": "stdout"
        },
        {
          "output_type": "stream",
          "text": [
            " 27%|██▋       | 933/3486 [08:00<15:10,  2.80it/s]"
          ],
          "name": "stderr"
        },
        {
          "output_type": "stream",
          "text": [
            "3225\n",
            "(9855, 264)\n",
            "3226\n",
            "(5040, 144)\n",
            "3227\n",
            "(12675, 244)\n"
          ],
          "name": "stdout"
        },
        {
          "output_type": "stream",
          "text": [
            "\r 27%|██▋       | 935/3486 [08:00<11:46,  3.61it/s]"
          ],
          "name": "stderr"
        },
        {
          "output_type": "stream",
          "text": [
            "3228\n",
            "(59895, 1376)\n"
          ],
          "name": "stdout"
        },
        {
          "output_type": "stream",
          "text": [
            "\r 27%|██▋       | 936/3486 [08:06<1:30:09,  2.12s/it]"
          ],
          "name": "stderr"
        },
        {
          "output_type": "stream",
          "text": [
            "3229\n",
            "(43125, 650)\n"
          ],
          "name": "stdout"
        },
        {
          "output_type": "stream",
          "text": [
            " 27%|██▋       | 939/3486 [08:08<59:06,  1.39s/it]  "
          ],
          "name": "stderr"
        },
        {
          "output_type": "stream",
          "text": [
            "3230\n",
            "(6660, 171)\n",
            "3231\n",
            "(6740, 178)\n",
            "3232\n"
          ],
          "name": "stdout"
        },
        {
          "output_type": "stream",
          "text": [
            " 27%|██▋       | 943/3486 [08:08<31:38,  1.34it/s]"
          ],
          "name": "stderr"
        },
        {
          "output_type": "stream",
          "text": [
            "There are 327418740player x questions pairs, tournament will be skipped\n",
            "3233\n",
            "(960, 68)\n",
            "3234\n",
            "(6000, 173)\n",
            "3235\n",
            "(9975, 208)\n",
            "3236\n"
          ],
          "name": "stdout"
        },
        {
          "output_type": "stream",
          "text": [
            "\r 27%|██▋       | 945/3486 [08:09<23:32,  1.80it/s]"
          ],
          "name": "stderr"
        },
        {
          "output_type": "stream",
          "text": [
            "(13032, 253)\n",
            "3237\n",
            "(8940, 209)\n",
            "3238\n"
          ],
          "name": "stdout"
        },
        {
          "output_type": "stream",
          "text": [
            "\r 27%|██▋       | 947/3486 [08:09<17:29,  2.42it/s]"
          ],
          "name": "stderr"
        },
        {
          "output_type": "stream",
          "text": [
            "(8676, 196)\n",
            "3239\n",
            "(7920, 213)\n",
            "3242\n",
            "(4428, 159)\n",
            "3246\n",
            "(31500, 911)\n"
          ],
          "name": "stdout"
        },
        {
          "output_type": "stream",
          "text": [
            "\r 27%|██▋       | 949/3486 [08:11<24:19,  1.74it/s]"
          ],
          "name": "stderr"
        },
        {
          "output_type": "stream",
          "text": [
            "3247\n",
            "(33840, 976)\n"
          ],
          "name": "stdout"
        },
        {
          "output_type": "stream",
          "text": [
            "\r 27%|██▋       | 950/3486 [08:13<41:46,  1.01it/s]"
          ],
          "name": "stderr"
        },
        {
          "output_type": "stream",
          "text": [
            "3248\n",
            "(16200, 270)\n"
          ],
          "name": "stdout"
        },
        {
          "output_type": "stream",
          "text": [
            "\r 27%|██▋       | 951/3486 [08:13<31:58,  1.32it/s]"
          ],
          "name": "stderr"
        },
        {
          "output_type": "stream",
          "text": [
            "3249\n",
            "(29880, 348)\n"
          ],
          "name": "stdout"
        },
        {
          "output_type": "stream",
          "text": [
            "\r 27%|██▋       | 952/3486 [08:13<28:03,  1.51it/s]"
          ],
          "name": "stderr"
        },
        {
          "output_type": "stream",
          "text": [
            "3250\n",
            "(4848, 149)\n",
            "3251\n",
            "(14680, 407)\n"
          ],
          "name": "stdout"
        },
        {
          "output_type": "stream",
          "text": [
            " 27%|██▋       | 955/3486 [08:14<16:44,  2.52it/s]"
          ],
          "name": "stderr"
        },
        {
          "output_type": "stream",
          "text": [
            "3252\n",
            "(10140, 229)\n",
            "3253\n",
            "(4980, 143)\n",
            "3254\n",
            "(6912, 228)\n"
          ],
          "name": "stdout"
        },
        {
          "output_type": "stream",
          "text": [
            " 27%|██▋       | 958/3486 [08:14<10:16,  4.10it/s]"
          ],
          "name": "stderr"
        },
        {
          "output_type": "stream",
          "text": [
            "3255\n",
            "(8856, 282)\n",
            "3256\n",
            "(17892, 533)\n"
          ],
          "name": "stdout"
        },
        {
          "output_type": "stream",
          "text": [
            "\r 28%|██▊       | 959/3486 [08:14<13:44,  3.06it/s]"
          ],
          "name": "stderr"
        },
        {
          "output_type": "stream",
          "text": [
            "3257\n",
            "(26460, 633)\n"
          ],
          "name": "stdout"
        },
        {
          "output_type": "stream",
          "text": [
            "\r 28%|██▊       | 960/3486 [08:15<21:39,  1.94it/s]"
          ],
          "name": "stderr"
        },
        {
          "output_type": "stream",
          "text": [
            "3258\n",
            "(22176, 568)\n"
          ],
          "name": "stdout"
        },
        {
          "output_type": "stream",
          "text": [
            " 28%|██▊       | 964/3486 [08:16<17:33,  2.39it/s]"
          ],
          "name": "stderr"
        },
        {
          "output_type": "stream",
          "text": [
            "3259\n",
            "(2430, 99)\n",
            "3260\n",
            "(2400, 100)\n",
            "3261\n",
            "(8460, 201)\n",
            "3262\n",
            "(5520, 152)\n",
            "3264\n",
            "(1680, 82)\n",
            "3265\n"
          ],
          "name": "stdout"
        },
        {
          "output_type": "stream",
          "text": [
            "\r 28%|██▊       | 967/3486 [08:16<13:06,  3.20it/s]"
          ],
          "name": "stderr"
        },
        {
          "output_type": "stream",
          "text": [
            "(9648, 304)\n",
            "3266\n",
            "(35055, 824)\n",
            "3267\n",
            "(34290, 807)\n"
          ],
          "name": "stdout"
        },
        {
          "output_type": "stream",
          "text": [
            "\r 28%|██▊       | 969/3486 [08:20<29:58,  1.40it/s]"
          ],
          "name": "stderr"
        },
        {
          "output_type": "stream",
          "text": [
            "3268\n",
            "(5616, 199)\n",
            "3269\n",
            "(32724, 903)\n"
          ],
          "name": "stdout"
        },
        {
          "output_type": "stream",
          "text": [
            "\r 28%|██▊       | 971/3486 [08:22<34:18,  1.22it/s]"
          ],
          "name": "stderr"
        },
        {
          "output_type": "stream",
          "text": [
            "3270\n",
            "(16500, 295)\n"
          ],
          "name": "stdout"
        },
        {
          "output_type": "stream",
          "text": [
            "\r 28%|██▊       | 972/3486 [08:22<27:36,  1.52it/s]"
          ],
          "name": "stderr"
        },
        {
          "output_type": "stream",
          "text": [
            "3271\n",
            "(21285, 518)\n"
          ],
          "name": "stdout"
        },
        {
          "output_type": "stream",
          "text": [
            "\r 28%|██▊       | 973/3486 [08:23<28:08,  1.49it/s]"
          ],
          "name": "stderr"
        },
        {
          "output_type": "stream",
          "text": [
            "3272\n",
            "(18090, 447)\n"
          ],
          "name": "stdout"
        },
        {
          "output_type": "stream",
          "text": [
            " 28%|██▊       | 975/3486 [08:23<19:46,  2.12it/s]"
          ],
          "name": "stderr"
        },
        {
          "output_type": "stream",
          "text": [
            "3273\n",
            "There are 259674660player x questions pairs, tournament will be skipped\n",
            "3274\n",
            "(5130, 159)\n"
          ],
          "name": "stdout"
        },
        {
          "output_type": "stream",
          "text": [
            "\r 28%|██▊       | 977/3486 [08:24<14:29,  2.88it/s]"
          ],
          "name": "stderr"
        },
        {
          "output_type": "stream",
          "text": [
            "3276\n",
            "(6624, 186)\n",
            "3278\n",
            "(12744, 390)\n"
          ],
          "name": "stdout"
        },
        {
          "output_type": "stream",
          "text": [
            "\r 28%|██▊       | 978/3486 [08:24<13:22,  3.13it/s]"
          ],
          "name": "stderr"
        },
        {
          "output_type": "stream",
          "text": [
            "3279\n",
            "(2520, 107)\n",
            "3280\n",
            "(4890, 193)\n",
            "3281\n",
            "(15750, 265)\n"
          ],
          "name": "stdout"
        },
        {
          "output_type": "stream",
          "text": [
            "\r 28%|██▊       | 981/3486 [08:24<10:31,  3.96it/s]"
          ],
          "name": "stderr"
        },
        {
          "output_type": "stream",
          "text": [
            "3282\n",
            "(24750, 365)\n"
          ],
          "name": "stdout"
        },
        {
          "output_type": "stream",
          "text": [
            "\r 28%|██▊       | 982/3486 [08:25<12:25,  3.36it/s]"
          ],
          "name": "stderr"
        },
        {
          "output_type": "stream",
          "text": [
            "3283\n",
            "(5480, 157)\n",
            "3284\n",
            "(27810, 399)\n"
          ],
          "name": "stdout"
        },
        {
          "output_type": "stream",
          "text": [
            " 28%|██▊       | 985/3486 [08:25<09:55,  4.20it/s]"
          ],
          "name": "stderr"
        },
        {
          "output_type": "stream",
          "text": [
            "3285\n",
            "(10224, 261)\n",
            "3286\n",
            "(1530, 79)\n",
            "3287\n",
            "(7360, 224)\n"
          ],
          "name": "stdout"
        },
        {
          "output_type": "stream",
          "text": [
            "\r 28%|██▊       | 988/3486 [08:25<07:28,  5.57it/s]"
          ],
          "name": "stderr"
        },
        {
          "output_type": "stream",
          "text": [
            "3288\n",
            "(4128, 134)\n",
            "3289\n",
            "(15255, 384)\n"
          ],
          "name": "stdout"
        },
        {
          "output_type": "stream",
          "text": [
            "\r 28%|██▊       | 990/3486 [08:26<07:35,  5.48it/s]"
          ],
          "name": "stderr"
        },
        {
          "output_type": "stream",
          "text": [
            "3290\n",
            "(9000, 210)\n",
            "3291\n",
            "(7680, 188)\n",
            "3292\n",
            "(17052, 448)\n"
          ],
          "name": "stdout"
        },
        {
          "output_type": "stream",
          "text": [
            " 29%|██▊       | 995/3486 [08:26<06:40,  6.22it/s]"
          ],
          "name": "stderr"
        },
        {
          "output_type": "stream",
          "text": [
            "3293\n",
            "(2484, 105)\n",
            "3294\n",
            "(1620, 81)\n",
            "3295\n",
            "(11220, 247)\n",
            "3296\n"
          ],
          "name": "stdout"
        },
        {
          "output_type": "stream",
          "text": [
            "\r 29%|██▊       | 997/3486 [08:27<06:19,  6.56it/s]"
          ],
          "name": "stderr"
        },
        {
          "output_type": "stream",
          "text": [
            "There are 201685140player x questions pairs, tournament will be skipped\n",
            "3297\n",
            "(12180, 263)\n",
            "3298\n",
            "(4116, 140)\n",
            "3299\n",
            "(20952, 363)\n"
          ],
          "name": "stdout"
        },
        {
          "output_type": "stream",
          "text": [
            "\r 29%|██▊       | 999/3486 [08:27<06:44,  6.15it/s]"
          ],
          "name": "stderr"
        },
        {
          "output_type": "stream",
          "text": [
            "3301\n",
            "(16515, 412)\n"
          ],
          "name": "stdout"
        },
        {
          "output_type": "stream",
          "text": [
            " 29%|██▊       | 1002/3486 [08:28<07:19,  5.65it/s]"
          ],
          "name": "stderr"
        },
        {
          "output_type": "stream",
          "text": [
            "3302\n",
            "(7596, 247)\n",
            "3303\n",
            "(8640, 276)\n",
            "3304\n"
          ],
          "name": "stdout"
        },
        {
          "output_type": "stream",
          "text": [
            "\r 29%|██▉       | 1004/3486 [08:28<05:49,  7.11it/s]"
          ],
          "name": "stderr"
        },
        {
          "output_type": "stream",
          "text": [
            "(6948, 229)\n",
            "3305\n",
            "(2268, 99)\n",
            "3306\n",
            "(12780, 273)\n"
          ],
          "name": "stdout"
        },
        {
          "output_type": "stream",
          "text": [
            "\r 29%|██▉       | 1006/3486 [08:28<05:20,  7.74it/s]"
          ],
          "name": "stderr"
        },
        {
          "output_type": "stream",
          "text": [
            "3307\n",
            "(3780, 129)\n",
            "3308\n",
            "(52320, 932)\n"
          ],
          "name": "stdout"
        },
        {
          "output_type": "stream",
          "text": [
            "\r 29%|██▉       | 1008/3486 [08:31<25:11,  1.64it/s]"
          ],
          "name": "stderr"
        },
        {
          "output_type": "stream",
          "text": [
            "3309\n",
            "(10260, 321)\n",
            "3310\n",
            "(4608, 144)\n",
            "3311\n"
          ],
          "name": "stdout"
        },
        {
          "output_type": "stream",
          "text": [
            "\r 29%|██▉       | 1010/3486 [08:31<18:25,  2.24it/s]"
          ],
          "name": "stderr"
        },
        {
          "output_type": "stream",
          "text": [
            "(7848, 254)\n",
            "3312\n",
            "(4176, 135)\n",
            "3313\n",
            "(9660, 272)\n"
          ],
          "name": "stdout"
        },
        {
          "output_type": "stream",
          "text": [
            " 29%|██▉       | 1014/3486 [08:32<10:58,  3.75it/s]"
          ],
          "name": "stderr"
        },
        {
          "output_type": "stream",
          "text": [
            "3314\n",
            "(13950, 245)\n",
            "3316\n",
            "(4392, 158)\n",
            "3317\n",
            "(1872, 88)\n",
            "3318\n",
            "(22824, 670)\n"
          ],
          "name": "stdout"
        },
        {
          "output_type": "stream",
          "text": [
            "\r 29%|██▉       | 1016/3486 [08:33<12:24,  3.32it/s]"
          ],
          "name": "stderr"
        },
        {
          "output_type": "stream",
          "text": [
            "3321\n",
            "(15840, 378)\n"
          ],
          "name": "stdout"
        },
        {
          "output_type": "stream",
          "text": [
            " 29%|██▉       | 1018/3486 [08:33<12:09,  3.38it/s]"
          ],
          "name": "stderr"
        },
        {
          "output_type": "stream",
          "text": [
            "3322\n",
            "(13050, 335)\n",
            "3323\n",
            "(31257, 525)\n"
          ],
          "name": "stdout"
        },
        {
          "output_type": "stream",
          "text": [
            "\r 29%|██▉       | 1019/3486 [08:34<18:50,  2.18it/s]"
          ],
          "name": "stderr"
        },
        {
          "output_type": "stream",
          "text": [
            "3325\n",
            "There are 933779700player x questions pairs, tournament will be skipped\n"
          ],
          "name": "stdout"
        },
        {
          "output_type": "stream",
          "text": [
            " 29%|██▉       | 1021/3486 [08:34<13:20,  3.08it/s]"
          ],
          "name": "stderr"
        },
        {
          "output_type": "stream",
          "text": [
            "3326\n",
            "There are 845402112player x questions pairs, tournament will be skipped\n",
            "3327\n"
          ],
          "name": "stdout"
        },
        {
          "output_type": "stream",
          "text": [
            " 29%|██▉       | 1023/3486 [08:35<10:16,  3.99it/s]"
          ],
          "name": "stderr"
        },
        {
          "output_type": "stream",
          "text": [
            "There are 774385920player x questions pairs, tournament will be skipped\n",
            "3328\n",
            "There are 969314292player x questions pairs, tournament will be skipped\n",
            "3329\n"
          ],
          "name": "stdout"
        },
        {
          "output_type": "stream",
          "text": [
            " 29%|██▉       | 1025/3486 [08:35<07:45,  5.28it/s]"
          ],
          "name": "stderr"
        },
        {
          "output_type": "stream",
          "text": [
            "There are 743968512player x questions pairs, tournament will be skipped\n",
            "3330\n",
            "There are 253284408player x questions pairs, tournament will be skipped\n",
            "3332\n",
            "(11880, 258)\n"
          ],
          "name": "stdout"
        },
        {
          "output_type": "stream",
          "text": [
            " 29%|██▉       | 1028/3486 [08:35<06:03,  6.77it/s]"
          ],
          "name": "stderr"
        },
        {
          "output_type": "stream",
          "text": [
            "3333\n",
            "(7200, 236)\n",
            "3334\n",
            "(8760, 206)\n",
            "3335\n",
            "(15732, 473)\n"
          ],
          "name": "stdout"
        },
        {
          "output_type": "stream",
          "text": [
            "\r 30%|██▉       | 1029/3486 [08:36<09:03,  4.52it/s]"
          ],
          "name": "stderr"
        },
        {
          "output_type": "stream",
          "text": [
            "3336\n",
            "(22308, 551)\n"
          ],
          "name": "stdout"
        },
        {
          "output_type": "stream",
          "text": [
            "\r 30%|██▉       | 1030/3486 [08:36<14:06,  2.90it/s]"
          ],
          "name": "stderr"
        },
        {
          "output_type": "stream",
          "text": [
            "3337\n",
            "(2655, 104)\n",
            "3338\n",
            "(2688, 106)\n",
            "3339\n",
            "(22350, 373)\n"
          ],
          "name": "stdout"
        },
        {
          "output_type": "stream",
          "text": [
            "\r 30%|██▉       | 1033/3486 [08:37<11:43,  3.49it/s]"
          ],
          "name": "stderr"
        },
        {
          "output_type": "stream",
          "text": [
            "3340\n"
          ],
          "name": "stdout"
        },
        {
          "output_type": "stream",
          "text": [
            " 30%|██▉       | 1035/3486 [08:40<30:40,  1.33it/s]"
          ],
          "name": "stderr"
        },
        {
          "output_type": "stream",
          "text": [
            "(43050, 1067)\n",
            "3341\n",
            "(13575, 256)\n",
            "3342\n",
            "(4980, 148)\n",
            "3346\n",
            "(53280, 1229)\n"
          ],
          "name": "stdout"
        },
        {
          "output_type": "stream",
          "text": [
            " 30%|██▉       | 1039/3486 [08:44<33:50,  1.21it/s]"
          ],
          "name": "stderr"
        },
        {
          "output_type": "stream",
          "text": [
            "3347\n",
            "(4080, 133)\n",
            "3348\n",
            "(11088, 226)\n",
            "3349\n",
            "(2700, 105)\n",
            "3350\n"
          ],
          "name": "stdout"
        },
        {
          "output_type": "stream",
          "text": [
            "\r 30%|██▉       | 1041/3486 [08:44<25:00,  1.63it/s]"
          ],
          "name": "stderr"
        },
        {
          "output_type": "stream",
          "text": [
            "(13620, 287)\n",
            "3351\n",
            "(12864, 316)\n"
          ],
          "name": "stdout"
        },
        {
          "output_type": "stream",
          "text": [
            "\r 30%|██▉       | 1042/3486 [08:44<20:04,  2.03it/s]"
          ],
          "name": "stderr"
        },
        {
          "output_type": "stream",
          "text": [
            "3352\n",
            "(19692, 583)\n"
          ],
          "name": "stdout"
        },
        {
          "output_type": "stream",
          "text": [
            " 30%|██▉       | 1045/3486 [08:45<16:42,  2.44it/s]"
          ],
          "name": "stderr"
        },
        {
          "output_type": "stream",
          "text": [
            "3353\n",
            "(1116, 67)\n",
            "3354\n",
            "(10950, 221)\n",
            "3356\n"
          ],
          "name": "stdout"
        },
        {
          "output_type": "stream",
          "text": [
            " 30%|███       | 1047/3486 [08:46<11:36,  3.50it/s]"
          ],
          "name": "stderr"
        },
        {
          "output_type": "stream",
          "text": [
            "There are 173121300player x questions pairs, tournament will be skipped\n",
            "3357\n",
            "(16050, 289)\n",
            "3358\n",
            "(1944, 90)\n",
            "3359\n",
            "(4980, 143)\n",
            "3360\n",
            "(30525, 482)\n"
          ],
          "name": "stdout"
        },
        {
          "output_type": "stream",
          "text": [
            " 30%|███       | 1053/3486 [08:47<08:28,  4.78it/s]"
          ],
          "name": "stderr"
        },
        {
          "output_type": "stream",
          "text": [
            "3361\n",
            "(6448, 176)\n",
            "3362\n",
            "(3348, 129)\n",
            "3363\n",
            "(6300, 159)\n",
            "3364\n",
            "(25515, 612)\n"
          ],
          "name": "stdout"
        },
        {
          "output_type": "stream",
          "text": [
            "\r 30%|███       | 1055/3486 [08:48<12:23,  3.27it/s]"
          ],
          "name": "stderr"
        },
        {
          "output_type": "stream",
          "text": [
            "3365\n",
            "(13650, 257)\n",
            "3366\n",
            "(15804, 475)\n"
          ],
          "name": "stdout"
        },
        {
          "output_type": "stream",
          "text": [
            " 30%|███       | 1057/3486 [08:48<11:02,  3.67it/s]"
          ],
          "name": "stderr"
        },
        {
          "output_type": "stream",
          "text": [
            "3367\n",
            "(11880, 237)\n",
            "3368\n",
            "(39915, 932)\n"
          ],
          "name": "stdout"
        },
        {
          "output_type": "stream",
          "text": [
            " 30%|███       | 1060/3486 [08:50<22:44,  1.78it/s]"
          ],
          "name": "stderr"
        },
        {
          "output_type": "stream",
          "text": [
            "3369\n",
            "(3900, 125)\n",
            "3370\n",
            "There are 144429480player x questions pairs, tournament will be skipped\n",
            "3372\n",
            "(48060, 1113)\n"
          ],
          "name": "stdout"
        },
        {
          "output_type": "stream",
          "text": [
            " 31%|███       | 1064/3486 [08:54<41:49,  1.04s/it]"
          ],
          "name": "stderr"
        },
        {
          "output_type": "stream",
          "text": [
            "3374\n",
            "(7260, 181)\n",
            "3375\n",
            "(2544, 101)\n",
            "3376\n",
            "(1836, 87)\n",
            "3377\n",
            "(46935, 1088)\n",
            "3378\n",
            "(61965, 1422)\n"
          ],
          "name": "stdout"
        },
        {
          "output_type": "stream",
          "text": [
            "\r 31%|███       | 1066/3486 [09:03<1:23:54,  2.08s/it]"
          ],
          "name": "stderr"
        },
        {
          "output_type": "stream",
          "text": [
            "3379\n",
            "(53685, 1238)\n"
          ],
          "name": "stdout"
        },
        {
          "output_type": "stream",
          "text": [
            "\r 31%|███       | 1067/3486 [09:07<1:51:46,  2.77s/it]"
          ],
          "name": "stderr"
        },
        {
          "output_type": "stream",
          "text": [
            "3380\n",
            "(49440, 1276)\n"
          ],
          "name": "stdout"
        },
        {
          "output_type": "stream",
          "text": [
            "\r 31%|███       | 1068/3486 [09:12<2:12:44,  3.29s/it]"
          ],
          "name": "stderr"
        },
        {
          "output_type": "stream",
          "text": [
            "3381\n",
            "(43830, 1019)\n"
          ],
          "name": "stdout"
        },
        {
          "output_type": "stream",
          "text": [
            " 31%|███       | 1071/3486 [09:15<1:29:00,  2.21s/it]"
          ],
          "name": "stderr"
        },
        {
          "output_type": "stream",
          "text": [
            "3382\n",
            "(828, 59)\n",
            "3383\n",
            "There are 250078500player x questions pairs, tournament will be skipped\n",
            "3384\n",
            "(53970, 1327)\n"
          ],
          "name": "stdout"
        },
        {
          "output_type": "stream",
          "text": [
            "\r 31%|███       | 1072/3486 [09:20<2:03:24,  3.07s/it]"
          ],
          "name": "stderr"
        },
        {
          "output_type": "stream",
          "text": [
            "3385\n",
            "(44310, 1097)\n"
          ],
          "name": "stdout"
        },
        {
          "output_type": "stream",
          "text": [
            "\r 31%|███       | 1073/3486 [09:23<2:03:05,  3.06s/it]"
          ],
          "name": "stderr"
        },
        {
          "output_type": "stream",
          "text": [
            "3386\n",
            "(50736, 1250)\n"
          ],
          "name": "stdout"
        },
        {
          "output_type": "stream",
          "text": [
            "\r 31%|███       | 1074/3486 [09:27<2:17:48,  3.43s/it]"
          ],
          "name": "stderr"
        },
        {
          "output_type": "stream",
          "text": [
            "3387\n",
            "(38304, 954)\n"
          ],
          "name": "stdout"
        },
        {
          "output_type": "stream",
          "text": [
            "\r 31%|███       | 1075/3486 [09:29<2:03:51,  3.08s/it]"
          ],
          "name": "stderr"
        },
        {
          "output_type": "stream",
          "text": [
            "3388\n",
            "(44142, 1093)\n"
          ],
          "name": "stdout"
        },
        {
          "output_type": "stream",
          "text": [
            " 31%|███       | 1077/3486 [09:32<1:27:07,  2.17s/it]"
          ],
          "name": "stderr"
        },
        {
          "output_type": "stream",
          "text": [
            "3389\n",
            "(12675, 244)\n",
            "3391\n"
          ],
          "name": "stdout"
        },
        {
          "output_type": "stream",
          "text": [
            "\r 31%|███       | 1078/3486 [09:33<1:04:18,  1.60s/it]"
          ],
          "name": "stderr"
        },
        {
          "output_type": "stream",
          "text": [
            "There are 1213387728player x questions pairs, tournament will be skipped\n",
            "3393\n",
            "(18630, 297)\n"
          ],
          "name": "stdout"
        },
        {
          "output_type": "stream",
          "text": [
            "\r 31%|███       | 1079/3486 [09:33<47:44,  1.19s/it]  "
          ],
          "name": "stderr"
        },
        {
          "output_type": "stream",
          "text": [
            "3394\n",
            "(37188, 1069)\n"
          ],
          "name": "stdout"
        },
        {
          "output_type": "stream",
          "text": [
            "\r 31%|███       | 1080/3486 [09:36<1:06:06,  1.65s/it]"
          ],
          "name": "stderr"
        },
        {
          "output_type": "stream",
          "text": [
            "3395\n",
            "(36036, 1037)\n"
          ],
          "name": "stdout"
        },
        {
          "output_type": "stream",
          "text": [
            "\r 31%|███       | 1081/3486 [09:38<1:17:59,  1.95s/it]"
          ],
          "name": "stderr"
        },
        {
          "output_type": "stream",
          "text": [
            "3396\n",
            "(24372, 713)\n"
          ],
          "name": "stdout"
        },
        {
          "output_type": "stream",
          "text": [
            "\r 31%|███       | 1082/3486 [09:39<1:07:29,  1.68s/it]"
          ],
          "name": "stderr"
        },
        {
          "output_type": "stream",
          "text": [
            "3397\n",
            "(36000, 845)\n"
          ],
          "name": "stdout"
        },
        {
          "output_type": "stream",
          "text": [
            "\r 31%|███       | 1083/3486 [09:41<1:09:23,  1.73s/it]"
          ],
          "name": "stderr"
        },
        {
          "output_type": "stream",
          "text": [
            "3399\n",
            "(612, 53)\n",
            "3400\n",
            "(3510, 123)\n",
            "3403\n",
            "(15780, 323)\n"
          ],
          "name": "stdout"
        },
        {
          "output_type": "stream",
          "text": [
            "\r 31%|███       | 1086/3486 [09:42<49:45,  1.24s/it]  "
          ],
          "name": "stderr"
        },
        {
          "output_type": "stream",
          "text": [
            "3404\n",
            "(42372, 1213)\n"
          ],
          "name": "stdout"
        },
        {
          "output_type": "stream",
          "text": [
            "\r 31%|███       | 1087/3486 [09:45<1:10:11,  1.76s/it]"
          ],
          "name": "stderr"
        },
        {
          "output_type": "stream",
          "text": [
            "3405\n",
            "(37836, 1087)\n"
          ],
          "name": "stdout"
        },
        {
          "output_type": "stream",
          "text": [
            "\r 31%|███       | 1088/3486 [09:47<1:23:02,  2.08s/it]"
          ],
          "name": "stderr"
        },
        {
          "output_type": "stream",
          "text": [
            "3406\n",
            "(20916, 540)\n"
          ],
          "name": "stdout"
        },
        {
          "output_type": "stream",
          "text": [
            "\r 31%|███       | 1089/3486 [09:48<1:05:32,  1.64s/it]"
          ],
          "name": "stderr"
        },
        {
          "output_type": "stream",
          "text": [
            "3407\n",
            "(21132, 623)\n"
          ],
          "name": "stdout"
        },
        {
          "output_type": "stream",
          "text": [
            "\r 31%|███▏      | 1090/3486 [09:49<54:06,  1.35s/it]  "
          ],
          "name": "stderr"
        },
        {
          "output_type": "stream",
          "text": [
            "3408\n",
            "(40176, 1152)\n"
          ],
          "name": "stdout"
        },
        {
          "output_type": "stream",
          "text": [
            " 31%|███▏      | 1092/3486 [09:52<54:26,  1.36s/it]  "
          ],
          "name": "stderr"
        },
        {
          "output_type": "stream",
          "text": [
            "3409\n",
            "There are 180607770player x questions pairs, tournament will be skipped\n",
            "3410\n",
            "(54270, 1251)\n"
          ],
          "name": "stdout"
        },
        {
          "output_type": "stream",
          "text": [
            "\r 31%|███▏      | 1093/3486 [09:56<1:27:34,  2.20s/it]"
          ],
          "name": "stderr"
        },
        {
          "output_type": "stream",
          "text": [
            "3411\n",
            "(39240, 917)\n"
          ],
          "name": "stdout"
        },
        {
          "output_type": "stream",
          "text": [
            "\r 31%|███▏      | 1094/3486 [09:58<1:28:12,  2.21s/it]"
          ],
          "name": "stderr"
        },
        {
          "output_type": "stream",
          "text": [
            "3412\n"
          ],
          "name": "stdout"
        },
        {
          "output_type": "stream",
          "text": [
            "\r 31%|███▏      | 1095/3486 [10:01<1:32:47,  2.33s/it]"
          ],
          "name": "stderr"
        },
        {
          "output_type": "stream",
          "text": [
            "(43830, 1019)\n",
            "3413\n",
            "(39510, 923)\n"
          ],
          "name": "stdout"
        },
        {
          "output_type": "stream",
          "text": [
            "\r 31%|███▏      | 1096/3486 [10:03<1:33:14,  2.34s/it]"
          ],
          "name": "stderr"
        },
        {
          "output_type": "stream",
          "text": [
            "3414\n",
            "(24975, 600)\n"
          ],
          "name": "stdout"
        },
        {
          "output_type": "stream",
          "text": [
            "\r 31%|███▏      | 1097/3486 [10:04<1:14:17,  1.87s/it]"
          ],
          "name": "stderr"
        },
        {
          "output_type": "stream",
          "text": [
            "3415\n",
            "(50040, 1157)\n"
          ],
          "name": "stdout"
        },
        {
          "output_type": "stream",
          "text": [
            " 32%|███▏      | 1100/3486 [10:08<1:06:44,  1.68s/it]"
          ],
          "name": "stderr"
        },
        {
          "output_type": "stream",
          "text": [
            "3416\n",
            "(2736, 112)\n",
            "3417\n",
            "There are 154692180player x questions pairs, tournament will be skipped\n",
            "3418\n",
            "(1044, 65)\n",
            "3419\n"
          ],
          "name": "stdout"
        },
        {
          "output_type": "stream",
          "text": [
            "\r 32%|███▏      | 1102/3486 [10:08<47:45,  1.20s/it]  "
          ],
          "name": "stderr"
        },
        {
          "output_type": "stream",
          "text": [
            "(11835, 308)\n",
            "3420\n",
            "(16848, 399)\n"
          ],
          "name": "stdout"
        },
        {
          "output_type": "stream",
          "text": [
            " 32%|███▏      | 1105/3486 [10:08<26:56,  1.47it/s]"
          ],
          "name": "stderr"
        },
        {
          "output_type": "stream",
          "text": [
            "3421\n",
            "(7776, 180)\n",
            "3422\n",
            "(4020, 127)\n",
            "3423\n",
            "(45504, 996)\n"
          ],
          "name": "stdout"
        },
        {
          "output_type": "stream",
          "text": [
            "\r 32%|███▏      | 1106/3486 [10:11<49:54,  1.26s/it]"
          ],
          "name": "stderr"
        },
        {
          "output_type": "stream",
          "text": [
            "3424\n",
            "(14580, 369)\n"
          ],
          "name": "stdout"
        },
        {
          "output_type": "stream",
          "text": [
            "\r 32%|███▏      | 1107/3486 [10:11<38:25,  1.03it/s]"
          ],
          "name": "stderr"
        },
        {
          "output_type": "stream",
          "text": [
            "3425\n",
            "(22860, 553)\n"
          ],
          "name": "stdout"
        },
        {
          "output_type": "stream",
          "text": [
            "\r 32%|███▏      | 1108/3486 [10:12<35:22,  1.12it/s]"
          ],
          "name": "stderr"
        },
        {
          "output_type": "stream",
          "text": [
            "3426\n",
            "(37935, 888)\n"
          ],
          "name": "stdout"
        },
        {
          "output_type": "stream",
          "text": [
            " 32%|███▏      | 1110/3486 [10:14<33:45,  1.17it/s]"
          ],
          "name": "stderr"
        },
        {
          "output_type": "stream",
          "text": [
            "3427\n",
            "(10560, 236)\n",
            "3428\n",
            "(43965, 1022)\n"
          ],
          "name": "stdout"
        },
        {
          "output_type": "stream",
          "text": [
            "\r 32%|███▏      | 1111/3486 [10:17<58:35,  1.48s/it]"
          ],
          "name": "stderr"
        },
        {
          "output_type": "stream",
          "text": [
            "3429\n",
            "(8040, 194)\n",
            "3430\n",
            "(30780, 573)\n"
          ],
          "name": "stdout"
        },
        {
          "output_type": "stream",
          "text": [
            "\r 32%|███▏      | 1113/3486 [10:18<47:04,  1.19s/it]"
          ],
          "name": "stderr"
        },
        {
          "output_type": "stream",
          "text": [
            "3431\n",
            "(17910, 289)\n"
          ],
          "name": "stdout"
        },
        {
          "output_type": "stream",
          "text": [
            "\r 32%|███▏      | 1114/3486 [10:18<36:30,  1.08it/s]"
          ],
          "name": "stderr"
        },
        {
          "output_type": "stream",
          "text": [
            "3432\n",
            "(19260, 304)\n"
          ],
          "name": "stdout"
        },
        {
          "output_type": "stream",
          "text": [
            "\r 32%|███▏      | 1115/3486 [10:18<28:55,  1.37it/s]"
          ],
          "name": "stderr"
        },
        {
          "output_type": "stream",
          "text": [
            "3433\n",
            "(23670, 353)\n"
          ],
          "name": "stdout"
        },
        {
          "output_type": "stream",
          "text": [
            " 32%|███▏      | 1118/3486 [10:19<17:46,  2.22it/s]"
          ],
          "name": "stderr"
        },
        {
          "output_type": "stream",
          "text": [
            "3434\n",
            "(4608, 164)\n",
            "3435\n",
            "(6516, 217)\n",
            "3436\n",
            "(2916, 117)\n",
            "3437\n",
            "(4464, 160)\n",
            "3438\n"
          ],
          "name": "stdout"
        },
        {
          "output_type": "stream",
          "text": [
            "\r 32%|███▏      | 1121/3486 [10:19<12:59,  3.04it/s]"
          ],
          "name": "stderr"
        },
        {
          "output_type": "stream",
          "text": [
            "(5940, 201)\n",
            "3439\n",
            "(56790, 1307)\n"
          ],
          "name": "stdout"
        },
        {
          "output_type": "stream",
          "text": [
            "\r 32%|███▏      | 1123/3486 [10:24<38:59,  1.01it/s]"
          ],
          "name": "stderr"
        },
        {
          "output_type": "stream",
          "text": [
            "3442\n",
            "(3300, 115)\n",
            "3444\n",
            "(15552, 468)\n"
          ],
          "name": "stdout"
        },
        {
          "output_type": "stream",
          "text": [
            "\r 32%|███▏      | 1124/3486 [10:25<31:41,  1.24it/s]"
          ],
          "name": "stderr"
        },
        {
          "output_type": "stream",
          "text": [
            "3445\n",
            "(15804, 475)\n"
          ],
          "name": "stdout"
        },
        {
          "output_type": "stream",
          "text": [
            "\r 32%|███▏      | 1125/3486 [10:25<27:10,  1.45it/s]"
          ],
          "name": "stderr"
        },
        {
          "output_type": "stream",
          "text": [
            "3446\n",
            "(3900, 125)\n",
            "3447\n",
            "(4230, 137)\n",
            "3448\n",
            "(2664, 110)\n",
            "3449\n",
            "(35960, 939)\n"
          ],
          "name": "stdout"
        },
        {
          "output_type": "stream",
          "text": [
            "\r 32%|███▏      | 1129/3486 [10:27<25:23,  1.55it/s]"
          ],
          "name": "stderr"
        },
        {
          "output_type": "stream",
          "text": [
            "3450\n"
          ],
          "name": "stdout"
        },
        {
          "output_type": "stream",
          "text": [
            " 32%|███▏      | 1131/3486 [10:28<16:11,  2.42it/s]"
          ],
          "name": "stderr"
        },
        {
          "output_type": "stream",
          "text": [
            "There are 756128340player x questions pairs, tournament will be skipped\n",
            "3451\n",
            "There are 732231936player x questions pairs, tournament will be skipped\n",
            "3452\n",
            "(3450, 119)\n",
            "3453\n",
            "(37368, 1074)\n"
          ],
          "name": "stdout"
        },
        {
          "output_type": "stream",
          "text": [
            "\r 33%|███▎      | 1133/3486 [10:30<27:38,  1.42it/s]"
          ],
          "name": "stderr"
        },
        {
          "output_type": "stream",
          "text": [
            "3454\n",
            "(41292, 1183)\n"
          ],
          "name": "stdout"
        },
        {
          "output_type": "stream",
          "text": [
            " 33%|███▎      | 1135/3486 [10:34<41:22,  1.06s/it]"
          ],
          "name": "stderr"
        },
        {
          "output_type": "stream",
          "text": [
            "3455\n",
            "(11940, 259)\n",
            "3456\n",
            "(13428, 409)\n"
          ],
          "name": "stdout"
        },
        {
          "output_type": "stream",
          "text": [
            " 33%|███▎      | 1137/3486 [10:34<24:49,  1.58it/s]"
          ],
          "name": "stderr"
        },
        {
          "output_type": "stream",
          "text": [
            "3457\n",
            "There are 621493236player x questions pairs, tournament will be skipped\n",
            "3458\n"
          ],
          "name": "stdout"
        },
        {
          "output_type": "stream",
          "text": [
            " 33%|███▎      | 1139/3486 [10:34<15:05,  2.59it/s]"
          ],
          "name": "stderr"
        },
        {
          "output_type": "stream",
          "text": [
            "There are 600728436player x questions pairs, tournament will be skipped\n",
            "3459\n",
            "There are 585821952player x questions pairs, tournament will be skipped\n",
            "3460\n"
          ],
          "name": "stdout"
        },
        {
          "output_type": "stream",
          "text": [
            "\r 33%|███▎      | 1140/3486 [10:35<12:26,  3.14it/s]"
          ],
          "name": "stderr"
        },
        {
          "output_type": "stream",
          "text": [
            "There are 549797040player x questions pairs, tournament will be skipped\n",
            "3461\n",
            "(38880, 1116)\n"
          ],
          "name": "stdout"
        },
        {
          "output_type": "stream",
          "text": [
            "\r 33%|███▎      | 1141/3486 [10:37<39:53,  1.02s/it]"
          ],
          "name": "stderr"
        },
        {
          "output_type": "stream",
          "text": [
            "3462\n",
            "(31644, 915)\n"
          ],
          "name": "stdout"
        },
        {
          "output_type": "stream",
          "text": [
            "\r 33%|███▎      | 1142/3486 [10:39<49:38,  1.27s/it]"
          ],
          "name": "stderr"
        },
        {
          "output_type": "stream",
          "text": [
            "3463\n",
            "(22260, 431)\n"
          ],
          "name": "stdout"
        },
        {
          "output_type": "stream",
          "text": [
            "\r 33%|███▎      | 1143/3486 [10:40<41:30,  1.06s/it]"
          ],
          "name": "stderr"
        },
        {
          "output_type": "stream",
          "text": [
            "3466\n",
            "(1131, 68)\n",
            "3468\n"
          ],
          "name": "stdout"
        },
        {
          "output_type": "stream",
          "text": [
            " 33%|███▎      | 1146/3486 [10:40<23:27,  1.66it/s]"
          ],
          "name": "stderr"
        },
        {
          "output_type": "stream",
          "text": [
            "There are 1291908864player x questions pairs, tournament will be skipped\n",
            "3469\n",
            "There are 286993980player x questions pairs, tournament will be skipped\n",
            "3470\n",
            "(1536, 80)\n",
            "3471\n",
            "(8400, 200)\n"
          ],
          "name": "stdout"
        },
        {
          "output_type": "stream",
          "text": [
            " 33%|███▎      | 1150/3486 [10:40<12:28,  3.12it/s]"
          ],
          "name": "stderr"
        },
        {
          "output_type": "stream",
          "text": [
            "3472\n",
            "(5580, 153)\n",
            "3473\n",
            "(4984, 206)\n",
            "3474\n",
            "(26550, 635)\n",
            "3475\n",
            "(11520, 356)\n"
          ],
          "name": "stdout"
        },
        {
          "output_type": "stream",
          "text": [
            " 33%|███▎      | 1153/3486 [10:42<12:38,  3.07it/s]"
          ],
          "name": "stderr"
        },
        {
          "output_type": "stream",
          "text": [
            "3476\n",
            "(10440, 326)\n",
            "3477\n",
            "(9252, 293)\n"
          ],
          "name": "stdout"
        },
        {
          "output_type": "stream",
          "text": [
            " 33%|███▎      | 1155/3486 [10:42<08:56,  4.35it/s]"
          ],
          "name": "stderr"
        },
        {
          "output_type": "stream",
          "text": [
            "3478\n",
            "(8748, 279)\n",
            "3479\n",
            "(7812, 253)\n"
          ],
          "name": "stdout"
        },
        {
          "output_type": "stream",
          "text": [
            "\r 33%|███▎      | 1156/3486 [10:42<07:31,  5.16it/s]"
          ],
          "name": "stderr"
        },
        {
          "output_type": "stream",
          "text": [
            "3480\n",
            "(7560, 246)\n",
            "3481\n",
            "(14652, 443)\n"
          ],
          "name": "stdout"
        },
        {
          "output_type": "stream",
          "text": [
            " 33%|███▎      | 1159/3486 [10:43<06:47,  5.71it/s]"
          ],
          "name": "stderr"
        },
        {
          "output_type": "stream",
          "text": [
            "3482\n",
            "(8532, 273)\n",
            "3483\n",
            "(9504, 300)\n"
          ],
          "name": "stdout"
        },
        {
          "output_type": "stream",
          "text": [
            " 33%|███▎      | 1161/3486 [10:43<06:17,  6.16it/s]"
          ],
          "name": "stderr"
        },
        {
          "output_type": "stream",
          "text": [
            "3484\n",
            "(9756, 307)\n",
            "3485\n",
            "(8316, 267)\n"
          ],
          "name": "stdout"
        },
        {
          "output_type": "stream",
          "text": [
            "\r 33%|███▎      | 1162/3486 [10:43<05:43,  6.76it/s]"
          ],
          "name": "stderr"
        },
        {
          "output_type": "stream",
          "text": [
            "3486\n",
            "(7884, 255)\n",
            "3487\n",
            "(79380, 1188)\n"
          ],
          "name": "stdout"
        },
        {
          "output_type": "stream",
          "text": [
            " 33%|███▎      | 1165/3486 [10:49<28:01,  1.38it/s]"
          ],
          "name": "stderr"
        },
        {
          "output_type": "stream",
          "text": [
            "3489\n",
            "There are 138285936player x questions pairs, tournament will be skipped\n",
            "3490\n",
            "(53280, 1516)\n"
          ],
          "name": "stdout"
        },
        {
          "output_type": "stream",
          "text": [
            "\r 33%|███▎      | 1166/3486 [10:55<1:24:36,  2.19s/it]"
          ],
          "name": "stderr"
        },
        {
          "output_type": "stream",
          "text": [
            "3491\n",
            "(37764, 1085)\n"
          ],
          "name": "stdout"
        },
        {
          "output_type": "stream",
          "text": [
            "\r 33%|███▎      | 1167/3486 [10:57<1:31:32,  2.37s/it]"
          ],
          "name": "stderr"
        },
        {
          "output_type": "stream",
          "text": [
            "3492\n",
            "(50616, 1442)\n"
          ],
          "name": "stdout"
        },
        {
          "output_type": "stream",
          "text": [
            "\r 34%|███▎      | 1168/3486 [11:03<2:04:10,  3.21s/it]"
          ],
          "name": "stderr"
        },
        {
          "output_type": "stream",
          "text": [
            "3493\n",
            "(41688, 1194)\n"
          ],
          "name": "stdout"
        },
        {
          "output_type": "stream",
          "text": [
            "\r 34%|███▎      | 1169/3486 [11:05<1:58:26,  3.07s/it]"
          ],
          "name": "stderr"
        },
        {
          "output_type": "stream",
          "text": [
            "3494\n",
            "(43704, 1250)\n"
          ],
          "name": "stdout"
        },
        {
          "output_type": "stream",
          "text": [
            "\r 34%|███▎      | 1170/3486 [11:08<1:59:39,  3.10s/it]"
          ],
          "name": "stderr"
        },
        {
          "output_type": "stream",
          "text": [
            "3495\n",
            "(23520, 452)\n"
          ],
          "name": "stdout"
        },
        {
          "output_type": "stream",
          "text": [
            "\r 34%|███▎      | 1171/3486 [11:09<1:30:14,  2.34s/it]"
          ],
          "name": "stderr"
        },
        {
          "output_type": "stream",
          "text": [
            "3496\n",
            "(13056, 320)\n"
          ],
          "name": "stdout"
        },
        {
          "output_type": "stream",
          "text": [
            " 34%|███▎      | 1175/3486 [11:09<46:28,  1.21s/it]  "
          ],
          "name": "stderr"
        },
        {
          "output_type": "stream",
          "text": [
            "3497\n",
            "(5760, 168)\n",
            "3498\n",
            "(1872, 88)\n",
            "3499\n",
            "(5985, 178)\n",
            "3500\n",
            "(19944, 590)\n"
          ],
          "name": "stdout"
        },
        {
          "output_type": "stream",
          "text": [
            "\r 34%|███▎      | 1176/3486 [11:10<40:06,  1.04s/it]"
          ],
          "name": "stderr"
        },
        {
          "output_type": "stream",
          "text": [
            "3501\n",
            "(4428, 159)\n",
            "3502\n",
            "(35100, 825)\n"
          ],
          "name": "stdout"
        },
        {
          "output_type": "stream",
          "text": [
            "\r 34%|███▍      | 1178/3486 [11:12<38:19,  1.00it/s]"
          ],
          "name": "stderr"
        },
        {
          "output_type": "stream",
          "text": [
            "3503\n",
            "(7344, 201)\n",
            "3504\n",
            "(32250, 505)\n"
          ],
          "name": "stdout"
        },
        {
          "output_type": "stream",
          "text": [
            " 34%|███▍      | 1182/3486 [11:13<23:25,  1.64it/s]"
          ],
          "name": "stderr"
        },
        {
          "output_type": "stream",
          "text": [
            "3505\n",
            "(6840, 197)\n",
            "3506\n",
            "(9840, 253)\n",
            "3507\n",
            "(2340, 97)\n",
            "3508\n",
            "(31860, 921)\n"
          ],
          "name": "stdout"
        },
        {
          "output_type": "stream",
          "text": [
            " 34%|███▍      | 1185/3486 [11:15<21:01,  1.82it/s]"
          ],
          "name": "stderr"
        },
        {
          "output_type": "stream",
          "text": [
            "3509\n",
            "(11100, 245)\n",
            "3510\n",
            "(23184, 394)\n"
          ],
          "name": "stdout"
        },
        {
          "output_type": "stream",
          "text": [
            "\r 34%|███▍      | 1186/3486 [11:16<20:44,  1.85it/s]"
          ],
          "name": "stderr"
        },
        {
          "output_type": "stream",
          "text": [
            "3511\n",
            "(1656, 82)\n",
            "3512\n",
            "(34875, 820)\n"
          ],
          "name": "stdout"
        },
        {
          "output_type": "stream",
          "text": [
            "\r 34%|███▍      | 1188/3486 [11:17<24:03,  1.59it/s]"
          ],
          "name": "stderr"
        },
        {
          "output_type": "stream",
          "text": [
            "3513\n"
          ],
          "name": "stdout"
        },
        {
          "output_type": "stream",
          "text": [
            "\r 34%|███▍      | 1189/3486 [11:18<20:03,  1.91it/s]"
          ],
          "name": "stderr"
        },
        {
          "output_type": "stream",
          "text": [
            "There are 1105892352player x questions pairs, tournament will be skipped\n",
            "3514\n",
            "(21780, 423)\n"
          ],
          "name": "stdout"
        },
        {
          "output_type": "stream",
          "text": [
            " 34%|███▍      | 1191/3486 [11:18<16:09,  2.37it/s]"
          ],
          "name": "stderr"
        },
        {
          "output_type": "stream",
          "text": [
            "3516\n",
            "(10800, 285)\n",
            "3517\n",
            "(22620, 437)\n"
          ],
          "name": "stdout"
        },
        {
          "output_type": "stream",
          "text": [
            "\r 34%|███▍      | 1192/3486 [11:19<17:11,  2.22it/s]"
          ],
          "name": "stderr"
        },
        {
          "output_type": "stream",
          "text": [
            "3518\n",
            "(21384, 630)\n"
          ],
          "name": "stdout"
        },
        {
          "output_type": "stream",
          "text": [
            "\r 34%|███▍      | 1193/3486 [11:20<22:22,  1.71it/s]"
          ],
          "name": "stderr"
        },
        {
          "output_type": "stream",
          "text": [
            "3519\n",
            "(6732, 223)\n",
            "3520\n",
            "(48600, 1386)\n"
          ],
          "name": "stdout"
        },
        {
          "output_type": "stream",
          "text": [
            "\r 34%|███▍      | 1195/3486 [11:25<44:26,  1.16s/it]"
          ],
          "name": "stderr"
        },
        {
          "output_type": "stream",
          "text": [
            "3521\n",
            "(6192, 177)\n",
            "3523\n",
            "(2592, 108)\n",
            "3525\n"
          ],
          "name": "stdout"
        },
        {
          "output_type": "stream",
          "text": [
            "\r 34%|███▍      | 1198/3486 [11:26<35:50,  1.06it/s]"
          ],
          "name": "stderr"
        },
        {
          "output_type": "stream",
          "text": [
            "There are 12582729432player x questions pairs, tournament will be skipped\n",
            "3526\n",
            "(3780, 141)\n",
            "3527\n",
            "(6624, 186)\n",
            "3528\n",
            "(8856, 282)\n"
          ],
          "name": "stdout"
        },
        {
          "output_type": "stream",
          "text": [
            "\r 34%|███▍      | 1201/3486 [11:26<25:56,  1.47it/s]"
          ],
          "name": "stderr"
        },
        {
          "output_type": "stream",
          "text": [
            "3529\n",
            "(12960, 396)\n"
          ],
          "name": "stdout"
        },
        {
          "output_type": "stream",
          "text": [
            "\r 34%|███▍      | 1202/3486 [11:26<21:33,  1.77it/s]"
          ],
          "name": "stderr"
        },
        {
          "output_type": "stream",
          "text": [
            "3530\n",
            "(16200, 405)\n"
          ],
          "name": "stdout"
        },
        {
          "output_type": "stream",
          "text": [
            "\r 35%|███▍      | 1203/3486 [11:27<19:14,  1.98it/s]"
          ],
          "name": "stderr"
        },
        {
          "output_type": "stream",
          "text": [
            "3531\n",
            "(17640, 526)\n"
          ],
          "name": "stdout"
        },
        {
          "output_type": "stream",
          "text": [
            "\r 35%|███▍      | 1204/3486 [11:27<19:29,  1.95it/s]"
          ],
          "name": "stderr"
        },
        {
          "output_type": "stream",
          "text": [
            "3532\n",
            "(17208, 514)\n"
          ],
          "name": "stdout"
        },
        {
          "output_type": "stream",
          "text": [
            "\r 35%|███▍      | 1205/3486 [11:28<19:47,  1.92it/s]"
          ],
          "name": "stderr"
        },
        {
          "output_type": "stream",
          "text": [
            "3534\n",
            "(15840, 476)\n"
          ],
          "name": "stdout"
        },
        {
          "output_type": "stream",
          "text": [
            "\r 35%|███▍      | 1206/3486 [11:28<17:59,  2.11it/s]"
          ],
          "name": "stderr"
        },
        {
          "output_type": "stream",
          "text": [
            "3535\n",
            "(19656, 582)\n"
          ],
          "name": "stdout"
        },
        {
          "output_type": "stream",
          "text": [
            "\r 35%|███▍      | 1207/3486 [11:29<21:04,  1.80it/s]"
          ],
          "name": "stderr"
        },
        {
          "output_type": "stream",
          "text": [
            "3536\n",
            "(11808, 364)\n"
          ],
          "name": "stdout"
        },
        {
          "output_type": "stream",
          "text": [
            "\r 35%|███▍      | 1208/3486 [11:29<17:34,  2.16it/s]"
          ],
          "name": "stderr"
        },
        {
          "output_type": "stream",
          "text": [
            "3537\n",
            "(3792, 127)\n",
            "3539\n",
            "(34950, 541)\n"
          ],
          "name": "stdout"
        },
        {
          "output_type": "stream",
          "text": [
            "\r 35%|███▍      | 1210/3486 [11:30<19:05,  1.99it/s]"
          ],
          "name": "stderr"
        },
        {
          "output_type": "stream",
          "text": [
            "3540\n",
            "(4158, 141)\n",
            "3542\n",
            "(42012, 1203)\n"
          ],
          "name": "stdout"
        },
        {
          "output_type": "stream",
          "text": [
            " 35%|███▍      | 1214/3486 [11:34<24:51,  1.52it/s]"
          ],
          "name": "stderr"
        },
        {
          "output_type": "stream",
          "text": [
            "3543\n",
            "(5688, 194)\n",
            "3544\n",
            "(7008, 194)\n",
            "3545\n",
            "(32490, 451)\n"
          ],
          "name": "stdout"
        },
        {
          "output_type": "stream",
          "text": [
            " 35%|███▍      | 1217/3486 [11:35<18:21,  2.06it/s]"
          ],
          "name": "stderr"
        },
        {
          "output_type": "stream",
          "text": [
            "3546\n",
            "(6000, 173)\n",
            "3548\n",
            "(5152, 148)\n",
            "3549\n",
            "(82350, 633)\n"
          ],
          "name": "stdout"
        },
        {
          "output_type": "stream",
          "text": [
            "\r 35%|███▍      | 1218/3486 [11:37<36:45,  1.03it/s]"
          ],
          "name": "stderr"
        },
        {
          "output_type": "stream",
          "text": [
            "3550\n",
            "(2808, 114)\n",
            "3552\n",
            "(15975, 400)\n"
          ],
          "name": "stdout"
        },
        {
          "output_type": "stream",
          "text": [
            " 35%|███▌      | 1222/3486 [11:38<20:22,  1.85it/s]"
          ],
          "name": "stderr"
        },
        {
          "output_type": "stream",
          "text": [
            "3553\n",
            "(3312, 128)\n",
            "3554\n",
            "There are 187952436player x questions pairs, tournament will be skipped\n",
            "3555\n"
          ],
          "name": "stdout"
        },
        {
          "output_type": "stream",
          "text": [
            " 35%|███▌      | 1224/3486 [11:38<12:56,  2.91it/s]"
          ],
          "name": "stderr"
        },
        {
          "output_type": "stream",
          "text": [
            "There are 600809664player x questions pairs, tournament will be skipped\n",
            "3556\n",
            "There are 404209344player x questions pairs, tournament will be skipped\n",
            "3557\n",
            "(28800, 685)\n"
          ],
          "name": "stdout"
        },
        {
          "output_type": "stream",
          "text": [
            "\r 35%|███▌      | 1225/3486 [11:39<21:56,  1.72it/s]"
          ],
          "name": "stderr"
        },
        {
          "output_type": "stream",
          "text": [
            "3558\n",
            "(44550, 1035)\n"
          ],
          "name": "stdout"
        },
        {
          "output_type": "stream",
          "text": [
            "\r 35%|███▌      | 1226/3486 [11:42<46:59,  1.25s/it]"
          ],
          "name": "stderr"
        },
        {
          "output_type": "stream",
          "text": [
            "3561\n",
            "(9150, 197)\n",
            "3562\n",
            "(12996, 397)\n"
          ],
          "name": "stdout"
        },
        {
          "output_type": "stream",
          "text": [
            " 35%|███▌      | 1229/3486 [11:42<25:42,  1.46it/s]"
          ],
          "name": "stderr"
        },
        {
          "output_type": "stream",
          "text": [
            "3563\n",
            "(11775, 232)\n",
            "3564\n",
            "(18840, 374)\n"
          ],
          "name": "stdout"
        },
        {
          "output_type": "stream",
          "text": [
            " 35%|███▌      | 1231/3486 [11:43<17:17,  2.17it/s]"
          ],
          "name": "stderr"
        },
        {
          "output_type": "stream",
          "text": [
            "3565\n",
            "(14040, 246)\n",
            "3566\n",
            "(7092, 233)\n",
            "3567\n",
            "(1209, 70)\n",
            "3568\n",
            "(32940, 456)\n"
          ],
          "name": "stdout"
        },
        {
          "output_type": "stream",
          "text": [
            "\r 35%|███▌      | 1234/3486 [11:44<15:02,  2.50it/s]"
          ],
          "name": "stderr"
        },
        {
          "output_type": "stream",
          "text": [
            "3569\n"
          ],
          "name": "stdout"
        },
        {
          "output_type": "stream",
          "text": [
            "\r 35%|███▌      | 1235/3486 [11:45<24:11,  1.55it/s]"
          ],
          "name": "stderr"
        },
        {
          "output_type": "stream",
          "text": [
            "There are 12297132648player x questions pairs, tournament will be skipped\n",
            "3570\n",
            "(3240, 114)\n",
            "3571\n"
          ],
          "name": "stdout"
        },
        {
          "output_type": "stream",
          "text": [
            " 36%|███▌      | 1239/3486 [11:45<13:28,  2.78it/s]"
          ],
          "name": "stderr"
        },
        {
          "output_type": "stream",
          "text": [
            "There are 147552000player x questions pairs, tournament will be skipped\n",
            "3572\n",
            "(5040, 153)\n",
            "3573\n",
            "(7500, 185)\n",
            "3574\n",
            "(22440, 434)\n"
          ],
          "name": "stdout"
        },
        {
          "output_type": "stream",
          "text": [
            " 36%|███▌      | 1242/3486 [11:46<11:51,  3.16it/s]"
          ],
          "name": "stderr"
        },
        {
          "output_type": "stream",
          "text": [
            "3575\n",
            "(6804, 225)\n",
            "3576\n",
            "(5364, 185)\n",
            "3578\n"
          ],
          "name": "stdout"
        },
        {
          "output_type": "stream",
          "text": [
            " 36%|███▌      | 1246/3486 [11:47<09:50,  3.79it/s]"
          ],
          "name": "stderr"
        },
        {
          "output_type": "stream",
          "text": [
            "There are 1913925780player x questions pairs, tournament will be skipped\n",
            "3579\n",
            "(7452, 243)\n",
            "3580\n",
            "(1512, 78)\n",
            "3581\n",
            "(3612, 128)\n",
            "3582\n",
            "(6300, 240)\n",
            "3583\n"
          ],
          "name": "stdout"
        },
        {
          "output_type": "stream",
          "text": [
            "\r 36%|███▌      | 1248/3486 [11:47<07:46,  4.80it/s]"
          ],
          "name": "stderr"
        },
        {
          "output_type": "stream",
          "text": [
            "(9300, 199)\n",
            "3584\n",
            "(15525, 282)\n"
          ],
          "name": "stdout"
        },
        {
          "output_type": "stream",
          "text": [
            "\r 36%|███▌      | 1250/3486 [11:47<07:05,  5.25it/s]"
          ],
          "name": "stderr"
        },
        {
          "output_type": "stream",
          "text": [
            "3585\n",
            "(6816, 190)\n",
            "3586\n",
            "(180, 41)\n",
            "3587\n",
            "(21240, 626)\n"
          ],
          "name": "stdout"
        },
        {
          "output_type": "stream",
          "text": [
            " 36%|███▌      | 1253/3486 [11:48<08:04,  4.61it/s]"
          ],
          "name": "stderr"
        },
        {
          "output_type": "stream",
          "text": [
            "3589\n",
            "(12825, 255)\n",
            "3590\n",
            "(12195, 253)\n"
          ],
          "name": "stdout"
        },
        {
          "output_type": "stream",
          "text": [
            "\r 36%|███▌      | 1254/3486 [11:48<07:17,  5.10it/s]"
          ],
          "name": "stderr"
        },
        {
          "output_type": "stream",
          "text": [
            "3591\n",
            "(25992, 758)\n"
          ],
          "name": "stdout"
        },
        {
          "output_type": "stream",
          "text": [
            " 36%|███▌      | 1256/3486 [11:49<13:29,  2.76it/s]"
          ],
          "name": "stderr"
        },
        {
          "output_type": "stream",
          "text": [
            "3592\n",
            "(11520, 224)\n",
            "3593\n",
            "(16038, 261)\n"
          ],
          "name": "stdout"
        },
        {
          "output_type": "stream",
          "text": [
            "\r 36%|███▌      | 1257/3486 [11:50<11:27,  3.24it/s]"
          ],
          "name": "stderr"
        },
        {
          "output_type": "stream",
          "text": [
            "3594\n",
            "(3225, 118)\n",
            "3595\n",
            "(12960, 318)\n"
          ],
          "name": "stdout"
        },
        {
          "output_type": "stream",
          "text": [
            " 36%|███▌      | 1261/3486 [11:50<07:26,  4.98it/s]"
          ],
          "name": "stderr"
        },
        {
          "output_type": "stream",
          "text": [
            "3597\n",
            "(2640, 103)\n",
            "3598\n",
            "(11940, 259)\n",
            "3599\n",
            "(63855, 1464)\n"
          ],
          "name": "stdout"
        },
        {
          "output_type": "stream",
          "text": [
            "\r 36%|███▌      | 1262/3486 [11:55<1:06:37,  1.80s/it]"
          ],
          "name": "stderr"
        },
        {
          "output_type": "stream",
          "text": [
            "3600\n",
            "(4275, 132)\n",
            "3601\n",
            "(12924, 395)\n"
          ],
          "name": "stdout"
        },
        {
          "output_type": "stream",
          "text": [
            " 36%|███▋      | 1265/3486 [11:56<35:16,  1.05it/s]"
          ],
          "name": "stderr"
        },
        {
          "output_type": "stream",
          "text": [
            "3602\n",
            "(12672, 248)\n",
            "3604\n",
            "(3360, 122)\n",
            "3605\n",
            "(2700, 111)\n",
            "3606\n",
            "(1188, 69)\n"
          ],
          "name": "stdout"
        },
        {
          "output_type": "stream",
          "text": [
            "\r 36%|███▋      | 1269/3486 [11:56<25:21,  1.46it/s]"
          ],
          "name": "stderr"
        },
        {
          "output_type": "stream",
          "text": [
            "3607\n",
            "(11835, 308)\n",
            "3608\n",
            "(22464, 660)\n"
          ],
          "name": "stdout"
        },
        {
          "output_type": "stream",
          "text": [
            "\r 36%|███▋      | 1270/3486 [11:57<26:55,  1.37it/s]"
          ],
          "name": "stderr"
        },
        {
          "output_type": "stream",
          "text": [
            "3609\n",
            "(26100, 761)\n"
          ],
          "name": "stdout"
        },
        {
          "output_type": "stream",
          "text": [
            " 36%|███▋      | 1272/3486 [11:58<24:19,  1.52it/s]"
          ],
          "name": "stderr"
        },
        {
          "output_type": "stream",
          "text": [
            "3610\n",
            "(9468, 299)\n",
            "3611\n",
            "(6804, 225)\n"
          ],
          "name": "stdout"
        },
        {
          "output_type": "stream",
          "text": [
            " 37%|███▋      | 1276/3486 [11:59<13:01,  2.83it/s]"
          ],
          "name": "stderr"
        },
        {
          "output_type": "stream",
          "text": [
            "3612\n",
            "(4752, 168)\n",
            "3613\n",
            "(6420, 167)\n",
            "3615\n",
            "(5535, 168)\n",
            "3616\n",
            "(23148, 679)\n"
          ],
          "name": "stdout"
        },
        {
          "output_type": "stream",
          "text": [
            "\r 37%|███▋      | 1278/3486 [12:00<14:51,  2.48it/s]"
          ],
          "name": "stderr"
        },
        {
          "output_type": "stream",
          "text": [
            "3617\n",
            "(10740, 327)\n",
            "3618\n",
            "(18816, 490)\n"
          ],
          "name": "stdout"
        },
        {
          "output_type": "stream",
          "text": [
            "\r 37%|███▋      | 1279/3486 [12:00<16:12,  2.27it/s]"
          ],
          "name": "stderr"
        },
        {
          "output_type": "stream",
          "text": [
            "3619\n",
            "(20910, 298)\n"
          ],
          "name": "stdout"
        },
        {
          "output_type": "stream",
          "text": [
            "\r 37%|███▋      | 1280/3486 [12:00<14:48,  2.48it/s]"
          ],
          "name": "stderr"
        },
        {
          "output_type": "stream",
          "text": [
            "3621\n",
            "(7575, 176)\n",
            "3622\n",
            "(34740, 817)\n"
          ],
          "name": "stdout"
        },
        {
          "output_type": "stream",
          "text": [
            " 37%|███▋      | 1283/3486 [12:03<16:26,  2.23it/s]"
          ],
          "name": "stderr"
        },
        {
          "output_type": "stream",
          "text": [
            "3623\n",
            "(12840, 274)\n",
            "3624\n",
            "(3720, 122)\n"
          ],
          "name": "stdout"
        },
        {
          "output_type": "stream",
          "text": [
            "\r 37%|███▋      | 1285/3486 [12:03<12:25,  2.95it/s]"
          ],
          "name": "stderr"
        },
        {
          "output_type": "stream",
          "text": [
            "3626\n",
            "(11520, 252)\n",
            "3627\n",
            "(2844, 115)\n",
            "3628\n",
            "(648, 54)\n",
            "3629\n"
          ],
          "name": "stdout"
        },
        {
          "output_type": "stream",
          "text": [
            "\r 37%|███▋      | 1288/3486 [12:03<09:19,  3.93it/s]"
          ],
          "name": "stderr"
        },
        {
          "output_type": "stream",
          "text": [
            "(11100, 245)\n",
            "3630\n",
            "(4293, 195)\n",
            "3631\n",
            "(4725, 138)\n",
            "3634\n"
          ],
          "name": "stdout"
        },
        {
          "output_type": "stream",
          "text": [
            "\r 37%|███▋      | 1291/3486 [12:03<07:10,  5.09it/s]"
          ],
          "name": "stderr"
        },
        {
          "output_type": "stream",
          "text": [
            "(9180, 213)\n",
            "3635\n",
            "(4005, 134)\n",
            "3639\n",
            "(13284, 405)\n"
          ],
          "name": "stdout"
        },
        {
          "output_type": "stream",
          "text": [
            "\r 37%|███▋      | 1293/3486 [12:03<06:43,  5.43it/s]"
          ],
          "name": "stderr"
        },
        {
          "output_type": "stream",
          "text": [
            "3640\n",
            "(12915, 332)\n",
            "3641\n"
          ],
          "name": "stdout"
        },
        {
          "output_type": "stream",
          "text": [
            "\r 37%|███▋      | 1295/3486 [12:04<06:01,  6.06it/s]"
          ],
          "name": "stderr"
        },
        {
          "output_type": "stream",
          "text": [
            "(5175, 160)\n",
            "3642\n",
            "(1944, 90)\n",
            "3643\n",
            "(23205, 634)\n"
          ],
          "name": "stdout"
        },
        {
          "output_type": "stream",
          "text": [
            " 37%|███▋      | 1298/3486 [12:05<08:08,  4.48it/s]"
          ],
          "name": "stderr"
        },
        {
          "output_type": "stream",
          "text": [
            "3644\n",
            "(11250, 225)\n",
            "3645\n",
            "(5292, 183)\n",
            "3646\n",
            "(18810, 463)\n"
          ],
          "name": "stdout"
        },
        {
          "output_type": "stream",
          "text": [
            " 37%|███▋      | 1302/3486 [12:05<06:49,  5.34it/s]"
          ],
          "name": "stderr"
        },
        {
          "output_type": "stream",
          "text": [
            "3647\n",
            "(2916, 117)\n",
            "3648\n",
            "There are 102649680player x questions pairs, tournament will be skipped\n",
            "3649\n",
            "(34200, 805)\n"
          ],
          "name": "stdout"
        },
        {
          "output_type": "stream",
          "text": [
            " 37%|███▋      | 1304/3486 [12:07<15:39,  2.32it/s]"
          ],
          "name": "stderr"
        },
        {
          "output_type": "stream",
          "text": [
            "3650\n",
            "(9468, 299)\n",
            "3651\n",
            "(54675, 1260)\n"
          ],
          "name": "stdout"
        },
        {
          "output_type": "stream",
          "text": [
            " 37%|███▋      | 1306/3486 [12:11<36:08,  1.01it/s]"
          ],
          "name": "stderr"
        },
        {
          "output_type": "stream",
          "text": [
            "3652\n",
            "(10800, 222)\n",
            "3653\n",
            "(7920, 192)\n",
            "3654\n"
          ],
          "name": "stdout"
        },
        {
          "output_type": "stream",
          "text": [
            "\r 38%|███▊      | 1308/3486 [12:11<26:44,  1.36it/s]"
          ],
          "name": "stderr"
        },
        {
          "output_type": "stream",
          "text": [
            "There are 255433500player x questions pairs, tournament will be skipped\n",
            "3655\n",
            "(4050, 135)\n",
            "3656\n",
            "(43020, 1231)\n"
          ],
          "name": "stdout"
        },
        {
          "output_type": "stream",
          "text": [
            "\r 38%|███▊      | 1310/3486 [12:14<36:49,  1.02s/it]"
          ],
          "name": "stderr"
        },
        {
          "output_type": "stream",
          "text": [
            "3657\n",
            "(360, 42)\n",
            "3658\n",
            "(62280, 1429)\n"
          ],
          "name": "stdout"
        },
        {
          "output_type": "stream",
          "text": [
            "\r 38%|███▊      | 1312/3486 [12:20<58:39,  1.62s/it]"
          ],
          "name": "stderr"
        },
        {
          "output_type": "stream",
          "text": [
            "3660\n",
            "(24552, 718)\n"
          ],
          "name": "stdout"
        },
        {
          "output_type": "stream",
          "text": [
            "\r 38%|███▊      | 1313/3486 [12:21<52:07,  1.44s/it]"
          ],
          "name": "stderr"
        },
        {
          "output_type": "stream",
          "text": [
            "3661\n",
            "(24885, 394)\n"
          ],
          "name": "stdout"
        },
        {
          "output_type": "stream",
          "text": [
            "\r 38%|███▊      | 1314/3486 [12:22<41:59,  1.16s/it]"
          ],
          "name": "stderr"
        },
        {
          "output_type": "stream",
          "text": [
            "3663\n",
            "(32004, 925)\n"
          ],
          "name": "stdout"
        },
        {
          "output_type": "stream",
          "text": [
            " 38%|███▊      | 1316/3486 [12:24<33:45,  1.07it/s]"
          ],
          "name": "stderr"
        },
        {
          "output_type": "stream",
          "text": [
            "3664\n",
            "There are 135555240player x questions pairs, tournament will be skipped\n",
            "3665\n",
            "(40968, 1174)\n"
          ],
          "name": "stdout"
        },
        {
          "output_type": "stream",
          "text": [
            " 38%|███▊      | 1319/3486 [12:27<39:45,  1.10s/it]"
          ],
          "name": "stderr"
        },
        {
          "output_type": "stream",
          "text": [
            "3666\n",
            "(3216, 115)\n",
            "3667\n",
            "(12750, 227)\n",
            "3668\n",
            "(5830, 161)\n"
          ],
          "name": "stdout"
        },
        {
          "output_type": "stream",
          "text": [
            "\r 38%|███▊      | 1321/3486 [12:27<28:32,  1.26it/s]"
          ],
          "name": "stderr"
        },
        {
          "output_type": "stream",
          "text": [
            "3669\n",
            "(6380, 189)\n",
            "3671\n",
            "(32445, 766)\n"
          ],
          "name": "stdout"
        },
        {
          "output_type": "stream",
          "text": [
            " 38%|███▊      | 1324/3486 [12:28<26:05,  1.38it/s]"
          ],
          "name": "stderr"
        },
        {
          "output_type": "stream",
          "text": [
            "3672\n",
            "(3600, 123)\n",
            "3673\n",
            "(9648, 304)\n",
            "3674\n",
            "(22968, 674)\n"
          ],
          "name": "stdout"
        },
        {
          "output_type": "stream",
          "text": [
            "\r 38%|███▊      | 1325/3486 [12:29<27:50,  1.29it/s]"
          ],
          "name": "stderr"
        },
        {
          "output_type": "stream",
          "text": [
            "3676\n",
            "(1800, 86)\n",
            "3678\n",
            "(2232, 98)\n",
            "3679\n",
            "(3528, 134)\n",
            "3683\n",
            "(14652, 443)\n"
          ],
          "name": "stdout"
        },
        {
          "output_type": "stream",
          "text": [
            "\r 38%|███▊      | 1329/3486 [12:30<20:33,  1.75it/s]"
          ],
          "name": "stderr"
        },
        {
          "output_type": "stream",
          "text": [
            "3684\n",
            "(38250, 895)\n"
          ],
          "name": "stdout"
        },
        {
          "output_type": "stream",
          "text": [
            " 38%|███▊      | 1331/3486 [12:32<26:04,  1.38it/s]"
          ],
          "name": "stderr"
        },
        {
          "output_type": "stream",
          "text": [
            "3685\n",
            "(10350, 275)\n",
            "3686\n",
            "(10845, 286)\n"
          ],
          "name": "stdout"
        },
        {
          "output_type": "stream",
          "text": [
            "\r 38%|███▊      | 1332/3486 [12:32<20:02,  1.79it/s]"
          ],
          "name": "stderr"
        },
        {
          "output_type": "stream",
          "text": [
            "3687\n",
            "(32625, 770)\n"
          ],
          "name": "stdout"
        },
        {
          "output_type": "stream",
          "text": [
            " 38%|███▊      | 1335/3486 [12:33<20:48,  1.72it/s]"
          ],
          "name": "stderr"
        },
        {
          "output_type": "stream",
          "text": [
            "3688\n",
            "(2880, 116)\n",
            "3689\n",
            "(8145, 226)\n",
            "3690\n",
            "(32670, 453)\n"
          ],
          "name": "stdout"
        },
        {
          "output_type": "stream",
          "text": [
            "\r 38%|███▊      | 1336/3486 [12:34<22:23,  1.60it/s]"
          ],
          "name": "stderr"
        },
        {
          "output_type": "stream",
          "text": [
            "3691\n",
            "(43425, 1010)\n"
          ],
          "name": "stdout"
        },
        {
          "output_type": "stream",
          "text": [
            "\r 38%|███▊      | 1337/3486 [12:37<42:47,  1.19s/it]"
          ],
          "name": "stderr"
        },
        {
          "output_type": "stream",
          "text": [
            "3692\n",
            "(7128, 234)\n",
            "3693\n",
            "(17088, 404)\n"
          ],
          "name": "stdout"
        },
        {
          "output_type": "stream",
          "text": [
            "\r 38%|███▊      | 1339/3486 [12:37<32:18,  1.11it/s]"
          ],
          "name": "stderr"
        },
        {
          "output_type": "stream",
          "text": [
            "3694\n",
            "(25308, 739)\n"
          ],
          "name": "stdout"
        },
        {
          "output_type": "stream",
          "text": [
            " 38%|███▊      | 1341/3486 [12:38<25:57,  1.38it/s]"
          ],
          "name": "stderr"
        },
        {
          "output_type": "stream",
          "text": [
            "3695\n",
            "There are 161176752player x questions pairs, tournament will be skipped\n",
            "3696\n",
            "(12624, 311)\n"
          ],
          "name": "stdout"
        },
        {
          "output_type": "stream",
          "text": [
            "\r 38%|███▊      | 1342/3486 [12:39<20:11,  1.77it/s]"
          ],
          "name": "stderr"
        },
        {
          "output_type": "stream",
          "text": [
            "3698\n",
            "(14076, 427)\n"
          ],
          "name": "stdout"
        },
        {
          "output_type": "stream",
          "text": [
            " 39%|███▊      | 1344/3486 [12:39<13:46,  2.59it/s]"
          ],
          "name": "stderr"
        },
        {
          "output_type": "stream",
          "text": [
            "3700\n",
            "(12480, 268)\n",
            "3701\n",
            "(43425, 654)\n"
          ],
          "name": "stdout"
        },
        {
          "output_type": "stream",
          "text": [
            "\r 39%|███▊      | 1345/3486 [12:41<24:34,  1.45it/s]"
          ],
          "name": "stderr"
        },
        {
          "output_type": "stream",
          "text": [
            "3702\n",
            "(23625, 390)\n"
          ],
          "name": "stdout"
        },
        {
          "output_type": "stream",
          "text": [
            "\r 39%|███▊      | 1346/3486 [12:41<22:09,  1.61it/s]"
          ],
          "name": "stderr"
        },
        {
          "output_type": "stream",
          "text": [
            "3704\n",
            "(3240, 117)\n",
            "3705\n",
            "(17730, 287)\n"
          ],
          "name": "stdout"
        },
        {
          "output_type": "stream",
          "text": [
            "\r 39%|███▊      | 1348/3486 [12:41<17:07,  2.08it/s]"
          ],
          "name": "stderr"
        },
        {
          "output_type": "stream",
          "text": [
            "3706\n",
            "(4029, 130)\n",
            "3708\n"
          ],
          "name": "stdout"
        },
        {
          "output_type": "stream",
          "text": [
            "\r 39%|███▊      | 1350/3486 [12:42<14:27,  2.46it/s]"
          ],
          "name": "stderr"
        },
        {
          "output_type": "stream",
          "text": [
            "There are 1569658104player x questions pairs, tournament will be skipped\n",
            "3709\n",
            "(8400, 218)\n",
            "3710\n",
            "(14184, 430)\n"
          ],
          "name": "stdout"
        },
        {
          "output_type": "stream",
          "text": [
            "\r 39%|███▉      | 1352/3486 [12:42<12:16,  2.90it/s]"
          ],
          "name": "stderr"
        },
        {
          "output_type": "stream",
          "text": [
            "3711\n",
            "(19584, 580)\n"
          ],
          "name": "stdout"
        },
        {
          "output_type": "stream",
          "text": [
            "\r 39%|███▉      | 1353/3486 [12:43<15:12,  2.34it/s]"
          ],
          "name": "stderr"
        },
        {
          "output_type": "stream",
          "text": [
            "3712\n",
            "(33000, 794)\n"
          ],
          "name": "stdout"
        },
        {
          "output_type": "stream",
          "text": [
            "\r 39%|███▉      | 1354/3486 [12:44<25:01,  1.42it/s]"
          ],
          "name": "stderr"
        },
        {
          "output_type": "stream",
          "text": [
            "3713\n",
            "(4932, 173)\n",
            "3714\n",
            "(37840, 986)\n"
          ],
          "name": "stdout"
        },
        {
          "output_type": "stream",
          "text": [
            "\r 39%|███▉      | 1356/3486 [12:46<29:54,  1.19it/s]"
          ],
          "name": "stderr"
        },
        {
          "output_type": "stream",
          "text": [
            "3715\n",
            "(6336, 180)\n",
            "3716\n",
            "(20232, 353)\n"
          ],
          "name": "stdout"
        },
        {
          "output_type": "stream",
          "text": [
            "\r 39%|███▉      | 1358/3486 [12:47<23:31,  1.51it/s]"
          ],
          "name": "stderr"
        },
        {
          "output_type": "stream",
          "text": [
            "3717\n",
            "(21966, 565)\n"
          ],
          "name": "stdout"
        },
        {
          "output_type": "stream",
          "text": [
            " 39%|███▉      | 1360/3486 [12:48<17:51,  1.98it/s]"
          ],
          "name": "stderr"
        },
        {
          "output_type": "stream",
          "text": [
            "3718\n",
            "(12720, 272)\n",
            "3719\n"
          ],
          "name": "stdout"
        },
        {
          "output_type": "stream",
          "text": [
            " 39%|███▉      | 1362/3486 [12:48<11:07,  3.18it/s]"
          ],
          "name": "stderr"
        },
        {
          "output_type": "stream",
          "text": [
            "There are 239247360player x questions pairs, tournament will be skipped\n",
            "3720\n",
            "There are 382430568player x questions pairs, tournament will be skipped\n",
            "3721\n",
            "(40896, 1172)\n"
          ],
          "name": "stdout"
        },
        {
          "output_type": "stream",
          "text": [
            "\r 39%|███▉      | 1363/3486 [12:51<37:04,  1.05s/it]"
          ],
          "name": "stderr"
        },
        {
          "output_type": "stream",
          "text": [
            "3722\n",
            "(17460, 521)\n"
          ],
          "name": "stdout"
        },
        {
          "output_type": "stream",
          "text": [
            " 39%|███▉      | 1365/3486 [12:51<23:21,  1.51it/s]"
          ],
          "name": "stderr"
        },
        {
          "output_type": "stream",
          "text": [
            "3723\n",
            "(10560, 236)\n",
            "3724\n",
            "(3600, 123)\n",
            "3725\n",
            "(7260, 181)\n",
            "3726\n",
            "(15930, 399)\n"
          ],
          "name": "stdout"
        },
        {
          "output_type": "stream",
          "text": [
            " 39%|███▉      | 1369/3486 [12:52<14:23,  2.45it/s]"
          ],
          "name": "stderr"
        },
        {
          "output_type": "stream",
          "text": [
            "3727\n",
            "There are 198135315player x questions pairs, tournament will be skipped\n",
            "3728\n",
            "(5832, 198)\n"
          ],
          "name": "stdout"
        },
        {
          "output_type": "stream",
          "text": [
            "\r 39%|███▉      | 1372/3486 [12:52<10:31,  3.35it/s]"
          ],
          "name": "stderr"
        },
        {
          "output_type": "stream",
          "text": [
            "3732\n",
            "(3780, 141)\n",
            "3733\n",
            "(3816, 142)\n",
            "3735\n",
            "(5400, 186)\n",
            "3736\n"
          ],
          "name": "stdout"
        },
        {
          "output_type": "stream",
          "text": [
            "\r 39%|███▉      | 1374/3486 [12:52<08:23,  4.19it/s]"
          ],
          "name": "stderr"
        },
        {
          "output_type": "stream",
          "text": [
            "There are 159505236player x questions pairs, tournament will be skipped\n",
            "3737\n",
            "(21600, 330)\n"
          ],
          "name": "stdout"
        },
        {
          "output_type": "stream",
          "text": [
            "\r 39%|███▉      | 1376/3486 [12:53<07:55,  4.44it/s]"
          ],
          "name": "stderr"
        },
        {
          "output_type": "stream",
          "text": [
            "3738\n",
            "(6192, 208)\n",
            "3740\n",
            "(6420, 167)\n",
            "3741\n",
            "(27810, 399)\n"
          ],
          "name": "stdout"
        },
        {
          "output_type": "stream",
          "text": [
            " 40%|███▉      | 1380/3486 [12:53<06:35,  5.32it/s]"
          ],
          "name": "stderr"
        },
        {
          "output_type": "stream",
          "text": [
            "3742\n",
            "(5712, 167)\n",
            "3743\n",
            "(7200, 180)\n",
            "3744\n",
            "(28880, 762)\n"
          ],
          "name": "stdout"
        },
        {
          "output_type": "stream",
          "text": [
            " 40%|███▉      | 1383/3486 [12:55<08:34,  4.09it/s]"
          ],
          "name": "stderr"
        },
        {
          "output_type": "stream",
          "text": [
            "3747\n",
            "(4860, 171)\n",
            "3748\n",
            "(9720, 261)\n",
            "3749\n"
          ],
          "name": "stdout"
        },
        {
          "output_type": "stream",
          "text": [
            "\r 40%|███▉      | 1384/3486 [12:55<07:32,  4.64it/s]"
          ],
          "name": "stderr"
        },
        {
          "output_type": "stream",
          "text": [
            "(12420, 267)\n",
            "3750\n"
          ],
          "name": "stdout"
        },
        {
          "output_type": "stream",
          "text": [
            "\r 40%|███▉      | 1385/3486 [12:55<06:41,  5.23it/s]"
          ],
          "name": "stderr"
        },
        {
          "output_type": "stream",
          "text": [
            "There are 193587732player x questions pairs, tournament will be skipped\n",
            "3751\n",
            "(27972, 813)\n"
          ],
          "name": "stdout"
        },
        {
          "output_type": "stream",
          "text": [
            " 40%|███▉      | 1389/3486 [12:56<13:31,  2.59it/s]"
          ],
          "name": "stderr"
        },
        {
          "output_type": "stream",
          "text": [
            "3752\n",
            "(1395, 76)\n",
            "3753\n",
            "(4032, 148)\n",
            "3754\n",
            "(5652, 193)\n",
            "3755\n",
            "(11648, 276)\n",
            "3756\n",
            "(30636, 887)\n"
          ],
          "name": "stdout"
        },
        {
          "output_type": "stream",
          "text": [
            "\r 40%|███▉      | 1391/3486 [12:58<19:42,  1.77it/s]"
          ],
          "name": "stderr"
        },
        {
          "output_type": "stream",
          "text": [
            "3757\n",
            "(8580, 203)\n",
            "3758\n",
            "(25740, 617)\n"
          ],
          "name": "stdout"
        },
        {
          "output_type": "stream",
          "text": [
            " 40%|███▉      | 1394/3486 [13:00<15:24,  2.26it/s]"
          ],
          "name": "stderr"
        },
        {
          "output_type": "stream",
          "text": [
            "3759\n",
            "(11700, 361)\n",
            "3760\n",
            "(3780, 129)\n"
          ],
          "name": "stdout"
        },
        {
          "output_type": "stream",
          "text": [
            "\r 40%|████      | 1396/3486 [13:00<11:24,  3.05it/s]"
          ],
          "name": "stderr"
        },
        {
          "output_type": "stream",
          "text": [
            "3761\n",
            "(9000, 210)\n",
            "3762\n",
            "(19170, 303)\n"
          ],
          "name": "stdout"
        },
        {
          "output_type": "stream",
          "text": [
            " 40%|████      | 1399/3486 [13:00<08:04,  4.31it/s]"
          ],
          "name": "stderr"
        },
        {
          "output_type": "stream",
          "text": [
            "3763\n",
            "(4968, 174)\n",
            "3764\n",
            "(6480, 216)\n",
            "3765\n",
            "(24444, 624)\n",
            "3766\n",
            "(12312, 378)\n"
          ],
          "name": "stdout"
        },
        {
          "output_type": "stream",
          "text": [
            " 40%|████      | 1403/3486 [13:01<08:20,  4.16it/s]"
          ],
          "name": "stderr"
        },
        {
          "output_type": "stream",
          "text": [
            "3767\n",
            "(8220, 197)\n",
            "3768\n",
            "(4150, 133)\n",
            "3769\n",
            "(2700, 105)\n",
            "3770\n",
            "(1116, 67)\n",
            "3771\n",
            "(31500, 911)\n"
          ],
          "name": "stdout"
        },
        {
          "output_type": "stream",
          "text": [
            "\r 40%|████      | 1406/3486 [13:03<11:39,  2.97it/s]"
          ],
          "name": "stderr"
        },
        {
          "output_type": "stream",
          "text": [
            "3772\n",
            "(5460, 151)\n",
            "3773\n",
            "(30492, 883)\n"
          ],
          "name": "stdout"
        },
        {
          "output_type": "stream",
          "text": [
            "\r 40%|████      | 1408/3486 [13:04<16:24,  2.11it/s]"
          ],
          "name": "stderr"
        },
        {
          "output_type": "stream",
          "text": [
            "3775\n"
          ],
          "name": "stdout"
        },
        {
          "output_type": "stream",
          "text": [
            " 40%|████      | 1410/3486 [13:05<11:54,  2.91it/s]"
          ],
          "name": "stderr"
        },
        {
          "output_type": "stream",
          "text": [
            "There are 1083451392player x questions pairs, tournament will be skipped\n",
            "3776\n",
            "There are 1032325236player x questions pairs, tournament will be skipped\n",
            "3777\n"
          ],
          "name": "stdout"
        },
        {
          "output_type": "stream",
          "text": [
            " 41%|████      | 1412/3486 [13:05<09:08,  3.78it/s]"
          ],
          "name": "stderr"
        },
        {
          "output_type": "stream",
          "text": [
            "There are 1021174272player x questions pairs, tournament will be skipped\n",
            "3778\n",
            "There are 873190836player x questions pairs, tournament will be skipped\n",
            "3779\n"
          ],
          "name": "stdout"
        },
        {
          "output_type": "stream",
          "text": [
            "\r 41%|████      | 1413/3486 [13:05<08:16,  4.18it/s]"
          ],
          "name": "stderr"
        },
        {
          "output_type": "stream",
          "text": [
            "There are 870002352player x questions pairs, tournament will be skipped\n",
            "3780\n"
          ],
          "name": "stdout"
        },
        {
          "output_type": "stream",
          "text": [
            "\r 41%|████      | 1414/3486 [13:07<18:13,  1.89it/s]"
          ],
          "name": "stderr"
        },
        {
          "output_type": "stream",
          "text": [
            "There are 14637905604player x questions pairs, tournament will be skipped\n",
            "3781\n"
          ],
          "name": "stdout"
        },
        {
          "output_type": "stream",
          "text": [
            " 41%|████      | 1417/3486 [13:07<11:30,  3.00it/s]"
          ],
          "name": "stderr"
        },
        {
          "output_type": "stream",
          "text": [
            "There are 1109172960player x questions pairs, tournament will be skipped\n",
            "3783\n",
            "(5400, 147)\n",
            "3784\n",
            "(11205, 294)\n",
            "3785\n"
          ],
          "name": "stdout"
        },
        {
          "output_type": "stream",
          "text": [
            "\r 41%|████      | 1418/3486 [13:07<09:51,  3.50it/s]"
          ],
          "name": "stderr"
        },
        {
          "output_type": "stream",
          "text": [
            "(13620, 287)\n",
            "3786\n",
            "(10200, 230)\n"
          ],
          "name": "stdout"
        },
        {
          "output_type": "stream",
          "text": [
            "\r 41%|████      | 1419/3486 [13:07<08:11,  4.20it/s]"
          ],
          "name": "stderr"
        },
        {
          "output_type": "stream",
          "text": [
            "3787\n",
            "(22824, 670)\n"
          ],
          "name": "stdout"
        },
        {
          "output_type": "stream",
          "text": [
            " 41%|████      | 1421/3486 [13:08<12:16,  2.80it/s]"
          ],
          "name": "stderr"
        },
        {
          "output_type": "stream",
          "text": [
            "3788\n",
            "(10188, 319)\n",
            "3789\n",
            "(3600, 123)\n",
            "3790\n"
          ],
          "name": "stdout"
        },
        {
          "output_type": "stream",
          "text": [
            "\r 41%|████      | 1423/3486 [13:09<09:18,  3.69it/s]"
          ],
          "name": "stderr"
        },
        {
          "output_type": "stream",
          "text": [
            "(8880, 208)\n",
            "3791\n",
            "(16650, 275)\n"
          ],
          "name": "stdout"
        },
        {
          "output_type": "stream",
          "text": [
            "\r 41%|████      | 1424/3486 [13:09<08:53,  3.87it/s]"
          ],
          "name": "stderr"
        },
        {
          "output_type": "stream",
          "text": [
            "3792\n",
            "(42570, 991)\n"
          ],
          "name": "stdout"
        },
        {
          "output_type": "stream",
          "text": [
            "\r 41%|████      | 1425/3486 [13:11<32:09,  1.07it/s]"
          ],
          "name": "stderr"
        },
        {
          "output_type": "stream",
          "text": [
            "3793\n",
            "(16776, 305)\n"
          ],
          "name": "stdout"
        },
        {
          "output_type": "stream",
          "text": [
            "\r 41%|████      | 1426/3486 [13:12<25:05,  1.37it/s]"
          ],
          "name": "stderr"
        },
        {
          "output_type": "stream",
          "text": [
            "3794\n",
            "(29556, 857)\n"
          ],
          "name": "stdout"
        },
        {
          "output_type": "stream",
          "text": [
            "\r 41%|████      | 1427/3486 [13:13<32:30,  1.06it/s]"
          ],
          "name": "stderr"
        },
        {
          "output_type": "stream",
          "text": [
            "3795\n",
            "(22950, 345)\n"
          ],
          "name": "stdout"
        },
        {
          "output_type": "stream",
          "text": [
            " 41%|████      | 1431/3486 [13:13<18:40,  1.83it/s]"
          ],
          "name": "stderr"
        },
        {
          "output_type": "stream",
          "text": [
            "3796\n",
            "(4992, 152)\n",
            "3797\n",
            "(3696, 125)\n",
            "3798\n",
            "(4185, 138)\n",
            "3799\n",
            "(6576, 185)\n",
            "3800\n",
            "(30060, 871)\n"
          ],
          "name": "stdout"
        },
        {
          "output_type": "stream",
          "text": [
            " 41%|████      | 1436/3486 [13:15<13:55,  2.45it/s]"
          ],
          "name": "stderr"
        },
        {
          "output_type": "stream",
          "text": [
            "3802\n",
            "(2052, 93)\n",
            "3803\n",
            "(4032, 148)\n",
            "3804\n",
            "(7128, 234)\n",
            "3805\n",
            "(5508, 189)\n",
            "3806\n",
            "(29520, 701)\n"
          ],
          "name": "stdout"
        },
        {
          "output_type": "stream",
          "text": [
            " 41%|████▏     | 1440/3486 [13:16<12:31,  2.72it/s]"
          ],
          "name": "stderr"
        },
        {
          "output_type": "stream",
          "text": [
            "3807\n",
            "(5940, 201)\n",
            "3808\n",
            "(6408, 214)\n",
            "3809\n",
            "(5616, 192)\n",
            "3811\n",
            "(19755, 484)\n"
          ],
          "name": "stdout"
        },
        {
          "output_type": "stream",
          "text": [
            "\r 41%|████▏     | 1442/3486 [13:17<11:46,  2.90it/s]"
          ],
          "name": "stderr"
        },
        {
          "output_type": "stream",
          "text": [
            "3812\n",
            "(3105, 114)\n",
            "3813\n",
            "(14445, 366)\n"
          ],
          "name": "stdout"
        },
        {
          "output_type": "stream",
          "text": [
            "\r 41%|████▏     | 1444/3486 [13:17<09:49,  3.47it/s]"
          ],
          "name": "stderr"
        },
        {
          "output_type": "stream",
          "text": [
            "3814\n",
            "(17640, 354)\n"
          ],
          "name": "stdout"
        },
        {
          "output_type": "stream",
          "text": [
            "\r 41%|████▏     | 1445/3486 [13:18<09:55,  3.42it/s]"
          ],
          "name": "stderr"
        },
        {
          "output_type": "stream",
          "text": [
            "3816\n",
            "(23832, 698)\n"
          ],
          "name": "stdout"
        },
        {
          "output_type": "stream",
          "text": [
            "\r 41%|████▏     | 1446/3486 [13:19<16:43,  2.03it/s]"
          ],
          "name": "stderr"
        },
        {
          "output_type": "stream",
          "text": [
            "3817\n",
            "(3960, 126)\n",
            "3818\n",
            "(19000, 515)\n"
          ],
          "name": "stdout"
        },
        {
          "output_type": "stream",
          "text": [
            " 42%|████▏     | 1451/3486 [13:19<10:59,  3.09it/s]"
          ],
          "name": "stderr"
        },
        {
          "output_type": "stream",
          "text": [
            "3819\n",
            "(8748, 189)\n",
            "3820\n",
            "(840, 59)\n",
            "3821\n",
            "(8400, 187)\n",
            "3822\n",
            "(1620, 81)\n",
            "3823\n"
          ],
          "name": "stdout"
        },
        {
          "output_type": "stream",
          "text": [
            "\r 42%|████▏     | 1453/3486 [13:20<08:55,  3.79it/s]"
          ],
          "name": "stderr"
        },
        {
          "output_type": "stream",
          "text": [
            "(12024, 370)\n",
            "3824\n"
          ],
          "name": "stdout"
        },
        {
          "output_type": "stream",
          "text": [
            "\r 42%|████▏     | 1454/3486 [13:20<07:41,  4.41it/s]"
          ],
          "name": "stderr"
        },
        {
          "output_type": "stream",
          "text": [
            "There are 115189200player x questions pairs, tournament will be skipped\n",
            "3825\n",
            "(42480, 562)\n"
          ],
          "name": "stdout"
        },
        {
          "output_type": "stream",
          "text": [
            "\r 42%|████▏     | 1455/3486 [13:21<17:08,  1.97it/s]"
          ],
          "name": "stderr"
        },
        {
          "output_type": "stream",
          "text": [
            "3826\n",
            "(26784, 444)\n"
          ],
          "name": "stdout"
        },
        {
          "output_type": "stream",
          "text": [
            " 42%|████▏     | 1457/3486 [13:22<14:20,  2.36it/s]"
          ],
          "name": "stderr"
        },
        {
          "output_type": "stream",
          "text": [
            "3827\n",
            "(11430, 299)\n",
            "3828\n",
            "(12240, 264)\n"
          ],
          "name": "stdout"
        },
        {
          "output_type": "stream",
          "text": [
            "\r 42%|████▏     | 1458/3486 [13:22<11:31,  2.93it/s]"
          ],
          "name": "stderr"
        },
        {
          "output_type": "stream",
          "text": [
            "3829\n",
            "(21276, 627)\n"
          ],
          "name": "stdout"
        },
        {
          "output_type": "stream",
          "text": [
            "\r 42%|████▏     | 1459/3486 [13:23<16:01,  2.11it/s]"
          ],
          "name": "stderr"
        },
        {
          "output_type": "stream",
          "text": [
            "3831\n",
            "(16632, 498)\n"
          ],
          "name": "stdout"
        },
        {
          "output_type": "stream",
          "text": [
            " 42%|████▏     | 1461/3486 [13:23<12:36,  2.68it/s]"
          ],
          "name": "stderr"
        },
        {
          "output_type": "stream",
          "text": [
            "3832\n",
            "(12105, 314)\n",
            "3833\n"
          ],
          "name": "stdout"
        },
        {
          "output_type": "stream",
          "text": [
            "\r 42%|████▏     | 1462/3486 [13:23<10:56,  3.08it/s]"
          ],
          "name": "stderr"
        },
        {
          "output_type": "stream",
          "text": [
            "(11952, 368)\n",
            "3834\n",
            "(32616, 942)\n"
          ],
          "name": "stdout"
        },
        {
          "output_type": "stream",
          "text": [
            " 42%|████▏     | 1464/3486 [13:25<20:47,  1.62it/s]"
          ],
          "name": "stderr"
        },
        {
          "output_type": "stream",
          "text": [
            "3835\n",
            "(10404, 325)\n",
            "3836\n",
            "(2124, 95)\n",
            "3837\n"
          ],
          "name": "stdout"
        },
        {
          "output_type": "stream",
          "text": [
            "\r 42%|████▏     | 1466/3486 [13:26<15:38,  2.15it/s]"
          ],
          "name": "stderr"
        },
        {
          "output_type": "stream",
          "text": [
            "(11952, 368)\n",
            "3838\n",
            "(12384, 244)\n"
          ],
          "name": "stdout"
        },
        {
          "output_type": "stream",
          "text": [
            " 42%|████▏     | 1469/3486 [13:26<09:28,  3.55it/s]"
          ],
          "name": "stderr"
        },
        {
          "output_type": "stream",
          "text": [
            "3839\n",
            "(7275, 172)\n",
            "3840\n",
            "(9432, 203)\n",
            "3841\n",
            "(4680, 166)\n",
            "3842\n",
            "(4536, 162)\n",
            "3843\n",
            "(15600, 283)\n"
          ],
          "name": "stdout"
        },
        {
          "output_type": "stream",
          "text": [
            "\r 42%|████▏     | 1472/3486 [13:26<07:39,  4.38it/s]"
          ],
          "name": "stderr"
        },
        {
          "output_type": "stream",
          "text": [
            "3844\n",
            "(38052, 1093)\n"
          ],
          "name": "stdout"
        },
        {
          "output_type": "stream",
          "text": [
            " 42%|████▏     | 1474/3486 [13:29<23:34,  1.42it/s]"
          ],
          "name": "stderr"
        },
        {
          "output_type": "stream",
          "text": [
            "3845\n",
            "(11220, 247)\n",
            "3846\n",
            "(13176, 402)\n"
          ],
          "name": "stdout"
        },
        {
          "output_type": "stream",
          "text": [
            " 42%|████▏     | 1476/3486 [13:29<14:51,  2.26it/s]"
          ],
          "name": "stderr"
        },
        {
          "output_type": "stream",
          "text": [
            "3847\n",
            "(10140, 229)\n",
            "3848\n",
            "(2232, 98)\n",
            "3849\n"
          ],
          "name": "stdout"
        },
        {
          "output_type": "stream",
          "text": [
            " 42%|████▏     | 1480/3486 [13:30<08:22,  3.99it/s]"
          ],
          "name": "stderr"
        },
        {
          "output_type": "stream",
          "text": [
            "There are 161786736player x questions pairs, tournament will be skipped\n",
            "3850\n",
            "(7683, 236)\n",
            "3852\n",
            "(3852, 143)\n",
            "3853\n",
            "(3096, 122)\n",
            "3854\n",
            "(14520, 302)\n"
          ],
          "name": "stdout"
        },
        {
          "output_type": "stream",
          "text": [
            "\r 43%|████▎     | 1482/3486 [13:30<07:09,  4.67it/s]"
          ],
          "name": "stderr"
        },
        {
          "output_type": "stream",
          "text": [
            "3855\n",
            "(32925, 514)\n"
          ],
          "name": "stdout"
        },
        {
          "output_type": "stream",
          "text": [
            "\r 43%|████▎     | 1483/3486 [13:31<12:56,  2.58it/s]"
          ],
          "name": "stderr"
        },
        {
          "output_type": "stream",
          "text": [
            "3856\n",
            "(4212, 153)\n",
            "3857\n",
            "(2880, 109)\n",
            "3858\n",
            "(37170, 503)\n"
          ],
          "name": "stdout"
        },
        {
          "output_type": "stream",
          "text": [
            "\r 43%|████▎     | 1486/3486 [13:32<12:15,  2.72it/s]"
          ],
          "name": "stderr"
        },
        {
          "output_type": "stream",
          "text": [
            "3859\n",
            "(7740, 251)\n",
            "3860\n",
            "(20700, 320)\n"
          ],
          "name": "stdout"
        },
        {
          "output_type": "stream",
          "text": [
            "\r 43%|████▎     | 1488/3486 [13:32<10:39,  3.12it/s]"
          ],
          "name": "stderr"
        },
        {
          "output_type": "stream",
          "text": [
            "3861\n",
            "(13062, 353)\n"
          ],
          "name": "stdout"
        },
        {
          "output_type": "stream",
          "text": [
            "\r 43%|████▎     | 1489/3486 [13:32<09:48,  3.39it/s]"
          ],
          "name": "stderr"
        },
        {
          "output_type": "stream",
          "text": [
            "3862\n",
            "(15084, 455)\n"
          ],
          "name": "stdout"
        },
        {
          "output_type": "stream",
          "text": [
            "\r 43%|████▎     | 1490/3486 [13:33<10:42,  3.11it/s]"
          ],
          "name": "stderr"
        },
        {
          "output_type": "stream",
          "text": [
            "3863\n",
            "(16884, 505)\n"
          ],
          "name": "stdout"
        },
        {
          "output_type": "stream",
          "text": [
            " 43%|████▎     | 1492/3486 [13:33<10:33,  3.15it/s]"
          ],
          "name": "stderr"
        },
        {
          "output_type": "stream",
          "text": [
            "3864\n",
            "(13464, 259)\n",
            "3865\n",
            "(7920, 182)\n",
            "3866\n"
          ],
          "name": "stdout"
        },
        {
          "output_type": "stream",
          "text": [
            " 43%|████▎     | 1495/3486 [13:34<07:52,  4.21it/s]"
          ],
          "name": "stderr"
        },
        {
          "output_type": "stream",
          "text": [
            "There are 684961920player x questions pairs, tournament will be skipped\n",
            "3867\n",
            "There are 731582640player x questions pairs, tournament will be skipped\n",
            "3868\n"
          ],
          "name": "stdout"
        },
        {
          "output_type": "stream",
          "text": [
            " 43%|████▎     | 1497/3486 [13:34<06:19,  5.23it/s]"
          ],
          "name": "stderr"
        },
        {
          "output_type": "stream",
          "text": [
            "There are 665937972player x questions pairs, tournament will be skipped\n",
            "3869\n",
            "There are 458804736player x questions pairs, tournament will be skipped\n",
            "3870\n"
          ],
          "name": "stdout"
        },
        {
          "output_type": "stream",
          "text": [
            " 43%|████▎     | 1499/3486 [13:35<05:45,  5.75it/s]"
          ],
          "name": "stderr"
        },
        {
          "output_type": "stream",
          "text": [
            "There are 719622612player x questions pairs, tournament will be skipped\n",
            "3871\n",
            "There are 592521300player x questions pairs, tournament will be skipped\n",
            "3873\n",
            "(2916, 117)\n",
            "3875\n",
            "(29340, 549)\n"
          ],
          "name": "stdout"
        },
        {
          "output_type": "stream",
          "text": [
            "\r 43%|████▎     | 1501/3486 [13:35<08:17,  3.99it/s]"
          ],
          "name": "stderr"
        },
        {
          "output_type": "stream",
          "text": [
            "3876\n",
            "(3105, 114)\n",
            "3877\n",
            "(30420, 881)\n"
          ],
          "name": "stdout"
        },
        {
          "output_type": "stream",
          "text": [
            "\r 43%|████▎     | 1503/3486 [13:37<12:55,  2.56it/s]"
          ],
          "name": "stderr"
        },
        {
          "output_type": "stream",
          "text": [
            "3878\n",
            "(115668, 681)\n"
          ],
          "name": "stdout"
        },
        {
          "output_type": "stream",
          "text": [
            "\r 43%|████▎     | 1504/3486 [13:40<42:09,  1.28s/it]"
          ],
          "name": "stderr"
        },
        {
          "output_type": "stream",
          "text": [
            "3879\n",
            "(17856, 532)\n"
          ],
          "name": "stdout"
        },
        {
          "output_type": "stream",
          "text": [
            "\r 43%|████▎     | 1505/3486 [13:41<33:43,  1.02s/it]"
          ],
          "name": "stderr"
        },
        {
          "output_type": "stream",
          "text": [
            "3880\n",
            "(34482, 863)\n"
          ],
          "name": "stdout"
        },
        {
          "output_type": "stream",
          "text": [
            "\r 43%|████▎     | 1506/3486 [13:42<38:32,  1.17s/it]"
          ],
          "name": "stderr"
        },
        {
          "output_type": "stream",
          "text": [
            "3881\n",
            "(6030, 179)\n",
            "3882\n",
            "(23688, 694)\n"
          ],
          "name": "stdout"
        },
        {
          "output_type": "stream",
          "text": [
            "\r 43%|████▎     | 1508/3486 [13:43<31:53,  1.03it/s]"
          ],
          "name": "stderr"
        },
        {
          "output_type": "stream",
          "text": [
            "3883\n",
            "(5940, 177)\n",
            "3884\n",
            "(10692, 333)\n"
          ],
          "name": "stdout"
        },
        {
          "output_type": "stream",
          "text": [
            " 43%|████▎     | 1511/3486 [13:44<17:43,  1.86it/s]"
          ],
          "name": "stderr"
        },
        {
          "output_type": "stream",
          "text": [
            "3885\n",
            "(10944, 249)\n",
            "3886\n",
            "(10380, 233)\n"
          ],
          "name": "stdout"
        },
        {
          "output_type": "stream",
          "text": [
            "\r 43%|████▎     | 1512/3486 [13:44<13:38,  2.41it/s]"
          ],
          "name": "stderr"
        },
        {
          "output_type": "stream",
          "text": [
            "3887\n",
            "(2475, 100)\n",
            "3888\n",
            "(20070, 313)\n"
          ],
          "name": "stdout"
        },
        {
          "output_type": "stream",
          "text": [
            "\r 43%|████▎     | 1514/3486 [13:44<11:18,  2.91it/s]"
          ],
          "name": "stderr"
        },
        {
          "output_type": "stream",
          "text": [
            "3889\n",
            "(59940, 1377)\n"
          ],
          "name": "stdout"
        },
        {
          "output_type": "stream",
          "text": [
            "\r 43%|████▎     | 1515/3486 [13:49<1:00:09,  1.83s/it]"
          ],
          "name": "stderr"
        },
        {
          "output_type": "stream",
          "text": [
            "3890\n",
            "(4860, 141)\n",
            "3891\n",
            "(54288, 1544)\n"
          ],
          "name": "stdout"
        },
        {
          "output_type": "stream",
          "text": [
            "\r 44%|████▎     | 1517/3486 [13:55<1:08:34,  2.09s/it]"
          ],
          "name": "stderr"
        },
        {
          "output_type": "stream",
          "text": [
            "3892\n",
            "(50688, 1444)\n"
          ],
          "name": "stdout"
        },
        {
          "output_type": "stream",
          "text": [
            "\r 44%|████▎     | 1518/3486 [14:00<1:36:05,  2.93s/it]"
          ],
          "name": "stderr"
        },
        {
          "output_type": "stream",
          "text": [
            "3893\n",
            "(42012, 1203)\n"
          ],
          "name": "stdout"
        },
        {
          "output_type": "stream",
          "text": [
            "\r 44%|████▎     | 1519/3486 [14:03<1:42:40,  3.13s/it]"
          ],
          "name": "stderr"
        },
        {
          "output_type": "stream",
          "text": [
            "3894\n",
            "(16800, 340)\n"
          ],
          "name": "stdout"
        },
        {
          "output_type": "stream",
          "text": [
            "\r 44%|████▎     | 1520/3486 [14:03<1:14:36,  2.28s/it]"
          ],
          "name": "stderr"
        },
        {
          "output_type": "stream",
          "text": [
            "3895\n"
          ],
          "name": "stdout"
        },
        {
          "output_type": "stream",
          "text": [
            "\r 44%|████▎     | 1521/3486 [14:04<55:02,  1.68s/it]  "
          ],
          "name": "stderr"
        },
        {
          "output_type": "stream",
          "text": [
            "There are 1111428864player x questions pairs, tournament will be skipped\n",
            "3896\n",
            "There are 1107679860player x questions pairs, tournament will be skipped\n"
          ],
          "name": "stdout"
        },
        {
          "output_type": "stream",
          "text": [
            " 44%|████▎     | 1523/3486 [14:04<30:19,  1.08it/s]"
          ],
          "name": "stderr"
        },
        {
          "output_type": "stream",
          "text": [
            "3897\n",
            "(11448, 354)\n",
            "3898\n"
          ],
          "name": "stdout"
        },
        {
          "output_type": "stream",
          "text": [
            "\r 44%|████▎     | 1524/3486 [14:04<22:13,  1.47it/s]"
          ],
          "name": "stderr"
        },
        {
          "output_type": "stream",
          "text": [
            "(8955, 244)\n",
            "3899\n",
            "(49860, 1421)\n"
          ],
          "name": "stdout"
        },
        {
          "output_type": "stream",
          "text": [
            "\r 44%|████▎     | 1525/3486 [14:09<1:00:27,  1.85s/it]"
          ],
          "name": "stderr"
        },
        {
          "output_type": "stream",
          "text": [
            "3901\n",
            "(20088, 351)\n"
          ],
          "name": "stdout"
        },
        {
          "output_type": "stream",
          "text": [
            " 44%|████▍     | 1527/3486 [14:09<33:13,  1.02s/it]"
          ],
          "name": "stderr"
        },
        {
          "output_type": "stream",
          "text": [
            "3902\n",
            "There are 201036810player x questions pairs, tournament will be skipped\n",
            "3903\n",
            "(43605, 1014)\n"
          ],
          "name": "stdout"
        },
        {
          "output_type": "stream",
          "text": [
            " 44%|████▍     | 1529/3486 [14:12<36:42,  1.13s/it]"
          ],
          "name": "stderr"
        },
        {
          "output_type": "stream",
          "text": [
            "3904\n",
            "(10380, 233)\n",
            "3905\n",
            "(1710, 87)\n",
            "3906\n",
            "(43470, 1077)\n"
          ],
          "name": "stdout"
        },
        {
          "output_type": "stream",
          "text": [
            "\r 44%|████▍     | 1531/3486 [14:15<40:34,  1.25s/it]"
          ],
          "name": "stderr"
        },
        {
          "output_type": "stream",
          "text": [
            "3907\n",
            "(41664, 1034)\n"
          ],
          "name": "stdout"
        },
        {
          "output_type": "stream",
          "text": [
            "\r 44%|████▍     | 1532/3486 [14:18<55:37,  1.71s/it]"
          ],
          "name": "stderr"
        },
        {
          "output_type": "stream",
          "text": [
            "3908\n",
            "(27384, 694)\n"
          ],
          "name": "stdout"
        },
        {
          "output_type": "stream",
          "text": [
            "\r 44%|████▍     | 1533/3486 [14:19<49:31,  1.52s/it]"
          ],
          "name": "stderr"
        },
        {
          "output_type": "stream",
          "text": [
            "3909\n",
            "(22050, 567)\n"
          ],
          "name": "stdout"
        },
        {
          "output_type": "stream",
          "text": [
            "\r 44%|████▍     | 1534/3486 [14:20<41:52,  1.29s/it]"
          ],
          "name": "stderr"
        },
        {
          "output_type": "stream",
          "text": [
            "3910\n",
            "(24444, 624)\n"
          ],
          "name": "stdout"
        },
        {
          "output_type": "stream",
          "text": [
            "\r 44%|████▍     | 1535/3486 [14:21<36:59,  1.14s/it]"
          ],
          "name": "stderr"
        },
        {
          "output_type": "stream",
          "text": [
            "3911\n"
          ],
          "name": "stdout"
        },
        {
          "output_type": "stream",
          "text": [
            " 44%|████▍     | 1539/3486 [14:21<20:45,  1.56it/s]"
          ],
          "name": "stderr"
        },
        {
          "output_type": "stream",
          "text": [
            "There are 1040963154player x questions pairs, tournament will be skipped\n",
            "3912\n",
            "(3024, 114)\n",
            "3913\n",
            "(2844, 115)\n",
            "3914\n",
            "(8880, 208)\n",
            "3915\n",
            "(28800, 836)\n"
          ],
          "name": "stdout"
        },
        {
          "output_type": "stream",
          "text": [
            "\r 44%|████▍     | 1540/3486 [14:23<32:27,  1.00s/it]"
          ],
          "name": "stderr"
        },
        {
          "output_type": "stream",
          "text": [
            "3916\n",
            "(3375, 120)\n",
            "3917\n",
            "(23790, 649)\n"
          ],
          "name": "stdout"
        },
        {
          "output_type": "stream",
          "text": [
            "\r 44%|████▍     | 1542/3486 [14:24<26:58,  1.20it/s]"
          ],
          "name": "stderr"
        },
        {
          "output_type": "stream",
          "text": [
            "3918\n",
            "(51885, 1198)\n"
          ],
          "name": "stdout"
        },
        {
          "output_type": "stream",
          "text": [
            "\r 44%|████▍     | 1543/3486 [14:28<53:48,  1.66s/it]"
          ],
          "name": "stderr"
        },
        {
          "output_type": "stream",
          "text": [
            "3919\n",
            "(17010, 279)\n"
          ],
          "name": "stdout"
        },
        {
          "output_type": "stream",
          "text": [
            "\r 44%|████▍     | 1544/3486 [14:28<39:45,  1.23s/it]"
          ],
          "name": "stderr"
        },
        {
          "output_type": "stream",
          "text": [
            "3920\n",
            "(18036, 537)\n"
          ],
          "name": "stdout"
        },
        {
          "output_type": "stream",
          "text": [
            "\r 44%|████▍     | 1545/3486 [14:28<33:11,  1.03s/it]"
          ],
          "name": "stderr"
        },
        {
          "output_type": "stream",
          "text": [
            "3921\n",
            "(1260, 73)\n",
            "3922\n",
            "(21276, 627)\n"
          ],
          "name": "stdout"
        },
        {
          "output_type": "stream",
          "text": [
            "\r 44%|████▍     | 1547/3486 [14:29<26:51,  1.20it/s]"
          ],
          "name": "stderr"
        },
        {
          "output_type": "stream",
          "text": [
            "3923\n",
            "(31410, 743)\n"
          ],
          "name": "stdout"
        },
        {
          "output_type": "stream",
          "text": [
            "\r 44%|████▍     | 1548/3486 [14:30<30:24,  1.06it/s]"
          ],
          "name": "stderr"
        },
        {
          "output_type": "stream",
          "text": [
            "3924\n",
            "(19080, 566)\n"
          ],
          "name": "stdout"
        },
        {
          "output_type": "stream",
          "text": [
            "\r 44%|████▍     | 1549/3486 [14:31<26:37,  1.21it/s]"
          ],
          "name": "stderr"
        },
        {
          "output_type": "stream",
          "text": [
            "3925\n",
            "(30825, 730)\n"
          ],
          "name": "stdout"
        },
        {
          "output_type": "stream",
          "text": [
            "\r 44%|████▍     | 1550/3486 [14:32<28:40,  1.13it/s]"
          ],
          "name": "stderr"
        },
        {
          "output_type": "stream",
          "text": [
            "3926\n",
            "(24408, 714)\n"
          ],
          "name": "stdout"
        },
        {
          "output_type": "stream",
          "text": [
            "\r 44%|████▍     | 1551/3486 [14:33<29:47,  1.08it/s]"
          ],
          "name": "stderr"
        },
        {
          "output_type": "stream",
          "text": [
            "3927\n",
            "(37935, 888)\n"
          ],
          "name": "stdout"
        },
        {
          "output_type": "stream",
          "text": [
            "\r 45%|████▍     | 1552/3486 [14:35<41:50,  1.30s/it]"
          ],
          "name": "stderr"
        },
        {
          "output_type": "stream",
          "text": [
            "3928\n",
            "(28530, 679)\n"
          ],
          "name": "stdout"
        },
        {
          "output_type": "stream",
          "text": [
            "\r 45%|████▍     | 1553/3486 [14:36<38:19,  1.19s/it]"
          ],
          "name": "stderr"
        },
        {
          "output_type": "stream",
          "text": [
            "3929\n",
            "(28008, 814)\n"
          ],
          "name": "stdout"
        },
        {
          "output_type": "stream",
          "text": [
            "\r 45%|████▍     | 1554/3486 [14:37<39:26,  1.22s/it]"
          ],
          "name": "stderr"
        },
        {
          "output_type": "stream",
          "text": [
            "3930\n",
            "(23040, 676)\n"
          ],
          "name": "stdout"
        },
        {
          "output_type": "stream",
          "text": [
            "\r 45%|████▍     | 1555/3486 [14:38<37:13,  1.16s/it]"
          ],
          "name": "stderr"
        },
        {
          "output_type": "stream",
          "text": [
            "3931\n",
            "(45720, 1061)\n"
          ],
          "name": "stdout"
        },
        {
          "output_type": "stream",
          "text": [
            "\r 45%|████▍     | 1556/3486 [14:41<54:15,  1.69s/it]"
          ],
          "name": "stderr"
        },
        {
          "output_type": "stream",
          "text": [
            "3932\n",
            "(21924, 645)\n"
          ],
          "name": "stdout"
        },
        {
          "output_type": "stream",
          "text": [
            "\r 45%|████▍     | 1557/3486 [14:42<46:05,  1.43s/it]"
          ],
          "name": "stderr"
        },
        {
          "output_type": "stream",
          "text": [
            "3933\n",
            "(26145, 626)\n"
          ],
          "name": "stdout"
        },
        {
          "output_type": "stream",
          "text": [
            "\r 45%|████▍     | 1558/3486 [14:43<41:11,  1.28s/it]"
          ],
          "name": "stderr"
        },
        {
          "output_type": "stream",
          "text": [
            "3934\n",
            "(19512, 578)\n"
          ],
          "name": "stdout"
        },
        {
          "output_type": "stream",
          "text": [
            "\r 45%|████▍     | 1559/3486 [14:44<35:03,  1.09s/it]"
          ],
          "name": "stderr"
        },
        {
          "output_type": "stream",
          "text": [
            "3935\n",
            "(42525, 990)\n"
          ],
          "name": "stdout"
        },
        {
          "output_type": "stream",
          "text": [
            " 45%|████▍     | 1561/3486 [14:46<34:13,  1.07s/it]"
          ],
          "name": "stderr"
        },
        {
          "output_type": "stream",
          "text": [
            "3936\n",
            "(10224, 320)\n",
            "3938\n",
            "(11520, 218)\n"
          ],
          "name": "stdout"
        },
        {
          "output_type": "stream",
          "text": [
            "\r 45%|████▍     | 1562/3486 [14:46<25:09,  1.27it/s]"
          ],
          "name": "stderr"
        },
        {
          "output_type": "stream",
          "text": [
            "3939\n",
            "(17136, 512)\n"
          ],
          "name": "stdout"
        },
        {
          "output_type": "stream",
          "text": [
            "\r 45%|████▍     | 1563/3486 [14:47<21:45,  1.47it/s]"
          ],
          "name": "stderr"
        },
        {
          "output_type": "stream",
          "text": [
            "3940\n",
            "(33210, 783)\n"
          ],
          "name": "stdout"
        },
        {
          "output_type": "stream",
          "text": [
            "\r 45%|████▍     | 1564/3486 [14:48<28:41,  1.12it/s]"
          ],
          "name": "stderr"
        },
        {
          "output_type": "stream",
          "text": [
            "3941\n",
            "(48312, 1378)\n"
          ],
          "name": "stdout"
        },
        {
          "output_type": "stream",
          "text": [
            " 45%|████▍     | 1567/3486 [14:52<42:21,  1.32s/it]"
          ],
          "name": "stderr"
        },
        {
          "output_type": "stream",
          "text": [
            "3942\n",
            "(2700, 111)\n",
            "3943\n",
            "(8340, 199)\n",
            "3944\n",
            "(3780, 141)\n",
            "3945\n",
            "(18432, 548)\n"
          ],
          "name": "stdout"
        },
        {
          "output_type": "stream",
          "text": [
            "\r 45%|████▌     | 1569/3486 [14:53<33:05,  1.04s/it]"
          ],
          "name": "stderr"
        },
        {
          "output_type": "stream",
          "text": [
            "3946\n",
            "(49104, 1400)\n"
          ],
          "name": "stdout"
        },
        {
          "output_type": "stream",
          "text": [
            " 45%|████▌     | 1571/3486 [14:58<49:46,  1.56s/it]  "
          ],
          "name": "stderr"
        },
        {
          "output_type": "stream",
          "text": [
            "3947\n",
            "There are 113410836player x questions pairs, tournament will be skipped\n",
            "3948\n",
            "There are 117407232player x questions pairs, tournament will be skipped\n",
            "3949\n",
            "(56988, 1619)\n"
          ],
          "name": "stdout"
        },
        {
          "output_type": "stream",
          "text": [
            " 45%|████▌     | 1574/3486 [15:04<44:43,  1.40s/it]  "
          ],
          "name": "stderr"
        },
        {
          "output_type": "stream",
          "text": [
            "3950\n",
            "There are 125742132player x questions pairs, tournament will be skipped\n",
            "3951\n",
            "(51624, 1470)\n"
          ],
          "name": "stdout"
        },
        {
          "output_type": "stream",
          "text": [
            " 45%|████▌     | 1576/3486 [15:08<49:28,  1.55s/it]  "
          ],
          "name": "stderr"
        },
        {
          "output_type": "stream",
          "text": [
            "3952\n",
            "There are 100990836player x questions pairs, tournament will be skipped\n",
            "3953\n",
            "(17136, 512)\n"
          ],
          "name": "stdout"
        },
        {
          "output_type": "stream",
          "text": [
            "\r 45%|████▌     | 1577/3486 [15:08<40:05,  1.26s/it]"
          ],
          "name": "stderr"
        },
        {
          "output_type": "stream",
          "text": [
            "3954\n",
            "(19710, 483)\n"
          ],
          "name": "stdout"
        },
        {
          "output_type": "stream",
          "text": [
            "\r 45%|████▌     | 1578/3486 [15:09<32:42,  1.03s/it]"
          ],
          "name": "stderr"
        },
        {
          "output_type": "stream",
          "text": [
            "3955\n",
            "(12816, 392)\n"
          ],
          "name": "stdout"
        },
        {
          "output_type": "stream",
          "text": [
            " 45%|████▌     | 1581/3486 [15:09<18:36,  1.71it/s]"
          ],
          "name": "stderr"
        },
        {
          "output_type": "stream",
          "text": [
            "3956\n",
            "(9420, 217)\n",
            "3957\n",
            "(10080, 212)\n",
            "3958\n"
          ],
          "name": "stdout"
        },
        {
          "output_type": "stream",
          "text": [
            "\r 45%|████▌     | 1582/3486 [15:09<14:00,  2.27it/s]"
          ],
          "name": "stderr"
        },
        {
          "output_type": "stream",
          "text": [
            "(8784, 231)\n",
            "3959\n",
            "(14680, 407)\n"
          ],
          "name": "stdout"
        },
        {
          "output_type": "stream",
          "text": [
            " 45%|████▌     | 1585/3486 [15:10<09:47,  3.24it/s]"
          ],
          "name": "stderr"
        },
        {
          "output_type": "stream",
          "text": [
            "3960\n",
            "(5400, 165)\n",
            "3961\n",
            "There are 134223732player x questions pairs, tournament will be skipped\n",
            "3962\n",
            "(16992, 508)\n"
          ],
          "name": "stdout"
        },
        {
          "output_type": "stream",
          "text": [
            "\r 45%|████▌     | 1586/3486 [15:10<11:27,  2.76it/s]"
          ],
          "name": "stderr"
        },
        {
          "output_type": "stream",
          "text": [
            "3963\n",
            "(17244, 515)\n"
          ],
          "name": "stdout"
        },
        {
          "output_type": "stream",
          "text": [
            " 46%|████▌     | 1590/3486 [15:11<09:35,  3.30it/s]"
          ],
          "name": "stderr"
        },
        {
          "output_type": "stream",
          "text": [
            "3965\n",
            "(2475, 100)\n",
            "3966\n",
            "(6750, 195)\n",
            "3967\n",
            "(3420, 121)\n",
            "3968\n",
            "(8910, 243)\n"
          ],
          "name": "stdout"
        },
        {
          "output_type": "stream",
          "text": [
            "\r 46%|████▌     | 1592/3486 [15:11<07:32,  4.19it/s]"
          ],
          "name": "stderr"
        },
        {
          "output_type": "stream",
          "text": [
            "3969\n",
            "(6480, 189)\n",
            "3970\n",
            "(3195, 116)\n",
            "3971\n"
          ],
          "name": "stdout"
        },
        {
          "output_type": "stream",
          "text": [
            "\r 46%|████▌     | 1594/3486 [15:11<06:02,  5.22it/s]"
          ],
          "name": "stderr"
        },
        {
          "output_type": "stream",
          "text": [
            "There are 154542960player x questions pairs, tournament will be skipped\n",
            "3972\n",
            "(17667, 492)\n",
            "3973\n",
            "(16560, 393)\n"
          ],
          "name": "stdout"
        },
        {
          "output_type": "stream",
          "text": [
            "\r 46%|████▌     | 1596/3486 [15:12<07:32,  4.18it/s]"
          ],
          "name": "stderr"
        },
        {
          "output_type": "stream",
          "text": [
            "3974\n",
            "(4824, 170)\n",
            "3975\n",
            "(2052, 93)\n",
            "3976\n",
            "(24300, 585)\n"
          ],
          "name": "stdout"
        },
        {
          "output_type": "stream",
          "text": [
            "\r 46%|████▌     | 1599/3486 [15:13<07:40,  4.10it/s]"
          ],
          "name": "stderr"
        },
        {
          "output_type": "stream",
          "text": [
            "3977\n",
            "(28530, 407)\n"
          ],
          "name": "stdout"
        },
        {
          "output_type": "stream",
          "text": [
            "\r 46%|████▌     | 1600/3486 [15:14<10:51,  2.90it/s]"
          ],
          "name": "stderr"
        },
        {
          "output_type": "stream",
          "text": [
            "3978\n",
            "(418, 49)\n",
            "3979\n",
            "(48348, 1379)\n"
          ],
          "name": "stdout"
        },
        {
          "output_type": "stream",
          "text": [
            " 46%|████▌     | 1604/3486 [15:17<17:40,  1.78it/s]"
          ],
          "name": "stderr"
        },
        {
          "output_type": "stream",
          "text": [
            "3980\n",
            "(2376, 102)\n",
            "3981\n",
            "(7020, 231)\n",
            "3982\n",
            "(5320, 173)\n",
            "3983\n",
            "(2120, 93)\n",
            "3984\n",
            "(2736, 112)\n",
            "3985\n"
          ],
          "name": "stdout"
        },
        {
          "output_type": "stream",
          "text": [
            " 46%|████▌     | 1611/3486 [15:17<09:08,  3.42it/s]"
          ],
          "name": "stderr"
        },
        {
          "output_type": "stream",
          "text": [
            "(1800, 86)\n",
            "3986\n",
            "(3528, 134)\n",
            "3987\n",
            "(4356, 157)\n",
            "3988\n",
            "(2880, 116)\n",
            "3989\n",
            "(3096, 122)\n",
            "3990\n",
            "(13080, 278)\n"
          ],
          "name": "stdout"
        },
        {
          "output_type": "stream",
          "text": [
            "\r 46%|████▋     | 1614/3486 [15:18<07:36,  4.10it/s]"
          ],
          "name": "stderr"
        },
        {
          "output_type": "stream",
          "text": [
            "3991\n",
            "(11592, 358)\n",
            "3992\n"
          ],
          "name": "stdout"
        },
        {
          "output_type": "stream",
          "text": [
            "\r 46%|████▋     | 1616/3486 [15:18<06:23,  4.88it/s]"
          ],
          "name": "stderr"
        },
        {
          "output_type": "stream",
          "text": [
            "(13200, 251)\n",
            "3994\n",
            "(8640, 186)\n",
            "3995\n",
            "(1710, 83)\n",
            "3996\n",
            "(4275, 132)\n",
            "3997\n",
            "(14130, 359)\n"
          ],
          "name": "stdout"
        },
        {
          "output_type": "stream",
          "text": [
            " 47%|████▋     | 1621/3486 [15:19<04:34,  6.80it/s]"
          ],
          "name": "stderr"
        },
        {
          "output_type": "stream",
          "text": [
            "3998\n",
            "(5616, 192)\n",
            "3999\n",
            "(11850, 233)\n",
            "4000\n"
          ],
          "name": "stdout"
        },
        {
          "output_type": "stream",
          "text": [
            "\r 47%|████▋     | 1623/3486 [15:19<03:59,  7.78it/s]"
          ],
          "name": "stderr"
        },
        {
          "output_type": "stream",
          "text": [
            "(9036, 287)\n",
            "4001\n",
            "(4545, 146)\n",
            "4002\n",
            "(17928, 534)\n",
            "4003\n",
            "(24840, 474)\n"
          ],
          "name": "stdout"
        },
        {
          "output_type": "stream",
          "text": [
            "\r 47%|████▋     | 1625/3486 [15:20<08:18,  3.74it/s]"
          ],
          "name": "stderr"
        },
        {
          "output_type": "stream",
          "text": [
            "4004\n",
            "(4824, 170)\n",
            "4005\n",
            "(1935, 88)\n",
            "4010\n"
          ],
          "name": "stdout"
        },
        {
          "output_type": "stream",
          "text": [
            "\r 47%|████▋     | 1628/3486 [15:20<06:28,  4.78it/s]"
          ],
          "name": "stderr"
        },
        {
          "output_type": "stream",
          "text": [
            "There are 219506664player x questions pairs, tournament will be skipped\n",
            "4011\n",
            "(13209, 394)\n",
            "4012\n",
            "(38600, 1005)\n"
          ],
          "name": "stdout"
        },
        {
          "output_type": "stream",
          "text": [
            " 47%|████▋     | 1632/3486 [15:23<12:37,  2.45it/s]"
          ],
          "name": "stderr"
        },
        {
          "output_type": "stream",
          "text": [
            "4013\n",
            "(7080, 178)\n",
            "4014\n",
            "(8340, 199)\n",
            "4015\n",
            "(24480, 716)\n"
          ],
          "name": "stdout"
        },
        {
          "output_type": "stream",
          "text": [
            " 47%|████▋     | 1634/3486 [15:24<15:23,  2.01it/s]"
          ],
          "name": "stderr"
        },
        {
          "output_type": "stream",
          "text": [
            "4016\n",
            "(10404, 325)\n",
            "4017\n",
            "(7524, 245)\n"
          ],
          "name": "stdout"
        },
        {
          "output_type": "stream",
          "text": [
            "\r 47%|████▋     | 1635/3486 [15:24<11:44,  2.63it/s]"
          ],
          "name": "stderr"
        },
        {
          "output_type": "stream",
          "text": [
            "4018\n",
            "(27600, 520)\n"
          ],
          "name": "stdout"
        },
        {
          "output_type": "stream",
          "text": [
            " 47%|████▋     | 1637/3486 [15:25<11:05,  2.78it/s]"
          ],
          "name": "stderr"
        },
        {
          "output_type": "stream",
          "text": [
            "4019\n",
            "(11970, 223)\n",
            "4020\n",
            "(15975, 400)\n"
          ],
          "name": "stdout"
        },
        {
          "output_type": "stream",
          "text": [
            "\r 47%|████▋     | 1638/3486 [15:26<10:54,  2.82it/s]"
          ],
          "name": "stderr"
        },
        {
          "output_type": "stream",
          "text": [
            "4021\n",
            "(14184, 430)\n"
          ],
          "name": "stdout"
        },
        {
          "output_type": "stream",
          "text": [
            "\r 47%|████▋     | 1639/3486 [15:26<10:21,  2.97it/s]"
          ],
          "name": "stderr"
        },
        {
          "output_type": "stream",
          "text": [
            "4023\n",
            "(6984, 230)\n",
            "4025\n",
            "(26280, 382)\n"
          ],
          "name": "stdout"
        },
        {
          "output_type": "stream",
          "text": [
            "\r 47%|████▋     | 1641/3486 [15:26<09:38,  3.19it/s]"
          ],
          "name": "stderr"
        },
        {
          "output_type": "stream",
          "text": [
            "4026\n",
            "(53865, 1242)\n"
          ],
          "name": "stdout"
        },
        {
          "output_type": "stream",
          "text": [
            " 47%|████▋     | 1643/3486 [15:31<34:09,  1.11s/it]"
          ],
          "name": "stderr"
        },
        {
          "output_type": "stream",
          "text": [
            "4027\n",
            "(8568, 274)\n",
            "4028\n",
            "(20790, 537)\n"
          ],
          "name": "stdout"
        },
        {
          "output_type": "stream",
          "text": [
            "\r 47%|████▋     | 1644/3486 [15:31<29:32,  1.04it/s]"
          ],
          "name": "stderr"
        },
        {
          "output_type": "stream",
          "text": [
            "4029\n",
            "(32688, 944)\n"
          ],
          "name": "stdout"
        },
        {
          "output_type": "stream",
          "text": [
            "\r 47%|████▋     | 1645/3486 [15:34<41:23,  1.35s/it]"
          ],
          "name": "stderr"
        },
        {
          "output_type": "stream",
          "text": [
            "4030\n",
            "(21300, 415)\n"
          ],
          "name": "stdout"
        },
        {
          "output_type": "stream",
          "text": [
            " 47%|████▋     | 1647/3486 [15:34<24:17,  1.26it/s]"
          ],
          "name": "stderr"
        },
        {
          "output_type": "stream",
          "text": [
            "4031\n",
            "(11904, 296)\n",
            "4032\n",
            "(5184, 156)\n",
            "4033\n",
            "(41292, 1183)\n"
          ],
          "name": "stdout"
        },
        {
          "output_type": "stream",
          "text": [
            " 47%|████▋     | 1650/3486 [15:38<23:50,  1.28it/s]"
          ],
          "name": "stderr"
        },
        {
          "output_type": "stream",
          "text": [
            "4034\n",
            "(15300, 260)\n",
            "4035\n",
            "(3852, 143)\n",
            "4036\n",
            "(28500, 455)\n"
          ],
          "name": "stdout"
        },
        {
          "output_type": "stream",
          "text": [
            "\r 47%|████▋     | 1652/3486 [15:38<19:34,  1.56it/s]"
          ],
          "name": "stderr"
        },
        {
          "output_type": "stream",
          "text": [
            "4037\n",
            "(28710, 501)\n"
          ],
          "name": "stdout"
        },
        {
          "output_type": "stream",
          "text": [
            "\r 47%|████▋     | 1653/3486 [15:39<20:13,  1.51it/s]"
          ],
          "name": "stderr"
        },
        {
          "output_type": "stream",
          "text": [
            "4038\n",
            "(13392, 408)\n"
          ],
          "name": "stdout"
        },
        {
          "output_type": "stream",
          "text": [
            " 47%|████▋     | 1655/3486 [15:39<12:46,  2.39it/s]"
          ],
          "name": "stderr"
        },
        {
          "output_type": "stream",
          "text": [
            "4039\n",
            "(10512, 328)\n",
            "4040\n",
            "(13932, 423)\n"
          ],
          "name": "stdout"
        },
        {
          "output_type": "stream",
          "text": [
            " 48%|████▊     | 1657/3486 [15:40<10:16,  2.97it/s]"
          ],
          "name": "stderr"
        },
        {
          "output_type": "stream",
          "text": [
            "4041\n",
            "(12096, 372)\n",
            "4042\n",
            "(15876, 477)\n"
          ],
          "name": "stdout"
        },
        {
          "output_type": "stream",
          "text": [
            " 48%|████▊     | 1659/3486 [15:40<08:53,  3.42it/s]"
          ],
          "name": "stderr"
        },
        {
          "output_type": "stream",
          "text": [
            "4043\n",
            "There are 162741744player x questions pairs, tournament will be skipped\n",
            "4044\n",
            "(37404, 1075)\n"
          ],
          "name": "stdout"
        },
        {
          "output_type": "stream",
          "text": [
            "\r 48%|████▊     | 1660/3486 [15:43<26:26,  1.15it/s]"
          ],
          "name": "stderr"
        },
        {
          "output_type": "stream",
          "text": [
            "4045\n",
            "(4572, 163)\n",
            "4046\n",
            "(17064, 510)\n"
          ],
          "name": "stdout"
        },
        {
          "output_type": "stream",
          "text": [
            " 48%|████▊     | 1663/3486 [15:43<15:53,  1.91it/s]"
          ],
          "name": "stderr"
        },
        {
          "output_type": "stream",
          "text": [
            "4047\n",
            "(13080, 278)\n",
            "4048\n",
            "(7056, 195)\n"
          ],
          "name": "stdout"
        },
        {
          "output_type": "stream",
          "text": [
            "\r 48%|████▊     | 1666/3486 [15:43<11:34,  2.62it/s]"
          ],
          "name": "stderr"
        },
        {
          "output_type": "stream",
          "text": [
            "4049\n",
            "(3402, 123)\n",
            "4050\n",
            "(5292, 183)\n",
            "4051\n",
            "(21312, 628)\n"
          ],
          "name": "stdout"
        },
        {
          "output_type": "stream",
          "text": [
            "\r 48%|████▊     | 1667/3486 [15:44<16:07,  1.88it/s]"
          ],
          "name": "stderr"
        },
        {
          "output_type": "stream",
          "text": [
            "4052\n",
            "(38175, 584)\n"
          ],
          "name": "stdout"
        },
        {
          "output_type": "stream",
          "text": [
            " 48%|████▊     | 1671/3486 [15:46<16:35,  1.82it/s]"
          ],
          "name": "stderr"
        },
        {
          "output_type": "stream",
          "text": [
            "4053\n",
            "(2268, 99)\n",
            "4054\n",
            "(2340, 108)\n",
            "4055\n",
            "(13050, 235)\n",
            "4056\n",
            "(1404, 75)\n",
            "4057\n"
          ],
          "name": "stdout"
        },
        {
          "output_type": "stream",
          "text": [
            "\r 48%|████▊     | 1674/3486 [15:46<12:00,  2.51it/s]"
          ],
          "name": "stderr"
        },
        {
          "output_type": "stream",
          "text": [
            "(3384, 130)\n",
            "4058\n",
            "(5616, 258)\n",
            "4059\n",
            "(45072, 1288)\n",
            "4060\n",
            "(55056, 1195)\n"
          ],
          "name": "stdout"
        },
        {
          "output_type": "stream",
          "text": [
            " 48%|████▊     | 1679/3486 [15:53<29:14,  1.03it/s]"
          ],
          "name": "stderr"
        },
        {
          "output_type": "stream",
          "text": [
            "4061\n",
            "(228, 44)\n",
            "4062\n",
            "(1908, 89)\n",
            "4063\n",
            "(6720, 188)\n",
            "4064\n",
            "(18216, 542)\n"
          ],
          "name": "stdout"
        },
        {
          "output_type": "stream",
          "text": [
            "\r 48%|████▊     | 1681/3486 [15:54<23:08,  1.30it/s]"
          ],
          "name": "stderr"
        },
        {
          "output_type": "stream",
          "text": [
            "4065\n",
            "(360, 46)\n",
            "4066\n",
            "(29304, 850)\n"
          ],
          "name": "stdout"
        },
        {
          "output_type": "stream",
          "text": [
            "\r 48%|████▊     | 1683/3486 [15:55<22:49,  1.32it/s]"
          ],
          "name": "stderr"
        },
        {
          "output_type": "stream",
          "text": [
            "4067\n",
            "(2850, 125)\n",
            "4069\n",
            "(41715, 972)\n"
          ],
          "name": "stdout"
        },
        {
          "output_type": "stream",
          "text": [
            " 48%|████▊     | 1685/3486 [15:58<27:37,  1.09it/s]"
          ],
          "name": "stderr"
        },
        {
          "output_type": "stream",
          "text": [
            "4070\n",
            "(11220, 247)\n",
            "4071\n",
            "(3888, 129)\n",
            "4072\n"
          ],
          "name": "stdout"
        },
        {
          "output_type": "stream",
          "text": [
            "\r 48%|████▊     | 1687/3486 [15:58<20:47,  1.44it/s]"
          ],
          "name": "stderr"
        },
        {
          "output_type": "stream",
          "text": [
            "(21312, 292)\n",
            "4073\n"
          ],
          "name": "stdout"
        },
        {
          "output_type": "stream",
          "text": [
            "\r 48%|████▊     | 1689/3486 [15:58<15:06,  1.98it/s]"
          ],
          "name": "stderr"
        },
        {
          "output_type": "stream",
          "text": [
            "(6360, 166)\n",
            "4074\n",
            "(7152, 197)\n",
            "4075\n",
            "(20700, 320)\n"
          ],
          "name": "stdout"
        },
        {
          "output_type": "stream",
          "text": [
            "\r 48%|████▊     | 1690/3486 [15:59<13:35,  2.20it/s]"
          ],
          "name": "stderr"
        },
        {
          "output_type": "stream",
          "text": [
            "4076\n",
            "(89094, 665)\n"
          ],
          "name": "stdout"
        },
        {
          "output_type": "stream",
          "text": [
            " 49%|████▊     | 1694/3486 [16:02<17:45,  1.68it/s]"
          ],
          "name": "stderr"
        },
        {
          "output_type": "stream",
          "text": [
            "4077\n",
            "(8928, 234)\n",
            "4078\n",
            "(7452, 243)\n",
            "4079\n",
            "(1872, 87)\n",
            "4080\n",
            "(14760, 306)\n",
            "4081\n",
            "(8856, 195)\n"
          ],
          "name": "stdout"
        },
        {
          "output_type": "stream",
          "text": [
            "\r 49%|████▊     | 1696/3486 [16:02<13:49,  2.16it/s]"
          ],
          "name": "stderr"
        },
        {
          "output_type": "stream",
          "text": [
            "4082\n"
          ],
          "name": "stdout"
        },
        {
          "output_type": "stream",
          "text": [
            " 49%|████▊     | 1699/3486 [16:03<09:40,  3.08it/s]"
          ],
          "name": "stderr"
        },
        {
          "output_type": "stream",
          "text": [
            "There are 998916840player x questions pairs, tournament will be skipped\n",
            "4083\n",
            "(7560, 213)\n",
            "4084\n",
            "(7308, 239)\n",
            "4085\n"
          ],
          "name": "stdout"
        },
        {
          "output_type": "stream",
          "text": [
            "\r 49%|████▉     | 1700/3486 [16:03<07:49,  3.80it/s]"
          ],
          "name": "stderr"
        },
        {
          "output_type": "stream",
          "text": [
            "There are 113666580player x questions pairs, tournament will be skipped\n",
            "4086\n",
            "(12636, 387)\n"
          ],
          "name": "stdout"
        },
        {
          "output_type": "stream",
          "text": [
            " 49%|████▉     | 1703/3486 [16:03<05:58,  4.98it/s]"
          ],
          "name": "stderr"
        },
        {
          "output_type": "stream",
          "text": [
            "4087\n",
            "(5940, 159)\n",
            "4088\n",
            "(7092, 233)\n",
            "4089\n",
            "(4392, 158)\n",
            "4090\n",
            "(3996, 147)\n"
          ],
          "name": "stdout"
        },
        {
          "output_type": "stream",
          "text": [
            "\r 49%|████▉     | 1705/3486 [16:03<04:37,  6.41it/s]"
          ],
          "name": "stderr"
        },
        {
          "output_type": "stream",
          "text": [
            "4091\n",
            "(3996, 147)\n",
            "4092\n",
            "(48510, 1123)\n"
          ],
          "name": "stdout"
        },
        {
          "output_type": "stream",
          "text": [
            "\r 49%|████▉     | 1707/3486 [16:06<17:14,  1.72it/s]"
          ],
          "name": "stderr"
        },
        {
          "output_type": "stream",
          "text": [
            "4093\n",
            "(4455, 144)\n",
            "4094\n",
            "(3264, 116)\n",
            "4095\n"
          ],
          "name": "stdout"
        },
        {
          "output_type": "stream",
          "text": [
            "\r 49%|████▉     | 1710/3486 [16:07<12:56,  2.29it/s]"
          ],
          "name": "stderr"
        },
        {
          "output_type": "stream",
          "text": [
            "There are 614815920player x questions pairs, tournament will be skipped\n",
            "4096\n",
            "(21384, 630)\n"
          ],
          "name": "stdout"
        },
        {
          "output_type": "stream",
          "text": [
            " 49%|████▉     | 1713/3486 [16:07<11:34,  2.55it/s]"
          ],
          "name": "stderr"
        },
        {
          "output_type": "stream",
          "text": [
            "4097\n",
            "(1404, 75)\n",
            "4098\n",
            "(8784, 205)\n",
            "4099\n",
            "(16224, 386)\n",
            "4100\n",
            "(16812, 503)\n"
          ],
          "name": "stdout"
        },
        {
          "output_type": "stream",
          "text": [
            "\r 49%|████▉     | 1715/3486 [16:08<11:44,  2.51it/s]"
          ],
          "name": "stderr"
        },
        {
          "output_type": "stream",
          "text": [
            "4101\n",
            "(20943, 576)\n"
          ],
          "name": "stdout"
        },
        {
          "output_type": "stream",
          "text": [
            " 49%|████▉     | 1717/3486 [16:09<10:23,  2.84it/s]"
          ],
          "name": "stderr"
        },
        {
          "output_type": "stream",
          "text": [
            "4102\n",
            "(9945, 266)\n",
            "4103\n",
            "(19584, 580)\n"
          ],
          "name": "stdout"
        },
        {
          "output_type": "stream",
          "text": [
            " 49%|████▉     | 1720/3486 [16:10<10:00,  2.94it/s]"
          ],
          "name": "stderr"
        },
        {
          "output_type": "stream",
          "text": [
            "4104\n",
            "(3180, 113)\n",
            "4105\n",
            "(8856, 282)\n",
            "4106\n",
            "(12660, 271)\n"
          ],
          "name": "stdout"
        },
        {
          "output_type": "stream",
          "text": [
            "\r 49%|████▉     | 1721/3486 [16:10<08:36,  3.42it/s]"
          ],
          "name": "stderr"
        },
        {
          "output_type": "stream",
          "text": [
            "4107\n",
            "(1656, 82)\n",
            "4109\n",
            "(21975, 368)\n"
          ],
          "name": "stdout"
        },
        {
          "output_type": "stream",
          "text": [
            " 49%|████▉     | 1725/3486 [16:10<05:58,  4.91it/s]"
          ],
          "name": "stderr"
        },
        {
          "output_type": "stream",
          "text": [
            "4110\n",
            "(5820, 157)\n",
            "4112\n",
            "(7920, 213)\n",
            "4113\n",
            "(5688, 194)\n",
            "4114\n",
            "(18720, 332)\n"
          ],
          "name": "stdout"
        },
        {
          "output_type": "stream",
          "text": [
            "\r 50%|████▉     | 1727/3486 [16:11<06:03,  4.84it/s]"
          ],
          "name": "stderr"
        },
        {
          "output_type": "stream",
          "text": [
            "4115\n",
            "(27648, 804)\n"
          ],
          "name": "stdout"
        },
        {
          "output_type": "stream",
          "text": [
            "\r 50%|████▉     | 1728/3486 [16:12<14:57,  1.96it/s]"
          ],
          "name": "stderr"
        },
        {
          "output_type": "stream",
          "text": [
            "4116\n",
            "(27936, 812)\n"
          ],
          "name": "stdout"
        },
        {
          "output_type": "stream",
          "text": [
            " 50%|████▉     | 1730/3486 [16:13<15:55,  1.84it/s]"
          ],
          "name": "stderr"
        },
        {
          "output_type": "stream",
          "text": [
            "4117\n",
            "(11772, 363)\n",
            "4118\n"
          ],
          "name": "stdout"
        },
        {
          "output_type": "stream",
          "text": [
            "\r 50%|████▉     | 1731/3486 [16:14<12:47,  2.29it/s]"
          ],
          "name": "stderr"
        },
        {
          "output_type": "stream",
          "text": [
            "(14256, 270)\n",
            "4119\n",
            "(3312, 128)\n",
            "4121\n",
            "(3492, 133)\n",
            "4122\n"
          ],
          "name": "stdout"
        },
        {
          "output_type": "stream",
          "text": [
            " 50%|████▉     | 1735/3486 [16:14<07:28,  3.91it/s]"
          ],
          "name": "stderr"
        },
        {
          "output_type": "stream",
          "text": [
            "(8235, 228)\n",
            "4123\n",
            "(10272, 211)\n",
            "4124\n"
          ],
          "name": "stdout"
        },
        {
          "output_type": "stream",
          "text": [
            "\r 50%|████▉     | 1736/3486 [16:14<06:41,  4.35it/s]"
          ],
          "name": "stderr"
        },
        {
          "output_type": "stream",
          "text": [
            "(10116, 317)\n",
            "4125\n",
            "(11952, 368)\n"
          ],
          "name": "stdout"
        },
        {
          "output_type": "stream",
          "text": [
            " 50%|████▉     | 1738/3486 [16:14<06:03,  4.81it/s]"
          ],
          "name": "stderr"
        },
        {
          "output_type": "stream",
          "text": [
            "4126\n",
            "There are 228421332player x questions pairs, tournament will be skipped\n",
            "4127\n",
            "(7650, 215)\n",
            "4128\n",
            "(3024, 120)\n"
          ],
          "name": "stdout"
        },
        {
          "output_type": "stream",
          "text": [
            " 50%|█████     | 1743/3486 [16:15<03:43,  7.78it/s]"
          ],
          "name": "stderr"
        },
        {
          "output_type": "stream",
          "text": [
            "4129\n",
            "(2592, 108)\n",
            "4130\n",
            "(1872, 102)\n",
            "4131\n",
            "(8712, 278)\n",
            "4133\n",
            "(8544, 226)\n"
          ],
          "name": "stdout"
        },
        {
          "output_type": "stream",
          "text": [
            "\r 50%|█████     | 1745/3486 [16:15<03:14,  8.96it/s]"
          ],
          "name": "stderr"
        },
        {
          "output_type": "stream",
          "text": [
            "4134\n",
            "(4608, 164)\n",
            "4135\n",
            "(11295, 292)\n",
            "4138\n"
          ],
          "name": "stdout"
        },
        {
          "output_type": "stream",
          "text": [
            "\r 50%|█████     | 1747/3486 [16:15<03:18,  8.77it/s]"
          ],
          "name": "stderr"
        },
        {
          "output_type": "stream",
          "text": [
            "(7776, 252)\n",
            "4139\n",
            "(6192, 208)\n",
            "4140\n",
            "(13392, 237)\n"
          ],
          "name": "stdout"
        },
        {
          "output_type": "stream",
          "text": [
            "\r 50%|█████     | 1749/3486 [16:15<03:16,  8.84it/s]"
          ],
          "name": "stderr"
        },
        {
          "output_type": "stream",
          "text": [
            "4142\n",
            "(4230, 139)\n",
            "4143\n",
            "(11430, 299)\n"
          ],
          "name": "stdout"
        },
        {
          "output_type": "stream",
          "text": [
            "\r 50%|█████     | 1751/3486 [16:16<03:12,  9.00it/s]"
          ],
          "name": "stderr"
        },
        {
          "output_type": "stream",
          "text": [
            "4144\n",
            "There are 106614612player x questions pairs, tournament will be skipped\n",
            "4145\n",
            "(13140, 236)\n"
          ],
          "name": "stdout"
        },
        {
          "output_type": "stream",
          "text": [
            "\r 50%|█████     | 1753/3486 [16:16<03:17,  8.79it/s]"
          ],
          "name": "stderr"
        },
        {
          "output_type": "stream",
          "text": [
            "4146\n",
            "(46844, 930)\n"
          ],
          "name": "stdout"
        },
        {
          "output_type": "stream",
          "text": [
            "\r 50%|█████     | 1754/3486 [16:19<27:26,  1.05it/s]"
          ],
          "name": "stderr"
        },
        {
          "output_type": "stream",
          "text": [
            "4147\n",
            "(20504, 655)\n"
          ],
          "name": "stdout"
        },
        {
          "output_type": "stream",
          "text": [
            " 50%|█████     | 1756/3486 [16:20<20:06,  1.43it/s]"
          ],
          "name": "stderr"
        },
        {
          "output_type": "stream",
          "text": [
            "4148\n",
            "(11220, 247)\n",
            "4150\n"
          ],
          "name": "stdout"
        },
        {
          "output_type": "stream",
          "text": [
            "\r 50%|█████     | 1757/3486 [16:20<15:21,  1.88it/s]"
          ],
          "name": "stderr"
        },
        {
          "output_type": "stream",
          "text": [
            "There are 240176340player x questions pairs, tournament will be skipped\n",
            "4151\n",
            "(15732, 473)\n"
          ],
          "name": "stdout"
        },
        {
          "output_type": "stream",
          "text": [
            "\r 50%|█████     | 1758/3486 [16:20<13:51,  2.08it/s]"
          ],
          "name": "stderr"
        },
        {
          "output_type": "stream",
          "text": [
            "4152\n",
            "(6516, 217)\n",
            "4153\n",
            "(14148, 429)\n"
          ],
          "name": "stdout"
        },
        {
          "output_type": "stream",
          "text": [
            "\r 50%|█████     | 1760/3486 [16:21<11:19,  2.54it/s]"
          ],
          "name": "stderr"
        },
        {
          "output_type": "stream",
          "text": [
            "4154\n",
            "(17730, 287)\n"
          ],
          "name": "stdout"
        },
        {
          "output_type": "stream",
          "text": [
            "\r 51%|█████     | 1761/3486 [16:21<10:09,  2.83it/s]"
          ],
          "name": "stderr"
        },
        {
          "output_type": "stream",
          "text": [
            "4155\n",
            "(4860, 153)\n",
            "4156\n",
            "(19620, 308)\n"
          ],
          "name": "stdout"
        },
        {
          "output_type": "stream",
          "text": [
            "\r 51%|█████     | 1763/3486 [16:21<08:35,  3.34it/s]"
          ],
          "name": "stderr"
        },
        {
          "output_type": "stream",
          "text": [
            "4157\n",
            "(18864, 560)\n"
          ],
          "name": "stdout"
        },
        {
          "output_type": "stream",
          "text": [
            "\r 51%|█████     | 1764/3486 [16:22<11:10,  2.57it/s]"
          ],
          "name": "stderr"
        },
        {
          "output_type": "stream",
          "text": [
            "4158\n",
            "(4860, 153)\n",
            "4159\n",
            "(252, 43)\n",
            "4160\n",
            "(23040, 676)\n"
          ],
          "name": "stdout"
        },
        {
          "output_type": "stream",
          "text": [
            "\r 51%|█████     | 1767/3486 [16:23<10:41,  2.68it/s]"
          ],
          "name": "stderr"
        },
        {
          "output_type": "stream",
          "text": [
            "4161\n",
            "(21024, 620)\n"
          ],
          "name": "stdout"
        },
        {
          "output_type": "stream",
          "text": [
            "\r 51%|█████     | 1768/3486 [16:24<14:34,  1.97it/s]"
          ],
          "name": "stderr"
        },
        {
          "output_type": "stream",
          "text": [
            "4162\n",
            "(3504, 121)\n",
            "4163\n",
            "(43470, 1011)\n"
          ],
          "name": "stdout"
        },
        {
          "output_type": "stream",
          "text": [
            "\r 51%|█████     | 1770/3486 [16:26<21:18,  1.34it/s]"
          ],
          "name": "stderr"
        },
        {
          "output_type": "stream",
          "text": [
            "4164\n",
            "(1980, 89)\n",
            "4165\n",
            "(19152, 568)\n"
          ],
          "name": "stdout"
        },
        {
          "output_type": "stream",
          "text": [
            "\r 51%|█████     | 1772/3486 [16:27<18:05,  1.58it/s]"
          ],
          "name": "stderr"
        },
        {
          "output_type": "stream",
          "text": [
            "4166\n",
            "(4455, 144)\n",
            "4167\n",
            "(48285, 1118)\n"
          ],
          "name": "stdout"
        },
        {
          "output_type": "stream",
          "text": [
            " 51%|█████     | 1775/3486 [16:31<22:18,  1.28it/s]"
          ],
          "name": "stderr"
        },
        {
          "output_type": "stream",
          "text": [
            "4168\n",
            "There are 441737280player x questions pairs, tournament will be skipped\n",
            "4169\n"
          ],
          "name": "stdout"
        },
        {
          "output_type": "stream",
          "text": [
            "\r 51%|█████     | 1776/3486 [16:31<16:57,  1.68it/s]"
          ],
          "name": "stderr"
        },
        {
          "output_type": "stream",
          "text": [
            "(13068, 296)\n",
            "4170\n",
            "(20256, 470)\n"
          ],
          "name": "stdout"
        },
        {
          "output_type": "stream",
          "text": [
            " 51%|█████     | 1778/3486 [16:32<12:23,  2.30it/s]"
          ],
          "name": "stderr"
        },
        {
          "output_type": "stream",
          "text": [
            "4171\n",
            "(7710, 287)\n",
            "4172\n",
            "(21528, 634)\n"
          ],
          "name": "stdout"
        },
        {
          "output_type": "stream",
          "text": [
            " 51%|█████     | 1780/3486 [16:33<12:19,  2.31it/s]"
          ],
          "name": "stderr"
        },
        {
          "output_type": "stream",
          "text": [
            "4174\n",
            "There are 111375252player x questions pairs, tournament will be skipped\n",
            "4175\n",
            "(20130, 391)\n"
          ],
          "name": "stdout"
        },
        {
          "output_type": "stream",
          "text": [
            "\r 51%|█████     | 1781/3486 [16:33<11:43,  2.42it/s]"
          ],
          "name": "stderr"
        },
        {
          "output_type": "stream",
          "text": [
            "4176\n",
            "(19404, 575)\n"
          ],
          "name": "stdout"
        },
        {
          "output_type": "stream",
          "text": [
            " 51%|█████     | 1786/3486 [16:34<09:51,  2.87it/s]"
          ],
          "name": "stderr"
        },
        {
          "output_type": "stream",
          "text": [
            "4177\n",
            "(1836, 87)\n",
            "4178\n",
            "(1620, 81)\n",
            "4179\n",
            "(3420, 131)\n",
            "4180\n",
            "(9075, 196)\n",
            "4181\n",
            "(6912, 228)\n",
            "4182\n",
            "(38835, 908)\n"
          ],
          "name": "stdout"
        },
        {
          "output_type": "stream",
          "text": [
            "\r 51%|█████▏    | 1788/3486 [16:36<16:34,  1.71it/s]"
          ],
          "name": "stderr"
        },
        {
          "output_type": "stream",
          "text": [
            "4183\n",
            "(3300, 119)\n",
            "4184\n",
            "(5225, 150)\n",
            "4186\n",
            "(25650, 417)\n"
          ],
          "name": "stdout"
        },
        {
          "output_type": "stream",
          "text": [
            " 51%|█████▏    | 1792/3486 [16:37<10:22,  2.72it/s]"
          ],
          "name": "stderr"
        },
        {
          "output_type": "stream",
          "text": [
            "4187\n",
            "There are 170917812player x questions pairs, tournament will be skipped\n",
            "4188\n",
            "(26316, 767)\n"
          ],
          "name": "stdout"
        },
        {
          "output_type": "stream",
          "text": [
            "\r 51%|█████▏    | 1793/3486 [16:38<16:44,  1.68it/s]"
          ],
          "name": "stderr"
        },
        {
          "output_type": "stream",
          "text": [
            "4189\n",
            "(28008, 814)\n"
          ],
          "name": "stdout"
        },
        {
          "output_type": "stream",
          "text": [
            " 52%|█████▏    | 1796/3486 [16:40<18:07,  1.55it/s]"
          ],
          "name": "stderr"
        },
        {
          "output_type": "stream",
          "text": [
            "4190\n",
            "(8100, 195)\n",
            "4191\n",
            "(4150, 133)\n",
            "4192\n",
            "(16236, 285)\n"
          ],
          "name": "stdout"
        },
        {
          "output_type": "stream",
          "text": [
            "\r 52%|█████▏    | 1797/3486 [16:40<14:35,  1.93it/s]"
          ],
          "name": "stderr"
        },
        {
          "output_type": "stream",
          "text": [
            "4193\n",
            "(38430, 517)\n"
          ],
          "name": "stdout"
        },
        {
          "output_type": "stream",
          "text": [
            " 52%|█████▏    | 1799/3486 [16:41<14:15,  1.97it/s]"
          ],
          "name": "stderr"
        },
        {
          "output_type": "stream",
          "text": [
            "4194\n",
            "There are 218909952player x questions pairs, tournament will be skipped\n",
            "4195\n",
            "(3600, 123)\n",
            "4196\n",
            "(14436, 437)\n"
          ],
          "name": "stdout"
        },
        {
          "output_type": "stream",
          "text": [
            " 52%|█████▏    | 1803/3486 [16:42<08:55,  3.14it/s]"
          ],
          "name": "stderr"
        },
        {
          "output_type": "stream",
          "text": [
            "4197\n",
            "(5580, 153)\n",
            "4198\n",
            "There are 273740220player x questions pairs, tournament will be skipped\n",
            "4199\n",
            "(39348, 1129)\n"
          ],
          "name": "stdout"
        },
        {
          "output_type": "stream",
          "text": [
            " 52%|█████▏    | 1805/3486 [16:44<19:57,  1.40it/s]"
          ],
          "name": "stderr"
        },
        {
          "output_type": "stream",
          "text": [
            "4200\n",
            "There are 287290836player x questions pairs, tournament will be skipped\n",
            "4201\n",
            "(8160, 196)\n",
            "4202\n",
            "(16320, 332)\n"
          ],
          "name": "stdout"
        },
        {
          "output_type": "stream",
          "text": [
            " 52%|█████▏    | 1808/3486 [16:45<11:48,  2.37it/s]"
          ],
          "name": "stderr"
        },
        {
          "output_type": "stream",
          "text": [
            "4203\n",
            "There are 143412912player x questions pairs, tournament will be skipped\n",
            "4204\n",
            "(11520, 252)\n"
          ],
          "name": "stdout"
        },
        {
          "output_type": "stream",
          "text": [
            " 52%|█████▏    | 1811/3486 [16:45<07:08,  3.91it/s]"
          ],
          "name": "stderr"
        },
        {
          "output_type": "stream",
          "text": [
            "4205\n",
            "(6720, 172)\n",
            "4206\n",
            "(7920, 256)\n",
            "4207\n",
            "(7092, 233)\n"
          ],
          "name": "stdout"
        },
        {
          "output_type": "stream",
          "text": [
            " 52%|█████▏    | 1814/3486 [16:45<04:52,  5.72it/s]"
          ],
          "name": "stderr"
        },
        {
          "output_type": "stream",
          "text": [
            "4208\n",
            "(7848, 254)\n",
            "4209\n",
            "(10140, 208)\n",
            "4210\n",
            "(34476, 923)\n"
          ],
          "name": "stdout"
        },
        {
          "output_type": "stream",
          "text": [
            "\r 52%|█████▏    | 1815/3486 [16:47<20:03,  1.39it/s]"
          ],
          "name": "stderr"
        },
        {
          "output_type": "stream",
          "text": [
            "4211\n",
            "(37050, 989)\n"
          ],
          "name": "stdout"
        },
        {
          "output_type": "stream",
          "text": [
            "\r 52%|█████▏    | 1816/3486 [16:50<32:29,  1.17s/it]"
          ],
          "name": "stderr"
        },
        {
          "output_type": "stream",
          "text": [
            "4212\n",
            "(37764, 1085)\n"
          ],
          "name": "stdout"
        },
        {
          "output_type": "stream",
          "text": [
            "\r 52%|█████▏    | 1817/3486 [16:52<45:36,  1.64s/it]"
          ],
          "name": "stderr"
        },
        {
          "output_type": "stream",
          "text": [
            "4213\n",
            "(25872, 658)\n"
          ],
          "name": "stdout"
        },
        {
          "output_type": "stream",
          "text": [
            "\r 52%|█████▏    | 1818/3486 [16:53<40:50,  1.47s/it]"
          ],
          "name": "stderr"
        },
        {
          "output_type": "stream",
          "text": [
            "4214\n",
            "(15420, 317)\n"
          ],
          "name": "stdout"
        },
        {
          "output_type": "stream",
          "text": [
            " 52%|█████▏    | 1820/3486 [16:54<23:07,  1.20it/s]"
          ],
          "name": "stderr"
        },
        {
          "output_type": "stream",
          "text": [
            "4215\n",
            "(12600, 325)\n",
            "4216\n"
          ],
          "name": "stdout"
        },
        {
          "output_type": "stream",
          "text": [
            "\r 52%|█████▏    | 1822/3486 [16:54<16:42,  1.66it/s]"
          ],
          "name": "stderr"
        },
        {
          "output_type": "stream",
          "text": [
            "(5632, 172)\n",
            "4217\n",
            "(6768, 199)\n",
            "4218\n",
            "(25956, 757)\n"
          ],
          "name": "stdout"
        },
        {
          "output_type": "stream",
          "text": [
            " 52%|█████▏    | 1824/3486 [16:55<16:41,  1.66it/s]"
          ],
          "name": "stderr"
        },
        {
          "output_type": "stream",
          "text": [
            "4219\n",
            "(10215, 272)\n",
            "4220\n",
            "(30852, 893)\n"
          ],
          "name": "stdout"
        },
        {
          "output_type": "stream",
          "text": [
            " 52%|█████▏    | 1826/3486 [16:57<18:59,  1.46it/s]"
          ],
          "name": "stderr"
        },
        {
          "output_type": "stream",
          "text": [
            "4221\n",
            "(10725, 218)\n",
            "4222\n",
            "(14625, 270)\n"
          ],
          "name": "stdout"
        },
        {
          "output_type": "stream",
          "text": [
            "\r 52%|█████▏    | 1827/3486 [16:57<14:52,  1.86it/s]"
          ],
          "name": "stderr"
        },
        {
          "output_type": "stream",
          "text": [
            "4223\n",
            "(54630, 1259)\n"
          ],
          "name": "stdout"
        },
        {
          "output_type": "stream",
          "text": [
            " 52%|█████▏    | 1829/3486 [17:02<34:54,  1.26s/it]"
          ],
          "name": "stderr"
        },
        {
          "output_type": "stream",
          "text": [
            "4224\n",
            "(11232, 348)\n",
            "4225\n"
          ],
          "name": "stdout"
        },
        {
          "output_type": "stream",
          "text": [
            "\r 52%|█████▏    | 1830/3486 [17:02<25:53,  1.07it/s]"
          ],
          "name": "stderr"
        },
        {
          "output_type": "stream",
          "text": [
            "(12900, 275)\n",
            "4226\n",
            "(11520, 356)\n"
          ],
          "name": "stdout"
        },
        {
          "output_type": "stream",
          "text": [
            "\r 53%|█████▎    | 1831/3486 [17:03<19:57,  1.38it/s]"
          ],
          "name": "stderr"
        },
        {
          "output_type": "stream",
          "text": [
            "4227\n",
            "(5148, 179)\n",
            "4228\n",
            "(36360, 494)\n"
          ],
          "name": "stdout"
        },
        {
          "output_type": "stream",
          "text": [
            "\r 53%|█████▎    | 1833/3486 [17:03<17:41,  1.56it/s]"
          ],
          "name": "stderr"
        },
        {
          "output_type": "stream",
          "text": [
            "4229\n",
            "(28530, 679)\n"
          ],
          "name": "stdout"
        },
        {
          "output_type": "stream",
          "text": [
            " 53%|█████▎    | 1835/3486 [17:05<16:25,  1.68it/s]"
          ],
          "name": "stderr"
        },
        {
          "output_type": "stream",
          "text": [
            "4230\n",
            "(12660, 271)\n",
            "4231\n",
            "(9864, 209)\n"
          ],
          "name": "stdout"
        },
        {
          "output_type": "stream",
          "text": [
            "\r 53%|█████▎    | 1837/3486 [17:05<12:39,  2.17it/s]"
          ],
          "name": "stderr"
        },
        {
          "output_type": "stream",
          "text": [
            "4232\n",
            "There are 217648800player x questions pairs, tournament will be skipped\n",
            "4233\n",
            "(2916, 117)\n"
          ],
          "name": "stdout"
        },
        {
          "output_type": "stream",
          "text": [
            "\r 53%|█████▎    | 1840/3486 [17:05<09:21,  2.93it/s]"
          ],
          "name": "stderr"
        },
        {
          "output_type": "stream",
          "text": [
            "4234\n",
            "(2745, 106)\n",
            "4235\n",
            "(11880, 237)\n",
            "4236\n",
            "(25128, 734)\n"
          ],
          "name": "stdout"
        },
        {
          "output_type": "stream",
          "text": [
            "\r 53%|█████▎    | 1841/3486 [17:06<17:05,  1.60it/s]"
          ],
          "name": "stderr"
        },
        {
          "output_type": "stream",
          "text": [
            "4238\n",
            "(34800, 539)\n"
          ],
          "name": "stdout"
        },
        {
          "output_type": "stream",
          "text": [
            "\r 53%|█████▎    | 1842/3486 [17:07<18:55,  1.45it/s]"
          ],
          "name": "stderr"
        },
        {
          "output_type": "stream",
          "text": [
            "4239\n",
            "(21852, 643)\n"
          ],
          "name": "stdout"
        },
        {
          "output_type": "stream",
          "text": [
            "\r 53%|█████▎    | 1843/3486 [17:08<19:39,  1.39it/s]"
          ],
          "name": "stderr"
        },
        {
          "output_type": "stream",
          "text": [
            "4240\n",
            "(7164, 235)\n",
            "4241\n",
            "(25650, 615)\n"
          ],
          "name": "stdout"
        },
        {
          "output_type": "stream",
          "text": [
            "\r 53%|█████▎    | 1845/3486 [17:09<17:47,  1.54it/s]"
          ],
          "name": "stderr"
        },
        {
          "output_type": "stream",
          "text": [
            "4242\n",
            "(22680, 309)\n"
          ],
          "name": "stdout"
        },
        {
          "output_type": "stream",
          "text": [
            "\r 53%|█████▎    | 1846/3486 [17:09<15:11,  1.80it/s]"
          ],
          "name": "stderr"
        },
        {
          "output_type": "stream",
          "text": [
            "4243\n",
            "(38610, 903)\n"
          ],
          "name": "stdout"
        },
        {
          "output_type": "stream",
          "text": [
            "\r 53%|█████▎    | 1847/3486 [17:12<28:45,  1.05s/it]"
          ],
          "name": "stderr"
        },
        {
          "output_type": "stream",
          "text": [
            "4245\n",
            "(45240, 1171)\n"
          ],
          "name": "stdout"
        },
        {
          "output_type": "stream",
          "text": [
            "\r 53%|█████▎    | 1848/3486 [17:15<46:30,  1.70s/it]"
          ],
          "name": "stderr"
        },
        {
          "output_type": "stream",
          "text": [
            "4246\n",
            "(3528, 134)\n",
            "4247\n",
            "(51390, 661)\n"
          ],
          "name": "stdout"
        },
        {
          "output_type": "stream",
          "text": [
            " 53%|█████▎    | 1851/3486 [17:17<28:56,  1.06s/it]"
          ],
          "name": "stderr"
        },
        {
          "output_type": "stream",
          "text": [
            "4248\n",
            "(12060, 261)\n",
            "4249\n",
            "(28044, 815)\n"
          ],
          "name": "stdout"
        },
        {
          "output_type": "stream",
          "text": [
            " 53%|█████▎    | 1853/3486 [17:18<22:23,  1.22it/s]"
          ],
          "name": "stderr"
        },
        {
          "output_type": "stream",
          "text": [
            "4250\n",
            "(10305, 274)\n",
            "4252\n",
            "(9000, 210)\n"
          ],
          "name": "stdout"
        },
        {
          "output_type": "stream",
          "text": [
            "\r 53%|█████▎    | 1854/3486 [17:18<16:29,  1.65it/s]"
          ],
          "name": "stderr"
        },
        {
          "output_type": "stream",
          "text": [
            "4253\n",
            "(4128, 134)\n",
            "4254\n",
            "(32292, 933)\n"
          ],
          "name": "stdout"
        },
        {
          "output_type": "stream",
          "text": [
            " 53%|█████▎    | 1859/3486 [17:20<14:08,  1.92it/s]"
          ],
          "name": "stderr"
        },
        {
          "output_type": "stream",
          "text": [
            "4255\n",
            "(3600, 123)\n",
            "4256\n",
            "(5850, 175)\n",
            "4257\n",
            "(4320, 141)\n",
            "4259\n",
            "(19008, 276)\n",
            "4260\n",
            "(24150, 617)\n"
          ],
          "name": "stdout"
        },
        {
          "output_type": "stream",
          "text": [
            "\r 53%|█████▎    | 1861/3486 [17:21<14:15,  1.90it/s]"
          ],
          "name": "stderr"
        },
        {
          "output_type": "stream",
          "text": [
            "4261\n",
            "(3996, 128)\n",
            "4262\n",
            "(17460, 521)\n"
          ],
          "name": "stdout"
        },
        {
          "output_type": "stream",
          "text": [
            "\r 53%|█████▎    | 1863/3486 [17:22<12:14,  2.21it/s]"
          ],
          "name": "stderr"
        },
        {
          "output_type": "stream",
          "text": [
            "4263\n",
            "(15084, 455)\n"
          ],
          "name": "stdout"
        },
        {
          "output_type": "stream",
          "text": [
            " 53%|█████▎    | 1865/3486 [17:23<09:37,  2.81it/s]"
          ],
          "name": "stderr"
        },
        {
          "output_type": "stream",
          "text": [
            "4264\n",
            "(12900, 275)\n",
            "4265\n",
            "(7320, 182)\n",
            "4266\n",
            "(52452, 1493)\n"
          ],
          "name": "stdout"
        },
        {
          "output_type": "stream",
          "text": [
            "\r 54%|█████▎    | 1867/3486 [17:27<26:17,  1.03it/s]"
          ],
          "name": "stderr"
        },
        {
          "output_type": "stream",
          "text": [
            "4267\n",
            "(35325, 830)\n"
          ],
          "name": "stdout"
        },
        {
          "output_type": "stream",
          "text": [
            "\r 54%|█████▎    | 1868/3486 [17:29<32:03,  1.19s/it]"
          ],
          "name": "stderr"
        },
        {
          "output_type": "stream",
          "text": [
            "4268\n",
            "(15984, 480)\n"
          ],
          "name": "stdout"
        },
        {
          "output_type": "stream",
          "text": [
            "\r 54%|█████▎    | 1869/3486 [17:29<26:00,  1.04it/s]"
          ],
          "name": "stderr"
        },
        {
          "output_type": "stream",
          "text": [
            "4269\n",
            "(24696, 722)\n"
          ],
          "name": "stdout"
        },
        {
          "output_type": "stream",
          "text": [
            "\r 54%|█████▎    | 1870/3486 [17:30<25:36,  1.05it/s]"
          ],
          "name": "stderr"
        },
        {
          "output_type": "stream",
          "text": [
            "4270\n",
            "(17280, 282)\n"
          ],
          "name": "stdout"
        },
        {
          "output_type": "stream",
          "text": [
            "\r 54%|█████▎    | 1871/3486 [17:31<19:44,  1.36it/s]"
          ],
          "name": "stderr"
        },
        {
          "output_type": "stream",
          "text": [
            "4271\n",
            "(3840, 128)\n",
            "4272\n",
            "(31932, 923)\n"
          ],
          "name": "stdout"
        },
        {
          "output_type": "stream",
          "text": [
            "\r 54%|█████▎    | 1873/3486 [17:32<20:06,  1.34it/s]"
          ],
          "name": "stderr"
        },
        {
          "output_type": "stream",
          "text": [
            "4273\n",
            "(34056, 982)\n"
          ],
          "name": "stdout"
        },
        {
          "output_type": "stream",
          "text": [
            " 54%|█████▍    | 1875/3486 [17:34<22:26,  1.20it/s]"
          ],
          "name": "stderr"
        },
        {
          "output_type": "stream",
          "text": [
            "4274\n",
            "(7722, 237)\n",
            "4275\n",
            "(14256, 432)\n"
          ],
          "name": "stdout"
        },
        {
          "output_type": "stream",
          "text": [
            "\r 54%|█████▍    | 1876/3486 [17:35<18:16,  1.47it/s]"
          ],
          "name": "stderr"
        },
        {
          "output_type": "stream",
          "text": [
            "4276\n",
            "(36945, 866)\n"
          ],
          "name": "stdout"
        },
        {
          "output_type": "stream",
          "text": [
            "\r 54%|█████▍    | 1877/3486 [17:37<28:22,  1.06s/it]"
          ],
          "name": "stderr"
        },
        {
          "output_type": "stream",
          "text": [
            "4277\n",
            "(1872, 102)\n",
            "4278\n",
            "(2616, 133)\n",
            "4279\n"
          ],
          "name": "stdout"
        },
        {
          "output_type": "stream",
          "text": [
            "\r 54%|█████▍    | 1880/3486 [17:38<23:14,  1.15it/s]"
          ],
          "name": "stderr"
        },
        {
          "output_type": "stream",
          "text": [
            "There are 12167809920player x questions pairs, tournament will be skipped\n",
            "4280\n"
          ],
          "name": "stdout"
        },
        {
          "output_type": "stream",
          "text": [
            "\r 54%|█████▍    | 1881/3486 [17:38<20:03,  1.33it/s]"
          ],
          "name": "stderr"
        },
        {
          "output_type": "stream",
          "text": [
            "There are 2406844800player x questions pairs, tournament will be skipped\n",
            "4281\n",
            "(19710, 309)\n"
          ],
          "name": "stdout"
        },
        {
          "output_type": "stream",
          "text": [
            " 54%|█████▍    | 1883/3486 [17:39<12:58,  2.06it/s]"
          ],
          "name": "stderr"
        },
        {
          "output_type": "stream",
          "text": [
            "4282\n",
            "(10128, 340)\n",
            "4284\n",
            "(3900, 125)\n"
          ],
          "name": "stdout"
        },
        {
          "output_type": "stream",
          "text": [
            "\r 54%|█████▍    | 1885/3486 [17:39<09:41,  2.75it/s]"
          ],
          "name": "stderr"
        },
        {
          "output_type": "stream",
          "text": [
            "4285\n",
            "(9504, 246)\n",
            "4286\n",
            "(4680, 149)\n",
            "4287\n",
            "(21336, 550)\n"
          ],
          "name": "stdout"
        },
        {
          "output_type": "stream",
          "text": [
            " 54%|█████▍    | 1888/3486 [17:40<07:24,  3.59it/s]"
          ],
          "name": "stderr"
        },
        {
          "output_type": "stream",
          "text": [
            "4288\n",
            "(9585, 258)\n",
            "4289\n",
            "(10980, 341)\n"
          ],
          "name": "stdout"
        },
        {
          "output_type": "stream",
          "text": [
            "\r 54%|█████▍    | 1889/3486 [17:40<06:47,  3.92it/s]"
          ],
          "name": "stderr"
        },
        {
          "output_type": "stream",
          "text": [
            "4290\n",
            "(3984, 131)\n",
            "4291\n",
            "(22032, 648)\n"
          ],
          "name": "stdout"
        },
        {
          "output_type": "stream",
          "text": [
            "\r 54%|█████▍    | 1891/3486 [17:41<07:40,  3.46it/s]"
          ],
          "name": "stderr"
        },
        {
          "output_type": "stream",
          "text": [
            "4292\n",
            "(27990, 401)\n"
          ],
          "name": "stdout"
        },
        {
          "output_type": "stream",
          "text": [
            "\r 54%|█████▍    | 1892/3486 [17:41<09:42,  2.74it/s]"
          ],
          "name": "stderr"
        },
        {
          "output_type": "stream",
          "text": [
            "4293\n",
            "(24120, 407)\n"
          ],
          "name": "stdout"
        },
        {
          "output_type": "stream",
          "text": [
            " 54%|█████▍    | 1894/3486 [17:42<08:41,  3.05it/s]"
          ],
          "name": "stderr"
        },
        {
          "output_type": "stream",
          "text": [
            "4294\n",
            "(7956, 257)\n",
            "4295\n",
            "(9840, 224)\n"
          ],
          "name": "stdout"
        },
        {
          "output_type": "stream",
          "text": [
            "\r 54%|█████▍    | 1895/3486 [17:42<07:00,  3.79it/s]"
          ],
          "name": "stderr"
        },
        {
          "output_type": "stream",
          "text": [
            "4296\n",
            "(13905, 354)\n"
          ],
          "name": "stdout"
        },
        {
          "output_type": "stream",
          "text": [
            "\r 54%|█████▍    | 1896/3486 [17:42<07:07,  3.72it/s]"
          ],
          "name": "stderr"
        },
        {
          "output_type": "stream",
          "text": [
            "4297\n",
            "(11664, 360)\n"
          ],
          "name": "stdout"
        },
        {
          "output_type": "stream",
          "text": [
            " 54%|█████▍    | 1898/3486 [17:43<05:43,  4.63it/s]"
          ],
          "name": "stderr"
        },
        {
          "output_type": "stream",
          "text": [
            "4298\n",
            "(9960, 226)\n",
            "4299\n",
            "(3060, 113)\n",
            "4300\n",
            "(8175, 184)\n"
          ],
          "name": "stdout"
        },
        {
          "output_type": "stream",
          "text": [
            "\r 55%|█████▍    | 1900/3486 [17:43<04:27,  5.94it/s]"
          ],
          "name": "stderr"
        },
        {
          "output_type": "stream",
          "text": [
            "4301\n",
            "(4464, 134)\n",
            "4302\n",
            "(17604, 525)\n"
          ],
          "name": "stdout"
        },
        {
          "output_type": "stream",
          "text": [
            "\r 55%|█████▍    | 1902/3486 [17:43<05:21,  4.92it/s]"
          ],
          "name": "stderr"
        },
        {
          "output_type": "stream",
          "text": [
            "4303\n",
            "(378, 51)\n",
            "4305\n",
            "(3915, 132)\n",
            "4306\n",
            "(15876, 477)\n"
          ],
          "name": "stdout"
        },
        {
          "output_type": "stream",
          "text": [
            "\r 55%|█████▍    | 1905/3486 [17:44<05:00,  5.27it/s]"
          ],
          "name": "stderr"
        },
        {
          "output_type": "stream",
          "text": [
            "4307\n",
            "(16956, 507)\n"
          ],
          "name": "stdout"
        },
        {
          "output_type": "stream",
          "text": [
            "\r 55%|█████▍    | 1906/3486 [17:44<07:23,  3.56it/s]"
          ],
          "name": "stderr"
        },
        {
          "output_type": "stream",
          "text": [
            "4308\n",
            "(16500, 295)\n"
          ],
          "name": "stdout"
        },
        {
          "output_type": "stream",
          "text": [
            " 55%|█████▍    | 1908/3486 [17:45<06:01,  4.37it/s]"
          ],
          "name": "stderr"
        },
        {
          "output_type": "stream",
          "text": [
            "4309\n",
            "There are 194925780player x questions pairs, tournament will be skipped\n",
            "4310\n",
            "(11520, 252)\n"
          ],
          "name": "stdout"
        },
        {
          "output_type": "stream",
          "text": [
            " 55%|█████▍    | 1910/3486 [17:45<04:38,  5.65it/s]"
          ],
          "name": "stderr"
        },
        {
          "output_type": "stream",
          "text": [
            "4311\n",
            "There are 179012736player x questions pairs, tournament will be skipped\n",
            "4312\n",
            "(4800, 139)\n",
            "4313\n",
            "(7540, 197)\n"
          ],
          "name": "stdout"
        },
        {
          "output_type": "stream",
          "text": [
            "\r 55%|█████▍    | 1912/3486 [17:45<03:42,  7.08it/s]"
          ],
          "name": "stderr"
        },
        {
          "output_type": "stream",
          "text": [
            "4314\n",
            "(28584, 469)\n"
          ],
          "name": "stdout"
        },
        {
          "output_type": "stream",
          "text": [
            "\r 55%|█████▍    | 1913/3486 [17:46<08:00,  3.27it/s]"
          ],
          "name": "stderr"
        },
        {
          "output_type": "stream",
          "text": [
            "4315\n",
            "(36036, 1037)\n"
          ],
          "name": "stdout"
        },
        {
          "output_type": "stream",
          "text": [
            "\r 55%|█████▍    | 1914/3486 [17:49<32:05,  1.23s/it]"
          ],
          "name": "stderr"
        },
        {
          "output_type": "stream",
          "text": [
            "4317\n",
            "(15840, 476)\n"
          ],
          "name": "stdout"
        },
        {
          "output_type": "stream",
          "text": [
            "\r 55%|█████▍    | 1915/3486 [17:50<27:48,  1.06s/it]"
          ],
          "name": "stderr"
        },
        {
          "output_type": "stream",
          "text": [
            "4319\n",
            "(16380, 491)\n"
          ],
          "name": "stdout"
        },
        {
          "output_type": "stream",
          "text": [
            "\r 55%|█████▍    | 1916/3486 [17:51<25:38,  1.02it/s]"
          ],
          "name": "stderr"
        },
        {
          "output_type": "stream",
          "text": [
            "4320\n",
            "(8460, 271)\n"
          ],
          "name": "stdout"
        },
        {
          "output_type": "stream",
          "text": [
            " 55%|█████▌    | 1919/3486 [17:51<14:30,  1.80it/s]"
          ],
          "name": "stderr"
        },
        {
          "output_type": "stream",
          "text": [
            "4321\n",
            "(2448, 104)\n",
            "4322\n",
            "(5292, 183)\n",
            "4323\n",
            "(3672, 138)\n"
          ],
          "name": "stdout"
        },
        {
          "output_type": "stream",
          "text": [
            "\r 55%|█████▌    | 1921/3486 [17:51<10:59,  2.37it/s]"
          ],
          "name": "stderr"
        },
        {
          "output_type": "stream",
          "text": [
            "4324\n",
            "(6408, 214)\n",
            "4325\n",
            "(4176, 152)\n"
          ],
          "name": "stdout"
        },
        {
          "output_type": "stream",
          "text": [
            "\r 55%|█████▌    | 1923/3486 [17:51<08:23,  3.10it/s]"
          ],
          "name": "stderr"
        },
        {
          "output_type": "stream",
          "text": [
            "4326\n",
            "(4968, 174)\n",
            "4327\n",
            "(22770, 343)\n"
          ],
          "name": "stdout"
        },
        {
          "output_type": "stream",
          "text": [
            "\r 55%|█████▌    | 1924/3486 [17:52<10:41,  2.44it/s]"
          ],
          "name": "stderr"
        },
        {
          "output_type": "stream",
          "text": [
            "4328\n"
          ],
          "name": "stdout"
        },
        {
          "output_type": "stream",
          "text": [
            "\r 55%|█████▌    | 1925/3486 [17:52<10:51,  2.40it/s]"
          ],
          "name": "stderr"
        },
        {
          "output_type": "stream",
          "text": [
            "There are 891211440player x questions pairs, tournament will be skipped\n",
            "4329\n"
          ],
          "name": "stdout"
        },
        {
          "output_type": "stream",
          "text": [
            "\r 55%|█████▌    | 1926/3486 [17:53<10:26,  2.49it/s]"
          ],
          "name": "stderr"
        },
        {
          "output_type": "stream",
          "text": [
            "There are 1320453552player x questions pairs, tournament will be skipped\n",
            "4330\n"
          ],
          "name": "stdout"
        },
        {
          "output_type": "stream",
          "text": [
            "\r 55%|█████▌    | 1927/3486 [17:54<16:54,  1.54it/s]"
          ],
          "name": "stderr"
        },
        {
          "output_type": "stream",
          "text": [
            "There are 16060058820player x questions pairs, tournament will be skipped\n",
            "4331\n"
          ],
          "name": "stdout"
        },
        {
          "output_type": "stream",
          "text": [
            " 55%|█████▌    | 1929/3486 [17:54<11:02,  2.35it/s]"
          ],
          "name": "stderr"
        },
        {
          "output_type": "stream",
          "text": [
            "There are 1384274772player x questions pairs, tournament will be skipped\n",
            "4332\n",
            "There are 924999732player x questions pairs, tournament will be skipped\n",
            "4333\n"
          ],
          "name": "stdout"
        },
        {
          "output_type": "stream",
          "text": [
            " 55%|█████▌    | 1931/3486 [17:55<08:05,  3.20it/s]"
          ],
          "name": "stderr"
        },
        {
          "output_type": "stream",
          "text": [
            "There are 1110877236player x questions pairs, tournament will be skipped\n",
            "4334\n",
            "There are 1013901300player x questions pairs, tournament will be skipped\n",
            "4335\n"
          ],
          "name": "stdout"
        },
        {
          "output_type": "stream",
          "text": [
            " 55%|█████▌    | 1934/3486 [17:55<05:29,  4.71it/s]"
          ],
          "name": "stderr"
        },
        {
          "output_type": "stream",
          "text": [
            "There are 791510292player x questions pairs, tournament will be skipped\n",
            "4336\n",
            "(2268, 99)\n",
            "4337\n",
            "There are 167639040player x questions pairs, tournament will be skipped\n",
            "4338\n",
            "(2640, 106)\n",
            "4339\n",
            "(6300, 159)\n",
            "4341\n",
            "(25164, 735)\n"
          ],
          "name": "stdout"
        },
        {
          "output_type": "stream",
          "text": [
            "\r 56%|█████▌    | 1937/3486 [17:57<07:18,  3.53it/s]"
          ],
          "name": "stderr"
        },
        {
          "output_type": "stream",
          "text": [
            "4342\n",
            "(54468, 1549)\n"
          ],
          "name": "stdout"
        },
        {
          "output_type": "stream",
          "text": [
            "\r 56%|█████▌    | 1938/3486 [18:03<55:07,  2.14s/it]"
          ],
          "name": "stderr"
        },
        {
          "output_type": "stream",
          "text": [
            "4343\n",
            "(39600, 1136)\n"
          ],
          "name": "stdout"
        },
        {
          "output_type": "stream",
          "text": [
            "\r 56%|█████▌    | 1939/3486 [18:06<58:50,  2.28s/it]"
          ],
          "name": "stderr"
        },
        {
          "output_type": "stream",
          "text": [
            "4344\n",
            "(48312, 1142)\n"
          ],
          "name": "stdout"
        },
        {
          "output_type": "stream",
          "text": [
            " 56%|█████▌    | 1941/3486 [18:09<49:32,  1.92s/it]  "
          ],
          "name": "stderr"
        },
        {
          "output_type": "stream",
          "text": [
            "4345\n",
            "(10950, 221)\n",
            "4346\n",
            "(6876, 227)\n",
            "4347\n",
            "(5760, 156)\n"
          ],
          "name": "stdout"
        },
        {
          "output_type": "stream",
          "text": [
            " 56%|█████▌    | 1944/3486 [18:10<25:25,  1.01it/s]"
          ],
          "name": "stderr"
        },
        {
          "output_type": "stream",
          "text": [
            "4348\n",
            "(9240, 214)\n",
            "4349\n"
          ],
          "name": "stdout"
        },
        {
          "output_type": "stream",
          "text": [
            "\r 56%|█████▌    | 1945/3486 [18:10<18:45,  1.37it/s]"
          ],
          "name": "stderr"
        },
        {
          "output_type": "stream",
          "text": [
            "There are 139558932player x questions pairs, tournament will be skipped\n",
            "4350\n",
            "(1872, 88)\n",
            "4351\n",
            "(24525, 590)\n"
          ],
          "name": "stdout"
        },
        {
          "output_type": "stream",
          "text": [
            " 56%|█████▌    | 1949/3486 [18:11<12:07,  2.11it/s]"
          ],
          "name": "stderr"
        },
        {
          "output_type": "stream",
          "text": [
            "4352\n",
            "(1584, 80)\n",
            "4353\n",
            "(11052, 343)\n",
            "4354\n",
            "(21096, 622)\n"
          ],
          "name": "stdout"
        },
        {
          "output_type": "stream",
          "text": [
            "\r 56%|█████▌    | 1950/3486 [18:12<15:27,  1.66it/s]"
          ],
          "name": "stderr"
        },
        {
          "output_type": "stream",
          "text": [
            "4355\n",
            "(7392, 202)\n",
            "4356\n",
            "(51300, 660)\n"
          ],
          "name": "stdout"
        },
        {
          "output_type": "stream",
          "text": [
            " 56%|█████▌    | 1954/3486 [18:14<13:29,  1.89it/s]"
          ],
          "name": "stderr"
        },
        {
          "output_type": "stream",
          "text": [
            "4358\n",
            "(4380, 133)\n",
            "4359\n",
            "(7452, 243)\n",
            "4360\n",
            "(1656, 82)\n",
            "4361\n",
            "(17940, 359)\n"
          ],
          "name": "stdout"
        },
        {
          "output_type": "stream",
          "text": [
            " 56%|█████▌    | 1957/3486 [18:14<08:19,  3.06it/s]"
          ],
          "name": "stderr"
        },
        {
          "output_type": "stream",
          "text": [
            "4362\n",
            "There are 103905972player x questions pairs, tournament will be skipped\n",
            "4363\n",
            "(12888, 251)\n"
          ],
          "name": "stdout"
        },
        {
          "output_type": "stream",
          "text": [
            "\r 56%|█████▌    | 1958/3486 [18:14<06:53,  3.70it/s]"
          ],
          "name": "stderr"
        },
        {
          "output_type": "stream",
          "text": [
            "4364\n"
          ],
          "name": "stdout"
        },
        {
          "output_type": "stream",
          "text": [
            " 56%|█████▌    | 1960/3486 [18:15<06:07,  4.16it/s]"
          ],
          "name": "stderr"
        },
        {
          "output_type": "stream",
          "text": [
            "There are 897470100player x questions pairs, tournament will be skipped\n",
            "4365\n",
            "There are 912994992player x questions pairs, tournament will be skipped\n",
            "4366\n"
          ],
          "name": "stdout"
        },
        {
          "output_type": "stream",
          "text": [
            " 56%|█████▋    | 1962/3486 [18:15<05:10,  4.90it/s]"
          ],
          "name": "stderr"
        },
        {
          "output_type": "stream",
          "text": [
            "There are 653608692player x questions pairs, tournament will be skipped\n",
            "4367\n",
            "There are 822874932player x questions pairs, tournament will be skipped\n",
            "4368\n"
          ],
          "name": "stdout"
        },
        {
          "output_type": "stream",
          "text": [
            " 56%|█████▋    | 1964/3486 [18:16<04:36,  5.50it/s]"
          ],
          "name": "stderr"
        },
        {
          "output_type": "stream",
          "text": [
            "There are 600140340player x questions pairs, tournament will be skipped\n",
            "4369\n",
            "There are 689996160player x questions pairs, tournament will be skipped\n",
            "4370\n",
            "(19224, 570)\n"
          ],
          "name": "stdout"
        },
        {
          "output_type": "stream",
          "text": [
            "\r 56%|█████▋    | 1965/3486 [18:16<06:51,  3.69it/s]"
          ],
          "name": "stderr"
        },
        {
          "output_type": "stream",
          "text": [
            "4371\n",
            "(31410, 439)\n"
          ],
          "name": "stdout"
        },
        {
          "output_type": "stream",
          "text": [
            "\r 56%|█████▋    | 1966/3486 [18:17<09:44,  2.60it/s]"
          ],
          "name": "stderr"
        },
        {
          "output_type": "stream",
          "text": [
            "4372\n",
            "(8352, 188)\n",
            "4373\n",
            "(37872, 1088)\n"
          ],
          "name": "stdout"
        },
        {
          "output_type": "stream",
          "text": [
            " 56%|█████▋    | 1969/3486 [18:19<10:31,  2.40it/s]"
          ],
          "name": "stderr"
        },
        {
          "output_type": "stream",
          "text": [
            "4374\n",
            "(8244, 265)\n",
            "4375\n"
          ],
          "name": "stdout"
        },
        {
          "output_type": "stream",
          "text": [
            " 57%|█████▋    | 1972/3486 [18:19<06:43,  3.75it/s]"
          ],
          "name": "stderr"
        },
        {
          "output_type": "stream",
          "text": [
            "There are 452643840player x questions pairs, tournament will be skipped\n",
            "4376\n",
            "(6300, 165)\n",
            "4377\n",
            "(7560, 246)\n",
            "4378\n",
            "(22500, 661)\n"
          ],
          "name": "stdout"
        },
        {
          "output_type": "stream",
          "text": [
            "\r 57%|█████▋    | 1973/3486 [18:20<10:37,  2.37it/s]"
          ],
          "name": "stderr"
        },
        {
          "output_type": "stream",
          "text": [
            "4379\n",
            "(2688, 106)\n",
            "4380\n",
            "(2655, 104)\n",
            "4381\n",
            "(4224, 136)\n",
            "4383\n",
            "(13356, 407)\n"
          ],
          "name": "stdout"
        },
        {
          "output_type": "stream",
          "text": [
            "\r 57%|█████▋    | 1977/3486 [18:20<08:09,  3.08it/s]"
          ],
          "name": "stderr"
        },
        {
          "output_type": "stream",
          "text": [
            "4384\n",
            "(25056, 732)\n"
          ],
          "name": "stdout"
        },
        {
          "output_type": "stream",
          "text": [
            " 57%|█████▋    | 1979/3486 [18:21<11:09,  2.25it/s]"
          ],
          "name": "stderr"
        },
        {
          "output_type": "stream",
          "text": [
            "4385\n",
            "(16740, 276)\n",
            "4387\n",
            "(21780, 332)\n"
          ],
          "name": "stdout"
        },
        {
          "output_type": "stream",
          "text": [
            " 57%|█████▋    | 1983/3486 [18:22<07:57,  3.15it/s]"
          ],
          "name": "stderr"
        },
        {
          "output_type": "stream",
          "text": [
            "4388\n",
            "(5376, 160)\n",
            "4389\n",
            "(2844, 115)\n",
            "4390\n",
            "(8880, 208)\n",
            "4391\n",
            "(27174, 689)\n"
          ],
          "name": "stdout"
        },
        {
          "output_type": "stream",
          "text": [
            " 57%|█████▋    | 1985/3486 [18:23<09:47,  2.55it/s]"
          ],
          "name": "stderr"
        },
        {
          "output_type": "stream",
          "text": [
            "4392\n",
            "(11460, 251)\n",
            "4394\n",
            "(10140, 229)\n"
          ],
          "name": "stdout"
        },
        {
          "output_type": "stream",
          "text": [
            " 57%|█████▋    | 1987/3486 [18:23<06:24,  3.89it/s]"
          ],
          "name": "stderr"
        },
        {
          "output_type": "stream",
          "text": [
            "4395\n",
            "(9560, 279)\n",
            "4396\n",
            "(8160, 196)\n",
            "4397\n",
            "(18960, 443)\n"
          ],
          "name": "stdout"
        },
        {
          "output_type": "stream",
          "text": [
            "\r 57%|█████▋    | 1989/3486 [18:24<06:27,  3.86it/s]"
          ],
          "name": "stderr"
        },
        {
          "output_type": "stream",
          "text": [
            "4398\n",
            "(6060, 161)\n",
            "4399\n",
            "(23904, 700)\n"
          ],
          "name": "stdout"
        },
        {
          "output_type": "stream",
          "text": [
            "\r 57%|█████▋    | 1991/3486 [18:25<09:07,  2.73it/s]"
          ],
          "name": "stderr"
        },
        {
          "output_type": "stream",
          "text": [
            "4400\n",
            "(1296, 72)\n",
            "4401\n",
            "(28548, 829)\n"
          ],
          "name": "stdout"
        },
        {
          "output_type": "stream",
          "text": [
            " 57%|█████▋    | 1994/3486 [18:27<10:35,  2.35it/s]"
          ],
          "name": "stderr"
        },
        {
          "output_type": "stream",
          "text": [
            "4402\n",
            "(11376, 352)\n",
            "4403\n",
            "(50688, 1444)\n"
          ],
          "name": "stdout"
        },
        {
          "output_type": "stream",
          "text": [
            "\r 57%|█████▋    | 1995/3486 [18:32<45:14,  1.82s/it]"
          ],
          "name": "stderr"
        },
        {
          "output_type": "stream",
          "text": [
            "4404\n",
            "(26064, 760)\n"
          ],
          "name": "stdout"
        },
        {
          "output_type": "stream",
          "text": [
            "\r 57%|█████▋    | 1996/3486 [18:33<40:52,  1.65s/it]"
          ],
          "name": "stderr"
        },
        {
          "output_type": "stream",
          "text": [
            "4405\n",
            "(7488, 176)\n",
            "4406\n",
            "(21285, 518)\n"
          ],
          "name": "stdout"
        },
        {
          "output_type": "stream",
          "text": [
            "\r 57%|█████▋    | 1998/3486 [18:34<30:53,  1.25s/it]"
          ],
          "name": "stderr"
        },
        {
          "output_type": "stream",
          "text": [
            "4407\n",
            "(20412, 603)\n"
          ],
          "name": "stdout"
        },
        {
          "output_type": "stream",
          "text": [
            "\r 57%|█████▋    | 1999/3486 [18:35<26:55,  1.09s/it]"
          ],
          "name": "stderr"
        },
        {
          "output_type": "stream",
          "text": [
            "4408\n",
            "(1484, 81)\n",
            "4409\n",
            "(47628, 1176)\n"
          ],
          "name": "stdout"
        },
        {
          "output_type": "stream",
          "text": [
            "\r 57%|█████▋    | 2001/3486 [18:38<30:18,  1.22s/it]"
          ],
          "name": "stderr"
        },
        {
          "output_type": "stream",
          "text": [
            "4410\n",
            "(21456, 377)\n"
          ],
          "name": "stdout"
        },
        {
          "output_type": "stream",
          "text": [
            " 57%|█████▋    | 2003/3486 [18:38<18:31,  1.33it/s]"
          ],
          "name": "stderr"
        },
        {
          "output_type": "stream",
          "text": [
            "4411\n",
            "(15675, 284)\n",
            "4412\n"
          ],
          "name": "stdout"
        },
        {
          "output_type": "stream",
          "text": [
            " 58%|█████▊    | 2005/3486 [18:39<10:33,  2.34it/s]"
          ],
          "name": "stderr"
        },
        {
          "output_type": "stream",
          "text": [
            "There are 151278336player x questions pairs, tournament will be skipped\n",
            "4413\n",
            "There are 311793300player x questions pairs, tournament will be skipped\n",
            "4414\n",
            "(36684, 1055)\n"
          ],
          "name": "stdout"
        },
        {
          "output_type": "stream",
          "text": [
            "\r 58%|█████▊    | 2006/3486 [18:41<24:57,  1.01s/it]"
          ],
          "name": "stderr"
        },
        {
          "output_type": "stream",
          "text": [
            "4415\n",
            "(3636, 137)\n",
            "4416\n",
            "(2196, 97)\n",
            "4417\n",
            "(54072, 1538)\n"
          ],
          "name": "stdout"
        },
        {
          "output_type": "stream",
          "text": [
            " 58%|█████▊    | 2010/3486 [18:47<22:59,  1.07it/s]"
          ],
          "name": "stderr"
        },
        {
          "output_type": "stream",
          "text": [
            "4418\n",
            "There are 129950730player x questions pairs, tournament will be skipped\n",
            "4420\n",
            "(22392, 658)\n"
          ],
          "name": "stdout"
        },
        {
          "output_type": "stream",
          "text": [
            " 58%|█████▊    | 2013/3486 [18:48<16:04,  1.53it/s]"
          ],
          "name": "stderr"
        },
        {
          "output_type": "stream",
          "text": [
            "4421\n",
            "(5184, 180)\n",
            "4422\n",
            "(5184, 180)\n",
            "4423\n",
            "(18825, 326)\n"
          ],
          "name": "stdout"
        },
        {
          "output_type": "stream",
          "text": [
            "\r 58%|█████▊    | 2014/3486 [18:48<13:21,  1.84it/s]"
          ],
          "name": "stderr"
        },
        {
          "output_type": "stream",
          "text": [
            "4424\n",
            "(30180, 563)\n"
          ],
          "name": "stdout"
        },
        {
          "output_type": "stream",
          "text": [
            "\r 58%|█████▊    | 2015/3486 [18:49<15:57,  1.54it/s]"
          ],
          "name": "stderr"
        },
        {
          "output_type": "stream",
          "text": [
            "4425\n",
            "(19755, 484)\n"
          ],
          "name": "stdout"
        },
        {
          "output_type": "stream",
          "text": [
            "\r 58%|█████▊    | 2016/3486 [18:50<15:30,  1.58it/s]"
          ],
          "name": "stderr"
        },
        {
          "output_type": "stream",
          "text": [
            "4426\n",
            "(24768, 724)\n"
          ],
          "name": "stdout"
        },
        {
          "output_type": "stream",
          "text": [
            " 58%|█████▊    | 2018/3486 [18:51<15:45,  1.55it/s]"
          ],
          "name": "stderr"
        },
        {
          "output_type": "stream",
          "text": [
            "4427\n",
            "There are 286884180player x questions pairs, tournament will be skipped\n",
            "4428\n",
            "(32472, 938)\n"
          ],
          "name": "stdout"
        },
        {
          "output_type": "stream",
          "text": [
            "\r 58%|█████▊    | 2019/3486 [18:53<25:28,  1.04s/it]"
          ],
          "name": "stderr"
        },
        {
          "output_type": "stream",
          "text": [
            "4429\n",
            "(25830, 377)\n"
          ],
          "name": "stdout"
        },
        {
          "output_type": "stream",
          "text": [
            " 58%|█████▊    | 2021/3486 [18:54<15:38,  1.56it/s]"
          ],
          "name": "stderr"
        },
        {
          "output_type": "stream",
          "text": [
            "4430\n",
            "There are 114820992player x questions pairs, tournament will be skipped\n",
            "4431\n",
            "(32200, 845)\n"
          ],
          "name": "stdout"
        },
        {
          "output_type": "stream",
          "text": [
            "\r 58%|█████▊    | 2022/3486 [18:55<23:22,  1.04it/s]"
          ],
          "name": "stderr"
        },
        {
          "output_type": "stream",
          "text": [
            "4432\n",
            "(3432, 127)\n",
            "4433\n",
            "(19350, 305)\n"
          ],
          "name": "stdout"
        },
        {
          "output_type": "stream",
          "text": [
            "\r 58%|█████▊    | 2024/3486 [18:56<17:28,  1.39it/s]"
          ],
          "name": "stderr"
        },
        {
          "output_type": "stream",
          "text": [
            "4434\n",
            "(65655, 1504)\n"
          ],
          "name": "stdout"
        },
        {
          "output_type": "stream",
          "text": [
            "\r 58%|█████▊    | 2025/3486 [19:02<56:03,  2.30s/it]"
          ],
          "name": "stderr"
        },
        {
          "output_type": "stream",
          "text": [
            "4435\n",
            "(23292, 683)\n"
          ],
          "name": "stdout"
        },
        {
          "output_type": "stream",
          "text": [
            "\r 58%|█████▊    | 2026/3486 [19:03<46:41,  1.92s/it]"
          ],
          "name": "stderr"
        },
        {
          "output_type": "stream",
          "text": [
            "4436\n",
            "(17712, 528)\n"
          ],
          "name": "stdout"
        },
        {
          "output_type": "stream",
          "text": [
            " 58%|█████▊    | 2030/3486 [19:03<25:52,  1.07s/it]"
          ],
          "name": "stderr"
        },
        {
          "output_type": "stream",
          "text": [
            "4437\n",
            "(4320, 156)\n",
            "4438\n",
            "(1755, 84)\n",
            "4439\n",
            "(3600, 150)\n",
            "4440\n",
            "(13800, 290)\n"
          ],
          "name": "stdout"
        },
        {
          "output_type": "stream",
          "text": [
            "\r 58%|█████▊    | 2031/3486 [19:04<19:30,  1.24it/s]"
          ],
          "name": "stderr"
        },
        {
          "output_type": "stream",
          "text": [
            "4441\n",
            "(2304, 100)\n",
            "4442\n",
            "(19836, 587)\n"
          ],
          "name": "stdout"
        },
        {
          "output_type": "stream",
          "text": [
            " 58%|█████▊    | 2036/3486 [19:04<11:44,  2.06it/s]"
          ],
          "name": "stderr"
        },
        {
          "output_type": "stream",
          "text": [
            "4443\n",
            "(4512, 142)\n",
            "4444\n",
            "(1824, 86)\n",
            "4446\n",
            "(10680, 238)\n",
            "4447\n",
            "(7200, 171)\n",
            "4448\n",
            "(22680, 666)\n"
          ],
          "name": "stdout"
        },
        {
          "output_type": "stream",
          "text": [
            "\r 58%|█████▊    | 2038/3486 [19:05<11:19,  2.13it/s]"
          ],
          "name": "stderr"
        },
        {
          "output_type": "stream",
          "text": [
            "4449\n",
            "(21105, 514)\n"
          ],
          "name": "stdout"
        },
        {
          "output_type": "stream",
          "text": [
            "\r 58%|█████▊    | 2039/3486 [19:06<12:14,  1.97it/s]"
          ],
          "name": "stderr"
        },
        {
          "output_type": "stream",
          "text": [
            "4450\n",
            "(27780, 523)\n"
          ],
          "name": "stdout"
        },
        {
          "output_type": "stream",
          "text": [
            "\r 59%|█████▊    | 2040/3486 [19:07<12:57,  1.86it/s]"
          ],
          "name": "stderr"
        },
        {
          "output_type": "stream",
          "text": [
            "4451\n",
            "(15516, 467)\n"
          ],
          "name": "stdout"
        },
        {
          "output_type": "stream",
          "text": [
            " 59%|█████▊    | 2042/3486 [19:07<09:48,  2.46it/s]"
          ],
          "name": "stderr"
        },
        {
          "output_type": "stream",
          "text": [
            "4452\n",
            "(15120, 282)\n",
            "4453\n",
            "(29484, 855)\n"
          ],
          "name": "stdout"
        },
        {
          "output_type": "stream",
          "text": [
            " 59%|█████▊    | 2044/3486 [19:09<13:11,  1.82it/s]"
          ],
          "name": "stderr"
        },
        {
          "output_type": "stream",
          "text": [
            "4454\n",
            "(10890, 211)\n",
            "4455\n",
            "(8730, 239)\n"
          ],
          "name": "stdout"
        },
        {
          "output_type": "stream",
          "text": [
            "\r 59%|█████▊    | 2045/3486 [19:09<10:05,  2.38it/s]"
          ],
          "name": "stderr"
        },
        {
          "output_type": "stream",
          "text": [
            "4456\n",
            "(24120, 581)\n"
          ],
          "name": "stdout"
        },
        {
          "output_type": "stream",
          "text": [
            " 59%|█████▊    | 2047/3486 [19:10<09:51,  2.43it/s]"
          ],
          "name": "stderr"
        },
        {
          "output_type": "stream",
          "text": [
            "4458\n",
            "There are 261263232player x questions pairs, tournament will be skipped\n",
            "4459\n",
            "(12960, 276)\n"
          ],
          "name": "stdout"
        },
        {
          "output_type": "stream",
          "text": [
            "\r 59%|█████▊    | 2048/3486 [19:10<08:03,  2.97it/s]"
          ],
          "name": "stderr"
        },
        {
          "output_type": "stream",
          "text": [
            "4460\n",
            "(12312, 378)\n"
          ],
          "name": "stdout"
        },
        {
          "output_type": "stream",
          "text": [
            "\r 59%|█████▉    | 2049/3486 [19:10<07:27,  3.21it/s]"
          ],
          "name": "stderr"
        },
        {
          "output_type": "stream",
          "text": [
            "4461\n",
            "(26280, 437)\n"
          ],
          "name": "stdout"
        },
        {
          "output_type": "stream",
          "text": [
            "\r 59%|█████▉    | 2050/3486 [19:11<09:23,  2.55it/s]"
          ],
          "name": "stderr"
        },
        {
          "output_type": "stream",
          "text": [
            "4462\n",
            "(16200, 486)\n"
          ],
          "name": "stdout"
        },
        {
          "output_type": "stream",
          "text": [
            " 59%|█████▉    | 2055/3486 [19:11<06:52,  3.47it/s]"
          ],
          "name": "stderr"
        },
        {
          "output_type": "stream",
          "text": [
            "4463\n",
            "(3465, 122)\n",
            "4464\n",
            "(3825, 130)\n",
            "4465\n",
            "(2385, 98)\n",
            "4466\n",
            "(1530, 79)\n",
            "4467\n",
            "(26040, 494)\n"
          ],
          "name": "stdout"
        },
        {
          "output_type": "stream",
          "text": [
            "\r 59%|█████▉    | 2057/3486 [19:12<07:33,  3.15it/s]"
          ],
          "name": "stderr"
        },
        {
          "output_type": "stream",
          "text": [
            "4468\n",
            "(8580, 203)\n",
            "4469\n",
            "(18630, 311)\n",
            "4470\n",
            "(56592, 1608)\n"
          ],
          "name": "stdout"
        },
        {
          "output_type": "stream",
          "text": [
            "\r 59%|█████▉    | 2059/3486 [19:17<23:10,  1.03it/s]"
          ],
          "name": "stderr"
        },
        {
          "output_type": "stream",
          "text": [
            "4471\n",
            "(27504, 800)\n"
          ],
          "name": "stdout"
        },
        {
          "output_type": "stream",
          "text": [
            " 59%|█████▉    | 2061/3486 [19:18<18:18,  1.30it/s]"
          ],
          "name": "stderr"
        },
        {
          "output_type": "stream",
          "text": [
            "4472\n",
            "(11460, 251)\n",
            "4473\n",
            "(22932, 673)\n"
          ],
          "name": "stdout"
        },
        {
          "output_type": "stream",
          "text": [
            "\r 59%|█████▉    | 2062/3486 [19:19<18:20,  1.29it/s]"
          ],
          "name": "stderr"
        },
        {
          "output_type": "stream",
          "text": [
            "4474\n",
            "(20376, 602)\n"
          ],
          "name": "stdout"
        },
        {
          "output_type": "stream",
          "text": [
            "\r 59%|█████▉    | 2063/3486 [19:20<16:51,  1.41it/s]"
          ],
          "name": "stderr"
        },
        {
          "output_type": "stream",
          "text": [
            "4475\n",
            "(6420, 167)\n",
            "4476\n",
            "(19620, 481)\n"
          ],
          "name": "stdout"
        },
        {
          "output_type": "stream",
          "text": [
            " 59%|█████▉    | 2066/3486 [19:20<11:08,  2.13it/s]"
          ],
          "name": "stderr"
        },
        {
          "output_type": "stream",
          "text": [
            "4477\n",
            "(11772, 363)\n",
            "4478\n",
            "(42795, 996)\n"
          ],
          "name": "stdout"
        },
        {
          "output_type": "stream",
          "text": [
            "\r 59%|█████▉    | 2067/3486 [19:23<25:07,  1.06s/it]"
          ],
          "name": "stderr"
        },
        {
          "output_type": "stream",
          "text": [
            "4479\n",
            "(5688, 194)\n",
            "4480\n",
            "(30816, 892)\n"
          ],
          "name": "stdout"
        },
        {
          "output_type": "stream",
          "text": [
            " 59%|█████▉    | 2070/3486 [19:25<17:20,  1.36it/s]"
          ],
          "name": "stderr"
        },
        {
          "output_type": "stream",
          "text": [
            "4481\n",
            "There are 141645504player x questions pairs, tournament will be skipped\n",
            "4483\n",
            "(18468, 549)\n"
          ],
          "name": "stdout"
        },
        {
          "output_type": "stream",
          "text": [
            " 59%|█████▉    | 2072/3486 [19:25<12:16,  1.92it/s]"
          ],
          "name": "stderr"
        },
        {
          "output_type": "stream",
          "text": [
            "4484\n",
            "There are 237764736player x questions pairs, tournament will be skipped\n",
            "4485\n",
            "(7320, 182)\n",
            "4486\n"
          ],
          "name": "stdout"
        },
        {
          "output_type": "stream",
          "text": [
            " 60%|█████▉    | 2076/3486 [19:26<07:00,  3.35it/s]"
          ],
          "name": "stderr"
        },
        {
          "output_type": "stream",
          "text": [
            "There are 210470400player x questions pairs, tournament will be skipped\n",
            "4487\n",
            "There are 130359060player x questions pairs, tournament will be skipped\n",
            "4488\n",
            "There are 180621936player x questions pairs, tournament will be skipped\n",
            "4489\n",
            "(19710, 309)\n"
          ],
          "name": "stdout"
        },
        {
          "output_type": "stream",
          "text": [
            "\r 60%|█████▉    | 2077/3486 [19:26<06:41,  3.51it/s]"
          ],
          "name": "stderr"
        },
        {
          "output_type": "stream",
          "text": [
            "4490\n",
            "(6720, 176)\n",
            "4491\n",
            "(9972, 313)\n"
          ],
          "name": "stdout"
        },
        {
          "output_type": "stream",
          "text": [
            " 60%|█████▉    | 2080/3486 [19:26<04:51,  4.83it/s]"
          ],
          "name": "stderr"
        },
        {
          "output_type": "stream",
          "text": [
            "4492\n",
            "There are 237025152player x questions pairs, tournament will be skipped\n",
            "4493\n"
          ],
          "name": "stdout"
        },
        {
          "output_type": "stream",
          "text": [
            " 60%|█████▉    | 2083/3486 [19:27<03:24,  6.86it/s]"
          ],
          "name": "stderr"
        },
        {
          "output_type": "stream",
          "text": [
            "There are 238690836player x questions pairs, tournament will be skipped\n",
            "4494\n",
            "There are 114692436player x questions pairs, tournament will be skipped\n",
            "4495\n",
            "There are 208559700player x questions pairs, tournament will be skipped\n",
            "4496\n"
          ],
          "name": "stdout"
        },
        {
          "output_type": "stream",
          "text": [
            "\r 60%|█████▉    | 2084/3486 [19:27<03:09,  7.40it/s]"
          ],
          "name": "stderr"
        },
        {
          "output_type": "stream",
          "text": [
            "There are 241853040player x questions pairs, tournament will be skipped\n",
            "4497\n",
            "There are 167018112player x questions pairs, tournament will be skipped\n",
            "4498\n",
            "(30690, 727)\n"
          ],
          "name": "stdout"
        },
        {
          "output_type": "stream",
          "text": [
            "\r 60%|█████▉    | 2086/3486 [19:28<07:02,  3.31it/s]"
          ],
          "name": "stderr"
        },
        {
          "output_type": "stream",
          "text": [
            "4499\n",
            "(3384, 130)\n",
            "4500\n",
            "(6012, 203)\n",
            "4501\n",
            "(31104, 900)\n"
          ],
          "name": "stdout"
        },
        {
          "output_type": "stream",
          "text": [
            "\r 60%|█████▉    | 2089/3486 [19:30<08:49,  2.64it/s]"
          ],
          "name": "stderr"
        },
        {
          "output_type": "stream",
          "text": [
            "4502\n",
            "(7320, 182)\n",
            "4503\n",
            "(49050, 1135)\n"
          ],
          "name": "stdout"
        },
        {
          "output_type": "stream",
          "text": [
            "\r 60%|█████▉    | 2091/3486 [19:33<18:12,  1.28it/s]"
          ],
          "name": "stderr"
        },
        {
          "output_type": "stream",
          "text": [
            "4504\n",
            "(25236, 737)\n"
          ],
          "name": "stdout"
        },
        {
          "output_type": "stream",
          "text": [
            "\r 60%|██████    | 2092/3486 [19:34<20:07,  1.15it/s]"
          ],
          "name": "stderr"
        },
        {
          "output_type": "stream",
          "text": [
            "4505\n",
            "(27270, 651)\n"
          ],
          "name": "stdout"
        },
        {
          "output_type": "stream",
          "text": [
            "\r 60%|██████    | 2093/3486 [19:35<20:50,  1.11it/s]"
          ],
          "name": "stderr"
        },
        {
          "output_type": "stream",
          "text": [
            "4506\n",
            "(47520, 1101)\n"
          ],
          "name": "stdout"
        },
        {
          "output_type": "stream",
          "text": [
            "\r 60%|██████    | 2094/3486 [19:39<37:34,  1.62s/it]"
          ],
          "name": "stderr"
        },
        {
          "output_type": "stream",
          "text": [
            "4507\n",
            "(38520, 901)\n"
          ],
          "name": "stdout"
        },
        {
          "output_type": "stream",
          "text": [
            "\r 60%|██████    | 2095/3486 [19:41<41:25,  1.79s/it]"
          ],
          "name": "stderr"
        },
        {
          "output_type": "stream",
          "text": [
            "4508\n",
            "(42795, 996)\n"
          ],
          "name": "stdout"
        },
        {
          "output_type": "stream",
          "text": [
            "\r 60%|██████    | 2096/3486 [19:44<48:01,  2.07s/it]"
          ],
          "name": "stderr"
        },
        {
          "output_type": "stream",
          "text": [
            "4509\n",
            "(48105, 1114)\n"
          ],
          "name": "stdout"
        },
        {
          "output_type": "stream",
          "text": [
            "\r 60%|██████    | 2097/3486 [19:47<59:33,  2.57s/it]"
          ],
          "name": "stderr"
        },
        {
          "output_type": "stream",
          "text": [
            "4510\n",
            "(35100, 825)\n"
          ],
          "name": "stdout"
        },
        {
          "output_type": "stream",
          "text": [
            " 60%|██████    | 2099/3486 [19:49<38:21,  1.66s/it]"
          ],
          "name": "stderr"
        },
        {
          "output_type": "stream",
          "text": [
            "4511\n",
            "(9828, 309)\n",
            "4513\n",
            "(4200, 199)\n",
            "4515\n"
          ],
          "name": "stdout"
        },
        {
          "output_type": "stream",
          "text": [
            "\r 60%|██████    | 2101/3486 [19:49<27:50,  1.21s/it]"
          ],
          "name": "stderr"
        },
        {
          "output_type": "stream",
          "text": [
            "(13212, 403)\n",
            "4516\n"
          ],
          "name": "stdout"
        },
        {
          "output_type": "stream",
          "text": [
            "\r 60%|██████    | 2104/3486 [19:50<19:41,  1.17it/s]"
          ],
          "name": "stderr"
        },
        {
          "output_type": "stream",
          "text": [
            "(2124, 95)\n",
            "4517\n",
            "(4176, 135)\n",
            "4518\n",
            "(3330, 119)\n",
            "4519\n",
            "(4905, 154)\n",
            "4520\n",
            "(9984, 256)\n"
          ],
          "name": "stdout"
        },
        {
          "output_type": "stream",
          "text": [
            "\r 60%|██████    | 2106/3486 [19:50<14:21,  1.60it/s]"
          ],
          "name": "stderr"
        },
        {
          "output_type": "stream",
          "text": [
            "4521\n",
            "(16725, 298)\n",
            "4522\n",
            "(35388, 1019)\n"
          ],
          "name": "stdout"
        },
        {
          "output_type": "stream",
          "text": [
            "\r 60%|██████    | 2108/3486 [19:53<21:07,  1.09it/s]"
          ],
          "name": "stderr"
        },
        {
          "output_type": "stream",
          "text": [
            "4523\n",
            "(41340, 1099)\n"
          ],
          "name": "stdout"
        },
        {
          "output_type": "stream",
          "text": [
            "\r 60%|██████    | 2109/3486 [19:57<41:29,  1.81s/it]"
          ],
          "name": "stderr"
        },
        {
          "output_type": "stream",
          "text": [
            "4524\n",
            "(19152, 338)\n"
          ],
          "name": "stdout"
        },
        {
          "output_type": "stream",
          "text": [
            "\r 61%|██████    | 2110/3486 [19:57<32:11,  1.40s/it]"
          ],
          "name": "stderr"
        },
        {
          "output_type": "stream",
          "text": [
            "4525\n",
            "(4176, 152)\n",
            "4526\n",
            "(11160, 246)\n"
          ],
          "name": "stdout"
        },
        {
          "output_type": "stream",
          "text": [
            "\r 61%|██████    | 2112/3486 [19:58<23:31,  1.03s/it]"
          ],
          "name": "stderr"
        },
        {
          "output_type": "stream",
          "text": [
            "4527\n",
            "(10800, 336)\n"
          ],
          "name": "stdout"
        },
        {
          "output_type": "stream",
          "text": [
            " 61%|██████    | 2114/3486 [19:58<14:31,  1.57it/s]"
          ],
          "name": "stderr"
        },
        {
          "output_type": "stream",
          "text": [
            "4528\n",
            "(11808, 236)\n",
            "4529\n",
            "(35136, 1012)\n"
          ],
          "name": "stdout"
        },
        {
          "output_type": "stream",
          "text": [
            " 61%|██████    | 2116/3486 [20:01<22:23,  1.02it/s]"
          ],
          "name": "stderr"
        },
        {
          "output_type": "stream",
          "text": [
            "4530\n",
            "(6795, 196)\n",
            "4531\n",
            "(10224, 320)\n"
          ],
          "name": "stdout"
        },
        {
          "output_type": "stream",
          "text": [
            "\r 61%|██████    | 2117/3486 [20:01<17:20,  1.32it/s]"
          ],
          "name": "stderr"
        },
        {
          "output_type": "stream",
          "text": [
            "4532\n",
            "(21240, 326)\n"
          ],
          "name": "stdout"
        },
        {
          "output_type": "stream",
          "text": [
            "\r 61%|██████    | 2118/3486 [20:02<15:21,  1.49it/s]"
          ],
          "name": "stderr"
        },
        {
          "output_type": "stream",
          "text": [
            "4533\n",
            "(14580, 441)\n"
          ],
          "name": "stdout"
        },
        {
          "output_type": "stream",
          "text": [
            " 61%|██████    | 2121/3486 [20:03<10:31,  2.16it/s]"
          ],
          "name": "stderr"
        },
        {
          "output_type": "stream",
          "text": [
            "4534\n",
            "(1485, 78)\n",
            "4535\n",
            "(7596, 247)\n",
            "4536\n"
          ],
          "name": "stdout"
        },
        {
          "output_type": "stream",
          "text": [
            "\r 61%|██████    | 2122/3486 [20:03<08:26,  2.69it/s]"
          ],
          "name": "stderr"
        },
        {
          "output_type": "stream",
          "text": [
            "(8352, 268)\n",
            "4537\n",
            "(6984, 230)\n"
          ],
          "name": "stdout"
        },
        {
          "output_type": "stream",
          "text": [
            " 61%|██████    | 2124/3486 [20:03<05:46,  3.93it/s]"
          ],
          "name": "stderr"
        },
        {
          "output_type": "stream",
          "text": [
            "4538\n",
            "(7416, 242)\n",
            "4539\n",
            "(5148, 179)\n"
          ],
          "name": "stdout"
        },
        {
          "output_type": "stream",
          "text": [
            "\r 61%|██████    | 2126/3486 [20:03<04:35,  4.95it/s]"
          ],
          "name": "stderr"
        },
        {
          "output_type": "stream",
          "text": [
            "4540\n",
            "(6444, 215)\n",
            "4541\n",
            "(4212, 153)\n",
            "4542\n",
            "(37260, 1071)\n"
          ],
          "name": "stdout"
        },
        {
          "output_type": "stream",
          "text": [
            "\r 61%|██████    | 2128/3486 [20:06<12:36,  1.80it/s]"
          ],
          "name": "stderr"
        },
        {
          "output_type": "stream",
          "text": [
            "4543\n",
            "(18288, 544)\n"
          ],
          "name": "stdout"
        },
        {
          "output_type": "stream",
          "text": [
            "\r 61%|██████    | 2129/3486 [20:07<12:56,  1.75it/s]"
          ],
          "name": "stderr"
        },
        {
          "output_type": "stream",
          "text": [
            "4544\n",
            "(6552, 218)\n",
            "4545\n",
            "(18324, 545)\n"
          ],
          "name": "stdout"
        },
        {
          "output_type": "stream",
          "text": [
            "\r 61%|██████    | 2131/3486 [20:07<11:19,  1.99it/s]"
          ],
          "name": "stderr"
        },
        {
          "output_type": "stream",
          "text": [
            "4546\n",
            "(16956, 507)\n"
          ],
          "name": "stdout"
        },
        {
          "output_type": "stream",
          "text": [
            "\r 61%|██████    | 2132/3486 [20:08<11:28,  1.97it/s]"
          ],
          "name": "stderr"
        },
        {
          "output_type": "stream",
          "text": [
            "4548\n",
            "(29052, 843)\n"
          ],
          "name": "stdout"
        },
        {
          "output_type": "stream",
          "text": [
            "\r 61%|██████    | 2133/3486 [20:09<19:07,  1.18it/s]"
          ],
          "name": "stderr"
        },
        {
          "output_type": "stream",
          "text": [
            "4549\n",
            "(18936, 562)\n"
          ],
          "name": "stdout"
        },
        {
          "output_type": "stream",
          "text": [
            "\r 61%|██████    | 2134/3486 [20:10<17:26,  1.29it/s]"
          ],
          "name": "stderr"
        },
        {
          "output_type": "stream",
          "text": [
            "4550\n",
            "(4176, 130)\n",
            "4552\n",
            "(15660, 471)\n"
          ],
          "name": "stdout"
        },
        {
          "output_type": "stream",
          "text": [
            " 61%|██████▏   | 2137/3486 [20:11<10:12,  2.20it/s]"
          ],
          "name": "stderr"
        },
        {
          "output_type": "stream",
          "text": [
            "4553\n",
            "(7632, 248)\n",
            "4554\n",
            "(13392, 408)\n"
          ],
          "name": "stdout"
        },
        {
          "output_type": "stream",
          "text": [
            "\r 61%|██████▏   | 2138/3486 [20:11<09:34,  2.35it/s]"
          ],
          "name": "stderr"
        },
        {
          "output_type": "stream",
          "text": [
            "4555\n",
            "(13860, 421)\n"
          ],
          "name": "stdout"
        },
        {
          "output_type": "stream",
          "text": [
            "\r 61%|██████▏   | 2139/3486 [20:11<08:49,  2.54it/s]"
          ],
          "name": "stderr"
        },
        {
          "output_type": "stream",
          "text": [
            "4556\n",
            "(7560, 246)\n",
            "4557\n",
            "(14940, 451)\n"
          ],
          "name": "stdout"
        },
        {
          "output_type": "stream",
          "text": [
            "\r 61%|██████▏   | 2141/3486 [20:12<07:43,  2.90it/s]"
          ],
          "name": "stderr"
        },
        {
          "output_type": "stream",
          "text": [
            "4558\n",
            "(21420, 631)\n"
          ],
          "name": "stdout"
        },
        {
          "output_type": "stream",
          "text": [
            "\r 61%|██████▏   | 2142/3486 [20:12<10:20,  2.16it/s]"
          ],
          "name": "stderr"
        },
        {
          "output_type": "stream",
          "text": [
            "4559\n",
            "(15336, 462)\n"
          ],
          "name": "stdout"
        },
        {
          "output_type": "stream",
          "text": [
            " 62%|██████▏   | 2144/3486 [20:13<07:54,  2.83it/s]"
          ],
          "name": "stderr"
        },
        {
          "output_type": "stream",
          "text": [
            "4560\n",
            "There are 199753056player x questions pairs, tournament will be skipped\n",
            "4562\n",
            "(19035, 468)\n"
          ],
          "name": "stdout"
        },
        {
          "output_type": "stream",
          "text": [
            " 62%|██████▏   | 2146/3486 [20:14<06:54,  3.23it/s]"
          ],
          "name": "stderr"
        },
        {
          "output_type": "stream",
          "text": [
            "4563\n",
            "There are 244592370player x questions pairs, tournament will be skipped\n",
            "4566\n",
            "(4068, 149)\n",
            "4567\n",
            "(2052, 93)\n",
            "4568\n"
          ],
          "name": "stdout"
        },
        {
          "output_type": "stream",
          "text": [
            "\r 62%|██████▏   | 2149/3486 [20:14<05:03,  4.40it/s]"
          ],
          "name": "stderr"
        },
        {
          "output_type": "stream",
          "text": [
            "(5880, 158)\n",
            "4569\n",
            "(55728, 1584)\n"
          ],
          "name": "stdout"
        },
        {
          "output_type": "stream",
          "text": [
            "\r 62%|██████▏   | 2151/3486 [20:19<22:50,  1.03s/it]"
          ],
          "name": "stderr"
        },
        {
          "output_type": "stream",
          "text": [
            "4572\n",
            "(12840, 274)\n",
            "4573\n"
          ],
          "name": "stdout"
        },
        {
          "output_type": "stream",
          "text": [
            "\r 62%|██████▏   | 2152/3486 [20:20<17:21,  1.28it/s]"
          ],
          "name": "stderr"
        },
        {
          "output_type": "stream",
          "text": [
            "(13185, 338)\n",
            "4574\n",
            "(51210, 659)\n"
          ],
          "name": "stdout"
        },
        {
          "output_type": "stream",
          "text": [
            " 62%|██████▏   | 2154/3486 [20:22<18:12,  1.22it/s]"
          ],
          "name": "stderr"
        },
        {
          "output_type": "stream",
          "text": [
            "4575\n",
            "(8532, 273)\n",
            "4576\n",
            "(14940, 451)\n"
          ],
          "name": "stdout"
        },
        {
          "output_type": "stream",
          "text": [
            " 62%|██████▏   | 2156/3486 [20:22<11:45,  1.88it/s]"
          ],
          "name": "stderr"
        },
        {
          "output_type": "stream",
          "text": [
            "4577\n",
            "(13920, 292)\n",
            "4578\n",
            "(12960, 396)\n"
          ],
          "name": "stdout"
        },
        {
          "output_type": "stream",
          "text": [
            "\r 62%|██████▏   | 2157/3486 [20:22<09:59,  2.22it/s]"
          ],
          "name": "stderr"
        },
        {
          "output_type": "stream",
          "text": [
            "4579\n",
            "(11628, 359)\n"
          ],
          "name": "stdout"
        },
        {
          "output_type": "stream",
          "text": [
            "\r 62%|██████▏   | 2158/3486 [20:23<08:36,  2.57it/s]"
          ],
          "name": "stderr"
        },
        {
          "output_type": "stream",
          "text": [
            "4580\n",
            "(21360, 416)\n"
          ],
          "name": "stdout"
        },
        {
          "output_type": "stream",
          "text": [
            "\r 62%|██████▏   | 2159/3486 [20:23<09:10,  2.41it/s]"
          ],
          "name": "stderr"
        },
        {
          "output_type": "stream",
          "text": [
            "4581\n",
            "(3204, 125)\n",
            "4582\n",
            "(29430, 417)\n"
          ],
          "name": "stdout"
        },
        {
          "output_type": "stream",
          "text": [
            "\r 62%|██████▏   | 2161/3486 [20:24<08:41,  2.54it/s]"
          ],
          "name": "stderr"
        },
        {
          "output_type": "stream",
          "text": [
            "4583\n",
            "(1800, 86)\n",
            "4584\n",
            "(57645, 1326)\n"
          ],
          "name": "stdout"
        },
        {
          "output_type": "stream",
          "text": [
            "\r 62%|██████▏   | 2163/3486 [20:29<22:13,  1.01s/it]"
          ],
          "name": "stderr"
        },
        {
          "output_type": "stream",
          "text": [
            "4585\n",
            "(38520, 518)\n"
          ],
          "name": "stdout"
        },
        {
          "output_type": "stream",
          "text": [
            " 62%|██████▏   | 2170/3486 [20:30<15:02,  1.46it/s]"
          ],
          "name": "stderr"
        },
        {
          "output_type": "stream",
          "text": [
            "4586\n",
            "(720, 56)\n",
            "4587\n",
            "(1080, 66)\n",
            "4588\n",
            "(4572, 163)\n",
            "4589\n",
            "(1692, 83)\n",
            "4590\n",
            "(1440, 76)\n",
            "4591\n",
            "(4932, 173)\n",
            "4592\n",
            "(16776, 509)\n",
            "4593\n",
            "(23325, 386)\n"
          ],
          "name": "stdout"
        },
        {
          "output_type": "stream",
          "text": [
            "\r 62%|██████▏   | 2172/3486 [20:31<13:46,  1.59it/s]"
          ],
          "name": "stderr"
        },
        {
          "output_type": "stream",
          "text": [
            "4594\n",
            "(12360, 266)\n",
            "4595\n"
          ],
          "name": "stdout"
        },
        {
          "output_type": "stream",
          "text": [
            " 62%|██████▏   | 2175/3486 [20:31<08:11,  2.67it/s]"
          ],
          "name": "stderr"
        },
        {
          "output_type": "stream",
          "text": [
            "There are 163642908player x questions pairs, tournament will be skipped\n",
            "4596\n",
            "(11232, 282)\n",
            "4597\n",
            "(19764, 585)\n"
          ],
          "name": "stdout"
        },
        {
          "output_type": "stream",
          "text": [
            "\r 62%|██████▏   | 2176/3486 [20:32<10:35,  2.06it/s]"
          ],
          "name": "stderr"
        },
        {
          "output_type": "stream",
          "text": [
            "4598\n",
            "(30600, 886)\n"
          ],
          "name": "stdout"
        },
        {
          "output_type": "stream",
          "text": [
            " 63%|██████▎   | 2179/3486 [20:33<11:44,  1.85it/s]"
          ],
          "name": "stderr"
        },
        {
          "output_type": "stream",
          "text": [
            "4599\n",
            "(7380, 209)\n",
            "4600\n",
            "(3024, 120)\n",
            "4601\n",
            "(6264, 210)\n",
            "4602\n",
            "(14148, 429)\n"
          ],
          "name": "stdout"
        },
        {
          "output_type": "stream",
          "text": [
            "\r 63%|██████▎   | 2181/3486 [20:34<09:33,  2.27it/s]"
          ],
          "name": "stderr"
        },
        {
          "output_type": "stream",
          "text": [
            "4603\n",
            "(17424, 520)\n"
          ],
          "name": "stdout"
        },
        {
          "output_type": "stream",
          "text": [
            "\r 63%|██████▎   | 2182/3486 [20:34<10:03,  2.16it/s]"
          ],
          "name": "stderr"
        },
        {
          "output_type": "stream",
          "text": [
            "4604\n",
            "(20232, 598)\n"
          ],
          "name": "stdout"
        },
        {
          "output_type": "stream",
          "text": [
            " 63%|██████▎   | 2185/3486 [20:35<08:52,  2.45it/s]"
          ],
          "name": "stderr"
        },
        {
          "output_type": "stream",
          "text": [
            "4605\n",
            "(7272, 238)\n",
            "4606\n",
            "(7500, 185)\n",
            "4607\n",
            "(7164, 235)\n"
          ],
          "name": "stdout"
        },
        {
          "output_type": "stream",
          "text": [
            "\r 63%|██████▎   | 2187/3486 [20:35<06:44,  3.21it/s]"
          ],
          "name": "stderr"
        },
        {
          "output_type": "stream",
          "text": [
            "4608\n",
            "(8520, 202)\n",
            "4609\n",
            "(30240, 426)\n"
          ],
          "name": "stdout"
        },
        {
          "output_type": "stream",
          "text": [
            "\r 63%|██████▎   | 2188/3486 [20:36<08:33,  2.53it/s]"
          ],
          "name": "stderr"
        },
        {
          "output_type": "stream",
          "text": [
            "4610\n",
            "(16812, 503)\n"
          ],
          "name": "stdout"
        },
        {
          "output_type": "stream",
          "text": [
            "\r 63%|██████▎   | 2189/3486 [20:36<09:00,  2.40it/s]"
          ],
          "name": "stderr"
        },
        {
          "output_type": "stream",
          "text": [
            "4611\n",
            "(4176, 152)\n",
            "4612\n",
            "(24975, 408)\n"
          ],
          "name": "stdout"
        },
        {
          "output_type": "stream",
          "text": [
            "\r 63%|██████▎   | 2191/3486 [20:37<07:57,  2.71it/s]"
          ],
          "name": "stderr"
        },
        {
          "output_type": "stream",
          "text": [
            "4613\n",
            "(5340, 149)\n",
            "4614\n"
          ],
          "name": "stdout"
        },
        {
          "output_type": "stream",
          "text": [
            " 63%|██████▎   | 2196/3486 [20:38<05:15,  4.09it/s]"
          ],
          "name": "stderr"
        },
        {
          "output_type": "stream",
          "text": [
            "There are 1357466040player x questions pairs, tournament will be skipped\n",
            "4615\n",
            "(2610, 117)\n",
            "4616\n",
            "(5250, 205)\n",
            "4617\n",
            "(5490, 213)\n",
            "4618\n",
            "(2670, 119)\n",
            "4619\n",
            "(5220, 204)\n"
          ],
          "name": "stdout"
        },
        {
          "output_type": "stream",
          "text": [
            "\r 63%|██████▎   | 2199/3486 [20:38<04:01,  5.33it/s]"
          ],
          "name": "stderr"
        },
        {
          "output_type": "stream",
          "text": [
            "4620\n",
            "(5460, 212)\n",
            "4621\n",
            "(2610, 117)\n",
            "4622\n",
            "(5280, 206)\n",
            "4623\n",
            "(5460, 212)\n"
          ],
          "name": "stdout"
        },
        {
          "output_type": "stream",
          "text": [
            " 63%|██████▎   | 2205/3486 [20:38<02:31,  8.47it/s]"
          ],
          "name": "stderr"
        },
        {
          "output_type": "stream",
          "text": [
            "4624\n",
            "(2610, 117)\n",
            "4625\n",
            "(5250, 205)\n",
            "4626\n",
            "(5490, 213)\n",
            "4627\n",
            "(29610, 419)\n"
          ],
          "name": "stdout"
        },
        {
          "output_type": "stream",
          "text": [
            "\r 63%|██████▎   | 2207/3486 [20:39<04:10,  5.10it/s]"
          ],
          "name": "stderr"
        },
        {
          "output_type": "stream",
          "text": [
            "4629\n",
            "(14100, 295)\n"
          ],
          "name": "stdout"
        },
        {
          "output_type": "stream",
          "text": [
            "\r 63%|██████▎   | 2209/3486 [20:39<03:32,  6.00it/s]"
          ],
          "name": "stderr"
        },
        {
          "output_type": "stream",
          "text": [
            "4631\n",
            "(10176, 260)\n",
            "4632\n",
            "(6120, 206)\n",
            "4633\n",
            "(1776, 85)\n",
            "4635\n",
            "(20304, 600)\n"
          ],
          "name": "stdout"
        },
        {
          "output_type": "stream",
          "text": [
            " 63%|██████▎   | 2213/3486 [20:40<03:37,  5.84it/s]"
          ],
          "name": "stderr"
        },
        {
          "output_type": "stream",
          "text": [
            "4636\n",
            "(4140, 129)\n",
            "4637\n",
            "(7668, 249)\n",
            "4638\n",
            "4639\n",
            "(5436, 187)\n",
            "4640\n",
            "(1665, 82)\n",
            "4641\n",
            "(53400, 565)\n"
          ],
          "name": "stdout"
        },
        {
          "output_type": "stream",
          "text": [
            "\r 64%|██████▎   | 2217/3486 [20:41<04:51,  4.35it/s]"
          ],
          "name": "stderr"
        },
        {
          "output_type": "stream",
          "text": [
            "4642\n",
            "(50724, 1445)\n"
          ],
          "name": "stdout"
        },
        {
          "output_type": "stream",
          "text": [
            "\r 64%|██████▎   | 2218/3486 [20:47<36:45,  1.74s/it]"
          ],
          "name": "stderr"
        },
        {
          "output_type": "stream",
          "text": [
            "4643\n",
            "(16956, 507)\n"
          ],
          "name": "stdout"
        },
        {
          "output_type": "stream",
          "text": [
            " 64%|██████▎   | 2221/3486 [20:47<20:39,  1.02it/s]"
          ],
          "name": "stderr"
        },
        {
          "output_type": "stream",
          "text": [
            "4644\n",
            "(4620, 137)\n",
            "4645\n",
            "(6012, 203)\n",
            "4646\n",
            "(900, 61)\n",
            "4647\n",
            "(41130, 959)\n"
          ],
          "name": "stdout"
        },
        {
          "output_type": "stream",
          "text": [
            " 64%|██████▍   | 2225/3486 [20:49<15:11,  1.38it/s]"
          ],
          "name": "stderr"
        },
        {
          "output_type": "stream",
          "text": [
            "4649\n",
            "(4770, 151)\n",
            "4650\n",
            "(10440, 217)\n",
            "4651\n",
            "(7236, 237)\n"
          ],
          "name": "stdout"
        },
        {
          "output_type": "stream",
          "text": [
            "\r 64%|██████▍   | 2227/3486 [20:50<11:00,  1.91it/s]"
          ],
          "name": "stderr"
        },
        {
          "output_type": "stream",
          "text": [
            "4652\n",
            "(3168, 124)\n",
            "4653\n",
            "(3420, 131)\n",
            "4654\n",
            "(16128, 484)\n"
          ],
          "name": "stdout"
        },
        {
          "output_type": "stream",
          "text": [
            " 64%|██████▍   | 2230/3486 [20:50<06:57,  3.01it/s]"
          ],
          "name": "stderr"
        },
        {
          "output_type": "stream",
          "text": [
            "4655\n",
            "(9216, 208)\n",
            "4656\n",
            "(3276, 127)\n",
            "4657\n",
            "(10800, 240)\n"
          ],
          "name": "stdout"
        },
        {
          "output_type": "stream",
          "text": [
            "\r 64%|██████▍   | 2232/3486 [20:50<05:19,  3.93it/s]"
          ],
          "name": "stderr"
        },
        {
          "output_type": "stream",
          "text": [
            "4658\n",
            "(6984, 230)\n",
            "4659\n",
            "(47052, 1343)\n"
          ],
          "name": "stdout"
        },
        {
          "output_type": "stream",
          "text": [
            "\r 64%|██████▍   | 2234/3486 [20:54<14:29,  1.44it/s]"
          ],
          "name": "stderr"
        },
        {
          "output_type": "stream",
          "text": [
            "4660\n",
            "(33696, 972)\n"
          ],
          "name": "stdout"
        },
        {
          "output_type": "stream",
          "text": [
            "\r 64%|██████▍   | 2235/3486 [20:56<21:52,  1.05s/it]"
          ],
          "name": "stderr"
        },
        {
          "output_type": "stream",
          "text": [
            "4661\n",
            "(6624, 186)\n",
            "4662\n",
            "(1764, 85)\n",
            "4663\n",
            "(44748, 1279)\n"
          ],
          "name": "stdout"
        },
        {
          "output_type": "stream",
          "text": [
            "\r 64%|██████▍   | 2238/3486 [20:59<22:56,  1.10s/it]"
          ],
          "name": "stderr"
        },
        {
          "output_type": "stream",
          "text": [
            "4664\n",
            "(18144, 540)\n"
          ],
          "name": "stdout"
        },
        {
          "output_type": "stream",
          "text": [
            " 64%|██████▍   | 2241/3486 [21:00<14:35,  1.42it/s]"
          ],
          "name": "stderr"
        },
        {
          "output_type": "stream",
          "text": [
            "4665\n",
            "(8496, 190)\n",
            "4666\n",
            "(8208, 186)\n",
            "4667\n",
            "(6084, 205)\n",
            "4668\n",
            "(15012, 453)\n"
          ],
          "name": "stdout"
        },
        {
          "output_type": "stream",
          "text": [
            " 64%|██████▍   | 2244/3486 [21:01<09:05,  2.28it/s]"
          ],
          "name": "stderr"
        },
        {
          "output_type": "stream",
          "text": [
            "4669\n",
            "There are 386818560player x questions pairs, tournament will be skipped\n",
            "4670\n",
            "(28908, 839)\n"
          ],
          "name": "stdout"
        },
        {
          "output_type": "stream",
          "text": [
            "\r 64%|██████▍   | 2245/3486 [21:02<14:59,  1.38it/s]"
          ],
          "name": "stderr"
        },
        {
          "output_type": "stream",
          "text": [
            "4671\n",
            "(25992, 758)\n"
          ],
          "name": "stdout"
        },
        {
          "output_type": "stream",
          "text": [
            "\r 64%|██████▍   | 2246/3486 [21:03<18:51,  1.10it/s]"
          ],
          "name": "stderr"
        },
        {
          "output_type": "stream",
          "text": [
            "4672\n",
            "(2592, 108)\n",
            "4673\n",
            "(35010, 823)\n"
          ],
          "name": "stdout"
        },
        {
          "output_type": "stream",
          "text": [
            " 65%|██████▍   | 2250/3486 [21:05<13:40,  1.51it/s]"
          ],
          "name": "stderr"
        },
        {
          "output_type": "stream",
          "text": [
            "4674\n",
            "(6444, 215)\n",
            "4675\n",
            "(4500, 161)\n",
            "4676\n",
            "(4635, 148)\n",
            "4681\n"
          ],
          "name": "stdout"
        },
        {
          "output_type": "stream",
          "text": [
            " 65%|██████▍   | 2253/3486 [21:06<08:16,  2.48it/s]"
          ],
          "name": "stderr"
        },
        {
          "output_type": "stream",
          "text": [
            "There are 500751552player x questions pairs, tournament will be skipped\n",
            "4682\n",
            "(15840, 266)\n",
            "4683\n",
            "(5760, 173)\n"
          ],
          "name": "stdout"
        },
        {
          "output_type": "stream",
          "text": [
            "\r 65%|██████▍   | 2255/3486 [21:06<06:07,  3.35it/s]"
          ],
          "name": "stderr"
        },
        {
          "output_type": "stream",
          "text": [
            "4684\n",
            "(5184, 180)\n",
            "4685\n"
          ],
          "name": "stdout"
        },
        {
          "output_type": "stream",
          "text": [
            "\r 65%|██████▍   | 2256/3486 [21:07<12:40,  1.62it/s]"
          ],
          "name": "stderr"
        },
        {
          "output_type": "stream",
          "text": [
            "There are 14798379024player x questions pairs, tournament will be skipped\n",
            "4687\n",
            "(32724, 945)\n"
          ],
          "name": "stdout"
        },
        {
          "output_type": "stream",
          "text": [
            " 65%|██████▍   | 2259/3486 [21:09<14:45,  1.39it/s]"
          ],
          "name": "stderr"
        },
        {
          "output_type": "stream",
          "text": [
            "4688\n",
            "(4680, 166)\n",
            "4689\n",
            "(7416, 242)\n",
            "4690\n",
            "(17712, 528)\n"
          ],
          "name": "stdout"
        },
        {
          "output_type": "stream",
          "text": [
            "\r 65%|██████▍   | 2260/3486 [21:10<13:16,  1.54it/s]"
          ],
          "name": "stderr"
        },
        {
          "output_type": "stream",
          "text": [
            "4691\n",
            "(27560, 729)\n"
          ],
          "name": "stdout"
        },
        {
          "output_type": "stream",
          "text": [
            "\r 65%|██████▍   | 2261/3486 [21:11<16:11,  1.26it/s]"
          ],
          "name": "stderr"
        },
        {
          "output_type": "stream",
          "text": [
            "4693\n",
            "(15948, 479)\n"
          ],
          "name": "stdout"
        },
        {
          "output_type": "stream",
          "text": [
            " 65%|██████▍   | 2264/3486 [21:12<10:24,  1.96it/s]"
          ],
          "name": "stderr"
        },
        {
          "output_type": "stream",
          "text": [
            "4694\n",
            "(5184, 144)\n",
            "4695\n",
            "(6912, 228)\n",
            "4696\n",
            "(48204, 1375)\n"
          ],
          "name": "stdout"
        },
        {
          "output_type": "stream",
          "text": [
            "\r 65%|██████▍   | 2265/3486 [21:16<35:16,  1.73s/it]"
          ],
          "name": "stderr"
        },
        {
          "output_type": "stream",
          "text": [
            "4700\n",
            "(15012, 453)\n"
          ],
          "name": "stdout"
        },
        {
          "output_type": "stream",
          "text": [
            " 65%|██████▌   | 2268/3486 [21:17<19:31,  1.04it/s]"
          ],
          "name": "stderr"
        },
        {
          "output_type": "stream",
          "text": [
            "4701\n",
            "(6912, 228)\n",
            "4702\n",
            "(6300, 211)\n",
            "4703\n",
            "(5832, 198)\n"
          ],
          "name": "stdout"
        },
        {
          "output_type": "stream",
          "text": [
            "\r 65%|██████▌   | 2270/3486 [21:17<13:56,  1.45it/s]"
          ],
          "name": "stderr"
        },
        {
          "output_type": "stream",
          "text": [
            "4704\n",
            "(2412, 103)\n",
            "4705\n",
            "There are 272188530player x questions pairs, tournament will be skipped\n",
            "4706\n",
            "(17010, 423)\n"
          ],
          "name": "stdout"
        },
        {
          "output_type": "stream",
          "text": [
            " 65%|██████▌   | 2273/3486 [21:17<09:01,  2.24it/s]"
          ],
          "name": "stderr"
        },
        {
          "output_type": "stream",
          "text": [
            "4707\n",
            "(15876, 279)\n",
            "4708\n",
            "(7450, 198)\n",
            "4709\n",
            "(9720, 306)\n"
          ],
          "name": "stdout"
        },
        {
          "output_type": "stream",
          "text": [
            "\r 65%|██████▌   | 2275/3486 [21:18<07:03,  2.86it/s]"
          ],
          "name": "stderr"
        },
        {
          "output_type": "stream",
          "text": [
            "4710\n",
            "(5508, 189)\n",
            "4711\n",
            "(14436, 262)\n"
          ],
          "name": "stdout"
        },
        {
          "output_type": "stream",
          "text": [
            "\r 65%|██████▌   | 2277/3486 [21:18<05:39,  3.56it/s]"
          ],
          "name": "stderr"
        },
        {
          "output_type": "stream",
          "text": [
            "4712\n",
            "(39780, 532)\n"
          ],
          "name": "stdout"
        },
        {
          "output_type": "stream",
          "text": [
            "\r 65%|██████▌   | 2278/3486 [21:19<10:26,  1.93it/s]"
          ],
          "name": "stderr"
        },
        {
          "output_type": "stream",
          "text": [
            "4713\n",
            "(98658, 689)\n"
          ],
          "name": "stdout"
        },
        {
          "output_type": "stream",
          "text": [
            "\r 65%|██████▌   | 2279/3486 [21:22<23:51,  1.19s/it]"
          ],
          "name": "stderr"
        },
        {
          "output_type": "stream",
          "text": [
            "4714\n",
            "(52726, 1327)\n"
          ],
          "name": "stdout"
        },
        {
          "output_type": "stream",
          "text": [
            " 65%|██████▌   | 2282/3486 [21:27<33:42,  1.68s/it]"
          ],
          "name": "stderr"
        },
        {
          "output_type": "stream",
          "text": [
            "4715\n",
            "(5904, 171)\n",
            "4716\n",
            "(7860, 191)\n",
            "4717\n",
            "(23184, 680)\n"
          ],
          "name": "stdout"
        },
        {
          "output_type": "stream",
          "text": [
            "\r 65%|██████▌   | 2283/3486 [21:28<28:15,  1.41s/it]"
          ],
          "name": "stderr"
        },
        {
          "output_type": "stream",
          "text": [
            "4718\n",
            "(27630, 397)\n"
          ],
          "name": "stdout"
        },
        {
          "output_type": "stream",
          "text": [
            "\r 66%|██████▌   | 2284/3486 [21:28<22:36,  1.13s/it]"
          ],
          "name": "stderr"
        },
        {
          "output_type": "stream",
          "text": [
            "4719\n",
            "(33030, 779)\n"
          ],
          "name": "stdout"
        },
        {
          "output_type": "stream",
          "text": [
            "\r 66%|██████▌   | 2285/3486 [21:30<24:20,  1.22s/it]"
          ],
          "name": "stderr"
        },
        {
          "output_type": "stream",
          "text": [
            "4720\n",
            "(27855, 664)\n"
          ],
          "name": "stdout"
        },
        {
          "output_type": "stream",
          "text": [
            "\r 66%|██████▌   | 2286/3486 [21:31<22:22,  1.12s/it]"
          ],
          "name": "stderr"
        },
        {
          "output_type": "stream",
          "text": [
            "4721\n",
            "(16560, 393)\n"
          ],
          "name": "stdout"
        },
        {
          "output_type": "stream",
          "text": [
            " 66%|██████▌   | 2288/3486 [21:31<13:44,  1.45it/s]"
          ],
          "name": "stderr"
        },
        {
          "output_type": "stream",
          "text": [
            "4722\n",
            "(10656, 332)\n",
            "4723\n",
            "(3960, 146)\n",
            "4724\n",
            "(29925, 710)\n"
          ],
          "name": "stdout"
        },
        {
          "output_type": "stream",
          "text": [
            "\r 66%|██████▌   | 2290/3486 [21:32<13:17,  1.50it/s]"
          ],
          "name": "stderr"
        },
        {
          "output_type": "stream",
          "text": [
            "4725\n",
            "(7470, 211)\n",
            "4726\n",
            "(38484, 1105)\n"
          ],
          "name": "stdout"
        },
        {
          "output_type": "stream",
          "text": [
            "\r 66%|██████▌   | 2292/3486 [21:35<17:56,  1.11it/s]"
          ],
          "name": "stderr"
        },
        {
          "output_type": "stream",
          "text": [
            "4727\n",
            "(2475, 100)\n",
            "4728\n",
            "(2745, 106)\n",
            "4729\n",
            "(27288, 794)\n"
          ],
          "name": "stdout"
        },
        {
          "output_type": "stream",
          "text": [
            "\r 66%|██████▌   | 2295/3486 [21:37<15:22,  1.29it/s]"
          ],
          "name": "stderr"
        },
        {
          "output_type": "stream",
          "text": [
            "4730\n",
            "(40320, 941)\n"
          ],
          "name": "stdout"
        },
        {
          "output_type": "stream",
          "text": [
            "\r 66%|██████▌   | 2296/3486 [21:39<26:31,  1.34s/it]"
          ],
          "name": "stderr"
        },
        {
          "output_type": "stream",
          "text": [
            "4731\n",
            "(2880, 116)\n",
            "4732\n",
            "(5265, 174)\n",
            "4733\n",
            "(19470, 389)\n"
          ],
          "name": "stdout"
        },
        {
          "output_type": "stream",
          "text": [
            "\r 66%|██████▌   | 2299/3486 [21:40<19:24,  1.02it/s]"
          ],
          "name": "stderr"
        },
        {
          "output_type": "stream",
          "text": [
            "4734\n",
            "(728, 54)\n",
            "4735\n"
          ],
          "name": "stdout"
        },
        {
          "output_type": "stream",
          "text": [
            " 66%|██████▌   | 2302/3486 [21:40<10:37,  1.86it/s]"
          ],
          "name": "stderr"
        },
        {
          "output_type": "stream",
          "text": [
            "There are 335265840player x questions pairs, tournament will be skipped\n",
            "4736\n",
            "(10752, 272)\n",
            "4737\n",
            "(29250, 415)\n"
          ],
          "name": "stdout"
        },
        {
          "output_type": "stream",
          "text": [
            "\r 66%|██████▌   | 2303/3486 [21:41<11:17,  1.75it/s]"
          ],
          "name": "stderr"
        },
        {
          "output_type": "stream",
          "text": [
            "4738\n",
            "(22080, 428)\n"
          ],
          "name": "stdout"
        },
        {
          "output_type": "stream",
          "text": [
            "\r 66%|██████▌   | 2304/3486 [21:41<10:43,  1.84it/s]"
          ],
          "name": "stderr"
        },
        {
          "output_type": "stream",
          "text": [
            "4739\n",
            "(31860, 444)\n"
          ],
          "name": "stdout"
        },
        {
          "output_type": "stream",
          "text": [
            "\r 66%|██████▌   | 2305/3486 [21:42<11:28,  1.72it/s]"
          ],
          "name": "stderr"
        },
        {
          "output_type": "stream",
          "text": [
            "4740\n",
            "(2340, 101)\n",
            "4741\n",
            "(1656, 82)\n",
            "4743\n",
            "(16920, 342)\n"
          ],
          "name": "stdout"
        },
        {
          "output_type": "stream",
          "text": [
            "\r 66%|██████▌   | 2308/3486 [21:42<08:40,  2.26it/s]"
          ],
          "name": "stderr"
        },
        {
          "output_type": "stream",
          "text": [
            "4744\n",
            "(35145, 826)\n"
          ],
          "name": "stdout"
        },
        {
          "output_type": "stream",
          "text": [
            "\r 66%|██████▌   | 2309/3486 [21:44<15:26,  1.27it/s]"
          ],
          "name": "stderr"
        },
        {
          "output_type": "stream",
          "text": [
            "4745\n",
            "(8280, 182)\n",
            "4746\n",
            "(22464, 384)\n"
          ],
          "name": "stdout"
        },
        {
          "output_type": "stream",
          "text": [
            "\r 66%|██████▋   | 2311/3486 [21:44<12:17,  1.59it/s]"
          ],
          "name": "stderr"
        },
        {
          "output_type": "stream",
          "text": [
            "4747\n",
            "(14472, 438)\n"
          ],
          "name": "stdout"
        },
        {
          "output_type": "stream",
          "text": [
            " 66%|██████▋   | 2313/3486 [21:45<08:33,  2.28it/s]"
          ],
          "name": "stderr"
        },
        {
          "output_type": "stream",
          "text": [
            "4748\n",
            "(10800, 240)\n",
            "4749\n",
            "(14736, 355)\n"
          ],
          "name": "stdout"
        },
        {
          "output_type": "stream",
          "text": [
            "\r 66%|██████▋   | 2314/3486 [21:45<07:46,  2.51it/s]"
          ],
          "name": "stderr"
        },
        {
          "output_type": "stream",
          "text": [
            "4750\n",
            "(15336, 462)\n"
          ],
          "name": "stdout"
        },
        {
          "output_type": "stream",
          "text": [
            "\r 66%|██████▋   | 2315/3486 [21:46<07:50,  2.49it/s]"
          ],
          "name": "stderr"
        },
        {
          "output_type": "stream",
          "text": [
            "4751\n",
            "(20412, 603)\n"
          ],
          "name": "stdout"
        },
        {
          "output_type": "stream",
          "text": [
            "\r 66%|██████▋   | 2316/3486 [21:46<09:51,  1.98it/s]"
          ],
          "name": "stderr"
        },
        {
          "output_type": "stream",
          "text": [
            "4752\n",
            "(4980, 143)\n",
            "4753\n",
            "(3690, 127)\n",
            "4759\n",
            "(23616, 421)\n"
          ],
          "name": "stdout"
        },
        {
          "output_type": "stream",
          "text": [
            "\r 67%|██████▋   | 2319/3486 [21:47<08:09,  2.39it/s]"
          ],
          "name": "stderr"
        },
        {
          "output_type": "stream",
          "text": [
            "4760\n",
            "(24825, 406)\n"
          ],
          "name": "stdout"
        },
        {
          "output_type": "stream",
          "text": [
            "\r 67%|██████▋   | 2320/3486 [21:48<08:04,  2.41it/s]"
          ],
          "name": "stderr"
        },
        {
          "output_type": "stream",
          "text": [
            "4761\n",
            "(22806, 585)\n"
          ],
          "name": "stdout"
        },
        {
          "output_type": "stream",
          "text": [
            "\r 67%|██████▋   | 2321/3486 [21:48<09:48,  1.98it/s]"
          ],
          "name": "stderr"
        },
        {
          "output_type": "stream",
          "text": [
            "4762\n",
            "(12132, 373)\n"
          ],
          "name": "stdout"
        },
        {
          "output_type": "stream",
          "text": [
            "\r 67%|██████▋   | 2322/3486 [21:49<08:18,  2.34it/s]"
          ],
          "name": "stderr"
        },
        {
          "output_type": "stream",
          "text": [
            "4763\n",
            "(53820, 1531)\n"
          ],
          "name": "stdout"
        },
        {
          "output_type": "stream",
          "text": [
            "\r 67%|██████▋   | 2323/3486 [21:54<40:14,  2.08s/it]"
          ],
          "name": "stderr"
        },
        {
          "output_type": "stream",
          "text": [
            "4764\n",
            "(12600, 386)\n"
          ],
          "name": "stdout"
        },
        {
          "output_type": "stream",
          "text": [
            "\r 67%|██████▋   | 2324/3486 [21:55<29:38,  1.53s/it]"
          ],
          "name": "stderr"
        },
        {
          "output_type": "stream",
          "text": [
            "4765\n",
            "(44100, 1261)\n"
          ],
          "name": "stdout"
        },
        {
          "output_type": "stream",
          "text": [
            "\r 67%|██████▋   | 2325/3486 [21:58<41:37,  2.15s/it]"
          ],
          "name": "stderr"
        },
        {
          "output_type": "stream",
          "text": [
            "4766\n",
            "(5436, 187)\n",
            "4767\n",
            "(36000, 660)\n"
          ],
          "name": "stdout"
        },
        {
          "output_type": "stream",
          "text": [
            "\r 67%|██████▋   | 2327/3486 [22:00<32:55,  1.70s/it]"
          ],
          "name": "stderr"
        },
        {
          "output_type": "stream",
          "text": [
            "4768\n",
            "(5100, 145)\n",
            "4769\n",
            "(22140, 537)\n"
          ],
          "name": "stdout"
        },
        {
          "output_type": "stream",
          "text": [
            " 67%|██████▋   | 2331/3486 [22:00<17:49,  1.08it/s]"
          ],
          "name": "stderr"
        },
        {
          "output_type": "stream",
          "text": [
            "4770\n",
            "(2860, 109)\n",
            "4771\n",
            "(6985, 182)\n",
            "4772\n",
            "(43452, 1243)\n"
          ],
          "name": "stdout"
        },
        {
          "output_type": "stream",
          "text": [
            " 67%|██████▋   | 2333/3486 [22:04<22:57,  1.19s/it]"
          ],
          "name": "stderr"
        },
        {
          "output_type": "stream",
          "text": [
            "4773\n",
            "(12060, 371)\n",
            "4774\n",
            "(17172, 513)\n"
          ],
          "name": "stdout"
        },
        {
          "output_type": "stream",
          "text": [
            "\r 67%|██████▋   | 2334/3486 [22:04<19:06,  1.01it/s]"
          ],
          "name": "stderr"
        },
        {
          "output_type": "stream",
          "text": [
            "4775\n",
            "(11448, 354)\n"
          ],
          "name": "stdout"
        },
        {
          "output_type": "stream",
          "text": [
            "\r 67%|██████▋   | 2335/3486 [22:05<14:48,  1.30it/s]"
          ],
          "name": "stderr"
        },
        {
          "output_type": "stream",
          "text": [
            "4776\n",
            "(15264, 366)\n"
          ],
          "name": "stdout"
        },
        {
          "output_type": "stream",
          "text": [
            " 67%|██████▋   | 2337/3486 [22:05<09:02,  2.12it/s]"
          ],
          "name": "stderr"
        },
        {
          "output_type": "stream",
          "text": [
            "4777\n",
            "(11040, 244)\n",
            "4778\n",
            "(2448, 104)\n",
            "4779\n",
            "(6030, 179)\n",
            "4780\n",
            "(21888, 376)\n"
          ],
          "name": "stdout"
        },
        {
          "output_type": "stream",
          "text": [
            "\r 67%|██████▋   | 2340/3486 [22:06<07:15,  2.63it/s]"
          ],
          "name": "stderr"
        },
        {
          "output_type": "stream",
          "text": [
            "4781\n",
            "(15120, 456)\n"
          ],
          "name": "stdout"
        },
        {
          "output_type": "stream",
          "text": [
            "\r 67%|██████▋   | 2341/3486 [22:06<07:54,  2.41it/s]"
          ],
          "name": "stderr"
        },
        {
          "output_type": "stream",
          "text": [
            "4782\n",
            "(29664, 860)\n"
          ],
          "name": "stdout"
        },
        {
          "output_type": "stream",
          "text": [
            " 67%|██████▋   | 2343/3486 [22:07<09:49,  1.94it/s]"
          ],
          "name": "stderr"
        },
        {
          "output_type": "stream",
          "text": [
            "4783\n",
            "(12720, 272)\n",
            "4784\n",
            "(27324, 795)\n"
          ],
          "name": "stdout"
        },
        {
          "output_type": "stream",
          "text": [
            "\r 67%|██████▋   | 2344/3486 [22:09<14:33,  1.31it/s]"
          ],
          "name": "stderr"
        },
        {
          "output_type": "stream",
          "text": [
            "4785\n",
            "(18000, 536)\n"
          ],
          "name": "stdout"
        },
        {
          "output_type": "stream",
          "text": [
            " 67%|██████▋   | 2346/3486 [22:09<09:49,  1.94it/s]"
          ],
          "name": "stderr"
        },
        {
          "output_type": "stream",
          "text": [
            "4786\n",
            "There are 156788820player x questions pairs, tournament will be skipped\n",
            "4787\n",
            "(22776, 623)\n"
          ],
          "name": "stdout"
        },
        {
          "output_type": "stream",
          "text": [
            "\r 67%|██████▋   | 2347/3486 [22:10<10:53,  1.74it/s]"
          ],
          "name": "stderr"
        },
        {
          "output_type": "stream",
          "text": [
            "4788\n",
            "(3360, 118)\n",
            "4789\n",
            "(16020, 268)\n"
          ],
          "name": "stdout"
        },
        {
          "output_type": "stream",
          "text": [
            " 67%|██████▋   | 2350/3486 [22:11<06:44,  2.81it/s]"
          ],
          "name": "stderr"
        },
        {
          "output_type": "stream",
          "text": [
            "4790\n",
            "There are 341277012player x questions pairs, tournament will be skipped\n",
            "4791\n"
          ],
          "name": "stdout"
        },
        {
          "output_type": "stream",
          "text": [
            "\r 67%|██████▋   | 2351/3486 [22:11<05:28,  3.46it/s]"
          ],
          "name": "stderr"
        },
        {
          "output_type": "stream",
          "text": [
            "There are 308201472player x questions pairs, tournament will be skipped\n",
            "4792\n",
            "(27576, 455)\n"
          ],
          "name": "stdout"
        },
        {
          "output_type": "stream",
          "text": [
            " 67%|██████▋   | 2353/3486 [22:11<05:53,  3.20it/s]"
          ],
          "name": "stderr"
        },
        {
          "output_type": "stream",
          "text": [
            "4794\n",
            "(8748, 279)\n",
            "4795\n",
            "(17820, 531)\n"
          ],
          "name": "stdout"
        },
        {
          "output_type": "stream",
          "text": [
            " 68%|██████▊   | 2356/3486 [22:12<05:14,  3.59it/s]"
          ],
          "name": "stderr"
        },
        {
          "output_type": "stream",
          "text": [
            "4796\n",
            "(7632, 178)\n",
            "4797\n",
            "(8028, 259)\n",
            "4798\n",
            "(1920, 93)\n",
            "4799\n",
            "(2160, 99)\n",
            "4800\n",
            "(1905, 92)\n"
          ],
          "name": "stdout"
        },
        {
          "output_type": "stream",
          "text": [
            "\r 68%|██████▊   | 2361/3486 [22:12<03:46,  4.96it/s]"
          ],
          "name": "stderr"
        },
        {
          "output_type": "stream",
          "text": [
            "4801\n",
            "(3240, 117)\n",
            "4802\n",
            "(2880, 109)\n",
            "4803\n",
            "(2925, 110)\n",
            "4806\n",
            "(2520, 106)\n",
            "4807\n",
            "(22896, 672)\n"
          ],
          "name": "stdout"
        },
        {
          "output_type": "stream",
          "text": [
            "\r 68%|██████▊   | 2364/3486 [22:13<04:18,  4.34it/s]"
          ],
          "name": "stderr"
        },
        {
          "output_type": "stream",
          "text": [
            "4808\n",
            "(36612, 1053)\n",
            "4809\n",
            "(18828, 559)\n"
          ],
          "name": "stdout"
        },
        {
          "output_type": "stream",
          "text": [
            "\r 68%|██████▊   | 2366/3486 [22:16<11:33,  1.61it/s]"
          ],
          "name": "stderr"
        },
        {
          "output_type": "stream",
          "text": [
            "4810\n",
            "(5328, 184)\n",
            "4811\n",
            "(19872, 348)\n"
          ],
          "name": "stdout"
        },
        {
          "output_type": "stream",
          "text": [
            "\r 68%|██████▊   | 2368/3486 [22:17<09:12,  2.02it/s]"
          ],
          "name": "stderr"
        },
        {
          "output_type": "stream",
          "text": [
            "4812\n",
            "(56988, 1619)\n"
          ],
          "name": "stdout"
        },
        {
          "output_type": "stream",
          "text": [
            "\r 68%|██████▊   | 2369/3486 [22:23<40:54,  2.20s/it]"
          ],
          "name": "stderr"
        },
        {
          "output_type": "stream",
          "text": [
            "4813\n",
            "(7308, 239)\n",
            "4815\n",
            "(13536, 260)\n"
          ],
          "name": "stdout"
        },
        {
          "output_type": "stream",
          "text": [
            " 68%|██████▊   | 2372/3486 [22:23<21:06,  1.14s/it]"
          ],
          "name": "stderr"
        },
        {
          "output_type": "stream",
          "text": [
            "4816\n",
            "There are 123998832player x questions pairs, tournament will be skipped\n",
            "4817\n",
            "(14364, 435)\n"
          ],
          "name": "stdout"
        },
        {
          "output_type": "stream",
          "text": [
            "\r 68%|██████▊   | 2373/3486 [22:23<16:20,  1.13it/s]"
          ],
          "name": "stderr"
        },
        {
          "output_type": "stream",
          "text": [
            "4818\n",
            "(2196, 97)\n",
            "4819\n",
            "(6660, 171)\n",
            "4820\n",
            "(11628, 359)\n"
          ],
          "name": "stdout"
        },
        {
          "output_type": "stream",
          "text": [
            " 68%|██████▊   | 2378/3486 [22:24<08:53,  2.08it/s]"
          ],
          "name": "stderr"
        },
        {
          "output_type": "stream",
          "text": [
            "4822\n",
            "(936, 62)\n",
            "4823\n",
            "(10692, 333)\n",
            "4824\n",
            "(55944, 1590)\n"
          ],
          "name": "stdout"
        },
        {
          "output_type": "stream",
          "text": [
            "\r 68%|██████▊   | 2379/3486 [22:29<32:47,  1.78s/it]"
          ],
          "name": "stderr"
        },
        {
          "output_type": "stream",
          "text": [
            "4825\n",
            "(7140, 179)\n",
            "4826\n",
            "(20268, 599)\n"
          ],
          "name": "stdout"
        },
        {
          "output_type": "stream",
          "text": [
            "\r 68%|██████▊   | 2381/3486 [22:29<24:48,  1.35s/it]"
          ],
          "name": "stderr"
        },
        {
          "output_type": "stream",
          "text": [
            "4827\n",
            "(32400, 765)\n"
          ],
          "name": "stdout"
        },
        {
          "output_type": "stream",
          "text": [
            "\r 68%|██████▊   | 2382/3486 [22:31<24:39,  1.34s/it]"
          ],
          "name": "stderr"
        },
        {
          "output_type": "stream",
          "text": [
            "4828\n",
            "(20175, 344)\n"
          ],
          "name": "stdout"
        },
        {
          "output_type": "stream",
          "text": [
            " 68%|██████▊   | 2384/3486 [22:31<14:21,  1.28it/s]"
          ],
          "name": "stderr"
        },
        {
          "output_type": "stream",
          "text": [
            "4829\n",
            "There are 199163700player x questions pairs, tournament will be skipped\n",
            "4830\n"
          ],
          "name": "stdout"
        },
        {
          "output_type": "stream",
          "text": [
            "\r 68%|██████▊   | 2385/3486 [22:31<10:49,  1.70it/s]"
          ],
          "name": "stderr"
        },
        {
          "output_type": "stream",
          "text": [
            "(12840, 274)\n",
            "4831\n",
            "(44280, 582)\n"
          ],
          "name": "stdout"
        },
        {
          "output_type": "stream",
          "text": [
            "\r 68%|██████▊   | 2386/3486 [22:33<14:38,  1.25it/s]"
          ],
          "name": "stderr"
        },
        {
          "output_type": "stream",
          "text": [
            "4832\n",
            "(27252, 793)\n"
          ],
          "name": "stdout"
        },
        {
          "output_type": "stream",
          "text": [
            "\r 68%|██████▊   | 2387/3486 [22:34<17:04,  1.07it/s]"
          ],
          "name": "stderr"
        },
        {
          "output_type": "stream",
          "text": [
            "4833\n",
            "(21240, 626)\n"
          ],
          "name": "stdout"
        },
        {
          "output_type": "stream",
          "text": [
            "\r 69%|██████▊   | 2388/3486 [22:35<16:25,  1.11it/s]"
          ],
          "name": "stderr"
        },
        {
          "output_type": "stream",
          "text": [
            "4834\n",
            "(3915, 132)\n",
            "4835\n",
            "(11592, 358)\n"
          ],
          "name": "stdout"
        },
        {
          "output_type": "stream",
          "text": [
            "\r 69%|██████▊   | 2390/3486 [22:35<12:12,  1.50it/s]"
          ],
          "name": "stderr"
        },
        {
          "output_type": "stream",
          "text": [
            "4836\n",
            "(55224, 1570)\n"
          ],
          "name": "stdout"
        },
        {
          "output_type": "stream",
          "text": [
            "\r 69%|██████▊   | 2391/3486 [22:41<40:36,  2.22s/it]"
          ],
          "name": "stderr"
        },
        {
          "output_type": "stream",
          "text": [
            "4837\n",
            "(3285, 118)\n",
            "4838\n",
            "(20970, 511)\n"
          ],
          "name": "stdout"
        },
        {
          "output_type": "stream",
          "text": [
            "\r 69%|██████▊   | 2393/3486 [22:41<30:16,  1.66s/it]"
          ],
          "name": "stderr"
        },
        {
          "output_type": "stream",
          "text": [
            "4839\n",
            "(4392, 158)\n",
            "4840\n",
            "(22140, 407)\n"
          ],
          "name": "stdout"
        },
        {
          "output_type": "stream",
          "text": [
            "\r 69%|██████▊   | 2395/3486 [22:42<22:28,  1.24s/it]"
          ],
          "name": "stderr"
        },
        {
          "output_type": "stream",
          "text": [
            "4841\n",
            "(80, 42)\n",
            "4842\n",
            "(6440, 201)\n",
            "4843\n",
            "(30132, 458)\n"
          ],
          "name": "stdout"
        },
        {
          "output_type": "stream",
          "text": [
            "\r 69%|██████▉   | 2398/3486 [22:43<16:59,  1.07it/s]"
          ],
          "name": "stderr"
        },
        {
          "output_type": "stream",
          "text": [
            "4844\n",
            "(18648, 554)\n"
          ],
          "name": "stdout"
        },
        {
          "output_type": "stream",
          "text": [
            "\r 69%|██████▉   | 2399/3486 [22:43<14:27,  1.25it/s]"
          ],
          "name": "stderr"
        },
        {
          "output_type": "stream",
          "text": [
            "4845\n",
            "(20070, 313)\n"
          ],
          "name": "stdout"
        },
        {
          "output_type": "stream",
          "text": [
            " 69%|██████▉   | 2401/3486 [22:44<08:52,  2.04it/s]"
          ],
          "name": "stderr"
        },
        {
          "output_type": "stream",
          "text": [
            "4846\n",
            "(11952, 238)\n",
            "4847\n",
            "(9324, 295)\n"
          ],
          "name": "stdout"
        },
        {
          "output_type": "stream",
          "text": [
            "\r 69%|██████▉   | 2402/3486 [22:44<06:55,  2.61it/s]"
          ],
          "name": "stderr"
        },
        {
          "output_type": "stream",
          "text": [
            "4848\n",
            "(16056, 482)\n"
          ],
          "name": "stdout"
        },
        {
          "output_type": "stream",
          "text": [
            " 69%|██████▉   | 2405/3486 [22:44<05:20,  3.38it/s]"
          ],
          "name": "stderr"
        },
        {
          "output_type": "stream",
          "text": [
            "4849\n",
            "(7200, 180)\n",
            "4850\n",
            "(7500, 175)\n",
            "4851\n",
            "(3672, 138)\n",
            "4852\n"
          ],
          "name": "stdout"
        },
        {
          "output_type": "stream",
          "text": [
            "\r 69%|██████▉   | 2407/3486 [22:45<04:32,  3.96it/s]"
          ],
          "name": "stderr"
        },
        {
          "output_type": "stream",
          "text": [
            "(13720, 383)\n",
            "4853\n"
          ],
          "name": "stdout"
        },
        {
          "output_type": "stream",
          "text": [
            "\r 69%|██████▉   | 2409/3486 [22:45<03:33,  5.04it/s]"
          ],
          "name": "stderr"
        },
        {
          "output_type": "stream",
          "text": [
            "(6960, 176)\n",
            "4854\n",
            "(5976, 202)\n",
            "4855\n",
            "(8442, 243)\n"
          ],
          "name": "stdout"
        },
        {
          "output_type": "stream",
          "text": [
            "\r 69%|██████▉   | 2410/3486 [22:45<03:06,  5.76it/s]"
          ],
          "name": "stderr"
        },
        {
          "output_type": "stream",
          "text": [
            "4856\n",
            "(4704, 146)\n",
            "4857\n",
            "(13572, 413)\n"
          ],
          "name": "stdout"
        },
        {
          "output_type": "stream",
          "text": [
            " 69%|██████▉   | 2413/3486 [22:45<02:47,  6.41it/s]"
          ],
          "name": "stderr"
        },
        {
          "output_type": "stream",
          "text": [
            "4858\n",
            "(9288, 294)\n",
            "4859\n",
            "(7140, 179)\n",
            "4860\n"
          ],
          "name": "stdout"
        },
        {
          "output_type": "stream",
          "text": [
            "\r 69%|██████▉   | 2415/3486 [22:45<02:30,  7.09it/s]"
          ],
          "name": "stderr"
        },
        {
          "output_type": "stream",
          "text": [
            "(9648, 304)\n",
            "4861\n",
            "(1548, 79)\n",
            "4862\n",
            "(48384, 1380)\n"
          ],
          "name": "stdout"
        },
        {
          "output_type": "stream",
          "text": [
            " 69%|██████▉   | 2419/3486 [22:51<11:27,  1.55it/s]"
          ],
          "name": "stderr"
        },
        {
          "output_type": "stream",
          "text": [
            "4863\n",
            "(7488, 244)\n",
            "4864\n",
            "(2304, 100)\n",
            "4865\n",
            "(9450, 201)\n",
            "4866\n",
            "(20880, 322)\n"
          ],
          "name": "stdout"
        },
        {
          "output_type": "stream",
          "text": [
            " 70%|██████▉   | 2424/3486 [22:51<06:38,  2.67it/s]"
          ],
          "name": "stderr"
        },
        {
          "output_type": "stream",
          "text": [
            "4867\n",
            "(1512, 78)\n",
            "4868\n",
            "(1836, 87)\n",
            "4870\n",
            "(13350, 253)\n",
            "4871\n",
            "(4824, 170)\n",
            "4872\n",
            "(11808, 364)\n"
          ],
          "name": "stdout"
        },
        {
          "output_type": "stream",
          "text": [
            " 70%|██████▉   | 2428/3486 [22:52<04:10,  4.22it/s]"
          ],
          "name": "stderr"
        },
        {
          "output_type": "stream",
          "text": [
            "4873\n",
            "(7683, 236)\n",
            "4874\n",
            "(8925, 194)\n",
            "4875\n",
            "(3072, 112)\n",
            "4876\n"
          ],
          "name": "stdout"
        },
        {
          "output_type": "stream",
          "text": [
            "\r 70%|██████▉   | 2430/3486 [22:52<03:11,  5.50it/s]"
          ],
          "name": "stderr"
        },
        {
          "output_type": "stream",
          "text": [
            "(8400, 187)\n",
            "4877\n",
            "(26748, 779)\n"
          ],
          "name": "stdout"
        },
        {
          "output_type": "stream",
          "text": [
            "\r 70%|██████▉   | 2432/3486 [22:53<05:35,  3.14it/s]"
          ],
          "name": "stderr"
        },
        {
          "output_type": "stream",
          "text": [
            "4878\n",
            "(6534, 165)\n",
            "4879\n",
            "(16632, 498)\n"
          ],
          "name": "stdout"
        },
        {
          "output_type": "stream",
          "text": [
            " 70%|██████▉   | 2434/3486 [22:54<05:05,  3.44it/s]"
          ],
          "name": "stderr"
        },
        {
          "output_type": "stream",
          "text": [
            "4880\n",
            "(10560, 236)\n",
            "4881\n",
            "(11700, 361)\n"
          ],
          "name": "stdout"
        },
        {
          "output_type": "stream",
          "text": [
            "\r 70%|██████▉   | 2435/3486 [22:54<04:47,  3.65it/s]"
          ],
          "name": "stderr"
        },
        {
          "output_type": "stream",
          "text": [
            "4882\n",
            "(18288, 326)\n"
          ],
          "name": "stdout"
        },
        {
          "output_type": "stream",
          "text": [
            "\r 70%|██████▉   | 2436/3486 [22:54<05:02,  3.48it/s]"
          ],
          "name": "stderr"
        },
        {
          "output_type": "stream",
          "text": [
            "4883\n",
            "(58104, 1650)\n"
          ],
          "name": "stdout"
        },
        {
          "output_type": "stream",
          "text": [
            "\r 70%|██████▉   | 2437/3486 [22:59<29:04,  1.66s/it]"
          ],
          "name": "stderr"
        },
        {
          "output_type": "stream",
          "text": [
            "4884\n",
            "(9360, 216)\n",
            "4885\n"
          ],
          "name": "stdout"
        },
        {
          "output_type": "stream",
          "text": [
            "\r 70%|██████▉   | 2439/3486 [23:00<20:52,  1.20s/it]"
          ],
          "name": "stderr"
        },
        {
          "output_type": "stream",
          "text": [
            "There are 127497600player x questions pairs, tournament will be skipped\n",
            "4886\n",
            "(3420, 117)\n",
            "4887\n",
            "(2925, 110)\n",
            "4888\n",
            "(10872, 338)\n"
          ],
          "name": "stdout"
        },
        {
          "output_type": "stream",
          "text": [
            " 70%|███████   | 2444/3486 [23:00<10:49,  1.60it/s]"
          ],
          "name": "stderr"
        },
        {
          "output_type": "stream",
          "text": [
            "4889\n",
            "(7092, 179)\n",
            "4890\n",
            "(5832, 198)\n",
            "4891\n",
            "(22932, 673)\n"
          ],
          "name": "stdout"
        },
        {
          "output_type": "stream",
          "text": [
            "\r 70%|███████   | 2445/3486 [23:01<11:51,  1.46it/s]"
          ],
          "name": "stderr"
        },
        {
          "output_type": "stream",
          "text": [
            "4892\n",
            "(7200, 236)\n",
            "4893\n",
            "(17850, 313)\n"
          ],
          "name": "stdout"
        },
        {
          "output_type": "stream",
          "text": [
            " 70%|███████   | 2449/3486 [23:01<06:51,  2.52it/s]"
          ],
          "name": "stderr"
        },
        {
          "output_type": "stream",
          "text": [
            "4894\n",
            "(1716, 155)\n",
            "4895\n",
            "(10404, 325)\n",
            "4896\n"
          ],
          "name": "stdout"
        },
        {
          "output_type": "stream",
          "text": [
            "\r 70%|███████   | 2450/3486 [23:01<05:35,  3.09it/s]"
          ],
          "name": "stderr"
        },
        {
          "output_type": "stream",
          "text": [
            "(12480, 268)\n",
            "4897\n",
            "(4464, 160)\n",
            "4898\n",
            "(9045, 246)\n"
          ],
          "name": "stdout"
        },
        {
          "output_type": "stream",
          "text": [
            "\r 70%|███████   | 2452/3486 [23:02<04:17,  4.02it/s]"
          ],
          "name": "stderr"
        },
        {
          "output_type": "stream",
          "text": [
            "4899\n",
            "(6552, 163)\n",
            "4900\n",
            "(26928, 784)\n"
          ],
          "name": "stdout"
        },
        {
          "output_type": "stream",
          "text": [
            "\r 70%|███████   | 2454/3486 [23:03<06:04,  2.83it/s]"
          ],
          "name": "stderr"
        },
        {
          "output_type": "stream",
          "text": [
            "4901\n",
            "(26280, 766)\n"
          ],
          "name": "stdout"
        },
        {
          "output_type": "stream",
          "text": [
            "\r 70%|███████   | 2455/3486 [23:04<10:43,  1.60it/s]"
          ],
          "name": "stderr"
        },
        {
          "output_type": "stream",
          "text": [
            "4902\n",
            "(3360, 124)\n",
            "4903\n",
            "(20600, 555)\n"
          ],
          "name": "stdout"
        },
        {
          "output_type": "stream",
          "text": [
            "\r 70%|███████   | 2457/3486 [23:05<09:03,  1.90it/s]"
          ],
          "name": "stderr"
        },
        {
          "output_type": "stream",
          "text": [
            "4904\n",
            "(2340, 101)\n",
            "4905\n",
            "(13410, 343)\n"
          ],
          "name": "stdout"
        },
        {
          "output_type": "stream",
          "text": [
            "\r 71%|███████   | 2459/3486 [23:05<06:58,  2.46it/s]"
          ],
          "name": "stderr"
        },
        {
          "output_type": "stream",
          "text": [
            "4906\n",
            "(62775, 1440)\n"
          ],
          "name": "stdout"
        },
        {
          "output_type": "stream",
          "text": [
            " 71%|███████   | 2461/3486 [23:11<26:00,  1.52s/it]"
          ],
          "name": "stderr"
        },
        {
          "output_type": "stream",
          "text": [
            "4907\n",
            "(7668, 249)\n",
            "4908\n",
            "(4500, 161)\n",
            "4909\n",
            "(15120, 456)\n"
          ],
          "name": "stdout"
        },
        {
          "output_type": "stream",
          "text": [
            "\r 71%|███████   | 2463/3486 [23:11<19:06,  1.12s/it]"
          ],
          "name": "stderr"
        },
        {
          "output_type": "stream",
          "text": [
            "4910\n",
            "(15480, 466)\n"
          ],
          "name": "stdout"
        },
        {
          "output_type": "stream",
          "text": [
            "\r 71%|███████   | 2464/3486 [23:12<15:22,  1.11it/s]"
          ],
          "name": "stderr"
        },
        {
          "output_type": "stream",
          "text": [
            "4911\n",
            "(15408, 464)\n"
          ],
          "name": "stdout"
        },
        {
          "output_type": "stream",
          "text": [
            " 71%|███████   | 2467/3486 [23:12<09:08,  1.86it/s]"
          ],
          "name": "stderr"
        },
        {
          "output_type": "stream",
          "text": [
            "4912\n",
            "(3744, 140)\n",
            "4913\n",
            "(7380, 241)\n",
            "4914\n",
            "(33520, 878)\n"
          ],
          "name": "stdout"
        },
        {
          "output_type": "stream",
          "text": [
            "\r 71%|███████   | 2468/3486 [23:14<14:39,  1.16it/s]"
          ],
          "name": "stderr"
        },
        {
          "output_type": "stream",
          "text": [
            "4915\n",
            "(23544, 690)\n"
          ],
          "name": "stdout"
        },
        {
          "output_type": "stream",
          "text": [
            "\r 71%|███████   | 2469/3486 [23:15<14:47,  1.15it/s]"
          ],
          "name": "stderr"
        },
        {
          "output_type": "stream",
          "text": [
            "4916\n",
            "(16992, 508)\n"
          ],
          "name": "stdout"
        },
        {
          "output_type": "stream",
          "text": [
            " 71%|███████   | 2471/3486 [23:15<09:39,  1.75it/s]"
          ],
          "name": "stderr"
        },
        {
          "output_type": "stream",
          "text": [
            "4918\n",
            "(12360, 266)\n",
            "4920\n",
            "(33726, 845)\n"
          ],
          "name": "stdout"
        },
        {
          "output_type": "stream",
          "text": [
            "\r 71%|███████   | 2472/3486 [23:17<14:24,  1.17it/s]"
          ],
          "name": "stderr"
        },
        {
          "output_type": "stream",
          "text": [
            "4921\n",
            "(36792, 522)\n"
          ],
          "name": "stdout"
        },
        {
          "output_type": "stream",
          "text": [
            " 71%|███████   | 2474/3486 [23:18<10:45,  1.57it/s]"
          ],
          "name": "stderr"
        },
        {
          "output_type": "stream",
          "text": [
            "4922\n",
            "There are 138003840player x questions pairs, tournament will be skipped\n",
            "4923\n",
            "There are 115207092player x questions pairs, tournament will be skipped\n",
            "4924\n",
            "(2940, 109)\n"
          ],
          "name": "stdout"
        },
        {
          "output_type": "stream",
          "text": [
            "\r 71%|███████   | 2477/3486 [23:18<07:51,  2.14it/s]"
          ],
          "name": "stderr"
        },
        {
          "output_type": "stream",
          "text": [
            "4925\n",
            "(11160, 227)\n",
            "4926\n",
            "(2448, 104)\n",
            "4928\n",
            "(11016, 342)\n"
          ],
          "name": "stdout"
        },
        {
          "output_type": "stream",
          "text": [
            "\r 71%|███████   | 2479/3486 [23:18<05:59,  2.80it/s]"
          ],
          "name": "stderr"
        },
        {
          "output_type": "stream",
          "text": [
            "4930\n",
            "(21384, 630)\n"
          ],
          "name": "stdout"
        },
        {
          "output_type": "stream",
          "text": [
            "\r 71%|███████   | 2480/3486 [23:19<08:38,  1.94it/s]"
          ],
          "name": "stderr"
        },
        {
          "output_type": "stream",
          "text": [
            "4931\n",
            "(19170, 303)\n"
          ],
          "name": "stdout"
        },
        {
          "output_type": "stream",
          "text": [
            "\r 71%|███████   | 2481/3486 [23:20<07:23,  2.26it/s]"
          ],
          "name": "stderr"
        },
        {
          "output_type": "stream",
          "text": [
            "4932\n",
            "(6840, 226)\n",
            "4933\n",
            "(33280, 872)\n"
          ],
          "name": "stdout"
        },
        {
          "output_type": "stream",
          "text": [
            "\r 71%|███████   | 2483/3486 [23:21<09:02,  1.85it/s]"
          ],
          "name": "stderr"
        },
        {
          "output_type": "stream",
          "text": [
            "4934\n",
            "(2592, 108)\n",
            "4936\n",
            "(53550, 685)\n"
          ],
          "name": "stdout"
        },
        {
          "output_type": "stream",
          "text": [
            "\r 71%|███████▏  | 2485/3486 [23:23<10:40,  1.56it/s]"
          ],
          "name": "stderr"
        },
        {
          "output_type": "stream",
          "text": [
            "4937\n",
            "(16308, 489)\n"
          ],
          "name": "stdout"
        },
        {
          "output_type": "stream",
          "text": [
            "\r 71%|███████▏  | 2486/3486 [23:23<09:26,  1.77it/s]"
          ],
          "name": "stderr"
        },
        {
          "output_type": "stream",
          "text": [
            "4938\n",
            "(14760, 373)\n"
          ],
          "name": "stdout"
        },
        {
          "output_type": "stream",
          "text": [
            "\r 71%|███████▏  | 2487/3486 [23:24<08:10,  2.04it/s]"
          ],
          "name": "stderr"
        },
        {
          "output_type": "stream",
          "text": [
            "4939\n",
            "(45072, 1288)\n"
          ],
          "name": "stdout"
        },
        {
          "output_type": "stream",
          "text": [
            " 71%|███████▏  | 2490/3486 [23:27<16:20,  1.02it/s]"
          ],
          "name": "stderr"
        },
        {
          "output_type": "stream",
          "text": [
            "4940\n",
            "(8370, 231)\n",
            "4941\n",
            "(6120, 162)\n",
            "4942\n",
            "(20160, 324)\n"
          ],
          "name": "stdout"
        },
        {
          "output_type": "stream",
          "text": [
            "\r 71%|███████▏  | 2491/3486 [23:27<13:03,  1.27it/s]"
          ],
          "name": "stderr"
        },
        {
          "output_type": "stream",
          "text": [
            "4943\n",
            "(3888, 171)\n"
          ],
          "name": "stdout"
        },
        {
          "output_type": "error",
          "ename": "ValueError",
          "evalue": "ignored",
          "traceback": [
            "\u001b[0;31m---------------------------------------------------------------------------\u001b[0m",
            "\u001b[0;31mValueError\u001b[0m                                Traceback (most recent call last)",
            "\u001b[0;32m<ipython-input-10-fa76fe199003>\u001b[0m in \u001b[0;36m<module>\u001b[0;34m()\u001b[0m\n\u001b[1;32m      5\u001b[0m   \u001b[0mi\u001b[0m\u001b[0;34m=\u001b[0m\u001b[0mi\u001b[0m\u001b[0;34m+\u001b[0m\u001b[0;36m1\u001b[0m\u001b[0;34m\u001b[0m\u001b[0;34m\u001b[0m\u001b[0m\n\u001b[1;32m      6\u001b[0m   \u001b[0mprint\u001b[0m\u001b[0;34m(\u001b[0m\u001b[0mtourn\u001b[0m\u001b[0;34m)\u001b[0m\u001b[0;34m\u001b[0m\u001b[0;34m\u001b[0m\u001b[0m\n\u001b[0;32m----> 7\u001b[0;31m   \u001b[0mprocess_tournament\u001b[0m\u001b[0;34m(\u001b[0m\u001b[0mtourn\u001b[0m\u001b[0;34m)\u001b[0m\u001b[0;34m\u001b[0m\u001b[0;34m\u001b[0m\u001b[0m\n\u001b[0m",
            "\u001b[0;32m<ipython-input-9-b59ff3ce2511>\u001b[0m in \u001b[0;36mprocess_tournament\u001b[0;34m(id)\u001b[0m\n\u001b[1;32m     66\u001b[0m  \u001b[0;31m#penalty = 'none',\u001b[0m\u001b[0;34m\u001b[0m\u001b[0;34m\u001b[0m\u001b[0;34m\u001b[0m\u001b[0m\n\u001b[1;32m     67\u001b[0m   \u001b[0mprint\u001b[0m\u001b[0;34m(\u001b[0m\u001b[0mX\u001b[0m\u001b[0;34m.\u001b[0m\u001b[0mshape\u001b[0m\u001b[0;34m)\u001b[0m\u001b[0;34m\u001b[0m\u001b[0;34m\u001b[0m\u001b[0m\n\u001b[0;32m---> 68\u001b[0;31m   \u001b[0mlogistic\u001b[0m\u001b[0;34m.\u001b[0m\u001b[0mfit\u001b[0m\u001b[0;34m(\u001b[0m\u001b[0mX\u001b[0m\u001b[0;34m,\u001b[0m \u001b[0mY\u001b[0m\u001b[0;34m)\u001b[0m\u001b[0;34m\u001b[0m\u001b[0;34m\u001b[0m\u001b[0m\n\u001b[0m\u001b[1;32m     69\u001b[0m \u001b[0;34m\u001b[0m\u001b[0m\n\u001b[1;32m     70\u001b[0m   \u001b[0mresult\u001b[0m \u001b[0;34m=\u001b[0m \u001b[0;34m[\u001b[0m\u001b[0;34m]\u001b[0m\u001b[0;34m\u001b[0m\u001b[0;34m\u001b[0m\u001b[0m\n",
            "\u001b[0;32m/usr/local/lib/python3.6/dist-packages/sklearn/linear_model/_logistic.py\u001b[0m in \u001b[0;36mfit\u001b[0;34m(self, X, y, sample_weight)\u001b[0m\n\u001b[1;32m   1556\u001b[0m             raise ValueError(\"This solver needs samples of at least 2 classes\"\n\u001b[1;32m   1557\u001b[0m                              \u001b[0;34m\" in the data, but the data contains only one\"\u001b[0m\u001b[0;34m\u001b[0m\u001b[0;34m\u001b[0m\u001b[0m\n\u001b[0;32m-> 1558\u001b[0;31m                              \" class: %r\" % classes_[0])\n\u001b[0m\u001b[1;32m   1559\u001b[0m \u001b[0;34m\u001b[0m\u001b[0m\n\u001b[1;32m   1560\u001b[0m         \u001b[0;32mif\u001b[0m \u001b[0mlen\u001b[0m\u001b[0;34m(\u001b[0m\u001b[0mself\u001b[0m\u001b[0;34m.\u001b[0m\u001b[0mclasses_\u001b[0m\u001b[0;34m)\u001b[0m \u001b[0;34m==\u001b[0m \u001b[0;36m2\u001b[0m\u001b[0;34m:\u001b[0m\u001b[0;34m\u001b[0m\u001b[0;34m\u001b[0m\u001b[0m\n",
            "\u001b[0;31mValueError\u001b[0m: This solver needs samples of at least 2 classes in the data, but the data contains only one class: 0.0"
          ]
        }
      ]
    },
    {
      "cell_type": "code",
      "metadata": {
        "id": "ElK-3hlk3rFB",
        "colab_type": "code",
        "outputId": "31eb3dca-8c09-4374-b133-2b6e5694005b",
        "colab": {
          "base_uri": "https://localhost:8080/",
          "height": 74
        }
      },
      "source": [
        "ranking = [(k,sum(v)/len(v),len(v)) for k,v in all_results.items() if len(v)>0]\n",
        "print(ranking)\n",
        "\n",
        "ranking.sort(key = lambda x: -x[1])\n",
        "\n",
        "print(len(ranking))"
      ],
      "execution_count": 0,
      "outputs": [
        {
          "output_type": "stream",
          "text": [
            "[(144, 0.8115716822453486, 3921), (439, 0.8115716822453486, 3921), (606, 0.3096916142463704, 3921), (668, 1.2453003007722203, 3921), (707, 1.81281595304428, 3921), ('22_61', -0.8014541582410943, 3921), (1055, -0.024618723036230465, 3921), (1145, 0.8115716822453486, 3921), (1560, 2.021934955245346, 3921), (1603, 1.3353444131489387, 3921), (2005, 1.1565697901447998, 3921), (2454, 1.1565697901447998, 3921), (2626, 0.3096916142463704, 3921), (2694, 1.81281595304428, 3921), ('22_89', 2.3396746890502476, 3921), (2935, 2.021934955245346, 3921), (3207, 1.5201563477227515, 3921), (3270, 2.021934955245346, 3921), (3498, -1.2127987362172403, 3921), (3645, 1.5201563477227515, 3921), (4060, 1.2453003007722203, 3921), (4551, 1.1565697901447998, 3921), (4576, 0.9823792319043849, 3921), ('22_46', -20.77005188280133, 3921), (4878, 2.021934955245346, 3921), (5526, 1.7128253338578534, 3921), (5935, 1.3353444131489387, 3921), (6020, 0.4761072327512964, 3921), (6212, 1.5201563477227515, 3921), (6625, 0.8115716822453486, 3921), (7158, -1.2127987362172403, 3921), (7996, -0.6330630253194914, 3921), (8229, 1.4268922368001018, 3921), (8333, 1.5201563477227515, 3921), (8505, 0.8115716822453486, 3921), (9908, 0.8115716822453486, 3921), (10816, 0.8115716822453486, 3921), ('22_31', 2.00995285085283, 3921), (12119, 1.1565697901447998, 3921), (12770, 1.1565697901447998, 3921), (13288, 0.3096916142463704, 3921), (13551, 1.81281595304428, 3921), (13601, 0.3096916142463704, 3921), (13647, 0.3096916142463704, 3921), (14259, 1.7128253338578534, 3921), (14933, -0.024618723036230465, 3921), (15265, 0.4761072327512964, 3921), (15276, 1.2453003007722203, 3921), (15442, 1.81281595304428, 3921), (15624, 0.3096916142463704, 3921), (16033, -1.2127987362172403, 3921), (16482, -0.6330630253194914, 3921), (17050, 1.3353444131489387, 3921), (17730, 0.3096916142463704, 3921), (17746, 0.8115716822453486, 3921), (17751, 0.8115716822453486, 3921), (18036, 1.3353444131489387, 3921), (18332, 1.3353444131489387, 3921), (18686, 1.7128253338578534, 3921), (18935, 2.021934955245346, 3921), (19287, -0.024618723036230465, 3921), (19298, 0.3096916142463704, 3921), (19599, 0.9823792319043849, 3921), (19775, -0.6330630253194914, 3921), (19782, 0.8115716822453486, 3921), (19798, 0.3096916142463704, 3921), (20207, 1.4268922368001018, 3921), (20260, 1.7128253338578534, 3921), (20612, 1.3353444131489387, 3921), (20691, 1.81281595304428, 3921), (21487, 1.4268922368001018, 3921), (21805, 1.7128253338578534, 3921), (22482, 1.81281595304428, 3921), (22935, 1.81281595304428, 3921), (23558, 1.4268922368001018, 3921), (23588, 1.2453003007722203, 3921), ('22_45', 0.9208034429843535, 3921), (24290, 1.1565697901447998, 3921), (24786, 0.3096916142463704, 3921), (24891, -1.2127987362172403, 3921), (25120, 0.3096916142463704, 3921), (25153, 0.8115716822453486, 3921), (25155, 0.8115716822453486, 3921), (25604, -0.6330630253194914, 3921), (25678, 0.9823792319043849, 3921), (25724, 0.9823792319043849, 3921), (25882, 1.81281595304428, 3921), (26173, 0.8115716822453486, 3921), (26990, 0.8115716822453486, 3921), (27238, 1.4268922368001018, 3921), (27403, 1.2453003007722203, 3921), (27409, -0.024618723036230465, 3921), ('22_2', 2.3396746890502476, 3921), ('22_11', -1.422546360080561, 3921), (28087, 1.2453003007722203, 3921), (28513, 1.81281595304428, 3921), (29333, 1.7128253338578534, 3921), (29399, 1.4268922368001018, 3921), (29613, -0.024618723036230465, 3921), (29700, 0.9823792319043849, 3921), (29800, 1.81281595304428, 3921), (30270, 0.4761072327512964, 3921), (30475, 1.81281595304428, 3921), (30990, 1.3353444131489387, 3921), (31562, -0.6330630253194914, 3921), (32684, -1.2127987362172403, 3921), (32685, -1.2127987362172403, 3921), (32979, 2.021934955245346, 3921), (33146, 0.3096916142463704, 3921), (34078, -0.024618723036230465, 3921), (34846, 1.81281595304428, 3921), (35065, 1.1565697901447998, 3921), (35373, 0.4761072327512964, 3921), (35506, 0.9823792319043849, 3921), (35902, 0.4761072327512964, 3921), (35908, 0.4761072327512964, 3921), (36497, 2.021934955245346, 3921), (37114, -0.6330630253194914, 3921), ('22_82', -2.0575252279606424, 3921), (49151, 1.5201563477227515, 3921), ('22_14', -0.46349462254600754, 3921), ('22_87', -1.465014872823368, 3921), ('22_64', 1.5216027985468294, 3921), ('22_58', 0.1421263011379772, 3921), ('22_8', -20.77005188280133, 3921), ('22_53', 1.5216027985468294, 3921), ('22_3', 0.1937495116523069, 3921), ('22_10', -1.1309862533379513, 3921), ('22_9', 0.8496058163688072, 3921), ('22_57', -1.6381488918665903, 3921), ('22_19', 19.27206616389847, 3921), ('22_39', -1.7271555036085724, 3921), ('22_83', -0.9664863143948668, 3921), ('22_79', -0.42000210999071985, 3921), ('22_27', 19.27206616389847, 3921), ('22_34', 0.9948300645211301, 3921), ('22_37', -0.9664863143948669, 3921), ('22_44', 1.5216027985468292, 3921), ('22_88', 0.8496058163688072, 3921), ('22_15', -2.3771154653657813, 3921), ('22_62', -0.33185737122812464, 3921), ('22_24', -0.9253402011569409, 3921), ('22_73', 0.24637323935724606, 3921), ('22_81', -20.77005188280133, 3921), ('22_17', -1.0898225221695912, 3921), ('22_42', 19.27206616389847, 3921), ('22_32', -0.007348732847192075, 3921), ('22_52', 0.9948300645211301, 3921), ('22_50', 19.27206616389847, 3921), ('22_12', 0.9948300645211301, 3921), ('22_4', -1.6824150408939, 3921), ('22_28', 0.4110556804250747, 3921), ('22_16', -20.77005188280133, 3921), ('22_49', 1.3266733833407642, 3921), ('22_85', -0.6343323773971833, 3921), ('22_20', -3.2468822002889657, 3921), ('22_23', -0.8841354579035665, 3921), ('22_43', 19.27206616389847, 3921), ('22_59', -0.14993761503194428, 3921), ('22_66', 0.2463732393572461, 3921), ('22_71', -0.6343323773971833, 3921), ('22_0', -20.77005188280133, 3921), ('22_25', -2.3206241690721887, 3921), ('22_21', 1.5216027985468294, 3921), ('22_54', -1.7724174303493152, 3921), ('22_41', 2.3396746890502476, 3921), ('22_51', -2.0081070276337556, 3921), ('22_74', 19.27206616389847, 3921), ('22_69', -2.3771154653657813, 3921), ('22_67', -0.7182524911219342, 3921), ('22_47', 0.41105568042507484, 3921), ('22_56', 19.27206616389847, 3921), ('22_72', 0.9208034429843535, 3921), ('22_13', -0.6343323773971833, 3921), ('22_84', 0.5275018450786269, 3921), ('22_22', 19.27206616389847, 3921), ('22_76', -3.854136884765442, 3921), ('22_36', -2.2118406355676123, 3921), ('22_29', 0.8496058163688072, 3921), ('22_38', -1.1722196347487985, 3921), ('22_18', -2.0081070276337556, 3921), ('22_33', 0.2463732393572461, 3921), ('22_63', 19.27206616389847, 3921), ('22_55', 0.5880701530411189, 3921), ('22_60', 19.27206616389847, 3921), ('22_35', 0.5275018450786269, 3921), ('22_86', 0.9948300645211301, 3921), ('22_80', -0.055563818452355807, 3921), ('22_7', -2.0081070276337556, 3921), ('22_65', -1.5508670412971173, 3921), ('22_68', -20.77005188280133, 3921), ('22_70', -2.0081070276337556, 3921), ('22_77', -20.77005188280133, 3921), ('22_75', 19.27206616389847, 3921), ('22_48', -1.3383685385691175, 3921), ('22_30', 19.27206616389847, 3921), ('22_40', -0.10307359354360979, 3921), ('22_5', 2.3396746890502476, 3921), ('22_1', -0.9253402011569409, 3921), ('22_26', 19.27206616389847, 3921), ('22_6', 19.27206616389847, 3921), ('22_78', -3.152860928375393, 3921)]\n",
            "202\n"
          ],
          "name": "stdout"
        }
      ]
    },
    {
      "cell_type": "code",
      "metadata": {
        "id": "wIr5vqGOlhfR",
        "colab_type": "code",
        "outputId": "1fa11452-dff8-43b8-d2cf-f20869995a17",
        "colab": {
          "base_uri": "https://localhost:8080/",
          "height": 35
        }
      },
      "source": [
        ""
      ],
      "execution_count": 0,
      "outputs": [
        {
          "output_type": "execute_result",
          "data": {
            "text/plain": [
              "24"
            ]
          },
          "metadata": {
            "tags": []
          },
          "execution_count": 10
        }
      ]
    }
  ]
}