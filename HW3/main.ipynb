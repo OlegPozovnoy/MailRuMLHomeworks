{
  "nbformat": 4,
  "nbformat_minor": 0,
  "metadata": {
    "colab": {
      "name": "Untitled",
      "provenance": [],
      "collapsed_sections": [],
      "authorship_tag": "ABX9TyOaVbwro0GxziylGAgtKfNo",
      "include_colab_link": true
    },
    "kernelspec": {
      "name": "python3",
      "display_name": "Python 3"
    }
  },
  "cells": [
    {
      "cell_type": "markdown",
      "metadata": {
        "id": "view-in-github",
        "colab_type": "text"
      },
      "source": [
        "<a href=\"https://colab.research.google.com/github/OlegPozovnoy/MailRuMLHomeworks/blob/master/HW3/main.ipynb\" target=\"_parent\"><img src=\"https://colab.research.google.com/assets/colab-badge.svg\" alt=\"Open In Colab\"/></a>"
      ]
    },
    {
      "cell_type": "code",
      "metadata": {
        "id": "6Zu_gS6BesAI",
        "colab_type": "code",
        "outputId": "fb0f3cc5-2f26-43ca-c103-7257a2935213",
        "colab": {
          "base_uri": "https://localhost:8080/",
          "height": 34
        }
      },
      "source": [
        "from google.colab import drive\n",
        "drive.mount('/datasets/')"
      ],
      "execution_count": 14,
      "outputs": [
        {
          "output_type": "stream",
          "text": [
            "Drive already mounted at /datasets/; to attempt to forcibly remount, call drive.mount(\"/datasets/\", force_remount=True).\n"
          ],
          "name": "stdout"
        }
      ]
    },
    {
      "cell_type": "code",
      "metadata": {
        "id": "YUKYWDYejhWP",
        "colab_type": "code",
        "outputId": "254c0df4-8f6e-4918-c1f6-9470f23a8b55",
        "colab": {
          "base_uri": "https://localhost:8080/",
          "height": 34
        }
      },
      "source": [
        "!ls \"/datasets/My Drive/datasets/\""
      ],
      "execution_count": 15,
      "outputs": [
        {
          "output_type": "stream",
          "text": [
            "players.pkl  results.pkl  tournaments.pkl\n"
          ],
          "name": "stdout"
        }
      ]
    },
    {
      "cell_type": "code",
      "metadata": {
        "id": "VPH9pU3ai3hh",
        "colab_type": "code",
        "colab": {}
      },
      "source": [
        "import pickle\n",
        "import pandas as pd"
      ],
      "execution_count": 0,
      "outputs": []
    },
    {
      "cell_type": "code",
      "metadata": {
        "id": "SjVYMl3_l-nH",
        "colab_type": "code",
        "colab": {}
      },
      "source": [
        "tournaments = pd.read_pickle(\"/datasets/My Drive/datasets/tournaments.pkl\")\n",
        "#tournaments = pd.read_pickle(\"./tournaments.pkl\")\n",
        "\n",
        "tournaments_cleaned = [(v['id'], v['name'], v['dateStart'][0:4], v['type']['name'], v['questionQty']) for k,v in tournaments.items() if v['questionQty'] != None]\n",
        "del tournaments"
      ],
      "execution_count": 0,
      "outputs": []
    },
    {
      "cell_type": "markdown",
      "metadata": {
        "id": "0tf0NonT3YUU",
        "colab_type": "text"
      },
      "source": [
        "Создадим трейн и тест набор турниров."
      ]
    },
    {
      "cell_type": "code",
      "metadata": {
        "id": "_CGbnhciI8Tm",
        "colab_type": "code",
        "outputId": "38231b04-665b-4b1f-a6ab-e99a712e18fc",
        "colab": {
          "base_uri": "https://localhost:8080/",
          "height": 51
        }
      },
      "source": [
        "train_id = [ v[0] for v in tournaments_cleaned if int(v[2])<= 2019]\n",
        "test_id = [v[0] for v in tournaments_cleaned if int(v[2])== 2020]\n",
        "\n",
        "print(len(train_id))\n",
        "print(len(test_id))"
      ],
      "execution_count": 18,
      "outputs": [
        {
          "output_type": "stream",
          "text": [
            "3921\n",
            "418\n"
          ],
          "name": "stdout"
        }
      ]
    },
    {
      "cell_type": "code",
      "metadata": {
        "id": "P7fpAzcWk_mT",
        "colab_type": "code",
        "colab": {}
      },
      "source": [
        "results = pd.read_pickle(\"/datasets/My Drive/datasets/results.pkl\")\n",
        "#results = pd.read_pickle(\"./results.pkl\")\n",
        "results_cleaned = {k: v for k,v in results.items() if k in train_id or k in test_id}\n",
        "\n",
        "results_cleaned2 = {}\n",
        "for k,v in results_cleaned.items():\n",
        "  results_cleaned2[k] = []\n",
        "  for s in v:\n",
        "    if s.get('mask') != None:\n",
        "      results_cleaned2[k].append((s.get('mask'),s.get('questionsTotal'), [k.get('player').get('id') for k in s.get('teamMembers')]))\n",
        "\n",
        "del results\n",
        "del results_cleaned"
      ],
      "execution_count": 0,
      "outputs": []
    },
    {
      "cell_type": "code",
      "metadata": {
        "id": "Ba8T5dEQLw7g",
        "colab_type": "code",
        "outputId": "6c28ae16-8bd3-4869-a8a4-81f6f12062d7",
        "colab": {
          "base_uri": "https://localhost:8080/",
          "height": 51
        }
      },
      "source": [
        "train_id = [id for id in train_id if id in results_cleaned2.keys() and len(results_cleaned2[id]) > 0]\n",
        "test_id = [id for id in test_id if id in results_cleaned2.keys() and len(results_cleaned2[id]) > 0]\n",
        "\n",
        "print(len(train_id))\n",
        "print(len(test_id))"
      ],
      "execution_count": 20,
      "outputs": [
        {
          "output_type": "stream",
          "text": [
            "3486\n",
            "173\n"
          ],
          "name": "stdout"
        }
      ]
    },
    {
      "cell_type": "code",
      "metadata": {
        "id": "y-bgXk1RT8A-",
        "colab_type": "code",
        "outputId": "d115e311-048b-4e49-ecbc-6f3bcee562db",
        "colab": {
          "base_uri": "https://localhost:8080/",
          "height": 187
        }
      },
      "source": [
        "import numpy as np\n",
        "from sklearn.linear_model import LogisticRegression\n",
        "import tqdm\n",
        "import gc\n",
        "\n",
        "all_words = []\n",
        "\n",
        "for k,v in results_cleaned2.items():\n",
        "  for team in v: \n",
        "    for p in range(len(team[0])):\n",
        "        all_words.append(str(k)+'_'+str(p))\n",
        "    for m in team[2]:\n",
        "        all_words.append(m)\n",
        "\n",
        "all_words = set(all_words)\n",
        "print(len(all_words))\n",
        "\n",
        "all_results = {}\n",
        "for s in all_words:\n",
        "  all_results[s] = [0,0] # total rating and num of competetions\n",
        "\n",
        "print (len(results_cleaned2))\n",
        "vocabulary =  set()\n",
        "\n",
        "logistic = LogisticRegression(fit_intercept = False)\n",
        "\n",
        "def process_tournament(id):\n",
        "  task3 = []\n",
        "  words = []\n",
        "   \n",
        "  for n in range(len(results_cleaned2[id])): # command id\n",
        "    for p in range(len(results_cleaned2[id][n][0])): #answers\n",
        "        quest = str(id)+'_'+str(p)\n",
        "        team = n\n",
        "        task3.append((quest, team,results_cleaned2[id][n][0][p]) )\n",
        "        words.append(quest)\n",
        "        words.append(team)\n",
        "\n",
        "  if len(words)==0:\n",
        "    return \n",
        "  \n",
        "  words = set(words) # encoding questions and teams no\n",
        "  word_to_idx = dict([(y,x) for x,y in enumerate(words)])\n",
        "  idx_to_word = dict([(x,y) for x,y in enumerate(words)])       \n",
        "  \n",
        "  #preparing matrix\n",
        "  X = np.zeros((len(task3),len(words)))\n",
        "  Y = np.zeros(len(task3))\n",
        "  for i in range(len(task3)):\n",
        "    X[i,word_to_idx[task3[i][0]]] = 1\n",
        "    X[i,word_to_idx[task3[i][1]]] = 1\n",
        "    Y[i] = 1 if str(task3[i][2]) == '1' else 0\n",
        "\n",
        "  if len(set(Y)) <= 1:\n",
        "    print ('<=2 categories')\n",
        "    return\n",
        "\n",
        "  print(X.shape)\n",
        "  logistic.fit(X, Y)\n",
        "\n",
        "  \n",
        "  print(logistic.predict_proba(X))\n",
        "  #print(len(logistic.coef_[0]))\n",
        "\n",
        "  for s in range(len(logistic.coef_[0])):\n",
        "    if isinstance(idx_to_word[s], int): ## tean no\n",
        "        #print('team '+ str(idx_to_word[s]))\n",
        "        for player in results_cleaned2[id][idx_to_word[s]][2]:\n",
        "            #print(player)\n",
        "            all_results[player][1] +=1\n",
        "            all_results[player][0] +=logistic.coef_[0][s]\n",
        "    else: #question no\n",
        "        #print('question '+ str(idx_to_word[s]))\n",
        "        all_results[idx_to_word[s]][1] +=1\n",
        "        all_results[idx_to_word[s]][0] +=logistic.coef_[0][s]\n",
        "\n",
        "#print(process_tournament(1521))\n",
        "process_tournament(1526)"
      ],
      "execution_count": 65,
      "outputs": [
        {
          "output_type": "stream",
          "text": [
            "357955\n",
            "4339\n",
            "(46746, 1155)\n",
            "[[0.12146259 0.87853741]\n",
            " [0.0849564  0.9150436 ]\n",
            " [0.02114813 0.97885187]\n",
            " ...\n",
            " [0.94584594 0.05415406]\n",
            " [0.99235288 0.00764712]\n",
            " [0.93338122 0.06661878]]\n"
          ],
          "name": "stdout"
        }
      ]
    },
    {
      "cell_type": "markdown",
      "metadata": {
        "id": "Ec8_oUCP2pir",
        "colab_type": "text"
      },
      "source": [
        "Пройдемся по всем турнирам и посчитаем рейтинг всех игроков и вопросов в заданном турнире, за неимением лучшего, усредним по каждому игроку рейтинг в турнире"
      ]
    },
    {
      "cell_type": "code",
      "metadata": {
        "id": "ovg-qp80xZy0",
        "colab_type": "code",
        "outputId": "b694ab16-692f-446b-a407-87e7c6b8bd11",
        "colab": {
          "base_uri": "https://localhost:8080/",
          "height": 1000
        }
      },
      "source": [
        "import tqdm\n",
        "\n",
        "for tourn in tqdm.tqdm(train_id):\n",
        "  print(tourn)\n",
        "  process_tournament(tourn)\n"
      ],
      "execution_count": 22,
      "outputs": [
        {
          "output_type": "stream",
          "text": [
            "\n",
            "\n",
            "  0%|          | 0/3486 [00:00<?, ?it/s]\u001b[A\u001b[A\n",
            "\n",
            "  0%|          | 3/3486 [00:00<02:17, 25.41it/s]\u001b[A\u001b[A"
          ],
          "name": "stderr"
        },
        {
          "output_type": "stream",
          "text": [
            "22\n",
            "(3960, 134)\n",
            "134\n",
            "76\n",
            "(4590, 141)\n",
            "141\n",
            "141\n",
            "(4320, 138)\n",
            "138\n",
            "226\n",
            "(5130, 147)\n",
            "147\n",
            "315\n",
            "(6570, 163)\n"
          ],
          "name": "stdout"
        },
        {
          "output_type": "stream",
          "text": [
            "\n",
            "\n",
            "  0%|          | 5/3486 [00:00<02:36, 22.28it/s]\u001b[A\u001b[A\n",
            "\n",
            "  0%|          | 7/3486 [00:00<03:00, 19.29it/s]\u001b[A\u001b[A"
          ],
          "name": "stderr"
        },
        {
          "output_type": "stream",
          "text": [
            "163\n",
            "484\n",
            "(8190, 181)\n",
            "181\n",
            "583\n",
            "(6390, 161)\n",
            "161\n",
            "652\n",
            "(1710, 83)\n",
            "83\n",
            "1082\n",
            "(3690, 131)\n"
          ],
          "name": "stdout"
        },
        {
          "output_type": "stream",
          "text": [
            "\n",
            "\n",
            "  0%|          | 10/3486 [00:00<02:42, 21.43it/s]\u001b[A\u001b[A\n",
            "\n",
            "  0%|          | 12/3486 [00:00<03:10, 18.20it/s]\u001b[A\u001b[A"
          ],
          "name": "stderr"
        },
        {
          "output_type": "stream",
          "text": [
            "131\n",
            "1224\n",
            "(4140, 136)\n",
            "136\n",
            "1348\n",
            "(7056, 232)\n",
            "232\n",
            "1369\n",
            "(4050, 135)\n",
            "135\n",
            "1515\n",
            "(2088, 101)\n",
            "101\n",
            "1516\n",
            "(1305, 74)\n",
            "74\n",
            "1517\n",
            "(3225, 118)\n",
            "118\n",
            "1518\n",
            "(17576, 390)\n"
          ],
          "name": "stdout"
        },
        {
          "output_type": "stream",
          "text": [
            "\n",
            "\n",
            "  0%|          | 16/3486 [00:01<04:14, 13.63it/s]\u001b[A\u001b[A"
          ],
          "name": "stderr"
        },
        {
          "output_type": "stream",
          "text": [
            "390\n",
            "1519\n",
            "(3900, 127)\n",
            "127\n",
            "1521\n",
            "(12825, 330)\n"
          ],
          "name": "stdout"
        },
        {
          "output_type": "stream",
          "text": [
            "\n",
            "\n",
            "  1%|          | 18/3486 [00:01<05:23, 10.72it/s]\u001b[A\u001b[A"
          ],
          "name": "stderr"
        },
        {
          "output_type": "stream",
          "text": [
            "330\n",
            "1526\n",
            "(46746, 1155)\n",
            "1155\n",
            "1531\n",
            "(33528, 968)\n"
          ],
          "name": "stdout"
        },
        {
          "output_type": "stream",
          "text": [
            "\n",
            "\n",
            "  1%|          | 20/3486 [00:07<53:55,  1.07it/s]\u001b[A\u001b[A"
          ],
          "name": "stderr"
        },
        {
          "output_type": "stream",
          "text": [
            "968\n",
            "1532\n",
            "(6930, 167)\n",
            "167\n",
            "1534\n",
            "(48648, 1062)\n"
          ],
          "name": "stdout"
        },
        {
          "output_type": "stream",
          "text": [
            "\n",
            "\n",
            "  1%|          | 22/3486 [00:11<1:11:05,  1.23s/it]\u001b[A\u001b[A\n",
            "\n",
            "  1%|          | 26/3486 [00:11<50:17,  1.15it/s]  \u001b[A\u001b[A"
          ],
          "name": "stderr"
        },
        {
          "output_type": "stream",
          "text": [
            "1062\n",
            "1536\n",
            "(6840, 166)\n",
            "166\n",
            "1552\n",
            "(1440, 84)\n",
            "84\n",
            "1576\n",
            "(1620, 87)\n",
            "87\n",
            "1631\n",
            "(3870, 133)\n",
            "133\n",
            "1635\n",
            "(33552, 747)\n"
          ],
          "name": "stdout"
        },
        {
          "output_type": "stream",
          "text": [
            "\n",
            "\n",
            "  1%|          | 28/3486 [00:12<48:35,  1.19it/s]\u001b[A\u001b[A"
          ],
          "name": "stderr"
        },
        {
          "output_type": "stream",
          "text": [
            "747\n",
            "1644\n",
            "(780, 73)\n",
            "73\n",
            "1646\n",
            "(3285, 118)\n",
            "118\n",
            "1647\n",
            "(19404, 575)\n"
          ],
          "name": "stdout"
        },
        {
          "output_type": "stream",
          "text": [
            "\n",
            "\n",
            "  1%|          | 30/3486 [00:13<39:53,  1.44it/s]\u001b[A\u001b[A\n",
            "\n",
            "  1%|          | 35/3486 [00:13<28:20,  2.03it/s]\u001b[A\u001b[A"
          ],
          "name": "stderr"
        },
        {
          "output_type": "stream",
          "text": [
            "575\n",
            "1660\n",
            "(1035, 68)\n",
            "68\n",
            "1668\n",
            "(1512, 82)\n",
            "82\n",
            "1690\n",
            "(720, 61)\n",
            "61\n",
            "1709\n",
            "(3750, 125)\n",
            "125\n",
            "1710\n",
            "(5850, 155)\n",
            "155\n",
            "1715\n",
            "(1804, 85)\n",
            "85\n",
            "1718\n",
            "(7785, 218)\n"
          ],
          "name": "stdout"
        },
        {
          "output_type": "stream",
          "text": [
            "\n",
            "\n",
            "  1%|          | 37/3486 [00:13<20:49,  2.76it/s]\u001b[A\u001b[A"
          ],
          "name": "stderr"
        },
        {
          "output_type": "stream",
          "text": [
            "218\n",
            "1723\n",
            "(270, 33)\n",
            "33\n",
            "1725\n",
            "(18270, 451)\n"
          ],
          "name": "stdout"
        },
        {
          "output_type": "stream",
          "text": [
            "\n",
            "\n",
            "  1%|          | 39/3486 [00:14<18:54,  3.04it/s]\u001b[A\u001b[A\n",
            "\n",
            "  1%|          | 43/3486 [00:14<13:43,  4.18it/s]\u001b[A\u001b[A"
          ],
          "name": "stderr"
        },
        {
          "output_type": "stream",
          "text": [
            "451\n",
            "1735\n",
            "(3132, 123)\n",
            "123\n",
            "1737\n",
            "(2772, 113)\n",
            "113\n",
            "1738\n",
            "(1980, 93)\n",
            "93\n",
            "1743\n",
            "(3690, 127)\n",
            "127\n",
            "1744\n",
            "(2916, 117)\n",
            "117\n",
            "1745\n",
            "(2925, 110)\n",
            "110\n",
            "1754\n"
          ],
          "name": "stdout"
        },
        {
          "output_type": "stream",
          "text": [
            "\n",
            "\n",
            "  1%|▏         | 46/3486 [00:14<11:05,  5.17it/s]\u001b[A\u001b[A"
          ],
          "name": "stderr"
        },
        {
          "output_type": "stream",
          "text": [
            "(10836, 337)\n",
            "337\n",
            "1762\n",
            "(2820, 107)\n",
            "107\n",
            "1764\n",
            "(1620, 81)\n",
            "81\n",
            "1769\n"
          ],
          "name": "stdout"
        },
        {
          "output_type": "stream",
          "text": [
            "\n",
            "\n",
            "  1%|▏         | 50/3486 [00:14<08:14,  6.94it/s]\u001b[A\u001b[A"
          ],
          "name": "stderr"
        },
        {
          "output_type": "stream",
          "text": [
            "(1560, 86)\n",
            "86\n",
            "1771\n",
            "(4875, 140)\n",
            "140\n",
            "1774\n",
            "(3690, 131)\n",
            "131\n",
            "1775\n",
            "(1620, 108)\n",
            "108\n",
            "1780\n",
            "(2232, 106)\n",
            "106\n",
            "1781\n",
            "(1170, 71)\n",
            "71\n",
            "1791\n",
            "(12636, 387)\n"
          ],
          "name": "stdout"
        },
        {
          "output_type": "stream",
          "text": [
            "\n",
            "\n",
            "  2%|▏         | 55/3486 [00:14<07:01,  8.13it/s]\u001b[A\u001b[A"
          ],
          "name": "stderr"
        },
        {
          "output_type": "stream",
          "text": [
            "387\n",
            "1802\n",
            "(1080, 78)\n",
            "78\n",
            "1803\n",
            "(510, 47)\n",
            "47\n",
            "1812\n",
            "(495, 56)\n",
            "56\n",
            "1813\n",
            "(840, 74)\n",
            "74\n",
            "1814\n",
            "(5310, 149)\n",
            "149\n",
            "1816\n",
            "(45402, 1123)\n"
          ],
          "name": "stdout"
        },
        {
          "output_type": "stream",
          "text": [
            "\n",
            "\n",
            "  2%|▏         | 61/3486 [00:18<15:32,  3.67it/s]\u001b[A\u001b[A"
          ],
          "name": "stderr"
        },
        {
          "output_type": "stream",
          "text": [
            "1123\n",
            "1817\n",
            "(54432, 1184)\n",
            "1184\n",
            "1818\n",
            "(32940, 951)\n"
          ],
          "name": "stdout"
        },
        {
          "output_type": "stream",
          "text": [
            "\n",
            "\n",
            "  2%|▏         | 63/3486 [00:25<1:07:49,  1.19s/it]\u001b[A\u001b[A"
          ],
          "name": "stderr"
        },
        {
          "output_type": "stream",
          "text": [
            "951\n",
            "1819\n",
            "(900, 75)\n",
            "75\n",
            "1820\n",
            "(780, 73)\n",
            "73\n",
            "1821\n",
            "(240, 53)\n",
            "53\n",
            "1826\n",
            "(480, 68)\n",
            "68\n",
            "1827\n",
            "(1260, 81)\n",
            "81\n",
            "1828\n",
            "(1575, 80)\n",
            "80\n",
            "1829\n",
            "(450, 55)\n",
            "55\n",
            "1845\n",
            "(19485, 478)\n"
          ],
          "name": "stdout"
        },
        {
          "output_type": "stream",
          "text": [
            "\n",
            "\n",
            "  2%|▏         | 71/3486 [00:26<48:46,  1.17it/s]  \u001b[A\u001b[A"
          ],
          "name": "stderr"
        },
        {
          "output_type": "stream",
          "text": [
            "478\n",
            "1849\n",
            "(37824, 836)\n"
          ],
          "name": "stdout"
        },
        {
          "output_type": "stream",
          "text": [
            "\n",
            "\n",
            "  2%|▏         | 73/3486 [00:28<52:19,  1.09it/s]\u001b[A\u001b[A"
          ],
          "name": "stderr"
        },
        {
          "output_type": "stream",
          "text": [
            "836\n",
            "1851\n",
            "(1440, 84)\n",
            "84\n",
            "1852\n",
            "(1560, 86)\n",
            "86\n",
            "1853\n",
            "(27045, 646)\n"
          ],
          "name": "stdout"
        },
        {
          "output_type": "stream",
          "text": [
            "\n",
            "\n",
            "  2%|▏         | 75/3486 [00:29<46:10,  1.23it/s]\u001b[A\u001b[A"
          ],
          "name": "stderr"
        },
        {
          "output_type": "stream",
          "text": [
            "646\n",
            "1854\n",
            "(205092, 1492)\n"
          ],
          "name": "stdout"
        },
        {
          "output_type": "stream",
          "text": [
            "\n",
            "\n",
            "  2%|▏         | 76/3486 [00:51<6:54:15,  7.29s/it]\u001b[A\u001b[A"
          ],
          "name": "stderr"
        },
        {
          "output_type": "stream",
          "text": [
            "1492\n",
            "1856\n",
            "(12150, 315)\n"
          ],
          "name": "stdout"
        },
        {
          "output_type": "stream",
          "text": [
            "\n",
            "\n",
            "  2%|▏         | 77/3486 [00:51<4:53:15,  5.16s/it]\u001b[A\u001b[A"
          ],
          "name": "stderr"
        },
        {
          "output_type": "stream",
          "text": [
            "315\n",
            "1857\n",
            "(28236, 595)\n"
          ],
          "name": "stdout"
        },
        {
          "output_type": "stream",
          "text": [
            "\n",
            "\n",
            "  2%|▏         | 78/3486 [00:52<3:41:39,  3.90s/it]\u001b[A\u001b[A"
          ],
          "name": "stderr"
        },
        {
          "output_type": "stream",
          "text": [
            "595\n",
            "1858\n",
            "(25770, 618)\n"
          ],
          "name": "stdout"
        },
        {
          "output_type": "stream",
          "text": [
            "\n",
            "\n",
            "  2%|▏         | 79/3486 [00:53<2:52:20,  3.04s/it]\u001b[A\u001b[A\n",
            "\n",
            "  2%|▏         | 83/3486 [00:53<2:00:56,  2.13s/it]\u001b[A\u001b[A"
          ],
          "name": "stderr"
        },
        {
          "output_type": "stream",
          "text": [
            "618\n",
            "1863\n",
            "(2625, 110)\n",
            "110\n",
            "1865\n",
            "(1860, 91)\n",
            "91\n",
            "1868\n",
            "(2250, 95)\n",
            "95\n",
            "1878\n",
            "(3744, 124)\n",
            "124\n",
            "1879\n",
            "(5490, 151)\n",
            "151\n",
            "1880\n",
            "(3480, 118)\n",
            "118\n",
            "1885\n"
          ],
          "name": "stdout"
        },
        {
          "output_type": "stream",
          "text": [
            "\n",
            "\n",
            "  2%|▏         | 86/3486 [00:54<1:25:09,  1.50s/it]\u001b[A\u001b[A\n",
            "\n",
            "  3%|▎         | 88/3486 [00:54<1:00:27,  1.07s/it]\u001b[A\u001b[A"
          ],
          "name": "stderr"
        },
        {
          "output_type": "stream",
          "text": [
            "(936, 62)\n",
            "62\n",
            "1889\n",
            "(6336, 212)\n",
            "212\n",
            "1890\n",
            "(816, 65)\n",
            "65\n",
            "1891\n",
            "(3000, 110)\n",
            "110\n",
            "1893\n",
            "(4176, 161)\n"
          ],
          "name": "stdout"
        },
        {
          "output_type": "stream",
          "text": [
            "\n",
            "\n",
            "  3%|▎         | 91/3486 [00:54<42:54,  1.32it/s]  \u001b[A\u001b[A"
          ],
          "name": "stderr"
        },
        {
          "output_type": "stream",
          "text": [
            "161\n",
            "1902\n",
            "(960, 76)\n",
            "76\n",
            "1905\n",
            "(6660, 164)\n",
            "164\n",
            "1906\n",
            "(22470, 577)\n"
          ],
          "name": "stdout"
        },
        {
          "output_type": "stream",
          "text": [
            "\n",
            "\n",
            "  3%|▎         | 94/3486 [00:55<34:49,  1.62it/s]\u001b[A\u001b[A\n",
            "\n",
            "  3%|▎         | 99/3486 [00:55<24:52,  2.27it/s]\u001b[A\u001b[A"
          ],
          "name": "stderr"
        },
        {
          "output_type": "stream",
          "text": [
            "577\n",
            "1919\n",
            "(1215, 72)\n",
            "72\n",
            "1921\n",
            "(3456, 120)\n",
            "120\n",
            "1922\n",
            "(1395, 76)\n",
            "76\n",
            "1924\n",
            "(1350, 75)\n",
            "75\n",
            "1925\n",
            "(3396, 119)\n",
            "119\n",
            "1926\n",
            "(5472, 188)\n",
            "188\n",
            "1927\n",
            "(4860, 153)\n",
            "153\n",
            "1928\n",
            "(2790, 152)\n",
            "152\n",
            "1931\n",
            "(121392, 1075)\n"
          ],
          "name": "stdout"
        },
        {
          "output_type": "stream",
          "text": [
            "\n",
            "\n",
            "  3%|▎         | 102/3486 [01:03<1:05:38,  1.16s/it]\u001b[A\u001b[A\n",
            "\n",
            "  3%|▎         | 107/3486 [01:03<46:18,  1.22it/s]  \u001b[A\u001b[A"
          ],
          "name": "stderr"
        },
        {
          "output_type": "stream",
          "text": [
            "1075\n",
            "1939\n",
            "(504, 50)\n",
            "50\n",
            "1940\n",
            "(4260, 131)\n",
            "131\n",
            "1941\n",
            "(1800, 110)\n",
            "110\n",
            "1943\n",
            "(1380, 83)\n",
            "83\n",
            "1945\n",
            "(3690, 131)\n",
            "131\n",
            "1946\n",
            "(2340, 99)\n",
            "99\n",
            "1949\n"
          ],
          "name": "stdout"
        },
        {
          "output_type": "stream",
          "text": [
            "\n",
            "\n",
            "  3%|▎         | 111/3486 [01:04<32:50,  1.71it/s]\u001b[A\u001b[A\n",
            "\n",
            "  3%|▎         | 118/3486 [01:04<23:12,  2.42it/s]\u001b[A\u001b[A"
          ],
          "name": "stderr"
        },
        {
          "output_type": "stream",
          "text": [
            "(4140, 136)\n",
            "136\n",
            "1952\n",
            "(3300, 119)\n",
            "119\n",
            "1953\n",
            "(780, 73)\n",
            "73\n",
            "1956\n",
            "(2106, 93)\n",
            "93\n",
            "1957\n",
            "(1200, 80)\n",
            "80\n",
            "1959\n",
            "(900, 60)\n",
            "60\n",
            "1960\n",
            "(432, 48)\n",
            "48\n",
            "1961\n",
            "(504, 50)\n",
            "50\n",
            "1962\n",
            "(2058, 91)\n",
            "91\n",
            "1963\n",
            "(3120, 112)\n",
            "112\n",
            "1964\n",
            "(2208, 94)\n",
            "94\n",
            "1965\n"
          ],
          "name": "stdout"
        },
        {
          "output_type": "stream",
          "text": [
            "\n",
            "\n",
            "  4%|▎         | 123/3486 [01:04<16:34,  3.38it/s]\u001b[A\u001b[A\n",
            "\n",
            "  4%|▎         | 128/3486 [01:04<11:55,  4.69it/s]\u001b[A\u001b[A"
          ],
          "name": "stderr"
        },
        {
          "output_type": "stream",
          "text": [
            "(3330, 127)\n",
            "127\n",
            "1966\n",
            "(1008, 64)\n",
            "64\n",
            "1967\n",
            "(1788, 136)\n",
            "136\n",
            "1973\n",
            "(624, 61)\n",
            "61\n",
            "1977\n",
            "(648, 54)\n",
            "54\n",
            "1980\n",
            "(864, 84)\n",
            "84\n",
            "1983\n",
            "(6480, 162)\n",
            "162\n",
            "1984\n",
            "(540, 69)\n",
            "69\n",
            "1985\n",
            "(432, 48)\n",
            "48\n",
            "1988\n",
            "(450, 55)\n",
            "55\n",
            "1990\n",
            "(432, 48)\n",
            "48\n",
            "1992\n",
            "(4275, 140)\n",
            "140\n",
            "1993\n",
            "(585, 58)\n",
            "58\n",
            "1995\n",
            "(11880, 309)\n"
          ],
          "name": "stdout"
        },
        {
          "output_type": "stream",
          "text": [
            "\n",
            "\n",
            "  4%|▍         | 133/3486 [01:04<09:15,  6.04it/s]\u001b[A\u001b[A\n",
            "\n",
            "  4%|▍         | 137/3486 [01:04<06:54,  8.09it/s]\u001b[A\u001b[A"
          ],
          "name": "stderr"
        },
        {
          "output_type": "stream",
          "text": [
            "309\n",
            "1998\n",
            "(2208, 94)\n",
            "94\n",
            "2000\n",
            "(1512, 78)\n",
            "78\n",
            "2001\n",
            "(4440, 134)\n",
            "134\n",
            "2002\n",
            "(2400, 100)\n",
            "100\n",
            "2003\n",
            "(2385, 98)\n",
            "98\n",
            "2010\n",
            "(2448, 106)\n",
            "106\n",
            "2011\n",
            "(3675, 124)\n",
            "124\n",
            "2012\n",
            "(540, 57)\n",
            "57\n",
            "2015\n",
            "(1440, 84)"
          ],
          "name": "stdout"
        },
        {
          "output_type": "stream",
          "text": [
            "\n",
            "\n",
            "  4%|▍         | 142/3486 [01:04<05:10, 10.77it/s]\u001b[A\u001b[A"
          ],
          "name": "stderr"
        },
        {
          "output_type": "stream",
          "text": [
            "\n",
            "84\n",
            "2016\n",
            "(2340, 99)\n",
            "99\n",
            "2017\n",
            "(3060, 111)\n",
            "111\n",
            "2019\n",
            "(14105, 438)\n"
          ],
          "name": "stdout"
        },
        {
          "output_type": "stream",
          "text": [
            "\n",
            "\n",
            "  4%|▍         | 146/3486 [01:05<05:25, 10.25it/s]\u001b[A\u001b[A"
          ],
          "name": "stderr"
        },
        {
          "output_type": "stream",
          "text": [
            "438\n",
            "2020\n",
            "(2880, 108)\n",
            "108\n",
            "2023\n",
            "(17730, 439)\n"
          ],
          "name": "stdout"
        },
        {
          "output_type": "stream",
          "text": [
            "\n",
            "\n",
            "  4%|▍         | 150/3486 [01:05<06:07,  9.08it/s]\u001b[A\u001b[A"
          ],
          "name": "stderr"
        },
        {
          "output_type": "stream",
          "text": [
            "439\n",
            "2025\n",
            "(5490, 151)\n",
            "151\n",
            "2026\n",
            "(1968, 89)\n",
            "89\n",
            "2027\n",
            "(2484, 131)\n",
            "131\n",
            "2028\n",
            "(360, 46)\n",
            "46\n",
            "2029\n",
            "(360, 53)\n",
            "53\n",
            "2031\n",
            "(9396, 297)\n"
          ],
          "name": "stdout"
        },
        {
          "output_type": "stream",
          "text": [
            "\n",
            "\n",
            "  4%|▍         | 153/3486 [01:06<05:18, 10.46it/s]\u001b[A\u001b[A\n",
            "\n",
            "  4%|▍         | 156/3486 [01:06<04:21, 12.72it/s]\u001b[A\u001b[A"
          ],
          "name": "stderr"
        },
        {
          "output_type": "stream",
          "text": [
            "297\n",
            "2032\n",
            "(3150, 117)\n",
            "117\n",
            "2033\n",
            "(2400, 166)\n",
            "166\n",
            "2034\n",
            "(4500, 135)\n",
            "135\n",
            "2035\n",
            "(1620, 87)\n",
            "87\n",
            "2036\n",
            "(2385, 98)\n",
            "98\n",
            "2037\n",
            "(2295, 96)\n",
            "96\n",
            "2039\n",
            "(1536, 80)\n"
          ],
          "name": "stdout"
        },
        {
          "output_type": "stream",
          "text": [
            "\n",
            "\n",
            "  5%|▍         | 161/3486 [01:06<03:25, 16.19it/s]\u001b[A\u001b[A\n",
            "\n",
            "  5%|▍         | 165/3486 [01:06<02:51, 19.32it/s]\u001b[A\u001b[A"
          ],
          "name": "stderr"
        },
        {
          "output_type": "stream",
          "text": [
            "80\n",
            "2040\n",
            "(2352, 97)\n",
            "97\n",
            "2041\n",
            "(1980, 89)\n",
            "89\n",
            "2043\n",
            "(2040, 94)\n",
            "94\n",
            "2045\n",
            "(1665, 82)\n",
            "82\n",
            "2047\n",
            "(5775, 152)\n",
            "152\n",
            "2050\n",
            "(1380, 83)\n",
            "83\n",
            "2052\n",
            "(675, 60)\n",
            "60\n",
            "2056\n",
            "(15, 16)\n",
            "16\n",
            "2060\n",
            "(540, 57)\n",
            "57\n",
            "2062\n",
            "(720, 61)\n",
            "61\n",
            "2063\n",
            "(765, 62)\n"
          ],
          "name": "stdout"
        },
        {
          "output_type": "stream",
          "text": [
            "\n",
            "\n",
            "  5%|▍         | 174/3486 [01:06<02:11, 25.15it/s]\u001b[A\u001b[A"
          ],
          "name": "stderr"
        },
        {
          "output_type": "stream",
          "text": [
            "62\n",
            "2064\n",
            "(720, 54)\n",
            "54\n",
            "2066\n",
            "(468, 49)\n",
            "49\n",
            "2068\n",
            "(1890, 87)\n",
            "87\n",
            "2069\n",
            "(1920, 92)\n",
            "92\n",
            "2071\n",
            "(864, 60)\n",
            "60\n",
            "2073\n",
            "(945, 66)\n",
            "66\n",
            "2075\n",
            "(3000, 115)\n",
            "115\n",
            "2076\n",
            "(720, 56)\n",
            "56\n",
            "2077\n",
            "(50868, 1108)\n"
          ],
          "name": "stdout"
        },
        {
          "output_type": "stream",
          "text": [
            "\n",
            "\n",
            "  5%|▌         | 180/3486 [01:10<12:39,  4.36it/s]\u001b[A\u001b[A\n",
            "\n",
            "  5%|▌         | 184/3486 [01:10<09:18,  5.91it/s]\u001b[A\u001b[A"
          ],
          "name": "stderr"
        },
        {
          "output_type": "stream",
          "text": [
            "1108\n",
            "2078\n",
            "(4410, 139)\n",
            "139\n",
            "2082\n",
            "(2340, 99)\n",
            "99\n",
            "2083\n",
            "(1395, 76)\n",
            "76\n",
            "2084\n",
            "(2625, 110)\n",
            "110\n",
            "2085\n",
            "(1170, 71)\n",
            "71\n",
            "2086\n",
            "(1560, 86)\n",
            "86\n",
            "2087\n",
            "(2355, 121)\n"
          ],
          "name": "stdout"
        },
        {
          "output_type": "stream",
          "text": [
            "\n",
            "\n",
            "  5%|▌         | 189/3486 [01:10<06:50,  8.03it/s]\u001b[A\u001b[A"
          ],
          "name": "stderr"
        },
        {
          "output_type": "stream",
          "text": [
            "121\n",
            "2088\n",
            "(3528, 121)\n",
            "121\n",
            "2091\n",
            "(432, 57)\n",
            "57\n",
            "2093\n",
            "(1500, 85)\n",
            "85\n",
            "2098\n",
            "(840, 74)\n",
            "74\n",
            "2099\n",
            "(1530, 107)\n",
            "107\n",
            "2101\n",
            "(1140, 79)\n",
            "79\n",
            "2105\n",
            "(1125, 70)\n",
            "70\n",
            "2110\n",
            "(540, 57)\n",
            "57\n",
            "2111\n",
            "(9600, 280)\n"
          ],
          "name": "stdout"
        },
        {
          "output_type": "stream",
          "text": [
            "\n",
            "\n",
            "  6%|▌         | 196/3486 [01:10<05:21, 10.24it/s]\u001b[A\u001b[A\n",
            "\n",
            "  6%|▌         | 200/3486 [01:11<04:28, 12.24it/s]\u001b[A\u001b[A"
          ],
          "name": "stderr"
        },
        {
          "output_type": "stream",
          "text": [
            "280\n",
            "2112\n",
            "(7164, 235)\n",
            "235\n",
            "2113\n",
            "(780, 73)\n",
            "73\n",
            "2114\n",
            "(3600, 122)\n",
            "122\n",
            "2116\n",
            "(2280, 98)\n",
            "98\n",
            "2117\n"
          ],
          "name": "stdout"
        },
        {
          "output_type": "stream",
          "text": [
            "\n",
            "\n",
            "  6%|▌         | 204/3486 [01:11<03:59, 13.68it/s]\u001b[A\u001b[A"
          ],
          "name": "stderr"
        },
        {
          "output_type": "stream",
          "text": [
            "(6195, 164)\n",
            "164\n",
            "2123\n",
            "(495, 56)\n",
            "56\n",
            "2127\n",
            "(675, 60)\n",
            "60\n",
            "2128\n",
            "(8775, 247)\n",
            "247\n",
            "2130\n",
            "(1800, 90)\n",
            "90\n",
            "2131\n"
          ],
          "name": "stdout"
        },
        {
          "output_type": "stream",
          "text": [
            "\n",
            "\n",
            "  6%|▌         | 209/3486 [01:11<03:08, 17.36it/s]\u001b[A\u001b[A"
          ],
          "name": "stderr"
        },
        {
          "output_type": "stream",
          "text": [
            "(2844, 115)\n",
            "115\n",
            "2132\n",
            "(765, 62)\n",
            "62\n",
            "2134\n",
            "(1560, 86)\n",
            "86\n",
            "2135\n",
            "(840, 61)\n",
            "61\n",
            "2136\n",
            "(3528, 121)\n",
            "121\n",
            "2147\n",
            "(19305, 534)\n",
            "534\n",
            "2148\n",
            "(1890, 87)\n",
            "87\n",
            "2151\n",
            "(140220, 1251)\n"
          ],
          "name": "stdout"
        },
        {
          "output_type": "stream",
          "text": [
            "\n",
            "\n",
            "  6%|▌         | 209/3486 [01:22<03:08, 17.36it/s]\u001b[A\u001b[A\n",
            "\n",
            "  6%|▌         | 213/3486 [01:24<55:42,  1.02s/it]\u001b[A\u001b[A"
          ],
          "name": "stderr"
        },
        {
          "output_type": "stream",
          "text": [
            "1251\n",
            "2153\n",
            "(3060, 124)\n",
            "124\n",
            "2154\n",
            "(1485, 78)\n",
            "78\n",
            "2155\n",
            "(18576, 552)\n"
          ],
          "name": "stdout"
        },
        {
          "output_type": "stream",
          "text": [
            "\n",
            "\n",
            "  6%|▌         | 216/3486 [01:25<42:24,  1.28it/s]\u001b[A\u001b[A"
          ],
          "name": "stderr"
        },
        {
          "output_type": "stream",
          "text": [
            "552\n",
            "2156\n",
            "(6930, 167)\n",
            "167\n",
            "2158\n",
            "(21801, 598)\n"
          ],
          "name": "stdout"
        },
        {
          "output_type": "stream",
          "text": [
            "\n",
            "\n",
            "  6%|▋         | 218/3486 [01:26<36:44,  1.48it/s]\u001b[A\u001b[A\n",
            "\n",
            "  6%|▋         | 222/3486 [01:26<26:06,  2.08it/s]\u001b[A\u001b[A"
          ],
          "name": "stderr"
        },
        {
          "output_type": "stream",
          "text": [
            "598\n",
            "2159\n",
            "(2016, 90)\n",
            "90\n",
            "2161\n",
            "(4032, 132)\n",
            "132\n",
            "2162\n",
            "(1860, 91)\n",
            "91\n",
            "2163\n",
            "(2070, 113)\n",
            "113\n",
            "2164\n",
            "(27900, 665)\n",
            "665\n",
            "2165\n",
            "(19149, 530)\n"
          ],
          "name": "stdout"
        },
        {
          "output_type": "stream",
          "text": [
            "\n",
            "\n",
            "  6%|▋         | 224/3486 [01:27<31:26,  1.73it/s]\u001b[A\u001b[A"
          ],
          "name": "stderr"
        },
        {
          "output_type": "stream",
          "text": [
            "530\n",
            "2166\n",
            "(187812, 1481)\n"
          ],
          "name": "stdout"
        },
        {
          "output_type": "stream",
          "text": [
            "\n",
            "\n",
            "  6%|▋         | 225/3486 [01:47<5:39:32,  6.25s/it]\u001b[A\u001b[A\n",
            "\n",
            "  7%|▋         | 231/3486 [01:47<3:57:31,  4.38s/it]\u001b[A\u001b[A"
          ],
          "name": "stderr"
        },
        {
          "output_type": "stream",
          "text": [
            "1481\n",
            "2167\n",
            "(450, 55)\n",
            "55\n",
            "2168\n",
            "(720, 61)\n",
            "61\n",
            "2169\n",
            "(450, 55)\n",
            "55\n",
            "2172\n",
            "(3330, 127)\n",
            "127\n",
            "2174\n",
            "(2205, 94)\n",
            "94\n",
            "2175\n",
            "(1530, 79)\n",
            "79\n",
            "2177\n",
            "(720, 72)\n",
            "72\n",
            "2178\n",
            "(1890, 87)\n",
            "87\n",
            "2179\n",
            "(3690, 131)\n",
            "131\n",
            "2180\n",
            "(45318, 1121)\n"
          ],
          "name": "stdout"
        },
        {
          "output_type": "stream",
          "text": [
            "\n",
            "\n",
            "  7%|▋         | 235/3486 [01:51<3:01:43,  3.35s/it]\u001b[A\u001b[A"
          ],
          "name": "stderr"
        },
        {
          "output_type": "stream",
          "text": [
            "1121\n",
            "2181\n",
            "(36360, 1046)\n",
            "1046\n",
            "2182\n",
            "(19710, 483)\n"
          ],
          "name": "stdout"
        },
        {
          "output_type": "stream",
          "text": [
            "\n",
            "\n",
            "  7%|▋         | 237/3486 [01:54<2:31:52,  2.80s/it]\u001b[A\u001b[A\n",
            "\n",
            "  7%|▋         | 240/3486 [01:54<1:46:52,  1.98s/it]\u001b[A\u001b[A"
          ],
          "name": "stderr"
        },
        {
          "output_type": "stream",
          "text": [
            "483\n",
            "2183\n",
            "(4032, 128)\n",
            "128\n",
            "2184\n",
            "(3870, 133)\n",
            "133\n",
            "2185\n",
            "(3600, 120)\n",
            "120\n",
            "2188\n",
            "(21208, 526)\n",
            "526\n",
            "2189\n",
            "(25380, 609)\n"
          ],
          "name": "stdout"
        },
        {
          "output_type": "stream",
          "text": [
            "\n",
            "\n",
            "  7%|▋         | 242/3486 [01:56<1:29:00,  1.65s/it]\u001b[A\u001b[A\n",
            "\n",
            "  7%|▋         | 247/3486 [01:56<1:02:32,  1.16s/it]\u001b[A\u001b[A"
          ],
          "name": "stderr"
        },
        {
          "output_type": "stream",
          "text": [
            "609\n",
            "2191\n",
            "(792, 83)\n",
            "83\n",
            "2192\n",
            "(4320, 132)\n",
            "132\n",
            "2194\n",
            "(1008, 64)\n",
            "64\n",
            "2195\n",
            "(1386, 75)\n",
            "75\n",
            "2196\n",
            "(828, 59)\n",
            "59\n",
            "2197\n",
            "(450, 55)\n",
            "55\n",
            "2199\n",
            "(2400, 98)\n",
            "98\n",
            "2200\n",
            "(1725, 98)\n",
            "98\n",
            "2201\n",
            "(2100, 165)\n"
          ],
          "name": "stdout"
        },
        {
          "output_type": "stream",
          "text": [
            "\n",
            "\n",
            "  7%|▋         | 251/3486 [01:56<44:08,  1.22it/s]  \u001b[A\u001b[A\n",
            "\n",
            "  7%|▋         | 256/3486 [01:56<31:13,  1.72it/s]\u001b[A\u001b[A"
          ],
          "name": "stderr"
        },
        {
          "output_type": "stream",
          "text": [
            "165\n",
            "2205\n",
            "(2250, 95)\n",
            "95\n",
            "2206\n",
            "(3510, 129)\n",
            "129\n",
            "2207\n",
            "(1530, 79)\n",
            "79\n",
            "2208\n",
            "(768, 64)\n",
            "64\n",
            "2209\n",
            "(2940, 109)\n",
            "109\n",
            "2210\n",
            "(384, 56)\n",
            "56\n",
            "2211\n",
            "(252, 43)\n",
            "43\n",
            "2212\n",
            "(324, 45)\n",
            "45\n",
            "2213\n",
            "(2340, 99)\n",
            "99\n",
            "2214\n",
            "(660, 62)\n",
            "62\n",
            "2216\n",
            "(756, 57)\n",
            "57\n",
            "2217\n"
          ],
          "name": "stdout"
        },
        {
          "output_type": "stream",
          "text": [
            "\n",
            "\n",
            "  8%|▊         | 263/3486 [01:56<22:04,  2.43it/s]\u001b[A\u001b[A"
          ],
          "name": "stderr"
        },
        {
          "output_type": "stream",
          "text": [
            "(4410, 139)\n",
            "139\n",
            "2218\n",
            "(1740, 89)\n",
            "89\n",
            "2222\n",
            "(2592, 102)\n",
            "102\n",
            "2223\n",
            "(2208, 94)\n",
            "94\n",
            "2225\n",
            "(12288, 304)\n"
          ],
          "name": "stdout"
        },
        {
          "output_type": "stream",
          "text": [
            "\n",
            "\n",
            "  8%|▊         | 268/3486 [01:56<16:32,  3.24it/s]\u001b[A\u001b[A"
          ],
          "name": "stderr"
        },
        {
          "output_type": "stream",
          "text": [
            "304\n",
            "2227\n",
            "(3744, 135)\n",
            "135\n",
            "2228\n",
            "(432, 48)\n",
            "48\n",
            "2231\n",
            "(3060, 124)\n",
            "124\n",
            "2232\n",
            "(34128, 759)\n"
          ],
          "name": "stdout"
        },
        {
          "output_type": "stream",
          "text": [
            "\n",
            "\n",
            "  8%|▊         | 272/3486 [01:58<18:23,  2.91it/s]\u001b[A\u001b[A\n",
            "\n",
            "  8%|▊         | 277/3486 [01:58<13:12,  4.05it/s]\u001b[A\u001b[A"
          ],
          "name": "stderr"
        },
        {
          "output_type": "stream",
          "text": [
            "759\n",
            "2235\n",
            "(3960, 133)\n",
            "133\n",
            "2236\n",
            "(4500, 135)\n",
            "135\n",
            "2237\n",
            "(2640, 104)\n",
            "104\n",
            "2238\n",
            "(216, 42)\n",
            "42\n",
            "2239\n",
            "(216, 42)\n",
            "42\n",
            "2242\n",
            "(2340, 99)\n",
            "99\n",
            "2243\n",
            "(2790, 121)\n",
            "121\n",
            "2244\n",
            "(4500, 135)\n",
            "135\n",
            "2245\n",
            "(4590, 141)\n",
            "141\n",
            "2246\n",
            "(13320, 341)\n"
          ],
          "name": "stdout"
        },
        {
          "output_type": "stream",
          "text": [
            "\n",
            "\n",
            "  8%|▊         | 281/3486 [01:59<10:48,  4.94it/s]\u001b[A\u001b[A"
          ],
          "name": "stderr"
        },
        {
          "output_type": "stream",
          "text": [
            "341\n",
            "2247\n",
            "(3915, 132)\n",
            "132\n",
            "2248\n",
            "(20088, 594)\n"
          ],
          "name": "stdout"
        },
        {
          "output_type": "stream",
          "text": [
            "\n",
            "\n",
            "  8%|▊         | 284/3486 [01:59<11:59,  4.45it/s]\u001b[A\u001b[A"
          ],
          "name": "stderr"
        },
        {
          "output_type": "stream",
          "text": [
            "594\n",
            "2250\n",
            "(1170, 71)\n",
            "71\n",
            "2251\n",
            "(12600, 355)\n"
          ],
          "name": "stdout"
        },
        {
          "output_type": "stream",
          "text": [
            "\n",
            "\n",
            "  8%|▊         | 286/3486 [02:00<11:01,  4.84it/s]\u001b[A\u001b[A\n",
            "\n"
          ],
          "name": "stderr"
        },
        {
          "output_type": "stream",
          "text": [
            "355\n",
            "2254\n",
            "(5940, 156)\n",
            "156\n",
            "2256\n",
            "(864, 60)\n",
            "60\n",
            "2257\n",
            "(4950, 145)\n",
            "145\n",
            "2258\n",
            "(180, 41)\n",
            "41\n",
            "2260\n",
            "(396, 47)\n",
            "47\n",
            "2261\n",
            "(5544, 190)\n",
            "190\n"
          ],
          "name": "stdout"
        },
        {
          "output_type": "stream",
          "text": [
            "\r  8%|▊         | 291/3486 [02:00<08:09,  6.53it/s]\u001b[A\u001b[A\n",
            "\n",
            "  8%|▊         | 295/3486 [02:00<06:13,  8.54it/s]\u001b[A\u001b[A"
          ],
          "name": "stderr"
        },
        {
          "output_type": "stream",
          "text": [
            "2262\n",
            "(1200, 73)\n",
            "73\n",
            "2263\n",
            "(3300, 115)\n",
            "115\n",
            "2264\n",
            "(432, 48)\n",
            "48\n",
            "2265\n",
            "(5460, 212)\n",
            "212\n",
            "2266\n",
            "(2160, 96)\n",
            "96\n",
            "2267\n",
            "(1440, 84)\n",
            "84\n",
            "2268\n",
            "(4860, 153)\n"
          ],
          "name": "stdout"
        },
        {
          "output_type": "stream",
          "text": [
            "\n",
            "\n",
            "  9%|▊         | 298/3486 [02:00<04:53, 10.87it/s]\u001b[A\u001b[A"
          ],
          "name": "stderr"
        },
        {
          "output_type": "stream",
          "text": [
            "153\n",
            "2269\n",
            "(1470, 77)\n",
            "77\n",
            "2270\n",
            "(1920, 92)\n",
            "92\n",
            "2271\n",
            "(360, 53)\n",
            "53\n",
            "2273\n",
            "(1080, 176)\n",
            "176\n",
            "2274\n",
            "(21240, 517)\n"
          ],
          "name": "stdout"
        },
        {
          "output_type": "stream",
          "text": [
            "\n",
            "\n",
            "  9%|▊         | 303/3486 [02:01<05:51,  9.05it/s]\u001b[A\u001b[A"
          ],
          "name": "stderr"
        },
        {
          "output_type": "stream",
          "text": [
            "517\n",
            "2275\n",
            "(13500, 345)\n"
          ],
          "name": "stdout"
        },
        {
          "output_type": "stream",
          "text": [
            "\n",
            "\n",
            "  9%|▊         | 305/3486 [02:01<06:54,  7.68it/s]\u001b[A\u001b[A\n",
            "\n",
            "  9%|▉         | 310/3486 [02:01<05:11, 10.20it/s]\u001b[A\u001b[A"
          ],
          "name": "stderr"
        },
        {
          "output_type": "stream",
          "text": [
            "345\n",
            "2276\n",
            "(3690, 131)\n",
            "131\n",
            "2277\n",
            "(3225, 118)\n",
            "118\n",
            "2278\n",
            "(2340, 97)\n",
            "97\n",
            "2279\n",
            "(1080, 78)\n",
            "78\n",
            "2280\n",
            "(1728, 84)\n",
            "84\n",
            "2281\n",
            "(1512, 93)\n",
            "93\n",
            "2282\n",
            "(3450, 121)\n",
            "121\n",
            "2283\n"
          ],
          "name": "stdout"
        },
        {
          "output_type": "stream",
          "text": [
            "\n",
            "\n",
            "  9%|▉         | 313/3486 [02:02<04:10, 12.68it/s]\u001b[A\u001b[A\n",
            "\n",
            "  9%|▉         | 319/3486 [02:02<03:12, 16.47it/s]\u001b[A\u001b[A"
          ],
          "name": "stderr"
        },
        {
          "output_type": "stream",
          "text": [
            "(4125, 130)\n",
            "130\n",
            "2284\n",
            "(900, 75)\n",
            "75\n",
            "2285\n",
            "(1740, 89)\n",
            "89\n",
            "2286\n",
            "(2625, 110)\n",
            "110\n",
            "2287\n",
            "(2775, 112)\n",
            "112\n",
            "2288\n",
            "(540, 57)\n",
            "57\n",
            "2289\n",
            "(324, 45)\n",
            "45\n",
            "2291\n",
            "(1260, 71)\n",
            "71\n",
            "2293\n",
            "(1368, 91)\n",
            "91\n",
            "2295\n",
            "(3480, 118)\n"
          ],
          "name": "stdout"
        },
        {
          "output_type": "stream",
          "text": [
            "\n",
            "\n",
            "  9%|▉         | 323/3486 [02:02<03:06, 16.92it/s]\u001b[A\u001b[A"
          ],
          "name": "stderr"
        },
        {
          "output_type": "stream",
          "text": [
            "118\n",
            "2296\n",
            "(2280, 98)\n",
            "98\n",
            "2297\n",
            "(8955, 244)\n",
            "244\n",
            "2300\n",
            "(3000, 115)\n",
            "115\n",
            "2301\n",
            "(21015, 512)\n",
            "512\n",
            "2303\n",
            "(11412, 353)\n"
          ],
          "name": "stdout"
        },
        {
          "output_type": "stream",
          "text": [
            "\n",
            "\n",
            "  9%|▉         | 326/3486 [02:03<07:05,  7.43it/s]\u001b[A\u001b[A\n",
            "\n",
            " 10%|▉         | 332/3486 [02:03<05:18,  9.90it/s]\u001b[A\u001b[A"
          ],
          "name": "stderr"
        },
        {
          "output_type": "stream",
          "text": [
            "353\n",
            "2304\n",
            "(3900, 127)\n",
            "127\n",
            "2305\n",
            "(576, 60)\n",
            "60\n",
            "2306\n",
            "(396, 47)\n",
            "47\n",
            "2307\n",
            "(1344, 76)\n",
            "76\n",
            "2308\n",
            "(1368, 74)\n",
            "74\n",
            "2310\n",
            "(5250, 145)\n",
            "145\n",
            "2311\n",
            "(216, 42)\n",
            "42\n",
            "2312\n",
            "(252, 43)\n",
            "43\n",
            "2313\n",
            "(396, 47)\n",
            "47\n",
            "2314\n",
            "(18216, 542)\n"
          ],
          "name": "stdout"
        },
        {
          "output_type": "stream",
          "text": [
            "\n",
            "\n",
            " 10%|▉         | 336/3486 [02:04<06:21,  8.25it/s]\u001b[A\u001b[A"
          ],
          "name": "stderr"
        },
        {
          "output_type": "stream",
          "text": [
            "542\n",
            "2315\n",
            "(8360, 234)\n",
            "234\n",
            "2316\n",
            "(4572, 163)\n",
            "163\n",
            "2317\n"
          ],
          "name": "stdout"
        },
        {
          "output_type": "stream",
          "text": [
            "\n",
            "\n",
            " 10%|▉         | 339/3486 [02:04<05:30,  9.52it/s]\u001b[A\u001b[A\n",
            "\n",
            " 10%|▉         | 345/3486 [02:04<04:09, 12.60it/s]\u001b[A\u001b[A"
          ],
          "name": "stderr"
        },
        {
          "output_type": "stream",
          "text": [
            "(684, 55)\n",
            "55\n",
            "2318\n",
            "(1470, 77)\n",
            "77\n",
            "2319\n",
            "(1152, 72)\n",
            "72\n",
            "2322\n",
            "(2760, 106)\n",
            "106\n",
            "2323\n",
            "(1035, 68)\n",
            "68\n",
            "2324\n",
            "(816, 65)\n",
            "65\n",
            "2325\n",
            "(2952, 118)\n",
            "118\n",
            "2326\n",
            "(2628, 109)\n",
            "109\n",
            "2331\n",
            "(1710, 83)\n",
            "83\n",
            "2332\n",
            "(432, 48)\n",
            "48\n",
            "2333\n",
            "(1035, 68)\n",
            "68\n",
            "2334\n",
            "(675, 60)\n"
          ],
          "name": "stdout"
        },
        {
          "output_type": "stream",
          "text": [
            "\n",
            "\n",
            " 10%|█         | 352/3486 [02:04<03:08, 16.65it/s]\u001b[A\u001b[A"
          ],
          "name": "stderr"
        },
        {
          "output_type": "stream",
          "text": [
            "60\n",
            "2335\n",
            "(384, 40)\n",
            "40\n",
            "2336\n",
            "(1392, 77)\n",
            "77\n",
            "2337\n",
            "(960, 76)\n",
            "76\n",
            "2340\n",
            "(480, 68)\n",
            "68\n",
            "2343\n",
            "(3525, 122)\n",
            "122\n",
            "2344\n",
            "(3750, 125)\n",
            "125\n",
            "2345\n",
            "(8568, 274)\n"
          ],
          "name": "stdout"
        },
        {
          "output_type": "stream",
          "text": [
            "\n",
            "\n",
            " 10%|█         | 357/3486 [02:04<02:53, 18.01it/s]\u001b[A\u001b[A\n",
            "\n",
            " 10%|█         | 361/3486 [02:04<02:27, 21.19it/s]\u001b[A\u001b[A"
          ],
          "name": "stderr"
        },
        {
          "output_type": "stream",
          "text": [
            "274\n",
            "2346\n",
            "(5472, 188)\n",
            "188\n",
            "2347\n",
            "(480, 58)\n",
            "58\n",
            "2348\n",
            "(1080, 78)\n",
            "78\n",
            "2350\n",
            "(450, 55)\n",
            "55\n",
            "2351\n",
            "(900, 65)\n",
            "65\n",
            "2352\n",
            "(684, 55)\n",
            "55\n",
            "2353\n",
            "(2124, 95)\n",
            "95\n",
            "2354\n"
          ],
          "name": "stdout"
        },
        {
          "output_type": "stream",
          "text": [
            "\n",
            "\n",
            " 10%|█         | 365/3486 [02:05<02:37, 19.80it/s]\u001b[A\u001b[A"
          ],
          "name": "stderr"
        },
        {
          "output_type": "stream",
          "text": [
            "(11025, 290)\n",
            "290\n",
            "2355\n",
            "(6840, 197)\n"
          ],
          "name": "stdout"
        },
        {
          "output_type": "stream",
          "text": [
            "\n",
            "\n",
            " 11%|█         | 368/3486 [02:05<02:24, 21.60it/s]\u001b[A\u001b[A\n",
            "\n",
            " 11%|█         | 373/3486 [02:05<02:01, 25.70it/s]\u001b[A\u001b[A"
          ],
          "name": "stderr"
        },
        {
          "output_type": "stream",
          "text": [
            "197\n",
            "2358\n",
            "(816, 65)\n",
            "65\n",
            "2359\n",
            "(360, 46)\n",
            "46\n",
            "2360\n",
            "(1440, 84)\n",
            "84\n",
            "2361\n",
            "(360, 66)\n",
            "66\n",
            "2362\n",
            "(1440, 106)\n",
            "106\n",
            "2364\n",
            "(1800, 90)\n",
            "90\n",
            "2366\n",
            "(1740, 89)\n",
            "89\n",
            "2367\n",
            "(468, 51)\n",
            "51\n",
            "2368\n",
            "(1935, 88)\n",
            "88\n",
            "2370\n",
            "(2064, 91)\n",
            "91\n",
            "2371\n",
            "(3720, 151)\n"
          ],
          "name": "stdout"
        },
        {
          "output_type": "stream",
          "text": [
            "\n",
            "\n",
            " 11%|█         | 378/3486 [02:05<01:46, 29.27it/s]\u001b[A\u001b[A\n",
            "\n",
            " 11%|█         | 382/3486 [02:05<01:42, 30.32it/s]\u001b[A\u001b[A"
          ],
          "name": "stderr"
        },
        {
          "output_type": "stream",
          "text": [
            "151\n",
            "2372\n",
            "(1680, 88)\n",
            "88\n",
            "2374\n",
            "(1500, 85)\n",
            "85\n",
            "2375\n",
            "(990, 67)\n",
            "67\n",
            "2376\n",
            "(3312, 118)\n",
            "118\n",
            "2377\n",
            "(4500, 135)\n",
            "135\n",
            "2378\n",
            "(780, 73)\n",
            "73\n",
            "2379\n"
          ],
          "name": "stdout"
        },
        {
          "output_type": "stream",
          "text": [
            "\n",
            "\n",
            " 11%|█         | 386/3486 [02:05<02:12, 23.34it/s]"
          ],
          "name": "stderr"
        },
        {
          "output_type": "stream",
          "text": [
            "(10710, 283)\n",
            "283\n",
            "2380\n",
            "(900, 65)\n",
            "65\n",
            "2384\n",
            "(4176, 152)\n",
            "152\n"
          ],
          "name": "stdout"
        },
        {
          "output_type": "stream",
          "text": [
            "\u001b[A\u001b[A\n",
            "\n",
            " 11%|█▏        | 395/3486 [02:05<01:44, 29.65it/s]\u001b[A\u001b[A"
          ],
          "name": "stderr"
        },
        {
          "output_type": "stream",
          "text": [
            "2385\n",
            "(1508, 81)\n",
            "81\n",
            "2388\n",
            "(1440, 76)\n",
            "76\n",
            "2389\n",
            "(630, 59)\n",
            "59\n",
            "2390\n",
            "(1170, 71)\n",
            "71\n",
            "2392\n",
            "(384, 56)\n",
            "56\n",
            "2393\n",
            "(540, 51)\n",
            "51\n",
            "2395\n",
            "(504, 50)\n",
            "50\n",
            "2398\n",
            "(1000, 70)\n",
            "70\n",
            "2400\n",
            "(828, 59)\n",
            "59\n",
            "2403\n",
            "(1836, 87)\n",
            "87\n",
            "2404\n",
            "(1620, 87)\n",
            "87\n",
            "2405\n",
            "(585, 58)\n",
            "58\n",
            "2406\n",
            "(4725, 150)\n",
            "150\n"
          ],
          "name": "stdout"
        },
        {
          "output_type": "stream",
          "text": [
            "\n",
            "\n",
            " 11%|█▏        | 400/3486 [02:06<01:35, 32.39it/s]\u001b[A\u001b[A\n",
            "\n",
            " 12%|█▏        | 405/3486 [02:06<01:32, 33.28it/s]\u001b[A\u001b[A"
          ],
          "name": "stderr"
        },
        {
          "output_type": "stream",
          "text": [
            "2414\n",
            "(900, 75)\n",
            "75\n",
            "2415\n",
            "(900, 65)\n",
            "65\n",
            "2419\n",
            "(5472, 188)\n",
            "188\n",
            "2420\n",
            "(1950, 103)\n",
            "103\n",
            "2421\n",
            "(1500, 85)\n",
            "85\n",
            "2422\n",
            "(600, 70)\n",
            "70\n",
            "2423\n",
            "(816, 65)\n",
            "65\n",
            "2424\n",
            "(11572, 307)\n",
            "307\n",
            "2425\n",
            "(450, 81)\n",
            "81\n",
            "2452\n",
            "(4248, 131)\n"
          ],
          "name": "stdout"
        },
        {
          "output_type": "stream",
          "text": [
            "\n",
            "\n",
            " 12%|█▏        | 410/3486 [02:06<02:01, 25.40it/s]\u001b[A\u001b[A\n",
            "\n",
            " 12%|█▏        | 416/3486 [02:06<01:41, 30.36it/s]\u001b[A\u001b[A"
          ],
          "name": "stderr"
        },
        {
          "output_type": "stream",
          "text": [
            "131\n",
            "2453\n",
            "(528, 46)\n",
            "46\n",
            "2460\n",
            "(576, 52)\n",
            "52\n",
            "2461\n",
            "(1020, 77)\n",
            "77\n",
            "2462\n",
            "(1500, 85)\n",
            "85\n",
            "2463\n",
            "(2664, 109)\n",
            "109\n",
            "2464\n",
            "(1740, 89)\n",
            "89\n",
            "2465\n",
            "(720, 72)\n",
            "72\n",
            "2467\n",
            "(1200, 80)\n",
            "80\n",
            "2468\n",
            "(2610, 119)\n",
            "119\n",
            "2472\n",
            "(29070, 691)\n"
          ],
          "name": "stdout"
        },
        {
          "output_type": "stream",
          "text": [
            "\n",
            "\n",
            " 12%|█▏        | 421/3486 [02:07<05:17,  9.64it/s]\u001b[A\u001b[A"
          ],
          "name": "stderr"
        },
        {
          "output_type": "stream",
          "text": [
            "691\n",
            "2473\n",
            "(3888, 144)\n",
            "144\n",
            "2475\n",
            "(1548, 79)\n",
            "79\n",
            "2479\n",
            "(12056, 319)\n",
            "319\n",
            "2481\n",
            "(2100, 95)\n",
            "95\n",
            "2506\n",
            "(46242, 1143)\n"
          ],
          "name": "stdout"
        },
        {
          "output_type": "stream",
          "text": [
            "\n",
            "\n",
            " 12%|█▏        | 424/3486 [02:11<21:30,  2.37it/s]\u001b[A\u001b[A"
          ],
          "name": "stderr"
        },
        {
          "output_type": "stream",
          "text": [
            "1143\n",
            "2512\n",
            "(5160, 204)\n",
            "204\n",
            "2521\n",
            "(2235, 119)\n",
            "119\n",
            "2522\n",
            "(5355, 276)\n"
          ],
          "name": "stdout"
        },
        {
          "output_type": "stream",
          "text": [
            "\n",
            "\n",
            " 12%|█▏        | 427/3486 [02:11<15:59,  3.19it/s]\u001b[A\u001b[A\n",
            "\n",
            " 12%|█▏        | 429/3486 [02:11<12:14,  4.16it/s]\u001b[A\u001b[A"
          ],
          "name": "stderr"
        },
        {
          "output_type": "stream",
          "text": [
            "276\n",
            "2523\n",
            "(5019, 260)\n",
            "260\n",
            "2524\n",
            "(4011, 212)\n",
            "212\n",
            "2525\n",
            "(540, 51)\n",
            "51\n",
            "2526\n",
            "(1824, 86)\n",
            "86\n",
            "2527\n",
            "(3675, 196)\n"
          ],
          "name": "stdout"
        },
        {
          "output_type": "stream",
          "text": [
            "\n",
            "\n",
            " 12%|█▏        | 432/3486 [02:11<09:10,  5.54it/s]\u001b[A\u001b[A\n",
            "\n",
            " 12%|█▏        | 435/3486 [02:11<07:00,  7.26it/s]\u001b[A\u001b[A"
          ],
          "name": "stderr"
        },
        {
          "output_type": "stream",
          "text": [
            "196\n",
            "2528\n",
            "(3087, 168)\n",
            "168\n",
            "2529\n",
            "(3600, 122)\n",
            "122\n",
            "2530\n",
            "(2400, 107)\n",
            "107\n",
            "2531\n",
            "(600, 70)\n",
            "70\n",
            "2532\n",
            "(2340, 116)\n",
            "116\n",
            "2533\n",
            "(3870, 133)\n",
            "133\n",
            "2534\n"
          ],
          "name": "stdout"
        },
        {
          "output_type": "stream",
          "text": [
            "\n",
            "\n",
            " 13%|█▎        | 439/3486 [02:12<05:21,  9.48it/s]\u001b[A\u001b[A"
          ],
          "name": "stderr"
        },
        {
          "output_type": "stream",
          "text": [
            "(3888, 126)\n",
            "126\n",
            "2535\n",
            "(24435, 588)\n"
          ],
          "name": "stdout"
        },
        {
          "output_type": "stream",
          "text": [
            "\n",
            "\n",
            " 13%|█▎        | 442/3486 [02:13<08:40,  5.85it/s]\u001b[A\u001b[A\n",
            "\n",
            " 13%|█▎        | 445/3486 [02:13<06:36,  7.67it/s]\u001b[A\u001b[A"
          ],
          "name": "stderr"
        },
        {
          "output_type": "stream",
          "text": [
            "588\n",
            "2537\n",
            "(4050, 135)\n",
            "135\n",
            "2538\n",
            "(1320, 82)\n",
            "82\n",
            "2539\n",
            "(2325, 106)\n",
            "106\n",
            "2547\n",
            "(4680, 138)\n",
            "138\n",
            "2548\n",
            "(2544, 101)\n",
            "101\n",
            "2554\n",
            "(4896, 172)\n",
            "172\n",
            "2555\n",
            "(1125, 90)\n",
            "90\n",
            "2556\n",
            "(22932, 627)\n"
          ],
          "name": "stdout"
        },
        {
          "output_type": "stream",
          "text": [
            "\n",
            "\n",
            " 13%|█▎        | 448/3486 [02:14<09:09,  5.53it/s]\u001b[A\u001b[A"
          ],
          "name": "stderr"
        },
        {
          "output_type": "stream",
          "text": [
            "627\n",
            "2557\n",
            "(14976, 452)\n"
          ],
          "name": "stdout"
        },
        {
          "output_type": "stream",
          "text": [
            "\n",
            "\n",
            " 13%|█▎        | 450/3486 [02:14<09:25,  5.37it/s]\u001b[A\u001b[A"
          ],
          "name": "stderr"
        },
        {
          "output_type": "stream",
          "text": [
            "452\n",
            "2558\n",
            "(1188, 69)\n",
            "69\n",
            "2562\n",
            "(28584, 830)\n"
          ],
          "name": "stdout"
        },
        {
          "output_type": "stream",
          "text": [
            "\n",
            "\n",
            " 13%|█▎        | 452/3486 [02:16<19:05,  2.65it/s]\u001b[A\u001b[A"
          ],
          "name": "stderr"
        },
        {
          "output_type": "stream",
          "text": [
            "830\n",
            "2567\n",
            "(6660, 221)\n",
            "221\n",
            "2573\n",
            "(396, 47)\n",
            "47\n",
            "2576\n",
            "(12672, 332)\n"
          ],
          "name": "stdout"
        },
        {
          "output_type": "stream",
          "text": [
            "\n",
            "\n",
            " 13%|█▎        | 454/3486 [02:16<15:29,  3.26it/s]\u001b[A\u001b[A\n",
            "\n",
            " 13%|█▎        | 455/3486 [02:16<12:30,  4.04it/s]\u001b[A\u001b[A"
          ],
          "name": "stderr"
        },
        {
          "output_type": "stream",
          "text": [
            "332\n",
            "2577\n",
            "<=2 categories\n",
            "2578\n",
            "(196308, 1534)\n"
          ],
          "name": "stdout"
        },
        {
          "output_type": "stream",
          "text": [
            "\n",
            "\n",
            " 13%|█▎        | 456/3486 [02:38<5:45:45,  6.85s/it]\u001b[A\u001b[A"
          ],
          "name": "stderr"
        },
        {
          "output_type": "stream",
          "text": [
            "1534\n",
            "2579\n",
            "(6120, 158)\n",
            "158\n",
            "2584\n",
            "(780, 73)\n",
            "73\n",
            "2585\n",
            "(6720, 202)\n"
          ],
          "name": "stdout"
        },
        {
          "output_type": "stream",
          "text": [
            "\n",
            "\n",
            " 13%|█▎        | 459/3486 [02:38<4:02:35,  4.81s/it]\u001b[A\u001b[A"
          ],
          "name": "stderr"
        },
        {
          "output_type": "stream",
          "text": [
            "202\n",
            "2586\n",
            "(3780, 132)\n",
            "132\n",
            "2592\n",
            "(16200, 405)\n"
          ],
          "name": "stdout"
        },
        {
          "output_type": "stream",
          "text": [
            "\n",
            "\n",
            " 13%|█▎        | 461/3486 [02:39<2:52:55,  3.43s/it]\u001b[A\u001b[A\n",
            "\n",
            " 13%|█▎        | 465/3486 [02:39<2:01:17,  2.41s/it]\u001b[A\u001b[A"
          ],
          "name": "stderr"
        },
        {
          "output_type": "stream",
          "text": [
            "405\n",
            "2607\n",
            "(540, 57)\n",
            "57\n",
            "2608\n",
            "(4500, 135)\n",
            "135\n",
            "2609\n",
            "(216, 42)\n",
            "42\n",
            "2610\n",
            "(2160, 249)\n",
            "249\n",
            "2611\n",
            "(2070, 278)\n",
            "278\n",
            "2613\n",
            "(2760, 106)\n",
            "106\n",
            "2619\n",
            "(1200, 80)\n",
            "80\n",
            "2620\n",
            "(18432, 548)\n"
          ],
          "name": "stdout"
        },
        {
          "output_type": "stream",
          "text": [
            "\n",
            "\n",
            " 13%|█▎        | 469/3486 [02:40<1:27:29,  1.74s/it]\u001b[A\u001b[A\n",
            "\n",
            " 14%|█▎        | 472/3486 [02:40<1:01:41,  1.23s/it]\u001b[A\u001b[A"
          ],
          "name": "stderr"
        },
        {
          "output_type": "stream",
          "text": [
            "548\n",
            "2627\n",
            "(6030, 179)\n",
            "179\n",
            "2629\n",
            "(2280, 98)\n",
            "98\n",
            "2630\n",
            "(960, 76)\n",
            "76\n",
            "2631\n",
            "(3840, 124)\n",
            "124\n",
            "2632\n",
            "(900, 61)\n",
            "61\n",
            "2633\n",
            "(450, 45)\n",
            "45\n",
            "2640\n",
            "(3360, 116)\n",
            "116\n",
            "2643\n"
          ],
          "name": "stdout"
        },
        {
          "output_type": "stream",
          "text": [
            "\n",
            "\n",
            " 14%|█▎        | 477/3486 [02:40<43:55,  1.14it/s]  \u001b[A\u001b[A"
          ],
          "name": "stderr"
        },
        {
          "output_type": "stream",
          "text": [
            "(11430, 299)\n",
            "299\n",
            "2644\n",
            "(900, 65)\n",
            "65\n",
            "2648\n",
            "(1800, 110)\n",
            "110\n",
            "2649\n",
            "(1440, 84)\n",
            "84\n",
            "2651\n",
            "(576, 52)\n",
            "52\n",
            "2656\n",
            "(396, 47)\n"
          ],
          "name": "stdout"
        },
        {
          "output_type": "stream",
          "text": [
            "\n",
            "\n",
            " 14%|█▍        | 483/3486 [02:40<30:57,  1.62it/s]\u001b[A\u001b[A\n",
            "\n",
            " 14%|█▍        | 486/3486 [02:40<22:27,  2.23it/s]\u001b[A\u001b[A"
          ],
          "name": "stderr"
        },
        {
          "output_type": "stream",
          "text": [
            "47\n",
            "2657\n",
            "(3225, 118)\n",
            "118\n",
            "2658\n",
            "(3060, 124)\n",
            "124\n",
            "2659\n",
            "(5760, 196)\n",
            "196\n",
            "2660\n",
            "(5400, 186)\n",
            "186\n",
            "2662\n",
            "(29484, 855)\n"
          ],
          "name": "stdout"
        },
        {
          "output_type": "stream",
          "text": [
            "\n",
            "\n",
            " 14%|█▍        | 489/3486 [02:42<23:36,  2.12it/s]\u001b[A\u001b[A\n",
            "\n",
            " 14%|█▍        | 492/3486 [02:42<17:02,  2.93it/s]\u001b[A\u001b[A"
          ],
          "name": "stderr"
        },
        {
          "output_type": "stream",
          "text": [
            "855\n",
            "2663\n",
            "(720, 56)\n",
            "56\n",
            "2664\n",
            "(1260, 81)\n",
            "81\n",
            "2665\n",
            "(5586, 175)\n",
            "175\n",
            "2667\n",
            "(2250, 95)\n",
            "95\n",
            "2668\n",
            "(2610, 119)\n",
            "119\n",
            "2669\n",
            "(576, 52)\n",
            "52\n",
            "2670\n",
            "(288, 44)\n",
            "44\n",
            "2675\n",
            "(2304, 96)\n",
            "96\n",
            "2676\n"
          ],
          "name": "stdout"
        },
        {
          "output_type": "stream",
          "text": [
            "\n",
            "\n",
            " 14%|█▍        | 499/3486 [02:42<12:15,  4.06it/s]\u001b[A\u001b[A"
          ],
          "name": "stderr"
        },
        {
          "output_type": "stream",
          "text": [
            "(2952, 113)\n",
            "113\n",
            "2677\n",
            "(720, 98)\n",
            "98\n",
            "2680\n",
            "(1140, 79)\n",
            "79\n",
            "2682\n",
            "(6435, 204)\n",
            "204\n",
            "2683\n",
            "(2280, 119)\n",
            "119\n",
            "2684\n",
            "(1080, 78)\n",
            "78\n",
            "2685\n",
            "(2475, 108)\n",
            "108\n",
            "2687\n",
            "(495, 56)\n",
            "56\n",
            "2689\n",
            "(33696, 750)\n"
          ],
          "name": "stdout"
        },
        {
          "output_type": "stream",
          "text": [
            "\n",
            "\n",
            " 14%|█▍        | 504/3486 [02:44<13:53,  3.58it/s]\u001b[A\u001b[A\n",
            "\n",
            " 15%|█▍        | 507/3486 [02:44<10:15,  4.84it/s]\u001b[A\u001b[A"
          ],
          "name": "stderr"
        },
        {
          "output_type": "stream",
          "text": [
            "750\n",
            "2691\n",
            "(396, 47)\n",
            "47\n",
            "2692\n",
            "(3060, 111)\n",
            "111\n",
            "2694\n",
            "(5985, 178)\n",
            "178\n",
            "2695\n",
            "(17368, 386)\n",
            "386\n",
            "2696\n",
            "(22995, 556)\n",
            "556\n",
            "2697\n",
            "(12804, 335)\n"
          ],
          "name": "stdout"
        },
        {
          "output_type": "stream",
          "text": [
            "\n",
            "\n",
            " 15%|█▍        | 510/3486 [02:45<13:42,  3.62it/s]\u001b[A\u001b[A"
          ],
          "name": "stderr"
        },
        {
          "output_type": "stream",
          "text": [
            "335\n",
            "2702\n",
            "(468, 49)\n",
            "49\n",
            "2704\n",
            "(462, 53)\n",
            "53\n",
            "2705\n",
            "(4020, 127)\n",
            "127\n",
            "2706\n",
            "(3080, 117)\n",
            "117\n",
            "2707\n",
            "(51780, 1127)\n"
          ],
          "name": "stdout"
        },
        {
          "output_type": "stream",
          "text": [
            "\n",
            "\n",
            " 15%|█▍        | 515/3486 [02:49<21:24,  2.31it/s]\u001b[A\u001b[A"
          ],
          "name": "stderr"
        },
        {
          "output_type": "stream",
          "text": [
            "1127\n",
            "2708\n",
            "(12420, 381)\n"
          ],
          "name": "stdout"
        },
        {
          "output_type": "stream",
          "text": [
            "\n",
            "\n",
            " 15%|█▍        | 517/3486 [02:50<17:04,  2.90it/s]\u001b[A\u001b[A\n",
            "\n",
            " 15%|█▌        | 524/3486 [02:50<12:11,  4.05it/s]\u001b[A\u001b[A"
          ],
          "name": "stderr"
        },
        {
          "output_type": "stream",
          "text": [
            "381\n",
            "2709\n",
            "(4410, 143)\n",
            "143\n",
            "2710\n",
            "(1764, 85)\n",
            "85\n",
            "2711\n",
            "(2340, 116)\n",
            "116\n",
            "2712\n",
            "(576, 52)\n",
            "52\n",
            "2713\n",
            "(912, 62)\n",
            "62\n",
            "2714\n",
            "(1104, 70)\n",
            "70\n",
            "2715\n",
            "(1152, 68)\n",
            "68\n",
            "2716\n",
            "(4005, 134)\n",
            "134\n",
            "2717\n",
            "(180, 41)\n",
            "41\n",
            "2718\n",
            "(2160, 93)\n"
          ],
          "name": "stdout"
        },
        {
          "output_type": "stream",
          "text": [
            "\n",
            "\n",
            " 15%|█▌        | 531/3486 [02:50<08:47,  5.61it/s]\u001b[A\u001b[A"
          ],
          "name": "stderr"
        },
        {
          "output_type": "stream",
          "text": [
            "93\n",
            "2719\n",
            "(3384, 130)\n",
            "130\n",
            "2720\n",
            "(360, 46)\n",
            "46\n",
            "2721\n",
            "(180, 41)\n",
            "41\n",
            "2722\n",
            "(180, 41)\n",
            "41\n",
            "2723\n",
            "(3870, 133)\n",
            "133\n",
            "2724\n",
            "(2556, 107)\n",
            "107\n",
            "2725\n",
            "(1188, 69)\n",
            "69\n",
            "2726\n",
            "(1368, 74)\n",
            "74\n",
            "2727\n",
            "(4716, 167)\n",
            "167"
          ],
          "name": "stdout"
        },
        {
          "output_type": "stream",
          "text": [
            "\n",
            "\n",
            " 15%|█▌        | 535/3486 [02:50<06:34,  7.48it/s]\u001b[A\u001b[A"
          ],
          "name": "stderr"
        },
        {
          "output_type": "stream",
          "text": [
            "\n",
            "2728\n",
            "(6210, 159)\n",
            "159\n",
            "2729\n",
            "(192, 32)\n",
            "32\n",
            "2730\n",
            "(1920, 92)\n",
            "92\n",
            "2731\n",
            "(9855, 264)\n"
          ],
          "name": "stdout"
        },
        {
          "output_type": "stream",
          "text": [
            "\n",
            "\n",
            " 15%|█▌        | 539/3486 [02:50<05:29,  8.95it/s]\u001b[A\u001b[A"
          ],
          "name": "stderr"
        },
        {
          "output_type": "stream",
          "text": [
            "264\n",
            "2732\n",
            "(8364, 269)\n",
            "269\n",
            "2733\n",
            "(2625, 182)\n",
            "182\n",
            "2734\n"
          ],
          "name": "stdout"
        },
        {
          "output_type": "stream",
          "text": [
            "\n",
            "\n",
            " 16%|█▌        | 542/3486 [02:51<05:17,  9.27it/s]\u001b[A\u001b[A\n",
            "\n",
            " 16%|█▌        | 548/3486 [02:51<03:57, 12.36it/s]\u001b[A\u001b[A"
          ],
          "name": "stderr"
        },
        {
          "output_type": "stream",
          "text": [
            "(9630, 259)\n",
            "259\n",
            "2736\n",
            "(1500, 85)\n",
            "85\n",
            "2737\n",
            "(288, 44)\n",
            "44\n",
            "2738\n",
            "(1740, 89)\n",
            "89\n",
            "2739\n",
            "(720, 72)\n",
            "72\n",
            "2740\n",
            "(3600, 125)\n",
            "125\n",
            "2741\n",
            "(1740, 89)\n",
            "89\n",
            "2742\n",
            "(134280, 1448)\n"
          ],
          "name": "stdout"
        },
        {
          "output_type": "stream",
          "text": [
            "\n",
            "\n",
            " 16%|█▌        | 548/3486 [03:02<03:57, 12.36it/s]\u001b[A\u001b[A\n",
            "\n",
            " 16%|█▌        | 549/3486 [03:04<3:14:41,  3.98s/it]\u001b[A\u001b[A"
          ],
          "name": "stderr"
        },
        {
          "output_type": "stream",
          "text": [
            "1448\n",
            "2743\n",
            "(855, 64)\n",
            "64\n",
            "2744\n",
            "(288, 44)\n",
            "44\n",
            "2745\n",
            "(26172, 763)\n"
          ],
          "name": "stdout"
        },
        {
          "output_type": "stream",
          "text": [
            "\n",
            "\n",
            " 16%|█▌        | 552/3486 [03:05<2:22:17,  2.91s/it]\u001b[A\u001b[A"
          ],
          "name": "stderr"
        },
        {
          "output_type": "stream",
          "text": [
            "763\n",
            "2749\n",
            "(13905, 354)\n"
          ],
          "name": "stdout"
        },
        {
          "output_type": "stream",
          "text": [
            "\n",
            "\n",
            " 16%|█▌        | 553/3486 [03:05<1:43:49,  2.12s/it]\u001b[A\u001b[A\n",
            "\n",
            " 16%|█▌        | 558/3486 [03:05<1:13:01,  1.50s/it]\u001b[A\u001b[A"
          ],
          "name": "stderr"
        },
        {
          "output_type": "stream",
          "text": [
            "354\n",
            "2750\n",
            "(1800, 85)\n",
            "85\n",
            "2751\n",
            "(1720, 83)\n",
            "83\n",
            "2752\n",
            "(1480, 77)\n",
            "77\n",
            "2753\n",
            "(1600, 80)\n",
            "80\n",
            "2754\n",
            "(6264, 210)\n",
            "210\n",
            "2756\n",
            "(8010, 223)\n",
            "223\n",
            "2757\n",
            "(15750, 395)\n"
          ],
          "name": "stdout"
        },
        {
          "output_type": "stream",
          "text": [
            "\n",
            "\n",
            " 16%|█▌        | 560/3486 [03:06<54:14,  1.11s/it]  \u001b[A\u001b[A"
          ],
          "name": "stderr"
        },
        {
          "output_type": "stream",
          "text": [
            "395\n",
            "2759\n",
            "(2700, 120)\n",
            "120\n",
            "2761\n",
            "(1260, 81)\n",
            "81\n",
            "2762\n",
            "(1500, 85)\n",
            "85\n",
            "2763\n",
            "(13236, 404)\n"
          ],
          "name": "stdout"
        },
        {
          "output_type": "stream",
          "text": [
            "\n",
            "\n",
            " 16%|█▌        | 564/3486 [03:06<39:11,  1.24it/s]\u001b[A\u001b[A"
          ],
          "name": "stderr"
        },
        {
          "output_type": "stream",
          "text": [
            "404\n",
            "2764\n",
            "(2760, 106)\n",
            "106\n",
            "2765\n",
            "(1170, 71)\n",
            "71\n",
            "2769\n",
            "(1764, 85)\n",
            "85\n",
            "2771\n",
            "(14715, 372)\n"
          ],
          "name": "stdout"
        },
        {
          "output_type": "stream",
          "text": [
            "\n",
            "\n",
            " 16%|█▋        | 568/3486 [03:07<28:43,  1.69it/s]\u001b[A\u001b[A"
          ],
          "name": "stderr"
        },
        {
          "output_type": "stream",
          "text": [
            "372\n",
            "2772\n",
            "(3600, 123)\n",
            "123\n",
            "2774\n",
            "(1302, 73)\n",
            "73\n",
            "2775\n",
            "(2610, 119)\n",
            "119\n",
            "2776\n",
            "(9252, 293)\n"
          ],
          "name": "stdout"
        },
        {
          "output_type": "stream",
          "text": [
            "\n",
            "\n",
            " 16%|█▋        | 572/3486 [03:07<20:53,  2.33it/s]\u001b[A\u001b[A\n",
            "\n",
            " 16%|█▋        | 574/3486 [03:07<15:35,  3.11it/s]\u001b[A\u001b[A"
          ],
          "name": "stderr"
        },
        {
          "output_type": "stream",
          "text": [
            "293\n",
            "2777\n",
            "(936, 62)\n",
            "62\n",
            "2778\n",
            "(8172, 263)\n",
            "263\n",
            "2779\n",
            "(360, 42)\n",
            "42\n",
            "2780\n",
            "(2268, 96)\n",
            "96\n",
            "2781\n",
            "(540, 57)\n",
            "57\n",
            "2782\n",
            "(15408, 464)\n"
          ],
          "name": "stdout"
        },
        {
          "output_type": "stream",
          "text": [
            "\n",
            "\n",
            " 17%|█▋        | 578/3486 [03:07<12:36,  3.84it/s]\u001b[A\u001b[A"
          ],
          "name": "stderr"
        },
        {
          "output_type": "stream",
          "text": [
            "464\n",
            "2783\n",
            "(17196, 517)\n"
          ],
          "name": "stdout"
        },
        {
          "output_type": "stream",
          "text": [
            "\n",
            "\n",
            " 17%|█▋        | 580/3486 [03:08<13:08,  3.68it/s]\u001b[A\u001b[A"
          ],
          "name": "stderr"
        },
        {
          "output_type": "stream",
          "text": [
            "517\n",
            "2784\n",
            "(3696, 125)\n",
            "125\n",
            "2785\n",
            "(2970, 123)\n",
            "123\n",
            "2786\n",
            "(4212, 153)\n",
            "153\n",
            "2787\n",
            "(10620, 331)\n"
          ],
          "name": "stdout"
        },
        {
          "output_type": "stream",
          "text": [
            "\n",
            "\n",
            " 17%|█▋        | 583/3486 [03:08<10:36,  4.56it/s]\u001b[A\u001b[A\n",
            "\n",
            " 17%|█▋        | 584/3486 [03:08<09:18,  5.19it/s]\u001b[A\u001b[A"
          ],
          "name": "stderr"
        },
        {
          "output_type": "stream",
          "text": [
            "331\n",
            "2788\n",
            "(8668, 241)\n",
            "241\n",
            "2789\n",
            "(24624, 720)\n"
          ],
          "name": "stdout"
        },
        {
          "output_type": "stream",
          "text": [
            "\n",
            "\n",
            " 17%|█▋        | 585/3486 [03:10<23:03,  2.10it/s]\u001b[A\u001b[A\n",
            "\n",
            " 17%|█▋        | 586/3486 [03:10<17:37,  2.74it/s]\u001b[A\u001b[A"
          ],
          "name": "stderr"
        },
        {
          "output_type": "stream",
          "text": [
            "720\n",
            "2790\n",
            "(8415, 232)\n",
            "232\n",
            "2791\n",
            "(6846, 205)\n",
            "205\n",
            "2792"
          ],
          "name": "stdout"
        },
        {
          "output_type": "stream",
          "text": [
            "\n",
            "\n",
            " 17%|█▋        | 588/3486 [03:10<13:03,  3.70it/s]\u001b[A\u001b[A"
          ],
          "name": "stderr"
        },
        {
          "output_type": "stream",
          "text": [
            "\n",
            "(1260, 73)\n",
            "73\n",
            "2793\n",
            "(2562, 103)\n",
            "103\n",
            "2794\n",
            "(1440, 84)\n",
            "84\n",
            "2796\n",
            "(2220, 97)\n",
            "97\n",
            "2797\n",
            "(26880, 608)\n"
          ],
          "name": "stdout"
        },
        {
          "output_type": "stream",
          "text": [
            "\n",
            "\n",
            " 17%|█▋        | 592/3486 [03:11<13:06,  3.68it/s]\u001b[A\u001b[A\n",
            "\n",
            " 17%|█▋        | 596/3486 [03:11<09:44,  4.94it/s]\u001b[A\u001b[A"
          ],
          "name": "stderr"
        },
        {
          "output_type": "stream",
          "text": [
            "608\n",
            "2798\n",
            "(1056, 70)\n",
            "70\n",
            "2799\n",
            "(3075, 116)\n",
            "116\n",
            "2800\n",
            "(1248, 74)\n",
            "74\n",
            "2802\n",
            "(8235, 228)\n",
            "228\n",
            "2803\n",
            "(912, 67)\n",
            "67\n",
            "2804\n",
            "(2565, 102)\n"
          ],
          "name": "stdout"
        },
        {
          "output_type": "stream",
          "text": [
            "\n",
            "\n",
            " 17%|█▋        | 601/3486 [03:11<07:09,  6.72it/s]\u001b[A\u001b[A\n",
            "\n",
            " 17%|█▋        | 605/3486 [03:11<05:23,  8.89it/s]\u001b[A\u001b[A"
          ],
          "name": "stderr"
        },
        {
          "output_type": "stream",
          "text": [
            "102\n",
            "2805\n",
            "(1584, 81)\n",
            "81\n",
            "2806\n",
            "(1320, 82)\n",
            "82\n",
            "2807\n",
            "(4500, 161)\n",
            "161\n",
            "2808\n",
            "(1440, 84)\n",
            "84\n",
            "2810\n",
            "(2070, 113)\n",
            "113\n",
            "2811\n",
            "(720, 63)\n",
            "63\n",
            "2813\n",
            "(6825, 170)\n",
            "170\n",
            "2814\n"
          ],
          "name": "stdout"
        },
        {
          "output_type": "stream",
          "text": [
            "\n",
            "\n",
            " 17%|█▋        | 608/3486 [03:11<04:38, 10.35it/s]\u001b[A\u001b[A"
          ],
          "name": "stderr"
        },
        {
          "output_type": "stream",
          "text": [
            "(7470, 211)\n",
            "211\n",
            "2815\n",
            "(6525, 162)\n",
            "162\n",
            "2816\n",
            "(2940, 109)\n",
            "109\n",
            "2817\n",
            "(25380, 741)\n"
          ],
          "name": "stdout"
        },
        {
          "output_type": "stream",
          "text": [
            "\n",
            "\n",
            " 18%|█▊        | 611/3486 [03:13<09:43,  4.93it/s]\u001b[A\u001b[A"
          ],
          "name": "stderr"
        },
        {
          "output_type": "stream",
          "text": [
            "741\n",
            "2818\n",
            "(2610, 103)\n",
            "103\n",
            "2819\n",
            "(7785, 218)\n",
            "218\n",
            "2820\n",
            "(1176, 73)\n",
            "73\n",
            "2822\n",
            "(768, 64)\n",
            "64\n",
            "2823\n",
            "(432, 57)\n",
            "57\n",
            "2824\n",
            "(3456, 132)\n",
            "132\n",
            "2826\n",
            "(660, 71)"
          ],
          "name": "stdout"
        },
        {
          "output_type": "stream",
          "text": [
            "\n",
            "\n",
            " 18%|█▊        | 617/3486 [03:13<07:04,  6.76it/s]\u001b[A\u001b[A\n",
            "\n",
            " 18%|█▊        | 621/3486 [03:13<05:18,  9.00it/s]\u001b[A\u001b[A"
          ],
          "name": "stderr"
        },
        {
          "output_type": "stream",
          "text": [
            "\n",
            "71\n",
            "2827\n",
            "(2600, 126)\n",
            "126\n",
            "2828\n",
            "(1200, 80)\n",
            "80\n",
            "2829\n",
            "(6300, 185)\n",
            "185\n",
            "2830\n",
            "(252, 43)\n",
            "43\n",
            "2831\n",
            "(240, 38)\n",
            "38\n",
            "2832\n",
            "(2835, 132)\n",
            "132\n",
            "2833\n",
            "(42864, 1227)\n",
            "1227\n",
            "2834\n",
            "(14994, 399)\n"
          ],
          "name": "stdout"
        },
        {
          "output_type": "stream",
          "text": [
            "\n",
            "\n",
            " 18%|█▊        | 625/3486 [03:17<19:02,  2.50it/s]\u001b[A\u001b[A\n",
            "\n",
            " 18%|█▊        | 629/3486 [03:17<13:42,  3.47it/s]\u001b[A\u001b[A"
          ],
          "name": "stderr"
        },
        {
          "output_type": "stream",
          "text": [
            "399\n",
            "2835\n",
            "(1200, 91)\n",
            "91\n",
            "2836\n",
            "(1536, 88)\n",
            "88\n",
            "2837\n",
            "(2325, 106)\n",
            "106\n",
            "2838\n",
            "(420, 67)\n",
            "67\n",
            "2839\n",
            "(5040, 146)\n",
            "146\n",
            "2840\n",
            "(576, 52)\n",
            "52\n",
            "2841\n",
            "(1440, 84)\n",
            "84\n",
            "2842\n",
            "(1218, 71)\n",
            "71\n",
            "2843\n"
          ],
          "name": "stdout"
        },
        {
          "output_type": "stream",
          "text": [
            "\n",
            "\n",
            " 18%|█▊        | 633/3486 [03:18<10:30,  4.53it/s]\u001b[A\u001b[A"
          ],
          "name": "stderr"
        },
        {
          "output_type": "stream",
          "text": [
            "(11968, 316)\n",
            "316\n",
            "2844\n",
            "(1620, 87)\n",
            "87\n",
            "2847\n",
            "(2250, 105)\n"
          ],
          "name": "stdout"
        },
        {
          "output_type": "stream",
          "text": [
            "\n",
            "\n",
            " 18%|█▊        | 637/3486 [03:18<07:48,  6.08it/s]\u001b[A\u001b[A"
          ],
          "name": "stderr"
        },
        {
          "output_type": "stream",
          "text": [
            "105\n",
            "2848\n",
            "(960, 76)\n",
            "76\n",
            "2849\n",
            "(5720, 183)\n",
            "183\n",
            "2850\n",
            "(675, 60)\n",
            "60\n",
            "2851\n",
            "(336, 38)\n",
            "38\n",
            "2852\n",
            "(396, 47)\n",
            "47\n",
            "2853\n",
            "(684, 55)\n",
            "55\n",
            "2854\n",
            "(936, 62)\n",
            "62\n",
            "2855\n",
            "(2580, 103)\n",
            "103\n",
            "2856\n",
            "(7896, 230)\n"
          ],
          "name": "stdout"
        },
        {
          "output_type": "stream",
          "text": [
            "\n",
            "\n",
            " 18%|█▊        | 644/3486 [03:18<05:51,  8.10it/s]\u001b[A\u001b[A"
          ],
          "name": "stderr"
        },
        {
          "output_type": "stream",
          "text": [
            "230\n",
            "2857\n",
            "(22572, 663)\n",
            "663\n",
            "2858\n",
            "(14535, 368)\n",
            "368\n",
            "2859\n",
            "(19698, 511)\n"
          ],
          "name": "stdout"
        },
        {
          "output_type": "stream",
          "text": [
            "\n",
            "\n",
            " 19%|█▊        | 647/3486 [03:20<12:50,  3.68it/s]\u001b[A\u001b[A\n",
            "\n",
            " 19%|█▉        | 654/3486 [03:20<09:12,  5.13it/s]\u001b[A\u001b[A"
          ],
          "name": "stderr"
        },
        {
          "output_type": "stream",
          "text": [
            "511\n",
            "2860\n",
            "(2088, 94)\n",
            "94\n",
            "2861\n",
            "(680, 57)\n",
            "57\n",
            "2862\n",
            "(2016, 92)\n",
            "92\n",
            "2863\n",
            "(1800, 90)\n",
            "90\n",
            "2864\n",
            "(330, 41)\n",
            "41\n",
            "2865\n",
            "(585, 58)\n",
            "58\n",
            "2867\n",
            "(2850, 113)\n",
            "113\n",
            "2868\n",
            "(270, 51)\n",
            "51\n",
            "2869\n",
            "(2232, 103)\n",
            "103\n",
            "2870\n",
            "(480, 68)\n",
            "68\n",
            "2871\n",
            "(1800, 90)\n",
            "90\n",
            "2872\n"
          ],
          "name": "stdout"
        },
        {
          "output_type": "stream",
          "text": [
            "\n",
            "\n",
            " 19%|█▉        | 660/3486 [03:20<06:53,  6.84it/s]\u001b[A\u001b[A"
          ],
          "name": "stderr"
        },
        {
          "output_type": "stream",
          "text": [
            "(855, 64)\n",
            "64\n",
            "2873\n",
            "(7740, 251)\n",
            "251\n",
            "2874\n",
            "(720, 72)\n",
            "72\n",
            "2875\n",
            "(216, 42)\n",
            "42\n",
            "2877\n",
            "(2700, 120)\n",
            "120\n",
            "2880\n",
            "(468, 49)\n",
            "49\n",
            "2881\n",
            "(44352, 1098)\n"
          ],
          "name": "stdout"
        },
        {
          "output_type": "stream",
          "text": [
            "\n",
            "\n",
            " 19%|█▉        | 665/3486 [03:24<14:53,  3.16it/s]\u001b[A\u001b[A"
          ],
          "name": "stderr"
        },
        {
          "output_type": "stream",
          "text": [
            "1098\n",
            "2882\n",
            "(792, 187)\n",
            "187\n",
            "2883\n",
            "(3960, 127)\n",
            "127\n",
            "2884\n",
            "(14208, 344)\n"
          ],
          "name": "stdout"
        },
        {
          "output_type": "stream",
          "text": [
            "\n",
            "\n",
            " 19%|█▉        | 668/3486 [03:24<12:05,  3.88it/s]\u001b[A\u001b[A\n",
            "\n",
            " 19%|█▉        | 671/3486 [03:24<08:59,  5.22it/s]\u001b[A\u001b[A"
          ],
          "name": "stderr"
        },
        {
          "output_type": "stream",
          "text": [
            "344\n",
            "2885\n",
            "(816, 65)\n",
            "65\n",
            "2886\n",
            "(900, 221)\n",
            "221\n",
            "2889\n",
            "(6345, 186)\n",
            "186\n",
            "2890\n",
            "(540, 57)\n",
            "57\n",
            "2891\n",
            "(882, 63)\n",
            "63\n",
            "2892\n",
            "(25740, 617)\n"
          ],
          "name": "stdout"
        },
        {
          "output_type": "stream",
          "text": [
            "\n",
            "\n",
            " 19%|█▉        | 674/3486 [03:25<11:11,  4.18it/s]\u001b[A\u001b[A\n",
            "\n",
            " 19%|█▉        | 677/3486 [03:25<08:23,  5.58it/s]\u001b[A\u001b[A"
          ],
          "name": "stderr"
        },
        {
          "output_type": "stream",
          "text": [
            "617\n",
            "2893\n",
            "(4050, 129)\n",
            "129\n",
            "2894\n",
            "(3750, 125)\n",
            "125\n",
            "2895\n",
            "(3636, 137)\n",
            "137\n",
            "2896\n",
            "(17424, 520)\n"
          ],
          "name": "stdout"
        },
        {
          "output_type": "stream",
          "text": [
            "\n",
            "\n",
            " 19%|█▉        | 679/3486 [03:26<10:08,  4.62it/s]\u001b[A\u001b[A"
          ],
          "name": "stderr"
        },
        {
          "output_type": "stream",
          "text": [
            "520\n",
            "2898\n",
            "(3816, 125)\n",
            "125\n",
            "2899\n",
            "(16425, 410)\n"
          ],
          "name": "stdout"
        },
        {
          "output_type": "stream",
          "text": [
            "\n",
            "\n",
            " 20%|█▉        | 681/3486 [03:26<09:55,  4.71it/s]\u001b[A\u001b[A"
          ],
          "name": "stderr"
        },
        {
          "output_type": "stream",
          "text": [
            "410\n",
            "2900\n",
            "(1768, 86)\n",
            "86\n",
            "2901\n",
            "(2295, 96)\n",
            "96\n",
            "2902\n",
            "(2340, 97)\n",
            "97\n",
            "2903\n",
            "(1860, 91)\n",
            "91\n",
            "2904\n",
            "(15570, 391)\n"
          ],
          "name": "stdout"
        },
        {
          "output_type": "stream",
          "text": [
            "\n",
            "\n",
            " 20%|█▉        | 685/3486 [03:27<08:20,  5.59it/s]\u001b[A\u001b[A"
          ],
          "name": "stderr"
        },
        {
          "output_type": "stream",
          "text": [
            "391\n",
            "2905\n",
            "(3300, 115)\n",
            "115\n",
            "2906\n",
            "(11295, 296)\n",
            "296\n"
          ],
          "name": "stdout"
        },
        {
          "output_type": "stream",
          "text": [
            "\n",
            "\n",
            " 20%|█▉        | 687/3486 [03:27<07:15,  6.43it/s]\u001b[A\u001b[A\n",
            "\n",
            " 20%|█▉        | 690/3486 [03:27<05:34,  8.36it/s]\u001b[A\u001b[A"
          ],
          "name": "stderr"
        },
        {
          "output_type": "stream",
          "text": [
            "2907\n",
            "(3600, 125)\n",
            "125\n",
            "2908\n",
            "(4365, 142)\n",
            "142\n",
            "2909\n",
            "(1740, 89)\n",
            "89\n",
            "2910\n",
            "(33768, 974)\n",
            "974\n",
            "2911\n",
            "(32292, 933)\n"
          ],
          "name": "stdout"
        },
        {
          "output_type": "stream",
          "text": [
            "\n",
            "\n",
            " 20%|█▉        | 692/3486 [03:31<30:58,  1.50it/s]\u001b[A\u001b[A"
          ],
          "name": "stderr"
        },
        {
          "output_type": "stream",
          "text": [
            "933\n",
            "2912\n",
            "(30744, 890)\n",
            "890\n",
            "2913\n",
            "(26964, 785)\n"
          ],
          "name": "stdout"
        },
        {
          "output_type": "stream",
          "text": [
            "\n",
            "\n",
            " 20%|█▉        | 694/3486 [03:34<43:17,  1.08it/s]\u001b[A\u001b[A"
          ],
          "name": "stderr"
        },
        {
          "output_type": "stream",
          "text": [
            "785\n",
            "2914\n",
            "(28728, 834)\n"
          ],
          "name": "stdout"
        },
        {
          "output_type": "stream",
          "text": [
            "\n",
            "\n",
            " 20%|█▉        | 695/3486 [03:36<51:37,  1.11s/it]\u001b[A\u001b[A\n",
            "\n",
            " 20%|██        | 702/3486 [03:36<36:20,  1.28it/s]\u001b[A\u001b[A"
          ],
          "name": "stderr"
        },
        {
          "output_type": "stream",
          "text": [
            "834\n",
            "2915\n",
            "(576, 60)\n",
            "60\n",
            "2916\n",
            "(800, 66)\n",
            "66\n",
            "2917\n",
            "(1740, 89)\n",
            "89\n",
            "2918\n",
            "(2880, 108)\n",
            "108\n",
            "2919\n",
            "(540, 51)\n",
            "51\n",
            "2920\n",
            "(720, 63)\n",
            "63\n",
            "2922\n",
            "(5805, 174)\n",
            "174\n",
            "2923\n"
          ],
          "name": "stdout"
        },
        {
          "output_type": "stream",
          "text": [
            "\n",
            "\n",
            " 20%|██        | 705/3486 [03:36<25:54,  1.79it/s]\u001b[A\u001b[A\n",
            "\n",
            " 20%|██        | 708/3486 [03:36<18:36,  2.49it/s]\u001b[A\u001b[A"
          ],
          "name": "stderr"
        },
        {
          "output_type": "stream",
          "text": [
            "(6090, 187)\n",
            "187\n",
            "2924\n",
            "(675, 60)\n",
            "60\n",
            "2925\n",
            "(1395, 76)\n",
            "76\n",
            "2926\n",
            "(2250, 105)\n",
            "105\n",
            "2927\n",
            "(468, 49)\n",
            "49\n",
            "2928\n",
            "(5004, 175)\n",
            "175\n",
            "2929\n",
            "(14976, 423)\n",
            "423\n",
            "2930\n",
            "(9810, 263)\n",
            "263\n",
            "2931\n",
            "(10648, 286)\n"
          ],
          "name": "stdout"
        },
        {
          "output_type": "stream",
          "text": [
            "\n",
            "\n",
            " 20%|██        | 711/3486 [03:37<16:18,  2.84it/s]\u001b[A\u001b[A"
          ],
          "name": "stderr"
        },
        {
          "output_type": "stream",
          "text": [
            "286\n",
            "2932\n",
            "(9720, 261)\n",
            "261\n",
            "2933\n",
            "(10530, 279)\n"
          ],
          "name": "stdout"
        },
        {
          "output_type": "stream",
          "text": [
            "\n",
            "\n",
            " 20%|██        | 713/3486 [03:37<13:35,  3.40it/s]\u001b[A\u001b[A\n",
            "\n",
            " 21%|██        | 715/3486 [03:37<10:45,  4.29it/s]\u001b[A\u001b[A"
          ],
          "name": "stderr"
        },
        {
          "output_type": "stream",
          "text": [
            "279\n",
            "2934\n",
            "(8460, 233)\n",
            "233\n",
            "2935\n",
            "(5355, 164)\n",
            "164\n",
            "2936\n"
          ],
          "name": "stdout"
        },
        {
          "output_type": "stream",
          "text": [
            "\n",
            "\n",
            " 21%|██        | 718/3486 [03:37<08:01,  5.75it/s]\u001b[A\u001b[A"
          ],
          "name": "stderr"
        },
        {
          "output_type": "stream",
          "text": [
            "(6120, 181)\n",
            "181\n",
            "2938\n",
            "(144, 30)\n",
            "30\n",
            "2939\n",
            "(2088, 101)\n",
            "101\n",
            "2940\n",
            "(10044, 315)\n"
          ],
          "name": "stdout"
        },
        {
          "output_type": "stream",
          "text": [
            "\n",
            "\n",
            " 21%|██        | 720/3486 [03:38<07:28,  6.16it/s]\u001b[A\u001b[A\n",
            "\n",
            " 21%|██        | 722/3486 [03:38<06:01,  7.64it/s]"
          ],
          "name": "stderr"
        },
        {
          "output_type": "stream",
          "text": [
            "315\n",
            "2941\n",
            "(5508, 189)\n",
            "189\n",
            "2942\n",
            "(5724, 195)\n",
            "195\n",
            "2943\n",
            "(3636, 137)\n",
            "137\n"
          ],
          "name": "stdout"
        },
        {
          "output_type": "stream",
          "text": [
            "\u001b[A\u001b[A\n",
            "\n",
            " 21%|██        | 725/3486 [03:38<04:47,  9.62it/s]\u001b[A\u001b[A"
          ],
          "name": "stderr"
        },
        {
          "output_type": "stream",
          "text": [
            "2945\n",
            "(3510, 129)\n",
            "129\n",
            "2946\n",
            "(4050, 135)\n",
            "135\n",
            "2947\n",
            "(3384, 119)\n",
            "119\n",
            "2948\n",
            "(972, 63)\n",
            "63\n",
            "2949\n",
            "(3264, 116)\n",
            "116\n",
            "2950\n",
            "(720, 56)\n",
            "56\n",
            "2951\n",
            "(3168, 124)\n",
            "124\n",
            "2952\n"
          ],
          "name": "stdout"
        },
        {
          "output_type": "stream",
          "text": [
            "\n",
            "\n",
            " 21%|██        | 730/3486 [03:38<03:37, 12.66it/s]\u001b[A\u001b[A\n",
            "\n",
            " 21%|██        | 734/3486 [03:38<02:56, 15.62it/s]\u001b[A\u001b[A"
          ],
          "name": "stderr"
        },
        {
          "output_type": "stream",
          "text": [
            "(1044, 65)\n",
            "65\n",
            "2953\n",
            "(1332, 73)\n",
            "73\n",
            "2954\n",
            "(2052, 93)\n",
            "93\n",
            "2955\n",
            "(4536, 150)\n",
            "150\n",
            "2956\n",
            "(2160, 96)\n",
            "96\n",
            "2957\n",
            "(432, 48)\n",
            "48\n",
            "2958\n",
            "(900, 75)\n",
            "75\n",
            "2960\n",
            "(48480, 1058)\n"
          ],
          "name": "stdout"
        },
        {
          "output_type": "stream",
          "text": [
            "\n",
            "\n",
            " 21%|██        | 737/3486 [03:42<19:06,  2.40it/s]\u001b[A\u001b[A"
          ],
          "name": "stderr"
        },
        {
          "output_type": "stream",
          "text": [
            "1058\n",
            "2961\n",
            "(40968, 1174)\n",
            "1174\n",
            "2962\n",
            "(18225, 450)\n"
          ],
          "name": "stdout"
        },
        {
          "output_type": "stream",
          "text": [
            "\n",
            "\n",
            " 21%|██        | 740/3486 [03:46<31:21,  1.46it/s]\u001b[A\u001b[A\n",
            "\n",
            " 21%|██▏       | 745/3486 [03:46<22:23,  2.04it/s]\u001b[A\u001b[A"
          ],
          "name": "stderr"
        },
        {
          "output_type": "stream",
          "text": [
            "450\n",
            "2963\n",
            "(648, 54)\n",
            "54\n",
            "2964\n",
            "(528, 59)\n",
            "59\n",
            "2965\n",
            "(2040, 94)\n",
            "94\n",
            "2966\n",
            "(450, 55)\n",
            "55\n",
            "2967\n",
            "(450, 55)\n",
            "55\n",
            "2968\n",
            "(8244, 265)\n",
            "265\n"
          ],
          "name": "stdout"
        },
        {
          "output_type": "stream",
          "text": [
            "\n",
            "\n",
            " 21%|██▏       | 747/3486 [03:46<16:23,  2.78it/s]\u001b[A\u001b[A"
          ],
          "name": "stderr"
        },
        {
          "output_type": "stream",
          "text": [
            "2969\n",
            "(5724, 195)\n",
            "195\n",
            "2971\n",
            "(1008, 69)\n",
            "69\n",
            "2972\n",
            "(7770, 227)\n",
            "227\n",
            "2973\n"
          ],
          "name": "stdout"
        },
        {
          "output_type": "stream",
          "text": [
            "\n",
            "\n",
            " 21%|██▏       | 749/3486 [03:46<13:03,  3.49it/s]\u001b[A\u001b[A"
          ],
          "name": "stderr"
        },
        {
          "output_type": "stream",
          "text": [
            "(8232, 238)\n",
            "238\n",
            "2974\n",
            "(10626, 295)\n"
          ],
          "name": "stdout"
        },
        {
          "output_type": "stream",
          "text": [
            "\n",
            "\n",
            " 22%|██▏       | 751/3486 [03:46<11:05,  4.11it/s]\u001b[A\u001b[A"
          ],
          "name": "stderr"
        },
        {
          "output_type": "stream",
          "text": [
            "295\n",
            "2975\n",
            "(8190, 237)\n",
            "237\n",
            "2976\n",
            "(7182, 213)\n",
            "213\n",
            "2977\n"
          ],
          "name": "stdout"
        },
        {
          "output_type": "stream",
          "text": [
            "\n",
            "\n",
            " 22%|██▏       | 753/3486 [03:47<08:56,  5.09it/s]\u001b[A\u001b[A"
          ],
          "name": "stderr"
        },
        {
          "output_type": "stream",
          "text": [
            "(7056, 210)\n",
            "210\n",
            "2978\n",
            "(1020, 77)\n",
            "77\n",
            "2979\n",
            "(1800, 90)\n",
            "90\n",
            "3015\n",
            "(2340, 97)\n",
            "97\n",
            "3016\n",
            "(396, 47)\n",
            "47\n",
            "3017\n",
            "(1080, 78)\n",
            "78\n",
            "3018\n",
            "(936, 62)\n",
            "62\n",
            "3019\n",
            "(9540, 301)\n"
          ],
          "name": "stdout"
        },
        {
          "output_type": "stream",
          "text": [
            "\n",
            "\n",
            " 22%|██▏       | 760/3486 [03:47<06:44,  6.74it/s]\u001b[A\u001b[A\n",
            "\n",
            " 22%|██▏       | 762/3486 [03:47<05:30,  8.24it/s]\u001b[A\u001b[A"
          ],
          "name": "stderr"
        },
        {
          "output_type": "stream",
          "text": [
            "301\n",
            "3020\n",
            "(7596, 247)\n",
            "247\n",
            "3021\n",
            "(468, 49)\n",
            "49\n",
            "3023\n",
            "(2520, 106)\n",
            "106\n",
            "3024\n",
            "(5025, 142)\n",
            "142\n",
            "3025\n",
            "(1260, 71)\n"
          ],
          "name": "stdout"
        },
        {
          "output_type": "stream",
          "text": [
            "\n",
            "\n",
            " 22%|██▏       | 766/3486 [03:47<04:18, 10.52it/s]\u001b[A\u001b[A\n",
            "\n",
            " 22%|██▏       | 769/3486 [03:47<03:30, 12.90it/s]\u001b[A\u001b[A"
          ],
          "name": "stderr"
        },
        {
          "output_type": "stream",
          "text": [
            "71\n",
            "3026\n",
            "(3780, 141)\n",
            "141\n",
            "3027\n",
            "(4815, 152)\n",
            "152\n",
            "3028\n",
            "(1980, 93)\n",
            "93\n",
            "3029\n",
            "(1920, 88)\n",
            "88\n",
            "3031\n",
            "(1980, 91)\n",
            "91\n",
            "3032\n",
            "(18108, 539)\n"
          ],
          "name": "stdout"
        },
        {
          "output_type": "stream",
          "text": [
            "\n",
            "\n",
            " 22%|██▏       | 772/3486 [03:48<05:08,  8.80it/s]\u001b[A\u001b[A\n",
            "\n",
            " 22%|██▏       | 774/3486 [03:48<04:46,  9.45it/s]"
          ],
          "name": "stderr"
        },
        {
          "output_type": "stream",
          "text": [
            "539\n",
            "3033\n",
            "(1296, 75)\n",
            "75\n",
            "3034\n",
            "(9432, 298)\n",
            "298\n",
            "3035\n",
            "(675, 60)\n",
            "60\n"
          ],
          "name": "stdout"
        },
        {
          "output_type": "stream",
          "text": [
            "\u001b[A\u001b[A\n",
            "\n",
            " 22%|██▏       | 779/3486 [03:48<03:52, 11.67it/s]\u001b[A\u001b[A"
          ],
          "name": "stderr"
        },
        {
          "output_type": "stream",
          "text": [
            "3036\n",
            "(3780, 129)\n",
            "129\n",
            "3037\n",
            "(540, 51)\n",
            "51\n",
            "3038\n",
            "(1485, 78)\n",
            "78\n",
            "3039\n",
            "(1920, 92)\n",
            "92\n",
            "3040\n",
            "(8595, 236)\n",
            "236\n",
            "3041\n"
          ],
          "name": "stdout"
        },
        {
          "output_type": "stream",
          "text": [
            "\n",
            "\n",
            " 22%|██▏       | 781/3486 [03:48<03:52, 11.65it/s]\u001b[A\u001b[A"
          ],
          "name": "stderr"
        },
        {
          "output_type": "stream",
          "text": [
            "(4140, 129)\n",
            "129\n",
            "3044\n",
            "(9120, 268)\n",
            "268\n",
            "3045\n",
            "(840, 62)\n",
            "62\n",
            "3046\n",
            "(3600, 130)\n",
            "130\n",
            "3047\n"
          ],
          "name": "stdout"
        },
        {
          "output_type": "stream",
          "text": [
            "\n",
            "\n",
            " 23%|██▎       | 786/3486 [03:49<03:23, 13.28it/s]"
          ],
          "name": "stderr"
        },
        {
          "output_type": "stream",
          "text": [
            "(240, 53)\n",
            "53\n",
            "3048\n",
            "(480, 58)\n",
            "58\n",
            "3049\n",
            "(10476, 327)\n",
            "327\n"
          ],
          "name": "stdout"
        },
        {
          "output_type": "stream",
          "text": [
            "\u001b[A\u001b[A"
          ],
          "name": "stderr"
        },
        {
          "output_type": "stream",
          "text": [
            "3050\n",
            "(1404, 75)\n",
            "75\n",
            "3051\n",
            "(1008, 64)\n",
            "64\n",
            "3053\n",
            "(936, 62)\n",
            "62\n",
            "3054\n",
            "(2790, 107)\n",
            "107\n",
            "3055\n",
            "(720, 56)\n",
            "56\n",
            "3056\n",
            "(468, 49)\n",
            "49\n",
            "3057\n",
            "(576, 52)\n",
            "52\n",
            "3059\n",
            "(13950, 495)\n"
          ],
          "name": "stdout"
        },
        {
          "output_type": "stream",
          "text": [
            "\n",
            "\n",
            " 23%|██▎       | 794/3486 [03:49<03:12, 14.00it/s]\u001b[A\u001b[A"
          ],
          "name": "stderr"
        },
        {
          "output_type": "stream",
          "text": [
            "495\n",
            "3060\n",
            "(672, 62)\n",
            "62\n",
            "3061\n",
            "(540, 51)\n",
            "51\n",
            "3062\n",
            "(2628, 109)\n",
            "109\n",
            "3063\n",
            "(3240, 126)\n",
            "126\n",
            "3064\n",
            "(15372, 454)\n"
          ],
          "name": "stdout"
        },
        {
          "output_type": "stream",
          "text": [
            "\n",
            "\n",
            " 23%|██▎       | 799/3486 [03:50<03:28, 12.88it/s]\u001b[A\u001b[A\n",
            "\n",
            " 23%|██▎       | 802/3486 [03:50<02:55, 15.31it/s]\u001b[A\u001b[A"
          ],
          "name": "stderr"
        },
        {
          "output_type": "stream",
          "text": [
            "454\n",
            "3066\n",
            "(1224, 70)\n",
            "70\n",
            "3067\n",
            "(2160, 96)\n",
            "96\n",
            "3068\n",
            "(6345, 182)\n",
            "182\n",
            "3069\n",
            "(6930, 199)\n",
            "199\n",
            "3070\n",
            "(152496, 1742)\n"
          ],
          "name": "stdout"
        },
        {
          "output_type": "stream",
          "text": [
            "\n",
            "\n",
            " 23%|██▎       | 802/3486 [04:02<02:55, 15.31it/s]\u001b[A\u001b[A\n",
            "\n",
            " 23%|██▎       | 804/3486 [04:10<2:18:38,  3.10s/it]\u001b[A\u001b[A\n",
            "\n",
            " 23%|██▎       | 808/3486 [04:10<1:37:20,  2.18s/it]\u001b[A\u001b[A"
          ],
          "name": "stderr"
        },
        {
          "output_type": "stream",
          "text": [
            "1742\n",
            "3071\n",
            "(1836, 136)\n",
            "136\n",
            "3072\n",
            "(945, 66)\n",
            "66\n",
            "3073\n",
            "(3480, 118)\n",
            "118\n",
            "3074\n",
            "(5535, 168)\n",
            "168\n",
            "3075\n",
            "(2850, 113)\n",
            "113\n",
            "3078\n",
            "(1680, 88)\n",
            "88\n",
            "3079\n",
            "(1440, 84)\n",
            "84\n",
            "3080\n",
            "(672, 58)\n",
            "58\n",
            "3081\n",
            "(13995, 356)\n"
          ],
          "name": "stdout"
        },
        {
          "output_type": "stream",
          "text": [
            "\n",
            "\n",
            " 23%|██▎       | 813/3486 [04:11<1:08:59,  1.55s/it]\u001b[A\u001b[A\n",
            "\n",
            " 23%|██▎       | 818/3486 [04:11<48:34,  1.09s/it]  \u001b[A\u001b[A"
          ],
          "name": "stderr"
        },
        {
          "output_type": "stream",
          "text": [
            "356\n",
            "3082\n",
            "(3600, 130)\n",
            "130\n",
            "3083\n",
            "(216, 42)\n",
            "42\n",
            "3084\n",
            "(2820, 107)\n",
            "107\n",
            "3085\n",
            "(540, 51)\n",
            "51\n",
            "3086\n",
            "(4770, 143)\n",
            "143\n",
            "3087\n",
            "(216, 42)\n",
            "42\n",
            "3088\n",
            "(4500, 145)\n",
            "145\n",
            "3089"
          ],
          "name": "stdout"
        },
        {
          "output_type": "stream",
          "text": [
            "\n",
            "\n",
            " 24%|██▎       | 824/3486 [04:11<34:09,  1.30it/s]\u001b[A\u001b[A\n",
            "\n",
            " 24%|██▍       | 829/3486 [04:11<24:10,  1.83it/s]\u001b[A\u001b[A"
          ],
          "name": "stderr"
        },
        {
          "output_type": "stream",
          "text": [
            "\n",
            "(528, 46)\n",
            "46\n",
            "3090\n",
            "(1512, 78)\n",
            "78\n",
            "3091\n",
            "(1200, 80)\n",
            "80\n",
            "3093\n",
            "(360, 46)\n",
            "46\n",
            "3094\n",
            "(504, 50)\n",
            "50\n",
            "3095\n",
            "(2160, 102)\n",
            "102\n",
            "3096\n",
            "(360, 46)\n",
            "46\n",
            "3097\n",
            "(360, 46)\n",
            "46\n",
            "3099\n",
            "(6660, 164)\n",
            "164\n",
            "3100\n",
            "(2400, 100)\n",
            "100\n",
            "3103\n",
            "(1260, 71)\n"
          ],
          "name": "stdout"
        },
        {
          "output_type": "stream",
          "text": [
            "\n",
            "\n",
            " 24%|██▍       | 835/3486 [04:11<17:07,  2.58it/s]\u001b[A\u001b[A\n",
            "\n",
            " 24%|██▍       | 840/3486 [04:11<12:18,  3.59it/s]\u001b[A\u001b[A"
          ],
          "name": "stderr"
        },
        {
          "output_type": "stream",
          "text": [
            "71\n",
            "3104\n",
            "(1380, 83)\n",
            "83\n",
            "3106\n",
            "(855, 64)\n",
            "64\n",
            "3107\n",
            "(1764, 85)\n",
            "85\n",
            "3108\n",
            "(1800, 86)\n",
            "86\n",
            "3109\n",
            "(1584, 80)\n",
            "80\n",
            "3110\n",
            "(1620, 87)\n",
            "87\n",
            "3111\n",
            "(720, 61)\n",
            "61\n",
            "3113\n",
            "(1740, 89)\n",
            "89\n",
            "3115\n",
            "(5580, 169)\n",
            "169\n",
            "3116\n",
            "(11115, 292)\n",
            "292\n",
            "3117\n",
            "(11025, 290)\n"
          ],
          "name": "stdout"
        },
        {
          "output_type": "stream",
          "text": [
            "\n",
            "\n",
            " 24%|██▍       | 844/3486 [04:12<09:50,  4.48it/s]\u001b[A\u001b[A\n",
            "\n",
            " 24%|██▍       | 848/3486 [04:12<07:18,  6.02it/s]\u001b[A\u001b[A"
          ],
          "name": "stderr"
        },
        {
          "output_type": "stream",
          "text": [
            "290\n",
            "3119\n",
            "(900, 65)\n",
            "65\n",
            "3120\n",
            "(1428, 76)\n",
            "76\n",
            "3121\n",
            "(1728, 84)\n",
            "84\n",
            "3122\n",
            "(1152, 152)\n",
            "152\n",
            "3123\n",
            "(4464, 160)\n",
            "160\n",
            "3124\n",
            "(3060, 111)\n",
            "111\n",
            "3125\n",
            "(1824, 86)\n",
            "86\n",
            "3126\n",
            "(2700, 111)\n"
          ],
          "name": "stdout"
        },
        {
          "output_type": "stream",
          "text": [
            "\n",
            "\n",
            " 24%|██▍       | 852/3486 [04:12<05:31,  7.95it/s]\u001b[A\u001b[A"
          ],
          "name": "stderr"
        },
        {
          "output_type": "stream",
          "text": [
            "111\n",
            "3127\n",
            "(5130, 159)\n",
            "159\n",
            "3130\n",
            "(2196, 133)\n",
            "133\n",
            "3131\n",
            "(1260, 71)\n",
            "71\n",
            "3132\n",
            "(3465, 138)\n",
            "138\n",
            "3133\n",
            "(2565, 102)\n",
            "102\n",
            "3134\n",
            "(1320, 82)\n",
            "82\n",
            "3135\n",
            "(49995, 832)\n"
          ],
          "name": "stdout"
        },
        {
          "output_type": "stream",
          "text": [
            "\n",
            "\n",
            " 25%|██▍       | 857/3486 [04:14<09:54,  4.42it/s]\u001b[A\u001b[A"
          ],
          "name": "stderr"
        },
        {
          "output_type": "stream",
          "text": [
            "832\n",
            "3136\n",
            "(77523, 1092)\n",
            "1092\n",
            "3137\n",
            "(14868, 355)\n",
            "355\n",
            "3138\n",
            "(14112, 366)\n"
          ],
          "name": "stdout"
        },
        {
          "output_type": "stream",
          "text": [
            "\n",
            "\n",
            " 25%|██▍       | 860/3486 [04:20<33:40,  1.30it/s]\u001b[A\u001b[A"
          ],
          "name": "stderr"
        },
        {
          "output_type": "stream",
          "text": [
            "366\n",
            "3139\n",
            "(51444, 832)\n",
            "832\n",
            "3140\n",
            "(53064, 1011)\n"
          ],
          "name": "stdout"
        },
        {
          "output_type": "stream",
          "text": [
            "\n",
            "\n",
            " 25%|██▍       | 862/3486 [04:26<1:02:31,  1.43s/it]\u001b[A\u001b[A"
          ],
          "name": "stderr"
        },
        {
          "output_type": "stream",
          "text": [
            "1011\n",
            "3141\n",
            "(2948, 111)\n",
            "111\n",
            "3142\n",
            "(49056, 872)\n"
          ],
          "name": "stdout"
        },
        {
          "output_type": "stream",
          "text": [
            "\n",
            "\n",
            " 25%|██▍       | 864/3486 [04:29<1:00:15,  1.38s/it]\u001b[A\u001b[A"
          ],
          "name": "stderr"
        },
        {
          "output_type": "stream",
          "text": [
            "872\n",
            "3143\n",
            "(17775, 312)\n"
          ],
          "name": "stdout"
        },
        {
          "output_type": "stream",
          "text": [
            "\n",
            "\n",
            " 25%|██▍       | 865/3486 [04:29<45:51,  1.05s/it]  \u001b[A\u001b[A\n",
            "\n",
            " 25%|██▍       | 868/3486 [04:29<32:40,  1.34it/s]\u001b[A\u001b[A"
          ],
          "name": "stderr"
        },
        {
          "output_type": "stream",
          "text": [
            "312\n",
            "3145\n",
            "(2700, 309)\n",
            "309\n",
            "3146\n",
            "(1620, 81)\n",
            "81\n",
            "3147\n",
            "(5580, 169)\n",
            "169\n",
            "3148\n",
            "(1395, 76)\n",
            "76\n",
            "3149\n",
            "(2340, 116)\n",
            "116\n",
            "3150\n"
          ],
          "name": "stdout"
        },
        {
          "output_type": "stream",
          "text": [
            "\n",
            "\n",
            " 25%|██▍       | 871/3486 [04:29<23:18,  1.87it/s]\u001b[A\u001b[A\n",
            "\n",
            " 25%|██▌       | 874/3486 [04:29<16:55,  2.57it/s]\u001b[A\u001b[A"
          ],
          "name": "stderr"
        },
        {
          "output_type": "stream",
          "text": [
            "(3780, 141)\n",
            "141\n",
            "3151\n",
            "(2124, 95)\n",
            "95\n",
            "3152\n",
            "(1944, 90)\n",
            "90\n",
            "3154\n",
            "(6216, 289)\n",
            "289\n",
            "3155\n"
          ],
          "name": "stdout"
        },
        {
          "output_type": "stream",
          "text": [
            "\n",
            "\n",
            " 25%|██▌       | 876/3486 [04:29<12:33,  3.47it/s]\u001b[A\u001b[A"
          ],
          "name": "stderr"
        },
        {
          "output_type": "stream",
          "text": [
            "(8000, 240)\n",
            "240\n",
            "3156\n",
            "(360, 46)\n",
            "46\n",
            "3157\n",
            "(675, 60)\n",
            "60\n",
            "3158\n",
            "(1020, 77)\n",
            "77\n",
            "3159\n",
            "(432, 48)\n",
            "48\n",
            "3160\n",
            "(1080, 69)\n",
            "69\n",
            "3161\n",
            "(9864, 310)\n"
          ],
          "name": "stdout"
        },
        {
          "output_type": "stream",
          "text": [
            "\n",
            "\n",
            " 25%|██▌       | 881/3486 [04:30<09:17,  4.67it/s]\u001b[A\u001b[A\n",
            "\n",
            " 25%|██▌       | 886/3486 [04:30<06:47,  6.38it/s]\u001b[A\u001b[A"
          ],
          "name": "stderr"
        },
        {
          "output_type": "stream",
          "text": [
            "310\n",
            "3162\n",
            "(1995, 192)\n",
            "192\n",
            "3163\n",
            "(1260, 187)\n",
            "187\n",
            "3164\n",
            "(180, 41)\n",
            "41\n",
            "3165\n",
            "(1296, 72)\n",
            "72\n",
            "3166\n",
            "(4116, 140)\n",
            "140\n",
            "3167\n",
            "(2550, 109)\n",
            "109\n",
            "3168\n",
            "(990, 67)\n",
            "67\n",
            "3169\n",
            "(1980, 112)\n",
            "112\n",
            "3170\n",
            "(1530, 79)\n",
            "79\n",
            "3171\n",
            "(576, 60)\n",
            "60\n",
            "3172"
          ],
          "name": "stdout"
        },
        {
          "output_type": "stream",
          "text": [
            "\n",
            "\n",
            " 26%|██▌       | 894/3486 [04:30<04:54,  8.80it/s]\u001b[A\u001b[A\n",
            "\n",
            " 26%|██▌       | 899/3486 [04:30<03:51, 11.19it/s]\u001b[A\u001b[A"
          ],
          "name": "stderr"
        },
        {
          "output_type": "stream",
          "text": [
            "\n",
            "(918, 71)\n",
            "71\n",
            "3173\n",
            "(336, 38)\n",
            "38\n",
            "3174\n",
            "(288, 44)\n",
            "44\n",
            "3175\n",
            "(1740, 89)\n",
            "89\n",
            "3176\n",
            "(5580, 152)\n",
            "152\n",
            "3177\n",
            "(6200, 195)\n",
            "195\n",
            "3179\n",
            "(720, 63)\n",
            "63\n",
            "3180\n",
            "(420, 52)\n",
            "52\n",
            "3181\n",
            "(1056, 70)\n"
          ],
          "name": "stdout"
        },
        {
          "output_type": "stream",
          "text": [
            "\n",
            "\n",
            " 26%|██▌       | 903/3486 [04:30<03:09, 13.64it/s]\u001b[A\u001b[A"
          ],
          "name": "stderr"
        },
        {
          "output_type": "stream",
          "text": [
            "70\n",
            "3182\n",
            "(864, 66)\n",
            "66\n",
            "3183\n",
            "(960, 68)\n",
            "68\n",
            "3184\n",
            "(7524, 245)\n",
            "245\n",
            "3185\n",
            "(8064, 260)\n"
          ],
          "name": "stdout"
        },
        {
          "output_type": "stream",
          "text": [
            "\n",
            "\n",
            " 26%|██▌       | 907/3486 [04:30<02:46, 15.52it/s]\u001b[A\u001b[A"
          ],
          "name": "stderr"
        },
        {
          "output_type": "stream",
          "text": [
            "260\n",
            "3186\n",
            "(1488, 79)\n",
            "79\n",
            "3187\n",
            "(990, 73)\n",
            "73\n",
            "3188\n",
            "(3120, 112)\n",
            "112\n",
            "3190\n",
            "(3900, 127)\n",
            "127\n",
            "3191\n",
            "(8272, 232)\n",
            "232\n",
            "3192\n"
          ],
          "name": "stdout"
        },
        {
          "output_type": "stream",
          "text": [
            "\n",
            "\n",
            " 26%|██▌       | 911/3486 [04:31<02:31, 16.99it/s]\u001b[A\u001b[A"
          ],
          "name": "stderr"
        },
        {
          "output_type": "stream",
          "text": [
            "(3975, 128)\n",
            "128\n",
            "3193\n",
            "(540, 69)\n",
            "69\n",
            "3194\n",
            "(1276, 73)\n",
            "73\n",
            "3195\n",
            "(1908, 89)\n",
            "89\n",
            "3196\n",
            "(2880, 108)\n",
            "108\n",
            "3198\n",
            "(1710, 83)\n",
            "83\n",
            "3199\n",
            "(2160, 96)\n",
            "96\n",
            "3200\n",
            "(8532, 187)\n"
          ],
          "name": "stdout"
        },
        {
          "output_type": "stream",
          "text": [
            "\n",
            "\n",
            " 26%|██▋       | 917/3486 [04:31<02:08, 20.02it/s]\u001b[A\u001b[A"
          ],
          "name": "stderr"
        },
        {
          "output_type": "stream",
          "text": [
            "187\n",
            "3201\n",
            "(966, 65)\n",
            "65\n",
            "3202\n",
            "(12555, 356)\n"
          ],
          "name": "stdout"
        },
        {
          "output_type": "stream",
          "text": [
            "\n",
            "\n",
            " 26%|██▋       | 921/3486 [04:31<02:28, 17.23it/s]\u001b[A\u001b[A\n",
            "\n",
            " 27%|██▋       | 927/3486 [04:31<01:57, 21.81it/s]\u001b[A\u001b[A"
          ],
          "name": "stderr"
        },
        {
          "output_type": "stream",
          "text": [
            "356\n",
            "3203\n",
            "(1260, 71)\n",
            "71\n",
            "3206\n",
            "(2760, 106)\n",
            "106\n",
            "3211\n",
            "(2196, 97)\n",
            "97\n",
            "3212\n",
            "(2016, 90)\n",
            "90\n",
            "3213\n",
            "(2460, 101)\n",
            "101\n",
            "3214\n",
            "(528, 59)\n",
            "59\n",
            "3215\n",
            "(780, 73)\n",
            "73\n",
            "3216\n",
            "(1872, 87)\n",
            "87\n",
            "3217\n",
            "(17424, 520)\n"
          ],
          "name": "stdout"
        },
        {
          "output_type": "stream",
          "text": [
            "\n",
            "\n",
            " 27%|██▋       | 931/3486 [04:32<03:04, 13.83it/s]\u001b[A\u001b[A\n",
            "\n",
            " 27%|██▋       | 934/3486 [04:32<02:43, 15.64it/s]\u001b[A\u001b[A"
          ],
          "name": "stderr"
        },
        {
          "output_type": "stream",
          "text": [
            "520\n",
            "3219\n",
            "(2592, 102)\n",
            "102\n",
            "3220\n",
            "(630, 59)\n",
            "59\n",
            "3221\n",
            "(324, 45)\n",
            "45\n",
            "3223\n",
            "(7020, 231)\n",
            "231\n",
            "3225\n",
            "(1980, 89)\n",
            "89\n",
            "3226\n",
            "(840, 74)\n",
            "74\n",
            "3227\n",
            "(2175, 104)\n",
            "104\n",
            "3228\n",
            "(11520, 301)\n"
          ],
          "name": "stdout"
        },
        {
          "output_type": "stream",
          "text": [
            "\n",
            "\n",
            " 27%|██▋       | 937/3486 [04:32<03:14, 13.12it/s]\u001b[A\u001b[A"
          ],
          "name": "stderr"
        },
        {
          "output_type": "stream",
          "text": [
            "301\n",
            "3229\n",
            "(6600, 163)\n",
            "163\n",
            "3230\n",
            "(1140, 79)\n",
            "79\n",
            "3231\n",
            "(1320, 83)\n",
            "83\n",
            "3232\n",
            "(29304, 504)\n"
          ],
          "name": "stdout"
        },
        {
          "output_type": "stream",
          "text": [
            "\n",
            "\n",
            " 27%|██▋       | 940/3486 [04:33<05:32,  7.66it/s]\u001b[A\u001b[A\n",
            "\n",
            " 27%|██▋       | 946/3486 [04:33<04:05, 10.36it/s]\u001b[A\u001b[A"
          ],
          "name": "stderr"
        },
        {
          "output_type": "stream",
          "text": [
            "504\n",
            "3233\n",
            "(192, 52)\n",
            "52\n",
            "3234\n",
            "(1056, 70)\n",
            "70\n",
            "3235\n",
            "(1725, 98)\n",
            "98\n",
            "3236\n",
            "(2232, 103)\n",
            "103\n",
            "3237\n",
            "(1500, 85)\n",
            "85\n",
            "3238\n",
            "(1368, 122)\n",
            "122\n",
            "3239\n",
            "(1440, 78)\n",
            "78\n",
            "3242\n",
            "(828, 59)\n",
            "59\n",
            "3246\n",
            "(6660, 221)\n"
          ],
          "name": "stdout"
        },
        {
          "output_type": "stream",
          "text": [
            "\n",
            "\n",
            " 27%|██▋       | 949/3486 [04:33<03:24, 12.41it/s]\u001b[A\u001b[A\n",
            "\n",
            " 27%|██▋       | 952/3486 [04:33<03:08, 13.42it/s]\u001b[A\u001b[A"
          ],
          "name": "stderr"
        },
        {
          "output_type": "stream",
          "text": [
            "221\n",
            "3247\n",
            "(7056, 232)\n",
            "232\n",
            "3248\n",
            "(2340, 193)\n",
            "193\n",
            "3249\n",
            "(4230, 204)\n",
            "204\n",
            "3250\n",
            "(912, 67)\n"
          ],
          "name": "stdout"
        },
        {
          "output_type": "stream",
          "text": [
            "\n",
            "\n",
            " 27%|██▋       | 958/3486 [04:33<02:26, 17.30it/s]\u001b[A\u001b[A"
          ],
          "name": "stderr"
        },
        {
          "output_type": "stream",
          "text": [
            "67\n",
            "3251\n",
            "(2680, 107)\n",
            "107\n",
            "3252\n",
            "(1680, 88)\n",
            "88\n",
            "3253\n",
            "(720, 72)\n",
            "72\n",
            "3254\n",
            "(1260, 71)\n",
            "71\n",
            "3255\n",
            "(1944, 90)\n",
            "90\n",
            "3256\n",
            "(3708, 139)\n",
            "139\n",
            "3257\n",
            "(5220, 161)\n",
            "161\n",
            "3258\n",
            "(4068, 167)\n"
          ],
          "name": "stdout"
        },
        {
          "output_type": "stream",
          "text": [
            "\n",
            "\n",
            " 28%|██▊       | 962/3486 [04:34<02:12, 19.06it/s]\u001b[A\u001b[A\n",
            "\n",
            " 28%|██▊       | 968/3486 [04:34<01:50, 22.89it/s]\u001b[A\u001b[A"
          ],
          "name": "stderr"
        },
        {
          "output_type": "stream",
          "text": [
            "167\n",
            "3259\n",
            "(450, 55)\n",
            "55\n",
            "3260\n",
            "(420, 67)\n",
            "67\n",
            "3261\n",
            "(1440, 84)\n",
            "84\n",
            "3262\n",
            "(960, 76)\n",
            "76\n",
            "3264\n",
            "(294, 49)\n",
            "49\n",
            "3265\n",
            "(1692, 83)\n",
            "83\n",
            "3266\n",
            "(6840, 197)\n",
            "197\n",
            "3267\n",
            "(6390, 187)\n"
          ],
          "name": "stdout"
        },
        {
          "output_type": "stream",
          "text": [
            "\n",
            "\n",
            " 28%|██▊       | 972/3486 [04:34<02:00, 20.94it/s]\u001b[A\u001b[A"
          ],
          "name": "stderr"
        },
        {
          "output_type": "stream",
          "text": [
            "187\n",
            "3268\n",
            "(1056, 116)\n",
            "116\n",
            "3269\n",
            "(6660, 244)\n",
            "244\n",
            "3270\n",
            "(2700, 111)\n",
            "111\n",
            "3271\n",
            "(4050, 135)\n",
            "135\n",
            "3272\n",
            "(3240, 117)\n",
            "117\n",
            "3273\n",
            "(21465, 460)\n"
          ],
          "name": "stdout"
        },
        {
          "output_type": "stream",
          "text": [
            "\n",
            "\n",
            " 28%|██▊       | 975/3486 [04:35<04:08, 10.11it/s]\u001b[A\u001b[A\n",
            "\n",
            " 28%|██▊       | 981/3486 [04:35<03:06, 13.42it/s]\u001b[A\u001b[A"
          ],
          "name": "stderr"
        },
        {
          "output_type": "stream",
          "text": [
            "460\n",
            "3274\n",
            "(990, 67)\n",
            "67\n",
            "3276\n",
            "(1344, 76)\n",
            "76\n",
            "3278\n",
            "(2556, 107)\n",
            "107\n",
            "3279\n",
            "(432, 78)\n",
            "78\n",
            "3280\n",
            "(1020, 64)\n",
            "64\n",
            "3281\n",
            "(2790, 121)\n",
            "121\n",
            "3282\n",
            "(4050, 135)\n",
            "135\n",
            "3283\n",
            "(1080, 79)\n",
            "79\n",
            "3284\n",
            "(4680, 142)\n"
          ],
          "name": "stdout"
        },
        {
          "output_type": "stream",
          "text": [
            "\n",
            "\n",
            " 28%|██▊       | 985/3486 [04:35<02:33, 16.30it/s]\u001b[A\u001b[A\n",
            "\n",
            " 28%|██▊       | 992/3486 [04:35<02:00, 20.65it/s]\u001b[A\u001b[A"
          ],
          "name": "stderr"
        },
        {
          "output_type": "stream",
          "text": [
            "142\n",
            "3285\n",
            "(1824, 86)\n",
            "86\n",
            "3286\n",
            "(315, 52)\n",
            "52\n",
            "3287\n",
            "(1200, 70)\n",
            "70\n",
            "3288\n",
            "(768, 64)\n",
            "64\n",
            "3289\n",
            "(2610, 103)\n",
            "103\n",
            "3290\n",
            "(1560, 86)\n",
            "86\n",
            "3291\n",
            "(1200, 80)\n",
            "80\n",
            "3292\n",
            "(3402, 123)\n",
            "123\n",
            "3293\n",
            "(468, 49)\n",
            "49\n",
            "3294\n",
            "(396, 47)\n",
            "47\n",
            "3295\n",
            "(1920, 92)\n",
            "92\n",
            "3296\n",
            "(17496, 522)\n"
          ],
          "name": "stdout"
        },
        {
          "output_type": "stream",
          "text": [
            "\n",
            "\n",
            " 29%|██▊       | 996/3486 [04:36<03:12, 12.94it/s]\u001b[A\u001b[A\n",
            "\n",
            " 29%|██▊       | 1001/3486 [04:36<02:30, 16.50it/s]\u001b[A\u001b[A"
          ],
          "name": "stderr"
        },
        {
          "output_type": "stream",
          "text": [
            "522\n",
            "3297\n",
            "(2220, 97)\n",
            "97\n",
            "3298\n",
            "(756, 60)\n",
            "60\n",
            "3299\n",
            "(3456, 120)\n",
            "120\n",
            "3301\n",
            "(2835, 108)\n",
            "108\n",
            "3302\n",
            "(1368, 74)\n",
            "74\n",
            "3303\n",
            "(1512, 78)\n",
            "78\n",
            "3304\n",
            "(1332, 73)\n",
            "73\n",
            "3305\n",
            "(432, 48)\n",
            "48\n",
            "3306\n",
            "(2220, 97)\n",
            "97\n",
            "3307\n",
            "(675, 60)\n",
            "60\n",
            "3308\n"
          ],
          "name": "stdout"
        },
        {
          "output_type": "stream",
          "text": [
            "\n",
            "\n",
            " 29%|██▉       | 1007/3486 [04:36<02:07, 19.44it/s]\u001b[A\u001b[A\n",
            "\n",
            " 29%|██▉       | 1013/3486 [04:36<01:42, 24.13it/s]\u001b[A\u001b[A"
          ],
          "name": "stderr"
        },
        {
          "output_type": "stream",
          "text": [
            "(8760, 206)\n",
            "206\n",
            "3309\n",
            "(1980, 91)\n",
            "91\n",
            "3310\n",
            "(864, 66)\n",
            "66\n",
            "3311\n",
            "(1404, 75)\n",
            "75\n",
            "3312\n",
            "(816, 65)\n",
            "65\n",
            "3313\n",
            "(1722, 83)\n",
            "83\n",
            "3314\n",
            "(2340, 116)\n",
            "116\n",
            "3316\n",
            "(828, 59)\n",
            "59\n",
            "3317\n",
            "(432, 48)\n",
            "48\n",
            "3318\n"
          ],
          "name": "stdout"
        },
        {
          "output_type": "stream",
          "text": [
            "\n",
            "\n",
            " 29%|██▉       | 1018/3486 [04:36<01:28, 27.82it/s]\u001b[A\u001b[A"
          ],
          "name": "stderr"
        },
        {
          "output_type": "stream",
          "text": [
            "(4248, 154)\n",
            "154\n",
            "3321\n",
            "(2784, 106)\n",
            "106\n",
            "3322\n",
            "(2295, 96)\n",
            "96\n",
            "3323\n",
            "(5079, 166)\n",
            "166\n",
            "3325\n",
            "(36288, 1044)\n",
            "1044\n",
            "3326\n",
            "(34128, 984)\n",
            "984\n",
            "3327\n",
            "(33156, 957)\n",
            "957\n",
            "3328\n",
            "(36648, 1054)\n"
          ],
          "name": "stdout"
        },
        {
          "output_type": "stream",
          "text": [
            "\n",
            "\n",
            " 29%|██▉       | 1023/3486 [04:46<24:28,  1.68it/s]\u001b[A\u001b[A"
          ],
          "name": "stderr"
        },
        {
          "output_type": "stream",
          "text": [
            "1054\n",
            "3329\n",
            "(32076, 927)\n",
            "927\n",
            "3330\n",
            "(18564, 515)\n"
          ],
          "name": "stdout"
        },
        {
          "output_type": "stream",
          "text": [
            "\n",
            "\n",
            " 29%|██▉       | 1026/3486 [04:48<27:47,  1.48it/s]\u001b[A\u001b[A\n",
            "\n",
            " 30%|██▉       | 1030/3486 [04:48<19:46,  2.07it/s]\u001b[A\u001b[A"
          ],
          "name": "stderr"
        },
        {
          "output_type": "stream",
          "text": [
            "515\n",
            "3332\n",
            "(1980, 93)\n",
            "93\n",
            "3333\n",
            "(1620, 81)\n",
            "81\n",
            "3334\n",
            "(1440, 84)\n",
            "84\n",
            "3335\n",
            "(2880, 116)\n",
            "116\n",
            "3336\n",
            "(4444, 145)\n",
            "145\n",
            "3337\n",
            "(630, 59)\n",
            "59\n",
            "3338\n",
            "(512, 72)\n",
            "72\n",
            "3339\n",
            "(3750, 125)\n"
          ],
          "name": "stdout"
        },
        {
          "output_type": "stream",
          "text": [
            "\n",
            "\n",
            " 30%|██▉       | 1034/3486 [04:48<14:20,  2.85it/s]\u001b[A\u001b[A"
          ],
          "name": "stderr"
        },
        {
          "output_type": "stream",
          "text": [
            "125\n",
            "3340\n",
            "(8106, 235)\n",
            "235\n",
            "3341\n",
            "(2325, 106)\n",
            "106\n",
            "3342\n",
            "(960, 77)\n",
            "77\n",
            "3346\n",
            "(9855, 264)\n"
          ],
          "name": "stdout"
        },
        {
          "output_type": "stream",
          "text": [
            "\n",
            "\n",
            " 30%|██▉       | 1037/3486 [04:49<10:45,  3.79it/s]\u001b[A\u001b[A\n",
            "\n",
            " 30%|██▉       | 1042/3486 [04:49<07:47,  5.23it/s]\u001b[A\u001b[A"
          ],
          "name": "stderr"
        },
        {
          "output_type": "stream",
          "text": [
            "264\n",
            "3347\n",
            "(720, 63)\n",
            "63\n",
            "3348\n",
            "(1872, 98)\n",
            "98\n",
            "3349\n",
            "(495, 56)\n",
            "56\n",
            "3350\n",
            "(2100, 95)\n",
            "95\n",
            "3351\n",
            "(2352, 97)\n",
            "97\n",
            "3352\n",
            "(3996, 147)\n",
            "147\n",
            "3353\n",
            "(216, 42)\n",
            "42\n",
            "3354\n",
            "(1950, 101)\n",
            "101\n",
            "3356\n",
            "(14904, 450)\n"
          ],
          "name": "stdout"
        },
        {
          "output_type": "stream",
          "text": [
            "\n",
            "\n",
            " 30%|███       | 1046/3486 [04:49<06:56,  5.86it/s]\u001b[A\u001b[A\n",
            "\n",
            " 30%|███       | 1050/3486 [04:49<05:09,  7.86it/s]\u001b[A\u001b[A"
          ],
          "name": "stderr"
        },
        {
          "output_type": "stream",
          "text": [
            "450\n",
            "3357\n",
            "(2700, 111)\n",
            "111\n",
            "3358\n",
            "(396, 47)\n",
            "47\n",
            "3359\n",
            "(1080, 78)\n",
            "78\n",
            "3360\n",
            "(4725, 138)\n",
            "138\n",
            "3361\n",
            "(1248, 76)\n",
            "76\n",
            "3362\n",
            "(612, 53)\n",
            "53\n",
            "3363\n",
            "(1050, 89)\n",
            "89\n",
            "3364\n",
            "(4860, 153)\n"
          ],
          "name": "stdout"
        },
        {
          "output_type": "stream",
          "text": [
            "\n",
            "\n",
            " 30%|███       | 1054/3486 [04:49<03:54, 10.36it/s]\u001b[A\u001b[A\n",
            "\n",
            " 30%|███       | 1058/3486 [04:50<03:13, 12.56it/s]\u001b[A\u001b[A"
          ],
          "name": "stderr"
        },
        {
          "output_type": "stream",
          "text": [
            "153\n",
            "3365\n",
            "(2250, 105)\n",
            "105\n",
            "3366\n",
            "(2952, 118)\n",
            "118\n",
            "3367\n",
            "(2016, 100)\n",
            "100\n",
            "3368\n",
            "(7335, 208)\n",
            "208\n",
            "3369\n",
            "(720, 72)\n",
            "72\n",
            "3370\n",
            "(14430, 409)\n"
          ],
          "name": "stdout"
        },
        {
          "output_type": "stream",
          "text": [
            "\n",
            "\n",
            " 30%|███       | 1061/3486 [04:50<04:09,  9.72it/s]\u001b[A\u001b[A"
          ],
          "name": "stderr"
        },
        {
          "output_type": "stream",
          "text": [
            "409\n",
            "3372\n",
            "(8685, 238)\n",
            "238\n",
            "3374\n",
            "(1320, 82)\n",
            "82\n",
            "3375\n",
            "(432, 57)\n",
            "57\n",
            "3376\n",
            "(360, 46)\n",
            "46\n",
            "3377\n",
            "(8685, 238)\n"
          ],
          "name": "stdout"
        },
        {
          "output_type": "stream",
          "text": [
            "\n",
            "\n",
            " 31%|███       | 1065/3486 [04:50<03:21, 12.03it/s]\u001b[A\u001b[A"
          ],
          "name": "stderr"
        },
        {
          "output_type": "stream",
          "text": [
            "238\n",
            "3378\n",
            "(11700, 305)\n",
            "305\n",
            "3379\n",
            "(9945, 266)\n",
            "266\n",
            "3380\n",
            "(9240, 271)\n"
          ],
          "name": "stdout"
        },
        {
          "output_type": "stream",
          "text": [
            "\n",
            "\n",
            " 31%|███       | 1068/3486 [04:51<04:18,  9.36it/s]\u001b[A\u001b[A\n",
            "\n",
            " 31%|███       | 1070/3486 [04:51<03:42, 10.84it/s]\u001b[A\u001b[A"
          ],
          "name": "stderr"
        },
        {
          "output_type": "stream",
          "text": [
            "271\n",
            "3381\n",
            "(8325, 230)\n",
            "230\n",
            "3382\n",
            "(216, 42)\n",
            "42\n",
            "3383\n",
            "(19755, 484)\n"
          ],
          "name": "stdout"
        },
        {
          "output_type": "stream",
          "text": [
            "\n",
            "\n",
            " 31%|███       | 1072/3486 [04:52<07:13,  5.57it/s]\u001b[A\u001b[A"
          ],
          "name": "stderr"
        },
        {
          "output_type": "stream",
          "text": [
            "484\n",
            "3384\n",
            "(10290, 287)\n",
            "287\n",
            "3385\n",
            "(8568, 246)\n",
            "246\n",
            "3386\n",
            "(9660, 272)\n"
          ],
          "name": "stdout"
        },
        {
          "output_type": "stream",
          "text": [
            "\n",
            "\n",
            " 31%|███       | 1074/3486 [04:52<06:41,  6.01it/s]\u001b[A\u001b[A"
          ],
          "name": "stderr"
        },
        {
          "output_type": "stream",
          "text": [
            "272\n",
            "3387\n",
            "(7350, 217)\n",
            "217\n",
            "3388\n",
            "(8106, 235)\n",
            "235"
          ],
          "name": "stdout"
        },
        {
          "output_type": "stream",
          "text": [
            "\n",
            "\n",
            " 31%|███       | 1076/3486 [04:52<05:53,  6.81it/s]\u001b[A\u001b[A"
          ],
          "name": "stderr"
        },
        {
          "output_type": "stream",
          "text": [
            "\n",
            "3389\n",
            "(2100, 103)\n",
            "103\n",
            "3391\n",
            "(43386, 1075)\n"
          ],
          "name": "stdout"
        },
        {
          "output_type": "stream",
          "text": [
            "\n",
            "\n",
            " 31%|███       | 1078/3486 [04:55<24:34,  1.63it/s]\u001b[A\u001b[A\n",
            "\n",
            " 31%|███       | 1080/3486 [04:56<17:55,  2.24it/s]\u001b[A\u001b[A"
          ],
          "name": "stderr"
        },
        {
          "output_type": "stream",
          "text": [
            "1075\n",
            "3393\n",
            "(3240, 126)\n",
            "126\n",
            "3394\n",
            "(7344, 240)\n",
            "240\n",
            "3395\n",
            "(7056, 232)\n"
          ],
          "name": "stdout"
        },
        {
          "output_type": "stream",
          "text": [
            "\n",
            "\n",
            " 31%|███       | 1082/3486 [04:56<13:24,  2.99it/s]\u001b[A\u001b[A\n",
            "\n",
            " 31%|███       | 1086/3486 [04:56<09:42,  4.12it/s]\u001b[A\u001b[A"
          ],
          "name": "stderr"
        },
        {
          "output_type": "stream",
          "text": [
            "232\n",
            "3396\n",
            "(4644, 165)\n",
            "165\n",
            "3397\n",
            "(6795, 196)\n",
            "196\n",
            "3399\n",
            "(144, 40)\n",
            "40\n",
            "3400\n",
            "(675, 60)\n",
            "60\n",
            "3403\n",
            "(2760, 106)\n",
            "106\n",
            "3404\n",
            "(8244, 265)"
          ],
          "name": "stdout"
        },
        {
          "output_type": "stream",
          "text": [
            "\n",
            "\n",
            " 31%|███       | 1088/3486 [04:56<08:08,  4.91it/s]\u001b[A\u001b[A"
          ],
          "name": "stderr"
        },
        {
          "output_type": "stream",
          "text": [
            "\n",
            "265\n",
            "3405\n",
            "(7200, 236)\n",
            "236\n",
            "3406\n"
          ],
          "name": "stdout"
        },
        {
          "output_type": "stream",
          "text": [
            "\n",
            "\n",
            " 31%|███▏      | 1091/3486 [04:56<06:23,  6.24it/s]\u001b[A\u001b[A"
          ],
          "name": "stderr"
        },
        {
          "output_type": "stream",
          "text": [
            "(3990, 137)\n",
            "137\n",
            "3407\n",
            "(4104, 150)\n",
            "150\n",
            "3408\n",
            "(7560, 246)\n",
            "246\n",
            "3409\n",
            "(16650, 415)\n"
          ],
          "name": "stdout"
        },
        {
          "output_type": "stream",
          "text": [
            "\n",
            "\n",
            " 31%|███▏      | 1093/3486 [04:57<07:43,  5.16it/s]\u001b[A\u001b[A"
          ],
          "name": "stderr"
        },
        {
          "output_type": "stream",
          "text": [
            "415\n",
            "3410\n",
            "(10215, 272)\n",
            "272\n",
            "3411\n",
            "(7200, 205)\n"
          ],
          "name": "stdout"
        },
        {
          "output_type": "stream",
          "text": [
            "\n",
            "\n",
            " 31%|███▏      | 1095/3486 [04:57<06:30,  6.12it/s]\u001b[A\u001b[A"
          ],
          "name": "stderr"
        },
        {
          "output_type": "stream",
          "text": [
            "205\n",
            "3412\n",
            "(8415, 232)\n",
            "232\n",
            "3413\n",
            "(7380, 209)\n",
            "209\n",
            "3414\n",
            "(4680, 149)\n"
          ],
          "name": "stdout"
        },
        {
          "output_type": "stream",
          "text": [
            "\n",
            "\n",
            " 31%|███▏      | 1097/3486 [04:57<05:18,  7.51it/s]\u001b[A\u001b[A\n",
            "\n",
            " 32%|███▏      | 1099/3486 [04:57<04:33,  8.73it/s]\u001b[A\u001b[A"
          ],
          "name": "stderr"
        },
        {
          "output_type": "stream",
          "text": [
            "149\n",
            "3415\n",
            "(9540, 257)\n",
            "257\n",
            "3416\n",
            "(540, 51)\n",
            "51\n",
            "3417\n",
            "(14328, 434)\n"
          ],
          "name": "stdout"
        },
        {
          "output_type": "stream",
          "text": [
            "\n",
            "\n",
            " 32%|███▏      | 1101/3486 [04:58<05:20,  7.44it/s]\u001b[A\u001b[A\n",
            "\n",
            " 32%|███▏      | 1106/3486 [04:58<04:09,  9.53it/s]\u001b[A\u001b[A"
          ],
          "name": "stderr"
        },
        {
          "output_type": "stream",
          "text": [
            "434\n",
            "3418\n",
            "(252, 43)\n",
            "43\n",
            "3419\n",
            "(2160, 93)\n",
            "93\n",
            "3420\n",
            "(3168, 114)\n",
            "114\n",
            "3421\n",
            "(1440, 92)\n",
            "92\n",
            "3422\n",
            "(720, 72)\n",
            "72\n",
            "3423\n",
            "(8592, 227)\n",
            "227\n",
            "3424\n"
          ],
          "name": "stdout"
        },
        {
          "output_type": "stream",
          "text": [
            "\n",
            "\n",
            " 32%|███▏      | 1108/3486 [04:58<03:31, 11.24it/s]\u001b[A\u001b[A"
          ],
          "name": "stderr"
        },
        {
          "output_type": "stream",
          "text": [
            "(2700, 105)\n",
            "105\n",
            "3425\n",
            "(4185, 138)\n",
            "138\n",
            "3426\n",
            "(7110, 203)\n"
          ],
          "name": "stdout"
        },
        {
          "output_type": "stream",
          "text": [
            "\n",
            "\n",
            " 32%|███▏      | 1110/3486 [04:58<03:18, 12.00it/s]\u001b[A\u001b[A\n",
            "\n",
            " 32%|███▏      | 1112/3486 [04:58<02:55, 13.52it/s]\u001b[A\u001b[A"
          ],
          "name": "stderr"
        },
        {
          "output_type": "stream",
          "text": [
            "203\n",
            "3427\n",
            "(1800, 90)\n",
            "90\n",
            "3428\n",
            "(7875, 220)\n",
            "220\n",
            "3429\n",
            "(1440, 84)\n",
            "84\n",
            "3430\n",
            "(5160, 146)\n",
            "146\n",
            "3431\n",
            "(3150, 125)\n"
          ],
          "name": "stdout"
        },
        {
          "output_type": "stream",
          "text": [
            "\n",
            "\n",
            " 32%|███▏      | 1115/3486 [04:58<02:30, 15.71it/s]\u001b[A\u001b[A"
          ],
          "name": "stderr"
        },
        {
          "output_type": "stream",
          "text": [
            "125\n",
            "3432\n",
            "(3150, 125)\n",
            "125\n",
            "3433\n",
            "(3690, 131)\n",
            "131\n",
            "3434\n",
            "(864, 60)\n",
            "60\n",
            "3435\n",
            "(1296, 72)\n",
            "72\n",
            "3436\n",
            "(576, 52)\n",
            "52\n",
            "3437\n",
            "(900, 61)\n",
            "61\n",
            "3438\n",
            "(1188, 69)\n",
            "69\n",
            "3439\n",
            "(10845, 286)\n"
          ],
          "name": "stdout"
        },
        {
          "output_type": "stream",
          "text": [
            "\n",
            "\n",
            " 32%|███▏      | 1122/3486 [04:59<02:12, 17.84it/s]\u001b[A\u001b[A\n",
            "\n",
            " 32%|███▏      | 1128/3486 [04:59<01:44, 22.49it/s]\u001b[A\u001b[A"
          ],
          "name": "stderr"
        },
        {
          "output_type": "stream",
          "text": [
            "286\n",
            "3442\n",
            "(600, 70)\n",
            "70\n",
            "3444\n",
            "(2844, 115)\n",
            "115\n",
            "3445\n",
            "(3204, 125)\n",
            "125\n",
            "3446\n",
            "(840, 74)\n",
            "74\n",
            "3447\n",
            "(720, 98)\n",
            "98\n",
            "3448\n",
            "(504, 50)\n",
            "50\n",
            "3449\n",
            "(7000, 215)\n",
            "215\n",
            "3450\n",
            "(33192, 958)\n",
            "958\n",
            "3451\n",
            "(32184, 930)\n"
          ],
          "name": "stdout"
        },
        {
          "output_type": "stream",
          "text": [
            "\n",
            "\n",
            " 32%|███▏      | 1132/3486 [05:03<13:25,  2.92it/s]\u001b[A\u001b[A"
          ],
          "name": "stderr"
        },
        {
          "output_type": "stream",
          "text": [
            "930\n",
            "3452\n",
            "(650, 63)\n",
            "63\n",
            "3453\n",
            "(7344, 240)\n",
            "240\n",
            "3454\n",
            "(8064, 260)\n"
          ],
          "name": "stdout"
        },
        {
          "output_type": "stream",
          "text": [
            "\n",
            "\n",
            " 33%|███▎      | 1135/3486 [05:03<10:22,  3.77it/s]\u001b[A\u001b[A"
          ],
          "name": "stderr"
        },
        {
          "output_type": "stream",
          "text": [
            "260\n",
            "3455\n",
            "(2100, 95)\n",
            "95\n",
            "3456\n",
            "(2664, 110)\n",
            "110\n",
            "3457\n",
            "(30060, 871)\n"
          ],
          "name": "stdout"
        },
        {
          "output_type": "stream",
          "text": [
            "\n",
            "\n",
            " 33%|███▎      | 1137/3486 [05:05<17:56,  2.18it/s]\u001b[A\u001b[A"
          ],
          "name": "stderr"
        },
        {
          "output_type": "stream",
          "text": [
            "871\n",
            "3458\n",
            "(29592, 858)\n",
            "858\n",
            "3459\n",
            "(29268, 849)\n"
          ],
          "name": "stdout"
        },
        {
          "output_type": "stream",
          "text": [
            "\n",
            "\n",
            " 33%|███▎      | 1139/3486 [05:08<32:55,  1.19it/s]\u001b[A\u001b[A"
          ],
          "name": "stderr"
        },
        {
          "output_type": "stream",
          "text": [
            "849\n",
            "3460\n",
            "(28008, 814)\n"
          ],
          "name": "stdout"
        },
        {
          "output_type": "stream",
          "text": [
            "\n",
            "\n",
            " 33%|███▎      | 1140/3486 [05:10<38:37,  1.01it/s]\u001b[A\u001b[A\n",
            "\n",
            " 33%|███▎      | 1141/3486 [05:10<28:26,  1.37it/s]\u001b[A\u001b[A"
          ],
          "name": "stderr"
        },
        {
          "output_type": "stream",
          "text": [
            "814\n",
            "3461\n",
            "(7812, 253)\n",
            "253\n",
            "3462\n",
            "(6768, 224)\n"
          ],
          "name": "stdout"
        },
        {
          "output_type": "stream",
          "text": [
            "\n",
            "\n",
            " 33%|███▎      | 1143/3486 [05:10<20:38,  1.89it/s]\u001b[A\u001b[A"
          ],
          "name": "stderr"
        },
        {
          "output_type": "stream",
          "text": [
            "224\n",
            "3463\n",
            "(3840, 124)\n",
            "124\n",
            "3466\n",
            "(273, 46)\n",
            "46\n",
            "3468\n",
            "(47184, 1031)\n"
          ],
          "name": "stdout"
        },
        {
          "output_type": "stream",
          "text": [
            "\n",
            "\n",
            " 33%|███▎      | 1145/3486 [05:13<35:17,  1.11it/s]\u001b[A\u001b[A"
          ],
          "name": "stderr"
        },
        {
          "output_type": "stream",
          "text": [
            "1031\n",
            "3469\n",
            "(21060, 513)\n"
          ],
          "name": "stdout"
        },
        {
          "output_type": "stream",
          "text": [
            "\n",
            "\n",
            " 33%|███▎      | 1146/3486 [05:14<33:24,  1.17it/s]\u001b[A\u001b[A\n",
            "\n",
            " 33%|███▎      | 1151/3486 [05:14<23:35,  1.65it/s]\u001b[A\u001b[A"
          ],
          "name": "stderr"
        },
        {
          "output_type": "stream",
          "text": [
            "513\n",
            "3470\n",
            "(288, 54)\n",
            "54\n",
            "3471\n",
            "(1380, 83)\n",
            "83\n",
            "3472\n",
            "(1080, 78)\n",
            "78\n",
            "3473\n",
            "(840, 58)\n",
            "58\n",
            "3474\n",
            "(4860, 153)\n",
            "153\n",
            "3475\n",
            "(2088, 94)\n",
            "94\n",
            "3476\n",
            "(1908, 89)\n",
            "89\n",
            "3477\n",
            "(1656, 82)\n",
            "82\n",
            "3478\n",
            "(1692, 83)\n",
            "83\n"
          ],
          "name": "stdout"
        },
        {
          "output_type": "stream",
          "text": [
            "\n",
            "\n",
            " 33%|███▎      | 1157/3486 [05:14<16:41,  2.33it/s]\u001b[A\u001b[A\n",
            "\n",
            " 33%|███▎      | 1162/3486 [05:15<11:54,  3.25it/s]\u001b[A\u001b[A"
          ],
          "name": "stderr"
        },
        {
          "output_type": "stream",
          "text": [
            "3479\n",
            "(1440, 76)\n",
            "76\n",
            "3480\n",
            "(1404, 75)\n",
            "75\n",
            "3481\n",
            "(2880, 116)\n",
            "116\n",
            "3482\n",
            "(1728, 84)\n",
            "84\n",
            "3483\n",
            "(1836, 87)\n",
            "87\n",
            "3484\n",
            "(1872, 88)\n",
            "88\n",
            "3485\n",
            "(1620, 81)\n",
            "81\n",
            "3486\n",
            "(1476, 77)\n",
            "77\n",
            "3487\n",
            "(11412, 386)\n",
            "386\n",
            "3489\n",
            "(13788, 419)\n"
          ],
          "name": "stdout"
        },
        {
          "output_type": "stream",
          "text": [
            "\n",
            "\n"
          ],
          "name": "stderr"
        },
        {
          "output_type": "stream",
          "text": [
            "419\n",
            "3490\n",
            "(10656, 332)\n",
            "332\n"
          ],
          "name": "stdout"
        },
        {
          "output_type": "stream",
          "text": [
            "\r 33%|███▎      | 1166/3486 [05:15<10:41,  3.62it/s]\u001b[A\u001b[A"
          ],
          "name": "stderr"
        },
        {
          "output_type": "stream",
          "text": [
            "3491\n",
            "(7452, 243)\n",
            "243\n",
            "3492\n",
            "(10116, 317)\n"
          ],
          "name": "stdout"
        },
        {
          "output_type": "stream",
          "text": [
            "\n",
            "\n",
            " 34%|███▎      | 1169/3486 [05:16<08:59,  4.29it/s]\u001b[A\u001b[A"
          ],
          "name": "stderr"
        },
        {
          "output_type": "stream",
          "text": [
            "317\n",
            "3493\n",
            "(8208, 264)\n",
            "264\n",
            "3494\n",
            "(8820, 281)\n"
          ],
          "name": "stdout"
        },
        {
          "output_type": "stream",
          "text": [
            "\n",
            "\n",
            " 34%|███▎      | 1171/3486 [05:16<07:22,  5.23it/s]\u001b[A\u001b[A\n",
            "\n",
            " 34%|███▎      | 1176/3486 [05:16<05:23,  7.14it/s]\u001b[A\u001b[A"
          ],
          "name": "stderr"
        },
        {
          "output_type": "stream",
          "text": [
            "281\n",
            "3495\n",
            "(3540, 119)\n",
            "119\n",
            "3496\n",
            "(1968, 89)\n",
            "89\n",
            "3497\n",
            "(864, 66)\n",
            "66\n",
            "3498\n",
            "(360, 46)\n",
            "46\n",
            "3499\n",
            "(1035, 68)\n",
            "68\n",
            "3500\n",
            "(3708, 139)\n",
            "139\n",
            "3501\n",
            "(792, 58)\n",
            "58\n",
            "3502\n",
            "(6570, 191)\n"
          ],
          "name": "stdout"
        },
        {
          "output_type": "stream",
          "text": [
            "\n",
            "\n",
            " 34%|███▍      | 1179/3486 [05:16<04:14,  9.08it/s]\u001b[A\u001b[A\n",
            "\n",
            " 34%|███▍      | 1183/3486 [05:16<03:15, 11.75it/s]\u001b[A\u001b[A"
          ],
          "name": "stderr"
        },
        {
          "output_type": "stream",
          "text": [
            "191\n",
            "3503\n",
            "(1008, 69)\n",
            "69\n",
            "3504\n",
            "(5625, 150)\n",
            "150\n",
            "3505\n",
            "(1215, 72)\n",
            "72\n",
            "3506\n",
            "(1728, 84)\n",
            "84\n",
            "3507\n",
            "(450, 55)\n",
            "55\n",
            "3508\n",
            "(6120, 206)\n"
          ],
          "name": "stdout"
        },
        {
          "output_type": "stream",
          "text": [
            "\n",
            "\n",
            " 34%|███▍      | 1186/3486 [05:16<02:53, 13.28it/s]\u001b[A\u001b[A"
          ],
          "name": "stderr"
        },
        {
          "output_type": "stream",
          "text": [
            "206\n",
            "3509\n",
            "(1860, 91)\n",
            "91\n",
            "3510\n",
            "(3960, 127)\n",
            "127\n",
            "3511\n",
            "(288, 44)\n",
            "44\n",
            "3512\n",
            "(6300, 185)\n",
            "185\n",
            "3513\n",
            "(43440, 953)\n"
          ],
          "name": "stdout"
        },
        {
          "output_type": "stream",
          "text": [
            "\n",
            "\n",
            " 34%|███▍      | 1189/3486 [05:19<12:35,  3.04it/s]\u001b[A\u001b[A\n",
            "\n",
            " 34%|███▍      | 1193/3486 [05:19<09:11,  4.15it/s]\u001b[A\u001b[A"
          ],
          "name": "stderr"
        },
        {
          "output_type": "stream",
          "text": [
            "953\n",
            "3514\n",
            "(3840, 124)\n",
            "124\n",
            "3516\n",
            "(2025, 90)\n",
            "90\n",
            "3517\n",
            "(3900, 125)\n",
            "125\n",
            "3518\n",
            "(4176, 152)\n",
            "152\n",
            "3519\n",
            "(1188, 69)\n",
            "69\n",
            "3520\n"
          ],
          "name": "stdout"
        },
        {
          "output_type": "stream",
          "text": [
            "\n",
            "\n",
            " 34%|███▍      | 1196/3486 [05:20<07:19,  5.22it/s]\u001b[A\u001b[A"
          ],
          "name": "stderr"
        },
        {
          "output_type": "stream",
          "text": [
            "(10440, 326)\n",
            "326\n",
            "3521\n",
            "(1248, 74)\n",
            "74\n",
            "3523\n",
            "(468, 49)\n",
            "49\n",
            "3525\n",
            "(172296, 1925)\n"
          ],
          "name": "stdout"
        },
        {
          "output_type": "stream",
          "text": [
            "\n",
            "\n",
            " 34%|███▍      | 1196/3486 [05:32<07:19,  5.22it/s]\u001b[A\u001b[A\n",
            "\n",
            " 34%|███▍      | 1198/3486 [05:46<2:35:32,  4.08s/it]\u001b[A\u001b[A\n",
            "\n",
            " 35%|███▍      | 1204/3486 [05:46<1:48:50,  2.86s/it]\u001b[A\u001b[A"
          ],
          "name": "stderr"
        },
        {
          "output_type": "stream",
          "text": [
            "1925\n",
            "3526\n",
            "(720, 56)\n",
            "56\n",
            "3527\n",
            "(1152, 72)\n",
            "72\n",
            "3528\n",
            "(1908, 89)\n",
            "89\n",
            "3529\n",
            "(2556, 107)\n",
            "107\n",
            "3530\n",
            "(2655, 104)\n",
            "104\n",
            "3531\n",
            "(3312, 128)\n",
            "128\n"
          ],
          "name": "stdout"
        },
        {
          "output_type": "stream",
          "text": [
            "\n",
            "\n",
            " 35%|███▍      | 1207/3486 [05:46<1:16:33,  2.02s/it]\u001b[A\u001b[A"
          ],
          "name": "stderr"
        },
        {
          "output_type": "stream",
          "text": [
            "3532\n",
            "(3420, 131)\n",
            "131\n",
            "3534\n",
            "(3132, 123)\n",
            "123\n",
            "3535\n",
            "(3672, 138)\n",
            "138\n",
            "3536\n",
            "(2196, 97)\n",
            "97\n",
            "3537\n",
            "(720, 63)\n",
            "63\n",
            "3539\n",
            "(5850, 153)\n"
          ],
          "name": "stdout"
        },
        {
          "output_type": "stream",
          "text": [
            "\n",
            "\n",
            " 35%|███▍      | 1211/3486 [05:46<53:47,  1.42s/it]  \u001b[A\u001b[A\n",
            "\n",
            " 35%|███▍      | 1214/3486 [05:46<38:12,  1.01s/it]\u001b[A\u001b[A"
          ],
          "name": "stderr"
        },
        {
          "output_type": "stream",
          "text": [
            "153\n",
            "3540\n",
            "(756, 60)\n",
            "60\n",
            "3542\n",
            "(8280, 266)\n",
            "266\n",
            "3543\n",
            "(900, 61)\n",
            "61\n",
            "3544\n",
            "(1296, 75)\n",
            "75\n",
            "3545\n",
            "(5130, 147)\n",
            "147\n",
            "3546\n",
            "(1056, 70)\n",
            "70\n",
            "3548\n",
            "(952, 73)\n",
            "73\n",
            "3549\n",
            "(12150, 477)\n"
          ],
          "name": "stdout"
        },
        {
          "output_type": "stream",
          "text": [
            "\n",
            "\n",
            " 35%|███▍      | 1218/3486 [05:47<27:50,  1.36it/s]\u001b[A\u001b[A"
          ],
          "name": "stderr"
        },
        {
          "output_type": "stream",
          "text": [
            "477\n",
            "3550\n",
            "(576, 52)\n",
            "52\n",
            "3552\n",
            "(2835, 108)\n",
            "108\n",
            "3553\n",
            "(612, 53)\n",
            "53\n",
            "3554\n",
            "(16200, 486)\n"
          ],
          "name": "stdout"
        },
        {
          "output_type": "stream",
          "text": [
            "\n",
            "\n",
            " 35%|███▌      | 1222/3486 [05:47<20:58,  1.80it/s]\u001b[A\u001b[A"
          ],
          "name": "stderr"
        },
        {
          "output_type": "stream",
          "text": [
            "486\n",
            "3555\n",
            "(32256, 720)\n",
            "720\n",
            "3556\n",
            "(26016, 590)\n"
          ],
          "name": "stdout"
        },
        {
          "output_type": "stream",
          "text": [
            "\n",
            "\n",
            " 35%|███▌      | 1224/3486 [05:50<27:30,  1.37it/s]\u001b[A\u001b[A\n",
            "\n",
            " 35%|███▌      | 1226/3486 [05:50<20:13,  1.86it/s]\u001b[A\u001b[A"
          ],
          "name": "stderr"
        },
        {
          "output_type": "stream",
          "text": [
            "590\n",
            "3557\n",
            "(5490, 167)\n",
            "167\n",
            "3558\n",
            "(8505, 234)\n",
            "234\n",
            "3561"
          ],
          "name": "stdout"
        },
        {
          "output_type": "stream",
          "text": [
            "\n",
            "\n",
            " 35%|███▌      | 1228/3486 [05:50<14:44,  2.55it/s]\u001b[A\u001b[A"
          ],
          "name": "stderr"
        },
        {
          "output_type": "stream",
          "text": [
            "\n",
            "(1350, 93)\n",
            "93\n",
            "3562\n",
            "(2412, 103)\n",
            "103\n",
            "3563\n",
            "(1800, 99)\n",
            "99\n",
            "3564\n",
            "(3240, 114)\n",
            "114\n",
            "3565\n",
            "(2700, 120)"
          ],
          "name": "stdout"
        },
        {
          "output_type": "stream",
          "text": [
            "\n",
            "\n",
            " 35%|███▌      | 1231/3486 [05:50<10:48,  3.47it/s]\u001b[A\u001b[A"
          ],
          "name": "stderr"
        },
        {
          "output_type": "stream",
          "text": [
            "\n",
            "120\n",
            "3566\n",
            "(1260, 71)\n",
            "71\n",
            "3567\n",
            "(312, 47)\n",
            "47\n",
            "3568\n",
            "(5310, 149)\n",
            "149\n",
            "3569\n",
            "(182304, 1834)\n"
          ],
          "name": "stdout"
        },
        {
          "output_type": "stream",
          "text": [
            "\n",
            "\n",
            " 35%|███▌      | 1231/3486 [06:02<10:48,  3.47it/s]\u001b[A\u001b[A\n",
            "\n",
            " 35%|███▌      | 1235/3486 [06:16<1:20:34,  2.15s/it]\u001b[A\u001b[A"
          ],
          "name": "stderr"
        },
        {
          "output_type": "stream",
          "text": [
            "1834\n",
            "3570\n",
            "(660, 71)\n",
            "71\n",
            "3571\n",
            "(25500, 551)\n"
          ],
          "name": "stdout"
        },
        {
          "output_type": "stream",
          "text": [
            "\n",
            "\n",
            " 35%|███▌      | 1237/3486 [06:17<1:01:21,  1.64s/it]\u001b[A\u001b[A"
          ],
          "name": "stderr"
        },
        {
          "output_type": "stream",
          "text": [
            "551\n",
            "3572\n",
            "(960, 68)\n",
            "68\n",
            "3573\n",
            "(1440, 84)\n",
            "84\n",
            "3574\n",
            "(3840, 124)\n",
            "124\n",
            "3575\n",
            "(1332, 73)\n",
            "73\n",
            "3576\n",
            "(936, 62)\n",
            "62\n",
            "3578\n",
            "(64080, 1074)\n"
          ],
          "name": "stdout"
        },
        {
          "output_type": "stream",
          "text": [
            "\n",
            "\n",
            " 36%|███▌      | 1243/3486 [06:22<51:36,  1.38s/it]  \u001b[A\u001b[A\n",
            "\n",
            " 36%|███▌      | 1250/3486 [06:22<36:11,  1.03it/s]\u001b[A\u001b[A"
          ],
          "name": "stderr"
        },
        {
          "output_type": "stream",
          "text": [
            "1074\n",
            "3579\n",
            "(1440, 76)\n",
            "76\n",
            "3580\n",
            "(288, 44)\n",
            "44\n",
            "3581\n",
            "(630, 57)\n",
            "57\n",
            "3582\n",
            "(1920, 94)\n",
            "94\n",
            "3583\n",
            "(1575, 96)\n",
            "96\n",
            "3584\n",
            "(2700, 111)\n",
            "111\n",
            "3585\n",
            "(1392, 77)\n",
            "77\n",
            "3586\n",
            "(36, 37)\n",
            "37\n",
            "3587\n",
            "(4176, 152)\n",
            "152\n",
            "3589\n",
            "(2025, 192)\n"
          ],
          "name": "stdout"
        },
        {
          "output_type": "stream",
          "text": [
            "\n",
            "\n",
            " 36%|███▌      | 1254/3486 [06:22<25:37,  1.45it/s]\u001b[A\u001b[A\n",
            "\n",
            " 36%|███▌      | 1257/3486 [06:22<18:21,  2.02it/s]\u001b[A\u001b[A"
          ],
          "name": "stderr"
        },
        {
          "output_type": "stream",
          "text": [
            "192\n",
            "3590\n",
            "(1845, 191)\n",
            "191\n",
            "3591\n",
            "(4896, 172)\n",
            "172\n",
            "3592\n",
            "(1584, 155)\n",
            "155\n",
            "3593\n",
            "(2430, 177)\n",
            "177\n",
            "3594\n",
            "(600, 83)\n",
            "83\n",
            "3595\n",
            "(2160, 93)\n",
            "93\n",
            "3597\n",
            "(480, 58)\n",
            "58\n",
            "3598\n",
            "(2040, 94)\n",
            "94\n",
            "3599\n",
            "(12105, 314)\n"
          ],
          "name": "stdout"
        },
        {
          "output_type": "stream",
          "text": [
            "\n",
            "\n",
            " 36%|███▌      | 1262/3486 [06:22<13:28,  2.75it/s]\u001b[A\u001b[A\n",
            "\n",
            " 36%|███▋      | 1269/3486 [06:22<09:34,  3.86it/s]\u001b[A\u001b[A"
          ],
          "name": "stderr"
        },
        {
          "output_type": "stream",
          "text": [
            "314\n",
            "3600\n",
            "(750, 85)\n",
            "85\n",
            "3601\n",
            "(2448, 104)\n",
            "104\n",
            "3602\n",
            "(1944, 99)\n",
            "99\n",
            "3604\n",
            "(630, 57)\n",
            "57\n",
            "3605\n",
            "(504, 50)\n",
            "50\n",
            "3606\n",
            "(216, 42)\n",
            "42\n",
            "3607\n",
            "(1935, 88)\n",
            "88\n",
            "3608\n",
            "(4392, 158)\n",
            "158\n",
            "3609\n",
            "(5256, 182)\n"
          ],
          "name": "stdout"
        },
        {
          "output_type": "stream",
          "text": [
            "\n",
            "\n",
            " 37%|███▋      | 1273/3486 [06:22<07:06,  5.19it/s]\u001b[A\u001b[A\n",
            "\n",
            " 37%|███▋      | 1278/3486 [06:23<05:14,  7.03it/s]\u001b[A\u001b[A"
          ],
          "name": "stderr"
        },
        {
          "output_type": "stream",
          "text": [
            "182\n",
            "3610\n",
            "(1908, 89)\n",
            "89\n",
            "3611\n",
            "(1224, 70)\n",
            "70\n",
            "3612\n",
            "(1044, 65)\n",
            "65\n",
            "3613\n",
            "(960, 76)\n",
            "76\n",
            "3615\n",
            "(945, 66)\n",
            "66\n",
            "3616\n",
            "(4284, 155)\n",
            "155\n",
            "3617\n",
            "(1455, 291)\n",
            "291\n",
            "3618\n",
            "(3402, 123)\n",
            "123\n",
            "3619\n"
          ],
          "name": "stdout"
        },
        {
          "output_type": "stream",
          "text": [
            "\n",
            "\n",
            " 37%|███▋      | 1282/3486 [06:23<04:09,  8.84it/s]\u001b[A\u001b[A"
          ],
          "name": "stderr"
        },
        {
          "output_type": "stream",
          "text": [
            "(3150, 185)\n",
            "185\n",
            "3621\n",
            "(1350, 93)\n",
            "93\n",
            "3622\n",
            "(6570, 191)\n",
            "191\n",
            "3623\n",
            "(2340, 99)\n",
            "99\n",
            "3624\n",
            "(720, 72)\n",
            "72\n",
            "3626\n",
            "(2100, 95)\n",
            "95\n",
            "3627\n",
            "(576, 52)\n",
            "52\n",
            "3628\n",
            "(144, 40)\n",
            "40\n",
            "3629\n"
          ],
          "name": "stdout"
        },
        {
          "output_type": "stream",
          "text": [
            "\n",
            "\n",
            " 37%|███▋      | 1289/3486 [06:23<03:04, 11.92it/s]\u001b[A\u001b[A\n",
            "\n",
            " 37%|███▋      | 1295/3486 [06:23<02:20, 15.60it/s]\u001b[A\u001b[A"
          ],
          "name": "stderr"
        },
        {
          "output_type": "stream",
          "text": [
            "(1860, 91)\n",
            "91\n",
            "3630\n",
            "(648, 167)\n",
            "167\n",
            "3631\n",
            "(900, 87)\n",
            "87\n",
            "3634\n",
            "(1620, 87)\n",
            "87\n",
            "3635\n",
            "(1125, 70)\n",
            "70\n",
            "3639\n",
            "(2556, 107)\n",
            "107\n",
            "3640\n",
            "(2205, 94)\n",
            "94\n",
            "3641\n",
            "(945, 66)\n",
            "66\n",
            "3642\n",
            "(324, 45)\n",
            "45\n",
            "3643\n",
            "(4290, 149)\n",
            "149\n",
            "3644\n"
          ],
          "name": "stdout"
        },
        {
          "output_type": "stream",
          "text": [
            "\n",
            "\n",
            " 37%|███▋      | 1300/3486 [06:23<01:55, 18.98it/s]\u001b[A\u001b[A"
          ],
          "name": "stderr"
        },
        {
          "output_type": "stream",
          "text": [
            "(1800, 99)\n",
            "99\n",
            "3645\n",
            "(900, 61)\n",
            "61\n",
            "3646\n",
            "(3915, 132)\n",
            "132\n",
            "3647\n",
            "(540, 51)\n",
            "51\n",
            "3648\n",
            "(12555, 324)\n",
            "324\n",
            "3649\n",
            "(6660, 193)\n",
            "193\n",
            "3650\n",
            "(1944, 90)\n",
            "90\n",
            "3651\n",
            "(10350, 275)\n"
          ],
          "name": "stdout"
        },
        {
          "output_type": "stream",
          "text": [
            "\n",
            "\n",
            " 37%|███▋      | 1305/3486 [06:24<02:26, 14.86it/s]\u001b[A\u001b[A"
          ],
          "name": "stderr"
        },
        {
          "output_type": "stream",
          "text": [
            "275\n",
            "3652\n",
            "(1800, 97)\n",
            "97\n",
            "3653\n",
            "(1380, 83)\n",
            "83\n",
            "3654\n",
            "(22644, 388)\n"
          ],
          "name": "stdout"
        },
        {
          "output_type": "stream",
          "text": [
            "\n",
            "\n",
            " 38%|███▊      | 1309/3486 [06:24<03:08, 11.54it/s]\u001b[A\u001b[A"
          ],
          "name": "stderr"
        },
        {
          "output_type": "stream",
          "text": [
            "388\n",
            "3655\n",
            "(675, 60)\n",
            "60\n",
            "3656\n",
            "(8532, 273)\n",
            "273\n",
            "3657\n",
            "(90, 33)\n",
            "33\n",
            "3658\n"
          ],
          "name": "stdout"
        },
        {
          "output_type": "stream",
          "text": [
            "\n",
            "\n",
            " 38%|███▊      | 1312/3486 [06:24<03:27, 10.47it/s]\u001b[A\u001b[A"
          ],
          "name": "stderr"
        },
        {
          "output_type": "stream",
          "text": [
            "(11745, 306)\n",
            "306\n",
            "3660\n",
            "(4608, 164)\n"
          ],
          "name": "stdout"
        },
        {
          "output_type": "stream",
          "text": [
            "\n",
            "\n",
            " 38%|███▊      | 1315/3486 [06:25<03:13, 11.19it/s]\u001b[A\u001b[A"
          ],
          "name": "stderr"
        },
        {
          "output_type": "stream",
          "text": [
            "164\n",
            "3661\n",
            "(4725, 330)\n",
            "330\n",
            "3663\n",
            "(6156, 207)\n",
            "207\n",
            "3664\n",
            "(14000, 390)\n"
          ],
          "name": "stdout"
        },
        {
          "output_type": "stream",
          "text": [
            "\n",
            "\n",
            " 38%|███▊      | 1317/3486 [06:25<04:52,  7.41it/s]\u001b[A\u001b[A"
          ],
          "name": "stderr"
        },
        {
          "output_type": "stream",
          "text": [
            "390\n",
            "3665\n",
            "(7776, 252)\n",
            "252\n",
            "3666\n",
            "(528, 59)\n",
            "59\n",
            "3667\n",
            "(2244, 124)\n",
            "124\n",
            "3668\n",
            "(1045, 74)\n",
            "74\n",
            "3669\n",
            "(1144, 70)\n",
            "70\n",
            "3671\n"
          ],
          "name": "stdout"
        },
        {
          "output_type": "stream",
          "text": [
            "\n",
            "\n",
            " 38%|███▊      | 1322/3486 [06:25<03:45,  9.58it/s]\u001b[A\u001b[A\n",
            "\n",
            " 38%|███▊      | 1328/3486 [06:25<02:49, 12.74it/s]\u001b[A\u001b[A"
          ],
          "name": "stderr"
        },
        {
          "output_type": "stream",
          "text": [
            "(6390, 187)\n",
            "187\n",
            "3672\n",
            "(624, 61)\n",
            "61\n",
            "3673\n",
            "(1872, 88)\n",
            "88\n",
            "3674\n",
            "(4320, 156)\n",
            "156\n",
            "3676\n",
            "(360, 46)\n",
            "46\n",
            "3678\n",
            "(432, 48)\n",
            "48\n",
            "3679\n",
            "(720, 56)\n",
            "56\n",
            "3683\n",
            "(2772, 113)\n",
            "113\n",
            "3684\n"
          ],
          "name": "stdout"
        },
        {
          "output_type": "stream",
          "text": [
            "\n",
            "\n",
            " 38%|███▊      | 1331/3486 [06:26<02:26, 14.68it/s]\u001b[A\u001b[A\n",
            "\n",
            " 38%|███▊      | 1334/3486 [06:26<02:05, 17.14it/s]\u001b[A\u001b[A"
          ],
          "name": "stderr"
        },
        {
          "output_type": "stream",
          "text": [
            "(6705, 194)\n",
            "194\n",
            "3685\n",
            "(1890, 87)\n",
            "87\n",
            "3686\n",
            "(1845, 86)\n",
            "86\n",
            "3687\n",
            "(6345, 186)\n",
            "186\n",
            "3688\n",
            "(540, 51)\n",
            "51\n",
            "3689\n",
            "(1665, 82)\n",
            "82\n",
            "3690"
          ],
          "name": "stdout"
        },
        {
          "output_type": "stream",
          "text": [
            "\n",
            "\n",
            " 38%|███▊      | 1337/3486 [06:26<02:09, 16.59it/s]\u001b[A\u001b[A"
          ],
          "name": "stderr"
        },
        {
          "output_type": "stream",
          "text": [
            "\n",
            "(5400, 150)\n",
            "150\n",
            "3691\n",
            "(8190, 227)\n",
            "227\n",
            "3692\n",
            "(1332, 73)\n",
            "73\n",
            "3693\n",
            "(2928, 109)\n"
          ],
          "name": "stdout"
        },
        {
          "output_type": "stream",
          "text": [
            "\n",
            "\n",
            " 38%|███▊      | 1340/3486 [06:26<01:52, 19.00it/s]\u001b[A\u001b[A"
          ],
          "name": "stderr"
        },
        {
          "output_type": "stream",
          "text": [
            "109\n",
            "3694\n",
            "(4824, 170)\n",
            "170\n",
            "3695\n",
            "(15408, 464)\n"
          ],
          "name": "stdout"
        },
        {
          "output_type": "stream",
          "text": [
            "\n",
            "\n",
            " 39%|███▊      | 1343/3486 [06:26<02:59, 11.94it/s]\u001b[A\u001b[A\n",
            "\n",
            " 39%|███▊      | 1346/3486 [06:27<02:31, 14.15it/s]\u001b[A\u001b[A"
          ],
          "name": "stderr"
        },
        {
          "output_type": "stream",
          "text": [
            "464\n",
            "3696\n",
            "(2256, 95)\n",
            "95\n",
            "3698\n",
            "(2664, 110)\n",
            "110\n",
            "3700\n",
            "(2160, 96)\n",
            "96\n",
            "3701\n",
            "(6675, 164)\n",
            "164\n",
            "3702\n",
            "(3900, 127)\n",
            "127\n",
            "3704\n",
            "(585, 58)\n",
            "58\n",
            "3705\n",
            "(2970, 123)\n",
            "123\n",
            "3706\n",
            "(714, 65)\n",
            "65\n",
            "3708\n",
            "(59040, 893)\n"
          ],
          "name": "stdout"
        },
        {
          "output_type": "stream",
          "text": [
            "\n",
            "\n",
            " 39%|███▊      | 1350/3486 [06:30<10:15,  3.47it/s]\u001b[A\u001b[A\n",
            "\n",
            " 39%|███▉      | 1354/3486 [06:30<07:35,  4.68it/s]\u001b[A\u001b[A"
          ],
          "name": "stderr"
        },
        {
          "output_type": "stream",
          "text": [
            "893\n",
            "3709\n",
            "(1176, 175)\n",
            "175\n",
            "3710\n",
            "(2592, 108)\n",
            "108\n",
            "3711\n",
            "(3708, 139)\n",
            "139\n",
            "3712\n",
            "(6380, 189)\n",
            "189\n",
            "3713\n"
          ],
          "name": "stdout"
        },
        {
          "output_type": "stream",
          "text": [
            "\n",
            "\n",
            " 39%|███▉      | 1356/3486 [06:30<05:58,  5.94it/s]\u001b[A\u001b[A"
          ],
          "name": "stderr"
        },
        {
          "output_type": "stream",
          "text": [
            "(936, 62)\n",
            "62\n",
            "3714\n",
            "(7680, 232)\n",
            "232\n",
            "3715\n",
            "(1104, 71)\n",
            "71\n",
            "3716\n",
            "(3384, 119)\n",
            "119\n",
            "3717\n",
            "(4074, 139)\n",
            "139\n",
            "3718\n"
          ],
          "name": "stdout"
        },
        {
          "output_type": "stream",
          "text": [
            "\n",
            "\n",
            " 39%|███▉      | 1360/3486 [06:30<04:28,  7.91it/s]\u001b[A\u001b[A"
          ],
          "name": "stderr"
        },
        {
          "output_type": "stream",
          "text": [
            "(2100, 95)\n",
            "95\n",
            "3719\n",
            "(17208, 514)\n",
            "514\n",
            "3720\n",
            "(22503, 616)\n"
          ],
          "name": "stdout"
        },
        {
          "output_type": "stream",
          "text": [
            "\n",
            "\n",
            " 39%|███▉      | 1363/3486 [06:32<08:38,  4.09it/s]\u001b[A\u001b[A"
          ],
          "name": "stderr"
        },
        {
          "output_type": "stream",
          "text": [
            "616\n",
            "3721\n",
            "(7812, 253)\n",
            "253\n",
            "3722\n",
            "(3348, 129)\n",
            "129\n",
            "3723\n",
            "(1860, 91)\n",
            "91\n",
            "3724\n",
            "(624, 61)\n",
            "61\n",
            "3725\n",
            "(1320, 82)\n"
          ],
          "name": "stdout"
        },
        {
          "output_type": "stream",
          "text": [
            "\n",
            "\n",
            " 39%|███▉      | 1368/3486 [06:32<06:17,  5.61it/s]\u001b[A\u001b[A"
          ],
          "name": "stderr"
        },
        {
          "output_type": "stream",
          "text": [
            "82\n",
            "3726\n",
            "(3105, 114)\n",
            "114\n",
            "3727\n",
            "(20700, 358)\n"
          ],
          "name": "stdout"
        },
        {
          "output_type": "stream",
          "text": [
            "\n",
            "\n",
            " 39%|███▉      | 1371/3486 [06:32<06:06,  5.77it/s]\u001b[A\u001b[A"
          ],
          "name": "stderr"
        },
        {
          "output_type": "stream",
          "text": [
            "358\n",
            "3728\n",
            "(1008, 64)\n",
            "64\n",
            "3732\n",
            "(756, 57)\n",
            "57\n",
            "3733\n",
            "(792, 58)\n",
            "58\n",
            "3735\n",
            "(1152, 68)\n",
            "68\n",
            "3736\n",
            "(15300, 461)\n"
          ],
          "name": "stdout"
        },
        {
          "output_type": "stream",
          "text": [
            "\n",
            "\n",
            " 39%|███▉      | 1374/3486 [06:33<05:50,  6.02it/s]\u001b[A\u001b[A\n",
            "\n",
            " 40%|███▉      | 1378/3486 [06:33<04:22,  8.03it/s]\u001b[A\u001b[A"
          ],
          "name": "stderr"
        },
        {
          "output_type": "stream",
          "text": [
            "461\n",
            "3737\n",
            "(3780, 132)\n",
            "132\n",
            "3738\n",
            "(1116, 67)\n",
            "67\n",
            "3740\n",
            "(1080, 78)\n",
            "78\n",
            "3741\n",
            "(4500, 140)\n",
            "140\n",
            "3742\n",
            "(1008, 69)\n",
            "69\n",
            "3743\n",
            "(1260, 81)\n",
            "81\n",
            "3744\n",
            "(5600, 180)\n"
          ],
          "name": "stdout"
        },
        {
          "output_type": "stream",
          "text": [
            "\n",
            "\n",
            " 40%|███▉      | 1382/3486 [06:33<03:19, 10.55it/s]\u001b[A\u001b[A"
          ],
          "name": "stderr"
        },
        {
          "output_type": "stream",
          "text": [
            "180\n",
            "3747\n",
            "(1044, 65)\n",
            "65\n",
            "3748\n",
            "(1845, 86)\n",
            "86\n",
            "3749\n",
            "(2040, 94)\n",
            "94\n",
            "3750\n",
            "(16020, 481)\n"
          ],
          "name": "stdout"
        },
        {
          "output_type": "stream",
          "text": [
            "\n",
            "\n",
            " 40%|███▉      | 1385/3486 [06:33<03:59,  8.76it/s]\u001b[A\u001b[A\n",
            "\n",
            " 40%|███▉      | 1389/3486 [06:34<03:03, 11.42it/s]\u001b[A\u001b[A"
          ],
          "name": "stderr"
        },
        {
          "output_type": "stream",
          "text": [
            "481\n",
            "3751\n",
            "(5256, 182)\n",
            "182\n",
            "3752\n",
            "(270, 51)\n",
            "51\n",
            "3753\n",
            "(684, 55)\n",
            "55\n",
            "3754\n",
            "(1260, 71)\n",
            "71\n",
            "3755\n",
            "(2132, 93)\n",
            "93\n",
            "3756\n",
            "(6444, 215)\n"
          ],
          "name": "stdout"
        },
        {
          "output_type": "stream",
          "text": [
            "\n",
            "\n",
            " 40%|███▉      | 1392/3486 [06:34<02:33, 13.64it/s]\u001b[A\u001b[A\n",
            "\n",
            " 40%|████      | 1396/3486 [06:34<02:03, 16.93it/s]\u001b[A\u001b[A"
          ],
          "name": "stderr"
        },
        {
          "output_type": "stream",
          "text": [
            "215\n",
            "3757\n",
            "(1500, 85)\n",
            "85\n",
            "3758\n",
            "(5535, 168)\n",
            "168\n",
            "3759\n",
            "(2052, 93)\n",
            "93\n",
            "3760\n",
            "(675, 60)\n",
            "60\n",
            "3761\n",
            "(1560, 86)\n",
            "86\n",
            "3762\n",
            "(3240, 126)\n",
            "126\n",
            "3763\n",
            "(828, 59)\n",
            "59\n",
            "3764\n",
            "(1152, 68)\n",
            "68\n",
            "3765\n",
            "(4620, 152)\n"
          ],
          "name": "stdout"
        },
        {
          "output_type": "stream",
          "text": [
            "\n",
            "\n",
            " 40%|████      | 1400/3486 [06:34<01:43, 20.23it/s]\u001b[A\u001b[A\n",
            "\n",
            " 40%|████      | 1406/3486 [06:34<01:27, 23.77it/s]\u001b[A\u001b[A"
          ],
          "name": "stderr"
        },
        {
          "output_type": "stream",
          "text": [
            "152\n",
            "3766\n",
            "(2232, 98)\n",
            "98\n",
            "3767\n",
            "(1380, 83)\n",
            "83\n",
            "3768\n",
            "(700, 64)\n",
            "64\n",
            "3769\n",
            "(480, 68)\n",
            "68\n",
            "3770\n",
            "(324, 45)\n",
            "45\n",
            "3771\n",
            "(6300, 211)\n",
            "211\n",
            "3772\n",
            "(960, 76)\n",
            "76\n",
            "3773\n",
            "(6192, 208)\n",
            "208\n",
            "3775\n",
            "(38448, 1104)\n",
            "1104\n",
            "3776\n",
            "(38016, 1092)\n"
          ],
          "name": "stdout"
        },
        {
          "output_type": "stream",
          "text": [
            "\n",
            "\n",
            " 40%|████      | 1410/3486 [06:39<13:39,  2.53it/s]\u001b[A\u001b[A"
          ],
          "name": "stderr"
        },
        {
          "output_type": "stream",
          "text": [
            "1092\n",
            "3777\n",
            "(37512, 1078)\n",
            "1078\n",
            "3778\n",
            "(34812, 1003)\n",
            "1003\n",
            "3779\n",
            "(35136, 1012)\n"
          ],
          "name": "stdout"
        },
        {
          "output_type": "stream",
          "text": [
            "\n",
            "\n",
            " 41%|████      | 1413/3486 [06:46<35:16,  1.02s/it]\u001b[A\u001b[A"
          ],
          "name": "stderr"
        },
        {
          "output_type": "stream",
          "text": [
            "1012\n",
            "3780\n",
            "(183924, 2063)\n"
          ],
          "name": "stdout"
        },
        {
          "output_type": "stream",
          "text": [
            "\n",
            "\n",
            " 41%|████      | 1413/3486 [07:02<35:16,  1.02s/it]\u001b[A\u001b[A\n",
            "\n",
            " 41%|████      | 1414/3486 [07:18<5:47:24, 10.06s/it]\u001b[A\u001b[A"
          ],
          "name": "stderr"
        },
        {
          "output_type": "stream",
          "text": [
            "2063\n",
            "3781\n",
            "(41454, 1029)\n"
          ],
          "name": "stdout"
        },
        {
          "output_type": "stream",
          "text": [
            "\n",
            "\n",
            " 41%|████      | 1415/3486 [07:20<4:30:35,  7.84s/it]\u001b[A\u001b[A\n",
            "\n",
            " 41%|████      | 1420/3486 [07:20<3:09:15,  5.50s/it]\u001b[A\u001b[A"
          ],
          "name": "stderr"
        },
        {
          "output_type": "stream",
          "text": [
            "1029\n",
            "3783\n",
            "(900, 87)\n",
            "87\n",
            "3784\n",
            "(2160, 93)\n",
            "93\n",
            "3785\n",
            "(2340, 99)\n",
            "99\n",
            "3786\n",
            "(1740, 89)\n",
            "89\n",
            "3787\n",
            "(4824, 170)\n",
            "170\n",
            "3788\n",
            "(1980, 91)\n"
          ],
          "name": "stdout"
        },
        {
          "output_type": "stream",
          "text": [
            "\n",
            "\n",
            " 41%|████      | 1425/3486 [07:21<2:12:35,  3.86s/it]\u001b[A\u001b[A"
          ],
          "name": "stderr"
        },
        {
          "output_type": "stream",
          "text": [
            "91\n",
            "3789\n",
            "(624, 61)\n",
            "61\n",
            "3790\n",
            "(1500, 85)\n",
            "85\n",
            "3791\n",
            "(2790, 121)\n",
            "121\n",
            "3792\n",
            "(8595, 236)\n",
            "236\n",
            "3793\n"
          ],
          "name": "stdout"
        },
        {
          "output_type": "stream",
          "text": [
            "\n",
            "\n",
            " 41%|████      | 1427/3486 [07:21<1:33:15,  2.72s/it]\u001b[A\u001b[A"
          ],
          "name": "stderr"
        },
        {
          "output_type": "stream",
          "text": [
            "(2880, 112)\n",
            "112\n",
            "3794\n",
            "(5508, 189)\n",
            "189\n",
            "3795\n",
            "(3780, 132)\n",
            "132\n",
            "3796\n",
            "(864, 66)\n",
            "66\n",
            "3797\n",
            "(624, 61)\n",
            "61\n",
            "3798\n",
            "(810, 63)\n",
            "63\n",
            "3799\n",
            "(1296, 75)\n",
            "75\n",
            "3800\n",
            "(5832, 198)\n"
          ],
          "name": "stdout"
        },
        {
          "output_type": "stream",
          "text": [
            "\n",
            "\n",
            " 41%|████      | 1433/3486 [07:21<1:05:21,  1.91s/it]\u001b[A\u001b[A\n",
            "\n",
            " 41%|████▏     | 1438/3486 [07:21<45:56,  1.35s/it]  \u001b[A\u001b[A"
          ],
          "name": "stderr"
        },
        {
          "output_type": "stream",
          "text": [
            "198\n",
            "3802\n",
            "(432, 48)\n",
            "48\n",
            "3803\n",
            "(756, 57)\n",
            "57\n",
            "3804\n",
            "(1260, 71)\n",
            "71\n",
            "3805\n",
            "(1008, 64)\n",
            "64\n",
            "3806\n",
            "(5805, 174)\n",
            "174\n",
            "3807\n",
            "(1080, 66)\n",
            "66\n",
            "3808\n",
            "(1296, 72)\n",
            "72\n",
            "3809\n",
            "(1008, 64)\n",
            "64\n",
            "3811\n"
          ],
          "name": "stdout"
        },
        {
          "output_type": "stream",
          "text": [
            "\n",
            "\n",
            " 41%|████▏     | 1444/3486 [07:21<32:15,  1.05it/s]\u001b[A\u001b[A\n",
            "\n",
            " 42%|████▏     | 1448/3486 [07:21<22:53,  1.48it/s]\u001b[A\u001b[A"
          ],
          "name": "stderr"
        },
        {
          "output_type": "stream",
          "text": [
            "(3780, 129)\n",
            "129\n",
            "3812\n",
            "(540, 57)\n",
            "57\n",
            "3813\n",
            "(2295, 96)\n",
            "96\n",
            "3814\n",
            "(2820, 107)\n",
            "107\n",
            "3816\n",
            "(4428, 159)\n",
            "159\n",
            "3817\n",
            "(660, 71)\n",
            "71\n",
            "3818\n",
            "(3800, 135)\n",
            "135\n",
            "3819\n",
            "(1728, 124)\n",
            "124\n",
            "3820\n",
            "(168, 31)\n",
            "31\n",
            "3821\n",
            "(1500, 95)\n",
            "95\n",
            "3822\n",
            "(270, 51)\n",
            "51\n",
            "3823\n",
            "(2304, 100)\n",
            "100\n",
            "3824\n",
            "(14400, 378)\n"
          ],
          "name": "stdout"
        },
        {
          "output_type": "stream",
          "text": [
            "\n",
            "\n",
            " 42%|████▏     | 1454/3486 [07:22<16:39,  2.03it/s]\u001b[A\u001b[A\n",
            "\n",
            " 42%|████▏     | 1457/3486 [07:22<12:05,  2.80it/s]\u001b[A\u001b[A"
          ],
          "name": "stderr"
        },
        {
          "output_type": "stream",
          "text": [
            "378\n",
            "3825\n",
            "(6750, 165)\n",
            "165\n",
            "3826\n",
            "(4320, 132)\n",
            "132\n",
            "3827\n",
            "(2295, 96)\n",
            "96\n",
            "3828\n",
            "(2100, 95)\n",
            "95\n",
            "3829\n",
            "(3888, 144)\n"
          ],
          "name": "stdout"
        },
        {
          "output_type": "stream",
          "text": [
            "\n",
            "\n",
            " 42%|████▏     | 1460/3486 [07:22<08:49,  3.82it/s]\u001b[A\u001b[A\n",
            "\n",
            " 42%|████▏     | 1463/3486 [07:22<06:36,  5.10it/s]\u001b[A\u001b[A"
          ],
          "name": "stderr"
        },
        {
          "output_type": "stream",
          "text": [
            "144\n",
            "3831\n",
            "(3420, 131)\n",
            "131\n",
            "3832\n",
            "(2115, 92)\n",
            "92\n",
            "3833\n",
            "(2664, 110)\n",
            "110\n",
            "3834\n",
            "(6228, 209)\n",
            "209\n",
            "3835\n",
            "(2088, 94)\n",
            "94\n",
            "3836"
          ],
          "name": "stdout"
        },
        {
          "output_type": "stream",
          "text": [
            "\n",
            "\n",
            " 42%|████▏     | 1468/3486 [07:22<04:49,  6.97it/s]\u001b[A\u001b[A"
          ],
          "name": "stderr"
        },
        {
          "output_type": "stream",
          "text": [
            "\n",
            "(396, 47)\n",
            "47\n",
            "3837\n",
            "(2268, 99)\n",
            "99\n",
            "3838\n",
            "(2016, 100)\n",
            "100\n",
            "3839\n",
            "(1200, 91)\n",
            "91\n",
            "3840\n",
            "(1656, 95)\n",
            "95\n",
            "3841\n",
            "(864, 60)\n",
            "60\n",
            "3842\n",
            "(864, 60)\n",
            "60\n",
            "3843\n",
            "(2700, 111)\n",
            "111\n",
            "3844\n",
            "(7344, 240)\n"
          ],
          "name": "stdout"
        },
        {
          "output_type": "stream",
          "text": [
            "\n",
            "\n",
            " 42%|████▏     | 1473/3486 [07:22<03:42,  9.05it/s]\u001b[A\u001b[A"
          ],
          "name": "stderr"
        },
        {
          "output_type": "stream",
          "text": [
            "240\n",
            "3845\n",
            "(1980, 93)\n",
            "93\n",
            "3846\n",
            "(2304, 100)\n",
            "100\n",
            "3847\n",
            "(1680, 88)\n",
            "88\n",
            "3848\n",
            "(468, 49)\n",
            "49\n",
            "3849\n",
            "(14436, 437)\n"
          ],
          "name": "stdout"
        },
        {
          "output_type": "stream",
          "text": [
            "\n",
            "\n",
            " 42%|████▏     | 1478/3486 [07:23<03:32,  9.45it/s]\u001b[A\u001b[A\n",
            "\n",
            " 43%|████▎     | 1483/3486 [07:23<02:42, 12.36it/s]\u001b[A\u001b[A"
          ],
          "name": "stderr"
        },
        {
          "output_type": "stream",
          "text": [
            "437\n",
            "3850\n",
            "(1521, 78)\n",
            "78\n",
            "3852\n",
            "(756, 57)\n",
            "57\n",
            "3853\n",
            "(612, 53)\n",
            "53\n",
            "3854\n",
            "(2460, 101)\n",
            "101\n",
            "3855\n",
            "(5250, 145)\n",
            "145\n",
            "3856\n",
            "(828, 59)\n",
            "59\n",
            "3857\n",
            "(512, 72)\n",
            "72\n",
            "3858\n",
            "(6480, 162)\n"
          ],
          "name": "stdout"
        },
        {
          "output_type": "stream",
          "text": [
            "\n",
            "\n",
            " 43%|████▎     | 1487/3486 [07:23<02:10, 15.38it/s]\u001b[A\u001b[A\n",
            "\n",
            " 43%|████▎     | 1491/3486 [07:23<01:51, 17.86it/s]\u001b[A\u001b[A"
          ],
          "name": "stderr"
        },
        {
          "output_type": "stream",
          "text": [
            "162\n",
            "3859\n",
            "(1404, 75)\n",
            "75\n",
            "3860\n",
            "(3510, 129)\n",
            "129\n",
            "3861\n",
            "(2520, 102)\n",
            "102\n",
            "3862\n",
            "(2916, 117)\n",
            "117\n",
            "3863\n",
            "(3168, 124)\n",
            "124\n",
            "3864\n",
            "(2160, 102)\n",
            "102\n",
            "3865\n",
            "(1368, 91)\n",
            "91\n",
            "3866\n",
            "(31032, 898)\n",
            "898\n",
            "3867\n",
            "(31572, 913)\n"
          ],
          "name": "stdout"
        },
        {
          "output_type": "stream",
          "text": [
            "\n",
            "\n",
            " 43%|████▎     | 1495/3486 [07:27<11:20,  2.92it/s]\u001b[A\u001b[A"
          ],
          "name": "stderr"
        },
        {
          "output_type": "stream",
          "text": [
            "913\n",
            "3868\n",
            "(30132, 873)\n",
            "873\n",
            "3869\n",
            "(25848, 754)\n",
            "754\n",
            "3870\n",
            "(31608, 914)\n"
          ],
          "name": "stdout"
        },
        {
          "output_type": "stream",
          "text": [
            "\n",
            "\n",
            " 43%|████▎     | 1498/3486 [07:32<24:02,  1.38it/s]\u001b[A\u001b[A"
          ],
          "name": "stderr"
        },
        {
          "output_type": "stream",
          "text": [
            "914\n",
            "3871\n",
            "(28296, 822)\n"
          ],
          "name": "stdout"
        },
        {
          "output_type": "stream",
          "text": [
            "\n",
            "\n",
            " 43%|████▎     | 1500/3486 [07:34<24:42,  1.34it/s]\u001b[A\u001b[A\n",
            "\n",
            " 43%|████▎     | 1503/3486 [07:34<17:44,  1.86it/s]\u001b[A\u001b[A"
          ],
          "name": "stderr"
        },
        {
          "output_type": "stream",
          "text": [
            "822\n",
            "3873\n",
            "(540, 51)\n",
            "51\n",
            "3875\n",
            "(4860, 141)\n",
            "141\n",
            "3876\n",
            "(630, 59)\n",
            "59\n",
            "3877\n",
            "(5868, 199)\n",
            "199\n",
            "3878\n",
            "(16200, 374)\n"
          ],
          "name": "stdout"
        },
        {
          "output_type": "stream",
          "text": [
            "\n",
            "\n",
            " 43%|████▎     | 1505/3486 [07:34<14:24,  2.29it/s]\u001b[A\u001b[A\n",
            "\n",
            " 43%|████▎     | 1508/3486 [07:34<10:31,  3.13it/s]\u001b[A\u001b[A"
          ],
          "name": "stderr"
        },
        {
          "output_type": "stream",
          "text": [
            "374\n",
            "3879\n",
            "(3240, 126)\n",
            "126\n",
            "3880\n",
            "(6594, 199)\n",
            "199\n",
            "3881\n",
            "(1080, 69)\n",
            "69\n",
            "3882\n",
            "(4752, 168)\n",
            "168\n",
            "3883\n",
            "(1125, 70)\n",
            "70\n",
            "3884\n",
            "(2088, 94)\n"
          ],
          "name": "stdout"
        },
        {
          "output_type": "stream",
          "text": [
            "\n",
            "\n",
            " 43%|████▎     | 1514/3486 [07:34<07:33,  4.35it/s]\u001b[A\u001b[A"
          ],
          "name": "stderr"
        },
        {
          "output_type": "stream",
          "text": [
            "94\n",
            "3885\n",
            "(1728, 201)\n",
            "201\n",
            "3886\n",
            "(1920, 92)\n",
            "92\n",
            "3887\n",
            "(540, 57)\n",
            "57\n",
            "3888\n",
            "(3330, 127)\n",
            "127\n",
            "3889\n",
            "(11655, 304)\n",
            "304\n",
            "3890\n",
            "(720, 72)\n",
            "72\n",
            "3891\n",
            "(10296, 322)\n"
          ],
          "name": "stdout"
        },
        {
          "output_type": "stream",
          "text": [
            "\n",
            "\n",
            " 44%|████▎     | 1517/3486 [07:35<06:42,  4.89it/s]\u001b[A\u001b[A"
          ],
          "name": "stderr"
        },
        {
          "output_type": "stream",
          "text": [
            "322\n",
            "3892\n",
            "(10116, 317)\n",
            "317\n"
          ],
          "name": "stdout"
        },
        {
          "output_type": "stream",
          "text": [
            "\n",
            "\n",
            " 44%|████▎     | 1519/3486 [07:35<06:17,  5.21it/s]\u001b[A\u001b[A"
          ],
          "name": "stderr"
        },
        {
          "output_type": "stream",
          "text": [
            "3893\n",
            "(8604, 275)\n",
            "275\n",
            "3894\n",
            "(2880, 108)\n",
            "108\n",
            "3895\n",
            "(43152, 947)\n"
          ],
          "name": "stdout"
        },
        {
          "output_type": "stream",
          "text": [
            "\n",
            "\n",
            " 44%|████▎     | 1521/3486 [07:38<17:59,  1.82it/s]\u001b[A\u001b[A"
          ],
          "name": "stderr"
        },
        {
          "output_type": "stream",
          "text": [
            "947\n",
            "3896\n",
            "(37728, 1084)\n"
          ],
          "name": "stdout"
        },
        {
          "output_type": "stream",
          "text": [
            "\n",
            "\n",
            " 44%|████▎     | 1523/3486 [07:41<28:35,  1.14it/s]\u001b[A\u001b[A"
          ],
          "name": "stderr"
        },
        {
          "output_type": "stream",
          "text": [
            "1084\n",
            "3897\n",
            "(2124, 95)\n",
            "95\n",
            "3898\n",
            "(1575, 80)\n",
            "80\n",
            "3899\n",
            "(10080, 316)\n"
          ],
          "name": "stdout"
        },
        {
          "output_type": "stream",
          "text": [
            "\n",
            "\n",
            " 44%|████▎     | 1525/3486 [07:41<21:02,  1.55it/s]\u001b[A\u001b[A"
          ],
          "name": "stderr"
        },
        {
          "output_type": "stream",
          "text": [
            "316\n",
            "3901\n",
            "(3384, 119)\n",
            "119\n",
            "3902\n",
            "(16731, 468)\n"
          ],
          "name": "stdout"
        },
        {
          "output_type": "stream",
          "text": [
            "\n",
            "\n",
            " 44%|████▍     | 1527/3486 [07:42<17:18,  1.89it/s]\u001b[A\u001b[A\n",
            "\n",
            " 44%|████▍     | 1528/3486 [07:42<13:07,  2.49it/s]\u001b[A\u001b[A"
          ],
          "name": "stderr"
        },
        {
          "output_type": "stream",
          "text": [
            "468\n",
            "3903\n",
            "(8055, 224)\n",
            "224\n",
            "3904\n",
            "(1740, 89)\n",
            "89\n",
            "3905\n",
            "(360, 42)\n",
            "42\n",
            "3906\n",
            "(7728, 226)\n"
          ],
          "name": "stdout"
        },
        {
          "output_type": "stream",
          "text": [
            "\n",
            "\n",
            " 44%|████▍     | 1531/3486 [07:42<09:39,  3.37it/s]\u001b[A\u001b[A\n",
            "\n",
            " 44%|████▍     | 1533/3486 [07:42<07:28,  4.36it/s]\u001b[A\u001b[A"
          ],
          "name": "stderr"
        },
        {
          "output_type": "stream",
          "text": [
            "226\n",
            "3907\n",
            "(7602, 223)\n",
            "223\n",
            "3908\n",
            "(4872, 158)\n",
            "158\n",
            "3909\n",
            "(4032, 138)\n",
            "138\n",
            "3910\n",
            "(4620, 152)\n",
            "152\n",
            "3911\n",
            "(43974, 848)\n"
          ],
          "name": "stdout"
        },
        {
          "output_type": "stream",
          "text": [
            "\n",
            "\n",
            " 44%|████▍     | 1536/3486 [07:45<12:45,  2.55it/s]\u001b[A\u001b[A\n",
            "\n",
            " 44%|████▍     | 1540/3486 [07:45<09:11,  3.53it/s]\u001b[A\u001b[A"
          ],
          "name": "stderr"
        },
        {
          "output_type": "stream",
          "text": [
            "848\n",
            "3912\n",
            "(588, 56)\n",
            "56\n",
            "3913\n",
            "(504, 50)\n",
            "50\n",
            "3914\n",
            "(1500, 85)\n",
            "85\n",
            "3915\n",
            "(5652, 193)\n",
            "193\n",
            "3916\n",
            "(630, 59)\n",
            "59\n",
            "3917\n",
            "(4329, 150)\n"
          ],
          "name": "stdout"
        },
        {
          "output_type": "stream",
          "text": [
            "\n",
            "\n",
            " 44%|████▍     | 1543/3486 [07:45<07:08,  4.54it/s]\u001b[A\u001b[A"
          ],
          "name": "stderr"
        },
        {
          "output_type": "stream",
          "text": [
            "150\n",
            "3918\n",
            "(9630, 259)\n",
            "259\n",
            "3919\n",
            "(2970, 123)\n",
            "123\n",
            "3920\n"
          ],
          "name": "stdout"
        },
        {
          "output_type": "stream",
          "text": [
            "\n",
            "\n",
            " 44%|████▍     | 1547/3486 [07:45<05:17,  6.11it/s]\u001b[A\u001b[A"
          ],
          "name": "stderr"
        },
        {
          "output_type": "stream",
          "text": [
            "(3348, 129)\n",
            "129\n",
            "3921\n",
            "(270, 51)\n",
            "51\n",
            "3922\n",
            "(3960, 146)\n",
            "146\n",
            "3923\n",
            "(5715, 172)\n",
            "172\n",
            "3924\n",
            "(3564, 135)\n",
            "135\n",
            "3925\n",
            "(5805, 174)\n"
          ],
          "name": "stdout"
        },
        {
          "output_type": "stream",
          "text": [
            "\n",
            "\n",
            " 44%|████▍     | 1550/3486 [07:45<04:13,  7.63it/s]\u001b[A\u001b[A\n",
            "\n",
            " 45%|████▍     | 1552/3486 [07:45<03:38,  8.83it/s]\u001b[A\u001b[A"
          ],
          "name": "stderr"
        },
        {
          "output_type": "stream",
          "text": [
            "174\n",
            "3926\n",
            "(4752, 168)\n",
            "168\n",
            "3927\n",
            "(6930, 199)\n",
            "199\n",
            "3928\n",
            "(5355, 164)\n"
          ],
          "name": "stdout"
        },
        {
          "output_type": "stream",
          "text": [
            "\n",
            "\n",
            " 45%|████▍     | 1554/3486 [07:46<03:08, 10.24it/s]\u001b[A\u001b[A"
          ],
          "name": "stderr"
        },
        {
          "output_type": "stream",
          "text": [
            "164\n",
            "3929\n",
            "(5220, 181)\n",
            "181\n",
            "3930\n",
            "(4212, 153)\n",
            "153\n",
            "3931\n",
            "(8460, 233)\n"
          ],
          "name": "stdout"
        },
        {
          "output_type": "stream",
          "text": [
            "\n",
            "\n",
            " 45%|████▍     | 1556/3486 [07:46<03:01, 10.64it/s]\u001b[A\u001b[A\n",
            "\n",
            " 45%|████▍     | 1559/3486 [07:46<02:32, 12.66it/s]\u001b[A\u001b[A"
          ],
          "name": "stderr"
        },
        {
          "output_type": "stream",
          "text": [
            "233\n",
            "3932\n",
            "(4032, 148)\n",
            "148\n",
            "3933\n",
            "(4725, 150)\n",
            "150\n",
            "3934\n",
            "(3600, 136)\n",
            "136\n",
            "3935\n",
            "(7785, 218)\n"
          ],
          "name": "stdout"
        },
        {
          "output_type": "stream",
          "text": [
            "\n",
            "\n",
            " 45%|████▍     | 1561/3486 [07:46<02:25, 13.23it/s]\u001b[A\u001b[A\n",
            "\n",
            " 45%|████▍     | 1564/3486 [07:46<02:06, 15.21it/s]\u001b[A\u001b[A"
          ],
          "name": "stderr"
        },
        {
          "output_type": "stream",
          "text": [
            "218\n",
            "3936\n",
            "(2016, 92)\n",
            "92\n",
            "3938\n",
            "(1800, 110)\n",
            "110\n",
            "3939\n",
            "(3060, 121)\n",
            "121\n",
            "3940\n",
            "(6165, 182)\n",
            "182\n",
            "3941\n"
          ],
          "name": "stdout"
        },
        {
          "output_type": "stream",
          "text": [
            "\n",
            "\n",
            " 45%|████▍     | 1566/3486 [07:46<02:18, 13.88it/s]\u001b[A\u001b[A"
          ],
          "name": "stderr"
        },
        {
          "output_type": "stream",
          "text": [
            "(9432, 298)\n",
            "298\n",
            "3942\n",
            "(504, 50)\n",
            "50\n",
            "3943\n",
            "(1440, 84)\n",
            "84\n",
            "3944\n",
            "(684, 55)\n",
            "55\n",
            "3945\n",
            "(3636, 137)\n",
            "137"
          ],
          "name": "stdout"
        },
        {
          "output_type": "stream",
          "text": [
            "\n",
            "\n",
            " 45%|████▌     | 1570/3486 [07:47<02:11, 14.57it/s]\u001b[A\u001b[A"
          ],
          "name": "stderr"
        },
        {
          "output_type": "stream",
          "text": [
            "\n",
            "3946\n",
            "(9828, 309)\n",
            "309\n",
            "3947\n",
            "(12240, 376)\n",
            "376\n",
            "3948\n",
            "(12816, 392)\n"
          ],
          "name": "stdout"
        },
        {
          "output_type": "stream",
          "text": [
            "\n",
            "\n",
            " 45%|████▌     | 1572/3486 [07:47<04:41,  6.81it/s]\u001b[A\u001b[A"
          ],
          "name": "stderr"
        },
        {
          "output_type": "stream",
          "text": [
            "392\n",
            "3949\n",
            "(11448, 354)\n",
            "354\n",
            "3950\n",
            "(13464, 410)\n"
          ],
          "name": "stdout"
        },
        {
          "output_type": "stream",
          "text": [
            "\n",
            "\n",
            " 45%|████▌     | 1574/3486 [07:48<05:57,  5.34it/s]\u001b[A\u001b[A\n",
            "\n",
            " 45%|████▌     | 1575/3486 [07:48<05:59,  5.32it/s]"
          ],
          "name": "stderr"
        },
        {
          "output_type": "stream",
          "text": [
            "410\n",
            "3951\n",
            "(10368, 324)\n",
            "324\n"
          ],
          "name": "stdout"
        },
        {
          "output_type": "stream",
          "text": [
            "\u001b[A\u001b[A"
          ],
          "name": "stderr"
        },
        {
          "output_type": "stream",
          "text": [
            "3952\n",
            "(11772, 363)\n"
          ],
          "name": "stdout"
        },
        {
          "output_type": "stream",
          "text": [
            "\n",
            "\n",
            " 45%|████▌     | 1576/3486 [07:48<06:46,  4.69it/s]\u001b[A\u001b[A\n",
            "\n",
            " 45%|████▌     | 1579/3486 [07:48<05:06,  6.23it/s]\u001b[A\u001b[A"
          ],
          "name": "stderr"
        },
        {
          "output_type": "stream",
          "text": [
            "363\n",
            "3953\n",
            "(3420, 131)\n",
            "131\n",
            "3954\n",
            "(3645, 126)\n",
            "126\n",
            "3955\n",
            "(2484, 105)\n",
            "105\n",
            "3956\n",
            "(1560, 86)\n",
            "86\n",
            "3957\n",
            "(1728, 96)\n",
            "96\n",
            "3958\n",
            "(1488, 79)\n",
            "79\n",
            "3959\n",
            "(2720, 108)\n"
          ],
          "name": "stdout"
        },
        {
          "output_type": "stream",
          "text": [
            "\n",
            "\n",
            " 45%|████▌     | 1584/3486 [07:48<03:45,  8.44it/s]\u001b[A\u001b[A"
          ],
          "name": "stderr"
        },
        {
          "output_type": "stream",
          "text": [
            "108\n",
            "3960\n",
            "(945, 66)\n",
            "66\n",
            "3961\n",
            "(12888, 394)\n"
          ],
          "name": "stdout"
        },
        {
          "output_type": "stream",
          "text": [
            "\n",
            "\n",
            " 46%|████▌     | 1587/3486 [07:49<03:47,  8.34it/s]\u001b[A\u001b[A"
          ],
          "name": "stderr"
        },
        {
          "output_type": "stream",
          "text": [
            "394\n",
            "3962\n",
            "(3168, 124)\n",
            "124\n",
            "3963\n",
            "(3276, 127)\n",
            "127\n",
            "3965\n",
            "(495, 56)\n",
            "56\n",
            "3966\n",
            "(1305, 74)\n",
            "74\n",
            "3967\n",
            "(675, 60)\n",
            "60\n",
            "3968\n",
            "(1800, 85)\n",
            "85\n",
            "3969\n",
            "(1260, 73)\n",
            "73\n",
            "3970\n",
            "(630, 59)\n",
            "59\n",
            "3971\n",
            "(14364, 435)\n"
          ],
          "name": "stdout"
        },
        {
          "output_type": "stream",
          "text": [
            "\n",
            "\n",
            " 46%|████▌     | 1594/3486 [07:49<03:15,  9.68it/s]\u001b[A\u001b[A\n",
            "\n",
            " 46%|████▌     | 1599/3486 [07:49<02:30, 12.50it/s]\u001b[A\u001b[A"
          ],
          "name": "stderr"
        },
        {
          "output_type": "stream",
          "text": [
            "435\n",
            "3972\n",
            "(3393, 126)\n",
            "126\n",
            "3973\n",
            "(2880, 108)\n",
            "108\n",
            "3974\n",
            "(972, 63)\n",
            "63\n",
            "3975\n",
            "(360, 46)\n",
            "46\n",
            "3976\n",
            "(4545, 146)\n",
            "146\n",
            "3977\n",
            "(4860, 144)\n",
            "144\n",
            "3978\n",
            "(76, 40)\n",
            "40\n",
            "3979\n"
          ],
          "name": "stdout"
        },
        {
          "output_type": "stream",
          "text": [
            "\n",
            "\n",
            " 46%|████▌     | 1602/3486 [07:50<02:19, 13.50it/s]\u001b[A\u001b[A\n",
            "\n",
            " 46%|████▌     | 1612/3486 [07:50<01:42, 18.21it/s]\u001b[A\u001b[A"
          ],
          "name": "stderr"
        },
        {
          "output_type": "stream",
          "text": [
            "(8892, 283)\n",
            "283\n",
            "3980\n",
            "(468, 49)\n",
            "49\n",
            "3981\n",
            "(1332, 73)\n",
            "73\n",
            "3982\n",
            "(920, 63)\n",
            "63\n",
            "3983\n",
            "(440, 51)\n",
            "51\n",
            "3984\n",
            "(504, 50)\n",
            "50\n",
            "3985\n",
            "(396, 47)\n",
            "47\n",
            "3986\n",
            "(648, 54)\n",
            "54\n",
            "3987\n",
            "(828, 59)\n",
            "59\n",
            "3988\n",
            "(540, 51)\n",
            "51\n",
            "3989\n",
            "(612, 53)\n",
            "53\n",
            "3990\n"
          ],
          "name": "stdout"
        },
        {
          "output_type": "stream",
          "text": [
            "\n",
            "\n",
            " 46%|████▋     | 1618/3486 [07:50<01:21, 22.79it/s]\u001b[A\u001b[A"
          ],
          "name": "stderr"
        },
        {
          "output_type": "stream",
          "text": [
            "(2220, 97)\n",
            "97\n",
            "3991\n",
            "(2304, 100)\n",
            "100\n",
            "3992\n",
            "(2100, 103)\n",
            "103\n",
            "3994\n",
            "(1350, 105)\n",
            "105\n",
            "3995\n",
            "(315, 52)\n",
            "52\n",
            "3996\n",
            "(675, 84)\n",
            "84\n",
            "3997\n",
            "(2340, 97)\n",
            "97\n",
            "3998\n",
            "(1044, 65)\n",
            "65\n",
            "3999\n",
            "(1800, 99)\n",
            "99\n",
            "4000\n",
            "(1836, 87)\n",
            "87\n",
            "4001\n",
            "(765, 62)\n",
            "62\n",
            "4002\n",
            "(3528, 134)\n"
          ],
          "name": "stdout"
        },
        {
          "output_type": "stream",
          "text": [
            "\n",
            "\n",
            " 47%|████▋     | 1624/3486 [07:50<01:08, 27.08it/s]\u001b[A\u001b[A"
          ],
          "name": "stderr"
        },
        {
          "output_type": "stream",
          "text": [
            "134\n",
            "4003\n",
            "(3780, 123)\n",
            "123\n",
            "4004\n",
            "(864, 60)\n",
            "60\n",
            "4005\n",
            "(360, 53)\n",
            "53\n",
            "4010\n",
            "(17394, 485)\n"
          ],
          "name": "stdout"
        },
        {
          "output_type": "stream",
          "text": [
            "\n",
            "\n",
            " 47%|████▋     | 1629/3486 [07:50<01:53, 16.30it/s]\u001b[A\u001b[A"
          ],
          "name": "stderr"
        },
        {
          "output_type": "stream",
          "text": [
            "485\n",
            "4011\n",
            "(2405, 102)\n",
            "102\n",
            "4012\n",
            "(7440, 226)\n",
            "226\n",
            "4013\n",
            "(1380, 83)\n",
            "83\n",
            "4014\n",
            "(1440, 84)\n",
            "84\n",
            "4015\n",
            "(4644, 165)\n"
          ],
          "name": "stdout"
        },
        {
          "output_type": "stream",
          "text": [
            "\n",
            "\n",
            " 47%|████▋     | 1633/3486 [07:51<01:46, 17.47it/s]\u001b[A\u001b[A\n",
            "\n",
            " 47%|████▋     | 1637/3486 [07:51<01:29, 20.76it/s]\u001b[A\u001b[A"
          ],
          "name": "stderr"
        },
        {
          "output_type": "stream",
          "text": [
            "165\n",
            "4016\n",
            "(1980, 91)\n",
            "91\n",
            "4017\n",
            "(1440, 76)\n",
            "76\n",
            "4018\n",
            "(4680, 138)\n",
            "138\n",
            "4019\n",
            "(1980, 112)\n",
            "112\n",
            "4020\n",
            "(2925, 110)\n",
            "110\n",
            "4021\n",
            "(2700, 111)\n",
            "111\n",
            "4023\n",
            "(1224, 70)\n",
            "70\n",
            "4025\n",
            "(4320, 138)\n"
          ],
          "name": "stdout"
        },
        {
          "output_type": "stream",
          "text": [
            "\n",
            "\n",
            " 47%|████▋     | 1641/3486 [07:51<01:18, 23.45it/s]\u001b[A\u001b[A"
          ],
          "name": "stderr"
        },
        {
          "output_type": "stream",
          "text": [
            "138\n",
            "4026\n",
            "(10215, 272)\n",
            "272\n",
            "4027\n",
            "(1656, 82)\n",
            "82\n",
            "4028\n",
            "(3780, 132)\n"
          ],
          "name": "stdout"
        },
        {
          "output_type": "stream",
          "text": [
            "\n",
            "\n",
            " 47%|████▋     | 1645/3486 [07:51<01:35, 19.26it/s]\u001b[A\u001b[A"
          ],
          "name": "stderr"
        },
        {
          "output_type": "stream",
          "text": [
            "132\n",
            "4029\n",
            "(6084, 205)\n",
            "205\n",
            "4030\n",
            "(3360, 116)\n",
            "116\n",
            "4031\n",
            "(1872, 87)\n",
            "87\n",
            "4032\n",
            "(816, 65)\n",
            "65\n",
            "4033\n",
            "(8028, 259)\n"
          ],
          "name": "stdout"
        },
        {
          "output_type": "stream",
          "text": [
            "\n",
            "\n",
            " 47%|████▋     | 1649/3486 [07:51<01:31, 20.11it/s]\u001b[A\u001b[A\n",
            "\n",
            " 47%|████▋     | 1653/3486 [07:51<01:21, 22.42it/s]\u001b[A\u001b[A"
          ],
          "name": "stderr"
        },
        {
          "output_type": "stream",
          "text": [
            "259\n",
            "4034\n",
            "(2610, 119)\n",
            "119\n",
            "4035\n",
            "(684, 55)\n",
            "55\n",
            "4036\n",
            "(4725, 138)\n",
            "138\n",
            "4037\n",
            "(4752, 138)\n",
            "138\n",
            "4038\n",
            "(2448, 104)\n",
            "104\n",
            "4039\n",
            "(2016, 92)\n",
            "92\n",
            "4040\n",
            "(2664, 110)\n"
          ],
          "name": "stdout"
        },
        {
          "output_type": "stream",
          "text": [
            "\n",
            "\n",
            " 48%|████▊     | 1657/3486 [07:52<01:11, 25.47it/s]\u001b[A\u001b[A"
          ],
          "name": "stderr"
        },
        {
          "output_type": "stream",
          "text": [
            "110\n",
            "4041\n",
            "(2376, 102)\n",
            "102\n",
            "4042\n",
            "(3024, 120)\n",
            "120\n",
            "4043\n",
            "(15228, 440)\n"
          ],
          "name": "stdout"
        },
        {
          "output_type": "stream",
          "text": [
            "\n",
            "\n",
            " 48%|████▊     | 1661/3486 [07:52<02:00, 15.12it/s]\u001b[A\u001b[A"
          ],
          "name": "stderr"
        },
        {
          "output_type": "stream",
          "text": [
            "440\n",
            "4044\n",
            "(7308, 239)\n",
            "239\n",
            "4045\n",
            "(828, 59)\n",
            "59\n",
            "4046\n",
            "(3276, 127)\n",
            "127\n",
            "4047\n",
            "(2220, 97)\n",
            "97\n",
            "4048\n",
            "(1296, 75)\n"
          ],
          "name": "stdout"
        },
        {
          "output_type": "stream",
          "text": [
            "\n",
            "\n",
            " 48%|████▊     | 1667/3486 [07:52<01:36, 18.76it/s]\u001b[A\u001b[A\n",
            "\n",
            " 48%|████▊     | 1671/3486 [07:52<01:21, 22.27it/s]\u001b[A\u001b[A"
          ],
          "name": "stderr"
        },
        {
          "output_type": "stream",
          "text": [
            "75\n",
            "4049\n",
            "(630, 57)\n",
            "57\n",
            "4050\n",
            "(900, 61)\n",
            "61\n",
            "4051\n",
            "(4356, 157)\n",
            "157\n",
            "4052\n",
            "(6375, 160)\n",
            "160\n",
            "4053\n",
            "(396, 47)\n",
            "47\n",
            "4054\n",
            "(420, 44)\n",
            "44\n",
            "4055\n",
            "(2160, 114)\n",
            "114\n",
            "4056\n",
            "(288, 44)\n",
            "44\n",
            "4057\n",
            "(612, 53)\n",
            "53\n",
            "4058\n",
            "(1128, 71)\n"
          ],
          "name": "stdout"
        },
        {
          "output_type": "stream",
          "text": [
            "\n",
            "\n",
            " 48%|████▊     | 1675/3486 [07:53<01:21, 22.19it/s]\u001b[A\u001b[A"
          ],
          "name": "stderr"
        },
        {
          "output_type": "stream",
          "text": [
            "71\n",
            "4059\n",
            "(8676, 277)\n",
            "277\n",
            "4060\n",
            "(10416, 265)\n"
          ],
          "name": "stdout"
        },
        {
          "output_type": "stream",
          "text": [
            "\n",
            "\n",
            " 48%|████▊     | 1678/3486 [07:53<01:28, 20.34it/s]\u001b[A\u001b[A\n",
            "\n",
            " 48%|████▊     | 1682/3486 [07:53<01:18, 23.10it/s]\u001b[A\u001b[A"
          ],
          "name": "stderr"
        },
        {
          "output_type": "stream",
          "text": [
            "265\n",
            "4061\n",
            "(38, 39)\n",
            "39\n",
            "4062\n",
            "(432, 48)\n",
            "48\n",
            "4063\n",
            "(1200, 73)\n",
            "73\n",
            "4064\n",
            "(3708, 139)\n",
            "139\n",
            "4065\n",
            "(72, 38)\n",
            "38\n",
            "4066\n",
            "(5472, 188)\n",
            "188\n",
            "4067\n",
            "(510, 47)\n",
            "47\n",
            "4069\n",
            "(8010, 223)\n"
          ],
          "name": "stdout"
        },
        {
          "output_type": "stream",
          "text": [
            "\n",
            "\n",
            " 48%|████▊     | 1685/3486 [07:53<01:20, 22.34it/s]\u001b[A\u001b[A\n",
            "\n",
            " 48%|████▊     | 1690/3486 [07:53<01:10, 25.57it/s]\u001b[A\u001b[A"
          ],
          "name": "stderr"
        },
        {
          "output_type": "stream",
          "text": [
            "223\n",
            "4070\n",
            "(2040, 94)\n",
            "94\n",
            "4071\n",
            "(720, 63)\n",
            "63\n",
            "4072\n",
            "(3600, 169)\n",
            "169\n",
            "4073\n",
            "(1380, 83)\n",
            "83\n",
            "4074\n",
            "(1200, 73)\n",
            "73\n",
            "4075\n",
            "(3510, 129)\n",
            "129\n",
            "4076\n",
            "(13412, 507)\n"
          ],
          "name": "stdout"
        },
        {
          "output_type": "stream",
          "text": [
            "\n",
            "\n",
            " 49%|████▊     | 1693/3486 [07:53<02:02, 14.62it/s]\u001b[A\u001b[A"
          ],
          "name": "stderr"
        },
        {
          "output_type": "stream",
          "text": [
            "507\n",
            "4077\n",
            "(1632, 82)\n",
            "82\n",
            "4078\n",
            "(1476, 77)\n",
            "77\n",
            "4079\n",
            "(336, 55)\n",
            "55\n",
            "4080\n",
            "(2580, 103)\n",
            "103\n",
            "4081\n",
            "(1512, 93)\n",
            "93\n",
            "4082\n",
            "(44775, 860)\n"
          ],
          "name": "stdout"
        },
        {
          "output_type": "stream",
          "text": [
            "\n",
            "\n",
            " 49%|████▊     | 1697/3486 [07:56<07:43,  3.86it/s]\u001b[A\u001b[A"
          ],
          "name": "stderr"
        },
        {
          "output_type": "stream",
          "text": [
            "860\n",
            "4083\n",
            "(1395, 76)\n",
            "76\n",
            "4084\n",
            "(1332, 73)\n",
            "73\n",
            "4085\n",
            "(12672, 388)\n"
          ],
          "name": "stdout"
        },
        {
          "output_type": "stream",
          "text": [
            "\n",
            "\n",
            " 49%|████▉     | 1700/3486 [07:57<06:22,  4.66it/s]\u001b[A\u001b[A"
          ],
          "name": "stderr"
        },
        {
          "output_type": "stream",
          "text": [
            "388\n",
            "4086\n",
            "(2628, 109)\n",
            "109\n",
            "4087\n",
            "(1020, 77)\n",
            "77\n",
            "4088\n",
            "(1440, 76)\n",
            "76\n",
            "4089\n",
            "(828, 59)\n",
            "59\n",
            "4090\n",
            "(684, 55)\n",
            "55\n",
            "4091\n",
            "(684, 55)\n",
            "55\n",
            "4092\n",
            "(9000, 245)\n"
          ],
          "name": "stdout"
        },
        {
          "output_type": "stream",
          "text": [
            "\n",
            "\n",
            " 49%|████▉     | 1707/3486 [07:57<04:42,  6.29it/s]\u001b[A\u001b[A"
          ],
          "name": "stderr"
        },
        {
          "output_type": "stream",
          "text": [
            "245\n",
            "4093\n",
            "(765, 62)\n",
            "62\n",
            "4094\n",
            "(816, 65)\n",
            "65\n",
            "4095\n",
            "(32544, 726)\n"
          ],
          "name": "stdout"
        },
        {
          "output_type": "stream",
          "text": [
            "\n",
            "\n",
            " 49%|████▉     | 1710/3486 [07:58<08:02,  3.68it/s]\u001b[A\u001b[A\n",
            "\n",
            " 49%|████▉     | 1714/3486 [07:59<05:50,  5.06it/s]\u001b[A\u001b[A"
          ],
          "name": "stderr"
        },
        {
          "output_type": "stream",
          "text": [
            "726\n",
            "4096\n",
            "(3924, 145)\n",
            "145\n",
            "4097\n",
            "(252, 43)\n",
            "43\n",
            "4098\n",
            "(1152, 152)\n",
            "152\n",
            "4099\n",
            "(2976, 110)\n",
            "110\n",
            "4100\n",
            "(3132, 123)\n",
            "123\n",
            "4101\n",
            "(3744, 135)\n"
          ],
          "name": "stdout"
        },
        {
          "output_type": "stream",
          "text": [
            "\n",
            "\n",
            " 49%|████▉     | 1717/3486 [07:59<04:22,  6.73it/s]\u001b[A\u001b[A\n",
            "\n",
            " 49%|████▉     | 1721/3486 [07:59<03:16,  8.97it/s]\u001b[A\u001b[A"
          ],
          "name": "stderr"
        },
        {
          "output_type": "stream",
          "text": [
            "135\n",
            "4102\n",
            "(1800, 85)\n",
            "85\n",
            "4103\n",
            "(3708, 139)\n",
            "139\n",
            "4104\n",
            "(540, 69)\n",
            "69\n",
            "4105\n",
            "(1692, 83)\n",
            "83\n",
            "4106\n",
            "(2220, 97)\n",
            "97\n",
            "4107\n",
            "(324, 45)\n",
            "45\n",
            "4109\n",
            "(3525, 122)\n",
            "122\n",
            "4110\n",
            "(960, 76)\n",
            "76\n",
            "4112\n",
            "(1440, 78)\n",
            "78\n",
            "4113"
          ],
          "name": "stdout"
        },
        {
          "output_type": "stream",
          "text": [
            "\n",
            "\n",
            " 50%|████▉     | 1727/3486 [07:59<02:28, 11.84it/s]\u001b[A\u001b[A"
          ],
          "name": "stderr"
        },
        {
          "output_type": "stream",
          "text": [
            "\n",
            "(1044, 65)\n",
            "65\n",
            "4114\n",
            "(3456, 120)\n",
            "120\n",
            "4115\n",
            "(5292, 183)\n",
            "183\n",
            "4116\n",
            "(5112, 178)\n",
            "178\n",
            "4117\n",
            "(2196, 97)\n",
            "97\n",
            "4118\n",
            "(2304, 104)\n"
          ],
          "name": "stdout"
        },
        {
          "output_type": "stream",
          "text": [
            "\n",
            "\n",
            " 50%|████▉     | 1731/3486 [07:59<02:06, 13.86it/s]\u001b[A\u001b[A\n",
            "\n",
            " 50%|████▉     | 1737/3486 [07:59<01:37, 17.87it/s]\u001b[A\u001b[A"
          ],
          "name": "stderr"
        },
        {
          "output_type": "stream",
          "text": [
            "104\n",
            "4119\n",
            "(576, 52)\n",
            "52\n",
            "4121\n",
            "(612, 53)\n",
            "53\n",
            "4122\n",
            "(1530, 79)\n",
            "79\n",
            "4123\n",
            "(1608, 114)\n",
            "114\n",
            "4124\n",
            "(2376, 102)\n",
            "102\n",
            "4125\n",
            "(2448, 104)\n",
            "104\n",
            "4126\n",
            "(17712, 528)\n"
          ],
          "name": "stdout"
        },
        {
          "output_type": "stream",
          "text": [
            "\n",
            "\n",
            " 50%|████▉     | 1741/3486 [08:00<02:29, 11.65it/s]\u001b[A\u001b[A\n",
            "\n",
            " 50%|█████     | 1747/3486 [08:00<01:53, 15.35it/s]\u001b[A\u001b[A"
          ],
          "name": "stderr"
        },
        {
          "output_type": "stream",
          "text": [
            "528\n",
            "4127\n",
            "(1485, 78)\n",
            "78\n",
            "4128\n",
            "(540, 51)\n",
            "51\n",
            "4129\n",
            "(504, 50)\n",
            "50\n",
            "4130\n",
            "(360, 39)\n",
            "39\n",
            "4131\n",
            "(1728, 84)\n",
            "84\n",
            "4133\n",
            "(1584, 81)\n",
            "81\n",
            "4134\n",
            "(900, 61)\n",
            "61\n",
            "4135\n",
            "(1290, 246)\n",
            "246\n",
            "4138\n",
            "(1404, 75)\n",
            "75\n",
            "4139\n",
            "(1044, 65)\n",
            "65\n",
            "4140\n",
            "(1728, 156)\n",
            "156\n",
            "4142\n",
            "(810, 63)\n",
            "63\n",
            "4143\n",
            "(2205, 94)\n",
            "94\n",
            "4144\n",
            "(11952, 368)\n"
          ],
          "name": "stdout"
        },
        {
          "output_type": "stream",
          "text": [
            "\n",
            "\n",
            " 50%|█████     | 1752/3486 [08:00<01:54, 15.20it/s]\u001b[A\u001b[A"
          ],
          "name": "stderr"
        },
        {
          "output_type": "stream",
          "text": [
            "368\n",
            "4145\n",
            "(2250, 115)\n",
            "115\n",
            "4146\n",
            "(6824, 350)\n",
            "350\n",
            "4147\n",
            "(3608, 303)\n"
          ],
          "name": "stdout"
        },
        {
          "output_type": "stream",
          "text": [
            "\n",
            "\n",
            " 50%|█████     | 1756/3486 [08:00<01:53, 15.21it/s]\u001b[A\u001b[A"
          ],
          "name": "stderr"
        },
        {
          "output_type": "stream",
          "text": [
            "303\n",
            "4148\n",
            "(1800, 90)\n",
            "90\n",
            "4150\n",
            "(18000, 536)\n"
          ],
          "name": "stdout"
        },
        {
          "output_type": "stream",
          "text": [
            "\n",
            "\n",
            " 50%|█████     | 1759/3486 [08:01<02:59,  9.60it/s]\u001b[A\u001b[A\n",
            "\n",
            " 51%|█████     | 1763/3486 [08:01<02:19, 12.35it/s]\u001b[A\u001b[A"
          ],
          "name": "stderr"
        },
        {
          "output_type": "stream",
          "text": [
            "536\n",
            "4151\n",
            "(2880, 116)\n",
            "116\n",
            "4152\n",
            "(1260, 71)\n",
            "71\n",
            "4153\n",
            "(2556, 107)\n",
            "107\n",
            "4154\n",
            "(2970, 123)\n",
            "123\n",
            "4155\n",
            "(1575, 80)\n",
            "80\n",
            "4156\n",
            "(2880, 122)\n",
            "122\n",
            "4157\n",
            "(3564, 135)\n"
          ],
          "name": "stdout"
        },
        {
          "output_type": "stream",
          "text": [
            "\n",
            "\n",
            " 51%|█████     | 1767/3486 [08:01<01:52, 15.31it/s]\u001b[A\u001b[A"
          ],
          "name": "stderr"
        },
        {
          "output_type": "stream",
          "text": [
            "135\n",
            "4158\n",
            "(855, 64)\n",
            "64\n",
            "4159\n",
            "(72, 38)\n",
            "38\n",
            "4160\n",
            "(4356, 157)\n",
            "157\n",
            "4161\n",
            "(4284, 155)\n",
            "155\n",
            "4162\n",
            "(672, 62)\n",
            "62\n",
            "4163\n",
            "(8145, 226)\n"
          ],
          "name": "stdout"
        },
        {
          "output_type": "stream",
          "text": [
            "\n",
            "\n",
            " 51%|█████     | 1770/3486 [08:01<01:47, 15.92it/s]\u001b[A\u001b[A\n",
            "\n"
          ],
          "name": "stderr"
        },
        {
          "output_type": "stream",
          "text": [
            "226\n",
            "4164\n",
            "(360, 53)\n",
            "53\n",
            "4165\n",
            "(3672, 138)\n",
            "138\n",
            "4166\n",
            "(810, 63)\n",
            "63\n",
            "4167\n",
            "(8910, 243)\n",
            "243\n"
          ],
          "name": "stdout"
        },
        {
          "output_type": "stream",
          "text": [
            "\r 51%|█████     | 1774/3486 [08:02<01:40, 17.11it/s]\u001b[A\u001b[A"
          ],
          "name": "stderr"
        },
        {
          "output_type": "stream",
          "text": [
            "4168\n",
            "(29016, 514)\n"
          ],
          "name": "stdout"
        },
        {
          "output_type": "stream",
          "text": [
            "\n",
            "\n",
            " 51%|█████     | 1777/3486 [08:03<03:51,  7.37it/s]\u001b[A\u001b[A"
          ],
          "name": "stderr"
        },
        {
          "output_type": "stream",
          "text": [
            "514\n",
            "4169\n",
            "(2214, 95)\n",
            "95\n",
            "4170\n",
            "(3312, 117)\n",
            "117\n",
            "4171\n",
            "(1470, 79)\n",
            "79\n",
            "4172\n",
            "(3924, 145)\n",
            "145\n",
            "4174\n",
            "(11916, 367)\n"
          ],
          "name": "stdout"
        },
        {
          "output_type": "stream",
          "text": [
            "\n",
            "\n",
            " 51%|█████     | 1780/3486 [08:03<03:36,  7.88it/s]\u001b[A\u001b[A\n",
            "\n",
            " 51%|█████     | 1782/3486 [08:03<02:58,  9.55it/s]\u001b[A\u001b[A"
          ],
          "name": "stderr"
        },
        {
          "output_type": "stream",
          "text": [
            "367\n",
            "4175\n",
            "(3300, 340)\n",
            "340\n",
            "4176\n",
            "(3636, 137)\n",
            "137\n",
            "4177\n",
            "(360, 46)\n",
            "46\n",
            "4178\n",
            "(315, 52)\n",
            "52\n",
            "4179\n",
            "(648, 54)\n",
            "54\n",
            "4180\n",
            "(1575, 96)\n",
            "96\n",
            "4181\n",
            "(1404, 75)\n",
            "75\n",
            "4182\n"
          ],
          "name": "stdout"
        },
        {
          "output_type": "stream",
          "text": [
            "\n",
            "\n",
            " 51%|█████▏    | 1788/3486 [08:03<02:18, 12.29it/s]\u001b[A\u001b[A"
          ],
          "name": "stderr"
        },
        {
          "output_type": "stream",
          "text": [
            "(7470, 211)\n",
            "211\n",
            "4183\n",
            "(660, 59)\n",
            "59\n",
            "4184\n",
            "(990, 73)\n",
            "73\n",
            "4186\n",
            "(3975, 128)\n",
            "128\n",
            "4187\n",
            "(15156, 457)\n"
          ],
          "name": "stdout"
        },
        {
          "output_type": "stream",
          "text": [
            "\n",
            "\n",
            " 51%|█████▏    | 1792/3486 [08:04<02:46, 10.17it/s]\u001b[A\u001b[A\n",
            "\n",
            " 51%|█████▏    | 1794/3486 [08:04<02:32, 11.06it/s]\u001b[A\u001b[A"
          ],
          "name": "stderr"
        },
        {
          "output_type": "stream",
          "text": [
            "457\n",
            "4188\n",
            "(4896, 172)\n",
            "172\n",
            "4189\n",
            "(5724, 195)\n",
            "195\n",
            "4190\n",
            "(1500, 85)\n",
            "85\n",
            "4191\n",
            "(700, 64)\n",
            "64\n",
            "4192\n",
            "(2160, 163)\n"
          ],
          "name": "stdout"
        },
        {
          "output_type": "stream",
          "text": [
            "\n",
            "\n",
            " 52%|█████▏    | 1798/3486 [08:04<02:02, 13.80it/s]\u001b[A\u001b[A"
          ],
          "name": "stderr"
        },
        {
          "output_type": "stream",
          "text": [
            "163\n",
            "4193\n",
            "(5940, 156)\n",
            "156\n",
            "4194\n",
            "(16416, 492)\n"
          ],
          "name": "stdout"
        },
        {
          "output_type": "stream",
          "text": [
            "\n",
            "\n",
            " 52%|█████▏    | 1801/3486 [08:05<02:55,  9.58it/s]\u001b[A\u001b[A"
          ],
          "name": "stderr"
        },
        {
          "output_type": "stream",
          "text": [
            "492\n",
            "4195\n",
            "(576, 60)\n",
            "60\n",
            "4196\n",
            "(2880, 116)\n",
            "116\n",
            "4197\n",
            "(900, 75)\n",
            "75\n",
            "4198\n",
            "(20385, 498)\n"
          ],
          "name": "stdout"
        },
        {
          "output_type": "stream",
          "text": [
            "\n",
            "\n",
            " 52%|█████▏    | 1803/3486 [08:05<04:55,  5.69it/s]\u001b[A\u001b[A"
          ],
          "name": "stderr"
        },
        {
          "output_type": "stream",
          "text": [
            "498\n",
            "4199\n",
            "(7236, 237)\n",
            "237\n",
            "4200\n",
            "(18936, 562)\n"
          ],
          "name": "stdout"
        },
        {
          "output_type": "stream",
          "text": [
            "\n",
            "\n",
            " 52%|█████▏    | 1805/3486 [08:06<06:34,  4.26it/s]\u001b[A\u001b[A"
          ],
          "name": "stderr"
        },
        {
          "output_type": "stream",
          "text": [
            "562\n",
            "4201\n",
            "(1440, 84)\n",
            "84\n",
            "4202\n",
            "(2820, 107)\n",
            "107\n",
            "4203\n",
            "(13644, 415)\n"
          ],
          "name": "stdout"
        },
        {
          "output_type": "stream",
          "text": [
            "\n",
            "\n",
            " 52%|█████▏    | 1808/3486 [08:06<05:40,  4.93it/s]\u001b[A\u001b[A\n",
            "\n",
            " 52%|█████▏    | 1814/3486 [08:06<04:05,  6.80it/s]\u001b[A\u001b[A"
          ],
          "name": "stderr"
        },
        {
          "output_type": "stream",
          "text": [
            "415\n",
            "4204\n",
            "(1920, 92)\n",
            "92\n",
            "4205\n",
            "(1260, 81)\n",
            "81\n",
            "4206\n",
            "(1512, 78)\n",
            "78\n",
            "4207\n",
            "(1368, 74)\n",
            "74\n",
            "4208\n",
            "(1440, 76)\n",
            "76\n",
            "4209\n",
            "(1638, 99)\n",
            "99\n",
            "4210\n",
            "(6591, 208)\n",
            "208\n"
          ],
          "name": "stdout"
        },
        {
          "output_type": "stream",
          "text": [
            "\n",
            "\n",
            " 52%|█████▏    | 1817/3486 [08:07<03:38,  7.63it/s]\u001b[A\u001b[A"
          ],
          "name": "stderr"
        },
        {
          "output_type": "stream",
          "text": [
            "4211\n",
            "(7059, 220)\n",
            "220\n",
            "4212\n",
            "(6948, 229)\n",
            "229\n",
            "4213\n"
          ],
          "name": "stdout"
        },
        {
          "output_type": "stream",
          "text": [
            "\n",
            "\n",
            " 52%|█████▏    | 1820/3486 [08:07<02:50,  9.78it/s]\u001b[A\u001b[A\n",
            "\n",
            " 52%|█████▏    | 1823/3486 [08:07<02:17, 12.14it/s]\u001b[A\u001b[A"
          ],
          "name": "stderr"
        },
        {
          "output_type": "stream",
          "text": [
            "(4620, 152)\n",
            "152\n",
            "4214\n",
            "(2520, 102)\n",
            "102\n",
            "4215\n",
            "(2385, 98)\n",
            "98\n",
            "4216\n",
            "(768, 134)\n",
            "134\n",
            "4217\n",
            "(960, 152)\n",
            "152\n",
            "4218\n",
            "(5004, 175)\n",
            "175\n",
            "4219\n",
            "(1800, 85)\n"
          ],
          "name": "stdout"
        },
        {
          "output_type": "stream",
          "text": [
            "\n",
            "\n",
            " 52%|█████▏    | 1826/3486 [08:07<01:56, 14.31it/s]\u001b[A\u001b[A"
          ],
          "name": "stderr"
        },
        {
          "output_type": "stream",
          "text": [
            "85\n",
            "4220\n",
            "(5904, 200)\n",
            "200\n",
            "4221\n",
            "(1800, 99)\n",
            "99\n",
            "4222\n",
            "(2475, 108)\n",
            "108\n",
            "4223\n",
            "(10260, 273)\n"
          ],
          "name": "stdout"
        },
        {
          "output_type": "stream",
          "text": [
            "\n",
            "\n",
            " 52%|█████▏    | 1829/3486 [08:07<01:57, 14.06it/s]\u001b[A\u001b[A\n",
            "\n",
            " 53%|█████▎    | 1833/3486 [08:07<01:37, 17.04it/s]\u001b[A\u001b[A"
          ],
          "name": "stderr"
        },
        {
          "output_type": "stream",
          "text": [
            "273\n",
            "4224\n",
            "(2088, 94)\n",
            "94\n",
            "4225\n",
            "(2160, 96)\n",
            "96\n",
            "4226\n",
            "(2304, 100)\n",
            "100\n",
            "4227\n",
            "(936, 62)\n",
            "62\n",
            "4228\n",
            "(5760, 154)\n",
            "154\n",
            "4229\n",
            "(5445, 166)\n"
          ],
          "name": "stdout"
        },
        {
          "output_type": "stream",
          "text": [
            "\n",
            "\n",
            " 53%|█████▎    | 1836/3486 [08:08<01:31, 18.10it/s]\u001b[A\u001b[A"
          ],
          "name": "stderr"
        },
        {
          "output_type": "stream",
          "text": [
            "166\n",
            "4230\n",
            "(2040, 94)\n",
            "94\n",
            "4231\n",
            "(1656, 95)\n",
            "95\n",
            "4232\n",
            "(22365, 364)\n"
          ],
          "name": "stdout"
        },
        {
          "output_type": "stream",
          "text": [
            "\n",
            "\n",
            " 53%|█████▎    | 1839/3486 [08:08<02:16, 12.06it/s]\u001b[A\u001b[A\n",
            "\n",
            " 53%|█████▎    | 1842/3486 [08:08<01:57, 13.95it/s]\u001b[A\u001b[A"
          ],
          "name": "stderr"
        },
        {
          "output_type": "stream",
          "text": [
            "364\n",
            "4233\n",
            "(612, 53)\n",
            "53\n",
            "4234\n",
            "(540, 57)\n",
            "57\n",
            "4235\n",
            "(1944, 99)\n",
            "99\n",
            "4236\n",
            "(5148, 179)\n",
            "179\n",
            "4238\n",
            "(5625, 150)\n",
            "150\n",
            "4239\n",
            "(4680, 166)\n"
          ],
          "name": "stdout"
        },
        {
          "output_type": "stream",
          "text": [
            "\n",
            "\n",
            " 53%|█████▎    | 1845/3486 [08:08<01:42, 16.03it/s]\u001b[A\u001b[A"
          ],
          "name": "stderr"
        },
        {
          "output_type": "stream",
          "text": [
            "166\n",
            "4240\n",
            "(1260, 71)\n",
            "71\n",
            "4241\n",
            "(4005, 134)\n",
            "134\n",
            "4242\n",
            "(3840, 152)\n",
            "152\n",
            "4243\n",
            "(6615, 192)\n",
            "192\n"
          ],
          "name": "stdout"
        },
        {
          "output_type": "stream",
          "text": [
            "\n",
            "\n",
            " 53%|█████▎    | 1848/3486 [08:09<01:53, 14.39it/s]\u001b[A\u001b[A"
          ],
          "name": "stderr"
        },
        {
          "output_type": "stream",
          "text": [
            "4245\n",
            "(8320, 248)\n",
            "248\n",
            "4246\n",
            "(612, 53)\n",
            "53\n",
            "4247\n",
            "(8010, 179)\n",
            "179\n"
          ],
          "name": "stdout"
        },
        {
          "output_type": "stream",
          "text": [
            "\n",
            "\n",
            " 53%|█████▎    | 1851/3486 [08:09<01:37, 16.76it/s]\u001b[A\u001b[A\n",
            "\n",
            " 53%|█████▎    | 1854/3486 [08:09<01:24, 19.24it/s]\u001b[A\u001b[A"
          ],
          "name": "stderr"
        },
        {
          "output_type": "stream",
          "text": [
            "4248\n",
            "(2220, 97)\n",
            "97\n",
            "4249\n",
            "(5436, 187)\n",
            "187\n",
            "4250\n",
            "(1980, 89)\n",
            "89\n",
            "4252\n",
            "(1500, 85)\n",
            "85\n",
            "4253\n",
            "(768, 64)\n",
            "64\n",
            "4254\n",
            "(6372, 213)\n"
          ],
          "name": "stdout"
        },
        {
          "output_type": "stream",
          "text": [
            "\n",
            "\n",
            " 53%|█████▎    | 1857/3486 [08:09<01:17, 21.05it/s]\u001b[A\u001b[A\n",
            "\n",
            " 53%|█████▎    | 1861/3486 [08:09<01:07, 24.12it/s]\u001b[A\u001b[A"
          ],
          "name": "stderr"
        },
        {
          "output_type": "stream",
          "text": [
            "213\n",
            "4255\n",
            "(624, 61)\n",
            "61\n",
            "4256\n",
            "(1035, 68)\n",
            "68\n",
            "4257\n",
            "(765, 62)\n",
            "62\n",
            "4259\n",
            "(3024, 165)\n",
            "165\n",
            "4260\n",
            "(4662, 153)\n",
            "153\n",
            "4261\n",
            "(702, 67)\n",
            "67\n",
            "4262\n",
            "(3528, 134)\n",
            "134\n",
            "4263\n",
            "(2880, 116)\n"
          ],
          "name": "stdout"
        },
        {
          "output_type": "stream",
          "text": [
            "\n",
            "\n",
            " 53%|█████▎    | 1865/3486 [08:09<01:00, 26.67it/s]\u001b[A\u001b[A"
          ],
          "name": "stderr"
        },
        {
          "output_type": "stream",
          "text": [
            "116\n",
            "4264\n",
            "(2160, 96)\n",
            "96\n",
            "4265\n",
            "(1200, 80)\n",
            "80\n",
            "4266\n",
            "(10008, 314)\n"
          ],
          "name": "stdout"
        },
        {
          "output_type": "stream",
          "text": [
            "\n",
            "\n",
            " 54%|█████▎    | 1869/3486 [08:09<01:22, 19.72it/s]\u001b[A\u001b[A"
          ],
          "name": "stderr"
        },
        {
          "output_type": "stream",
          "text": [
            "314\n",
            "4267\n",
            "(6885, 198)\n",
            "198\n",
            "4268\n",
            "(3492, 133)\n",
            "133\n",
            "4269\n",
            "(4860, 171)\n",
            "171\n",
            "4270\n",
            "(2880, 122)\n"
          ],
          "name": "stdout"
        },
        {
          "output_type": "stream",
          "text": [
            "\n",
            "\n",
            " 54%|█████▎    | 1872/3486 [08:09<01:13, 21.91it/s]\u001b[A\u001b[A\n",
            "\n",
            " 54%|█████▍    | 1875/3486 [08:10<01:21, 19.85it/s]\u001b[A\u001b[A"
          ],
          "name": "stderr"
        },
        {
          "output_type": "stream",
          "text": [
            "122\n",
            "4271\n",
            "(768, 64)\n",
            "64\n",
            "4272\n",
            "(5940, 201)\n",
            "201\n",
            "4273\n",
            "(6732, 223)\n",
            "223\n",
            "4274\n",
            "(1404, 75)\n",
            "75\n",
            "4275\n"
          ],
          "name": "stdout"
        },
        {
          "output_type": "stream",
          "text": [
            "\n",
            "\n",
            " 54%|█████▍    | 1878/3486 [08:10<01:16, 21.08it/s]\u001b[A\u001b[A"
          ],
          "name": "stderr"
        },
        {
          "output_type": "stream",
          "text": [
            "(2664, 110)\n",
            "110\n",
            "4276\n",
            "(7335, 208)\n",
            "208\n",
            "4277\n",
            "(360, 39)\n",
            "39\n",
            "4278\n",
            "(528, 46)\n",
            "46\n",
            "4279\n",
            "(178524, 1770)\n"
          ],
          "name": "stdout"
        },
        {
          "output_type": "stream",
          "text": [
            "\n",
            "\n",
            " 54%|█████▍    | 1878/3486 [08:22<01:16, 21.08it/s]\u001b[A\u001b[A\n",
            "\n",
            " 54%|█████▍    | 1880/3486 [08:35<1:43:14,  3.86s/it]\u001b[A\u001b[A"
          ],
          "name": "stderr"
        },
        {
          "output_type": "stream",
          "text": [
            "1770\n",
            "4280\n",
            "(72108, 1023)\n"
          ],
          "name": "stdout"
        },
        {
          "output_type": "stream",
          "text": [
            "\n",
            "\n",
            " 54%|█████▍    | 1881/3486 [08:40<1:49:16,  4.09s/it]\u001b[A\u001b[A\n",
            "\n",
            " 54%|█████▍    | 1886/3486 [08:40<1:16:25,  2.87s/it]\u001b[A\u001b[A"
          ],
          "name": "stderr"
        },
        {
          "output_type": "stream",
          "text": [
            "1023\n",
            "4281\n",
            "(3150, 125)\n",
            "125\n",
            "4282\n",
            "(2016, 126)\n",
            "126\n",
            "4284\n",
            "(660, 71)\n",
            "71\n",
            "4285\n",
            "(1680, 83)\n",
            "83\n",
            "4286\n",
            "(990, 67)\n",
            "67\n",
            "4287\n",
            "(4116, 140)\n",
            "140\n",
            "4288\n"
          ],
          "name": "stdout"
        },
        {
          "output_type": "stream",
          "text": [
            "\n",
            "\n",
            " 54%|█████▍    | 1890/3486 [08:40<53:33,  2.01s/it]  \u001b[A\u001b[A\n",
            "\n",
            " 54%|█████▍    | 1893/3486 [08:40<37:46,  1.42s/it]\u001b[A\u001b[A"
          ],
          "name": "stderr"
        },
        {
          "output_type": "stream",
          "text": [
            "(1800, 85)\n",
            "85\n",
            "4289\n",
            "(1944, 90)\n",
            "90\n",
            "4290\n",
            "(816, 65)\n",
            "65\n",
            "4291\n",
            "(4176, 152)\n",
            "152\n",
            "4292\n",
            "(4770, 143)\n",
            "143\n",
            "4293\n",
            "(3816, 125)\n",
            "125\n",
            "4294\n",
            "(1404, 75)\n",
            "75\n",
            "4295\n"
          ],
          "name": "stdout"
        },
        {
          "output_type": "stream",
          "text": [
            "\n",
            "\n",
            " 54%|█████▍    | 1898/3486 [08:40<26:31,  1.00s/it]\u001b[A\u001b[A\n",
            "\n",
            " 55%|█████▍    | 1904/3486 [08:40<18:37,  1.42it/s]\u001b[A\u001b[A"
          ],
          "name": "stderr"
        },
        {
          "output_type": "stream",
          "text": [
            "(1620, 87)\n",
            "87\n",
            "4296\n",
            "(2250, 95)\n",
            "95\n",
            "4297\n",
            "(2088, 94)\n",
            "94\n",
            "4298\n",
            "(1680, 88)\n",
            "88\n",
            "4299\n",
            "(585, 58)\n",
            "58\n",
            "4300\n",
            "(1350, 93)\n",
            "93\n",
            "4301\n",
            "(792, 83)\n",
            "83\n",
            "4302\n",
            "(3636, 137)\n",
            "137\n",
            "4303\n",
            "(42, 43)\n",
            "43\n",
            "4305\n",
            "(720, 61)\n",
            "61\n",
            "4306\n",
            "(2952, 118)\n",
            "118\n",
            "4307\n",
            "(3384, 130)\n",
            "130\n",
            "4308\n",
            "(2700, 111)\n",
            "111\n",
            "4309\n",
            "(16416, 492)\n"
          ],
          "name": "stdout"
        },
        {
          "output_type": "stream",
          "text": [
            "\n",
            "\n",
            " 55%|█████▍    | 1908/3486 [08:41<14:03,  1.87it/s]\u001b[A\u001b[A"
          ],
          "name": "stderr"
        },
        {
          "output_type": "stream",
          "text": [
            "492\n",
            "4310\n",
            "(1980, 93)\n",
            "93\n",
            "4311\n",
            "(15228, 459)\n"
          ],
          "name": "stdout"
        },
        {
          "output_type": "stream",
          "text": [
            "\n",
            "\n",
            " 55%|█████▍    | 1911/3486 [08:41<10:58,  2.39it/s]\u001b[A\u001b[A\n",
            "\n",
            " 55%|█████▍    | 1914/3486 [08:42<08:02,  3.26it/s]\u001b[A\u001b[A"
          ],
          "name": "stderr"
        },
        {
          "output_type": "stream",
          "text": [
            "459\n",
            "4312\n",
            "(900, 87)\n",
            "87\n",
            "4313\n",
            "(1404, 79)\n",
            "79\n",
            "4314\n",
            "(4608, 136)\n",
            "136\n",
            "4315\n",
            "(6732, 223)\n",
            "223\n",
            "4317\n",
            "(3132, 123)\n",
            "123\n",
            "4319\n"
          ],
          "name": "stdout"
        },
        {
          "output_type": "stream",
          "text": [
            "\n",
            "\n",
            " 55%|█████▌    | 1919/3486 [08:42<05:46,  4.53it/s]\u001b[A\u001b[A"
          ],
          "name": "stderr"
        },
        {
          "output_type": "stream",
          "text": [
            "(3240, 126)\n",
            "126\n",
            "4320\n",
            "(1656, 82)\n",
            "82\n",
            "4321\n",
            "(468, 49)\n",
            "49\n",
            "4322\n",
            "(936, 62)\n",
            "62\n",
            "4323\n",
            "(684, 55)\n",
            "55\n",
            "4324\n",
            "(1116, 67)\n",
            "67\n",
            "4325\n",
            "(828, 59)\n",
            "59\n",
            "4326\n",
            "(1044, 65)\n",
            "65\n",
            "4327\n",
            "(3780, 132)\n",
            "132\n",
            "4328\n",
            "(38592, 852)\n"
          ],
          "name": "stdout"
        },
        {
          "output_type": "stream",
          "text": [
            "\n",
            "\n",
            " 55%|█████▌    | 1925/3486 [08:44<07:16,  3.57it/s]\u001b[A\u001b[A"
          ],
          "name": "stderr"
        },
        {
          "output_type": "stream",
          "text": [
            "852\n",
            "4329\n",
            "(47472, 1037)\n",
            "1037\n",
            "4330\n",
            "(188712, 2244)\n"
          ],
          "name": "stdout"
        },
        {
          "output_type": "stream",
          "text": [
            "\n",
            "\n",
            " 55%|█████▌    | 1925/3486 [09:02<07:16,  3.57it/s]\u001b[A\u001b[A\n",
            "\n",
            " 55%|█████▌    | 1927/3486 [09:23<2:37:33,  6.06s/it]\u001b[A\u001b[A"
          ],
          "name": "stderr"
        },
        {
          "output_type": "stream",
          "text": [
            "2244\n",
            "4331\n",
            "(43308, 1239)\n"
          ],
          "name": "stdout"
        },
        {
          "output_type": "stream",
          "text": [
            "\n",
            "\n",
            " 55%|█████▌    | 1928/3486 [09:27<2:18:59,  5.35s/it]\u001b[A\u001b[A"
          ],
          "name": "stderr"
        },
        {
          "output_type": "stream",
          "text": [
            "1239\n",
            "4332\n",
            "(35892, 1033)\n"
          ],
          "name": "stdout"
        },
        {
          "output_type": "stream",
          "text": [
            "\n",
            "\n",
            " 55%|█████▌    | 1929/3486 [09:30<1:57:31,  4.53s/it]\u001b[A\u001b[A"
          ],
          "name": "stderr"
        },
        {
          "output_type": "stream",
          "text": [
            "1033\n",
            "4333\n",
            "(38844, 1115)\n"
          ],
          "name": "stdout"
        },
        {
          "output_type": "stream",
          "text": [
            "\n",
            "\n",
            " 55%|█████▌    | 1930/3486 [09:32<1:44:40,  4.04s/it]\u001b[A\u001b[A"
          ],
          "name": "stderr"
        },
        {
          "output_type": "stream",
          "text": [
            "1115\n",
            "4334\n",
            "(37188, 1069)\n"
          ],
          "name": "stdout"
        },
        {
          "output_type": "stream",
          "text": [
            "\n",
            "\n",
            " 55%|█████▌    | 1931/3486 [09:35<1:33:02,  3.59s/it]\u001b[A\u001b[A"
          ],
          "name": "stderr"
        },
        {
          "output_type": "stream",
          "text": [
            "1069\n",
            "4335\n",
            "(33480, 966)\n"
          ],
          "name": "stdout"
        },
        {
          "output_type": "stream",
          "text": [
            "\n",
            "\n",
            " 55%|█████▌    | 1932/3486 [09:37<1:22:29,  3.19s/it]\u001b[A\u001b[A"
          ],
          "name": "stderr"
        },
        {
          "output_type": "stream",
          "text": [
            "966\n",
            "4336\n",
            "(396, 47)\n",
            "47\n",
            "4337\n",
            "(14796, 447)\n"
          ],
          "name": "stdout"
        },
        {
          "output_type": "stream",
          "text": [
            "\n",
            "\n",
            " 55%|█████▌    | 1934/3486 [09:38<1:00:57,  2.36s/it]\u001b[A\u001b[A"
          ],
          "name": "stderr"
        },
        {
          "output_type": "stream",
          "text": [
            "447\n",
            "4338\n",
            "(480, 52)\n",
            "52\n",
            "4339\n",
            "(1050, 89)\n",
            "89\n",
            "4341\n",
            "(4752, 168)\n"
          ],
          "name": "stdout"
        },
        {
          "output_type": "stream",
          "text": [
            "\n",
            "\n",
            " 56%|█████▌    | 1937/3486 [09:38<43:17,  1.68s/it]  \u001b[A\u001b[A"
          ],
          "name": "stderr"
        },
        {
          "output_type": "stream",
          "text": [
            "168\n",
            "4342\n",
            "(10764, 335)\n"
          ],
          "name": "stdout"
        },
        {
          "output_type": "stream",
          "text": [
            "\n",
            "\n",
            " 56%|█████▌    | 1938/3486 [09:39<34:46,  1.35s/it]\u001b[A\u001b[A"
          ],
          "name": "stderr"
        },
        {
          "output_type": "stream",
          "text": [
            "335\n",
            "4343\n",
            "(7740, 251)\n"
          ],
          "name": "stdout"
        },
        {
          "output_type": "stream",
          "text": [
            "\n",
            "\n",
            " 56%|█████▌    | 1939/3486 [09:39<27:04,  1.05s/it]\u001b[A\u001b[A"
          ],
          "name": "stderr"
        },
        {
          "output_type": "stream",
          "text": [
            "251\n",
            "4344\n",
            "(8976, 248)\n"
          ],
          "name": "stdout"
        },
        {
          "output_type": "stream",
          "text": [
            "\n",
            "\n",
            " 56%|█████▌    | 1940/3486 [09:40<21:38,  1.19it/s]\u001b[A\u001b[A\n",
            "\n",
            " 56%|█████▌    | 1942/3486 [09:40<15:36,  1.65it/s]\u001b[A\u001b[A"
          ],
          "name": "stderr"
        },
        {
          "output_type": "stream",
          "text": [
            "248\n",
            "4345\n",
            "(1875, 100)\n",
            "100\n",
            "4346\n",
            "(1188, 69)\n",
            "69\n",
            "4347\n",
            "(960, 76)\n"
          ],
          "name": "stdout"
        },
        {
          "output_type": "stream",
          "text": [
            "\n",
            "\n",
            " 56%|█████▌    | 1944/3486 [09:40<11:29,  2.24it/s]\u001b[A\u001b[A"
          ],
          "name": "stderr"
        },
        {
          "output_type": "stream",
          "text": [
            "76\n",
            "4348\n",
            "(1500, 85)\n",
            "85\n",
            "4349\n",
            "(14004, 425)\n"
          ],
          "name": "stdout"
        },
        {
          "output_type": "stream",
          "text": [
            "\n",
            "\n",
            " 56%|█████▌    | 1945/3486 [09:41<15:09,  1.69it/s]\u001b[A\u001b[A\n",
            "\n",
            " 56%|█████▌    | 1947/3486 [09:41<11:03,  2.32it/s]\u001b[A\u001b[A"
          ],
          "name": "stderr"
        },
        {
          "output_type": "stream",
          "text": [
            "425\n",
            "4350\n",
            "(360, 46)\n",
            "46\n",
            "4351\n",
            "(4680, 149)\n",
            "149\n",
            "4352\n",
            "(288, 44)\n",
            "44\n",
            "4353\n",
            "(2124, 95)\n",
            "95\n",
            "4354\n"
          ],
          "name": "stdout"
        },
        {
          "output_type": "stream",
          "text": [
            "\n",
            "\n",
            " 56%|█████▌    | 1950/3486 [09:41<08:05,  3.16it/s]\u001b[A\u001b[A\n",
            "\n",
            " 56%|█████▌    | 1953/3486 [09:41<05:56,  4.30it/s]\u001b[A\u001b[A"
          ],
          "name": "stderr"
        },
        {
          "output_type": "stream",
          "text": [
            "(4284, 155)\n",
            "155\n",
            "4355\n",
            "(1248, 74)\n",
            "74\n",
            "4356\n",
            "(8010, 179)\n",
            "179\n",
            "4358\n",
            "(780, 73)\n",
            "73\n",
            "4359\n",
            "(1296, 72)"
          ],
          "name": "stdout"
        },
        {
          "output_type": "stream",
          "text": [
            "\n",
            "\n",
            " 56%|█████▌    | 1956/3486 [09:41<04:29,  5.68it/s]\u001b[A\u001b[A"
          ],
          "name": "stderr"
        },
        {
          "output_type": "stream",
          "text": [
            "\n",
            "72\n",
            "4360\n",
            "(324, 45)\n",
            "45\n",
            "4361\n",
            "(3180, 113)\n",
            "113\n",
            "4362\n",
            "(11232, 348)\n"
          ],
          "name": "stdout"
        },
        {
          "output_type": "stream",
          "text": [
            "\n",
            "\n",
            " 56%|█████▌    | 1958/3486 [09:42<04:15,  5.98it/s]\u001b[A\u001b[A"
          ],
          "name": "stderr"
        },
        {
          "output_type": "stream",
          "text": [
            "348\n",
            "4363\n",
            "(2016, 100)\n",
            "100\n",
            "4364\n",
            "(34668, 999)\n",
            "999\n",
            "4365\n",
            "(35280, 1016)\n"
          ],
          "name": "stdout"
        },
        {
          "output_type": "stream",
          "text": [
            "\n",
            "\n",
            " 56%|█████▌    | 1960/3486 [09:46<20:22,  1.25it/s]\u001b[A\u001b[A"
          ],
          "name": "stderr"
        },
        {
          "output_type": "stream",
          "text": [
            "1016\n",
            "4366\n",
            "(29988, 869)\n",
            "869\n",
            "4367\n",
            "(33660, 971)\n"
          ],
          "name": "stdout"
        },
        {
          "output_type": "stream",
          "text": [
            "\n",
            "\n",
            " 56%|█████▋    | 1962/3486 [09:50<29:57,  1.18s/it]\u001b[A\u001b[A"
          ],
          "name": "stderr"
        },
        {
          "output_type": "stream",
          "text": [
            "971\n",
            "4368\n",
            "(29556, 857)\n"
          ],
          "name": "stdout"
        },
        {
          "output_type": "stream",
          "text": [
            "\n",
            "\n",
            " 56%|█████▋    | 1963/3486 [09:52<32:02,  1.26s/it]\u001b[A\u001b[A"
          ],
          "name": "stderr"
        },
        {
          "output_type": "stream",
          "text": [
            "857\n",
            "4369\n",
            "(30708, 889)\n"
          ],
          "name": "stdout"
        },
        {
          "output_type": "stream",
          "text": [
            "\n",
            "\n",
            " 56%|█████▋    | 1964/3486 [09:53<34:44,  1.37s/it]\u001b[A\u001b[A\n",
            "\n",
            " 56%|█████▋    | 1967/3486 [09:54<24:33,  1.03it/s]\u001b[A\u001b[A"
          ],
          "name": "stderr"
        },
        {
          "output_type": "stream",
          "text": [
            "889\n",
            "4370\n",
            "(3636, 137)\n",
            "137\n",
            "4371\n",
            "(5220, 148)\n",
            "148\n",
            "4372\n",
            "(1440, 92)\n",
            "92\n",
            "4373\n",
            "(7092, 233)\n"
          ],
          "name": "stdout"
        },
        {
          "output_type": "stream",
          "text": [
            "\n",
            "\n",
            " 56%|█████▋    | 1969/3486 [09:54<17:40,  1.43it/s]\u001b[A\u001b[A"
          ],
          "name": "stderr"
        },
        {
          "output_type": "stream",
          "text": [
            "233\n",
            "4374\n",
            "(1512, 78)\n",
            "78\n",
            "4375\n",
            "(25080, 667)\n"
          ],
          "name": "stdout"
        },
        {
          "output_type": "stream",
          "text": [
            "\n",
            "\n",
            " 57%|█████▋    | 1971/3486 [09:55<16:24,  1.54it/s]\u001b[A\u001b[A\n",
            "\n",
            " 57%|█████▋    | 1977/3486 [09:55<11:35,  2.17it/s]\u001b[A\u001b[A"
          ],
          "name": "stderr"
        },
        {
          "output_type": "stream",
          "text": [
            "667\n",
            "4376\n",
            "(1080, 78)\n",
            "78\n",
            "4377\n",
            "(1368, 74)\n",
            "74\n",
            "4378\n",
            "(4032, 148)\n",
            "148\n",
            "4379\n",
            "(512, 72)\n",
            "72\n",
            "4380\n",
            "(585, 58)\n",
            "58\n",
            "4381\n",
            "(672, 62)\n",
            "62\n",
            "4383\n",
            "(2412, 103)\n",
            "103\n",
            "4384\n",
            "(4896, 172)\n"
          ],
          "name": "stdout"
        },
        {
          "output_type": "stream",
          "text": [
            "\n",
            "\n",
            " 57%|█████▋    | 1980/3486 [09:55<08:25,  2.98it/s]\u001b[A\u001b[A\n",
            "\n",
            " 57%|█████▋    | 1985/3486 [09:55<06:03,  4.13it/s]\u001b[A\u001b[A"
          ],
          "name": "stderr"
        },
        {
          "output_type": "stream",
          "text": [
            "172\n",
            "4385\n",
            "(2790, 121)\n",
            "121\n",
            "4387\n",
            "(3510, 129)\n",
            "129\n",
            "4388\n",
            "(1056, 70)\n",
            "70\n",
            "4389\n",
            "(576, 52)\n",
            "52\n",
            "4390\n",
            "(1620, 87)\n",
            "87\n",
            "4391\n",
            "(5040, 162)\n",
            "162\n",
            "4392\n",
            "(2160, 96)\n",
            "96\n",
            "4394\n",
            "(1680, 88)\n",
            "88\n",
            "4395\n"
          ],
          "name": "stdout"
        },
        {
          "output_type": "stream",
          "text": [
            "\n",
            "\n",
            " 57%|█████▋    | 1990/3486 [09:55<04:22,  5.70it/s]\u001b[A\u001b[A"
          ],
          "name": "stderr"
        },
        {
          "output_type": "stream",
          "text": [
            "(1760, 84)\n",
            "84\n",
            "4396\n",
            "(1440, 84)\n",
            "84\n",
            "4397\n",
            "(3312, 117)\n",
            "117\n",
            "4398\n",
            "(1080, 78)\n",
            "78\n",
            "4399\n",
            "(4392, 158)\n",
            "158\n",
            "4400\n",
            "(216, 42)\n",
            "42\n",
            "4401\n",
            "(5400, 186)\n",
            "186\n",
            "4402\n"
          ],
          "name": "stdout"
        },
        {
          "output_type": "stream",
          "text": [
            "\n",
            "\n",
            " 57%|█████▋    | 1994/3486 [09:55<03:19,  7.48it/s]\u001b[A\u001b[A"
          ],
          "name": "stderr"
        },
        {
          "output_type": "stream",
          "text": [
            "(2052, 93)\n",
            "93\n",
            "4403\n",
            "(9720, 306)\n",
            "306\n",
            "4404\n",
            "(5004, 175)\n"
          ],
          "name": "stdout"
        },
        {
          "output_type": "stream",
          "text": [
            "\n",
            "\n",
            " 57%|█████▋    | 1998/3486 [09:56<02:49,  8.75it/s]\u001b[A\u001b[A"
          ],
          "name": "stderr"
        },
        {
          "output_type": "stream",
          "text": [
            "175\n",
            "4405\n",
            "(1296, 90)\n",
            "90\n",
            "4406\n",
            "(4005, 134)\n",
            "134\n",
            "4407\n",
            "(3960, 146)\n",
            "146\n",
            "4408\n",
            "(364, 41)\n",
            "41\n",
            "4409\n",
            "(9366, 265)\n"
          ],
          "name": "stdout"
        },
        {
          "output_type": "stream",
          "text": [
            "\n",
            "\n",
            " 57%|█████▋    | 2001/3486 [09:56<02:27, 10.07it/s]\u001b[A\u001b[A"
          ],
          "name": "stderr"
        },
        {
          "output_type": "stream",
          "text": [
            "265\n",
            "4410\n",
            "(3348, 183)\n",
            "183\n",
            "4411\n",
            "(2400, 107)\n",
            "107\n",
            "4412\n",
            "(14292, 433)\n"
          ],
          "name": "stdout"
        },
        {
          "output_type": "stream",
          "text": [
            "\n",
            "\n",
            " 57%|█████▋    | 2004/3486 [09:56<02:45,  8.95it/s]\u001b[A\u001b[A"
          ],
          "name": "stderr"
        },
        {
          "output_type": "stream",
          "text": [
            "433\n",
            "4413\n",
            "(20412, 603)\n"
          ],
          "name": "stdout"
        },
        {
          "output_type": "stream",
          "text": [
            "\n",
            "\n",
            " 58%|█████▊    | 2006/3486 [09:57<04:58,  4.95it/s]\u001b[A\u001b[A"
          ],
          "name": "stderr"
        },
        {
          "output_type": "stream",
          "text": [
            "603\n",
            "4414\n",
            "(6948, 229)\n",
            "229\n",
            "4415\n",
            "(684, 55)\n",
            "55\n",
            "4416\n",
            "(432, 48)\n",
            "48\n",
            "4417\n",
            "(9936, 312)\n"
          ],
          "name": "stdout"
        },
        {
          "output_type": "stream",
          "text": [
            "\n",
            "\n",
            " 58%|█████▊    | 2009/3486 [09:57<03:58,  6.19it/s]\u001b[A\u001b[A"
          ],
          "name": "stderr"
        },
        {
          "output_type": "stream",
          "text": [
            "312\n",
            "4418\n",
            "(12909, 370)\n"
          ],
          "name": "stdout"
        },
        {
          "output_type": "stream",
          "text": [
            "\n",
            "\n",
            " 58%|█████▊    | 2011/3486 [09:58<04:01,  6.12it/s]\u001b[A\u001b[A\n",
            "\n",
            " 58%|█████▊    | 2015/3486 [09:58<03:00,  8.14it/s]\u001b[A\u001b[A"
          ],
          "name": "stderr"
        },
        {
          "output_type": "stream",
          "text": [
            "370\n",
            "4420\n",
            "(4248, 154)\n",
            "154\n",
            "4421\n",
            "(900, 61)\n",
            "61\n",
            "4422\n",
            "(900, 61)\n",
            "61\n",
            "4423\n",
            "(2850, 113)\n",
            "113\n",
            "4424\n",
            "(5160, 146)\n",
            "146\n",
            "4425\n",
            "(3600, 125)\n",
            "125\n",
            "4426\n",
            "(4608, 164)\n",
            "164\n",
            "4427\n",
            "(18900, 561)\n"
          ],
          "name": "stdout"
        },
        {
          "output_type": "stream",
          "text": [
            "\n",
            "\n",
            " 58%|█████▊    | 2018/3486 [09:58<03:53,  6.28it/s]\u001b[A\u001b[A\n",
            "\n",
            " 58%|█████▊    | 2020/3486 [09:59<03:08,  7.79it/s]\u001b[A\u001b[A"
          ],
          "name": "stderr"
        },
        {
          "output_type": "stream",
          "text": [
            "561\n",
            "4428\n",
            "(6120, 206)\n",
            "206\n",
            "4429\n",
            "(4230, 137)\n",
            "137\n",
            "4430\n",
            "(12096, 372)\n"
          ],
          "name": "stdout"
        },
        {
          "output_type": "stream",
          "text": [
            "\n",
            "\n",
            " 58%|█████▊    | 2022/3486 [09:59<03:25,  7.13it/s]\u001b[A\u001b[A"
          ],
          "name": "stderr"
        },
        {
          "output_type": "stream",
          "text": [
            "372\n",
            "4431\n",
            "(6080, 192)\n",
            "192\n",
            "4432\n",
            "(585, 54)\n",
            "54\n",
            "4433\n",
            "(3060, 124)\n",
            "124\n",
            "4434\n",
            "(12600, 325)\n"
          ],
          "name": "stdout"
        },
        {
          "output_type": "stream",
          "text": [
            "\n",
            "\n",
            " 58%|█████▊    | 2025/3486 [09:59<03:03,  7.96it/s]\u001b[A\u001b[A\n",
            "\n",
            " 58%|█████▊    | 2028/3486 [09:59<02:24, 10.10it/s]\u001b[A\u001b[A"
          ],
          "name": "stderr"
        },
        {
          "output_type": "stream",
          "text": [
            "325\n",
            "4435\n",
            "(4680, 166)\n",
            "166\n",
            "4436\n",
            "(3312, 128)\n",
            "128\n",
            "4437\n",
            "(792, 58)\n",
            "58\n",
            "4438\n",
            "(315, 52)\n",
            "52\n",
            "4439\n",
            "(720, 126)\n",
            "126\n",
            "4440\n",
            "(2280, 98)\n",
            "98\n",
            "4441\n",
            "(396, 47)\n",
            "47\n",
            "4442\n",
            "(3888, 144)\n"
          ],
          "name": "stdout"
        },
        {
          "output_type": "stream",
          "text": [
            "\n",
            "\n",
            " 58%|█████▊    | 2033/3486 [09:59<01:50, 13.17it/s]\u001b[A\u001b[A\n",
            "\n",
            " 58%|█████▊    | 2038/3486 [10:00<01:26, 16.71it/s]\u001b[A\u001b[A"
          ],
          "name": "stderr"
        },
        {
          "output_type": "stream",
          "text": [
            "144\n",
            "4443\n",
            "(816, 65)\n",
            "65\n",
            "4444\n",
            "(528, 59)\n",
            "59\n",
            "4446\n",
            "(1800, 90)\n",
            "90\n",
            "4447\n",
            "(1275, 92)\n",
            "92\n",
            "4448\n",
            "(4212, 153)\n",
            "153\n",
            "4449\n",
            "(3555, 124)\n",
            "124\n",
            "4450\n",
            "(4740, 139)\n"
          ],
          "name": "stdout"
        },
        {
          "output_type": "stream",
          "text": [
            "\n",
            "\n",
            " 59%|█████▊    | 2042/3486 [10:00<01:17, 18.63it/s]\u001b[A\u001b[A\n",
            "\n",
            " 59%|█████▊    | 2045/3486 [10:00<01:12, 19.86it/s]\u001b[A\u001b[A"
          ],
          "name": "stderr"
        },
        {
          "output_type": "stream",
          "text": [
            "139\n",
            "4451\n",
            "(3168, 124)\n",
            "124\n",
            "4452\n",
            "(2520, 107)\n",
            "107\n",
            "4453\n",
            "(5760, 196)\n",
            "196\n",
            "4454\n",
            "(1800, 110)\n",
            "110\n",
            "4455\n",
            "(1620, 81)\n",
            "81\n",
            "4456\n",
            "(4500, 145)\n",
            "145\n",
            "4458\n",
            "(19152, 568)\n"
          ],
          "name": "stdout"
        },
        {
          "output_type": "stream",
          "text": [
            "\n",
            "\n",
            " 59%|█████▊    | 2048/3486 [10:00<02:18, 10.35it/s]\u001b[A\u001b[A\n",
            "\n",
            " 59%|█████▉    | 2051/3486 [10:01<01:51, 12.84it/s]\u001b[A\u001b[A"
          ],
          "name": "stderr"
        },
        {
          "output_type": "stream",
          "text": [
            "568\n",
            "4459\n",
            "(2280, 98)\n",
            "98\n",
            "4460\n",
            "(2808, 114)\n",
            "114\n",
            "4461\n",
            "(4392, 133)\n",
            "133\n",
            "4462\n",
            "(3096, 122)\n",
            "122\n",
            "4463\n",
            "(630, 59)\n",
            "59\n",
            "4464\n",
            "(720, 61)\n",
            "61\n",
            "4465\n",
            "(450, 55)\n",
            "55\n",
            "4466\n",
            "(315, 52)\n",
            "52\n",
            "4467\n"
          ],
          "name": "stdout"
        },
        {
          "output_type": "stream",
          "text": [
            "\n",
            "\n",
            " 59%|█████▉    | 2057/3486 [10:01<01:25, 16.63it/s]\u001b[A\u001b[A"
          ],
          "name": "stderr"
        },
        {
          "output_type": "stream",
          "text": [
            "(4320, 132)\n",
            "132\n",
            "4468\n",
            "(1500, 85)\n",
            "85\n",
            "4469\n",
            "(3078, 119)\n",
            "119\n",
            "4470\n",
            "(28404, 825)\n"
          ],
          "name": "stdout"
        },
        {
          "output_type": "stream",
          "text": [
            "\n",
            "\n",
            " 59%|█████▉    | 2061/3486 [10:02<03:19,  7.13it/s]\u001b[A\u001b[A"
          ],
          "name": "stderr"
        },
        {
          "output_type": "stream",
          "text": [
            "825\n",
            "4471\n",
            "(5868, 199)\n",
            "199\n",
            "4472\n",
            "(1920, 92)\n",
            "92\n",
            "4473\n",
            "(4464, 160)\n",
            "160\n",
            "4474\n",
            "(4032, 148)\n",
            "148\n",
            "4475\n",
            "(1080, 78)\n",
            "78\n"
          ],
          "name": "stdout"
        },
        {
          "output_type": "stream",
          "text": [
            "\n",
            "\n",
            " 59%|█████▉    | 2064/3486 [10:02<02:34,  9.18it/s]\u001b[A\u001b[A"
          ],
          "name": "stderr"
        },
        {
          "output_type": "stream",
          "text": [
            "4476\n",
            "(3690, 127)\n",
            "127\n",
            "4477\n",
            "(2160, 96)\n",
            "96\n",
            "4478\n",
            "(7785, 218)\n"
          ],
          "name": "stdout"
        },
        {
          "output_type": "stream",
          "text": [
            "\n",
            "\n",
            " 59%|█████▉    | 2067/3486 [10:02<02:20, 10.08it/s]\u001b[A\u001b[A"
          ],
          "name": "stderr"
        },
        {
          "output_type": "stream",
          "text": [
            "218\n",
            "4479\n",
            "(1008, 64)\n",
            "64\n",
            "4480\n",
            "(5760, 196)\n",
            "196\n",
            "4481\n",
            "(15312, 367)\n"
          ],
          "name": "stdout"
        },
        {
          "output_type": "stream",
          "text": [
            "\n",
            "\n",
            " 59%|█████▉    | 2070/3486 [10:03<02:31,  9.33it/s]\u001b[A\u001b[A"
          ],
          "name": "stderr"
        },
        {
          "output_type": "stream",
          "text": [
            "367\n",
            "4483\n",
            "(3492, 133)\n",
            "133\n",
            "4484\n",
            "(17136, 512)\n"
          ],
          "name": "stdout"
        },
        {
          "output_type": "stream",
          "text": [
            "\n",
            "\n",
            " 59%|█████▉    | 2072/3486 [10:03<03:40,  6.41it/s]\u001b[A\u001b[A"
          ],
          "name": "stderr"
        },
        {
          "output_type": "stream",
          "text": [
            "512\n",
            "4485\n",
            "(1320, 82)\n",
            "82\n",
            "4486\n",
            "(19476, 577)\n"
          ],
          "name": "stdout"
        },
        {
          "output_type": "stream",
          "text": [
            "\n",
            "\n",
            " 59%|█████▉    | 2074/3486 [10:04<05:07,  4.59it/s]\u001b[A\u001b[A"
          ],
          "name": "stderr"
        },
        {
          "output_type": "stream",
          "text": [
            "577\n",
            "4487\n",
            "(15840, 476)\n",
            "476\n",
            "4488\n",
            "(16128, 484)\n"
          ],
          "name": "stdout"
        },
        {
          "output_type": "stream",
          "text": [
            "\n",
            "\n",
            " 60%|█████▉    | 2076/3486 [10:05<06:38,  3.54it/s]\u001b[A\u001b[A"
          ],
          "name": "stderr"
        },
        {
          "output_type": "stream",
          "text": [
            "484\n",
            "4489\n",
            "(3240, 126)\n",
            "126\n",
            "4490\n",
            "(1232, 78)\n",
            "78\n",
            "4491\n",
            "(1836, 87)\n",
            "87\n",
            "4492\n",
            "(17676, 527)\n"
          ],
          "name": "stdout"
        },
        {
          "output_type": "stream",
          "text": [
            "\n",
            "\n",
            " 60%|█████▉    | 2080/3486 [10:05<05:45,  4.07it/s]\u001b[A\u001b[A"
          ],
          "name": "stderr"
        },
        {
          "output_type": "stream",
          "text": [
            "527\n",
            "4493\n",
            "(18000, 536)\n"
          ],
          "name": "stdout"
        },
        {
          "output_type": "stream",
          "text": [
            "\n",
            "\n",
            " 60%|█████▉    | 2081/3486 [10:06<08:11,  2.86it/s]\u001b[A\u001b[A"
          ],
          "name": "stderr"
        },
        {
          "output_type": "stream",
          "text": [
            "536\n",
            "4494\n",
            "(12960, 396)\n"
          ],
          "name": "stdout"
        },
        {
          "output_type": "stream",
          "text": [
            "\n",
            "\n",
            " 60%|█████▉    | 2082/3486 [10:06<07:49,  2.99it/s]\u001b[A\u001b[A"
          ],
          "name": "stderr"
        },
        {
          "output_type": "stream",
          "text": [
            "396\n",
            "4495\n",
            "(16956, 507)\n"
          ],
          "name": "stdout"
        },
        {
          "output_type": "stream",
          "text": [
            "\n",
            "\n",
            " 60%|█████▉    | 2083/3486 [10:07<09:19,  2.51it/s]\u001b[A\u001b[A"
          ],
          "name": "stderr"
        },
        {
          "output_type": "stream",
          "text": [
            "507\n",
            "4496\n",
            "(18252, 543)\n"
          ],
          "name": "stdout"
        },
        {
          "output_type": "stream",
          "text": [
            "\n",
            "\n",
            " 60%|█████▉    | 2084/3486 [10:07<10:33,  2.21it/s]\u001b[A\u001b[A"
          ],
          "name": "stderr"
        },
        {
          "output_type": "stream",
          "text": [
            "543\n",
            "4497\n",
            "(15012, 453)\n"
          ],
          "name": "stdout"
        },
        {
          "output_type": "stream",
          "text": [
            "\n",
            "\n",
            " 60%|█████▉    | 2085/3486 [10:08<10:21,  2.26it/s]\u001b[A\u001b[A\n",
            "\n",
            " 60%|█████▉    | 2088/3486 [10:08<07:29,  3.11it/s]\u001b[A\u001b[A"
          ],
          "name": "stderr"
        },
        {
          "output_type": "stream",
          "text": [
            "453\n",
            "4498\n",
            "(5895, 176)\n",
            "176\n",
            "4499\n",
            "(684, 55)\n",
            "55\n",
            "4500\n",
            "(1152, 68)\n",
            "68\n",
            "4501\n",
            "(5904, 200)\n"
          ],
          "name": "stdout"
        },
        {
          "output_type": "stream",
          "text": [
            "\n",
            "\n",
            " 60%|█████▉    | 2091/3486 [10:08<05:44,  4.05it/s]\u001b[A\u001b[A"
          ],
          "name": "stderr"
        },
        {
          "output_type": "stream",
          "text": [
            "200\n",
            "4502\n",
            "(1320, 82)\n",
            "82\n",
            "4503\n",
            "(9405, 254)\n",
            "254\n",
            "4504\n",
            "(4824, 170)\n"
          ],
          "name": "stdout"
        },
        {
          "output_type": "stream",
          "text": [
            "\n",
            "\n",
            " 60%|██████    | 2093/3486 [10:08<04:26,  5.23it/s]\u001b[A\u001b[A"
          ],
          "name": "stderr"
        },
        {
          "output_type": "stream",
          "text": [
            "170\n",
            "4505\n",
            "(5265, 162)\n",
            "162\n",
            "4506\n",
            "(8730, 239)\n",
            "239\n",
            "4507\n"
          ],
          "name": "stdout"
        },
        {
          "output_type": "stream",
          "text": [
            "\n",
            "\n",
            " 60%|██████    | 2095/3486 [10:09<03:49,  6.06it/s]\u001b[A\u001b[A"
          ],
          "name": "stderr"
        },
        {
          "output_type": "stream",
          "text": [
            "(7200, 205)\n",
            "205\n",
            "4508\n",
            "(8280, 229)\n",
            "229\n",
            "4509\n"
          ],
          "name": "stdout"
        },
        {
          "output_type": "stream",
          "text": [
            "\n",
            "\n",
            " 60%|██████    | 2097/3486 [10:09<03:31,  6.56it/s]\u001b[A\u001b[A\n",
            "\n",
            " 60%|██████    | 2099/3486 [10:09<02:48,  8.22it/s]\u001b[A\u001b[A"
          ],
          "name": "stderr"
        },
        {
          "output_type": "stream",
          "text": [
            "(9090, 247)\n",
            "247\n",
            "4510\n",
            "(6480, 189)\n",
            "189\n",
            "4511\n",
            "(1980, 91)\n",
            "91\n"
          ],
          "name": "stdout"
        },
        {
          "output_type": "stream",
          "text": [
            "\n",
            "\n",
            " 60%|██████    | 2106/3486 [10:09<02:04, 11.12it/s]\u001b[A\u001b[A"
          ],
          "name": "stderr"
        },
        {
          "output_type": "stream",
          "text": [
            "4513\n",
            "(792, 57)\n",
            "57\n",
            "4515\n",
            "(2412, 103)\n",
            "103\n",
            "4516\n",
            "(360, 46)\n",
            "46\n",
            "4517\n",
            "(768, 64)\n",
            "64\n",
            "4518\n",
            "(585, 58)\n",
            "58\n",
            "4519\n",
            "(855, 64)\n",
            "64\n",
            "4520\n",
            "(1920, 88)\n",
            "88\n",
            "4521\n",
            "(2625, 110)\n",
            "110\n",
            "4522\n",
            "(6552, 218)\n"
          ],
          "name": "stdout"
        },
        {
          "output_type": "stream",
          "text": [
            "\n",
            "\n",
            " 60%|██████    | 2109/3486 [10:09<01:56, 11.84it/s]\u001b[A\u001b[A"
          ],
          "name": "stderr"
        },
        {
          "output_type": "stream",
          "text": [
            "218\n",
            "4523\n",
            "(7839, 240)\n",
            "240\n",
            "4524\n",
            "(3168, 116)\n",
            "116\n",
            "4525\n",
            "(828, 59)\n",
            "59\n",
            "4526\n",
            "(1860, 91)\n",
            "91\n",
            "4527\n",
            "(2412, 103)\n",
            "103\n",
            "4528\n",
            "(1944, 99)\n"
          ],
          "name": "stdout"
        },
        {
          "output_type": "stream",
          "text": [
            "\n",
            "\n",
            " 61%|██████    | 2114/3486 [10:09<01:30, 15.12it/s]\u001b[A\u001b[A\n",
            "\n",
            " 61%|██████    | 2117/3486 [10:09<01:20, 17.01it/s]\u001b[A\u001b[A"
          ],
          "name": "stderr"
        },
        {
          "output_type": "stream",
          "text": [
            "99\n",
            "4529\n",
            "(6840, 226)\n",
            "226\n",
            "4530\n",
            "(1170, 71)\n",
            "71\n",
            "4531\n",
            "(2052, 93)\n",
            "93\n",
            "4532\n",
            "(3600, 130)\n",
            "130\n",
            "4533\n",
            "(2916, 117)\n",
            "117\n",
            "4534"
          ],
          "name": "stdout"
        },
        {
          "output_type": "stream",
          "text": [
            "\n",
            "\n",
            " 61%|██████    | 2122/3486 [10:10<01:05, 20.83it/s]\u001b[A\u001b[A"
          ],
          "name": "stderr"
        },
        {
          "output_type": "stream",
          "text": [
            "\n",
            "(270, 51)\n",
            "51\n",
            "4535\n",
            "(1404, 75)\n",
            "75\n",
            "4536\n",
            "(1620, 81)\n",
            "81\n",
            "4537\n",
            "(1332, 73)\n",
            "73\n",
            "4538\n",
            "(1404, 75)\n",
            "75\n",
            "4539\n",
            "(1044, 65)\n",
            "65\n",
            "4540\n",
            "(1260, 71)\n",
            "71\n",
            "4541\n",
            "(720, 56)\n",
            "56\n",
            "4542\n",
            "(7416, 242)\n"
          ],
          "name": "stdout"
        },
        {
          "output_type": "stream",
          "text": [
            "\n",
            "\n",
            " 61%|██████    | 2128/3486 [10:10<00:57, 23.64it/s]\u001b[A\u001b[A\n",
            "\n",
            " 61%|██████    | 2132/3486 [10:10<00:53, 25.45it/s]\u001b[A\u001b[A"
          ],
          "name": "stderr"
        },
        {
          "output_type": "stream",
          "text": [
            "242\n",
            "4543\n",
            "(3456, 132)\n",
            "132\n",
            "4544\n",
            "(1224, 70)\n",
            "70\n",
            "4545\n",
            "(3636, 137)\n",
            "137\n",
            "4546\n",
            "(3168, 124)\n",
            "124\n",
            "4548\n",
            "(5364, 185)\n"
          ],
          "name": "stdout"
        },
        {
          "output_type": "stream",
          "text": [
            "\n",
            "\n",
            " 61%|██████▏   | 2136/3486 [10:10<00:53, 25.03it/s]\u001b[A\u001b[A"
          ],
          "name": "stderr"
        },
        {
          "output_type": "stream",
          "text": [
            "185\n",
            "4549\n",
            "(3600, 136)\n",
            "136\n",
            "4550\n",
            "(792, 83)\n",
            "83\n",
            "4552\n",
            "(3060, 121)\n",
            "121\n",
            "4553\n",
            "(1548, 79)\n",
            "79\n",
            "4554\n",
            "(2664, 110)\n",
            "110\n",
            "4555\n",
            "(2700, 111)\n",
            "111\n",
            "4556\n",
            "(1440, 76)\n",
            "76\n",
            "4557\n",
            "(3060, 121)\n"
          ],
          "name": "stdout"
        },
        {
          "output_type": "stream",
          "text": [
            "\n",
            "\n",
            " 61%|██████▏   | 2141/3486 [10:10<00:47, 28.15it/s]\u001b[A\u001b[A"
          ],
          "name": "stderr"
        },
        {
          "output_type": "stream",
          "text": [
            "121\n",
            "4558\n",
            "(4392, 158)\n",
            "158\n",
            "4559\n",
            "(2916, 117)\n",
            "117\n",
            "4560\n",
            "(17172, 499)\n"
          ],
          "name": "stdout"
        },
        {
          "output_type": "stream",
          "text": [
            "\n",
            "\n",
            " 62%|██████▏   | 2145/3486 [10:11<01:37, 13.74it/s]\u001b[A\u001b[A"
          ],
          "name": "stderr"
        },
        {
          "output_type": "stream",
          "text": [
            "499\n",
            "4562\n",
            "(3465, 122)\n",
            "122\n",
            "4563\n",
            "(20880, 509)\n"
          ],
          "name": "stdout"
        },
        {
          "output_type": "stream",
          "text": [
            "\n",
            "\n",
            " 62%|██████▏   | 2148/3486 [10:11<02:31,  8.82it/s]\u001b[A\u001b[A"
          ],
          "name": "stderr"
        },
        {
          "output_type": "stream",
          "text": [
            "509\n",
            "4566\n",
            "(900, 61)\n",
            "61\n",
            "4567\n",
            "(396, 47)\n",
            "47\n",
            "4568\n",
            "(1020, 77)\n",
            "77\n",
            "4569\n",
            "(10476, 327)\n"
          ],
          "name": "stdout"
        },
        {
          "output_type": "stream",
          "text": [
            "\n",
            "\n",
            " 62%|██████▏   | 2150/3486 [10:12<02:32,  8.77it/s]\u001b[A\u001b[A\n",
            "\n",
            " 62%|██████▏   | 2153/3486 [10:12<02:03, 10.76it/s]\u001b[A\u001b[A"
          ],
          "name": "stderr"
        },
        {
          "output_type": "stream",
          "text": [
            "327\n",
            "4572\n",
            "(2160, 96)\n",
            "96\n",
            "4573\n",
            "(2340, 97)\n",
            "97\n",
            "4574\n",
            "(8190, 181)\n",
            "181\n",
            "4575\n",
            "(1620, 81)\n",
            "81\n",
            "4576\n",
            "(2808, 114)\n",
            "114\n",
            "4577\n"
          ],
          "name": "stdout"
        },
        {
          "output_type": "stream",
          "text": [
            "\n",
            "\n",
            " 62%|██████▏   | 2157/3486 [10:12<01:37, 13.65it/s]\u001b[A\u001b[A\n",
            "\n",
            " 62%|██████▏   | 2161/3486 [10:12<01:19, 16.60it/s]\u001b[A\u001b[A"
          ],
          "name": "stderr"
        },
        {
          "output_type": "stream",
          "text": [
            "(2340, 99)\n",
            "99\n",
            "4578\n",
            "(2484, 105)\n",
            "105\n",
            "4579\n",
            "(2196, 97)\n",
            "97\n",
            "4580\n",
            "(3780, 123)\n",
            "123\n",
            "4581\n",
            "(612, 53)\n",
            "53\n",
            "4582\n",
            "(4950, 145)\n",
            "145\n",
            "4583\n",
            "(468, 49)\n",
            "49\n",
            "4584\n"
          ],
          "name": "stdout"
        },
        {
          "output_type": "stream",
          "text": [
            "\n",
            "\n",
            " 62%|██████▏   | 2164/3486 [10:12<01:26, 15.36it/s]\u001b[A\u001b[A"
          ],
          "name": "stderr"
        },
        {
          "output_type": "stream",
          "text": [
            "(10620, 281)\n",
            "281\n",
            "4585\n",
            "(5760, 154)\n",
            "154\n",
            "4586\n",
            "(180, 41)\n",
            "41\n",
            "4587\n",
            "(252, 43)\n",
            "43\n",
            "4588\n",
            "(828, 59)\n",
            "59\n",
            "4589\n"
          ],
          "name": "stdout"
        },
        {
          "output_type": "stream",
          "text": [
            "\n",
            "\n",
            " 62%|██████▏   | 2171/3486 [10:12<01:06, 19.84it/s]\u001b[A\u001b[A"
          ],
          "name": "stderr"
        },
        {
          "output_type": "stream",
          "text": [
            "(360, 46)\n",
            "46\n",
            "4590\n",
            "(288, 44)\n",
            "44\n",
            "4591\n",
            "(972, 63)\n",
            "63\n",
            "4592\n",
            "(2880, 242)\n",
            "242\n",
            "4593\n",
            "(3750, 125)\n",
            "125\n",
            "4594\n",
            "(2100, 95)\n",
            "95\n",
            "4595\n",
            "(14625, 414)\n"
          ],
          "name": "stdout"
        },
        {
          "output_type": "stream",
          "text": [
            "\n",
            "\n",
            " 62%|██████▏   | 2175/3486 [10:13<01:35, 13.74it/s]\u001b[A\u001b[A\n",
            "\n",
            " 62%|██████▏   | 2178/3486 [10:13<01:24, 15.50it/s]\u001b[A\u001b[A"
          ],
          "name": "stderr"
        },
        {
          "output_type": "stream",
          "text": [
            "414\n",
            "4596\n",
            "(2016, 90)\n",
            "90\n",
            "4597\n",
            "(3672, 138)\n",
            "138\n",
            "4598\n",
            "(5760, 196)\n",
            "196\n",
            "4599\n",
            "(1305, 74)\n",
            "74\n",
            "4600\n",
            "(540, 51)\n"
          ],
          "name": "stdout"
        },
        {
          "output_type": "stream",
          "text": [
            "\n",
            "\n",
            " 63%|██████▎   | 2183/3486 [10:13<01:08, 18.91it/s]\u001b[A\u001b[A"
          ],
          "name": "stderr"
        },
        {
          "output_type": "stream",
          "text": [
            "51\n",
            "4601\n",
            "(1224, 70)\n",
            "70\n",
            "4602\n",
            "(2700, 111)\n",
            "111\n",
            "4603\n",
            "(3024, 120)\n",
            "120\n",
            "4604\n",
            "(3708, 139)\n",
            "139\n",
            "4605\n",
            "(1260, 71)\n",
            "71\n",
            "4606\n",
            "(1260, 81)\n",
            "81\n",
            "4607\n",
            "(1296, 72)\n",
            "72\n",
            "4608\n",
            "(1500, 85)\n",
            "85\n",
            "4609\n",
            "(5130, 147)\n"
          ],
          "name": "stdout"
        },
        {
          "output_type": "stream",
          "text": [
            "\n",
            "\n",
            " 63%|██████▎   | 2188/3486 [10:13<00:56, 22.83it/s]\u001b[A\u001b[A\n",
            "\n",
            " 63%|██████▎   | 2192/3486 [10:13<00:49, 26.16it/s]\u001b[A\u001b[A"
          ],
          "name": "stderr"
        },
        {
          "output_type": "stream",
          "text": [
            "147\n",
            "4610\n",
            "(3168, 124)\n",
            "124\n",
            "4611\n",
            "(720, 56)\n",
            "56\n",
            "4612\n",
            "(4200, 131)\n",
            "131\n",
            "4613\n",
            "(1080, 78)\n",
            "78\n",
            "4614\n",
            "(54450, 934)\n"
          ],
          "name": "stdout"
        },
        {
          "output_type": "stream",
          "text": [
            "\n",
            "\n",
            " 63%|██████▎   | 2196/3486 [10:16<05:29,  3.91it/s]\u001b[A\u001b[A\n",
            "\n",
            " 63%|██████▎   | 2206/3486 [10:17<03:54,  5.47it/s]"
          ],
          "name": "stderr"
        },
        {
          "output_type": "stream",
          "text": [
            "934\n",
            "4615\n",
            "(420, 44)\n",
            "44\n",
            "4616\n",
            "(810, 57)\n",
            "57\n",
            "4617\n",
            "(840, 58)\n",
            "58\n",
            "4618\n",
            "(420, 44)\n",
            "44\n",
            "4619\n",
            "(810, 57)\n",
            "57\n",
            "4620\n",
            "(840, 58)\n",
            "58\n",
            "4621\n",
            "(420, 44)\n",
            "44\n",
            "4622\n",
            "(810, 57)\n",
            "57\n",
            "4623\n",
            "(840, 58)\n",
            "58\n",
            "4624\n",
            "(420, 44)\n",
            "44\n",
            "4625\n",
            "(810, 57)\n",
            "57\n",
            "4626\n",
            "(840, 58)\n",
            "58\n",
            "4627\n",
            "(4860, 144)\n",
            "144\n"
          ],
          "name": "stdout"
        },
        {
          "output_type": "stream",
          "text": [
            "\u001b[A\u001b[A\n",
            "\n",
            " 63%|██████▎   | 2211/3486 [10:17<02:52,  7.40it/s]\u001b[A\u001b[A"
          ],
          "name": "stderr"
        },
        {
          "output_type": "stream",
          "text": [
            "4629\n",
            "(2340, 99)\n",
            "99\n",
            "4631\n",
            "(1728, 84)\n",
            "84\n",
            "4632\n",
            "(1188, 69)\n",
            "69\n",
            "4633\n",
            "(288, 54)\n",
            "54\n",
            "4635\n",
            "(3816, 142)\n",
            "142\n",
            "4636\n",
            "(780, 73)\n",
            "73\n",
            "4637\n",
            "(1512, 78)\n",
            "78\n",
            "4638\n",
            "(480, 44)\n",
            "44\n",
            "4639\n",
            "(1008, 64)\n",
            "64\n",
            "4640\n",
            "(315, 52)\n",
            "52\n",
            "4641\n",
            "(8280, 189)\n"
          ],
          "name": "stdout"
        },
        {
          "output_type": "stream",
          "text": [
            "\n",
            "\n",
            " 64%|██████▎   | 2217/3486 [10:17<02:10,  9.75it/s]\u001b[A\u001b[A"
          ],
          "name": "stderr"
        },
        {
          "output_type": "stream",
          "text": [
            "189\n",
            "4642\n",
            "(10080, 316)\n",
            "316\n",
            "4643\n",
            "(3600, 136)\n"
          ],
          "name": "stdout"
        },
        {
          "output_type": "stream",
          "text": [
            "\n",
            "\n",
            " 64%|██████▎   | 2222/3486 [10:17<01:50, 11.43it/s]\u001b[A\u001b[A\n",
            "\n",
            " 64%|██████▍   | 2226/3486 [10:17<01:29, 14.05it/s]\u001b[A\u001b[A"
          ],
          "name": "stderr"
        },
        {
          "output_type": "stream",
          "text": [
            "136\n",
            "4644\n",
            "(840, 74)\n",
            "74\n",
            "4645\n",
            "(1260, 71)\n",
            "71\n",
            "4646\n",
            "(180, 41)\n",
            "41\n",
            "4647\n",
            "(7650, 215)\n",
            "215\n",
            "4649\n",
            "(810, 63)\n",
            "63\n",
            "4650\n",
            "(1728, 96)\n",
            "96\n",
            "4651\n",
            "(1404, 75)\n",
            "75\n",
            "4652\n",
            "(612, 53)\n",
            "53\n",
            "4653\n",
            "(684, 55)\n",
            "55\n",
            "4654\n"
          ],
          "name": "stdout"
        },
        {
          "output_type": "stream",
          "text": [
            "\n",
            "\n",
            " 64%|██████▍   | 2232/3486 [10:17<01:09, 18.09it/s]\u001b[A\u001b[A"
          ],
          "name": "stderr"
        },
        {
          "output_type": "stream",
          "text": [
            "(3024, 120)\n",
            "120\n",
            "4655\n",
            "(1440, 154)\n",
            "154\n",
            "4656\n",
            "(576, 52)\n",
            "52\n",
            "4657\n",
            "(1860, 91)\n",
            "91\n",
            "4658\n",
            "(1260, 71)\n",
            "71\n",
            "4659\n",
            "(9324, 295)\n"
          ],
          "name": "stdout"
        },
        {
          "output_type": "stream",
          "text": [
            "\n",
            "\n",
            " 64%|██████▍   | 2236/3486 [10:18<01:13, 16.94it/s]\u001b[A\u001b[A"
          ],
          "name": "stderr"
        },
        {
          "output_type": "stream",
          "text": [
            "295\n",
            "4660\n",
            "(7092, 233)\n",
            "233\n",
            "4661\n",
            "(1248, 74)\n",
            "74\n",
            "4662\n",
            "(324, 45)\n",
            "45\n",
            "4663\n",
            "(8568, 274)\n"
          ],
          "name": "stdout"
        },
        {
          "output_type": "stream",
          "text": [
            "\n",
            "\n",
            " 64%|██████▍   | 2240/3486 [10:18<01:09, 17.84it/s]\u001b[A\u001b[A"
          ],
          "name": "stderr"
        },
        {
          "output_type": "stream",
          "text": [
            "274\n",
            "4664\n",
            "(3528, 134)\n",
            "134\n",
            "4665\n",
            "(1368, 91)\n",
            "91\n",
            "4666\n",
            "(1368, 91)\n",
            "91\n",
            "4667\n",
            "(1152, 68)\n",
            "68\n",
            "4668\n",
            "(3060, 121)\n",
            "121\n",
            "4669\n",
            "(22320, 656)\n"
          ],
          "name": "stdout"
        },
        {
          "output_type": "stream",
          "text": [
            "\n",
            "\n",
            " 64%|██████▍   | 2244/3486 [10:19<02:10,  9.54it/s]\u001b[A\u001b[A\n",
            "\n",
            " 64%|██████▍   | 2247/3486 [10:19<01:49, 11.35it/s]\u001b[A\u001b[A"
          ],
          "name": "stderr"
        },
        {
          "output_type": "stream",
          "text": [
            "656\n",
            "4670\n",
            "(5436, 187)\n",
            "187\n",
            "4671\n",
            "(4824, 170)\n",
            "170\n",
            "4672\n",
            "(432, 78)\n",
            "78\n",
            "4673\n",
            "(6525, 190)\n"
          ],
          "name": "stdout"
        },
        {
          "output_type": "stream",
          "text": [
            "\n",
            "\n",
            " 65%|██████▍   | 2250/3486 [10:19<01:29, 13.77it/s]\u001b[A\u001b[A"
          ],
          "name": "stderr"
        },
        {
          "output_type": "stream",
          "text": [
            "190\n",
            "4674\n",
            "(1224, 70)\n",
            "70\n",
            "4675\n",
            "(828, 59)\n",
            "59\n",
            "4676\n",
            "(765, 62)\n",
            "62\n",
            "4681\n",
            "(29472, 662)\n"
          ],
          "name": "stdout"
        },
        {
          "output_type": "stream",
          "text": [
            "\n",
            "\n",
            " 65%|██████▍   | 2253/3486 [10:20<03:28,  5.91it/s]\u001b[A\u001b[A"
          ],
          "name": "stderr"
        },
        {
          "output_type": "stream",
          "text": [
            "662\n",
            "4682\n",
            "(2700, 120)\n",
            "120\n",
            "4683\n",
            "(1125, 70)\n",
            "70\n",
            "4684\n",
            "(1044, 65)\n",
            "65\n",
            "4685\n",
            "(193860, 1954)\n"
          ],
          "name": "stdout"
        },
        {
          "output_type": "stream",
          "text": [
            "\n",
            "\n",
            " 65%|██████▍   | 2253/3486 [10:32<03:28,  5.91it/s]\u001b[A\u001b[A\n",
            "\n",
            " 65%|██████▍   | 2256/3486 [10:49<1:02:01,  3.03s/it]\u001b[A\u001b[A\n",
            "\n",
            " 65%|██████▍   | 2258/3486 [10:49<43:40,  2.13s/it]  \u001b[A\u001b[A"
          ],
          "name": "stderr"
        },
        {
          "output_type": "stream",
          "text": [
            "1954\n",
            "4687\n",
            "(6516, 217)\n",
            "217\n",
            "4688\n",
            "(936, 62)\n",
            "62\n",
            "4689\n",
            "(1224, 70)\n",
            "70\n",
            "4690\n"
          ],
          "name": "stdout"
        },
        {
          "output_type": "stream",
          "text": [
            "\n",
            "\n",
            " 65%|██████▍   | 2261/3486 [10:49<30:43,  1.51s/it]\u001b[A\u001b[A"
          ],
          "name": "stderr"
        },
        {
          "output_type": "stream",
          "text": [
            "(3276, 127)\n",
            "127\n",
            "4691\n",
            "(5240, 171)\n",
            "171\n",
            "4693\n",
            "(3204, 125)\n",
            "125\n",
            "4694\n",
            "(936, 85)\n",
            "85\n",
            "4695\n",
            "(1296, 72)\n",
            "72\n",
            "4696\n",
            "(8820, 281)\n"
          ],
          "name": "stdout"
        },
        {
          "output_type": "stream",
          "text": [
            "\n",
            "\n",
            " 65%|██████▍   | 2265/3486 [10:50<21:45,  1.07s/it]\u001b[A\u001b[A"
          ],
          "name": "stderr"
        },
        {
          "output_type": "stream",
          "text": [
            "281\n",
            "4700\n",
            "(3132, 123)\n",
            "123\n",
            "4701\n",
            "(1296, 72)\n",
            "72\n",
            "4702\n",
            "(1152, 68)\n",
            "68\n",
            "4703\n",
            "(1080, 66)\n",
            "66\n",
            "4704\n",
            "(468, 49)\n",
            "49\n",
            "4705\n",
            "(19845, 486)\n"
          ],
          "name": "stdout"
        },
        {
          "output_type": "stream",
          "text": [
            "\n",
            "\n",
            " 65%|██████▌   | 2271/3486 [10:50<15:52,  1.28it/s]\u001b[A\u001b[A\n",
            "\n",
            " 65%|██████▌   | 2274/3486 [10:50<11:18,  1.79it/s]\u001b[A\u001b[A"
          ],
          "name": "stderr"
        },
        {
          "output_type": "stream",
          "text": [
            "486\n",
            "4706\n",
            "(3240, 117)\n",
            "117\n",
            "4707\n",
            "(2520, 166)\n",
            "166\n",
            "4708\n",
            "(1258, 138)\n",
            "138\n",
            "4709\n",
            "(1872, 88)\n",
            "88\n",
            "4710\n",
            "(1116, 67)\n",
            "67\n",
            "4711\n",
            "(2124, 192)\n",
            "192\n",
            "4712\n"
          ],
          "name": "stdout"
        },
        {
          "output_type": "stream",
          "text": [
            "\n",
            "\n",
            " 65%|██████▌   | 2278/3486 [10:51<08:05,  2.49it/s]\u001b[A\u001b[A"
          ],
          "name": "stderr"
        },
        {
          "output_type": "stream",
          "text": [
            "(6390, 161)\n",
            "161\n",
            "4713\n",
            "(14094, 515)\n"
          ],
          "name": "stdout"
        },
        {
          "output_type": "stream",
          "text": [
            "\n",
            "\n",
            " 65%|██████▌   | 2281/3486 [10:51<06:49,  2.95it/s]\u001b[A\u001b[A"
          ],
          "name": "stderr"
        },
        {
          "output_type": "stream",
          "text": [
            "515\n",
            "4714\n",
            "(9963, 284)\n",
            "284\n",
            "4715\n",
            "(1056, 70)\n",
            "70\n",
            "4716\n"
          ],
          "name": "stdout"
        },
        {
          "output_type": "stream",
          "text": [
            "\n",
            "\n",
            " 66%|██████▌   | 2284/3486 [10:51<05:00,  4.00it/s]\u001b[A\u001b[A"
          ],
          "name": "stderr"
        },
        {
          "output_type": "stream",
          "text": [
            "(1500, 85)\n",
            "85\n",
            "4717\n",
            "(4320, 156)\n",
            "156\n",
            "4718\n",
            "(4590, 141)\n",
            "141\n",
            "4719\n",
            "(6255, 184)\n",
            "184\n",
            "4720\n"
          ],
          "name": "stdout"
        },
        {
          "output_type": "stream",
          "text": [
            "\n",
            "\n",
            " 66%|██████▌   | 2286/3486 [10:51<03:55,  5.10it/s]\u001b[A\u001b[A\n",
            "\n",
            " 66%|██████▌   | 2290/3486 [10:51<02:55,  6.80it/s]\u001b[A\u001b[A"
          ],
          "name": "stderr"
        },
        {
          "output_type": "stream",
          "text": [
            "(5220, 161)\n",
            "161\n",
            "4721\n",
            "(2736, 105)\n",
            "105\n",
            "4722\n",
            "(2052, 93)\n",
            "93\n",
            "4723\n",
            "(756, 57)\n",
            "57\n",
            "4724\n",
            "(5445, 166)\n",
            "166\n",
            "4725\n",
            "(1350, 75)\n",
            "75\n",
            "4726\n"
          ],
          "name": "stdout"
        },
        {
          "output_type": "stream",
          "text": [
            "\n",
            "\n",
            " 66%|██████▌   | 2293/3486 [10:52<02:19,  8.54it/s]\u001b[A\u001b[A"
          ],
          "name": "stderr"
        },
        {
          "output_type": "stream",
          "text": [
            "(7344, 240)\n",
            "240\n",
            "4727\n",
            "(450, 55)\n",
            "55\n",
            "4728\n",
            "(540, 57)\n",
            "57\n",
            "4729\n",
            "(5256, 182)\n",
            "182\n",
            "4730\n",
            "(6975, 200)\n"
          ],
          "name": "stdout"
        },
        {
          "output_type": "stream",
          "text": [
            "\n",
            "\n",
            " 66%|██████▌   | 2296/3486 [10:52<01:58, 10.03it/s]\u001b[A\u001b[A\n",
            "\n",
            " 66%|██████▌   | 2300/3486 [10:52<01:31, 12.90it/s]\u001b[A\u001b[A"
          ],
          "name": "stderr"
        },
        {
          "output_type": "stream",
          "text": [
            "200\n",
            "4731\n",
            "(612, 53)\n",
            "53\n",
            "4732\n",
            "(975, 64)\n",
            "64\n",
            "4733\n",
            "(3300, 340)\n",
            "340\n",
            "4734\n",
            "(156, 32)\n",
            "32\n",
            "4735\n",
            "(26496, 464)\n"
          ],
          "name": "stdout"
        },
        {
          "output_type": "stream",
          "text": [
            "\n",
            "\n",
            " 66%|██████▌   | 2303/3486 [10:53<02:28,  7.96it/s]\u001b[A\u001b[A\n",
            "\n",
            " 66%|██████▌   | 2306/3486 [10:53<01:56, 10.14it/s]\u001b[A\u001b[A"
          ],
          "name": "stderr"
        },
        {
          "output_type": "stream",
          "text": [
            "464\n",
            "4736\n",
            "(2016, 90)\n",
            "90\n",
            "4737\n",
            "(4320, 138)\n",
            "138\n",
            "4738\n",
            "(3900, 125)\n",
            "125\n",
            "4739\n",
            "(5130, 147)\n",
            "147\n",
            "4740\n",
            "(432, 48)\n",
            "48\n",
            "4741\n",
            "(324, 45)\n",
            "45\n",
            "4743\n"
          ],
          "name": "stdout"
        },
        {
          "output_type": "stream",
          "text": [
            "\n",
            "\n",
            " 66%|██████▌   | 2309/3486 [10:53<01:36, 12.25it/s]\u001b[A\u001b[A"
          ],
          "name": "stderr"
        },
        {
          "output_type": "stream",
          "text": [
            "(2880, 108)\n",
            "108\n",
            "4744\n",
            "(6795, 196)\n",
            "196\n",
            "4745\n",
            "(1350, 105)\n",
            "105\n",
            "4746\n",
            "(3816, 125)\n",
            "125\n",
            "4747\n",
            "(3168, 124)\n",
            "124\n",
            "4748\n",
            "(1860, 91)\n"
          ],
          "name": "stdout"
        },
        {
          "output_type": "stream",
          "text": [
            "\n",
            "\n",
            " 66%|██████▋   | 2313/3486 [10:53<01:17, 15.17it/s]\u001b[A\u001b[A\n",
            "\n",
            " 66%|██████▋   | 2316/3486 [10:53<01:06, 17.55it/s]\u001b[A\u001b[A"
          ],
          "name": "stderr"
        },
        {
          "output_type": "stream",
          "text": [
            "91\n",
            "4749\n",
            "(2592, 102)\n",
            "102\n",
            "4750\n",
            "(2916, 117)\n",
            "117\n",
            "4751\n",
            "(3924, 145)\n",
            "145\n",
            "4752\n",
            "(840, 74)\n",
            "74\n",
            "4753\n",
            "(630, 59)\n",
            "59\n",
            "4759\n",
            "(3528, 158)\n",
            "158\n",
            "4760\n",
            "(3900, 127)\n"
          ],
          "name": "stdout"
        },
        {
          "output_type": "stream",
          "text": [
            "\n",
            "\n",
            " 67%|██████▋   | 2320/3486 [10:53<00:56, 20.77it/s]\u001b[A\u001b[A"
          ],
          "name": "stderr"
        },
        {
          "output_type": "stream",
          "text": [
            "127\n",
            "4761\n",
            "(4200, 142)\n",
            "142\n",
            "4762\n",
            "(2304, 100)\n",
            "100\n",
            "4763\n",
            "(10152, 318)\n"
          ],
          "name": "stdout"
        },
        {
          "output_type": "stream",
          "text": [
            "\n",
            "\n",
            " 67%|██████▋   | 2323/3486 [10:53<01:09, 16.83it/s]\u001b[A\u001b[A\n",
            "\n",
            " 67%|██████▋   | 2326/3486 [10:54<01:07, 17.11it/s]\u001b[A\u001b[A"
          ],
          "name": "stderr"
        },
        {
          "output_type": "stream",
          "text": [
            "318\n",
            "4764\n",
            "(2484, 105)\n",
            "105\n",
            "4765\n",
            "(8388, 269)\n",
            "269\n",
            "4766\n",
            "(1152, 68)\n",
            "68\n",
            "4767\n"
          ],
          "name": "stdout"
        },
        {
          "output_type": "stream",
          "text": [
            "\n",
            "\n",
            " 67%|██████▋   | 2329/3486 [10:54<01:00, 19.15it/s]\u001b[A\u001b[A"
          ],
          "name": "stderr"
        },
        {
          "output_type": "stream",
          "text": [
            "(6240, 164)\n",
            "164\n",
            "4768\n",
            "(840, 74)\n",
            "74\n",
            "4769\n",
            "(3330, 119)\n",
            "119\n",
            "4770\n",
            "(528, 56)\n",
            "56\n",
            "4771\n",
            "(1210, 77)\n",
            "77\n",
            "4772\n",
            "(8316, 267)\n"
          ],
          "name": "stdout"
        },
        {
          "output_type": "stream",
          "text": [
            "\n",
            "\n",
            " 67%|██████▋   | 2332/3486 [10:54<01:00, 19.22it/s]\u001b[A\u001b[A\n",
            "\n",
            " 67%|██████▋   | 2336/3486 [10:54<00:51, 22.46it/s]\u001b[A\u001b[A"
          ],
          "name": "stderr"
        },
        {
          "output_type": "stream",
          "text": [
            "267\n",
            "4773\n",
            "(2484, 105)\n",
            "105\n",
            "4774\n",
            "(3240, 126)\n",
            "126\n",
            "4775\n",
            "(2268, 99)\n",
            "99\n",
            "4776\n",
            "(2832, 107)\n",
            "107\n",
            "4777\n",
            "(1920, 92)\n",
            "92\n",
            "4778\n",
            "(504, 50)\n",
            "50\n",
            "4779\n",
            "(1035, 68)\n",
            "68\n",
            "4780\n",
            "(3600, 122)\n",
            "122\n",
            "4781\n"
          ],
          "name": "stdout"
        },
        {
          "output_type": "stream",
          "text": [
            "\n",
            "\n",
            " 67%|██████▋   | 2341/3486 [10:54<00:43, 26.11it/s]\u001b[A\u001b[A"
          ],
          "name": "stderr"
        },
        {
          "output_type": "stream",
          "text": [
            "(2952, 118)\n",
            "118\n",
            "4782\n",
            "(5724, 195)\n",
            "195\n",
            "4783\n",
            "(2040, 94)\n",
            "94\n",
            "4784\n",
            "(5076, 177)\n",
            "177\n",
            "4785\n",
            "(3384, 130)\n",
            "130\n"
          ],
          "name": "stdout"
        },
        {
          "output_type": "stream",
          "text": [
            "\n",
            "\n",
            " 67%|██████▋   | 2345/3486 [10:54<00:45, 24.96it/s]\u001b[A\u001b[A"
          ],
          "name": "stderr"
        },
        {
          "output_type": "stream",
          "text": [
            "4786\n",
            "(15228, 459)\n"
          ],
          "name": "stdout"
        },
        {
          "output_type": "stream",
          "text": [
            "\n",
            "\n",
            " 67%|██████▋   | 2348/3486 [10:55<01:38, 11.52it/s]\u001b[A\u001b[A"
          ],
          "name": "stderr"
        },
        {
          "output_type": "stream",
          "text": [
            "459\n",
            "4787\n",
            "(4329, 150)\n",
            "150\n",
            "4788\n",
            "(672, 62)\n",
            "62\n",
            "4789\n",
            "(2700, 120)\n",
            "120\n",
            "4790\n",
            "(20592, 608)\n",
            "608\n",
            "4791\n",
            "(19548, 579)\n"
          ],
          "name": "stdout"
        },
        {
          "output_type": "stream",
          "text": [
            "\n",
            "\n",
            " 67%|██████▋   | 2351/3486 [10:56<04:12,  4.49it/s]\u001b[A\u001b[A\n",
            "\n",
            " 68%|██████▊   | 2354/3486 [10:57<03:07,  6.02it/s]\u001b[A\u001b[A"
          ],
          "name": "stderr"
        },
        {
          "output_type": "stream",
          "text": [
            "579\n",
            "4792\n",
            "(4392, 133)\n",
            "133\n",
            "4794\n",
            "(1656, 82)\n",
            "82\n",
            "4795\n",
            "(3456, 132)\n",
            "132\n",
            "4796\n",
            "(1296, 90)\n",
            "90\n",
            "4797\n",
            "(1440, 76)\n",
            "76\n",
            "4798\n",
            "(360, 54)\n",
            "54\n",
            "4799\n",
            "(360, 54)\n",
            "54\n",
            "4800\n",
            "(360, 54)\n",
            "54\n",
            "4801\n",
            "(675, 60)\n",
            "60\n",
            "4802\n",
            "(585, 58)\n",
            "58\n",
            "4803\n",
            "(585, 58)\n",
            "58\n",
            "4806"
          ],
          "name": "stdout"
        },
        {
          "output_type": "stream",
          "text": [
            "\n",
            "\n",
            " 68%|██████▊   | 2364/3486 [10:57<02:15,  8.30it/s]\u001b[A\u001b[A"
          ],
          "name": "stderr"
        },
        {
          "output_type": "stream",
          "text": [
            "\n",
            "(504, 50)\n",
            "50\n",
            "4807\n",
            "(4392, 158)\n",
            "158\n",
            "4808\n",
            "(7236, 237)\n",
            "237\n",
            "4809\n",
            "(4032, 148)\n"
          ],
          "name": "stdout"
        },
        {
          "output_type": "stream",
          "text": [
            "\n",
            "\n",
            " 68%|██████▊   | 2368/3486 [10:57<01:50, 10.09it/s]\u001b[A\u001b[A"
          ],
          "name": "stderr"
        },
        {
          "output_type": "stream",
          "text": [
            "148\n",
            "4810\n",
            "(1044, 65)\n",
            "65\n",
            "4811\n",
            "(3240, 117)\n",
            "117\n",
            "4812\n",
            "(11736, 362)\n",
            "362\n",
            "4813\n",
            "(1296, 72)\n",
            "72\n",
            "4815\n",
            "(2232, 103)\n",
            "103\n",
            "4816\n",
            "(12672, 388)\n"
          ],
          "name": "stdout"
        },
        {
          "output_type": "stream",
          "text": [
            "\n",
            "\n",
            " 68%|██████▊   | 2372/3486 [10:58<02:07,  8.72it/s]\u001b[A\u001b[A\n",
            "\n",
            " 68%|██████▊   | 2378/3486 [10:58<01:34, 11.70it/s]\u001b[A\u001b[A"
          ],
          "name": "stderr"
        },
        {
          "output_type": "stream",
          "text": [
            "388\n",
            "4817\n",
            "(2988, 119)\n",
            "119\n",
            "4818\n",
            "(396, 47)\n",
            "47\n",
            "4819\n",
            "(1200, 80)\n",
            "80\n",
            "4820\n",
            "(2196, 97)\n",
            "97\n",
            "4822\n",
            "(180, 41)\n",
            "41\n",
            "4823\n",
            "(1980, 91)\n",
            "91\n",
            "4824\n",
            "(11304, 350)\n"
          ],
          "name": "stdout"
        },
        {
          "output_type": "stream",
          "text": [
            "\n",
            "\n",
            " 68%|██████▊   | 2382/3486 [10:58<01:35, 11.53it/s]\u001b[A\u001b[A"
          ],
          "name": "stderr"
        },
        {
          "output_type": "stream",
          "text": [
            "350\n",
            "4825\n",
            "(1320, 82)\n",
            "82\n",
            "4826\n",
            "(3852, 143)\n",
            "143\n",
            "4827\n",
            "(6390, 187)\n",
            "187\n",
            "4828\n",
            "(3375, 120)\n",
            "120\n",
            "4829\n",
            "(20835, 344)\n"
          ],
          "name": "stdout"
        },
        {
          "output_type": "stream",
          "text": [
            "\n",
            "\n",
            " 68%|██████▊   | 2385/3486 [10:58<01:53,  9.67it/s]\u001b[A\u001b[A\n",
            "\n"
          ],
          "name": "stderr"
        },
        {
          "output_type": "stream",
          "text": [
            "344\n",
            "4830\n",
            "(2220, 97)\n",
            "97\n",
            "4831\n",
            "(6660, 164)\n",
            "164\n",
            "4832\n",
            "(5076, 177)\n",
            "177\n",
            "4833\n",
            "(3996, 147)\n",
            "147\n"
          ],
          "name": "stdout"
        },
        {
          "output_type": "stream",
          "text": [
            "\r 69%|██████▊   | 2388/3486 [10:59<01:37, 11.22it/s]\u001b[A\u001b[A"
          ],
          "name": "stderr"
        },
        {
          "output_type": "stream",
          "text": [
            "4834\n",
            "(720, 61)\n",
            "61\n",
            "4835\n",
            "(2124, 95)\n",
            "95\n",
            "4836\n",
            "(10944, 340)\n"
          ],
          "name": "stdout"
        },
        {
          "output_type": "stream",
          "text": [
            "\n",
            "\n",
            " 69%|██████▊   | 2391/3486 [10:59<01:38, 11.14it/s]\u001b[A\u001b[A\n",
            "\n",
            " 69%|██████▊   | 2395/3486 [10:59<01:19, 13.70it/s]\u001b[A\u001b[A"
          ],
          "name": "stderr"
        },
        {
          "output_type": "stream",
          "text": [
            "340\n",
            "4837\n",
            "(630, 59)\n",
            "59\n",
            "4838\n",
            "(4185, 138)\n",
            "138\n",
            "4839\n",
            "(900, 61)\n",
            "61\n",
            "4840\n",
            "(3348, 337)\n",
            "337\n",
            "4841\n",
            "(40, 41)\n",
            "41\n",
            "4842\n",
            "(1240, 71)\n",
            "71\n",
            "4843\n",
            "(4644, 196)\n"
          ],
          "name": "stdout"
        },
        {
          "output_type": "stream",
          "text": [
            "\n",
            "\n",
            " 69%|██████▉   | 2399/3486 [10:59<01:05, 16.61it/s]\u001b[A\u001b[A\n",
            "\n",
            " 69%|██████▉   | 2403/3486 [10:59<00:55, 19.66it/s]\u001b[A\u001b[A"
          ],
          "name": "stderr"
        },
        {
          "output_type": "stream",
          "text": [
            "196\n",
            "4844\n",
            "(3528, 134)\n",
            "134\n",
            "4845\n",
            "(3240, 126)\n",
            "126\n",
            "4846\n",
            "(1944, 99)\n",
            "99\n",
            "4847\n",
            "(1872, 88)\n",
            "88\n",
            "4848\n",
            "(3384, 130)\n",
            "130\n",
            "4849\n",
            "(1200, 80)\n",
            "80\n",
            "4850\n",
            "(1350, 93)\n",
            "93\n",
            "4851\n",
            "(612, 53)\n",
            "53\n",
            "4852"
          ],
          "name": "stdout"
        },
        {
          "output_type": "stream",
          "text": [
            "\n",
            "\n",
            " 69%|██████▉   | 2409/3486 [10:59<00:43, 24.61it/s]\u001b[A\u001b[A\n",
            "\n",
            " 69%|██████▉   | 2415/3486 [10:59<00:36, 29.59it/s]\u001b[A\u001b[A"
          ],
          "name": "stderr"
        },
        {
          "output_type": "stream",
          "text": [
            "\n",
            "(2840, 111)\n",
            "111\n",
            "4853\n",
            "(1200, 80)\n",
            "80\n",
            "4854\n",
            "(1152, 68)\n",
            "68\n",
            "4855\n",
            "(1680, 82)\n",
            "82\n",
            "4856\n",
            "(768, 64)\n",
            "64\n",
            "4857\n",
            "(2664, 110)\n",
            "110\n",
            "4858\n",
            "(1764, 85)\n",
            "85\n",
            "4859\n",
            "(1200, 80)\n",
            "80\n",
            "4860\n",
            "(2160, 96)\n",
            "96\n",
            "4861\n",
            "(324, 45)\n",
            "45\n",
            "4862\n"
          ],
          "name": "stdout"
        },
        {
          "output_type": "stream",
          "text": [
            "\n",
            "\n",
            " 69%|██████▉   | 2420/3486 [11:00<00:38, 27.50it/s]\u001b[A\u001b[A"
          ],
          "name": "stderr"
        },
        {
          "output_type": "stream",
          "text": [
            "(9216, 292)\n",
            "292\n",
            "4863\n",
            "(1332, 73)\n",
            "73\n",
            "4864\n",
            "(432, 48)\n",
            "48\n",
            "4865\n",
            "(1575, 96)\n",
            "96\n",
            "4866\n",
            "(3510, 129)\n",
            "129\n",
            "4867\n",
            "(288, 44)\n"
          ],
          "name": "stdout"
        },
        {
          "output_type": "stream",
          "text": [
            "\n",
            "\n",
            " 70%|██████▉   | 2426/3486 [11:00<00:32, 32.18it/s]\u001b[A\u001b[A\n",
            "\n",
            " 70%|██████▉   | 2431/3486 [11:00<00:30, 34.05it/s]\u001b[A\u001b[A"
          ],
          "name": "stderr"
        },
        {
          "output_type": "stream",
          "text": [
            "44\n",
            "4868\n",
            "(324, 45)\n",
            "45\n",
            "4870\n",
            "(2250, 105)\n",
            "105\n",
            "4871\n",
            "(900, 61)\n",
            "61\n",
            "4872\n",
            "(2088, 94)\n",
            "94\n",
            "4873\n",
            "(1677, 82)\n",
            "82\n",
            "4874\n",
            "(1425, 94)\n",
            "94\n",
            "4875\n",
            "(576, 60)\n",
            "60\n",
            "4876\n",
            "(1425, 94)\n",
            "94\n",
            "4877\n",
            "(5148, 179)\n",
            "179\n",
            "4878\n",
            "(1122, 83)\n"
          ],
          "name": "stdout"
        },
        {
          "output_type": "stream",
          "text": [
            "\n",
            "\n",
            " 70%|██████▉   | 2436/3486 [11:00<00:29, 35.12it/s]\u001b[A\u001b[A"
          ],
          "name": "stderr"
        },
        {
          "output_type": "stream",
          "text": [
            "83\n",
            "4879\n",
            "(3096, 122)\n",
            "122\n",
            "4880\n",
            "(1800, 90)\n",
            "90\n",
            "4881\n",
            "(2520, 106)\n",
            "106\n",
            "4882\n",
            "(2880, 112)\n",
            "112\n",
            "4883\n",
            "(11628, 359)\n",
            "359\n",
            "4884\n",
            "(1560, 86)\n",
            "86\n",
            "4885\n",
            "(13968, 424)\n"
          ],
          "name": "stdout"
        },
        {
          "output_type": "stream",
          "text": [
            "\n",
            "\n",
            " 70%|███████   | 2441/3486 [11:01<00:55, 18.69it/s]\u001b[A\u001b[A\n",
            "\n",
            " 70%|███████   | 2445/3486 [11:01<00:46, 22.15it/s]\u001b[A\u001b[A"
          ],
          "name": "stderr"
        },
        {
          "output_type": "stream",
          "text": [
            "424\n",
            "4886\n",
            "(600, 70)\n",
            "70\n",
            "4887\n",
            "(495, 56)\n",
            "56\n",
            "4888\n",
            "(2196, 97)\n",
            "97\n",
            "4889\n",
            "(1056, 88)\n",
            "88\n",
            "4890\n",
            "(1152, 68)\n",
            "68\n",
            "4891\n",
            "(4176, 152)\n",
            "152\n",
            "4892\n",
            "(1440, 76)\n",
            "76\n",
            "4893\n",
            "(2850, 113)\n",
            "113\n",
            "4894\n",
            "(492, 53)\n",
            "53\n",
            "4895\n",
            "(1944, 90)\n"
          ],
          "name": "stdout"
        },
        {
          "output_type": "stream",
          "text": [
            "\n",
            "\n",
            " 70%|███████   | 2451/3486 [11:01<00:38, 27.00it/s]\u001b[A\u001b[A\n",
            "\n",
            " 70%|███████   | 2455/3486 [11:01<00:38, 26.47it/s]\u001b[A\u001b[A"
          ],
          "name": "stderr"
        },
        {
          "output_type": "stream",
          "text": [
            "90\n",
            "4896\n",
            "(2100, 95)\n",
            "95\n",
            "4897\n",
            "(828, 59)\n",
            "59\n",
            "4898\n",
            "(1440, 77)\n",
            "77\n",
            "4899\n",
            "(1152, 88)\n",
            "88\n",
            "4900\n",
            "(5076, 177)\n",
            "177\n",
            "4901\n",
            "(4968, 174)\n",
            "174\n",
            "4902\n",
            "(672, 92)\n",
            "92\n",
            "4903\n",
            "(3960, 139)\n",
            "139\n",
            "4904\n",
            "(432, 48)\n",
            "48\n",
            "4905\n",
            "(2655, 104)\n",
            "104\n",
            "4906\n",
            "(11520, 301)\n"
          ],
          "name": "stdout"
        },
        {
          "output_type": "stream",
          "text": [
            "\n",
            "\n",
            " 71%|███████   | 2460/3486 [11:01<00:45, 22.68it/s]\u001b[A\u001b[A\n",
            "\n",
            " 71%|███████   | 2465/3486 [11:01<00:39, 26.07it/s]\u001b[A\u001b[A"
          ],
          "name": "stderr"
        },
        {
          "output_type": "stream",
          "text": [
            "301\n",
            "4907\n",
            "(1404, 75)\n",
            "75\n",
            "4908\n",
            "(792, 58)\n",
            "58\n",
            "4909\n",
            "(2952, 118)\n",
            "118\n",
            "4910\n",
            "(3024, 120)\n",
            "120\n",
            "4911\n",
            "(3312, 128)\n",
            "128\n",
            "4912\n",
            "(720, 56)\n",
            "56\n",
            "4913\n",
            "(1512, 78)\n",
            "78\n",
            "4914\n",
            "(6240, 196)\n"
          ],
          "name": "stdout"
        },
        {
          "output_type": "stream",
          "text": [
            "\n",
            "\n",
            " 71%|███████   | 2469/3486 [11:02<00:38, 26.10it/s]\u001b[A\u001b[A"
          ],
          "name": "stderr"
        },
        {
          "output_type": "stream",
          "text": [
            "196\n",
            "4915\n",
            "(4428, 159)\n",
            "159\n",
            "4916\n",
            "(3132, 123)\n",
            "123\n",
            "4918\n",
            "(2100, 95)\n",
            "95\n",
            "4920\n",
            "(6846, 205)\n",
            "205\n",
            "4921\n"
          ],
          "name": "stdout"
        },
        {
          "output_type": "stream",
          "text": [
            "\n",
            "\n",
            " 71%|███████   | 2473/3486 [11:02<00:41, 24.32it/s]\u001b[A\u001b[A"
          ],
          "name": "stderr"
        },
        {
          "output_type": "stream",
          "text": [
            "(5880, 154)\n",
            "154\n",
            "4922\n",
            "(13716, 417)\n",
            "417\n",
            "4923\n",
            "(12492, 383)\n"
          ],
          "name": "stdout"
        },
        {
          "output_type": "stream",
          "text": [
            "\n",
            "\n",
            " 71%|███████   | 2476/3486 [11:02<01:31, 11.07it/s]\u001b[A\u001b[A\n",
            "\n",
            " 71%|███████   | 2480/3486 [11:02<01:11, 14.10it/s]\u001b[A\u001b[A"
          ],
          "name": "stderr"
        },
        {
          "output_type": "stream",
          "text": [
            "383\n",
            "4924\n",
            "(480, 68)\n",
            "68\n",
            "4925\n",
            "(1872, 98)\n",
            "98\n",
            "4926\n",
            "(468, 49)\n",
            "49\n",
            "4928\n",
            "(2412, 103)\n",
            "103\n",
            "4930\n",
            "(4140, 151)\n",
            "151\n",
            "4931\n",
            "(3240, 126)\n",
            "126\n",
            "4932\n",
            "(1224, 70)\n",
            "70\n",
            "4933\n",
            "(6520, 203)\n"
          ],
          "name": "stdout"
        },
        {
          "output_type": "stream",
          "text": [
            "\n",
            "\n",
            " 71%|███████   | 2483/3486 [11:03<01:02, 16.07it/s]\u001b[A\u001b[A\n",
            "\n",
            " 71%|███████▏  | 2486/3486 [11:03<00:55, 17.91it/s]\u001b[A\u001b[A"
          ],
          "name": "stderr"
        },
        {
          "output_type": "stream",
          "text": [
            "203\n",
            "4934\n",
            "(540, 51)\n",
            "51\n",
            "4936\n",
            "(8370, 183)\n",
            "183\n",
            "4937\n",
            "(2988, 119)\n",
            "119\n",
            "4938\n",
            "(2880, 109)\n",
            "109\n",
            "4939\n",
            "(8712, 278)\n"
          ],
          "name": "stdout"
        },
        {
          "output_type": "stream",
          "text": [
            "\n",
            "\n",
            " 71%|███████▏  | 2489/3486 [11:03<00:56, 17.54it/s]\u001b[A\u001b[A"
          ],
          "name": "stderr"
        },
        {
          "output_type": "stream",
          "text": [
            "278\n",
            "4940\n",
            "(1530, 79)\n",
            "79\n",
            "4941\n",
            "(1140, 79)\n",
            "79\n",
            "4942\n",
            "(2880, 252)\n",
            "252\n",
            "4943\n",
            "<=2 categories\n",
            "4945\n",
            "(2160, 96)\n",
            "96\n",
            "4946\n",
            "(15015, 424)\n"
          ],
          "name": "stdout"
        },
        {
          "output_type": "stream",
          "text": [
            "\n",
            "\n",
            " 72%|███████▏  | 2494/3486 [11:03<01:05, 15.21it/s]\u001b[A\u001b[A"
          ],
          "name": "stderr"
        },
        {
          "output_type": "stream",
          "text": [
            "424\n",
            "4947\n",
            "(2340, 99)\n",
            "99\n",
            "4948\n",
            "(3564, 135)\n",
            "135\n",
            "4949\n",
            "(576, 52)\n",
            "52\n",
            "4951\n",
            "(612, 53)\n",
            "53\n",
            "4952\n",
            "(576, 52)\n",
            "52\n",
            "4953\n",
            "(5832, 292)\n",
            "292\n"
          ],
          "name": "stdout"
        },
        {
          "output_type": "stream",
          "text": [
            "\n",
            "\n",
            " 72%|███████▏  | 2500/3486 [11:03<00:54, 17.96it/s]\u001b[A\u001b[A"
          ],
          "name": "stderr"
        },
        {
          "output_type": "stream",
          "text": [
            "4954\n",
            "(5475, 148)\n",
            "148\n",
            "4955\n",
            "(10736, 288)\n",
            "288\n",
            "4956\n"
          ],
          "name": "stdout"
        },
        {
          "output_type": "stream",
          "text": [
            "\n",
            "\n",
            " 72%|███████▏  | 2503/3486 [11:04<01:01, 16.07it/s]\u001b[A\u001b[A\n",
            "\n"
          ],
          "name": "stderr"
        },
        {
          "output_type": "stream",
          "text": [
            "(1800, 97)\n",
            "97\n",
            "4958\n",
            "(1872, 98)\n",
            "98\n",
            "4960\n",
            "(5688, 194)\n",
            "194\n",
            "4961\n",
            "(7668, 249)\n",
            "249\n"
          ],
          "name": "stdout"
        },
        {
          "output_type": "stream",
          "text": [
            "\r 72%|███████▏  | 2506/3486 [11:04<01:00, 16.11it/s]\u001b[A\u001b[A\n",
            "\n",
            " 72%|███████▏  | 2509/3486 [11:04<00:52, 18.50it/s]\u001b[A\u001b[A"
          ],
          "name": "stderr"
        },
        {
          "output_type": "stream",
          "text": [
            "4962\n",
            "(1875, 100)\n",
            "100\n",
            "4963\n",
            "(3960, 134)\n",
            "134\n",
            "4964\n",
            "(3168, 124)\n",
            "124\n",
            "4965\n",
            "(4400, 150)\n",
            "150\n",
            "4966\n",
            "(5076, 177)\n"
          ],
          "name": "stdout"
        },
        {
          "output_type": "stream",
          "text": [
            "\n",
            "\n",
            " 72%|███████▏  | 2512/3486 [11:04<00:50, 19.14it/s]\u001b[A\u001b[A"
          ],
          "name": "stderr"
        },
        {
          "output_type": "stream",
          "text": [
            "177\n",
            "4967\n",
            "(2160, 96)\n",
            "96\n",
            "4968\n",
            "(3672, 138)\n",
            "138\n",
            "4969\n",
            "(39936, 880)\n",
            "880\n",
            "4970\n",
            "(185040, 2182)\n"
          ],
          "name": "stdout"
        },
        {
          "output_type": "stream",
          "text": [
            "\n",
            "\n",
            " 72%|███████▏  | 2512/3486 [11:22<00:50, 19.14it/s]\u001b[A\u001b[A\n",
            "\n",
            " 72%|███████▏  | 2515/3486 [11:39<56:10,  3.47s/it]\u001b[A\u001b[A"
          ],
          "name": "stderr"
        },
        {
          "output_type": "stream",
          "text": [
            "2182\n",
            "4971\n",
            "(39960, 1146)\n"
          ],
          "name": "stdout"
        },
        {
          "output_type": "stream",
          "text": [
            "\n",
            "\n",
            " 72%|███████▏  | 2516/3486 [11:42<54:41,  3.38s/it]\u001b[A\u001b[A"
          ],
          "name": "stderr"
        },
        {
          "output_type": "stream",
          "text": [
            "1146\n",
            "4972\n",
            "(36288, 1044)\n"
          ],
          "name": "stdout"
        },
        {
          "output_type": "stream",
          "text": [
            "\n",
            "\n",
            " 72%|███████▏  | 2517/3486 [11:44<50:33,  3.13s/it]\u001b[A\u001b[A"
          ],
          "name": "stderr"
        },
        {
          "output_type": "stream",
          "text": [
            "1044\n",
            "4973\n",
            "(36972, 1063)\n"
          ],
          "name": "stdout"
        },
        {
          "output_type": "stream",
          "text": [
            "\n",
            "\n",
            " 72%|███████▏  | 2518/3486 [11:47<47:08,  2.92s/it]\u001b[A\u001b[A"
          ],
          "name": "stderr"
        },
        {
          "output_type": "stream",
          "text": [
            "1063\n",
            "4974\n",
            "(36972, 1063)\n"
          ],
          "name": "stdout"
        },
        {
          "output_type": "stream",
          "text": [
            "\n",
            "\n",
            " 72%|███████▏  | 2519/3486 [11:49<43:27,  2.70s/it]\u001b[A\u001b[A"
          ],
          "name": "stderr"
        },
        {
          "output_type": "stream",
          "text": [
            "1063\n",
            "4975\n",
            "(34884, 1005)\n"
          ],
          "name": "stdout"
        },
        {
          "output_type": "stream",
          "text": [
            "\n",
            "\n",
            " 72%|███████▏  | 2520/3486 [11:51<41:10,  2.56s/it]\u001b[A\u001b[A"
          ],
          "name": "stderr"
        },
        {
          "output_type": "stream",
          "text": [
            "1005\n",
            "4976\n",
            "(51444, 1059)\n"
          ],
          "name": "stdout"
        },
        {
          "output_type": "stream",
          "text": [
            "\n",
            "\n",
            " 72%|███████▏  | 2521/3486 [11:55<46:58,  2.92s/it]\u001b[A\u001b[A"
          ],
          "name": "stderr"
        },
        {
          "output_type": "stream",
          "text": [
            "1059\n",
            "4977\n",
            "(3276, 127)\n",
            "127\n",
            "4978\n",
            "(828, 59)\n",
            "59\n",
            "4980\n",
            "(648, 81)\n",
            "81\n",
            "4981\n",
            "(38268, 1099)\n"
          ],
          "name": "stdout"
        },
        {
          "output_type": "stream",
          "text": [
            "\n",
            "\n",
            " 72%|███████▏  | 2525/3486 [11:58<36:09,  2.26s/it]\u001b[A\u001b[A"
          ],
          "name": "stderr"
        },
        {
          "output_type": "stream",
          "text": [
            "1099\n",
            "4982\n",
            "(34668, 999)\n"
          ],
          "name": "stdout"
        },
        {
          "output_type": "stream",
          "text": [
            "\n",
            "\n",
            " 72%|███████▏  | 2526/3486 [12:00<35:52,  2.24s/it]\u001b[A\u001b[A"
          ],
          "name": "stderr"
        },
        {
          "output_type": "stream",
          "text": [
            "999\n",
            "4983\n",
            "(32112, 928)\n"
          ],
          "name": "stdout"
        },
        {
          "output_type": "stream",
          "text": [
            "\n",
            "\n",
            " 72%|███████▏  | 2527/3486 [12:02<34:07,  2.14s/it]\u001b[A\u001b[A"
          ],
          "name": "stderr"
        },
        {
          "output_type": "stream",
          "text": [
            "928\n",
            "4984\n",
            "(35352, 1018)\n"
          ],
          "name": "stdout"
        },
        {
          "output_type": "stream",
          "text": [
            "\n",
            "\n",
            " 73%|███████▎  | 2528/3486 [12:04<34:54,  2.19s/it]\u001b[A\u001b[A"
          ],
          "name": "stderr"
        },
        {
          "output_type": "stream",
          "text": [
            "1018\n",
            "4985\n",
            "(32724, 945)\n"
          ],
          "name": "stdout"
        },
        {
          "output_type": "stream",
          "text": [
            "\n",
            "\n",
            " 73%|███████▎  | 2529/3486 [12:06<34:30,  2.16s/it]\u001b[A\u001b[A"
          ],
          "name": "stderr"
        },
        {
          "output_type": "stream",
          "text": [
            "945\n",
            "4986\n",
            "(32688, 944)\n"
          ],
          "name": "stdout"
        },
        {
          "output_type": "stream",
          "text": [
            "\n",
            "\n",
            " 73%|███████▎  | 2530/3486 [12:08<33:03,  2.08s/it]\u001b[A\u001b[A"
          ],
          "name": "stderr"
        },
        {
          "output_type": "stream",
          "text": [
            "944\n",
            "4987\n",
            "(900, 100)\n",
            "100\n",
            "4988\n",
            "(1530, 107)\n",
            "107\n",
            "4989\n",
            "(23940, 701)\n"
          ],
          "name": "stdout"
        },
        {
          "output_type": "stream",
          "text": [
            "\n",
            "\n",
            " 73%|███████▎  | 2533/3486 [12:09<24:48,  1.56s/it]\u001b[A\u001b[A"
          ],
          "name": "stderr"
        },
        {
          "output_type": "stream",
          "text": [
            "701\n",
            "4990\n",
            "(26316, 767)\n"
          ],
          "name": "stdout"
        },
        {
          "output_type": "stream",
          "text": [
            "\n",
            "\n",
            " 73%|███████▎  | 2534/3486 [12:10<22:38,  1.43s/it]\u001b[A\u001b[A"
          ],
          "name": "stderr"
        },
        {
          "output_type": "stream",
          "text": [
            "767\n",
            "4991\n",
            "(17928, 534)\n"
          ],
          "name": "stdout"
        },
        {
          "output_type": "stream",
          "text": [
            "\n",
            "\n",
            " 73%|███████▎  | 2535/3486 [12:11<18:24,  1.16s/it]\u001b[A\u001b[A"
          ],
          "name": "stderr"
        },
        {
          "output_type": "stream",
          "text": [
            "534\n",
            "4992\n",
            "(21708, 639)\n"
          ],
          "name": "stdout"
        },
        {
          "output_type": "stream",
          "text": [
            "\n",
            "\n",
            " 73%|███████▎  | 2536/3486 [12:12<16:25,  1.04s/it]\u001b[A\u001b[A\n",
            "\n",
            " 73%|███████▎  | 2543/3486 [12:12<11:28,  1.37it/s]\u001b[A\u001b[A"
          ],
          "name": "stderr"
        },
        {
          "output_type": "stream",
          "text": [
            "639\n",
            "4993\n",
            "(1728, 96)\n",
            "96\n",
            "4994\n",
            "(2088, 101)\n",
            "101\n",
            "4995\n",
            "(2940, 109)\n",
            "109\n",
            "4997\n",
            "(1188, 69)\n",
            "69\n",
            "5000\n",
            "(216, 42)\n",
            "42\n",
            "5001\n",
            "(432, 48)\n",
            "48\n",
            "5002\n",
            "(504, 45)\n",
            "45\n",
            "5003\n",
            "(6825, 214)\n",
            "214\n",
            "5004\n",
            "(19872, 588)\n",
            "588\n",
            "5005\n",
            "(15300, 461)\n"
          ],
          "name": "stdout"
        },
        {
          "output_type": "stream",
          "text": [
            "\n",
            "\n",
            " 73%|███████▎  | 2546/3486 [12:13<09:46,  1.60it/s]\u001b[A\u001b[A"
          ],
          "name": "stderr"
        },
        {
          "output_type": "stream",
          "text": [
            "461\n",
            "5006\n",
            "(19620, 581)\n",
            "581\n",
            "5007\n",
            "(16080, 483)\n"
          ],
          "name": "stdout"
        },
        {
          "output_type": "stream",
          "text": [
            "\n",
            "\n",
            " 73%|███████▎  | 2548/3486 [12:14<09:20,  1.67it/s]\u001b[A\u001b[A"
          ],
          "name": "stderr"
        },
        {
          "output_type": "stream",
          "text": [
            "483\n",
            "5008\n",
            "(14652, 443)\n"
          ],
          "name": "stdout"
        },
        {
          "output_type": "stream",
          "text": [
            "\n",
            "\n",
            " 73%|███████▎  | 2550/3486 [12:14<07:46,  2.01it/s]\u001b[A\u001b[A"
          ],
          "name": "stderr"
        },
        {
          "output_type": "stream",
          "text": [
            "443\n",
            "5009\n",
            "(9180, 291)\n",
            "291\n",
            "5010\n"
          ],
          "name": "stdout"
        },
        {
          "output_type": "stream",
          "text": [
            "\n",
            "\n"
          ],
          "name": "stderr"
        },
        {
          "output_type": "stream",
          "text": [
            "(12564, 385)\n",
            "385\n"
          ],
          "name": "stdout"
        },
        {
          "output_type": "stream",
          "text": [
            "\r 73%|███████▎  | 2551/3486 [12:15<06:38,  2.35it/s]\u001b[A\u001b[A"
          ],
          "name": "stderr"
        },
        {
          "output_type": "stream",
          "text": [
            "5011\n",
            "(11808, 364)\n"
          ],
          "name": "stdout"
        },
        {
          "output_type": "stream",
          "text": [
            "\n",
            "\n",
            " 73%|███████▎  | 2552/3486 [12:15<05:48,  2.68it/s]\u001b[A\u001b[A\n",
            "\n"
          ],
          "name": "stderr"
        },
        {
          "output_type": "stream",
          "text": [
            "364\n",
            "5012\n",
            "(10908, 339)\n",
            "339\n"
          ],
          "name": "stdout"
        },
        {
          "output_type": "stream",
          "text": [
            "\r 73%|███████▎  | 2553/3486 [12:15<04:57,  3.14it/s]\u001b[A\u001b[A\n",
            "\n",
            " 73%|███████▎  | 2554/3486 [12:15<03:58,  3.91it/s]\u001b[A\u001b[A"
          ],
          "name": "stderr"
        },
        {
          "output_type": "stream",
          "text": [
            "5013\n",
            "(7992, 258)\n",
            "258\n",
            "5014\n",
            "(4080, 128)\n",
            "128\n",
            "5015\n",
            "(2700, 111)\n",
            "111\n",
            "5016\n",
            "(810, 63)\n",
            "63\n",
            "5017\n",
            "(2100, 95)\n"
          ],
          "name": "stdout"
        },
        {
          "output_type": "stream",
          "text": [
            "\n",
            "\n",
            " 73%|███████▎  | 2558/3486 [12:15<02:53,  5.34it/s]\u001b[A\u001b[A\n",
            "\n",
            " 73%|███████▎  | 2561/3486 [12:15<02:11,  7.06it/s]\u001b[A\u001b[A"
          ],
          "name": "stderr"
        },
        {
          "output_type": "stream",
          "text": [
            "95\n",
            "5018\n",
            "(4536, 162)\n",
            "162\n",
            "5019\n",
            "(304, 35)\n",
            "35\n",
            "5020\n",
            "(4356, 157)\n",
            "157\n",
            "5021\n",
            "(23436, 687)\n"
          ],
          "name": "stdout"
        },
        {
          "output_type": "stream",
          "text": [
            "\n",
            "\n",
            " 74%|███████▎  | 2563/3486 [12:16<03:45,  4.10it/s]\u001b[A\u001b[A"
          ],
          "name": "stderr"
        },
        {
          "output_type": "stream",
          "text": [
            "687\n",
            "5022\n",
            "(4320, 138)\n",
            "138\n",
            "5023\n",
            "(2070, 91)\n",
            "91\n",
            "5024\n",
            "(2736, 112)\n",
            "112\n",
            "5025\n",
            "(45888, 1004)\n"
          ],
          "name": "stdout"
        },
        {
          "output_type": "stream",
          "text": [
            "\n",
            "\n",
            " 74%|███████▎  | 2566/3486 [12:20<08:12,  1.87it/s]\u001b[A\u001b[A"
          ],
          "name": "stderr"
        },
        {
          "output_type": "stream",
          "text": [
            "1004\n",
            "5026\n",
            "(720, 63)\n",
            "63\n",
            "5027\n",
            "(1836, 87)\n",
            "87\n",
            "5028\n",
            "(1800, 86)\n",
            "86\n",
            "5029\n",
            "(3888, 144)\n",
            "144\n",
            "5030\n",
            "(18756, 557)\n"
          ],
          "name": "stdout"
        },
        {
          "output_type": "stream",
          "text": [
            "\n",
            "\n",
            " 74%|███████▍  | 2571/3486 [12:21<06:22,  2.39it/s]\u001b[A\u001b[A\n",
            "\n",
            " 74%|███████▍  | 2575/3486 [12:21<04:34,  3.32it/s]\u001b[A\u001b[A"
          ],
          "name": "stderr"
        },
        {
          "output_type": "stream",
          "text": [
            "557\n",
            "5031\n",
            "(648, 54)\n",
            "54\n",
            "5032\n",
            "(2808, 114)\n",
            "114\n",
            "5033\n",
            "(2028, 91)\n",
            "91\n",
            "5034\n",
            "(4500, 145)\n",
            "145\n",
            "5035\n",
            "(2640, 103)\n",
            "103\n",
            "5036\n",
            "(900, 61)\n",
            "61\n",
            "5037\n",
            "(1656, 82)\n",
            "82\n",
            "5038\n",
            "(1740, 89)\n",
            "89\n",
            "5039\n"
          ],
          "name": "stdout"
        },
        {
          "output_type": "stream",
          "text": [
            "\n",
            "\n",
            " 74%|███████▍  | 2581/3486 [12:21<03:20,  4.52it/s]\u001b[A\u001b[A"
          ],
          "name": "stderr"
        },
        {
          "output_type": "stream",
          "text": [
            "(1188, 69)\n",
            "69\n",
            "5040\n",
            "(7812, 253)\n",
            "253\n",
            "5041\n",
            "(2880, 122)\n",
            "122\n",
            "5042\n",
            "(2304, 104)\n",
            "104\n",
            "5045\n",
            "(3465, 122)\n"
          ],
          "name": "stdout"
        },
        {
          "output_type": "stream",
          "text": [
            "\n",
            "\n",
            " 74%|███████▍  | 2585/3486 [12:21<02:26,  6.14it/s]\u001b[A\u001b[A\n",
            "\n",
            " 74%|███████▍  | 2589/3486 [12:21<01:49,  8.20it/s]\u001b[A\u001b[A"
          ],
          "name": "stderr"
        },
        {
          "output_type": "stream",
          "text": [
            "122\n",
            "5046\n",
            "(720, 98)\n",
            "98\n",
            "5047\n",
            "(5520, 166)\n",
            "166\n",
            "5048\n",
            "(1332, 73)\n",
            "73\n",
            "5049\n",
            "(1425, 94)\n",
            "94\n",
            "5050\n",
            "(1440, 76)\n",
            "76\n",
            "5051\n",
            "(864, 66)\n",
            "66\n",
            "5052\n",
            "(9855, 264)\n"
          ],
          "name": "stdout"
        },
        {
          "output_type": "stream",
          "text": [
            "\n",
            "\n",
            " 74%|███████▍  | 2592/3486 [12:22<01:40,  8.93it/s]\u001b[A\u001b[A"
          ],
          "name": "stderr"
        },
        {
          "output_type": "stream",
          "text": [
            "264\n",
            "5053\n",
            "(7650, 215)\n",
            "215\n",
            "5054\n",
            "(5694, 185)\n",
            "185\n",
            "5055\n",
            "(5265, 174)\n"
          ],
          "name": "stdout"
        },
        {
          "output_type": "stream",
          "text": [
            "\n",
            "\n",
            " 74%|███████▍  | 2595/3486 [12:22<01:26, 10.27it/s]\u001b[A\u001b[A\n",
            "\n",
            " 75%|███████▍  | 2599/3486 [12:22<01:08, 12.88it/s]"
          ],
          "name": "stderr"
        },
        {
          "output_type": "stream",
          "text": [
            "174\n",
            "5056\n",
            "(6123, 196)\n",
            "196\n",
            "5057\n",
            "(540, 57)\n",
            "57\n",
            "5058\n",
            "(3276, 123)\n",
            "123\n",
            "5059\n",
            "(3861, 138)\n",
            "138\n",
            "5060\n",
            "(3588, 131)\n",
            "131\n"
          ],
          "name": "stdout"
        },
        {
          "output_type": "stream",
          "text": [
            "\u001b[A\u001b[A\n",
            "\n",
            " 75%|███████▍  | 2602/3486 [12:22<00:58, 15.13it/s]\u001b[A\u001b[A"
          ],
          "name": "stderr"
        },
        {
          "output_type": "stream",
          "text": [
            "5061\n",
            "(4056, 143)\n",
            "143\n",
            "5062\n",
            "(2232, 98)\n",
            "98\n",
            "5063\n",
            "(4746, 155)\n",
            "155\n",
            "5064\n",
            "(5343, 176)\n",
            "176\n",
            "5065\n",
            "(4056, 143)\n",
            "143\n",
            "5066"
          ],
          "name": "stdout"
        },
        {
          "output_type": "stream",
          "text": [
            "\n",
            "\n",
            " 75%|███████▍  | 2605/3486 [12:22<00:52, 16.84it/s]\u001b[A\u001b[A\n",
            "\n",
            " 75%|███████▍  | 2608/3486 [12:22<00:49, 17.80it/s]\u001b[A\u001b[A"
          ],
          "name": "stderr"
        },
        {
          "output_type": "stream",
          "text": [
            "\n",
            "(2448, 106)\n",
            "106\n",
            "5067\n",
            "(5535, 168)\n",
            "168\n",
            "5068\n",
            "(810, 63)\n",
            "63\n",
            "5069\n",
            "(5508, 189)\n",
            "189\n",
            "5070\n",
            "(17568, 524)\n",
            "524\n",
            "5071\n",
            "(18684, 555)\n"
          ],
          "name": "stdout"
        },
        {
          "output_type": "stream",
          "text": [
            "\n",
            "\n",
            " 75%|███████▍  | 2611/3486 [12:23<02:11,  6.66it/s]\u001b[A\u001b[A"
          ],
          "name": "stderr"
        },
        {
          "output_type": "stream",
          "text": [
            "555\n",
            "5072\n",
            "(2556, 107)\n",
            "107\n",
            "5073\n",
            "(5280, 148)\n",
            "148\n",
            "5074\n",
            "(25994, 675)\n"
          ],
          "name": "stdout"
        },
        {
          "output_type": "stream",
          "text": [
            "\n",
            "\n",
            " 75%|███████▍  | 2613/3486 [12:24<03:55,  3.70it/s]\u001b[A\u001b[A\n",
            "\n",
            " 75%|███████▌  | 2615/3486 [12:25<03:01,  4.81it/s]\u001b[A\u001b[A"
          ],
          "name": "stderr"
        },
        {
          "output_type": "stream",
          "text": [
            "675\n",
            "5075\n",
            "(1320, 82)\n",
            "82\n",
            "5076\n",
            "(7308, 239)\n",
            "239\n",
            "5077\n",
            "(4752, 168)\n",
            "168\n",
            "5078\n",
            "(14472, 438)\n"
          ],
          "name": "stdout"
        },
        {
          "output_type": "stream",
          "text": [
            "\n",
            "\n",
            " 75%|███████▌  | 2617/3486 [12:25<03:00,  4.82it/s]\u001b[A\u001b[A"
          ],
          "name": "stderr"
        },
        {
          "output_type": "stream",
          "text": [
            "438\n",
            "5079\n",
            "(5400, 186)\n",
            "186\n",
            "5080\n",
            "(720, 56)\n",
            "56\n",
            "5081\n",
            "(9864, 310)\n"
          ],
          "name": "stdout"
        },
        {
          "output_type": "stream",
          "text": [
            "\n",
            "\n",
            " 75%|███████▌  | 2620/3486 [12:25<02:25,  5.95it/s]\u001b[A\u001b[A\n",
            "\n",
            " 75%|███████▌  | 2622/3486 [12:25<01:58,  7.31it/s]\u001b[A\u001b[A"
          ],
          "name": "stderr"
        },
        {
          "output_type": "stream",
          "text": [
            "310\n",
            "5082\n",
            "(7272, 238)\n",
            "238\n",
            "5083\n",
            "(2736, 112)\n",
            "112\n",
            "5084\n",
            "(504, 79)\n",
            "79\n",
            "5085\n",
            "(2808, 114)\n",
            "114\n",
            "5086\n",
            "(1380, 83)\n",
            "83\n",
            "5087\n"
          ],
          "name": "stdout"
        },
        {
          "output_type": "stream",
          "text": [
            "\n",
            "\n",
            " 75%|███████▌  | 2626/3486 [12:26<01:37,  8.78it/s]\u001b[A\u001b[A"
          ],
          "name": "stderr"
        },
        {
          "output_type": "stream",
          "text": [
            "(11475, 300)\n",
            "300\n",
            "5088\n",
            "(432, 48)\n",
            "48\n",
            "5089\n",
            "(315, 52)\n",
            "52\n",
            "5090\n",
            "(1008, 86)\n",
            "86\n",
            "5091\n",
            "(2088, 94)\n",
            "94\n",
            "5092\n",
            "(2988, 119)\n"
          ],
          "name": "stdout"
        },
        {
          "output_type": "stream",
          "text": [
            "\n",
            "\n",
            " 76%|███████▌  | 2632/3486 [12:26<01:17, 11.09it/s]\u001b[A\u001b[A"
          ],
          "name": "stderr"
        },
        {
          "output_type": "stream",
          "text": [
            "119\n",
            "5093\n",
            "(9108, 289)\n",
            "289\n",
            "5094\n",
            "(4536, 162)\n",
            "162\n",
            "5095\n"
          ],
          "name": "stdout"
        },
        {
          "output_type": "stream",
          "text": [
            "\n",
            "\n",
            " 76%|███████▌  | 2634/3486 [12:26<01:13, 11.59it/s]\u001b[A\u001b[A"
          ],
          "name": "stderr"
        },
        {
          "output_type": "stream",
          "text": [
            "(7344, 240)\n",
            "240\n",
            "5096\n",
            "(8640, 276)\n",
            "276\n",
            "5097\n",
            "(12492, 383)\n"
          ],
          "name": "stdout"
        },
        {
          "output_type": "stream",
          "text": [
            "\n",
            "\n",
            " 76%|███████▌  | 2636/3486 [12:26<01:42,  8.28it/s]\u001b[A\u001b[A"
          ],
          "name": "stderr"
        },
        {
          "output_type": "stream",
          "text": [
            "383\n",
            "5098\n",
            "(14148, 429)\n"
          ],
          "name": "stdout"
        },
        {
          "output_type": "stream",
          "text": [
            "\n",
            "\n",
            " 76%|███████▌  | 2638/3486 [12:27<02:03,  6.86it/s]\u001b[A\u001b[A"
          ],
          "name": "stderr"
        },
        {
          "output_type": "stream",
          "text": [
            "429\n",
            "5099\n",
            "(2250, 105)\n",
            "105\n",
            "5100\n",
            "(5472, 188)\n",
            "188\n",
            "5101\n",
            "(3600, 136)\n",
            "136\n",
            "5102\n",
            "(9144, 290)\n"
          ],
          "name": "stdout"
        },
        {
          "output_type": "stream",
          "text": [
            "\n",
            "\n",
            " 76%|███████▌  | 2641/3486 [12:27<01:50,  7.64it/s]\u001b[A\u001b[A\n",
            "\n",
            " 76%|███████▌  | 2643/3486 [12:27<01:38,  8.54it/s]\u001b[A\u001b[A"
          ],
          "name": "stderr"
        },
        {
          "output_type": "stream",
          "text": [
            "290\n",
            "5103\n",
            "(6408, 214)\n",
            "214\n",
            "5104\n",
            "(7470, 211)\n",
            "211\n",
            "5105\n"
          ],
          "name": "stdout"
        },
        {
          "output_type": "stream",
          "text": [
            "\n",
            "\n",
            " 76%|███████▌  | 2645/3486 [12:27<01:26,  9.73it/s]\u001b[A\u001b[A"
          ],
          "name": "stderr"
        },
        {
          "output_type": "stream",
          "text": [
            "(7245, 206)\n",
            "206\n",
            "5106\n",
            "(5760, 173)\n",
            "173\n",
            "5107\n",
            "(6300, 185)\n",
            "185\n",
            "5108\n",
            "(6390, 187)\n"
          ],
          "name": "stdout"
        },
        {
          "output_type": "stream",
          "text": [
            "\n",
            "\n",
            " 76%|███████▌  | 2647/3486 [12:28<01:16, 10.90it/s]\u001b[A\u001b[A\n",
            "\n",
            " 76%|███████▌  | 2649/3486 [12:28<01:10, 11.89it/s]\u001b[A\u001b[A"
          ],
          "name": "stderr"
        },
        {
          "output_type": "stream",
          "text": [
            "187\n",
            "5109\n",
            "(5985, 178)\n",
            "178\n",
            "5110\n",
            "(6120, 181)\n",
            "181\n",
            "5111\n",
            "(900, 65)\n",
            "65\n",
            "5112\n",
            "(600, 70)\n",
            "70\n",
            "5113\n",
            "(1476, 77)\n",
            "77\n",
            "5114\n",
            "(3240, 126)\n",
            "126\n",
            "5115\n",
            "(28980, 689)\n"
          ],
          "name": "stdout"
        },
        {
          "output_type": "stream",
          "text": [
            "\n",
            "\n",
            " 76%|███████▌  | 2654/3486 [12:29<01:45,  7.87it/s]\u001b[A\u001b[A"
          ],
          "name": "stderr"
        },
        {
          "output_type": "stream",
          "text": [
            "689\n",
            "5116\n",
            "(4640, 156)\n",
            "156\n",
            "5117\n",
            "(2295, 96)\n",
            "96\n",
            "5118\n",
            "(16650, 415)\n"
          ],
          "name": "stdout"
        },
        {
          "output_type": "stream",
          "text": [
            "\n",
            "\n",
            " 76%|███████▌  | 2657/3486 [12:29<01:49,  7.55it/s]\u001b[A\u001b[A\n",
            "\n",
            " 76%|███████▋  | 2659/3486 [12:29<01:30,  9.17it/s]\u001b[A\u001b[A"
          ],
          "name": "stderr"
        },
        {
          "output_type": "stream",
          "text": [
            "415\n",
            "5119\n",
            "(4140, 151)\n",
            "151\n",
            "5120\n",
            "(1296, 75)\n",
            "75\n",
            "5121\n",
            "(2988, 119)\n",
            "119\n",
            "5122\n",
            "(1320, 73)\n",
            "73\n",
            "5123\n",
            "(2880, 122)\n"
          ],
          "name": "stdout"
        },
        {
          "output_type": "stream",
          "text": [
            "\n",
            "\n",
            " 76%|███████▋  | 2662/3486 [12:29<01:11, 11.55it/s]\u001b[A\u001b[A"
          ],
          "name": "stderr"
        },
        {
          "output_type": "stream",
          "text": [
            "122\n",
            "5124\n",
            "(3456, 120)\n",
            "120\n",
            "5125\n",
            "(17568, 524)\n"
          ],
          "name": "stdout"
        },
        {
          "output_type": "stream",
          "text": [
            "\n",
            "\n",
            " 76%|███████▋  | 2664/3486 [12:30<01:57,  6.97it/s]\u001b[A\u001b[A"
          ],
          "name": "stderr"
        },
        {
          "output_type": "stream",
          "text": [
            "524\n",
            "5126\n",
            "(16812, 503)\n",
            "503\n",
            "5127\n",
            "(11736, 362)\n"
          ],
          "name": "stdout"
        },
        {
          "output_type": "stream",
          "text": [
            "\n",
            "\n",
            " 76%|███████▋  | 2666/3486 [12:31<02:46,  4.93it/s]\u001b[A\u001b[A"
          ],
          "name": "stderr"
        },
        {
          "output_type": "stream",
          "text": [
            "362\n",
            "5128\n",
            "(12312, 378)\n",
            "378\n",
            "5129\n",
            "(12348, 379)\n"
          ],
          "name": "stdout"
        },
        {
          "output_type": "stream",
          "text": [
            "\n",
            "\n",
            " 77%|███████▋  | 2668/3486 [12:31<02:55,  4.65it/s]\u001b[A\u001b[A\n",
            "\n",
            " 77%|███████▋  | 2669/3486 [12:31<02:39,  5.11it/s]\u001b[A\u001b[A"
          ],
          "name": "stderr"
        },
        {
          "output_type": "stream",
          "text": [
            "379\n",
            "5130\n",
            "(9864, 310)\n",
            "310\n",
            "5131\n",
            "(936, 62)\n",
            "62\n",
            "5133\n",
            "(2970, 123)\n",
            "123"
          ],
          "name": "stdout"
        },
        {
          "output_type": "stream",
          "text": [
            "\n",
            "\n",
            " 77%|███████▋  | 2674/3486 [12:31<01:56,  6.94it/s]\u001b[A\u001b[A"
          ],
          "name": "stderr"
        },
        {
          "output_type": "stream",
          "text": [
            "\n",
            "5135\n",
            "(765, 62)\n",
            "62\n",
            "5136\n",
            "(2556, 107)\n",
            "107\n",
            "5137\n",
            "(3276, 127)\n",
            "127\n",
            "5138\n",
            "(1845, 86)\n",
            "86\n",
            "5139\n",
            "(2592, 108)\n",
            "108\n",
            "5140\n",
            "(450, 55)\n",
            "55\n",
            "5141\n",
            "(29184, 656)\n"
          ],
          "name": "stdout"
        },
        {
          "output_type": "stream",
          "text": [
            "\n",
            "\n",
            " 77%|███████▋  | 2678/3486 [12:32<02:23,  5.63it/s]\u001b[A\u001b[A\n",
            "\n",
            " 77%|███████▋  | 2682/3486 [12:33<01:47,  7.49it/s]\u001b[A\u001b[A"
          ],
          "name": "stderr"
        },
        {
          "output_type": "stream",
          "text": [
            "656\n",
            "5142\n",
            "(2664, 110)\n",
            "110\n",
            "5143\n",
            "(900, 61)\n",
            "61\n",
            "5144\n",
            "(4815, 152)\n",
            "152\n",
            "5145\n",
            "(3060, 111)\n",
            "111\n",
            "5146\n",
            "(1980, 93)\n",
            "93\n",
            "5147\n",
            "(2412, 103)\n",
            "103\n",
            "5148\n",
            "(3744, 140)\n"
          ],
          "name": "stdout"
        },
        {
          "output_type": "stream",
          "text": [
            "\n",
            "\n",
            " 77%|███████▋  | 2686/3486 [12:33<01:22,  9.75it/s]\u001b[A\u001b[A\n",
            "\n",
            " 77%|███████▋  | 2689/3486 [12:33<01:05, 12.19it/s]\u001b[A\u001b[A"
          ],
          "name": "stderr"
        },
        {
          "output_type": "stream",
          "text": [
            "140\n",
            "5149\n",
            "(3240, 126)\n",
            "126\n",
            "5150\n",
            "(546, 53)\n",
            "53\n",
            "5152\n",
            "(1260, 73)\n",
            "73\n",
            "5154\n",
            "(5652, 193)\n",
            "193\n",
            "5155\n",
            "(2025, 102)\n",
            "102\n",
            "5156\n",
            "(5256, 182)\n"
          ],
          "name": "stdout"
        },
        {
          "output_type": "stream",
          "text": [
            "\n",
            "\n",
            " 77%|███████▋  | 2692/3486 [12:33<00:54, 14.45it/s]\u001b[A\u001b[A\n",
            "\n",
            " 77%|███████▋  | 2695/3486 [12:33<00:48, 16.21it/s]\u001b[A\u001b[A"
          ],
          "name": "stderr"
        },
        {
          "output_type": "stream",
          "text": [
            "182\n",
            "5157\n",
            "(3120, 118)\n",
            "118\n",
            "5158\n",
            "(2280, 98)\n",
            "98\n",
            "5159\n",
            "(5904, 200)\n",
            "200\n",
            "5160\n",
            "(3384, 130)\n",
            "130\n",
            "5161\n",
            "(3996, 147)\n",
            "147\n",
            "5162\n",
            "(4068, 149)\n",
            "149\n",
            "5163\n",
            "(12420, 381)\n"
          ],
          "name": "stdout"
        },
        {
          "output_type": "stream",
          "text": [
            "\n",
            "\n",
            " 77%|███████▋  | 2698/3486 [12:33<01:01, 12.81it/s]\u001b[A\u001b[A\n",
            "\n",
            " 78%|███████▊  | 2703/3486 [12:33<00:47, 16.40it/s]\u001b[A\u001b[A"
          ],
          "name": "stderr"
        },
        {
          "output_type": "stream",
          "text": [
            "381\n",
            "5164\n",
            "(5184, 180)\n",
            "180\n",
            "5165\n",
            "(2376, 102)\n",
            "102\n",
            "5166\n",
            "(684, 55)\n",
            "55\n",
            "5167\n",
            "(864, 60)\n",
            "60\n",
            "5168\n",
            "(855, 64)\n",
            "64\n",
            "5169\n",
            "(630, 59)\n",
            "59\n",
            "5170\n",
            "(288, 44)\n",
            "44\n",
            "5171\n",
            "(2976, 127)\n",
            "127\n",
            "5172\n",
            "(2808, 111)\n",
            "111\n",
            "5174\n",
            "(1332, 73)\n"
          ],
          "name": "stdout"
        },
        {
          "output_type": "stream",
          "text": [
            "\n",
            "\n",
            " 78%|███████▊  | 2709/3486 [12:34<00:38, 20.10it/s]\u001b[A\u001b[A\n",
            "\n",
            " 78%|███████▊  | 2716/3486 [12:34<00:30, 25.28it/s]\u001b[A\u001b[A"
          ],
          "name": "stderr"
        },
        {
          "output_type": "stream",
          "text": [
            "73\n",
            "5175\n",
            "(5625, 150)\n",
            "150\n",
            "5176\n",
            "(336, 55)\n",
            "55\n",
            "5177\n",
            "(2070, 91)\n",
            "91\n",
            "5178\n",
            "(1260, 71)\n",
            "71\n",
            "5179\n",
            "(1800, 85)\n",
            "85\n",
            "5180\n",
            "(684, 55)\n",
            "55\n",
            "5181\n",
            "(180, 41)\n",
            "41\n",
            "5182\n",
            "(2430, 99)\n",
            "99\n",
            "5183\n",
            "(2772, 113)\n",
            "113\n",
            "5184\n",
            "(3420, 128)\n",
            "128\n",
            "5185\n",
            "(2250, 115)\n",
            "115\n",
            "5186\n",
            "(9324, 295)\n",
            "295\n"
          ],
          "name": "stdout"
        },
        {
          "output_type": "stream",
          "text": [
            "\n",
            "\n",
            " 78%|███████▊  | 2721/3486 [12:34<00:34, 22.39it/s]\u001b[A\u001b[A"
          ],
          "name": "stderr"
        },
        {
          "output_type": "stream",
          "text": [
            "5187\n",
            "(2916, 117)\n",
            "117\n",
            "5188\n",
            "(13365, 342)\n"
          ],
          "name": "stdout"
        },
        {
          "output_type": "stream",
          "text": [
            "\n",
            "\n",
            " 78%|███████▊  | 2725/3486 [12:34<00:41, 18.29it/s]\u001b[A\u001b[A\n",
            "\n",
            " 78%|███████▊  | 2730/3486 [12:34<00:34, 21.78it/s]\u001b[A\u001b[A"
          ],
          "name": "stderr"
        },
        {
          "output_type": "stream",
          "text": [
            "342\n",
            "5189\n",
            "(3315, 124)\n",
            "124\n",
            "5190\n",
            "(324, 45)\n",
            "45\n",
            "5191\n",
            "(1152, 88)\n",
            "88\n",
            "5192\n",
            "(828, 59)\n",
            "59\n",
            "5193\n",
            "(4860, 171)\n",
            "171\n",
            "5194\n",
            "(741, 58)\n",
            "58\n",
            "5195\n",
            "(936, 85)\n",
            "85\n",
            "5196\n",
            "(4212, 153)\n",
            "153\n",
            "5197\n",
            "(2700, 111)\n"
          ],
          "name": "stdout"
        },
        {
          "output_type": "stream",
          "text": [
            "\n",
            "\n",
            " 78%|███████▊  | 2734/3486 [12:35<00:30, 24.86it/s]\u001b[A\u001b[A\n",
            "\n",
            " 79%|███████▊  | 2739/3486 [12:35<00:26, 28.46it/s]\u001b[A\u001b[A"
          ],
          "name": "stderr"
        },
        {
          "output_type": "stream",
          "text": [
            "111\n",
            "5198\n",
            "(741, 58)\n",
            "58\n",
            "5199\n",
            "(390, 49)\n",
            "49\n",
            "5200\n",
            "(5400, 150)\n",
            "150\n",
            "5201\n",
            "(1944, 90)\n",
            "90\n",
            "5202\n",
            "(3132, 123)\n",
            "123\n",
            "5203\n",
            "(1800, 86)\n",
            "86\n",
            "5204\n",
            "(2196, 97)\n",
            "97\n",
            "5205\n",
            "(2844, 115)\n",
            "115\n",
            "5206\n",
            "(1800, 86)\n",
            "86\n",
            "5207\n",
            "(13716, 422)\n"
          ],
          "name": "stdout"
        },
        {
          "output_type": "stream",
          "text": [
            "\n",
            "\n",
            " 79%|███████▊  | 2743/3486 [12:35<00:42, 17.64it/s]\u001b[A\u001b[A\n",
            "\n"
          ],
          "name": "stderr"
        },
        {
          "output_type": "stream",
          "text": [
            "422\n",
            "5208\n",
            "(1476, 77)\n",
            "77\n",
            "5209\n",
            "(5076, 194)\n",
            "194\n",
            "5210\n",
            "(3420, 131)\n",
            "131\n",
            "5211\n",
            "(1200, 73)\n",
            "73\n",
            "5212\n",
            "(7050, 169)\n",
            "169\n"
          ],
          "name": "stdout"
        },
        {
          "output_type": "stream",
          "text": [
            "\r 79%|███████▉  | 2746/3486 [12:35<00:38, 19.38it/s]\u001b[A\u001b[A"
          ],
          "name": "stderr"
        },
        {
          "output_type": "stream",
          "text": [
            "5213\n",
            "(45270, 858)\n"
          ],
          "name": "stdout"
        },
        {
          "output_type": "stream",
          "text": [
            "\n",
            "\n",
            " 79%|███████▉  | 2749/3486 [12:38<03:39,  3.36it/s]\u001b[A\u001b[A"
          ],
          "name": "stderr"
        },
        {
          "output_type": "stream",
          "text": [
            "858\n",
            "5214\n",
            "(3528, 121)\n",
            "121\n",
            "5215\n",
            "(6576, 185)\n",
            "185\n",
            "5216\n",
            "(1920, 92)\n",
            "92\n",
            "5217\n"
          ],
          "name": "stdout"
        },
        {
          "output_type": "stream",
          "text": [
            "\n",
            "\n",
            " 79%|███████▉  | 2751/3486 [12:38<02:57,  4.13it/s]\u001b[A\u001b[A"
          ],
          "name": "stderr"
        },
        {
          "output_type": "stream",
          "text": [
            "(10692, 333)\n",
            "333\n",
            "5218\n",
            "(3168, 124)\n",
            "124\n",
            "5219\n"
          ],
          "name": "stdout"
        },
        {
          "output_type": "stream",
          "text": [
            "\n",
            "\n",
            " 79%|███████▉  | 2753/3486 [12:38<02:22,  5.13it/s]\u001b[A\u001b[A"
          ],
          "name": "stderr"
        },
        {
          "output_type": "stream",
          "text": [
            "(9360, 296)\n",
            "296\n",
            "5220\n",
            "(2160, 93)\n",
            "93\n",
            "5221\n",
            "(3456, 132)\n",
            "132\n",
            "5222\n",
            "(864, 84)\n",
            "84\n",
            "5223\n",
            "(1860, 92)\n",
            "92\n",
            "5224\n",
            "(4212, 153)\n"
          ],
          "name": "stdout"
        },
        {
          "output_type": "stream",
          "text": [
            "\n",
            "\n",
            " 79%|███████▉  | 2758/3486 [12:38<01:45,  6.91it/s]\u001b[A\u001b[A\n",
            "\n",
            " 79%|███████▉  | 2764/3486 [12:38<01:17,  9.36it/s]\u001b[A\u001b[A"
          ],
          "name": "stderr"
        },
        {
          "output_type": "stream",
          "text": [
            "153\n",
            "5225\n",
            "(2916, 117)\n",
            "117\n",
            "5226\n",
            "(972, 63)\n",
            "63\n",
            "5227\n",
            "(936, 85)\n",
            "85\n",
            "5228\n",
            "(432, 48)\n",
            "48\n",
            "5229\n",
            "(1404, 156)\n",
            "156\n",
            "5230\n",
            "(1296, 72)\n",
            "72\n",
            "5231\n",
            "(1548, 79)\n",
            "79\n",
            "5232\n",
            "(1443, 76)\n",
            "76\n",
            "5233\n",
            "(624, 55)\n",
            "55\n",
            "5234\n",
            "(468, 51)\n",
            "51\n",
            "5235\n",
            "(3672, 138)\n"
          ],
          "name": "stdout"
        },
        {
          "output_type": "stream",
          "text": [
            "\n",
            "\n",
            " 79%|███████▉  | 2770/3486 [12:39<00:58, 12.20it/s]\u001b[A\u001b[A\n",
            "\n",
            " 80%|███████▉  | 2774/3486 [12:39<00:47, 15.10it/s]\u001b[A\u001b[A"
          ],
          "name": "stderr"
        },
        {
          "output_type": "stream",
          "text": [
            "138\n",
            "5236\n",
            "(4212, 153)\n",
            "153\n",
            "5237\n",
            "(396, 47)\n",
            "47\n",
            "5238\n",
            "(5670, 171)\n",
            "171\n",
            "5239\n",
            "(3528, 134)\n",
            "134\n",
            "5240\n",
            "(1260, 71)\n",
            "71\n",
            "5241\n",
            "(3636, 137)\n"
          ],
          "name": "stdout"
        },
        {
          "output_type": "stream",
          "text": [
            "\n",
            "\n",
            " 80%|███████▉  | 2778/3486 [12:39<00:38, 18.44it/s]\u001b[A\u001b[A"
          ],
          "name": "stderr"
        },
        {
          "output_type": "stream",
          "text": [
            "137\n",
            "5242\n",
            "(1776, 85)\n",
            "85\n",
            "5243\n",
            "(1800, 85)\n",
            "85\n",
            "5244\n",
            "(390, 43)\n",
            "43\n",
            "5245\n",
            "(780, 56)\n",
            "56\n",
            "5246\n",
            "(780, 56)\n",
            "56\n",
            "5247\n",
            "(9252, 293)\n"
          ],
          "name": "stdout"
        },
        {
          "output_type": "stream",
          "text": [
            "\n",
            "\n",
            " 80%|███████▉  | 2782/3486 [12:39<00:41, 17.03it/s]\u001b[A\u001b[A"
          ],
          "name": "stderr"
        },
        {
          "output_type": "stream",
          "text": [
            "293\n",
            "5248\n",
            "(7704, 250)\n",
            "250\n",
            "5249\n",
            "(828, 59)\n",
            "59\n",
            "5250\n",
            "(324, 45)\n",
            "45\n",
            "5251\n",
            "(900, 65)\n",
            "65\n",
            "5252\n",
            "(390, 43)\n",
            "43\n",
            "5253\n",
            "(780, 56)\n",
            "56\n",
            "5254\n",
            "(780, 56)\n",
            "56\n",
            "5255\n",
            "(390, 43)\n",
            "43\n",
            "5256\n",
            "(780, 56)\n",
            "56\n",
            "5257\n",
            "(780, 56)\n",
            "56\n",
            "5258\n",
            "(720, 82)\n",
            "82\n",
            "5259\n",
            "(390, 43)\n"
          ],
          "name": "stdout"
        },
        {
          "output_type": "stream",
          "text": [
            "\n",
            "\n",
            " 80%|████████  | 2794/3486 [12:39<00:30, 22.82it/s]\u001b[A\u001b[A\n",
            "\n",
            " 80%|████████  | 2802/3486 [12:39<00:23, 28.96it/s]\u001b[A\u001b[A"
          ],
          "name": "stderr"
        },
        {
          "output_type": "stream",
          "text": [
            "43\n",
            "5260\n",
            "(780, 56)\n",
            "56\n",
            "5261\n",
            "(780, 56)\n",
            "56\n",
            "5262\n",
            "(288, 44)\n",
            "44\n",
            "5263\n",
            "(720, 72)\n",
            "72\n",
            "5264\n",
            "(432, 48)\n",
            "48\n",
            "5265\n",
            "(684, 55)\n",
            "55\n",
            "5266\n",
            "(2700, 120)\n",
            "120\n",
            "5267\n",
            "(2088, 94)\n",
            "94\n",
            "5268\n",
            "(324, 45)\n",
            "45\n",
            "5269\n",
            "(252, 43)\n",
            "43\n",
            "5270\n",
            "(1008, 64)\n",
            "64\n",
            "5271\n",
            "(756, 57)\n",
            "57\n",
            "5272\n",
            "(1440, 76)\n",
            "76\n",
            "5273\n",
            "(432, 48)\n",
            "48\n",
            "5274\n",
            "(6948, 229)\n"
          ],
          "name": "stdout"
        },
        {
          "output_type": "stream",
          "text": [
            "\n",
            "\n",
            " 81%|████████  | 2809/3486 [12:39<00:20, 32.30it/s]\u001b[A\u001b[A\n",
            "\n",
            " 81%|████████  | 2817/3486 [12:40<00:17, 38.01it/s]\u001b[A\u001b[A"
          ],
          "name": "stderr"
        },
        {
          "output_type": "stream",
          "text": [
            "229\n",
            "5275\n",
            "(1008, 64)\n",
            "64\n",
            "5276\n",
            "(828, 59)\n",
            "59\n",
            "5277\n",
            "(2640, 104)\n",
            "104\n",
            "5278\n",
            "(1020, 77)\n",
            "77\n",
            "5279\n",
            "(336, 55)\n",
            "55\n",
            "5280\n",
            "(1620, 87)\n",
            "87\n",
            "5281\n",
            "(1800, 99)\n",
            "99\n",
            "5282\n",
            "<=2 categories\n",
            "5283\n",
            "<=2 categories\n",
            "5284\n",
            "(4680, 166)\n",
            "166\n",
            "5285\n"
          ],
          "name": "stdout"
        },
        {
          "output_type": "stream",
          "text": [
            "\n",
            "\n",
            " 81%|████████  | 2823/3486 [12:40<00:18, 36.74it/s]\u001b[A\u001b[A"
          ],
          "name": "stderr"
        },
        {
          "output_type": "stream",
          "text": [
            "(4752, 168)\n",
            "168\n",
            "5286\n",
            "(1014, 65)\n",
            "65\n",
            "5287\n",
            "(429, 50)\n",
            "50\n",
            "5289\n",
            "(273, 46)\n",
            "46\n",
            "5292\n",
            "(3492, 133)\n",
            "133\n",
            "5293\n",
            "(1404, 75)\n",
            "75\n",
            "5294\n",
            "(468, 49)\n",
            "49\n",
            "5295\n",
            "(720, 61)\n",
            "61\n",
            "5296\n",
            "(1260, 71)\n",
            "71\n",
            "5297\n",
            "(2160, 96)\n",
            "96\n",
            "5298\n",
            "(4500, 140)\n"
          ],
          "name": "stdout"
        },
        {
          "output_type": "stream",
          "text": [
            "\n",
            "\n",
            " 81%|████████  | 2829/3486 [12:40<00:17, 38.58it/s]\u001b[A\u001b[A\n",
            "\n",
            " 81%|████████▏ | 2834/3486 [12:40<00:16, 39.40it/s]\u001b[A\u001b[A"
          ],
          "name": "stderr"
        },
        {
          "output_type": "stream",
          "text": [
            "140\n",
            "5299\n",
            "(1458, 81)\n",
            "81\n",
            "5300\n",
            "(612, 53)\n",
            "53\n",
            "5301\n",
            "(216, 42)\n",
            "42\n",
            "5302\n",
            "(900, 61)\n",
            "61\n",
            "5303\n",
            "(3456, 120)\n",
            "120\n",
            "5304\n",
            "(1968, 89)\n",
            "89\n",
            "5306\n",
            "(2280, 98)\n",
            "98\n",
            "5307\n",
            "(756, 57)\n",
            "57\n",
            "5308\n",
            "(2160, 96)\n"
          ],
          "name": "stdout"
        },
        {
          "output_type": "stream",
          "text": [
            "\n",
            "\n",
            " 81%|████████▏ | 2839/3486 [12:40<00:15, 41.71it/s]\u001b[A\u001b[A"
          ],
          "name": "stderr"
        },
        {
          "output_type": "stream",
          "text": [
            "96\n",
            "5309\n",
            "(2124, 95)\n",
            "95\n",
            "5310\n",
            "(13143, 376)\n",
            "376\n",
            "5311\n",
            "(720, 56)\n",
            "56\n",
            "5312\n",
            "(26244, 765)\n"
          ],
          "name": "stdout"
        },
        {
          "output_type": "stream",
          "text": [
            "\n",
            "\n",
            " 82%|████████▏ | 2844/3486 [12:42<01:10,  9.05it/s]\u001b[A\u001b[A"
          ],
          "name": "stderr"
        },
        {
          "output_type": "stream",
          "text": [
            "765\n",
            "5313\n",
            "(4320, 156)\n",
            "156\n",
            "5314\n",
            "(2556, 107)\n",
            "107\n",
            "5315\n",
            "(1836, 87)\n",
            "87\n",
            "5316\n",
            "(6732, 223)\n",
            "223\n",
            "5317\n",
            "(2340, 99)\n"
          ],
          "name": "stdout"
        },
        {
          "output_type": "stream",
          "text": [
            "\n",
            "\n",
            " 82%|████████▏ | 2848/3486 [12:42<00:57, 11.10it/s]\u001b[A\u001b[A\n",
            "\n",
            " 82%|████████▏ | 2852/3486 [12:42<00:46, 13.66it/s]\u001b[A\u001b[A"
          ],
          "name": "stderr"
        },
        {
          "output_type": "stream",
          "text": [
            "99\n",
            "5318\n",
            "(3240, 117)\n",
            "117\n",
            "5319\n",
            "(792, 58)\n",
            "58\n",
            "5320\n",
            "(7596, 247)\n",
            "247\n",
            "5321\n",
            "(324, 45)\n",
            "45\n",
            "5322\n",
            "(1008, 64)\n",
            "64\n",
            "5323\n",
            "(900, 75)\n",
            "75\n",
            "5324\n",
            "(1800, 97)\n"
          ],
          "name": "stdout"
        },
        {
          "output_type": "stream",
          "text": [
            "\n",
            "\n",
            " 82%|████████▏ | 2856/3486 [12:42<00:39, 16.11it/s]\u001b[A\u001b[A"
          ],
          "name": "stderr"
        },
        {
          "output_type": "stream",
          "text": [
            "97\n",
            "5325\n",
            "(2340, 116)\n",
            "116\n",
            "5326\n",
            "(6912, 230)\n",
            "230\n",
            "5327\n",
            "(4632, 217)\n",
            "217\n",
            "5329\n",
            "(3132, 123)\n"
          ],
          "name": "stdout"
        },
        {
          "output_type": "stream",
          "text": [
            "\n",
            "\n",
            " 82%|████████▏ | 2859/3486 [12:42<00:35, 17.85it/s]\u001b[A\u001b[A\n",
            "\n",
            " 82%|████████▏ | 2862/3486 [12:42<00:33, 18.41it/s]\u001b[A\u001b[A"
          ],
          "name": "stderr"
        },
        {
          "output_type": "stream",
          "text": [
            "123\n",
            "5330\n",
            "(1152, 68)\n",
            "68\n",
            "5331\n",
            "(6264, 210)\n",
            "210\n",
            "5332\n",
            "(2700, 111)\n",
            "111\n",
            "5333\n",
            "(3825, 130)\n",
            "130\n",
            "5334\n",
            "(5580, 169)\n"
          ],
          "name": "stdout"
        },
        {
          "output_type": "stream",
          "text": [
            "\n",
            "\n",
            " 82%|████████▏ | 2866/3486 [12:43<00:28, 21.84it/s]\u001b[A\u001b[A\n",
            "\n",
            " 82%|████████▏ | 2869/3486 [12:43<00:26, 23.31it/s]\u001b[A\u001b[A"
          ],
          "name": "stderr"
        },
        {
          "output_type": "stream",
          "text": [
            "169\n",
            "5335\n",
            "(1584, 81)\n",
            "81\n",
            "5336\n",
            "(1080, 66)\n",
            "66\n",
            "5337\n",
            "(540, 51)\n",
            "51\n",
            "5338\n",
            "(5904, 200)\n",
            "200\n",
            "5339\n",
            "(2736, 112)\n",
            "112\n",
            "5340\n",
            "(960, 68)\n",
            "68\n",
            "5341\n",
            "(1080, 69)\n",
            "69\n",
            "5342\n",
            "(1260, 71)\n",
            "71\n",
            "5343\n",
            "(4770, 143)\n"
          ],
          "name": "stdout"
        },
        {
          "output_type": "stream",
          "text": [
            "\n",
            "\n",
            " 82%|████████▏ | 2873/3486 [12:43<00:23, 25.77it/s]\u001b[A\u001b[A"
          ],
          "name": "stderr"
        },
        {
          "output_type": "stream",
          "text": [
            "143\n",
            "5344\n",
            "(4050, 135)\n",
            "135\n",
            "5345\n",
            "(5616, 192)\n",
            "192\n",
            "5347\n",
            "(792, 58)\n",
            "58\n",
            "5348\n",
            "(8100, 468)\n"
          ],
          "name": "stdout"
        },
        {
          "output_type": "stream",
          "text": [
            "\n",
            "\n",
            " 83%|████████▎ | 2877/3486 [12:43<00:29, 20.52it/s]\u001b[A\u001b[A\n",
            "\n",
            " 83%|████████▎ | 2883/3486 [12:43<00:24, 24.65it/s]\u001b[A\u001b[A"
          ],
          "name": "stderr"
        },
        {
          "output_type": "stream",
          "text": [
            "468\n",
            "5349\n",
            "(945, 66)\n",
            "66\n",
            "5350\n",
            "(855, 64)\n",
            "64\n",
            "5351\n",
            "(648, 54)\n",
            "54\n",
            "5352\n",
            "(396, 47)\n",
            "47\n",
            "5353\n",
            "(1260, 187)\n",
            "187\n",
            "5354\n",
            "(1344, 76)\n",
            "76\n",
            "5355\n",
            "(3960, 202)\n",
            "202\n",
            "5356\n",
            "(2160, 192)\n",
            "192\n",
            "5357\n",
            "(1035, 68)\n",
            "68\n",
            "5358\n"
          ],
          "name": "stdout"
        },
        {
          "output_type": "stream",
          "text": [
            "\n",
            "\n",
            " 83%|████████▎ | 2888/3486 [12:43<00:21, 28.17it/s]\u001b[A\u001b[A\n",
            "\n",
            " 83%|████████▎ | 2893/3486 [12:43<00:18, 31.83it/s]\u001b[A\u001b[A"
          ],
          "name": "stderr"
        },
        {
          "output_type": "stream",
          "text": [
            "(1536, 80)\n",
            "80\n",
            "5360\n",
            "(1275, 92)\n",
            "92\n",
            "5361\n",
            "(3400, 125)\n",
            "125\n",
            "5362\n",
            "(3708, 139)\n",
            "139\n",
            "5363\n",
            "(1620, 81)\n",
            "81\n",
            "5364\n",
            "(1944, 90)\n",
            "90\n",
            "5365\n",
            "(1152, 88)\n",
            "88\n",
            "5366\n",
            "(840, 74)\n",
            "74\n",
            "5367\n",
            "(2232, 98)\n",
            "98\n",
            "5368\n"
          ],
          "name": "stdout"
        },
        {
          "output_type": "stream",
          "text": [
            "\n",
            "\n",
            " 83%|████████▎ | 2897/3486 [12:44<00:19, 29.88it/s]\u001b[A\u001b[A"
          ],
          "name": "stderr"
        },
        {
          "output_type": "stream",
          "text": [
            "(3780, 132)\n",
            "132\n",
            "5369\n",
            "(2970, 123)\n",
            "123\n",
            "5370\n",
            "(5148, 179)\n",
            "179\n",
            "5371\n",
            "(4392, 158)\n",
            "158\n",
            "5372\n",
            "(1530, 79)\n",
            "79\n",
            "5374\n",
            "(3564, 135)\n"
          ],
          "name": "stdout"
        },
        {
          "output_type": "stream",
          "text": [
            "\n",
            "\n",
            " 83%|████████▎ | 2901/3486 [12:44<00:18, 30.82it/s]\u001b[A\u001b[A"
          ],
          "name": "stderr"
        },
        {
          "output_type": "stream",
          "text": [
            "135\n",
            "5375\n",
            "(504, 50)\n",
            "50\n",
            "5377\n",
            "(1908, 89)\n",
            "89\n",
            "5378\n",
            "(324, 45)\n",
            "45\n",
            "5379\n",
            "(26316, 483)\n"
          ],
          "name": "stdout"
        },
        {
          "output_type": "stream",
          "text": [
            "\n",
            "\n",
            " 83%|████████▎ | 2905/3486 [12:44<00:46, 12.58it/s]\u001b[A\u001b[A\n",
            "\n",
            " 83%|████████▎ | 2910/3486 [12:45<00:37, 15.51it/s]\u001b[A\u001b[A"
          ],
          "name": "stderr"
        },
        {
          "output_type": "stream",
          "text": [
            "483\n",
            "5380\n",
            "(1014, 65)\n",
            "65\n",
            "5381\n",
            "(156, 43)\n",
            "43\n",
            "5383\n",
            "(3456, 132)\n",
            "132\n",
            "5384\n",
            "(350, 75)\n",
            "75\n",
            "5385\n",
            "(4860, 153)\n",
            "153\n",
            "5386\n",
            "(5400, 150)\n",
            "150\n",
            "5387\n",
            "(5904, 200)\n"
          ],
          "name": "stdout"
        },
        {
          "output_type": "stream",
          "text": [
            "\n",
            "\n",
            " 84%|████████▎ | 2913/3486 [12:45<00:34, 16.58it/s]\u001b[A\u001b[A"
          ],
          "name": "stderr"
        },
        {
          "output_type": "stream",
          "text": [
            "200\n",
            "5388\n",
            "(840, 74)\n",
            "74\n",
            "5389\n",
            "(5472, 188)\n",
            "188\n",
            "5390\n",
            "(5292, 183)\n",
            "183\n",
            "5391\n",
            "(1188, 69)\n",
            "69\n",
            "5392\n",
            "(6660, 221)\n"
          ],
          "name": "stdout"
        },
        {
          "output_type": "stream",
          "text": [
            "\n",
            "\n",
            " 84%|████████▎ | 2916/3486 [12:45<00:34, 16.60it/s]\u001b[A\u001b[A\n",
            "\n",
            " 84%|████████▎ | 2919/3486 [12:45<00:32, 17.71it/s]\u001b[A\u001b[A"
          ],
          "name": "stderr"
        },
        {
          "output_type": "stream",
          "text": [
            "221\n",
            "5393\n",
            "(2664, 110)\n",
            "110\n",
            "5394\n",
            "(6480, 189)\n",
            "189\n",
            "5395\n",
            "(4392, 158)\n",
            "158\n",
            "5396\n",
            "(684, 55)\n",
            "55\n",
            "5397\n",
            "(8928, 284)\n"
          ],
          "name": "stdout"
        },
        {
          "output_type": "stream",
          "text": [
            "\n",
            "\n",
            " 84%|████████▍ | 2922/3486 [12:45<00:30, 18.33it/s]\u001b[A\u001b[A"
          ],
          "name": "stderr"
        },
        {
          "output_type": "stream",
          "text": [
            "284\n",
            "5398\n",
            "(936, 62)\n",
            "62\n",
            "5399\n",
            "(828, 59)\n",
            "59\n",
            "5400\n",
            "(5364, 185)\n",
            "185\n",
            "5401\n",
            "(8712, 278)\n"
          ],
          "name": "stdout"
        },
        {
          "output_type": "stream",
          "text": [
            "\n",
            "\n",
            " 84%|████████▍ | 2925/3486 [12:45<00:32, 17.21it/s]\u001b[A\u001b[A"
          ],
          "name": "stderr"
        },
        {
          "output_type": "stream",
          "text": [
            "278\n",
            "5402\n",
            "(10260, 321)\n",
            "321\n",
            "5404\n",
            "(540, 51)\n"
          ],
          "name": "stdout"
        },
        {
          "output_type": "stream",
          "text": [
            "\n",
            "\n",
            " 84%|████████▍ | 2927/3486 [12:46<00:39, 14.11it/s]\u001b[A\u001b[A\n",
            "\n",
            " 84%|████████▍ | 2929/3486 [12:46<00:38, 14.32it/s]\u001b[A\u001b[A"
          ],
          "name": "stderr"
        },
        {
          "output_type": "stream",
          "text": [
            "51\n",
            "5405\n",
            "(3450, 355)\n",
            "355\n",
            "5406\n",
            "(5760, 173)\n",
            "173\n",
            "5407\n",
            "(1368, 74)\n",
            "74\n",
            "5408\n",
            "(507, 52)\n",
            "52\n",
            "5409\n",
            "(3975, 128)\n",
            "128\n"
          ],
          "name": "stdout"
        },
        {
          "output_type": "stream",
          "text": [
            "\n",
            "\n",
            " 84%|████████▍ | 2934/3486 [12:46<00:31, 17.65it/s]\u001b[A\u001b[A"
          ],
          "name": "stderr"
        },
        {
          "output_type": "stream",
          "text": [
            "5410\n",
            "(2484, 105)\n",
            "105\n",
            "5411\n",
            "(3312, 128)\n",
            "128\n",
            "5412\n",
            "(2916, 117)\n",
            "117\n",
            "5413\n",
            "(3168, 124)\n",
            "124\n",
            "5415\n",
            "(672, 58)\n",
            "58\n",
            "5416\n",
            "(672, 58)\n",
            "58\n",
            "5417\n",
            "(1080, 78)\n",
            "78\n",
            "5418\n",
            "(6960, 214)\n"
          ],
          "name": "stdout"
        },
        {
          "output_type": "stream",
          "text": [
            "\n",
            "\n",
            " 84%|████████▍ | 2940/3486 [12:46<00:26, 20.48it/s]\u001b[A\u001b[A\n",
            "\n",
            " 84%|████████▍ | 2944/3486 [12:46<00:22, 23.93it/s]\u001b[A\u001b[A"
          ],
          "name": "stderr"
        },
        {
          "output_type": "stream",
          "text": [
            "214\n",
            "5419\n",
            "(2160, 96)\n",
            "96\n",
            "5420\n",
            "(3240, 126)\n",
            "126\n",
            "5421\n",
            "(1224, 70)\n",
            "70\n",
            "5422\n",
            "(2112, 92)\n",
            "92\n",
            "5423\n",
            "(2760, 106)\n",
            "106\n",
            "5424\n",
            "(1560, 86)\n",
            "86\n",
            "5425\n",
            "(2160, 93)\n",
            "93\n",
            "5426\n",
            "(1080, 87)\n",
            "87\n",
            "5427\n",
            "(828, 59)\n",
            "59\n",
            "5429\n"
          ],
          "name": "stdout"
        },
        {
          "output_type": "stream",
          "text": [
            "\n",
            "\n",
            " 85%|████████▍ | 2950/3486 [12:46<00:18, 28.52it/s]\u001b[A\u001b[A"
          ],
          "name": "stderr"
        },
        {
          "output_type": "stream",
          "text": [
            "(2628, 109)\n",
            "109\n",
            "5430\n",
            "(2088, 94)\n",
            "94\n",
            "5431\n",
            "(1908, 89)\n",
            "89\n",
            "5432\n",
            "(2412, 103)\n",
            "103\n",
            "5433\n",
            "(20952, 618)\n"
          ],
          "name": "stdout"
        },
        {
          "output_type": "stream",
          "text": [
            "\n",
            "\n",
            " 85%|████████▍ | 2954/3486 [12:47<00:46, 11.40it/s]\u001b[A\u001b[A\n",
            "\n",
            " 85%|████████▍ | 2960/3486 [12:47<00:35, 14.68it/s]\u001b[A\u001b[A"
          ],
          "name": "stderr"
        },
        {
          "output_type": "stream",
          "text": [
            "618\n",
            "5434\n",
            "(1443, 76)\n",
            "76\n",
            "5435\n",
            "(273, 46)\n",
            "46\n",
            "5436\n",
            "(195, 44)\n",
            "44\n",
            "5437\n",
            "(2232, 98)\n",
            "98\n",
            "5438\n",
            "(684, 55)\n",
            "55\n",
            "5439\n",
            "(6156, 207)\n",
            "207\n",
            "5440\n",
            "(6372, 213)\n"
          ],
          "name": "stdout"
        },
        {
          "output_type": "stream",
          "text": [
            "\n",
            "\n",
            " 85%|████████▌ | 2964/3486 [12:48<00:34, 15.13it/s]\u001b[A\u001b[A"
          ],
          "name": "stderr"
        },
        {
          "output_type": "stream",
          "text": [
            "213\n",
            "5441\n",
            "(2970, 123)\n",
            "123\n",
            "5443\n",
            "(2280, 98)\n",
            "98\n",
            "5444\n",
            "(8244, 265)\n",
            "265\n",
            "5445\n",
            "(5560, 179)\n"
          ],
          "name": "stdout"
        },
        {
          "output_type": "stream",
          "text": [
            "\n",
            "\n",
            " 85%|████████▌ | 2968/3486 [12:48<00:28, 18.38it/s]\u001b[A\u001b[A\n",
            "\n",
            " 85%|████████▌ | 2972/3486 [12:48<00:23, 21.86it/s]\u001b[A\u001b[A"
          ],
          "name": "stderr"
        },
        {
          "output_type": "stream",
          "text": [
            "179\n",
            "5446\n",
            "(2220, 97)\n",
            "97\n",
            "5447\n",
            "(960, 76)\n",
            "76\n",
            "5448\n",
            "(720, 63)\n",
            "63\n",
            "5449\n",
            "(864, 116)\n",
            "116\n",
            "5450\n",
            "(432, 48)\n",
            "48\n",
            "5451\n",
            "(5250, 145)\n",
            "145\n",
            "5452\n",
            "(3096, 122)\n",
            "122\n",
            "5453\n",
            "(2970, 123)\n",
            "123\n",
            "5454\n",
            "(2664, 110)\n"
          ],
          "name": "stdout"
        },
        {
          "output_type": "stream",
          "text": [
            "\n",
            "\n",
            " 85%|████████▌ | 2978/3486 [12:48<00:18, 26.94it/s]\u001b[A\u001b[A\n",
            "\n",
            " 86%|████████▌ | 2984/3486 [12:48<00:16, 29.71it/s]\u001b[A\u001b[A"
          ],
          "name": "stderr"
        },
        {
          "output_type": "stream",
          "text": [
            "110\n",
            "5455\n",
            "(990, 73)\n",
            "73\n",
            "5456\n",
            "(720, 56)\n",
            "56\n",
            "5457\n",
            "(630, 59)\n",
            "59\n",
            "5458\n",
            "(456, 43)\n",
            "43\n",
            "5459\n",
            "(684, 55)\n",
            "55\n",
            "5460\n",
            "(756, 57)\n",
            "57\n",
            "5461\n",
            "(720, 56)\n",
            "56\n",
            "5462\n",
            "(1944, 143)\n",
            "143\n",
            "5464\n",
            "(792, 83)\n",
            "83\n",
            "5465\n",
            "(7200, 170)\n",
            "170\n",
            "5466\n",
            "(1728, 84)\n",
            "84\n",
            "5467\n",
            "(5265, 162)\n",
            "162\n",
            "5469\n",
            "(960, 68)\n",
            "68\n",
            "5470\n",
            "(4248, 131)\n",
            "131\n",
            "5471\n",
            "(16695, 306)\n"
          ],
          "name": "stdout"
        },
        {
          "output_type": "stream",
          "text": [
            "\n",
            "\n",
            " 86%|████████▌ | 2989/3486 [12:48<00:23, 21.33it/s]\u001b[A\u001b[A\n",
            "\n",
            " 86%|████████▌ | 2993/3486 [12:49<00:22, 21.59it/s]\u001b[A\u001b[A"
          ],
          "name": "stderr"
        },
        {
          "output_type": "stream",
          "text": [
            "306\n",
            "5472\n",
            "(3180, 113)\n",
            "113\n",
            "5473\n",
            "(1980, 93)\n",
            "93\n",
            "5474\n",
            "(6336, 212)\n",
            "212\n",
            "5475\n",
            "(6030, 157)\n",
            "157\n",
            "5476\n"
          ],
          "name": "stdout"
        },
        {
          "output_type": "stream",
          "text": [
            "\n",
            "\n",
            " 86%|████████▌ | 2997/3486 [12:49<00:20, 24.09it/s]\u001b[A\u001b[A"
          ],
          "name": "stderr"
        },
        {
          "output_type": "stream",
          "text": [
            "(4212, 153)\n",
            "153\n",
            "5478\n",
            "(2160, 96)\n",
            "96\n",
            "5479\n",
            "(792, 58)\n",
            "58\n",
            "5480\n",
            "(4068, 149)\n",
            "149\n",
            "5481\n",
            "(1836, 87)\n",
            "87\n",
            "5482\n",
            "(2100, 95)\n",
            "95\n",
            "5483\n",
            "(4512, 142)\n",
            "142\n",
            "5484\n",
            "(1650, 97)\n",
            "97"
          ],
          "name": "stdout"
        },
        {
          "output_type": "stream",
          "text": [
            "\n",
            "\n",
            " 86%|████████▌ | 3001/3486 [12:49<00:17, 27.25it/s]\u001b[A\u001b[A\n",
            "\n",
            " 86%|████████▌ | 3006/3486 [12:49<00:15, 30.99it/s]\u001b[A\u001b[A"
          ],
          "name": "stderr"
        },
        {
          "output_type": "stream",
          "text": [
            "\n",
            "5485\n",
            "(1485, 78)\n",
            "78\n",
            "5486\n",
            "(1872, 88)\n",
            "88\n",
            "5487\n",
            "(2250, 105)\n",
            "105\n",
            "5488\n",
            "(2925, 114)\n",
            "114\n",
            "5489\n",
            "(2655, 104)\n",
            "104\n",
            "5490\n",
            "(1728, 96)\n",
            "96\n",
            "5491\n",
            "(6048, 204)\n"
          ],
          "name": "stdout"
        },
        {
          "output_type": "stream",
          "text": [
            "\n",
            "\n",
            " 86%|████████▋ | 3010/3486 [12:49<00:15, 30.57it/s]\u001b[A\u001b[A\n",
            "\n",
            " 86%|████████▋ | 3014/3486 [12:49<00:16, 28.62it/s]\u001b[A\u001b[A"
          ],
          "name": "stderr"
        },
        {
          "output_type": "stream",
          "text": [
            "204\n",
            "5492\n",
            "(630, 59)\n",
            "59\n",
            "5493\n",
            "(1560, 86)\n",
            "86\n",
            "5495\n",
            "(3672, 138)\n",
            "138\n",
            "5496\n",
            "(1980, 91)\n",
            "91\n",
            "5497\n",
            "(3465, 122)\n",
            "122\n",
            "5498\n",
            "(6930, 167)\n",
            "167\n",
            "5499\n"
          ],
          "name": "stdout"
        },
        {
          "output_type": "stream",
          "text": [
            "\n",
            "\n",
            " 87%|████████▋ | 3020/3486 [12:49<00:15, 29.89it/s]\u001b[A\u001b[A"
          ],
          "name": "stderr"
        },
        {
          "output_type": "stream",
          "text": [
            "(1512, 78)\n",
            "78\n",
            "5500\n",
            "(576, 52)\n",
            "52\n",
            "5501\n",
            "(1332, 73)\n",
            "73\n",
            "5502\n",
            "(504, 50)\n",
            "50\n",
            "5503\n",
            "(792, 58)\n",
            "58\n",
            "5504\n",
            "(8352, 268)\n",
            "268\n",
            "5505\n",
            "(5184, 180)\n"
          ],
          "name": "stdout"
        },
        {
          "output_type": "stream",
          "text": [
            "\n",
            "\n",
            " 87%|████████▋ | 3024/3486 [12:50<00:17, 26.35it/s]\u001b[A\u001b[A"
          ],
          "name": "stderr"
        },
        {
          "output_type": "stream",
          "text": [
            "180\n",
            "5506\n",
            "(2700, 120)\n",
            "120\n",
            "5507\n",
            "(936, 62)\n",
            "62\n",
            "5508\n",
            "(7128, 234)\n",
            "234\n",
            "5509\n",
            "(12888, 394)\n"
          ],
          "name": "stdout"
        },
        {
          "output_type": "stream",
          "text": [
            "\n",
            "\n",
            " 87%|████████▋ | 3027/3486 [12:50<00:27, 16.68it/s]\u001b[A\u001b[A"
          ],
          "name": "stderr"
        },
        {
          "output_type": "stream",
          "text": [
            "394\n",
            "5510\n",
            "(792, 58)\n",
            "58\n",
            "5511\n",
            "(3852, 143)\n",
            "143\n",
            "5512\n",
            "(4104, 150)\n",
            "150\n",
            "5513\n",
            "(288, 44)\n",
            "44\n",
            "5514\n",
            "(1080, 66)\n",
            "66\n",
            "5515\n",
            "(1260, 71)\n",
            "71\n",
            "5516\n",
            "(25992, 758)\n"
          ],
          "name": "stdout"
        },
        {
          "output_type": "stream",
          "text": [
            "\n",
            "\n",
            " 87%|████████▋ | 3032/3486 [12:51<00:58,  7.79it/s]\u001b[A\u001b[A"
          ],
          "name": "stderr"
        },
        {
          "output_type": "stream",
          "text": [
            "758\n",
            "5517\n",
            "(11376, 352)\n",
            "352\n",
            "5518\n",
            "(205812, 2119)\n"
          ],
          "name": "stdout"
        },
        {
          "output_type": "stream",
          "text": [
            "\n",
            "\n",
            " 87%|████████▋ | 3032/3486 [13:02<00:58,  7.79it/s]\u001b[A\u001b[A\n",
            "\n",
            " 87%|████████▋ | 3034/3486 [13:26<39:23,  5.23s/it]\u001b[A\u001b[A\n",
            "\n",
            " 87%|████████▋ | 3039/3486 [13:26<27:18,  3.67s/it]\u001b[A\u001b[A"
          ],
          "name": "stderr"
        },
        {
          "output_type": "stream",
          "text": [
            "2119\n",
            "5521\n",
            "(945, 66)\n",
            "66\n",
            "5522\n",
            "(3525, 122)\n",
            "122\n",
            "5523\n",
            "(3285, 118)\n",
            "118\n",
            "5524\n",
            "(540, 57)\n",
            "57\n",
            "5526\n",
            "(1656, 95)\n",
            "95\n",
            "5527\n",
            "(450, 55)"
          ],
          "name": "stdout"
        },
        {
          "output_type": "stream",
          "text": [
            "\n",
            "\n",
            " 87%|████████▋ | 3043/3486 [13:26<19:01,  2.58s/it]\u001b[A\u001b[A"
          ],
          "name": "stderr"
        },
        {
          "output_type": "stream",
          "text": [
            "\n",
            "55\n",
            "5528\n",
            "(2916, 117)\n",
            "117\n",
            "5529\n",
            "(975, 64)\n",
            "64\n",
            "5530\n",
            "(6012, 203)\n",
            "203\n",
            "5531\n",
            "(195, 44)\n",
            "44\n",
            "5532\n",
            "(312, 47)\n",
            "47\n",
            "5533\n",
            "(3150, 125)\n",
            "125\n",
            "5534\n",
            "(5760, 196)\n"
          ],
          "name": "stdout"
        },
        {
          "output_type": "stream",
          "text": [
            "\n",
            "\n",
            " 87%|████████▋ | 3047/3486 [13:26<13:15,  1.81s/it]\u001b[A\u001b[A\n",
            "\n",
            " 88%|████████▊ | 3051/3486 [13:26<09:15,  1.28s/it]\u001b[A\u001b[A"
          ],
          "name": "stderr"
        },
        {
          "output_type": "stream",
          "text": [
            "196\n",
            "5535\n",
            "(1116, 67)\n",
            "67\n",
            "5536\n",
            "(1656, 82)\n",
            "82\n",
            "5537\n",
            "(1890, 87)\n",
            "87\n",
            "5538\n",
            "(5940, 156)\n",
            "156\n",
            "5539\n",
            "(1656, 95)\n",
            "95\n",
            "5540\n",
            "(324, 45)\n",
            "45\n",
            "5541\n",
            "(576, 52)\n",
            "52\n",
            "5542\n",
            "(1152, 68)\n",
            "68\n",
            "5543\n",
            "(1044, 65)\n",
            "65\n",
            "5544\n",
            "(1215, 72)\n",
            "72\n",
            "5545\n"
          ],
          "name": "stdout"
        },
        {
          "output_type": "stream",
          "text": [
            "\n",
            "\n",
            " 88%|████████▊ | 3058/3486 [13:26<06:25,  1.11it/s]\u001b[A\u001b[A"
          ],
          "name": "stderr"
        },
        {
          "output_type": "stream",
          "text": [
            "(6396, 203)\n",
            "203\n",
            "5546\n",
            "(5544, 174)\n",
            "174\n",
            "5547\n",
            "(2628, 109)\n",
            "109\n",
            "5548\n",
            "(2088, 94)\n",
            "94\n",
            "5549\n"
          ],
          "name": "stdout"
        },
        {
          "output_type": "stream",
          "text": [
            "\n",
            "\n",
            " 88%|████████▊ | 3062/3486 [13:26<04:36,  1.54it/s]\u001b[A\u001b[A"
          ],
          "name": "stderr"
        },
        {
          "output_type": "stream",
          "text": [
            "(11214, 309)\n",
            "309\n",
            "5550\n",
            "(4608, 304)\n"
          ],
          "name": "stdout"
        },
        {
          "output_type": "stream",
          "text": [
            "\n",
            "\n",
            " 88%|████████▊ | 3065/3486 [13:27<03:17,  2.13it/s]\u001b[A\u001b[A"
          ],
          "name": "stderr"
        },
        {
          "output_type": "stream",
          "text": [
            "304\n",
            "5551\n",
            "(1125, 90)\n",
            "90\n",
            "5552\n",
            "(2016, 100)\n",
            "100\n",
            "5553\n",
            "(33156, 817)\n",
            "817\n",
            "5554\n",
            "(31797, 797)\n"
          ],
          "name": "stdout"
        },
        {
          "output_type": "stream",
          "text": [
            "\n",
            "\n",
            " 88%|████████▊ | 3068/3486 [13:30<04:57,  1.40it/s]\u001b[A\u001b[A"
          ],
          "name": "stderr"
        },
        {
          "output_type": "stream",
          "text": [
            "797\n",
            "5555\n",
            "(5310, 149)\n",
            "149\n",
            "5556\n",
            "(9315, 252)\n",
            "252\n",
            "5557\n"
          ],
          "name": "stdout"
        },
        {
          "output_type": "stream",
          "text": [
            "\n",
            "\n",
            " 88%|████████▊ | 3070/3486 [13:31<03:43,  1.86it/s]\u001b[A\u001b[A"
          ],
          "name": "stderr"
        },
        {
          "output_type": "stream",
          "text": [
            "(9945, 266)\n",
            "266\n",
            "5558\n",
            "(2772, 113)\n",
            "113\n",
            "5559\n",
            "(7524, 245)\n"
          ],
          "name": "stdout"
        },
        {
          "output_type": "stream",
          "text": [
            "\n",
            "\n",
            " 88%|████████▊ | 3072/3486 [13:31<02:45,  2.51it/s]\u001b[A\u001b[A\n",
            "\n",
            " 88%|████████▊ | 3074/3486 [13:31<02:03,  3.32it/s]\u001b[A\u001b[A"
          ],
          "name": "stderr"
        },
        {
          "output_type": "stream",
          "text": [
            "245\n",
            "5563\n",
            "(6048, 204)\n",
            "204\n",
            "5564\n",
            "(3960, 202)\n",
            "202\n",
            "5565\n",
            "(3180, 113)\n",
            "113\n",
            "5567\n",
            "(2160, 102)\n"
          ],
          "name": "stdout"
        },
        {
          "output_type": "stream",
          "text": [
            "\n",
            "\n",
            " 88%|████████▊ | 3078/3486 [13:31<01:29,  4.57it/s]\u001b[A\u001b[A\n",
            "\n",
            " 88%|████████▊ | 3082/3486 [13:31<01:05,  6.19it/s]\u001b[A\u001b[A"
          ],
          "name": "stderr"
        },
        {
          "output_type": "stream",
          "text": [
            "102\n",
            "5568\n",
            "(1116, 67)\n",
            "67\n",
            "5569\n",
            "(3780, 141)\n",
            "141\n",
            "5570\n",
            "(504, 50)\n",
            "50\n",
            "5571\n",
            "(2850, 113)\n",
            "113\n",
            "5572\n",
            "(5418, 171)\n",
            "171\n",
            "5573\n",
            "(1656, 95)\n",
            "95\n",
            "5574\n",
            "(780, 73)\n",
            "73\n",
            "5575\n",
            "(1296, 90)\n",
            "90\n",
            "5576\n"
          ],
          "name": "stdout"
        },
        {
          "output_type": "stream",
          "text": [
            "\n",
            "\n",
            " 89%|████████▊ | 3089/3486 [13:31<00:46,  8.48it/s]\u001b[A\u001b[A"
          ],
          "name": "stderr"
        },
        {
          "output_type": "stream",
          "text": [
            "(1680, 88)\n",
            "88\n",
            "5577\n",
            "(1368, 74)\n",
            "74\n",
            "5578\n",
            "(792, 58)\n",
            "58\n",
            "5579\n",
            "(819, 60)\n",
            "60\n",
            "5582\n",
            "(2808, 111)\n",
            "111\n",
            "5583\n",
            "(468, 49)\n",
            "49\n",
            "5584\n",
            "(576, 52)\n",
            "52\n",
            "5585\n",
            "(6012, 303)\n"
          ],
          "name": "stdout"
        },
        {
          "output_type": "stream",
          "text": [
            "\n",
            "\n",
            " 89%|████████▊ | 3093/3486 [13:32<00:38, 10.19it/s]\u001b[A\u001b[A"
          ],
          "name": "stderr"
        },
        {
          "output_type": "stream",
          "text": [
            "303\n",
            "5586\n",
            "(4128, 240)\n",
            "240\n",
            "5587\n",
            "(2484, 105)\n",
            "105\n",
            "5588\n",
            "(2556, 107)\n",
            "107\n",
            "5589\n",
            "(1056, 70)\n",
            "70\n",
            "5590\n",
            "(540, 51)\n",
            "51\n",
            "5591\n",
            "(9936, 312)\n"
          ],
          "name": "stdout"
        },
        {
          "output_type": "stream",
          "text": [
            "\n",
            "\n",
            " 89%|████████▉ | 3098/3486 [13:32<00:32, 11.98it/s]\u001b[A\u001b[A"
          ],
          "name": "stderr"
        },
        {
          "output_type": "stream",
          "text": [
            "312\n",
            "5592\n",
            "(3420, 199)\n",
            "199\n",
            "5593\n",
            "(828, 59)\n",
            "59\n",
            "5594\n",
            "(21195, 516)\n"
          ],
          "name": "stdout"
        },
        {
          "output_type": "stream",
          "text": [
            "\n",
            "\n",
            " 89%|████████▉ | 3101/3486 [13:32<00:47,  8.05it/s]\u001b[A\u001b[A\n",
            "\n",
            " 89%|████████▉ | 3107/3486 [13:33<00:34, 10.86it/s]\u001b[A\u001b[A"
          ],
          "name": "stderr"
        },
        {
          "output_type": "stream",
          "text": [
            "516\n",
            "5597\n",
            "(504, 50)\n",
            "50\n",
            "5598\n",
            "(3393, 126)\n",
            "126\n",
            "5599\n",
            "(840, 74)\n",
            "74\n",
            "5600\n",
            "(1620, 87)\n",
            "87\n",
            "5601\n",
            "(720, 56)\n",
            "56\n",
            "5602\n",
            "(2052, 93)\n",
            "93\n",
            "5603\n",
            "(3744, 140)\n",
            "140\n",
            "5604\n",
            "(2196, 97)\n",
            "97\n",
            "5605\n",
            "(2340, 101)\n"
          ],
          "name": "stdout"
        },
        {
          "output_type": "stream",
          "text": [
            "\n",
            "\n",
            " 89%|████████▉ | 3111/3486 [13:33<00:27, 13.49it/s]\u001b[A\u001b[A\n",
            "\n",
            " 89%|████████▉ | 3116/3486 [13:33<00:21, 16.87it/s]\u001b[A\u001b[A"
          ],
          "name": "stderr"
        },
        {
          "output_type": "stream",
          "text": [
            "101\n",
            "5606\n",
            "(3528, 134)\n",
            "134\n",
            "5607\n",
            "(1080, 78)\n",
            "78\n",
            "5608\n",
            "(792, 58)\n",
            "58\n",
            "5609\n",
            "(360, 46)\n",
            "46\n",
            "5610\n",
            "(3168, 124)\n",
            "124\n",
            "5611\n",
            "(4641, 158)\n",
            "158\n",
            "5613\n",
            "(1044, 65)\n",
            "65\n",
            "5614\n",
            "(1116, 67)\n",
            "67\n",
            "5615\n",
            "(3384, 130)\n",
            "130\n",
            "5616\n",
            "(12060, 371)\n"
          ],
          "name": "stdout"
        },
        {
          "output_type": "stream",
          "text": [
            "\n",
            "\n",
            " 90%|████████▉ | 3120/3486 [13:33<00:24, 15.25it/s]\u001b[A\u001b[A"
          ],
          "name": "stderr"
        },
        {
          "output_type": "stream",
          "text": [
            "371\n",
            "5617\n",
            "(1116, 67)\n",
            "67\n",
            "5618\n",
            "(12888, 394)\n"
          ],
          "name": "stdout"
        },
        {
          "output_type": "stream",
          "text": [
            "\n",
            "\n",
            " 90%|████████▉ | 3123/3486 [13:34<00:32, 11.31it/s]\u001b[A\u001b[A\n",
            "\n",
            " 90%|████████▉ | 3126/3486 [13:34<00:26, 13.50it/s]\u001b[A\u001b[A"
          ],
          "name": "stderr"
        },
        {
          "output_type": "stream",
          "text": [
            "394\n",
            "5621\n",
            "(5544, 190)\n",
            "190\n",
            "5622\n",
            "(6264, 210)\n",
            "210\n",
            "5623\n",
            "(3852, 143)\n",
            "143\n",
            "5624\n",
            "(252, 43)\n",
            "43\n",
            "5625"
          ],
          "name": "stdout"
        },
        {
          "output_type": "stream",
          "text": [
            "\n",
            "\n",
            " 90%|████████▉ | 3130/3486 [13:34<00:21, 16.83it/s]\u001b[A\u001b[A"
          ],
          "name": "stderr"
        },
        {
          "output_type": "stream",
          "text": [
            "\n",
            "(612, 53)\n",
            "53\n",
            "5626\n",
            "(360, 46)\n",
            "46\n",
            "5627\n",
            "(756, 57)\n",
            "57\n",
            "5628\n",
            "(5676, 173)\n",
            "173\n",
            "5629\n",
            "(8748, 279)\n"
          ],
          "name": "stdout"
        },
        {
          "output_type": "stream",
          "text": [
            "\n",
            "\n",
            " 90%|████████▉ | 3133/3486 [13:34<00:20, 17.49it/s]\u001b[A\u001b[A\n",
            "\n",
            " 90%|█████████ | 3140/3486 [13:34<00:15, 22.49it/s]\u001b[A\u001b[A"
          ],
          "name": "stderr"
        },
        {
          "output_type": "stream",
          "text": [
            "279\n",
            "5630\n",
            "(576, 52)\n",
            "52\n",
            "5631\n",
            "(288, 44)\n",
            "44\n",
            "5632\n",
            "(2040, 94)\n",
            "94\n",
            "5633\n",
            "(600, 83)\n",
            "83\n",
            "5634\n",
            "(2520, 102)\n",
            "102\n",
            "5635\n",
            "(1800, 110)\n",
            "110\n",
            "5636\n",
            "(432, 48)\n",
            "48\n",
            "5637\n",
            "(432, 48)\n",
            "48\n",
            "5638\n",
            "(741, 58)\n",
            "58\n",
            "5639\n",
            "(195, 44)\n",
            "44\n",
            "5641\n",
            "(7920, 256)\n"
          ],
          "name": "stdout"
        },
        {
          "output_type": "stream",
          "text": [
            "\n",
            "\n",
            " 90%|█████████ | 3144/3486 [13:34<00:16, 20.16it/s]\u001b[A\u001b[A"
          ],
          "name": "stderr"
        },
        {
          "output_type": "stream",
          "text": [
            "256\n",
            "5642\n",
            "(6912, 228)\n",
            "228\n",
            "5643\n",
            "(3672, 138)\n",
            "138\n",
            "5644\n",
            "(6300, 159)\n",
            "159\n",
            "5645\n"
          ],
          "name": "stdout"
        },
        {
          "output_type": "stream",
          "text": [
            "\n",
            "\n",
            " 90%|█████████ | 3148/3486 [13:34<00:16, 20.95it/s]\u001b[A\u001b[A"
          ],
          "name": "stderr"
        },
        {
          "output_type": "stream",
          "text": [
            "(4956, 160)\n",
            "160\n",
            "5647\n",
            "(4392, 158)\n",
            "158\n",
            "5648\n",
            "(1080, 66)\n",
            "66\n",
            "5649\n",
            "(5760, 154)\n",
            "154\n",
            "5650\n",
            "(3825, 130)\n",
            "130\n",
            "5651\n"
          ],
          "name": "stdout"
        },
        {
          "output_type": "stream",
          "text": [
            "\n",
            "\n",
            " 90%|█████████ | 3151/3486 [13:35<00:18, 18.13it/s]\u001b[A\u001b[A\n",
            "\n",
            " 91%|█████████ | 3156/3486 [13:35<00:15, 21.99it/s]"
          ],
          "name": "stderr"
        },
        {
          "output_type": "stream",
          "text": [
            "(8568, 274)\n",
            "274\n",
            "5652\n",
            "(1368, 74)\n",
            "74\n",
            "5653\n",
            "(2886, 115)\n",
            "115\n",
            "5654\n",
            "(1092, 67)\n",
            "67\n",
            "5655\n",
            "(702, 57)\n",
            "57\n",
            "5656\n",
            "(5490, 151)\n",
            "151\n"
          ],
          "name": "stdout"
        },
        {
          "output_type": "stream",
          "text": [
            "\u001b[A\u001b[A\n",
            "\n",
            " 91%|█████████ | 3161/3486 [13:35<00:12, 26.37it/s]\u001b[A\u001b[A"
          ],
          "name": "stderr"
        },
        {
          "output_type": "stream",
          "text": [
            "5657\n",
            "(1575, 80)\n",
            "80\n",
            "5658\n",
            "(1656, 95)\n",
            "95\n",
            "5659\n",
            "(2448, 104)\n",
            "104\n",
            "5660\n",
            "(1080, 186)\n",
            "186\n",
            "5661\n",
            "(1575, 96)\n",
            "96\n",
            "5663\n",
            "(8784, 280)\n"
          ],
          "name": "stdout"
        },
        {
          "output_type": "stream",
          "text": [
            "\n",
            "\n",
            " 91%|█████████ | 3165/3486 [13:35<00:13, 24.31it/s]\u001b[A\u001b[A"
          ],
          "name": "stderr"
        },
        {
          "output_type": "stream",
          "text": [
            "280\n",
            "5665\n",
            "(600, 83)\n",
            "83\n",
            "5666\n",
            "(1080, 102)\n",
            "102\n",
            "5667\n",
            "(1350, 75)\n",
            "75\n",
            "5668\n",
            "(900, 61)\n",
            "61\n",
            "5669\n",
            "(5625, 150)\n",
            "150\n",
            "5671\n",
            "(2160, 96)\n",
            "96\n",
            "5672\n",
            "(14616, 442)\n"
          ],
          "name": "stdout"
        },
        {
          "output_type": "stream",
          "text": [
            "\n",
            "\n",
            " 91%|█████████ | 3169/3486 [13:36<00:20, 15.44it/s]\u001b[A\u001b[A"
          ],
          "name": "stderr"
        },
        {
          "output_type": "stream",
          "text": [
            "442\n",
            "5674\n",
            "(1320, 82)\n",
            "82\n",
            "5675\n",
            "(9216, 292)\n",
            "292\n",
            "5676\n"
          ],
          "name": "stdout"
        },
        {
          "output_type": "stream",
          "text": [
            "\n",
            "\n",
            " 91%|█████████ | 3172/3486 [13:36<00:23, 13.51it/s]\u001b[A\u001b[A"
          ],
          "name": "stderr"
        },
        {
          "output_type": "stream",
          "text": [
            "(9675, 260)\n",
            "260\n",
            "5677\n",
            "(2160, 96)\n",
            "96\n",
            "5678\n",
            "(810, 63)\n",
            "63\n",
            "5679\n",
            "(720, 61)\n",
            "61\n",
            "5680\n",
            "(612, 53)\n",
            "53\n",
            "5681\n",
            "(3780, 141)\n",
            "141\n",
            "5683\n",
            "(2808, 114)\n"
          ],
          "name": "stdout"
        },
        {
          "output_type": "stream",
          "text": [
            "\n",
            "\n",
            " 91%|█████████ | 3178/3486 [13:36<00:17, 17.17it/s]\u001b[A\u001b[A"
          ],
          "name": "stderr"
        },
        {
          "output_type": "stream",
          "text": [
            "114\n",
            "5684\n",
            "(2880, 116)\n",
            "116\n",
            "5685\n",
            "(1152, 68)\n",
            "68\n",
            "5686\n",
            "(1296, 72)\n",
            "72\n",
            "5687\n",
            "(540, 57)\n",
            "57\n",
            "5688\n",
            "(396, 47)\n",
            "47\n",
            "5689\n",
            "(77616, 1185)\n"
          ],
          "name": "stdout"
        },
        {
          "output_type": "stream",
          "text": [
            "\n",
            "\n",
            " 91%|█████████▏| 3184/3486 [13:42<01:46,  2.84it/s]\u001b[A\u001b[A\n",
            "\n",
            " 91%|█████████▏| 3189/3486 [13:42<01:15,  3.93it/s]\u001b[A\u001b[A"
          ],
          "name": "stderr"
        },
        {
          "output_type": "stream",
          "text": [
            "1185\n",
            "5690\n",
            "(1296, 90)\n",
            "90\n",
            "5691\n",
            "(288, 44)\n",
            "44\n",
            "5692\n",
            "(2520, 106)\n",
            "106\n",
            "5693\n",
            "(1584, 80)\n",
            "80\n",
            "5696\n",
            "(6336, 212)\n",
            "212\n",
            "5697\n",
            "(12744, 390)\n",
            "390\n",
            "5698\n",
            "(11664, 360)\n",
            "360\n",
            "5699\n",
            "(12816, 392)\n"
          ],
          "name": "stdout"
        },
        {
          "output_type": "stream",
          "text": [
            "\n",
            "\n",
            " 92%|█████████▏| 3192/3486 [13:43<01:16,  3.85it/s]\u001b[A\u001b[A"
          ],
          "name": "stderr"
        },
        {
          "output_type": "stream",
          "text": [
            "392\n",
            "5700\n",
            "(9684, 305)\n",
            "305\n",
            "5701\n",
            "(12996, 397)\n"
          ],
          "name": "stdout"
        },
        {
          "output_type": "stream",
          "text": [
            "\n",
            "\n",
            " 92%|█████████▏| 3194/3486 [13:44<01:13,  3.99it/s]\u001b[A\u001b[A"
          ],
          "name": "stderr"
        },
        {
          "output_type": "stream",
          "text": [
            "397\n",
            "5702\n",
            "(10980, 341)\n",
            "341\n",
            "5703\n",
            "(11508, 356)\n"
          ],
          "name": "stdout"
        },
        {
          "output_type": "stream",
          "text": [
            "\n",
            "\n",
            " 92%|█████████▏| 3196/3486 [13:44<01:10,  4.14it/s]\u001b[A\u001b[A"
          ],
          "name": "stderr"
        },
        {
          "output_type": "stream",
          "text": [
            "356\n",
            "5704\n",
            "(9108, 289)\n"
          ],
          "name": "stdout"
        },
        {
          "output_type": "stream",
          "text": [
            "\n",
            "\n",
            " 92%|█████████▏| 3198/3486 [13:44<00:59,  4.84it/s]\u001b[A\u001b[A"
          ],
          "name": "stderr"
        },
        {
          "output_type": "stream",
          "text": [
            "289\n",
            "5709\n",
            "(2196, 195)\n",
            "195\n",
            "5717\n",
            "(585, 58)\n",
            "58\n",
            "5718\n",
            "(31392, 908)\n"
          ],
          "name": "stdout"
        },
        {
          "output_type": "stream",
          "text": [
            "\n",
            "\n",
            " 92%|█████████▏| 3200/3486 [13:46<01:55,  2.47it/s]\u001b[A\u001b[A\n",
            "\n",
            " 92%|█████████▏| 3204/3486 [13:46<01:22,  3.43it/s]\u001b[A\u001b[A"
          ],
          "name": "stderr"
        },
        {
          "output_type": "stream",
          "text": [
            "908\n",
            "5720\n",
            "(900, 75)\n",
            "75\n",
            "5721\n",
            "(2880, 122)\n",
            "122\n",
            "5722\n",
            "(4032, 148)\n",
            "148\n",
            "5723\n",
            "(912, 67)\n",
            "67\n",
            "5724\n",
            "(2844, 115)\n",
            "115\n",
            "5725\n",
            "(23112, 678)\n"
          ],
          "name": "stdout"
        },
        {
          "output_type": "stream",
          "text": [
            "\n",
            "\n",
            " 92%|█████████▏| 3206/3486 [13:47<01:37,  2.88it/s]\u001b[A\u001b[A"
          ],
          "name": "stderr"
        },
        {
          "output_type": "stream",
          "text": [
            "678\n",
            "5726\n",
            "(1116, 67)\n",
            "67\n",
            "5727\n",
            "(21852, 643)\n"
          ],
          "name": "stdout"
        },
        {
          "output_type": "stream",
          "text": [
            "\n",
            "\n",
            " 92%|█████████▏| 3208/3486 [13:48<01:42,  2.72it/s]\u001b[A\u001b[A"
          ],
          "name": "stderr"
        },
        {
          "output_type": "stream",
          "text": [
            "643\n",
            "5728\n",
            "(17100, 511)\n"
          ],
          "name": "stdout"
        },
        {
          "output_type": "stream",
          "text": [
            "\n",
            "\n",
            " 92%|█████████▏| 3209/3486 [13:48<01:55,  2.40it/s]\u001b[A\u001b[A"
          ],
          "name": "stderr"
        },
        {
          "output_type": "stream",
          "text": [
            "511\n",
            "5729\n",
            "(18144, 540)\n"
          ],
          "name": "stdout"
        },
        {
          "output_type": "stream",
          "text": [
            "\n",
            "\n",
            " 92%|█████████▏| 3210/3486 [13:49<02:03,  2.24it/s]\u001b[A\u001b[A\n",
            "\n",
            " 92%|█████████▏| 3212/3486 [13:49<01:31,  3.01it/s]\u001b[A\u001b[A"
          ],
          "name": "stderr"
        },
        {
          "output_type": "stream",
          "text": [
            "540\n",
            "5735\n",
            "(5688, 194)\n",
            "194\n",
            "5737\n",
            "(5724, 195)\n",
            "195\n",
            "5739\n",
            "(392, 63)\n",
            "63\n",
            "5740\n",
            "(9000, 286)\n"
          ],
          "name": "stdout"
        },
        {
          "output_type": "stream",
          "text": [
            "\n",
            "\n",
            " 92%|█████████▏| 3214/3486 [13:49<01:09,  3.90it/s]\u001b[A\u001b[A\n",
            "\n",
            " 92%|█████████▏| 3215/3486 [13:49<00:57,  4.70it/s]\u001b[A\u001b[A"
          ],
          "name": "stderr"
        },
        {
          "output_type": "stream",
          "text": [
            "286\n",
            "5741\n",
            "(7524, 245)\n",
            "245\n",
            "5742\n",
            "(576, 52)\n",
            "52\n",
            "5743\n",
            "(1044, 65)\n",
            "65\n",
            "5744\n",
            "(11376, 352)\n"
          ],
          "name": "stdout"
        },
        {
          "output_type": "stream",
          "text": [
            "\n",
            "\n",
            " 92%|█████████▏| 3218/3486 [13:50<00:46,  5.80it/s]\u001b[A\u001b[A"
          ],
          "name": "stderr"
        },
        {
          "output_type": "stream",
          "text": [
            "352\n",
            "5745\n",
            "(3852, 143)\n",
            "143\n",
            "5748\n",
            "(576, 60)\n",
            "60\n",
            "5749\n",
            "(90, 33)\n",
            "33\n",
            "5750\n",
            "(1650, 97)\n",
            "97\n",
            "5751\n",
            "(43848, 1254)\n"
          ],
          "name": "stdout"
        },
        {
          "output_type": "stream",
          "text": [
            "\n",
            "\n",
            " 92%|█████████▏| 3223/3486 [13:53<01:24,  3.12it/s]\u001b[A\u001b[A"
          ],
          "name": "stderr"
        },
        {
          "output_type": "stream",
          "text": [
            "1254\n",
            "5752\n",
            "(34668, 999)\n"
          ],
          "name": "stdout"
        },
        {
          "output_type": "stream",
          "text": [
            "\n",
            "\n",
            " 92%|█████████▏| 3224/3486 [13:55<03:58,  1.10it/s]\u001b[A\u001b[A"
          ],
          "name": "stderr"
        },
        {
          "output_type": "stream",
          "text": [
            "999\n",
            "5756\n",
            "(21384, 630)\n"
          ],
          "name": "stdout"
        },
        {
          "output_type": "stream",
          "text": [
            "\n",
            "\n",
            " 93%|█████████▎| 3225/3486 [13:56<03:52,  1.12it/s]\u001b[A\u001b[A"
          ],
          "name": "stderr"
        },
        {
          "output_type": "stream",
          "text": [
            "630\n",
            "5757\n",
            "(42288, 929)\n"
          ],
          "name": "stdout"
        },
        {
          "output_type": "stream",
          "text": [
            "\n",
            "\n",
            " 93%|█████████▎| 3226/3486 [13:59<06:00,  1.39s/it]\u001b[A\u001b[A"
          ],
          "name": "stderr"
        },
        {
          "output_type": "stream",
          "text": [
            "929\n",
            "5760\n",
            "(155628, 2074)\n"
          ],
          "name": "stdout"
        },
        {
          "output_type": "stream",
          "text": [
            "\n",
            "\n",
            " 93%|█████████▎| 3227/3486 [14:24<36:31,  8.46s/it]\u001b[A\u001b[A"
          ],
          "name": "stderr"
        },
        {
          "output_type": "stream",
          "text": [
            "2074\n",
            "5761\n",
            "(18180, 541)\n"
          ],
          "name": "stdout"
        },
        {
          "output_type": "stream",
          "text": [
            "\n",
            "\n",
            " 93%|█████████▎| 3228/3486 [14:24<26:08,  6.08s/it]\u001b[A\u001b[A"
          ],
          "name": "stderr"
        },
        {
          "output_type": "stream",
          "text": [
            "541\n",
            "5762\n",
            "(585, 58)\n",
            "58\n",
            "5763\n",
            "(1404, 75)\n",
            "75\n",
            "5764\n",
            "(10188, 319)\n"
          ],
          "name": "stdout"
        },
        {
          "output_type": "stream",
          "text": [
            "\n",
            "\n",
            " 93%|█████████▎| 3231/3486 [14:24<18:10,  4.28s/it]\u001b[A\u001b[A\n",
            "\n",
            " 93%|█████████▎| 3232/3486 [14:24<12:48,  3.03s/it]\u001b[A\u001b[A"
          ],
          "name": "stderr"
        },
        {
          "output_type": "stream",
          "text": [
            "319\n",
            "5765\n",
            "(7452, 243)\n",
            "243\n",
            "5766\n",
            "(10620, 331)\n"
          ],
          "name": "stdout"
        },
        {
          "output_type": "stream",
          "text": [
            "\n",
            "\n",
            " 93%|█████████▎| 3233/3486 [14:25<09:11,  2.18s/it]\u001b[A\u001b[A\n",
            "\n",
            " 93%|█████████▎| 3234/3486 [14:25<06:38,  1.58s/it]\u001b[A\u001b[A"
          ],
          "name": "stderr"
        },
        {
          "output_type": "stream",
          "text": [
            "331\n",
            "5767\n",
            "(9756, 307)\n",
            "307\n",
            "5768\n",
            "(2376, 102)"
          ],
          "name": "stdout"
        },
        {
          "output_type": "stream",
          "text": [
            "\n",
            "\n",
            " 93%|█████████▎| 3236/3486 [14:25<04:40,  1.12s/it]\u001b[A\u001b[A"
          ],
          "name": "stderr"
        },
        {
          "output_type": "stream",
          "text": [
            "\n",
            "102\n",
            "5769\n",
            "(6048, 204)\n",
            "204\n",
            "5770\n",
            "(13860, 421)\n"
          ],
          "name": "stdout"
        },
        {
          "output_type": "stream",
          "text": [
            "\n",
            "\n",
            " 93%|█████████▎| 3237/3486 [14:25<03:42,  1.12it/s]\u001b[A\u001b[A\n",
            "\n",
            " 93%|█████████▎| 3239/3486 [14:25<02:38,  1.56it/s]\u001b[A\u001b[A"
          ],
          "name": "stderr"
        },
        {
          "output_type": "stream",
          "text": [
            "421\n",
            "5771\n",
            "(6696, 222)\n",
            "222\n",
            "5772\n",
            "(2844, 115)\n",
            "115\n",
            "5773\n",
            "(2700, 111)\n",
            "111\n",
            "5774\n",
            "(6930, 199)\n"
          ],
          "name": "stdout"
        },
        {
          "output_type": "stream",
          "text": [
            "\n",
            "\n",
            " 93%|█████████▎| 3241/3486 [14:26<01:54,  2.14it/s]\u001b[A\u001b[A\n",
            "\n",
            " 93%|█████████▎| 3244/3486 [14:26<01:22,  2.95it/s]\u001b[A\u001b[A"
          ],
          "name": "stderr"
        },
        {
          "output_type": "stream",
          "text": [
            "199\n",
            "5775\n",
            "(6600, 163)\n",
            "163\n",
            "5776\n",
            "(2376, 102)\n",
            "102\n",
            "5777\n",
            "(3555, 124)\n",
            "124\n",
            "5778\n",
            "(4560, 136)\n",
            "136\n",
            "5779\n",
            "(4284, 155)\n"
          ],
          "name": "stdout"
        },
        {
          "output_type": "stream",
          "text": [
            "\n",
            "\n",
            " 93%|█████████▎| 3247/3486 [14:26<01:00,  3.93it/s]\u001b[A\u001b[A"
          ],
          "name": "stderr"
        },
        {
          "output_type": "stream",
          "text": [
            "155\n",
            "5780\n",
            "(5904, 200)\n",
            "200\n",
            "5781\n",
            "(5550, 149)\n",
            "149\n",
            "5782\n",
            "(468, 49)\n",
            "49\n",
            "5783\n",
            "(2088, 94)\n",
            "94\n",
            "5784\n",
            "(6300, 211)\n"
          ],
          "name": "stdout"
        },
        {
          "output_type": "stream",
          "text": [
            "\n",
            "\n",
            " 93%|█████████▎| 3251/3486 [14:26<00:44,  5.23it/s]\u001b[A\u001b[A"
          ],
          "name": "stderr"
        },
        {
          "output_type": "stream",
          "text": [
            "211\n",
            "5785\n",
            "(7524, 245)\n",
            "245\n",
            "5786\n",
            "(7452, 243)\n"
          ],
          "name": "stdout"
        },
        {
          "output_type": "stream",
          "text": [
            "\n",
            "\n",
            " 93%|█████████▎| 3253/3486 [14:26<00:40,  5.70it/s]\u001b[A\u001b[A\n",
            "\n",
            " 93%|█████████▎| 3258/3486 [14:26<00:29,  7.75it/s]\u001b[A\u001b[A"
          ],
          "name": "stderr"
        },
        {
          "output_type": "stream",
          "text": [
            "243\n",
            "5788\n",
            "(2880, 112)\n",
            "112\n",
            "5789\n",
            "(800, 60)\n",
            "60\n",
            "5790\n",
            "(2520, 106)\n",
            "106\n",
            "5791\n",
            "(720, 72)\n",
            "72\n",
            "5792\n",
            "(2520, 107)\n",
            "107\n",
            "5794\n",
            "(3780, 141)\n",
            "141\n",
            "5795\n",
            "(5880, 158)\n",
            "158\n",
            "5796\n",
            "(11856, 343)\n",
            "343\n"
          ],
          "name": "stdout"
        },
        {
          "output_type": "stream",
          "text": [
            "\n",
            "\n",
            " 94%|█████████▎| 3261/3486 [14:27<00:27,  8.20it/s]\u001b[A\u001b[A\n",
            "\n",
            " 94%|█████████▎| 3264/3486 [14:27<00:23,  9.39it/s]\u001b[A\u001b[A"
          ],
          "name": "stderr"
        },
        {
          "output_type": "stream",
          "text": [
            "5797\n",
            "(6192, 208)\n",
            "208\n",
            "5802\n",
            "(6804, 225)\n",
            "225\n",
            "5803\n",
            "(4464, 160)\n",
            "160\n",
            "5807\n",
            "(12816, 392)\n"
          ],
          "name": "stdout"
        },
        {
          "output_type": "stream",
          "text": [
            "\n",
            "\n",
            " 94%|█████████▎| 3266/3486 [14:27<00:26,  8.20it/s]\u001b[A\u001b[A\n",
            "\n",
            " 94%|█████████▍| 3269/3486 [14:27<00:20, 10.35it/s]\u001b[A\u001b[A"
          ],
          "name": "stderr"
        },
        {
          "output_type": "stream",
          "text": [
            "392\n",
            "5812\n",
            "(1836, 87)\n",
            "87\n",
            "5814\n",
            "(2880, 122)\n",
            "122\n",
            "5815\n",
            "(2844, 115)\n",
            "115\n",
            "5817\n",
            "(3240, 126)\n",
            "126\n",
            "5818\n",
            "(36540, 1051)\n",
            "1051\n",
            "5819\n",
            "(37728, 1084)\n"
          ],
          "name": "stdout"
        },
        {
          "output_type": "stream",
          "text": [
            "\n",
            "\n",
            " 94%|█████████▍| 3271/3486 [14:32<02:49,  1.27it/s]\u001b[A\u001b[A"
          ],
          "name": "stderr"
        },
        {
          "output_type": "stream",
          "text": [
            "1084\n",
            "5820\n",
            "(34956, 1007)\n",
            "1007\n",
            "5821\n",
            "(34092, 983)\n"
          ],
          "name": "stdout"
        },
        {
          "output_type": "stream",
          "text": [
            "\n",
            "\n",
            " 94%|█████████▍| 3273/3486 [14:36<04:09,  1.17s/it]\u001b[A\u001b[A"
          ],
          "name": "stderr"
        },
        {
          "output_type": "stream",
          "text": [
            "983\n",
            "5822\n",
            "(34020, 981)\n"
          ],
          "name": "stdout"
        },
        {
          "output_type": "stream",
          "text": [
            "\n",
            "\n",
            " 94%|█████████▍| 3274/3486 [14:39<05:19,  1.51s/it]\u001b[A\u001b[A\n",
            "\n",
            " 94%|█████████▍| 3275/3486 [14:39<03:50,  1.09s/it]\u001b[A\u001b[A"
          ],
          "name": "stderr"
        },
        {
          "output_type": "stream",
          "text": [
            "981\n",
            "5824\n",
            "(8172, 263)\n",
            "263\n",
            "5825\n",
            "(2736, 110)\n",
            "110\n",
            "5826\n",
            "(2736, 110)\n"
          ],
          "name": "stdout"
        },
        {
          "output_type": "stream",
          "text": [
            "\n",
            "\n",
            " 94%|█████████▍| 3279/3486 [14:39<02:40,  1.29it/s]\u001b[A\u001b[A"
          ],
          "name": "stderr"
        },
        {
          "output_type": "stream",
          "text": [
            "110\n",
            "5827\n",
            "(2000, 504)\n",
            "504\n",
            "5828\n",
            "(5868, 199)\n",
            "199\n",
            "5830\n",
            "(1160, 69)\n",
            "69\n",
            "5831\n",
            "(792, 58)\n",
            "58\n",
            "5832\n",
            "(2160, 96)\n",
            "96\n",
            "5833\n",
            "(5400, 165)\n"
          ],
          "name": "stdout"
        },
        {
          "output_type": "stream",
          "text": [
            "\n",
            "\n",
            " 94%|█████████▍| 3283/3486 [14:39<01:51,  1.81it/s]\u001b[A\u001b[A\n",
            "\n",
            " 94%|█████████▍| 3288/3486 [14:39<01:18,  2.53it/s]\u001b[A\u001b[A"
          ],
          "name": "stderr"
        },
        {
          "output_type": "stream",
          "text": [
            "165\n",
            "5834\n",
            "(2052, 93)\n",
            "93\n",
            "5835\n",
            "(1488, 79)\n",
            "79\n",
            "5836\n",
            "(1530, 79)\n",
            "79\n",
            "5837\n",
            "(1620, 81)\n",
            "81\n",
            "5838\n",
            "(6336, 212)\n",
            "212\n",
            "5839\n",
            "(11565, 302)\n",
            "302\n",
            "5840\n",
            "(3492, 133)\n",
            "133\n",
            "5841\n"
          ],
          "name": "stdout"
        },
        {
          "output_type": "stream",
          "text": [
            "\n",
            "\n",
            " 94%|█████████▍| 3291/3486 [14:39<01:00,  3.25it/s]\u001b[A\u001b[A\n",
            "\n",
            " 94%|█████████▍| 3293/3486 [14:40<00:44,  4.31it/s]\u001b[A\u001b[A"
          ],
          "name": "stderr"
        },
        {
          "output_type": "stream",
          "text": [
            "(6435, 188)\n",
            "188\n",
            "5842\n",
            "(4905, 154)\n",
            "154\n",
            "5843\n",
            "(4536, 162)\n",
            "162\n",
            "5844\n",
            "(6300, 211)\n"
          ],
          "name": "stdout"
        },
        {
          "output_type": "stream",
          "text": [
            "\n",
            "\n",
            " 95%|█████████▍| 3295/3486 [14:40<00:37,  5.06it/s]\u001b[A\u001b[A"
          ],
          "name": "stderr"
        },
        {
          "output_type": "stream",
          "text": [
            "211\n",
            "5845\n",
            "(10125, 270)\n",
            "270\n",
            "5847\n",
            "(2790, 121)\n",
            "121\n",
            "5851\n",
            "(816, 65)\n",
            "65\n",
            "5852\n",
            "(27756, 807)\n"
          ],
          "name": "stdout"
        },
        {
          "output_type": "stream",
          "text": [
            "\n",
            "\n",
            " 95%|█████████▍| 3298/3486 [14:41<00:53,  3.48it/s]\u001b[A\u001b[A"
          ],
          "name": "stderr"
        },
        {
          "output_type": "stream",
          "text": [
            "807\n",
            "5853\n",
            "(24336, 712)\n",
            "712\n",
            "5854\n",
            "(18864, 560)\n"
          ],
          "name": "stdout"
        },
        {
          "output_type": "stream",
          "text": [
            "\n",
            "\n",
            " 95%|█████████▍| 3300/3486 [14:43<01:23,  2.23it/s]\u001b[A\u001b[A"
          ],
          "name": "stderr"
        },
        {
          "output_type": "stream",
          "text": [
            "560\n",
            "5855\n",
            "(16128, 484)\n"
          ],
          "name": "stdout"
        },
        {
          "output_type": "stream",
          "text": [
            "\n",
            "\n",
            " 95%|█████████▍| 3301/3486 [14:43<01:23,  2.22it/s]\u001b[A\u001b[A\n",
            "\n",
            " 95%|█████████▍| 3302/3486 [14:44<01:08,  2.70it/s]\u001b[A\u001b[A"
          ],
          "name": "stderr"
        },
        {
          "output_type": "stream",
          "text": [
            "484\n",
            "5857\n",
            "(10584, 330)\n",
            "330\n"
          ],
          "name": "stdout"
        },
        {
          "output_type": "stream",
          "text": [
            "\n",
            "\n",
            " 95%|█████████▍| 3305/3486 [14:44<00:49,  3.63it/s]\u001b[A\u001b[A"
          ],
          "name": "stderr"
        },
        {
          "output_type": "stream",
          "text": [
            "5858\n",
            "(1485, 78)\n",
            "78\n",
            "5860\n",
            "(1980, 91)\n",
            "91\n",
            "5861\n",
            "(8480, 252)\n",
            "252\n",
            "5862\n",
            "(6640, 206)\n",
            "206\n",
            "5863\n",
            "(288, 54)\n",
            "54\n",
            "5864\n",
            "(18225, 483)\n"
          ],
          "name": "stdout"
        },
        {
          "output_type": "stream",
          "text": [
            "\n",
            "\n",
            " 95%|█████████▍| 3308/3486 [14:44<00:46,  3.86it/s]\u001b[A\u001b[A\n",
            "\n",
            " 95%|█████████▌| 3313/3486 [14:45<00:33,  5.20it/s]\u001b[A\u001b[A"
          ],
          "name": "stderr"
        },
        {
          "output_type": "stream",
          "text": [
            "483\n",
            "5865\n",
            "(1224, 89)\n",
            "89\n",
            "5866\n",
            "(972, 63)\n",
            "63\n",
            "5867\n",
            "(4788, 169)\n",
            "169\n",
            "5869\n",
            "(336, 55)\n",
            "55\n",
            "5870\n",
            "(6912, 228)\n",
            "228\n",
            "5872\n",
            "(288, 44)\n"
          ],
          "name": "stdout"
        },
        {
          "output_type": "stream",
          "text": [
            "\n",
            "\n",
            " 95%|█████████▌| 3316/3486 [14:45<00:24,  6.86it/s]\u001b[A\u001b[A"
          ],
          "name": "stderr"
        },
        {
          "output_type": "stream",
          "text": [
            "44\n",
            "5874\n",
            "(3996, 147)\n",
            "147\n",
            "5875\n",
            "(4896, 172)\n",
            "172\n",
            "5876\n",
            "(36, 37)\n",
            "37\n",
            "5877\n",
            "(1440, 84)\n",
            "84\n",
            "5878\n",
            "(4068, 149)\n",
            "149\n",
            "5879\n",
            "(6012, 203)\n"
          ],
          "name": "stdout"
        },
        {
          "output_type": "stream",
          "text": [
            "\n",
            "\n",
            " 95%|█████████▌| 3320/3486 [14:45<00:18,  8.88it/s]\u001b[A\u001b[A\n",
            "\n",
            " 95%|█████████▌| 3323/3486 [14:45<00:15, 10.83it/s]\u001b[A\u001b[A"
          ],
          "name": "stderr"
        },
        {
          "output_type": "stream",
          "text": [
            "203\n",
            "5880\n",
            "(4104, 129)\n",
            "129\n",
            "5881\n",
            "(1728, 84)\n",
            "84\n",
            "5882\n",
            "(5796, 197)\n",
            "197\n",
            "5883\n",
            "(390, 43)\n",
            "43\n",
            "5885\n",
            "(1476, 77)\n",
            "77\n",
            "5886\n",
            "(2592, 108)\n",
            "108\n",
            "5887\n"
          ],
          "name": "stdout"
        },
        {
          "output_type": "stream",
          "text": [
            "\n",
            "\n",
            " 95%|█████████▌| 3328/3486 [14:45<00:12, 13.15it/s]\u001b[A\u001b[A"
          ],
          "name": "stderr"
        },
        {
          "output_type": "stream",
          "text": [
            "(2520, 118)\n",
            "118\n",
            "5888\n",
            "(8064, 260)\n",
            "260\n",
            "5890\n",
            "(9360, 296)\n"
          ],
          "name": "stdout"
        },
        {
          "output_type": "stream",
          "text": [
            "\n",
            "\n",
            " 96%|█████████▌| 3331/3486 [14:45<00:12, 12.48it/s]\u001b[A\u001b[A"
          ],
          "name": "stderr"
        },
        {
          "output_type": "stream",
          "text": [
            "296\n",
            "5894\n",
            "(5112, 178)\n",
            "178\n",
            "5895\n",
            "(3852, 143)\n",
            "143\n",
            "5896\n",
            "(1332, 73)\n",
            "73\n",
            "5897\n",
            "(2700, 111)\n",
            "111\n",
            "5898\n",
            "(1764, 85)\n",
            "85\n",
            "5899\n",
            "(1008, 64)\n",
            "64\n",
            "5900\n",
            "(180, 41)\n",
            "41\n",
            "5903\n"
          ],
          "name": "stdout"
        },
        {
          "output_type": "stream",
          "text": [
            "\n",
            "\n",
            " 96%|█████████▌| 3337/3486 [14:46<00:09, 16.07it/s]\u001b[A\u001b[A\n",
            "\n",
            " 96%|█████████▌| 3340/3486 [14:46<00:07, 18.37it/s]\u001b[A\u001b[A"
          ],
          "name": "stderr"
        },
        {
          "output_type": "stream",
          "text": [
            "(4140, 136)\n",
            "136\n",
            "5904\n",
            "(2592, 108)\n",
            "108\n",
            "5905\n",
            "(2808, 114)\n",
            "114\n",
            "5907\n",
            "(4320, 156)\n",
            "156\n",
            "5908\n",
            "(14976, 452)\n"
          ],
          "name": "stdout"
        },
        {
          "output_type": "stream",
          "text": [
            "\n",
            "\n",
            " 96%|█████████▌| 3343/3486 [14:46<00:12, 11.39it/s]\u001b[A\u001b[A"
          ],
          "name": "stderr"
        },
        {
          "output_type": "stream",
          "text": [
            "452\n",
            "5910\n",
            "(7344, 240)\n",
            "240\n",
            "5911\n",
            "(1140, 79)\n",
            "79\n",
            "5912\n",
            "(1800, 85)\n",
            "85\n",
            "5913\n",
            "(7371, 228)\n"
          ],
          "name": "stdout"
        },
        {
          "output_type": "stream",
          "text": [
            "\n",
            "\n",
            " 96%|█████████▌| 3346/3486 [14:46<00:10, 13.51it/s]\u001b[A\u001b[A\n",
            "\n",
            " 96%|█████████▌| 3349/3486 [14:46<00:08, 15.58it/s]\u001b[A\u001b[A"
          ],
          "name": "stderr"
        },
        {
          "output_type": "stream",
          "text": [
            "228\n",
            "5915\n",
            "(1080, 66)\n",
            "66\n",
            "5916\n",
            "(1944, 90)\n",
            "90\n",
            "5920\n",
            "(624, 61)\n",
            "61\n",
            "5921\n",
            "(6624, 220)\n",
            "220\n",
            "5924\n",
            "(11340, 351)\n"
          ],
          "name": "stdout"
        },
        {
          "output_type": "stream",
          "text": [
            "\n",
            "\n",
            " 96%|█████████▌| 3352/3486 [14:47<00:09, 13.99it/s]\u001b[A\u001b[A"
          ],
          "name": "stderr"
        },
        {
          "output_type": "stream",
          "text": [
            "351\n",
            "5927\n",
            "(648, 54)\n",
            "54\n",
            "5928\n",
            "(3150, 115)\n",
            "115\n",
            "5929\n",
            "(585, 58)\n",
            "58\n",
            "5930\n",
            "(360, 46)\n",
            "46\n",
            "5934\n",
            "(360, 46)\n",
            "46\n",
            "5935\n",
            "(1140, 68)\n",
            "68\n",
            "5936\n",
            "(25164, 735)\n"
          ],
          "name": "stdout"
        },
        {
          "output_type": "stream",
          "text": [
            "\n",
            "\n",
            " 96%|█████████▋| 3357/3486 [14:48<00:17,  7.56it/s]\u001b[A\u001b[A\n",
            "\n",
            " 97%|█████████▋| 3365/3486 [14:48<00:11, 10.34it/s]\u001b[A\u001b[A"
          ],
          "name": "stderr"
        },
        {
          "output_type": "stream",
          "text": [
            "735\n",
            "5937\n",
            "(792, 58)\n",
            "58\n",
            "5938\n",
            "(450, 45)\n",
            "45\n",
            "5939\n",
            "(900, 60)\n",
            "60\n",
            "5940\n",
            "(870, 59)\n",
            "59\n",
            "5941\n",
            "(450, 45)\n",
            "45\n",
            "5942\n",
            "(900, 60)\n",
            "60\n",
            "5943\n",
            "(870, 59)\n",
            "59\n",
            "5944\n",
            "(3168, 124)\n",
            "124\n",
            "5945\n",
            "(450, 45)\n",
            "45\n",
            "5946\n",
            "(900, 60)\n",
            "60\n",
            "5947\n",
            "(870, 59)\n",
            "59\n",
            "5948\n",
            "(450, 45)\n",
            "45\n",
            "5949\n",
            "(900, 60)\n",
            "60\n",
            "5950\n",
            "(870, 59)\n",
            "59\n",
            "5952\n",
            "(2196, 97)\n",
            "97\n",
            "5953\n",
            "(324, 45)\n",
            "45\n",
            "5954\n",
            "(24768, 724)\n"
          ],
          "name": "stdout"
        },
        {
          "output_type": "stream",
          "text": [
            "\n",
            "\n",
            " 97%|█████████▋| 3374/3486 [14:49<00:12,  9.22it/s]\u001b[A\u001b[A"
          ],
          "name": "stderr"
        },
        {
          "output_type": "stream",
          "text": [
            "724\n",
            "5955\n",
            "(22068, 649)\n"
          ],
          "name": "stdout"
        },
        {
          "output_type": "stream",
          "text": [
            "\n",
            "\n",
            " 97%|█████████▋| 3377/3486 [14:50<00:19,  5.72it/s]\u001b[A\u001b[A"
          ],
          "name": "stderr"
        },
        {
          "output_type": "stream",
          "text": [
            "649\n",
            "5959\n",
            "(792, 83)\n",
            "83\n",
            "5960\n",
            "(4248, 154)\n",
            "154\n",
            "5961\n",
            "(3996, 147)\n",
            "147\n",
            "5963\n",
            "(216, 42)\n",
            "42\n",
            "5964\n",
            "(1692, 83)\n",
            "83\n",
            "5965\n",
            "(5724, 195)\n"
          ],
          "name": "stdout"
        },
        {
          "output_type": "stream",
          "text": [
            "\n",
            "\n",
            " 97%|█████████▋| 3381/3486 [14:50<00:14,  7.48it/s]\u001b[A\u001b[A\n",
            "\n",
            " 97%|█████████▋| 3384/3486 [14:51<00:11,  9.26it/s]\u001b[A\u001b[A"
          ],
          "name": "stderr"
        },
        {
          "output_type": "stream",
          "text": [
            "195\n",
            "5966\n",
            "(5220, 181)\n",
            "181\n",
            "5967\n",
            "(4824, 170)\n",
            "170\n",
            "5972\n",
            "(2808, 114)\n",
            "114\n",
            "5974\n",
            "(972, 63)\n",
            "63\n",
            "5975\n",
            "(1512, 78)\n",
            "78\n",
            "5976\n",
            "(2160, 192)\n"
          ],
          "name": "stdout"
        },
        {
          "output_type": "stream",
          "text": [
            "\n",
            "\n",
            " 97%|█████████▋| 3391/3486 [14:51<00:07, 12.40it/s]\u001b[A\u001b[A\n",
            "\n",
            " 97%|█████████▋| 3398/3486 [14:51<00:05, 16.40it/s]\u001b[A\u001b[A"
          ],
          "name": "stderr"
        },
        {
          "output_type": "stream",
          "text": [
            "192\n",
            "5977\n",
            "(360, 49)\n",
            "49\n",
            "5978\n",
            "(680, 57)\n",
            "57\n",
            "5979\n",
            "(504, 50)\n",
            "50\n",
            "5980\n",
            "(2520, 101)\n",
            "101\n",
            "5981\n",
            "(684, 55)\n",
            "55\n",
            "5982\n",
            "(2340, 99)\n",
            "99\n",
            "5983\n",
            "(1476, 77)\n",
            "77\n",
            "5985\n",
            "(2268, 99)\n",
            "99\n",
            "5986\n",
            "(936, 62)\n",
            "62\n",
            "5987\n",
            "(768, 64)\n",
            "64\n",
            "5989\n",
            "(1200, 80)\n",
            "80\n",
            "5990\n",
            "(1584, 80)\n",
            "80\n",
            "5991\n",
            "(1224, 70)\n",
            "70\n",
            "5992\n"
          ],
          "name": "stdout"
        },
        {
          "output_type": "stream",
          "text": [
            "\n",
            "\n",
            " 98%|█████████▊| 3403/3486 [14:51<00:04, 19.04it/s]\u001b[A\u001b[A"
          ],
          "name": "stderr"
        },
        {
          "output_type": "stream",
          "text": [
            "(4608, 164)\n",
            "164\n",
            "5993\n",
            "(6750, 165)\n",
            "165\n",
            "5994\n",
            "(684, 55)\n",
            "55\n",
            "5995\n",
            "(2664, 110)\n",
            "110\n",
            "5996\n",
            "(2160, 96)\n",
            "96\n",
            "5997\n",
            "(3300, 119)\n",
            "119\n",
            "5998\n",
            "(2250, 105)\n"
          ],
          "name": "stdout"
        },
        {
          "output_type": "stream",
          "text": [
            "\n",
            "\n",
            " 98%|█████████▊| 3407/3486 [14:51<00:03, 22.26it/s]\u001b[A\u001b[A\n",
            "\n",
            " 98%|█████████▊| 3412/3486 [14:51<00:02, 26.29it/s]\u001b[A\u001b[A"
          ],
          "name": "stderr"
        },
        {
          "output_type": "stream",
          "text": [
            "105\n",
            "6001\n",
            "(1548, 79)\n",
            "79\n",
            "6003\n",
            "(972, 63)\n",
            "63\n",
            "6005\n",
            "(1890, 87)\n",
            "87\n",
            "6006\n",
            "(2988, 119)\n",
            "119\n",
            "6008\n",
            "(3384, 119)\n",
            "119\n",
            "6009\n",
            "(2745, 106)\n",
            "106\n",
            "6011\n",
            "(2850, 113)\n",
            "113\n",
            "6012\n",
            "(2412, 103)\n",
            "103\n",
            "6014\n"
          ],
          "name": "stdout"
        },
        {
          "output_type": "stream",
          "text": [
            "\n",
            "\n",
            " 98%|█████████▊| 3417/3486 [14:51<00:02, 28.58it/s]\u001b[A\u001b[A\n",
            "\n",
            " 98%|█████████▊| 3421/3486 [14:51<00:02, 31.22it/s]\u001b[A\u001b[A"
          ],
          "name": "stderr"
        },
        {
          "output_type": "stream",
          "text": [
            "(1980, 93)\n",
            "93\n",
            "6015\n",
            "(3132, 123)\n",
            "123\n",
            "6017\n",
            "(780, 59)\n",
            "59\n",
            "6018\n",
            "(432, 48)\n",
            "48\n",
            "6023\n",
            "(6075, 156)\n",
            "156\n",
            "6024\n",
            "(1548, 79)\n",
            "79\n",
            "6025\n",
            "(792, 58)\n",
            "58\n",
            "6026\n",
            "(2102, 132)\n",
            "132\n",
            "6027\n",
            "(1665, 82)\n"
          ],
          "name": "stdout"
        },
        {
          "output_type": "stream",
          "text": [
            "\n",
            "\n",
            " 98%|█████████▊| 3427/3486 [14:52<00:01, 33.23it/s]\u001b[A\u001b[A\n",
            "\n"
          ],
          "name": "stderr"
        },
        {
          "output_type": "stream",
          "text": [
            "82\n",
            "6028\n",
            "(1332, 73)\n",
            "73\n",
            "6037\n",
            "(792, 83)\n",
            "83\n",
            "6048\n",
            "(5904, 200)\n",
            "200\n",
            "6049\n",
            "(720, 56)\n",
            "56\n",
            "6051\n",
            "(108, 39)\n",
            "39\n",
            "6052\n",
            "(1638, 81)\n",
            "81\n",
            "6055\n",
            "(1224, 70)\n",
            "70\n",
            "6061\n",
            "(360, 66)\n",
            "66\n",
            "6062\n",
            "(1152, 72)\n",
            "72\n",
            "6063\n",
            "(2340, 101)\n",
            "101\n",
            "6065\n",
            "(1632, 82)\n",
            "82\n"
          ],
          "name": "stdout"
        },
        {
          "output_type": "stream",
          "text": [
            "\r 99%|█████████▊| 3435/3486 [14:52<00:01, 39.76it/s]\u001b[A\u001b[A"
          ],
          "name": "stderr"
        },
        {
          "output_type": "stream",
          "text": [
            "6068\n",
            "(1224, 70)\n",
            "70\n",
            "6069\n",
            "(1656, 82)\n",
            "82\n",
            "6071\n",
            "(1080, 66)\n",
            "66\n",
            "6074\n",
            "(1584, 94)\n",
            "94\n",
            "6078\n",
            "(540, 57)\n",
            "57\n",
            "6085\n",
            "(44775, 809)\n"
          ],
          "name": "stdout"
        },
        {
          "output_type": "stream",
          "text": [
            "\n",
            "\n",
            " 99%|█████████▊| 3441/3486 [14:54<00:05,  8.49it/s]\u001b[A\u001b[A"
          ],
          "name": "stderr"
        },
        {
          "output_type": "stream",
          "text": [
            "809\n",
            "6086\n",
            "(3888, 144)\n",
            "144\n",
            "6087\n",
            "(1728, 84)\n",
            "84\n",
            "6088\n",
            "(252, 43)\n",
            "43\n",
            "6089\n",
            "(432, 48)\n",
            "48\n",
            "6090\n",
            "(8675, 455)\n"
          ],
          "name": "stdout"
        },
        {
          "output_type": "stream",
          "text": [
            "\n",
            "\n",
            " 99%|█████████▉| 3446/3486 [14:54<00:03, 10.11it/s]\u001b[A\u001b[A\n",
            "\n",
            " 99%|█████████▉| 3455/3486 [14:54<00:02, 13.72it/s]\u001b[A\u001b[A"
          ],
          "name": "stderr"
        },
        {
          "output_type": "stream",
          "text": [
            "455\n",
            "6094\n",
            "(288, 44)\n",
            "44\n",
            "6097\n",
            "(1080, 66)\n",
            "66\n",
            "6098\n",
            "(1260, 71)\n",
            "71\n",
            "6101\n",
            "(1656, 82)\n",
            "82\n",
            "6102\n",
            "(36, 37)\n",
            "37\n",
            "6103\n",
            "(2124, 95)\n",
            "95\n",
            "6104\n",
            "(765, 62)\n",
            "62\n",
            "6105\n",
            "(720, 56)\n",
            "56\n",
            "6106\n",
            "(900, 65)\n",
            "65\n",
            "6107\n",
            "(1368, 74)\n",
            "74\n",
            "6110\n",
            "(252, 43)\n",
            "43\n",
            "6112\n",
            "(936, 62)\n",
            "62\n",
            "6113\n",
            "(180, 41)\n",
            "41\n",
            "6115\n",
            "(324, 45)\n",
            "45\n",
            "6116\n",
            "(675, 60)\n",
            "60\n",
            "6120\n",
            "(828, 59)\n",
            "59\n",
            "6122\n",
            "(1224, 70)\n",
            "70\n",
            "6123\n",
            "(792, 58)\n",
            "58\n",
            "6131\n"
          ],
          "name": "stdout"
        },
        {
          "output_type": "stream",
          "text": [
            "\n",
            "\n",
            " 99%|█████████▉| 3466/3486 [14:54<00:01, 18.46it/s]\u001b[A\u001b[A\n",
            "\n",
            "100%|█████████▉| 3473/3486 [14:54<00:00, 22.96it/s]\u001b[A\u001b[A"
          ],
          "name": "stderr"
        },
        {
          "output_type": "stream",
          "text": [
            "(115, 28)\n",
            "28\n",
            "6135\n",
            "(1440, 78)\n",
            "78\n",
            "6137\n",
            "(3636, 137)\n",
            "137\n",
            "6138\n",
            "(1692, 83)\n",
            "83\n",
            "6141\n",
            "(900, 61)\n",
            "61\n",
            "6144\n",
            "(1296, 72)\n",
            "72\n",
            "6145\n",
            "(1080, 69)\n",
            "69\n",
            "6146\n",
            "(396, 47)\n",
            "47\n",
            "6147\n",
            "(720, 63)\n",
            "63\n",
            "6149\n",
            "<=2 categories\n",
            "6150\n"
          ],
          "name": "stdout"
        },
        {
          "output_type": "stream",
          "text": [
            "\n",
            "\n",
            "100%|█████████▉| 3479/3486 [14:55<00:00, 26.82it/s]\u001b[A\u001b[A"
          ],
          "name": "stderr"
        },
        {
          "output_type": "stream",
          "text": [
            "(2160, 192)\n",
            "192\n",
            "6151\n",
            "(612, 53)\n",
            "53\n",
            "6159\n",
            "(1188, 69)\n",
            "69\n",
            "6161\n",
            "(1035, 68)\n",
            "68\n",
            "6170\n",
            "(768, 64)\n",
            "64\n",
            "6173\n",
            "(960, 76)\n",
            "76\n",
            "6183\n",
            "(2448, 104)\n",
            "104\n",
            "6191\n",
            "(792, 58)\n",
            "58\n",
            "6249\n",
            "(75384, 1050)\n",
            "1050\n",
            "6254\n",
            "(121968, 1061)\n",
            "1061\n",
            "6255\n",
            "(213516, 2235)\n"
          ],
          "name": "stdout"
        },
        {
          "output_type": "stream",
          "text": [
            "\n",
            "\n",
            "100%|█████████▉| 3479/3486 [15:12<00:00, 26.82it/s]\u001b[A\u001b[A\n",
            "\n",
            "100%|██████████| 3486/3486 [15:43<00:00,  3.69it/s]"
          ],
          "name": "stderr"
        },
        {
          "output_type": "stream",
          "text": [
            "2235\n",
            "6349\n",
            "(900, 61)\n",
            "61\n"
          ],
          "name": "stdout"
        },
        {
          "output_type": "stream",
          "text": [
            "\n"
          ],
          "name": "stderr"
        }
      ]
    },
    {
      "cell_type": "code",
      "metadata": {
        "id": "ElK-3hlk3rFB",
        "colab_type": "code",
        "outputId": "230c9f03-46e4-4572-c423-2397f1a2b3e0",
        "colab": {
          "base_uri": "https://localhost:8080/",
          "height": 187
        }
      },
      "source": [
        "ranking = [(k, 0 if v[1]== 0 else v[0]/v[1],v[1]) for k,v in all_results.items()]\n",
        "print(ranking)\n",
        "\n",
        "ranking.sort(key = lambda x: -x[1])\n",
        "\n",
        "print(ranking)"
      ],
      "execution_count": 53,
      "outputs": [
        {
          "output_type": "stream",
          "text": [
            "IOPub data rate exceeded.\n",
            "The notebook server will temporarily stop sending output\n",
            "to the client in order to avoid crashing it.\n",
            "To change this limit, set the config variable\n",
            "`--NotebookApp.iopub_data_rate_limit`.\n",
            "\n",
            "Current values:\n",
            "NotebookApp.iopub_data_rate_limit=1000000.0 (bytes/sec)\n",
            "NotebookApp.rate_limit_window=3.0 (secs)\n",
            "\n"
          ],
          "name": "stderr"
        }
      ]
    },
    {
      "cell_type": "code",
      "metadata": {
        "id": "wIr5vqGOlhfR",
        "colab_type": "code",
        "outputId": "3ad1d661-a05c-4e4d-b376-90a34481a38e",
        "colab": {
          "base_uri": "https://localhost:8080/",
          "height": 34
        }
      },
      "source": [
        "import statistics as stat\n",
        "\n",
        "def is_player(t):\n",
        "  return isinstance(t, int)\n",
        "  \n",
        "players_ranking = [ x for x in ranking if is_player(x[0]) ]\n",
        "blank_rank = stat.mean ([ x[1] for x in ranking if is_player(x[0])])\n",
        "print(blank_rank)\n",
        "\n",
        "def get_team_ranking(players):\n",
        "  result = []\n",
        "  print('Team:',players)\n",
        "  if (len(players)==0):\n",
        "    return blank_rank\n",
        "  for player in players:\n",
        "    if (all_results[player][1]>0): # num of competetions\n",
        "      print(player, ' rating is ', all_results[player][0])\n",
        "      result.append(all_results[player][0])\n",
        "    else:\n",
        "      result.append(blank_rank)\n",
        "  return stat.mean(result)\n"
      ],
      "execution_count": 55,
      "outputs": [
        {
          "output_type": "stream",
          "text": [
            "-0.8203929165969827\n"
          ],
          "name": "stdout"
        }
      ]
    },
    {
      "cell_type": "code",
      "metadata": {
        "id": "W7AZv2Eg1NE6",
        "colab_type": "code",
        "colab": {
          "base_uri": "https://localhost:8080/",
          "height": 1000
        },
        "outputId": "9a3297f7-6bac-46e5-ab33-539bf4e28b6d"
      },
      "source": [
        "spearman = []\n",
        "pearson = []\n",
        "\n",
        "test_id = [x for x in test_id if len(results_cleaned2[x])>1] ## фильтруем турниры с 1 командой\n",
        "\n",
        "for tourn_id in test_id:\n",
        "  print('Tournament:', tourn_id)\n",
        "  rating = []\n",
        "  ranking = []\n",
        "  i=1\n",
        "  for team in results_cleaned2[tourn_id]:\n",
        "    rating.append(get_team_ranking(team[2]))\n",
        "    ranking.append(i)\n",
        "    i+=1\n",
        "  print ('Spearman: ',stats.spearmanr(rating, ranking))\n",
        "  print ('Pearson: ',stats.pearsonr(rating,ranking))\n",
        "  spearman.append(stats.spearmanr(rating, ranking)[0])\n",
        "  pearson.append(stats.pearsonr(rating,ranking)[0])\n",
        "\n"
      ],
      "execution_count": 60,
      "outputs": [
        {
          "output_type": "stream",
          "text": [
            "\u001b[1;30;43mStreaming output truncated to the last 5000 lines.\u001b[0m\n",
            "4064  rating is  127.08281904494652\n",
            "16332  rating is  555.9338056969818\n",
            "26818  rating is  371.9966667970877\n",
            "36035  rating is  313.19198793067056\n",
            "70750  rating is  308.24586644388916\n",
            "Team: [2421, 6482, 13782, 25882, 32458, 34846]\n",
            "2421  rating is  322.5948766852874\n",
            "6482  rating is  721.8713264342828\n",
            "13782  rating is  550.4690524890223\n",
            "25882  rating is  386.0495352921078\n",
            "32458  rating is  231.60213568980998\n",
            "34846  rating is  361.7483899936098\n",
            "Team: [62804, 62805, 62806, 90870, 103180, 122817]\n",
            "62804  rating is  33.98711677513482\n",
            "62805  rating is  31.658430061936638\n",
            "62806  rating is  34.31578293793603\n",
            "90870  rating is  -31.008840274955954\n",
            "103180  rating is  -37.28958207838904\n",
            "122817  rating is  -85.57587487770621\n",
            "Team: [53361, 94935, 111545, 111553, 111657, 123644, 138615, 165774]\n",
            "53361  rating is  -4.117798077356909\n",
            "94935  rating is  -2.048968307740333\n",
            "111545  rating is  33.46240687522801\n",
            "111553  rating is  37.06462856495704\n",
            "111657  rating is  19.31440609721767\n",
            "123644  rating is  28.04885415085837\n",
            "138615  rating is  102.02460741628646\n",
            "165774  rating is  -1.0850337364168416\n",
            "Team: [14786, 15595, 18332, 56647, 87637]\n",
            "14786  rating is  552.9977209681048\n",
            "15595  rating is  543.8733724188057\n",
            "18332  rating is  934.1919681201765\n",
            "56647  rating is  610.9170701564445\n",
            "87637  rating is  85.07557161937117\n",
            "Team: [7420, 19468, 21952, 35124, 46459, 64681]\n",
            "7420  rating is  530.5574121275612\n",
            "19468  rating is  360.93808438598387\n",
            "21952  rating is  482.6520851268756\n",
            "35124  rating is  404.56281636348507\n",
            "46459  rating is  364.76526289264984\n",
            "64681  rating is  354.31045452099744\n",
            "Team: [116735, 116736, 116737, 116738, 116739, 127207, 153535]\n",
            "116735  rating is  31.948869183286977\n",
            "116736  rating is  23.68580387467853\n",
            "116737  rating is  26.479965109986438\n",
            "116738  rating is  32.13838304069968\n",
            "116739  rating is  35.02253906198539\n",
            "127207  rating is  2.480304019366631\n",
            "153535  rating is  27.408218590954075\n",
            "Team: [29399, 124277, 124278, 124279, 124280, 124281, 188049]\n",
            "29399  rating is  464.2459753339461\n",
            "124277  rating is  -2.28902096989479\n",
            "124278  rating is  -2.458673264844701\n",
            "124279  rating is  -6.055362231846245\n",
            "124280  rating is  -4.717390383571379\n",
            "124281  rating is  -5.25780605668018\n",
            "188049  rating is  -2.1860734140064784\n",
            "Team: [9801, 23737, 30152, 32901, 90915]\n",
            "9801  rating is  559.509325953747\n",
            "23737  rating is  596.0565327216756\n",
            "30152  rating is  974.8191825966408\n",
            "32901  rating is  410.5141642920042\n",
            "90915  rating is  461.97438742460133\n",
            "Team: [33236, 53660, 63529, 69678, 116134]\n",
            "33236  rating is  432.1739619995111\n",
            "53660  rating is  145.17267611428142\n",
            "63529  rating is  431.3932117446561\n",
            "69678  rating is  446.9056770947863\n",
            "116134  rating is  212.8427369537764\n",
            "Team: [2287, 7692, 37613, 80566, 117567]\n",
            "2287  rating is  72.02313519246175\n",
            "7692  rating is  223.69194752746614\n",
            "37613  rating is  258.14149584814777\n",
            "80566  rating is  182.5204483546693\n",
            "117567  rating is  247.51154895554072\n",
            "Team: [9895, 28746, 33331, 38020, 132797]\n",
            "9895  rating is  222.94967635020998\n",
            "28746  rating is  198.54305894755407\n",
            "33331  rating is  181.16132013775453\n",
            "38020  rating is  128.23546938138773\n",
            "132797  rating is  128.19590594547745\n",
            "Team: [10145, 10586, 21233, 34395, 143822, 183104]\n",
            "10145  rating is  245.5790840053184\n",
            "10586  rating is  653.9800804509359\n",
            "21233  rating is  556.6207937673967\n",
            "34395  rating is  108.39527075601619\n",
            "143822  rating is  50.240627224379935\n",
            "183104  rating is  78.00291421756917\n",
            "Team: [23629, 29775, 39156, 136923, 137246]\n",
            "23629  rating is  382.6405525428988\n",
            "29775  rating is  377.1554331472581\n",
            "39156  rating is  -33.80941171415391\n",
            "136923  rating is  -34.90778926840432\n",
            "137246  rating is  51.45203081010909\n",
            "Team: [20207, 149149, 188893]\n",
            "20207  rating is  311.1944985514729\n",
            "149149  rating is  24.57245566106544\n",
            "188893  rating is  19.306555478463768\n",
            "Team: [2221, 27815, 34854, 85216]\n",
            "2221  rating is  134.27668990669557\n",
            "27815  rating is  204.35049977720794\n",
            "34854  rating is  158.86700843311493\n",
            "85216  rating is  377.22152543147115\n",
            "Team: [3767, 19533, 25475, 36568, 69243, 117262]\n",
            "3767  rating is  479.7027937922934\n",
            "19533  rating is  204.7691250475935\n",
            "25475  rating is  265.6424104637759\n",
            "36568  rating is  669.2040368851544\n",
            "69243  rating is  195.6648691922249\n",
            "117262  rating is  71.0376670228631\n",
            "Team: [54035, 95884, 96304, 101518, 108530, 116327]\n",
            "54035  rating is  182.59945235346564\n",
            "95884  rating is  473.3455259165178\n",
            "96304  rating is  581.8679730179745\n",
            "101518  rating is  140.48087800880265\n",
            "108530  rating is  129.60324368282065\n",
            "116327  rating is  80.78795675724238\n",
            "Team: [20993, 115837, 116876, 116877, 117139, 124137, 151737, 189190, 198080]\n",
            "20993  rating is  -15.739737974864916\n",
            "115837  rating is  -37.807700905325035\n",
            "116876  rating is  -36.004306454901496\n",
            "116877  rating is  -39.57167310658234\n",
            "117139  rating is  -11.915425389972215\n",
            "124137  rating is  -0.6895685469534212\n",
            "151737  rating is  -2.618357613509248\n",
            "189190  rating is  -5.746896261010672\n",
            "198080  rating is  -1.9283880792036894\n",
            "Team: [46631, 46632, 118099, 139262, 154398, 218890]\n",
            "46631  rating is  -30.453849471903318\n",
            "46632  rating is  -28.46663315548308\n",
            "118099  rating is  -15.110499945446216\n",
            "139262  rating is  -14.728976762292506\n",
            "154398  rating is  -9.719707917141838\n",
            "218890  rating is  0.07376133751094686\n",
            "Team: [11843, 17060, 39044, 54315, 116537, 130152]\n",
            "11843  rating is  -1.680637192454535\n",
            "17060  rating is  2.339810152931932\n",
            "39044  rating is  18.805451801449653\n",
            "54315  rating is  23.31999505514359\n",
            "116537  rating is  -3.414895920578194\n",
            "130152  rating is  10.897267135384824\n",
            "Team: [398, 1513, 3910, 35458, 55941, 198183]\n",
            "398  rating is  125.18478011661307\n",
            "1513  rating is  119.74119844572974\n",
            "3910  rating is  51.464272620559164\n",
            "35458  rating is  76.25292497110598\n",
            "55941  rating is  105.39830603746854\n",
            "198183  rating is  -3.2894568296971967\n",
            "Team: [11840, 56698, 82583, 124009]\n",
            "11840  rating is  87.51379321400603\n",
            "56698  rating is  96.22297851628628\n",
            "82583  rating is  93.88591415387624\n",
            "124009  rating is  95.53221444488774\n",
            "Team: [44019, 62299, 75101, 76278, 169522, 182527]\n",
            "44019  rating is  111.38994334175894\n",
            "62299  rating is  120.39303678228491\n",
            "75101  rating is  67.71868107625293\n",
            "76278  rating is  67.34765162385166\n",
            "169522  rating is  -6.63491609363972\n",
            "182527  rating is  -19.976530567348277\n",
            "Team: [13514, 34906, 40998, 189503]\n",
            "13514  rating is  232.45600125400227\n",
            "34906  rating is  243.59709928711928\n",
            "40998  rating is  233.7968979129009\n",
            "189503  rating is  27.71042340235154\n",
            "Team: [4039, 119871]\n",
            "4039  rating is  102.91898696082137\n",
            "119871  rating is  24.662256262190176\n",
            "Team: [4258, 28379, 37865, 109884]\n",
            "4258  rating is  205.40974559290933\n",
            "28379  rating is  285.9817480636294\n",
            "37865  rating is  157.02089214572774\n",
            "109884  rating is  194.27477688576988\n",
            "Team: [48348, 58598, 77671, 91183, 102084, 135968]\n",
            "48348  rating is  305.7729618113522\n",
            "58598  rating is  73.85136078525188\n",
            "77671  rating is  72.28795977029495\n",
            "91183  rating is  -53.450865382738876\n",
            "102084  rating is  124.289055842782\n",
            "135968  rating is  31.45812664807041\n",
            "Team: [16673, 25970, 39186, 42062, 60375, 95590, 110665, 150506]\n",
            "16673  rating is  47.7195429051278\n",
            "25970  rating is  169.24654931504713\n",
            "39186  rating is  -22.41336774108917\n",
            "42062  rating is  -16.15508697166961\n",
            "60375  rating is  4.46593003104291\n",
            "95590  rating is  -20.077571520119452\n",
            "110665  rating is  -20.23403425858255\n",
            "150506  rating is  -17.471424964766175\n",
            "Team: [1043, 4458, 4973, 12535, 14633, 84002]\n",
            "1043  rating is  174.8674701325549\n",
            "4458  rating is  62.52574065346898\n",
            "4973  rating is  61.337155458650116\n",
            "12535  rating is  105.48317265372442\n",
            "14633  rating is  165.02601555115476\n",
            "84002  rating is  42.045005968307784\n",
            "Team: [1387, 4742, 39356, 58939, 67127]\n",
            "1387  rating is  244.78325923916736\n",
            "4742  rating is  79.18366276218795\n",
            "39356  rating is  58.70339547615815\n",
            "58939  rating is  107.38092280784379\n",
            "67127  rating is  124.49836229963354\n",
            "Team: [1424, 31694, 62645, 82761, 85862]\n",
            "1424  rating is  165.97605354398718\n",
            "31694  rating is  111.43469895739106\n",
            "62645  rating is  115.07201058253864\n",
            "82761  rating is  144.49846690657\n",
            "85862  rating is  56.344339688463165\n",
            "Team: [58714, 71365, 83314, 84148, 91159]\n",
            "58714  rating is  131.60023115791702\n",
            "71365  rating is  237.9624650718325\n",
            "83314  rating is  58.999532051910506\n",
            "84148  rating is  50.8125566336578\n",
            "91159  rating is  94.05869674612708\n",
            "Team: [119743, 119746, 127179, 131980, 133436, 192942]\n",
            "119743  rating is  -75.16700810511205\n",
            "119746  rating is  -69.59793624052716\n",
            "127179  rating is  -53.53188781082306\n",
            "131980  rating is  -68.27581949638382\n",
            "133436  rating is  -30.774406161906438\n",
            "192942  rating is  1.4108368275839505\n",
            "Team: [43688, 45382, 64339, 108165, 126544, 126545, 198824]\n",
            "43688  rating is  -3.8554952006295506\n",
            "45382  rating is  1.6427888007701994\n",
            "64339  rating is  16.82759435096978\n",
            "108165  rating is  86.88125616626091\n",
            "126544  rating is  -4.7535082356373\n",
            "126545  rating is  -2.064004146134302\n",
            "198824  rating is  -3.1355556181257596\n",
            "Team: [31231, 38047, 40234, 88067, 95176, 118683]\n",
            "31231  rating is  150.14006036181416\n",
            "38047  rating is  299.9735656184327\n",
            "40234  rating is  307.5600907264501\n",
            "88067  rating is  164.3388592432476\n",
            "95176  rating is  33.79577967023218\n",
            "118683  rating is  23.42176394985056\n",
            "Team: [17522, 35959, 72903, 86641, 91187, 98028]\n",
            "17522  rating is  4.962689180474148\n",
            "35959  rating is  92.7381084269486\n",
            "72903  rating is  45.00917607459738\n",
            "86641  rating is  32.04479490629042\n",
            "91187  rating is  35.26241164451165\n",
            "98028  rating is  4.143966048112331\n",
            "Team: [12997, 31999, 67805, 70888]\n",
            "12997  rating is  103.57106728333571\n",
            "31999  rating is  180.44216590778007\n",
            "67805  rating is  237.68060835926195\n",
            "70888  rating is  145.72473949803242\n",
            "Team: [11267, 140918, 163352, 163535, 182162, 199502]\n",
            "11267  rating is  8.024327916272965\n",
            "140918  rating is  -6.4021805486722\n",
            "163352  rating is  -9.965587057302523\n",
            "163535  rating is  -3.790095895300015\n",
            "182162  rating is  -3.9252625392646485\n",
            "199502  rating is  -4.094901443743331\n",
            "Team: [54008, 64230, 84931, 109699, 118734, 128603, 151228]\n",
            "54008  rating is  -56.482463919093775\n",
            "64230  rating is  82.04016812946601\n",
            "84931  rating is  59.13649869714116\n",
            "109699  rating is  69.69961100494261\n",
            "118734  rating is  -4.404190367543804\n",
            "128603  rating is  95.28823661695753\n",
            "151228  rating is  2.8651439587764633\n",
            "Team: [2952, 4414, 5719, 6867, 39138, 103317]\n",
            "2952  rating is  267.64427195240944\n",
            "4414  rating is  300.77876183051995\n",
            "5719  rating is  263.1374297682351\n",
            "6867  rating is  235.55058133577862\n",
            "39138  rating is  204.43128656735365\n",
            "103317  rating is  6.8099161084529385\n",
            "Team: [55108, 66210, 80463, 80468, 81672, 122636]\n",
            "55108  rating is  146.69285351338536\n",
            "66210  rating is  200.64056163188283\n",
            "80463  rating is  176.3304864258557\n",
            "80468  rating is  197.69188854293523\n",
            "81672  rating is  104.61499958082358\n",
            "122636  rating is  70.00730830868659\n",
            "Team: [12676, 16865, 34335, 37604, 82777, 134704]\n",
            "12676  rating is  201.49865207386546\n",
            "16865  rating is  140.62960341165822\n",
            "34335  rating is  239.81340205790866\n",
            "37604  rating is  171.49957625224346\n",
            "82777  rating is  277.23843077695517\n",
            "134704  rating is  30.257359205862038\n",
            "Team: [2678, 38587, 84935, 117998, 133226]\n",
            "2678  rating is  213.68111713554873\n",
            "38587  rating is  164.19256880440568\n",
            "84935  rating is  20.802883355812195\n",
            "117998  rating is  92.90065348062745\n",
            "133226  rating is  17.013611810449994\n",
            "Team: [29887, 46352, 70932, 78791, 97091]\n",
            "29887  rating is  477.9469041348346\n",
            "46352  rating is  39.880879569821154\n",
            "70932  rating is  192.3538134430242\n",
            "78791  rating is  119.02334195049464\n",
            "97091  rating is  76.78518528641145\n",
            "Team: [15664, 78609, 109862, 186185, 196330, 223970]\n",
            "15664  rating is  234.4102033137544\n",
            "78609  rating is  41.82132111782859\n",
            "109862  rating is  13.271587671027218\n",
            "186185  rating is  88.19874196132939\n",
            "196330  rating is  18.899612082951023\n",
            "Team: [9105, 13280, 17121, 40390, 59042, 77785]\n",
            "9105  rating is  128.95095124581204\n",
            "13280  rating is  40.55533500996641\n",
            "17121  rating is  121.91143457013231\n",
            "40390  rating is  154.17263382681736\n",
            "59042  rating is  86.13917343731308\n",
            "77785  rating is  48.62199776570156\n",
            "Team: [14518, 17668, 29892, 59352, 82124, 150941]\n",
            "14518  rating is  234.14622143112524\n",
            "17668  rating is  166.3233198303559\n",
            "29892  rating is  251.82997297132775\n",
            "59352  rating is  171.66601530584117\n",
            "82124  rating is  77.40632473228418\n",
            "150941  rating is  60.80288102273605\n",
            "Team: [9561, 47129, 67250, 67251, 78838, 136867]\n",
            "9561  rating is  30.270581767768977\n",
            "47129  rating is  93.2568346000594\n",
            "67250  rating is  -2.3193803581017884\n",
            "67251  rating is  14.733228303803504\n",
            "78838  rating is  29.956392710659777\n",
            "136867  rating is  8.45818160635475\n",
            "Team: [40634, 61365, 108330]\n",
            "40634  rating is  31.281264129616492\n",
            "61365  rating is  37.792778553619485\n",
            "108330  rating is  15.811717134991914\n",
            "Team: [4426, 35240, 36232, 95481, 172752, 210808]\n",
            "4426  rating is  497.7692584370092\n",
            "35240  rating is  301.20486684062837\n",
            "36232  rating is  18.03521952523836\n",
            "95481  rating is  74.96875687040871\n",
            "172752  rating is  8.109954464434168\n",
            "210808  rating is  2.188079248683969\n",
            "Team: [9773, 16244, 21574, 152316, 162581, 173804]\n",
            "9773  rating is  21.056351902053578\n",
            "16244  rating is  4.524647413829631\n",
            "21574  rating is  41.14826945844362\n",
            "152316  rating is  9.640148681878118\n",
            "162581  rating is  15.104918720803422\n",
            "173804  rating is  12.758948546369284\n",
            "Team: [4879, 51876, 60964, 82976, 130038]\n",
            "4879  rating is  28.200888868920362\n",
            "51876  rating is  168.39293352363055\n",
            "60964  rating is  169.90876026988073\n",
            "82976  rating is  223.81324186901338\n",
            "130038  rating is  73.24527771133039\n",
            "Team: [16098, 29923, 84999, 137555]\n",
            "16098  rating is  62.39587154026508\n",
            "29923  rating is  53.72380558756601\n",
            "84999  rating is  50.46531624869419\n",
            "137555  rating is  21.786916953643054\n",
            "Team: [1033, 1683, 11814, 14252, 28329, 47436]\n",
            "1033  rating is  23.37291216301261\n",
            "1683  rating is  20.275338432698298\n",
            "11814  rating is  155.98019977760333\n",
            "14252  rating is  21.342965645209297\n",
            "28329  rating is  17.741535592012585\n",
            "47436  rating is  28.48993064673384\n",
            "Team: [20090, 25589, 31861]\n",
            "20090  rating is  88.04294024033679\n",
            "25589  rating is  117.86621137550875\n",
            "31861  rating is  61.41693010881462\n",
            "Team: [110327, 110328, 115790, 133610]\n",
            "110327  rating is  105.6401744833338\n",
            "110328  rating is  101.52216108392241\n",
            "115790  rating is  65.89815346692846\n",
            "133610  rating is  113.88848723465226\n",
            "Team: [66486, 102108, 102564, 107043, 113330, 129460]\n",
            "66486  rating is  61.4262239299747\n",
            "102108  rating is  75.37471282700236\n",
            "102564  rating is  -7.5200521302190735\n",
            "107043  rating is  60.56230245332762\n",
            "113330  rating is  87.16212574424617\n",
            "129460  rating is  97.44842330225367\n",
            "Team: [30251, 117005, 121409, 145065, 145067, 155608]\n",
            "30251  rating is  120.16272151949111\n",
            "117005  rating is  -8.807521679019967\n",
            "121409  rating is  17.65459819009153\n",
            "145065  rating is  52.629158205910365\n",
            "145067  rating is  52.77086938653949\n",
            "155608  rating is  37.50942938623565\n",
            "Team: [84238, 111549, 111552, 113214, 115458, 125946]\n",
            "84238  rating is  1.2293487870461501\n",
            "111549  rating is  15.548140522041209\n",
            "111552  rating is  31.424769442991327\n",
            "113214  rating is  44.70653485196258\n",
            "115458  rating is  7.5056134329082855\n",
            "125946  rating is  -3.370904655848393\n",
            "Team: [475, 8455, 8610, 19170]\n",
            "475  rating is  144.8727107662399\n",
            "8455  rating is  48.9318297546152\n",
            "8610  rating is  138.05899515116135\n",
            "19170  rating is  122.49671284632886\n",
            "Team: [18112, 24551, 28026, 54713, 68676, 77549]\n",
            "18112  rating is  215.53883627913805\n",
            "24551  rating is  86.55071971751993\n",
            "28026  rating is  80.65155315715008\n",
            "54713  rating is  69.13020279812496\n",
            "68676  rating is  168.49530650848683\n",
            "77549  rating is  98.23950554302026\n",
            "Team: [91247, 102213, 162854, 195793]\n",
            "91247  rating is  112.35596373639005\n",
            "102213  rating is  102.38047157202978\n",
            "162854  rating is  66.94672152352665\n",
            "195793  rating is  32.361214529753795\n",
            "Team: [77887, 97434, 112520, 118608, 123126]\n",
            "77887  rating is  22.232440854301323\n",
            "97434  rating is  6.878881816686165\n",
            "112520  rating is  57.69669483758725\n",
            "118608  rating is  51.55901655017965\n",
            "123126  rating is  20.487721697904163\n",
            "Team: [20461, 68892, 89287, 92947, 110866, 134098]\n",
            "20461  rating is  114.75028002522333\n",
            "68892  rating is  58.869774386712606\n",
            "89287  rating is  83.47625401383176\n",
            "92947  rating is  89.311196975173\n",
            "110866  rating is  103.7320136458374\n",
            "134098  rating is  141.79438764134346\n",
            "Team: [19480, 23771, 91073, 170131, 181640, 194006]\n",
            "19480  rating is  63.992003372790194\n",
            "23771  rating is  119.3833429788008\n",
            "91073  rating is  58.33092567264296\n",
            "170131  rating is  -25.939827362769442\n",
            "181640  rating is  24.55742473407297\n",
            "194006  rating is  0.44902076119197754\n",
            "Team: [1902, 88405, 99767, 110507, 181643, 192956]\n",
            "1902  rating is  196.64911819497067\n",
            "88405  rating is  168.73710906356166\n",
            "99767  rating is  153.0546348474816\n",
            "110507  rating is  98.44664840552765\n",
            "181643  rating is  27.342529966475382\n",
            "192956  rating is  17.62076454070519\n",
            "Team: [38353, 80521, 80561, 85119, 90896]\n",
            "38353  rating is  74.33605326196697\n",
            "80521  rating is  98.99528687458466\n",
            "80561  rating is  81.86280849729911\n",
            "85119  rating is  189.6928240894564\n",
            "90896  rating is  91.14947219628145\n",
            "Team: [17686, 26243, 66031, 132648, 132649, 197559]\n",
            "17686  rating is  232.42376270931564\n",
            "26243  rating is  273.609982657643\n",
            "66031  rating is  -19.097303741806655\n",
            "132648  rating is  63.77994369978987\n",
            "132649  rating is  21.498806601188015\n",
            "197559  rating is  -1.26030484710413\n",
            "Team: [15845, 24685, 47489, 75042]\n",
            "15845  rating is  223.01156704529993\n",
            "24685  rating is  133.03059237000602\n",
            "47489  rating is  140.78561821937768\n",
            "75042  rating is  216.60113623229515\n",
            "Team: [24850, 72160, 134991]\n",
            "24850  rating is  439.3659814655957\n",
            "72160  rating is  517.9321995987001\n",
            "134991  rating is  154.8335977435639\n",
            "Team: [11439, 24894, 37227, 40162, 127898, 142941]\n",
            "11439  rating is  12.500167784716897\n",
            "24894  rating is  66.45265217209831\n",
            "37227  rating is  33.73256509303041\n",
            "40162  rating is  32.63707590482662\n",
            "127898  rating is  49.8803790307632\n",
            "142941  rating is  39.58582992831783\n",
            "Team: [11886, 24668, 31949, 170057, 194145, 194146]\n",
            "11886  rating is  167.66629129386146\n",
            "24668  rating is  40.96316546289111\n",
            "31949  rating is  13.040653248239316\n",
            "170057  rating is  25.66097464664372\n",
            "194145  rating is  0.17144614319169382\n",
            "194146  rating is  -2.074573646461635\n",
            "Team: [3157, 40552, 150453, 151402, 173115, 220059]\n",
            "3157  rating is  -4.098456888913674\n",
            "40552  rating is  19.113907319615976\n",
            "150453  rating is  -4.8004264977275355\n",
            "151402  rating is  5.902498848878561\n",
            "173115  rating is  -7.160325223951924\n",
            "220059  rating is  -1.2244465447796646\n",
            "Team: [7361, 147117, 147119, 150454, 152977, 219841]\n",
            "7361  rating is  -93.9786408157259\n",
            "147117  rating is  -5.231048145073127\n",
            "147119  rating is  -4.372741606282017\n",
            "150454  rating is  -34.42483180984718\n",
            "152977  rating is  3.0845810674636507\n",
            "219841  rating is  1.2724633962824774\n",
            "Team: [2898, 15015, 27220, 28818, 30650, 115202]\n",
            "2898  rating is  64.101226528255\n",
            "15015  rating is  53.07136787773655\n",
            "27220  rating is  50.203202847750816\n",
            "28818  rating is  157.04976500914242\n",
            "30650  rating is  68.91421739131464\n",
            "115202  rating is  8.00761842003219\n",
            "Team: [94677, 149171, 149172, 192718, 198039]\n",
            "94677  rating is  26.68135146578767\n",
            "149171  rating is  14.992898474278459\n",
            "149172  rating is  15.598265011290307\n",
            "192718  rating is  9.883391386844437\n",
            "198039  rating is  8.703097440436656\n",
            "Team: [76084, 110312, 110313, 116731, 117211, 178627]\n",
            "76084  rating is  136.8532725178941\n",
            "110312  rating is  54.25688491560873\n",
            "110313  rating is  127.83567636541915\n",
            "116731  rating is  61.40523875440661\n",
            "117211  rating is  43.8993486460663\n",
            "178627  rating is  11.391748248821354\n",
            "Team: [3096, 5475, 21419, 25006, 30034]\n",
            "3096  rating is  154.33535495445315\n",
            "5475  rating is  96.70904060150275\n",
            "21419  rating is  87.56964755556317\n",
            "25006  rating is  130.85495238607368\n",
            "30034  rating is  120.65553188134894\n",
            "Team: [18189, 28856, 72279, 77653, 182489]\n",
            "18189  rating is  66.27816686885514\n",
            "28856  rating is  21.23756458945782\n",
            "72279  rating is  41.40297641585309\n",
            "77653  rating is  50.069297259261056\n",
            "182489  rating is  1.2835964768525479\n",
            "Team: [6996, 59193, 95995, 102977]\n",
            "6996  rating is  29.96346678474291\n",
            "59193  rating is  44.954421225321404\n",
            "95995  rating is  169.61777884868656\n",
            "102977  rating is  8.488620436289944\n",
            "Team: [93633, 93634, 100654, 108408, 115049, 124405]\n",
            "93633  rating is  -4.863168365470017\n",
            "93634  rating is  -12.613613790014654\n",
            "100654  rating is  21.18431366878505\n",
            "108408  rating is  28.386494801784337\n",
            "115049  rating is  -1.8516366600066343\n",
            "124405  rating is  20.540571801074815\n",
            "Team: [15722, 30337, 48055, 101861, 101862]\n",
            "15722  rating is  64.8474297630587\n",
            "30337  rating is  16.992032625866106\n",
            "48055  rating is  59.71763789852973\n",
            "101861  rating is  34.48759804277876\n",
            "101862  rating is  30.819181891589583\n",
            "Team: [110639, 116317, 116319, 121492, 124630, 131925]\n",
            "110639  rating is  -40.74092153441024\n",
            "116317  rating is  -93.32443933422883\n",
            "116319  rating is  -95.52828147396646\n",
            "121492  rating is  -71.12711678795495\n",
            "124630  rating is  -80.10338963336542\n",
            "131925  rating is  -33.71036867215027\n",
            "Team: [19936, 120596, 155806, 166713, 170546]\n",
            "19936  rating is  39.398541620260346\n",
            "120596  rating is  0.01443357483206964\n",
            "155806  rating is  -5.121943772797702\n",
            "166713  rating is  0.7068848631904225\n",
            "170546  rating is  -5.696300049572572\n",
            "Team: [7806, 14159, 36817, 53365]\n",
            "7806  rating is  142.70491955965636\n",
            "14159  rating is  82.5860466199309\n",
            "36817  rating is  188.92573071487476\n",
            "53365  rating is  144.11985762230776\n",
            "Team: [128384, 154412, 174123, 184887, 199021, 201531]\n",
            "128384  rating is  -4.397448040467191\n",
            "154412  rating is  -6.955652758158255\n",
            "174123  rating is  2.8178993590139187\n",
            "184887  rating is  31.037009709899408\n",
            "199021  rating is  -1.1911921048476621\n",
            "201531  rating is  3.2992334396569643\n",
            "Team: [18009, 67304, 90455, 131909, 147163, 149724]\n",
            "18009  rating is  33.09081552086764\n",
            "67304  rating is  79.34407408210144\n",
            "90455  rating is  62.29582018442857\n",
            "131909  rating is  166.8521711441015\n",
            "147163  rating is  49.06270644232873\n",
            "149724  rating is  167.16591405863463\n",
            "Team: [25115, 63388, 67404, 69688]\n",
            "25115  rating is  38.04161500987254\n",
            "63388  rating is  31.666865877911818\n",
            "67404  rating is  15.236854370040053\n",
            "69688  rating is  18.82405502142913\n",
            "Team: [22570, 110340, 110341, 110342, 110344, 171882]\n",
            "22570  rating is  -10.71502802753387\n",
            "110340  rating is  2.3945335225483317\n",
            "110341  rating is  7.7335003216934375\n",
            "110342  rating is  4.007103912390464\n",
            "110344  rating is  1.7830620017939727\n",
            "171882  rating is  2.350776001179789\n",
            "Team: [81117, 122433, 122434, 126341, 134329, 156780]\n",
            "81117  rating is  49.87068134372658\n",
            "122433  rating is  62.045031348234154\n",
            "122434  rating is  46.93976459290604\n",
            "126341  rating is  111.4825501026718\n",
            "134329  rating is  10.369193243187823\n",
            "156780  rating is  -42.297774421996486\n",
            "Team: [123504, 123506, 123507, 123508, 177928]\n",
            "123504  rating is  -31.01417279228975\n",
            "123506  rating is  -30.62485047918686\n",
            "123507  rating is  -16.866149958847522\n",
            "123508  rating is  -26.39848826312393\n",
            "177928  rating is  -2.9446411735160085\n",
            "Team: [96600, 96606, 96609, 96895, 101067, 132328]\n",
            "96600  rating is  0.9816565795984353\n",
            "96606  rating is  -0.8473066710739989\n",
            "96609  rating is  7.965405650126362\n",
            "96895  rating is  -1.1242956418645456\n",
            "101067  rating is  -8.350455142416655\n",
            "132328  rating is  -5.014501821316075\n",
            "Team: [118772, 126221, 126222, 146111, 154667]\n",
            "118772  rating is  -20.67876853067155\n",
            "126221  rating is  -47.347538001417234\n",
            "126222  rating is  -48.372336575391245\n",
            "146111  rating is  -15.345876161459616\n",
            "154667  rating is  -1.821731343087008\n",
            "Team: [96258, 144123, 144124, 164722, 182996, 183027]\n",
            "96258  rating is  -22.656306568289608\n",
            "144123  rating is  -10.946102359094589\n",
            "144124  rating is  -12.895304757640588\n",
            "164722  rating is  -4.459797557243797\n",
            "182996  rating is  -1.3895244319263382\n",
            "183027  rating is  -2.3961465169981597\n",
            "Team: [2466, 5583, 8885, 17780, 37730]\n",
            "2466  rating is  136.28768602110492\n",
            "5583  rating is  -6.817280505538228\n",
            "8885  rating is  4.387718595425883\n",
            "17780  rating is  163.85678877793904\n",
            "37730  rating is  8.123796647873354\n",
            "Team: [8103, 10774, 24365, 34009, 39036, 74181]\n",
            "8103  rating is  66.04767885062404\n",
            "10774  rating is  196.5433421734714\n",
            "24365  rating is  212.61447459535694\n",
            "34009  rating is  287.06106467617235\n",
            "39036  rating is  118.41901487644157\n",
            "74181  rating is  212.60690216457826\n",
            "Team: [99451, 100368, 102457, 131176, 134307, 134990]\n",
            "99451  rating is  -97.51966059632704\n",
            "100368  rating is  5.448036124461536\n",
            "102457  rating is  -29.17380141673002\n",
            "131176  rating is  -54.74544090651638\n",
            "134307  rating is  -6.398675166944932\n",
            "134990  rating is  -26.889697703494612\n",
            "Team: [12002, 34215]\n",
            "12002  rating is  -78.98823038294739\n",
            "34215  rating is  19.754958322693785\n",
            "Team: [131738, 148194, 148196]\n",
            "131738  rating is  -2.4669403460558357\n",
            "148194  rating is  -3.421809585876171\n",
            "148196  rating is  -4.8166980119388585\n",
            "Team: [3726, 26867, 106828, 108557, 179364, 218915]\n",
            "3726  rating is  35.0501426570344\n",
            "26867  rating is  95.77741458928975\n",
            "106828  rating is  -11.632303228350192\n",
            "108557  rating is  -12.436083537567262\n",
            "179364  rating is  1.6847564703511129\n",
            "218915  rating is  0.25799206312603884\n",
            "Team: [30818, 35890, 40406, 198419, 198420, 198818]\n",
            "30818  rating is  2.050321639422394\n",
            "35890  rating is  -0.5485402707427249\n",
            "40406  rating is  6.601155728599279\n",
            "198419  rating is  7.185716201291275\n",
            "198420  rating is  9.587651364329782\n",
            "198818  rating is  9.259052999409771\n",
            "Team: [121686, 130710, 132165, 133351]\n",
            "121686  rating is  55.97307366131895\n",
            "130710  rating is  57.29448729337208\n",
            "132165  rating is  48.47641946896886\n",
            "133351  rating is  58.801164589547334\n",
            "Team: [16591, 27754, 61732, 82615, 117086, 144306]\n",
            "16591  rating is  2.7237929549449866\n",
            "27754  rating is  64.42872555325276\n",
            "61732  rating is  29.863297324823247\n",
            "82615  rating is  52.495562964467496\n",
            "117086  rating is  9.262784796766391\n",
            "144306  rating is  84.47069157202432\n",
            "Team: [7773, 16621, 27854, 39143, 117884, 127714]\n",
            "7773  rating is  437.49468484542\n",
            "16621  rating is  429.9770455293835\n",
            "27854  rating is  75.28007153551819\n",
            "39143  rating is  20.08303984886824\n",
            "117884  rating is  48.691426697646364\n",
            "127714  rating is  -95.07938601398166\n",
            "Team: [42353, 103290, 111255, 135103, 156208, 166584]\n",
            "42353  rating is  15.23203253968575\n",
            "103290  rating is  15.746767169806152\n",
            "111255  rating is  141.17824742248632\n",
            "135103  rating is  -46.65081216243273\n",
            "156208  rating is  -1.8274424671452016\n",
            "166584  rating is  16.750576123256923\n",
            "Team: [18584, 20744, 44437, 44457, 44458, 44460]\n",
            "18584  rating is  72.98592802740485\n",
            "20744  rating is  7.628330519795145\n",
            "44437  rating is  73.07593022071352\n",
            "44457  rating is  43.56182195073303\n",
            "44458  rating is  43.684328771823175\n",
            "44460  rating is  36.86351137296864\n",
            "Team: [11263, 16173, 45910]\n",
            "11263  rating is  58.1299239000549\n",
            "16173  rating is  72.20177238779904\n",
            "45910  rating is  55.65458213032806\n",
            "Team: [29861, 34160, 45953, 54705, 166512]\n",
            "29861  rating is  -26.431111818390132\n",
            "34160  rating is  84.33178107049089\n",
            "45953  rating is  22.19633503361899\n",
            "54705  rating is  -23.53711220360827\n",
            "166512  rating is  -1.6532913402818996\n",
            "Team: [26255, 32695, 61939, 71312, 72142]\n",
            "26255  rating is  101.07800344797029\n",
            "32695  rating is  -2.79171015058434\n",
            "61939  rating is  -12.373312143258866\n",
            "71312  rating is  -18.334508387420467\n",
            "72142  rating is  -12.935358084066845\n",
            "Team: [6072, 30391, 95943, 101698, 126456, 163129]\n",
            "6072  rating is  26.869720040610755\n",
            "30391  rating is  23.539354639180505\n",
            "95943  rating is  2.4422323962536603\n",
            "101698  rating is  19.008047096934884\n",
            "126456  rating is  24.433196870857255\n",
            "163129  rating is  4.775574515991279\n",
            "Team: [55531, 97589, 128645, 135837, 135854]\n",
            "55531  rating is  52.236976539834224\n",
            "97589  rating is  -78.4733096127654\n",
            "128645  rating is  -25.198805563553744\n",
            "135837  rating is  -49.35343179754785\n",
            "135854  rating is  -20.12143640818474\n",
            "Team: [2993, 27657, 163109, 166695, 166726, 166831]\n",
            "2993  rating is  3.327948347207\n",
            "27657  rating is  -13.768678159809445\n",
            "163109  rating is  -15.849480099934722\n",
            "166695  rating is  1.8926693504702714\n",
            "166726  rating is  -10.337067634750674\n",
            "166831  rating is  -9.50736097285531\n",
            "Team: [1468, 52274, 61316, 92003, 122589]\n",
            "1468  rating is  69.64052617981167\n",
            "52274  rating is  95.52217542458445\n",
            "61316  rating is  139.94545290287692\n",
            "92003  rating is  -20.156749328603922\n",
            "122589  rating is  -38.677508722436876\n",
            "Team: [147816, 182154, 182155, 198608]\n",
            "147816  rating is  -11.3937316953052\n",
            "182154  rating is  -20.249175286415795\n",
            "182155  rating is  -19.31789603664566\n",
            "198608  rating is  -3.6750326979611576\n",
            "Team: [88487, 118401, 172000, 173230, 173568, 195948]\n",
            "88487  rating is  5.404429558569749\n",
            "118401  rating is  19.62769990769133\n",
            "172000  rating is  10.823497077299036\n",
            "173230  rating is  18.52671368561909\n",
            "173568  rating is  10.617963429089416\n",
            "195948  rating is  11.361721145809575\n",
            "Team: [41255, 74688, 117012, 128896, 128898]\n",
            "41255  rating is  260.91838958770967\n",
            "74688  rating is  21.898355294651555\n",
            "117012  rating is  23.004093333919325\n",
            "128896  rating is  26.215157203144813\n",
            "128898  rating is  1.2747306281593527\n",
            "Team: [4404, 22723, 26223, 39858, 200824]\n",
            "4404  rating is  0.4012142475212688\n",
            "22723  rating is  132.69201457358838\n",
            "26223  rating is  42.75911953567288\n",
            "39858  rating is  14.905268132614891\n",
            "200824  rating is  -0.5867171895581909\n",
            "Team: [52394, 83298, 121665, 200460, 202695, 219726]\n",
            "52394  rating is  3.4955453786458035\n",
            "83298  rating is  25.002634553265985\n",
            "121665  rating is  -2.580892732874649\n",
            "200460  rating is  4.2345601585428945\n",
            "202695  rating is  -0.3062977851310744\n",
            "219726  rating is  0.3083687789103233\n",
            "Team: [60278, 60279, 82737, 135922, 150355, 175329]\n",
            "60278  rating is  -99.99756039757747\n",
            "60279  rating is  -78.15878793262162\n",
            "82737  rating is  28.146246213154534\n",
            "135922  rating is  46.213564875960145\n",
            "150355  rating is  49.30712141764589\n",
            "175329  rating is  -17.706381326956972\n",
            "Team: [2668, 20114, 94783, 98697, 115867, 149519]\n",
            "2668  rating is  86.70038655552794\n",
            "20114  rating is  -1.2250584710152268\n",
            "94783  rating is  79.90778588377367\n",
            "98697  rating is  123.94684441691321\n",
            "115867  rating is  37.91483633273407\n",
            "149519  rating is  7.580609181884801\n",
            "Team: [37373, 54316, 79563, 150951, 150955]\n",
            "37373  rating is  17.485824409709426\n",
            "54316  rating is  34.59292838293762\n",
            "79563  rating is  31.55596212940086\n",
            "150951  rating is  11.363996384344665\n",
            "150955  rating is  6.175454285634384\n",
            "Team: [87865, 125032, 186930, 213352]\n",
            "87865  rating is  173.35267912051685\n",
            "125032  rating is  14.19969544265366\n",
            "186930  rating is  19.307605137860524\n",
            "213352  rating is  3.262756908626358\n",
            "Team: [6485, 101975, 118283, 129960, 220204, 220205]\n",
            "6485  rating is  13.618282891602163\n",
            "101975  rating is  17.213073780502715\n",
            "118283  rating is  14.145276270172312\n",
            "129960  rating is  4.810249833376615\n",
            "Team: [14871, 17147, 37206, 41606, 43376]\n",
            "14871  rating is  54.55293315704449\n",
            "17147  rating is  117.61798030384587\n",
            "37206  rating is  104.30278788073188\n",
            "41606  rating is  60.849203155107126\n",
            "43376  rating is  0.7289804420739576\n",
            "Team: [15198, 106210, 142721, 162607, 163382, 173947]\n",
            "15198  rating is  7.591137108678063\n",
            "106210  rating is  -23.803827368075073\n",
            "142721  rating is  -30.05104735095387\n",
            "162607  rating is  -15.680771850223097\n",
            "163382  rating is  -26.568708659784033\n",
            "173947  rating is  -21.328086319680978\n",
            "Team: [107498, 132357, 140697, 159350, 188756, 189917]\n",
            "107498  rating is  -11.772039977217567\n",
            "132357  rating is  7.741154706969251\n",
            "140697  rating is  -0.2851287859927429\n",
            "159350  rating is  -2.141008172205596\n",
            "188756  rating is  -0.24040048095889188\n",
            "189917  rating is  3.1698181020855953\n",
            "Team: [31038, 32221]\n",
            "31038  rating is  341.2836532319958\n",
            "32221  rating is  18.326734470946814\n",
            "Team: [71337, 93020, 148040, 193213, 193214, 193618]\n",
            "71337  rating is  -5.345808298033229\n",
            "93020  rating is  -28.855673459153518\n",
            "148040  rating is  -19.555133147563932\n",
            "193213  rating is  -16.053348032619564\n",
            "193214  rating is  -3.2301161444166504\n",
            "193618  rating is  -5.547547953789288\n",
            "Team: [3386, 6853, 29999, 79434, 133325, 206007]\n",
            "3386  rating is  19.31372575965539\n",
            "6853  rating is  3.769233555202634\n",
            "29999  rating is  -1.6075020008709144\n",
            "79434  rating is  -6.549823726192647\n",
            "133325  rating is  -0.4646305293295001\n",
            "206007  rating is  -0.1633230219585945\n",
            "Team: [108329, 143583, 148292, 188593, 188892]\n",
            "108329  rating is  61.173228917980374\n",
            "143583  rating is  -1.7206295465708301\n",
            "148292  rating is  -18.186610475082276\n",
            "188593  rating is  24.424094407318453\n",
            "188892  rating is  28.93226832183845\n",
            "Team: [90840, 90841, 92729, 101294, 202311]\n",
            "90840  rating is  -9.178324822149484\n",
            "90841  rating is  2.7940190746106657\n",
            "92729  rating is  2.380915038639219\n",
            "101294  rating is  5.977192777745676\n",
            "202311  rating is  3.0079616134094387\n",
            "Team: [98598, 98599, 115148, 125022, 134358, 134360]\n",
            "98598  rating is  32.16589112515071\n",
            "98599  rating is  30.350528222318225\n",
            "115148  rating is  30.540355344165505\n",
            "125022  rating is  -2.075815557318805\n",
            "134358  rating is  11.715124676481356\n",
            "134360  rating is  -7.357666944233205\n",
            "Team: [66122, 78003, 130283, 149347, 165682, 165685]\n",
            "66122  rating is  -2.9493109332152345\n",
            "78003  rating is  -5.917222187797949\n",
            "130283  rating is  -16.460384554127323\n",
            "149347  rating is  7.916475103192153\n",
            "165682  rating is  -24.52948109739684\n",
            "165685  rating is  -8.813898465632123\n",
            "Team: [171182, 171183, 171185]\n",
            "171182  rating is  -14.731962802751243\n",
            "171183  rating is  -20.92098320544876\n",
            "171185  rating is  -16.407700897077326\n",
            "Team: [2171, 6532, 114239, 199749, 213973, 214738]\n",
            "2171  rating is  3.739757242165723\n",
            "6532  rating is  37.432299799865696\n",
            "114239  rating is  0.6565164285821004\n",
            "199749  rating is  6.927267220748415\n",
            "213973  rating is  7.316556212504112\n",
            "214738  rating is  4.905997337237891\n",
            "Team: [2659, 16699, 26028, 36588]\n",
            "2659  rating is  -5.235819104346392\n",
            "16699  rating is  -11.74141361755358\n",
            "26028  rating is  3.878311834691955\n",
            "36588  rating is  -12.476293296235706\n",
            "Team: [14504, 17820, 38019, 54467, 75322, 99353]\n",
            "14504  rating is  64.30217276656673\n",
            "17820  rating is  11.083410067174453\n",
            "38019  rating is  37.97626385462538\n",
            "54467  rating is  62.75136389705828\n",
            "75322  rating is  49.35005215417818\n",
            "99353  rating is  -26.3819561146279\n",
            "Team: [37610, 62035, 65452, 137557, 137558]\n",
            "37610  rating is  -6.513518353055674\n",
            "62035  rating is  73.05232762621402\n",
            "65452  rating is  -9.925352944032195\n",
            "137557  rating is  -10.003194582076043\n",
            "137558  rating is  -4.692588322192947\n",
            "Team: [8435, 10640, 10925, 113846, 174138, 198576]\n",
            "8435  rating is  5.448328615105628\n",
            "10640  rating is  7.585729112883155\n",
            "10925  rating is  -8.74860896580127\n",
            "113846  rating is  -27.797291362438877\n",
            "174138  rating is  -7.860552832388178\n",
            "198576  rating is  -10.747108496717445\n",
            "Team: [28016, 95047, 95739, 190544, 221930]\n",
            "28016  rating is  -78.33193640392578\n",
            "95047  rating is  -11.098111008677039\n",
            "95739  rating is  -6.008984185190785\n",
            "190544  rating is  -1.6761118028204582\n",
            "221930  rating is  0.049915266607048356\n",
            "Team: [121880, 140855, 191891, 199136, 219602]\n",
            "121880  rating is  -143.19205523354643\n",
            "140855  rating is  -106.73645719692969\n",
            "191891  rating is  -23.496173418012013\n",
            "199136  rating is  -6.084195128587515\n",
            "219602  rating is  -0.5213188189907236\n",
            "Team: [18095, 121888, 135141]\n",
            "18095  rating is  15.783726868493478\n",
            "121888  rating is  20.748777440135626\n",
            "135141  rating is  8.42017935274269\n",
            "Team: [139831, 152017, 155298, 158822]\n",
            "139831  rating is  -48.977459746296695\n",
            "152017  rating is  -9.015451536150527\n",
            "155298  rating is  -7.329226928182632\n",
            "158822  rating is  -8.639826647801648\n",
            "Team: [109233, 169438, 173708, 190324]\n",
            "109233  rating is  -7.87825540640584\n",
            "169438  rating is  -4.8298527535261675\n",
            "173708  rating is  1.7398929938673513\n",
            "190324  rating is  1.122853514215592\n",
            "Team: [69472, 120388, 132773, 142208, 151491]\n",
            "69472  rating is  0.08569748250159494\n",
            "120388  rating is  -15.807748371107749\n",
            "132773  rating is  -23.489997005909697\n",
            "142208  rating is  -9.905332350023002\n",
            "151491  rating is  -8.307419133641254\n",
            "Team: [21775, 25448, 32511, 81769, 189597]\n",
            "21775  rating is  86.26178548188565\n",
            "25448  rating is  75.97177904912508\n",
            "32511  rating is  18.22754128645754\n",
            "81769  rating is  -6.3115501330613\n",
            "189597  rating is  1.5640784487927024\n",
            "Team: [148379, 150222, 154413, 162344, 170387, 170388]\n",
            "148379  rating is  -2.4410886184331364\n",
            "150222  rating is  -11.784910792525816\n",
            "154413  rating is  -1.4003623242307293\n",
            "162344  rating is  2.8897149858857882\n",
            "170387  rating is  4.0222775458561255\n",
            "170388  rating is  0.14824975544817448\n",
            "Team: [51427, 135752, 138961, 149732, 198520, 199557]\n",
            "51427  rating is  -2.673532078722192\n",
            "135752  rating is  5.8865190565983845\n",
            "138961  rating is  -3.4232437431238893\n",
            "149732  rating is  -2.666849090089742\n",
            "198520  rating is  -1.7330532510028596\n",
            "199557  rating is  -0.5786224293171002\n",
            "Team: [213588, 214342, 214343, 214347, 216133, 216134]\n",
            "213588  rating is  0.7546680949076988\n",
            "214342  rating is  0.29183938029350376\n",
            "214343  rating is  0.29183938029350376\n",
            "214347  rating is  0.29183938029350376\n",
            "216133  rating is  -0.5408502140002596\n",
            "216134  rating is  -0.669697013844297\n",
            "Team: [58630, 77652, 86757]\n",
            "58630  rating is  -6.718809395197407\n",
            "77652  rating is  67.37899875888851\n",
            "86757  rating is  44.29464495041016\n",
            "Team: [117726, 117728, 151554]\n",
            "117726  rating is  -96.04970490670327\n",
            "117728  rating is  -103.4544401212557\n",
            "151554  rating is  -18.252395796320403\n",
            "Team: [127785, 157458, 157460, 157461, 157462]\n",
            "127785  rating is  -40.81310546868745\n",
            "157458  rating is  -54.34994084029637\n",
            "157460  rating is  -65.57987204093777\n",
            "157461  rating is  -77.61730068933718\n",
            "157462  rating is  -62.89648288304147\n",
            "Team: [4046, 13103, 35246, 161484, 171947, 181463]\n",
            "4046  rating is  -5.267359181495046\n",
            "13103  rating is  1.2761066611610468\n",
            "35246  rating is  3.2275565165777595\n",
            "161484  rating is  3.5953836464413986\n",
            "171947  rating is  -0.7362519955598626\n",
            "181463  rating is  0.5386112072628775\n",
            "Team: [13618, 55198, 172959, 172961, 172964]\n",
            "13618  rating is  -28.605688823043636\n",
            "55198  rating is  -44.89720916003384\n",
            "172959  rating is  -14.300611786890249\n",
            "172961  rating is  -10.287643760223654\n",
            "172964  rating is  -22.059289979699578\n",
            "Team: [68016, 116630, 162056, 180671, 180672, 189077]\n",
            "68016  rating is  -58.31008507306684\n",
            "116630  rating is  -49.63180159368365\n",
            "162056  rating is  3.4843885417653038\n",
            "180671  rating is  -22.489133846782632\n",
            "180672  rating is  -33.95395294758982\n",
            "189077  rating is  -16.985702869633894\n",
            "Team: [96542, 175721, 175722, 194327, 199941, 203013]\n",
            "96542  rating is  4.477375148745329\n",
            "175721  rating is  -12.92576585746466\n",
            "175722  rating is  -15.597630571765894\n",
            "194327  rating is  -13.752763687060337\n",
            "199941  rating is  -11.269832322370654\n",
            "203013  rating is  -9.11774812468433\n",
            "Team: [92436, 110481, 141881, 142210, 143639]\n",
            "92436  rating is  -43.25965797369773\n",
            "110481  rating is  -56.69177377442895\n",
            "141881  rating is  -14.528033790021667\n",
            "142210  rating is  -12.201138901321015\n",
            "143639  rating is  -6.567931396053252\n",
            "Team: [89292, 162121, 198149, 198150, 198152, 216690]\n",
            "89292  rating is  -9.527131553344253\n",
            "162121  rating is  -13.616470307680418\n",
            "198149  rating is  -11.502533807381923\n",
            "198150  rating is  -6.325943961206091\n",
            "198152  rating is  -8.106236378992946\n",
            "216690  rating is  -2.2675731775773724\n",
            "Team: [92443, 92445, 123501]\n",
            "92443  rating is  51.23569354987228\n",
            "92445  rating is  55.91893825921789\n",
            "123501  rating is  52.04327554651051\n",
            "Team: [98218, 131179, 158966, 158968, 162563]\n",
            "98218  rating is  -50.17752857488457\n",
            "131179  rating is  -105.62635738222797\n",
            "158966  rating is  -94.48155222891076\n",
            "158968  rating is  -114.50380016903095\n",
            "162563  rating is  -86.92592582850828\n",
            "Team: [69836, 72154, 99413, 99878, 122076, 199289]\n",
            "69836  rating is  -28.858200044673172\n",
            "72154  rating is  -27.536037279033025\n",
            "99413  rating is  -62.33161006137609\n",
            "99878  rating is  -41.66101811531462\n",
            "122076  rating is  -17.895154288980525\n",
            "199289  rating is  1.9068734468576862\n",
            "Team: [120365, 120367, 132281, 132282]\n",
            "120365  rating is  -33.661600763129634\n",
            "120367  rating is  -55.683860425241036\n",
            "132281  rating is  -66.90328792484674\n",
            "132282  rating is  -65.53083947333297\n",
            "Team: [83409, 133724, 133725, 158852, 177762, 179097]\n",
            "83409  rating is  -43.13793355682623\n",
            "133724  rating is  -0.11339644631782286\n",
            "133725  rating is  -2.2565783396528163\n",
            "158852  rating is  0.6194958596825718\n",
            "177762  rating is  0.5903682902936662\n",
            "179097  rating is  0.025340140913263365\n",
            "Team: [134693, 134695, 138887, 182006, 201396]\n",
            "134693  rating is  -87.26500828981979\n",
            "134695  rating is  -109.45549861887295\n",
            "138887  rating is  -99.90347021792184\n",
            "182006  rating is  -39.73239727927953\n",
            "201396  rating is  -2.6478489938395073\n",
            "Team: [172306, 172823, 189347, 199545]\n",
            "172306  rating is  -12.617763785656754\n",
            "172823  rating is  -2.765688578316363\n",
            "189347  rating is  5.459398672981851\n",
            "199545  rating is  1.1770727476109681\n",
            "Team: [122907, 148296, 165064, 196564, 201395, 216736]\n",
            "122907  rating is  -10.551147278278233\n",
            "148296  rating is  -132.2449105091938\n",
            "165064  rating is  -73.8231720869457\n",
            "196564  rating is  -3.647375117020979\n",
            "201395  rating is  -10.140190799185339\n",
            "216736  rating is  -0.6703591638901576\n",
            "Team: [4297, 35328, 149381, 170744, 170864]\n",
            "4297  rating is  23.12786498164726\n",
            "35328  rating is  78.87076282470237\n",
            "149381  rating is  -24.923951941757863\n",
            "170744  rating is  8.388565507784575\n",
            "170864  rating is  0.5383423566820527\n",
            "Team: [107922, 134870, 140230, 191235]\n",
            "107922  rating is  -14.12219093936044\n",
            "134870  rating is  -11.800934229904794\n",
            "140230  rating is  -6.261811231381234\n",
            "191235  rating is  -5.31884203253155\n",
            "Team: [103639, 131727, 217734, 217736, 217737, 218689]\n",
            "103639  rating is  5.093824999133003\n",
            "131727  rating is  -105.96728709225911\n",
            "217734  rating is  -0.4275160832181362\n",
            "217736  rating is  -0.16952402009209733\n",
            "217737  rating is  0.6058037257926434\n",
            "Team: [92172, 127692, 140284, 148640, 170136, 173238]\n",
            "92172  rating is  -69.74519914589182\n",
            "127692  rating is  -53.00581532190262\n",
            "140284  rating is  -63.499961004789306\n",
            "148640  rating is  -45.02027425027925\n",
            "170136  rating is  -36.12646933351766\n",
            "173238  rating is  -36.37670661033793\n",
            "Team: [123238, 129706, 145744, 192899, 192900, 192901]\n",
            "123238  rating is  -5.706325877156303\n",
            "129706  rating is  1.64540015865154\n",
            "145744  rating is  -3.839220990491366\n",
            "192899  rating is  -1.2871583776487492\n",
            "192900  rating is  -1.457228796129838\n",
            "192901  rating is  -1.0827555799449844\n",
            "Team: [5868, 20825, 77198]\n",
            "5868  rating is  -12.739288182889707\n",
            "20825  rating is  30.911586031740796\n",
            "77198  rating is  -2.906765839101365\n",
            "Team: [20095, 27268, 27954, 30168, 149461, 166084]\n",
            "20095  rating is  -0.21848711228040307\n",
            "27268  rating is  -9.7024368291511\n",
            "27954  rating is  -0.7243851271978645\n",
            "30168  rating is  1.3178016716174412\n",
            "149461  rating is  -36.12774947925359\n",
            "166084  rating is  -27.755718941332216\n",
            "Team: [8155, 8709, 8732, 21105, 21106, 28345]\n",
            "8155  rating is  -12.42633190085478\n",
            "8709  rating is  -15.058934467788252\n",
            "8732  rating is  -15.593822335536085\n",
            "21105  rating is  -12.015904386093105\n",
            "21106  rating is  -17.543970211645597\n",
            "28345  rating is  0.38821581354530615\n",
            "Team: [4224, 29463, 66462, 67000, 82012]\n",
            "4224  rating is  -58.40101136565134\n",
            "29463  rating is  -71.28707715081282\n",
            "66462  rating is  -91.74154570875811\n",
            "67000  rating is  -87.5546129879757\n",
            "82012  rating is  -44.40103775514057\n",
            "Team: [83196, 161410, 162799]\n",
            "83196  rating is  -18.86708606839751\n",
            "161410  rating is  -9.328434158421263\n",
            "162799  rating is  -5.895466337289301\n",
            "Team: [96612, 96613, 142718, 150062, 175683]\n",
            "96612  rating is  -29.852017177201958\n",
            "96613  rating is  -28.732712762690362\n",
            "142718  rating is  -38.735075942648066\n",
            "150062  rating is  -32.22238033926699\n",
            "175683  rating is  -22.037996538151464\n",
            "Team: [74480, 112234, 134250, 173864]\n",
            "74480  rating is  -3.5680725129758764\n",
            "112234  rating is  -175.09934421843457\n",
            "134250  rating is  -74.5055578135877\n",
            "173864  rating is  -111.22378389730294\n",
            "Team: [14152, 102267, 121122, 133252, 155252, 201894]\n",
            "14152  rating is  25.971331463009804\n",
            "102267  rating is  -50.030000228251666\n",
            "121122  rating is  -27.449098532915094\n",
            "133252  rating is  -41.65829940839228\n",
            "155252  rating is  -31.946554153450407\n",
            "201894  rating is  -8.442609414217618\n",
            "Team: [10139, 63383, 63384, 78373, 106532, 200057]\n",
            "10139  rating is  -2.920478526297589\n",
            "63383  rating is  52.0290518221448\n",
            "63384  rating is  54.19104362415593\n",
            "78373  rating is  -1.5316593554528173\n",
            "106532  rating is  59.75703928645411\n",
            "200057  rating is  -1.3746785085955606\n",
            "Team: [132633, 132634, 132768, 190630, 202363]\n",
            "132633  rating is  17.41601923763267\n",
            "132634  rating is  13.35298514862592\n",
            "132768  rating is  38.34980045851537\n",
            "190630  rating is  -10.37761183016381\n",
            "202363  rating is  -11.565675079190356\n",
            "Team: [85724, 111558, 143686, 157381, 192944]\n",
            "85724  rating is  -3.67676335213077\n",
            "111558  rating is  -26.526337204777388\n",
            "143686  rating is  -32.55015643012264\n",
            "157381  rating is  -24.71548364821953\n",
            "192944  rating is  -7.104639106206456\n",
            "Team: [100695, 129659, 139658, 157698, 160612, 182985]\n",
            "100695  rating is  45.07556890168384\n",
            "129659  rating is  -22.24539599242605\n",
            "139658  rating is  -42.33130489000937\n",
            "157698  rating is  -36.16373797061067\n",
            "160612  rating is  -30.162423870858294\n",
            "182985  rating is  -0.26054214008898147\n",
            "Team: [58892, 84932, 124527, 130469, 150009, 217041]\n",
            "58892  rating is  0.8245603113155366\n",
            "84932  rating is  -0.2753664051914189\n",
            "124527  rating is  -1.2710251404455535\n",
            "130469  rating is  -15.255489580763632\n",
            "150009  rating is  -1.6914122322883676\n",
            "217041  rating is  -0.16254592804145118\n",
            "Team: [136904, 146292, 178414, 178415, 179507, 185531]\n",
            "136904  rating is  -21.86599651334118\n",
            "146292  rating is  -12.455011766560794\n",
            "178414  rating is  -45.13436551621934\n",
            "178415  rating is  -15.42959762409447\n",
            "179507  rating is  -7.236549905713174\n",
            "185531  rating is  -34.83048269246797\n",
            "Team: [23847, 86490, 97717, 145112, 219530]\n",
            "23847  rating is  3.0769788130814613\n",
            "86490  rating is  -4.515815653892931\n",
            "97717  rating is  -15.065721965671703\n",
            "145112  rating is  -2.3321114083406584\n",
            "219530  rating is  -0.32121171307471763\n",
            "Team: [136847]\n",
            "136847  rating is  73.88781435486602\n",
            "Team: [223996, 223997, 223998, 223999]\n",
            "Team: [54708, 139198, 139199, 176202]\n",
            "54708  rating is  -34.90735769480531\n",
            "139198  rating is  -46.458377655980435\n",
            "139199  rating is  -37.82021948178589\n",
            "176202  rating is  -14.807956323299795\n",
            "Team: [166854, 174959, 174960, 190428, 213024]\n",
            "166854  rating is  -6.780160490208911\n",
            "174959  rating is  4.255222990939168\n",
            "174960  rating is  5.072679902359304\n",
            "190428  rating is  -5.038846936347861\n",
            "213024  rating is  0.619910387802487\n",
            "Team: [110904, 124220, 143498, 200918, 200919, 206293]\n",
            "110904  rating is  -13.628398676721327\n",
            "124220  rating is  -9.385820795486142\n",
            "143498  rating is  -0.36551543694841127\n",
            "200918  rating is  -5.2678344308132745\n",
            "200919  rating is  -11.086355724590263\n",
            "206293  rating is  -2.8507735614562173\n",
            "Team: [22306, 34761, 37312, 156858, 159407]\n",
            "22306  rating is  24.20289100704463\n",
            "34761  rating is  43.908722760781245\n",
            "37312  rating is  -4.6155236101319055\n",
            "156858  rating is  1.4415948644219903\n",
            "159407  rating is  -0.84552711756685\n",
            "Team: [11152, 55737, 66158, 129662, 158851]\n",
            "11152  rating is  -51.209362800686776\n",
            "55737  rating is  -5.694811472429657\n",
            "66158  rating is  -132.05134604038636\n",
            "129662  rating is  -36.66035090135614\n",
            "158851  rating is  -32.86937211290721\n",
            "Team: [44916, 87907, 163472, 224054, 224055, 224056]\n",
            "44916  rating is  -52.59365762188331\n",
            "87907  rating is  -26.65370443123972\n",
            "163472  rating is  -2.458804178947632\n",
            "Team: [35740, 96450, 147347, 162169, 200114]\n",
            "35740  rating is  -44.33809144531415\n",
            "96450  rating is  -62.07850469230798\n",
            "147347  rating is  -26.497864785162015\n",
            "162169  rating is  -14.90573810087513\n",
            "200114  rating is  -1.5630167882702628\n",
            "Team: [139405, 139406]\n",
            "139405  rating is  -103.89659052747395\n",
            "139406  rating is  -99.09760266581492\n",
            "Team: [3344, 9614, 193524]\n",
            "3344  rating is  10.129142118750632\n",
            "9614  rating is  11.766881410873138\n",
            "193524  rating is  -2.023437291480442\n",
            "Team: [125364, 134994, 175288, 201794]\n",
            "125364  rating is  -51.303383888671426\n",
            "134994  rating is  -28.175199202371005\n",
            "175288  rating is  -19.91815584678894\n",
            "201794  rating is  0.7753201175319616\n",
            "Team: [76115, 184985, 200687, 200688, 200690]\n",
            "76115  rating is  -5.899791690576217\n",
            "184985  rating is  -17.292722919819596\n",
            "200687  rating is  -8.363277364000174\n",
            "200688  rating is  -2.1086262161199216\n",
            "200690  rating is  -4.6289986180111615\n",
            "Team: [116422, 116425, 119428, 171081]\n",
            "116422  rating is  -1.7995472710116447\n",
            "116425  rating is  -2.0601713768679097\n",
            "119428  rating is  0.9275050669740783\n",
            "171081  rating is  5.759426644420444\n",
            "Team: [13592, 47668, 76235, 161409]\n",
            "13592  rating is  -40.73635834637619\n",
            "47668  rating is  -56.17580433797734\n",
            "76235  rating is  -41.75268652045399\n",
            "161409  rating is  -14.088620488454808\n",
            "Team: [134190, 162934, 162935, 165066, 182810]\n",
            "134190  rating is  -115.27056213621589\n",
            "162934  rating is  -52.43109441625296\n",
            "162935  rating is  -51.96838375194844\n",
            "165066  rating is  -27.852310852095265\n",
            "182810  rating is  -6.985006518641733\n",
            "Team: [97524, 165045, 165047, 217355, 221686, 221688]\n",
            "97524  rating is  -10.287335265877829\n",
            "165045  rating is  -7.23801865782342\n",
            "165047  rating is  -5.303859841571847\n",
            "217355  rating is  -2.886856233741086\n",
            "221686  rating is  -1.8110002174850117\n",
            "221688  rating is  -0.8515334348821388\n",
            "Team: [62190, 171243, 175741, 219358, 220278]\n",
            "62190  rating is  -4.024642179437356\n",
            "171243  rating is  -0.31971460847402944\n",
            "175741  rating is  -0.8988263570839924\n",
            "219358  rating is  0.30890154758455635\n",
            "Team: [55358, 221234, 221235, 221236, 221238, 222318]\n",
            "55358  rating is  -51.97701647797968\n",
            "221234  rating is  -0.9594667826028725\n",
            "221235  rating is  -0.9594667826028725\n",
            "221236  rating is  -0.9594667826028725\n",
            "Team: [15, 16914, 103631, 103632, 130878]\n",
            "15  rating is  -16.3966517727427\n",
            "16914  rating is  -12.027445699676825\n",
            "103631  rating is  -207.95852028331478\n",
            "103632  rating is  -205.21159085390704\n",
            "130878  rating is  -27.148771047140563\n",
            "Team: [5828, 199690, 216840, 216841, 216842, 216843]\n",
            "5828  rating is  37.29136659586989\n",
            "199690  rating is  1.5602879382764843\n",
            "216840  rating is  -1.1532785449824843\n",
            "216841  rating is  -1.1532785449824843\n",
            "216842  rating is  -1.1532785449824843\n",
            "216843  rating is  -1.1532785449824843\n",
            "Team: [60410, 60481, 71689, 171995]\n",
            "60410  rating is  -44.91917046050467\n",
            "60481  rating is  -70.10985905608815\n",
            "71689  rating is  -49.01725047395778\n",
            "171995  rating is  -16.853007561999085\n",
            "Team: [113821, 129656, 129657, 129658, 133555]\n",
            "113821  rating is  -76.41210765484267\n",
            "129656  rating is  -91.79370476458104\n",
            "129657  rating is  -94.73477200380707\n",
            "129658  rating is  -49.16727001321026\n",
            "133555  rating is  -89.6310404547653\n",
            "Team: [15024, 137177, 184845, 184846, 192738, 218787]\n",
            "15024  rating is  -15.777730566901521\n",
            "137177  rating is  -30.998945441748656\n",
            "184845  rating is  -5.855806461641494\n",
            "184846  rating is  -5.266392374637507\n",
            "192738  rating is  -0.15771387168752204\n",
            "Team: [94138, 152840, 163119, 198652]\n",
            "94138  rating is  -20.977880206721107\n",
            "152840  rating is  -8.16070143604851\n",
            "163119  rating is  -27.51859150739404\n",
            "198652  rating is  -8.0337084053934\n",
            "Team: [191230]\n",
            "191230  rating is  2.514382275107935\n",
            "Team: [20722, 41159, 86248, 125005, 189352, 192542]\n",
            "20722  rating is  -11.062410826381361\n",
            "41159  rating is  -11.561476632496325\n",
            "86248  rating is  -197.87636852142384\n",
            "125005  rating is  -20.532419548046523\n",
            "189352  rating is  -13.606273425847533\n",
            "192542  rating is  -5.922048045511572\n",
            "Team: [99003, 99004, 200589, 200590, 200651]\n",
            "99003  rating is  -4.859755641953532\n",
            "99004  rating is  -22.652507587883374\n",
            "200589  rating is  -12.543568300066273\n",
            "200590  rating is  -11.643827337278996\n",
            "200651  rating is  -12.543568300066273\n",
            "Team: [147198, 147519, 222399]\n",
            "147198  rating is  -19.046073084624187\n",
            "147519  rating is  -3.081143017668216\n",
            "222399  rating is  -0.08199783506100167\n",
            "Team: [102680, 110542, 123434, 138725]\n",
            "102680  rating is  -29.162319126212267\n",
            "110542  rating is  -36.416547626109924\n",
            "123434  rating is  -31.456618424005345\n",
            "138725  rating is  -34.568951944690134\n",
            "Team: [155830, 164012, 175794, 197429]\n",
            "155830  rating is  -22.522253779671825\n",
            "164012  rating is  -42.91807712762956\n",
            "175794  rating is  -34.12100572405745\n",
            "197429  rating is  -10.409964272909141\n",
            "Team: [98180, 189096, 189387, 189388, 193900, 193901]\n",
            "98180  rating is  -16.165891570616406\n",
            "189096  rating is  -5.54229903684197\n",
            "189387  rating is  -10.572195388204793\n",
            "189388  rating is  -17.384813567516215\n",
            "193900  rating is  -21.74931536982885\n",
            "193901  rating is  -20.8236395431089\n",
            "Team: [218788, 218791, 218792, 218960, 224002]\n",
            "218788  rating is  -1.6717093813539674\n",
            "218791  rating is  -1.6717093813539674\n",
            "218792  rating is  -1.6717093813539674\n",
            "Team: [31671, 110234, 131719, 140999, 223994]\n",
            "31671  rating is  -62.818775535276856\n",
            "110234  rating is  -32.87190075111632\n",
            "131719  rating is  -16.408159214705446\n",
            "140999  rating is  -9.971961876741032\n",
            "Team: [41662, 43340, 64792, 88830, 224053]\n",
            "41662  rating is  -30.29168126489071\n",
            "43340  rating is  -4.919804965693466\n",
            "64792  rating is  -88.8413678426182\n",
            "88830  rating is  -46.03337209795815\n",
            "Team: [154537, 154539, 154540, 180549, 184585, 184586, 184592, 184593]\n",
            "154537  rating is  -3.916030796996402\n",
            "154539  rating is  -4.075770265158987\n",
            "154540  rating is  -3.6010983622000636\n",
            "180549  rating is  -0.03115003000830391\n",
            "184585  rating is  -2.5055690868788227\n",
            "184586  rating is  0.1299998656176357\n",
            "184592  rating is  -4.294561649934096\n",
            "184593  rating is  -3.4897241433558577\n",
            "Team: [14326, 18523, 43686, 43687, 79436, 97371]\n",
            "14326  rating is  1.2207761682995582\n",
            "18523  rating is  -3.5564231784582123\n",
            "43686  rating is  -6.133013719381923\n",
            "43687  rating is  4.876338220547011\n",
            "79436  rating is  -5.496482314952587\n",
            "97371  rating is  -7.0375568138967\n",
            "Team: [154900, 154901, 154902, 154903, 154905, 154906]\n",
            "154900  rating is  -5.7909227025492145\n",
            "154901  rating is  -5.8240661906027045\n",
            "154902  rating is  -5.8240661906027045\n",
            "154903  rating is  -6.328988341500495\n",
            "154905  rating is  -4.31653739424959\n",
            "154906  rating is  -9.159687234412104\n",
            "Team: [137419, 199915]\n",
            "137419  rating is  -48.750371353129836\n",
            "199915  rating is  -16.77713560751742\n",
            "Team: [188399, 192376, 192377, 192385, 218137]\n",
            "188399  rating is  -37.7418488039989\n",
            "192376  rating is  -24.55233076882395\n",
            "192377  rating is  -19.190889268053255\n",
            "192385  rating is  -28.383703966285296\n",
            "218137  rating is  -0.329924143658002\n",
            "Team: [133432, 133440, 161586]\n",
            "133432  rating is  -45.65946758554788\n",
            "133440  rating is  -33.353876236735395\n",
            "161586  rating is  -15.19243777747531\n",
            "Team: [176825, 176827, 176829, 182745, 186324]\n",
            "176825  rating is  -47.763908879553625\n",
            "176827  rating is  -27.697438354725424\n",
            "176829  rating is  -31.877462757290967\n",
            "182745  rating is  -33.82809734882341\n",
            "186324  rating is  -24.378373870549648\n",
            "Team: [217110, 217112]\n",
            "217110  rating is  -4.6712958420243655\n",
            "217112  rating is  -4.6712958420243655\n",
            "Spearman:  SpearmanrResult(correlation=-0.7109941296863584, pvalue=2.914854165669881e-40)\n",
            "Pearson:  (-0.6089413407889762, 4.585483397960397e-27)\n",
            "Tournament: 6308\n",
            "Team: [9555, 25905, 80521, 90455, 109880, 110328, 155079, 220764]\n",
            "9555  rating is  84.91574692923317\n",
            "25905  rating is  129.3362818090579\n",
            "80521  rating is  98.99528687458466\n",
            "90455  rating is  62.29582018442857\n",
            "109880  rating is  33.15155779287478\n",
            "110328  rating is  101.52216108392241\n",
            "155079  rating is  70.05204582946419\n",
            "Team: [41623, 94420, 97087, 103214, 104074, 126820, 135914]\n",
            "41623  rating is  130.37370792516006\n",
            "94420  rating is  73.71061589896195\n",
            "97087  rating is  75.75992029384913\n",
            "103214  rating is  -22.843862348937908\n",
            "104074  rating is  20.021988238938896\n",
            "126820  rating is  -47.067504045456985\n",
            "135914  rating is  -80.55389763574085\n",
            "Team: [2763, 10136, 18875, 22566]\n",
            "2763  rating is  79.68539060590787\n",
            "10136  rating is  76.36947914917451\n",
            "18875  rating is  31.749350187635336\n",
            "22566  rating is  76.21331892043787\n",
            "Team: [5517, 15722, 30337, 48055, 101861, 101862]\n",
            "5517  rating is  121.08839936645043\n",
            "15722  rating is  64.8474297630587\n",
            "30337  rating is  16.992032625866106\n",
            "48055  rating is  59.71763789852973\n",
            "101861  rating is  34.48759804277876\n",
            "101862  rating is  30.819181891589583\n",
            "Team: [11181, 88487, 118401, 156613, 172000, 173230, 173568, 195948, 223913]\n",
            "11181  rating is  -4.410279629437197\n",
            "88487  rating is  5.404429558569749\n",
            "118401  rating is  19.62769990769133\n",
            "156613  rating is  -2.1275203365113953\n",
            "172000  rating is  10.823497077299036\n",
            "173230  rating is  18.52671368561909\n",
            "173568  rating is  10.617963429089416\n",
            "195948  rating is  11.361721145809575\n",
            "Team: [4270, 27403, 27822, 28751, 30270]\n",
            "4270  rating is  912.9305928446547\n",
            "27403  rating is  756.3781472704434\n",
            "27822  rating is  879.589965149431\n",
            "28751  rating is  1017.305996562154\n",
            "30270  rating is  739.5676542612827\n",
            "Team: [6212, 15456, 18036, 18332, 22799, 26089]\n",
            "6212  rating is  749.536354376802\n",
            "15456  rating is  571.4385443160107\n",
            "18036  rating is  455.3504153938988\n",
            "18332  rating is  934.1919681201765\n",
            "22799  rating is  521.9508407924346\n",
            "26089  rating is  369.0156230423411\n",
            "Team: [6485, 86607, 101975, 118283, 129959, 129960, 134771, 221682, 224073]\n",
            "6485  rating is  13.618282891602163\n",
            "86607  rating is  -5.082940226806822\n",
            "101975  rating is  17.213073780502715\n",
            "118283  rating is  14.145276270172312\n",
            "129959  rating is  0.09396630773232476\n",
            "129960  rating is  4.810249833376615\n",
            "134771  rating is  49.65865216974974\n",
            "Team: [7420, 19468, 21952, 35124, 46459, 64681]\n",
            "7420  rating is  530.5574121275612\n",
            "19468  rating is  360.93808438598387\n",
            "21952  rating is  482.6520851268756\n",
            "35124  rating is  404.56281636348507\n",
            "46459  rating is  364.76526289264984\n",
            "64681  rating is  354.31045452099744\n",
            "Team: [61606, 132224, 132226, 132227, 149735, 162331]\n",
            "61606  rating is  115.1901506902757\n",
            "132224  rating is  -146.6596038701972\n",
            "132226  rating is  -139.30692813368282\n",
            "132227  rating is  -111.28362694036734\n",
            "149735  rating is  -35.6030124761609\n",
            "162331  rating is  -12.821664704953067\n",
            "Team: [1585, 26818, 30929, 31184, 32901, 36035]\n",
            "1585  rating is  548.5406387564929\n",
            "26818  rating is  371.9966667970877\n",
            "30929  rating is  124.54599406558789\n",
            "31184  rating is  437.4013478231178\n",
            "32901  rating is  410.5141642920042\n",
            "36035  rating is  313.19198793067056\n",
            "Team: [9105, 17121, 40390, 59042, 142414, 198539]\n",
            "9105  rating is  128.95095124581204\n",
            "17121  rating is  121.91143457013231\n",
            "40390  rating is  154.17263382681736\n",
            "59042  rating is  86.13917343731308\n",
            "142414  rating is  -15.514040749863506\n",
            "198539  rating is  3.9921311242247786\n",
            "Team: [15726, 16129, 77980, 112086, 137194, 150165, 208796]\n",
            "15726  rating is  52.95078031428621\n",
            "16129  rating is  14.051590742071541\n",
            "77980  rating is  -9.519392022166505\n",
            "112086  rating is  -36.1255770241809\n",
            "137194  rating is  3.5877762871183725\n",
            "150165  rating is  10.354419176723967\n",
            "208796  rating is  4.938621722545138\n",
            "Team: [10695, 19915, 23178, 26911, 74382]\n",
            "10695  rating is  355.26210321441266\n",
            "19915  rating is  458.11706490256057\n",
            "23178  rating is  737.6122370822452\n",
            "26911  rating is  260.6564235613801\n",
            "74382  rating is  504.6712866146523\n",
            "Team: [323, 51715, 54035, 54668, 116146]\n",
            "323  rating is  204.48761203172995\n",
            "51715  rating is  355.6920029160888\n",
            "54035  rating is  182.59945235346564\n",
            "54668  rating is  99.45351070734347\n",
            "116146  rating is  -22.874528078950615\n",
            "Team: [7008, 29599, 119877, 124085, 147506, 182177]\n",
            "7008  rating is  646.7054050499904\n",
            "29599  rating is  62.89399244767576\n",
            "119877  rating is  129.94815986583617\n",
            "124085  rating is  98.19990493702385\n",
            "147506  rating is  48.40177045219112\n",
            "182177  rating is  54.35654548036947\n",
            "Team: [7890, 17751, 29531, 37743, 97854]\n",
            "7890  rating is  169.56926837877953\n",
            "17751  rating is  89.16296952550304\n",
            "29531  rating is  282.934015830701\n",
            "37743  rating is  204.86087834242164\n",
            "97854  rating is  9.184540130382967\n",
            "Team: [398, 72903, 86641, 91187, 93026, 93027, 115364, 135024, 215898]\n",
            "398  rating is  125.18478011661307\n",
            "72903  rating is  45.00917607459738\n",
            "86641  rating is  32.04479490629042\n",
            "91187  rating is  35.26241164451165\n",
            "93026  rating is  22.892657182016716\n",
            "93027  rating is  16.418887227696622\n",
            "115364  rating is  -45.997352293972426\n",
            "135024  rating is  -7.9214475770066\n",
            "215898  rating is  3.5804923500094956\n",
            "Team: [24850, 59270, 72156, 72160, 86775, 134991]\n",
            "24850  rating is  439.3659814655957\n",
            "59270  rating is  231.22338942065858\n",
            "72156  rating is  97.99189336163359\n",
            "72160  rating is  517.9321995987001\n",
            "86775  rating is  334.84704581541746\n",
            "134991  rating is  154.8335977435639\n",
            "Team: [29887, 36546, 52844, 70932, 78791, 97091]\n",
            "29887  rating is  477.9469041348346\n",
            "36546  rating is  256.8802954777357\n",
            "52844  rating is  214.31813119076693\n",
            "70932  rating is  192.3538134430242\n",
            "78791  rating is  119.02334195049464\n",
            "97091  rating is  76.78518528641145\n",
            "Team: [9170, 17720, 27515, 38168, 51880, 88067]\n",
            "9170  rating is  394.1731742976239\n",
            "17720  rating is  242.6556580005891\n",
            "27515  rating is  265.6945178138982\n",
            "38168  rating is  402.4899791090172\n",
            "51880  rating is  185.74262590318747\n",
            "88067  rating is  164.3388592432476\n",
            "Team: [12773, 18490, 22457, 33197, 39876, 116901]\n",
            "12773  rating is  170.92755075025582\n",
            "18490  rating is  358.62761118138945\n",
            "22457  rating is  216.59626854292466\n",
            "33197  rating is  197.55470157906092\n",
            "39876  rating is  22.368035003286497\n",
            "116901  rating is  290.0458773413745\n",
            "Team: [12401, 35009, 36592, 71061, 112486, 132889]\n",
            "12401  rating is  474.3349461520056\n",
            "35009  rating is  347.98909456325754\n",
            "36592  rating is  415.33582119614493\n",
            "71061  rating is  192.84361448500928\n",
            "112486  rating is  209.58903156115124\n",
            "132889  rating is  58.88209374537939\n",
            "Team: [21346, 39431, 86795, 97435, 102108, 113330]\n",
            "21346  rating is  328.96919030846936\n",
            "39431  rating is  112.85589483087692\n",
            "86795  rating is  444.752420257049\n",
            "97435  rating is  85.0006509781062\n",
            "102108  rating is  75.37471282700236\n",
            "113330  rating is  87.16212574424617\n",
            "Team: [55531, 62239, 85059, 126333, 142112, 156146]\n",
            "55531  rating is  52.236976539834224\n",
            "62239  rating is  8.39483930127981\n",
            "85059  rating is  59.0429348938879\n",
            "126333  rating is  -53.26640997693117\n",
            "142112  rating is  109.84366732810861\n",
            "156146  rating is  103.94328515260496\n",
            "Team: [15, 5927, 83428, 115894, 119604, 131753, 145921, 147450, 184904, 196178]\n",
            "15  rating is  -16.3966517727427\n",
            "5927  rating is  -2.898554349891591\n",
            "83428  rating is  13.7016741358678\n",
            "115894  rating is  -153.48722133193814\n",
            "119604  rating is  -52.09095920310544\n",
            "131753  rating is  -44.298998207198544\n",
            "145921  rating is  -52.40912533582138\n",
            "147450  rating is  217.2691689764496\n",
            "184904  rating is  -2.1836456211078112\n",
            "196178  rating is  -47.235746845157955\n",
            "Team: [10145, 21233, 27754, 34395, 143822, 183104]\n",
            "10145  rating is  245.5790840053184\n",
            "21233  rating is  556.6207937673967\n",
            "27754  rating is  64.42872555325276\n",
            "34395  rating is  108.39527075601619\n",
            "143822  rating is  50.240627224379935\n",
            "183104  rating is  78.00291421756917\n",
            "Team: [5328, 17104, 30152, 33806, 80593]\n",
            "5328  rating is  503.61921706535895\n",
            "17104  rating is  165.83267424749877\n",
            "30152  rating is  974.8191825966408\n",
            "33806  rating is  371.4776553459215\n",
            "80593  rating is  322.2027637692068\n",
            "Team: [8532, 9094, 19990, 40201]\n",
            "8532  rating is  370.6912805303964\n",
            "9094  rating is  645.3386314622462\n",
            "19990  rating is  545.2060671011435\n",
            "40201  rating is  524.1547299667662\n",
            "Team: [5104, 12313, 27499, 28260, 47521, 52820]\n",
            "5104  rating is  371.42964290167197\n",
            "12313  rating is  757.8482419868974\n",
            "27499  rating is  797.2849127931889\n",
            "28260  rating is  457.66083885678347\n",
            "47521  rating is  503.9532804935197\n",
            "52820  rating is  60.75997097782449\n",
            "Team: [20640, 37467, 54868, 69570, 130417, 200460]\n",
            "20640  rating is  400.9754551846247\n",
            "37467  rating is  5.755208221853552\n",
            "54868  rating is  152.00489168526957\n",
            "69570  rating is  -13.148636360948064\n",
            "130417  rating is  1.1512682388791895\n",
            "200460  rating is  4.2345601585428945\n",
            "Team: [1348, 24215, 31655, 46675, 72616, 82761]\n",
            "1348  rating is  103.77142422690596\n",
            "24215  rating is  369.3296421666194\n",
            "31655  rating is  521.2854741522436\n",
            "46675  rating is  479.0897937084198\n",
            "72616  rating is  217.79939629540883\n",
            "82761  rating is  144.49846690657\n",
            "Team: [11840, 30744, 56698, 75042, 124009, 130038]\n",
            "11840  rating is  87.51379321400603\n",
            "30744  rating is  91.3048119302756\n",
            "56698  rating is  96.22297851628628\n",
            "75042  rating is  216.60113623229515\n",
            "124009  rating is  95.53221444488774\n",
            "130038  rating is  73.24527771133039\n",
            "Team: [9535, 13682, 17177, 23956, 56736, 75645]\n",
            "9535  rating is  36.88041250581781\n",
            "13682  rating is  32.49671565915739\n",
            "17177  rating is  24.134113578260372\n",
            "23956  rating is  34.245600586687935\n",
            "56736  rating is  24.920182170889834\n",
            "75645  rating is  31.47595543647701\n",
            "Team: [3767, 25475, 36568, 69243, 117262, 140120]\n",
            "3767  rating is  479.7027937922934\n",
            "25475  rating is  265.6424104637759\n",
            "36568  rating is  669.2040368851544\n",
            "69243  rating is  195.6648691922249\n",
            "117262  rating is  71.0376670228631\n",
            "140120  rating is  -14.631352290276181\n",
            "Team: [683, 5298, 15470, 25358, 36442, 40193]\n",
            "683  rating is  60.363379879733664\n",
            "5298  rating is  107.42271823913053\n",
            "15470  rating is  -23.760574363039655\n",
            "25358  rating is  38.14055918450939\n",
            "36442  rating is  91.63652674911118\n",
            "40193  rating is  55.57119847813094\n",
            "Team: [3083, 3577, 19599, 21649, 25724, 222024]\n",
            "3083  rating is  285.21044455561275\n",
            "3577  rating is  158.32689324602174\n",
            "19599  rating is  361.75261784699376\n",
            "21649  rating is  54.504947213699594\n",
            "25724  rating is  307.4227123796124\n",
            "Team: [8016, 13623, 20162, 23549, 27834]\n",
            "8016  rating is  122.45276235029344\n",
            "13623  rating is  160.68566149957198\n",
            "20162  rating is  163.1587252800203\n",
            "23549  rating is  204.46168228284523\n",
            "27834  rating is  75.03902973174286\n",
            "Team: [2668, 7033, 16027, 34305, 77982, 98697]\n",
            "2668  rating is  86.70038655552794\n",
            "7033  rating is  11.612991999214753\n",
            "16027  rating is  7.810985636240651\n",
            "34305  rating is  0.35446208999229517\n",
            "77982  rating is  1.4268018364958288\n",
            "98697  rating is  123.94684441691321\n",
            "Team: [19949, 67061, 76303, 115802, 116032, 116824]\n",
            "19949  rating is  236.29381795308046\n",
            "67061  rating is  229.3805083395341\n",
            "76303  rating is  170.2982690803698\n",
            "115802  rating is  139.48280693608055\n",
            "116032  rating is  171.36488015472534\n",
            "116824  rating is  57.065093032494595\n",
            "Team: [10208, 53711, 80594, 80595, 106617, 143076]\n",
            "10208  rating is  304.28186023045237\n",
            "53711  rating is  434.6922339011056\n",
            "80594  rating is  335.7859251818139\n",
            "80595  rating is  201.13865382904427\n",
            "106617  rating is  437.4582726897841\n",
            "143076  rating is  143.1840868479833\n",
            "Team: [19101, 27998, 32886, 36925, 59481, 96417]\n",
            "19101  rating is  96.65402382748266\n",
            "27998  rating is  207.31369307785454\n",
            "32886  rating is  103.32497757736368\n",
            "36925  rating is  84.694216798344\n",
            "59481  rating is  96.7689100763512\n",
            "96417  rating is  -88.36273177278328\n",
            "Team: [7692, 37613, 88077, 103108, 115155, 117567]\n",
            "7692  rating is  223.69194752746614\n",
            "37613  rating is  258.14149584814777\n",
            "88077  rating is  216.47350736332749\n",
            "103108  rating is  169.96262147482483\n",
            "115155  rating is  204.0210901415378\n",
            "117567  rating is  247.51154895554072\n",
            "Team: [110327, 131910, 131911, 149723, 149724]\n",
            "110327  rating is  105.6401744833338\n",
            "131910  rating is  169.6779342719494\n",
            "131911  rating is  174.24808083862467\n",
            "149723  rating is  164.07932278240318\n",
            "149724  rating is  167.16591405863463\n",
            "Team: [8955, 12146, 15062, 18018, 20936, 125285]\n",
            "8955  rating is  152.5117637469974\n",
            "12146  rating is  385.2914904968327\n",
            "15062  rating is  370.8645561059525\n",
            "18018  rating is  446.2692837992087\n",
            "20936  rating is  179.65433485292485\n",
            "125285  rating is  57.004711587359374\n",
            "Team: [3910, 46976, 55941]\n",
            "3910  rating is  51.464272620559164\n",
            "46976  rating is  145.76619466024474\n",
            "55941  rating is  105.39830603746854\n",
            "Team: [9995, 15095, 15096, 29110, 87947]\n",
            "9995  rating is  207.24802215356064\n",
            "15095  rating is  163.00411932737734\n",
            "15096  rating is  162.2436357070758\n",
            "29110  rating is  137.7896423257127\n",
            "87947  rating is  97.56070303024444\n",
            "Team: [7002, 118896, 118897, 121206, 135410, 144671, 147551]\n",
            "7002  rating is  38.44743353222313\n",
            "118896  rating is  62.78381577761169\n",
            "118897  rating is  58.418189484921875\n",
            "121206  rating is  68.79695185942501\n",
            "135410  rating is  4.2425578744441665\n",
            "144671  rating is  6.481241168250153\n",
            "147551  rating is  40.1270597232831\n",
            "Team: [37302, 37303, 42401, 82122, 98319, 132463]\n",
            "37302  rating is  123.30127437809323\n",
            "37303  rating is  130.4759262934823\n",
            "42401  rating is  51.71283332626002\n",
            "82122  rating is  117.58901935140963\n",
            "98319  rating is  66.79867041625938\n",
            "132463  rating is  202.01053112003507\n",
            "Team: [2954, 33180, 138832]\n",
            "2954  rating is  375.98995307692974\n",
            "33180  rating is  194.70465388559523\n",
            "138832  rating is  243.3052795289371\n",
            "Team: [23740, 27701, 75004, 123190]\n",
            "23740  rating is  590.3799696894885\n",
            "27701  rating is  532.7434200929283\n",
            "75004  rating is  39.882796023456876\n",
            "123190  rating is  58.34206747752824\n",
            "Team: [1468, 30879, 61316, 86251, 103351, 109896]\n",
            "1468  rating is  69.64052617981167\n",
            "30879  rating is  288.240530754067\n",
            "61316  rating is  139.94545290287692\n",
            "86251  rating is  -64.59403317402158\n",
            "103351  rating is  24.687879044801125\n",
            "109896  rating is  -42.882691241602735\n",
            "Team: [487, 12482, 28654, 75099, 87499, 101499]\n",
            "487  rating is  109.28725057310228\n",
            "12482  rating is  179.59485547453792\n",
            "28654  rating is  127.6372213046445\n",
            "75099  rating is  21.283203891282618\n",
            "87499  rating is  149.26637190815177\n",
            "101499  rating is  -34.4106014963594\n",
            "Team: [1352, 5007, 7737, 29487, 39152, 125003]\n",
            "1352  rating is  374.6760213612231\n",
            "5007  rating is  440.38255051662446\n",
            "7737  rating is  437.9177664615987\n",
            "29487  rating is  484.3078008328647\n",
            "39152  rating is  484.51358631465\n",
            "125003  rating is  37.840217398402395\n",
            "Team: [25110, 26477, 34682, 34684, 97748, 162306]\n",
            "25110  rating is  172.6935473571504\n",
            "26477  rating is  197.24521325568526\n",
            "34682  rating is  145.522702138606\n",
            "34684  rating is  149.668430998939\n",
            "97748  rating is  30.562526829890395\n",
            "162306  rating is  16.02713598532325\n",
            "Team: [4307, 10293, 16592, 21375, 59898, 130709]\n",
            "4307  rating is  143.94323122070767\n",
            "10293  rating is  250.64769609982238\n",
            "16592  rating is  35.75017020945264\n",
            "21375  rating is  273.9154826528072\n",
            "59898  rating is  207.65884808265312\n",
            "130709  rating is  154.85742535933386\n",
            "Team: [3568, 23388, 28900, 32252, 37231, 155200]\n",
            "3568  rating is  105.19086934979758\n",
            "23388  rating is  78.26437668134847\n",
            "28900  rating is  129.03133555825147\n",
            "32252  rating is  139.37654339134292\n",
            "37231  rating is  70.5607842434941\n",
            "155200  rating is  16.559078844013573\n",
            "Team: [88405, 99767, 110507, 112364, 145166]\n",
            "88405  rating is  168.73710906356166\n",
            "99767  rating is  153.0546348474816\n",
            "110507  rating is  98.44664840552765\n",
            "112364  rating is  16.849773377650383\n",
            "145166  rating is  51.01063623929823\n",
            "Team: [31231, 38047, 40234, 73295, 95176, 102648]\n",
            "31231  rating is  150.14006036181416\n",
            "38047  rating is  299.9735656184327\n",
            "40234  rating is  307.5600907264501\n",
            "73295  rating is  161.85035271653388\n",
            "95176  rating is  33.79577967023218\n",
            "102648  rating is  29.08637764495507\n",
            "Team: [38487, 58826, 145142, 145144, 149361, 159854]\n",
            "38487  rating is  14.501154286338382\n",
            "58826  rating is  -10.388827307995976\n",
            "145142  rating is  17.087128373423376\n",
            "145144  rating is  8.292608880245655\n",
            "149361  rating is  21.106411967489276\n",
            "159854  rating is  2.274392182468631\n",
            "Team: [107348, 112125, 116632, 117993, 131082, 142888]\n",
            "107348  rating is  -14.057393027776648\n",
            "112125  rating is  178.42537082636423\n",
            "116632  rating is  -1.8473050354255691\n",
            "117993  rating is  -38.29513149940292\n",
            "131082  rating is  190.23119687184447\n",
            "142888  rating is  -20.171980885954408\n",
            "Team: [25819, 82615, 121822, 126341, 174450, 175120]\n",
            "25819  rating is  401.15441915527066\n",
            "82615  rating is  52.495562964467496\n",
            "121822  rating is  12.85395925645672\n",
            "126341  rating is  111.4825501026718\n",
            "174450  rating is  9.781483090487654\n",
            "175120  rating is  0.052927853312459\n",
            "Team: [26340, 38092, 63404, 78581, 107419, 111417, 182905]\n",
            "26340  rating is  89.384453436313\n",
            "38092  rating is  75.52367073783275\n",
            "63404  rating is  64.95811652454974\n",
            "78581  rating is  67.6736782064191\n",
            "107419  rating is  72.64644671344733\n",
            "111417  rating is  29.53195604108026\n",
            "182905  rating is  7.08859245074578\n",
            "Team: [3925, 15472, 42511, 63364, 69862, 88217]\n",
            "3925  rating is  370.3329275450271\n",
            "15472  rating is  403.54075543728686\n",
            "42511  rating is  628.3785016124423\n",
            "63364  rating is  496.02367298251204\n",
            "69862  rating is  197.939582921391\n",
            "88217  rating is  201.12239773991536\n",
            "Team: [1791, 51852, 120388, 136847, 143760, 146183]\n",
            "1791  rating is  34.190456061627735\n",
            "51852  rating is  -17.17776757459193\n",
            "120388  rating is  -15.807748371107749\n",
            "136847  rating is  73.88781435486602\n",
            "143760  rating is  22.75994750868983\n",
            "146183  rating is  14.014585449409768\n",
            "Team: [14222, 27815, 43378, 82739, 94673, 135922]\n",
            "14222  rating is  35.46034834807547\n",
            "27815  rating is  204.35049977720794\n",
            "43378  rating is  53.55144885631972\n",
            "82739  rating is  57.25614588880417\n",
            "94673  rating is  57.41487051580152\n",
            "135922  rating is  46.213564875960145\n",
            "Team: [11439, 24894, 37227, 40162, 127898, 142941]\n",
            "11439  rating is  12.500167784716897\n",
            "24894  rating is  66.45265217209831\n",
            "37227  rating is  33.73256509303041\n",
            "40162  rating is  32.63707590482662\n",
            "127898  rating is  49.8803790307632\n",
            "142941  rating is  39.58582992831783\n",
            "Team: [9080, 20397, 62619, 115772, 184071, 199670]\n",
            "9080  rating is  -46.10473340816785\n",
            "20397  rating is  185.80081680089322\n",
            "62619  rating is  136.7685298419697\n",
            "115772  rating is  207.2048739640788\n",
            "184071  rating is  33.989018572144204\n",
            "199670  rating is  6.218267042171382\n",
            "Team: [56587, 56918, 58607, 74677, 107785]\n",
            "56587  rating is  328.86983912231875\n",
            "56918  rating is  147.44963249359577\n",
            "58607  rating is  98.73996173213222\n",
            "74677  rating is  79.75254596338132\n",
            "107785  rating is  66.22964236370473\n",
            "Team: [117, 11959, 30672, 63465, 87865, 89543]\n",
            "117  rating is  181.93481087992987\n",
            "11959  rating is  116.23792413629353\n",
            "30672  rating is  164.78603488822392\n",
            "63465  rating is  71.43934149410046\n",
            "87865  rating is  173.35267912051685\n",
            "89543  rating is  19.63028482025352\n",
            "Team: [3222, 3608, 18164, 22626, 37072, 40447]\n",
            "3222  rating is  59.59244792621211\n",
            "3608  rating is  11.250467591110892\n",
            "18164  rating is  59.77450036217861\n",
            "22626  rating is  59.275781670028714\n",
            "37072  rating is  91.41867426474172\n",
            "40447  rating is  122.87112339100715\n",
            "Team: [42947, 43240, 45299, 101957, 199180]\n",
            "42947  rating is  46.26687696244546\n",
            "43240  rating is  54.32405878553098\n",
            "45299  rating is  41.76221453752383\n",
            "101957  rating is  37.36009126004308\n",
            "199180  rating is  7.943953928875307\n",
            "Team: [54899, 55041, 78619, 79102, 80566, 80571]\n",
            "54899  rating is  72.60781361328237\n",
            "55041  rating is  253.9809757856225\n",
            "78619  rating is  105.49665210170431\n",
            "79102  rating is  286.17573083674915\n",
            "80566  rating is  182.5204483546693\n",
            "80571  rating is  233.277925107792\n",
            "Team: [16454, 51871, 65454, 68508, 82841, 130180]\n",
            "16454  rating is  -1.7380700453228615\n",
            "51871  rating is  42.76885929693619\n",
            "65454  rating is  1.8794996026708732\n",
            "68508  rating is  13.540042731743075\n",
            "82841  rating is  15.279614160776248\n",
            "130180  rating is  22.129741960492293\n",
            "Team: [36575, 59771, 127853, 132168, 158957, 161018]\n",
            "36575  rating is  26.993934496138344\n",
            "59771  rating is  97.28708253089981\n",
            "127853  rating is  85.11471323175454\n",
            "132168  rating is  73.40905763046455\n",
            "158957  rating is  52.54744739131461\n",
            "161018  rating is  4.284026396907604\n",
            "Team: [5244, 173989, 173991, 174212, 178270, 183089]\n",
            "5244  rating is  249.38382361976642\n",
            "173989  rating is  12.246225295645075\n",
            "173991  rating is  2.3439071435218137\n",
            "174212  rating is  -5.031636729887638\n",
            "178270  rating is  7.170590973834295\n",
            "183089  rating is  17.192210614839635\n",
            "Team: [2475, 53816, 172959, 172961, 173456, 174943]\n",
            "2475  rating is  107.58539640275193\n",
            "53816  rating is  111.15046201373991\n",
            "172959  rating is  -14.300611786890249\n",
            "172961  rating is  -10.287643760223654\n",
            "173456  rating is  -3.1337039079565248\n",
            "174943  rating is  12.386942413368713\n",
            "Team: [19428, 23342, 24142, 97836, 150953]\n",
            "19428  rating is  103.98585481437244\n",
            "23342  rating is  1.2243057942458633\n",
            "24142  rating is  7.991511237443745\n",
            "97836  rating is  -4.22336311514598\n",
            "150953  rating is  2.015532677443911\n",
            "Team: [7496, 17034, 60964, 60989, 108562, 128239]\n",
            "7496  rating is  166.6021753119781\n",
            "17034  rating is  199.86520407050182\n",
            "60964  rating is  169.90876026988073\n",
            "60989  rating is  137.007289620906\n",
            "108562  rating is  190.24879664512986\n",
            "128239  rating is  158.22195610071861\n",
            "Team: [30554, 53660, 61809, 117548]\n",
            "30554  rating is  119.64636252771594\n",
            "53660  rating is  145.17267611428142\n",
            "61809  rating is  70.32931343999427\n",
            "117548  rating is  59.98351869630389\n",
            "Team: [8103, 10774, 24365, 34009, 39036, 69503]\n",
            "8103  rating is  66.04767885062404\n",
            "10774  rating is  196.5433421734714\n",
            "24365  rating is  212.61447459535694\n",
            "34009  rating is  287.06106467617235\n",
            "39036  rating is  118.41901487644157\n",
            "69503  rating is  127.24939053939507\n",
            "Team: [55108, 66210, 80463, 81672]\n",
            "55108  rating is  146.69285351338536\n",
            "66210  rating is  200.64056163188283\n",
            "80463  rating is  176.3304864258557\n",
            "81672  rating is  104.61499958082358\n",
            "Team: [46348, 46352, 59823, 67506, 98281, 131592]\n",
            "46348  rating is  70.47432385775032\n",
            "46352  rating is  39.880879569821154\n",
            "59823  rating is  -1.8138860331467908\n",
            "67506  rating is  43.66375146596133\n",
            "98281  rating is  9.734972655929845\n",
            "131592  rating is  -7.083470949693163\n",
            "Team: [9573, 37277, 97431, 111065, 115748, 142158]\n",
            "9573  rating is  268.00662931434493\n",
            "37277  rating is  -21.244776317464574\n",
            "97431  rating is  22.801883551871434\n",
            "111065  rating is  22.02117100859887\n",
            "115748  rating is  44.661178856183305\n",
            "142158  rating is  38.55335509152455\n",
            "Team: [110749, 111868, 115131, 150445]\n",
            "110749  rating is  -70.25143544225817\n",
            "111868  rating is  -25.99557296757235\n",
            "115131  rating is  -76.02191941444407\n",
            "150445  rating is  -18.78813909285918\n",
            "Team: [15015, 17140, 27220, 30650, 115202, 184887]\n",
            "15015  rating is  53.07136787773655\n",
            "17140  rating is  3.0085428480642293\n",
            "27220  rating is  50.203202847750816\n",
            "30650  rating is  68.91421739131464\n",
            "115202  rating is  8.00761842003219\n",
            "184887  rating is  31.037009709899408\n",
            "Team: [489, 1370, 3423, 38029, 39596, 129182]\n",
            "489  rating is  155.3919316459741\n",
            "1370  rating is  83.55490437671658\n",
            "3423  rating is  112.49052591604601\n",
            "38029  rating is  107.13370196568293\n",
            "39596  rating is  170.2387140628751\n",
            "129182  rating is  72.44139014720557\n",
            "Team: [56486, 83298, 101518, 108527, 127686, 134191]\n",
            "56486  rating is  108.12123732934914\n",
            "83298  rating is  25.002634553265985\n",
            "101518  rating is  140.48087800880265\n",
            "108527  rating is  87.61162137923722\n",
            "127686  rating is  23.167372732393996\n",
            "134191  rating is  61.00900830765429\n",
            "Team: [4039, 5701, 21409, 40532, 149257, 163155]\n",
            "4039  rating is  102.91898696082137\n",
            "5701  rating is  89.15852536428876\n",
            "21409  rating is  75.67526753572618\n",
            "40532  rating is  26.666893847668316\n",
            "149257  rating is  20.441879441295363\n",
            "163155  rating is  28.57852634431751\n",
            "Team: [102213, 145839, 147750, 195793]\n",
            "102213  rating is  102.38047157202978\n",
            "145839  rating is  9.366888221630193\n",
            "147750  rating is  69.19037914290536\n",
            "195793  rating is  32.361214529753795\n",
            "Team: [53031, 62620, 67304, 162332, 180969, 219308]\n",
            "53031  rating is  225.40422237593893\n",
            "62620  rating is  33.24755546563465\n",
            "67304  rating is  79.34407408210144\n",
            "162332  rating is  45.128011536330476\n",
            "180969  rating is  39.245134493624136\n",
            "219308  rating is  1.1918139772722416\n",
            "Team: [55555, 71691, 133632, 143583, 150222, 199021]\n",
            "55555  rating is  61.467221825356994\n",
            "71691  rating is  -12.154330864685331\n",
            "133632  rating is  0.028699867523887757\n",
            "143583  rating is  -1.7206295465708301\n",
            "150222  rating is  -11.784910792525816\n",
            "199021  rating is  -1.1911921048476621\n",
            "Team: [19027, 132664, 199976, 200021, 200045, 200048]\n",
            "19027  rating is  166.35559838982513\n",
            "132664  rating is  -0.0845102323033177\n",
            "199976  rating is  4.242297958035203\n",
            "200021  rating is  5.111412074596576\n",
            "200045  rating is  3.359656914788021\n",
            "200048  rating is  0.5232096714651426\n",
            "Team: [1218, 35854, 219568, 222609]\n",
            "1218  rating is  -88.04940600524571\n",
            "35854  rating is  0.6516705467144909\n",
            "219568  rating is  0.3158411772590007\n",
            "222609  rating is  0.10748809663987303\n",
            "Team: [2171, 6532, 29172, 169839, 199749, 214738]\n",
            "2171  rating is  3.739757242165723\n",
            "6532  rating is  37.432299799865696\n",
            "29172  rating is  65.63524408630488\n",
            "169839  rating is  13.760263979969176\n",
            "199749  rating is  6.927267220748415\n",
            "214738  rating is  4.905997337237891\n",
            "Team: [11886, 31949, 170057, 179830, 194145, 194146]\n",
            "11886  rating is  167.66629129386146\n",
            "31949  rating is  13.040653248239316\n",
            "170057  rating is  25.66097464664372\n",
            "179830  rating is  -27.571248476875127\n",
            "194145  rating is  0.17144614319169382\n",
            "194146  rating is  -2.074573646461635\n",
            "Team: [1062, 15778, 17746, 38036, 46979, 154268]\n",
            "1062  rating is  232.2944355242702\n",
            "15778  rating is  65.944752761402\n",
            "17746  rating is  89.66935513285809\n",
            "38036  rating is  73.92887009633488\n",
            "46979  rating is  85.49016693648828\n",
            "154268  rating is  -32.84390234042625\n",
            "Team: [58927, 86088, 86231, 105720, 109495, 113794, 145778, 146097, 169687, 222247]\n",
            "58927  rating is  -6.466245834423081\n",
            "86088  rating is  -2.2496903332828007\n",
            "86231  rating is  -106.64591396202736\n",
            "105720  rating is  137.5180804564631\n",
            "109495  rating is  40.78950660253139\n",
            "113794  rating is  -68.37521764809196\n",
            "145778  rating is  -7.196644863128094\n",
            "146097  rating is  -4.223495510753821\n",
            "169687  rating is  -6.149373343076847\n",
            "Team: [3157, 14435, 78003, 130283, 150453]\n",
            "3157  rating is  -4.098456888913674\n",
            "14435  rating is  0.5875148309183127\n",
            "78003  rating is  -5.917222187797949\n",
            "130283  rating is  -16.460384554127323\n",
            "150453  rating is  -4.8004264977275355\n",
            "Team: [7806, 14159, 17060, 24069, 36817]\n",
            "7806  rating is  142.70491955965636\n",
            "14159  rating is  82.5860466199309\n",
            "17060  rating is  2.339810152931932\n",
            "24069  rating is  63.627846544987726\n",
            "36817  rating is  188.92573071487476\n",
            "Team: [13208, 30020, 33199, 40452, 44437, 221521]\n",
            "13208  rating is  84.08142258559269\n",
            "30020  rating is  146.78035376488964\n",
            "33199  rating is  59.360863155473616\n",
            "40452  rating is  200.191427811691\n",
            "44437  rating is  73.07593022071352\n",
            "Team: [13345, 29425, 30772, 52183, 93424]\n",
            "13345  rating is  207.47122392987743\n",
            "29425  rating is  196.71449200626975\n",
            "30772  rating is  133.68514112629487\n",
            "52183  rating is  218.85390471837982\n",
            "93424  rating is  192.96783413667885\n",
            "Team: [7361, 147117, 147119, 152977, 219841]\n",
            "7361  rating is  -93.9786408157259\n",
            "147117  rating is  -5.231048145073127\n",
            "147119  rating is  -4.372741606282017\n",
            "152977  rating is  3.0845810674636507\n",
            "219841  rating is  1.2724633962824774\n",
            "Team: [9470, 26009, 40348, 42348, 63825, 73506]\n",
            "9470  rating is  100.18898798312406\n",
            "26009  rating is  42.38548289960155\n",
            "40348  rating is  93.2781940721833\n",
            "42348  rating is  158.77495451736712\n",
            "63825  rating is  21.506168724056593\n",
            "73506  rating is  -9.506053558647794\n",
            "Team: [59005, 59510, 71846, 80113, 130944]\n",
            "59005  rating is  9.57835519079381\n",
            "59510  rating is  -13.335892240712807\n",
            "71846  rating is  19.773270117096956\n",
            "80113  rating is  41.404613098061226\n",
            "130944  rating is  -25.663823649852308\n",
            "Team: [12997, 21337, 67805, 70888]\n",
            "12997  rating is  103.57106728333571\n",
            "21337  rating is  205.91921169216198\n",
            "67805  rating is  237.68060835926195\n",
            "70888  rating is  145.72473949803242\n",
            "Team: [118867, 124751, 126726, 145617, 148779, 149308]\n",
            "118867  rating is  19.746888282813536\n",
            "124751  rating is  27.003360654827336\n",
            "126726  rating is  65.32297811188174\n",
            "145617  rating is  9.889448728979962\n",
            "148779  rating is  36.07113983349138\n",
            "149308  rating is  5.838380556304081\n",
            "Team: [70716, 95086, 134506, 140772, 148624, 167666]\n",
            "70716  rating is  -5.052792700309421\n",
            "95086  rating is  17.626576404233624\n",
            "134506  rating is  70.58861990507242\n",
            "140772  rating is  -58.26110307964608\n",
            "148624  rating is  11.402982293370705\n",
            "167666  rating is  3.34256013030096\n",
            "Team: [112949, 158740, 158743, 164192, 164194, 166436, 166437, 166439]\n",
            "112949  rating is  -8.46519307080138\n",
            "158740  rating is  -14.8448751032495\n",
            "158743  rating is  -7.716242532392153\n",
            "164192  rating is  -7.092347989483194\n",
            "164194  rating is  1.1771460218896599\n",
            "166436  rating is  -0.02814907495544916\n",
            "166437  rating is  -5.105220361474169\n",
            "166439  rating is  -5.711584499519972\n",
            "Team: [18112, 24551, 68676, 77549, 108330, 190188]\n",
            "18112  rating is  215.53883627913805\n",
            "24551  rating is  86.55071971751993\n",
            "68676  rating is  168.49530650848683\n",
            "77549  rating is  98.23950554302026\n",
            "108330  rating is  15.811717134991914\n",
            "190188  rating is  6.235172316228108\n",
            "Team: [10226, 14018, 27095, 34457, 121859, 127992]\n",
            "10226  rating is  72.94057526347908\n",
            "14018  rating is  24.26531453283246\n",
            "27095  rating is  49.81640683755444\n",
            "34457  rating is  22.971389633030963\n",
            "121859  rating is  26.67358207911713\n",
            "127992  rating is  36.273851246329535\n",
            "Team: [8896, 27441, 31070, 41846, 71506, 112092]\n",
            "8896  rating is  73.45539433599309\n",
            "27441  rating is  71.999879398393\n",
            "31070  rating is  76.41785824719896\n",
            "41846  rating is  65.3357710696998\n",
            "71506  rating is  46.99323991109922\n",
            "112092  rating is  6.556000735179559\n",
            "Team: [20114, 39634, 40768, 77652, 86757, 121155]\n",
            "20114  rating is  -1.2250584710152268\n",
            "39634  rating is  59.57769154416429\n",
            "40768  rating is  73.55341747100324\n",
            "77652  rating is  67.37899875888851\n",
            "86757  rating is  44.29464495041016\n",
            "121155  rating is  46.16750346864379\n",
            "Team: [91247, 130774, 150355, 162854]\n",
            "91247  rating is  112.35596373639005\n",
            "130774  rating is  38.331618332135974\n",
            "150355  rating is  49.30712141764589\n",
            "162854  rating is  66.94672152352665\n",
            "Team: [84238, 94474, 111552, 111558, 115458]\n",
            "84238  rating is  1.2293487870461501\n",
            "94474  rating is  -12.062573531442373\n",
            "111552  rating is  31.424769442991327\n",
            "111558  rating is  -26.526337204777388\n",
            "115458  rating is  7.5056134329082855\n",
            "Team: [147779, 165444, 180776, 211918, 213897]\n",
            "147779  rating is  -13.69724435624141\n",
            "165444  rating is  -4.245617551429888\n",
            "180776  rating is  -18.39737403877835\n",
            "211918  rating is  -2.0220364721682227\n",
            "213897  rating is  0.8722974248177735\n",
            "Team: [33794, 35740, 36232, 172752, 210808]\n",
            "33794  rating is  32.61597695509063\n",
            "35740  rating is  -44.33809144531415\n",
            "36232  rating is  18.03521952523836\n",
            "172752  rating is  8.109954464434168\n",
            "210808  rating is  2.188079248683969\n",
            "Team: [8968, 19498, 125434, 126524, 157198, 190272]\n",
            "8968  rating is  181.073160800482\n",
            "19498  rating is  -46.823378662860755\n",
            "125434  rating is  -0.4679368267229711\n",
            "126524  rating is  41.37451427236454\n",
            "157198  rating is  12.957634901698587\n",
            "190272  rating is  12.705813672933283\n",
            "Team: [56110, 114188, 124230, 131454, 197574, 197972]\n",
            "56110  rating is  93.04626465054506\n",
            "114188  rating is  65.02512134855084\n",
            "124230  rating is  -45.832630764392825\n",
            "131454  rating is  -104.51951421459823\n",
            "197574  rating is  -3.4187452680368504\n",
            "197972  rating is  -6.75227929098609\n",
            "Team: [10785, 17024, 30180, 61172, 104732, 162254]\n",
            "10785  rating is  103.88056855584298\n",
            "17024  rating is  252.06728247213005\n",
            "30180  rating is  212.21112139131705\n",
            "61172  rating is  -17.44097381054679\n",
            "104732  rating is  157.6322220345798\n",
            "162254  rating is  14.420992105833815\n",
            "Team: [18985, 19673, 23021, 42331, 42441, 61833]\n",
            "18985  rating is  179.66516978659445\n",
            "19673  rating is  185.37998107242402\n",
            "23021  rating is  167.3329853151242\n",
            "42331  rating is  134.43419572983066\n",
            "42441  rating is  138.96624702430853\n",
            "61833  rating is  163.20331608603618\n",
            "Team: [86230, 86255, 86258, 87092, 140239, 149365, 149703]\n",
            "86230  rating is  30.46841311800925\n",
            "86255  rating is  153.05808007657123\n",
            "86258  rating is  123.07283752466317\n",
            "87092  rating is  24.971619147108605\n",
            "140239  rating is  -1.7217780257279507\n",
            "149365  rating is  8.81170424527305\n",
            "149703  rating is  84.32898555539367\n",
            "Team: [96659, 112837, 118680, 126727]\n",
            "96659  rating is  53.13747118969754\n",
            "112837  rating is  24.82630748247158\n",
            "118680  rating is  105.83826989067146\n",
            "126727  rating is  55.79465476666986\n",
            "Team: [6523, 133102, 133103, 133104, 133105, 159247]\n",
            "6523  rating is  -4.520970639568871\n",
            "133102  rating is  -13.45332625171847\n",
            "133103  rating is  47.55988720423032\n",
            "133104  rating is  -9.860123770727146\n",
            "133105  rating is  17.601692117025365\n",
            "159247  rating is  6.764462009791186\n",
            "Team: [5124, 67807, 111656, 116051, 191655]\n",
            "5124  rating is  43.90845351725052\n",
            "67807  rating is  172.2356192754795\n",
            "111656  rating is  187.08521483312558\n",
            "116051  rating is  -6.565790205399676\n",
            "191655  rating is  -2.1359253794933437\n",
            "Team: [112115, 112116, 142890, 149277, 188135, 200304]\n",
            "112115  rating is  -0.05785977554201771\n",
            "112116  rating is  5.4334858635015015\n",
            "142890  rating is  -17.535251774127055\n",
            "149277  rating is  0.8468371164489683\n",
            "188135  rating is  12.372048999590818\n",
            "200304  rating is  -0.5669957307447153\n",
            "Team: [28682, 37691, 43198]\n",
            "28682  rating is  362.35748701598857\n",
            "37691  rating is  357.5557205318698\n",
            "43198  rating is  309.34716005158367\n",
            "Team: [53361, 94935, 111545, 123644, 138615, 165774]\n",
            "53361  rating is  -4.117798077356909\n",
            "94935  rating is  -2.048968307740333\n",
            "111545  rating is  33.46240687522801\n",
            "123644  rating is  28.04885415085837\n",
            "138615  rating is  102.02460741628646\n",
            "165774  rating is  -1.0850337364168416\n",
            "Team: [8550, 18938, 129953, 129955, 133101]\n",
            "8550  rating is  327.4304968490552\n",
            "18938  rating is  145.65055558783314\n",
            "129953  rating is  25.60933369550267\n",
            "129955  rating is  6.486547128453445\n",
            "133101  rating is  23.810275196328572\n",
            "Team: [23287, 84092, 172601, 192886, 193543, 195143]\n",
            "23287  rating is  93.65196021184735\n",
            "84092  rating is  -21.5947271607619\n",
            "172601  rating is  -23.052147914590588\n",
            "192886  rating is  -11.887875742382194\n",
            "193543  rating is  -23.484327552348727\n",
            "195143  rating is  -12.858922844866344\n",
            "Team: [12002, 34215, 54708, 139198, 139199, 176202]\n",
            "12002  rating is  -78.98823038294739\n",
            "34215  rating is  19.754958322693785\n",
            "54708  rating is  -34.90735769480531\n",
            "139198  rating is  -46.458377655980435\n",
            "139199  rating is  -37.82021948178589\n",
            "176202  rating is  -14.807956323299795\n",
            "Team: [100451, 218008, 218009, 219891, 220285, 221702]\n",
            "100451  rating is  53.64259489325498\n",
            "218008  rating is  0.06904388036728276\n",
            "218009  rating is  0.30964703797200355\n",
            "219891  rating is  0.24241591276339614\n",
            "221702  rating is  -0.24060315760472079\n",
            "Team: [19480, 23771, 181640, 194006]\n",
            "19480  rating is  63.992003372790194\n",
            "23771  rating is  119.3833429788008\n",
            "181640  rating is  24.55742473407297\n",
            "194006  rating is  0.44902076119197754\n",
            "Team: [4852, 8784, 20227, 33389, 64252, 133341]\n",
            "4852  rating is  298.17091365591375\n",
            "8784  rating is  13.684393257128997\n",
            "20227  rating is  19.35229895565831\n",
            "33389  rating is  225.0646690324736\n",
            "64252  rating is  -19.733321738614517\n",
            "133341  rating is  -17.882471702096733\n",
            "Team: [30424, 41133, 41135, 42332, 42333]\n",
            "30424  rating is  -7.678999730085069\n",
            "41133  rating is  37.10724645762376\n",
            "41135  rating is  27.06373122605594\n",
            "42332  rating is  22.693124708613556\n",
            "42333  rating is  26.87122276131143\n",
            "Team: [24603, 44978, 59326, 60579, 60580, 90899]\n",
            "24603  rating is  391.850828928551\n",
            "44978  rating is  -9.749705720891107\n",
            "59326  rating is  21.815145768861246\n",
            "60579  rating is  257.61795222404896\n",
            "60580  rating is  237.75178744226054\n",
            "90899  rating is  112.14085693633201\n",
            "Team: [62804, 62805, 62806, 90870]\n",
            "62804  rating is  33.98711677513482\n",
            "62805  rating is  31.658430061936638\n",
            "62806  rating is  34.31578293793603\n",
            "90870  rating is  -31.008840274955954\n",
            "Team: [9561, 13728, 47129, 67251, 78838, 175002]\n",
            "9561  rating is  30.270581767768977\n",
            "13728  rating is  27.579636815971167\n",
            "47129  rating is  93.2568346000594\n",
            "67251  rating is  14.733228303803504\n",
            "78838  rating is  29.956392710659777\n",
            "175002  rating is  -9.019716970290904\n",
            "Team: [58937, 87210, 93116, 95463, 102944]\n",
            "58937  rating is  -56.49189069187267\n",
            "87210  rating is  -1.269147081645043\n",
            "93116  rating is  -46.64469276528076\n",
            "95463  rating is  3.1957074669941012\n",
            "102944  rating is  -22.265243478190808\n",
            "Team: [92443, 92445, 114398, 123501]\n",
            "92443  rating is  51.23569354987228\n",
            "92445  rating is  55.91893825921789\n",
            "114398  rating is  41.338932510692544\n",
            "123501  rating is  52.04327554651051\n",
            "Team: [71501, 92909, 99456, 131176, 134307, 134990]\n",
            "71501  rating is  -55.63256813586224\n",
            "92909  rating is  -41.3595077156409\n",
            "99456  rating is  -42.30283858343665\n",
            "131176  rating is  -54.74544090651638\n",
            "134307  rating is  -6.398675166944932\n",
            "134990  rating is  -26.889697703494612\n",
            "Team: [4028, 41334, 74611, 74893, 78288, 221021]\n",
            "4028  rating is  55.48074217941581\n",
            "41334  rating is  69.79368287149266\n",
            "74611  rating is  62.70877399376599\n",
            "74893  rating is  56.076622221242765\n",
            "78288  rating is  13.880926405415844\n",
            "Team: [20005, 117733, 171960]\n",
            "20005  rating is  1.7089288674675647\n",
            "117733  rating is  -8.6899548831003\n",
            "171960  rating is  6.1064261052334965\n",
            "Team: [20753, 30059, 31318]\n",
            "20753  rating is  207.01662671527134\n",
            "30059  rating is  98.8350779347516\n",
            "31318  rating is  -3.9267315125795936\n",
            "Team: [132959, 199567, 199568, 214802, 218080, 218264]\n",
            "132959  rating is  -1.0053856099578238\n",
            "199567  rating is  0.035208218953166726\n",
            "199568  rating is  -0.194668229651218\n",
            "214802  rating is  -2.031062695712685\n",
            "218080  rating is  -1.1145543668121896\n",
            "218264  rating is  -0.2015037866418846\n",
            "Team: [46631, 46632, 118099, 139262, 154398]\n",
            "46631  rating is  -30.453849471903318\n",
            "46632  rating is  -28.46663315548308\n",
            "118099  rating is  -15.110499945446216\n",
            "139262  rating is  -14.728976762292506\n",
            "154398  rating is  -9.719707917141838\n",
            "Team: [72871, 92417, 100765, 104845, 109648, 133143]\n",
            "72871  rating is  -25.826373523142163\n",
            "92417  rating is  -48.12224792823883\n",
            "100765  rating is  -8.413622905057789\n",
            "104845  rating is  -10.902814464255039\n",
            "109648  rating is  18.19347947649358\n",
            "133143  rating is  5.981608895800624\n",
            "Team: [39185, 76235, 90800, 104901, 104902, 113694]\n",
            "39185  rating is  -7.591726869081398\n",
            "76235  rating is  -41.75268652045399\n",
            "90800  rating is  40.11509466998244\n",
            "104901  rating is  30.15014152770386\n",
            "104902  rating is  17.555394750757145\n",
            "113694  rating is  33.08849547795681\n",
            "Team: [129834, 129835, 129837, 137652, 138574, 176059]\n",
            "129834  rating is  -13.571443296470559\n",
            "129835  rating is  -11.112265451511107\n",
            "129837  rating is  -5.326021464407542\n",
            "137652  rating is  -3.469428838262574\n",
            "138574  rating is  -11.851837386249766\n",
            "176059  rating is  -3.770911217769057\n",
            "Team: [79103, 125928, 131904]\n",
            "79103  rating is  26.988830278323267\n",
            "125928  rating is  6.676510653117194\n",
            "131904  rating is  8.476800991650077\n",
            "Team: [147816, 182154, 182155, 182156, 193780, 196598]\n",
            "147816  rating is  -11.3937316953052\n",
            "182154  rating is  -20.249175286415795\n",
            "182155  rating is  -19.31789603664566\n",
            "182156  rating is  -16.025296458423643\n",
            "193780  rating is  -9.610431800724912\n",
            "196598  rating is  -7.786053832004312\n",
            "Team: [475, 8610, 19170, 59480, 198214]\n",
            "475  rating is  144.8727107662399\n",
            "8610  rating is  138.05899515116135\n",
            "19170  rating is  122.49671284632886\n",
            "59480  rating is  -27.251602164861517\n",
            "198214  rating is  -2.6139573180627553\n",
            "Team: [19888, 31869, 31997, 61799, 101306]\n",
            "19888  rating is  4.179369496739645\n",
            "31869  rating is  5.1110448821242995\n",
            "31997  rating is  5.3227457504409195\n",
            "61799  rating is  -4.849030389331471\n",
            "101306  rating is  4.399373074608783\n",
            "Team: [26159, 38734, 77899, 90332, 179723, 185773]\n",
            "26159  rating is  -7.759982105591177\n",
            "38734  rating is  -0.07270758228503393\n",
            "77899  rating is  -8.950424013311881\n",
            "90332  rating is  -4.713019397285137\n",
            "179723  rating is  -40.24319367587979\n",
            "185773  rating is  0.7083066126316114\n",
            "Team: [42575, 90340, 98391, 110190, 184170]\n",
            "42575  rating is  44.52110450482523\n",
            "90340  rating is  40.61223662693742\n",
            "98391  rating is  12.996708447935717\n",
            "110190  rating is  -61.013930537876114\n",
            "184170  rating is  -36.20731785316405\n",
            "Team: [80786, 82784, 113954, 147130]\n",
            "80786  rating is  34.361050714134784\n",
            "82784  rating is  72.97832753524393\n",
            "113954  rating is  64.95967734375577\n",
            "147130  rating is  12.571929149681038\n",
            "Team: [9626, 32292]\n",
            "9626  rating is  0.2667071661056143\n",
            "32292  rating is  13.415822517100908\n",
            "Team: [23015, 28247, 112093, 136182, 136184]\n",
            "23015  rating is  -9.279864948726784\n",
            "28247  rating is  -29.791057700437815\n",
            "112093  rating is  -23.08439549564629\n",
            "136182  rating is  -13.132555704815477\n",
            "136184  rating is  -29.157493414174112\n",
            "Team: [76213, 173587, 175003, 200098, 221593]\n",
            "76213  rating is  213.84474083939523\n",
            "173587  rating is  -15.777862709047202\n",
            "175003  rating is  -32.0490401420711\n",
            "200098  rating is  -7.01053168925222\n",
            "Team: [18185, 21314, 76084, 93867, 156780]\n",
            "18185  rating is  58.63114100826949\n",
            "21314  rating is  116.706968937141\n",
            "76084  rating is  136.8532725178941\n",
            "93867  rating is  26.213577310923355\n",
            "156780  rating is  -42.297774421996486\n",
            "Team: [571, 9312, 13403, 21762, 77783, 90256]\n",
            "571  rating is  4.10605759438136\n",
            "9312  rating is  5.532900491099778\n",
            "13403  rating is  0.954636575769049\n",
            "21762  rating is  -0.056064490723521127\n",
            "77783  rating is  -2.6260848144508766\n",
            "90256  rating is  -4.575457480543689\n",
            "Team: [76376, 79964, 105877, 130424]\n",
            "76376  rating is  -53.11822970259187\n",
            "79964  rating is  -61.93866189443764\n",
            "105877  rating is  -37.08400333795621\n",
            "130424  rating is  -9.809725868175907\n",
            "Team: [7359, 24593, 78282, 132557, 159757]\n",
            "7359  rating is  147.88143815398575\n",
            "24593  rating is  76.78068148132544\n",
            "78282  rating is  16.27663014129834\n",
            "132557  rating is  -13.279722573612274\n",
            "159757  rating is  -8.541345272834366\n",
            "Team: [64230, 84931, 109699, 128603, 151228]\n",
            "64230  rating is  82.04016812946601\n",
            "84931  rating is  59.13649869714116\n",
            "109699  rating is  69.69961100494261\n",
            "128603  rating is  95.28823661695753\n",
            "151228  rating is  2.8651439587764633\n",
            "Team: [134189, 134190, 134693, 134695, 138887, 182006]\n",
            "134189  rating is  -66.6430021888177\n",
            "134190  rating is  -115.27056213621589\n",
            "134693  rating is  -87.26500828981979\n",
            "134695  rating is  -109.45549861887295\n",
            "138887  rating is  -99.90347021792184\n",
            "182006  rating is  -39.73239727927953\n",
            "Team: [69687, 96591, 102751, 102753, 106391, 121357]\n",
            "69687  rating is  -41.99696995951192\n",
            "96591  rating is  -37.722564380606485\n",
            "102751  rating is  -76.3162958988216\n",
            "102753  rating is  -44.40917570829895\n",
            "106391  rating is  -53.31379395161718\n",
            "121357  rating is  -38.86101903886532\n",
            "Team: [148677, 148679, 162176]\n",
            "148677  rating is  -66.98122942289206\n",
            "148679  rating is  -66.9943188718217\n",
            "162176  rating is  -36.51886430703876\n",
            "Team: [61400, 68892, 89287, 92947, 222025]\n",
            "61400  rating is  163.8279161966112\n",
            "68892  rating is  58.869774386712606\n",
            "89287  rating is  83.47625401383176\n",
            "92947  rating is  89.311196975173\n",
            "Team: [9046, 11064, 117128, 123939, 154056, 158778]\n",
            "9046  rating is  -27.188101366668924\n",
            "11064  rating is  -7.227139981819012\n",
            "117128  rating is  -49.64186481555854\n",
            "123939  rating is  -29.40130854437237\n",
            "154056  rating is  -15.813960995515943\n",
            "158778  rating is  -14.986249452217596\n",
            "Team: [60502, 93020, 93021, 170131, 193624, 224100]\n",
            "60502  rating is  -12.587794909372292\n",
            "93020  rating is  -28.855673459153518\n",
            "93021  rating is  -0.3330703683831442\n",
            "170131  rating is  -25.939827362769442\n",
            "193624  rating is  -3.849601767029797\n",
            "Team: [69472, 132773, 142208, 159987, 186355, 223274]\n",
            "69472  rating is  0.08569748250159494\n",
            "132773  rating is  -23.489997005909697\n",
            "142208  rating is  -9.905332350023002\n",
            "159987  rating is  -13.750157822135384\n",
            "186355  rating is  -7.788652343120712\n",
            "223274  rating is  -1.319488705343613\n",
            "Team: [5651, 148000, 148771, 174123, 201530, 218830]\n",
            "5651  rating is  -6.961223578994989\n",
            "148000  rating is  -2.4575693859817727\n",
            "148771  rating is  3.273521078574671\n",
            "174123  rating is  2.8178993590139187\n",
            "201530  rating is  3.6318513077343244\n",
            "218830  rating is  0.2784348175701397\n",
            "Team: [62791, 95769, 170963, 224111, 224112]\n",
            "62791  rating is  -13.406887625140728\n",
            "95769  rating is  -13.777484870857796\n",
            "170963  rating is  -29.85838472311873\n",
            "Team: [3256, 6544, 100134, 173065, 196912, 203241]\n",
            "3256  rating is  -161.8268067833536\n",
            "6544  rating is  -134.9908848251475\n",
            "100134  rating is  0.24980753819424573\n",
            "173065  rating is  6.733356209578698\n",
            "196912  rating is  -20.449383211618784\n",
            "203241  rating is  10.207042632385736\n",
            "Team: [64129, 64131, 115021, 141600, 168686]\n",
            "64129  rating is  39.965726242471696\n",
            "64131  rating is  77.24596698659386\n",
            "115021  rating is  -0.9930116191603152\n",
            "141600  rating is  -13.120290772822736\n",
            "168686  rating is  6.587401843269455\n",
            "Team: [117728, 117729, 151554]\n",
            "117728  rating is  -103.4544401212557\n",
            "117729  rating is  -99.4820520094527\n",
            "151554  rating is  -18.252395796320403\n",
            "Team: [123504, 123506, 123508, 150185, 177928]\n",
            "123504  rating is  -31.01417279228975\n",
            "123506  rating is  -30.62485047918686\n",
            "123508  rating is  -26.39848826312393\n",
            "150185  rating is  -9.118411178626472\n",
            "177928  rating is  -2.9446411735160085\n",
            "Team: [166562, 178443, 178444, 179192]\n",
            "166562  rating is  -11.706116324708603\n",
            "178443  rating is  -6.21418297863543\n",
            "178444  rating is  -11.894389511747681\n",
            "179192  rating is  -9.394413034887053\n",
            "Team: [53704, 80591, 188033, 188034, 188037]\n",
            "53704  rating is  11.103241907227169\n",
            "80591  rating is  286.9183466834534\n",
            "188033  rating is  3.1023379252713648\n",
            "188034  rating is  5.04553051260728\n",
            "188037  rating is  6.354907375103239\n",
            "Team: [71337, 193213, 193618, 222160]\n",
            "71337  rating is  -5.345808298033229\n",
            "193213  rating is  -16.053348032619564\n",
            "193618  rating is  -5.547547953789288\n",
            "Team: [92436, 141881, 143639, 162056]\n",
            "92436  rating is  -43.25965797369773\n",
            "141881  rating is  -14.528033790021667\n",
            "143639  rating is  -6.567931396053252\n",
            "162056  rating is  3.4843885417653038\n",
            "Team: [116429, 116430, 117488, 124253, 145924, 172213]\n",
            "116429  rating is  -14.18829057835904\n",
            "116430  rating is  -13.50734515409558\n",
            "117488  rating is  -9.379174887841797\n",
            "124253  rating is  -11.488427816260176\n",
            "145924  rating is  -16.365994102047008\n",
            "172213  rating is  -3.1120803280642524\n",
            "Team: [116519, 116520, 116522, 119752, 176612, 221305]\n",
            "116519  rating is  -68.48433883813156\n",
            "116520  rating is  -49.750511129108524\n",
            "116522  rating is  -32.42336769134849\n",
            "119752  rating is  -25.093273724112006\n",
            "176612  rating is  -31.808160041317112\n",
            "221305  rating is  0.0682616846530597\n",
            "Team: [122435, 122928, 143465, 218892, 221813]\n",
            "122435  rating is  -9.246019732030902\n",
            "122928  rating is  -19.592159999791313\n",
            "143465  rating is  -6.672511576650106\n",
            "Team: [75219, 75222, 126083, 126084, 163343, 199774]\n",
            "75219  rating is  153.27589309295172\n",
            "75222  rating is  46.25267454188563\n",
            "126083  rating is  10.198703540125816\n",
            "126084  rating is  1.9567948554426131\n",
            "163343  rating is  5.652459418866065\n",
            "199774  rating is  3.1460472441613483\n",
            "Team: [158781, 158782, 160654, 185073, 212835]\n",
            "158781  rating is  -34.91495874065134\n",
            "158782  rating is  -31.71716310661018\n",
            "160654  rating is  -21.940801146654312\n",
            "185073  rating is  -6.331199007164431\n",
            "212835  rating is  -6.561105866549741\n",
            "Team: [131727, 217734, 217737]\n",
            "131727  rating is  -105.96728709225911\n",
            "217734  rating is  -0.4275160832181362\n",
            "217737  rating is  0.6058037257926434\n",
            "Team: [86839, 92003, 167872]\n",
            "86839  rating is  46.836839355026044\n",
            "92003  rating is  -20.156749328603922\n",
            "167872  rating is  -20.50825746855857\n",
            "Team: [51935, 51969, 51970, 51972, 51985, 51987]\n",
            "51935  rating is  -2.5015485797520562\n",
            "51969  rating is  -21.03292343801865\n",
            "51970  rating is  -16.97802325390771\n",
            "51972  rating is  -10.170604208734447\n",
            "51985  rating is  -22.24460873854281\n",
            "51987  rating is  -4.439436997312589\n",
            "Team: [20968, 51948, 51950, 51951, 65483, 65484]\n",
            "20968  rating is  -2.2109095393877287\n",
            "51948  rating is  -43.389779901571046\n",
            "51950  rating is  -50.30688589968493\n",
            "51951  rating is  -33.48383864885928\n",
            "65483  rating is  -58.0621323583906\n",
            "65484  rating is  -48.02217431381712\n",
            "Team: [41234, 88883, 124074, 213528]\n",
            "41234  rating is  -77.08480549299335\n",
            "88883  rating is  -18.696035481507742\n",
            "124074  rating is  -26.158257596155273\n",
            "213528  rating is  3.487651585878928\n",
            "Team: [77521, 77787, 116044, 212833]\n",
            "77521  rating is  -71.33024902273155\n",
            "77787  rating is  -38.2991467523168\n",
            "116044  rating is  -28.69396213634932\n",
            "212833  rating is  0.9948954242786079\n",
            "Team: [107134, 119285, 119286, 119306, 132472, 143720]\n",
            "107134  rating is  -71.93971848399767\n",
            "119285  rating is  1.5146563176770613\n",
            "119286  rating is  3.7518397153673155\n",
            "119306  rating is  1.050639884391892\n",
            "132472  rating is  21.463615782535534\n",
            "143720  rating is  23.596742325180294\n",
            "Team: [52072, 116280, 125691, 135215, 173146]\n",
            "52072  rating is  -3.5484858150566243\n",
            "116280  rating is  -12.046937018797712\n",
            "125691  rating is  -12.351983053400543\n",
            "135215  rating is  -0.9675034867759928\n",
            "173146  rating is  -4.386878343156783\n",
            "Team: [94879, 135035, 137902]\n",
            "94879  rating is  -41.540029283070226\n",
            "135035  rating is  -100.54657940073933\n",
            "137902  rating is  -67.84995241419848\n",
            "Team: [55728, 102177, 142140, 142141, 148834, 205730]\n",
            "55728  rating is  -101.99428181450887\n",
            "102177  rating is  -49.33886480178056\n",
            "142140  rating is  -58.36052601480553\n",
            "142141  rating is  -78.27781749655233\n",
            "148834  rating is  -26.37392157795707\n",
            "205730  rating is  -3.07562530509329\n",
            "Team: [145075, 148235, 150099, 151166, 163159, 200493]\n",
            "145075  rating is  -82.18241386515562\n",
            "148235  rating is  -19.4615679751554\n",
            "150099  rating is  -3.380018345703251\n",
            "151166  rating is  -46.79169940514807\n",
            "163159  rating is  -13.452436176537384\n",
            "200493  rating is  -7.886994526336696\n",
            "Team: [148296, 148298, 196564, 224115]\n",
            "148296  rating is  -132.2449105091938\n",
            "148298  rating is  -92.50134782724608\n",
            "196564  rating is  -3.647375117020979\n",
            "Team: [16581, 115792, 132178]\n",
            "16581  rating is  303.57449166158665\n",
            "115792  rating is  -15.542457395556603\n",
            "132178  rating is  -21.61514140249525\n",
            "Team: [155846, 184847]\n",
            "155846  rating is  -22.108031250234163\n",
            "184847  rating is  -16.273871108346942\n",
            "Team: [127785, 157461, 162495, 173690, 224116]\n",
            "127785  rating is  -40.81310546868745\n",
            "157461  rating is  -77.61730068933718\n",
            "162495  rating is  -5.198920910205217\n",
            "173690  rating is  -36.603653427639486\n",
            "Team: [100956, 188969, 189182, 218257]\n",
            "100956  rating is  -21.373925011898873\n",
            "188969  rating is  -32.049985711936564\n",
            "189182  rating is  -32.61137833029202\n",
            "218257  rating is  -1.911512691065353\n",
            "Team: [190253, 190255, 190256, 190725, 199576, 221749]\n",
            "190253  rating is  -33.91536314451771\n",
            "190255  rating is  -35.331653227293494\n",
            "190256  rating is  -23.231551661070892\n",
            "190725  rating is  -21.723467652643464\n",
            "199576  rating is  -4.562069735233619\n",
            "Team: [1506, 4864, 9932, 16417, 49286, 171600]\n",
            "1506  rating is  0.8996043426786771\n",
            "4864  rating is  -103.4051558085677\n",
            "9932  rating is  -169.9365953636552\n",
            "16417  rating is  -116.32616935233877\n",
            "49286  rating is  -82.17557088047597\n",
            "171600  rating is  -24.251878180660007\n",
            "Team: [32863, 87250, 133171, 189677]\n",
            "32863  rating is  -11.950274754949275\n",
            "87250  rating is  -10.011216630233704\n",
            "133171  rating is  -1.297919393834705\n",
            "189677  rating is  -3.040280550320544\n",
            "Team: [109830, 109834, 112128, 124232, 133678, 135763]\n",
            "109830  rating is  -51.54496679826513\n",
            "109834  rating is  -36.90210353932503\n",
            "112128  rating is  -35.30056155847134\n",
            "124232  rating is  -73.80384677935841\n",
            "133678  rating is  -33.638320401706615\n",
            "135763  rating is  -13.466807892628934\n",
            "Team: [110639, 116317, 116319, 116320, 121492, 124630]\n",
            "110639  rating is  -40.74092153441024\n",
            "116317  rating is  -93.32443933422883\n",
            "116319  rating is  -95.52828147396646\n",
            "116320  rating is  -44.84993406184033\n",
            "121492  rating is  -71.12711678795495\n",
            "124630  rating is  -80.10338963336542\n",
            "Team: [20250, 27929, 34185, 60845, 144355]\n",
            "20250  rating is  -11.090725596854503\n",
            "27929  rating is  -44.97224330366285\n",
            "34185  rating is  -19.584944063915646\n",
            "60845  rating is  -18.147901743908182\n",
            "144355  rating is  -15.062321323438688\n",
            "Team: [171127, 190704, 199450]\n",
            "171127  rating is  -23.868141265639935\n",
            "190704  rating is  -17.019820877408605\n",
            "199450  rating is  -7.25676550155533\n",
            "Team: [8417, 8735, 40195]\n",
            "8417  rating is  -53.164190988169686\n",
            "8735  rating is  -89.63291360222033\n",
            "40195  rating is  26.122082686786374\n",
            "Team: [115681, 115682, 116577, 149963, 149967]\n",
            "115681  rating is  -25.883797316760493\n",
            "115682  rating is  -30.35168495468605\n",
            "116577  rating is  -36.50691532274383\n",
            "149963  rating is  -44.81481008920769\n",
            "149967  rating is  -35.60362863858241\n",
            "Team: [196025, 196028, 198697, 219388, 221784, 222322]\n",
            "196025  rating is  -2.9054445297737956\n",
            "196028  rating is  -2.0119886406140877\n",
            "198697  rating is  -5.030008442279021\n",
            "219388  rating is  -2.035409171377164\n",
            "221784  rating is  -0.4451100368713962\n",
            "222322  rating is  -0.3416647395783837\n",
            "Team: [118663, 198110, 215446, 215447]\n",
            "118663  rating is  -34.53991708627444\n",
            "198110  rating is  -18.78823696488061\n",
            "215446  rating is  -12.598347375561616\n",
            "215447  rating is  -12.598347375561616\n",
            "Team: [97409, 122817, 131147, 134479]\n",
            "97409  rating is  -7.73316379217504\n",
            "122817  rating is  -85.57587487770621\n",
            "131147  rating is  -96.52468282945571\n",
            "134479  rating is  -29.277742678107522\n",
            "Team: [62766, 152276, 185159, 185161, 195360, 203311]\n",
            "62766  rating is  5.9559807288470425\n",
            "152276  rating is  -28.70262578873358\n",
            "185159  rating is  -25.407723638629225\n",
            "185161  rating is  -31.129881949344902\n",
            "195360  rating is  -18.703517499478767\n",
            "203311  rating is  -5.11115750659532\n",
            "Team: [126242, 135713, 135714, 153066, 191311, 197911]\n",
            "126242  rating is  -29.151941148582402\n",
            "135713  rating is  -31.269963931873455\n",
            "135714  rating is  -41.00069939474902\n",
            "153066  rating is  -20.494222951480857\n",
            "191311  rating is  -31.877795995112947\n",
            "197911  rating is  -23.25638360986886\n",
            "Team: [100822]\n",
            "100822  rating is  -76.67088112550911\n",
            "Team: [105752, 146522, 222323]\n",
            "105752  rating is  -2.075007579236475\n",
            "146522  rating is  -2.075007579236475\n",
            "Team: [133156, 133157, 133158, 133159, 133160, 133161]\n",
            "133156  rating is  -1.5617856094104887\n",
            "133157  rating is  -1.5617856094104887\n",
            "133158  rating is  -1.5617856094104887\n",
            "133159  rating is  -1.5617856094104887\n",
            "133160  rating is  -1.5617856094104887\n",
            "133161  rating is  -1.5617856094104887\n",
            "Team: [139598, 139601, 148437]\n",
            "139598  rating is  -56.039652127501384\n",
            "139601  rating is  -35.883585171781405\n",
            "148437  rating is  -56.40904493013664\n",
            "Team: [71510, 71513, 190974, 215767, 221750]\n",
            "71510  rating is  -25.555627912061205\n",
            "71513  rating is  -12.054814925628305\n",
            "190974  rating is  -5.056137083958306\n",
            "215767  rating is  1.369317642608869\n",
            "Team: [121880, 140855, 199136, 219602]\n",
            "121880  rating is  -143.19205523354643\n",
            "140855  rating is  -106.73645719692969\n",
            "199136  rating is  -6.084195128587515\n",
            "219602  rating is  -0.5213188189907236\n",
            "Team: [133174, 133175, 133176, 133177, 133178]\n",
            "133174  rating is  -8.185945590313706\n",
            "133175  rating is  -0.26372286431646075\n",
            "133176  rating is  -0.9290916257206092\n",
            "133177  rating is  -0.9290916257206092\n",
            "133178  rating is  -0.9290916257206092\n",
            "Team: [126310, 137419, 199914]\n",
            "126310  rating is  -16.9199857652997\n",
            "137419  rating is  -48.750371353129836\n",
            "199914  rating is  -11.893009982574428\n",
            "Team: [144791, 157392]\n",
            "144791  rating is  -40.89790647028976\n",
            "157392  rating is  -32.98839819417869\n",
            "Team: [203353, 203354, 203355, 211238]\n",
            "203353  rating is  -13.776578136168563\n",
            "203354  rating is  -10.37670837817287\n",
            "203355  rating is  -8.59130664003877\n",
            "211238  rating is  -6.231506385353948\n",
            "Team: [140288, 212555, 224113, 224114]\n",
            "140288  rating is  -8.884436086109641\n",
            "212555  rating is  0.1986656413185208\n",
            "Team: [133150, 133152, 133153, 133154]\n",
            "133150  rating is  -1.297919393834705\n",
            "133152  rating is  -1.297919393834705\n",
            "133153  rating is  -1.297919393834705\n",
            "133154  rating is  -1.297919393834705\n",
            "Spearman:  SpearmanrResult(correlation=-0.7271314407442919, pvalue=8.742287874160606e-39)\n",
            "Pearson:  (-0.6115668507272253, 8.843628104539236e-25)\n",
            "Tournament: 6313\n",
            "Team: [1364, 9826, 11476, 41383, 36125, 10808]\n",
            "1364  rating is  196.13386492862045\n",
            "9826  rating is  235.8408331513713\n",
            "11476  rating is  191.13344904852335\n",
            "41383  rating is  213.1946159548194\n",
            "36125  rating is  165.1655122310265\n",
            "10808  rating is  181.38373730612426\n",
            "Team: [15381, 27375, 34151, 9230, 14451, 61264]\n",
            "15381  rating is  45.896022230425224\n",
            "27375  rating is  43.30395010436931\n",
            "34151  rating is  20.365052918782087\n",
            "9230  rating is  19.519472478200136\n",
            "14451  rating is  39.1409932942024\n",
            "61264  rating is  2.3636084674054425\n",
            "Team: [54468, 54469, 18305, 36711, 38647, 41123]\n",
            "54468  rating is  301.2954077796454\n",
            "54469  rating is  289.36020361210296\n",
            "18305  rating is  327.09057098450705\n",
            "36711  rating is  293.2552324436805\n",
            "38647  rating is  298.71687518886165\n",
            "41123  rating is  163.65717657714458\n",
            "Team: [32004, 7551, 68633, 21560, 81696, 41617]\n",
            "32004  rating is  455.6296839974942\n",
            "7551  rating is  436.844976350713\n",
            "68633  rating is  165.86320314103796\n",
            "21560  rating is  293.12740966693076\n",
            "81696  rating is  169.5663672116686\n",
            "41617  rating is  184.30434280187995\n",
            "Team: [29049, 25875, 6284, 15615, 10128, 10989]\n",
            "29049  rating is  128.69662254276116\n",
            "25875  rating is  94.98476168807862\n",
            "6284  rating is  182.69795107168747\n",
            "15615  rating is  72.38809012531304\n",
            "10128  rating is  87.76341754709628\n",
            "10989  rating is  128.03586691436888\n",
            "Team: [18168, 21060, 23513, 35850, 29054, 31332]\n",
            "18168  rating is  157.45048768187124\n",
            "21060  rating is  153.98528341445487\n",
            "23513  rating is  174.158387101228\n",
            "35850  rating is  142.44081723556334\n",
            "29054  rating is  86.42070727117627\n",
            "31332  rating is  95.65017533342814\n",
            "Team: [13638, 4875, 2322, 53126, 40391, 35861]\n",
            "13638  rating is  612.8660847561329\n",
            "4875  rating is  494.09359770993365\n",
            "2322  rating is  558.410692157329\n",
            "53126  rating is  301.6814602781051\n",
            "40391  rating is  525.6768319240128\n",
            "35861  rating is  456.3319550228786\n",
            "Team: [20298, 100501, 87281, 111748, 125098, 175267]\n",
            "20298  rating is  408.4423933395137\n",
            "100501  rating is  249.4848318108514\n",
            "87281  rating is  102.60615668044508\n",
            "111748  rating is  37.74048099541182\n",
            "125098  rating is  107.5027475620889\n",
            "175267  rating is  17.582937559274736\n",
            "Team: [885, 26429, 32814, 43301, 81697, 158668]\n",
            "885  rating is  106.59263665239955\n",
            "26429  rating is  109.0311983205871\n",
            "32814  rating is  115.14378495384688\n",
            "43301  rating is  127.38376116591238\n",
            "81697  rating is  110.10627411031653\n",
            "158668  rating is  17.85435405669192\n",
            "Team: [16081, 19027, 63339, 127861, 110817, 34450]\n",
            "16081  rating is  183.91548483466278\n",
            "19027  rating is  166.35559838982513\n",
            "63339  rating is  180.68470082641954\n",
            "127861  rating is  163.97234189190362\n",
            "110817  rating is  94.17756843558489\n",
            "34450  rating is  102.37559796815252\n",
            "Team: [66189, 20078, 28939, 17938, 17618, 16773]\n",
            "66189  rating is  16.47492541895034\n",
            "20078  rating is  322.82248301618165\n",
            "28939  rating is  53.660299211132454\n",
            "17938  rating is  120.86497602098252\n",
            "17618  rating is  69.0440503283765\n",
            "16773  rating is  50.18344818496428\n",
            "Team: [10546, 13594, 60071, 75647, 27831, 181068]\n",
            "10546  rating is  -4.481065586238469\n",
            "13594  rating is  2.1007882105013094\n",
            "60071  rating is  0.5194841558166291\n",
            "75647  rating is  -0.9619474625210522\n",
            "27831  rating is  0.2164690326432308\n",
            "181068  rating is  -1.1298998386136092\n",
            "Team: [37685, 6815, 25909, 26486, 8411]\n",
            "37685  rating is  119.66263899288712\n",
            "6815  rating is  74.76571170791965\n",
            "25909  rating is  82.13420363050295\n",
            "26486  rating is  98.4725686761793\n",
            "8411  rating is  57.738860769639146\n",
            "Team: [31809, 70119, 28656, 9193, 37531, 37426]\n",
            "31809  rating is  134.3761981195935\n",
            "70119  rating is  113.12553341540634\n",
            "28656  rating is  114.53402411971454\n",
            "9193  rating is  121.66451723795979\n",
            "37531  rating is  44.11595249853029\n",
            "37426  rating is  68.52379697694634\n",
            "Team: [121686, 133351, 130710, 132165, 135500, 134910]\n",
            "121686  rating is  55.97307366131895\n",
            "133351  rating is  58.801164589547334\n",
            "130710  rating is  57.29448729337208\n",
            "132165  rating is  48.47641946896886\n",
            "135500  rating is  -1.520620789972961\n",
            "134910  rating is  21.505712705615068\n",
            "Team: [5876, 4417, 11260, 29260, 26980, 1681]\n",
            "5876  rating is  59.35750703617105\n",
            "4417  rating is  29.81469387233353\n",
            "11260  rating is  41.21294612247532\n",
            "29260  rating is  39.26322651450217\n",
            "26980  rating is  35.324673652293406\n",
            "1681  rating is  21.78598299759459\n",
            "Team: [153418, 41574, 157141, 41529, 156119, 134304]\n",
            "153418  rating is  -1.4118330001528077\n",
            "41574  rating is  -1.075451642895733\n",
            "157141  rating is  -2.2913640044333077\n",
            "41529  rating is  -3.8413472901765435\n",
            "156119  rating is  -1.160069854375759\n",
            "134304  rating is  2.6966092336961305\n",
            "Team: [37362, 90996, 30386, 112314, 37707]\n",
            "37362  rating is  375.5591172392086\n",
            "90996  rating is  151.67809426431842\n",
            "30386  rating is  108.9030764116228\n",
            "112314  rating is  -25.53583111665833\n",
            "37707  rating is  45.31969520736038\n",
            "Team: [134990, 66180, 92909, 12456, 94793, 61311]\n",
            "134990  rating is  -26.889697703494612\n",
            "66180  rating is  104.20702198869127\n",
            "92909  rating is  -41.3595077156409\n",
            "12456  rating is  -23.58897779146999\n",
            "94793  rating is  10.69156505914088\n",
            "61311  rating is  -17.656546997446966\n",
            "Team: [44703, 32052, 123108, 68315, 190280, 201456]\n",
            "44703  rating is  -16.012209531255564\n",
            "32052  rating is  -23.662773274503156\n",
            "123108  rating is  -18.95407877993959\n",
            "68315  rating is  -26.092878896669614\n",
            "190280  rating is  -0.9382852169791183\n",
            "201456  rating is  1.2009233951589304\n",
            "Team: [78747, 46873, 78068, 78746, 91000, 79295]\n",
            "78747  rating is  43.74101776506387\n",
            "46873  rating is  37.21145576256223\n",
            "78068  rating is  -8.5760149909697\n",
            "78746  rating is  -23.276581890498854\n",
            "91000  rating is  3.429735866992239\n",
            "79295  rating is  26.03397931712037\n",
            "Team: [457, 6811, 36366, 14449, 150518, 67856]\n",
            "457  rating is  54.92195745269703\n",
            "6811  rating is  53.45567675562699\n",
            "36366  rating is  83.95994379902594\n",
            "14449  rating is  51.65674154726607\n",
            "150518  rating is  15.28016396938163\n",
            "67856  rating is  23.651149756280084\n",
            "Team: [40371, 79949, 16571, 56756, 20749, 12786]\n",
            "40371  rating is  2.147945564063227\n",
            "79949  rating is  48.49314442106849\n",
            "16571  rating is  50.12345792947441\n",
            "56756  rating is  16.18831181069086\n",
            "20749  rating is  30.463346048943716\n",
            "12786  rating is  -4.509014972752007\n",
            "Team: [9510, 15582, 23294, 65272, 196633, 33630]\n",
            "9510  rating is  -8.461442117313444\n",
            "15582  rating is  -16.844747393214693\n",
            "23294  rating is  -17.840419129567795\n",
            "65272  rating is  -1.6104001394750633\n",
            "196633  rating is  -0.42488622219304295\n",
            "33630  rating is  -0.6031587166626406\n",
            "Team: [20077, 152287, 38193, 112097, 188043]\n",
            "20077  rating is  -59.14234244809522\n",
            "152287  rating is  -5.768037806574326\n",
            "38193  rating is  0.1559947238050584\n",
            "112097  rating is  -60.16523772144019\n",
            "188043  rating is  -2.0802059812874933\n",
            "Team: [25526, 28156, 6071, 15446, 23682, 146123]\n",
            "25526  rating is  138.01638042759424\n",
            "28156  rating is  -13.138754146488296\n",
            "6071  rating is  -0.6965383687143976\n",
            "15446  rating is  -15.439082025881905\n",
            "23682  rating is  -19.192285239589943\n",
            "146123  rating is  -24.352496178813507\n",
            "Team: [100368, 79944, 60881, 60879, 88690]\n",
            "100368  rating is  5.448036124461536\n",
            "79944  rating is  35.336237571533545\n",
            "60881  rating is  6.0045484441854775\n",
            "60879  rating is  5.091288271212708\n",
            "88690  rating is  -9.251686676312108\n",
            "Team: [10085, 21620, 27200, 16866, 21586, 21979]\n",
            "10085  rating is  -2.8432906266522395\n",
            "21620  rating is  -3.994109403334177\n",
            "27200  rating is  -1.1374765544539325\n",
            "16866  rating is  -3.067070567132429\n",
            "21586  rating is  1.1907888767527823\n",
            "21979  rating is  -0.46354013501854685\n",
            "Team: [24504, 2414, 20263, 4715, 37732, 27562]\n",
            "24504  rating is  56.802261093490415\n",
            "2414  rating is  64.6605366445934\n",
            "20263  rating is  60.096651957138384\n",
            "4715  rating is  25.343285367437762\n",
            "37732  rating is  72.08562247074632\n",
            "27562  rating is  27.24706150461035\n",
            "Team: [4872, 5943, 28442, 27733, 218875, 219322]\n",
            "4872  rating is  19.588659087703814\n",
            "5943  rating is  36.961469361703514\n",
            "28442  rating is  14.258059011058377\n",
            "27733  rating is  -0.9429608333658287\n",
            "218875  rating is  0.25799206312603906\n",
            "219322  rating is  0.25799206312603906\n",
            "Team: [140091, 134306, 74084, 11746, 133616, 97332]\n",
            "140091  rating is  10.149423296341304\n",
            "134306  rating is  -16.02064085811929\n",
            "74084  rating is  52.71867280655581\n",
            "11746  rating is  21.81671171640819\n",
            "133616  rating is  -11.009158797067515\n",
            "97332  rating is  -19.014082171285132\n",
            "Team: [119469, 131176, 134307, 99451, 102457, 71501]\n",
            "119469  rating is  -24.093162282564034\n",
            "131176  rating is  -54.74544090651638\n",
            "134307  rating is  -6.398675166944932\n",
            "99451  rating is  -97.51966059632704\n",
            "102457  rating is  -29.17380141673002\n",
            "71501  rating is  -55.63256813586224\n",
            "Team: [143682, 144730, 23600, 144725, 144728, 145439]\n",
            "143682  rating is  1.9225838574604253\n",
            "144730  rating is  4.354651356242205\n",
            "23600  rating is  16.46962561879605\n",
            "144725  rating is  1.9707762392701054\n",
            "144728  rating is  -0.4187085809163208\n",
            "145439  rating is  0.005944159669851845\n",
            "Team: [55808, 55811, 68656]\n",
            "55808  rating is  53.84713909360724\n",
            "55811  rating is  67.63582814469683\n",
            "68656  rating is  45.28225832386181\n",
            "Team: [92814, 71527, 55789]\n",
            "92814  rating is  -18.150857926982564\n",
            "71527  rating is  -13.944111289290092\n",
            "55789  rating is  -13.467517637302127\n",
            "Spearman:  SpearmanrResult(correlation=-0.7100840336134455, pvalue=1.7736906678868098e-06)\n",
            "Pearson:  (-0.6544997295539369, 1.9980166547042937e-05)\n",
            "Tournament: 6314\n",
            "Team: [152543, 3658, 74085, 15453]\n",
            "152543  rating is  23.143119121965956\n",
            "3658  rating is  64.90733348625956\n",
            "74085  rating is  36.04664884201973\n",
            "15453  rating is  54.43193128143227\n",
            "Team: [134638, 73370]\n",
            "134638  rating is  61.90025001289517\n",
            "73370  rating is  -12.471257597547224\n",
            "Team: [137161, 116698, 97020, 108065, 116889, 222466]\n",
            "137161  rating is  4.448009402144051\n",
            "116698  rating is  -20.24253215513557\n",
            "97020  rating is  -18.85995766061829\n",
            "108065  rating is  -10.346367791032051\n",
            "116889  rating is  1.440018247570448\n",
            "Team: [181563, 163530, 201672, 203065]\n",
            "181563  rating is  -12.056394568870992\n",
            "163530  rating is  -16.938792703721724\n",
            "201672  rating is  -3.8229206944442558\n",
            "203065  rating is  -0.6179202640213662\n",
            "Team: [140249, 181564, 209964, 184697, 181565, 189613]\n",
            "140249  rating is  -16.39498745720898\n",
            "181564  rating is  -9.15456926098338\n",
            "209964  rating is  -3.014445848997846\n",
            "184697  rating is  -11.144354315960761\n",
            "181565  rating is  -10.200609464556436\n",
            "189613  rating is  -5.627762848783062\n",
            "Team: [175146, 175145, 156813, 201673, 160621, 222443]\n",
            "175146  rating is  -20.49590227320603\n",
            "175145  rating is  -9.531110206726787\n",
            "156813  rating is  -18.935322010741736\n",
            "201673  rating is  0.510214916120924\n",
            "160621  rating is  -9.967044605994806\n",
            "Team: [209965, 209966, 203049, 221397, 222465]\n",
            "209965  rating is  -1.7704170036396456\n",
            "209966  rating is  -3.4960056519543636\n",
            "203049  rating is  0.0663672100001601\n",
            "Team: [222469, 222470, 222471, 222472, 222473, 222479]\n",
            "Team: [222461, 222462, 222463, 222464, 222460, 222458, 222459]\n",
            "Team: [181566, 219517, 221396, 222467]\n",
            "181566  rating is  -13.771271892718891\n",
            "219517  rating is  -0.3157190103568108\n",
            "Team: [222444, 222445, 222446]\n",
            "Team: [222451, 222447, 222448, 222449, 222450, 222452]\n",
            "Team: [222474, 222475, 222476, 222477, 222478, 65977]\n",
            "Team: [222453, 222454, 222455, 222456, 222457]\n",
            "Spearman:  SpearmanrResult(correlation=0.09607689228305227, pvalue=0.7438740987371759)\n",
            "Pearson:  (-0.43502791718177025, 0.12004492047693784)\n",
            "Tournament: 6317\n",
            "Team: [61606, 132224, 132227, 149735, 71970, 132226]\n",
            "61606  rating is  115.1901506902757\n",
            "132224  rating is  -146.6596038701972\n",
            "132227  rating is  -111.28362694036734\n",
            "149735  rating is  -35.6030124761609\n",
            "71970  rating is  -2.1227397488007984\n",
            "132226  rating is  -139.30692813368282\n",
            "Team: [66169, 148467, 131922, 155773, 155774, 148462]\n",
            "66169  rating is  180.50063521599034\n",
            "148467  rating is  17.57152382264517\n",
            "131922  rating is  26.124285091056787\n",
            "155773  rating is  6.167714043265069\n",
            "155774  rating is  6.361191141879631\n",
            "148462  rating is  6.034750426381969\n",
            "Team: [47545, 59934, 67268, 88842, 83425, 108911]\n",
            "47545  rating is  134.8439122838949\n",
            "59934  rating is  123.99335660054234\n",
            "67268  rating is  128.54617808965932\n",
            "88842  rating is  108.20999140840217\n",
            "83425  rating is  100.68215727248283\n",
            "108911  rating is  52.9163369551469\n",
            "Team: [162387, 162388, 162390, 198069, 198070, 172436]\n",
            "162387  rating is  3.656475541391621\n",
            "162388  rating is  2.882690872027305\n",
            "162390  rating is  2.882690872027305\n",
            "198069  rating is  0.5533212833570198\n",
            "198070  rating is  0.5533212833570198\n",
            "172436  rating is  0.36179882807437197\n",
            "Team: [47590, 88331, 74021, 5693, 74018, 82676]\n",
            "47590  rating is  34.481084048436365\n",
            "88331  rating is  39.58351843031791\n",
            "74021  rating is  35.847296853590166\n",
            "5693  rating is  37.33200795839909\n",
            "74018  rating is  31.749435037697815\n",
            "82676  rating is  22.577291820165332\n",
            "Team: [37227, 24894, 142941, 11439, 101698, 19936]\n",
            "37227  rating is  33.73256509303041\n",
            "24894  rating is  66.45265217209831\n",
            "142941  rating is  39.58582992831783\n",
            "11439  rating is  12.500167784716897\n",
            "101698  rating is  19.008047096934884\n",
            "19936  rating is  39.398541620260346\n",
            "Team: [6532, 13691, 25990, 59927, 42682, 74000]\n",
            "6532  rating is  37.432299799865696\n",
            "13691  rating is  69.17310437888901\n",
            "25990  rating is  41.144076130209505\n",
            "59927  rating is  34.2419574930351\n",
            "42682  rating is  22.279945903884975\n",
            "74000  rating is  18.614684639746873\n",
            "Team: [1050, 80524, 80525, 155810, 7680, 148464]\n",
            "1050  rating is  172.7857322558139\n",
            "80524  rating is  17.89283261682068\n",
            "80525  rating is  15.551676013387622\n",
            "155810  rating is  -2.4599420213827123\n",
            "7680  rating is  4.911274606239945\n",
            "148464  rating is  -2.0704045388226135\n",
            "Team: [12615, 29338, 78503, 78502, 88841, 92672]\n",
            "12615  rating is  75.93556357851062\n",
            "29338  rating is  87.23880692502173\n",
            "78503  rating is  84.56924974121722\n",
            "78502  rating is  87.7916076232748\n",
            "88841  rating is  60.46846986493778\n",
            "92672  rating is  50.71132331445083\n",
            "Team: [134791, 131869, 134790, 91519, 130487, 134789]\n",
            "134791  rating is  2.794686592385794\n",
            "131869  rating is  4.852029199026017\n",
            "134790  rating is  1.724716682273649\n",
            "91519  rating is  -14.235802475528798\n",
            "130487  rating is  0.11748967334390377\n",
            "134789  rating is  0.19811805492103335\n",
            "Team: [91203, 78496, 78497, 76015, 108270, 78495]\n",
            "91203  rating is  -14.12495876970899\n",
            "78496  rating is  -18.13556791258708\n",
            "78497  rating is  -17.118517568062217\n",
            "76015  rating is  -17.085690621916193\n",
            "108270  rating is  1.1099030898928994\n",
            "78495  rating is  -3.000242703781757\n",
            "Team: [11444, 189387, 193900, 193901, 170545, 189388]\n",
            "11444  rating is  4.944661499028742\n",
            "189387  rating is  -10.572195388204793\n",
            "193900  rating is  -21.74931536982885\n",
            "193901  rating is  -20.8236395431089\n",
            "170545  rating is  -13.64166671058471\n",
            "189388  rating is  -17.384813567516215\n",
            "Team: [48277, 48334, 110523, 108262, 100525, 100527]\n",
            "48277  rating is  -6.2073267238263945\n",
            "48334  rating is  32.89498541344733\n",
            "110523  rating is  0.7093450653878869\n",
            "108262  rating is  0.37922670284215737\n",
            "100525  rating is  3.1259959665983956\n",
            "100527  rating is  1.7394835384857974\n",
            "Team: [107922, 134870, 185444, 207466]\n",
            "107922  rating is  -14.12219093936044\n",
            "134870  rating is  -11.800934229904794\n",
            "185444  rating is  -15.700488995894613\n",
            "207466  rating is  1.7333956116027602\n",
            "Team: [30391, 48314, 98180, 48276, 158667, 198071]\n",
            "30391  rating is  23.539354639180505\n",
            "48314  rating is  9.08951980426472\n",
            "98180  rating is  -16.165891570616406\n",
            "48276  rating is  10.37996664513558\n",
            "158667  rating is  0.24653204414131152\n",
            "198071  rating is  -0.8230746067730718\n",
            "Team: [10680, 36139, 48275, 25203, 28563, 223988]\n",
            "10680  rating is  4.298976531876921\n",
            "36139  rating is  -0.30742236816988383\n",
            "48275  rating is  8.247837071946218\n",
            "25203  rating is  3.4388634283472075\n",
            "28563  rating is  0.8574783670505329\n",
            "Team: [198053, 198055, 198057, 198052, 198056, 198775]\n",
            "198053  rating is  -14.866660400322955\n",
            "198055  rating is  -18.63665354422215\n",
            "198057  rating is  -18.63665354422215\n",
            "198052  rating is  -18.152304914090244\n",
            "198056  rating is  -12.36679690287956\n",
            "198775  rating is  -15.031832064193154\n",
            "Team: [162379, 150661, 162376, 166757, 175456]\n",
            "162379  rating is  -5.431815055408086\n",
            "150661  rating is  -9.643365560998971\n",
            "162376  rating is  -10.235470266026732\n",
            "166757  rating is  -8.185493980486749\n",
            "175456  rating is  -27.10616093135651\n",
            "Team: [182260, 209204, 182263, 212517]\n",
            "182260  rating is  -10.856415636735509\n",
            "209204  rating is  -3.652096198798807\n",
            "182263  rating is  -8.516318301056947\n",
            "212517  rating is  -4.0853067734889965\n",
            "Team: [131867, 131887, 131864, 131865, 162382, 223987]\n",
            "131867  rating is  -12.049456133120474\n",
            "131887  rating is  -13.449698969247882\n",
            "131864  rating is  -14.099747957679938\n",
            "131865  rating is  -12.812730516887145\n",
            "162382  rating is  -1.3976908216735227\n",
            "Team: [134788, 80847, 113257, 113261, 166680, 134787]\n",
            "134788  rating is  -29.42523413671434\n",
            "80847  rating is  -35.113890560535694\n",
            "113257  rating is  -24.57898235342287\n",
            "113261  rating is  -24.285854778606666\n",
            "166680  rating is  -2.119664840440056\n",
            "134787  rating is  -19.231340552268414\n",
            "Team: [172430, 172429, 144028]\n",
            "172430  rating is  -0.8926930170011063\n",
            "172429  rating is  -2.9805767958022584\n",
            "144028  rating is  -1.343942465424997\n",
            "Team: [184743, 149697, 195223, 151092, 223981]\n",
            "184743  rating is  -10.210047632452294\n",
            "149697  rating is  -5.155348625492195\n",
            "195223  rating is  -11.456266716325963\n",
            "151092  rating is  -3.598513657049814\n",
            "Team: [223982, 223983, 223984, 223985, 223986]\n",
            "Team: [223989, 223990, 223991]\n",
            "Team: [219956, 221680]\n",
            "219956  rating is  -3.760646896065417\n",
            "221680  rating is  -1.6746460739832942\n",
            "Team: [195095, 204609]\n",
            "195095  rating is  -12.553499374535066\n",
            "204609  rating is  -7.333957121192622\n",
            "Spearman:  SpearmanrResult(correlation=-0.44909174695108833, pvalue=0.018780022249686928)\n",
            "Pearson:  (-0.44462968746204684, 0.020140375340397906)\n",
            "Tournament: 6320\n",
            "Team: [139467, 132170, 136924, 161293]\n",
            "139467  rating is  4.771775239419255\n",
            "132170  rating is  9.319437725775892\n",
            "136924  rating is  0.7077722585639757\n",
            "161293  rating is  -10.581817267418023\n",
            "Team: [19510, 32004, 7551, 68633, 81696]\n",
            "19510  rating is  361.52311407360554\n",
            "32004  rating is  455.6296839974942\n",
            "7551  rating is  436.844976350713\n",
            "68633  rating is  165.86320314103796\n",
            "81696  rating is  169.5663672116686\n",
            "Team: [26972, 47095, 38483, 13138, 67225]\n",
            "26972  rating is  121.75182047632293\n",
            "47095  rating is  98.64218884219324\n",
            "38483  rating is  70.59392754261465\n",
            "13138  rating is  65.60374162778196\n",
            "67225  rating is  58.4106840803026\n",
            "Team: [7773, 16621, 148771, 174123, 71691, 174124]\n",
            "7773  rating is  437.49468484542\n",
            "16621  rating is  429.9770455293835\n",
            "148771  rating is  3.273521078574671\n",
            "174123  rating is  2.8178993590139187\n",
            "71691  rating is  -12.154330864685331\n",
            "174124  rating is  -0.6742764741565492\n",
            "Team: [96330, 119877, 29599, 182177, 119875, 110313]\n",
            "96330  rating is  440.10328180178993\n",
            "119877  rating is  129.94815986583617\n",
            "29599  rating is  62.89399244767576\n",
            "182177  rating is  54.35654548036947\n",
            "119875  rating is  106.74369039273219\n",
            "110313  rating is  127.83567636541915\n",
            "Team: [123689, 125605, 88292, 156626, 156628, 150982]\n",
            "123689  rating is  4.506147316559194\n",
            "125605  rating is  6.25974174634942\n",
            "88292  rating is  38.11514698304584\n",
            "156626  rating is  -2.7868858921718482\n",
            "156628  rating is  -6.386664213282565\n",
            "150982  rating is  -1.3447649061238456\n",
            "Team: [147750, 102213, 195793, 93018, 145839]\n",
            "147750  rating is  69.19037914290536\n",
            "102213  rating is  102.38047157202978\n",
            "195793  rating is  32.361214529753795\n",
            "93018  rating is  6.335535052558889\n",
            "145839  rating is  9.366888221630193\n",
            "Team: [18332, 3207, 134879, 25970, 23988, 139667]\n",
            "18332  rating is  934.1919681201765\n",
            "3207  rating is  568.1653224184658\n",
            "134879  rating is  176.1670187347579\n",
            "25970  rating is  169.24654931504713\n",
            "23988  rating is  106.2773137979986\n",
            "139667  rating is  72.7002108251735\n",
            "Team: [2448, 6853, 3386, 79434, 29999, 206007]\n",
            "2448  rating is  112.17440447385462\n",
            "6853  rating is  3.769233555202634\n",
            "3386  rating is  19.31372575965539\n",
            "79434  rating is  -6.549823726192647\n",
            "29999  rating is  -1.6075020008709144\n",
            "206007  rating is  -0.1633230219585945\n",
            "Team: [1218, 35854, 203310, 5245, 219568, 222609]\n",
            "1218  rating is  -88.04940600524571\n",
            "35854  rating is  0.6516705467144909\n",
            "203310  rating is  2.322447587958781\n",
            "5245  rating is  -1.5928409497087446\n",
            "219568  rating is  0.3158411772590007\n",
            "222609  rating is  0.10748809663987303\n",
            "Team: [126726, 96659, 118867, 148779, 124751, 145617]\n",
            "126726  rating is  65.32297811188174\n",
            "96659  rating is  53.13747118969754\n",
            "118867  rating is  19.746888282813536\n",
            "148779  rating is  36.07113983349138\n",
            "124751  rating is  27.003360654827336\n",
            "145617  rating is  9.889448728979962\n",
            "Team: [41574, 18469, 166141, 174507, 174510, 174512]\n",
            "41574  rating is  -1.075451642895733\n",
            "18469  rating is  -28.82228687504412\n",
            "166141  rating is  3.1349017767850347\n",
            "174507  rating is  -8.523363979911585\n",
            "174510  rating is  -9.151539884226052\n",
            "174512  rating is  -7.469774585706707\n",
            "Team: [136186, 136184, 136182]\n",
            "136186  rating is  -19.369012138511152\n",
            "136184  rating is  -29.157493414174112\n",
            "136182  rating is  -13.132555704815477\n",
            "Team: [128908, 131629, 101083, 13508, 109058, 100831]\n",
            "128908  rating is  14.668271518427321\n",
            "131629  rating is  16.087527800345843\n",
            "101083  rating is  -52.35318624279581\n",
            "13508  rating is  -15.823435964747912\n",
            "109058  rating is  -33.539558232454944\n",
            "100831  rating is  -64.71040494443193\n",
            "Team: [15664, 90105, 132463, 109862, 196330, 96733]\n",
            "15664  rating is  234.4102033137544\n",
            "90105  rating is  36.6052712870746\n",
            "132463  rating is  202.01053112003507\n",
            "109862  rating is  13.271587671027218\n",
            "196330  rating is  18.899612082951023\n",
            "96733  rating is  45.29430085099438\n",
            "Team: [102084, 135968, 102109, 167167, 135958, 107374]\n",
            "102084  rating is  124.289055842782\n",
            "135968  rating is  31.45812664807041\n",
            "102109  rating is  88.5877033000264\n",
            "167167  rating is  -7.061288734149098\n",
            "135958  rating is  -14.57800970881449\n",
            "107374  rating is  -11.456658363468877\n",
            "Team: [30020, 13273, 14736, 1919, 2529]\n",
            "30020  rating is  146.78035376488964\n",
            "13273  rating is  19.846578386616144\n",
            "14736  rating is  59.095424710157296\n",
            "1919  rating is  93.88609881953558\n",
            "2529  rating is  30.44065937350474\n",
            "Team: [150950, 164183, 189186]\n",
            "150950  rating is  -8.975417671436643\n",
            "164183  rating is  -15.967191111649385\n",
            "189186  rating is  2.955087502925812\n",
            "Team: [23737, 36120, 15811, 28019, 10083, 4637]\n",
            "23737  rating is  596.0565327216756\n",
            "36120  rating is  516.9406353682378\n",
            "15811  rating is  519.3876171407995\n",
            "28019  rating is  158.6369741774278\n",
            "10083  rating is  147.63277566137663\n",
            "4637  rating is  99.7699943007253\n",
            "Team: [66085, 90524, 90525, 110317, 90522]\n",
            "66085  rating is  -3.7582132880819397\n",
            "90524  rating is  6.441856487589083\n",
            "90525  rating is  -0.5840884823699043\n",
            "110317  rating is  5.067576260606717\n",
            "90522  rating is  -9.835900443662096\n",
            "Team: [54467, 75322, 147999, 134559, 147997, 218832]\n",
            "54467  rating is  62.75136389705828\n",
            "75322  rating is  49.35005215417818\n",
            "147999  rating is  -2.338867133415989\n",
            "134559  rating is  -21.772612034686215\n",
            "147997  rating is  -1.52707963832312\n",
            "Team: [29887, 61316, 86251]\n",
            "29887  rating is  477.9469041348346\n",
            "61316  rating is  139.94545290287692\n",
            "86251  rating is  -64.59403317402158\n",
            "Team: [61844, 77788, 102058, 537, 24690, 204864]\n",
            "61844  rating is  155.49344906217289\n",
            "77788  rating is  -17.00416341473273\n",
            "102058  rating is  -88.10453733758679\n",
            "537  rating is  -149.37957814093264\n",
            "24690  rating is  -52.06147271229809\n",
            "204864  rating is  -3.810951354876832\n",
            "Team: [139644, 181803, 188058, 163258, 4905, 151862]\n",
            "139644  rating is  -94.85945122953454\n",
            "181803  rating is  -11.278206233815158\n",
            "188058  rating is  -17.759376405504515\n",
            "163258  rating is  -42.740453266570384\n",
            "4905  rating is  -46.15431379709564\n",
            "151862  rating is  -86.55114778909278\n",
            "Team: [37761, 3925, 73833, 747]\n",
            "37761  rating is  423.17158865347164\n",
            "3925  rating is  370.3329275450271\n",
            "73833  rating is  -6.766966917232015\n",
            "747  rating is  140.98778207134032\n",
            "Team: [27441, 31070, 41846, 8896, 71506]\n",
            "27441  rating is  71.999879398393\n",
            "31070  rating is  76.41785824719896\n",
            "41846  rating is  65.3357710696998\n",
            "8896  rating is  73.45539433599309\n",
            "71506  rating is  46.99323991109922\n",
            "Team: [20005, 162421]\n",
            "20005  rating is  1.7089288674675647\n",
            "162421  rating is  -56.64655199029091\n",
            "Team: [199892, 4812, 82, 24880, 9590, 213972]\n",
            "199892  rating is  2.217824723857174\n",
            "4812  rating is  -29.098521378249746\n",
            "82  rating is  -14.718381440354602\n",
            "24880  rating is  -7.852631557640167\n",
            "9590  rating is  -37.955518775503954\n",
            "213972  rating is  -4.584698330229155\n",
            "Team: [12510, 11349, 27145, 73940, 49466, 112312]\n",
            "12510  rating is  64.70342149769505\n",
            "11349  rating is  44.783088942499305\n",
            "27145  rating is  93.71442894464762\n",
            "73940  rating is  12.655741145330587\n",
            "49466  rating is  29.188838632492008\n",
            "112312  rating is  31.44855842740728\n",
            "Team: [115151, 103053, 91183, 84148, 100300, 123126]\n",
            "115151  rating is  75.37670073555266\n",
            "103053  rating is  13.389554864705037\n",
            "91183  rating is  -53.450865382738876\n",
            "84148  rating is  50.8125566336578\n",
            "100300  rating is  62.9374300756272\n",
            "123126  rating is  20.487721697904163\n",
            "Team: [108329, 108165, 161484, 119584, 28374, 218264]\n",
            "108329  rating is  61.173228917980374\n",
            "108165  rating is  86.88125616626091\n",
            "161484  rating is  3.5953836464413986\n",
            "119584  rating is  26.93021535479756\n",
            "28374  rating is  -32.59448180166421\n",
            "218264  rating is  -0.2015037866418846\n",
            "Team: [26261, 172554, 26260, 20441, 67162]\n",
            "26261  rating is  35.62840905799845\n",
            "172554  rating is  -4.2411581044539615\n",
            "26260  rating is  21.103519301712026\n",
            "20441  rating is  25.23820558399208\n",
            "67162  rating is  4.567426189240239\n",
            "Team: [25455, 11432, 147635, 112632, 41471]\n",
            "25455  rating is  -108.53074618603297\n",
            "11432  rating is  -44.582337903494206\n",
            "147635  rating is  -18.104481410593667\n",
            "112632  rating is  -5.459743848206695\n",
            "41471  rating is  -97.18203466265025\n",
            "Team: [22306, 178414, 185531, 193660, 185582, 223493]\n",
            "22306  rating is  24.20289100704463\n",
            "178414  rating is  -45.13436551621934\n",
            "185531  rating is  -34.83048269246797\n",
            "193660  rating is  -1.3645823721771382\n",
            "185582  rating is  -12.389245886630711\n",
            "Team: [104484, 136310, 105061, 87285, 152955]\n",
            "104484  rating is  -4.0612218765666945\n",
            "136310  rating is  -31.085565543011526\n",
            "105061  rating is  -98.49147717613313\n",
            "87285  rating is  -34.59899617820259\n",
            "152955  rating is  -11.321630023494663\n",
            "Team: [101679, 88205, 101827, 122896]\n",
            "101679  rating is  121.0434061279229\n",
            "88205  rating is  20.362933152994273\n",
            "101827  rating is  67.95667474468381\n",
            "122896  rating is  74.94949913602035\n",
            "Team: [62658, 5316, 147184, 32626, 158915, 196782]\n",
            "62658  rating is  -117.48368175527358\n",
            "5316  rating is  -24.640661974311957\n",
            "147184  rating is  -29.422179975066687\n",
            "32626  rating is  -23.31827937226483\n",
            "158915  rating is  -32.575529571092154\n",
            "196782  rating is  -1.937362087376851\n",
            "Team: [139262, 46631, 46632, 218890]\n",
            "139262  rating is  -14.728976762292506\n",
            "46631  rating is  -30.453849471903318\n",
            "46632  rating is  -28.46663315548308\n",
            "218890  rating is  0.07376133751094686\n",
            "Team: [112234, 173864, 134250, 163400, 173865, 173866, 98873]\n",
            "112234  rating is  -175.09934421843457\n",
            "173864  rating is  -111.22378389730294\n",
            "134250  rating is  -74.5055578135877\n",
            "163400  rating is  -89.97530080992313\n",
            "173865  rating is  -61.99311572202057\n",
            "173866  rating is  -90.37510027487193\n",
            "98873  rating is  -47.63705701440622\n",
            "Team: [116899, 154356]\n",
            "116899  rating is  -22.197456128203434\n",
            "154356  rating is  7.211093274617279\n",
            "Team: [8155, 21105, 28345, 8709, 8732, 7153, 21106]\n",
            "8155  rating is  -12.42633190085478\n",
            "21105  rating is  -12.015904386093105\n",
            "28345  rating is  0.38821581354530615\n",
            "8709  rating is  -15.058934467788252\n",
            "8732  rating is  -15.593822335536085\n",
            "7153  rating is  -11.157836230010446\n",
            "21106  rating is  -17.543970211645597\n",
            "Team: [14326, 97371, 18523, 8153, 43686, 43687, 79436, 224159]\n",
            "14326  rating is  1.2207761682995582\n",
            "97371  rating is  -7.0375568138967\n",
            "18523  rating is  -3.5564231784582123\n",
            "8153  rating is  -4.4797688977686185\n",
            "43686  rating is  -6.133013719381923\n",
            "43687  rating is  4.876338220547011\n",
            "79436  rating is  -5.496482314952587\n",
            "Team: [94878, 156296, 135069, 111252, 135267, 134396]\n",
            "94878  rating is  -61.94471946037364\n",
            "156296  rating is  -25.36806560878815\n",
            "135069  rating is  -45.74366301204421\n",
            "111252  rating is  -37.499918730562385\n",
            "135267  rating is  -17.807852092687796\n",
            "134396  rating is  -29.831222717335812\n",
            "Team: [125567, 79619, 6562, 19870]\n",
            "125567  rating is  -60.47026067542948\n",
            "79619  rating is  -30.493416684544872\n",
            "6562  rating is  26.533493799126017\n",
            "19870  rating is  -10.197741241468972\n",
            "Team: [112137, 114192, 112143, 105782, 108025, 189206, 224147]\n",
            "112137  rating is  -36.15342916173348\n",
            "114192  rating is  -19.27997085362684\n",
            "112143  rating is  -16.98331232250272\n",
            "105782  rating is  -15.856471626984295\n",
            "108025  rating is  -19.911363180407243\n",
            "189206  rating is  -1.9467985438826048\n",
            "Team: [193213, 193618, 71337, 193214, 193619]\n",
            "193213  rating is  -16.053348032619564\n",
            "193618  rating is  -5.547547953789288\n",
            "71337  rating is  -5.345808298033229\n",
            "193214  rating is  -3.2301161444166504\n",
            "193619  rating is  -7.819982930891741\n",
            "Team: [158968, 131179, 162563, 158966, 158967, 98218]\n",
            "158968  rating is  -114.50380016903095\n",
            "131179  rating is  -105.62635738222797\n",
            "162563  rating is  -86.92592582850828\n",
            "158966  rating is  -94.48155222891076\n",
            "158967  rating is  -93.55711418555107\n",
            "98218  rating is  -50.17752857488457\n",
            "Team: [20722, 86248, 189352, 41159, 125005, 192542]\n",
            "20722  rating is  -11.062410826381361\n",
            "86248  rating is  -197.87636852142384\n",
            "189352  rating is  -13.606273425847533\n",
            "41159  rating is  -11.561476632496325\n",
            "125005  rating is  -20.532419548046523\n",
            "192542  rating is  -5.922048045511572\n",
            "Team: [75244, 101078, 41704, 163275]\n",
            "75244  rating is  3.034955743255505\n",
            "101078  rating is  -98.11140578527778\n",
            "41704  rating is  -54.32351314238732\n",
            "163275  rating is  -20.47123057720508\n",
            "Team: [124074, 41234, 94669, 203354, 196563]\n",
            "124074  rating is  -26.158257596155273\n",
            "41234  rating is  -77.08480549299335\n",
            "94669  rating is  -48.336065291798306\n",
            "203354  rating is  -10.37670837817287\n",
            "196563  rating is  -3.953447781235784\n",
            "Team: [184802, 184804, 184805, 184801, 184803]\n",
            "184802  rating is  -3.2226378900641355\n",
            "184804  rating is  -1.3976976193720676\n",
            "184805  rating is  1.6926538810292167\n",
            "184801  rating is  0.033790472593054816\n",
            "184803  rating is  -6.400110367449171\n",
            "Team: [23568, 23586, 98072, 93985, 220563]\n",
            "23568  rating is  -48.068505638556786\n",
            "23586  rating is  -44.26421323015211\n",
            "98072  rating is  -40.69716233825191\n",
            "93985  rating is  -27.39679043043576\n",
            "Spearman:  SpearmanrResult(correlation=-0.5947238111500043, pvalue=3.3322230004580577e-06)\n",
            "Pearson:  (-0.4979786217051769, 0.00017229641940161723)\n",
            "Tournament: 6323\n",
            "Team: [27009, 54574, 88505, 105369, 116628, 10236]\n",
            "27009  rating is  375.9447085730365\n",
            "54574  rating is  107.83519039444171\n",
            "88505  rating is  146.72048959592198\n",
            "105369  rating is  118.33974310534566\n",
            "116628  rating is  117.58041421258672\n",
            "10236  rating is  68.22747095111984\n",
            "Team: [21721, 37537, 7440, 11645, 36607, 9313]\n",
            "21721  rating is  322.30254212478104\n",
            "37537  rating is  319.49211679168343\n",
            "7440  rating is  182.3460312990376\n",
            "11645  rating is  239.14068373604132\n",
            "36607  rating is  203.49620519977603\n",
            "9313  rating is  179.6465758566057\n",
            "Team: [11346, 11347, 149713, 112067]\n",
            "11346  rating is  208.88357541485894\n",
            "11347  rating is  174.71518970553532\n",
            "149713  rating is  -6.435536730811562\n",
            "112067  rating is  71.48318749927465\n",
            "Team: [39266, 63448, 117118, 55186, 3450, 20202]\n",
            "39266  rating is  64.934703262189\n",
            "63448  rating is  11.018531215208629\n",
            "117118  rating is  14.13161237156651\n",
            "55186  rating is  26.25403268249627\n",
            "3450  rating is  14.43204743833754\n",
            "20202  rating is  1.6990750909487993\n",
            "Team: [10445, 136698, 14863, 156532]\n",
            "10445  rating is  24.062831404472032\n",
            "136698  rating is  24.930562078692486\n",
            "14863  rating is  9.563402889983168\n",
            "156532  rating is  -29.360483470239707\n",
            "Team: [26189, 140465, 140466, 185468, 23401, 18529]\n",
            "26189  rating is  5.901179767514485\n",
            "140465  rating is  4.529605778488773\n",
            "140466  rating is  2.8464415702546453\n",
            "185468  rating is  4.311518085536127\n",
            "23401  rating is  49.103418502654016\n",
            "18529  rating is  0.7017198153943807\n",
            "Team: [18579, 15799, 18023, 2914, 18710]\n",
            "18579  rating is  195.0444208585046\n",
            "15799  rating is  176.85744322821213\n",
            "18023  rating is  175.9159639276681\n",
            "2914  rating is  190.7964816281472\n",
            "18710  rating is  189.09469067428003\n",
            "Team: [140469, 1432, 106426, 106850, 21564, 108299]\n",
            "140469  rating is  2.876940313911664\n",
            "1432  rating is  -24.471441886488595\n",
            "106426  rating is  -46.67594727604999\n",
            "106850  rating is  -46.25231345814359\n",
            "21564  rating is  -60.93581906332117\n",
            "108299  rating is  -50.3399684152291\n",
            "Team: [42451, 70248, 99493, 60040, 94538, 35348]\n",
            "42451  rating is  8.548109218288356\n",
            "70248  rating is  -24.491146459506922\n",
            "99493  rating is  -0.13950121072787036\n",
            "60040  rating is  -9.542082461392203\n",
            "94538  rating is  -12.38132858650761\n",
            "35348  rating is  -1.6980531527200742\n",
            "Team: [138372, 138374, 138751, 138370, 138371]\n",
            "138372  rating is  16.403470449284452\n",
            "138374  rating is  1.3573168940697695\n",
            "138751  rating is  6.867459673182253\n",
            "138370  rating is  2.287577870903518\n",
            "138371  rating is  -6.157347410145742\n",
            "Team: [161996, 161997, 181962]\n",
            "161996  rating is  -13.121361021098668\n",
            "161997  rating is  -12.558203571668322\n",
            "181962  rating is  -30.325931008361813\n",
            "Team: [22175, 113744, 150888, 113773, 34164, 130541]\n",
            "22175  rating is  -32.65819608658891\n",
            "113744  rating is  -29.00819020666593\n",
            "150888  rating is  -7.036343009384461\n",
            "113773  rating is  -30.045149825613542\n",
            "34164  rating is  -37.95550637083136\n",
            "130541  rating is  -24.37142074797657\n",
            "Team: [17283, 7342, 149081, 81417, 15345, 140462]\n",
            "17283  rating is  6.925536770731172\n",
            "7342  rating is  -22.57702822438652\n",
            "149081  rating is  -15.545454891902532\n",
            "81417  rating is  -15.524480031948187\n",
            "15345  rating is  -13.342593477729661\n",
            "140462  rating is  -11.285323586536482\n",
            "Team: [40625, 33805, 117681, 611, 140458]\n",
            "40625  rating is  -29.683867908165325\n",
            "33805  rating is  -27.632151783501925\n",
            "117681  rating is  -4.6850321900146445\n",
            "611  rating is  -14.89442209953001\n",
            "140458  rating is  -2.755174131405072\n",
            "Team: [66389, 54508, 145192, 91872]\n",
            "66389  rating is  -4.262611430595167\n",
            "54508  rating is  -15.479404586025073\n",
            "145192  rating is  -4.058376330011131\n",
            "91872  rating is  -21.17211213444852\n",
            "Spearman:  SpearmanrResult(correlation=-0.7678571428571428, pvalue=0.0008293296291369939)\n",
            "Pearson:  (-0.6921970066111967, 0.004241529334480361)\n",
            "Tournament: 6325\n",
            "Team: [168516, 169257, 184616, 184614, 184617]\n",
            "168516  rating is  7.104796021336065\n",
            "169257  rating is  6.3038252204674\n",
            "184616  rating is  1.4076460568612787\n",
            "184614  rating is  -1.8493188762453998\n",
            "184617  rating is  -1.6590983886329196\n",
            "Team: [154540, 184586, 121236, 201211, 223933, 223934]\n",
            "154540  rating is  -3.6010983622000636\n",
            "184586  rating is  0.1299998656176357\n",
            "121236  rating is  1.0084124217502834\n",
            "201211  rating is  -1.8121614813500744\n",
            "Team: [220682, 220683, 220684, 220685, 220686, 220687, 220688]\n",
            "Team: [204283, 204284, 180607, 204286, 204289, 222135]\n",
            "204283  rating is  4.299003069146858\n",
            "204284  rating is  4.299003069146858\n",
            "180607  rating is  -0.5539207300336688\n",
            "204286  rating is  0.9185831476427205\n",
            "204289  rating is  1.1006541358832036\n",
            "Team: [180562, 204285, 170845, 170853, 180608, 204288]\n",
            "180562  rating is  7.586118791478693\n",
            "204285  rating is  4.967078382569172\n",
            "170845  rating is  3.7125521311194722\n",
            "170853  rating is  3.7125521311194722\n",
            "180608  rating is  5.0653933100243504\n",
            "204288  rating is  1.1006541358832036\n",
            "Team: [210044, 201194, 201195, 201196, 223890, 223891]\n",
            "210044  rating is  0.5805876447719345\n",
            "201194  rating is  -1.5358682117423672\n",
            "201195  rating is  -1.5358682117423672\n",
            "201196  rating is  -1.5358682117423672\n",
            "Team: [165580, 165581, 165583, 179953, 179954]\n",
            "165580  rating is  2.0917042208239285\n",
            "165581  rating is  2.0917042208239285\n",
            "165583  rating is  2.659082310590864\n",
            "179953  rating is  3.172332161301921\n",
            "179954  rating is  4.749568670314461\n",
            "Team: [201232, 201233, 201234, 201236, 223282, 223908]\n",
            "201232  rating is  -0.924327495363447\n",
            "201233  rating is  -0.924327495363447\n",
            "201234  rating is  -0.924327495363447\n",
            "201236  rating is  -0.924327495363447\n",
            "Team: [180550, 180555, 180553, 180551, 209143, 188830]\n",
            "180550  rating is  0.219632447623764\n",
            "180555  rating is  -0.4245267875291513\n",
            "180553  rating is  -0.4245267875291513\n",
            "180551  rating is  -2.29417432986818\n",
            "209143  rating is  -0.12398335885628597\n",
            "188830  rating is  1.5503772787700667\n",
            "Team: [165382, 165384, 178964, 197852, 218879, 165390]\n",
            "165382  rating is  -7.171070481176782\n",
            "165384  rating is  -6.030466033194634\n",
            "178964  rating is  -5.066143487154821\n",
            "197852  rating is  -0.9519546459830013\n",
            "165390  rating is  2.19445591860695\n",
            "Team: [192048, 192049, 192050, 192051, 192054, 201231]\n",
            "192048  rating is  -2.7161526463240406\n",
            "192049  rating is  -2.7161526463240406\n",
            "192050  rating is  -2.7161526463240406\n",
            "192051  rating is  -2.7161526463240406\n",
            "192054  rating is  -2.7161526463240406\n",
            "201231  rating is  -0.5875118187632812\n",
            "Team: [220999, 221000, 221001, 221004, 184512, 223932]\n",
            "184512  rating is  -1.9406643048580459\n",
            "Team: [185396, 193720, 193721, 193726, 201132, 201133, 223892]\n",
            "185396  rating is  0.09437876455410132\n",
            "193720  rating is  -0.7177502134634172\n",
            "193721  rating is  -0.7177502134634172\n",
            "193726  rating is  -2.9613734119481565\n",
            "201132  rating is  -0.15240654557492028\n",
            "201133  rating is  -0.15240654557492028\n",
            "Team: [218137, 218142, 218143, 218144, 223930, 223931]\n",
            "218137  rating is  -0.329924143658002\n",
            "218142  rating is  -3.157287827113201\n",
            "218143  rating is  -3.157287827113201\n",
            "218144  rating is  -0.7298684266150733\n",
            "Team: [186336, 184596, 184598, 184599, 217340, 193447, 184597, 223938]\n",
            "186336  rating is  -2.689948908775223\n",
            "184596  rating is  2.663177724631266\n",
            "184598  rating is  2.663177724631266\n",
            "184599  rating is  2.663177724631266\n",
            "217340  rating is  -2.4968194706347733\n",
            "193447  rating is  -2.950628630725097\n",
            "184597  rating is  -0.3843256638925303\n",
            "Team: [201242, 201243, 201244, 201245, 201246, 223280]\n",
            "201242  rating is  -1.2806842344721918\n",
            "201243  rating is  -1.2806842344721918\n",
            "201244  rating is  -1.2806842344721918\n",
            "201245  rating is  -1.2806842344721918\n",
            "201246  rating is  -1.2806842344721918\n",
            "Team: [178952, 194421, 203561, 223928]\n",
            "178952  rating is  -9.618715601841382\n",
            "194421  rating is  -4.599330229952844\n",
            "203561  rating is  -3.6925102774761593\n",
            "Team: [192152, 192153, 192154, 192155, 192156, 220712]\n",
            "192152  rating is  -1.0782479423792997\n",
            "192153  rating is  -1.0782479423792997\n",
            "192154  rating is  -1.0782479423792997\n",
            "192155  rating is  -1.0782479423792997\n",
            "192156  rating is  -1.0782479423792997\n",
            "Team: [221005, 221006, 221007, 221008, 221009, 221010]\n",
            "Team: [194656, 194660, 194661, 206357, 223909, 223910]\n",
            "194656  rating is  0.2802407741468847\n",
            "194660  rating is  0.2766235307441476\n",
            "194661  rating is  0.2802407741468847\n",
            "206357  rating is  1.3636067472198985\n",
            "Team: [194662, 194663, 194665, 194667, 218733, 223927]\n",
            "194662  rating is  -1.6302596562734673\n",
            "194663  rating is  -0.9774077141944393\n",
            "194665  rating is  -0.9774077141944393\n",
            "194667  rating is  -0.9774077141944393\n",
            "218733  rating is  0.5924230329946935\n",
            "223927  rating is  -0.7234397037967825\n",
            "Team: [188399, 192376, 192377, 192385, 223929]\n",
            "188399  rating is  -37.7418488039989\n",
            "192376  rating is  -24.55233076882395\n",
            "192377  rating is  -19.190889268053255\n",
            "192385  rating is  -28.383703966285296\n",
            "Team: [193714, 193716, 193719, 221476, 221477, 223926]\n",
            "193714  rating is  -2.3534174612510164\n",
            "193716  rating is  -2.3534174612510164\n",
            "193719  rating is  -2.3534174612510164\n",
            "Team: [192240, 192244, 192245, 223935, 223936, 223937]\n",
            "192240  rating is  -1.5237273913287168\n",
            "192244  rating is  -1.5237273913287168\n",
            "192245  rating is  -1.5237273913287168\n",
            "Team: [194643, 194644, 194647, 194648, 223887, 223888]\n",
            "194643  rating is  -0.34666162651949717\n",
            "194644  rating is  -0.34666162651949717\n",
            "194647  rating is  -0.34666162651949717\n",
            "194648  rating is  -0.34666162651949717\n",
            "Team: [184618, 223885]\n",
            "184618  rating is  -1.2593670300048685\n",
            "Spearman:  SpearmanrResult(correlation=-0.3983586996159298, pvalue=0.04383684214299941)\n",
            "Pearson:  (-0.36118900354722716, 0.06984856430548775)\n",
            "Tournament: 6330\n",
            "Team: [2763, 10136, 22566]\n",
            "2763  rating is  79.68539060590787\n",
            "10136  rating is  76.36947914917451\n",
            "22566  rating is  76.21331892043787\n",
            "Team: [199619, 201866, 201867, 201868, 209548, 201865]\n",
            "199619  rating is  0.7185541276635102\n",
            "201866  rating is  2.4516253293927845\n",
            "201867  rating is  0.888910867129451\n",
            "201868  rating is  0.888910867129451\n",
            "209548  rating is  0.8165434323801747\n",
            "201865  rating is  1.8704812894514495\n",
            "Team: [125567, 79619, 6562, 125981, 125728]\n",
            "125567  rating is  -60.47026067542948\n",
            "79619  rating is  -30.493416684544872\n",
            "6562  rating is  26.533493799126017\n",
            "125981  rating is  -26.19397761294565\n",
            "125728  rating is  -31.536757316572015\n",
            "Team: [19949, 116824, 76303, 115802, 127187]\n",
            "19949  rating is  236.29381795308046\n",
            "116824  rating is  57.065093032494595\n",
            "76303  rating is  170.2982690803698\n",
            "115802  rating is  139.48280693608055\n",
            "127187  rating is  -18.910490263436206\n",
            "Team: [17034, 108562]\n",
            "17034  rating is  199.86520407050182\n",
            "108562  rating is  190.24879664512986\n",
            "Team: [30744, 167877, 17581, 9730]\n",
            "30744  rating is  91.3048119302756\n",
            "167877  rating is  -4.920322040642622\n",
            "17581  rating is  18.96435322367989\n",
            "9730  rating is  5.3854693117138055\n",
            "Team: [103937, 89336]\n",
            "103937  rating is  73.91772842269565\n",
            "89336  rating is  47.3399882620764\n",
            "Team: [147779, 165444, 213897, 180776]\n",
            "147779  rating is  -13.69724435624141\n",
            "165444  rating is  -4.245617551429888\n",
            "213897  rating is  0.8722974248177735\n",
            "180776  rating is  -18.39737403877835\n",
            "Team: [44019, 38747, 12448, 173461, 126737]\n",
            "44019  rating is  111.38994334175894\n",
            "38747  rating is  23.839821673390905\n",
            "12448  rating is  79.63229349104103\n",
            "173461  rating is  40.714116628939564\n",
            "126737  rating is  -4.394788319256214\n",
            "Team: [176349, 133454, 219358, 171243, 79150]\n",
            "176349  rating is  -14.547984057951139\n",
            "133454  rating is  -37.44029677928474\n",
            "219358  rating is  0.30890154758455635\n",
            "171243  rating is  -0.31971460847402944\n",
            "79150  rating is  -12.621838403488908\n",
            "Team: [134476, 132143, 132146]\n",
            "134476  rating is  -52.659664144285635\n",
            "132143  rating is  -51.14692266788686\n",
            "132146  rating is  -27.4782793417607\n",
            "Team: [174180]\n",
            "174180  rating is  0.2020168782990762\n",
            "Team: [178414, 193660]\n",
            "178414  rating is  -45.13436551621934\n",
            "193660  rating is  -1.3645823721771382\n",
            "Team: [18662, 15189]\n",
            "18662  rating is  -93.11663349056181\n",
            "15189  rating is  -92.60683111808495\n",
            "Team: [134013, 144799, 133830, 145704, 144796, 154241]\n",
            "134013  rating is  -19.939209466074225\n",
            "144799  rating is  -51.546826734618854\n",
            "133830  rating is  -15.974402189031343\n",
            "145704  rating is  -21.870376488041973\n",
            "144796  rating is  -35.86647644743927\n",
            "154241  rating is  -17.93488626012501\n",
            "Team: [90842, 191737, 191738, 191739, 192347]\n",
            "90842  rating is  -5.861926919082737\n",
            "191737  rating is  -12.352906004207464\n",
            "191738  rating is  -7.389437022134551\n",
            "191739  rating is  -10.028120138987612\n",
            "192347  rating is  -3.398169456564873\n",
            "Team: [37939, 37938, 92897, 181604, 19477, 151412]\n",
            "37939  rating is  -14.72076049001992\n",
            "37938  rating is  -16.916660972338185\n",
            "92897  rating is  -13.45866372263578\n",
            "181604  rating is  -9.17623041103507\n",
            "19477  rating is  50.054188334323555\n",
            "151412  rating is  -3.281042603957826\n",
            "Team: [99451]\n",
            "99451  rating is  -97.51966059632704\n",
            "Team: [221639, 221640, 221641, 221642, 221643]\n",
            "221639  rating is  -0.820752522633684\n",
            "221640  rating is  -0.820752522633684\n",
            "221641  rating is  -0.820752522633684\n",
            "221642  rating is  -0.820752522633684\n",
            "221643  rating is  -0.820752522633684\n",
            "Team: [53821, 79184, 82458]\n",
            "53821  rating is  95.57745550384092\n",
            "79184  rating is  20.547780730342435\n",
            "82458  rating is  51.15737552650287\n",
            "Team: [223972, 223973, 223974, 223975, 223976, 223977]\n",
            "Team: [82582, 82572, 145932, 221408, 220104]\n",
            "82582  rating is  -51.172291590719055\n",
            "82572  rating is  -71.60042988231474\n",
            "145932  rating is  -31.474975768963738\n",
            "Team: [59735]\n",
            "59735  rating is  19.73186346661694\n",
            "Team: [223573, 223574, 223575, 223576, 223577, 223766]\n",
            "Spearman:  SpearmanrResult(correlation=-0.3492063574615061, pvalue=0.09441431219567648)\n",
            "Pearson:  (-0.41087220269121, 0.04610010494877001)\n",
            "Tournament: 6331\n",
            "Team: [15501, 36330, 34966, 4349, 25559, 37884, 30451]\n",
            "15501  rating is  20.652084367805042\n",
            "36330  rating is  19.300676868364974\n",
            "34966  rating is  30.13084319725072\n",
            "4349  rating is  15.641659756654194\n",
            "25559  rating is  16.749762444939037\n",
            "37884  rating is  9.167532723309996\n",
            "30451  rating is  7.963785090105921\n",
            "Team: [88686, 83157, 85893, 99443, 79926]\n",
            "88686  rating is  -13.878951796881022\n",
            "83157  rating is  -12.816738847997144\n",
            "85893  rating is  -12.992500231136418\n",
            "99443  rating is  -10.085280138088239\n",
            "79926  rating is  -21.402382990566732\n",
            "Team: [92040, 79304, 80295, 78725, 126675, 58912]\n",
            "92040  rating is  -34.91494058514394\n",
            "79304  rating is  -1.289442684650374\n",
            "80295  rating is  -31.37629478576748\n",
            "78725  rating is  -33.85048781053552\n",
            "126675  rating is  -3.7758322132002307\n",
            "58912  rating is  -20.942117570002043\n",
            "Team: [143655, 58911, 40392, 57294, 57295, 70117]\n",
            "143655  rating is  -13.294145035740744\n",
            "58911  rating is  0.3785107375933742\n",
            "40392  rating is  -41.41321004740775\n",
            "57294  rating is  -41.16921755568597\n",
            "57295  rating is  -50.85845112765576\n",
            "70117  rating is  -24.89019733804087\n",
            "Team: [78731, 68304, 190930, 78333, 138524]\n",
            "78731  rating is  -6.394008769838014\n",
            "68304  rating is  -5.531721425944023\n",
            "190930  rating is  -3.2351347938215125\n",
            "78333  rating is  -27.531320096010955\n",
            "138524  rating is  -3.1302092787291875\n",
            "Team: [177021, 177022, 202010, 177024, 160276]\n",
            "177021  rating is  2.111483129852055\n",
            "177022  rating is  2.305577598826019\n",
            "202010  rating is  1.4340990444151944\n",
            "177024  rating is  1.6519142405667313\n",
            "160276  rating is  -1.3526030412276884\n",
            "Team: [10187, 17419, 11374, 3208, 20386, 78735]\n",
            "10187  rating is  62.73310238735196\n",
            "17419  rating is  43.50729363039763\n",
            "11374  rating is  18.335750703521033\n",
            "3208  rating is  52.51279503910979\n",
            "20386  rating is  6.13625420728369\n",
            "78735  rating is  34.66338775086745\n",
            "Team: [60043, 68656, 55807]\n",
            "60043  rating is  305.88898244931374\n",
            "68656  rating is  45.28225832386181\n",
            "55807  rating is  50.765423877067185\n",
            "Team: [144714, 183165, 183167, 131387, 8106, 222770]\n",
            "144714  rating is  -11.756652554654734\n",
            "183165  rating is  -11.429548746878737\n",
            "183167  rating is  -11.430610551132858\n",
            "131387  rating is  -14.573419440101134\n",
            "8106  rating is  -51.210818575608066\n",
            "222770  rating is  0.17093444160697033\n",
            "Team: [140091, 134306, 74084, 11746, 133616, 97332]\n",
            "140091  rating is  10.149423296341304\n",
            "134306  rating is  -16.02064085811929\n",
            "74084  rating is  52.71867280655581\n",
            "11746  rating is  21.81671171640819\n",
            "133616  rating is  -11.009158797067515\n",
            "97332  rating is  -19.014082171285132\n",
            "Team: [143682, 144730, 23600, 144725, 144728, 215138]\n",
            "143682  rating is  1.9225838574604253\n",
            "144730  rating is  4.354651356242205\n",
            "23600  rating is  16.46962561879605\n",
            "144725  rating is  1.9707762392701054\n",
            "144728  rating is  -0.4187085809163208\n",
            "215138  rating is  0.8977387543680663\n",
            "Team: [93430, 102459, 101448, 116978, 101432]\n",
            "93430  rating is  78.31659628559393\n",
            "102459  rating is  -31.623642870284645\n",
            "101448  rating is  -39.71871511280588\n",
            "116978  rating is  -4.134276077026212\n",
            "101432  rating is  -1.0159485857365842\n",
            "Team: [136310, 105061, 87285, 68316, 103771, 93420]\n",
            "136310  rating is  -31.085565543011526\n",
            "105061  rating is  -98.49147717613313\n",
            "87285  rating is  -34.59899617820259\n",
            "68316  rating is  -9.928032484306582\n",
            "103771  rating is  -90.73058012574243\n",
            "93420  rating is  -50.82946349495365\n",
            "Team: [3231, 144716, 57291, 79948, 210278, 223686]\n",
            "3231  rating is  -14.439548714849458\n",
            "144716  rating is  -12.479861598071329\n",
            "57291  rating is  -38.15137639595385\n",
            "79948  rating is  -18.929595401990117\n",
            "210278  rating is  -1.8097330857723524\n",
            "Team: [131176, 134307, 119469, 71501, 102457]\n",
            "131176  rating is  -54.74544090651638\n",
            "134307  rating is  -6.398675166944932\n",
            "119469  rating is  -24.093162282564034\n",
            "71501  rating is  -55.63256813586224\n",
            "102457  rating is  -29.17380141673002\n",
            "Team: [157142, 157143, 157144, 206234, 189706, 157146]\n",
            "157142  rating is  -11.978866340525673\n",
            "157143  rating is  -11.978866340525673\n",
            "157144  rating is  -5.838056361372808\n",
            "206234  rating is  1.39735113910888\n",
            "189706  rating is  -0.2580538486354485\n",
            "157146  rating is  -2.341510505178766\n",
            "Team: [146123, 120820, 169201, 182906, 158625, 159074]\n",
            "146123  rating is  -24.352496178813507\n",
            "120820  rating is  -7.216348447779418\n",
            "169201  rating is  -4.071781378744004\n",
            "182906  rating is  -15.010481243692986\n",
            "158625  rating is  -8.9170311169372\n",
            "159074  rating is  -5.17671280634576\n",
            "Team: [17931, 13412, 159607, 71142, 6756]\n",
            "17931  rating is  -8.245135630913303\n",
            "13412  rating is  -9.314251190488319\n",
            "159607  rating is  -2.1287168773381975\n",
            "71142  rating is  -7.665480758593269\n",
            "6756  rating is  -7.716351151106945\n",
            "Team: [190769, 28178, 221348, 221349, 221350]\n",
            "190769  rating is  -6.73569227462327\n",
            "28178  rating is  -0.5938666442747971\n",
            "Team: [135528, 202016, 216198, 75154, 221343, 221344]\n",
            "135528  rating is  -9.984997598859424\n",
            "202016  rating is  -12.79206270662625\n",
            "216198  rating is  -3.165643212837798\n",
            "75154  rating is  -9.55754627830593\n",
            "221343  rating is  -0.5159727951285279\n",
            "221344  rating is  -0.4852881231361848\n",
            "Team: [202032, 202030, 202031, 219671]\n",
            "202032  rating is  -4.5180201952901236\n",
            "202030  rating is  -3.5418123316039694\n",
            "202031  rating is  -5.63526814368891\n",
            "219671  rating is  -0.7206718094064105\n",
            "Team: [92814, 71527, 55789, 55787]\n",
            "92814  rating is  -18.150857926982564\n",
            "71527  rating is  -13.944111289290092\n",
            "55789  rating is  -13.467517637302127\n",
            "55787  rating is  -7.9907487421933086\n",
            "Team: [140419, 189234, 105651, 222764, 223691, 223692]\n",
            "140419  rating is  -38.712496544594096\n",
            "189234  rating is  -30.91163806492634\n",
            "105651  rating is  -14.650976476817666\n",
            "222764  rating is  -1.3210349400006238\n",
            "Team: [41560, 78260, 54481, 55002, 126794]\n",
            "41560  rating is  -33.00945461669434\n",
            "78260  rating is  -29.306253486892597\n",
            "54481  rating is  -30.937390411231217\n",
            "55002  rating is  -20.057247014155703\n",
            "126794  rating is  -16.969936936715918\n",
            "Team: [40362, 193262, 190994, 223689]\n",
            "40362  rating is  -9.97755138859153\n",
            "193262  rating is  -1.274471985382629\n",
            "190994  rating is  0.21805675262527555\n",
            "Team: [177030, 183115, 177031, 213450]\n",
            "177030  rating is  -3.284006146904137\n",
            "183115  rating is  -1.29051752387813\n",
            "177031  rating is  -2.9675337106492647\n",
            "213450  rating is  -0.45291403616249876\n",
            "Team: [85887, 212580, 212584, 212581, 85886]\n",
            "85887  rating is  -10.65629561358832\n",
            "212580  rating is  -2.18052435933436\n",
            "212584  rating is  -1.6429361141532546\n",
            "212581  rating is  -1.4509456006919494\n",
            "85886  rating is  -7.751253405021503\n",
            "Team: [103773, 118126, 102442, 110035, 102440, 223685]\n",
            "103773  rating is  -89.932969586287\n",
            "118126  rating is  -32.07117530093169\n",
            "102442  rating is  -10.018559050201103\n",
            "110035  rating is  -32.08148445823691\n",
            "102440  rating is  -36.26688839310014\n",
            "Team: [136283, 213454, 213455, 223684]\n",
            "136283  rating is  -2.3623915714456625\n",
            "213454  rating is  -2.0845393131298504\n",
            "213455  rating is  -2.0845393131298504\n",
            "Spearman:  SpearmanrResult(correlation=-0.12463054187192114, pvalue=0.5194764063005015)\n",
            "Pearson:  (-0.21249330841858236, 0.26843473471620116)\n",
            "Tournament: 6339\n",
            "Team: [156092, 130497, 158699, 178010, 144798, 151563, 158921]\n",
            "156092  rating is  -25.06911819801109\n",
            "130497  rating is  -18.620157536422443\n",
            "158699  rating is  -15.839007627072148\n",
            "178010  rating is  -15.66121363008787\n",
            "144798  rating is  -23.645951720423817\n",
            "151563  rating is  11.391622990121622\n",
            "158921  rating is  -23.093062908528577\n",
            "Team: [136830, 120245, 158920, 86121, 62746, 118175, 104416]\n",
            "136830  rating is  37.18356683459232\n",
            "120245  rating is  4.95740706187079\n",
            "158920  rating is  9.575250327799035\n",
            "86121  rating is  -5.623664055309234\n",
            "62746  rating is  -23.276283873323184\n",
            "118175  rating is  -6.370737886211256\n",
            "104416  rating is  -2.7563481957633074\n",
            "Team: [118176, 181994, 177999, 178000, 178002, 194177, 178001, 181995]\n",
            "118176  rating is  44.21901995313014\n",
            "181994  rating is  -8.59709403132127\n",
            "177999  rating is  -21.03746619098459\n",
            "178000  rating is  -15.413549693924411\n",
            "178002  rating is  -14.29741484837178\n",
            "194177  rating is  -3.6479530401817195\n",
            "178001  rating is  -16.177216817164883\n",
            "181995  rating is  -16.545057128292015\n",
            "Team: [144800, 144819, 144817, 144815, 164577, 158705, 144820, 178567]\n",
            "144800  rating is  -5.376586709688619\n",
            "144819  rating is  -3.5796484045136605\n",
            "144817  rating is  -6.376773356814395\n",
            "144815  rating is  -4.320730266844281\n",
            "164577  rating is  4.760322431175224\n",
            "158705  rating is  4.22574506276726\n",
            "144820  rating is  -5.042326278769819\n",
            "178567  rating is  0.17585775030211337\n",
            "Team: [177098, 178005, 201683, 169376, 194169, 154235, 126908]\n",
            "177098  rating is  -46.608334419401295\n",
            "178005  rating is  -45.218648090332465\n",
            "201683  rating is  -15.204726247158424\n",
            "169376  rating is  -39.580816363188255\n",
            "194169  rating is  -11.866152856466476\n",
            "154235  rating is  -33.98272039972722\n",
            "126908  rating is  -0.10508830164171172\n",
            "Team: [152490, 144374, 167098, 144375, 189742, 203437, 159678]\n",
            "152490  rating is  -30.243543949101344\n",
            "144374  rating is  -36.04121612342937\n",
            "167098  rating is  -14.491518088947835\n",
            "144375  rating is  -23.534126663092863\n",
            "189742  rating is  -11.552865970774787\n",
            "203437  rating is  -0.5362813064763086\n",
            "159678  rating is  -2.7233426357332546\n",
            "Team: [152170, 105148, 118463, 219043, 118816, 223605]\n",
            "152170  rating is  -43.54778129377375\n",
            "105148  rating is  -47.104435734983966\n",
            "118463  rating is  -7.221883234494542\n",
            "118816  rating is  -6.506657171843693\n",
            "Team: [204904, 207048, 204900, 204905, 217481, 217482, 204903]\n",
            "204904  rating is  -9.058175646512643\n",
            "207048  rating is  -6.898701908604812\n",
            "204900  rating is  -7.191289269090234\n",
            "204905  rating is  -7.128889719911125\n",
            "217481  rating is  -1.061855405523178\n",
            "217482  rating is  -1.061855405523178\n",
            "204903  rating is  -3.7713337843989057\n",
            "Team: [152136, 154238, 158933, 178587, 178571, 204955, 178572]\n",
            "152136  rating is  -42.705849183398655\n",
            "154238  rating is  -10.757248891386078\n",
            "158933  rating is  -11.32131250482898\n",
            "178587  rating is  -8.520127831234587\n",
            "178571  rating is  -4.351618620020543\n",
            "204955  rating is  -3.678636557409807\n",
            "178572  rating is  -3.909164395117032\n",
            "Team: [159687, 181147, 185591, 212046, 212048, 212050, 217949]\n",
            "159687  rating is  -8.211612025688963\n",
            "181147  rating is  -3.078191882578735\n",
            "185591  rating is  -3.467010476636922\n",
            "212046  rating is  -2.126824636780548\n",
            "212048  rating is  -2.126824636780548\n",
            "212050  rating is  -2.126824636780548\n",
            "217949  rating is  -1.3234444290167873\n",
            "Team: [201809, 164202, 164638, 185510, 164639, 131271, 175061, 214864]\n",
            "201809  rating is  -5.987689679159335\n",
            "164202  rating is  -13.841414526102671\n",
            "164638  rating is  -8.63249223716803\n",
            "185510  rating is  -8.502924099234097\n",
            "164639  rating is  -8.599613841213657\n",
            "131271  rating is  -3.2449333247670062\n",
            "175061  rating is  -5.505247235412625\n",
            "214864  rating is  -0.9253598371215961\n",
            "Team: [204881, 204883, 204884, 204885, 212004, 221652, 221653, 223635]\n",
            "204881  rating is  -2.5145462373443963\n",
            "204883  rating is  -2.5145462373443963\n",
            "204884  rating is  -2.5145462373443963\n",
            "204885  rating is  -2.5145462373443963\n",
            "212004  rating is  -0.010741608366219584\n",
            "Team: [181122, 181123, 181139, 185529, 212021]\n",
            "181122  rating is  -4.0023132651847915\n",
            "181123  rating is  -4.0023132651847915\n",
            "181139  rating is  -3.338710055646926\n",
            "185529  rating is  -3.5025803070224475\n",
            "212021  rating is  -2.162394467166073\n",
            "Team: [223636, 223637, 223638, 223639, 223640]\n",
            "Team: [152148, 210788, 210790, 214848, 212254]\n",
            "152148  rating is  -19.431491329789857\n",
            "210788  rating is  -8.486019754731629\n",
            "210790  rating is  -4.058035661537129\n",
            "214848  rating is  -3.4277097914873726\n",
            "212254  rating is  -6.541651703346581\n",
            "Team: [223641, 223642, 223643, 223644, 223645, 223646]\n",
            "Team: [204913, 210784, 204911, 204912, 210785, 217483, 223634]\n",
            "204913  rating is  -13.335570007538962\n",
            "210784  rating is  -11.307487682191805\n",
            "204911  rating is  -5.458678020903803\n",
            "204912  rating is  -6.04363115072335\n",
            "210785  rating is  -11.15361839450486\n",
            "217483  rating is  -3.4305956955566446\n",
            "Team: [194170, 194171, 204977, 204980, 106243, 204978, 194166, 223668]\n",
            "194170  rating is  -1.542251512480601\n",
            "194171  rating is  -1.542251512480601\n",
            "204977  rating is  -1.5946963646330587\n",
            "204980  rating is  -1.5946963646330587\n",
            "106243  rating is  -0.8607205428938263\n",
            "204978  rating is  -0.9131653950462839\n",
            "194166  rating is  0.052768837972007265\n",
            "Team: [157061, 157062, 178003, 159697, 204879, 223618]\n",
            "157061  rating is  -45.23966187413404\n",
            "157062  rating is  -46.10112335093344\n",
            "178003  rating is  -29.740478237183552\n",
            "159697  rating is  -31.26266108211218\n",
            "204879  rating is  -12.078202978901976\n",
            "Team: [194254, 194255, 194256, 211971]\n",
            "194254  rating is  -5.794736514108806\n",
            "194255  rating is  -4.612853522566402\n",
            "194256  rating is  -5.794736514108806\n",
            "211971  rating is  -3.186858390145966\n",
            "Team: [223627, 223628, 223629, 223630, 223631, 223632, 223633]\n",
            "Team: [223606, 223607, 223608, 223609, 223610, 223611, 223612, 223613]\n",
            "Team: [184711, 207830, 207831, 210786, 177996, 201802]\n",
            "184711  rating is  -27.680335070367104\n",
            "207830  rating is  -19.405417957702312\n",
            "207831  rating is  -18.096645756025776\n",
            "210786  rating is  -12.316200266813619\n",
            "177996  rating is  -4.9700185160726535\n",
            "201802  rating is  -14.29850271488523\n",
            "Team: [223663, 223664, 223665, 223666, 223667]\n",
            "Team: [223503, 223504, 223505, 223506, 223507, 223508]\n",
            "Team: [194764, 204895, 204897, 204898]\n",
            "194764  rating is  -5.490868274044926\n",
            "204895  rating is  -5.346393341640189\n",
            "204897  rating is  -5.346393341640189\n",
            "204898  rating is  -5.346393341640189\n",
            "Team: [223647, 223648, 223649, 223650, 223651, 223652, 223653, 223654]\n",
            "Team: [185503, 185506, 185509, 194178, 194179, 223603, 223604]\n",
            "185503  rating is  -4.412857180068205\n",
            "185506  rating is  -4.450718668895995\n",
            "185509  rating is  -6.60287596450857\n",
            "194178  rating is  -2.190018784440365\n",
            "194179  rating is  -2.190018784440365\n",
            "Team: [204906, 204907, 204909, 205033, 205035, 205036, 205037, 205038]\n",
            "204906  rating is  -1.2800830498241522\n",
            "204907  rating is  -1.2800830498241522\n",
            "204909  rating is  -1.2800830498241522\n",
            "205033  rating is  -1.8232318170240094\n",
            "205035  rating is  -1.8232318170240094\n",
            "205036  rating is  -1.8232318170240094\n",
            "205037  rating is  -1.8232318170240094\n",
            "205038  rating is  -1.8232318170240094\n",
            "Team: [223669, 223670, 223671, 223672]\n",
            "Team: [223655, 223656, 223657, 223658, 223659, 223660, 223661, 223662]\n",
            "Spearman:  SpearmanrResult(correlation=0.419623296553465, pvalue=0.018773723226097026)\n",
            "Pearson:  (0.35794475417636096, 0.04802879673383551)\n",
            "Tournament: 6340\n",
            "Team: [156092, 130497, 158699, 178010, 144798, 151563]\n",
            "156092  rating is  -25.06911819801109\n",
            "130497  rating is  -18.620157536422443\n",
            "158699  rating is  -15.839007627072148\n",
            "178010  rating is  -15.66121363008787\n",
            "144798  rating is  -23.645951720423817\n",
            "151563  rating is  11.391622990121622\n",
            "Team: [144800, 144819, 144817, 144815, 164577, 158705, 144820, 178567]\n",
            "144800  rating is  -5.376586709688619\n",
            "144819  rating is  -3.5796484045136605\n",
            "144817  rating is  -6.376773356814395\n",
            "144815  rating is  -4.320730266844281\n",
            "164577  rating is  4.760322431175224\n",
            "158705  rating is  4.22574506276726\n",
            "144820  rating is  -5.042326278769819\n",
            "178567  rating is  0.17585775030211337\n",
            "Team: [136830, 120245, 158920, 86121, 62746, 118175, 104416]\n",
            "136830  rating is  37.18356683459232\n",
            "120245  rating is  4.95740706187079\n",
            "158920  rating is  9.575250327799035\n",
            "86121  rating is  -5.623664055309234\n",
            "62746  rating is  -23.276283873323184\n",
            "118175  rating is  -6.370737886211256\n",
            "104416  rating is  -2.7563481957633074\n",
            "Team: [118176, 181994, 177999, 178000, 178002, 194177, 178001, 181995]\n",
            "118176  rating is  44.21901995313014\n",
            "181994  rating is  -8.59709403132127\n",
            "177999  rating is  -21.03746619098459\n",
            "178000  rating is  -15.413549693924411\n",
            "178002  rating is  -14.29741484837178\n",
            "194177  rating is  -3.6479530401817195\n",
            "178001  rating is  -16.177216817164883\n",
            "181995  rating is  -16.545057128292015\n",
            "Team: [152490, 144374, 167098, 144375, 189742, 203437, 159678]\n",
            "152490  rating is  -30.243543949101344\n",
            "144374  rating is  -36.04121612342937\n",
            "167098  rating is  -14.491518088947835\n",
            "144375  rating is  -23.534126663092863\n",
            "189742  rating is  -11.552865970774787\n",
            "203437  rating is  -0.5362813064763086\n",
            "159678  rating is  -2.7233426357332546\n",
            "Team: [201809, 164202, 164638, 185510, 164639, 131271, 175061, 214864]\n",
            "201809  rating is  -5.987689679159335\n",
            "164202  rating is  -13.841414526102671\n",
            "164638  rating is  -8.63249223716803\n",
            "185510  rating is  -8.502924099234097\n",
            "164639  rating is  -8.599613841213657\n",
            "131271  rating is  -3.2449333247670062\n",
            "175061  rating is  -5.505247235412625\n",
            "214864  rating is  -0.9253598371215961\n",
            "Team: [152170, 105148, 118463, 219043, 118816, 223605]\n",
            "152170  rating is  -43.54778129377375\n",
            "105148  rating is  -47.104435734983966\n",
            "118463  rating is  -7.221883234494542\n",
            "118816  rating is  -6.506657171843693\n",
            "Team: [177098, 178005, 201683, 169376, 194169, 154235, 126908]\n",
            "177098  rating is  -46.608334419401295\n",
            "178005  rating is  -45.218648090332465\n",
            "201683  rating is  -15.204726247158424\n",
            "169376  rating is  -39.580816363188255\n",
            "194169  rating is  -11.866152856466476\n",
            "154235  rating is  -33.98272039972722\n",
            "126908  rating is  -0.10508830164171172\n",
            "Team: [152136, 154238, 158933, 178587, 178571, 204955, 178572]\n",
            "152136  rating is  -42.705849183398655\n",
            "154238  rating is  -10.757248891386078\n",
            "158933  rating is  -11.32131250482898\n",
            "178587  rating is  -8.520127831234587\n",
            "178571  rating is  -4.351618620020543\n",
            "204955  rating is  -3.678636557409807\n",
            "178572  rating is  -3.909164395117032\n",
            "Team: [181122, 181123, 181139, 185529, 212021]\n",
            "181122  rating is  -4.0023132651847915\n",
            "181123  rating is  -4.0023132651847915\n",
            "181139  rating is  -3.338710055646926\n",
            "185529  rating is  -3.5025803070224475\n",
            "212021  rating is  -2.162394467166073\n",
            "Team: [204904, 207048, 204900, 204905, 217481, 217482, 204903]\n",
            "204904  rating is  -9.058175646512643\n",
            "207048  rating is  -6.898701908604812\n",
            "204900  rating is  -7.191289269090234\n",
            "204905  rating is  -7.128889719911125\n",
            "217481  rating is  -1.061855405523178\n",
            "217482  rating is  -1.061855405523178\n",
            "204903  rating is  -3.7713337843989057\n",
            "Team: [204913, 210784, 204911, 204912, 210785, 217483, 223634]\n",
            "204913  rating is  -13.335570007538962\n",
            "210784  rating is  -11.307487682191805\n",
            "204911  rating is  -5.458678020903803\n",
            "204912  rating is  -6.04363115072335\n",
            "210785  rating is  -11.15361839450486\n",
            "217483  rating is  -3.4305956955566446\n",
            "Team: [204881, 204883, 204884, 204885, 212004, 221652, 221653, 223635]\n",
            "204881  rating is  -2.5145462373443963\n",
            "204883  rating is  -2.5145462373443963\n",
            "204884  rating is  -2.5145462373443963\n",
            "204885  rating is  -2.5145462373443963\n",
            "212004  rating is  -0.010741608366219584\n",
            "Team: [223636, 223637, 223638, 223639, 223640]\n",
            "Team: [223647, 223648, 223649, 223650, 223651, 223652, 223653, 223654]\n",
            "Team: [159687, 181147, 185591, 212046, 212048, 212050, 217949]\n",
            "159687  rating is  -8.211612025688963\n",
            "181147  rating is  -3.078191882578735\n",
            "185591  rating is  -3.467010476636922\n",
            "212046  rating is  -2.126824636780548\n",
            "212048  rating is  -2.126824636780548\n",
            "212050  rating is  -2.126824636780548\n",
            "217949  rating is  -1.3234444290167873\n",
            "Team: [152148, 210788, 210790, 214848, 212254]\n",
            "152148  rating is  -19.431491329789857\n",
            "210788  rating is  -8.486019754731629\n",
            "210790  rating is  -4.058035661537129\n",
            "214848  rating is  -3.4277097914873726\n",
            "212254  rating is  -6.541651703346581\n",
            "Team: [223641, 223642, 223643, 223644, 223645, 223646]\n",
            "Team: [157061, 157062, 178003, 159697, 204879, 223618]\n",
            "157061  rating is  -45.23966187413404\n",
            "157062  rating is  -46.10112335093344\n",
            "178003  rating is  -29.740478237183552\n",
            "159697  rating is  -31.26266108211218\n",
            "204879  rating is  -12.078202978901976\n",
            "Team: [194764, 204895, 204897, 204898]\n",
            "194764  rating is  -5.490868274044926\n",
            "204895  rating is  -5.346393341640189\n",
            "204897  rating is  -5.346393341640189\n",
            "204898  rating is  -5.346393341640189\n",
            "Team: [223627, 223628, 223629, 223630, 223631, 223632, 223633]\n",
            "Team: [223606, 223607, 223608, 223609, 223610, 223611, 223612, 223613]\n",
            "Team: [194254, 194255, 194256, 211971]\n",
            "194254  rating is  -5.794736514108806\n",
            "194255  rating is  -4.612853522566402\n",
            "194256  rating is  -5.794736514108806\n",
            "211971  rating is  -3.186858390145966\n",
            "Team: [223663, 223664, 223665, 223666, 223667]\n",
            "Team: [184711, 207830, 207831, 210786, 177996, 201802]\n",
            "184711  rating is  -27.680335070367104\n",
            "207830  rating is  -19.405417957702312\n",
            "207831  rating is  -18.096645756025776\n",
            "210786  rating is  -12.316200266813619\n",
            "177996  rating is  -4.9700185160726535\n",
            "201802  rating is  -14.29850271488523\n",
            "Team: [223503, 223504, 223505, 223506, 223507, 223508]\n",
            "Team: [223655, 223656, 223657, 223658, 223659, 223660, 223661, 223662]\n",
            "Spearman:  SpearmanrResult(correlation=0.3361446133795741, pvalue=0.08647366924091793)\n",
            "Pearson:  (0.23415805640129456, 0.23976309841790258)\n",
            "Tournament: 6342\n",
            "Team: [56000, 63529, 69678, 33236, 82777, 116134]\n",
            "56000  rating is  321.2578406032054\n",
            "63529  rating is  431.3932117446561\n",
            "69678  rating is  446.9056770947863\n",
            "33236  rating is  432.1739619995111\n",
            "82777  rating is  277.23843077695517\n",
            "116134  rating is  212.8427369537764\n",
            "Team: [62299, 61316, 95481, 86251, 149363, 87774]\n",
            "62299  rating is  120.39303678228491\n",
            "61316  rating is  139.94545290287692\n",
            "95481  rating is  74.96875687040871\n",
            "86251  rating is  -64.59403317402158\n",
            "149363  rating is  50.79833070785611\n",
            "87774  rating is  3.5860606789347296\n",
            "Team: [15157, 37362, 82347, 30386, 95562, 41219]\n",
            "15157  rating is  378.3046238362783\n",
            "37362  rating is  375.5591172392086\n",
            "82347  rating is  324.1281310779275\n",
            "30386  rating is  108.9030764116228\n",
            "95562  rating is  5.613181099688879\n",
            "41219  rating is  58.040528312977855\n",
            "Team: [85059, 142112, 156146, 55531, 143873]\n",
            "85059  rating is  59.0429348938879\n",
            "142112  rating is  109.84366732810861\n",
            "156146  rating is  103.94328515260496\n",
            "55531  rating is  52.236976539834224\n",
            "143873  rating is  4.268441763917503\n",
            "Team: [124582, 80521, 11181, 173230, 173568, 172000]\n",
            "124582  rating is  80.25349931372844\n",
            "80521  rating is  98.99528687458466\n",
            "11181  rating is  -4.410279629437197\n",
            "173230  rating is  18.52671368561909\n",
            "173568  rating is  10.617963429089416\n",
            "172000  rating is  10.823497077299036\n",
            "Team: [6482, 13782, 32919, 177915, 177916, 213174]\n",
            "6482  rating is  721.8713264342828\n",
            "13782  rating is  550.4690524890223\n",
            "32919  rating is  333.8859126113343\n",
            "177915  rating is  -10.544356583428733\n",
            "177916  rating is  -2.2114681882084026\n",
            "213174  rating is  0.5795008196007924\n",
            "Team: [110507, 23771, 181640, 19480, 88410, 194006]\n",
            "110507  rating is  98.44664840552765\n",
            "23771  rating is  119.3833429788008\n",
            "181640  rating is  24.55742473407297\n",
            "19480  rating is  63.992003372790194\n",
            "88410  rating is  -0.4918638128352866\n",
            "194006  rating is  0.44902076119197754\n",
            "Team: [1902, 88405, 99767, 181643, 145166, 170131]\n",
            "1902  rating is  196.64911819497067\n",
            "88405  rating is  168.73710906356166\n",
            "99767  rating is  153.0546348474816\n",
            "181643  rating is  27.342529966475382\n",
            "145166  rating is  51.01063623929823\n",
            "170131  rating is  -25.939827362769442\n",
            "Team: [57286, 155103, 155102]\n",
            "57286  rating is  -6.968750566693708\n",
            "155103  rating is  0.18233869765276767\n",
            "155102  rating is  -4.6455349686821625\n",
            "Team: [55997, 199749, 213973, 6532, 214738, 142728]\n",
            "55997  rating is  121.2952726223652\n",
            "199749  rating is  6.927267220748415\n",
            "213973  rating is  7.316556212504112\n",
            "6532  rating is  37.432299799865696\n",
            "214738  rating is  4.905997337237891\n",
            "142728  rating is  0.9924403648100699\n",
            "Team: [117567, 110327, 110328, 133610, 115790, 143760]\n",
            "117567  rating is  247.51154895554072\n",
            "110327  rating is  105.6401744833338\n",
            "110328  rating is  101.52216108392241\n",
            "133610  rating is  113.88848723465226\n",
            "115790  rating is  65.89815346692846\n",
            "143760  rating is  22.75994750868983\n",
            "Team: [41574, 18469, 166141, 174507, 174510, 174512]\n",
            "41574  rating is  -1.075451642895733\n",
            "18469  rating is  -28.82228687504412\n",
            "166141  rating is  3.1349017767850347\n",
            "174507  rating is  -8.523363979911585\n",
            "174510  rating is  -9.151539884226052\n",
            "174512  rating is  -7.469774585706707\n",
            "Team: [193213, 193618, 193214, 193619, 60431, 220230]\n",
            "193213  rating is  -16.053348032619564\n",
            "193618  rating is  -5.547547953789288\n",
            "193214  rating is  -3.2301161444166504\n",
            "193619  rating is  -7.819982930891741\n",
            "60431  rating is  -22.572271055096223\n",
            "Team: [12511, 29500, 95403, 130980, 33282]\n",
            "12511  rating is  340.9295104732311\n",
            "29500  rating is  193.34790471049152\n",
            "95403  rating is  101.5871159680381\n",
            "130980  rating is  111.81270159150229\n",
            "33282  rating is  136.68875713316163\n",
            "Team: [29051, 31030, 13397, 29466]\n",
            "29051  rating is  -35.81201921874869\n",
            "31030  rating is  -6.888667421296552\n",
            "13397  rating is  -6.775755122851471\n",
            "29466  rating is  -7.114613752611598\n",
            "Team: [20640, 5927, 196178, 134429, 83428, 36802]\n",
            "20640  rating is  400.9754551846247\n",
            "5927  rating is  -2.898554349891591\n",
            "196178  rating is  -47.235746845157955\n",
            "134429  rating is  -9.31228375036006\n",
            "83428  rating is  13.7016741358678\n",
            "36802  rating is  9.397507677744564\n",
            "Team: [107922, 134870, 191235, 140230]\n",
            "107922  rating is  -14.12219093936044\n",
            "134870  rating is  -11.800934229904794\n",
            "191235  rating is  -5.31884203253155\n",
            "140230  rating is  -6.261811231381234\n",
            "Team: [139405, 139406, 154299]\n",
            "139405  rating is  -103.89659052747395\n",
            "139406  rating is  -99.09760266581492\n",
            "154299  rating is  0.9213954497169534\n",
            "Team: [139262, 46631, 46632, 154398, 201516, 46643]\n",
            "139262  rating is  -14.728976762292506\n",
            "46631  rating is  -30.453849471903318\n",
            "46632  rating is  -28.46663315548308\n",
            "154398  rating is  -9.719707917141838\n",
            "201516  rating is  3.7253174734823933\n",
            "46643  rating is  -21.024834414618084\n",
            "Team: [131727, 217734, 217737, 217736]\n",
            "131727  rating is  -105.96728709225911\n",
            "217734  rating is  -0.4275160832181362\n",
            "217737  rating is  0.6058037257926434\n",
            "217736  rating is  -0.16952402009209733\n",
            "Team: [93020, 140134, 56932, 151947]\n",
            "93020  rating is  -28.855673459153518\n",
            "140134  rating is  -62.44301909813313\n",
            "56932  rating is  49.94672464503802\n",
            "151947  rating is  -38.84206939498031\n",
            "Team: [6616, 166948, 135930, 135932]\n",
            "6616  rating is  -34.013606069250024\n",
            "166948  rating is  -4.682436870393263\n",
            "135930  rating is  -16.919224077375276\n",
            "135932  rating is  -10.533660801925585\n",
            "Team: [137210, 189266, 124596, 148540, 154388, 29545]\n",
            "137210  rating is  -117.92648039217018\n",
            "189266  rating is  -27.665907599610144\n",
            "124596  rating is  -60.4071331476984\n",
            "148540  rating is  -61.55935512285257\n",
            "154388  rating is  -21.21290409915733\n",
            "29545  rating is  -31.073613711886217\n",
            "Team: [3436, 150711, 60089, 150712, 1243]\n",
            "3436  rating is  -25.55412900935843\n",
            "150711  rating is  -23.7349806500212\n",
            "60089  rating is  -12.927256721500063\n",
            "150712  rating is  -22.034830140755084\n",
            "1243  rating is  -22.847050688152677\n",
            "Team: [115781, 126280, 130880]\n",
            "115781  rating is  -23.686055954859633\n",
            "126280  rating is  1.1635408616760337\n",
            "130880  rating is  0.08297965541975419\n",
            "Team: [104489, 23329, 140092, 2391, 160038]\n",
            "104489  rating is  -133.4121438834978\n",
            "23329  rating is  -7.6776036701498285\n",
            "140092  rating is  -45.50389837520164\n",
            "2391  rating is  -7.379969284593938\n",
            "160038  rating is  -6.425236823929692\n",
            "Team: [172696, 200947, 218864, 188787, 221069, 222946]\n",
            "172696  rating is  5.91932454095703\n",
            "200947  rating is  3.754437152913508\n",
            "218864  rating is  -0.7480190464478087\n",
            "188787  rating is  -1.8560882293252103\n",
            "221069  rating is  -0.7480190464478087\n",
            "222946  rating is  0.14543684271189947\n",
            "Team: [138274, 138273, 192376, 192377, 218142, 223930]\n",
            "138274  rating is  -186.94433429796896\n",
            "138273  rating is  -177.8278684402404\n",
            "192376  rating is  -24.55233076882395\n",
            "192377  rating is  -19.190889268053255\n",
            "218142  rating is  -3.157287827113201\n",
            "Team: [154207, 154210, 213211, 224108, 224109]\n",
            "154207  rating is  -23.071810531117848\n",
            "154210  rating is  -20.904440974801624\n",
            "213211  rating is  -3.7600850200068985\n",
            "Team: [174603, 175371, 72685, 85875]\n",
            "174603  rating is  -19.65812192348368\n",
            "175371  rating is  -12.815529147508437\n",
            "72685  rating is  -17.68446646082073\n",
            "85875  rating is  -2.937029420656594\n",
            "Team: [173400, 190967, 173398, 201052]\n",
            "173400  rating is  4.716861978751201\n",
            "190967  rating is  -0.9269732482081834\n",
            "173398  rating is  5.109511639251603\n",
            "201052  rating is  -1.122217394337803\n",
            "Team: [100822]\n",
            "100822  rating is  -76.67088112550911\n",
            "Team: [201053, 191975, 192030, 206776]\n",
            "201053  rating is  -7.9524824757085915\n",
            "191975  rating is  -5.788243908957846\n",
            "192030  rating is  -1.5225541404078995\n",
            "206776  rating is  -0.11739575244274919\n",
            "Team: [207635]\n",
            "207635  rating is  -12.335048461969858\n",
            "Spearman:  SpearmanrResult(correlation=-0.6754774637127577, pvalue=1.1704744179075794e-05)\n",
            "Pearson:  (-0.6529048920017242, 2.847331993795161e-05)\n",
            "Tournament: 6405\n",
            "Team: [14511, 15262, 32047, 66169, 118680, 148467]\n",
            "14511  rating is  192.76131705283635\n",
            "15262  rating is  175.09430289653497\n",
            "32047  rating is  154.62765351669455\n",
            "66169  rating is  180.50063521599034\n",
            "118680  rating is  105.83826989067146\n",
            "148467  rating is  17.57152382264517\n",
            "Team: [147750, 102213, 195793, 93018, 147744]\n",
            "147750  rating is  69.19037914290536\n",
            "102213  rating is  102.38047157202978\n",
            "195793  rating is  32.361214529753795\n",
            "93018  rating is  6.335535052558889\n",
            "147744  rating is  -2.1761843903573777\n",
            "Team: [52183, 29425, 93424, 13345, 34417, 30772]\n",
            "52183  rating is  218.85390471837982\n",
            "29425  rating is  196.71449200626975\n",
            "93424  rating is  192.96783413667885\n",
            "13345  rating is  207.47122392987743\n",
            "34417  rating is  191.02439003341024\n",
            "30772  rating is  133.68514112629487\n",
            "Team: [110920, 32431, 28968, 144306, 40629]\n",
            "110920  rating is  409.34840070876527\n",
            "32431  rating is  363.9382456646782\n",
            "28968  rating is  312.9614000729544\n",
            "144306  rating is  84.47069157202432\n",
            "40629  rating is  122.0194810575985\n",
            "Team: [182154, 182155]\n",
            "182154  rating is  -20.249175286415795\n",
            "182155  rating is  -19.31789603664566\n",
            "Team: [135240, 222404, 222406, 222408, 222410, 224465]\n",
            "135240  rating is  -3.3106851028105293\n",
            "Team: [41351, 40768, 77652, 58630]\n",
            "41351  rating is  203.26796382081096\n",
            "40768  rating is  73.55341747100324\n",
            "77652  rating is  67.37899875888851\n",
            "58630  rating is  -6.718809395197407\n",
            "Team: [5948, 200238, 509]\n",
            "5948  rating is  -50.94850713003325\n",
            "200238  rating is  -8.734807527559257\n",
            "509  rating is  -14.511697154813993\n",
            "Team: [198037]\n",
            "198037  rating is  -10.76010419914169\n",
            "Team: [152977]\n",
            "152977  rating is  3.0845810674636507\n",
            "Team: [129603, 157093]\n",
            "129603  rating is  42.296700015101564\n",
            "157093  rating is  34.17808669827715\n",
            "Spearman:  SpearmanrResult(correlation=-0.5272727272727273, pvalue=0.09556521835315422)\n",
            "Pearson:  (-0.5479825628808852, 0.08095259344288074)\n",
            "Tournament: 6409\n",
            "Team: [9739]\n",
            "9739  rating is  6.557561315339916\n",
            "Team: [130152, 116537, 54315, 39044]\n",
            "130152  rating is  10.897267135384824\n",
            "116537  rating is  -3.414895920578194\n",
            "54315  rating is  23.31999505514359\n",
            "39044  rating is  18.805451801449653\n",
            "Team: [133442, 197302]\n",
            "133442  rating is  -58.630863006195945\n",
            "197302  rating is  -1.6311456171001895\n",
            "Spearman:  SpearmanrResult(correlation=-0.5, pvalue=0.6666666666666667)\n",
            "Pearson:  (-0.7956670518940454, 0.4142410461616993)\n",
            "Tournament: 6410\n",
            "Team: [31999, 67805, 21337, 70888]\n",
            "31999  rating is  180.44216590778007\n",
            "67805  rating is  237.68060835926195\n",
            "21337  rating is  205.91921169216198\n",
            "70888  rating is  145.72473949803242\n",
            "Team: [4414, 111255]\n",
            "4414  rating is  300.77876183051995\n",
            "111255  rating is  141.17824742248632\n",
            "Team: [14159, 36817, 29671, 24069]\n",
            "14159  rating is  82.5860466199309\n",
            "36817  rating is  188.92573071487476\n",
            "29671  rating is  119.82729284579143\n",
            "24069  rating is  63.627846544987726\n",
            "Team: [133442, 179291, 161570, 197302]\n",
            "133442  rating is  -58.630863006195945\n",
            "179291  rating is  -13.30581417109456\n",
            "161570  rating is  -10.882986041398153\n",
            "197302  rating is  -1.6311456171001895\n",
            "Team: [217110, 217112]\n",
            "217110  rating is  -4.6712958420243655\n",
            "217112  rating is  -4.6712958420243655\n",
            "Spearman:  SpearmanrResult(correlation=-0.7999999999999999, pvalue=0.10408803866182788)\n",
            "Pearson:  (-0.9090793849835695, 0.032457425167668426)\n",
            "Tournament: 6428\n",
            "Team: [53660, 30554, 6017, 11202, 39855, 61809, 7940, 117548]\n",
            "53660  rating is  145.17267611428142\n",
            "30554  rating is  119.64636252771594\n",
            "6017  rating is  84.52779167249456\n",
            "11202  rating is  113.96793171297043\n",
            "39855  rating is  111.11715577432565\n",
            "61809  rating is  70.32931343999427\n",
            "7940  rating is  156.4594715176033\n",
            "117548  rating is  59.98351869630389\n",
            "Team: [64137, 86121, 53884, 100857, 160935]\n",
            "64137  rating is  87.39012911896702\n",
            "86121  rating is  -5.623664055309234\n",
            "53884  rating is  23.798520858256737\n",
            "100857  rating is  -31.591091938500313\n",
            "160935  rating is  -8.279361829184788\n",
            "Team: [142684, 175884, 20495, 224517, 224474]\n",
            "142684  rating is  -34.666093764421454\n",
            "175884  rating is  -10.636769003883538\n",
            "20495  rating is  16.577062148691198\n",
            "Team: [132773, 69472, 142208, 186355, 142728, 115791]\n",
            "132773  rating is  -23.489997005909697\n",
            "69472  rating is  0.08569748250159494\n",
            "142208  rating is  -9.905332350023002\n",
            "186355  rating is  -7.788652343120712\n",
            "142728  rating is  0.9924403648100699\n",
            "115791  rating is  -19.796064024593125\n",
            "Team: [219358, 171243, 105798, 175741, 62190, 194288]\n",
            "219358  rating is  0.30890154758455635\n",
            "171243  rating is  -0.31971460847402944\n",
            "105798  rating is  -10.734059020541721\n",
            "175741  rating is  -0.8988263570839924\n",
            "62190  rating is  -4.024642179437356\n",
            "194288  rating is  -0.406678013846085\n",
            "Team: [184810, 200135, 180043, 200137, 200140, 200132]\n",
            "184810  rating is  9.170247807568318\n",
            "200135  rating is  3.1491750111119883\n",
            "180043  rating is  4.381096310088911\n",
            "200137  rating is  0.703187045526305\n",
            "200140  rating is  1.3549734829202198\n",
            "200132  rating is  -0.5705721469288856\n",
            "Team: [107253, 197904]\n",
            "107253  rating is  75.22199069127923\n",
            "197904  rating is  9.113123600175745\n",
            "Team: [87508, 6311, 134796, 70329, 22993]\n",
            "87508  rating is  47.197726462895545\n",
            "6311  rating is  -4.335550743055623\n",
            "134796  rating is  1.8183080293235876\n",
            "70329  rating is  -3.8338978409870297\n",
            "22993  rating is  6.474416876536541\n",
            "Team: [107922, 134870]\n",
            "107922  rating is  -14.12219093936044\n",
            "134870  rating is  -11.800934229904794\n",
            "Team: [29375]\n",
            "29375  rating is  -30.12317775528576\n",
            "Team: [196168, 224343, 221199, 221197, 221195]\n",
            "196168  rating is  -10.38678714920178\n",
            "Team: [198382, 224503, 224502]\n",
            "198382  rating is  -1.045948163367557\n",
            "Spearman:  SpearmanrResult(correlation=-0.39860139860139865, pvalue=0.19933549461780897)\n",
            "Pearson:  (-0.5130882163477408, 0.08801591857054933)\n",
            "Tournament: 6437\n",
            "Team: [21137, 35637, 1732, 169839, 140469]\n",
            "21137  rating is  240.55499920629967\n",
            "35637  rating is  202.73409925724778\n",
            "1732  rating is  216.81161858396126\n",
            "169839  rating is  13.760263979969176\n",
            "140469  rating is  2.876940313911664\n",
            "Team: [121686, 130710, 132165, 79949, 135500]\n",
            "121686  rating is  55.97307366131895\n",
            "130710  rating is  57.29448729337208\n",
            "132165  rating is  48.47641946896886\n",
            "79949  rating is  48.49314442106849\n",
            "135500  rating is  -1.520620789972961\n",
            "Team: [33794, 22810, 96545, 131267, 200484]\n",
            "33794  rating is  32.61597695509063\n",
            "22810  rating is  -44.30053416110391\n",
            "96545  rating is  -72.16360398671594\n",
            "131267  rating is  -85.23370552915675\n",
            "200484  rating is  1.6680252294733604\n",
            "Team: [145067, 145065, 145068, 178041, 155608, 145066]\n",
            "145067  rating is  52.77086938653949\n",
            "145065  rating is  52.629158205910365\n",
            "145068  rating is  31.44086506702187\n",
            "178041  rating is  14.201566010095815\n",
            "155608  rating is  37.50942938623565\n",
            "145066  rating is  14.382635721638492\n",
            "Team: [15501, 26772, 27328, 28506, 136917, 37650]\n",
            "15501  rating is  20.652084367805042\n",
            "26772  rating is  95.35513869370897\n",
            "27328  rating is  115.41736172320725\n",
            "28506  rating is  104.48770488728451\n",
            "136917  rating is  -10.826903344450887\n",
            "37650  rating is  92.8679769719928\n",
            "Team: [108165]\n",
            "108165  rating is  86.88125616626091\n",
            "Team: [98319, 82122, 37303, 98621, 82121, 42401]\n",
            "98319  rating is  66.79867041625938\n",
            "82122  rating is  117.58901935140963\n",
            "37303  rating is  130.4759262934823\n",
            "98621  rating is  94.03141523572228\n",
            "82121  rating is  60.37406471225746\n",
            "42401  rating is  51.71283332626002\n",
            "Team: [15461, 31884, 41688, 37176, 148792]\n",
            "15461  rating is  26.000338854896142\n",
            "31884  rating is  6.967282998925662\n",
            "41688  rating is  -28.929259520016913\n",
            "37176  rating is  28.13763263422695\n",
            "148792  rating is  11.796367851384694\n",
            "Team: [45691, 157092, 154190, 1257, 152101, 152100]\n",
            "45691  rating is  -5.932913151136833\n",
            "157092  rating is  -0.2938794255326127\n",
            "154190  rating is  -8.784082342400392\n",
            "1257  rating is  -9.041622213411143\n",
            "152101  rating is  -9.471749788100777\n",
            "152100  rating is  -7.698323272255681\n",
            "Team: [92417, 109648, 133143]\n",
            "92417  rating is  -48.12224792823883\n",
            "109648  rating is  18.19347947649358\n",
            "133143  rating is  5.981608895800624\n",
            "Team: [1218, 35854, 203310, 5245, 222609]\n",
            "1218  rating is  -88.04940600524571\n",
            "35854  rating is  0.6516705467144909\n",
            "203310  rating is  2.322447587958781\n",
            "5245  rating is  -1.5928409497087446\n",
            "222609  rating is  0.10748809663987303\n",
            "Team: [188049, 124278, 124280, 124281, 124279, 124277]\n",
            "188049  rating is  -2.1860734140064784\n",
            "124278  rating is  -2.458673264844701\n",
            "124280  rating is  -4.717390383571379\n",
            "124281  rating is  -5.25780605668018\n",
            "124279  rating is  -6.055362231846245\n",
            "124277  rating is  -2.28902096989479\n",
            "Team: [154577, 154578, 90771]\n",
            "154577  rating is  -43.482699949735\n",
            "154578  rating is  -22.765622783519635\n",
            "90771  rating is  -11.046800583730796\n",
            "Team: [102213, 162854, 195793, 28302, 147744]\n",
            "102213  rating is  102.38047157202978\n",
            "162854  rating is  66.94672152352665\n",
            "195793  rating is  32.361214529753795\n",
            "28302  rating is  2.004242537382212\n",
            "147744  rating is  -2.1761843903573777\n",
            "Team: [142684, 175884, 224517, 224474, 224353]\n",
            "142684  rating is  -34.666093764421454\n",
            "175884  rating is  -10.636769003883538\n",
            "Team: [148624, 114301, 167666, 118272, 129966]\n",
            "148624  rating is  11.402982293370705\n",
            "114301  rating is  -9.457331907505475\n",
            "167666  rating is  3.34256013030096\n",
            "118272  rating is  -7.406963555710181\n",
            "129966  rating is  -1.057878205539054\n",
            "Team: [107253, 197904]\n",
            "107253  rating is  75.22199069127923\n",
            "197904  rating is  9.113123600175745\n",
            "Team: [154984, 174838, 174839, 172030, 199680]\n",
            "154984  rating is  -15.627246328140428\n",
            "174838  rating is  -4.004185294302358\n",
            "174839  rating is  -6.750466981989462\n",
            "172030  rating is  -5.728419815838883\n",
            "199680  rating is  -3.5113232154734075\n",
            "Team: [152977]\n",
            "152977  rating is  3.0845810674636507\n",
            "Team: [97733, 224473, 224472, 40459, 184962]\n",
            "97733  rating is  -0.11274926994415313\n",
            "184962  rating is  2.009886495682287\n",
            "Team: [82582, 82572, 200711]\n",
            "82582  rating is  -51.172291590719055\n",
            "82572  rating is  -71.60042988231474\n",
            "200711  rating is  -1.092037115734768\n",
            "Team: [190665, 224479, 224478, 224477, 224476, 224475]\n",
            "190665  rating is  -4.779640120774735\n",
            "Spearman:  SpearmanrResult(correlation=-0.4025974025974026, pvalue=0.06322201647005031)\n",
            "Pearson:  (-0.5395273791574077, 0.009557136542952248)\n",
            "Tournament: 6438\n",
            "Team: [135968, 102479, 157622, 164213, 69422, 218718]\n",
            "135968  rating is  31.45812664807041\n",
            "102479  rating is  6.292177223417441\n",
            "157622  rating is  15.527876392133543\n",
            "164213  rating is  16.77947901630829\n",
            "69422  rating is  4.772749884649219\n",
            "Team: [9342, 21233, 30013]\n",
            "9342  rating is  363.64920971547537\n",
            "21233  rating is  556.6207937673967\n",
            "30013  rating is  167.1890739777413\n",
            "Team: [110920, 23020, 76084, 14518, 115151, 21314]\n",
            "110920  rating is  409.34840070876527\n",
            "23020  rating is  573.6318549459116\n",
            "76084  rating is  136.8532725178941\n",
            "14518  rating is  234.14622143112524\n",
            "115151  rating is  75.37670073555266\n",
            "21314  rating is  116.706968937141\n",
            "Team: [32489, 32490, 29275]\n",
            "32489  rating is  184.88139433781657\n",
            "32490  rating is  185.9774617906934\n",
            "29275  rating is  71.99770055922099\n",
            "Team: [219358, 171243, 105798, 220278, 220919, 62190, 194288, 222352]\n",
            "219358  rating is  0.30890154758455635\n",
            "171243  rating is  -0.31971460847402944\n",
            "105798  rating is  -10.734059020541721\n",
            "62190  rating is  -4.024642179437356\n",
            "194288  rating is  -0.406678013846085\n",
            "222352  rating is  0.25799206312603873\n",
            "Team: [26360, 37015, 12960, 152474, 152475, 152464]\n",
            "26360  rating is  115.20178743375398\n",
            "37015  rating is  131.89443900344287\n",
            "12960  rating is  121.25104226805215\n",
            "152474  rating is  -2.081647944947204\n",
            "152475  rating is  -3.36424574638202\n",
            "152464  rating is  -33.3942000465175\n",
            "Team: [104471, 20005, 117733, 171960, 148924, 171961]\n",
            "104471  rating is  -8.589560140193251\n",
            "20005  rating is  1.7089288674675647\n",
            "117733  rating is  -8.6899548831003\n",
            "171960  rating is  6.1064261052334965\n",
            "148924  rating is  -30.454852834974734\n",
            "171961  rating is  -2.051371055677349\n",
            "Team: [153341, 2927, 33309, 162983, 23734]\n",
            "153341  rating is  -5.318691518656174\n",
            "2927  rating is  -95.50789924998976\n",
            "33309  rating is  -8.052599992589148\n",
            "162983  rating is  -18.918627225678755\n",
            "23734  rating is  -3.171117886979507\n",
            "Team: [139831, 56172, 223381]\n",
            "139831  rating is  -48.977459746296695\n",
            "56172  rating is  -30.309962237385637\n",
            "Team: [127861, 140091, 134306, 97332, 65241]\n",
            "127861  rating is  163.97234189190362\n",
            "140091  rating is  10.149423296341304\n",
            "134306  rating is  -16.02064085811929\n",
            "97332  rating is  -19.014082171285132\n",
            "65241  rating is  -38.053008088312986\n",
            "Team: [43660, 153503, 153504, 132312, 54571, 74332]\n",
            "43660  rating is  -36.23904562334197\n",
            "153503  rating is  -6.824279975909482\n",
            "153504  rating is  -6.528390412695005\n",
            "132312  rating is  -47.51178408735419\n",
            "54571  rating is  -25.88881627291111\n",
            "74332  rating is  -6.843501709400186\n",
            "Team: [12631]\n",
            "12631  rating is  48.267253116407865\n",
            "Team: [203354, 203355, 203353, 211238]\n",
            "203354  rating is  -10.37670837817287\n",
            "203355  rating is  -8.59130664003877\n",
            "203353  rating is  -13.776578136168563\n",
            "211238  rating is  -6.231506385353948\n",
            "Spearman:  SpearmanrResult(correlation=-0.5549450549450549, pvalue=0.04900449559833098)\n",
            "Pearson:  (-0.5872869910546656, 0.03482649328912236)\n",
            "Tournament: 6456\n",
            "Team: [40406, 198419, 198818, 198817, 150313, 30818]\n",
            "40406  rating is  6.601155728599279\n",
            "198419  rating is  7.185716201291275\n",
            "198818  rating is  9.259052999409771\n",
            "198817  rating is  4.601839711384179\n",
            "150313  rating is  0.3224903336805015\n",
            "30818  rating is  2.050321639422394\n",
            "Team: [12145, 90670, 129603, 62306, 9478, 62256]\n",
            "12145  rating is  62.61740263561368\n",
            "90670  rating is  62.21728832465422\n",
            "129603  rating is  42.296700015101564\n",
            "62306  rating is  43.2973520647845\n",
            "9478  rating is  42.28075705405964\n",
            "62256  rating is  -1.7142930233996692\n",
            "Team: [138479, 80384, 133207, 95145, 121594, 133209]\n",
            "138479  rating is  -7.397956217074631\n",
            "80384  rating is  -28.803726625774132\n",
            "133207  rating is  -56.241983707858125\n",
            "95145  rating is  -35.73668573797423\n",
            "121594  rating is  -41.107416791732604\n",
            "133209  rating is  -52.89898136017408\n",
            "Team: [64129]\n",
            "64129  rating is  39.965726242471696\n",
            "Team: [111255, 166584, 135103, 103290, 103293]\n",
            "111255  rating is  141.17824742248632\n",
            "166584  rating is  16.750576123256923\n",
            "135103  rating is  -46.65081216243273\n",
            "103290  rating is  15.746767169806152\n",
            "103293  rating is  -1.8767944346486116\n",
            "Team: [96552, 192899, 192900, 123238, 129706, 192901]\n",
            "96552  rating is  -0.5947724092256339\n",
            "192899  rating is  -1.2871583776487492\n",
            "192900  rating is  -1.457228796129838\n",
            "123238  rating is  -5.706325877156303\n",
            "129706  rating is  1.64540015865154\n",
            "192901  rating is  -1.0827555799449844\n",
            "Team: [165962, 154624, 224329]\n",
            "165962  rating is  -19.330672069932238\n",
            "154624  rating is  -4.384625565442425\n",
            "Spearman:  SpearmanrResult(correlation=-0.3571428571428572, pvalue=0.4316113520383278)\n",
            "Pearson:  (-0.17394448472359073, 0.7091496814244195)\n",
            "[-0.6693432794414562, -0.7241578859097109, -0.7410142238713666, -0.459470763861597, -0.15158871108345726, -0.46098163858462515, -0.15935278663472535, -0.33406554651485, -0.37859389709240016, -0.20329301075268819, -0.36125945062374787, -0.7887846560143191, -0.47354201171529736, -0.4177167468341766, -0.5612443751550156, -0.41141134790425, -0.7058823529411765, -0.6269337312310432, -0.6502935661024811, -0.6534933973589436, -0.8153612703708899, -0.6999097512656836, -0.6564424362858806, -0.7649204920492048, -0.48842912287855955, -0.41323501670240653, -0.3168899913898024, -0.23043478260869563, -0.6695107821288951, -0.7804854070660521, -0.8555140262036813, -0.785872709017069, -0.07268171777893932, -0.8215654077723044, -0.6736842105263157, -0.7741076075632202, 0.12077922077922078, -0.5191183632957764, -0.4656069963405541, -0.5504093129093128, -0.7890243902439027, -0.6131994261119081, -0.8391608391608393, -0.9102353585112206, -0.7058062212701387, -0.43715728715728724, -0.7649258259577761, -0.7539593665013599, -0.743810906075057, -0.8009043298153626, -0.7682219739463955, 0.2571428571428572, -0.4339901477832511, -0.05443557418468774, -0.7454497231707723, -0.706906855630496, -0.8182254577603414, -0.9140350877192982, -0.472118998907239, -0.7371742181868763, -0.8350064350064351, -0.7538782903680855, -0.41404065736637025, -0.6507936507936508, -0.7988803649181007, -0.6939996141230949, -0.6340540540540539, -0.7859881348376256, -0.654077540106952, -0.2973421926910299, -0.5397745924061713, -0.850502937648036, -0.6940339354132458, -0.7524582675992004, -0.3644131803035912, -0.7333333333333334, -0.8571428571428572, -0.6606433838424763, -0.7427027898726012, -0.7573285307875591, -0.4645336993997272, -0.7784280148978979, -0.7731894416128021, -0.46753246753246747, -0.5, 0.11666666666666665, -0.7329462989840348, -0.7329545454545455, -0.7815249266862169, -0.7691637630662022, -0.5, -0.7050068760831766, -0.7356324387731744, -0.8173913043478259, -0.5545454545454546, -0.6194410438050549, -0.6585956416464891, -0.4969230769230769, -0.8553921568627452, -0.7652173913043478, -0.39999999999999997, 0.05294117647058824, -0.7638655462184873, -0.38440578281769244, -0.7729552093476145, -0.4090909090909091, -0.8159276018099546, -0.7297721916732129, -0.7371527652349817, -0.7129762534310392, -0.6317085817993259, -0.7778325123152708, -0.8001409443269908, -0.7034844279987665, -0.19607843137254904, -0.7452890861148628, -0.10167396468479345, -0.6355857273449323, -0.4812030075187969, -0.2591335786321936, -0.07554112554112556, -0.7982608695652172, 0.1778362457634916, -0.3782183441527505, -0.36470588235294116, -0.6095684803001877, -0.7967250141163186, -0.5318173805746519, -0.05370269119012371, -0.3142857142857143, 0.2009195422441724, -0.7189426226621114, -0.561025641025641, -0.5087719298245613, -0.11538461538461539, -0.8968253968253967, -0.6175140458256357, -0.7859844271412681, -0.6365626710454296, -0.6460887949260042, 0.12278083795184583, -0.03345324475432436, -0.7715929996697957, -0.7351916376306621, 0.2994255159657312, -0.8201680672268907, 0.14438264738598441, -0.461629545373784, -0.7463252726410621, -0.2956107879428873, -0.47169918814983625, -0.2754161385247279, -0.7109941296863584, -0.7271314407442919, -0.7100840336134455, 0.09607689228305227, -0.44909174695108833, -0.5947238111500043, -0.7678571428571428, -0.3983586996159298, -0.3492063574615061, -0.12463054187192114, 0.419623296553465, 0.3361446133795741, -0.6754774637127577, -0.5272727272727273, -0.5, -0.7999999999999999, -0.39860139860139865, -0.4025974025974026, -0.5549450549450549, -0.3571428571428572]\n",
            "[-0.6321129890813766, -0.6228373516870288, -0.6298283229618378, -0.37583013940780247, -0.17074723510701986, -0.10540773477465844, -0.157742843181168, -0.12989435100732605, -0.3570147146126811, -0.22851800227168678, -0.25173233619766305, -0.7040854187911622, -0.39830869051993795, -0.31925882170219166, -0.4897782967831339, -0.40536934750767784, -0.7350146123384413, -0.5530534737154802, -0.5626302159028672, -0.6306733746513071, -0.7252602286535224, -0.6518298820906399, -0.616663525797912, -0.6805993840603429, -0.38972741539261907, -0.43090548884750923, -0.38157722010511397, -0.27872910777280147, -0.5837422882554967, -0.6922161994257221, -0.7916355025997633, -0.6735051935165411, -0.210635210338304, -0.8020713790177781, -0.666935066243143, -0.7056428791207385, -0.1941976626402044, -0.16112036942387908, -0.24564697652523843, -0.3636749018371224, -0.7589187140621122, -0.5628540730952549, -0.6999287407080558, -0.8217483586215504, -0.6623273063552143, -0.5984081282091473, -0.6553183410839913, -0.6706480763483254, -0.6369034196574238, -0.7009519091601655, -0.692374906255321, 0.5063301176763395, -0.4353298798897919, -0.14402491477601279, -0.6515968768541093, -0.714195862282991, -0.7213821942565918, -0.8362030185689162, -0.49865186402982026, -0.7312682145491693, -0.73501004561338, -0.6605072358856284, -0.5439248010596964, -0.6290991598081451, -0.7431994123716618, -0.6130647331863117, -0.6237195326394054, -0.6868338459509923, -0.7346221792207818, -0.37746652355341787, -0.5282528572545494, -0.7996985665310024, -0.6613798635436744, -0.7066441945698201, -0.36215227655041765, -0.7198719455264897, -0.8600998177670356, -0.5739979427225486, -0.6337487354834979, -0.684166483630636, -0.45393362322917125, -0.676281068401545, -0.666239262267766, -0.5998150964732621, -0.543599151643545, -0.021127480437638943, -0.7054228057391959, -0.678421125583586, -0.6733113947043764, -0.6737058926468453, -0.4706377415113562, -0.6302873772396117, -0.6818406364052132, -0.805673942345944, -0.6619413378054485, -0.5596156015615344, -0.6574149237562519, -0.528078798241232, -0.808772700826429, -0.6409351925520701, -0.39678486729609364, -0.09440758980611696, -0.708284892647879, -0.4650327040109755, -0.7285474643023379, -0.584939006545184, -0.735425577730868, -0.7161722661161768, -0.6860009937592791, -0.679944850854687, -0.5704549437294344, -0.7940908662423852, -0.754755792130549, -0.6847586382754776, -0.3693582043296993, -0.7089432252730955, -0.3247258660681594, -0.6396303142615156, -0.5513076584236358, -0.007243317762948578, -0.3176302369760286, -0.8044903188183512, 0.11407329083887026, -0.5457173515864582, -0.4901131399160492, -0.7061532264152303, -0.6426640736008494, -0.5842624359443039, -0.21984551230667934, -0.053264625480452216, 0.1129035014542159, -0.6434570724985429, -0.5597239712689287, -0.5658473773976053, -0.14705788796515729, -0.8543469847331919, -0.5120479048289771, -0.670413136757246, -0.600804334828519, -0.5326862772449338, -0.10109366023453123, 0.17937752300450738, -0.6860358361722285, -0.698858954258284, 0.033392726660905245, -0.6992855408033657, -0.16197717436957204, -0.508131519687957, -0.6849706089840855, -0.24447317519918582, -0.33535134446362674, -0.465663630537492, -0.6089413407889762, -0.6115668507272253, -0.6544997295539369, -0.43502791718177025, -0.44462968746204684, -0.4979786217051769, -0.6921970066111967, -0.36118900354722716, -0.41087220269121, -0.21249330841858236, 0.35794475417636096, 0.23415805640129456, -0.6529048920017242, -0.5479825628808852, -0.7956670518940454, -0.9090793849835695, -0.5130882163477408, -0.5395273791574077, -0.5872869910546656, -0.17394448472359073]\n"
          ],
          "name": "stdout"
        },
        {
          "output_type": "error",
          "ename": "AttributeError",
          "evalue": "ignored",
          "traceback": [
            "\u001b[0;31m---------------------------------------------------------------------------\u001b[0m",
            "\u001b[0;31mAttributeError\u001b[0m                            Traceback (most recent call last)",
            "\u001b[0;32m<ipython-input-60-87effb17f275>\u001b[0m in \u001b[0;36m<module>\u001b[0;34m()\u001b[0m\n\u001b[1;32m     20\u001b[0m \u001b[0mprint\u001b[0m\u001b[0;34m(\u001b[0m\u001b[0mspearman\u001b[0m\u001b[0;34m)\u001b[0m\u001b[0;34m\u001b[0m\u001b[0;34m\u001b[0m\u001b[0m\n\u001b[1;32m     21\u001b[0m \u001b[0mprint\u001b[0m\u001b[0;34m(\u001b[0m\u001b[0mpearson\u001b[0m\u001b[0;34m)\u001b[0m\u001b[0;34m\u001b[0m\u001b[0;34m\u001b[0m\u001b[0m\n\u001b[0;32m---> 22\u001b[0;31m \u001b[0mprint\u001b[0m\u001b[0;34m(\u001b[0m\u001b[0mstats\u001b[0m\u001b[0;34m.\u001b[0m\u001b[0mmean\u001b[0m\u001b[0;34m(\u001b[0m\u001b[0mspearman\u001b[0m\u001b[0;34m)\u001b[0m\u001b[0;34m)\u001b[0m\u001b[0;34m\u001b[0m\u001b[0;34m\u001b[0m\u001b[0m\n\u001b[0m\u001b[1;32m     23\u001b[0m \u001b[0mprint\u001b[0m\u001b[0;34m(\u001b[0m\u001b[0mstats\u001b[0m\u001b[0;34m.\u001b[0m\u001b[0mmean\u001b[0m\u001b[0;34m(\u001b[0m\u001b[0mpearson\u001b[0m\u001b[0;34m)\u001b[0m\u001b[0;34m)\u001b[0m\u001b[0;34m\u001b[0m\u001b[0;34m\u001b[0m\u001b[0m\n",
            "\u001b[0;31mAttributeError\u001b[0m: module 'scipy.stats' has no attribute 'mean'"
          ]
        }
      ]
    },
    {
      "cell_type": "code",
      "metadata": {
        "id": "cJdJT8F6yYXR",
        "colab_type": "code",
        "colab": {
          "base_uri": "https://localhost:8080/",
          "height": 105
        },
        "outputId": "2cc7b87c-dda3-4d5a-9b71-c0cbfa0abf0d"
      },
      "source": [
        "print(spearman)\n",
        "print(pearson)\n",
        "print(stat.mean(spearman))\n",
        "print(stat.mean(pearson))"
      ],
      "execution_count": 61,
      "outputs": [
        {
          "output_type": "stream",
          "text": [
            "[-0.6693432794414562, -0.7241578859097109, -0.7410142238713666, -0.459470763861597, -0.15158871108345726, -0.46098163858462515, -0.15935278663472535, -0.33406554651485, -0.37859389709240016, -0.20329301075268819, -0.36125945062374787, -0.7887846560143191, -0.47354201171529736, -0.4177167468341766, -0.5612443751550156, -0.41141134790425, -0.7058823529411765, -0.6269337312310432, -0.6502935661024811, -0.6534933973589436, -0.8153612703708899, -0.6999097512656836, -0.6564424362858806, -0.7649204920492048, -0.48842912287855955, -0.41323501670240653, -0.3168899913898024, -0.23043478260869563, -0.6695107821288951, -0.7804854070660521, -0.8555140262036813, -0.785872709017069, -0.07268171777893932, -0.8215654077723044, -0.6736842105263157, -0.7741076075632202, 0.12077922077922078, -0.5191183632957764, -0.4656069963405541, -0.5504093129093128, -0.7890243902439027, -0.6131994261119081, -0.8391608391608393, -0.9102353585112206, -0.7058062212701387, -0.43715728715728724, -0.7649258259577761, -0.7539593665013599, -0.743810906075057, -0.8009043298153626, -0.7682219739463955, 0.2571428571428572, -0.4339901477832511, -0.05443557418468774, -0.7454497231707723, -0.706906855630496, -0.8182254577603414, -0.9140350877192982, -0.472118998907239, -0.7371742181868763, -0.8350064350064351, -0.7538782903680855, -0.41404065736637025, -0.6507936507936508, -0.7988803649181007, -0.6939996141230949, -0.6340540540540539, -0.7859881348376256, -0.654077540106952, -0.2973421926910299, -0.5397745924061713, -0.850502937648036, -0.6940339354132458, -0.7524582675992004, -0.3644131803035912, -0.7333333333333334, -0.8571428571428572, -0.6606433838424763, -0.7427027898726012, -0.7573285307875591, -0.4645336993997272, -0.7784280148978979, -0.7731894416128021, -0.46753246753246747, -0.5, 0.11666666666666665, -0.7329462989840348, -0.7329545454545455, -0.7815249266862169, -0.7691637630662022, -0.5, -0.7050068760831766, -0.7356324387731744, -0.8173913043478259, -0.5545454545454546, -0.6194410438050549, -0.6585956416464891, -0.4969230769230769, -0.8553921568627452, -0.7652173913043478, -0.39999999999999997, 0.05294117647058824, -0.7638655462184873, -0.38440578281769244, -0.7729552093476145, -0.4090909090909091, -0.8159276018099546, -0.7297721916732129, -0.7371527652349817, -0.7129762534310392, -0.6317085817993259, -0.7778325123152708, -0.8001409443269908, -0.7034844279987665, -0.19607843137254904, -0.7452890861148628, -0.10167396468479345, -0.6355857273449323, -0.4812030075187969, -0.2591335786321936, -0.07554112554112556, -0.7982608695652172, 0.1778362457634916, -0.3782183441527505, -0.36470588235294116, -0.6095684803001877, -0.7967250141163186, -0.5318173805746519, -0.05370269119012371, -0.3142857142857143, 0.2009195422441724, -0.7189426226621114, -0.561025641025641, -0.5087719298245613, -0.11538461538461539, -0.8968253968253967, -0.6175140458256357, -0.7859844271412681, -0.6365626710454296, -0.6460887949260042, 0.12278083795184583, -0.03345324475432436, -0.7715929996697957, -0.7351916376306621, 0.2994255159657312, -0.8201680672268907, 0.14438264738598441, -0.461629545373784, -0.7463252726410621, -0.2956107879428873, -0.47169918814983625, -0.2754161385247279, -0.7109941296863584, -0.7271314407442919, -0.7100840336134455, 0.09607689228305227, -0.44909174695108833, -0.5947238111500043, -0.7678571428571428, -0.3983586996159298, -0.3492063574615061, -0.12463054187192114, 0.419623296553465, 0.3361446133795741, -0.6754774637127577, -0.5272727272727273, -0.5, -0.7999999999999999, -0.39860139860139865, -0.4025974025974026, -0.5549450549450549, -0.3571428571428572]\n",
            "[-0.6321129890813766, -0.6228373516870288, -0.6298283229618378, -0.37583013940780247, -0.17074723510701986, -0.10540773477465844, -0.157742843181168, -0.12989435100732605, -0.3570147146126811, -0.22851800227168678, -0.25173233619766305, -0.7040854187911622, -0.39830869051993795, -0.31925882170219166, -0.4897782967831339, -0.40536934750767784, -0.7350146123384413, -0.5530534737154802, -0.5626302159028672, -0.6306733746513071, -0.7252602286535224, -0.6518298820906399, -0.616663525797912, -0.6805993840603429, -0.38972741539261907, -0.43090548884750923, -0.38157722010511397, -0.27872910777280147, -0.5837422882554967, -0.6922161994257221, -0.7916355025997633, -0.6735051935165411, -0.210635210338304, -0.8020713790177781, -0.666935066243143, -0.7056428791207385, -0.1941976626402044, -0.16112036942387908, -0.24564697652523843, -0.3636749018371224, -0.7589187140621122, -0.5628540730952549, -0.6999287407080558, -0.8217483586215504, -0.6623273063552143, -0.5984081282091473, -0.6553183410839913, -0.6706480763483254, -0.6369034196574238, -0.7009519091601655, -0.692374906255321, 0.5063301176763395, -0.4353298798897919, -0.14402491477601279, -0.6515968768541093, -0.714195862282991, -0.7213821942565918, -0.8362030185689162, -0.49865186402982026, -0.7312682145491693, -0.73501004561338, -0.6605072358856284, -0.5439248010596964, -0.6290991598081451, -0.7431994123716618, -0.6130647331863117, -0.6237195326394054, -0.6868338459509923, -0.7346221792207818, -0.37746652355341787, -0.5282528572545494, -0.7996985665310024, -0.6613798635436744, -0.7066441945698201, -0.36215227655041765, -0.7198719455264897, -0.8600998177670356, -0.5739979427225486, -0.6337487354834979, -0.684166483630636, -0.45393362322917125, -0.676281068401545, -0.666239262267766, -0.5998150964732621, -0.543599151643545, -0.021127480437638943, -0.7054228057391959, -0.678421125583586, -0.6733113947043764, -0.6737058926468453, -0.4706377415113562, -0.6302873772396117, -0.6818406364052132, -0.805673942345944, -0.6619413378054485, -0.5596156015615344, -0.6574149237562519, -0.528078798241232, -0.808772700826429, -0.6409351925520701, -0.39678486729609364, -0.09440758980611696, -0.708284892647879, -0.4650327040109755, -0.7285474643023379, -0.584939006545184, -0.735425577730868, -0.7161722661161768, -0.6860009937592791, -0.679944850854687, -0.5704549437294344, -0.7940908662423852, -0.754755792130549, -0.6847586382754776, -0.3693582043296993, -0.7089432252730955, -0.3247258660681594, -0.6396303142615156, -0.5513076584236358, -0.007243317762948578, -0.3176302369760286, -0.8044903188183512, 0.11407329083887026, -0.5457173515864582, -0.4901131399160492, -0.7061532264152303, -0.6426640736008494, -0.5842624359443039, -0.21984551230667934, -0.053264625480452216, 0.1129035014542159, -0.6434570724985429, -0.5597239712689287, -0.5658473773976053, -0.14705788796515729, -0.8543469847331919, -0.5120479048289771, -0.670413136757246, -0.600804334828519, -0.5326862772449338, -0.10109366023453123, 0.17937752300450738, -0.6860358361722285, -0.698858954258284, 0.033392726660905245, -0.6992855408033657, -0.16197717436957204, -0.508131519687957, -0.6849706089840855, -0.24447317519918582, -0.33535134446362674, -0.465663630537492, -0.6089413407889762, -0.6115668507272253, -0.6544997295539369, -0.43502791718177025, -0.44462968746204684, -0.4979786217051769, -0.6921970066111967, -0.36118900354722716, -0.41087220269121, -0.21249330841858236, 0.35794475417636096, 0.23415805640129456, -0.6529048920017242, -0.5479825628808852, -0.7956670518940454, -0.9090793849835695, -0.5130882163477408, -0.5395273791574077, -0.5872869910546656, -0.17394448472359073]\n",
            "-0.5363769907118475\n",
            "-0.5189626585653182\n"
          ],
          "name": "stdout"
        }
      ]
    }
  ]
}