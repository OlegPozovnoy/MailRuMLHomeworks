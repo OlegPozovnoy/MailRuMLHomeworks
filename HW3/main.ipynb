{
  "nbformat": 4,
  "nbformat_minor": 0,
  "metadata": {
    "colab": {
      "name": "Untitled",
      "provenance": [],
      "collapsed_sections": [],
      "authorship_tag": "ABX9TyNVqcYvOrVD24HyWx3AYR6M",
      "include_colab_link": true
    },
    "kernelspec": {
      "name": "python3",
      "display_name": "Python 3"
    }
  },
  "cells": [
    {
      "cell_type": "markdown",
      "metadata": {
        "id": "view-in-github",
        "colab_type": "text"
      },
      "source": [
        "<a href=\"https://colab.research.google.com/github/OlegPozovnoy/MailRuMLHomeworks/blob/master/HW3/main.ipynb\" target=\"_parent\"><img src=\"https://colab.research.google.com/assets/colab-badge.svg\" alt=\"Open In Colab\"/></a>"
      ]
    },
    {
      "cell_type": "code",
      "metadata": {
        "id": "6Zu_gS6BesAI",
        "colab_type": "code",
        "outputId": "fb0f3cc5-2f26-43ca-c103-7257a2935213",
        "colab": {
          "base_uri": "https://localhost:8080/",
          "height": 34
        }
      },
      "source": [
        "from google.colab import drive\n",
        "drive.mount('/datasets/')"
      ],
      "execution_count": 14,
      "outputs": [
        {
          "output_type": "stream",
          "text": [
            "Drive already mounted at /datasets/; to attempt to forcibly remount, call drive.mount(\"/datasets/\", force_remount=True).\n"
          ],
          "name": "stdout"
        }
      ]
    },
    {
      "cell_type": "code",
      "metadata": {
        "id": "YUKYWDYejhWP",
        "colab_type": "code",
        "outputId": "254c0df4-8f6e-4918-c1f6-9470f23a8b55",
        "colab": {
          "base_uri": "https://localhost:8080/",
          "height": 34
        }
      },
      "source": [
        "!ls \"/datasets/My Drive/datasets/\""
      ],
      "execution_count": 15,
      "outputs": [
        {
          "output_type": "stream",
          "text": [
            "players.pkl  results.pkl  tournaments.pkl\n"
          ],
          "name": "stdout"
        }
      ]
    },
    {
      "cell_type": "code",
      "metadata": {
        "id": "VPH9pU3ai3hh",
        "colab_type": "code",
        "colab": {}
      },
      "source": [
        "import pickle\n",
        "import pandas as pd"
      ],
      "execution_count": 0,
      "outputs": []
    },
    {
      "cell_type": "code",
      "metadata": {
        "id": "SjVYMl3_l-nH",
        "colab_type": "code",
        "colab": {}
      },
      "source": [
        "tournaments = pd.read_pickle(\"/datasets/My Drive/datasets/tournaments.pkl\")\n",
        "#tournaments = pd.read_pickle(\"./tournaments.pkl\")\n",
        "\n",
        "tournaments_cleaned = [(v['id'], v['name'], v['dateStart'][0:4], v['type']['name'], v['questionQty']) for k,v in tournaments.items() if v['questionQty'] != None]\n",
        "del tournaments"
      ],
      "execution_count": 0,
      "outputs": []
    },
    {
      "cell_type": "markdown",
      "metadata": {
        "id": "0tf0NonT3YUU",
        "colab_type": "text"
      },
      "source": [
        "Создадим трейн и тест набор турниров."
      ]
    },
    {
      "cell_type": "code",
      "metadata": {
        "id": "_CGbnhciI8Tm",
        "colab_type": "code",
        "outputId": "38231b04-665b-4b1f-a6ab-e99a712e18fc",
        "colab": {
          "base_uri": "https://localhost:8080/",
          "height": 51
        }
      },
      "source": [
        "train_id = [ v[0] for v in tournaments_cleaned if int(v[2])<= 2019]\n",
        "test_id = [v[0] for v in tournaments_cleaned if int(v[2])== 2020]\n",
        "\n",
        "print(len(train_id))\n",
        "print(len(test_id))"
      ],
      "execution_count": 18,
      "outputs": [
        {
          "output_type": "stream",
          "text": [
            "3921\n",
            "418\n"
          ],
          "name": "stdout"
        }
      ]
    },
    {
      "cell_type": "code",
      "metadata": {
        "id": "P7fpAzcWk_mT",
        "colab_type": "code",
        "colab": {}
      },
      "source": [
        "results = pd.read_pickle(\"/datasets/My Drive/datasets/results.pkl\")\n",
        "#results = pd.read_pickle(\"./results.pkl\")\n",
        "results_cleaned = {k: v for k,v in results.items() if k in train_id or k in test_id}\n",
        "\n",
        "results_cleaned2 = {}\n",
        "for k,v in results_cleaned.items():\n",
        "  results_cleaned2[k] = []\n",
        "  for s in v:\n",
        "    if s.get('mask') != None:\n",
        "      results_cleaned2[k].append((s.get('mask'),s.get('questionsTotal'), [k.get('player').get('id') for k in s.get('teamMembers')]))\n",
        "\n",
        "del results\n",
        "del results_cleaned"
      ],
      "execution_count": 0,
      "outputs": []
    },
    {
      "cell_type": "code",
      "metadata": {
        "id": "Ba8T5dEQLw7g",
        "colab_type": "code",
        "outputId": "6c28ae16-8bd3-4869-a8a4-81f6f12062d7",
        "colab": {
          "base_uri": "https://localhost:8080/",
          "height": 51
        }
      },
      "source": [
        "train_id = [id for id in train_id if id in results_cleaned2.keys() and len(results_cleaned2[id]) > 0]\n",
        "test_id = [id for id in test_id if id in results_cleaned2.keys() and len(results_cleaned2[id]) > 0]\n",
        "\n",
        "print(len(train_id))\n",
        "print(len(test_id))"
      ],
      "execution_count": 20,
      "outputs": [
        {
          "output_type": "stream",
          "text": [
            "3486\n",
            "173\n"
          ],
          "name": "stdout"
        }
      ]
    },
    {
      "cell_type": "code",
      "metadata": {
        "id": "y-bgXk1RT8A-",
        "colab_type": "code",
        "outputId": "423a756e-1c70-4bf0-b694-843fd48a1437",
        "colab": {
          "base_uri": "https://localhost:8080/",
          "height": 51
        }
      },
      "source": [
        "import numpy as np\n",
        "from sklearn.linear_model import LogisticRegression\n",
        "import tqdm\n",
        "import gc\n",
        "\n",
        "all_words = []\n",
        "\n",
        "for k,v in results_cleaned2.items():\n",
        "  for team in v: \n",
        "    for p in range(len(team[0])):\n",
        "        all_words.append(str(k)+'_'+str(p))\n",
        "    for m in team[2]:\n",
        "        all_words.append(m)\n",
        "\n",
        "all_words = set(all_words)\n",
        "print(len(all_words))\n",
        "\n",
        "all_results = {}\n",
        "for s in all_words:\n",
        "  all_results[s] = [0,0]\n",
        "\n",
        "\n",
        "print (len(results_cleaned2))\n",
        "vocabulary =  set()\n",
        "\n",
        "logistic = LogisticRegression(fit_intercept = False)\n",
        "\n",
        "def process_tournament(id):\n",
        "  task3 = []\n",
        "  words = []\n",
        "   \n",
        "  for n in range(len(results_cleaned2[id])): # command id\n",
        "    for p in range(len(results_cleaned2[id][n][0])): #answers\n",
        "        quest = str(id)+'_'+str(p)\n",
        "        team = n\n",
        "        task3.append((quest, team,results_cleaned2[id][n][0][p]) )\n",
        "        words.append(quest)\n",
        "        words.append(team)\n",
        "\n",
        "  if len(words)==0:\n",
        "    return \n",
        "  \n",
        "  words = set(words) # encoding questions and teams no\n",
        "  word_to_idx = dict([(y,x) for x,y in enumerate(words)])\n",
        "  idx_to_word = dict([(x,y) for x,y in enumerate(words)])       \n",
        "  \n",
        "  #preparing matrix\n",
        "  X = np.zeros((len(task3),len(words)))\n",
        "  Y = np.zeros(len(task3))\n",
        "  for i in range(len(task3)):\n",
        "    X[i,word_to_idx[task3[i][0]]] = 1\n",
        "    X[i,word_to_idx[task3[i][1]]] = 1\n",
        "    Y[i] = 1 if str(task3[i][2]) == '1' else 0\n",
        "\n",
        "  if len(set(Y)) <= 1:\n",
        "    print ('<=2 categories')\n",
        "    return\n",
        "\n",
        "  print(X.shape)\n",
        "  logistic.fit(X, Y)\n",
        "  #print(len(logistic.coef_[0]))\n",
        "\n",
        "  for s in range(len(logistic.coef_[0])):\n",
        "    if isinstance(idx_to_word[s], int): ## tean no\n",
        "        #print('team '+ str(idx_to_word[s]))\n",
        "        for player in results_cleaned2[id][idx_to_word[s]][2]:\n",
        "            #print(player)\n",
        "            all_results[player][1] +=1\n",
        "            all_results[player][0] +=logistic.coef_[0][s]\n",
        "    else: #question no\n",
        "        #print('question '+ str(idx_to_word[s]))\n",
        "        all_results[idx_to_word[s]][1] +=1\n",
        "        all_results[idx_to_word[s]][0] +=logistic.coef_[0][s]\n",
        "\n",
        "#print(process_tournament(1521))\n",
        "#process_tournament(1526)"
      ],
      "execution_count": 21,
      "outputs": [
        {
          "output_type": "stream",
          "text": [
            "357955\n",
            "4339\n"
          ],
          "name": "stdout"
        }
      ]
    },
    {
      "cell_type": "markdown",
      "metadata": {
        "id": "Ec8_oUCP2pir",
        "colab_type": "text"
      },
      "source": [
        "Пройдемся по всем турнирам и посчитаем рейтинг всех игроков и вопросов в заданном турнире, за неимением лучшего, усредним по каждому игроку рейтинг в турнире"
      ]
    },
    {
      "cell_type": "code",
      "metadata": {
        "id": "ovg-qp80xZy0",
        "colab_type": "code",
        "outputId": "b694ab16-692f-446b-a407-87e7c6b8bd11",
        "colab": {
          "base_uri": "https://localhost:8080/",
          "height": 1000
        }
      },
      "source": [
        "import tqdm\n",
        "\n",
        "for tourn in tqdm.tqdm(train_id):\n",
        "  print(tourn)\n",
        "  process_tournament(tourn)\n"
      ],
      "execution_count": 22,
      "outputs": [
        {
          "output_type": "stream",
          "text": [
            "\n",
            "\n",
            "  0%|          | 0/3486 [00:00<?, ?it/s]\u001b[A\u001b[A\n",
            "\n",
            "  0%|          | 3/3486 [00:00<02:17, 25.41it/s]\u001b[A\u001b[A"
          ],
          "name": "stderr"
        },
        {
          "output_type": "stream",
          "text": [
            "22\n",
            "(3960, 134)\n",
            "134\n",
            "76\n",
            "(4590, 141)\n",
            "141\n",
            "141\n",
            "(4320, 138)\n",
            "138\n",
            "226\n",
            "(5130, 147)\n",
            "147\n",
            "315\n",
            "(6570, 163)\n"
          ],
          "name": "stdout"
        },
        {
          "output_type": "stream",
          "text": [
            "\n",
            "\n",
            "  0%|          | 5/3486 [00:00<02:36, 22.28it/s]\u001b[A\u001b[A\n",
            "\n",
            "  0%|          | 7/3486 [00:00<03:00, 19.29it/s]\u001b[A\u001b[A"
          ],
          "name": "stderr"
        },
        {
          "output_type": "stream",
          "text": [
            "163\n",
            "484\n",
            "(8190, 181)\n",
            "181\n",
            "583\n",
            "(6390, 161)\n",
            "161\n",
            "652\n",
            "(1710, 83)\n",
            "83\n",
            "1082\n",
            "(3690, 131)\n"
          ],
          "name": "stdout"
        },
        {
          "output_type": "stream",
          "text": [
            "\n",
            "\n",
            "  0%|          | 10/3486 [00:00<02:42, 21.43it/s]\u001b[A\u001b[A\n",
            "\n",
            "  0%|          | 12/3486 [00:00<03:10, 18.20it/s]\u001b[A\u001b[A"
          ],
          "name": "stderr"
        },
        {
          "output_type": "stream",
          "text": [
            "131\n",
            "1224\n",
            "(4140, 136)\n",
            "136\n",
            "1348\n",
            "(7056, 232)\n",
            "232\n",
            "1369\n",
            "(4050, 135)\n",
            "135\n",
            "1515\n",
            "(2088, 101)\n",
            "101\n",
            "1516\n",
            "(1305, 74)\n",
            "74\n",
            "1517\n",
            "(3225, 118)\n",
            "118\n",
            "1518\n",
            "(17576, 390)\n"
          ],
          "name": "stdout"
        },
        {
          "output_type": "stream",
          "text": [
            "\n",
            "\n",
            "  0%|          | 16/3486 [00:01<04:14, 13.63it/s]\u001b[A\u001b[A"
          ],
          "name": "stderr"
        },
        {
          "output_type": "stream",
          "text": [
            "390\n",
            "1519\n",
            "(3900, 127)\n",
            "127\n",
            "1521\n",
            "(12825, 330)\n"
          ],
          "name": "stdout"
        },
        {
          "output_type": "stream",
          "text": [
            "\n",
            "\n",
            "  1%|          | 18/3486 [00:01<05:23, 10.72it/s]\u001b[A\u001b[A"
          ],
          "name": "stderr"
        },
        {
          "output_type": "stream",
          "text": [
            "330\n",
            "1526\n",
            "(46746, 1155)\n",
            "1155\n",
            "1531\n",
            "(33528, 968)\n"
          ],
          "name": "stdout"
        },
        {
          "output_type": "stream",
          "text": [
            "\n",
            "\n",
            "  1%|          | 20/3486 [00:07<53:55,  1.07it/s]\u001b[A\u001b[A"
          ],
          "name": "stderr"
        },
        {
          "output_type": "stream",
          "text": [
            "968\n",
            "1532\n",
            "(6930, 167)\n",
            "167\n",
            "1534\n",
            "(48648, 1062)\n"
          ],
          "name": "stdout"
        },
        {
          "output_type": "stream",
          "text": [
            "\n",
            "\n",
            "  1%|          | 22/3486 [00:11<1:11:05,  1.23s/it]\u001b[A\u001b[A\n",
            "\n",
            "  1%|          | 26/3486 [00:11<50:17,  1.15it/s]  \u001b[A\u001b[A"
          ],
          "name": "stderr"
        },
        {
          "output_type": "stream",
          "text": [
            "1062\n",
            "1536\n",
            "(6840, 166)\n",
            "166\n",
            "1552\n",
            "(1440, 84)\n",
            "84\n",
            "1576\n",
            "(1620, 87)\n",
            "87\n",
            "1631\n",
            "(3870, 133)\n",
            "133\n",
            "1635\n",
            "(33552, 747)\n"
          ],
          "name": "stdout"
        },
        {
          "output_type": "stream",
          "text": [
            "\n",
            "\n",
            "  1%|          | 28/3486 [00:12<48:35,  1.19it/s]\u001b[A\u001b[A"
          ],
          "name": "stderr"
        },
        {
          "output_type": "stream",
          "text": [
            "747\n",
            "1644\n",
            "(780, 73)\n",
            "73\n",
            "1646\n",
            "(3285, 118)\n",
            "118\n",
            "1647\n",
            "(19404, 575)\n"
          ],
          "name": "stdout"
        },
        {
          "output_type": "stream",
          "text": [
            "\n",
            "\n",
            "  1%|          | 30/3486 [00:13<39:53,  1.44it/s]\u001b[A\u001b[A\n",
            "\n",
            "  1%|          | 35/3486 [00:13<28:20,  2.03it/s]\u001b[A\u001b[A"
          ],
          "name": "stderr"
        },
        {
          "output_type": "stream",
          "text": [
            "575\n",
            "1660\n",
            "(1035, 68)\n",
            "68\n",
            "1668\n",
            "(1512, 82)\n",
            "82\n",
            "1690\n",
            "(720, 61)\n",
            "61\n",
            "1709\n",
            "(3750, 125)\n",
            "125\n",
            "1710\n",
            "(5850, 155)\n",
            "155\n",
            "1715\n",
            "(1804, 85)\n",
            "85\n",
            "1718\n",
            "(7785, 218)\n"
          ],
          "name": "stdout"
        },
        {
          "output_type": "stream",
          "text": [
            "\n",
            "\n",
            "  1%|          | 37/3486 [00:13<20:49,  2.76it/s]\u001b[A\u001b[A"
          ],
          "name": "stderr"
        },
        {
          "output_type": "stream",
          "text": [
            "218\n",
            "1723\n",
            "(270, 33)\n",
            "33\n",
            "1725\n",
            "(18270, 451)\n"
          ],
          "name": "stdout"
        },
        {
          "output_type": "stream",
          "text": [
            "\n",
            "\n",
            "  1%|          | 39/3486 [00:14<18:54,  3.04it/s]\u001b[A\u001b[A\n",
            "\n",
            "  1%|          | 43/3486 [00:14<13:43,  4.18it/s]\u001b[A\u001b[A"
          ],
          "name": "stderr"
        },
        {
          "output_type": "stream",
          "text": [
            "451\n",
            "1735\n",
            "(3132, 123)\n",
            "123\n",
            "1737\n",
            "(2772, 113)\n",
            "113\n",
            "1738\n",
            "(1980, 93)\n",
            "93\n",
            "1743\n",
            "(3690, 127)\n",
            "127\n",
            "1744\n",
            "(2916, 117)\n",
            "117\n",
            "1745\n",
            "(2925, 110)\n",
            "110\n",
            "1754\n"
          ],
          "name": "stdout"
        },
        {
          "output_type": "stream",
          "text": [
            "\n",
            "\n",
            "  1%|▏         | 46/3486 [00:14<11:05,  5.17it/s]\u001b[A\u001b[A"
          ],
          "name": "stderr"
        },
        {
          "output_type": "stream",
          "text": [
            "(10836, 337)\n",
            "337\n",
            "1762\n",
            "(2820, 107)\n",
            "107\n",
            "1764\n",
            "(1620, 81)\n",
            "81\n",
            "1769\n"
          ],
          "name": "stdout"
        },
        {
          "output_type": "stream",
          "text": [
            "\n",
            "\n",
            "  1%|▏         | 50/3486 [00:14<08:14,  6.94it/s]\u001b[A\u001b[A"
          ],
          "name": "stderr"
        },
        {
          "output_type": "stream",
          "text": [
            "(1560, 86)\n",
            "86\n",
            "1771\n",
            "(4875, 140)\n",
            "140\n",
            "1774\n",
            "(3690, 131)\n",
            "131\n",
            "1775\n",
            "(1620, 108)\n",
            "108\n",
            "1780\n",
            "(2232, 106)\n",
            "106\n",
            "1781\n",
            "(1170, 71)\n",
            "71\n",
            "1791\n",
            "(12636, 387)\n"
          ],
          "name": "stdout"
        },
        {
          "output_type": "stream",
          "text": [
            "\n",
            "\n",
            "  2%|▏         | 55/3486 [00:14<07:01,  8.13it/s]\u001b[A\u001b[A"
          ],
          "name": "stderr"
        },
        {
          "output_type": "stream",
          "text": [
            "387\n",
            "1802\n",
            "(1080, 78)\n",
            "78\n",
            "1803\n",
            "(510, 47)\n",
            "47\n",
            "1812\n",
            "(495, 56)\n",
            "56\n",
            "1813\n",
            "(840, 74)\n",
            "74\n",
            "1814\n",
            "(5310, 149)\n",
            "149\n",
            "1816\n",
            "(45402, 1123)\n"
          ],
          "name": "stdout"
        },
        {
          "output_type": "stream",
          "text": [
            "\n",
            "\n",
            "  2%|▏         | 61/3486 [00:18<15:32,  3.67it/s]\u001b[A\u001b[A"
          ],
          "name": "stderr"
        },
        {
          "output_type": "stream",
          "text": [
            "1123\n",
            "1817\n",
            "(54432, 1184)\n",
            "1184\n",
            "1818\n",
            "(32940, 951)\n"
          ],
          "name": "stdout"
        },
        {
          "output_type": "stream",
          "text": [
            "\n",
            "\n",
            "  2%|▏         | 63/3486 [00:25<1:07:49,  1.19s/it]\u001b[A\u001b[A"
          ],
          "name": "stderr"
        },
        {
          "output_type": "stream",
          "text": [
            "951\n",
            "1819\n",
            "(900, 75)\n",
            "75\n",
            "1820\n",
            "(780, 73)\n",
            "73\n",
            "1821\n",
            "(240, 53)\n",
            "53\n",
            "1826\n",
            "(480, 68)\n",
            "68\n",
            "1827\n",
            "(1260, 81)\n",
            "81\n",
            "1828\n",
            "(1575, 80)\n",
            "80\n",
            "1829\n",
            "(450, 55)\n",
            "55\n",
            "1845\n",
            "(19485, 478)\n"
          ],
          "name": "stdout"
        },
        {
          "output_type": "stream",
          "text": [
            "\n",
            "\n",
            "  2%|▏         | 71/3486 [00:26<48:46,  1.17it/s]  \u001b[A\u001b[A"
          ],
          "name": "stderr"
        },
        {
          "output_type": "stream",
          "text": [
            "478\n",
            "1849\n",
            "(37824, 836)\n"
          ],
          "name": "stdout"
        },
        {
          "output_type": "stream",
          "text": [
            "\n",
            "\n",
            "  2%|▏         | 73/3486 [00:28<52:19,  1.09it/s]\u001b[A\u001b[A"
          ],
          "name": "stderr"
        },
        {
          "output_type": "stream",
          "text": [
            "836\n",
            "1851\n",
            "(1440, 84)\n",
            "84\n",
            "1852\n",
            "(1560, 86)\n",
            "86\n",
            "1853\n",
            "(27045, 646)\n"
          ],
          "name": "stdout"
        },
        {
          "output_type": "stream",
          "text": [
            "\n",
            "\n",
            "  2%|▏         | 75/3486 [00:29<46:10,  1.23it/s]\u001b[A\u001b[A"
          ],
          "name": "stderr"
        },
        {
          "output_type": "stream",
          "text": [
            "646\n",
            "1854\n",
            "(205092, 1492)\n"
          ],
          "name": "stdout"
        },
        {
          "output_type": "stream",
          "text": [
            "\n",
            "\n",
            "  2%|▏         | 76/3486 [00:51<6:54:15,  7.29s/it]\u001b[A\u001b[A"
          ],
          "name": "stderr"
        },
        {
          "output_type": "stream",
          "text": [
            "1492\n",
            "1856\n",
            "(12150, 315)\n"
          ],
          "name": "stdout"
        },
        {
          "output_type": "stream",
          "text": [
            "\n",
            "\n",
            "  2%|▏         | 77/3486 [00:51<4:53:15,  5.16s/it]\u001b[A\u001b[A"
          ],
          "name": "stderr"
        },
        {
          "output_type": "stream",
          "text": [
            "315\n",
            "1857\n",
            "(28236, 595)\n"
          ],
          "name": "stdout"
        },
        {
          "output_type": "stream",
          "text": [
            "\n",
            "\n",
            "  2%|▏         | 78/3486 [00:52<3:41:39,  3.90s/it]\u001b[A\u001b[A"
          ],
          "name": "stderr"
        },
        {
          "output_type": "stream",
          "text": [
            "595\n",
            "1858\n",
            "(25770, 618)\n"
          ],
          "name": "stdout"
        },
        {
          "output_type": "stream",
          "text": [
            "\n",
            "\n",
            "  2%|▏         | 79/3486 [00:53<2:52:20,  3.04s/it]\u001b[A\u001b[A\n",
            "\n",
            "  2%|▏         | 83/3486 [00:53<2:00:56,  2.13s/it]\u001b[A\u001b[A"
          ],
          "name": "stderr"
        },
        {
          "output_type": "stream",
          "text": [
            "618\n",
            "1863\n",
            "(2625, 110)\n",
            "110\n",
            "1865\n",
            "(1860, 91)\n",
            "91\n",
            "1868\n",
            "(2250, 95)\n",
            "95\n",
            "1878\n",
            "(3744, 124)\n",
            "124\n",
            "1879\n",
            "(5490, 151)\n",
            "151\n",
            "1880\n",
            "(3480, 118)\n",
            "118\n",
            "1885\n"
          ],
          "name": "stdout"
        },
        {
          "output_type": "stream",
          "text": [
            "\n",
            "\n",
            "  2%|▏         | 86/3486 [00:54<1:25:09,  1.50s/it]\u001b[A\u001b[A\n",
            "\n",
            "  3%|▎         | 88/3486 [00:54<1:00:27,  1.07s/it]\u001b[A\u001b[A"
          ],
          "name": "stderr"
        },
        {
          "output_type": "stream",
          "text": [
            "(936, 62)\n",
            "62\n",
            "1889\n",
            "(6336, 212)\n",
            "212\n",
            "1890\n",
            "(816, 65)\n",
            "65\n",
            "1891\n",
            "(3000, 110)\n",
            "110\n",
            "1893\n",
            "(4176, 161)\n"
          ],
          "name": "stdout"
        },
        {
          "output_type": "stream",
          "text": [
            "\n",
            "\n",
            "  3%|▎         | 91/3486 [00:54<42:54,  1.32it/s]  \u001b[A\u001b[A"
          ],
          "name": "stderr"
        },
        {
          "output_type": "stream",
          "text": [
            "161\n",
            "1902\n",
            "(960, 76)\n",
            "76\n",
            "1905\n",
            "(6660, 164)\n",
            "164\n",
            "1906\n",
            "(22470, 577)\n"
          ],
          "name": "stdout"
        },
        {
          "output_type": "stream",
          "text": [
            "\n",
            "\n",
            "  3%|▎         | 94/3486 [00:55<34:49,  1.62it/s]\u001b[A\u001b[A\n",
            "\n",
            "  3%|▎         | 99/3486 [00:55<24:52,  2.27it/s]\u001b[A\u001b[A"
          ],
          "name": "stderr"
        },
        {
          "output_type": "stream",
          "text": [
            "577\n",
            "1919\n",
            "(1215, 72)\n",
            "72\n",
            "1921\n",
            "(3456, 120)\n",
            "120\n",
            "1922\n",
            "(1395, 76)\n",
            "76\n",
            "1924\n",
            "(1350, 75)\n",
            "75\n",
            "1925\n",
            "(3396, 119)\n",
            "119\n",
            "1926\n",
            "(5472, 188)\n",
            "188\n",
            "1927\n",
            "(4860, 153)\n",
            "153\n",
            "1928\n",
            "(2790, 152)\n",
            "152\n",
            "1931\n",
            "(121392, 1075)\n"
          ],
          "name": "stdout"
        },
        {
          "output_type": "stream",
          "text": [
            "\n",
            "\n",
            "  3%|▎         | 102/3486 [01:03<1:05:38,  1.16s/it]\u001b[A\u001b[A\n",
            "\n",
            "  3%|▎         | 107/3486 [01:03<46:18,  1.22it/s]  \u001b[A\u001b[A"
          ],
          "name": "stderr"
        },
        {
          "output_type": "stream",
          "text": [
            "1075\n",
            "1939\n",
            "(504, 50)\n",
            "50\n",
            "1940\n",
            "(4260, 131)\n",
            "131\n",
            "1941\n",
            "(1800, 110)\n",
            "110\n",
            "1943\n",
            "(1380, 83)\n",
            "83\n",
            "1945\n",
            "(3690, 131)\n",
            "131\n",
            "1946\n",
            "(2340, 99)\n",
            "99\n",
            "1949\n"
          ],
          "name": "stdout"
        },
        {
          "output_type": "stream",
          "text": [
            "\n",
            "\n",
            "  3%|▎         | 111/3486 [01:04<32:50,  1.71it/s]\u001b[A\u001b[A\n",
            "\n",
            "  3%|▎         | 118/3486 [01:04<23:12,  2.42it/s]\u001b[A\u001b[A"
          ],
          "name": "stderr"
        },
        {
          "output_type": "stream",
          "text": [
            "(4140, 136)\n",
            "136\n",
            "1952\n",
            "(3300, 119)\n",
            "119\n",
            "1953\n",
            "(780, 73)\n",
            "73\n",
            "1956\n",
            "(2106, 93)\n",
            "93\n",
            "1957\n",
            "(1200, 80)\n",
            "80\n",
            "1959\n",
            "(900, 60)\n",
            "60\n",
            "1960\n",
            "(432, 48)\n",
            "48\n",
            "1961\n",
            "(504, 50)\n",
            "50\n",
            "1962\n",
            "(2058, 91)\n",
            "91\n",
            "1963\n",
            "(3120, 112)\n",
            "112\n",
            "1964\n",
            "(2208, 94)\n",
            "94\n",
            "1965\n"
          ],
          "name": "stdout"
        },
        {
          "output_type": "stream",
          "text": [
            "\n",
            "\n",
            "  4%|▎         | 123/3486 [01:04<16:34,  3.38it/s]\u001b[A\u001b[A\n",
            "\n",
            "  4%|▎         | 128/3486 [01:04<11:55,  4.69it/s]\u001b[A\u001b[A"
          ],
          "name": "stderr"
        },
        {
          "output_type": "stream",
          "text": [
            "(3330, 127)\n",
            "127\n",
            "1966\n",
            "(1008, 64)\n",
            "64\n",
            "1967\n",
            "(1788, 136)\n",
            "136\n",
            "1973\n",
            "(624, 61)\n",
            "61\n",
            "1977\n",
            "(648, 54)\n",
            "54\n",
            "1980\n",
            "(864, 84)\n",
            "84\n",
            "1983\n",
            "(6480, 162)\n",
            "162\n",
            "1984\n",
            "(540, 69)\n",
            "69\n",
            "1985\n",
            "(432, 48)\n",
            "48\n",
            "1988\n",
            "(450, 55)\n",
            "55\n",
            "1990\n",
            "(432, 48)\n",
            "48\n",
            "1992\n",
            "(4275, 140)\n",
            "140\n",
            "1993\n",
            "(585, 58)\n",
            "58\n",
            "1995\n",
            "(11880, 309)\n"
          ],
          "name": "stdout"
        },
        {
          "output_type": "stream",
          "text": [
            "\n",
            "\n",
            "  4%|▍         | 133/3486 [01:04<09:15,  6.04it/s]\u001b[A\u001b[A\n",
            "\n",
            "  4%|▍         | 137/3486 [01:04<06:54,  8.09it/s]\u001b[A\u001b[A"
          ],
          "name": "stderr"
        },
        {
          "output_type": "stream",
          "text": [
            "309\n",
            "1998\n",
            "(2208, 94)\n",
            "94\n",
            "2000\n",
            "(1512, 78)\n",
            "78\n",
            "2001\n",
            "(4440, 134)\n",
            "134\n",
            "2002\n",
            "(2400, 100)\n",
            "100\n",
            "2003\n",
            "(2385, 98)\n",
            "98\n",
            "2010\n",
            "(2448, 106)\n",
            "106\n",
            "2011\n",
            "(3675, 124)\n",
            "124\n",
            "2012\n",
            "(540, 57)\n",
            "57\n",
            "2015\n",
            "(1440, 84)"
          ],
          "name": "stdout"
        },
        {
          "output_type": "stream",
          "text": [
            "\n",
            "\n",
            "  4%|▍         | 142/3486 [01:04<05:10, 10.77it/s]\u001b[A\u001b[A"
          ],
          "name": "stderr"
        },
        {
          "output_type": "stream",
          "text": [
            "\n",
            "84\n",
            "2016\n",
            "(2340, 99)\n",
            "99\n",
            "2017\n",
            "(3060, 111)\n",
            "111\n",
            "2019\n",
            "(14105, 438)\n"
          ],
          "name": "stdout"
        },
        {
          "output_type": "stream",
          "text": [
            "\n",
            "\n",
            "  4%|▍         | 146/3486 [01:05<05:25, 10.25it/s]\u001b[A\u001b[A"
          ],
          "name": "stderr"
        },
        {
          "output_type": "stream",
          "text": [
            "438\n",
            "2020\n",
            "(2880, 108)\n",
            "108\n",
            "2023\n",
            "(17730, 439)\n"
          ],
          "name": "stdout"
        },
        {
          "output_type": "stream",
          "text": [
            "\n",
            "\n",
            "  4%|▍         | 150/3486 [01:05<06:07,  9.08it/s]\u001b[A\u001b[A"
          ],
          "name": "stderr"
        },
        {
          "output_type": "stream",
          "text": [
            "439\n",
            "2025\n",
            "(5490, 151)\n",
            "151\n",
            "2026\n",
            "(1968, 89)\n",
            "89\n",
            "2027\n",
            "(2484, 131)\n",
            "131\n",
            "2028\n",
            "(360, 46)\n",
            "46\n",
            "2029\n",
            "(360, 53)\n",
            "53\n",
            "2031\n",
            "(9396, 297)\n"
          ],
          "name": "stdout"
        },
        {
          "output_type": "stream",
          "text": [
            "\n",
            "\n",
            "  4%|▍         | 153/3486 [01:06<05:18, 10.46it/s]\u001b[A\u001b[A\n",
            "\n",
            "  4%|▍         | 156/3486 [01:06<04:21, 12.72it/s]\u001b[A\u001b[A"
          ],
          "name": "stderr"
        },
        {
          "output_type": "stream",
          "text": [
            "297\n",
            "2032\n",
            "(3150, 117)\n",
            "117\n",
            "2033\n",
            "(2400, 166)\n",
            "166\n",
            "2034\n",
            "(4500, 135)\n",
            "135\n",
            "2035\n",
            "(1620, 87)\n",
            "87\n",
            "2036\n",
            "(2385, 98)\n",
            "98\n",
            "2037\n",
            "(2295, 96)\n",
            "96\n",
            "2039\n",
            "(1536, 80)\n"
          ],
          "name": "stdout"
        },
        {
          "output_type": "stream",
          "text": [
            "\n",
            "\n",
            "  5%|▍         | 161/3486 [01:06<03:25, 16.19it/s]\u001b[A\u001b[A\n",
            "\n",
            "  5%|▍         | 165/3486 [01:06<02:51, 19.32it/s]\u001b[A\u001b[A"
          ],
          "name": "stderr"
        },
        {
          "output_type": "stream",
          "text": [
            "80\n",
            "2040\n",
            "(2352, 97)\n",
            "97\n",
            "2041\n",
            "(1980, 89)\n",
            "89\n",
            "2043\n",
            "(2040, 94)\n",
            "94\n",
            "2045\n",
            "(1665, 82)\n",
            "82\n",
            "2047\n",
            "(5775, 152)\n",
            "152\n",
            "2050\n",
            "(1380, 83)\n",
            "83\n",
            "2052\n",
            "(675, 60)\n",
            "60\n",
            "2056\n",
            "(15, 16)\n",
            "16\n",
            "2060\n",
            "(540, 57)\n",
            "57\n",
            "2062\n",
            "(720, 61)\n",
            "61\n",
            "2063\n",
            "(765, 62)\n"
          ],
          "name": "stdout"
        },
        {
          "output_type": "stream",
          "text": [
            "\n",
            "\n",
            "  5%|▍         | 174/3486 [01:06<02:11, 25.15it/s]\u001b[A\u001b[A"
          ],
          "name": "stderr"
        },
        {
          "output_type": "stream",
          "text": [
            "62\n",
            "2064\n",
            "(720, 54)\n",
            "54\n",
            "2066\n",
            "(468, 49)\n",
            "49\n",
            "2068\n",
            "(1890, 87)\n",
            "87\n",
            "2069\n",
            "(1920, 92)\n",
            "92\n",
            "2071\n",
            "(864, 60)\n",
            "60\n",
            "2073\n",
            "(945, 66)\n",
            "66\n",
            "2075\n",
            "(3000, 115)\n",
            "115\n",
            "2076\n",
            "(720, 56)\n",
            "56\n",
            "2077\n",
            "(50868, 1108)\n"
          ],
          "name": "stdout"
        },
        {
          "output_type": "stream",
          "text": [
            "\n",
            "\n",
            "  5%|▌         | 180/3486 [01:10<12:39,  4.36it/s]\u001b[A\u001b[A\n",
            "\n",
            "  5%|▌         | 184/3486 [01:10<09:18,  5.91it/s]\u001b[A\u001b[A"
          ],
          "name": "stderr"
        },
        {
          "output_type": "stream",
          "text": [
            "1108\n",
            "2078\n",
            "(4410, 139)\n",
            "139\n",
            "2082\n",
            "(2340, 99)\n",
            "99\n",
            "2083\n",
            "(1395, 76)\n",
            "76\n",
            "2084\n",
            "(2625, 110)\n",
            "110\n",
            "2085\n",
            "(1170, 71)\n",
            "71\n",
            "2086\n",
            "(1560, 86)\n",
            "86\n",
            "2087\n",
            "(2355, 121)\n"
          ],
          "name": "stdout"
        },
        {
          "output_type": "stream",
          "text": [
            "\n",
            "\n",
            "  5%|▌         | 189/3486 [01:10<06:50,  8.03it/s]\u001b[A\u001b[A"
          ],
          "name": "stderr"
        },
        {
          "output_type": "stream",
          "text": [
            "121\n",
            "2088\n",
            "(3528, 121)\n",
            "121\n",
            "2091\n",
            "(432, 57)\n",
            "57\n",
            "2093\n",
            "(1500, 85)\n",
            "85\n",
            "2098\n",
            "(840, 74)\n",
            "74\n",
            "2099\n",
            "(1530, 107)\n",
            "107\n",
            "2101\n",
            "(1140, 79)\n",
            "79\n",
            "2105\n",
            "(1125, 70)\n",
            "70\n",
            "2110\n",
            "(540, 57)\n",
            "57\n",
            "2111\n",
            "(9600, 280)\n"
          ],
          "name": "stdout"
        },
        {
          "output_type": "stream",
          "text": [
            "\n",
            "\n",
            "  6%|▌         | 196/3486 [01:10<05:21, 10.24it/s]\u001b[A\u001b[A\n",
            "\n",
            "  6%|▌         | 200/3486 [01:11<04:28, 12.24it/s]\u001b[A\u001b[A"
          ],
          "name": "stderr"
        },
        {
          "output_type": "stream",
          "text": [
            "280\n",
            "2112\n",
            "(7164, 235)\n",
            "235\n",
            "2113\n",
            "(780, 73)\n",
            "73\n",
            "2114\n",
            "(3600, 122)\n",
            "122\n",
            "2116\n",
            "(2280, 98)\n",
            "98\n",
            "2117\n"
          ],
          "name": "stdout"
        },
        {
          "output_type": "stream",
          "text": [
            "\n",
            "\n",
            "  6%|▌         | 204/3486 [01:11<03:59, 13.68it/s]\u001b[A\u001b[A"
          ],
          "name": "stderr"
        },
        {
          "output_type": "stream",
          "text": [
            "(6195, 164)\n",
            "164\n",
            "2123\n",
            "(495, 56)\n",
            "56\n",
            "2127\n",
            "(675, 60)\n",
            "60\n",
            "2128\n",
            "(8775, 247)\n",
            "247\n",
            "2130\n",
            "(1800, 90)\n",
            "90\n",
            "2131\n"
          ],
          "name": "stdout"
        },
        {
          "output_type": "stream",
          "text": [
            "\n",
            "\n",
            "  6%|▌         | 209/3486 [01:11<03:08, 17.36it/s]\u001b[A\u001b[A"
          ],
          "name": "stderr"
        },
        {
          "output_type": "stream",
          "text": [
            "(2844, 115)\n",
            "115\n",
            "2132\n",
            "(765, 62)\n",
            "62\n",
            "2134\n",
            "(1560, 86)\n",
            "86\n",
            "2135\n",
            "(840, 61)\n",
            "61\n",
            "2136\n",
            "(3528, 121)\n",
            "121\n",
            "2147\n",
            "(19305, 534)\n",
            "534\n",
            "2148\n",
            "(1890, 87)\n",
            "87\n",
            "2151\n",
            "(140220, 1251)\n"
          ],
          "name": "stdout"
        },
        {
          "output_type": "stream",
          "text": [
            "\n",
            "\n",
            "  6%|▌         | 209/3486 [01:22<03:08, 17.36it/s]\u001b[A\u001b[A\n",
            "\n",
            "  6%|▌         | 213/3486 [01:24<55:42,  1.02s/it]\u001b[A\u001b[A"
          ],
          "name": "stderr"
        },
        {
          "output_type": "stream",
          "text": [
            "1251\n",
            "2153\n",
            "(3060, 124)\n",
            "124\n",
            "2154\n",
            "(1485, 78)\n",
            "78\n",
            "2155\n",
            "(18576, 552)\n"
          ],
          "name": "stdout"
        },
        {
          "output_type": "stream",
          "text": [
            "\n",
            "\n",
            "  6%|▌         | 216/3486 [01:25<42:24,  1.28it/s]\u001b[A\u001b[A"
          ],
          "name": "stderr"
        },
        {
          "output_type": "stream",
          "text": [
            "552\n",
            "2156\n",
            "(6930, 167)\n",
            "167\n",
            "2158\n",
            "(21801, 598)\n"
          ],
          "name": "stdout"
        },
        {
          "output_type": "stream",
          "text": [
            "\n",
            "\n",
            "  6%|▋         | 218/3486 [01:26<36:44,  1.48it/s]\u001b[A\u001b[A\n",
            "\n",
            "  6%|▋         | 222/3486 [01:26<26:06,  2.08it/s]\u001b[A\u001b[A"
          ],
          "name": "stderr"
        },
        {
          "output_type": "stream",
          "text": [
            "598\n",
            "2159\n",
            "(2016, 90)\n",
            "90\n",
            "2161\n",
            "(4032, 132)\n",
            "132\n",
            "2162\n",
            "(1860, 91)\n",
            "91\n",
            "2163\n",
            "(2070, 113)\n",
            "113\n",
            "2164\n",
            "(27900, 665)\n",
            "665\n",
            "2165\n",
            "(19149, 530)\n"
          ],
          "name": "stdout"
        },
        {
          "output_type": "stream",
          "text": [
            "\n",
            "\n",
            "  6%|▋         | 224/3486 [01:27<31:26,  1.73it/s]\u001b[A\u001b[A"
          ],
          "name": "stderr"
        },
        {
          "output_type": "stream",
          "text": [
            "530\n",
            "2166\n",
            "(187812, 1481)\n"
          ],
          "name": "stdout"
        },
        {
          "output_type": "stream",
          "text": [
            "\n",
            "\n",
            "  6%|▋         | 225/3486 [01:47<5:39:32,  6.25s/it]\u001b[A\u001b[A\n",
            "\n",
            "  7%|▋         | 231/3486 [01:47<3:57:31,  4.38s/it]\u001b[A\u001b[A"
          ],
          "name": "stderr"
        },
        {
          "output_type": "stream",
          "text": [
            "1481\n",
            "2167\n",
            "(450, 55)\n",
            "55\n",
            "2168\n",
            "(720, 61)\n",
            "61\n",
            "2169\n",
            "(450, 55)\n",
            "55\n",
            "2172\n",
            "(3330, 127)\n",
            "127\n",
            "2174\n",
            "(2205, 94)\n",
            "94\n",
            "2175\n",
            "(1530, 79)\n",
            "79\n",
            "2177\n",
            "(720, 72)\n",
            "72\n",
            "2178\n",
            "(1890, 87)\n",
            "87\n",
            "2179\n",
            "(3690, 131)\n",
            "131\n",
            "2180\n",
            "(45318, 1121)\n"
          ],
          "name": "stdout"
        },
        {
          "output_type": "stream",
          "text": [
            "\n",
            "\n",
            "  7%|▋         | 235/3486 [01:51<3:01:43,  3.35s/it]\u001b[A\u001b[A"
          ],
          "name": "stderr"
        },
        {
          "output_type": "stream",
          "text": [
            "1121\n",
            "2181\n",
            "(36360, 1046)\n",
            "1046\n",
            "2182\n",
            "(19710, 483)\n"
          ],
          "name": "stdout"
        },
        {
          "output_type": "stream",
          "text": [
            "\n",
            "\n",
            "  7%|▋         | 237/3486 [01:54<2:31:52,  2.80s/it]\u001b[A\u001b[A\n",
            "\n",
            "  7%|▋         | 240/3486 [01:54<1:46:52,  1.98s/it]\u001b[A\u001b[A"
          ],
          "name": "stderr"
        },
        {
          "output_type": "stream",
          "text": [
            "483\n",
            "2183\n",
            "(4032, 128)\n",
            "128\n",
            "2184\n",
            "(3870, 133)\n",
            "133\n",
            "2185\n",
            "(3600, 120)\n",
            "120\n",
            "2188\n",
            "(21208, 526)\n",
            "526\n",
            "2189\n",
            "(25380, 609)\n"
          ],
          "name": "stdout"
        },
        {
          "output_type": "stream",
          "text": [
            "\n",
            "\n",
            "  7%|▋         | 242/3486 [01:56<1:29:00,  1.65s/it]\u001b[A\u001b[A\n",
            "\n",
            "  7%|▋         | 247/3486 [01:56<1:02:32,  1.16s/it]\u001b[A\u001b[A"
          ],
          "name": "stderr"
        },
        {
          "output_type": "stream",
          "text": [
            "609\n",
            "2191\n",
            "(792, 83)\n",
            "83\n",
            "2192\n",
            "(4320, 132)\n",
            "132\n",
            "2194\n",
            "(1008, 64)\n",
            "64\n",
            "2195\n",
            "(1386, 75)\n",
            "75\n",
            "2196\n",
            "(828, 59)\n",
            "59\n",
            "2197\n",
            "(450, 55)\n",
            "55\n",
            "2199\n",
            "(2400, 98)\n",
            "98\n",
            "2200\n",
            "(1725, 98)\n",
            "98\n",
            "2201\n",
            "(2100, 165)\n"
          ],
          "name": "stdout"
        },
        {
          "output_type": "stream",
          "text": [
            "\n",
            "\n",
            "  7%|▋         | 251/3486 [01:56<44:08,  1.22it/s]  \u001b[A\u001b[A\n",
            "\n",
            "  7%|▋         | 256/3486 [01:56<31:13,  1.72it/s]\u001b[A\u001b[A"
          ],
          "name": "stderr"
        },
        {
          "output_type": "stream",
          "text": [
            "165\n",
            "2205\n",
            "(2250, 95)\n",
            "95\n",
            "2206\n",
            "(3510, 129)\n",
            "129\n",
            "2207\n",
            "(1530, 79)\n",
            "79\n",
            "2208\n",
            "(768, 64)\n",
            "64\n",
            "2209\n",
            "(2940, 109)\n",
            "109\n",
            "2210\n",
            "(384, 56)\n",
            "56\n",
            "2211\n",
            "(252, 43)\n",
            "43\n",
            "2212\n",
            "(324, 45)\n",
            "45\n",
            "2213\n",
            "(2340, 99)\n",
            "99\n",
            "2214\n",
            "(660, 62)\n",
            "62\n",
            "2216\n",
            "(756, 57)\n",
            "57\n",
            "2217\n"
          ],
          "name": "stdout"
        },
        {
          "output_type": "stream",
          "text": [
            "\n",
            "\n",
            "  8%|▊         | 263/3486 [01:56<22:04,  2.43it/s]\u001b[A\u001b[A"
          ],
          "name": "stderr"
        },
        {
          "output_type": "stream",
          "text": [
            "(4410, 139)\n",
            "139\n",
            "2218\n",
            "(1740, 89)\n",
            "89\n",
            "2222\n",
            "(2592, 102)\n",
            "102\n",
            "2223\n",
            "(2208, 94)\n",
            "94\n",
            "2225\n",
            "(12288, 304)\n"
          ],
          "name": "stdout"
        },
        {
          "output_type": "stream",
          "text": [
            "\n",
            "\n",
            "  8%|▊         | 268/3486 [01:56<16:32,  3.24it/s]\u001b[A\u001b[A"
          ],
          "name": "stderr"
        },
        {
          "output_type": "stream",
          "text": [
            "304\n",
            "2227\n",
            "(3744, 135)\n",
            "135\n",
            "2228\n",
            "(432, 48)\n",
            "48\n",
            "2231\n",
            "(3060, 124)\n",
            "124\n",
            "2232\n",
            "(34128, 759)\n"
          ],
          "name": "stdout"
        },
        {
          "output_type": "stream",
          "text": [
            "\n",
            "\n",
            "  8%|▊         | 272/3486 [01:58<18:23,  2.91it/s]\u001b[A\u001b[A\n",
            "\n",
            "  8%|▊         | 277/3486 [01:58<13:12,  4.05it/s]\u001b[A\u001b[A"
          ],
          "name": "stderr"
        },
        {
          "output_type": "stream",
          "text": [
            "759\n",
            "2235\n",
            "(3960, 133)\n",
            "133\n",
            "2236\n",
            "(4500, 135)\n",
            "135\n",
            "2237\n",
            "(2640, 104)\n",
            "104\n",
            "2238\n",
            "(216, 42)\n",
            "42\n",
            "2239\n",
            "(216, 42)\n",
            "42\n",
            "2242\n",
            "(2340, 99)\n",
            "99\n",
            "2243\n",
            "(2790, 121)\n",
            "121\n",
            "2244\n",
            "(4500, 135)\n",
            "135\n",
            "2245\n",
            "(4590, 141)\n",
            "141\n",
            "2246\n",
            "(13320, 341)\n"
          ],
          "name": "stdout"
        },
        {
          "output_type": "stream",
          "text": [
            "\n",
            "\n",
            "  8%|▊         | 281/3486 [01:59<10:48,  4.94it/s]\u001b[A\u001b[A"
          ],
          "name": "stderr"
        },
        {
          "output_type": "stream",
          "text": [
            "341\n",
            "2247\n",
            "(3915, 132)\n",
            "132\n",
            "2248\n",
            "(20088, 594)\n"
          ],
          "name": "stdout"
        },
        {
          "output_type": "stream",
          "text": [
            "\n",
            "\n",
            "  8%|▊         | 284/3486 [01:59<11:59,  4.45it/s]\u001b[A\u001b[A"
          ],
          "name": "stderr"
        },
        {
          "output_type": "stream",
          "text": [
            "594\n",
            "2250\n",
            "(1170, 71)\n",
            "71\n",
            "2251\n",
            "(12600, 355)\n"
          ],
          "name": "stdout"
        },
        {
          "output_type": "stream",
          "text": [
            "\n",
            "\n",
            "  8%|▊         | 286/3486 [02:00<11:01,  4.84it/s]\u001b[A\u001b[A\n",
            "\n"
          ],
          "name": "stderr"
        },
        {
          "output_type": "stream",
          "text": [
            "355\n",
            "2254\n",
            "(5940, 156)\n",
            "156\n",
            "2256\n",
            "(864, 60)\n",
            "60\n",
            "2257\n",
            "(4950, 145)\n",
            "145\n",
            "2258\n",
            "(180, 41)\n",
            "41\n",
            "2260\n",
            "(396, 47)\n",
            "47\n",
            "2261\n",
            "(5544, 190)\n",
            "190\n"
          ],
          "name": "stdout"
        },
        {
          "output_type": "stream",
          "text": [
            "\r  8%|▊         | 291/3486 [02:00<08:09,  6.53it/s]\u001b[A\u001b[A\n",
            "\n",
            "  8%|▊         | 295/3486 [02:00<06:13,  8.54it/s]\u001b[A\u001b[A"
          ],
          "name": "stderr"
        },
        {
          "output_type": "stream",
          "text": [
            "2262\n",
            "(1200, 73)\n",
            "73\n",
            "2263\n",
            "(3300, 115)\n",
            "115\n",
            "2264\n",
            "(432, 48)\n",
            "48\n",
            "2265\n",
            "(5460, 212)\n",
            "212\n",
            "2266\n",
            "(2160, 96)\n",
            "96\n",
            "2267\n",
            "(1440, 84)\n",
            "84\n",
            "2268\n",
            "(4860, 153)\n"
          ],
          "name": "stdout"
        },
        {
          "output_type": "stream",
          "text": [
            "\n",
            "\n",
            "  9%|▊         | 298/3486 [02:00<04:53, 10.87it/s]\u001b[A\u001b[A"
          ],
          "name": "stderr"
        },
        {
          "output_type": "stream",
          "text": [
            "153\n",
            "2269\n",
            "(1470, 77)\n",
            "77\n",
            "2270\n",
            "(1920, 92)\n",
            "92\n",
            "2271\n",
            "(360, 53)\n",
            "53\n",
            "2273\n",
            "(1080, 176)\n",
            "176\n",
            "2274\n",
            "(21240, 517)\n"
          ],
          "name": "stdout"
        },
        {
          "output_type": "stream",
          "text": [
            "\n",
            "\n",
            "  9%|▊         | 303/3486 [02:01<05:51,  9.05it/s]\u001b[A\u001b[A"
          ],
          "name": "stderr"
        },
        {
          "output_type": "stream",
          "text": [
            "517\n",
            "2275\n",
            "(13500, 345)\n"
          ],
          "name": "stdout"
        },
        {
          "output_type": "stream",
          "text": [
            "\n",
            "\n",
            "  9%|▊         | 305/3486 [02:01<06:54,  7.68it/s]\u001b[A\u001b[A\n",
            "\n",
            "  9%|▉         | 310/3486 [02:01<05:11, 10.20it/s]\u001b[A\u001b[A"
          ],
          "name": "stderr"
        },
        {
          "output_type": "stream",
          "text": [
            "345\n",
            "2276\n",
            "(3690, 131)\n",
            "131\n",
            "2277\n",
            "(3225, 118)\n",
            "118\n",
            "2278\n",
            "(2340, 97)\n",
            "97\n",
            "2279\n",
            "(1080, 78)\n",
            "78\n",
            "2280\n",
            "(1728, 84)\n",
            "84\n",
            "2281\n",
            "(1512, 93)\n",
            "93\n",
            "2282\n",
            "(3450, 121)\n",
            "121\n",
            "2283\n"
          ],
          "name": "stdout"
        },
        {
          "output_type": "stream",
          "text": [
            "\n",
            "\n",
            "  9%|▉         | 313/3486 [02:02<04:10, 12.68it/s]\u001b[A\u001b[A\n",
            "\n",
            "  9%|▉         | 319/3486 [02:02<03:12, 16.47it/s]\u001b[A\u001b[A"
          ],
          "name": "stderr"
        },
        {
          "output_type": "stream",
          "text": [
            "(4125, 130)\n",
            "130\n",
            "2284\n",
            "(900, 75)\n",
            "75\n",
            "2285\n",
            "(1740, 89)\n",
            "89\n",
            "2286\n",
            "(2625, 110)\n",
            "110\n",
            "2287\n",
            "(2775, 112)\n",
            "112\n",
            "2288\n",
            "(540, 57)\n",
            "57\n",
            "2289\n",
            "(324, 45)\n",
            "45\n",
            "2291\n",
            "(1260, 71)\n",
            "71\n",
            "2293\n",
            "(1368, 91)\n",
            "91\n",
            "2295\n",
            "(3480, 118)\n"
          ],
          "name": "stdout"
        },
        {
          "output_type": "stream",
          "text": [
            "\n",
            "\n",
            "  9%|▉         | 323/3486 [02:02<03:06, 16.92it/s]\u001b[A\u001b[A"
          ],
          "name": "stderr"
        },
        {
          "output_type": "stream",
          "text": [
            "118\n",
            "2296\n",
            "(2280, 98)\n",
            "98\n",
            "2297\n",
            "(8955, 244)\n",
            "244\n",
            "2300\n",
            "(3000, 115)\n",
            "115\n",
            "2301\n",
            "(21015, 512)\n",
            "512\n",
            "2303\n",
            "(11412, 353)\n"
          ],
          "name": "stdout"
        },
        {
          "output_type": "stream",
          "text": [
            "\n",
            "\n",
            "  9%|▉         | 326/3486 [02:03<07:05,  7.43it/s]\u001b[A\u001b[A\n",
            "\n",
            " 10%|▉         | 332/3486 [02:03<05:18,  9.90it/s]\u001b[A\u001b[A"
          ],
          "name": "stderr"
        },
        {
          "output_type": "stream",
          "text": [
            "353\n",
            "2304\n",
            "(3900, 127)\n",
            "127\n",
            "2305\n",
            "(576, 60)\n",
            "60\n",
            "2306\n",
            "(396, 47)\n",
            "47\n",
            "2307\n",
            "(1344, 76)\n",
            "76\n",
            "2308\n",
            "(1368, 74)\n",
            "74\n",
            "2310\n",
            "(5250, 145)\n",
            "145\n",
            "2311\n",
            "(216, 42)\n",
            "42\n",
            "2312\n",
            "(252, 43)\n",
            "43\n",
            "2313\n",
            "(396, 47)\n",
            "47\n",
            "2314\n",
            "(18216, 542)\n"
          ],
          "name": "stdout"
        },
        {
          "output_type": "stream",
          "text": [
            "\n",
            "\n",
            " 10%|▉         | 336/3486 [02:04<06:21,  8.25it/s]\u001b[A\u001b[A"
          ],
          "name": "stderr"
        },
        {
          "output_type": "stream",
          "text": [
            "542\n",
            "2315\n",
            "(8360, 234)\n",
            "234\n",
            "2316\n",
            "(4572, 163)\n",
            "163\n",
            "2317\n"
          ],
          "name": "stdout"
        },
        {
          "output_type": "stream",
          "text": [
            "\n",
            "\n",
            " 10%|▉         | 339/3486 [02:04<05:30,  9.52it/s]\u001b[A\u001b[A\n",
            "\n",
            " 10%|▉         | 345/3486 [02:04<04:09, 12.60it/s]\u001b[A\u001b[A"
          ],
          "name": "stderr"
        },
        {
          "output_type": "stream",
          "text": [
            "(684, 55)\n",
            "55\n",
            "2318\n",
            "(1470, 77)\n",
            "77\n",
            "2319\n",
            "(1152, 72)\n",
            "72\n",
            "2322\n",
            "(2760, 106)\n",
            "106\n",
            "2323\n",
            "(1035, 68)\n",
            "68\n",
            "2324\n",
            "(816, 65)\n",
            "65\n",
            "2325\n",
            "(2952, 118)\n",
            "118\n",
            "2326\n",
            "(2628, 109)\n",
            "109\n",
            "2331\n",
            "(1710, 83)\n",
            "83\n",
            "2332\n",
            "(432, 48)\n",
            "48\n",
            "2333\n",
            "(1035, 68)\n",
            "68\n",
            "2334\n",
            "(675, 60)\n"
          ],
          "name": "stdout"
        },
        {
          "output_type": "stream",
          "text": [
            "\n",
            "\n",
            " 10%|█         | 352/3486 [02:04<03:08, 16.65it/s]\u001b[A\u001b[A"
          ],
          "name": "stderr"
        },
        {
          "output_type": "stream",
          "text": [
            "60\n",
            "2335\n",
            "(384, 40)\n",
            "40\n",
            "2336\n",
            "(1392, 77)\n",
            "77\n",
            "2337\n",
            "(960, 76)\n",
            "76\n",
            "2340\n",
            "(480, 68)\n",
            "68\n",
            "2343\n",
            "(3525, 122)\n",
            "122\n",
            "2344\n",
            "(3750, 125)\n",
            "125\n",
            "2345\n",
            "(8568, 274)\n"
          ],
          "name": "stdout"
        },
        {
          "output_type": "stream",
          "text": [
            "\n",
            "\n",
            " 10%|█         | 357/3486 [02:04<02:53, 18.01it/s]\u001b[A\u001b[A\n",
            "\n",
            " 10%|█         | 361/3486 [02:04<02:27, 21.19it/s]\u001b[A\u001b[A"
          ],
          "name": "stderr"
        },
        {
          "output_type": "stream",
          "text": [
            "274\n",
            "2346\n",
            "(5472, 188)\n",
            "188\n",
            "2347\n",
            "(480, 58)\n",
            "58\n",
            "2348\n",
            "(1080, 78)\n",
            "78\n",
            "2350\n",
            "(450, 55)\n",
            "55\n",
            "2351\n",
            "(900, 65)\n",
            "65\n",
            "2352\n",
            "(684, 55)\n",
            "55\n",
            "2353\n",
            "(2124, 95)\n",
            "95\n",
            "2354\n"
          ],
          "name": "stdout"
        },
        {
          "output_type": "stream",
          "text": [
            "\n",
            "\n",
            " 10%|█         | 365/3486 [02:05<02:37, 19.80it/s]\u001b[A\u001b[A"
          ],
          "name": "stderr"
        },
        {
          "output_type": "stream",
          "text": [
            "(11025, 290)\n",
            "290\n",
            "2355\n",
            "(6840, 197)\n"
          ],
          "name": "stdout"
        },
        {
          "output_type": "stream",
          "text": [
            "\n",
            "\n",
            " 11%|█         | 368/3486 [02:05<02:24, 21.60it/s]\u001b[A\u001b[A\n",
            "\n",
            " 11%|█         | 373/3486 [02:05<02:01, 25.70it/s]\u001b[A\u001b[A"
          ],
          "name": "stderr"
        },
        {
          "output_type": "stream",
          "text": [
            "197\n",
            "2358\n",
            "(816, 65)\n",
            "65\n",
            "2359\n",
            "(360, 46)\n",
            "46\n",
            "2360\n",
            "(1440, 84)\n",
            "84\n",
            "2361\n",
            "(360, 66)\n",
            "66\n",
            "2362\n",
            "(1440, 106)\n",
            "106\n",
            "2364\n",
            "(1800, 90)\n",
            "90\n",
            "2366\n",
            "(1740, 89)\n",
            "89\n",
            "2367\n",
            "(468, 51)\n",
            "51\n",
            "2368\n",
            "(1935, 88)\n",
            "88\n",
            "2370\n",
            "(2064, 91)\n",
            "91\n",
            "2371\n",
            "(3720, 151)\n"
          ],
          "name": "stdout"
        },
        {
          "output_type": "stream",
          "text": [
            "\n",
            "\n",
            " 11%|█         | 378/3486 [02:05<01:46, 29.27it/s]\u001b[A\u001b[A\n",
            "\n",
            " 11%|█         | 382/3486 [02:05<01:42, 30.32it/s]\u001b[A\u001b[A"
          ],
          "name": "stderr"
        },
        {
          "output_type": "stream",
          "text": [
            "151\n",
            "2372\n",
            "(1680, 88)\n",
            "88\n",
            "2374\n",
            "(1500, 85)\n",
            "85\n",
            "2375\n",
            "(990, 67)\n",
            "67\n",
            "2376\n",
            "(3312, 118)\n",
            "118\n",
            "2377\n",
            "(4500, 135)\n",
            "135\n",
            "2378\n",
            "(780, 73)\n",
            "73\n",
            "2379\n"
          ],
          "name": "stdout"
        },
        {
          "output_type": "stream",
          "text": [
            "\n",
            "\n",
            " 11%|█         | 386/3486 [02:05<02:12, 23.34it/s]"
          ],
          "name": "stderr"
        },
        {
          "output_type": "stream",
          "text": [
            "(10710, 283)\n",
            "283\n",
            "2380\n",
            "(900, 65)\n",
            "65\n",
            "2384\n",
            "(4176, 152)\n",
            "152\n"
          ],
          "name": "stdout"
        },
        {
          "output_type": "stream",
          "text": [
            "\u001b[A\u001b[A\n",
            "\n",
            " 11%|█▏        | 395/3486 [02:05<01:44, 29.65it/s]\u001b[A\u001b[A"
          ],
          "name": "stderr"
        },
        {
          "output_type": "stream",
          "text": [
            "2385\n",
            "(1508, 81)\n",
            "81\n",
            "2388\n",
            "(1440, 76)\n",
            "76\n",
            "2389\n",
            "(630, 59)\n",
            "59\n",
            "2390\n",
            "(1170, 71)\n",
            "71\n",
            "2392\n",
            "(384, 56)\n",
            "56\n",
            "2393\n",
            "(540, 51)\n",
            "51\n",
            "2395\n",
            "(504, 50)\n",
            "50\n",
            "2398\n",
            "(1000, 70)\n",
            "70\n",
            "2400\n",
            "(828, 59)\n",
            "59\n",
            "2403\n",
            "(1836, 87)\n",
            "87\n",
            "2404\n",
            "(1620, 87)\n",
            "87\n",
            "2405\n",
            "(585, 58)\n",
            "58\n",
            "2406\n",
            "(4725, 150)\n",
            "150\n"
          ],
          "name": "stdout"
        },
        {
          "output_type": "stream",
          "text": [
            "\n",
            "\n",
            " 11%|█▏        | 400/3486 [02:06<01:35, 32.39it/s]\u001b[A\u001b[A\n",
            "\n",
            " 12%|█▏        | 405/3486 [02:06<01:32, 33.28it/s]\u001b[A\u001b[A"
          ],
          "name": "stderr"
        },
        {
          "output_type": "stream",
          "text": [
            "2414\n",
            "(900, 75)\n",
            "75\n",
            "2415\n",
            "(900, 65)\n",
            "65\n",
            "2419\n",
            "(5472, 188)\n",
            "188\n",
            "2420\n",
            "(1950, 103)\n",
            "103\n",
            "2421\n",
            "(1500, 85)\n",
            "85\n",
            "2422\n",
            "(600, 70)\n",
            "70\n",
            "2423\n",
            "(816, 65)\n",
            "65\n",
            "2424\n",
            "(11572, 307)\n",
            "307\n",
            "2425\n",
            "(450, 81)\n",
            "81\n",
            "2452\n",
            "(4248, 131)\n"
          ],
          "name": "stdout"
        },
        {
          "output_type": "stream",
          "text": [
            "\n",
            "\n",
            " 12%|█▏        | 410/3486 [02:06<02:01, 25.40it/s]\u001b[A\u001b[A\n",
            "\n",
            " 12%|█▏        | 416/3486 [02:06<01:41, 30.36it/s]\u001b[A\u001b[A"
          ],
          "name": "stderr"
        },
        {
          "output_type": "stream",
          "text": [
            "131\n",
            "2453\n",
            "(528, 46)\n",
            "46\n",
            "2460\n",
            "(576, 52)\n",
            "52\n",
            "2461\n",
            "(1020, 77)\n",
            "77\n",
            "2462\n",
            "(1500, 85)\n",
            "85\n",
            "2463\n",
            "(2664, 109)\n",
            "109\n",
            "2464\n",
            "(1740, 89)\n",
            "89\n",
            "2465\n",
            "(720, 72)\n",
            "72\n",
            "2467\n",
            "(1200, 80)\n",
            "80\n",
            "2468\n",
            "(2610, 119)\n",
            "119\n",
            "2472\n",
            "(29070, 691)\n"
          ],
          "name": "stdout"
        },
        {
          "output_type": "stream",
          "text": [
            "\n",
            "\n",
            " 12%|█▏        | 421/3486 [02:07<05:17,  9.64it/s]\u001b[A\u001b[A"
          ],
          "name": "stderr"
        },
        {
          "output_type": "stream",
          "text": [
            "691\n",
            "2473\n",
            "(3888, 144)\n",
            "144\n",
            "2475\n",
            "(1548, 79)\n",
            "79\n",
            "2479\n",
            "(12056, 319)\n",
            "319\n",
            "2481\n",
            "(2100, 95)\n",
            "95\n",
            "2506\n",
            "(46242, 1143)\n"
          ],
          "name": "stdout"
        },
        {
          "output_type": "stream",
          "text": [
            "\n",
            "\n",
            " 12%|█▏        | 424/3486 [02:11<21:30,  2.37it/s]\u001b[A\u001b[A"
          ],
          "name": "stderr"
        },
        {
          "output_type": "stream",
          "text": [
            "1143\n",
            "2512\n",
            "(5160, 204)\n",
            "204\n",
            "2521\n",
            "(2235, 119)\n",
            "119\n",
            "2522\n",
            "(5355, 276)\n"
          ],
          "name": "stdout"
        },
        {
          "output_type": "stream",
          "text": [
            "\n",
            "\n",
            " 12%|█▏        | 427/3486 [02:11<15:59,  3.19it/s]\u001b[A\u001b[A\n",
            "\n",
            " 12%|█▏        | 429/3486 [02:11<12:14,  4.16it/s]\u001b[A\u001b[A"
          ],
          "name": "stderr"
        },
        {
          "output_type": "stream",
          "text": [
            "276\n",
            "2523\n",
            "(5019, 260)\n",
            "260\n",
            "2524\n",
            "(4011, 212)\n",
            "212\n",
            "2525\n",
            "(540, 51)\n",
            "51\n",
            "2526\n",
            "(1824, 86)\n",
            "86\n",
            "2527\n",
            "(3675, 196)\n"
          ],
          "name": "stdout"
        },
        {
          "output_type": "stream",
          "text": [
            "\n",
            "\n",
            " 12%|█▏        | 432/3486 [02:11<09:10,  5.54it/s]\u001b[A\u001b[A\n",
            "\n",
            " 12%|█▏        | 435/3486 [02:11<07:00,  7.26it/s]\u001b[A\u001b[A"
          ],
          "name": "stderr"
        },
        {
          "output_type": "stream",
          "text": [
            "196\n",
            "2528\n",
            "(3087, 168)\n",
            "168\n",
            "2529\n",
            "(3600, 122)\n",
            "122\n",
            "2530\n",
            "(2400, 107)\n",
            "107\n",
            "2531\n",
            "(600, 70)\n",
            "70\n",
            "2532\n",
            "(2340, 116)\n",
            "116\n",
            "2533\n",
            "(3870, 133)\n",
            "133\n",
            "2534\n"
          ],
          "name": "stdout"
        },
        {
          "output_type": "stream",
          "text": [
            "\n",
            "\n",
            " 13%|█▎        | 439/3486 [02:12<05:21,  9.48it/s]\u001b[A\u001b[A"
          ],
          "name": "stderr"
        },
        {
          "output_type": "stream",
          "text": [
            "(3888, 126)\n",
            "126\n",
            "2535\n",
            "(24435, 588)\n"
          ],
          "name": "stdout"
        },
        {
          "output_type": "stream",
          "text": [
            "\n",
            "\n",
            " 13%|█▎        | 442/3486 [02:13<08:40,  5.85it/s]\u001b[A\u001b[A\n",
            "\n",
            " 13%|█▎        | 445/3486 [02:13<06:36,  7.67it/s]\u001b[A\u001b[A"
          ],
          "name": "stderr"
        },
        {
          "output_type": "stream",
          "text": [
            "588\n",
            "2537\n",
            "(4050, 135)\n",
            "135\n",
            "2538\n",
            "(1320, 82)\n",
            "82\n",
            "2539\n",
            "(2325, 106)\n",
            "106\n",
            "2547\n",
            "(4680, 138)\n",
            "138\n",
            "2548\n",
            "(2544, 101)\n",
            "101\n",
            "2554\n",
            "(4896, 172)\n",
            "172\n",
            "2555\n",
            "(1125, 90)\n",
            "90\n",
            "2556\n",
            "(22932, 627)\n"
          ],
          "name": "stdout"
        },
        {
          "output_type": "stream",
          "text": [
            "\n",
            "\n",
            " 13%|█▎        | 448/3486 [02:14<09:09,  5.53it/s]\u001b[A\u001b[A"
          ],
          "name": "stderr"
        },
        {
          "output_type": "stream",
          "text": [
            "627\n",
            "2557\n",
            "(14976, 452)\n"
          ],
          "name": "stdout"
        },
        {
          "output_type": "stream",
          "text": [
            "\n",
            "\n",
            " 13%|█▎        | 450/3486 [02:14<09:25,  5.37it/s]\u001b[A\u001b[A"
          ],
          "name": "stderr"
        },
        {
          "output_type": "stream",
          "text": [
            "452\n",
            "2558\n",
            "(1188, 69)\n",
            "69\n",
            "2562\n",
            "(28584, 830)\n"
          ],
          "name": "stdout"
        },
        {
          "output_type": "stream",
          "text": [
            "\n",
            "\n",
            " 13%|█▎        | 452/3486 [02:16<19:05,  2.65it/s]\u001b[A\u001b[A"
          ],
          "name": "stderr"
        },
        {
          "output_type": "stream",
          "text": [
            "830\n",
            "2567\n",
            "(6660, 221)\n",
            "221\n",
            "2573\n",
            "(396, 47)\n",
            "47\n",
            "2576\n",
            "(12672, 332)\n"
          ],
          "name": "stdout"
        },
        {
          "output_type": "stream",
          "text": [
            "\n",
            "\n",
            " 13%|█▎        | 454/3486 [02:16<15:29,  3.26it/s]\u001b[A\u001b[A\n",
            "\n",
            " 13%|█▎        | 455/3486 [02:16<12:30,  4.04it/s]\u001b[A\u001b[A"
          ],
          "name": "stderr"
        },
        {
          "output_type": "stream",
          "text": [
            "332\n",
            "2577\n",
            "<=2 categories\n",
            "2578\n",
            "(196308, 1534)\n"
          ],
          "name": "stdout"
        },
        {
          "output_type": "stream",
          "text": [
            "\n",
            "\n",
            " 13%|█▎        | 456/3486 [02:38<5:45:45,  6.85s/it]\u001b[A\u001b[A"
          ],
          "name": "stderr"
        },
        {
          "output_type": "stream",
          "text": [
            "1534\n",
            "2579\n",
            "(6120, 158)\n",
            "158\n",
            "2584\n",
            "(780, 73)\n",
            "73\n",
            "2585\n",
            "(6720, 202)\n"
          ],
          "name": "stdout"
        },
        {
          "output_type": "stream",
          "text": [
            "\n",
            "\n",
            " 13%|█▎        | 459/3486 [02:38<4:02:35,  4.81s/it]\u001b[A\u001b[A"
          ],
          "name": "stderr"
        },
        {
          "output_type": "stream",
          "text": [
            "202\n",
            "2586\n",
            "(3780, 132)\n",
            "132\n",
            "2592\n",
            "(16200, 405)\n"
          ],
          "name": "stdout"
        },
        {
          "output_type": "stream",
          "text": [
            "\n",
            "\n",
            " 13%|█▎        | 461/3486 [02:39<2:52:55,  3.43s/it]\u001b[A\u001b[A\n",
            "\n",
            " 13%|█▎        | 465/3486 [02:39<2:01:17,  2.41s/it]\u001b[A\u001b[A"
          ],
          "name": "stderr"
        },
        {
          "output_type": "stream",
          "text": [
            "405\n",
            "2607\n",
            "(540, 57)\n",
            "57\n",
            "2608\n",
            "(4500, 135)\n",
            "135\n",
            "2609\n",
            "(216, 42)\n",
            "42\n",
            "2610\n",
            "(2160, 249)\n",
            "249\n",
            "2611\n",
            "(2070, 278)\n",
            "278\n",
            "2613\n",
            "(2760, 106)\n",
            "106\n",
            "2619\n",
            "(1200, 80)\n",
            "80\n",
            "2620\n",
            "(18432, 548)\n"
          ],
          "name": "stdout"
        },
        {
          "output_type": "stream",
          "text": [
            "\n",
            "\n",
            " 13%|█▎        | 469/3486 [02:40<1:27:29,  1.74s/it]\u001b[A\u001b[A\n",
            "\n",
            " 14%|█▎        | 472/3486 [02:40<1:01:41,  1.23s/it]\u001b[A\u001b[A"
          ],
          "name": "stderr"
        },
        {
          "output_type": "stream",
          "text": [
            "548\n",
            "2627\n",
            "(6030, 179)\n",
            "179\n",
            "2629\n",
            "(2280, 98)\n",
            "98\n",
            "2630\n",
            "(960, 76)\n",
            "76\n",
            "2631\n",
            "(3840, 124)\n",
            "124\n",
            "2632\n",
            "(900, 61)\n",
            "61\n",
            "2633\n",
            "(450, 45)\n",
            "45\n",
            "2640\n",
            "(3360, 116)\n",
            "116\n",
            "2643\n"
          ],
          "name": "stdout"
        },
        {
          "output_type": "stream",
          "text": [
            "\n",
            "\n",
            " 14%|█▎        | 477/3486 [02:40<43:55,  1.14it/s]  \u001b[A\u001b[A"
          ],
          "name": "stderr"
        },
        {
          "output_type": "stream",
          "text": [
            "(11430, 299)\n",
            "299\n",
            "2644\n",
            "(900, 65)\n",
            "65\n",
            "2648\n",
            "(1800, 110)\n",
            "110\n",
            "2649\n",
            "(1440, 84)\n",
            "84\n",
            "2651\n",
            "(576, 52)\n",
            "52\n",
            "2656\n",
            "(396, 47)\n"
          ],
          "name": "stdout"
        },
        {
          "output_type": "stream",
          "text": [
            "\n",
            "\n",
            " 14%|█▍        | 483/3486 [02:40<30:57,  1.62it/s]\u001b[A\u001b[A\n",
            "\n",
            " 14%|█▍        | 486/3486 [02:40<22:27,  2.23it/s]\u001b[A\u001b[A"
          ],
          "name": "stderr"
        },
        {
          "output_type": "stream",
          "text": [
            "47\n",
            "2657\n",
            "(3225, 118)\n",
            "118\n",
            "2658\n",
            "(3060, 124)\n",
            "124\n",
            "2659\n",
            "(5760, 196)\n",
            "196\n",
            "2660\n",
            "(5400, 186)\n",
            "186\n",
            "2662\n",
            "(29484, 855)\n"
          ],
          "name": "stdout"
        },
        {
          "output_type": "stream",
          "text": [
            "\n",
            "\n",
            " 14%|█▍        | 489/3486 [02:42<23:36,  2.12it/s]\u001b[A\u001b[A\n",
            "\n",
            " 14%|█▍        | 492/3486 [02:42<17:02,  2.93it/s]\u001b[A\u001b[A"
          ],
          "name": "stderr"
        },
        {
          "output_type": "stream",
          "text": [
            "855\n",
            "2663\n",
            "(720, 56)\n",
            "56\n",
            "2664\n",
            "(1260, 81)\n",
            "81\n",
            "2665\n",
            "(5586, 175)\n",
            "175\n",
            "2667\n",
            "(2250, 95)\n",
            "95\n",
            "2668\n",
            "(2610, 119)\n",
            "119\n",
            "2669\n",
            "(576, 52)\n",
            "52\n",
            "2670\n",
            "(288, 44)\n",
            "44\n",
            "2675\n",
            "(2304, 96)\n",
            "96\n",
            "2676\n"
          ],
          "name": "stdout"
        },
        {
          "output_type": "stream",
          "text": [
            "\n",
            "\n",
            " 14%|█▍        | 499/3486 [02:42<12:15,  4.06it/s]\u001b[A\u001b[A"
          ],
          "name": "stderr"
        },
        {
          "output_type": "stream",
          "text": [
            "(2952, 113)\n",
            "113\n",
            "2677\n",
            "(720, 98)\n",
            "98\n",
            "2680\n",
            "(1140, 79)\n",
            "79\n",
            "2682\n",
            "(6435, 204)\n",
            "204\n",
            "2683\n",
            "(2280, 119)\n",
            "119\n",
            "2684\n",
            "(1080, 78)\n",
            "78\n",
            "2685\n",
            "(2475, 108)\n",
            "108\n",
            "2687\n",
            "(495, 56)\n",
            "56\n",
            "2689\n",
            "(33696, 750)\n"
          ],
          "name": "stdout"
        },
        {
          "output_type": "stream",
          "text": [
            "\n",
            "\n",
            " 14%|█▍        | 504/3486 [02:44<13:53,  3.58it/s]\u001b[A\u001b[A\n",
            "\n",
            " 15%|█▍        | 507/3486 [02:44<10:15,  4.84it/s]\u001b[A\u001b[A"
          ],
          "name": "stderr"
        },
        {
          "output_type": "stream",
          "text": [
            "750\n",
            "2691\n",
            "(396, 47)\n",
            "47\n",
            "2692\n",
            "(3060, 111)\n",
            "111\n",
            "2694\n",
            "(5985, 178)\n",
            "178\n",
            "2695\n",
            "(17368, 386)\n",
            "386\n",
            "2696\n",
            "(22995, 556)\n",
            "556\n",
            "2697\n",
            "(12804, 335)\n"
          ],
          "name": "stdout"
        },
        {
          "output_type": "stream",
          "text": [
            "\n",
            "\n",
            " 15%|█▍        | 510/3486 [02:45<13:42,  3.62it/s]\u001b[A\u001b[A"
          ],
          "name": "stderr"
        },
        {
          "output_type": "stream",
          "text": [
            "335\n",
            "2702\n",
            "(468, 49)\n",
            "49\n",
            "2704\n",
            "(462, 53)\n",
            "53\n",
            "2705\n",
            "(4020, 127)\n",
            "127\n",
            "2706\n",
            "(3080, 117)\n",
            "117\n",
            "2707\n",
            "(51780, 1127)\n"
          ],
          "name": "stdout"
        },
        {
          "output_type": "stream",
          "text": [
            "\n",
            "\n",
            " 15%|█▍        | 515/3486 [02:49<21:24,  2.31it/s]\u001b[A\u001b[A"
          ],
          "name": "stderr"
        },
        {
          "output_type": "stream",
          "text": [
            "1127\n",
            "2708\n",
            "(12420, 381)\n"
          ],
          "name": "stdout"
        },
        {
          "output_type": "stream",
          "text": [
            "\n",
            "\n",
            " 15%|█▍        | 517/3486 [02:50<17:04,  2.90it/s]\u001b[A\u001b[A\n",
            "\n",
            " 15%|█▌        | 524/3486 [02:50<12:11,  4.05it/s]\u001b[A\u001b[A"
          ],
          "name": "stderr"
        },
        {
          "output_type": "stream",
          "text": [
            "381\n",
            "2709\n",
            "(4410, 143)\n",
            "143\n",
            "2710\n",
            "(1764, 85)\n",
            "85\n",
            "2711\n",
            "(2340, 116)\n",
            "116\n",
            "2712\n",
            "(576, 52)\n",
            "52\n",
            "2713\n",
            "(912, 62)\n",
            "62\n",
            "2714\n",
            "(1104, 70)\n",
            "70\n",
            "2715\n",
            "(1152, 68)\n",
            "68\n",
            "2716\n",
            "(4005, 134)\n",
            "134\n",
            "2717\n",
            "(180, 41)\n",
            "41\n",
            "2718\n",
            "(2160, 93)\n"
          ],
          "name": "stdout"
        },
        {
          "output_type": "stream",
          "text": [
            "\n",
            "\n",
            " 15%|█▌        | 531/3486 [02:50<08:47,  5.61it/s]\u001b[A\u001b[A"
          ],
          "name": "stderr"
        },
        {
          "output_type": "stream",
          "text": [
            "93\n",
            "2719\n",
            "(3384, 130)\n",
            "130\n",
            "2720\n",
            "(360, 46)\n",
            "46\n",
            "2721\n",
            "(180, 41)\n",
            "41\n",
            "2722\n",
            "(180, 41)\n",
            "41\n",
            "2723\n",
            "(3870, 133)\n",
            "133\n",
            "2724\n",
            "(2556, 107)\n",
            "107\n",
            "2725\n",
            "(1188, 69)\n",
            "69\n",
            "2726\n",
            "(1368, 74)\n",
            "74\n",
            "2727\n",
            "(4716, 167)\n",
            "167"
          ],
          "name": "stdout"
        },
        {
          "output_type": "stream",
          "text": [
            "\n",
            "\n",
            " 15%|█▌        | 535/3486 [02:50<06:34,  7.48it/s]\u001b[A\u001b[A"
          ],
          "name": "stderr"
        },
        {
          "output_type": "stream",
          "text": [
            "\n",
            "2728\n",
            "(6210, 159)\n",
            "159\n",
            "2729\n",
            "(192, 32)\n",
            "32\n",
            "2730\n",
            "(1920, 92)\n",
            "92\n",
            "2731\n",
            "(9855, 264)\n"
          ],
          "name": "stdout"
        },
        {
          "output_type": "stream",
          "text": [
            "\n",
            "\n",
            " 15%|█▌        | 539/3486 [02:50<05:29,  8.95it/s]\u001b[A\u001b[A"
          ],
          "name": "stderr"
        },
        {
          "output_type": "stream",
          "text": [
            "264\n",
            "2732\n",
            "(8364, 269)\n",
            "269\n",
            "2733\n",
            "(2625, 182)\n",
            "182\n",
            "2734\n"
          ],
          "name": "stdout"
        },
        {
          "output_type": "stream",
          "text": [
            "\n",
            "\n",
            " 16%|█▌        | 542/3486 [02:51<05:17,  9.27it/s]\u001b[A\u001b[A\n",
            "\n",
            " 16%|█▌        | 548/3486 [02:51<03:57, 12.36it/s]\u001b[A\u001b[A"
          ],
          "name": "stderr"
        },
        {
          "output_type": "stream",
          "text": [
            "(9630, 259)\n",
            "259\n",
            "2736\n",
            "(1500, 85)\n",
            "85\n",
            "2737\n",
            "(288, 44)\n",
            "44\n",
            "2738\n",
            "(1740, 89)\n",
            "89\n",
            "2739\n",
            "(720, 72)\n",
            "72\n",
            "2740\n",
            "(3600, 125)\n",
            "125\n",
            "2741\n",
            "(1740, 89)\n",
            "89\n",
            "2742\n",
            "(134280, 1448)\n"
          ],
          "name": "stdout"
        },
        {
          "output_type": "stream",
          "text": [
            "\n",
            "\n",
            " 16%|█▌        | 548/3486 [03:02<03:57, 12.36it/s]\u001b[A\u001b[A\n",
            "\n",
            " 16%|█▌        | 549/3486 [03:04<3:14:41,  3.98s/it]\u001b[A\u001b[A"
          ],
          "name": "stderr"
        },
        {
          "output_type": "stream",
          "text": [
            "1448\n",
            "2743\n",
            "(855, 64)\n",
            "64\n",
            "2744\n",
            "(288, 44)\n",
            "44\n",
            "2745\n",
            "(26172, 763)\n"
          ],
          "name": "stdout"
        },
        {
          "output_type": "stream",
          "text": [
            "\n",
            "\n",
            " 16%|█▌        | 552/3486 [03:05<2:22:17,  2.91s/it]\u001b[A\u001b[A"
          ],
          "name": "stderr"
        },
        {
          "output_type": "stream",
          "text": [
            "763\n",
            "2749\n",
            "(13905, 354)\n"
          ],
          "name": "stdout"
        },
        {
          "output_type": "stream",
          "text": [
            "\n",
            "\n",
            " 16%|█▌        | 553/3486 [03:05<1:43:49,  2.12s/it]\u001b[A\u001b[A\n",
            "\n",
            " 16%|█▌        | 558/3486 [03:05<1:13:01,  1.50s/it]\u001b[A\u001b[A"
          ],
          "name": "stderr"
        },
        {
          "output_type": "stream",
          "text": [
            "354\n",
            "2750\n",
            "(1800, 85)\n",
            "85\n",
            "2751\n",
            "(1720, 83)\n",
            "83\n",
            "2752\n",
            "(1480, 77)\n",
            "77\n",
            "2753\n",
            "(1600, 80)\n",
            "80\n",
            "2754\n",
            "(6264, 210)\n",
            "210\n",
            "2756\n",
            "(8010, 223)\n",
            "223\n",
            "2757\n",
            "(15750, 395)\n"
          ],
          "name": "stdout"
        },
        {
          "output_type": "stream",
          "text": [
            "\n",
            "\n",
            " 16%|█▌        | 560/3486 [03:06<54:14,  1.11s/it]  \u001b[A\u001b[A"
          ],
          "name": "stderr"
        },
        {
          "output_type": "stream",
          "text": [
            "395\n",
            "2759\n",
            "(2700, 120)\n",
            "120\n",
            "2761\n",
            "(1260, 81)\n",
            "81\n",
            "2762\n",
            "(1500, 85)\n",
            "85\n",
            "2763\n",
            "(13236, 404)\n"
          ],
          "name": "stdout"
        },
        {
          "output_type": "stream",
          "text": [
            "\n",
            "\n",
            " 16%|█▌        | 564/3486 [03:06<39:11,  1.24it/s]\u001b[A\u001b[A"
          ],
          "name": "stderr"
        },
        {
          "output_type": "stream",
          "text": [
            "404\n",
            "2764\n",
            "(2760, 106)\n",
            "106\n",
            "2765\n",
            "(1170, 71)\n",
            "71\n",
            "2769\n",
            "(1764, 85)\n",
            "85\n",
            "2771\n",
            "(14715, 372)\n"
          ],
          "name": "stdout"
        },
        {
          "output_type": "stream",
          "text": [
            "\n",
            "\n",
            " 16%|█▋        | 568/3486 [03:07<28:43,  1.69it/s]\u001b[A\u001b[A"
          ],
          "name": "stderr"
        },
        {
          "output_type": "stream",
          "text": [
            "372\n",
            "2772\n",
            "(3600, 123)\n",
            "123\n",
            "2774\n",
            "(1302, 73)\n",
            "73\n",
            "2775\n",
            "(2610, 119)\n",
            "119\n",
            "2776\n",
            "(9252, 293)\n"
          ],
          "name": "stdout"
        },
        {
          "output_type": "stream",
          "text": [
            "\n",
            "\n",
            " 16%|█▋        | 572/3486 [03:07<20:53,  2.33it/s]\u001b[A\u001b[A\n",
            "\n",
            " 16%|█▋        | 574/3486 [03:07<15:35,  3.11it/s]\u001b[A\u001b[A"
          ],
          "name": "stderr"
        },
        {
          "output_type": "stream",
          "text": [
            "293\n",
            "2777\n",
            "(936, 62)\n",
            "62\n",
            "2778\n",
            "(8172, 263)\n",
            "263\n",
            "2779\n",
            "(360, 42)\n",
            "42\n",
            "2780\n",
            "(2268, 96)\n",
            "96\n",
            "2781\n",
            "(540, 57)\n",
            "57\n",
            "2782\n",
            "(15408, 464)\n"
          ],
          "name": "stdout"
        },
        {
          "output_type": "stream",
          "text": [
            "\n",
            "\n",
            " 17%|█▋        | 578/3486 [03:07<12:36,  3.84it/s]\u001b[A\u001b[A"
          ],
          "name": "stderr"
        },
        {
          "output_type": "stream",
          "text": [
            "464\n",
            "2783\n",
            "(17196, 517)\n"
          ],
          "name": "stdout"
        },
        {
          "output_type": "stream",
          "text": [
            "\n",
            "\n",
            " 17%|█▋        | 580/3486 [03:08<13:08,  3.68it/s]\u001b[A\u001b[A"
          ],
          "name": "stderr"
        },
        {
          "output_type": "stream",
          "text": [
            "517\n",
            "2784\n",
            "(3696, 125)\n",
            "125\n",
            "2785\n",
            "(2970, 123)\n",
            "123\n",
            "2786\n",
            "(4212, 153)\n",
            "153\n",
            "2787\n",
            "(10620, 331)\n"
          ],
          "name": "stdout"
        },
        {
          "output_type": "stream",
          "text": [
            "\n",
            "\n",
            " 17%|█▋        | 583/3486 [03:08<10:36,  4.56it/s]\u001b[A\u001b[A\n",
            "\n",
            " 17%|█▋        | 584/3486 [03:08<09:18,  5.19it/s]\u001b[A\u001b[A"
          ],
          "name": "stderr"
        },
        {
          "output_type": "stream",
          "text": [
            "331\n",
            "2788\n",
            "(8668, 241)\n",
            "241\n",
            "2789\n",
            "(24624, 720)\n"
          ],
          "name": "stdout"
        },
        {
          "output_type": "stream",
          "text": [
            "\n",
            "\n",
            " 17%|█▋        | 585/3486 [03:10<23:03,  2.10it/s]\u001b[A\u001b[A\n",
            "\n",
            " 17%|█▋        | 586/3486 [03:10<17:37,  2.74it/s]\u001b[A\u001b[A"
          ],
          "name": "stderr"
        },
        {
          "output_type": "stream",
          "text": [
            "720\n",
            "2790\n",
            "(8415, 232)\n",
            "232\n",
            "2791\n",
            "(6846, 205)\n",
            "205\n",
            "2792"
          ],
          "name": "stdout"
        },
        {
          "output_type": "stream",
          "text": [
            "\n",
            "\n",
            " 17%|█▋        | 588/3486 [03:10<13:03,  3.70it/s]\u001b[A\u001b[A"
          ],
          "name": "stderr"
        },
        {
          "output_type": "stream",
          "text": [
            "\n",
            "(1260, 73)\n",
            "73\n",
            "2793\n",
            "(2562, 103)\n",
            "103\n",
            "2794\n",
            "(1440, 84)\n",
            "84\n",
            "2796\n",
            "(2220, 97)\n",
            "97\n",
            "2797\n",
            "(26880, 608)\n"
          ],
          "name": "stdout"
        },
        {
          "output_type": "stream",
          "text": [
            "\n",
            "\n",
            " 17%|█▋        | 592/3486 [03:11<13:06,  3.68it/s]\u001b[A\u001b[A\n",
            "\n",
            " 17%|█▋        | 596/3486 [03:11<09:44,  4.94it/s]\u001b[A\u001b[A"
          ],
          "name": "stderr"
        },
        {
          "output_type": "stream",
          "text": [
            "608\n",
            "2798\n",
            "(1056, 70)\n",
            "70\n",
            "2799\n",
            "(3075, 116)\n",
            "116\n",
            "2800\n",
            "(1248, 74)\n",
            "74\n",
            "2802\n",
            "(8235, 228)\n",
            "228\n",
            "2803\n",
            "(912, 67)\n",
            "67\n",
            "2804\n",
            "(2565, 102)\n"
          ],
          "name": "stdout"
        },
        {
          "output_type": "stream",
          "text": [
            "\n",
            "\n",
            " 17%|█▋        | 601/3486 [03:11<07:09,  6.72it/s]\u001b[A\u001b[A\n",
            "\n",
            " 17%|█▋        | 605/3486 [03:11<05:23,  8.89it/s]\u001b[A\u001b[A"
          ],
          "name": "stderr"
        },
        {
          "output_type": "stream",
          "text": [
            "102\n",
            "2805\n",
            "(1584, 81)\n",
            "81\n",
            "2806\n",
            "(1320, 82)\n",
            "82\n",
            "2807\n",
            "(4500, 161)\n",
            "161\n",
            "2808\n",
            "(1440, 84)\n",
            "84\n",
            "2810\n",
            "(2070, 113)\n",
            "113\n",
            "2811\n",
            "(720, 63)\n",
            "63\n",
            "2813\n",
            "(6825, 170)\n",
            "170\n",
            "2814\n"
          ],
          "name": "stdout"
        },
        {
          "output_type": "stream",
          "text": [
            "\n",
            "\n",
            " 17%|█▋        | 608/3486 [03:11<04:38, 10.35it/s]\u001b[A\u001b[A"
          ],
          "name": "stderr"
        },
        {
          "output_type": "stream",
          "text": [
            "(7470, 211)\n",
            "211\n",
            "2815\n",
            "(6525, 162)\n",
            "162\n",
            "2816\n",
            "(2940, 109)\n",
            "109\n",
            "2817\n",
            "(25380, 741)\n"
          ],
          "name": "stdout"
        },
        {
          "output_type": "stream",
          "text": [
            "\n",
            "\n",
            " 18%|█▊        | 611/3486 [03:13<09:43,  4.93it/s]\u001b[A\u001b[A"
          ],
          "name": "stderr"
        },
        {
          "output_type": "stream",
          "text": [
            "741\n",
            "2818\n",
            "(2610, 103)\n",
            "103\n",
            "2819\n",
            "(7785, 218)\n",
            "218\n",
            "2820\n",
            "(1176, 73)\n",
            "73\n",
            "2822\n",
            "(768, 64)\n",
            "64\n",
            "2823\n",
            "(432, 57)\n",
            "57\n",
            "2824\n",
            "(3456, 132)\n",
            "132\n",
            "2826\n",
            "(660, 71)"
          ],
          "name": "stdout"
        },
        {
          "output_type": "stream",
          "text": [
            "\n",
            "\n",
            " 18%|█▊        | 617/3486 [03:13<07:04,  6.76it/s]\u001b[A\u001b[A\n",
            "\n",
            " 18%|█▊        | 621/3486 [03:13<05:18,  9.00it/s]\u001b[A\u001b[A"
          ],
          "name": "stderr"
        },
        {
          "output_type": "stream",
          "text": [
            "\n",
            "71\n",
            "2827\n",
            "(2600, 126)\n",
            "126\n",
            "2828\n",
            "(1200, 80)\n",
            "80\n",
            "2829\n",
            "(6300, 185)\n",
            "185\n",
            "2830\n",
            "(252, 43)\n",
            "43\n",
            "2831\n",
            "(240, 38)\n",
            "38\n",
            "2832\n",
            "(2835, 132)\n",
            "132\n",
            "2833\n",
            "(42864, 1227)\n",
            "1227\n",
            "2834\n",
            "(14994, 399)\n"
          ],
          "name": "stdout"
        },
        {
          "output_type": "stream",
          "text": [
            "\n",
            "\n",
            " 18%|█▊        | 625/3486 [03:17<19:02,  2.50it/s]\u001b[A\u001b[A\n",
            "\n",
            " 18%|█▊        | 629/3486 [03:17<13:42,  3.47it/s]\u001b[A\u001b[A"
          ],
          "name": "stderr"
        },
        {
          "output_type": "stream",
          "text": [
            "399\n",
            "2835\n",
            "(1200, 91)\n",
            "91\n",
            "2836\n",
            "(1536, 88)\n",
            "88\n",
            "2837\n",
            "(2325, 106)\n",
            "106\n",
            "2838\n",
            "(420, 67)\n",
            "67\n",
            "2839\n",
            "(5040, 146)\n",
            "146\n",
            "2840\n",
            "(576, 52)\n",
            "52\n",
            "2841\n",
            "(1440, 84)\n",
            "84\n",
            "2842\n",
            "(1218, 71)\n",
            "71\n",
            "2843\n"
          ],
          "name": "stdout"
        },
        {
          "output_type": "stream",
          "text": [
            "\n",
            "\n",
            " 18%|█▊        | 633/3486 [03:18<10:30,  4.53it/s]\u001b[A\u001b[A"
          ],
          "name": "stderr"
        },
        {
          "output_type": "stream",
          "text": [
            "(11968, 316)\n",
            "316\n",
            "2844\n",
            "(1620, 87)\n",
            "87\n",
            "2847\n",
            "(2250, 105)\n"
          ],
          "name": "stdout"
        },
        {
          "output_type": "stream",
          "text": [
            "\n",
            "\n",
            " 18%|█▊        | 637/3486 [03:18<07:48,  6.08it/s]\u001b[A\u001b[A"
          ],
          "name": "stderr"
        },
        {
          "output_type": "stream",
          "text": [
            "105\n",
            "2848\n",
            "(960, 76)\n",
            "76\n",
            "2849\n",
            "(5720, 183)\n",
            "183\n",
            "2850\n",
            "(675, 60)\n",
            "60\n",
            "2851\n",
            "(336, 38)\n",
            "38\n",
            "2852\n",
            "(396, 47)\n",
            "47\n",
            "2853\n",
            "(684, 55)\n",
            "55\n",
            "2854\n",
            "(936, 62)\n",
            "62\n",
            "2855\n",
            "(2580, 103)\n",
            "103\n",
            "2856\n",
            "(7896, 230)\n"
          ],
          "name": "stdout"
        },
        {
          "output_type": "stream",
          "text": [
            "\n",
            "\n",
            " 18%|█▊        | 644/3486 [03:18<05:51,  8.10it/s]\u001b[A\u001b[A"
          ],
          "name": "stderr"
        },
        {
          "output_type": "stream",
          "text": [
            "230\n",
            "2857\n",
            "(22572, 663)\n",
            "663\n",
            "2858\n",
            "(14535, 368)\n",
            "368\n",
            "2859\n",
            "(19698, 511)\n"
          ],
          "name": "stdout"
        },
        {
          "output_type": "stream",
          "text": [
            "\n",
            "\n",
            " 19%|█▊        | 647/3486 [03:20<12:50,  3.68it/s]\u001b[A\u001b[A\n",
            "\n",
            " 19%|█▉        | 654/3486 [03:20<09:12,  5.13it/s]\u001b[A\u001b[A"
          ],
          "name": "stderr"
        },
        {
          "output_type": "stream",
          "text": [
            "511\n",
            "2860\n",
            "(2088, 94)\n",
            "94\n",
            "2861\n",
            "(680, 57)\n",
            "57\n",
            "2862\n",
            "(2016, 92)\n",
            "92\n",
            "2863\n",
            "(1800, 90)\n",
            "90\n",
            "2864\n",
            "(330, 41)\n",
            "41\n",
            "2865\n",
            "(585, 58)\n",
            "58\n",
            "2867\n",
            "(2850, 113)\n",
            "113\n",
            "2868\n",
            "(270, 51)\n",
            "51\n",
            "2869\n",
            "(2232, 103)\n",
            "103\n",
            "2870\n",
            "(480, 68)\n",
            "68\n",
            "2871\n",
            "(1800, 90)\n",
            "90\n",
            "2872\n"
          ],
          "name": "stdout"
        },
        {
          "output_type": "stream",
          "text": [
            "\n",
            "\n",
            " 19%|█▉        | 660/3486 [03:20<06:53,  6.84it/s]\u001b[A\u001b[A"
          ],
          "name": "stderr"
        },
        {
          "output_type": "stream",
          "text": [
            "(855, 64)\n",
            "64\n",
            "2873\n",
            "(7740, 251)\n",
            "251\n",
            "2874\n",
            "(720, 72)\n",
            "72\n",
            "2875\n",
            "(216, 42)\n",
            "42\n",
            "2877\n",
            "(2700, 120)\n",
            "120\n",
            "2880\n",
            "(468, 49)\n",
            "49\n",
            "2881\n",
            "(44352, 1098)\n"
          ],
          "name": "stdout"
        },
        {
          "output_type": "stream",
          "text": [
            "\n",
            "\n",
            " 19%|█▉        | 665/3486 [03:24<14:53,  3.16it/s]\u001b[A\u001b[A"
          ],
          "name": "stderr"
        },
        {
          "output_type": "stream",
          "text": [
            "1098\n",
            "2882\n",
            "(792, 187)\n",
            "187\n",
            "2883\n",
            "(3960, 127)\n",
            "127\n",
            "2884\n",
            "(14208, 344)\n"
          ],
          "name": "stdout"
        },
        {
          "output_type": "stream",
          "text": [
            "\n",
            "\n",
            " 19%|█▉        | 668/3486 [03:24<12:05,  3.88it/s]\u001b[A\u001b[A\n",
            "\n",
            " 19%|█▉        | 671/3486 [03:24<08:59,  5.22it/s]\u001b[A\u001b[A"
          ],
          "name": "stderr"
        },
        {
          "output_type": "stream",
          "text": [
            "344\n",
            "2885\n",
            "(816, 65)\n",
            "65\n",
            "2886\n",
            "(900, 221)\n",
            "221\n",
            "2889\n",
            "(6345, 186)\n",
            "186\n",
            "2890\n",
            "(540, 57)\n",
            "57\n",
            "2891\n",
            "(882, 63)\n",
            "63\n",
            "2892\n",
            "(25740, 617)\n"
          ],
          "name": "stdout"
        },
        {
          "output_type": "stream",
          "text": [
            "\n",
            "\n",
            " 19%|█▉        | 674/3486 [03:25<11:11,  4.18it/s]\u001b[A\u001b[A\n",
            "\n",
            " 19%|█▉        | 677/3486 [03:25<08:23,  5.58it/s]\u001b[A\u001b[A"
          ],
          "name": "stderr"
        },
        {
          "output_type": "stream",
          "text": [
            "617\n",
            "2893\n",
            "(4050, 129)\n",
            "129\n",
            "2894\n",
            "(3750, 125)\n",
            "125\n",
            "2895\n",
            "(3636, 137)\n",
            "137\n",
            "2896\n",
            "(17424, 520)\n"
          ],
          "name": "stdout"
        },
        {
          "output_type": "stream",
          "text": [
            "\n",
            "\n",
            " 19%|█▉        | 679/3486 [03:26<10:08,  4.62it/s]\u001b[A\u001b[A"
          ],
          "name": "stderr"
        },
        {
          "output_type": "stream",
          "text": [
            "520\n",
            "2898\n",
            "(3816, 125)\n",
            "125\n",
            "2899\n",
            "(16425, 410)\n"
          ],
          "name": "stdout"
        },
        {
          "output_type": "stream",
          "text": [
            "\n",
            "\n",
            " 20%|█▉        | 681/3486 [03:26<09:55,  4.71it/s]\u001b[A\u001b[A"
          ],
          "name": "stderr"
        },
        {
          "output_type": "stream",
          "text": [
            "410\n",
            "2900\n",
            "(1768, 86)\n",
            "86\n",
            "2901\n",
            "(2295, 96)\n",
            "96\n",
            "2902\n",
            "(2340, 97)\n",
            "97\n",
            "2903\n",
            "(1860, 91)\n",
            "91\n",
            "2904\n",
            "(15570, 391)\n"
          ],
          "name": "stdout"
        },
        {
          "output_type": "stream",
          "text": [
            "\n",
            "\n",
            " 20%|█▉        | 685/3486 [03:27<08:20,  5.59it/s]\u001b[A\u001b[A"
          ],
          "name": "stderr"
        },
        {
          "output_type": "stream",
          "text": [
            "391\n",
            "2905\n",
            "(3300, 115)\n",
            "115\n",
            "2906\n",
            "(11295, 296)\n",
            "296\n"
          ],
          "name": "stdout"
        },
        {
          "output_type": "stream",
          "text": [
            "\n",
            "\n",
            " 20%|█▉        | 687/3486 [03:27<07:15,  6.43it/s]\u001b[A\u001b[A\n",
            "\n",
            " 20%|█▉        | 690/3486 [03:27<05:34,  8.36it/s]\u001b[A\u001b[A"
          ],
          "name": "stderr"
        },
        {
          "output_type": "stream",
          "text": [
            "2907\n",
            "(3600, 125)\n",
            "125\n",
            "2908\n",
            "(4365, 142)\n",
            "142\n",
            "2909\n",
            "(1740, 89)\n",
            "89\n",
            "2910\n",
            "(33768, 974)\n",
            "974\n",
            "2911\n",
            "(32292, 933)\n"
          ],
          "name": "stdout"
        },
        {
          "output_type": "stream",
          "text": [
            "\n",
            "\n",
            " 20%|█▉        | 692/3486 [03:31<30:58,  1.50it/s]\u001b[A\u001b[A"
          ],
          "name": "stderr"
        },
        {
          "output_type": "stream",
          "text": [
            "933\n",
            "2912\n",
            "(30744, 890)\n",
            "890\n",
            "2913\n",
            "(26964, 785)\n"
          ],
          "name": "stdout"
        },
        {
          "output_type": "stream",
          "text": [
            "\n",
            "\n",
            " 20%|█▉        | 694/3486 [03:34<43:17,  1.08it/s]\u001b[A\u001b[A"
          ],
          "name": "stderr"
        },
        {
          "output_type": "stream",
          "text": [
            "785\n",
            "2914\n",
            "(28728, 834)\n"
          ],
          "name": "stdout"
        },
        {
          "output_type": "stream",
          "text": [
            "\n",
            "\n",
            " 20%|█▉        | 695/3486 [03:36<51:37,  1.11s/it]\u001b[A\u001b[A\n",
            "\n",
            " 20%|██        | 702/3486 [03:36<36:20,  1.28it/s]\u001b[A\u001b[A"
          ],
          "name": "stderr"
        },
        {
          "output_type": "stream",
          "text": [
            "834\n",
            "2915\n",
            "(576, 60)\n",
            "60\n",
            "2916\n",
            "(800, 66)\n",
            "66\n",
            "2917\n",
            "(1740, 89)\n",
            "89\n",
            "2918\n",
            "(2880, 108)\n",
            "108\n",
            "2919\n",
            "(540, 51)\n",
            "51\n",
            "2920\n",
            "(720, 63)\n",
            "63\n",
            "2922\n",
            "(5805, 174)\n",
            "174\n",
            "2923\n"
          ],
          "name": "stdout"
        },
        {
          "output_type": "stream",
          "text": [
            "\n",
            "\n",
            " 20%|██        | 705/3486 [03:36<25:54,  1.79it/s]\u001b[A\u001b[A\n",
            "\n",
            " 20%|██        | 708/3486 [03:36<18:36,  2.49it/s]\u001b[A\u001b[A"
          ],
          "name": "stderr"
        },
        {
          "output_type": "stream",
          "text": [
            "(6090, 187)\n",
            "187\n",
            "2924\n",
            "(675, 60)\n",
            "60\n",
            "2925\n",
            "(1395, 76)\n",
            "76\n",
            "2926\n",
            "(2250, 105)\n",
            "105\n",
            "2927\n",
            "(468, 49)\n",
            "49\n",
            "2928\n",
            "(5004, 175)\n",
            "175\n",
            "2929\n",
            "(14976, 423)\n",
            "423\n",
            "2930\n",
            "(9810, 263)\n",
            "263\n",
            "2931\n",
            "(10648, 286)\n"
          ],
          "name": "stdout"
        },
        {
          "output_type": "stream",
          "text": [
            "\n",
            "\n",
            " 20%|██        | 711/3486 [03:37<16:18,  2.84it/s]\u001b[A\u001b[A"
          ],
          "name": "stderr"
        },
        {
          "output_type": "stream",
          "text": [
            "286\n",
            "2932\n",
            "(9720, 261)\n",
            "261\n",
            "2933\n",
            "(10530, 279)\n"
          ],
          "name": "stdout"
        },
        {
          "output_type": "stream",
          "text": [
            "\n",
            "\n",
            " 20%|██        | 713/3486 [03:37<13:35,  3.40it/s]\u001b[A\u001b[A\n",
            "\n",
            " 21%|██        | 715/3486 [03:37<10:45,  4.29it/s]\u001b[A\u001b[A"
          ],
          "name": "stderr"
        },
        {
          "output_type": "stream",
          "text": [
            "279\n",
            "2934\n",
            "(8460, 233)\n",
            "233\n",
            "2935\n",
            "(5355, 164)\n",
            "164\n",
            "2936\n"
          ],
          "name": "stdout"
        },
        {
          "output_type": "stream",
          "text": [
            "\n",
            "\n",
            " 21%|██        | 718/3486 [03:37<08:01,  5.75it/s]\u001b[A\u001b[A"
          ],
          "name": "stderr"
        },
        {
          "output_type": "stream",
          "text": [
            "(6120, 181)\n",
            "181\n",
            "2938\n",
            "(144, 30)\n",
            "30\n",
            "2939\n",
            "(2088, 101)\n",
            "101\n",
            "2940\n",
            "(10044, 315)\n"
          ],
          "name": "stdout"
        },
        {
          "output_type": "stream",
          "text": [
            "\n",
            "\n",
            " 21%|██        | 720/3486 [03:38<07:28,  6.16it/s]\u001b[A\u001b[A\n",
            "\n",
            " 21%|██        | 722/3486 [03:38<06:01,  7.64it/s]"
          ],
          "name": "stderr"
        },
        {
          "output_type": "stream",
          "text": [
            "315\n",
            "2941\n",
            "(5508, 189)\n",
            "189\n",
            "2942\n",
            "(5724, 195)\n",
            "195\n",
            "2943\n",
            "(3636, 137)\n",
            "137\n"
          ],
          "name": "stdout"
        },
        {
          "output_type": "stream",
          "text": [
            "\u001b[A\u001b[A\n",
            "\n",
            " 21%|██        | 725/3486 [03:38<04:47,  9.62it/s]\u001b[A\u001b[A"
          ],
          "name": "stderr"
        },
        {
          "output_type": "stream",
          "text": [
            "2945\n",
            "(3510, 129)\n",
            "129\n",
            "2946\n",
            "(4050, 135)\n",
            "135\n",
            "2947\n",
            "(3384, 119)\n",
            "119\n",
            "2948\n",
            "(972, 63)\n",
            "63\n",
            "2949\n",
            "(3264, 116)\n",
            "116\n",
            "2950\n",
            "(720, 56)\n",
            "56\n",
            "2951\n",
            "(3168, 124)\n",
            "124\n",
            "2952\n"
          ],
          "name": "stdout"
        },
        {
          "output_type": "stream",
          "text": [
            "\n",
            "\n",
            " 21%|██        | 730/3486 [03:38<03:37, 12.66it/s]\u001b[A\u001b[A\n",
            "\n",
            " 21%|██        | 734/3486 [03:38<02:56, 15.62it/s]\u001b[A\u001b[A"
          ],
          "name": "stderr"
        },
        {
          "output_type": "stream",
          "text": [
            "(1044, 65)\n",
            "65\n",
            "2953\n",
            "(1332, 73)\n",
            "73\n",
            "2954\n",
            "(2052, 93)\n",
            "93\n",
            "2955\n",
            "(4536, 150)\n",
            "150\n",
            "2956\n",
            "(2160, 96)\n",
            "96\n",
            "2957\n",
            "(432, 48)\n",
            "48\n",
            "2958\n",
            "(900, 75)\n",
            "75\n",
            "2960\n",
            "(48480, 1058)\n"
          ],
          "name": "stdout"
        },
        {
          "output_type": "stream",
          "text": [
            "\n",
            "\n",
            " 21%|██        | 737/3486 [03:42<19:06,  2.40it/s]\u001b[A\u001b[A"
          ],
          "name": "stderr"
        },
        {
          "output_type": "stream",
          "text": [
            "1058\n",
            "2961\n",
            "(40968, 1174)\n",
            "1174\n",
            "2962\n",
            "(18225, 450)\n"
          ],
          "name": "stdout"
        },
        {
          "output_type": "stream",
          "text": [
            "\n",
            "\n",
            " 21%|██        | 740/3486 [03:46<31:21,  1.46it/s]\u001b[A\u001b[A\n",
            "\n",
            " 21%|██▏       | 745/3486 [03:46<22:23,  2.04it/s]\u001b[A\u001b[A"
          ],
          "name": "stderr"
        },
        {
          "output_type": "stream",
          "text": [
            "450\n",
            "2963\n",
            "(648, 54)\n",
            "54\n",
            "2964\n",
            "(528, 59)\n",
            "59\n",
            "2965\n",
            "(2040, 94)\n",
            "94\n",
            "2966\n",
            "(450, 55)\n",
            "55\n",
            "2967\n",
            "(450, 55)\n",
            "55\n",
            "2968\n",
            "(8244, 265)\n",
            "265\n"
          ],
          "name": "stdout"
        },
        {
          "output_type": "stream",
          "text": [
            "\n",
            "\n",
            " 21%|██▏       | 747/3486 [03:46<16:23,  2.78it/s]\u001b[A\u001b[A"
          ],
          "name": "stderr"
        },
        {
          "output_type": "stream",
          "text": [
            "2969\n",
            "(5724, 195)\n",
            "195\n",
            "2971\n",
            "(1008, 69)\n",
            "69\n",
            "2972\n",
            "(7770, 227)\n",
            "227\n",
            "2973\n"
          ],
          "name": "stdout"
        },
        {
          "output_type": "stream",
          "text": [
            "\n",
            "\n",
            " 21%|██▏       | 749/3486 [03:46<13:03,  3.49it/s]\u001b[A\u001b[A"
          ],
          "name": "stderr"
        },
        {
          "output_type": "stream",
          "text": [
            "(8232, 238)\n",
            "238\n",
            "2974\n",
            "(10626, 295)\n"
          ],
          "name": "stdout"
        },
        {
          "output_type": "stream",
          "text": [
            "\n",
            "\n",
            " 22%|██▏       | 751/3486 [03:46<11:05,  4.11it/s]\u001b[A\u001b[A"
          ],
          "name": "stderr"
        },
        {
          "output_type": "stream",
          "text": [
            "295\n",
            "2975\n",
            "(8190, 237)\n",
            "237\n",
            "2976\n",
            "(7182, 213)\n",
            "213\n",
            "2977\n"
          ],
          "name": "stdout"
        },
        {
          "output_type": "stream",
          "text": [
            "\n",
            "\n",
            " 22%|██▏       | 753/3486 [03:47<08:56,  5.09it/s]\u001b[A\u001b[A"
          ],
          "name": "stderr"
        },
        {
          "output_type": "stream",
          "text": [
            "(7056, 210)\n",
            "210\n",
            "2978\n",
            "(1020, 77)\n",
            "77\n",
            "2979\n",
            "(1800, 90)\n",
            "90\n",
            "3015\n",
            "(2340, 97)\n",
            "97\n",
            "3016\n",
            "(396, 47)\n",
            "47\n",
            "3017\n",
            "(1080, 78)\n",
            "78\n",
            "3018\n",
            "(936, 62)\n",
            "62\n",
            "3019\n",
            "(9540, 301)\n"
          ],
          "name": "stdout"
        },
        {
          "output_type": "stream",
          "text": [
            "\n",
            "\n",
            " 22%|██▏       | 760/3486 [03:47<06:44,  6.74it/s]\u001b[A\u001b[A\n",
            "\n",
            " 22%|██▏       | 762/3486 [03:47<05:30,  8.24it/s]\u001b[A\u001b[A"
          ],
          "name": "stderr"
        },
        {
          "output_type": "stream",
          "text": [
            "301\n",
            "3020\n",
            "(7596, 247)\n",
            "247\n",
            "3021\n",
            "(468, 49)\n",
            "49\n",
            "3023\n",
            "(2520, 106)\n",
            "106\n",
            "3024\n",
            "(5025, 142)\n",
            "142\n",
            "3025\n",
            "(1260, 71)\n"
          ],
          "name": "stdout"
        },
        {
          "output_type": "stream",
          "text": [
            "\n",
            "\n",
            " 22%|██▏       | 766/3486 [03:47<04:18, 10.52it/s]\u001b[A\u001b[A\n",
            "\n",
            " 22%|██▏       | 769/3486 [03:47<03:30, 12.90it/s]\u001b[A\u001b[A"
          ],
          "name": "stderr"
        },
        {
          "output_type": "stream",
          "text": [
            "71\n",
            "3026\n",
            "(3780, 141)\n",
            "141\n",
            "3027\n",
            "(4815, 152)\n",
            "152\n",
            "3028\n",
            "(1980, 93)\n",
            "93\n",
            "3029\n",
            "(1920, 88)\n",
            "88\n",
            "3031\n",
            "(1980, 91)\n",
            "91\n",
            "3032\n",
            "(18108, 539)\n"
          ],
          "name": "stdout"
        },
        {
          "output_type": "stream",
          "text": [
            "\n",
            "\n",
            " 22%|██▏       | 772/3486 [03:48<05:08,  8.80it/s]\u001b[A\u001b[A\n",
            "\n",
            " 22%|██▏       | 774/3486 [03:48<04:46,  9.45it/s]"
          ],
          "name": "stderr"
        },
        {
          "output_type": "stream",
          "text": [
            "539\n",
            "3033\n",
            "(1296, 75)\n",
            "75\n",
            "3034\n",
            "(9432, 298)\n",
            "298\n",
            "3035\n",
            "(675, 60)\n",
            "60\n"
          ],
          "name": "stdout"
        },
        {
          "output_type": "stream",
          "text": [
            "\u001b[A\u001b[A\n",
            "\n",
            " 22%|██▏       | 779/3486 [03:48<03:52, 11.67it/s]\u001b[A\u001b[A"
          ],
          "name": "stderr"
        },
        {
          "output_type": "stream",
          "text": [
            "3036\n",
            "(3780, 129)\n",
            "129\n",
            "3037\n",
            "(540, 51)\n",
            "51\n",
            "3038\n",
            "(1485, 78)\n",
            "78\n",
            "3039\n",
            "(1920, 92)\n",
            "92\n",
            "3040\n",
            "(8595, 236)\n",
            "236\n",
            "3041\n"
          ],
          "name": "stdout"
        },
        {
          "output_type": "stream",
          "text": [
            "\n",
            "\n",
            " 22%|██▏       | 781/3486 [03:48<03:52, 11.65it/s]\u001b[A\u001b[A"
          ],
          "name": "stderr"
        },
        {
          "output_type": "stream",
          "text": [
            "(4140, 129)\n",
            "129\n",
            "3044\n",
            "(9120, 268)\n",
            "268\n",
            "3045\n",
            "(840, 62)\n",
            "62\n",
            "3046\n",
            "(3600, 130)\n",
            "130\n",
            "3047\n"
          ],
          "name": "stdout"
        },
        {
          "output_type": "stream",
          "text": [
            "\n",
            "\n",
            " 23%|██▎       | 786/3486 [03:49<03:23, 13.28it/s]"
          ],
          "name": "stderr"
        },
        {
          "output_type": "stream",
          "text": [
            "(240, 53)\n",
            "53\n",
            "3048\n",
            "(480, 58)\n",
            "58\n",
            "3049\n",
            "(10476, 327)\n",
            "327\n"
          ],
          "name": "stdout"
        },
        {
          "output_type": "stream",
          "text": [
            "\u001b[A\u001b[A"
          ],
          "name": "stderr"
        },
        {
          "output_type": "stream",
          "text": [
            "3050\n",
            "(1404, 75)\n",
            "75\n",
            "3051\n",
            "(1008, 64)\n",
            "64\n",
            "3053\n",
            "(936, 62)\n",
            "62\n",
            "3054\n",
            "(2790, 107)\n",
            "107\n",
            "3055\n",
            "(720, 56)\n",
            "56\n",
            "3056\n",
            "(468, 49)\n",
            "49\n",
            "3057\n",
            "(576, 52)\n",
            "52\n",
            "3059\n",
            "(13950, 495)\n"
          ],
          "name": "stdout"
        },
        {
          "output_type": "stream",
          "text": [
            "\n",
            "\n",
            " 23%|██▎       | 794/3486 [03:49<03:12, 14.00it/s]\u001b[A\u001b[A"
          ],
          "name": "stderr"
        },
        {
          "output_type": "stream",
          "text": [
            "495\n",
            "3060\n",
            "(672, 62)\n",
            "62\n",
            "3061\n",
            "(540, 51)\n",
            "51\n",
            "3062\n",
            "(2628, 109)\n",
            "109\n",
            "3063\n",
            "(3240, 126)\n",
            "126\n",
            "3064\n",
            "(15372, 454)\n"
          ],
          "name": "stdout"
        },
        {
          "output_type": "stream",
          "text": [
            "\n",
            "\n",
            " 23%|██▎       | 799/3486 [03:50<03:28, 12.88it/s]\u001b[A\u001b[A\n",
            "\n",
            " 23%|██▎       | 802/3486 [03:50<02:55, 15.31it/s]\u001b[A\u001b[A"
          ],
          "name": "stderr"
        },
        {
          "output_type": "stream",
          "text": [
            "454\n",
            "3066\n",
            "(1224, 70)\n",
            "70\n",
            "3067\n",
            "(2160, 96)\n",
            "96\n",
            "3068\n",
            "(6345, 182)\n",
            "182\n",
            "3069\n",
            "(6930, 199)\n",
            "199\n",
            "3070\n",
            "(152496, 1742)\n"
          ],
          "name": "stdout"
        },
        {
          "output_type": "stream",
          "text": [
            "\n",
            "\n",
            " 23%|██▎       | 802/3486 [04:02<02:55, 15.31it/s]\u001b[A\u001b[A\n",
            "\n",
            " 23%|██▎       | 804/3486 [04:10<2:18:38,  3.10s/it]\u001b[A\u001b[A\n",
            "\n",
            " 23%|██▎       | 808/3486 [04:10<1:37:20,  2.18s/it]\u001b[A\u001b[A"
          ],
          "name": "stderr"
        },
        {
          "output_type": "stream",
          "text": [
            "1742\n",
            "3071\n",
            "(1836, 136)\n",
            "136\n",
            "3072\n",
            "(945, 66)\n",
            "66\n",
            "3073\n",
            "(3480, 118)\n",
            "118\n",
            "3074\n",
            "(5535, 168)\n",
            "168\n",
            "3075\n",
            "(2850, 113)\n",
            "113\n",
            "3078\n",
            "(1680, 88)\n",
            "88\n",
            "3079\n",
            "(1440, 84)\n",
            "84\n",
            "3080\n",
            "(672, 58)\n",
            "58\n",
            "3081\n",
            "(13995, 356)\n"
          ],
          "name": "stdout"
        },
        {
          "output_type": "stream",
          "text": [
            "\n",
            "\n",
            " 23%|██▎       | 813/3486 [04:11<1:08:59,  1.55s/it]\u001b[A\u001b[A\n",
            "\n",
            " 23%|██▎       | 818/3486 [04:11<48:34,  1.09s/it]  \u001b[A\u001b[A"
          ],
          "name": "stderr"
        },
        {
          "output_type": "stream",
          "text": [
            "356\n",
            "3082\n",
            "(3600, 130)\n",
            "130\n",
            "3083\n",
            "(216, 42)\n",
            "42\n",
            "3084\n",
            "(2820, 107)\n",
            "107\n",
            "3085\n",
            "(540, 51)\n",
            "51\n",
            "3086\n",
            "(4770, 143)\n",
            "143\n",
            "3087\n",
            "(216, 42)\n",
            "42\n",
            "3088\n",
            "(4500, 145)\n",
            "145\n",
            "3089"
          ],
          "name": "stdout"
        },
        {
          "output_type": "stream",
          "text": [
            "\n",
            "\n",
            " 24%|██▎       | 824/3486 [04:11<34:09,  1.30it/s]\u001b[A\u001b[A\n",
            "\n",
            " 24%|██▍       | 829/3486 [04:11<24:10,  1.83it/s]\u001b[A\u001b[A"
          ],
          "name": "stderr"
        },
        {
          "output_type": "stream",
          "text": [
            "\n",
            "(528, 46)\n",
            "46\n",
            "3090\n",
            "(1512, 78)\n",
            "78\n",
            "3091\n",
            "(1200, 80)\n",
            "80\n",
            "3093\n",
            "(360, 46)\n",
            "46\n",
            "3094\n",
            "(504, 50)\n",
            "50\n",
            "3095\n",
            "(2160, 102)\n",
            "102\n",
            "3096\n",
            "(360, 46)\n",
            "46\n",
            "3097\n",
            "(360, 46)\n",
            "46\n",
            "3099\n",
            "(6660, 164)\n",
            "164\n",
            "3100\n",
            "(2400, 100)\n",
            "100\n",
            "3103\n",
            "(1260, 71)\n"
          ],
          "name": "stdout"
        },
        {
          "output_type": "stream",
          "text": [
            "\n",
            "\n",
            " 24%|██▍       | 835/3486 [04:11<17:07,  2.58it/s]\u001b[A\u001b[A\n",
            "\n",
            " 24%|██▍       | 840/3486 [04:11<12:18,  3.59it/s]\u001b[A\u001b[A"
          ],
          "name": "stderr"
        },
        {
          "output_type": "stream",
          "text": [
            "71\n",
            "3104\n",
            "(1380, 83)\n",
            "83\n",
            "3106\n",
            "(855, 64)\n",
            "64\n",
            "3107\n",
            "(1764, 85)\n",
            "85\n",
            "3108\n",
            "(1800, 86)\n",
            "86\n",
            "3109\n",
            "(1584, 80)\n",
            "80\n",
            "3110\n",
            "(1620, 87)\n",
            "87\n",
            "3111\n",
            "(720, 61)\n",
            "61\n",
            "3113\n",
            "(1740, 89)\n",
            "89\n",
            "3115\n",
            "(5580, 169)\n",
            "169\n",
            "3116\n",
            "(11115, 292)\n",
            "292\n",
            "3117\n",
            "(11025, 290)\n"
          ],
          "name": "stdout"
        },
        {
          "output_type": "stream",
          "text": [
            "\n",
            "\n",
            " 24%|██▍       | 844/3486 [04:12<09:50,  4.48it/s]\u001b[A\u001b[A\n",
            "\n",
            " 24%|██▍       | 848/3486 [04:12<07:18,  6.02it/s]\u001b[A\u001b[A"
          ],
          "name": "stderr"
        },
        {
          "output_type": "stream",
          "text": [
            "290\n",
            "3119\n",
            "(900, 65)\n",
            "65\n",
            "3120\n",
            "(1428, 76)\n",
            "76\n",
            "3121\n",
            "(1728, 84)\n",
            "84\n",
            "3122\n",
            "(1152, 152)\n",
            "152\n",
            "3123\n",
            "(4464, 160)\n",
            "160\n",
            "3124\n",
            "(3060, 111)\n",
            "111\n",
            "3125\n",
            "(1824, 86)\n",
            "86\n",
            "3126\n",
            "(2700, 111)\n"
          ],
          "name": "stdout"
        },
        {
          "output_type": "stream",
          "text": [
            "\n",
            "\n",
            " 24%|██▍       | 852/3486 [04:12<05:31,  7.95it/s]\u001b[A\u001b[A"
          ],
          "name": "stderr"
        },
        {
          "output_type": "stream",
          "text": [
            "111\n",
            "3127\n",
            "(5130, 159)\n",
            "159\n",
            "3130\n",
            "(2196, 133)\n",
            "133\n",
            "3131\n",
            "(1260, 71)\n",
            "71\n",
            "3132\n",
            "(3465, 138)\n",
            "138\n",
            "3133\n",
            "(2565, 102)\n",
            "102\n",
            "3134\n",
            "(1320, 82)\n",
            "82\n",
            "3135\n",
            "(49995, 832)\n"
          ],
          "name": "stdout"
        },
        {
          "output_type": "stream",
          "text": [
            "\n",
            "\n",
            " 25%|██▍       | 857/3486 [04:14<09:54,  4.42it/s]\u001b[A\u001b[A"
          ],
          "name": "stderr"
        },
        {
          "output_type": "stream",
          "text": [
            "832\n",
            "3136\n",
            "(77523, 1092)\n",
            "1092\n",
            "3137\n",
            "(14868, 355)\n",
            "355\n",
            "3138\n",
            "(14112, 366)\n"
          ],
          "name": "stdout"
        },
        {
          "output_type": "stream",
          "text": [
            "\n",
            "\n",
            " 25%|██▍       | 860/3486 [04:20<33:40,  1.30it/s]\u001b[A\u001b[A"
          ],
          "name": "stderr"
        },
        {
          "output_type": "stream",
          "text": [
            "366\n",
            "3139\n",
            "(51444, 832)\n",
            "832\n",
            "3140\n",
            "(53064, 1011)\n"
          ],
          "name": "stdout"
        },
        {
          "output_type": "stream",
          "text": [
            "\n",
            "\n",
            " 25%|██▍       | 862/3486 [04:26<1:02:31,  1.43s/it]\u001b[A\u001b[A"
          ],
          "name": "stderr"
        },
        {
          "output_type": "stream",
          "text": [
            "1011\n",
            "3141\n",
            "(2948, 111)\n",
            "111\n",
            "3142\n",
            "(49056, 872)\n"
          ],
          "name": "stdout"
        },
        {
          "output_type": "stream",
          "text": [
            "\n",
            "\n",
            " 25%|██▍       | 864/3486 [04:29<1:00:15,  1.38s/it]\u001b[A\u001b[A"
          ],
          "name": "stderr"
        },
        {
          "output_type": "stream",
          "text": [
            "872\n",
            "3143\n",
            "(17775, 312)\n"
          ],
          "name": "stdout"
        },
        {
          "output_type": "stream",
          "text": [
            "\n",
            "\n",
            " 25%|██▍       | 865/3486 [04:29<45:51,  1.05s/it]  \u001b[A\u001b[A\n",
            "\n",
            " 25%|██▍       | 868/3486 [04:29<32:40,  1.34it/s]\u001b[A\u001b[A"
          ],
          "name": "stderr"
        },
        {
          "output_type": "stream",
          "text": [
            "312\n",
            "3145\n",
            "(2700, 309)\n",
            "309\n",
            "3146\n",
            "(1620, 81)\n",
            "81\n",
            "3147\n",
            "(5580, 169)\n",
            "169\n",
            "3148\n",
            "(1395, 76)\n",
            "76\n",
            "3149\n",
            "(2340, 116)\n",
            "116\n",
            "3150\n"
          ],
          "name": "stdout"
        },
        {
          "output_type": "stream",
          "text": [
            "\n",
            "\n",
            " 25%|██▍       | 871/3486 [04:29<23:18,  1.87it/s]\u001b[A\u001b[A\n",
            "\n",
            " 25%|██▌       | 874/3486 [04:29<16:55,  2.57it/s]\u001b[A\u001b[A"
          ],
          "name": "stderr"
        },
        {
          "output_type": "stream",
          "text": [
            "(3780, 141)\n",
            "141\n",
            "3151\n",
            "(2124, 95)\n",
            "95\n",
            "3152\n",
            "(1944, 90)\n",
            "90\n",
            "3154\n",
            "(6216, 289)\n",
            "289\n",
            "3155\n"
          ],
          "name": "stdout"
        },
        {
          "output_type": "stream",
          "text": [
            "\n",
            "\n",
            " 25%|██▌       | 876/3486 [04:29<12:33,  3.47it/s]\u001b[A\u001b[A"
          ],
          "name": "stderr"
        },
        {
          "output_type": "stream",
          "text": [
            "(8000, 240)\n",
            "240\n",
            "3156\n",
            "(360, 46)\n",
            "46\n",
            "3157\n",
            "(675, 60)\n",
            "60\n",
            "3158\n",
            "(1020, 77)\n",
            "77\n",
            "3159\n",
            "(432, 48)\n",
            "48\n",
            "3160\n",
            "(1080, 69)\n",
            "69\n",
            "3161\n",
            "(9864, 310)\n"
          ],
          "name": "stdout"
        },
        {
          "output_type": "stream",
          "text": [
            "\n",
            "\n",
            " 25%|██▌       | 881/3486 [04:30<09:17,  4.67it/s]\u001b[A\u001b[A\n",
            "\n",
            " 25%|██▌       | 886/3486 [04:30<06:47,  6.38it/s]\u001b[A\u001b[A"
          ],
          "name": "stderr"
        },
        {
          "output_type": "stream",
          "text": [
            "310\n",
            "3162\n",
            "(1995, 192)\n",
            "192\n",
            "3163\n",
            "(1260, 187)\n",
            "187\n",
            "3164\n",
            "(180, 41)\n",
            "41\n",
            "3165\n",
            "(1296, 72)\n",
            "72\n",
            "3166\n",
            "(4116, 140)\n",
            "140\n",
            "3167\n",
            "(2550, 109)\n",
            "109\n",
            "3168\n",
            "(990, 67)\n",
            "67\n",
            "3169\n",
            "(1980, 112)\n",
            "112\n",
            "3170\n",
            "(1530, 79)\n",
            "79\n",
            "3171\n",
            "(576, 60)\n",
            "60\n",
            "3172"
          ],
          "name": "stdout"
        },
        {
          "output_type": "stream",
          "text": [
            "\n",
            "\n",
            " 26%|██▌       | 894/3486 [04:30<04:54,  8.80it/s]\u001b[A\u001b[A\n",
            "\n",
            " 26%|██▌       | 899/3486 [04:30<03:51, 11.19it/s]\u001b[A\u001b[A"
          ],
          "name": "stderr"
        },
        {
          "output_type": "stream",
          "text": [
            "\n",
            "(918, 71)\n",
            "71\n",
            "3173\n",
            "(336, 38)\n",
            "38\n",
            "3174\n",
            "(288, 44)\n",
            "44\n",
            "3175\n",
            "(1740, 89)\n",
            "89\n",
            "3176\n",
            "(5580, 152)\n",
            "152\n",
            "3177\n",
            "(6200, 195)\n",
            "195\n",
            "3179\n",
            "(720, 63)\n",
            "63\n",
            "3180\n",
            "(420, 52)\n",
            "52\n",
            "3181\n",
            "(1056, 70)\n"
          ],
          "name": "stdout"
        },
        {
          "output_type": "stream",
          "text": [
            "\n",
            "\n",
            " 26%|██▌       | 903/3486 [04:30<03:09, 13.64it/s]\u001b[A\u001b[A"
          ],
          "name": "stderr"
        },
        {
          "output_type": "stream",
          "text": [
            "70\n",
            "3182\n",
            "(864, 66)\n",
            "66\n",
            "3183\n",
            "(960, 68)\n",
            "68\n",
            "3184\n",
            "(7524, 245)\n",
            "245\n",
            "3185\n",
            "(8064, 260)\n"
          ],
          "name": "stdout"
        },
        {
          "output_type": "stream",
          "text": [
            "\n",
            "\n",
            " 26%|██▌       | 907/3486 [04:30<02:46, 15.52it/s]\u001b[A\u001b[A"
          ],
          "name": "stderr"
        },
        {
          "output_type": "stream",
          "text": [
            "260\n",
            "3186\n",
            "(1488, 79)\n",
            "79\n",
            "3187\n",
            "(990, 73)\n",
            "73\n",
            "3188\n",
            "(3120, 112)\n",
            "112\n",
            "3190\n",
            "(3900, 127)\n",
            "127\n",
            "3191\n",
            "(8272, 232)\n",
            "232\n",
            "3192\n"
          ],
          "name": "stdout"
        },
        {
          "output_type": "stream",
          "text": [
            "\n",
            "\n",
            " 26%|██▌       | 911/3486 [04:31<02:31, 16.99it/s]\u001b[A\u001b[A"
          ],
          "name": "stderr"
        },
        {
          "output_type": "stream",
          "text": [
            "(3975, 128)\n",
            "128\n",
            "3193\n",
            "(540, 69)\n",
            "69\n",
            "3194\n",
            "(1276, 73)\n",
            "73\n",
            "3195\n",
            "(1908, 89)\n",
            "89\n",
            "3196\n",
            "(2880, 108)\n",
            "108\n",
            "3198\n",
            "(1710, 83)\n",
            "83\n",
            "3199\n",
            "(2160, 96)\n",
            "96\n",
            "3200\n",
            "(8532, 187)\n"
          ],
          "name": "stdout"
        },
        {
          "output_type": "stream",
          "text": [
            "\n",
            "\n",
            " 26%|██▋       | 917/3486 [04:31<02:08, 20.02it/s]\u001b[A\u001b[A"
          ],
          "name": "stderr"
        },
        {
          "output_type": "stream",
          "text": [
            "187\n",
            "3201\n",
            "(966, 65)\n",
            "65\n",
            "3202\n",
            "(12555, 356)\n"
          ],
          "name": "stdout"
        },
        {
          "output_type": "stream",
          "text": [
            "\n",
            "\n",
            " 26%|██▋       | 921/3486 [04:31<02:28, 17.23it/s]\u001b[A\u001b[A\n",
            "\n",
            " 27%|██▋       | 927/3486 [04:31<01:57, 21.81it/s]\u001b[A\u001b[A"
          ],
          "name": "stderr"
        },
        {
          "output_type": "stream",
          "text": [
            "356\n",
            "3203\n",
            "(1260, 71)\n",
            "71\n",
            "3206\n",
            "(2760, 106)\n",
            "106\n",
            "3211\n",
            "(2196, 97)\n",
            "97\n",
            "3212\n",
            "(2016, 90)\n",
            "90\n",
            "3213\n",
            "(2460, 101)\n",
            "101\n",
            "3214\n",
            "(528, 59)\n",
            "59\n",
            "3215\n",
            "(780, 73)\n",
            "73\n",
            "3216\n",
            "(1872, 87)\n",
            "87\n",
            "3217\n",
            "(17424, 520)\n"
          ],
          "name": "stdout"
        },
        {
          "output_type": "stream",
          "text": [
            "\n",
            "\n",
            " 27%|██▋       | 931/3486 [04:32<03:04, 13.83it/s]\u001b[A\u001b[A\n",
            "\n",
            " 27%|██▋       | 934/3486 [04:32<02:43, 15.64it/s]\u001b[A\u001b[A"
          ],
          "name": "stderr"
        },
        {
          "output_type": "stream",
          "text": [
            "520\n",
            "3219\n",
            "(2592, 102)\n",
            "102\n",
            "3220\n",
            "(630, 59)\n",
            "59\n",
            "3221\n",
            "(324, 45)\n",
            "45\n",
            "3223\n",
            "(7020, 231)\n",
            "231\n",
            "3225\n",
            "(1980, 89)\n",
            "89\n",
            "3226\n",
            "(840, 74)\n",
            "74\n",
            "3227\n",
            "(2175, 104)\n",
            "104\n",
            "3228\n",
            "(11520, 301)\n"
          ],
          "name": "stdout"
        },
        {
          "output_type": "stream",
          "text": [
            "\n",
            "\n",
            " 27%|██▋       | 937/3486 [04:32<03:14, 13.12it/s]\u001b[A\u001b[A"
          ],
          "name": "stderr"
        },
        {
          "output_type": "stream",
          "text": [
            "301\n",
            "3229\n",
            "(6600, 163)\n",
            "163\n",
            "3230\n",
            "(1140, 79)\n",
            "79\n",
            "3231\n",
            "(1320, 83)\n",
            "83\n",
            "3232\n",
            "(29304, 504)\n"
          ],
          "name": "stdout"
        },
        {
          "output_type": "stream",
          "text": [
            "\n",
            "\n",
            " 27%|██▋       | 940/3486 [04:33<05:32,  7.66it/s]\u001b[A\u001b[A\n",
            "\n",
            " 27%|██▋       | 946/3486 [04:33<04:05, 10.36it/s]\u001b[A\u001b[A"
          ],
          "name": "stderr"
        },
        {
          "output_type": "stream",
          "text": [
            "504\n",
            "3233\n",
            "(192, 52)\n",
            "52\n",
            "3234\n",
            "(1056, 70)\n",
            "70\n",
            "3235\n",
            "(1725, 98)\n",
            "98\n",
            "3236\n",
            "(2232, 103)\n",
            "103\n",
            "3237\n",
            "(1500, 85)\n",
            "85\n",
            "3238\n",
            "(1368, 122)\n",
            "122\n",
            "3239\n",
            "(1440, 78)\n",
            "78\n",
            "3242\n",
            "(828, 59)\n",
            "59\n",
            "3246\n",
            "(6660, 221)\n"
          ],
          "name": "stdout"
        },
        {
          "output_type": "stream",
          "text": [
            "\n",
            "\n",
            " 27%|██▋       | 949/3486 [04:33<03:24, 12.41it/s]\u001b[A\u001b[A\n",
            "\n",
            " 27%|██▋       | 952/3486 [04:33<03:08, 13.42it/s]\u001b[A\u001b[A"
          ],
          "name": "stderr"
        },
        {
          "output_type": "stream",
          "text": [
            "221\n",
            "3247\n",
            "(7056, 232)\n",
            "232\n",
            "3248\n",
            "(2340, 193)\n",
            "193\n",
            "3249\n",
            "(4230, 204)\n",
            "204\n",
            "3250\n",
            "(912, 67)\n"
          ],
          "name": "stdout"
        },
        {
          "output_type": "stream",
          "text": [
            "\n",
            "\n",
            " 27%|██▋       | 958/3486 [04:33<02:26, 17.30it/s]\u001b[A\u001b[A"
          ],
          "name": "stderr"
        },
        {
          "output_type": "stream",
          "text": [
            "67\n",
            "3251\n",
            "(2680, 107)\n",
            "107\n",
            "3252\n",
            "(1680, 88)\n",
            "88\n",
            "3253\n",
            "(720, 72)\n",
            "72\n",
            "3254\n",
            "(1260, 71)\n",
            "71\n",
            "3255\n",
            "(1944, 90)\n",
            "90\n",
            "3256\n",
            "(3708, 139)\n",
            "139\n",
            "3257\n",
            "(5220, 161)\n",
            "161\n",
            "3258\n",
            "(4068, 167)\n"
          ],
          "name": "stdout"
        },
        {
          "output_type": "stream",
          "text": [
            "\n",
            "\n",
            " 28%|██▊       | 962/3486 [04:34<02:12, 19.06it/s]\u001b[A\u001b[A\n",
            "\n",
            " 28%|██▊       | 968/3486 [04:34<01:50, 22.89it/s]\u001b[A\u001b[A"
          ],
          "name": "stderr"
        },
        {
          "output_type": "stream",
          "text": [
            "167\n",
            "3259\n",
            "(450, 55)\n",
            "55\n",
            "3260\n",
            "(420, 67)\n",
            "67\n",
            "3261\n",
            "(1440, 84)\n",
            "84\n",
            "3262\n",
            "(960, 76)\n",
            "76\n",
            "3264\n",
            "(294, 49)\n",
            "49\n",
            "3265\n",
            "(1692, 83)\n",
            "83\n",
            "3266\n",
            "(6840, 197)\n",
            "197\n",
            "3267\n",
            "(6390, 187)\n"
          ],
          "name": "stdout"
        },
        {
          "output_type": "stream",
          "text": [
            "\n",
            "\n",
            " 28%|██▊       | 972/3486 [04:34<02:00, 20.94it/s]\u001b[A\u001b[A"
          ],
          "name": "stderr"
        },
        {
          "output_type": "stream",
          "text": [
            "187\n",
            "3268\n",
            "(1056, 116)\n",
            "116\n",
            "3269\n",
            "(6660, 244)\n",
            "244\n",
            "3270\n",
            "(2700, 111)\n",
            "111\n",
            "3271\n",
            "(4050, 135)\n",
            "135\n",
            "3272\n",
            "(3240, 117)\n",
            "117\n",
            "3273\n",
            "(21465, 460)\n"
          ],
          "name": "stdout"
        },
        {
          "output_type": "stream",
          "text": [
            "\n",
            "\n",
            " 28%|██▊       | 975/3486 [04:35<04:08, 10.11it/s]\u001b[A\u001b[A\n",
            "\n",
            " 28%|██▊       | 981/3486 [04:35<03:06, 13.42it/s]\u001b[A\u001b[A"
          ],
          "name": "stderr"
        },
        {
          "output_type": "stream",
          "text": [
            "460\n",
            "3274\n",
            "(990, 67)\n",
            "67\n",
            "3276\n",
            "(1344, 76)\n",
            "76\n",
            "3278\n",
            "(2556, 107)\n",
            "107\n",
            "3279\n",
            "(432, 78)\n",
            "78\n",
            "3280\n",
            "(1020, 64)\n",
            "64\n",
            "3281\n",
            "(2790, 121)\n",
            "121\n",
            "3282\n",
            "(4050, 135)\n",
            "135\n",
            "3283\n",
            "(1080, 79)\n",
            "79\n",
            "3284\n",
            "(4680, 142)\n"
          ],
          "name": "stdout"
        },
        {
          "output_type": "stream",
          "text": [
            "\n",
            "\n",
            " 28%|██▊       | 985/3486 [04:35<02:33, 16.30it/s]\u001b[A\u001b[A\n",
            "\n",
            " 28%|██▊       | 992/3486 [04:35<02:00, 20.65it/s]\u001b[A\u001b[A"
          ],
          "name": "stderr"
        },
        {
          "output_type": "stream",
          "text": [
            "142\n",
            "3285\n",
            "(1824, 86)\n",
            "86\n",
            "3286\n",
            "(315, 52)\n",
            "52\n",
            "3287\n",
            "(1200, 70)\n",
            "70\n",
            "3288\n",
            "(768, 64)\n",
            "64\n",
            "3289\n",
            "(2610, 103)\n",
            "103\n",
            "3290\n",
            "(1560, 86)\n",
            "86\n",
            "3291\n",
            "(1200, 80)\n",
            "80\n",
            "3292\n",
            "(3402, 123)\n",
            "123\n",
            "3293\n",
            "(468, 49)\n",
            "49\n",
            "3294\n",
            "(396, 47)\n",
            "47\n",
            "3295\n",
            "(1920, 92)\n",
            "92\n",
            "3296\n",
            "(17496, 522)\n"
          ],
          "name": "stdout"
        },
        {
          "output_type": "stream",
          "text": [
            "\n",
            "\n",
            " 29%|██▊       | 996/3486 [04:36<03:12, 12.94it/s]\u001b[A\u001b[A\n",
            "\n",
            " 29%|██▊       | 1001/3486 [04:36<02:30, 16.50it/s]\u001b[A\u001b[A"
          ],
          "name": "stderr"
        },
        {
          "output_type": "stream",
          "text": [
            "522\n",
            "3297\n",
            "(2220, 97)\n",
            "97\n",
            "3298\n",
            "(756, 60)\n",
            "60\n",
            "3299\n",
            "(3456, 120)\n",
            "120\n",
            "3301\n",
            "(2835, 108)\n",
            "108\n",
            "3302\n",
            "(1368, 74)\n",
            "74\n",
            "3303\n",
            "(1512, 78)\n",
            "78\n",
            "3304\n",
            "(1332, 73)\n",
            "73\n",
            "3305\n",
            "(432, 48)\n",
            "48\n",
            "3306\n",
            "(2220, 97)\n",
            "97\n",
            "3307\n",
            "(675, 60)\n",
            "60\n",
            "3308\n"
          ],
          "name": "stdout"
        },
        {
          "output_type": "stream",
          "text": [
            "\n",
            "\n",
            " 29%|██▉       | 1007/3486 [04:36<02:07, 19.44it/s]\u001b[A\u001b[A\n",
            "\n",
            " 29%|██▉       | 1013/3486 [04:36<01:42, 24.13it/s]\u001b[A\u001b[A"
          ],
          "name": "stderr"
        },
        {
          "output_type": "stream",
          "text": [
            "(8760, 206)\n",
            "206\n",
            "3309\n",
            "(1980, 91)\n",
            "91\n",
            "3310\n",
            "(864, 66)\n",
            "66\n",
            "3311\n",
            "(1404, 75)\n",
            "75\n",
            "3312\n",
            "(816, 65)\n",
            "65\n",
            "3313\n",
            "(1722, 83)\n",
            "83\n",
            "3314\n",
            "(2340, 116)\n",
            "116\n",
            "3316\n",
            "(828, 59)\n",
            "59\n",
            "3317\n",
            "(432, 48)\n",
            "48\n",
            "3318\n"
          ],
          "name": "stdout"
        },
        {
          "output_type": "stream",
          "text": [
            "\n",
            "\n",
            " 29%|██▉       | 1018/3486 [04:36<01:28, 27.82it/s]\u001b[A\u001b[A"
          ],
          "name": "stderr"
        },
        {
          "output_type": "stream",
          "text": [
            "(4248, 154)\n",
            "154\n",
            "3321\n",
            "(2784, 106)\n",
            "106\n",
            "3322\n",
            "(2295, 96)\n",
            "96\n",
            "3323\n",
            "(5079, 166)\n",
            "166\n",
            "3325\n",
            "(36288, 1044)\n",
            "1044\n",
            "3326\n",
            "(34128, 984)\n",
            "984\n",
            "3327\n",
            "(33156, 957)\n",
            "957\n",
            "3328\n",
            "(36648, 1054)\n"
          ],
          "name": "stdout"
        },
        {
          "output_type": "stream",
          "text": [
            "\n",
            "\n",
            " 29%|██▉       | 1023/3486 [04:46<24:28,  1.68it/s]\u001b[A\u001b[A"
          ],
          "name": "stderr"
        },
        {
          "output_type": "stream",
          "text": [
            "1054\n",
            "3329\n",
            "(32076, 927)\n",
            "927\n",
            "3330\n",
            "(18564, 515)\n"
          ],
          "name": "stdout"
        },
        {
          "output_type": "stream",
          "text": [
            "\n",
            "\n",
            " 29%|██▉       | 1026/3486 [04:48<27:47,  1.48it/s]\u001b[A\u001b[A\n",
            "\n",
            " 30%|██▉       | 1030/3486 [04:48<19:46,  2.07it/s]\u001b[A\u001b[A"
          ],
          "name": "stderr"
        },
        {
          "output_type": "stream",
          "text": [
            "515\n",
            "3332\n",
            "(1980, 93)\n",
            "93\n",
            "3333\n",
            "(1620, 81)\n",
            "81\n",
            "3334\n",
            "(1440, 84)\n",
            "84\n",
            "3335\n",
            "(2880, 116)\n",
            "116\n",
            "3336\n",
            "(4444, 145)\n",
            "145\n",
            "3337\n",
            "(630, 59)\n",
            "59\n",
            "3338\n",
            "(512, 72)\n",
            "72\n",
            "3339\n",
            "(3750, 125)\n"
          ],
          "name": "stdout"
        },
        {
          "output_type": "stream",
          "text": [
            "\n",
            "\n",
            " 30%|██▉       | 1034/3486 [04:48<14:20,  2.85it/s]\u001b[A\u001b[A"
          ],
          "name": "stderr"
        },
        {
          "output_type": "stream",
          "text": [
            "125\n",
            "3340\n",
            "(8106, 235)\n",
            "235\n",
            "3341\n",
            "(2325, 106)\n",
            "106\n",
            "3342\n",
            "(960, 77)\n",
            "77\n",
            "3346\n",
            "(9855, 264)\n"
          ],
          "name": "stdout"
        },
        {
          "output_type": "stream",
          "text": [
            "\n",
            "\n",
            " 30%|██▉       | 1037/3486 [04:49<10:45,  3.79it/s]\u001b[A\u001b[A\n",
            "\n",
            " 30%|██▉       | 1042/3486 [04:49<07:47,  5.23it/s]\u001b[A\u001b[A"
          ],
          "name": "stderr"
        },
        {
          "output_type": "stream",
          "text": [
            "264\n",
            "3347\n",
            "(720, 63)\n",
            "63\n",
            "3348\n",
            "(1872, 98)\n",
            "98\n",
            "3349\n",
            "(495, 56)\n",
            "56\n",
            "3350\n",
            "(2100, 95)\n",
            "95\n",
            "3351\n",
            "(2352, 97)\n",
            "97\n",
            "3352\n",
            "(3996, 147)\n",
            "147\n",
            "3353\n",
            "(216, 42)\n",
            "42\n",
            "3354\n",
            "(1950, 101)\n",
            "101\n",
            "3356\n",
            "(14904, 450)\n"
          ],
          "name": "stdout"
        },
        {
          "output_type": "stream",
          "text": [
            "\n",
            "\n",
            " 30%|███       | 1046/3486 [04:49<06:56,  5.86it/s]\u001b[A\u001b[A\n",
            "\n",
            " 30%|███       | 1050/3486 [04:49<05:09,  7.86it/s]\u001b[A\u001b[A"
          ],
          "name": "stderr"
        },
        {
          "output_type": "stream",
          "text": [
            "450\n",
            "3357\n",
            "(2700, 111)\n",
            "111\n",
            "3358\n",
            "(396, 47)\n",
            "47\n",
            "3359\n",
            "(1080, 78)\n",
            "78\n",
            "3360\n",
            "(4725, 138)\n",
            "138\n",
            "3361\n",
            "(1248, 76)\n",
            "76\n",
            "3362\n",
            "(612, 53)\n",
            "53\n",
            "3363\n",
            "(1050, 89)\n",
            "89\n",
            "3364\n",
            "(4860, 153)\n"
          ],
          "name": "stdout"
        },
        {
          "output_type": "stream",
          "text": [
            "\n",
            "\n",
            " 30%|███       | 1054/3486 [04:49<03:54, 10.36it/s]\u001b[A\u001b[A\n",
            "\n",
            " 30%|███       | 1058/3486 [04:50<03:13, 12.56it/s]\u001b[A\u001b[A"
          ],
          "name": "stderr"
        },
        {
          "output_type": "stream",
          "text": [
            "153\n",
            "3365\n",
            "(2250, 105)\n",
            "105\n",
            "3366\n",
            "(2952, 118)\n",
            "118\n",
            "3367\n",
            "(2016, 100)\n",
            "100\n",
            "3368\n",
            "(7335, 208)\n",
            "208\n",
            "3369\n",
            "(720, 72)\n",
            "72\n",
            "3370\n",
            "(14430, 409)\n"
          ],
          "name": "stdout"
        },
        {
          "output_type": "stream",
          "text": [
            "\n",
            "\n",
            " 30%|███       | 1061/3486 [04:50<04:09,  9.72it/s]\u001b[A\u001b[A"
          ],
          "name": "stderr"
        },
        {
          "output_type": "stream",
          "text": [
            "409\n",
            "3372\n",
            "(8685, 238)\n",
            "238\n",
            "3374\n",
            "(1320, 82)\n",
            "82\n",
            "3375\n",
            "(432, 57)\n",
            "57\n",
            "3376\n",
            "(360, 46)\n",
            "46\n",
            "3377\n",
            "(8685, 238)\n"
          ],
          "name": "stdout"
        },
        {
          "output_type": "stream",
          "text": [
            "\n",
            "\n",
            " 31%|███       | 1065/3486 [04:50<03:21, 12.03it/s]\u001b[A\u001b[A"
          ],
          "name": "stderr"
        },
        {
          "output_type": "stream",
          "text": [
            "238\n",
            "3378\n",
            "(11700, 305)\n",
            "305\n",
            "3379\n",
            "(9945, 266)\n",
            "266\n",
            "3380\n",
            "(9240, 271)\n"
          ],
          "name": "stdout"
        },
        {
          "output_type": "stream",
          "text": [
            "\n",
            "\n",
            " 31%|███       | 1068/3486 [04:51<04:18,  9.36it/s]\u001b[A\u001b[A\n",
            "\n",
            " 31%|███       | 1070/3486 [04:51<03:42, 10.84it/s]\u001b[A\u001b[A"
          ],
          "name": "stderr"
        },
        {
          "output_type": "stream",
          "text": [
            "271\n",
            "3381\n",
            "(8325, 230)\n",
            "230\n",
            "3382\n",
            "(216, 42)\n",
            "42\n",
            "3383\n",
            "(19755, 484)\n"
          ],
          "name": "stdout"
        },
        {
          "output_type": "stream",
          "text": [
            "\n",
            "\n",
            " 31%|███       | 1072/3486 [04:52<07:13,  5.57it/s]\u001b[A\u001b[A"
          ],
          "name": "stderr"
        },
        {
          "output_type": "stream",
          "text": [
            "484\n",
            "3384\n",
            "(10290, 287)\n",
            "287\n",
            "3385\n",
            "(8568, 246)\n",
            "246\n",
            "3386\n",
            "(9660, 272)\n"
          ],
          "name": "stdout"
        },
        {
          "output_type": "stream",
          "text": [
            "\n",
            "\n",
            " 31%|███       | 1074/3486 [04:52<06:41,  6.01it/s]\u001b[A\u001b[A"
          ],
          "name": "stderr"
        },
        {
          "output_type": "stream",
          "text": [
            "272\n",
            "3387\n",
            "(7350, 217)\n",
            "217\n",
            "3388\n",
            "(8106, 235)\n",
            "235"
          ],
          "name": "stdout"
        },
        {
          "output_type": "stream",
          "text": [
            "\n",
            "\n",
            " 31%|███       | 1076/3486 [04:52<05:53,  6.81it/s]\u001b[A\u001b[A"
          ],
          "name": "stderr"
        },
        {
          "output_type": "stream",
          "text": [
            "\n",
            "3389\n",
            "(2100, 103)\n",
            "103\n",
            "3391\n",
            "(43386, 1075)\n"
          ],
          "name": "stdout"
        },
        {
          "output_type": "stream",
          "text": [
            "\n",
            "\n",
            " 31%|███       | 1078/3486 [04:55<24:34,  1.63it/s]\u001b[A\u001b[A\n",
            "\n",
            " 31%|███       | 1080/3486 [04:56<17:55,  2.24it/s]\u001b[A\u001b[A"
          ],
          "name": "stderr"
        },
        {
          "output_type": "stream",
          "text": [
            "1075\n",
            "3393\n",
            "(3240, 126)\n",
            "126\n",
            "3394\n",
            "(7344, 240)\n",
            "240\n",
            "3395\n",
            "(7056, 232)\n"
          ],
          "name": "stdout"
        },
        {
          "output_type": "stream",
          "text": [
            "\n",
            "\n",
            " 31%|███       | 1082/3486 [04:56<13:24,  2.99it/s]\u001b[A\u001b[A\n",
            "\n",
            " 31%|███       | 1086/3486 [04:56<09:42,  4.12it/s]\u001b[A\u001b[A"
          ],
          "name": "stderr"
        },
        {
          "output_type": "stream",
          "text": [
            "232\n",
            "3396\n",
            "(4644, 165)\n",
            "165\n",
            "3397\n",
            "(6795, 196)\n",
            "196\n",
            "3399\n",
            "(144, 40)\n",
            "40\n",
            "3400\n",
            "(675, 60)\n",
            "60\n",
            "3403\n",
            "(2760, 106)\n",
            "106\n",
            "3404\n",
            "(8244, 265)"
          ],
          "name": "stdout"
        },
        {
          "output_type": "stream",
          "text": [
            "\n",
            "\n",
            " 31%|███       | 1088/3486 [04:56<08:08,  4.91it/s]\u001b[A\u001b[A"
          ],
          "name": "stderr"
        },
        {
          "output_type": "stream",
          "text": [
            "\n",
            "265\n",
            "3405\n",
            "(7200, 236)\n",
            "236\n",
            "3406\n"
          ],
          "name": "stdout"
        },
        {
          "output_type": "stream",
          "text": [
            "\n",
            "\n",
            " 31%|███▏      | 1091/3486 [04:56<06:23,  6.24it/s]\u001b[A\u001b[A"
          ],
          "name": "stderr"
        },
        {
          "output_type": "stream",
          "text": [
            "(3990, 137)\n",
            "137\n",
            "3407\n",
            "(4104, 150)\n",
            "150\n",
            "3408\n",
            "(7560, 246)\n",
            "246\n",
            "3409\n",
            "(16650, 415)\n"
          ],
          "name": "stdout"
        },
        {
          "output_type": "stream",
          "text": [
            "\n",
            "\n",
            " 31%|███▏      | 1093/3486 [04:57<07:43,  5.16it/s]\u001b[A\u001b[A"
          ],
          "name": "stderr"
        },
        {
          "output_type": "stream",
          "text": [
            "415\n",
            "3410\n",
            "(10215, 272)\n",
            "272\n",
            "3411\n",
            "(7200, 205)\n"
          ],
          "name": "stdout"
        },
        {
          "output_type": "stream",
          "text": [
            "\n",
            "\n",
            " 31%|███▏      | 1095/3486 [04:57<06:30,  6.12it/s]\u001b[A\u001b[A"
          ],
          "name": "stderr"
        },
        {
          "output_type": "stream",
          "text": [
            "205\n",
            "3412\n",
            "(8415, 232)\n",
            "232\n",
            "3413\n",
            "(7380, 209)\n",
            "209\n",
            "3414\n",
            "(4680, 149)\n"
          ],
          "name": "stdout"
        },
        {
          "output_type": "stream",
          "text": [
            "\n",
            "\n",
            " 31%|███▏      | 1097/3486 [04:57<05:18,  7.51it/s]\u001b[A\u001b[A\n",
            "\n",
            " 32%|███▏      | 1099/3486 [04:57<04:33,  8.73it/s]\u001b[A\u001b[A"
          ],
          "name": "stderr"
        },
        {
          "output_type": "stream",
          "text": [
            "149\n",
            "3415\n",
            "(9540, 257)\n",
            "257\n",
            "3416\n",
            "(540, 51)\n",
            "51\n",
            "3417\n",
            "(14328, 434)\n"
          ],
          "name": "stdout"
        },
        {
          "output_type": "stream",
          "text": [
            "\n",
            "\n",
            " 32%|███▏      | 1101/3486 [04:58<05:20,  7.44it/s]\u001b[A\u001b[A\n",
            "\n",
            " 32%|███▏      | 1106/3486 [04:58<04:09,  9.53it/s]\u001b[A\u001b[A"
          ],
          "name": "stderr"
        },
        {
          "output_type": "stream",
          "text": [
            "434\n",
            "3418\n",
            "(252, 43)\n",
            "43\n",
            "3419\n",
            "(2160, 93)\n",
            "93\n",
            "3420\n",
            "(3168, 114)\n",
            "114\n",
            "3421\n",
            "(1440, 92)\n",
            "92\n",
            "3422\n",
            "(720, 72)\n",
            "72\n",
            "3423\n",
            "(8592, 227)\n",
            "227\n",
            "3424\n"
          ],
          "name": "stdout"
        },
        {
          "output_type": "stream",
          "text": [
            "\n",
            "\n",
            " 32%|███▏      | 1108/3486 [04:58<03:31, 11.24it/s]\u001b[A\u001b[A"
          ],
          "name": "stderr"
        },
        {
          "output_type": "stream",
          "text": [
            "(2700, 105)\n",
            "105\n",
            "3425\n",
            "(4185, 138)\n",
            "138\n",
            "3426\n",
            "(7110, 203)\n"
          ],
          "name": "stdout"
        },
        {
          "output_type": "stream",
          "text": [
            "\n",
            "\n",
            " 32%|███▏      | 1110/3486 [04:58<03:18, 12.00it/s]\u001b[A\u001b[A\n",
            "\n",
            " 32%|███▏      | 1112/3486 [04:58<02:55, 13.52it/s]\u001b[A\u001b[A"
          ],
          "name": "stderr"
        },
        {
          "output_type": "stream",
          "text": [
            "203\n",
            "3427\n",
            "(1800, 90)\n",
            "90\n",
            "3428\n",
            "(7875, 220)\n",
            "220\n",
            "3429\n",
            "(1440, 84)\n",
            "84\n",
            "3430\n",
            "(5160, 146)\n",
            "146\n",
            "3431\n",
            "(3150, 125)\n"
          ],
          "name": "stdout"
        },
        {
          "output_type": "stream",
          "text": [
            "\n",
            "\n",
            " 32%|███▏      | 1115/3486 [04:58<02:30, 15.71it/s]\u001b[A\u001b[A"
          ],
          "name": "stderr"
        },
        {
          "output_type": "stream",
          "text": [
            "125\n",
            "3432\n",
            "(3150, 125)\n",
            "125\n",
            "3433\n",
            "(3690, 131)\n",
            "131\n",
            "3434\n",
            "(864, 60)\n",
            "60\n",
            "3435\n",
            "(1296, 72)\n",
            "72\n",
            "3436\n",
            "(576, 52)\n",
            "52\n",
            "3437\n",
            "(900, 61)\n",
            "61\n",
            "3438\n",
            "(1188, 69)\n",
            "69\n",
            "3439\n",
            "(10845, 286)\n"
          ],
          "name": "stdout"
        },
        {
          "output_type": "stream",
          "text": [
            "\n",
            "\n",
            " 32%|███▏      | 1122/3486 [04:59<02:12, 17.84it/s]\u001b[A\u001b[A\n",
            "\n",
            " 32%|███▏      | 1128/3486 [04:59<01:44, 22.49it/s]\u001b[A\u001b[A"
          ],
          "name": "stderr"
        },
        {
          "output_type": "stream",
          "text": [
            "286\n",
            "3442\n",
            "(600, 70)\n",
            "70\n",
            "3444\n",
            "(2844, 115)\n",
            "115\n",
            "3445\n",
            "(3204, 125)\n",
            "125\n",
            "3446\n",
            "(840, 74)\n",
            "74\n",
            "3447\n",
            "(720, 98)\n",
            "98\n",
            "3448\n",
            "(504, 50)\n",
            "50\n",
            "3449\n",
            "(7000, 215)\n",
            "215\n",
            "3450\n",
            "(33192, 958)\n",
            "958\n",
            "3451\n",
            "(32184, 930)\n"
          ],
          "name": "stdout"
        },
        {
          "output_type": "stream",
          "text": [
            "\n",
            "\n",
            " 32%|███▏      | 1132/3486 [05:03<13:25,  2.92it/s]\u001b[A\u001b[A"
          ],
          "name": "stderr"
        },
        {
          "output_type": "stream",
          "text": [
            "930\n",
            "3452\n",
            "(650, 63)\n",
            "63\n",
            "3453\n",
            "(7344, 240)\n",
            "240\n",
            "3454\n",
            "(8064, 260)\n"
          ],
          "name": "stdout"
        },
        {
          "output_type": "stream",
          "text": [
            "\n",
            "\n",
            " 33%|███▎      | 1135/3486 [05:03<10:22,  3.77it/s]\u001b[A\u001b[A"
          ],
          "name": "stderr"
        },
        {
          "output_type": "stream",
          "text": [
            "260\n",
            "3455\n",
            "(2100, 95)\n",
            "95\n",
            "3456\n",
            "(2664, 110)\n",
            "110\n",
            "3457\n",
            "(30060, 871)\n"
          ],
          "name": "stdout"
        },
        {
          "output_type": "stream",
          "text": [
            "\n",
            "\n",
            " 33%|███▎      | 1137/3486 [05:05<17:56,  2.18it/s]\u001b[A\u001b[A"
          ],
          "name": "stderr"
        },
        {
          "output_type": "stream",
          "text": [
            "871\n",
            "3458\n",
            "(29592, 858)\n",
            "858\n",
            "3459\n",
            "(29268, 849)\n"
          ],
          "name": "stdout"
        },
        {
          "output_type": "stream",
          "text": [
            "\n",
            "\n",
            " 33%|███▎      | 1139/3486 [05:08<32:55,  1.19it/s]\u001b[A\u001b[A"
          ],
          "name": "stderr"
        },
        {
          "output_type": "stream",
          "text": [
            "849\n",
            "3460\n",
            "(28008, 814)\n"
          ],
          "name": "stdout"
        },
        {
          "output_type": "stream",
          "text": [
            "\n",
            "\n",
            " 33%|███▎      | 1140/3486 [05:10<38:37,  1.01it/s]\u001b[A\u001b[A\n",
            "\n",
            " 33%|███▎      | 1141/3486 [05:10<28:26,  1.37it/s]\u001b[A\u001b[A"
          ],
          "name": "stderr"
        },
        {
          "output_type": "stream",
          "text": [
            "814\n",
            "3461\n",
            "(7812, 253)\n",
            "253\n",
            "3462\n",
            "(6768, 224)\n"
          ],
          "name": "stdout"
        },
        {
          "output_type": "stream",
          "text": [
            "\n",
            "\n",
            " 33%|███▎      | 1143/3486 [05:10<20:38,  1.89it/s]\u001b[A\u001b[A"
          ],
          "name": "stderr"
        },
        {
          "output_type": "stream",
          "text": [
            "224\n",
            "3463\n",
            "(3840, 124)\n",
            "124\n",
            "3466\n",
            "(273, 46)\n",
            "46\n",
            "3468\n",
            "(47184, 1031)\n"
          ],
          "name": "stdout"
        },
        {
          "output_type": "stream",
          "text": [
            "\n",
            "\n",
            " 33%|███▎      | 1145/3486 [05:13<35:17,  1.11it/s]\u001b[A\u001b[A"
          ],
          "name": "stderr"
        },
        {
          "output_type": "stream",
          "text": [
            "1031\n",
            "3469\n",
            "(21060, 513)\n"
          ],
          "name": "stdout"
        },
        {
          "output_type": "stream",
          "text": [
            "\n",
            "\n",
            " 33%|███▎      | 1146/3486 [05:14<33:24,  1.17it/s]\u001b[A\u001b[A\n",
            "\n",
            " 33%|███▎      | 1151/3486 [05:14<23:35,  1.65it/s]\u001b[A\u001b[A"
          ],
          "name": "stderr"
        },
        {
          "output_type": "stream",
          "text": [
            "513\n",
            "3470\n",
            "(288, 54)\n",
            "54\n",
            "3471\n",
            "(1380, 83)\n",
            "83\n",
            "3472\n",
            "(1080, 78)\n",
            "78\n",
            "3473\n",
            "(840, 58)\n",
            "58\n",
            "3474\n",
            "(4860, 153)\n",
            "153\n",
            "3475\n",
            "(2088, 94)\n",
            "94\n",
            "3476\n",
            "(1908, 89)\n",
            "89\n",
            "3477\n",
            "(1656, 82)\n",
            "82\n",
            "3478\n",
            "(1692, 83)\n",
            "83\n"
          ],
          "name": "stdout"
        },
        {
          "output_type": "stream",
          "text": [
            "\n",
            "\n",
            " 33%|███▎      | 1157/3486 [05:14<16:41,  2.33it/s]\u001b[A\u001b[A\n",
            "\n",
            " 33%|███▎      | 1162/3486 [05:15<11:54,  3.25it/s]\u001b[A\u001b[A"
          ],
          "name": "stderr"
        },
        {
          "output_type": "stream",
          "text": [
            "3479\n",
            "(1440, 76)\n",
            "76\n",
            "3480\n",
            "(1404, 75)\n",
            "75\n",
            "3481\n",
            "(2880, 116)\n",
            "116\n",
            "3482\n",
            "(1728, 84)\n",
            "84\n",
            "3483\n",
            "(1836, 87)\n",
            "87\n",
            "3484\n",
            "(1872, 88)\n",
            "88\n",
            "3485\n",
            "(1620, 81)\n",
            "81\n",
            "3486\n",
            "(1476, 77)\n",
            "77\n",
            "3487\n",
            "(11412, 386)\n",
            "386\n",
            "3489\n",
            "(13788, 419)\n"
          ],
          "name": "stdout"
        },
        {
          "output_type": "stream",
          "text": [
            "\n",
            "\n"
          ],
          "name": "stderr"
        },
        {
          "output_type": "stream",
          "text": [
            "419\n",
            "3490\n",
            "(10656, 332)\n",
            "332\n"
          ],
          "name": "stdout"
        },
        {
          "output_type": "stream",
          "text": [
            "\r 33%|███▎      | 1166/3486 [05:15<10:41,  3.62it/s]\u001b[A\u001b[A"
          ],
          "name": "stderr"
        },
        {
          "output_type": "stream",
          "text": [
            "3491\n",
            "(7452, 243)\n",
            "243\n",
            "3492\n",
            "(10116, 317)\n"
          ],
          "name": "stdout"
        },
        {
          "output_type": "stream",
          "text": [
            "\n",
            "\n",
            " 34%|███▎      | 1169/3486 [05:16<08:59,  4.29it/s]\u001b[A\u001b[A"
          ],
          "name": "stderr"
        },
        {
          "output_type": "stream",
          "text": [
            "317\n",
            "3493\n",
            "(8208, 264)\n",
            "264\n",
            "3494\n",
            "(8820, 281)\n"
          ],
          "name": "stdout"
        },
        {
          "output_type": "stream",
          "text": [
            "\n",
            "\n",
            " 34%|███▎      | 1171/3486 [05:16<07:22,  5.23it/s]\u001b[A\u001b[A\n",
            "\n",
            " 34%|███▎      | 1176/3486 [05:16<05:23,  7.14it/s]\u001b[A\u001b[A"
          ],
          "name": "stderr"
        },
        {
          "output_type": "stream",
          "text": [
            "281\n",
            "3495\n",
            "(3540, 119)\n",
            "119\n",
            "3496\n",
            "(1968, 89)\n",
            "89\n",
            "3497\n",
            "(864, 66)\n",
            "66\n",
            "3498\n",
            "(360, 46)\n",
            "46\n",
            "3499\n",
            "(1035, 68)\n",
            "68\n",
            "3500\n",
            "(3708, 139)\n",
            "139\n",
            "3501\n",
            "(792, 58)\n",
            "58\n",
            "3502\n",
            "(6570, 191)\n"
          ],
          "name": "stdout"
        },
        {
          "output_type": "stream",
          "text": [
            "\n",
            "\n",
            " 34%|███▍      | 1179/3486 [05:16<04:14,  9.08it/s]\u001b[A\u001b[A\n",
            "\n",
            " 34%|███▍      | 1183/3486 [05:16<03:15, 11.75it/s]\u001b[A\u001b[A"
          ],
          "name": "stderr"
        },
        {
          "output_type": "stream",
          "text": [
            "191\n",
            "3503\n",
            "(1008, 69)\n",
            "69\n",
            "3504\n",
            "(5625, 150)\n",
            "150\n",
            "3505\n",
            "(1215, 72)\n",
            "72\n",
            "3506\n",
            "(1728, 84)\n",
            "84\n",
            "3507\n",
            "(450, 55)\n",
            "55\n",
            "3508\n",
            "(6120, 206)\n"
          ],
          "name": "stdout"
        },
        {
          "output_type": "stream",
          "text": [
            "\n",
            "\n",
            " 34%|███▍      | 1186/3486 [05:16<02:53, 13.28it/s]\u001b[A\u001b[A"
          ],
          "name": "stderr"
        },
        {
          "output_type": "stream",
          "text": [
            "206\n",
            "3509\n",
            "(1860, 91)\n",
            "91\n",
            "3510\n",
            "(3960, 127)\n",
            "127\n",
            "3511\n",
            "(288, 44)\n",
            "44\n",
            "3512\n",
            "(6300, 185)\n",
            "185\n",
            "3513\n",
            "(43440, 953)\n"
          ],
          "name": "stdout"
        },
        {
          "output_type": "stream",
          "text": [
            "\n",
            "\n",
            " 34%|███▍      | 1189/3486 [05:19<12:35,  3.04it/s]\u001b[A\u001b[A\n",
            "\n",
            " 34%|███▍      | 1193/3486 [05:19<09:11,  4.15it/s]\u001b[A\u001b[A"
          ],
          "name": "stderr"
        },
        {
          "output_type": "stream",
          "text": [
            "953\n",
            "3514\n",
            "(3840, 124)\n",
            "124\n",
            "3516\n",
            "(2025, 90)\n",
            "90\n",
            "3517\n",
            "(3900, 125)\n",
            "125\n",
            "3518\n",
            "(4176, 152)\n",
            "152\n",
            "3519\n",
            "(1188, 69)\n",
            "69\n",
            "3520\n"
          ],
          "name": "stdout"
        },
        {
          "output_type": "stream",
          "text": [
            "\n",
            "\n",
            " 34%|███▍      | 1196/3486 [05:20<07:19,  5.22it/s]\u001b[A\u001b[A"
          ],
          "name": "stderr"
        },
        {
          "output_type": "stream",
          "text": [
            "(10440, 326)\n",
            "326\n",
            "3521\n",
            "(1248, 74)\n",
            "74\n",
            "3523\n",
            "(468, 49)\n",
            "49\n",
            "3525\n",
            "(172296, 1925)\n"
          ],
          "name": "stdout"
        },
        {
          "output_type": "stream",
          "text": [
            "\n",
            "\n",
            " 34%|███▍      | 1196/3486 [05:32<07:19,  5.22it/s]\u001b[A\u001b[A\n",
            "\n",
            " 34%|███▍      | 1198/3486 [05:46<2:35:32,  4.08s/it]\u001b[A\u001b[A\n",
            "\n",
            " 35%|███▍      | 1204/3486 [05:46<1:48:50,  2.86s/it]\u001b[A\u001b[A"
          ],
          "name": "stderr"
        },
        {
          "output_type": "stream",
          "text": [
            "1925\n",
            "3526\n",
            "(720, 56)\n",
            "56\n",
            "3527\n",
            "(1152, 72)\n",
            "72\n",
            "3528\n",
            "(1908, 89)\n",
            "89\n",
            "3529\n",
            "(2556, 107)\n",
            "107\n",
            "3530\n",
            "(2655, 104)\n",
            "104\n",
            "3531\n",
            "(3312, 128)\n",
            "128\n"
          ],
          "name": "stdout"
        },
        {
          "output_type": "stream",
          "text": [
            "\n",
            "\n",
            " 35%|███▍      | 1207/3486 [05:46<1:16:33,  2.02s/it]\u001b[A\u001b[A"
          ],
          "name": "stderr"
        },
        {
          "output_type": "stream",
          "text": [
            "3532\n",
            "(3420, 131)\n",
            "131\n",
            "3534\n",
            "(3132, 123)\n",
            "123\n",
            "3535\n",
            "(3672, 138)\n",
            "138\n",
            "3536\n",
            "(2196, 97)\n",
            "97\n",
            "3537\n",
            "(720, 63)\n",
            "63\n",
            "3539\n",
            "(5850, 153)\n"
          ],
          "name": "stdout"
        },
        {
          "output_type": "stream",
          "text": [
            "\n",
            "\n",
            " 35%|███▍      | 1211/3486 [05:46<53:47,  1.42s/it]  \u001b[A\u001b[A\n",
            "\n",
            " 35%|███▍      | 1214/3486 [05:46<38:12,  1.01s/it]\u001b[A\u001b[A"
          ],
          "name": "stderr"
        },
        {
          "output_type": "stream",
          "text": [
            "153\n",
            "3540\n",
            "(756, 60)\n",
            "60\n",
            "3542\n",
            "(8280, 266)\n",
            "266\n",
            "3543\n",
            "(900, 61)\n",
            "61\n",
            "3544\n",
            "(1296, 75)\n",
            "75\n",
            "3545\n",
            "(5130, 147)\n",
            "147\n",
            "3546\n",
            "(1056, 70)\n",
            "70\n",
            "3548\n",
            "(952, 73)\n",
            "73\n",
            "3549\n",
            "(12150, 477)\n"
          ],
          "name": "stdout"
        },
        {
          "output_type": "stream",
          "text": [
            "\n",
            "\n",
            " 35%|███▍      | 1218/3486 [05:47<27:50,  1.36it/s]\u001b[A\u001b[A"
          ],
          "name": "stderr"
        },
        {
          "output_type": "stream",
          "text": [
            "477\n",
            "3550\n",
            "(576, 52)\n",
            "52\n",
            "3552\n",
            "(2835, 108)\n",
            "108\n",
            "3553\n",
            "(612, 53)\n",
            "53\n",
            "3554\n",
            "(16200, 486)\n"
          ],
          "name": "stdout"
        },
        {
          "output_type": "stream",
          "text": [
            "\n",
            "\n",
            " 35%|███▌      | 1222/3486 [05:47<20:58,  1.80it/s]\u001b[A\u001b[A"
          ],
          "name": "stderr"
        },
        {
          "output_type": "stream",
          "text": [
            "486\n",
            "3555\n",
            "(32256, 720)\n",
            "720\n",
            "3556\n",
            "(26016, 590)\n"
          ],
          "name": "stdout"
        },
        {
          "output_type": "stream",
          "text": [
            "\n",
            "\n",
            " 35%|███▌      | 1224/3486 [05:50<27:30,  1.37it/s]\u001b[A\u001b[A\n",
            "\n",
            " 35%|███▌      | 1226/3486 [05:50<20:13,  1.86it/s]\u001b[A\u001b[A"
          ],
          "name": "stderr"
        },
        {
          "output_type": "stream",
          "text": [
            "590\n",
            "3557\n",
            "(5490, 167)\n",
            "167\n",
            "3558\n",
            "(8505, 234)\n",
            "234\n",
            "3561"
          ],
          "name": "stdout"
        },
        {
          "output_type": "stream",
          "text": [
            "\n",
            "\n",
            " 35%|███▌      | 1228/3486 [05:50<14:44,  2.55it/s]\u001b[A\u001b[A"
          ],
          "name": "stderr"
        },
        {
          "output_type": "stream",
          "text": [
            "\n",
            "(1350, 93)\n",
            "93\n",
            "3562\n",
            "(2412, 103)\n",
            "103\n",
            "3563\n",
            "(1800, 99)\n",
            "99\n",
            "3564\n",
            "(3240, 114)\n",
            "114\n",
            "3565\n",
            "(2700, 120)"
          ],
          "name": "stdout"
        },
        {
          "output_type": "stream",
          "text": [
            "\n",
            "\n",
            " 35%|███▌      | 1231/3486 [05:50<10:48,  3.47it/s]\u001b[A\u001b[A"
          ],
          "name": "stderr"
        },
        {
          "output_type": "stream",
          "text": [
            "\n",
            "120\n",
            "3566\n",
            "(1260, 71)\n",
            "71\n",
            "3567\n",
            "(312, 47)\n",
            "47\n",
            "3568\n",
            "(5310, 149)\n",
            "149\n",
            "3569\n",
            "(182304, 1834)\n"
          ],
          "name": "stdout"
        },
        {
          "output_type": "stream",
          "text": [
            "\n",
            "\n",
            " 35%|███▌      | 1231/3486 [06:02<10:48,  3.47it/s]\u001b[A\u001b[A\n",
            "\n",
            " 35%|███▌      | 1235/3486 [06:16<1:20:34,  2.15s/it]\u001b[A\u001b[A"
          ],
          "name": "stderr"
        },
        {
          "output_type": "stream",
          "text": [
            "1834\n",
            "3570\n",
            "(660, 71)\n",
            "71\n",
            "3571\n",
            "(25500, 551)\n"
          ],
          "name": "stdout"
        },
        {
          "output_type": "stream",
          "text": [
            "\n",
            "\n",
            " 35%|███▌      | 1237/3486 [06:17<1:01:21,  1.64s/it]\u001b[A\u001b[A"
          ],
          "name": "stderr"
        },
        {
          "output_type": "stream",
          "text": [
            "551\n",
            "3572\n",
            "(960, 68)\n",
            "68\n",
            "3573\n",
            "(1440, 84)\n",
            "84\n",
            "3574\n",
            "(3840, 124)\n",
            "124\n",
            "3575\n",
            "(1332, 73)\n",
            "73\n",
            "3576\n",
            "(936, 62)\n",
            "62\n",
            "3578\n",
            "(64080, 1074)\n"
          ],
          "name": "stdout"
        },
        {
          "output_type": "stream",
          "text": [
            "\n",
            "\n",
            " 36%|███▌      | 1243/3486 [06:22<51:36,  1.38s/it]  \u001b[A\u001b[A\n",
            "\n",
            " 36%|███▌      | 1250/3486 [06:22<36:11,  1.03it/s]\u001b[A\u001b[A"
          ],
          "name": "stderr"
        },
        {
          "output_type": "stream",
          "text": [
            "1074\n",
            "3579\n",
            "(1440, 76)\n",
            "76\n",
            "3580\n",
            "(288, 44)\n",
            "44\n",
            "3581\n",
            "(630, 57)\n",
            "57\n",
            "3582\n",
            "(1920, 94)\n",
            "94\n",
            "3583\n",
            "(1575, 96)\n",
            "96\n",
            "3584\n",
            "(2700, 111)\n",
            "111\n",
            "3585\n",
            "(1392, 77)\n",
            "77\n",
            "3586\n",
            "(36, 37)\n",
            "37\n",
            "3587\n",
            "(4176, 152)\n",
            "152\n",
            "3589\n",
            "(2025, 192)\n"
          ],
          "name": "stdout"
        },
        {
          "output_type": "stream",
          "text": [
            "\n",
            "\n",
            " 36%|███▌      | 1254/3486 [06:22<25:37,  1.45it/s]\u001b[A\u001b[A\n",
            "\n",
            " 36%|███▌      | 1257/3486 [06:22<18:21,  2.02it/s]\u001b[A\u001b[A"
          ],
          "name": "stderr"
        },
        {
          "output_type": "stream",
          "text": [
            "192\n",
            "3590\n",
            "(1845, 191)\n",
            "191\n",
            "3591\n",
            "(4896, 172)\n",
            "172\n",
            "3592\n",
            "(1584, 155)\n",
            "155\n",
            "3593\n",
            "(2430, 177)\n",
            "177\n",
            "3594\n",
            "(600, 83)\n",
            "83\n",
            "3595\n",
            "(2160, 93)\n",
            "93\n",
            "3597\n",
            "(480, 58)\n",
            "58\n",
            "3598\n",
            "(2040, 94)\n",
            "94\n",
            "3599\n",
            "(12105, 314)\n"
          ],
          "name": "stdout"
        },
        {
          "output_type": "stream",
          "text": [
            "\n",
            "\n",
            " 36%|███▌      | 1262/3486 [06:22<13:28,  2.75it/s]\u001b[A\u001b[A\n",
            "\n",
            " 36%|███▋      | 1269/3486 [06:22<09:34,  3.86it/s]\u001b[A\u001b[A"
          ],
          "name": "stderr"
        },
        {
          "output_type": "stream",
          "text": [
            "314\n",
            "3600\n",
            "(750, 85)\n",
            "85\n",
            "3601\n",
            "(2448, 104)\n",
            "104\n",
            "3602\n",
            "(1944, 99)\n",
            "99\n",
            "3604\n",
            "(630, 57)\n",
            "57\n",
            "3605\n",
            "(504, 50)\n",
            "50\n",
            "3606\n",
            "(216, 42)\n",
            "42\n",
            "3607\n",
            "(1935, 88)\n",
            "88\n",
            "3608\n",
            "(4392, 158)\n",
            "158\n",
            "3609\n",
            "(5256, 182)\n"
          ],
          "name": "stdout"
        },
        {
          "output_type": "stream",
          "text": [
            "\n",
            "\n",
            " 37%|███▋      | 1273/3486 [06:22<07:06,  5.19it/s]\u001b[A\u001b[A\n",
            "\n",
            " 37%|███▋      | 1278/3486 [06:23<05:14,  7.03it/s]\u001b[A\u001b[A"
          ],
          "name": "stderr"
        },
        {
          "output_type": "stream",
          "text": [
            "182\n",
            "3610\n",
            "(1908, 89)\n",
            "89\n",
            "3611\n",
            "(1224, 70)\n",
            "70\n",
            "3612\n",
            "(1044, 65)\n",
            "65\n",
            "3613\n",
            "(960, 76)\n",
            "76\n",
            "3615\n",
            "(945, 66)\n",
            "66\n",
            "3616\n",
            "(4284, 155)\n",
            "155\n",
            "3617\n",
            "(1455, 291)\n",
            "291\n",
            "3618\n",
            "(3402, 123)\n",
            "123\n",
            "3619\n"
          ],
          "name": "stdout"
        },
        {
          "output_type": "stream",
          "text": [
            "\n",
            "\n",
            " 37%|███▋      | 1282/3486 [06:23<04:09,  8.84it/s]\u001b[A\u001b[A"
          ],
          "name": "stderr"
        },
        {
          "output_type": "stream",
          "text": [
            "(3150, 185)\n",
            "185\n",
            "3621\n",
            "(1350, 93)\n",
            "93\n",
            "3622\n",
            "(6570, 191)\n",
            "191\n",
            "3623\n",
            "(2340, 99)\n",
            "99\n",
            "3624\n",
            "(720, 72)\n",
            "72\n",
            "3626\n",
            "(2100, 95)\n",
            "95\n",
            "3627\n",
            "(576, 52)\n",
            "52\n",
            "3628\n",
            "(144, 40)\n",
            "40\n",
            "3629\n"
          ],
          "name": "stdout"
        },
        {
          "output_type": "stream",
          "text": [
            "\n",
            "\n",
            " 37%|███▋      | 1289/3486 [06:23<03:04, 11.92it/s]\u001b[A\u001b[A\n",
            "\n",
            " 37%|███▋      | 1295/3486 [06:23<02:20, 15.60it/s]\u001b[A\u001b[A"
          ],
          "name": "stderr"
        },
        {
          "output_type": "stream",
          "text": [
            "(1860, 91)\n",
            "91\n",
            "3630\n",
            "(648, 167)\n",
            "167\n",
            "3631\n",
            "(900, 87)\n",
            "87\n",
            "3634\n",
            "(1620, 87)\n",
            "87\n",
            "3635\n",
            "(1125, 70)\n",
            "70\n",
            "3639\n",
            "(2556, 107)\n",
            "107\n",
            "3640\n",
            "(2205, 94)\n",
            "94\n",
            "3641\n",
            "(945, 66)\n",
            "66\n",
            "3642\n",
            "(324, 45)\n",
            "45\n",
            "3643\n",
            "(4290, 149)\n",
            "149\n",
            "3644\n"
          ],
          "name": "stdout"
        },
        {
          "output_type": "stream",
          "text": [
            "\n",
            "\n",
            " 37%|███▋      | 1300/3486 [06:23<01:55, 18.98it/s]\u001b[A\u001b[A"
          ],
          "name": "stderr"
        },
        {
          "output_type": "stream",
          "text": [
            "(1800, 99)\n",
            "99\n",
            "3645\n",
            "(900, 61)\n",
            "61\n",
            "3646\n",
            "(3915, 132)\n",
            "132\n",
            "3647\n",
            "(540, 51)\n",
            "51\n",
            "3648\n",
            "(12555, 324)\n",
            "324\n",
            "3649\n",
            "(6660, 193)\n",
            "193\n",
            "3650\n",
            "(1944, 90)\n",
            "90\n",
            "3651\n",
            "(10350, 275)\n"
          ],
          "name": "stdout"
        },
        {
          "output_type": "stream",
          "text": [
            "\n",
            "\n",
            " 37%|███▋      | 1305/3486 [06:24<02:26, 14.86it/s]\u001b[A\u001b[A"
          ],
          "name": "stderr"
        },
        {
          "output_type": "stream",
          "text": [
            "275\n",
            "3652\n",
            "(1800, 97)\n",
            "97\n",
            "3653\n",
            "(1380, 83)\n",
            "83\n",
            "3654\n",
            "(22644, 388)\n"
          ],
          "name": "stdout"
        },
        {
          "output_type": "stream",
          "text": [
            "\n",
            "\n",
            " 38%|███▊      | 1309/3486 [06:24<03:08, 11.54it/s]\u001b[A\u001b[A"
          ],
          "name": "stderr"
        },
        {
          "output_type": "stream",
          "text": [
            "388\n",
            "3655\n",
            "(675, 60)\n",
            "60\n",
            "3656\n",
            "(8532, 273)\n",
            "273\n",
            "3657\n",
            "(90, 33)\n",
            "33\n",
            "3658\n"
          ],
          "name": "stdout"
        },
        {
          "output_type": "stream",
          "text": [
            "\n",
            "\n",
            " 38%|███▊      | 1312/3486 [06:24<03:27, 10.47it/s]\u001b[A\u001b[A"
          ],
          "name": "stderr"
        },
        {
          "output_type": "stream",
          "text": [
            "(11745, 306)\n",
            "306\n",
            "3660\n",
            "(4608, 164)\n"
          ],
          "name": "stdout"
        },
        {
          "output_type": "stream",
          "text": [
            "\n",
            "\n",
            " 38%|███▊      | 1315/3486 [06:25<03:13, 11.19it/s]\u001b[A\u001b[A"
          ],
          "name": "stderr"
        },
        {
          "output_type": "stream",
          "text": [
            "164\n",
            "3661\n",
            "(4725, 330)\n",
            "330\n",
            "3663\n",
            "(6156, 207)\n",
            "207\n",
            "3664\n",
            "(14000, 390)\n"
          ],
          "name": "stdout"
        },
        {
          "output_type": "stream",
          "text": [
            "\n",
            "\n",
            " 38%|███▊      | 1317/3486 [06:25<04:52,  7.41it/s]\u001b[A\u001b[A"
          ],
          "name": "stderr"
        },
        {
          "output_type": "stream",
          "text": [
            "390\n",
            "3665\n",
            "(7776, 252)\n",
            "252\n",
            "3666\n",
            "(528, 59)\n",
            "59\n",
            "3667\n",
            "(2244, 124)\n",
            "124\n",
            "3668\n",
            "(1045, 74)\n",
            "74\n",
            "3669\n",
            "(1144, 70)\n",
            "70\n",
            "3671\n"
          ],
          "name": "stdout"
        },
        {
          "output_type": "stream",
          "text": [
            "\n",
            "\n",
            " 38%|███▊      | 1322/3486 [06:25<03:45,  9.58it/s]\u001b[A\u001b[A\n",
            "\n",
            " 38%|███▊      | 1328/3486 [06:25<02:49, 12.74it/s]\u001b[A\u001b[A"
          ],
          "name": "stderr"
        },
        {
          "output_type": "stream",
          "text": [
            "(6390, 187)\n",
            "187\n",
            "3672\n",
            "(624, 61)\n",
            "61\n",
            "3673\n",
            "(1872, 88)\n",
            "88\n",
            "3674\n",
            "(4320, 156)\n",
            "156\n",
            "3676\n",
            "(360, 46)\n",
            "46\n",
            "3678\n",
            "(432, 48)\n",
            "48\n",
            "3679\n",
            "(720, 56)\n",
            "56\n",
            "3683\n",
            "(2772, 113)\n",
            "113\n",
            "3684\n"
          ],
          "name": "stdout"
        },
        {
          "output_type": "stream",
          "text": [
            "\n",
            "\n",
            " 38%|███▊      | 1331/3486 [06:26<02:26, 14.68it/s]\u001b[A\u001b[A\n",
            "\n",
            " 38%|███▊      | 1334/3486 [06:26<02:05, 17.14it/s]\u001b[A\u001b[A"
          ],
          "name": "stderr"
        },
        {
          "output_type": "stream",
          "text": [
            "(6705, 194)\n",
            "194\n",
            "3685\n",
            "(1890, 87)\n",
            "87\n",
            "3686\n",
            "(1845, 86)\n",
            "86\n",
            "3687\n",
            "(6345, 186)\n",
            "186\n",
            "3688\n",
            "(540, 51)\n",
            "51\n",
            "3689\n",
            "(1665, 82)\n",
            "82\n",
            "3690"
          ],
          "name": "stdout"
        },
        {
          "output_type": "stream",
          "text": [
            "\n",
            "\n",
            " 38%|███▊      | 1337/3486 [06:26<02:09, 16.59it/s]\u001b[A\u001b[A"
          ],
          "name": "stderr"
        },
        {
          "output_type": "stream",
          "text": [
            "\n",
            "(5400, 150)\n",
            "150\n",
            "3691\n",
            "(8190, 227)\n",
            "227\n",
            "3692\n",
            "(1332, 73)\n",
            "73\n",
            "3693\n",
            "(2928, 109)\n"
          ],
          "name": "stdout"
        },
        {
          "output_type": "stream",
          "text": [
            "\n",
            "\n",
            " 38%|███▊      | 1340/3486 [06:26<01:52, 19.00it/s]\u001b[A\u001b[A"
          ],
          "name": "stderr"
        },
        {
          "output_type": "stream",
          "text": [
            "109\n",
            "3694\n",
            "(4824, 170)\n",
            "170\n",
            "3695\n",
            "(15408, 464)\n"
          ],
          "name": "stdout"
        },
        {
          "output_type": "stream",
          "text": [
            "\n",
            "\n",
            " 39%|███▊      | 1343/3486 [06:26<02:59, 11.94it/s]\u001b[A\u001b[A\n",
            "\n",
            " 39%|███▊      | 1346/3486 [06:27<02:31, 14.15it/s]\u001b[A\u001b[A"
          ],
          "name": "stderr"
        },
        {
          "output_type": "stream",
          "text": [
            "464\n",
            "3696\n",
            "(2256, 95)\n",
            "95\n",
            "3698\n",
            "(2664, 110)\n",
            "110\n",
            "3700\n",
            "(2160, 96)\n",
            "96\n",
            "3701\n",
            "(6675, 164)\n",
            "164\n",
            "3702\n",
            "(3900, 127)\n",
            "127\n",
            "3704\n",
            "(585, 58)\n",
            "58\n",
            "3705\n",
            "(2970, 123)\n",
            "123\n",
            "3706\n",
            "(714, 65)\n",
            "65\n",
            "3708\n",
            "(59040, 893)\n"
          ],
          "name": "stdout"
        },
        {
          "output_type": "stream",
          "text": [
            "\n",
            "\n",
            " 39%|███▊      | 1350/3486 [06:30<10:15,  3.47it/s]\u001b[A\u001b[A\n",
            "\n",
            " 39%|███▉      | 1354/3486 [06:30<07:35,  4.68it/s]\u001b[A\u001b[A"
          ],
          "name": "stderr"
        },
        {
          "output_type": "stream",
          "text": [
            "893\n",
            "3709\n",
            "(1176, 175)\n",
            "175\n",
            "3710\n",
            "(2592, 108)\n",
            "108\n",
            "3711\n",
            "(3708, 139)\n",
            "139\n",
            "3712\n",
            "(6380, 189)\n",
            "189\n",
            "3713\n"
          ],
          "name": "stdout"
        },
        {
          "output_type": "stream",
          "text": [
            "\n",
            "\n",
            " 39%|███▉      | 1356/3486 [06:30<05:58,  5.94it/s]\u001b[A\u001b[A"
          ],
          "name": "stderr"
        },
        {
          "output_type": "stream",
          "text": [
            "(936, 62)\n",
            "62\n",
            "3714\n",
            "(7680, 232)\n",
            "232\n",
            "3715\n",
            "(1104, 71)\n",
            "71\n",
            "3716\n",
            "(3384, 119)\n",
            "119\n",
            "3717\n",
            "(4074, 139)\n",
            "139\n",
            "3718\n"
          ],
          "name": "stdout"
        },
        {
          "output_type": "stream",
          "text": [
            "\n",
            "\n",
            " 39%|███▉      | 1360/3486 [06:30<04:28,  7.91it/s]\u001b[A\u001b[A"
          ],
          "name": "stderr"
        },
        {
          "output_type": "stream",
          "text": [
            "(2100, 95)\n",
            "95\n",
            "3719\n",
            "(17208, 514)\n",
            "514\n",
            "3720\n",
            "(22503, 616)\n"
          ],
          "name": "stdout"
        },
        {
          "output_type": "stream",
          "text": [
            "\n",
            "\n",
            " 39%|███▉      | 1363/3486 [06:32<08:38,  4.09it/s]\u001b[A\u001b[A"
          ],
          "name": "stderr"
        },
        {
          "output_type": "stream",
          "text": [
            "616\n",
            "3721\n",
            "(7812, 253)\n",
            "253\n",
            "3722\n",
            "(3348, 129)\n",
            "129\n",
            "3723\n",
            "(1860, 91)\n",
            "91\n",
            "3724\n",
            "(624, 61)\n",
            "61\n",
            "3725\n",
            "(1320, 82)\n"
          ],
          "name": "stdout"
        },
        {
          "output_type": "stream",
          "text": [
            "\n",
            "\n",
            " 39%|███▉      | 1368/3486 [06:32<06:17,  5.61it/s]\u001b[A\u001b[A"
          ],
          "name": "stderr"
        },
        {
          "output_type": "stream",
          "text": [
            "82\n",
            "3726\n",
            "(3105, 114)\n",
            "114\n",
            "3727\n",
            "(20700, 358)\n"
          ],
          "name": "stdout"
        },
        {
          "output_type": "stream",
          "text": [
            "\n",
            "\n",
            " 39%|███▉      | 1371/3486 [06:32<06:06,  5.77it/s]\u001b[A\u001b[A"
          ],
          "name": "stderr"
        },
        {
          "output_type": "stream",
          "text": [
            "358\n",
            "3728\n",
            "(1008, 64)\n",
            "64\n",
            "3732\n",
            "(756, 57)\n",
            "57\n",
            "3733\n",
            "(792, 58)\n",
            "58\n",
            "3735\n",
            "(1152, 68)\n",
            "68\n",
            "3736\n",
            "(15300, 461)\n"
          ],
          "name": "stdout"
        },
        {
          "output_type": "stream",
          "text": [
            "\n",
            "\n",
            " 39%|███▉      | 1374/3486 [06:33<05:50,  6.02it/s]\u001b[A\u001b[A\n",
            "\n",
            " 40%|███▉      | 1378/3486 [06:33<04:22,  8.03it/s]\u001b[A\u001b[A"
          ],
          "name": "stderr"
        },
        {
          "output_type": "stream",
          "text": [
            "461\n",
            "3737\n",
            "(3780, 132)\n",
            "132\n",
            "3738\n",
            "(1116, 67)\n",
            "67\n",
            "3740\n",
            "(1080, 78)\n",
            "78\n",
            "3741\n",
            "(4500, 140)\n",
            "140\n",
            "3742\n",
            "(1008, 69)\n",
            "69\n",
            "3743\n",
            "(1260, 81)\n",
            "81\n",
            "3744\n",
            "(5600, 180)\n"
          ],
          "name": "stdout"
        },
        {
          "output_type": "stream",
          "text": [
            "\n",
            "\n",
            " 40%|███▉      | 1382/3486 [06:33<03:19, 10.55it/s]\u001b[A\u001b[A"
          ],
          "name": "stderr"
        },
        {
          "output_type": "stream",
          "text": [
            "180\n",
            "3747\n",
            "(1044, 65)\n",
            "65\n",
            "3748\n",
            "(1845, 86)\n",
            "86\n",
            "3749\n",
            "(2040, 94)\n",
            "94\n",
            "3750\n",
            "(16020, 481)\n"
          ],
          "name": "stdout"
        },
        {
          "output_type": "stream",
          "text": [
            "\n",
            "\n",
            " 40%|███▉      | 1385/3486 [06:33<03:59,  8.76it/s]\u001b[A\u001b[A\n",
            "\n",
            " 40%|███▉      | 1389/3486 [06:34<03:03, 11.42it/s]\u001b[A\u001b[A"
          ],
          "name": "stderr"
        },
        {
          "output_type": "stream",
          "text": [
            "481\n",
            "3751\n",
            "(5256, 182)\n",
            "182\n",
            "3752\n",
            "(270, 51)\n",
            "51\n",
            "3753\n",
            "(684, 55)\n",
            "55\n",
            "3754\n",
            "(1260, 71)\n",
            "71\n",
            "3755\n",
            "(2132, 93)\n",
            "93\n",
            "3756\n",
            "(6444, 215)\n"
          ],
          "name": "stdout"
        },
        {
          "output_type": "stream",
          "text": [
            "\n",
            "\n",
            " 40%|███▉      | 1392/3486 [06:34<02:33, 13.64it/s]\u001b[A\u001b[A\n",
            "\n",
            " 40%|████      | 1396/3486 [06:34<02:03, 16.93it/s]\u001b[A\u001b[A"
          ],
          "name": "stderr"
        },
        {
          "output_type": "stream",
          "text": [
            "215\n",
            "3757\n",
            "(1500, 85)\n",
            "85\n",
            "3758\n",
            "(5535, 168)\n",
            "168\n",
            "3759\n",
            "(2052, 93)\n",
            "93\n",
            "3760\n",
            "(675, 60)\n",
            "60\n",
            "3761\n",
            "(1560, 86)\n",
            "86\n",
            "3762\n",
            "(3240, 126)\n",
            "126\n",
            "3763\n",
            "(828, 59)\n",
            "59\n",
            "3764\n",
            "(1152, 68)\n",
            "68\n",
            "3765\n",
            "(4620, 152)\n"
          ],
          "name": "stdout"
        },
        {
          "output_type": "stream",
          "text": [
            "\n",
            "\n",
            " 40%|████      | 1400/3486 [06:34<01:43, 20.23it/s]\u001b[A\u001b[A\n",
            "\n",
            " 40%|████      | 1406/3486 [06:34<01:27, 23.77it/s]\u001b[A\u001b[A"
          ],
          "name": "stderr"
        },
        {
          "output_type": "stream",
          "text": [
            "152\n",
            "3766\n",
            "(2232, 98)\n",
            "98\n",
            "3767\n",
            "(1380, 83)\n",
            "83\n",
            "3768\n",
            "(700, 64)\n",
            "64\n",
            "3769\n",
            "(480, 68)\n",
            "68\n",
            "3770\n",
            "(324, 45)\n",
            "45\n",
            "3771\n",
            "(6300, 211)\n",
            "211\n",
            "3772\n",
            "(960, 76)\n",
            "76\n",
            "3773\n",
            "(6192, 208)\n",
            "208\n",
            "3775\n",
            "(38448, 1104)\n",
            "1104\n",
            "3776\n",
            "(38016, 1092)\n"
          ],
          "name": "stdout"
        },
        {
          "output_type": "stream",
          "text": [
            "\n",
            "\n",
            " 40%|████      | 1410/3486 [06:39<13:39,  2.53it/s]\u001b[A\u001b[A"
          ],
          "name": "stderr"
        },
        {
          "output_type": "stream",
          "text": [
            "1092\n",
            "3777\n",
            "(37512, 1078)\n",
            "1078\n",
            "3778\n",
            "(34812, 1003)\n",
            "1003\n",
            "3779\n",
            "(35136, 1012)\n"
          ],
          "name": "stdout"
        },
        {
          "output_type": "stream",
          "text": [
            "\n",
            "\n",
            " 41%|████      | 1413/3486 [06:46<35:16,  1.02s/it]\u001b[A\u001b[A"
          ],
          "name": "stderr"
        },
        {
          "output_type": "stream",
          "text": [
            "1012\n",
            "3780\n",
            "(183924, 2063)\n"
          ],
          "name": "stdout"
        },
        {
          "output_type": "stream",
          "text": [
            "\n",
            "\n",
            " 41%|████      | 1413/3486 [07:02<35:16,  1.02s/it]\u001b[A\u001b[A\n",
            "\n",
            " 41%|████      | 1414/3486 [07:18<5:47:24, 10.06s/it]\u001b[A\u001b[A"
          ],
          "name": "stderr"
        },
        {
          "output_type": "stream",
          "text": [
            "2063\n",
            "3781\n",
            "(41454, 1029)\n"
          ],
          "name": "stdout"
        },
        {
          "output_type": "stream",
          "text": [
            "\n",
            "\n",
            " 41%|████      | 1415/3486 [07:20<4:30:35,  7.84s/it]\u001b[A\u001b[A\n",
            "\n",
            " 41%|████      | 1420/3486 [07:20<3:09:15,  5.50s/it]\u001b[A\u001b[A"
          ],
          "name": "stderr"
        },
        {
          "output_type": "stream",
          "text": [
            "1029\n",
            "3783\n",
            "(900, 87)\n",
            "87\n",
            "3784\n",
            "(2160, 93)\n",
            "93\n",
            "3785\n",
            "(2340, 99)\n",
            "99\n",
            "3786\n",
            "(1740, 89)\n",
            "89\n",
            "3787\n",
            "(4824, 170)\n",
            "170\n",
            "3788\n",
            "(1980, 91)\n"
          ],
          "name": "stdout"
        },
        {
          "output_type": "stream",
          "text": [
            "\n",
            "\n",
            " 41%|████      | 1425/3486 [07:21<2:12:35,  3.86s/it]\u001b[A\u001b[A"
          ],
          "name": "stderr"
        },
        {
          "output_type": "stream",
          "text": [
            "91\n",
            "3789\n",
            "(624, 61)\n",
            "61\n",
            "3790\n",
            "(1500, 85)\n",
            "85\n",
            "3791\n",
            "(2790, 121)\n",
            "121\n",
            "3792\n",
            "(8595, 236)\n",
            "236\n",
            "3793\n"
          ],
          "name": "stdout"
        },
        {
          "output_type": "stream",
          "text": [
            "\n",
            "\n",
            " 41%|████      | 1427/3486 [07:21<1:33:15,  2.72s/it]\u001b[A\u001b[A"
          ],
          "name": "stderr"
        },
        {
          "output_type": "stream",
          "text": [
            "(2880, 112)\n",
            "112\n",
            "3794\n",
            "(5508, 189)\n",
            "189\n",
            "3795\n",
            "(3780, 132)\n",
            "132\n",
            "3796\n",
            "(864, 66)\n",
            "66\n",
            "3797\n",
            "(624, 61)\n",
            "61\n",
            "3798\n",
            "(810, 63)\n",
            "63\n",
            "3799\n",
            "(1296, 75)\n",
            "75\n",
            "3800\n",
            "(5832, 198)\n"
          ],
          "name": "stdout"
        },
        {
          "output_type": "stream",
          "text": [
            "\n",
            "\n",
            " 41%|████      | 1433/3486 [07:21<1:05:21,  1.91s/it]\u001b[A\u001b[A\n",
            "\n",
            " 41%|████▏     | 1438/3486 [07:21<45:56,  1.35s/it]  \u001b[A\u001b[A"
          ],
          "name": "stderr"
        },
        {
          "output_type": "stream",
          "text": [
            "198\n",
            "3802\n",
            "(432, 48)\n",
            "48\n",
            "3803\n",
            "(756, 57)\n",
            "57\n",
            "3804\n",
            "(1260, 71)\n",
            "71\n",
            "3805\n",
            "(1008, 64)\n",
            "64\n",
            "3806\n",
            "(5805, 174)\n",
            "174\n",
            "3807\n",
            "(1080, 66)\n",
            "66\n",
            "3808\n",
            "(1296, 72)\n",
            "72\n",
            "3809\n",
            "(1008, 64)\n",
            "64\n",
            "3811\n"
          ],
          "name": "stdout"
        },
        {
          "output_type": "stream",
          "text": [
            "\n",
            "\n",
            " 41%|████▏     | 1444/3486 [07:21<32:15,  1.05it/s]\u001b[A\u001b[A\n",
            "\n",
            " 42%|████▏     | 1448/3486 [07:21<22:53,  1.48it/s]\u001b[A\u001b[A"
          ],
          "name": "stderr"
        },
        {
          "output_type": "stream",
          "text": [
            "(3780, 129)\n",
            "129\n",
            "3812\n",
            "(540, 57)\n",
            "57\n",
            "3813\n",
            "(2295, 96)\n",
            "96\n",
            "3814\n",
            "(2820, 107)\n",
            "107\n",
            "3816\n",
            "(4428, 159)\n",
            "159\n",
            "3817\n",
            "(660, 71)\n",
            "71\n",
            "3818\n",
            "(3800, 135)\n",
            "135\n",
            "3819\n",
            "(1728, 124)\n",
            "124\n",
            "3820\n",
            "(168, 31)\n",
            "31\n",
            "3821\n",
            "(1500, 95)\n",
            "95\n",
            "3822\n",
            "(270, 51)\n",
            "51\n",
            "3823\n",
            "(2304, 100)\n",
            "100\n",
            "3824\n",
            "(14400, 378)\n"
          ],
          "name": "stdout"
        },
        {
          "output_type": "stream",
          "text": [
            "\n",
            "\n",
            " 42%|████▏     | 1454/3486 [07:22<16:39,  2.03it/s]\u001b[A\u001b[A\n",
            "\n",
            " 42%|████▏     | 1457/3486 [07:22<12:05,  2.80it/s]\u001b[A\u001b[A"
          ],
          "name": "stderr"
        },
        {
          "output_type": "stream",
          "text": [
            "378\n",
            "3825\n",
            "(6750, 165)\n",
            "165\n",
            "3826\n",
            "(4320, 132)\n",
            "132\n",
            "3827\n",
            "(2295, 96)\n",
            "96\n",
            "3828\n",
            "(2100, 95)\n",
            "95\n",
            "3829\n",
            "(3888, 144)\n"
          ],
          "name": "stdout"
        },
        {
          "output_type": "stream",
          "text": [
            "\n",
            "\n",
            " 42%|████▏     | 1460/3486 [07:22<08:49,  3.82it/s]\u001b[A\u001b[A\n",
            "\n",
            " 42%|████▏     | 1463/3486 [07:22<06:36,  5.10it/s]\u001b[A\u001b[A"
          ],
          "name": "stderr"
        },
        {
          "output_type": "stream",
          "text": [
            "144\n",
            "3831\n",
            "(3420, 131)\n",
            "131\n",
            "3832\n",
            "(2115, 92)\n",
            "92\n",
            "3833\n",
            "(2664, 110)\n",
            "110\n",
            "3834\n",
            "(6228, 209)\n",
            "209\n",
            "3835\n",
            "(2088, 94)\n",
            "94\n",
            "3836"
          ],
          "name": "stdout"
        },
        {
          "output_type": "stream",
          "text": [
            "\n",
            "\n",
            " 42%|████▏     | 1468/3486 [07:22<04:49,  6.97it/s]\u001b[A\u001b[A"
          ],
          "name": "stderr"
        },
        {
          "output_type": "stream",
          "text": [
            "\n",
            "(396, 47)\n",
            "47\n",
            "3837\n",
            "(2268, 99)\n",
            "99\n",
            "3838\n",
            "(2016, 100)\n",
            "100\n",
            "3839\n",
            "(1200, 91)\n",
            "91\n",
            "3840\n",
            "(1656, 95)\n",
            "95\n",
            "3841\n",
            "(864, 60)\n",
            "60\n",
            "3842\n",
            "(864, 60)\n",
            "60\n",
            "3843\n",
            "(2700, 111)\n",
            "111\n",
            "3844\n",
            "(7344, 240)\n"
          ],
          "name": "stdout"
        },
        {
          "output_type": "stream",
          "text": [
            "\n",
            "\n",
            " 42%|████▏     | 1473/3486 [07:22<03:42,  9.05it/s]\u001b[A\u001b[A"
          ],
          "name": "stderr"
        },
        {
          "output_type": "stream",
          "text": [
            "240\n",
            "3845\n",
            "(1980, 93)\n",
            "93\n",
            "3846\n",
            "(2304, 100)\n",
            "100\n",
            "3847\n",
            "(1680, 88)\n",
            "88\n",
            "3848\n",
            "(468, 49)\n",
            "49\n",
            "3849\n",
            "(14436, 437)\n"
          ],
          "name": "stdout"
        },
        {
          "output_type": "stream",
          "text": [
            "\n",
            "\n",
            " 42%|████▏     | 1478/3486 [07:23<03:32,  9.45it/s]\u001b[A\u001b[A\n",
            "\n",
            " 43%|████▎     | 1483/3486 [07:23<02:42, 12.36it/s]\u001b[A\u001b[A"
          ],
          "name": "stderr"
        },
        {
          "output_type": "stream",
          "text": [
            "437\n",
            "3850\n",
            "(1521, 78)\n",
            "78\n",
            "3852\n",
            "(756, 57)\n",
            "57\n",
            "3853\n",
            "(612, 53)\n",
            "53\n",
            "3854\n",
            "(2460, 101)\n",
            "101\n",
            "3855\n",
            "(5250, 145)\n",
            "145\n",
            "3856\n",
            "(828, 59)\n",
            "59\n",
            "3857\n",
            "(512, 72)\n",
            "72\n",
            "3858\n",
            "(6480, 162)\n"
          ],
          "name": "stdout"
        },
        {
          "output_type": "stream",
          "text": [
            "\n",
            "\n",
            " 43%|████▎     | 1487/3486 [07:23<02:10, 15.38it/s]\u001b[A\u001b[A\n",
            "\n",
            " 43%|████▎     | 1491/3486 [07:23<01:51, 17.86it/s]\u001b[A\u001b[A"
          ],
          "name": "stderr"
        },
        {
          "output_type": "stream",
          "text": [
            "162\n",
            "3859\n",
            "(1404, 75)\n",
            "75\n",
            "3860\n",
            "(3510, 129)\n",
            "129\n",
            "3861\n",
            "(2520, 102)\n",
            "102\n",
            "3862\n",
            "(2916, 117)\n",
            "117\n",
            "3863\n",
            "(3168, 124)\n",
            "124\n",
            "3864\n",
            "(2160, 102)\n",
            "102\n",
            "3865\n",
            "(1368, 91)\n",
            "91\n",
            "3866\n",
            "(31032, 898)\n",
            "898\n",
            "3867\n",
            "(31572, 913)\n"
          ],
          "name": "stdout"
        },
        {
          "output_type": "stream",
          "text": [
            "\n",
            "\n",
            " 43%|████▎     | 1495/3486 [07:27<11:20,  2.92it/s]\u001b[A\u001b[A"
          ],
          "name": "stderr"
        },
        {
          "output_type": "stream",
          "text": [
            "913\n",
            "3868\n",
            "(30132, 873)\n",
            "873\n",
            "3869\n",
            "(25848, 754)\n",
            "754\n",
            "3870\n",
            "(31608, 914)\n"
          ],
          "name": "stdout"
        },
        {
          "output_type": "stream",
          "text": [
            "\n",
            "\n",
            " 43%|████▎     | 1498/3486 [07:32<24:02,  1.38it/s]\u001b[A\u001b[A"
          ],
          "name": "stderr"
        },
        {
          "output_type": "stream",
          "text": [
            "914\n",
            "3871\n",
            "(28296, 822)\n"
          ],
          "name": "stdout"
        },
        {
          "output_type": "stream",
          "text": [
            "\n",
            "\n",
            " 43%|████▎     | 1500/3486 [07:34<24:42,  1.34it/s]\u001b[A\u001b[A\n",
            "\n",
            " 43%|████▎     | 1503/3486 [07:34<17:44,  1.86it/s]\u001b[A\u001b[A"
          ],
          "name": "stderr"
        },
        {
          "output_type": "stream",
          "text": [
            "822\n",
            "3873\n",
            "(540, 51)\n",
            "51\n",
            "3875\n",
            "(4860, 141)\n",
            "141\n",
            "3876\n",
            "(630, 59)\n",
            "59\n",
            "3877\n",
            "(5868, 199)\n",
            "199\n",
            "3878\n",
            "(16200, 374)\n"
          ],
          "name": "stdout"
        },
        {
          "output_type": "stream",
          "text": [
            "\n",
            "\n",
            " 43%|████▎     | 1505/3486 [07:34<14:24,  2.29it/s]\u001b[A\u001b[A\n",
            "\n",
            " 43%|████▎     | 1508/3486 [07:34<10:31,  3.13it/s]\u001b[A\u001b[A"
          ],
          "name": "stderr"
        },
        {
          "output_type": "stream",
          "text": [
            "374\n",
            "3879\n",
            "(3240, 126)\n",
            "126\n",
            "3880\n",
            "(6594, 199)\n",
            "199\n",
            "3881\n",
            "(1080, 69)\n",
            "69\n",
            "3882\n",
            "(4752, 168)\n",
            "168\n",
            "3883\n",
            "(1125, 70)\n",
            "70\n",
            "3884\n",
            "(2088, 94)\n"
          ],
          "name": "stdout"
        },
        {
          "output_type": "stream",
          "text": [
            "\n",
            "\n",
            " 43%|████▎     | 1514/3486 [07:34<07:33,  4.35it/s]\u001b[A\u001b[A"
          ],
          "name": "stderr"
        },
        {
          "output_type": "stream",
          "text": [
            "94\n",
            "3885\n",
            "(1728, 201)\n",
            "201\n",
            "3886\n",
            "(1920, 92)\n",
            "92\n",
            "3887\n",
            "(540, 57)\n",
            "57\n",
            "3888\n",
            "(3330, 127)\n",
            "127\n",
            "3889\n",
            "(11655, 304)\n",
            "304\n",
            "3890\n",
            "(720, 72)\n",
            "72\n",
            "3891\n",
            "(10296, 322)\n"
          ],
          "name": "stdout"
        },
        {
          "output_type": "stream",
          "text": [
            "\n",
            "\n",
            " 44%|████▎     | 1517/3486 [07:35<06:42,  4.89it/s]\u001b[A\u001b[A"
          ],
          "name": "stderr"
        },
        {
          "output_type": "stream",
          "text": [
            "322\n",
            "3892\n",
            "(10116, 317)\n",
            "317\n"
          ],
          "name": "stdout"
        },
        {
          "output_type": "stream",
          "text": [
            "\n",
            "\n",
            " 44%|████▎     | 1519/3486 [07:35<06:17,  5.21it/s]\u001b[A\u001b[A"
          ],
          "name": "stderr"
        },
        {
          "output_type": "stream",
          "text": [
            "3893\n",
            "(8604, 275)\n",
            "275\n",
            "3894\n",
            "(2880, 108)\n",
            "108\n",
            "3895\n",
            "(43152, 947)\n"
          ],
          "name": "stdout"
        },
        {
          "output_type": "stream",
          "text": [
            "\n",
            "\n",
            " 44%|████▎     | 1521/3486 [07:38<17:59,  1.82it/s]\u001b[A\u001b[A"
          ],
          "name": "stderr"
        },
        {
          "output_type": "stream",
          "text": [
            "947\n",
            "3896\n",
            "(37728, 1084)\n"
          ],
          "name": "stdout"
        },
        {
          "output_type": "stream",
          "text": [
            "\n",
            "\n",
            " 44%|████▎     | 1523/3486 [07:41<28:35,  1.14it/s]\u001b[A\u001b[A"
          ],
          "name": "stderr"
        },
        {
          "output_type": "stream",
          "text": [
            "1084\n",
            "3897\n",
            "(2124, 95)\n",
            "95\n",
            "3898\n",
            "(1575, 80)\n",
            "80\n",
            "3899\n",
            "(10080, 316)\n"
          ],
          "name": "stdout"
        },
        {
          "output_type": "stream",
          "text": [
            "\n",
            "\n",
            " 44%|████▎     | 1525/3486 [07:41<21:02,  1.55it/s]\u001b[A\u001b[A"
          ],
          "name": "stderr"
        },
        {
          "output_type": "stream",
          "text": [
            "316\n",
            "3901\n",
            "(3384, 119)\n",
            "119\n",
            "3902\n",
            "(16731, 468)\n"
          ],
          "name": "stdout"
        },
        {
          "output_type": "stream",
          "text": [
            "\n",
            "\n",
            " 44%|████▍     | 1527/3486 [07:42<17:18,  1.89it/s]\u001b[A\u001b[A\n",
            "\n",
            " 44%|████▍     | 1528/3486 [07:42<13:07,  2.49it/s]\u001b[A\u001b[A"
          ],
          "name": "stderr"
        },
        {
          "output_type": "stream",
          "text": [
            "468\n",
            "3903\n",
            "(8055, 224)\n",
            "224\n",
            "3904\n",
            "(1740, 89)\n",
            "89\n",
            "3905\n",
            "(360, 42)\n",
            "42\n",
            "3906\n",
            "(7728, 226)\n"
          ],
          "name": "stdout"
        },
        {
          "output_type": "stream",
          "text": [
            "\n",
            "\n",
            " 44%|████▍     | 1531/3486 [07:42<09:39,  3.37it/s]\u001b[A\u001b[A\n",
            "\n",
            " 44%|████▍     | 1533/3486 [07:42<07:28,  4.36it/s]\u001b[A\u001b[A"
          ],
          "name": "stderr"
        },
        {
          "output_type": "stream",
          "text": [
            "226\n",
            "3907\n",
            "(7602, 223)\n",
            "223\n",
            "3908\n",
            "(4872, 158)\n",
            "158\n",
            "3909\n",
            "(4032, 138)\n",
            "138\n",
            "3910\n",
            "(4620, 152)\n",
            "152\n",
            "3911\n",
            "(43974, 848)\n"
          ],
          "name": "stdout"
        },
        {
          "output_type": "stream",
          "text": [
            "\n",
            "\n",
            " 44%|████▍     | 1536/3486 [07:45<12:45,  2.55it/s]\u001b[A\u001b[A\n",
            "\n",
            " 44%|████▍     | 1540/3486 [07:45<09:11,  3.53it/s]\u001b[A\u001b[A"
          ],
          "name": "stderr"
        },
        {
          "output_type": "stream",
          "text": [
            "848\n",
            "3912\n",
            "(588, 56)\n",
            "56\n",
            "3913\n",
            "(504, 50)\n",
            "50\n",
            "3914\n",
            "(1500, 85)\n",
            "85\n",
            "3915\n",
            "(5652, 193)\n",
            "193\n",
            "3916\n",
            "(630, 59)\n",
            "59\n",
            "3917\n",
            "(4329, 150)\n"
          ],
          "name": "stdout"
        },
        {
          "output_type": "stream",
          "text": [
            "\n",
            "\n",
            " 44%|████▍     | 1543/3486 [07:45<07:08,  4.54it/s]\u001b[A\u001b[A"
          ],
          "name": "stderr"
        },
        {
          "output_type": "stream",
          "text": [
            "150\n",
            "3918\n",
            "(9630, 259)\n",
            "259\n",
            "3919\n",
            "(2970, 123)\n",
            "123\n",
            "3920\n"
          ],
          "name": "stdout"
        },
        {
          "output_type": "stream",
          "text": [
            "\n",
            "\n",
            " 44%|████▍     | 1547/3486 [07:45<05:17,  6.11it/s]\u001b[A\u001b[A"
          ],
          "name": "stderr"
        },
        {
          "output_type": "stream",
          "text": [
            "(3348, 129)\n",
            "129\n",
            "3921\n",
            "(270, 51)\n",
            "51\n",
            "3922\n",
            "(3960, 146)\n",
            "146\n",
            "3923\n",
            "(5715, 172)\n",
            "172\n",
            "3924\n",
            "(3564, 135)\n",
            "135\n",
            "3925\n",
            "(5805, 174)\n"
          ],
          "name": "stdout"
        },
        {
          "output_type": "stream",
          "text": [
            "\n",
            "\n",
            " 44%|████▍     | 1550/3486 [07:45<04:13,  7.63it/s]\u001b[A\u001b[A\n",
            "\n",
            " 45%|████▍     | 1552/3486 [07:45<03:38,  8.83it/s]\u001b[A\u001b[A"
          ],
          "name": "stderr"
        },
        {
          "output_type": "stream",
          "text": [
            "174\n",
            "3926\n",
            "(4752, 168)\n",
            "168\n",
            "3927\n",
            "(6930, 199)\n",
            "199\n",
            "3928\n",
            "(5355, 164)\n"
          ],
          "name": "stdout"
        },
        {
          "output_type": "stream",
          "text": [
            "\n",
            "\n",
            " 45%|████▍     | 1554/3486 [07:46<03:08, 10.24it/s]\u001b[A\u001b[A"
          ],
          "name": "stderr"
        },
        {
          "output_type": "stream",
          "text": [
            "164\n",
            "3929\n",
            "(5220, 181)\n",
            "181\n",
            "3930\n",
            "(4212, 153)\n",
            "153\n",
            "3931\n",
            "(8460, 233)\n"
          ],
          "name": "stdout"
        },
        {
          "output_type": "stream",
          "text": [
            "\n",
            "\n",
            " 45%|████▍     | 1556/3486 [07:46<03:01, 10.64it/s]\u001b[A\u001b[A\n",
            "\n",
            " 45%|████▍     | 1559/3486 [07:46<02:32, 12.66it/s]\u001b[A\u001b[A"
          ],
          "name": "stderr"
        },
        {
          "output_type": "stream",
          "text": [
            "233\n",
            "3932\n",
            "(4032, 148)\n",
            "148\n",
            "3933\n",
            "(4725, 150)\n",
            "150\n",
            "3934\n",
            "(3600, 136)\n",
            "136\n",
            "3935\n",
            "(7785, 218)\n"
          ],
          "name": "stdout"
        },
        {
          "output_type": "stream",
          "text": [
            "\n",
            "\n",
            " 45%|████▍     | 1561/3486 [07:46<02:25, 13.23it/s]\u001b[A\u001b[A\n",
            "\n",
            " 45%|████▍     | 1564/3486 [07:46<02:06, 15.21it/s]\u001b[A\u001b[A"
          ],
          "name": "stderr"
        },
        {
          "output_type": "stream",
          "text": [
            "218\n",
            "3936\n",
            "(2016, 92)\n",
            "92\n",
            "3938\n",
            "(1800, 110)\n",
            "110\n",
            "3939\n",
            "(3060, 121)\n",
            "121\n",
            "3940\n",
            "(6165, 182)\n",
            "182\n",
            "3941\n"
          ],
          "name": "stdout"
        },
        {
          "output_type": "stream",
          "text": [
            "\n",
            "\n",
            " 45%|████▍     | 1566/3486 [07:46<02:18, 13.88it/s]\u001b[A\u001b[A"
          ],
          "name": "stderr"
        },
        {
          "output_type": "stream",
          "text": [
            "(9432, 298)\n",
            "298\n",
            "3942\n",
            "(504, 50)\n",
            "50\n",
            "3943\n",
            "(1440, 84)\n",
            "84\n",
            "3944\n",
            "(684, 55)\n",
            "55\n",
            "3945\n",
            "(3636, 137)\n",
            "137"
          ],
          "name": "stdout"
        },
        {
          "output_type": "stream",
          "text": [
            "\n",
            "\n",
            " 45%|████▌     | 1570/3486 [07:47<02:11, 14.57it/s]\u001b[A\u001b[A"
          ],
          "name": "stderr"
        },
        {
          "output_type": "stream",
          "text": [
            "\n",
            "3946\n",
            "(9828, 309)\n",
            "309\n",
            "3947\n",
            "(12240, 376)\n",
            "376\n",
            "3948\n",
            "(12816, 392)\n"
          ],
          "name": "stdout"
        },
        {
          "output_type": "stream",
          "text": [
            "\n",
            "\n",
            " 45%|████▌     | 1572/3486 [07:47<04:41,  6.81it/s]\u001b[A\u001b[A"
          ],
          "name": "stderr"
        },
        {
          "output_type": "stream",
          "text": [
            "392\n",
            "3949\n",
            "(11448, 354)\n",
            "354\n",
            "3950\n",
            "(13464, 410)\n"
          ],
          "name": "stdout"
        },
        {
          "output_type": "stream",
          "text": [
            "\n",
            "\n",
            " 45%|████▌     | 1574/3486 [07:48<05:57,  5.34it/s]\u001b[A\u001b[A\n",
            "\n",
            " 45%|████▌     | 1575/3486 [07:48<05:59,  5.32it/s]"
          ],
          "name": "stderr"
        },
        {
          "output_type": "stream",
          "text": [
            "410\n",
            "3951\n",
            "(10368, 324)\n",
            "324\n"
          ],
          "name": "stdout"
        },
        {
          "output_type": "stream",
          "text": [
            "\u001b[A\u001b[A"
          ],
          "name": "stderr"
        },
        {
          "output_type": "stream",
          "text": [
            "3952\n",
            "(11772, 363)\n"
          ],
          "name": "stdout"
        },
        {
          "output_type": "stream",
          "text": [
            "\n",
            "\n",
            " 45%|████▌     | 1576/3486 [07:48<06:46,  4.69it/s]\u001b[A\u001b[A\n",
            "\n",
            " 45%|████▌     | 1579/3486 [07:48<05:06,  6.23it/s]\u001b[A\u001b[A"
          ],
          "name": "stderr"
        },
        {
          "output_type": "stream",
          "text": [
            "363\n",
            "3953\n",
            "(3420, 131)\n",
            "131\n",
            "3954\n",
            "(3645, 126)\n",
            "126\n",
            "3955\n",
            "(2484, 105)\n",
            "105\n",
            "3956\n",
            "(1560, 86)\n",
            "86\n",
            "3957\n",
            "(1728, 96)\n",
            "96\n",
            "3958\n",
            "(1488, 79)\n",
            "79\n",
            "3959\n",
            "(2720, 108)\n"
          ],
          "name": "stdout"
        },
        {
          "output_type": "stream",
          "text": [
            "\n",
            "\n",
            " 45%|████▌     | 1584/3486 [07:48<03:45,  8.44it/s]\u001b[A\u001b[A"
          ],
          "name": "stderr"
        },
        {
          "output_type": "stream",
          "text": [
            "108\n",
            "3960\n",
            "(945, 66)\n",
            "66\n",
            "3961\n",
            "(12888, 394)\n"
          ],
          "name": "stdout"
        },
        {
          "output_type": "stream",
          "text": [
            "\n",
            "\n",
            " 46%|████▌     | 1587/3486 [07:49<03:47,  8.34it/s]\u001b[A\u001b[A"
          ],
          "name": "stderr"
        },
        {
          "output_type": "stream",
          "text": [
            "394\n",
            "3962\n",
            "(3168, 124)\n",
            "124\n",
            "3963\n",
            "(3276, 127)\n",
            "127\n",
            "3965\n",
            "(495, 56)\n",
            "56\n",
            "3966\n",
            "(1305, 74)\n",
            "74\n",
            "3967\n",
            "(675, 60)\n",
            "60\n",
            "3968\n",
            "(1800, 85)\n",
            "85\n",
            "3969\n",
            "(1260, 73)\n",
            "73\n",
            "3970\n",
            "(630, 59)\n",
            "59\n",
            "3971\n",
            "(14364, 435)\n"
          ],
          "name": "stdout"
        },
        {
          "output_type": "stream",
          "text": [
            "\n",
            "\n",
            " 46%|████▌     | 1594/3486 [07:49<03:15,  9.68it/s]\u001b[A\u001b[A\n",
            "\n",
            " 46%|████▌     | 1599/3486 [07:49<02:30, 12.50it/s]\u001b[A\u001b[A"
          ],
          "name": "stderr"
        },
        {
          "output_type": "stream",
          "text": [
            "435\n",
            "3972\n",
            "(3393, 126)\n",
            "126\n",
            "3973\n",
            "(2880, 108)\n",
            "108\n",
            "3974\n",
            "(972, 63)\n",
            "63\n",
            "3975\n",
            "(360, 46)\n",
            "46\n",
            "3976\n",
            "(4545, 146)\n",
            "146\n",
            "3977\n",
            "(4860, 144)\n",
            "144\n",
            "3978\n",
            "(76, 40)\n",
            "40\n",
            "3979\n"
          ],
          "name": "stdout"
        },
        {
          "output_type": "stream",
          "text": [
            "\n",
            "\n",
            " 46%|████▌     | 1602/3486 [07:50<02:19, 13.50it/s]\u001b[A\u001b[A\n",
            "\n",
            " 46%|████▌     | 1612/3486 [07:50<01:42, 18.21it/s]\u001b[A\u001b[A"
          ],
          "name": "stderr"
        },
        {
          "output_type": "stream",
          "text": [
            "(8892, 283)\n",
            "283\n",
            "3980\n",
            "(468, 49)\n",
            "49\n",
            "3981\n",
            "(1332, 73)\n",
            "73\n",
            "3982\n",
            "(920, 63)\n",
            "63\n",
            "3983\n",
            "(440, 51)\n",
            "51\n",
            "3984\n",
            "(504, 50)\n",
            "50\n",
            "3985\n",
            "(396, 47)\n",
            "47\n",
            "3986\n",
            "(648, 54)\n",
            "54\n",
            "3987\n",
            "(828, 59)\n",
            "59\n",
            "3988\n",
            "(540, 51)\n",
            "51\n",
            "3989\n",
            "(612, 53)\n",
            "53\n",
            "3990\n"
          ],
          "name": "stdout"
        },
        {
          "output_type": "stream",
          "text": [
            "\n",
            "\n",
            " 46%|████▋     | 1618/3486 [07:50<01:21, 22.79it/s]\u001b[A\u001b[A"
          ],
          "name": "stderr"
        },
        {
          "output_type": "stream",
          "text": [
            "(2220, 97)\n",
            "97\n",
            "3991\n",
            "(2304, 100)\n",
            "100\n",
            "3992\n",
            "(2100, 103)\n",
            "103\n",
            "3994\n",
            "(1350, 105)\n",
            "105\n",
            "3995\n",
            "(315, 52)\n",
            "52\n",
            "3996\n",
            "(675, 84)\n",
            "84\n",
            "3997\n",
            "(2340, 97)\n",
            "97\n",
            "3998\n",
            "(1044, 65)\n",
            "65\n",
            "3999\n",
            "(1800, 99)\n",
            "99\n",
            "4000\n",
            "(1836, 87)\n",
            "87\n",
            "4001\n",
            "(765, 62)\n",
            "62\n",
            "4002\n",
            "(3528, 134)\n"
          ],
          "name": "stdout"
        },
        {
          "output_type": "stream",
          "text": [
            "\n",
            "\n",
            " 47%|████▋     | 1624/3486 [07:50<01:08, 27.08it/s]\u001b[A\u001b[A"
          ],
          "name": "stderr"
        },
        {
          "output_type": "stream",
          "text": [
            "134\n",
            "4003\n",
            "(3780, 123)\n",
            "123\n",
            "4004\n",
            "(864, 60)\n",
            "60\n",
            "4005\n",
            "(360, 53)\n",
            "53\n",
            "4010\n",
            "(17394, 485)\n"
          ],
          "name": "stdout"
        },
        {
          "output_type": "stream",
          "text": [
            "\n",
            "\n",
            " 47%|████▋     | 1629/3486 [07:50<01:53, 16.30it/s]\u001b[A\u001b[A"
          ],
          "name": "stderr"
        },
        {
          "output_type": "stream",
          "text": [
            "485\n",
            "4011\n",
            "(2405, 102)\n",
            "102\n",
            "4012\n",
            "(7440, 226)\n",
            "226\n",
            "4013\n",
            "(1380, 83)\n",
            "83\n",
            "4014\n",
            "(1440, 84)\n",
            "84\n",
            "4015\n",
            "(4644, 165)\n"
          ],
          "name": "stdout"
        },
        {
          "output_type": "stream",
          "text": [
            "\n",
            "\n",
            " 47%|████▋     | 1633/3486 [07:51<01:46, 17.47it/s]\u001b[A\u001b[A\n",
            "\n",
            " 47%|████▋     | 1637/3486 [07:51<01:29, 20.76it/s]\u001b[A\u001b[A"
          ],
          "name": "stderr"
        },
        {
          "output_type": "stream",
          "text": [
            "165\n",
            "4016\n",
            "(1980, 91)\n",
            "91\n",
            "4017\n",
            "(1440, 76)\n",
            "76\n",
            "4018\n",
            "(4680, 138)\n",
            "138\n",
            "4019\n",
            "(1980, 112)\n",
            "112\n",
            "4020\n",
            "(2925, 110)\n",
            "110\n",
            "4021\n",
            "(2700, 111)\n",
            "111\n",
            "4023\n",
            "(1224, 70)\n",
            "70\n",
            "4025\n",
            "(4320, 138)\n"
          ],
          "name": "stdout"
        },
        {
          "output_type": "stream",
          "text": [
            "\n",
            "\n",
            " 47%|████▋     | 1641/3486 [07:51<01:18, 23.45it/s]\u001b[A\u001b[A"
          ],
          "name": "stderr"
        },
        {
          "output_type": "stream",
          "text": [
            "138\n",
            "4026\n",
            "(10215, 272)\n",
            "272\n",
            "4027\n",
            "(1656, 82)\n",
            "82\n",
            "4028\n",
            "(3780, 132)\n"
          ],
          "name": "stdout"
        },
        {
          "output_type": "stream",
          "text": [
            "\n",
            "\n",
            " 47%|████▋     | 1645/3486 [07:51<01:35, 19.26it/s]\u001b[A\u001b[A"
          ],
          "name": "stderr"
        },
        {
          "output_type": "stream",
          "text": [
            "132\n",
            "4029\n",
            "(6084, 205)\n",
            "205\n",
            "4030\n",
            "(3360, 116)\n",
            "116\n",
            "4031\n",
            "(1872, 87)\n",
            "87\n",
            "4032\n",
            "(816, 65)\n",
            "65\n",
            "4033\n",
            "(8028, 259)\n"
          ],
          "name": "stdout"
        },
        {
          "output_type": "stream",
          "text": [
            "\n",
            "\n",
            " 47%|████▋     | 1649/3486 [07:51<01:31, 20.11it/s]\u001b[A\u001b[A\n",
            "\n",
            " 47%|████▋     | 1653/3486 [07:51<01:21, 22.42it/s]\u001b[A\u001b[A"
          ],
          "name": "stderr"
        },
        {
          "output_type": "stream",
          "text": [
            "259\n",
            "4034\n",
            "(2610, 119)\n",
            "119\n",
            "4035\n",
            "(684, 55)\n",
            "55\n",
            "4036\n",
            "(4725, 138)\n",
            "138\n",
            "4037\n",
            "(4752, 138)\n",
            "138\n",
            "4038\n",
            "(2448, 104)\n",
            "104\n",
            "4039\n",
            "(2016, 92)\n",
            "92\n",
            "4040\n",
            "(2664, 110)\n"
          ],
          "name": "stdout"
        },
        {
          "output_type": "stream",
          "text": [
            "\n",
            "\n",
            " 48%|████▊     | 1657/3486 [07:52<01:11, 25.47it/s]\u001b[A\u001b[A"
          ],
          "name": "stderr"
        },
        {
          "output_type": "stream",
          "text": [
            "110\n",
            "4041\n",
            "(2376, 102)\n",
            "102\n",
            "4042\n",
            "(3024, 120)\n",
            "120\n",
            "4043\n",
            "(15228, 440)\n"
          ],
          "name": "stdout"
        },
        {
          "output_type": "stream",
          "text": [
            "\n",
            "\n",
            " 48%|████▊     | 1661/3486 [07:52<02:00, 15.12it/s]\u001b[A\u001b[A"
          ],
          "name": "stderr"
        },
        {
          "output_type": "stream",
          "text": [
            "440\n",
            "4044\n",
            "(7308, 239)\n",
            "239\n",
            "4045\n",
            "(828, 59)\n",
            "59\n",
            "4046\n",
            "(3276, 127)\n",
            "127\n",
            "4047\n",
            "(2220, 97)\n",
            "97\n",
            "4048\n",
            "(1296, 75)\n"
          ],
          "name": "stdout"
        },
        {
          "output_type": "stream",
          "text": [
            "\n",
            "\n",
            " 48%|████▊     | 1667/3486 [07:52<01:36, 18.76it/s]\u001b[A\u001b[A\n",
            "\n",
            " 48%|████▊     | 1671/3486 [07:52<01:21, 22.27it/s]\u001b[A\u001b[A"
          ],
          "name": "stderr"
        },
        {
          "output_type": "stream",
          "text": [
            "75\n",
            "4049\n",
            "(630, 57)\n",
            "57\n",
            "4050\n",
            "(900, 61)\n",
            "61\n",
            "4051\n",
            "(4356, 157)\n",
            "157\n",
            "4052\n",
            "(6375, 160)\n",
            "160\n",
            "4053\n",
            "(396, 47)\n",
            "47\n",
            "4054\n",
            "(420, 44)\n",
            "44\n",
            "4055\n",
            "(2160, 114)\n",
            "114\n",
            "4056\n",
            "(288, 44)\n",
            "44\n",
            "4057\n",
            "(612, 53)\n",
            "53\n",
            "4058\n",
            "(1128, 71)\n"
          ],
          "name": "stdout"
        },
        {
          "output_type": "stream",
          "text": [
            "\n",
            "\n",
            " 48%|████▊     | 1675/3486 [07:53<01:21, 22.19it/s]\u001b[A\u001b[A"
          ],
          "name": "stderr"
        },
        {
          "output_type": "stream",
          "text": [
            "71\n",
            "4059\n",
            "(8676, 277)\n",
            "277\n",
            "4060\n",
            "(10416, 265)\n"
          ],
          "name": "stdout"
        },
        {
          "output_type": "stream",
          "text": [
            "\n",
            "\n",
            " 48%|████▊     | 1678/3486 [07:53<01:28, 20.34it/s]\u001b[A\u001b[A\n",
            "\n",
            " 48%|████▊     | 1682/3486 [07:53<01:18, 23.10it/s]\u001b[A\u001b[A"
          ],
          "name": "stderr"
        },
        {
          "output_type": "stream",
          "text": [
            "265\n",
            "4061\n",
            "(38, 39)\n",
            "39\n",
            "4062\n",
            "(432, 48)\n",
            "48\n",
            "4063\n",
            "(1200, 73)\n",
            "73\n",
            "4064\n",
            "(3708, 139)\n",
            "139\n",
            "4065\n",
            "(72, 38)\n",
            "38\n",
            "4066\n",
            "(5472, 188)\n",
            "188\n",
            "4067\n",
            "(510, 47)\n",
            "47\n",
            "4069\n",
            "(8010, 223)\n"
          ],
          "name": "stdout"
        },
        {
          "output_type": "stream",
          "text": [
            "\n",
            "\n",
            " 48%|████▊     | 1685/3486 [07:53<01:20, 22.34it/s]\u001b[A\u001b[A\n",
            "\n",
            " 48%|████▊     | 1690/3486 [07:53<01:10, 25.57it/s]\u001b[A\u001b[A"
          ],
          "name": "stderr"
        },
        {
          "output_type": "stream",
          "text": [
            "223\n",
            "4070\n",
            "(2040, 94)\n",
            "94\n",
            "4071\n",
            "(720, 63)\n",
            "63\n",
            "4072\n",
            "(3600, 169)\n",
            "169\n",
            "4073\n",
            "(1380, 83)\n",
            "83\n",
            "4074\n",
            "(1200, 73)\n",
            "73\n",
            "4075\n",
            "(3510, 129)\n",
            "129\n",
            "4076\n",
            "(13412, 507)\n"
          ],
          "name": "stdout"
        },
        {
          "output_type": "stream",
          "text": [
            "\n",
            "\n",
            " 49%|████▊     | 1693/3486 [07:53<02:02, 14.62it/s]\u001b[A\u001b[A"
          ],
          "name": "stderr"
        },
        {
          "output_type": "stream",
          "text": [
            "507\n",
            "4077\n",
            "(1632, 82)\n",
            "82\n",
            "4078\n",
            "(1476, 77)\n",
            "77\n",
            "4079\n",
            "(336, 55)\n",
            "55\n",
            "4080\n",
            "(2580, 103)\n",
            "103\n",
            "4081\n",
            "(1512, 93)\n",
            "93\n",
            "4082\n",
            "(44775, 860)\n"
          ],
          "name": "stdout"
        },
        {
          "output_type": "stream",
          "text": [
            "\n",
            "\n",
            " 49%|████▊     | 1697/3486 [07:56<07:43,  3.86it/s]\u001b[A\u001b[A"
          ],
          "name": "stderr"
        },
        {
          "output_type": "stream",
          "text": [
            "860\n",
            "4083\n",
            "(1395, 76)\n",
            "76\n",
            "4084\n",
            "(1332, 73)\n",
            "73\n",
            "4085\n",
            "(12672, 388)\n"
          ],
          "name": "stdout"
        },
        {
          "output_type": "stream",
          "text": [
            "\n",
            "\n",
            " 49%|████▉     | 1700/3486 [07:57<06:22,  4.66it/s]\u001b[A\u001b[A"
          ],
          "name": "stderr"
        },
        {
          "output_type": "stream",
          "text": [
            "388\n",
            "4086\n",
            "(2628, 109)\n",
            "109\n",
            "4087\n",
            "(1020, 77)\n",
            "77\n",
            "4088\n",
            "(1440, 76)\n",
            "76\n",
            "4089\n",
            "(828, 59)\n",
            "59\n",
            "4090\n",
            "(684, 55)\n",
            "55\n",
            "4091\n",
            "(684, 55)\n",
            "55\n",
            "4092\n",
            "(9000, 245)\n"
          ],
          "name": "stdout"
        },
        {
          "output_type": "stream",
          "text": [
            "\n",
            "\n",
            " 49%|████▉     | 1707/3486 [07:57<04:42,  6.29it/s]\u001b[A\u001b[A"
          ],
          "name": "stderr"
        },
        {
          "output_type": "stream",
          "text": [
            "245\n",
            "4093\n",
            "(765, 62)\n",
            "62\n",
            "4094\n",
            "(816, 65)\n",
            "65\n",
            "4095\n",
            "(32544, 726)\n"
          ],
          "name": "stdout"
        },
        {
          "output_type": "stream",
          "text": [
            "\n",
            "\n",
            " 49%|████▉     | 1710/3486 [07:58<08:02,  3.68it/s]\u001b[A\u001b[A\n",
            "\n",
            " 49%|████▉     | 1714/3486 [07:59<05:50,  5.06it/s]\u001b[A\u001b[A"
          ],
          "name": "stderr"
        },
        {
          "output_type": "stream",
          "text": [
            "726\n",
            "4096\n",
            "(3924, 145)\n",
            "145\n",
            "4097\n",
            "(252, 43)\n",
            "43\n",
            "4098\n",
            "(1152, 152)\n",
            "152\n",
            "4099\n",
            "(2976, 110)\n",
            "110\n",
            "4100\n",
            "(3132, 123)\n",
            "123\n",
            "4101\n",
            "(3744, 135)\n"
          ],
          "name": "stdout"
        },
        {
          "output_type": "stream",
          "text": [
            "\n",
            "\n",
            " 49%|████▉     | 1717/3486 [07:59<04:22,  6.73it/s]\u001b[A\u001b[A\n",
            "\n",
            " 49%|████▉     | 1721/3486 [07:59<03:16,  8.97it/s]\u001b[A\u001b[A"
          ],
          "name": "stderr"
        },
        {
          "output_type": "stream",
          "text": [
            "135\n",
            "4102\n",
            "(1800, 85)\n",
            "85\n",
            "4103\n",
            "(3708, 139)\n",
            "139\n",
            "4104\n",
            "(540, 69)\n",
            "69\n",
            "4105\n",
            "(1692, 83)\n",
            "83\n",
            "4106\n",
            "(2220, 97)\n",
            "97\n",
            "4107\n",
            "(324, 45)\n",
            "45\n",
            "4109\n",
            "(3525, 122)\n",
            "122\n",
            "4110\n",
            "(960, 76)\n",
            "76\n",
            "4112\n",
            "(1440, 78)\n",
            "78\n",
            "4113"
          ],
          "name": "stdout"
        },
        {
          "output_type": "stream",
          "text": [
            "\n",
            "\n",
            " 50%|████▉     | 1727/3486 [07:59<02:28, 11.84it/s]\u001b[A\u001b[A"
          ],
          "name": "stderr"
        },
        {
          "output_type": "stream",
          "text": [
            "\n",
            "(1044, 65)\n",
            "65\n",
            "4114\n",
            "(3456, 120)\n",
            "120\n",
            "4115\n",
            "(5292, 183)\n",
            "183\n",
            "4116\n",
            "(5112, 178)\n",
            "178\n",
            "4117\n",
            "(2196, 97)\n",
            "97\n",
            "4118\n",
            "(2304, 104)\n"
          ],
          "name": "stdout"
        },
        {
          "output_type": "stream",
          "text": [
            "\n",
            "\n",
            " 50%|████▉     | 1731/3486 [07:59<02:06, 13.86it/s]\u001b[A\u001b[A\n",
            "\n",
            " 50%|████▉     | 1737/3486 [07:59<01:37, 17.87it/s]\u001b[A\u001b[A"
          ],
          "name": "stderr"
        },
        {
          "output_type": "stream",
          "text": [
            "104\n",
            "4119\n",
            "(576, 52)\n",
            "52\n",
            "4121\n",
            "(612, 53)\n",
            "53\n",
            "4122\n",
            "(1530, 79)\n",
            "79\n",
            "4123\n",
            "(1608, 114)\n",
            "114\n",
            "4124\n",
            "(2376, 102)\n",
            "102\n",
            "4125\n",
            "(2448, 104)\n",
            "104\n",
            "4126\n",
            "(17712, 528)\n"
          ],
          "name": "stdout"
        },
        {
          "output_type": "stream",
          "text": [
            "\n",
            "\n",
            " 50%|████▉     | 1741/3486 [08:00<02:29, 11.65it/s]\u001b[A\u001b[A\n",
            "\n",
            " 50%|█████     | 1747/3486 [08:00<01:53, 15.35it/s]\u001b[A\u001b[A"
          ],
          "name": "stderr"
        },
        {
          "output_type": "stream",
          "text": [
            "528\n",
            "4127\n",
            "(1485, 78)\n",
            "78\n",
            "4128\n",
            "(540, 51)\n",
            "51\n",
            "4129\n",
            "(504, 50)\n",
            "50\n",
            "4130\n",
            "(360, 39)\n",
            "39\n",
            "4131\n",
            "(1728, 84)\n",
            "84\n",
            "4133\n",
            "(1584, 81)\n",
            "81\n",
            "4134\n",
            "(900, 61)\n",
            "61\n",
            "4135\n",
            "(1290, 246)\n",
            "246\n",
            "4138\n",
            "(1404, 75)\n",
            "75\n",
            "4139\n",
            "(1044, 65)\n",
            "65\n",
            "4140\n",
            "(1728, 156)\n",
            "156\n",
            "4142\n",
            "(810, 63)\n",
            "63\n",
            "4143\n",
            "(2205, 94)\n",
            "94\n",
            "4144\n",
            "(11952, 368)\n"
          ],
          "name": "stdout"
        },
        {
          "output_type": "stream",
          "text": [
            "\n",
            "\n",
            " 50%|█████     | 1752/3486 [08:00<01:54, 15.20it/s]\u001b[A\u001b[A"
          ],
          "name": "stderr"
        },
        {
          "output_type": "stream",
          "text": [
            "368\n",
            "4145\n",
            "(2250, 115)\n",
            "115\n",
            "4146\n",
            "(6824, 350)\n",
            "350\n",
            "4147\n",
            "(3608, 303)\n"
          ],
          "name": "stdout"
        },
        {
          "output_type": "stream",
          "text": [
            "\n",
            "\n",
            " 50%|█████     | 1756/3486 [08:00<01:53, 15.21it/s]\u001b[A\u001b[A"
          ],
          "name": "stderr"
        },
        {
          "output_type": "stream",
          "text": [
            "303\n",
            "4148\n",
            "(1800, 90)\n",
            "90\n",
            "4150\n",
            "(18000, 536)\n"
          ],
          "name": "stdout"
        },
        {
          "output_type": "stream",
          "text": [
            "\n",
            "\n",
            " 50%|█████     | 1759/3486 [08:01<02:59,  9.60it/s]\u001b[A\u001b[A\n",
            "\n",
            " 51%|█████     | 1763/3486 [08:01<02:19, 12.35it/s]\u001b[A\u001b[A"
          ],
          "name": "stderr"
        },
        {
          "output_type": "stream",
          "text": [
            "536\n",
            "4151\n",
            "(2880, 116)\n",
            "116\n",
            "4152\n",
            "(1260, 71)\n",
            "71\n",
            "4153\n",
            "(2556, 107)\n",
            "107\n",
            "4154\n",
            "(2970, 123)\n",
            "123\n",
            "4155\n",
            "(1575, 80)\n",
            "80\n",
            "4156\n",
            "(2880, 122)\n",
            "122\n",
            "4157\n",
            "(3564, 135)\n"
          ],
          "name": "stdout"
        },
        {
          "output_type": "stream",
          "text": [
            "\n",
            "\n",
            " 51%|█████     | 1767/3486 [08:01<01:52, 15.31it/s]\u001b[A\u001b[A"
          ],
          "name": "stderr"
        },
        {
          "output_type": "stream",
          "text": [
            "135\n",
            "4158\n",
            "(855, 64)\n",
            "64\n",
            "4159\n",
            "(72, 38)\n",
            "38\n",
            "4160\n",
            "(4356, 157)\n",
            "157\n",
            "4161\n",
            "(4284, 155)\n",
            "155\n",
            "4162\n",
            "(672, 62)\n",
            "62\n",
            "4163\n",
            "(8145, 226)\n"
          ],
          "name": "stdout"
        },
        {
          "output_type": "stream",
          "text": [
            "\n",
            "\n",
            " 51%|█████     | 1770/3486 [08:01<01:47, 15.92it/s]\u001b[A\u001b[A\n",
            "\n"
          ],
          "name": "stderr"
        },
        {
          "output_type": "stream",
          "text": [
            "226\n",
            "4164\n",
            "(360, 53)\n",
            "53\n",
            "4165\n",
            "(3672, 138)\n",
            "138\n",
            "4166\n",
            "(810, 63)\n",
            "63\n",
            "4167\n",
            "(8910, 243)\n",
            "243\n"
          ],
          "name": "stdout"
        },
        {
          "output_type": "stream",
          "text": [
            "\r 51%|█████     | 1774/3486 [08:02<01:40, 17.11it/s]\u001b[A\u001b[A"
          ],
          "name": "stderr"
        },
        {
          "output_type": "stream",
          "text": [
            "4168\n",
            "(29016, 514)\n"
          ],
          "name": "stdout"
        },
        {
          "output_type": "stream",
          "text": [
            "\n",
            "\n",
            " 51%|█████     | 1777/3486 [08:03<03:51,  7.37it/s]\u001b[A\u001b[A"
          ],
          "name": "stderr"
        },
        {
          "output_type": "stream",
          "text": [
            "514\n",
            "4169\n",
            "(2214, 95)\n",
            "95\n",
            "4170\n",
            "(3312, 117)\n",
            "117\n",
            "4171\n",
            "(1470, 79)\n",
            "79\n",
            "4172\n",
            "(3924, 145)\n",
            "145\n",
            "4174\n",
            "(11916, 367)\n"
          ],
          "name": "stdout"
        },
        {
          "output_type": "stream",
          "text": [
            "\n",
            "\n",
            " 51%|█████     | 1780/3486 [08:03<03:36,  7.88it/s]\u001b[A\u001b[A\n",
            "\n",
            " 51%|█████     | 1782/3486 [08:03<02:58,  9.55it/s]\u001b[A\u001b[A"
          ],
          "name": "stderr"
        },
        {
          "output_type": "stream",
          "text": [
            "367\n",
            "4175\n",
            "(3300, 340)\n",
            "340\n",
            "4176\n",
            "(3636, 137)\n",
            "137\n",
            "4177\n",
            "(360, 46)\n",
            "46\n",
            "4178\n",
            "(315, 52)\n",
            "52\n",
            "4179\n",
            "(648, 54)\n",
            "54\n",
            "4180\n",
            "(1575, 96)\n",
            "96\n",
            "4181\n",
            "(1404, 75)\n",
            "75\n",
            "4182\n"
          ],
          "name": "stdout"
        },
        {
          "output_type": "stream",
          "text": [
            "\n",
            "\n",
            " 51%|█████▏    | 1788/3486 [08:03<02:18, 12.29it/s]\u001b[A\u001b[A"
          ],
          "name": "stderr"
        },
        {
          "output_type": "stream",
          "text": [
            "(7470, 211)\n",
            "211\n",
            "4183\n",
            "(660, 59)\n",
            "59\n",
            "4184\n",
            "(990, 73)\n",
            "73\n",
            "4186\n",
            "(3975, 128)\n",
            "128\n",
            "4187\n",
            "(15156, 457)\n"
          ],
          "name": "stdout"
        },
        {
          "output_type": "stream",
          "text": [
            "\n",
            "\n",
            " 51%|█████▏    | 1792/3486 [08:04<02:46, 10.17it/s]\u001b[A\u001b[A\n",
            "\n",
            " 51%|█████▏    | 1794/3486 [08:04<02:32, 11.06it/s]\u001b[A\u001b[A"
          ],
          "name": "stderr"
        },
        {
          "output_type": "stream",
          "text": [
            "457\n",
            "4188\n",
            "(4896, 172)\n",
            "172\n",
            "4189\n",
            "(5724, 195)\n",
            "195\n",
            "4190\n",
            "(1500, 85)\n",
            "85\n",
            "4191\n",
            "(700, 64)\n",
            "64\n",
            "4192\n",
            "(2160, 163)\n"
          ],
          "name": "stdout"
        },
        {
          "output_type": "stream",
          "text": [
            "\n",
            "\n",
            " 52%|█████▏    | 1798/3486 [08:04<02:02, 13.80it/s]\u001b[A\u001b[A"
          ],
          "name": "stderr"
        },
        {
          "output_type": "stream",
          "text": [
            "163\n",
            "4193\n",
            "(5940, 156)\n",
            "156\n",
            "4194\n",
            "(16416, 492)\n"
          ],
          "name": "stdout"
        },
        {
          "output_type": "stream",
          "text": [
            "\n",
            "\n",
            " 52%|█████▏    | 1801/3486 [08:05<02:55,  9.58it/s]\u001b[A\u001b[A"
          ],
          "name": "stderr"
        },
        {
          "output_type": "stream",
          "text": [
            "492\n",
            "4195\n",
            "(576, 60)\n",
            "60\n",
            "4196\n",
            "(2880, 116)\n",
            "116\n",
            "4197\n",
            "(900, 75)\n",
            "75\n",
            "4198\n",
            "(20385, 498)\n"
          ],
          "name": "stdout"
        },
        {
          "output_type": "stream",
          "text": [
            "\n",
            "\n",
            " 52%|█████▏    | 1803/3486 [08:05<04:55,  5.69it/s]\u001b[A\u001b[A"
          ],
          "name": "stderr"
        },
        {
          "output_type": "stream",
          "text": [
            "498\n",
            "4199\n",
            "(7236, 237)\n",
            "237\n",
            "4200\n",
            "(18936, 562)\n"
          ],
          "name": "stdout"
        },
        {
          "output_type": "stream",
          "text": [
            "\n",
            "\n",
            " 52%|█████▏    | 1805/3486 [08:06<06:34,  4.26it/s]\u001b[A\u001b[A"
          ],
          "name": "stderr"
        },
        {
          "output_type": "stream",
          "text": [
            "562\n",
            "4201\n",
            "(1440, 84)\n",
            "84\n",
            "4202\n",
            "(2820, 107)\n",
            "107\n",
            "4203\n",
            "(13644, 415)\n"
          ],
          "name": "stdout"
        },
        {
          "output_type": "stream",
          "text": [
            "\n",
            "\n",
            " 52%|█████▏    | 1808/3486 [08:06<05:40,  4.93it/s]\u001b[A\u001b[A\n",
            "\n",
            " 52%|█████▏    | 1814/3486 [08:06<04:05,  6.80it/s]\u001b[A\u001b[A"
          ],
          "name": "stderr"
        },
        {
          "output_type": "stream",
          "text": [
            "415\n",
            "4204\n",
            "(1920, 92)\n",
            "92\n",
            "4205\n",
            "(1260, 81)\n",
            "81\n",
            "4206\n",
            "(1512, 78)\n",
            "78\n",
            "4207\n",
            "(1368, 74)\n",
            "74\n",
            "4208\n",
            "(1440, 76)\n",
            "76\n",
            "4209\n",
            "(1638, 99)\n",
            "99\n",
            "4210\n",
            "(6591, 208)\n",
            "208\n"
          ],
          "name": "stdout"
        },
        {
          "output_type": "stream",
          "text": [
            "\n",
            "\n",
            " 52%|█████▏    | 1817/3486 [08:07<03:38,  7.63it/s]\u001b[A\u001b[A"
          ],
          "name": "stderr"
        },
        {
          "output_type": "stream",
          "text": [
            "4211\n",
            "(7059, 220)\n",
            "220\n",
            "4212\n",
            "(6948, 229)\n",
            "229\n",
            "4213\n"
          ],
          "name": "stdout"
        },
        {
          "output_type": "stream",
          "text": [
            "\n",
            "\n",
            " 52%|█████▏    | 1820/3486 [08:07<02:50,  9.78it/s]\u001b[A\u001b[A\n",
            "\n",
            " 52%|█████▏    | 1823/3486 [08:07<02:17, 12.14it/s]\u001b[A\u001b[A"
          ],
          "name": "stderr"
        },
        {
          "output_type": "stream",
          "text": [
            "(4620, 152)\n",
            "152\n",
            "4214\n",
            "(2520, 102)\n",
            "102\n",
            "4215\n",
            "(2385, 98)\n",
            "98\n",
            "4216\n",
            "(768, 134)\n",
            "134\n",
            "4217\n",
            "(960, 152)\n",
            "152\n",
            "4218\n",
            "(5004, 175)\n",
            "175\n",
            "4219\n",
            "(1800, 85)\n"
          ],
          "name": "stdout"
        },
        {
          "output_type": "stream",
          "text": [
            "\n",
            "\n",
            " 52%|█████▏    | 1826/3486 [08:07<01:56, 14.31it/s]\u001b[A\u001b[A"
          ],
          "name": "stderr"
        },
        {
          "output_type": "stream",
          "text": [
            "85\n",
            "4220\n",
            "(5904, 200)\n",
            "200\n",
            "4221\n",
            "(1800, 99)\n",
            "99\n",
            "4222\n",
            "(2475, 108)\n",
            "108\n",
            "4223\n",
            "(10260, 273)\n"
          ],
          "name": "stdout"
        },
        {
          "output_type": "stream",
          "text": [
            "\n",
            "\n",
            " 52%|█████▏    | 1829/3486 [08:07<01:57, 14.06it/s]\u001b[A\u001b[A\n",
            "\n",
            " 53%|█████▎    | 1833/3486 [08:07<01:37, 17.04it/s]\u001b[A\u001b[A"
          ],
          "name": "stderr"
        },
        {
          "output_type": "stream",
          "text": [
            "273\n",
            "4224\n",
            "(2088, 94)\n",
            "94\n",
            "4225\n",
            "(2160, 96)\n",
            "96\n",
            "4226\n",
            "(2304, 100)\n",
            "100\n",
            "4227\n",
            "(936, 62)\n",
            "62\n",
            "4228\n",
            "(5760, 154)\n",
            "154\n",
            "4229\n",
            "(5445, 166)\n"
          ],
          "name": "stdout"
        },
        {
          "output_type": "stream",
          "text": [
            "\n",
            "\n",
            " 53%|█████▎    | 1836/3486 [08:08<01:31, 18.10it/s]\u001b[A\u001b[A"
          ],
          "name": "stderr"
        },
        {
          "output_type": "stream",
          "text": [
            "166\n",
            "4230\n",
            "(2040, 94)\n",
            "94\n",
            "4231\n",
            "(1656, 95)\n",
            "95\n",
            "4232\n",
            "(22365, 364)\n"
          ],
          "name": "stdout"
        },
        {
          "output_type": "stream",
          "text": [
            "\n",
            "\n",
            " 53%|█████▎    | 1839/3486 [08:08<02:16, 12.06it/s]\u001b[A\u001b[A\n",
            "\n",
            " 53%|█████▎    | 1842/3486 [08:08<01:57, 13.95it/s]\u001b[A\u001b[A"
          ],
          "name": "stderr"
        },
        {
          "output_type": "stream",
          "text": [
            "364\n",
            "4233\n",
            "(612, 53)\n",
            "53\n",
            "4234\n",
            "(540, 57)\n",
            "57\n",
            "4235\n",
            "(1944, 99)\n",
            "99\n",
            "4236\n",
            "(5148, 179)\n",
            "179\n",
            "4238\n",
            "(5625, 150)\n",
            "150\n",
            "4239\n",
            "(4680, 166)\n"
          ],
          "name": "stdout"
        },
        {
          "output_type": "stream",
          "text": [
            "\n",
            "\n",
            " 53%|█████▎    | 1845/3486 [08:08<01:42, 16.03it/s]\u001b[A\u001b[A"
          ],
          "name": "stderr"
        },
        {
          "output_type": "stream",
          "text": [
            "166\n",
            "4240\n",
            "(1260, 71)\n",
            "71\n",
            "4241\n",
            "(4005, 134)\n",
            "134\n",
            "4242\n",
            "(3840, 152)\n",
            "152\n",
            "4243\n",
            "(6615, 192)\n",
            "192\n"
          ],
          "name": "stdout"
        },
        {
          "output_type": "stream",
          "text": [
            "\n",
            "\n",
            " 53%|█████▎    | 1848/3486 [08:09<01:53, 14.39it/s]\u001b[A\u001b[A"
          ],
          "name": "stderr"
        },
        {
          "output_type": "stream",
          "text": [
            "4245\n",
            "(8320, 248)\n",
            "248\n",
            "4246\n",
            "(612, 53)\n",
            "53\n",
            "4247\n",
            "(8010, 179)\n",
            "179\n"
          ],
          "name": "stdout"
        },
        {
          "output_type": "stream",
          "text": [
            "\n",
            "\n",
            " 53%|█████▎    | 1851/3486 [08:09<01:37, 16.76it/s]\u001b[A\u001b[A\n",
            "\n",
            " 53%|█████▎    | 1854/3486 [08:09<01:24, 19.24it/s]\u001b[A\u001b[A"
          ],
          "name": "stderr"
        },
        {
          "output_type": "stream",
          "text": [
            "4248\n",
            "(2220, 97)\n",
            "97\n",
            "4249\n",
            "(5436, 187)\n",
            "187\n",
            "4250\n",
            "(1980, 89)\n",
            "89\n",
            "4252\n",
            "(1500, 85)\n",
            "85\n",
            "4253\n",
            "(768, 64)\n",
            "64\n",
            "4254\n",
            "(6372, 213)\n"
          ],
          "name": "stdout"
        },
        {
          "output_type": "stream",
          "text": [
            "\n",
            "\n",
            " 53%|█████▎    | 1857/3486 [08:09<01:17, 21.05it/s]\u001b[A\u001b[A\n",
            "\n",
            " 53%|█████▎    | 1861/3486 [08:09<01:07, 24.12it/s]\u001b[A\u001b[A"
          ],
          "name": "stderr"
        },
        {
          "output_type": "stream",
          "text": [
            "213\n",
            "4255\n",
            "(624, 61)\n",
            "61\n",
            "4256\n",
            "(1035, 68)\n",
            "68\n",
            "4257\n",
            "(765, 62)\n",
            "62\n",
            "4259\n",
            "(3024, 165)\n",
            "165\n",
            "4260\n",
            "(4662, 153)\n",
            "153\n",
            "4261\n",
            "(702, 67)\n",
            "67\n",
            "4262\n",
            "(3528, 134)\n",
            "134\n",
            "4263\n",
            "(2880, 116)\n"
          ],
          "name": "stdout"
        },
        {
          "output_type": "stream",
          "text": [
            "\n",
            "\n",
            " 53%|█████▎    | 1865/3486 [08:09<01:00, 26.67it/s]\u001b[A\u001b[A"
          ],
          "name": "stderr"
        },
        {
          "output_type": "stream",
          "text": [
            "116\n",
            "4264\n",
            "(2160, 96)\n",
            "96\n",
            "4265\n",
            "(1200, 80)\n",
            "80\n",
            "4266\n",
            "(10008, 314)\n"
          ],
          "name": "stdout"
        },
        {
          "output_type": "stream",
          "text": [
            "\n",
            "\n",
            " 54%|█████▎    | 1869/3486 [08:09<01:22, 19.72it/s]\u001b[A\u001b[A"
          ],
          "name": "stderr"
        },
        {
          "output_type": "stream",
          "text": [
            "314\n",
            "4267\n",
            "(6885, 198)\n",
            "198\n",
            "4268\n",
            "(3492, 133)\n",
            "133\n",
            "4269\n",
            "(4860, 171)\n",
            "171\n",
            "4270\n",
            "(2880, 122)\n"
          ],
          "name": "stdout"
        },
        {
          "output_type": "stream",
          "text": [
            "\n",
            "\n",
            " 54%|█████▎    | 1872/3486 [08:09<01:13, 21.91it/s]\u001b[A\u001b[A\n",
            "\n",
            " 54%|█████▍    | 1875/3486 [08:10<01:21, 19.85it/s]\u001b[A\u001b[A"
          ],
          "name": "stderr"
        },
        {
          "output_type": "stream",
          "text": [
            "122\n",
            "4271\n",
            "(768, 64)\n",
            "64\n",
            "4272\n",
            "(5940, 201)\n",
            "201\n",
            "4273\n",
            "(6732, 223)\n",
            "223\n",
            "4274\n",
            "(1404, 75)\n",
            "75\n",
            "4275\n"
          ],
          "name": "stdout"
        },
        {
          "output_type": "stream",
          "text": [
            "\n",
            "\n",
            " 54%|█████▍    | 1878/3486 [08:10<01:16, 21.08it/s]\u001b[A\u001b[A"
          ],
          "name": "stderr"
        },
        {
          "output_type": "stream",
          "text": [
            "(2664, 110)\n",
            "110\n",
            "4276\n",
            "(7335, 208)\n",
            "208\n",
            "4277\n",
            "(360, 39)\n",
            "39\n",
            "4278\n",
            "(528, 46)\n",
            "46\n",
            "4279\n",
            "(178524, 1770)\n"
          ],
          "name": "stdout"
        },
        {
          "output_type": "stream",
          "text": [
            "\n",
            "\n",
            " 54%|█████▍    | 1878/3486 [08:22<01:16, 21.08it/s]\u001b[A\u001b[A\n",
            "\n",
            " 54%|█████▍    | 1880/3486 [08:35<1:43:14,  3.86s/it]\u001b[A\u001b[A"
          ],
          "name": "stderr"
        },
        {
          "output_type": "stream",
          "text": [
            "1770\n",
            "4280\n",
            "(72108, 1023)\n"
          ],
          "name": "stdout"
        },
        {
          "output_type": "stream",
          "text": [
            "\n",
            "\n",
            " 54%|█████▍    | 1881/3486 [08:40<1:49:16,  4.09s/it]\u001b[A\u001b[A\n",
            "\n",
            " 54%|█████▍    | 1886/3486 [08:40<1:16:25,  2.87s/it]\u001b[A\u001b[A"
          ],
          "name": "stderr"
        },
        {
          "output_type": "stream",
          "text": [
            "1023\n",
            "4281\n",
            "(3150, 125)\n",
            "125\n",
            "4282\n",
            "(2016, 126)\n",
            "126\n",
            "4284\n",
            "(660, 71)\n",
            "71\n",
            "4285\n",
            "(1680, 83)\n",
            "83\n",
            "4286\n",
            "(990, 67)\n",
            "67\n",
            "4287\n",
            "(4116, 140)\n",
            "140\n",
            "4288\n"
          ],
          "name": "stdout"
        },
        {
          "output_type": "stream",
          "text": [
            "\n",
            "\n",
            " 54%|█████▍    | 1890/3486 [08:40<53:33,  2.01s/it]  \u001b[A\u001b[A\n",
            "\n",
            " 54%|█████▍    | 1893/3486 [08:40<37:46,  1.42s/it]\u001b[A\u001b[A"
          ],
          "name": "stderr"
        },
        {
          "output_type": "stream",
          "text": [
            "(1800, 85)\n",
            "85\n",
            "4289\n",
            "(1944, 90)\n",
            "90\n",
            "4290\n",
            "(816, 65)\n",
            "65\n",
            "4291\n",
            "(4176, 152)\n",
            "152\n",
            "4292\n",
            "(4770, 143)\n",
            "143\n",
            "4293\n",
            "(3816, 125)\n",
            "125\n",
            "4294\n",
            "(1404, 75)\n",
            "75\n",
            "4295\n"
          ],
          "name": "stdout"
        },
        {
          "output_type": "stream",
          "text": [
            "\n",
            "\n",
            " 54%|█████▍    | 1898/3486 [08:40<26:31,  1.00s/it]\u001b[A\u001b[A\n",
            "\n",
            " 55%|█████▍    | 1904/3486 [08:40<18:37,  1.42it/s]\u001b[A\u001b[A"
          ],
          "name": "stderr"
        },
        {
          "output_type": "stream",
          "text": [
            "(1620, 87)\n",
            "87\n",
            "4296\n",
            "(2250, 95)\n",
            "95\n",
            "4297\n",
            "(2088, 94)\n",
            "94\n",
            "4298\n",
            "(1680, 88)\n",
            "88\n",
            "4299\n",
            "(585, 58)\n",
            "58\n",
            "4300\n",
            "(1350, 93)\n",
            "93\n",
            "4301\n",
            "(792, 83)\n",
            "83\n",
            "4302\n",
            "(3636, 137)\n",
            "137\n",
            "4303\n",
            "(42, 43)\n",
            "43\n",
            "4305\n",
            "(720, 61)\n",
            "61\n",
            "4306\n",
            "(2952, 118)\n",
            "118\n",
            "4307\n",
            "(3384, 130)\n",
            "130\n",
            "4308\n",
            "(2700, 111)\n",
            "111\n",
            "4309\n",
            "(16416, 492)\n"
          ],
          "name": "stdout"
        },
        {
          "output_type": "stream",
          "text": [
            "\n",
            "\n",
            " 55%|█████▍    | 1908/3486 [08:41<14:03,  1.87it/s]\u001b[A\u001b[A"
          ],
          "name": "stderr"
        },
        {
          "output_type": "stream",
          "text": [
            "492\n",
            "4310\n",
            "(1980, 93)\n",
            "93\n",
            "4311\n",
            "(15228, 459)\n"
          ],
          "name": "stdout"
        },
        {
          "output_type": "stream",
          "text": [
            "\n",
            "\n",
            " 55%|█████▍    | 1911/3486 [08:41<10:58,  2.39it/s]\u001b[A\u001b[A\n",
            "\n",
            " 55%|█████▍    | 1914/3486 [08:42<08:02,  3.26it/s]\u001b[A\u001b[A"
          ],
          "name": "stderr"
        },
        {
          "output_type": "stream",
          "text": [
            "459\n",
            "4312\n",
            "(900, 87)\n",
            "87\n",
            "4313\n",
            "(1404, 79)\n",
            "79\n",
            "4314\n",
            "(4608, 136)\n",
            "136\n",
            "4315\n",
            "(6732, 223)\n",
            "223\n",
            "4317\n",
            "(3132, 123)\n",
            "123\n",
            "4319\n"
          ],
          "name": "stdout"
        },
        {
          "output_type": "stream",
          "text": [
            "\n",
            "\n",
            " 55%|█████▌    | 1919/3486 [08:42<05:46,  4.53it/s]\u001b[A\u001b[A"
          ],
          "name": "stderr"
        },
        {
          "output_type": "stream",
          "text": [
            "(3240, 126)\n",
            "126\n",
            "4320\n",
            "(1656, 82)\n",
            "82\n",
            "4321\n",
            "(468, 49)\n",
            "49\n",
            "4322\n",
            "(936, 62)\n",
            "62\n",
            "4323\n",
            "(684, 55)\n",
            "55\n",
            "4324\n",
            "(1116, 67)\n",
            "67\n",
            "4325\n",
            "(828, 59)\n",
            "59\n",
            "4326\n",
            "(1044, 65)\n",
            "65\n",
            "4327\n",
            "(3780, 132)\n",
            "132\n",
            "4328\n",
            "(38592, 852)\n"
          ],
          "name": "stdout"
        },
        {
          "output_type": "stream",
          "text": [
            "\n",
            "\n",
            " 55%|█████▌    | 1925/3486 [08:44<07:16,  3.57it/s]\u001b[A\u001b[A"
          ],
          "name": "stderr"
        },
        {
          "output_type": "stream",
          "text": [
            "852\n",
            "4329\n",
            "(47472, 1037)\n",
            "1037\n",
            "4330\n",
            "(188712, 2244)\n"
          ],
          "name": "stdout"
        },
        {
          "output_type": "stream",
          "text": [
            "\n",
            "\n",
            " 55%|█████▌    | 1925/3486 [09:02<07:16,  3.57it/s]\u001b[A\u001b[A\n",
            "\n",
            " 55%|█████▌    | 1927/3486 [09:23<2:37:33,  6.06s/it]\u001b[A\u001b[A"
          ],
          "name": "stderr"
        },
        {
          "output_type": "stream",
          "text": [
            "2244\n",
            "4331\n",
            "(43308, 1239)\n"
          ],
          "name": "stdout"
        },
        {
          "output_type": "stream",
          "text": [
            "\n",
            "\n",
            " 55%|█████▌    | 1928/3486 [09:27<2:18:59,  5.35s/it]\u001b[A\u001b[A"
          ],
          "name": "stderr"
        },
        {
          "output_type": "stream",
          "text": [
            "1239\n",
            "4332\n",
            "(35892, 1033)\n"
          ],
          "name": "stdout"
        },
        {
          "output_type": "stream",
          "text": [
            "\n",
            "\n",
            " 55%|█████▌    | 1929/3486 [09:30<1:57:31,  4.53s/it]\u001b[A\u001b[A"
          ],
          "name": "stderr"
        },
        {
          "output_type": "stream",
          "text": [
            "1033\n",
            "4333\n",
            "(38844, 1115)\n"
          ],
          "name": "stdout"
        },
        {
          "output_type": "stream",
          "text": [
            "\n",
            "\n",
            " 55%|█████▌    | 1930/3486 [09:32<1:44:40,  4.04s/it]\u001b[A\u001b[A"
          ],
          "name": "stderr"
        },
        {
          "output_type": "stream",
          "text": [
            "1115\n",
            "4334\n",
            "(37188, 1069)\n"
          ],
          "name": "stdout"
        },
        {
          "output_type": "stream",
          "text": [
            "\n",
            "\n",
            " 55%|█████▌    | 1931/3486 [09:35<1:33:02,  3.59s/it]\u001b[A\u001b[A"
          ],
          "name": "stderr"
        },
        {
          "output_type": "stream",
          "text": [
            "1069\n",
            "4335\n",
            "(33480, 966)\n"
          ],
          "name": "stdout"
        },
        {
          "output_type": "stream",
          "text": [
            "\n",
            "\n",
            " 55%|█████▌    | 1932/3486 [09:37<1:22:29,  3.19s/it]\u001b[A\u001b[A"
          ],
          "name": "stderr"
        },
        {
          "output_type": "stream",
          "text": [
            "966\n",
            "4336\n",
            "(396, 47)\n",
            "47\n",
            "4337\n",
            "(14796, 447)\n"
          ],
          "name": "stdout"
        },
        {
          "output_type": "stream",
          "text": [
            "\n",
            "\n",
            " 55%|█████▌    | 1934/3486 [09:38<1:00:57,  2.36s/it]\u001b[A\u001b[A"
          ],
          "name": "stderr"
        },
        {
          "output_type": "stream",
          "text": [
            "447\n",
            "4338\n",
            "(480, 52)\n",
            "52\n",
            "4339\n",
            "(1050, 89)\n",
            "89\n",
            "4341\n",
            "(4752, 168)\n"
          ],
          "name": "stdout"
        },
        {
          "output_type": "stream",
          "text": [
            "\n",
            "\n",
            " 56%|█████▌    | 1937/3486 [09:38<43:17,  1.68s/it]  \u001b[A\u001b[A"
          ],
          "name": "stderr"
        },
        {
          "output_type": "stream",
          "text": [
            "168\n",
            "4342\n",
            "(10764, 335)\n"
          ],
          "name": "stdout"
        },
        {
          "output_type": "stream",
          "text": [
            "\n",
            "\n",
            " 56%|█████▌    | 1938/3486 [09:39<34:46,  1.35s/it]\u001b[A\u001b[A"
          ],
          "name": "stderr"
        },
        {
          "output_type": "stream",
          "text": [
            "335\n",
            "4343\n",
            "(7740, 251)\n"
          ],
          "name": "stdout"
        },
        {
          "output_type": "stream",
          "text": [
            "\n",
            "\n",
            " 56%|█████▌    | 1939/3486 [09:39<27:04,  1.05s/it]\u001b[A\u001b[A"
          ],
          "name": "stderr"
        },
        {
          "output_type": "stream",
          "text": [
            "251\n",
            "4344\n",
            "(8976, 248)\n"
          ],
          "name": "stdout"
        },
        {
          "output_type": "stream",
          "text": [
            "\n",
            "\n",
            " 56%|█████▌    | 1940/3486 [09:40<21:38,  1.19it/s]\u001b[A\u001b[A\n",
            "\n",
            " 56%|█████▌    | 1942/3486 [09:40<15:36,  1.65it/s]\u001b[A\u001b[A"
          ],
          "name": "stderr"
        },
        {
          "output_type": "stream",
          "text": [
            "248\n",
            "4345\n",
            "(1875, 100)\n",
            "100\n",
            "4346\n",
            "(1188, 69)\n",
            "69\n",
            "4347\n",
            "(960, 76)\n"
          ],
          "name": "stdout"
        },
        {
          "output_type": "stream",
          "text": [
            "\n",
            "\n",
            " 56%|█████▌    | 1944/3486 [09:40<11:29,  2.24it/s]\u001b[A\u001b[A"
          ],
          "name": "stderr"
        },
        {
          "output_type": "stream",
          "text": [
            "76\n",
            "4348\n",
            "(1500, 85)\n",
            "85\n",
            "4349\n",
            "(14004, 425)\n"
          ],
          "name": "stdout"
        },
        {
          "output_type": "stream",
          "text": [
            "\n",
            "\n",
            " 56%|█████▌    | 1945/3486 [09:41<15:09,  1.69it/s]\u001b[A\u001b[A\n",
            "\n",
            " 56%|█████▌    | 1947/3486 [09:41<11:03,  2.32it/s]\u001b[A\u001b[A"
          ],
          "name": "stderr"
        },
        {
          "output_type": "stream",
          "text": [
            "425\n",
            "4350\n",
            "(360, 46)\n",
            "46\n",
            "4351\n",
            "(4680, 149)\n",
            "149\n",
            "4352\n",
            "(288, 44)\n",
            "44\n",
            "4353\n",
            "(2124, 95)\n",
            "95\n",
            "4354\n"
          ],
          "name": "stdout"
        },
        {
          "output_type": "stream",
          "text": [
            "\n",
            "\n",
            " 56%|█████▌    | 1950/3486 [09:41<08:05,  3.16it/s]\u001b[A\u001b[A\n",
            "\n",
            " 56%|█████▌    | 1953/3486 [09:41<05:56,  4.30it/s]\u001b[A\u001b[A"
          ],
          "name": "stderr"
        },
        {
          "output_type": "stream",
          "text": [
            "(4284, 155)\n",
            "155\n",
            "4355\n",
            "(1248, 74)\n",
            "74\n",
            "4356\n",
            "(8010, 179)\n",
            "179\n",
            "4358\n",
            "(780, 73)\n",
            "73\n",
            "4359\n",
            "(1296, 72)"
          ],
          "name": "stdout"
        },
        {
          "output_type": "stream",
          "text": [
            "\n",
            "\n",
            " 56%|█████▌    | 1956/3486 [09:41<04:29,  5.68it/s]\u001b[A\u001b[A"
          ],
          "name": "stderr"
        },
        {
          "output_type": "stream",
          "text": [
            "\n",
            "72\n",
            "4360\n",
            "(324, 45)\n",
            "45\n",
            "4361\n",
            "(3180, 113)\n",
            "113\n",
            "4362\n",
            "(11232, 348)\n"
          ],
          "name": "stdout"
        },
        {
          "output_type": "stream",
          "text": [
            "\n",
            "\n",
            " 56%|█████▌    | 1958/3486 [09:42<04:15,  5.98it/s]\u001b[A\u001b[A"
          ],
          "name": "stderr"
        },
        {
          "output_type": "stream",
          "text": [
            "348\n",
            "4363\n",
            "(2016, 100)\n",
            "100\n",
            "4364\n",
            "(34668, 999)\n",
            "999\n",
            "4365\n",
            "(35280, 1016)\n"
          ],
          "name": "stdout"
        },
        {
          "output_type": "stream",
          "text": [
            "\n",
            "\n",
            " 56%|█████▌    | 1960/3486 [09:46<20:22,  1.25it/s]\u001b[A\u001b[A"
          ],
          "name": "stderr"
        },
        {
          "output_type": "stream",
          "text": [
            "1016\n",
            "4366\n",
            "(29988, 869)\n",
            "869\n",
            "4367\n",
            "(33660, 971)\n"
          ],
          "name": "stdout"
        },
        {
          "output_type": "stream",
          "text": [
            "\n",
            "\n",
            " 56%|█████▋    | 1962/3486 [09:50<29:57,  1.18s/it]\u001b[A\u001b[A"
          ],
          "name": "stderr"
        },
        {
          "output_type": "stream",
          "text": [
            "971\n",
            "4368\n",
            "(29556, 857)\n"
          ],
          "name": "stdout"
        },
        {
          "output_type": "stream",
          "text": [
            "\n",
            "\n",
            " 56%|█████▋    | 1963/3486 [09:52<32:02,  1.26s/it]\u001b[A\u001b[A"
          ],
          "name": "stderr"
        },
        {
          "output_type": "stream",
          "text": [
            "857\n",
            "4369\n",
            "(30708, 889)\n"
          ],
          "name": "stdout"
        },
        {
          "output_type": "stream",
          "text": [
            "\n",
            "\n",
            " 56%|█████▋    | 1964/3486 [09:53<34:44,  1.37s/it]\u001b[A\u001b[A\n",
            "\n",
            " 56%|█████▋    | 1967/3486 [09:54<24:33,  1.03it/s]\u001b[A\u001b[A"
          ],
          "name": "stderr"
        },
        {
          "output_type": "stream",
          "text": [
            "889\n",
            "4370\n",
            "(3636, 137)\n",
            "137\n",
            "4371\n",
            "(5220, 148)\n",
            "148\n",
            "4372\n",
            "(1440, 92)\n",
            "92\n",
            "4373\n",
            "(7092, 233)\n"
          ],
          "name": "stdout"
        },
        {
          "output_type": "stream",
          "text": [
            "\n",
            "\n",
            " 56%|█████▋    | 1969/3486 [09:54<17:40,  1.43it/s]\u001b[A\u001b[A"
          ],
          "name": "stderr"
        },
        {
          "output_type": "stream",
          "text": [
            "233\n",
            "4374\n",
            "(1512, 78)\n",
            "78\n",
            "4375\n",
            "(25080, 667)\n"
          ],
          "name": "stdout"
        },
        {
          "output_type": "stream",
          "text": [
            "\n",
            "\n",
            " 57%|█████▋    | 1971/3486 [09:55<16:24,  1.54it/s]\u001b[A\u001b[A\n",
            "\n",
            " 57%|█████▋    | 1977/3486 [09:55<11:35,  2.17it/s]\u001b[A\u001b[A"
          ],
          "name": "stderr"
        },
        {
          "output_type": "stream",
          "text": [
            "667\n",
            "4376\n",
            "(1080, 78)\n",
            "78\n",
            "4377\n",
            "(1368, 74)\n",
            "74\n",
            "4378\n",
            "(4032, 148)\n",
            "148\n",
            "4379\n",
            "(512, 72)\n",
            "72\n",
            "4380\n",
            "(585, 58)\n",
            "58\n",
            "4381\n",
            "(672, 62)\n",
            "62\n",
            "4383\n",
            "(2412, 103)\n",
            "103\n",
            "4384\n",
            "(4896, 172)\n"
          ],
          "name": "stdout"
        },
        {
          "output_type": "stream",
          "text": [
            "\n",
            "\n",
            " 57%|█████▋    | 1980/3486 [09:55<08:25,  2.98it/s]\u001b[A\u001b[A\n",
            "\n",
            " 57%|█████▋    | 1985/3486 [09:55<06:03,  4.13it/s]\u001b[A\u001b[A"
          ],
          "name": "stderr"
        },
        {
          "output_type": "stream",
          "text": [
            "172\n",
            "4385\n",
            "(2790, 121)\n",
            "121\n",
            "4387\n",
            "(3510, 129)\n",
            "129\n",
            "4388\n",
            "(1056, 70)\n",
            "70\n",
            "4389\n",
            "(576, 52)\n",
            "52\n",
            "4390\n",
            "(1620, 87)\n",
            "87\n",
            "4391\n",
            "(5040, 162)\n",
            "162\n",
            "4392\n",
            "(2160, 96)\n",
            "96\n",
            "4394\n",
            "(1680, 88)\n",
            "88\n",
            "4395\n"
          ],
          "name": "stdout"
        },
        {
          "output_type": "stream",
          "text": [
            "\n",
            "\n",
            " 57%|█████▋    | 1990/3486 [09:55<04:22,  5.70it/s]\u001b[A\u001b[A"
          ],
          "name": "stderr"
        },
        {
          "output_type": "stream",
          "text": [
            "(1760, 84)\n",
            "84\n",
            "4396\n",
            "(1440, 84)\n",
            "84\n",
            "4397\n",
            "(3312, 117)\n",
            "117\n",
            "4398\n",
            "(1080, 78)\n",
            "78\n",
            "4399\n",
            "(4392, 158)\n",
            "158\n",
            "4400\n",
            "(216, 42)\n",
            "42\n",
            "4401\n",
            "(5400, 186)\n",
            "186\n",
            "4402\n"
          ],
          "name": "stdout"
        },
        {
          "output_type": "stream",
          "text": [
            "\n",
            "\n",
            " 57%|█████▋    | 1994/3486 [09:55<03:19,  7.48it/s]\u001b[A\u001b[A"
          ],
          "name": "stderr"
        },
        {
          "output_type": "stream",
          "text": [
            "(2052, 93)\n",
            "93\n",
            "4403\n",
            "(9720, 306)\n",
            "306\n",
            "4404\n",
            "(5004, 175)\n"
          ],
          "name": "stdout"
        },
        {
          "output_type": "stream",
          "text": [
            "\n",
            "\n",
            " 57%|█████▋    | 1998/3486 [09:56<02:49,  8.75it/s]\u001b[A\u001b[A"
          ],
          "name": "stderr"
        },
        {
          "output_type": "stream",
          "text": [
            "175\n",
            "4405\n",
            "(1296, 90)\n",
            "90\n",
            "4406\n",
            "(4005, 134)\n",
            "134\n",
            "4407\n",
            "(3960, 146)\n",
            "146\n",
            "4408\n",
            "(364, 41)\n",
            "41\n",
            "4409\n",
            "(9366, 265)\n"
          ],
          "name": "stdout"
        },
        {
          "output_type": "stream",
          "text": [
            "\n",
            "\n",
            " 57%|█████▋    | 2001/3486 [09:56<02:27, 10.07it/s]\u001b[A\u001b[A"
          ],
          "name": "stderr"
        },
        {
          "output_type": "stream",
          "text": [
            "265\n",
            "4410\n",
            "(3348, 183)\n",
            "183\n",
            "4411\n",
            "(2400, 107)\n",
            "107\n",
            "4412\n",
            "(14292, 433)\n"
          ],
          "name": "stdout"
        },
        {
          "output_type": "stream",
          "text": [
            "\n",
            "\n",
            " 57%|█████▋    | 2004/3486 [09:56<02:45,  8.95it/s]\u001b[A\u001b[A"
          ],
          "name": "stderr"
        },
        {
          "output_type": "stream",
          "text": [
            "433\n",
            "4413\n",
            "(20412, 603)\n"
          ],
          "name": "stdout"
        },
        {
          "output_type": "stream",
          "text": [
            "\n",
            "\n",
            " 58%|█████▊    | 2006/3486 [09:57<04:58,  4.95it/s]\u001b[A\u001b[A"
          ],
          "name": "stderr"
        },
        {
          "output_type": "stream",
          "text": [
            "603\n",
            "4414\n",
            "(6948, 229)\n",
            "229\n",
            "4415\n",
            "(684, 55)\n",
            "55\n",
            "4416\n",
            "(432, 48)\n",
            "48\n",
            "4417\n",
            "(9936, 312)\n"
          ],
          "name": "stdout"
        },
        {
          "output_type": "stream",
          "text": [
            "\n",
            "\n",
            " 58%|█████▊    | 2009/3486 [09:57<03:58,  6.19it/s]\u001b[A\u001b[A"
          ],
          "name": "stderr"
        },
        {
          "output_type": "stream",
          "text": [
            "312\n",
            "4418\n",
            "(12909, 370)\n"
          ],
          "name": "stdout"
        },
        {
          "output_type": "stream",
          "text": [
            "\n",
            "\n",
            " 58%|█████▊    | 2011/3486 [09:58<04:01,  6.12it/s]\u001b[A\u001b[A\n",
            "\n",
            " 58%|█████▊    | 2015/3486 [09:58<03:00,  8.14it/s]\u001b[A\u001b[A"
          ],
          "name": "stderr"
        },
        {
          "output_type": "stream",
          "text": [
            "370\n",
            "4420\n",
            "(4248, 154)\n",
            "154\n",
            "4421\n",
            "(900, 61)\n",
            "61\n",
            "4422\n",
            "(900, 61)\n",
            "61\n",
            "4423\n",
            "(2850, 113)\n",
            "113\n",
            "4424\n",
            "(5160, 146)\n",
            "146\n",
            "4425\n",
            "(3600, 125)\n",
            "125\n",
            "4426\n",
            "(4608, 164)\n",
            "164\n",
            "4427\n",
            "(18900, 561)\n"
          ],
          "name": "stdout"
        },
        {
          "output_type": "stream",
          "text": [
            "\n",
            "\n",
            " 58%|█████▊    | 2018/3486 [09:58<03:53,  6.28it/s]\u001b[A\u001b[A\n",
            "\n",
            " 58%|█████▊    | 2020/3486 [09:59<03:08,  7.79it/s]\u001b[A\u001b[A"
          ],
          "name": "stderr"
        },
        {
          "output_type": "stream",
          "text": [
            "561\n",
            "4428\n",
            "(6120, 206)\n",
            "206\n",
            "4429\n",
            "(4230, 137)\n",
            "137\n",
            "4430\n",
            "(12096, 372)\n"
          ],
          "name": "stdout"
        },
        {
          "output_type": "stream",
          "text": [
            "\n",
            "\n",
            " 58%|█████▊    | 2022/3486 [09:59<03:25,  7.13it/s]\u001b[A\u001b[A"
          ],
          "name": "stderr"
        },
        {
          "output_type": "stream",
          "text": [
            "372\n",
            "4431\n",
            "(6080, 192)\n",
            "192\n",
            "4432\n",
            "(585, 54)\n",
            "54\n",
            "4433\n",
            "(3060, 124)\n",
            "124\n",
            "4434\n",
            "(12600, 325)\n"
          ],
          "name": "stdout"
        },
        {
          "output_type": "stream",
          "text": [
            "\n",
            "\n",
            " 58%|█████▊    | 2025/3486 [09:59<03:03,  7.96it/s]\u001b[A\u001b[A\n",
            "\n",
            " 58%|█████▊    | 2028/3486 [09:59<02:24, 10.10it/s]\u001b[A\u001b[A"
          ],
          "name": "stderr"
        },
        {
          "output_type": "stream",
          "text": [
            "325\n",
            "4435\n",
            "(4680, 166)\n",
            "166\n",
            "4436\n",
            "(3312, 128)\n",
            "128\n",
            "4437\n",
            "(792, 58)\n",
            "58\n",
            "4438\n",
            "(315, 52)\n",
            "52\n",
            "4439\n",
            "(720, 126)\n",
            "126\n",
            "4440\n",
            "(2280, 98)\n",
            "98\n",
            "4441\n",
            "(396, 47)\n",
            "47\n",
            "4442\n",
            "(3888, 144)\n"
          ],
          "name": "stdout"
        },
        {
          "output_type": "stream",
          "text": [
            "\n",
            "\n",
            " 58%|█████▊    | 2033/3486 [09:59<01:50, 13.17it/s]\u001b[A\u001b[A\n",
            "\n",
            " 58%|█████▊    | 2038/3486 [10:00<01:26, 16.71it/s]\u001b[A\u001b[A"
          ],
          "name": "stderr"
        },
        {
          "output_type": "stream",
          "text": [
            "144\n",
            "4443\n",
            "(816, 65)\n",
            "65\n",
            "4444\n",
            "(528, 59)\n",
            "59\n",
            "4446\n",
            "(1800, 90)\n",
            "90\n",
            "4447\n",
            "(1275, 92)\n",
            "92\n",
            "4448\n",
            "(4212, 153)\n",
            "153\n",
            "4449\n",
            "(3555, 124)\n",
            "124\n",
            "4450\n",
            "(4740, 139)\n"
          ],
          "name": "stdout"
        },
        {
          "output_type": "stream",
          "text": [
            "\n",
            "\n",
            " 59%|█████▊    | 2042/3486 [10:00<01:17, 18.63it/s]\u001b[A\u001b[A\n",
            "\n",
            " 59%|█████▊    | 2045/3486 [10:00<01:12, 19.86it/s]\u001b[A\u001b[A"
          ],
          "name": "stderr"
        },
        {
          "output_type": "stream",
          "text": [
            "139\n",
            "4451\n",
            "(3168, 124)\n",
            "124\n",
            "4452\n",
            "(2520, 107)\n",
            "107\n",
            "4453\n",
            "(5760, 196)\n",
            "196\n",
            "4454\n",
            "(1800, 110)\n",
            "110\n",
            "4455\n",
            "(1620, 81)\n",
            "81\n",
            "4456\n",
            "(4500, 145)\n",
            "145\n",
            "4458\n",
            "(19152, 568)\n"
          ],
          "name": "stdout"
        },
        {
          "output_type": "stream",
          "text": [
            "\n",
            "\n",
            " 59%|█████▊    | 2048/3486 [10:00<02:18, 10.35it/s]\u001b[A\u001b[A\n",
            "\n",
            " 59%|█████▉    | 2051/3486 [10:01<01:51, 12.84it/s]\u001b[A\u001b[A"
          ],
          "name": "stderr"
        },
        {
          "output_type": "stream",
          "text": [
            "568\n",
            "4459\n",
            "(2280, 98)\n",
            "98\n",
            "4460\n",
            "(2808, 114)\n",
            "114\n",
            "4461\n",
            "(4392, 133)\n",
            "133\n",
            "4462\n",
            "(3096, 122)\n",
            "122\n",
            "4463\n",
            "(630, 59)\n",
            "59\n",
            "4464\n",
            "(720, 61)\n",
            "61\n",
            "4465\n",
            "(450, 55)\n",
            "55\n",
            "4466\n",
            "(315, 52)\n",
            "52\n",
            "4467\n"
          ],
          "name": "stdout"
        },
        {
          "output_type": "stream",
          "text": [
            "\n",
            "\n",
            " 59%|█████▉    | 2057/3486 [10:01<01:25, 16.63it/s]\u001b[A\u001b[A"
          ],
          "name": "stderr"
        },
        {
          "output_type": "stream",
          "text": [
            "(4320, 132)\n",
            "132\n",
            "4468\n",
            "(1500, 85)\n",
            "85\n",
            "4469\n",
            "(3078, 119)\n",
            "119\n",
            "4470\n",
            "(28404, 825)\n"
          ],
          "name": "stdout"
        },
        {
          "output_type": "stream",
          "text": [
            "\n",
            "\n",
            " 59%|█████▉    | 2061/3486 [10:02<03:19,  7.13it/s]\u001b[A\u001b[A"
          ],
          "name": "stderr"
        },
        {
          "output_type": "stream",
          "text": [
            "825\n",
            "4471\n",
            "(5868, 199)\n",
            "199\n",
            "4472\n",
            "(1920, 92)\n",
            "92\n",
            "4473\n",
            "(4464, 160)\n",
            "160\n",
            "4474\n",
            "(4032, 148)\n",
            "148\n",
            "4475\n",
            "(1080, 78)\n",
            "78\n"
          ],
          "name": "stdout"
        },
        {
          "output_type": "stream",
          "text": [
            "\n",
            "\n",
            " 59%|█████▉    | 2064/3486 [10:02<02:34,  9.18it/s]\u001b[A\u001b[A"
          ],
          "name": "stderr"
        },
        {
          "output_type": "stream",
          "text": [
            "4476\n",
            "(3690, 127)\n",
            "127\n",
            "4477\n",
            "(2160, 96)\n",
            "96\n",
            "4478\n",
            "(7785, 218)\n"
          ],
          "name": "stdout"
        },
        {
          "output_type": "stream",
          "text": [
            "\n",
            "\n",
            " 59%|█████▉    | 2067/3486 [10:02<02:20, 10.08it/s]\u001b[A\u001b[A"
          ],
          "name": "stderr"
        },
        {
          "output_type": "stream",
          "text": [
            "218\n",
            "4479\n",
            "(1008, 64)\n",
            "64\n",
            "4480\n",
            "(5760, 196)\n",
            "196\n",
            "4481\n",
            "(15312, 367)\n"
          ],
          "name": "stdout"
        },
        {
          "output_type": "stream",
          "text": [
            "\n",
            "\n",
            " 59%|█████▉    | 2070/3486 [10:03<02:31,  9.33it/s]\u001b[A\u001b[A"
          ],
          "name": "stderr"
        },
        {
          "output_type": "stream",
          "text": [
            "367\n",
            "4483\n",
            "(3492, 133)\n",
            "133\n",
            "4484\n",
            "(17136, 512)\n"
          ],
          "name": "stdout"
        },
        {
          "output_type": "stream",
          "text": [
            "\n",
            "\n",
            " 59%|█████▉    | 2072/3486 [10:03<03:40,  6.41it/s]\u001b[A\u001b[A"
          ],
          "name": "stderr"
        },
        {
          "output_type": "stream",
          "text": [
            "512\n",
            "4485\n",
            "(1320, 82)\n",
            "82\n",
            "4486\n",
            "(19476, 577)\n"
          ],
          "name": "stdout"
        },
        {
          "output_type": "stream",
          "text": [
            "\n",
            "\n",
            " 59%|█████▉    | 2074/3486 [10:04<05:07,  4.59it/s]\u001b[A\u001b[A"
          ],
          "name": "stderr"
        },
        {
          "output_type": "stream",
          "text": [
            "577\n",
            "4487\n",
            "(15840, 476)\n",
            "476\n",
            "4488\n",
            "(16128, 484)\n"
          ],
          "name": "stdout"
        },
        {
          "output_type": "stream",
          "text": [
            "\n",
            "\n",
            " 60%|█████▉    | 2076/3486 [10:05<06:38,  3.54it/s]\u001b[A\u001b[A"
          ],
          "name": "stderr"
        },
        {
          "output_type": "stream",
          "text": [
            "484\n",
            "4489\n",
            "(3240, 126)\n",
            "126\n",
            "4490\n",
            "(1232, 78)\n",
            "78\n",
            "4491\n",
            "(1836, 87)\n",
            "87\n",
            "4492\n",
            "(17676, 527)\n"
          ],
          "name": "stdout"
        },
        {
          "output_type": "stream",
          "text": [
            "\n",
            "\n",
            " 60%|█████▉    | 2080/3486 [10:05<05:45,  4.07it/s]\u001b[A\u001b[A"
          ],
          "name": "stderr"
        },
        {
          "output_type": "stream",
          "text": [
            "527\n",
            "4493\n",
            "(18000, 536)\n"
          ],
          "name": "stdout"
        },
        {
          "output_type": "stream",
          "text": [
            "\n",
            "\n",
            " 60%|█████▉    | 2081/3486 [10:06<08:11,  2.86it/s]\u001b[A\u001b[A"
          ],
          "name": "stderr"
        },
        {
          "output_type": "stream",
          "text": [
            "536\n",
            "4494\n",
            "(12960, 396)\n"
          ],
          "name": "stdout"
        },
        {
          "output_type": "stream",
          "text": [
            "\n",
            "\n",
            " 60%|█████▉    | 2082/3486 [10:06<07:49,  2.99it/s]\u001b[A\u001b[A"
          ],
          "name": "stderr"
        },
        {
          "output_type": "stream",
          "text": [
            "396\n",
            "4495\n",
            "(16956, 507)\n"
          ],
          "name": "stdout"
        },
        {
          "output_type": "stream",
          "text": [
            "\n",
            "\n",
            " 60%|█████▉    | 2083/3486 [10:07<09:19,  2.51it/s]\u001b[A\u001b[A"
          ],
          "name": "stderr"
        },
        {
          "output_type": "stream",
          "text": [
            "507\n",
            "4496\n",
            "(18252, 543)\n"
          ],
          "name": "stdout"
        },
        {
          "output_type": "stream",
          "text": [
            "\n",
            "\n",
            " 60%|█████▉    | 2084/3486 [10:07<10:33,  2.21it/s]\u001b[A\u001b[A"
          ],
          "name": "stderr"
        },
        {
          "output_type": "stream",
          "text": [
            "543\n",
            "4497\n",
            "(15012, 453)\n"
          ],
          "name": "stdout"
        },
        {
          "output_type": "stream",
          "text": [
            "\n",
            "\n",
            " 60%|█████▉    | 2085/3486 [10:08<10:21,  2.26it/s]\u001b[A\u001b[A\n",
            "\n",
            " 60%|█████▉    | 2088/3486 [10:08<07:29,  3.11it/s]\u001b[A\u001b[A"
          ],
          "name": "stderr"
        },
        {
          "output_type": "stream",
          "text": [
            "453\n",
            "4498\n",
            "(5895, 176)\n",
            "176\n",
            "4499\n",
            "(684, 55)\n",
            "55\n",
            "4500\n",
            "(1152, 68)\n",
            "68\n",
            "4501\n",
            "(5904, 200)\n"
          ],
          "name": "stdout"
        },
        {
          "output_type": "stream",
          "text": [
            "\n",
            "\n",
            " 60%|█████▉    | 2091/3486 [10:08<05:44,  4.05it/s]\u001b[A\u001b[A"
          ],
          "name": "stderr"
        },
        {
          "output_type": "stream",
          "text": [
            "200\n",
            "4502\n",
            "(1320, 82)\n",
            "82\n",
            "4503\n",
            "(9405, 254)\n",
            "254\n",
            "4504\n",
            "(4824, 170)\n"
          ],
          "name": "stdout"
        },
        {
          "output_type": "stream",
          "text": [
            "\n",
            "\n",
            " 60%|██████    | 2093/3486 [10:08<04:26,  5.23it/s]\u001b[A\u001b[A"
          ],
          "name": "stderr"
        },
        {
          "output_type": "stream",
          "text": [
            "170\n",
            "4505\n",
            "(5265, 162)\n",
            "162\n",
            "4506\n",
            "(8730, 239)\n",
            "239\n",
            "4507\n"
          ],
          "name": "stdout"
        },
        {
          "output_type": "stream",
          "text": [
            "\n",
            "\n",
            " 60%|██████    | 2095/3486 [10:09<03:49,  6.06it/s]\u001b[A\u001b[A"
          ],
          "name": "stderr"
        },
        {
          "output_type": "stream",
          "text": [
            "(7200, 205)\n",
            "205\n",
            "4508\n",
            "(8280, 229)\n",
            "229\n",
            "4509\n"
          ],
          "name": "stdout"
        },
        {
          "output_type": "stream",
          "text": [
            "\n",
            "\n",
            " 60%|██████    | 2097/3486 [10:09<03:31,  6.56it/s]\u001b[A\u001b[A\n",
            "\n",
            " 60%|██████    | 2099/3486 [10:09<02:48,  8.22it/s]\u001b[A\u001b[A"
          ],
          "name": "stderr"
        },
        {
          "output_type": "stream",
          "text": [
            "(9090, 247)\n",
            "247\n",
            "4510\n",
            "(6480, 189)\n",
            "189\n",
            "4511\n",
            "(1980, 91)\n",
            "91\n"
          ],
          "name": "stdout"
        },
        {
          "output_type": "stream",
          "text": [
            "\n",
            "\n",
            " 60%|██████    | 2106/3486 [10:09<02:04, 11.12it/s]\u001b[A\u001b[A"
          ],
          "name": "stderr"
        },
        {
          "output_type": "stream",
          "text": [
            "4513\n",
            "(792, 57)\n",
            "57\n",
            "4515\n",
            "(2412, 103)\n",
            "103\n",
            "4516\n",
            "(360, 46)\n",
            "46\n",
            "4517\n",
            "(768, 64)\n",
            "64\n",
            "4518\n",
            "(585, 58)\n",
            "58\n",
            "4519\n",
            "(855, 64)\n",
            "64\n",
            "4520\n",
            "(1920, 88)\n",
            "88\n",
            "4521\n",
            "(2625, 110)\n",
            "110\n",
            "4522\n",
            "(6552, 218)\n"
          ],
          "name": "stdout"
        },
        {
          "output_type": "stream",
          "text": [
            "\n",
            "\n",
            " 60%|██████    | 2109/3486 [10:09<01:56, 11.84it/s]\u001b[A\u001b[A"
          ],
          "name": "stderr"
        },
        {
          "output_type": "stream",
          "text": [
            "218\n",
            "4523\n",
            "(7839, 240)\n",
            "240\n",
            "4524\n",
            "(3168, 116)\n",
            "116\n",
            "4525\n",
            "(828, 59)\n",
            "59\n",
            "4526\n",
            "(1860, 91)\n",
            "91\n",
            "4527\n",
            "(2412, 103)\n",
            "103\n",
            "4528\n",
            "(1944, 99)\n"
          ],
          "name": "stdout"
        },
        {
          "output_type": "stream",
          "text": [
            "\n",
            "\n",
            " 61%|██████    | 2114/3486 [10:09<01:30, 15.12it/s]\u001b[A\u001b[A\n",
            "\n",
            " 61%|██████    | 2117/3486 [10:09<01:20, 17.01it/s]\u001b[A\u001b[A"
          ],
          "name": "stderr"
        },
        {
          "output_type": "stream",
          "text": [
            "99\n",
            "4529\n",
            "(6840, 226)\n",
            "226\n",
            "4530\n",
            "(1170, 71)\n",
            "71\n",
            "4531\n",
            "(2052, 93)\n",
            "93\n",
            "4532\n",
            "(3600, 130)\n",
            "130\n",
            "4533\n",
            "(2916, 117)\n",
            "117\n",
            "4534"
          ],
          "name": "stdout"
        },
        {
          "output_type": "stream",
          "text": [
            "\n",
            "\n",
            " 61%|██████    | 2122/3486 [10:10<01:05, 20.83it/s]\u001b[A\u001b[A"
          ],
          "name": "stderr"
        },
        {
          "output_type": "stream",
          "text": [
            "\n",
            "(270, 51)\n",
            "51\n",
            "4535\n",
            "(1404, 75)\n",
            "75\n",
            "4536\n",
            "(1620, 81)\n",
            "81\n",
            "4537\n",
            "(1332, 73)\n",
            "73\n",
            "4538\n",
            "(1404, 75)\n",
            "75\n",
            "4539\n",
            "(1044, 65)\n",
            "65\n",
            "4540\n",
            "(1260, 71)\n",
            "71\n",
            "4541\n",
            "(720, 56)\n",
            "56\n",
            "4542\n",
            "(7416, 242)\n"
          ],
          "name": "stdout"
        },
        {
          "output_type": "stream",
          "text": [
            "\n",
            "\n",
            " 61%|██████    | 2128/3486 [10:10<00:57, 23.64it/s]\u001b[A\u001b[A\n",
            "\n",
            " 61%|██████    | 2132/3486 [10:10<00:53, 25.45it/s]\u001b[A\u001b[A"
          ],
          "name": "stderr"
        },
        {
          "output_type": "stream",
          "text": [
            "242\n",
            "4543\n",
            "(3456, 132)\n",
            "132\n",
            "4544\n",
            "(1224, 70)\n",
            "70\n",
            "4545\n",
            "(3636, 137)\n",
            "137\n",
            "4546\n",
            "(3168, 124)\n",
            "124\n",
            "4548\n",
            "(5364, 185)\n"
          ],
          "name": "stdout"
        },
        {
          "output_type": "stream",
          "text": [
            "\n",
            "\n",
            " 61%|██████▏   | 2136/3486 [10:10<00:53, 25.03it/s]\u001b[A\u001b[A"
          ],
          "name": "stderr"
        },
        {
          "output_type": "stream",
          "text": [
            "185\n",
            "4549\n",
            "(3600, 136)\n",
            "136\n",
            "4550\n",
            "(792, 83)\n",
            "83\n",
            "4552\n",
            "(3060, 121)\n",
            "121\n",
            "4553\n",
            "(1548, 79)\n",
            "79\n",
            "4554\n",
            "(2664, 110)\n",
            "110\n",
            "4555\n",
            "(2700, 111)\n",
            "111\n",
            "4556\n",
            "(1440, 76)\n",
            "76\n",
            "4557\n",
            "(3060, 121)\n"
          ],
          "name": "stdout"
        },
        {
          "output_type": "stream",
          "text": [
            "\n",
            "\n",
            " 61%|██████▏   | 2141/3486 [10:10<00:47, 28.15it/s]\u001b[A\u001b[A"
          ],
          "name": "stderr"
        },
        {
          "output_type": "stream",
          "text": [
            "121\n",
            "4558\n",
            "(4392, 158)\n",
            "158\n",
            "4559\n",
            "(2916, 117)\n",
            "117\n",
            "4560\n",
            "(17172, 499)\n"
          ],
          "name": "stdout"
        },
        {
          "output_type": "stream",
          "text": [
            "\n",
            "\n",
            " 62%|██████▏   | 2145/3486 [10:11<01:37, 13.74it/s]\u001b[A\u001b[A"
          ],
          "name": "stderr"
        },
        {
          "output_type": "stream",
          "text": [
            "499\n",
            "4562\n",
            "(3465, 122)\n",
            "122\n",
            "4563\n",
            "(20880, 509)\n"
          ],
          "name": "stdout"
        },
        {
          "output_type": "stream",
          "text": [
            "\n",
            "\n",
            " 62%|██████▏   | 2148/3486 [10:11<02:31,  8.82it/s]\u001b[A\u001b[A"
          ],
          "name": "stderr"
        },
        {
          "output_type": "stream",
          "text": [
            "509\n",
            "4566\n",
            "(900, 61)\n",
            "61\n",
            "4567\n",
            "(396, 47)\n",
            "47\n",
            "4568\n",
            "(1020, 77)\n",
            "77\n",
            "4569\n",
            "(10476, 327)\n"
          ],
          "name": "stdout"
        },
        {
          "output_type": "stream",
          "text": [
            "\n",
            "\n",
            " 62%|██████▏   | 2150/3486 [10:12<02:32,  8.77it/s]\u001b[A\u001b[A\n",
            "\n",
            " 62%|██████▏   | 2153/3486 [10:12<02:03, 10.76it/s]\u001b[A\u001b[A"
          ],
          "name": "stderr"
        },
        {
          "output_type": "stream",
          "text": [
            "327\n",
            "4572\n",
            "(2160, 96)\n",
            "96\n",
            "4573\n",
            "(2340, 97)\n",
            "97\n",
            "4574\n",
            "(8190, 181)\n",
            "181\n",
            "4575\n",
            "(1620, 81)\n",
            "81\n",
            "4576\n",
            "(2808, 114)\n",
            "114\n",
            "4577\n"
          ],
          "name": "stdout"
        },
        {
          "output_type": "stream",
          "text": [
            "\n",
            "\n",
            " 62%|██████▏   | 2157/3486 [10:12<01:37, 13.65it/s]\u001b[A\u001b[A\n",
            "\n",
            " 62%|██████▏   | 2161/3486 [10:12<01:19, 16.60it/s]\u001b[A\u001b[A"
          ],
          "name": "stderr"
        },
        {
          "output_type": "stream",
          "text": [
            "(2340, 99)\n",
            "99\n",
            "4578\n",
            "(2484, 105)\n",
            "105\n",
            "4579\n",
            "(2196, 97)\n",
            "97\n",
            "4580\n",
            "(3780, 123)\n",
            "123\n",
            "4581\n",
            "(612, 53)\n",
            "53\n",
            "4582\n",
            "(4950, 145)\n",
            "145\n",
            "4583\n",
            "(468, 49)\n",
            "49\n",
            "4584\n"
          ],
          "name": "stdout"
        },
        {
          "output_type": "stream",
          "text": [
            "\n",
            "\n",
            " 62%|██████▏   | 2164/3486 [10:12<01:26, 15.36it/s]\u001b[A\u001b[A"
          ],
          "name": "stderr"
        },
        {
          "output_type": "stream",
          "text": [
            "(10620, 281)\n",
            "281\n",
            "4585\n",
            "(5760, 154)\n",
            "154\n",
            "4586\n",
            "(180, 41)\n",
            "41\n",
            "4587\n",
            "(252, 43)\n",
            "43\n",
            "4588\n",
            "(828, 59)\n",
            "59\n",
            "4589\n"
          ],
          "name": "stdout"
        },
        {
          "output_type": "stream",
          "text": [
            "\n",
            "\n",
            " 62%|██████▏   | 2171/3486 [10:12<01:06, 19.84it/s]\u001b[A\u001b[A"
          ],
          "name": "stderr"
        },
        {
          "output_type": "stream",
          "text": [
            "(360, 46)\n",
            "46\n",
            "4590\n",
            "(288, 44)\n",
            "44\n",
            "4591\n",
            "(972, 63)\n",
            "63\n",
            "4592\n",
            "(2880, 242)\n",
            "242\n",
            "4593\n",
            "(3750, 125)\n",
            "125\n",
            "4594\n",
            "(2100, 95)\n",
            "95\n",
            "4595\n",
            "(14625, 414)\n"
          ],
          "name": "stdout"
        },
        {
          "output_type": "stream",
          "text": [
            "\n",
            "\n",
            " 62%|██████▏   | 2175/3486 [10:13<01:35, 13.74it/s]\u001b[A\u001b[A\n",
            "\n",
            " 62%|██████▏   | 2178/3486 [10:13<01:24, 15.50it/s]\u001b[A\u001b[A"
          ],
          "name": "stderr"
        },
        {
          "output_type": "stream",
          "text": [
            "414\n",
            "4596\n",
            "(2016, 90)\n",
            "90\n",
            "4597\n",
            "(3672, 138)\n",
            "138\n",
            "4598\n",
            "(5760, 196)\n",
            "196\n",
            "4599\n",
            "(1305, 74)\n",
            "74\n",
            "4600\n",
            "(540, 51)\n"
          ],
          "name": "stdout"
        },
        {
          "output_type": "stream",
          "text": [
            "\n",
            "\n",
            " 63%|██████▎   | 2183/3486 [10:13<01:08, 18.91it/s]\u001b[A\u001b[A"
          ],
          "name": "stderr"
        },
        {
          "output_type": "stream",
          "text": [
            "51\n",
            "4601\n",
            "(1224, 70)\n",
            "70\n",
            "4602\n",
            "(2700, 111)\n",
            "111\n",
            "4603\n",
            "(3024, 120)\n",
            "120\n",
            "4604\n",
            "(3708, 139)\n",
            "139\n",
            "4605\n",
            "(1260, 71)\n",
            "71\n",
            "4606\n",
            "(1260, 81)\n",
            "81\n",
            "4607\n",
            "(1296, 72)\n",
            "72\n",
            "4608\n",
            "(1500, 85)\n",
            "85\n",
            "4609\n",
            "(5130, 147)\n"
          ],
          "name": "stdout"
        },
        {
          "output_type": "stream",
          "text": [
            "\n",
            "\n",
            " 63%|██████▎   | 2188/3486 [10:13<00:56, 22.83it/s]\u001b[A\u001b[A\n",
            "\n",
            " 63%|██████▎   | 2192/3486 [10:13<00:49, 26.16it/s]\u001b[A\u001b[A"
          ],
          "name": "stderr"
        },
        {
          "output_type": "stream",
          "text": [
            "147\n",
            "4610\n",
            "(3168, 124)\n",
            "124\n",
            "4611\n",
            "(720, 56)\n",
            "56\n",
            "4612\n",
            "(4200, 131)\n",
            "131\n",
            "4613\n",
            "(1080, 78)\n",
            "78\n",
            "4614\n",
            "(54450, 934)\n"
          ],
          "name": "stdout"
        },
        {
          "output_type": "stream",
          "text": [
            "\n",
            "\n",
            " 63%|██████▎   | 2196/3486 [10:16<05:29,  3.91it/s]\u001b[A\u001b[A\n",
            "\n",
            " 63%|██████▎   | 2206/3486 [10:17<03:54,  5.47it/s]"
          ],
          "name": "stderr"
        },
        {
          "output_type": "stream",
          "text": [
            "934\n",
            "4615\n",
            "(420, 44)\n",
            "44\n",
            "4616\n",
            "(810, 57)\n",
            "57\n",
            "4617\n",
            "(840, 58)\n",
            "58\n",
            "4618\n",
            "(420, 44)\n",
            "44\n",
            "4619\n",
            "(810, 57)\n",
            "57\n",
            "4620\n",
            "(840, 58)\n",
            "58\n",
            "4621\n",
            "(420, 44)\n",
            "44\n",
            "4622\n",
            "(810, 57)\n",
            "57\n",
            "4623\n",
            "(840, 58)\n",
            "58\n",
            "4624\n",
            "(420, 44)\n",
            "44\n",
            "4625\n",
            "(810, 57)\n",
            "57\n",
            "4626\n",
            "(840, 58)\n",
            "58\n",
            "4627\n",
            "(4860, 144)\n",
            "144\n"
          ],
          "name": "stdout"
        },
        {
          "output_type": "stream",
          "text": [
            "\u001b[A\u001b[A\n",
            "\n",
            " 63%|██████▎   | 2211/3486 [10:17<02:52,  7.40it/s]\u001b[A\u001b[A"
          ],
          "name": "stderr"
        },
        {
          "output_type": "stream",
          "text": [
            "4629\n",
            "(2340, 99)\n",
            "99\n",
            "4631\n",
            "(1728, 84)\n",
            "84\n",
            "4632\n",
            "(1188, 69)\n",
            "69\n",
            "4633\n",
            "(288, 54)\n",
            "54\n",
            "4635\n",
            "(3816, 142)\n",
            "142\n",
            "4636\n",
            "(780, 73)\n",
            "73\n",
            "4637\n",
            "(1512, 78)\n",
            "78\n",
            "4638\n",
            "(480, 44)\n",
            "44\n",
            "4639\n",
            "(1008, 64)\n",
            "64\n",
            "4640\n",
            "(315, 52)\n",
            "52\n",
            "4641\n",
            "(8280, 189)\n"
          ],
          "name": "stdout"
        },
        {
          "output_type": "stream",
          "text": [
            "\n",
            "\n",
            " 64%|██████▎   | 2217/3486 [10:17<02:10,  9.75it/s]\u001b[A\u001b[A"
          ],
          "name": "stderr"
        },
        {
          "output_type": "stream",
          "text": [
            "189\n",
            "4642\n",
            "(10080, 316)\n",
            "316\n",
            "4643\n",
            "(3600, 136)\n"
          ],
          "name": "stdout"
        },
        {
          "output_type": "stream",
          "text": [
            "\n",
            "\n",
            " 64%|██████▎   | 2222/3486 [10:17<01:50, 11.43it/s]\u001b[A\u001b[A\n",
            "\n",
            " 64%|██████▍   | 2226/3486 [10:17<01:29, 14.05it/s]\u001b[A\u001b[A"
          ],
          "name": "stderr"
        },
        {
          "output_type": "stream",
          "text": [
            "136\n",
            "4644\n",
            "(840, 74)\n",
            "74\n",
            "4645\n",
            "(1260, 71)\n",
            "71\n",
            "4646\n",
            "(180, 41)\n",
            "41\n",
            "4647\n",
            "(7650, 215)\n",
            "215\n",
            "4649\n",
            "(810, 63)\n",
            "63\n",
            "4650\n",
            "(1728, 96)\n",
            "96\n",
            "4651\n",
            "(1404, 75)\n",
            "75\n",
            "4652\n",
            "(612, 53)\n",
            "53\n",
            "4653\n",
            "(684, 55)\n",
            "55\n",
            "4654\n"
          ],
          "name": "stdout"
        },
        {
          "output_type": "stream",
          "text": [
            "\n",
            "\n",
            " 64%|██████▍   | 2232/3486 [10:17<01:09, 18.09it/s]\u001b[A\u001b[A"
          ],
          "name": "stderr"
        },
        {
          "output_type": "stream",
          "text": [
            "(3024, 120)\n",
            "120\n",
            "4655\n",
            "(1440, 154)\n",
            "154\n",
            "4656\n",
            "(576, 52)\n",
            "52\n",
            "4657\n",
            "(1860, 91)\n",
            "91\n",
            "4658\n",
            "(1260, 71)\n",
            "71\n",
            "4659\n",
            "(9324, 295)\n"
          ],
          "name": "stdout"
        },
        {
          "output_type": "stream",
          "text": [
            "\n",
            "\n",
            " 64%|██████▍   | 2236/3486 [10:18<01:13, 16.94it/s]\u001b[A\u001b[A"
          ],
          "name": "stderr"
        },
        {
          "output_type": "stream",
          "text": [
            "295\n",
            "4660\n",
            "(7092, 233)\n",
            "233\n",
            "4661\n",
            "(1248, 74)\n",
            "74\n",
            "4662\n",
            "(324, 45)\n",
            "45\n",
            "4663\n",
            "(8568, 274)\n"
          ],
          "name": "stdout"
        },
        {
          "output_type": "stream",
          "text": [
            "\n",
            "\n",
            " 64%|██████▍   | 2240/3486 [10:18<01:09, 17.84it/s]\u001b[A\u001b[A"
          ],
          "name": "stderr"
        },
        {
          "output_type": "stream",
          "text": [
            "274\n",
            "4664\n",
            "(3528, 134)\n",
            "134\n",
            "4665\n",
            "(1368, 91)\n",
            "91\n",
            "4666\n",
            "(1368, 91)\n",
            "91\n",
            "4667\n",
            "(1152, 68)\n",
            "68\n",
            "4668\n",
            "(3060, 121)\n",
            "121\n",
            "4669\n",
            "(22320, 656)\n"
          ],
          "name": "stdout"
        },
        {
          "output_type": "stream",
          "text": [
            "\n",
            "\n",
            " 64%|██████▍   | 2244/3486 [10:19<02:10,  9.54it/s]\u001b[A\u001b[A\n",
            "\n",
            " 64%|██████▍   | 2247/3486 [10:19<01:49, 11.35it/s]\u001b[A\u001b[A"
          ],
          "name": "stderr"
        },
        {
          "output_type": "stream",
          "text": [
            "656\n",
            "4670\n",
            "(5436, 187)\n",
            "187\n",
            "4671\n",
            "(4824, 170)\n",
            "170\n",
            "4672\n",
            "(432, 78)\n",
            "78\n",
            "4673\n",
            "(6525, 190)\n"
          ],
          "name": "stdout"
        },
        {
          "output_type": "stream",
          "text": [
            "\n",
            "\n",
            " 65%|██████▍   | 2250/3486 [10:19<01:29, 13.77it/s]\u001b[A\u001b[A"
          ],
          "name": "stderr"
        },
        {
          "output_type": "stream",
          "text": [
            "190\n",
            "4674\n",
            "(1224, 70)\n",
            "70\n",
            "4675\n",
            "(828, 59)\n",
            "59\n",
            "4676\n",
            "(765, 62)\n",
            "62\n",
            "4681\n",
            "(29472, 662)\n"
          ],
          "name": "stdout"
        },
        {
          "output_type": "stream",
          "text": [
            "\n",
            "\n",
            " 65%|██████▍   | 2253/3486 [10:20<03:28,  5.91it/s]\u001b[A\u001b[A"
          ],
          "name": "stderr"
        },
        {
          "output_type": "stream",
          "text": [
            "662\n",
            "4682\n",
            "(2700, 120)\n",
            "120\n",
            "4683\n",
            "(1125, 70)\n",
            "70\n",
            "4684\n",
            "(1044, 65)\n",
            "65\n",
            "4685\n",
            "(193860, 1954)\n"
          ],
          "name": "stdout"
        },
        {
          "output_type": "stream",
          "text": [
            "\n",
            "\n",
            " 65%|██████▍   | 2253/3486 [10:32<03:28,  5.91it/s]\u001b[A\u001b[A\n",
            "\n",
            " 65%|██████▍   | 2256/3486 [10:49<1:02:01,  3.03s/it]\u001b[A\u001b[A\n",
            "\n",
            " 65%|██████▍   | 2258/3486 [10:49<43:40,  2.13s/it]  \u001b[A\u001b[A"
          ],
          "name": "stderr"
        },
        {
          "output_type": "stream",
          "text": [
            "1954\n",
            "4687\n",
            "(6516, 217)\n",
            "217\n",
            "4688\n",
            "(936, 62)\n",
            "62\n",
            "4689\n",
            "(1224, 70)\n",
            "70\n",
            "4690\n"
          ],
          "name": "stdout"
        },
        {
          "output_type": "stream",
          "text": [
            "\n",
            "\n",
            " 65%|██████▍   | 2261/3486 [10:49<30:43,  1.51s/it]\u001b[A\u001b[A"
          ],
          "name": "stderr"
        },
        {
          "output_type": "stream",
          "text": [
            "(3276, 127)\n",
            "127\n",
            "4691\n",
            "(5240, 171)\n",
            "171\n",
            "4693\n",
            "(3204, 125)\n",
            "125\n",
            "4694\n",
            "(936, 85)\n",
            "85\n",
            "4695\n",
            "(1296, 72)\n",
            "72\n",
            "4696\n",
            "(8820, 281)\n"
          ],
          "name": "stdout"
        },
        {
          "output_type": "stream",
          "text": [
            "\n",
            "\n",
            " 65%|██████▍   | 2265/3486 [10:50<21:45,  1.07s/it]\u001b[A\u001b[A"
          ],
          "name": "stderr"
        },
        {
          "output_type": "stream",
          "text": [
            "281\n",
            "4700\n",
            "(3132, 123)\n",
            "123\n",
            "4701\n",
            "(1296, 72)\n",
            "72\n",
            "4702\n",
            "(1152, 68)\n",
            "68\n",
            "4703\n",
            "(1080, 66)\n",
            "66\n",
            "4704\n",
            "(468, 49)\n",
            "49\n",
            "4705\n",
            "(19845, 486)\n"
          ],
          "name": "stdout"
        },
        {
          "output_type": "stream",
          "text": [
            "\n",
            "\n",
            " 65%|██████▌   | 2271/3486 [10:50<15:52,  1.28it/s]\u001b[A\u001b[A\n",
            "\n",
            " 65%|██████▌   | 2274/3486 [10:50<11:18,  1.79it/s]\u001b[A\u001b[A"
          ],
          "name": "stderr"
        },
        {
          "output_type": "stream",
          "text": [
            "486\n",
            "4706\n",
            "(3240, 117)\n",
            "117\n",
            "4707\n",
            "(2520, 166)\n",
            "166\n",
            "4708\n",
            "(1258, 138)\n",
            "138\n",
            "4709\n",
            "(1872, 88)\n",
            "88\n",
            "4710\n",
            "(1116, 67)\n",
            "67\n",
            "4711\n",
            "(2124, 192)\n",
            "192\n",
            "4712\n"
          ],
          "name": "stdout"
        },
        {
          "output_type": "stream",
          "text": [
            "\n",
            "\n",
            " 65%|██████▌   | 2278/3486 [10:51<08:05,  2.49it/s]\u001b[A\u001b[A"
          ],
          "name": "stderr"
        },
        {
          "output_type": "stream",
          "text": [
            "(6390, 161)\n",
            "161\n",
            "4713\n",
            "(14094, 515)\n"
          ],
          "name": "stdout"
        },
        {
          "output_type": "stream",
          "text": [
            "\n",
            "\n",
            " 65%|██████▌   | 2281/3486 [10:51<06:49,  2.95it/s]\u001b[A\u001b[A"
          ],
          "name": "stderr"
        },
        {
          "output_type": "stream",
          "text": [
            "515\n",
            "4714\n",
            "(9963, 284)\n",
            "284\n",
            "4715\n",
            "(1056, 70)\n",
            "70\n",
            "4716\n"
          ],
          "name": "stdout"
        },
        {
          "output_type": "stream",
          "text": [
            "\n",
            "\n",
            " 66%|██████▌   | 2284/3486 [10:51<05:00,  4.00it/s]\u001b[A\u001b[A"
          ],
          "name": "stderr"
        },
        {
          "output_type": "stream",
          "text": [
            "(1500, 85)\n",
            "85\n",
            "4717\n",
            "(4320, 156)\n",
            "156\n",
            "4718\n",
            "(4590, 141)\n",
            "141\n",
            "4719\n",
            "(6255, 184)\n",
            "184\n",
            "4720\n"
          ],
          "name": "stdout"
        },
        {
          "output_type": "stream",
          "text": [
            "\n",
            "\n",
            " 66%|██████▌   | 2286/3486 [10:51<03:55,  5.10it/s]\u001b[A\u001b[A\n",
            "\n",
            " 66%|██████▌   | 2290/3486 [10:51<02:55,  6.80it/s]\u001b[A\u001b[A"
          ],
          "name": "stderr"
        },
        {
          "output_type": "stream",
          "text": [
            "(5220, 161)\n",
            "161\n",
            "4721\n",
            "(2736, 105)\n",
            "105\n",
            "4722\n",
            "(2052, 93)\n",
            "93\n",
            "4723\n",
            "(756, 57)\n",
            "57\n",
            "4724\n",
            "(5445, 166)\n",
            "166\n",
            "4725\n",
            "(1350, 75)\n",
            "75\n",
            "4726\n"
          ],
          "name": "stdout"
        },
        {
          "output_type": "stream",
          "text": [
            "\n",
            "\n",
            " 66%|██████▌   | 2293/3486 [10:52<02:19,  8.54it/s]\u001b[A\u001b[A"
          ],
          "name": "stderr"
        },
        {
          "output_type": "stream",
          "text": [
            "(7344, 240)\n",
            "240\n",
            "4727\n",
            "(450, 55)\n",
            "55\n",
            "4728\n",
            "(540, 57)\n",
            "57\n",
            "4729\n",
            "(5256, 182)\n",
            "182\n",
            "4730\n",
            "(6975, 200)\n"
          ],
          "name": "stdout"
        },
        {
          "output_type": "stream",
          "text": [
            "\n",
            "\n",
            " 66%|██████▌   | 2296/3486 [10:52<01:58, 10.03it/s]\u001b[A\u001b[A\n",
            "\n",
            " 66%|██████▌   | 2300/3486 [10:52<01:31, 12.90it/s]\u001b[A\u001b[A"
          ],
          "name": "stderr"
        },
        {
          "output_type": "stream",
          "text": [
            "200\n",
            "4731\n",
            "(612, 53)\n",
            "53\n",
            "4732\n",
            "(975, 64)\n",
            "64\n",
            "4733\n",
            "(3300, 340)\n",
            "340\n",
            "4734\n",
            "(156, 32)\n",
            "32\n",
            "4735\n",
            "(26496, 464)\n"
          ],
          "name": "stdout"
        },
        {
          "output_type": "stream",
          "text": [
            "\n",
            "\n",
            " 66%|██████▌   | 2303/3486 [10:53<02:28,  7.96it/s]\u001b[A\u001b[A\n",
            "\n",
            " 66%|██████▌   | 2306/3486 [10:53<01:56, 10.14it/s]\u001b[A\u001b[A"
          ],
          "name": "stderr"
        },
        {
          "output_type": "stream",
          "text": [
            "464\n",
            "4736\n",
            "(2016, 90)\n",
            "90\n",
            "4737\n",
            "(4320, 138)\n",
            "138\n",
            "4738\n",
            "(3900, 125)\n",
            "125\n",
            "4739\n",
            "(5130, 147)\n",
            "147\n",
            "4740\n",
            "(432, 48)\n",
            "48\n",
            "4741\n",
            "(324, 45)\n",
            "45\n",
            "4743\n"
          ],
          "name": "stdout"
        },
        {
          "output_type": "stream",
          "text": [
            "\n",
            "\n",
            " 66%|██████▌   | 2309/3486 [10:53<01:36, 12.25it/s]\u001b[A\u001b[A"
          ],
          "name": "stderr"
        },
        {
          "output_type": "stream",
          "text": [
            "(2880, 108)\n",
            "108\n",
            "4744\n",
            "(6795, 196)\n",
            "196\n",
            "4745\n",
            "(1350, 105)\n",
            "105\n",
            "4746\n",
            "(3816, 125)\n",
            "125\n",
            "4747\n",
            "(3168, 124)\n",
            "124\n",
            "4748\n",
            "(1860, 91)\n"
          ],
          "name": "stdout"
        },
        {
          "output_type": "stream",
          "text": [
            "\n",
            "\n",
            " 66%|██████▋   | 2313/3486 [10:53<01:17, 15.17it/s]\u001b[A\u001b[A\n",
            "\n",
            " 66%|██████▋   | 2316/3486 [10:53<01:06, 17.55it/s]\u001b[A\u001b[A"
          ],
          "name": "stderr"
        },
        {
          "output_type": "stream",
          "text": [
            "91\n",
            "4749\n",
            "(2592, 102)\n",
            "102\n",
            "4750\n",
            "(2916, 117)\n",
            "117\n",
            "4751\n",
            "(3924, 145)\n",
            "145\n",
            "4752\n",
            "(840, 74)\n",
            "74\n",
            "4753\n",
            "(630, 59)\n",
            "59\n",
            "4759\n",
            "(3528, 158)\n",
            "158\n",
            "4760\n",
            "(3900, 127)\n"
          ],
          "name": "stdout"
        },
        {
          "output_type": "stream",
          "text": [
            "\n",
            "\n",
            " 67%|██████▋   | 2320/3486 [10:53<00:56, 20.77it/s]\u001b[A\u001b[A"
          ],
          "name": "stderr"
        },
        {
          "output_type": "stream",
          "text": [
            "127\n",
            "4761\n",
            "(4200, 142)\n",
            "142\n",
            "4762\n",
            "(2304, 100)\n",
            "100\n",
            "4763\n",
            "(10152, 318)\n"
          ],
          "name": "stdout"
        },
        {
          "output_type": "stream",
          "text": [
            "\n",
            "\n",
            " 67%|██████▋   | 2323/3486 [10:53<01:09, 16.83it/s]\u001b[A\u001b[A\n",
            "\n",
            " 67%|██████▋   | 2326/3486 [10:54<01:07, 17.11it/s]\u001b[A\u001b[A"
          ],
          "name": "stderr"
        },
        {
          "output_type": "stream",
          "text": [
            "318\n",
            "4764\n",
            "(2484, 105)\n",
            "105\n",
            "4765\n",
            "(8388, 269)\n",
            "269\n",
            "4766\n",
            "(1152, 68)\n",
            "68\n",
            "4767\n"
          ],
          "name": "stdout"
        },
        {
          "output_type": "stream",
          "text": [
            "\n",
            "\n",
            " 67%|██████▋   | 2329/3486 [10:54<01:00, 19.15it/s]\u001b[A\u001b[A"
          ],
          "name": "stderr"
        },
        {
          "output_type": "stream",
          "text": [
            "(6240, 164)\n",
            "164\n",
            "4768\n",
            "(840, 74)\n",
            "74\n",
            "4769\n",
            "(3330, 119)\n",
            "119\n",
            "4770\n",
            "(528, 56)\n",
            "56\n",
            "4771\n",
            "(1210, 77)\n",
            "77\n",
            "4772\n",
            "(8316, 267)\n"
          ],
          "name": "stdout"
        },
        {
          "output_type": "stream",
          "text": [
            "\n",
            "\n",
            " 67%|██████▋   | 2332/3486 [10:54<01:00, 19.22it/s]\u001b[A\u001b[A\n",
            "\n",
            " 67%|██████▋   | 2336/3486 [10:54<00:51, 22.46it/s]\u001b[A\u001b[A"
          ],
          "name": "stderr"
        },
        {
          "output_type": "stream",
          "text": [
            "267\n",
            "4773\n",
            "(2484, 105)\n",
            "105\n",
            "4774\n",
            "(3240, 126)\n",
            "126\n",
            "4775\n",
            "(2268, 99)\n",
            "99\n",
            "4776\n",
            "(2832, 107)\n",
            "107\n",
            "4777\n",
            "(1920, 92)\n",
            "92\n",
            "4778\n",
            "(504, 50)\n",
            "50\n",
            "4779\n",
            "(1035, 68)\n",
            "68\n",
            "4780\n",
            "(3600, 122)\n",
            "122\n",
            "4781\n"
          ],
          "name": "stdout"
        },
        {
          "output_type": "stream",
          "text": [
            "\n",
            "\n",
            " 67%|██████▋   | 2341/3486 [10:54<00:43, 26.11it/s]\u001b[A\u001b[A"
          ],
          "name": "stderr"
        },
        {
          "output_type": "stream",
          "text": [
            "(2952, 118)\n",
            "118\n",
            "4782\n",
            "(5724, 195)\n",
            "195\n",
            "4783\n",
            "(2040, 94)\n",
            "94\n",
            "4784\n",
            "(5076, 177)\n",
            "177\n",
            "4785\n",
            "(3384, 130)\n",
            "130\n"
          ],
          "name": "stdout"
        },
        {
          "output_type": "stream",
          "text": [
            "\n",
            "\n",
            " 67%|██████▋   | 2345/3486 [10:54<00:45, 24.96it/s]\u001b[A\u001b[A"
          ],
          "name": "stderr"
        },
        {
          "output_type": "stream",
          "text": [
            "4786\n",
            "(15228, 459)\n"
          ],
          "name": "stdout"
        },
        {
          "output_type": "stream",
          "text": [
            "\n",
            "\n",
            " 67%|██████▋   | 2348/3486 [10:55<01:38, 11.52it/s]\u001b[A\u001b[A"
          ],
          "name": "stderr"
        },
        {
          "output_type": "stream",
          "text": [
            "459\n",
            "4787\n",
            "(4329, 150)\n",
            "150\n",
            "4788\n",
            "(672, 62)\n",
            "62\n",
            "4789\n",
            "(2700, 120)\n",
            "120\n",
            "4790\n",
            "(20592, 608)\n",
            "608\n",
            "4791\n",
            "(19548, 579)\n"
          ],
          "name": "stdout"
        },
        {
          "output_type": "stream",
          "text": [
            "\n",
            "\n",
            " 67%|██████▋   | 2351/3486 [10:56<04:12,  4.49it/s]\u001b[A\u001b[A\n",
            "\n",
            " 68%|██████▊   | 2354/3486 [10:57<03:07,  6.02it/s]\u001b[A\u001b[A"
          ],
          "name": "stderr"
        },
        {
          "output_type": "stream",
          "text": [
            "579\n",
            "4792\n",
            "(4392, 133)\n",
            "133\n",
            "4794\n",
            "(1656, 82)\n",
            "82\n",
            "4795\n",
            "(3456, 132)\n",
            "132\n",
            "4796\n",
            "(1296, 90)\n",
            "90\n",
            "4797\n",
            "(1440, 76)\n",
            "76\n",
            "4798\n",
            "(360, 54)\n",
            "54\n",
            "4799\n",
            "(360, 54)\n",
            "54\n",
            "4800\n",
            "(360, 54)\n",
            "54\n",
            "4801\n",
            "(675, 60)\n",
            "60\n",
            "4802\n",
            "(585, 58)\n",
            "58\n",
            "4803\n",
            "(585, 58)\n",
            "58\n",
            "4806"
          ],
          "name": "stdout"
        },
        {
          "output_type": "stream",
          "text": [
            "\n",
            "\n",
            " 68%|██████▊   | 2364/3486 [10:57<02:15,  8.30it/s]\u001b[A\u001b[A"
          ],
          "name": "stderr"
        },
        {
          "output_type": "stream",
          "text": [
            "\n",
            "(504, 50)\n",
            "50\n",
            "4807\n",
            "(4392, 158)\n",
            "158\n",
            "4808\n",
            "(7236, 237)\n",
            "237\n",
            "4809\n",
            "(4032, 148)\n"
          ],
          "name": "stdout"
        },
        {
          "output_type": "stream",
          "text": [
            "\n",
            "\n",
            " 68%|██████▊   | 2368/3486 [10:57<01:50, 10.09it/s]\u001b[A\u001b[A"
          ],
          "name": "stderr"
        },
        {
          "output_type": "stream",
          "text": [
            "148\n",
            "4810\n",
            "(1044, 65)\n",
            "65\n",
            "4811\n",
            "(3240, 117)\n",
            "117\n",
            "4812\n",
            "(11736, 362)\n",
            "362\n",
            "4813\n",
            "(1296, 72)\n",
            "72\n",
            "4815\n",
            "(2232, 103)\n",
            "103\n",
            "4816\n",
            "(12672, 388)\n"
          ],
          "name": "stdout"
        },
        {
          "output_type": "stream",
          "text": [
            "\n",
            "\n",
            " 68%|██████▊   | 2372/3486 [10:58<02:07,  8.72it/s]\u001b[A\u001b[A\n",
            "\n",
            " 68%|██████▊   | 2378/3486 [10:58<01:34, 11.70it/s]\u001b[A\u001b[A"
          ],
          "name": "stderr"
        },
        {
          "output_type": "stream",
          "text": [
            "388\n",
            "4817\n",
            "(2988, 119)\n",
            "119\n",
            "4818\n",
            "(396, 47)\n",
            "47\n",
            "4819\n",
            "(1200, 80)\n",
            "80\n",
            "4820\n",
            "(2196, 97)\n",
            "97\n",
            "4822\n",
            "(180, 41)\n",
            "41\n",
            "4823\n",
            "(1980, 91)\n",
            "91\n",
            "4824\n",
            "(11304, 350)\n"
          ],
          "name": "stdout"
        },
        {
          "output_type": "stream",
          "text": [
            "\n",
            "\n",
            " 68%|██████▊   | 2382/3486 [10:58<01:35, 11.53it/s]\u001b[A\u001b[A"
          ],
          "name": "stderr"
        },
        {
          "output_type": "stream",
          "text": [
            "350\n",
            "4825\n",
            "(1320, 82)\n",
            "82\n",
            "4826\n",
            "(3852, 143)\n",
            "143\n",
            "4827\n",
            "(6390, 187)\n",
            "187\n",
            "4828\n",
            "(3375, 120)\n",
            "120\n",
            "4829\n",
            "(20835, 344)\n"
          ],
          "name": "stdout"
        },
        {
          "output_type": "stream",
          "text": [
            "\n",
            "\n",
            " 68%|██████▊   | 2385/3486 [10:58<01:53,  9.67it/s]\u001b[A\u001b[A\n",
            "\n"
          ],
          "name": "stderr"
        },
        {
          "output_type": "stream",
          "text": [
            "344\n",
            "4830\n",
            "(2220, 97)\n",
            "97\n",
            "4831\n",
            "(6660, 164)\n",
            "164\n",
            "4832\n",
            "(5076, 177)\n",
            "177\n",
            "4833\n",
            "(3996, 147)\n",
            "147\n"
          ],
          "name": "stdout"
        },
        {
          "output_type": "stream",
          "text": [
            "\r 69%|██████▊   | 2388/3486 [10:59<01:37, 11.22it/s]\u001b[A\u001b[A"
          ],
          "name": "stderr"
        },
        {
          "output_type": "stream",
          "text": [
            "4834\n",
            "(720, 61)\n",
            "61\n",
            "4835\n",
            "(2124, 95)\n",
            "95\n",
            "4836\n",
            "(10944, 340)\n"
          ],
          "name": "stdout"
        },
        {
          "output_type": "stream",
          "text": [
            "\n",
            "\n",
            " 69%|██████▊   | 2391/3486 [10:59<01:38, 11.14it/s]\u001b[A\u001b[A\n",
            "\n",
            " 69%|██████▊   | 2395/3486 [10:59<01:19, 13.70it/s]\u001b[A\u001b[A"
          ],
          "name": "stderr"
        },
        {
          "output_type": "stream",
          "text": [
            "340\n",
            "4837\n",
            "(630, 59)\n",
            "59\n",
            "4838\n",
            "(4185, 138)\n",
            "138\n",
            "4839\n",
            "(900, 61)\n",
            "61\n",
            "4840\n",
            "(3348, 337)\n",
            "337\n",
            "4841\n",
            "(40, 41)\n",
            "41\n",
            "4842\n",
            "(1240, 71)\n",
            "71\n",
            "4843\n",
            "(4644, 196)\n"
          ],
          "name": "stdout"
        },
        {
          "output_type": "stream",
          "text": [
            "\n",
            "\n",
            " 69%|██████▉   | 2399/3486 [10:59<01:05, 16.61it/s]\u001b[A\u001b[A\n",
            "\n",
            " 69%|██████▉   | 2403/3486 [10:59<00:55, 19.66it/s]\u001b[A\u001b[A"
          ],
          "name": "stderr"
        },
        {
          "output_type": "stream",
          "text": [
            "196\n",
            "4844\n",
            "(3528, 134)\n",
            "134\n",
            "4845\n",
            "(3240, 126)\n",
            "126\n",
            "4846\n",
            "(1944, 99)\n",
            "99\n",
            "4847\n",
            "(1872, 88)\n",
            "88\n",
            "4848\n",
            "(3384, 130)\n",
            "130\n",
            "4849\n",
            "(1200, 80)\n",
            "80\n",
            "4850\n",
            "(1350, 93)\n",
            "93\n",
            "4851\n",
            "(612, 53)\n",
            "53\n",
            "4852"
          ],
          "name": "stdout"
        },
        {
          "output_type": "stream",
          "text": [
            "\n",
            "\n",
            " 69%|██████▉   | 2409/3486 [10:59<00:43, 24.61it/s]\u001b[A\u001b[A\n",
            "\n",
            " 69%|██████▉   | 2415/3486 [10:59<00:36, 29.59it/s]\u001b[A\u001b[A"
          ],
          "name": "stderr"
        },
        {
          "output_type": "stream",
          "text": [
            "\n",
            "(2840, 111)\n",
            "111\n",
            "4853\n",
            "(1200, 80)\n",
            "80\n",
            "4854\n",
            "(1152, 68)\n",
            "68\n",
            "4855\n",
            "(1680, 82)\n",
            "82\n",
            "4856\n",
            "(768, 64)\n",
            "64\n",
            "4857\n",
            "(2664, 110)\n",
            "110\n",
            "4858\n",
            "(1764, 85)\n",
            "85\n",
            "4859\n",
            "(1200, 80)\n",
            "80\n",
            "4860\n",
            "(2160, 96)\n",
            "96\n",
            "4861\n",
            "(324, 45)\n",
            "45\n",
            "4862\n"
          ],
          "name": "stdout"
        },
        {
          "output_type": "stream",
          "text": [
            "\n",
            "\n",
            " 69%|██████▉   | 2420/3486 [11:00<00:38, 27.50it/s]\u001b[A\u001b[A"
          ],
          "name": "stderr"
        },
        {
          "output_type": "stream",
          "text": [
            "(9216, 292)\n",
            "292\n",
            "4863\n",
            "(1332, 73)\n",
            "73\n",
            "4864\n",
            "(432, 48)\n",
            "48\n",
            "4865\n",
            "(1575, 96)\n",
            "96\n",
            "4866\n",
            "(3510, 129)\n",
            "129\n",
            "4867\n",
            "(288, 44)\n"
          ],
          "name": "stdout"
        },
        {
          "output_type": "stream",
          "text": [
            "\n",
            "\n",
            " 70%|██████▉   | 2426/3486 [11:00<00:32, 32.18it/s]\u001b[A\u001b[A\n",
            "\n",
            " 70%|██████▉   | 2431/3486 [11:00<00:30, 34.05it/s]\u001b[A\u001b[A"
          ],
          "name": "stderr"
        },
        {
          "output_type": "stream",
          "text": [
            "44\n",
            "4868\n",
            "(324, 45)\n",
            "45\n",
            "4870\n",
            "(2250, 105)\n",
            "105\n",
            "4871\n",
            "(900, 61)\n",
            "61\n",
            "4872\n",
            "(2088, 94)\n",
            "94\n",
            "4873\n",
            "(1677, 82)\n",
            "82\n",
            "4874\n",
            "(1425, 94)\n",
            "94\n",
            "4875\n",
            "(576, 60)\n",
            "60\n",
            "4876\n",
            "(1425, 94)\n",
            "94\n",
            "4877\n",
            "(5148, 179)\n",
            "179\n",
            "4878\n",
            "(1122, 83)\n"
          ],
          "name": "stdout"
        },
        {
          "output_type": "stream",
          "text": [
            "\n",
            "\n",
            " 70%|██████▉   | 2436/3486 [11:00<00:29, 35.12it/s]\u001b[A\u001b[A"
          ],
          "name": "stderr"
        },
        {
          "output_type": "stream",
          "text": [
            "83\n",
            "4879\n",
            "(3096, 122)\n",
            "122\n",
            "4880\n",
            "(1800, 90)\n",
            "90\n",
            "4881\n",
            "(2520, 106)\n",
            "106\n",
            "4882\n",
            "(2880, 112)\n",
            "112\n",
            "4883\n",
            "(11628, 359)\n",
            "359\n",
            "4884\n",
            "(1560, 86)\n",
            "86\n",
            "4885\n",
            "(13968, 424)\n"
          ],
          "name": "stdout"
        },
        {
          "output_type": "stream",
          "text": [
            "\n",
            "\n",
            " 70%|███████   | 2441/3486 [11:01<00:55, 18.69it/s]\u001b[A\u001b[A\n",
            "\n",
            " 70%|███████   | 2445/3486 [11:01<00:46, 22.15it/s]\u001b[A\u001b[A"
          ],
          "name": "stderr"
        },
        {
          "output_type": "stream",
          "text": [
            "424\n",
            "4886\n",
            "(600, 70)\n",
            "70\n",
            "4887\n",
            "(495, 56)\n",
            "56\n",
            "4888\n",
            "(2196, 97)\n",
            "97\n",
            "4889\n",
            "(1056, 88)\n",
            "88\n",
            "4890\n",
            "(1152, 68)\n",
            "68\n",
            "4891\n",
            "(4176, 152)\n",
            "152\n",
            "4892\n",
            "(1440, 76)\n",
            "76\n",
            "4893\n",
            "(2850, 113)\n",
            "113\n",
            "4894\n",
            "(492, 53)\n",
            "53\n",
            "4895\n",
            "(1944, 90)\n"
          ],
          "name": "stdout"
        },
        {
          "output_type": "stream",
          "text": [
            "\n",
            "\n",
            " 70%|███████   | 2451/3486 [11:01<00:38, 27.00it/s]\u001b[A\u001b[A\n",
            "\n",
            " 70%|███████   | 2455/3486 [11:01<00:38, 26.47it/s]\u001b[A\u001b[A"
          ],
          "name": "stderr"
        },
        {
          "output_type": "stream",
          "text": [
            "90\n",
            "4896\n",
            "(2100, 95)\n",
            "95\n",
            "4897\n",
            "(828, 59)\n",
            "59\n",
            "4898\n",
            "(1440, 77)\n",
            "77\n",
            "4899\n",
            "(1152, 88)\n",
            "88\n",
            "4900\n",
            "(5076, 177)\n",
            "177\n",
            "4901\n",
            "(4968, 174)\n",
            "174\n",
            "4902\n",
            "(672, 92)\n",
            "92\n",
            "4903\n",
            "(3960, 139)\n",
            "139\n",
            "4904\n",
            "(432, 48)\n",
            "48\n",
            "4905\n",
            "(2655, 104)\n",
            "104\n",
            "4906\n",
            "(11520, 301)\n"
          ],
          "name": "stdout"
        },
        {
          "output_type": "stream",
          "text": [
            "\n",
            "\n",
            " 71%|███████   | 2460/3486 [11:01<00:45, 22.68it/s]\u001b[A\u001b[A\n",
            "\n",
            " 71%|███████   | 2465/3486 [11:01<00:39, 26.07it/s]\u001b[A\u001b[A"
          ],
          "name": "stderr"
        },
        {
          "output_type": "stream",
          "text": [
            "301\n",
            "4907\n",
            "(1404, 75)\n",
            "75\n",
            "4908\n",
            "(792, 58)\n",
            "58\n",
            "4909\n",
            "(2952, 118)\n",
            "118\n",
            "4910\n",
            "(3024, 120)\n",
            "120\n",
            "4911\n",
            "(3312, 128)\n",
            "128\n",
            "4912\n",
            "(720, 56)\n",
            "56\n",
            "4913\n",
            "(1512, 78)\n",
            "78\n",
            "4914\n",
            "(6240, 196)\n"
          ],
          "name": "stdout"
        },
        {
          "output_type": "stream",
          "text": [
            "\n",
            "\n",
            " 71%|███████   | 2469/3486 [11:02<00:38, 26.10it/s]\u001b[A\u001b[A"
          ],
          "name": "stderr"
        },
        {
          "output_type": "stream",
          "text": [
            "196\n",
            "4915\n",
            "(4428, 159)\n",
            "159\n",
            "4916\n",
            "(3132, 123)\n",
            "123\n",
            "4918\n",
            "(2100, 95)\n",
            "95\n",
            "4920\n",
            "(6846, 205)\n",
            "205\n",
            "4921\n"
          ],
          "name": "stdout"
        },
        {
          "output_type": "stream",
          "text": [
            "\n",
            "\n",
            " 71%|███████   | 2473/3486 [11:02<00:41, 24.32it/s]\u001b[A\u001b[A"
          ],
          "name": "stderr"
        },
        {
          "output_type": "stream",
          "text": [
            "(5880, 154)\n",
            "154\n",
            "4922\n",
            "(13716, 417)\n",
            "417\n",
            "4923\n",
            "(12492, 383)\n"
          ],
          "name": "stdout"
        },
        {
          "output_type": "stream",
          "text": [
            "\n",
            "\n",
            " 71%|███████   | 2476/3486 [11:02<01:31, 11.07it/s]\u001b[A\u001b[A\n",
            "\n",
            " 71%|███████   | 2480/3486 [11:02<01:11, 14.10it/s]\u001b[A\u001b[A"
          ],
          "name": "stderr"
        },
        {
          "output_type": "stream",
          "text": [
            "383\n",
            "4924\n",
            "(480, 68)\n",
            "68\n",
            "4925\n",
            "(1872, 98)\n",
            "98\n",
            "4926\n",
            "(468, 49)\n",
            "49\n",
            "4928\n",
            "(2412, 103)\n",
            "103\n",
            "4930\n",
            "(4140, 151)\n",
            "151\n",
            "4931\n",
            "(3240, 126)\n",
            "126\n",
            "4932\n",
            "(1224, 70)\n",
            "70\n",
            "4933\n",
            "(6520, 203)\n"
          ],
          "name": "stdout"
        },
        {
          "output_type": "stream",
          "text": [
            "\n",
            "\n",
            " 71%|███████   | 2483/3486 [11:03<01:02, 16.07it/s]\u001b[A\u001b[A\n",
            "\n",
            " 71%|███████▏  | 2486/3486 [11:03<00:55, 17.91it/s]\u001b[A\u001b[A"
          ],
          "name": "stderr"
        },
        {
          "output_type": "stream",
          "text": [
            "203\n",
            "4934\n",
            "(540, 51)\n",
            "51\n",
            "4936\n",
            "(8370, 183)\n",
            "183\n",
            "4937\n",
            "(2988, 119)\n",
            "119\n",
            "4938\n",
            "(2880, 109)\n",
            "109\n",
            "4939\n",
            "(8712, 278)\n"
          ],
          "name": "stdout"
        },
        {
          "output_type": "stream",
          "text": [
            "\n",
            "\n",
            " 71%|███████▏  | 2489/3486 [11:03<00:56, 17.54it/s]\u001b[A\u001b[A"
          ],
          "name": "stderr"
        },
        {
          "output_type": "stream",
          "text": [
            "278\n",
            "4940\n",
            "(1530, 79)\n",
            "79\n",
            "4941\n",
            "(1140, 79)\n",
            "79\n",
            "4942\n",
            "(2880, 252)\n",
            "252\n",
            "4943\n",
            "<=2 categories\n",
            "4945\n",
            "(2160, 96)\n",
            "96\n",
            "4946\n",
            "(15015, 424)\n"
          ],
          "name": "stdout"
        },
        {
          "output_type": "stream",
          "text": [
            "\n",
            "\n",
            " 72%|███████▏  | 2494/3486 [11:03<01:05, 15.21it/s]\u001b[A\u001b[A"
          ],
          "name": "stderr"
        },
        {
          "output_type": "stream",
          "text": [
            "424\n",
            "4947\n",
            "(2340, 99)\n",
            "99\n",
            "4948\n",
            "(3564, 135)\n",
            "135\n",
            "4949\n",
            "(576, 52)\n",
            "52\n",
            "4951\n",
            "(612, 53)\n",
            "53\n",
            "4952\n",
            "(576, 52)\n",
            "52\n",
            "4953\n",
            "(5832, 292)\n",
            "292\n"
          ],
          "name": "stdout"
        },
        {
          "output_type": "stream",
          "text": [
            "\n",
            "\n",
            " 72%|███████▏  | 2500/3486 [11:03<00:54, 17.96it/s]\u001b[A\u001b[A"
          ],
          "name": "stderr"
        },
        {
          "output_type": "stream",
          "text": [
            "4954\n",
            "(5475, 148)\n",
            "148\n",
            "4955\n",
            "(10736, 288)\n",
            "288\n",
            "4956\n"
          ],
          "name": "stdout"
        },
        {
          "output_type": "stream",
          "text": [
            "\n",
            "\n",
            " 72%|███████▏  | 2503/3486 [11:04<01:01, 16.07it/s]\u001b[A\u001b[A\n",
            "\n"
          ],
          "name": "stderr"
        },
        {
          "output_type": "stream",
          "text": [
            "(1800, 97)\n",
            "97\n",
            "4958\n",
            "(1872, 98)\n",
            "98\n",
            "4960\n",
            "(5688, 194)\n",
            "194\n",
            "4961\n",
            "(7668, 249)\n",
            "249\n"
          ],
          "name": "stdout"
        },
        {
          "output_type": "stream",
          "text": [
            "\r 72%|███████▏  | 2506/3486 [11:04<01:00, 16.11it/s]\u001b[A\u001b[A\n",
            "\n",
            " 72%|███████▏  | 2509/3486 [11:04<00:52, 18.50it/s]\u001b[A\u001b[A"
          ],
          "name": "stderr"
        },
        {
          "output_type": "stream",
          "text": [
            "4962\n",
            "(1875, 100)\n",
            "100\n",
            "4963\n",
            "(3960, 134)\n",
            "134\n",
            "4964\n",
            "(3168, 124)\n",
            "124\n",
            "4965\n",
            "(4400, 150)\n",
            "150\n",
            "4966\n",
            "(5076, 177)\n"
          ],
          "name": "stdout"
        },
        {
          "output_type": "stream",
          "text": [
            "\n",
            "\n",
            " 72%|███████▏  | 2512/3486 [11:04<00:50, 19.14it/s]\u001b[A\u001b[A"
          ],
          "name": "stderr"
        },
        {
          "output_type": "stream",
          "text": [
            "177\n",
            "4967\n",
            "(2160, 96)\n",
            "96\n",
            "4968\n",
            "(3672, 138)\n",
            "138\n",
            "4969\n",
            "(39936, 880)\n",
            "880\n",
            "4970\n",
            "(185040, 2182)\n"
          ],
          "name": "stdout"
        },
        {
          "output_type": "stream",
          "text": [
            "\n",
            "\n",
            " 72%|███████▏  | 2512/3486 [11:22<00:50, 19.14it/s]\u001b[A\u001b[A\n",
            "\n",
            " 72%|███████▏  | 2515/3486 [11:39<56:10,  3.47s/it]\u001b[A\u001b[A"
          ],
          "name": "stderr"
        },
        {
          "output_type": "stream",
          "text": [
            "2182\n",
            "4971\n",
            "(39960, 1146)\n"
          ],
          "name": "stdout"
        },
        {
          "output_type": "stream",
          "text": [
            "\n",
            "\n",
            " 72%|███████▏  | 2516/3486 [11:42<54:41,  3.38s/it]\u001b[A\u001b[A"
          ],
          "name": "stderr"
        },
        {
          "output_type": "stream",
          "text": [
            "1146\n",
            "4972\n",
            "(36288, 1044)\n"
          ],
          "name": "stdout"
        },
        {
          "output_type": "stream",
          "text": [
            "\n",
            "\n",
            " 72%|███████▏  | 2517/3486 [11:44<50:33,  3.13s/it]\u001b[A\u001b[A"
          ],
          "name": "stderr"
        },
        {
          "output_type": "stream",
          "text": [
            "1044\n",
            "4973\n",
            "(36972, 1063)\n"
          ],
          "name": "stdout"
        },
        {
          "output_type": "stream",
          "text": [
            "\n",
            "\n",
            " 72%|███████▏  | 2518/3486 [11:47<47:08,  2.92s/it]\u001b[A\u001b[A"
          ],
          "name": "stderr"
        },
        {
          "output_type": "stream",
          "text": [
            "1063\n",
            "4974\n",
            "(36972, 1063)\n"
          ],
          "name": "stdout"
        },
        {
          "output_type": "stream",
          "text": [
            "\n",
            "\n",
            " 72%|███████▏  | 2519/3486 [11:49<43:27,  2.70s/it]\u001b[A\u001b[A"
          ],
          "name": "stderr"
        },
        {
          "output_type": "stream",
          "text": [
            "1063\n",
            "4975\n",
            "(34884, 1005)\n"
          ],
          "name": "stdout"
        },
        {
          "output_type": "stream",
          "text": [
            "\n",
            "\n",
            " 72%|███████▏  | 2520/3486 [11:51<41:10,  2.56s/it]\u001b[A\u001b[A"
          ],
          "name": "stderr"
        },
        {
          "output_type": "stream",
          "text": [
            "1005\n",
            "4976\n",
            "(51444, 1059)\n"
          ],
          "name": "stdout"
        },
        {
          "output_type": "stream",
          "text": [
            "\n",
            "\n",
            " 72%|███████▏  | 2521/3486 [11:55<46:58,  2.92s/it]\u001b[A\u001b[A"
          ],
          "name": "stderr"
        },
        {
          "output_type": "stream",
          "text": [
            "1059\n",
            "4977\n",
            "(3276, 127)\n",
            "127\n",
            "4978\n",
            "(828, 59)\n",
            "59\n",
            "4980\n",
            "(648, 81)\n",
            "81\n",
            "4981\n",
            "(38268, 1099)\n"
          ],
          "name": "stdout"
        },
        {
          "output_type": "stream",
          "text": [
            "\n",
            "\n",
            " 72%|███████▏  | 2525/3486 [11:58<36:09,  2.26s/it]\u001b[A\u001b[A"
          ],
          "name": "stderr"
        },
        {
          "output_type": "stream",
          "text": [
            "1099\n",
            "4982\n",
            "(34668, 999)\n"
          ],
          "name": "stdout"
        },
        {
          "output_type": "stream",
          "text": [
            "\n",
            "\n",
            " 72%|███████▏  | 2526/3486 [12:00<35:52,  2.24s/it]\u001b[A\u001b[A"
          ],
          "name": "stderr"
        },
        {
          "output_type": "stream",
          "text": [
            "999\n",
            "4983\n",
            "(32112, 928)\n"
          ],
          "name": "stdout"
        },
        {
          "output_type": "stream",
          "text": [
            "\n",
            "\n",
            " 72%|███████▏  | 2527/3486 [12:02<34:07,  2.14s/it]\u001b[A\u001b[A"
          ],
          "name": "stderr"
        },
        {
          "output_type": "stream",
          "text": [
            "928\n",
            "4984\n",
            "(35352, 1018)\n"
          ],
          "name": "stdout"
        },
        {
          "output_type": "stream",
          "text": [
            "\n",
            "\n",
            " 73%|███████▎  | 2528/3486 [12:04<34:54,  2.19s/it]\u001b[A\u001b[A"
          ],
          "name": "stderr"
        },
        {
          "output_type": "stream",
          "text": [
            "1018\n",
            "4985\n",
            "(32724, 945)\n"
          ],
          "name": "stdout"
        },
        {
          "output_type": "stream",
          "text": [
            "\n",
            "\n",
            " 73%|███████▎  | 2529/3486 [12:06<34:30,  2.16s/it]\u001b[A\u001b[A"
          ],
          "name": "stderr"
        },
        {
          "output_type": "stream",
          "text": [
            "945\n",
            "4986\n",
            "(32688, 944)\n"
          ],
          "name": "stdout"
        },
        {
          "output_type": "stream",
          "text": [
            "\n",
            "\n",
            " 73%|███████▎  | 2530/3486 [12:08<33:03,  2.08s/it]\u001b[A\u001b[A"
          ],
          "name": "stderr"
        },
        {
          "output_type": "stream",
          "text": [
            "944\n",
            "4987\n",
            "(900, 100)\n",
            "100\n",
            "4988\n",
            "(1530, 107)\n",
            "107\n",
            "4989\n",
            "(23940, 701)\n"
          ],
          "name": "stdout"
        },
        {
          "output_type": "stream",
          "text": [
            "\n",
            "\n",
            " 73%|███████▎  | 2533/3486 [12:09<24:48,  1.56s/it]\u001b[A\u001b[A"
          ],
          "name": "stderr"
        },
        {
          "output_type": "stream",
          "text": [
            "701\n",
            "4990\n",
            "(26316, 767)\n"
          ],
          "name": "stdout"
        },
        {
          "output_type": "stream",
          "text": [
            "\n",
            "\n",
            " 73%|███████▎  | 2534/3486 [12:10<22:38,  1.43s/it]\u001b[A\u001b[A"
          ],
          "name": "stderr"
        },
        {
          "output_type": "stream",
          "text": [
            "767\n",
            "4991\n",
            "(17928, 534)\n"
          ],
          "name": "stdout"
        },
        {
          "output_type": "stream",
          "text": [
            "\n",
            "\n",
            " 73%|███████▎  | 2535/3486 [12:11<18:24,  1.16s/it]\u001b[A\u001b[A"
          ],
          "name": "stderr"
        },
        {
          "output_type": "stream",
          "text": [
            "534\n",
            "4992\n",
            "(21708, 639)\n"
          ],
          "name": "stdout"
        },
        {
          "output_type": "stream",
          "text": [
            "\n",
            "\n",
            " 73%|███████▎  | 2536/3486 [12:12<16:25,  1.04s/it]\u001b[A\u001b[A\n",
            "\n",
            " 73%|███████▎  | 2543/3486 [12:12<11:28,  1.37it/s]\u001b[A\u001b[A"
          ],
          "name": "stderr"
        },
        {
          "output_type": "stream",
          "text": [
            "639\n",
            "4993\n",
            "(1728, 96)\n",
            "96\n",
            "4994\n",
            "(2088, 101)\n",
            "101\n",
            "4995\n",
            "(2940, 109)\n",
            "109\n",
            "4997\n",
            "(1188, 69)\n",
            "69\n",
            "5000\n",
            "(216, 42)\n",
            "42\n",
            "5001\n",
            "(432, 48)\n",
            "48\n",
            "5002\n",
            "(504, 45)\n",
            "45\n",
            "5003\n",
            "(6825, 214)\n",
            "214\n",
            "5004\n",
            "(19872, 588)\n",
            "588\n",
            "5005\n",
            "(15300, 461)\n"
          ],
          "name": "stdout"
        },
        {
          "output_type": "stream",
          "text": [
            "\n",
            "\n",
            " 73%|███████▎  | 2546/3486 [12:13<09:46,  1.60it/s]\u001b[A\u001b[A"
          ],
          "name": "stderr"
        },
        {
          "output_type": "stream",
          "text": [
            "461\n",
            "5006\n",
            "(19620, 581)\n",
            "581\n",
            "5007\n",
            "(16080, 483)\n"
          ],
          "name": "stdout"
        },
        {
          "output_type": "stream",
          "text": [
            "\n",
            "\n",
            " 73%|███████▎  | 2548/3486 [12:14<09:20,  1.67it/s]\u001b[A\u001b[A"
          ],
          "name": "stderr"
        },
        {
          "output_type": "stream",
          "text": [
            "483\n",
            "5008\n",
            "(14652, 443)\n"
          ],
          "name": "stdout"
        },
        {
          "output_type": "stream",
          "text": [
            "\n",
            "\n",
            " 73%|███████▎  | 2550/3486 [12:14<07:46,  2.01it/s]\u001b[A\u001b[A"
          ],
          "name": "stderr"
        },
        {
          "output_type": "stream",
          "text": [
            "443\n",
            "5009\n",
            "(9180, 291)\n",
            "291\n",
            "5010\n"
          ],
          "name": "stdout"
        },
        {
          "output_type": "stream",
          "text": [
            "\n",
            "\n"
          ],
          "name": "stderr"
        },
        {
          "output_type": "stream",
          "text": [
            "(12564, 385)\n",
            "385\n"
          ],
          "name": "stdout"
        },
        {
          "output_type": "stream",
          "text": [
            "\r 73%|███████▎  | 2551/3486 [12:15<06:38,  2.35it/s]\u001b[A\u001b[A"
          ],
          "name": "stderr"
        },
        {
          "output_type": "stream",
          "text": [
            "5011\n",
            "(11808, 364)\n"
          ],
          "name": "stdout"
        },
        {
          "output_type": "stream",
          "text": [
            "\n",
            "\n",
            " 73%|███████▎  | 2552/3486 [12:15<05:48,  2.68it/s]\u001b[A\u001b[A\n",
            "\n"
          ],
          "name": "stderr"
        },
        {
          "output_type": "stream",
          "text": [
            "364\n",
            "5012\n",
            "(10908, 339)\n",
            "339\n"
          ],
          "name": "stdout"
        },
        {
          "output_type": "stream",
          "text": [
            "\r 73%|███████▎  | 2553/3486 [12:15<04:57,  3.14it/s]\u001b[A\u001b[A\n",
            "\n",
            " 73%|███████▎  | 2554/3486 [12:15<03:58,  3.91it/s]\u001b[A\u001b[A"
          ],
          "name": "stderr"
        },
        {
          "output_type": "stream",
          "text": [
            "5013\n",
            "(7992, 258)\n",
            "258\n",
            "5014\n",
            "(4080, 128)\n",
            "128\n",
            "5015\n",
            "(2700, 111)\n",
            "111\n",
            "5016\n",
            "(810, 63)\n",
            "63\n",
            "5017\n",
            "(2100, 95)\n"
          ],
          "name": "stdout"
        },
        {
          "output_type": "stream",
          "text": [
            "\n",
            "\n",
            " 73%|███████▎  | 2558/3486 [12:15<02:53,  5.34it/s]\u001b[A\u001b[A\n",
            "\n",
            " 73%|███████▎  | 2561/3486 [12:15<02:11,  7.06it/s]\u001b[A\u001b[A"
          ],
          "name": "stderr"
        },
        {
          "output_type": "stream",
          "text": [
            "95\n",
            "5018\n",
            "(4536, 162)\n",
            "162\n",
            "5019\n",
            "(304, 35)\n",
            "35\n",
            "5020\n",
            "(4356, 157)\n",
            "157\n",
            "5021\n",
            "(23436, 687)\n"
          ],
          "name": "stdout"
        },
        {
          "output_type": "stream",
          "text": [
            "\n",
            "\n",
            " 74%|███████▎  | 2563/3486 [12:16<03:45,  4.10it/s]\u001b[A\u001b[A"
          ],
          "name": "stderr"
        },
        {
          "output_type": "stream",
          "text": [
            "687\n",
            "5022\n",
            "(4320, 138)\n",
            "138\n",
            "5023\n",
            "(2070, 91)\n",
            "91\n",
            "5024\n",
            "(2736, 112)\n",
            "112\n",
            "5025\n",
            "(45888, 1004)\n"
          ],
          "name": "stdout"
        },
        {
          "output_type": "stream",
          "text": [
            "\n",
            "\n",
            " 74%|███████▎  | 2566/3486 [12:20<08:12,  1.87it/s]\u001b[A\u001b[A"
          ],
          "name": "stderr"
        },
        {
          "output_type": "stream",
          "text": [
            "1004\n",
            "5026\n",
            "(720, 63)\n",
            "63\n",
            "5027\n",
            "(1836, 87)\n",
            "87\n",
            "5028\n",
            "(1800, 86)\n",
            "86\n",
            "5029\n",
            "(3888, 144)\n",
            "144\n",
            "5030\n",
            "(18756, 557)\n"
          ],
          "name": "stdout"
        },
        {
          "output_type": "stream",
          "text": [
            "\n",
            "\n",
            " 74%|███████▍  | 2571/3486 [12:21<06:22,  2.39it/s]\u001b[A\u001b[A\n",
            "\n",
            " 74%|███████▍  | 2575/3486 [12:21<04:34,  3.32it/s]\u001b[A\u001b[A"
          ],
          "name": "stderr"
        },
        {
          "output_type": "stream",
          "text": [
            "557\n",
            "5031\n",
            "(648, 54)\n",
            "54\n",
            "5032\n",
            "(2808, 114)\n",
            "114\n",
            "5033\n",
            "(2028, 91)\n",
            "91\n",
            "5034\n",
            "(4500, 145)\n",
            "145\n",
            "5035\n",
            "(2640, 103)\n",
            "103\n",
            "5036\n",
            "(900, 61)\n",
            "61\n",
            "5037\n",
            "(1656, 82)\n",
            "82\n",
            "5038\n",
            "(1740, 89)\n",
            "89\n",
            "5039\n"
          ],
          "name": "stdout"
        },
        {
          "output_type": "stream",
          "text": [
            "\n",
            "\n",
            " 74%|███████▍  | 2581/3486 [12:21<03:20,  4.52it/s]\u001b[A\u001b[A"
          ],
          "name": "stderr"
        },
        {
          "output_type": "stream",
          "text": [
            "(1188, 69)\n",
            "69\n",
            "5040\n",
            "(7812, 253)\n",
            "253\n",
            "5041\n",
            "(2880, 122)\n",
            "122\n",
            "5042\n",
            "(2304, 104)\n",
            "104\n",
            "5045\n",
            "(3465, 122)\n"
          ],
          "name": "stdout"
        },
        {
          "output_type": "stream",
          "text": [
            "\n",
            "\n",
            " 74%|███████▍  | 2585/3486 [12:21<02:26,  6.14it/s]\u001b[A\u001b[A\n",
            "\n",
            " 74%|███████▍  | 2589/3486 [12:21<01:49,  8.20it/s]\u001b[A\u001b[A"
          ],
          "name": "stderr"
        },
        {
          "output_type": "stream",
          "text": [
            "122\n",
            "5046\n",
            "(720, 98)\n",
            "98\n",
            "5047\n",
            "(5520, 166)\n",
            "166\n",
            "5048\n",
            "(1332, 73)\n",
            "73\n",
            "5049\n",
            "(1425, 94)\n",
            "94\n",
            "5050\n",
            "(1440, 76)\n",
            "76\n",
            "5051\n",
            "(864, 66)\n",
            "66\n",
            "5052\n",
            "(9855, 264)\n"
          ],
          "name": "stdout"
        },
        {
          "output_type": "stream",
          "text": [
            "\n",
            "\n",
            " 74%|███████▍  | 2592/3486 [12:22<01:40,  8.93it/s]\u001b[A\u001b[A"
          ],
          "name": "stderr"
        },
        {
          "output_type": "stream",
          "text": [
            "264\n",
            "5053\n",
            "(7650, 215)\n",
            "215\n",
            "5054\n",
            "(5694, 185)\n",
            "185\n",
            "5055\n",
            "(5265, 174)\n"
          ],
          "name": "stdout"
        },
        {
          "output_type": "stream",
          "text": [
            "\n",
            "\n",
            " 74%|███████▍  | 2595/3486 [12:22<01:26, 10.27it/s]\u001b[A\u001b[A\n",
            "\n",
            " 75%|███████▍  | 2599/3486 [12:22<01:08, 12.88it/s]"
          ],
          "name": "stderr"
        },
        {
          "output_type": "stream",
          "text": [
            "174\n",
            "5056\n",
            "(6123, 196)\n",
            "196\n",
            "5057\n",
            "(540, 57)\n",
            "57\n",
            "5058\n",
            "(3276, 123)\n",
            "123\n",
            "5059\n",
            "(3861, 138)\n",
            "138\n",
            "5060\n",
            "(3588, 131)\n",
            "131\n"
          ],
          "name": "stdout"
        },
        {
          "output_type": "stream",
          "text": [
            "\u001b[A\u001b[A\n",
            "\n",
            " 75%|███████▍  | 2602/3486 [12:22<00:58, 15.13it/s]\u001b[A\u001b[A"
          ],
          "name": "stderr"
        },
        {
          "output_type": "stream",
          "text": [
            "5061\n",
            "(4056, 143)\n",
            "143\n",
            "5062\n",
            "(2232, 98)\n",
            "98\n",
            "5063\n",
            "(4746, 155)\n",
            "155\n",
            "5064\n",
            "(5343, 176)\n",
            "176\n",
            "5065\n",
            "(4056, 143)\n",
            "143\n",
            "5066"
          ],
          "name": "stdout"
        },
        {
          "output_type": "stream",
          "text": [
            "\n",
            "\n",
            " 75%|███████▍  | 2605/3486 [12:22<00:52, 16.84it/s]\u001b[A\u001b[A\n",
            "\n",
            " 75%|███████▍  | 2608/3486 [12:22<00:49, 17.80it/s]\u001b[A\u001b[A"
          ],
          "name": "stderr"
        },
        {
          "output_type": "stream",
          "text": [
            "\n",
            "(2448, 106)\n",
            "106\n",
            "5067\n",
            "(5535, 168)\n",
            "168\n",
            "5068\n",
            "(810, 63)\n",
            "63\n",
            "5069\n",
            "(5508, 189)\n",
            "189\n",
            "5070\n",
            "(17568, 524)\n",
            "524\n",
            "5071\n",
            "(18684, 555)\n"
          ],
          "name": "stdout"
        },
        {
          "output_type": "stream",
          "text": [
            "\n",
            "\n",
            " 75%|███████▍  | 2611/3486 [12:23<02:11,  6.66it/s]\u001b[A\u001b[A"
          ],
          "name": "stderr"
        },
        {
          "output_type": "stream",
          "text": [
            "555\n",
            "5072\n",
            "(2556, 107)\n",
            "107\n",
            "5073\n",
            "(5280, 148)\n",
            "148\n",
            "5074\n",
            "(25994, 675)\n"
          ],
          "name": "stdout"
        },
        {
          "output_type": "stream",
          "text": [
            "\n",
            "\n",
            " 75%|███████▍  | 2613/3486 [12:24<03:55,  3.70it/s]\u001b[A\u001b[A\n",
            "\n",
            " 75%|███████▌  | 2615/3486 [12:25<03:01,  4.81it/s]\u001b[A\u001b[A"
          ],
          "name": "stderr"
        },
        {
          "output_type": "stream",
          "text": [
            "675\n",
            "5075\n",
            "(1320, 82)\n",
            "82\n",
            "5076\n",
            "(7308, 239)\n",
            "239\n",
            "5077\n",
            "(4752, 168)\n",
            "168\n",
            "5078\n",
            "(14472, 438)\n"
          ],
          "name": "stdout"
        },
        {
          "output_type": "stream",
          "text": [
            "\n",
            "\n",
            " 75%|███████▌  | 2617/3486 [12:25<03:00,  4.82it/s]\u001b[A\u001b[A"
          ],
          "name": "stderr"
        },
        {
          "output_type": "stream",
          "text": [
            "438\n",
            "5079\n",
            "(5400, 186)\n",
            "186\n",
            "5080\n",
            "(720, 56)\n",
            "56\n",
            "5081\n",
            "(9864, 310)\n"
          ],
          "name": "stdout"
        },
        {
          "output_type": "stream",
          "text": [
            "\n",
            "\n",
            " 75%|███████▌  | 2620/3486 [12:25<02:25,  5.95it/s]\u001b[A\u001b[A\n",
            "\n",
            " 75%|███████▌  | 2622/3486 [12:25<01:58,  7.31it/s]\u001b[A\u001b[A"
          ],
          "name": "stderr"
        },
        {
          "output_type": "stream",
          "text": [
            "310\n",
            "5082\n",
            "(7272, 238)\n",
            "238\n",
            "5083\n",
            "(2736, 112)\n",
            "112\n",
            "5084\n",
            "(504, 79)\n",
            "79\n",
            "5085\n",
            "(2808, 114)\n",
            "114\n",
            "5086\n",
            "(1380, 83)\n",
            "83\n",
            "5087\n"
          ],
          "name": "stdout"
        },
        {
          "output_type": "stream",
          "text": [
            "\n",
            "\n",
            " 75%|███████▌  | 2626/3486 [12:26<01:37,  8.78it/s]\u001b[A\u001b[A"
          ],
          "name": "stderr"
        },
        {
          "output_type": "stream",
          "text": [
            "(11475, 300)\n",
            "300\n",
            "5088\n",
            "(432, 48)\n",
            "48\n",
            "5089\n",
            "(315, 52)\n",
            "52\n",
            "5090\n",
            "(1008, 86)\n",
            "86\n",
            "5091\n",
            "(2088, 94)\n",
            "94\n",
            "5092\n",
            "(2988, 119)\n"
          ],
          "name": "stdout"
        },
        {
          "output_type": "stream",
          "text": [
            "\n",
            "\n",
            " 76%|███████▌  | 2632/3486 [12:26<01:17, 11.09it/s]\u001b[A\u001b[A"
          ],
          "name": "stderr"
        },
        {
          "output_type": "stream",
          "text": [
            "119\n",
            "5093\n",
            "(9108, 289)\n",
            "289\n",
            "5094\n",
            "(4536, 162)\n",
            "162\n",
            "5095\n"
          ],
          "name": "stdout"
        },
        {
          "output_type": "stream",
          "text": [
            "\n",
            "\n",
            " 76%|███████▌  | 2634/3486 [12:26<01:13, 11.59it/s]\u001b[A\u001b[A"
          ],
          "name": "stderr"
        },
        {
          "output_type": "stream",
          "text": [
            "(7344, 240)\n",
            "240\n",
            "5096\n",
            "(8640, 276)\n",
            "276\n",
            "5097\n",
            "(12492, 383)\n"
          ],
          "name": "stdout"
        },
        {
          "output_type": "stream",
          "text": [
            "\n",
            "\n",
            " 76%|███████▌  | 2636/3486 [12:26<01:42,  8.28it/s]\u001b[A\u001b[A"
          ],
          "name": "stderr"
        },
        {
          "output_type": "stream",
          "text": [
            "383\n",
            "5098\n",
            "(14148, 429)\n"
          ],
          "name": "stdout"
        },
        {
          "output_type": "stream",
          "text": [
            "\n",
            "\n",
            " 76%|███████▌  | 2638/3486 [12:27<02:03,  6.86it/s]\u001b[A\u001b[A"
          ],
          "name": "stderr"
        },
        {
          "output_type": "stream",
          "text": [
            "429\n",
            "5099\n",
            "(2250, 105)\n",
            "105\n",
            "5100\n",
            "(5472, 188)\n",
            "188\n",
            "5101\n",
            "(3600, 136)\n",
            "136\n",
            "5102\n",
            "(9144, 290)\n"
          ],
          "name": "stdout"
        },
        {
          "output_type": "stream",
          "text": [
            "\n",
            "\n",
            " 76%|███████▌  | 2641/3486 [12:27<01:50,  7.64it/s]\u001b[A\u001b[A\n",
            "\n",
            " 76%|███████▌  | 2643/3486 [12:27<01:38,  8.54it/s]\u001b[A\u001b[A"
          ],
          "name": "stderr"
        },
        {
          "output_type": "stream",
          "text": [
            "290\n",
            "5103\n",
            "(6408, 214)\n",
            "214\n",
            "5104\n",
            "(7470, 211)\n",
            "211\n",
            "5105\n"
          ],
          "name": "stdout"
        },
        {
          "output_type": "stream",
          "text": [
            "\n",
            "\n",
            " 76%|███████▌  | 2645/3486 [12:27<01:26,  9.73it/s]\u001b[A\u001b[A"
          ],
          "name": "stderr"
        },
        {
          "output_type": "stream",
          "text": [
            "(7245, 206)\n",
            "206\n",
            "5106\n",
            "(5760, 173)\n",
            "173\n",
            "5107\n",
            "(6300, 185)\n",
            "185\n",
            "5108\n",
            "(6390, 187)\n"
          ],
          "name": "stdout"
        },
        {
          "output_type": "stream",
          "text": [
            "\n",
            "\n",
            " 76%|███████▌  | 2647/3486 [12:28<01:16, 10.90it/s]\u001b[A\u001b[A\n",
            "\n",
            " 76%|███████▌  | 2649/3486 [12:28<01:10, 11.89it/s]\u001b[A\u001b[A"
          ],
          "name": "stderr"
        },
        {
          "output_type": "stream",
          "text": [
            "187\n",
            "5109\n",
            "(5985, 178)\n",
            "178\n",
            "5110\n",
            "(6120, 181)\n",
            "181\n",
            "5111\n",
            "(900, 65)\n",
            "65\n",
            "5112\n",
            "(600, 70)\n",
            "70\n",
            "5113\n",
            "(1476, 77)\n",
            "77\n",
            "5114\n",
            "(3240, 126)\n",
            "126\n",
            "5115\n",
            "(28980, 689)\n"
          ],
          "name": "stdout"
        },
        {
          "output_type": "stream",
          "text": [
            "\n",
            "\n",
            " 76%|███████▌  | 2654/3486 [12:29<01:45,  7.87it/s]\u001b[A\u001b[A"
          ],
          "name": "stderr"
        },
        {
          "output_type": "stream",
          "text": [
            "689\n",
            "5116\n",
            "(4640, 156)\n",
            "156\n",
            "5117\n",
            "(2295, 96)\n",
            "96\n",
            "5118\n",
            "(16650, 415)\n"
          ],
          "name": "stdout"
        },
        {
          "output_type": "stream",
          "text": [
            "\n",
            "\n",
            " 76%|███████▌  | 2657/3486 [12:29<01:49,  7.55it/s]\u001b[A\u001b[A\n",
            "\n",
            " 76%|███████▋  | 2659/3486 [12:29<01:30,  9.17it/s]\u001b[A\u001b[A"
          ],
          "name": "stderr"
        },
        {
          "output_type": "stream",
          "text": [
            "415\n",
            "5119\n",
            "(4140, 151)\n",
            "151\n",
            "5120\n",
            "(1296, 75)\n",
            "75\n",
            "5121\n",
            "(2988, 119)\n",
            "119\n",
            "5122\n",
            "(1320, 73)\n",
            "73\n",
            "5123\n",
            "(2880, 122)\n"
          ],
          "name": "stdout"
        },
        {
          "output_type": "stream",
          "text": [
            "\n",
            "\n",
            " 76%|███████▋  | 2662/3486 [12:29<01:11, 11.55it/s]\u001b[A\u001b[A"
          ],
          "name": "stderr"
        },
        {
          "output_type": "stream",
          "text": [
            "122\n",
            "5124\n",
            "(3456, 120)\n",
            "120\n",
            "5125\n",
            "(17568, 524)\n"
          ],
          "name": "stdout"
        },
        {
          "output_type": "stream",
          "text": [
            "\n",
            "\n",
            " 76%|███████▋  | 2664/3486 [12:30<01:57,  6.97it/s]\u001b[A\u001b[A"
          ],
          "name": "stderr"
        },
        {
          "output_type": "stream",
          "text": [
            "524\n",
            "5126\n",
            "(16812, 503)\n",
            "503\n",
            "5127\n",
            "(11736, 362)\n"
          ],
          "name": "stdout"
        },
        {
          "output_type": "stream",
          "text": [
            "\n",
            "\n",
            " 76%|███████▋  | 2666/3486 [12:31<02:46,  4.93it/s]\u001b[A\u001b[A"
          ],
          "name": "stderr"
        },
        {
          "output_type": "stream",
          "text": [
            "362\n",
            "5128\n",
            "(12312, 378)\n",
            "378\n",
            "5129\n",
            "(12348, 379)\n"
          ],
          "name": "stdout"
        },
        {
          "output_type": "stream",
          "text": [
            "\n",
            "\n",
            " 77%|███████▋  | 2668/3486 [12:31<02:55,  4.65it/s]\u001b[A\u001b[A\n",
            "\n",
            " 77%|███████▋  | 2669/3486 [12:31<02:39,  5.11it/s]\u001b[A\u001b[A"
          ],
          "name": "stderr"
        },
        {
          "output_type": "stream",
          "text": [
            "379\n",
            "5130\n",
            "(9864, 310)\n",
            "310\n",
            "5131\n",
            "(936, 62)\n",
            "62\n",
            "5133\n",
            "(2970, 123)\n",
            "123"
          ],
          "name": "stdout"
        },
        {
          "output_type": "stream",
          "text": [
            "\n",
            "\n",
            " 77%|███████▋  | 2674/3486 [12:31<01:56,  6.94it/s]\u001b[A\u001b[A"
          ],
          "name": "stderr"
        },
        {
          "output_type": "stream",
          "text": [
            "\n",
            "5135\n",
            "(765, 62)\n",
            "62\n",
            "5136\n",
            "(2556, 107)\n",
            "107\n",
            "5137\n",
            "(3276, 127)\n",
            "127\n",
            "5138\n",
            "(1845, 86)\n",
            "86\n",
            "5139\n",
            "(2592, 108)\n",
            "108\n",
            "5140\n",
            "(450, 55)\n",
            "55\n",
            "5141\n",
            "(29184, 656)\n"
          ],
          "name": "stdout"
        },
        {
          "output_type": "stream",
          "text": [
            "\n",
            "\n",
            " 77%|███████▋  | 2678/3486 [12:32<02:23,  5.63it/s]\u001b[A\u001b[A\n",
            "\n",
            " 77%|███████▋  | 2682/3486 [12:33<01:47,  7.49it/s]\u001b[A\u001b[A"
          ],
          "name": "stderr"
        },
        {
          "output_type": "stream",
          "text": [
            "656\n",
            "5142\n",
            "(2664, 110)\n",
            "110\n",
            "5143\n",
            "(900, 61)\n",
            "61\n",
            "5144\n",
            "(4815, 152)\n",
            "152\n",
            "5145\n",
            "(3060, 111)\n",
            "111\n",
            "5146\n",
            "(1980, 93)\n",
            "93\n",
            "5147\n",
            "(2412, 103)\n",
            "103\n",
            "5148\n",
            "(3744, 140)\n"
          ],
          "name": "stdout"
        },
        {
          "output_type": "stream",
          "text": [
            "\n",
            "\n",
            " 77%|███████▋  | 2686/3486 [12:33<01:22,  9.75it/s]\u001b[A\u001b[A\n",
            "\n",
            " 77%|███████▋  | 2689/3486 [12:33<01:05, 12.19it/s]\u001b[A\u001b[A"
          ],
          "name": "stderr"
        },
        {
          "output_type": "stream",
          "text": [
            "140\n",
            "5149\n",
            "(3240, 126)\n",
            "126\n",
            "5150\n",
            "(546, 53)\n",
            "53\n",
            "5152\n",
            "(1260, 73)\n",
            "73\n",
            "5154\n",
            "(5652, 193)\n",
            "193\n",
            "5155\n",
            "(2025, 102)\n",
            "102\n",
            "5156\n",
            "(5256, 182)\n"
          ],
          "name": "stdout"
        },
        {
          "output_type": "stream",
          "text": [
            "\n",
            "\n",
            " 77%|███████▋  | 2692/3486 [12:33<00:54, 14.45it/s]\u001b[A\u001b[A\n",
            "\n",
            " 77%|███████▋  | 2695/3486 [12:33<00:48, 16.21it/s]\u001b[A\u001b[A"
          ],
          "name": "stderr"
        },
        {
          "output_type": "stream",
          "text": [
            "182\n",
            "5157\n",
            "(3120, 118)\n",
            "118\n",
            "5158\n",
            "(2280, 98)\n",
            "98\n",
            "5159\n",
            "(5904, 200)\n",
            "200\n",
            "5160\n",
            "(3384, 130)\n",
            "130\n",
            "5161\n",
            "(3996, 147)\n",
            "147\n",
            "5162\n",
            "(4068, 149)\n",
            "149\n",
            "5163\n",
            "(12420, 381)\n"
          ],
          "name": "stdout"
        },
        {
          "output_type": "stream",
          "text": [
            "\n",
            "\n",
            " 77%|███████▋  | 2698/3486 [12:33<01:01, 12.81it/s]\u001b[A\u001b[A\n",
            "\n",
            " 78%|███████▊  | 2703/3486 [12:33<00:47, 16.40it/s]\u001b[A\u001b[A"
          ],
          "name": "stderr"
        },
        {
          "output_type": "stream",
          "text": [
            "381\n",
            "5164\n",
            "(5184, 180)\n",
            "180\n",
            "5165\n",
            "(2376, 102)\n",
            "102\n",
            "5166\n",
            "(684, 55)\n",
            "55\n",
            "5167\n",
            "(864, 60)\n",
            "60\n",
            "5168\n",
            "(855, 64)\n",
            "64\n",
            "5169\n",
            "(630, 59)\n",
            "59\n",
            "5170\n",
            "(288, 44)\n",
            "44\n",
            "5171\n",
            "(2976, 127)\n",
            "127\n",
            "5172\n",
            "(2808, 111)\n",
            "111\n",
            "5174\n",
            "(1332, 73)\n"
          ],
          "name": "stdout"
        },
        {
          "output_type": "stream",
          "text": [
            "\n",
            "\n",
            " 78%|███████▊  | 2709/3486 [12:34<00:38, 20.10it/s]\u001b[A\u001b[A\n",
            "\n",
            " 78%|███████▊  | 2716/3486 [12:34<00:30, 25.28it/s]\u001b[A\u001b[A"
          ],
          "name": "stderr"
        },
        {
          "output_type": "stream",
          "text": [
            "73\n",
            "5175\n",
            "(5625, 150)\n",
            "150\n",
            "5176\n",
            "(336, 55)\n",
            "55\n",
            "5177\n",
            "(2070, 91)\n",
            "91\n",
            "5178\n",
            "(1260, 71)\n",
            "71\n",
            "5179\n",
            "(1800, 85)\n",
            "85\n",
            "5180\n",
            "(684, 55)\n",
            "55\n",
            "5181\n",
            "(180, 41)\n",
            "41\n",
            "5182\n",
            "(2430, 99)\n",
            "99\n",
            "5183\n",
            "(2772, 113)\n",
            "113\n",
            "5184\n",
            "(3420, 128)\n",
            "128\n",
            "5185\n",
            "(2250, 115)\n",
            "115\n",
            "5186\n",
            "(9324, 295)\n",
            "295\n"
          ],
          "name": "stdout"
        },
        {
          "output_type": "stream",
          "text": [
            "\n",
            "\n",
            " 78%|███████▊  | 2721/3486 [12:34<00:34, 22.39it/s]\u001b[A\u001b[A"
          ],
          "name": "stderr"
        },
        {
          "output_type": "stream",
          "text": [
            "5187\n",
            "(2916, 117)\n",
            "117\n",
            "5188\n",
            "(13365, 342)\n"
          ],
          "name": "stdout"
        },
        {
          "output_type": "stream",
          "text": [
            "\n",
            "\n",
            " 78%|███████▊  | 2725/3486 [12:34<00:41, 18.29it/s]\u001b[A\u001b[A\n",
            "\n",
            " 78%|███████▊  | 2730/3486 [12:34<00:34, 21.78it/s]\u001b[A\u001b[A"
          ],
          "name": "stderr"
        },
        {
          "output_type": "stream",
          "text": [
            "342\n",
            "5189\n",
            "(3315, 124)\n",
            "124\n",
            "5190\n",
            "(324, 45)\n",
            "45\n",
            "5191\n",
            "(1152, 88)\n",
            "88\n",
            "5192\n",
            "(828, 59)\n",
            "59\n",
            "5193\n",
            "(4860, 171)\n",
            "171\n",
            "5194\n",
            "(741, 58)\n",
            "58\n",
            "5195\n",
            "(936, 85)\n",
            "85\n",
            "5196\n",
            "(4212, 153)\n",
            "153\n",
            "5197\n",
            "(2700, 111)\n"
          ],
          "name": "stdout"
        },
        {
          "output_type": "stream",
          "text": [
            "\n",
            "\n",
            " 78%|███████▊  | 2734/3486 [12:35<00:30, 24.86it/s]\u001b[A\u001b[A\n",
            "\n",
            " 79%|███████▊  | 2739/3486 [12:35<00:26, 28.46it/s]\u001b[A\u001b[A"
          ],
          "name": "stderr"
        },
        {
          "output_type": "stream",
          "text": [
            "111\n",
            "5198\n",
            "(741, 58)\n",
            "58\n",
            "5199\n",
            "(390, 49)\n",
            "49\n",
            "5200\n",
            "(5400, 150)\n",
            "150\n",
            "5201\n",
            "(1944, 90)\n",
            "90\n",
            "5202\n",
            "(3132, 123)\n",
            "123\n",
            "5203\n",
            "(1800, 86)\n",
            "86\n",
            "5204\n",
            "(2196, 97)\n",
            "97\n",
            "5205\n",
            "(2844, 115)\n",
            "115\n",
            "5206\n",
            "(1800, 86)\n",
            "86\n",
            "5207\n",
            "(13716, 422)\n"
          ],
          "name": "stdout"
        },
        {
          "output_type": "stream",
          "text": [
            "\n",
            "\n",
            " 79%|███████▊  | 2743/3486 [12:35<00:42, 17.64it/s]\u001b[A\u001b[A\n",
            "\n"
          ],
          "name": "stderr"
        },
        {
          "output_type": "stream",
          "text": [
            "422\n",
            "5208\n",
            "(1476, 77)\n",
            "77\n",
            "5209\n",
            "(5076, 194)\n",
            "194\n",
            "5210\n",
            "(3420, 131)\n",
            "131\n",
            "5211\n",
            "(1200, 73)\n",
            "73\n",
            "5212\n",
            "(7050, 169)\n",
            "169\n"
          ],
          "name": "stdout"
        },
        {
          "output_type": "stream",
          "text": [
            "\r 79%|███████▉  | 2746/3486 [12:35<00:38, 19.38it/s]\u001b[A\u001b[A"
          ],
          "name": "stderr"
        },
        {
          "output_type": "stream",
          "text": [
            "5213\n",
            "(45270, 858)\n"
          ],
          "name": "stdout"
        },
        {
          "output_type": "stream",
          "text": [
            "\n",
            "\n",
            " 79%|███████▉  | 2749/3486 [12:38<03:39,  3.36it/s]\u001b[A\u001b[A"
          ],
          "name": "stderr"
        },
        {
          "output_type": "stream",
          "text": [
            "858\n",
            "5214\n",
            "(3528, 121)\n",
            "121\n",
            "5215\n",
            "(6576, 185)\n",
            "185\n",
            "5216\n",
            "(1920, 92)\n",
            "92\n",
            "5217\n"
          ],
          "name": "stdout"
        },
        {
          "output_type": "stream",
          "text": [
            "\n",
            "\n",
            " 79%|███████▉  | 2751/3486 [12:38<02:57,  4.13it/s]\u001b[A\u001b[A"
          ],
          "name": "stderr"
        },
        {
          "output_type": "stream",
          "text": [
            "(10692, 333)\n",
            "333\n",
            "5218\n",
            "(3168, 124)\n",
            "124\n",
            "5219\n"
          ],
          "name": "stdout"
        },
        {
          "output_type": "stream",
          "text": [
            "\n",
            "\n",
            " 79%|███████▉  | 2753/3486 [12:38<02:22,  5.13it/s]\u001b[A\u001b[A"
          ],
          "name": "stderr"
        },
        {
          "output_type": "stream",
          "text": [
            "(9360, 296)\n",
            "296\n",
            "5220\n",
            "(2160, 93)\n",
            "93\n",
            "5221\n",
            "(3456, 132)\n",
            "132\n",
            "5222\n",
            "(864, 84)\n",
            "84\n",
            "5223\n",
            "(1860, 92)\n",
            "92\n",
            "5224\n",
            "(4212, 153)\n"
          ],
          "name": "stdout"
        },
        {
          "output_type": "stream",
          "text": [
            "\n",
            "\n",
            " 79%|███████▉  | 2758/3486 [12:38<01:45,  6.91it/s]\u001b[A\u001b[A\n",
            "\n",
            " 79%|███████▉  | 2764/3486 [12:38<01:17,  9.36it/s]\u001b[A\u001b[A"
          ],
          "name": "stderr"
        },
        {
          "output_type": "stream",
          "text": [
            "153\n",
            "5225\n",
            "(2916, 117)\n",
            "117\n",
            "5226\n",
            "(972, 63)\n",
            "63\n",
            "5227\n",
            "(936, 85)\n",
            "85\n",
            "5228\n",
            "(432, 48)\n",
            "48\n",
            "5229\n",
            "(1404, 156)\n",
            "156\n",
            "5230\n",
            "(1296, 72)\n",
            "72\n",
            "5231\n",
            "(1548, 79)\n",
            "79\n",
            "5232\n",
            "(1443, 76)\n",
            "76\n",
            "5233\n",
            "(624, 55)\n",
            "55\n",
            "5234\n",
            "(468, 51)\n",
            "51\n",
            "5235\n",
            "(3672, 138)\n"
          ],
          "name": "stdout"
        },
        {
          "output_type": "stream",
          "text": [
            "\n",
            "\n",
            " 79%|███████▉  | 2770/3486 [12:39<00:58, 12.20it/s]\u001b[A\u001b[A\n",
            "\n",
            " 80%|███████▉  | 2774/3486 [12:39<00:47, 15.10it/s]\u001b[A\u001b[A"
          ],
          "name": "stderr"
        },
        {
          "output_type": "stream",
          "text": [
            "138\n",
            "5236\n",
            "(4212, 153)\n",
            "153\n",
            "5237\n",
            "(396, 47)\n",
            "47\n",
            "5238\n",
            "(5670, 171)\n",
            "171\n",
            "5239\n",
            "(3528, 134)\n",
            "134\n",
            "5240\n",
            "(1260, 71)\n",
            "71\n",
            "5241\n",
            "(3636, 137)\n"
          ],
          "name": "stdout"
        },
        {
          "output_type": "stream",
          "text": [
            "\n",
            "\n",
            " 80%|███████▉  | 2778/3486 [12:39<00:38, 18.44it/s]\u001b[A\u001b[A"
          ],
          "name": "stderr"
        },
        {
          "output_type": "stream",
          "text": [
            "137\n",
            "5242\n",
            "(1776, 85)\n",
            "85\n",
            "5243\n",
            "(1800, 85)\n",
            "85\n",
            "5244\n",
            "(390, 43)\n",
            "43\n",
            "5245\n",
            "(780, 56)\n",
            "56\n",
            "5246\n",
            "(780, 56)\n",
            "56\n",
            "5247\n",
            "(9252, 293)\n"
          ],
          "name": "stdout"
        },
        {
          "output_type": "stream",
          "text": [
            "\n",
            "\n",
            " 80%|███████▉  | 2782/3486 [12:39<00:41, 17.03it/s]\u001b[A\u001b[A"
          ],
          "name": "stderr"
        },
        {
          "output_type": "stream",
          "text": [
            "293\n",
            "5248\n",
            "(7704, 250)\n",
            "250\n",
            "5249\n",
            "(828, 59)\n",
            "59\n",
            "5250\n",
            "(324, 45)\n",
            "45\n",
            "5251\n",
            "(900, 65)\n",
            "65\n",
            "5252\n",
            "(390, 43)\n",
            "43\n",
            "5253\n",
            "(780, 56)\n",
            "56\n",
            "5254\n",
            "(780, 56)\n",
            "56\n",
            "5255\n",
            "(390, 43)\n",
            "43\n",
            "5256\n",
            "(780, 56)\n",
            "56\n",
            "5257\n",
            "(780, 56)\n",
            "56\n",
            "5258\n",
            "(720, 82)\n",
            "82\n",
            "5259\n",
            "(390, 43)\n"
          ],
          "name": "stdout"
        },
        {
          "output_type": "stream",
          "text": [
            "\n",
            "\n",
            " 80%|████████  | 2794/3486 [12:39<00:30, 22.82it/s]\u001b[A\u001b[A\n",
            "\n",
            " 80%|████████  | 2802/3486 [12:39<00:23, 28.96it/s]\u001b[A\u001b[A"
          ],
          "name": "stderr"
        },
        {
          "output_type": "stream",
          "text": [
            "43\n",
            "5260\n",
            "(780, 56)\n",
            "56\n",
            "5261\n",
            "(780, 56)\n",
            "56\n",
            "5262\n",
            "(288, 44)\n",
            "44\n",
            "5263\n",
            "(720, 72)\n",
            "72\n",
            "5264\n",
            "(432, 48)\n",
            "48\n",
            "5265\n",
            "(684, 55)\n",
            "55\n",
            "5266\n",
            "(2700, 120)\n",
            "120\n",
            "5267\n",
            "(2088, 94)\n",
            "94\n",
            "5268\n",
            "(324, 45)\n",
            "45\n",
            "5269\n",
            "(252, 43)\n",
            "43\n",
            "5270\n",
            "(1008, 64)\n",
            "64\n",
            "5271\n",
            "(756, 57)\n",
            "57\n",
            "5272\n",
            "(1440, 76)\n",
            "76\n",
            "5273\n",
            "(432, 48)\n",
            "48\n",
            "5274\n",
            "(6948, 229)\n"
          ],
          "name": "stdout"
        },
        {
          "output_type": "stream",
          "text": [
            "\n",
            "\n",
            " 81%|████████  | 2809/3486 [12:39<00:20, 32.30it/s]\u001b[A\u001b[A\n",
            "\n",
            " 81%|████████  | 2817/3486 [12:40<00:17, 38.01it/s]\u001b[A\u001b[A"
          ],
          "name": "stderr"
        },
        {
          "output_type": "stream",
          "text": [
            "229\n",
            "5275\n",
            "(1008, 64)\n",
            "64\n",
            "5276\n",
            "(828, 59)\n",
            "59\n",
            "5277\n",
            "(2640, 104)\n",
            "104\n",
            "5278\n",
            "(1020, 77)\n",
            "77\n",
            "5279\n",
            "(336, 55)\n",
            "55\n",
            "5280\n",
            "(1620, 87)\n",
            "87\n",
            "5281\n",
            "(1800, 99)\n",
            "99\n",
            "5282\n",
            "<=2 categories\n",
            "5283\n",
            "<=2 categories\n",
            "5284\n",
            "(4680, 166)\n",
            "166\n",
            "5285\n"
          ],
          "name": "stdout"
        },
        {
          "output_type": "stream",
          "text": [
            "\n",
            "\n",
            " 81%|████████  | 2823/3486 [12:40<00:18, 36.74it/s]\u001b[A\u001b[A"
          ],
          "name": "stderr"
        },
        {
          "output_type": "stream",
          "text": [
            "(4752, 168)\n",
            "168\n",
            "5286\n",
            "(1014, 65)\n",
            "65\n",
            "5287\n",
            "(429, 50)\n",
            "50\n",
            "5289\n",
            "(273, 46)\n",
            "46\n",
            "5292\n",
            "(3492, 133)\n",
            "133\n",
            "5293\n",
            "(1404, 75)\n",
            "75\n",
            "5294\n",
            "(468, 49)\n",
            "49\n",
            "5295\n",
            "(720, 61)\n",
            "61\n",
            "5296\n",
            "(1260, 71)\n",
            "71\n",
            "5297\n",
            "(2160, 96)\n",
            "96\n",
            "5298\n",
            "(4500, 140)\n"
          ],
          "name": "stdout"
        },
        {
          "output_type": "stream",
          "text": [
            "\n",
            "\n",
            " 81%|████████  | 2829/3486 [12:40<00:17, 38.58it/s]\u001b[A\u001b[A\n",
            "\n",
            " 81%|████████▏ | 2834/3486 [12:40<00:16, 39.40it/s]\u001b[A\u001b[A"
          ],
          "name": "stderr"
        },
        {
          "output_type": "stream",
          "text": [
            "140\n",
            "5299\n",
            "(1458, 81)\n",
            "81\n",
            "5300\n",
            "(612, 53)\n",
            "53\n",
            "5301\n",
            "(216, 42)\n",
            "42\n",
            "5302\n",
            "(900, 61)\n",
            "61\n",
            "5303\n",
            "(3456, 120)\n",
            "120\n",
            "5304\n",
            "(1968, 89)\n",
            "89\n",
            "5306\n",
            "(2280, 98)\n",
            "98\n",
            "5307\n",
            "(756, 57)\n",
            "57\n",
            "5308\n",
            "(2160, 96)\n"
          ],
          "name": "stdout"
        },
        {
          "output_type": "stream",
          "text": [
            "\n",
            "\n",
            " 81%|████████▏ | 2839/3486 [12:40<00:15, 41.71it/s]\u001b[A\u001b[A"
          ],
          "name": "stderr"
        },
        {
          "output_type": "stream",
          "text": [
            "96\n",
            "5309\n",
            "(2124, 95)\n",
            "95\n",
            "5310\n",
            "(13143, 376)\n",
            "376\n",
            "5311\n",
            "(720, 56)\n",
            "56\n",
            "5312\n",
            "(26244, 765)\n"
          ],
          "name": "stdout"
        },
        {
          "output_type": "stream",
          "text": [
            "\n",
            "\n",
            " 82%|████████▏ | 2844/3486 [12:42<01:10,  9.05it/s]\u001b[A\u001b[A"
          ],
          "name": "stderr"
        },
        {
          "output_type": "stream",
          "text": [
            "765\n",
            "5313\n",
            "(4320, 156)\n",
            "156\n",
            "5314\n",
            "(2556, 107)\n",
            "107\n",
            "5315\n",
            "(1836, 87)\n",
            "87\n",
            "5316\n",
            "(6732, 223)\n",
            "223\n",
            "5317\n",
            "(2340, 99)\n"
          ],
          "name": "stdout"
        },
        {
          "output_type": "stream",
          "text": [
            "\n",
            "\n",
            " 82%|████████▏ | 2848/3486 [12:42<00:57, 11.10it/s]\u001b[A\u001b[A\n",
            "\n",
            " 82%|████████▏ | 2852/3486 [12:42<00:46, 13.66it/s]\u001b[A\u001b[A"
          ],
          "name": "stderr"
        },
        {
          "output_type": "stream",
          "text": [
            "99\n",
            "5318\n",
            "(3240, 117)\n",
            "117\n",
            "5319\n",
            "(792, 58)\n",
            "58\n",
            "5320\n",
            "(7596, 247)\n",
            "247\n",
            "5321\n",
            "(324, 45)\n",
            "45\n",
            "5322\n",
            "(1008, 64)\n",
            "64\n",
            "5323\n",
            "(900, 75)\n",
            "75\n",
            "5324\n",
            "(1800, 97)\n"
          ],
          "name": "stdout"
        },
        {
          "output_type": "stream",
          "text": [
            "\n",
            "\n",
            " 82%|████████▏ | 2856/3486 [12:42<00:39, 16.11it/s]\u001b[A\u001b[A"
          ],
          "name": "stderr"
        },
        {
          "output_type": "stream",
          "text": [
            "97\n",
            "5325\n",
            "(2340, 116)\n",
            "116\n",
            "5326\n",
            "(6912, 230)\n",
            "230\n",
            "5327\n",
            "(4632, 217)\n",
            "217\n",
            "5329\n",
            "(3132, 123)\n"
          ],
          "name": "stdout"
        },
        {
          "output_type": "stream",
          "text": [
            "\n",
            "\n",
            " 82%|████████▏ | 2859/3486 [12:42<00:35, 17.85it/s]\u001b[A\u001b[A\n",
            "\n",
            " 82%|████████▏ | 2862/3486 [12:42<00:33, 18.41it/s]\u001b[A\u001b[A"
          ],
          "name": "stderr"
        },
        {
          "output_type": "stream",
          "text": [
            "123\n",
            "5330\n",
            "(1152, 68)\n",
            "68\n",
            "5331\n",
            "(6264, 210)\n",
            "210\n",
            "5332\n",
            "(2700, 111)\n",
            "111\n",
            "5333\n",
            "(3825, 130)\n",
            "130\n",
            "5334\n",
            "(5580, 169)\n"
          ],
          "name": "stdout"
        },
        {
          "output_type": "stream",
          "text": [
            "\n",
            "\n",
            " 82%|████████▏ | 2866/3486 [12:43<00:28, 21.84it/s]\u001b[A\u001b[A\n",
            "\n",
            " 82%|████████▏ | 2869/3486 [12:43<00:26, 23.31it/s]\u001b[A\u001b[A"
          ],
          "name": "stderr"
        },
        {
          "output_type": "stream",
          "text": [
            "169\n",
            "5335\n",
            "(1584, 81)\n",
            "81\n",
            "5336\n",
            "(1080, 66)\n",
            "66\n",
            "5337\n",
            "(540, 51)\n",
            "51\n",
            "5338\n",
            "(5904, 200)\n",
            "200\n",
            "5339\n",
            "(2736, 112)\n",
            "112\n",
            "5340\n",
            "(960, 68)\n",
            "68\n",
            "5341\n",
            "(1080, 69)\n",
            "69\n",
            "5342\n",
            "(1260, 71)\n",
            "71\n",
            "5343\n",
            "(4770, 143)\n"
          ],
          "name": "stdout"
        },
        {
          "output_type": "stream",
          "text": [
            "\n",
            "\n",
            " 82%|████████▏ | 2873/3486 [12:43<00:23, 25.77it/s]\u001b[A\u001b[A"
          ],
          "name": "stderr"
        },
        {
          "output_type": "stream",
          "text": [
            "143\n",
            "5344\n",
            "(4050, 135)\n",
            "135\n",
            "5345\n",
            "(5616, 192)\n",
            "192\n",
            "5347\n",
            "(792, 58)\n",
            "58\n",
            "5348\n",
            "(8100, 468)\n"
          ],
          "name": "stdout"
        },
        {
          "output_type": "stream",
          "text": [
            "\n",
            "\n",
            " 83%|████████▎ | 2877/3486 [12:43<00:29, 20.52it/s]\u001b[A\u001b[A\n",
            "\n",
            " 83%|████████▎ | 2883/3486 [12:43<00:24, 24.65it/s]\u001b[A\u001b[A"
          ],
          "name": "stderr"
        },
        {
          "output_type": "stream",
          "text": [
            "468\n",
            "5349\n",
            "(945, 66)\n",
            "66\n",
            "5350\n",
            "(855, 64)\n",
            "64\n",
            "5351\n",
            "(648, 54)\n",
            "54\n",
            "5352\n",
            "(396, 47)\n",
            "47\n",
            "5353\n",
            "(1260, 187)\n",
            "187\n",
            "5354\n",
            "(1344, 76)\n",
            "76\n",
            "5355\n",
            "(3960, 202)\n",
            "202\n",
            "5356\n",
            "(2160, 192)\n",
            "192\n",
            "5357\n",
            "(1035, 68)\n",
            "68\n",
            "5358\n"
          ],
          "name": "stdout"
        },
        {
          "output_type": "stream",
          "text": [
            "\n",
            "\n",
            " 83%|████████▎ | 2888/3486 [12:43<00:21, 28.17it/s]\u001b[A\u001b[A\n",
            "\n",
            " 83%|████████▎ | 2893/3486 [12:43<00:18, 31.83it/s]\u001b[A\u001b[A"
          ],
          "name": "stderr"
        },
        {
          "output_type": "stream",
          "text": [
            "(1536, 80)\n",
            "80\n",
            "5360\n",
            "(1275, 92)\n",
            "92\n",
            "5361\n",
            "(3400, 125)\n",
            "125\n",
            "5362\n",
            "(3708, 139)\n",
            "139\n",
            "5363\n",
            "(1620, 81)\n",
            "81\n",
            "5364\n",
            "(1944, 90)\n",
            "90\n",
            "5365\n",
            "(1152, 88)\n",
            "88\n",
            "5366\n",
            "(840, 74)\n",
            "74\n",
            "5367\n",
            "(2232, 98)\n",
            "98\n",
            "5368\n"
          ],
          "name": "stdout"
        },
        {
          "output_type": "stream",
          "text": [
            "\n",
            "\n",
            " 83%|████████▎ | 2897/3486 [12:44<00:19, 29.88it/s]\u001b[A\u001b[A"
          ],
          "name": "stderr"
        },
        {
          "output_type": "stream",
          "text": [
            "(3780, 132)\n",
            "132\n",
            "5369\n",
            "(2970, 123)\n",
            "123\n",
            "5370\n",
            "(5148, 179)\n",
            "179\n",
            "5371\n",
            "(4392, 158)\n",
            "158\n",
            "5372\n",
            "(1530, 79)\n",
            "79\n",
            "5374\n",
            "(3564, 135)\n"
          ],
          "name": "stdout"
        },
        {
          "output_type": "stream",
          "text": [
            "\n",
            "\n",
            " 83%|████████▎ | 2901/3486 [12:44<00:18, 30.82it/s]\u001b[A\u001b[A"
          ],
          "name": "stderr"
        },
        {
          "output_type": "stream",
          "text": [
            "135\n",
            "5375\n",
            "(504, 50)\n",
            "50\n",
            "5377\n",
            "(1908, 89)\n",
            "89\n",
            "5378\n",
            "(324, 45)\n",
            "45\n",
            "5379\n",
            "(26316, 483)\n"
          ],
          "name": "stdout"
        },
        {
          "output_type": "stream",
          "text": [
            "\n",
            "\n",
            " 83%|████████▎ | 2905/3486 [12:44<00:46, 12.58it/s]\u001b[A\u001b[A\n",
            "\n",
            " 83%|████████▎ | 2910/3486 [12:45<00:37, 15.51it/s]\u001b[A\u001b[A"
          ],
          "name": "stderr"
        },
        {
          "output_type": "stream",
          "text": [
            "483\n",
            "5380\n",
            "(1014, 65)\n",
            "65\n",
            "5381\n",
            "(156, 43)\n",
            "43\n",
            "5383\n",
            "(3456, 132)\n",
            "132\n",
            "5384\n",
            "(350, 75)\n",
            "75\n",
            "5385\n",
            "(4860, 153)\n",
            "153\n",
            "5386\n",
            "(5400, 150)\n",
            "150\n",
            "5387\n",
            "(5904, 200)\n"
          ],
          "name": "stdout"
        },
        {
          "output_type": "stream",
          "text": [
            "\n",
            "\n",
            " 84%|████████▎ | 2913/3486 [12:45<00:34, 16.58it/s]\u001b[A\u001b[A"
          ],
          "name": "stderr"
        },
        {
          "output_type": "stream",
          "text": [
            "200\n",
            "5388\n",
            "(840, 74)\n",
            "74\n",
            "5389\n",
            "(5472, 188)\n",
            "188\n",
            "5390\n",
            "(5292, 183)\n",
            "183\n",
            "5391\n",
            "(1188, 69)\n",
            "69\n",
            "5392\n",
            "(6660, 221)\n"
          ],
          "name": "stdout"
        },
        {
          "output_type": "stream",
          "text": [
            "\n",
            "\n",
            " 84%|████████▎ | 2916/3486 [12:45<00:34, 16.60it/s]\u001b[A\u001b[A\n",
            "\n",
            " 84%|████████▎ | 2919/3486 [12:45<00:32, 17.71it/s]\u001b[A\u001b[A"
          ],
          "name": "stderr"
        },
        {
          "output_type": "stream",
          "text": [
            "221\n",
            "5393\n",
            "(2664, 110)\n",
            "110\n",
            "5394\n",
            "(6480, 189)\n",
            "189\n",
            "5395\n",
            "(4392, 158)\n",
            "158\n",
            "5396\n",
            "(684, 55)\n",
            "55\n",
            "5397\n",
            "(8928, 284)\n"
          ],
          "name": "stdout"
        },
        {
          "output_type": "stream",
          "text": [
            "\n",
            "\n",
            " 84%|████████▍ | 2922/3486 [12:45<00:30, 18.33it/s]\u001b[A\u001b[A"
          ],
          "name": "stderr"
        },
        {
          "output_type": "stream",
          "text": [
            "284\n",
            "5398\n",
            "(936, 62)\n",
            "62\n",
            "5399\n",
            "(828, 59)\n",
            "59\n",
            "5400\n",
            "(5364, 185)\n",
            "185\n",
            "5401\n",
            "(8712, 278)\n"
          ],
          "name": "stdout"
        },
        {
          "output_type": "stream",
          "text": [
            "\n",
            "\n",
            " 84%|████████▍ | 2925/3486 [12:45<00:32, 17.21it/s]\u001b[A\u001b[A"
          ],
          "name": "stderr"
        },
        {
          "output_type": "stream",
          "text": [
            "278\n",
            "5402\n",
            "(10260, 321)\n",
            "321\n",
            "5404\n",
            "(540, 51)\n"
          ],
          "name": "stdout"
        },
        {
          "output_type": "stream",
          "text": [
            "\n",
            "\n",
            " 84%|████████▍ | 2927/3486 [12:46<00:39, 14.11it/s]\u001b[A\u001b[A\n",
            "\n",
            " 84%|████████▍ | 2929/3486 [12:46<00:38, 14.32it/s]\u001b[A\u001b[A"
          ],
          "name": "stderr"
        },
        {
          "output_type": "stream",
          "text": [
            "51\n",
            "5405\n",
            "(3450, 355)\n",
            "355\n",
            "5406\n",
            "(5760, 173)\n",
            "173\n",
            "5407\n",
            "(1368, 74)\n",
            "74\n",
            "5408\n",
            "(507, 52)\n",
            "52\n",
            "5409\n",
            "(3975, 128)\n",
            "128\n"
          ],
          "name": "stdout"
        },
        {
          "output_type": "stream",
          "text": [
            "\n",
            "\n",
            " 84%|████████▍ | 2934/3486 [12:46<00:31, 17.65it/s]\u001b[A\u001b[A"
          ],
          "name": "stderr"
        },
        {
          "output_type": "stream",
          "text": [
            "5410\n",
            "(2484, 105)\n",
            "105\n",
            "5411\n",
            "(3312, 128)\n",
            "128\n",
            "5412\n",
            "(2916, 117)\n",
            "117\n",
            "5413\n",
            "(3168, 124)\n",
            "124\n",
            "5415\n",
            "(672, 58)\n",
            "58\n",
            "5416\n",
            "(672, 58)\n",
            "58\n",
            "5417\n",
            "(1080, 78)\n",
            "78\n",
            "5418\n",
            "(6960, 214)\n"
          ],
          "name": "stdout"
        },
        {
          "output_type": "stream",
          "text": [
            "\n",
            "\n",
            " 84%|████████▍ | 2940/3486 [12:46<00:26, 20.48it/s]\u001b[A\u001b[A\n",
            "\n",
            " 84%|████████▍ | 2944/3486 [12:46<00:22, 23.93it/s]\u001b[A\u001b[A"
          ],
          "name": "stderr"
        },
        {
          "output_type": "stream",
          "text": [
            "214\n",
            "5419\n",
            "(2160, 96)\n",
            "96\n",
            "5420\n",
            "(3240, 126)\n",
            "126\n",
            "5421\n",
            "(1224, 70)\n",
            "70\n",
            "5422\n",
            "(2112, 92)\n",
            "92\n",
            "5423\n",
            "(2760, 106)\n",
            "106\n",
            "5424\n",
            "(1560, 86)\n",
            "86\n",
            "5425\n",
            "(2160, 93)\n",
            "93\n",
            "5426\n",
            "(1080, 87)\n",
            "87\n",
            "5427\n",
            "(828, 59)\n",
            "59\n",
            "5429\n"
          ],
          "name": "stdout"
        },
        {
          "output_type": "stream",
          "text": [
            "\n",
            "\n",
            " 85%|████████▍ | 2950/3486 [12:46<00:18, 28.52it/s]\u001b[A\u001b[A"
          ],
          "name": "stderr"
        },
        {
          "output_type": "stream",
          "text": [
            "(2628, 109)\n",
            "109\n",
            "5430\n",
            "(2088, 94)\n",
            "94\n",
            "5431\n",
            "(1908, 89)\n",
            "89\n",
            "5432\n",
            "(2412, 103)\n",
            "103\n",
            "5433\n",
            "(20952, 618)\n"
          ],
          "name": "stdout"
        },
        {
          "output_type": "stream",
          "text": [
            "\n",
            "\n",
            " 85%|████████▍ | 2954/3486 [12:47<00:46, 11.40it/s]\u001b[A\u001b[A\n",
            "\n",
            " 85%|████████▍ | 2960/3486 [12:47<00:35, 14.68it/s]\u001b[A\u001b[A"
          ],
          "name": "stderr"
        },
        {
          "output_type": "stream",
          "text": [
            "618\n",
            "5434\n",
            "(1443, 76)\n",
            "76\n",
            "5435\n",
            "(273, 46)\n",
            "46\n",
            "5436\n",
            "(195, 44)\n",
            "44\n",
            "5437\n",
            "(2232, 98)\n",
            "98\n",
            "5438\n",
            "(684, 55)\n",
            "55\n",
            "5439\n",
            "(6156, 207)\n",
            "207\n",
            "5440\n",
            "(6372, 213)\n"
          ],
          "name": "stdout"
        },
        {
          "output_type": "stream",
          "text": [
            "\n",
            "\n",
            " 85%|████████▌ | 2964/3486 [12:48<00:34, 15.13it/s]\u001b[A\u001b[A"
          ],
          "name": "stderr"
        },
        {
          "output_type": "stream",
          "text": [
            "213\n",
            "5441\n",
            "(2970, 123)\n",
            "123\n",
            "5443\n",
            "(2280, 98)\n",
            "98\n",
            "5444\n",
            "(8244, 265)\n",
            "265\n",
            "5445\n",
            "(5560, 179)\n"
          ],
          "name": "stdout"
        },
        {
          "output_type": "stream",
          "text": [
            "\n",
            "\n",
            " 85%|████████▌ | 2968/3486 [12:48<00:28, 18.38it/s]\u001b[A\u001b[A\n",
            "\n",
            " 85%|████████▌ | 2972/3486 [12:48<00:23, 21.86it/s]\u001b[A\u001b[A"
          ],
          "name": "stderr"
        },
        {
          "output_type": "stream",
          "text": [
            "179\n",
            "5446\n",
            "(2220, 97)\n",
            "97\n",
            "5447\n",
            "(960, 76)\n",
            "76\n",
            "5448\n",
            "(720, 63)\n",
            "63\n",
            "5449\n",
            "(864, 116)\n",
            "116\n",
            "5450\n",
            "(432, 48)\n",
            "48\n",
            "5451\n",
            "(5250, 145)\n",
            "145\n",
            "5452\n",
            "(3096, 122)\n",
            "122\n",
            "5453\n",
            "(2970, 123)\n",
            "123\n",
            "5454\n",
            "(2664, 110)\n"
          ],
          "name": "stdout"
        },
        {
          "output_type": "stream",
          "text": [
            "\n",
            "\n",
            " 85%|████████▌ | 2978/3486 [12:48<00:18, 26.94it/s]\u001b[A\u001b[A\n",
            "\n",
            " 86%|████████▌ | 2984/3486 [12:48<00:16, 29.71it/s]\u001b[A\u001b[A"
          ],
          "name": "stderr"
        },
        {
          "output_type": "stream",
          "text": [
            "110\n",
            "5455\n",
            "(990, 73)\n",
            "73\n",
            "5456\n",
            "(720, 56)\n",
            "56\n",
            "5457\n",
            "(630, 59)\n",
            "59\n",
            "5458\n",
            "(456, 43)\n",
            "43\n",
            "5459\n",
            "(684, 55)\n",
            "55\n",
            "5460\n",
            "(756, 57)\n",
            "57\n",
            "5461\n",
            "(720, 56)\n",
            "56\n",
            "5462\n",
            "(1944, 143)\n",
            "143\n",
            "5464\n",
            "(792, 83)\n",
            "83\n",
            "5465\n",
            "(7200, 170)\n",
            "170\n",
            "5466\n",
            "(1728, 84)\n",
            "84\n",
            "5467\n",
            "(5265, 162)\n",
            "162\n",
            "5469\n",
            "(960, 68)\n",
            "68\n",
            "5470\n",
            "(4248, 131)\n",
            "131\n",
            "5471\n",
            "(16695, 306)\n"
          ],
          "name": "stdout"
        },
        {
          "output_type": "stream",
          "text": [
            "\n",
            "\n",
            " 86%|████████▌ | 2989/3486 [12:48<00:23, 21.33it/s]\u001b[A\u001b[A\n",
            "\n",
            " 86%|████████▌ | 2993/3486 [12:49<00:22, 21.59it/s]\u001b[A\u001b[A"
          ],
          "name": "stderr"
        },
        {
          "output_type": "stream",
          "text": [
            "306\n",
            "5472\n",
            "(3180, 113)\n",
            "113\n",
            "5473\n",
            "(1980, 93)\n",
            "93\n",
            "5474\n",
            "(6336, 212)\n",
            "212\n",
            "5475\n",
            "(6030, 157)\n",
            "157\n",
            "5476\n"
          ],
          "name": "stdout"
        },
        {
          "output_type": "stream",
          "text": [
            "\n",
            "\n",
            " 86%|████████▌ | 2997/3486 [12:49<00:20, 24.09it/s]\u001b[A\u001b[A"
          ],
          "name": "stderr"
        },
        {
          "output_type": "stream",
          "text": [
            "(4212, 153)\n",
            "153\n",
            "5478\n",
            "(2160, 96)\n",
            "96\n",
            "5479\n",
            "(792, 58)\n",
            "58\n",
            "5480\n",
            "(4068, 149)\n",
            "149\n",
            "5481\n",
            "(1836, 87)\n",
            "87\n",
            "5482\n",
            "(2100, 95)\n",
            "95\n",
            "5483\n",
            "(4512, 142)\n",
            "142\n",
            "5484\n",
            "(1650, 97)\n",
            "97"
          ],
          "name": "stdout"
        },
        {
          "output_type": "stream",
          "text": [
            "\n",
            "\n",
            " 86%|████████▌ | 3001/3486 [12:49<00:17, 27.25it/s]\u001b[A\u001b[A\n",
            "\n",
            " 86%|████████▌ | 3006/3486 [12:49<00:15, 30.99it/s]\u001b[A\u001b[A"
          ],
          "name": "stderr"
        },
        {
          "output_type": "stream",
          "text": [
            "\n",
            "5485\n",
            "(1485, 78)\n",
            "78\n",
            "5486\n",
            "(1872, 88)\n",
            "88\n",
            "5487\n",
            "(2250, 105)\n",
            "105\n",
            "5488\n",
            "(2925, 114)\n",
            "114\n",
            "5489\n",
            "(2655, 104)\n",
            "104\n",
            "5490\n",
            "(1728, 96)\n",
            "96\n",
            "5491\n",
            "(6048, 204)\n"
          ],
          "name": "stdout"
        },
        {
          "output_type": "stream",
          "text": [
            "\n",
            "\n",
            " 86%|████████▋ | 3010/3486 [12:49<00:15, 30.57it/s]\u001b[A\u001b[A\n",
            "\n",
            " 86%|████████▋ | 3014/3486 [12:49<00:16, 28.62it/s]\u001b[A\u001b[A"
          ],
          "name": "stderr"
        },
        {
          "output_type": "stream",
          "text": [
            "204\n",
            "5492\n",
            "(630, 59)\n",
            "59\n",
            "5493\n",
            "(1560, 86)\n",
            "86\n",
            "5495\n",
            "(3672, 138)\n",
            "138\n",
            "5496\n",
            "(1980, 91)\n",
            "91\n",
            "5497\n",
            "(3465, 122)\n",
            "122\n",
            "5498\n",
            "(6930, 167)\n",
            "167\n",
            "5499\n"
          ],
          "name": "stdout"
        },
        {
          "output_type": "stream",
          "text": [
            "\n",
            "\n",
            " 87%|████████▋ | 3020/3486 [12:49<00:15, 29.89it/s]\u001b[A\u001b[A"
          ],
          "name": "stderr"
        },
        {
          "output_type": "stream",
          "text": [
            "(1512, 78)\n",
            "78\n",
            "5500\n",
            "(576, 52)\n",
            "52\n",
            "5501\n",
            "(1332, 73)\n",
            "73\n",
            "5502\n",
            "(504, 50)\n",
            "50\n",
            "5503\n",
            "(792, 58)\n",
            "58\n",
            "5504\n",
            "(8352, 268)\n",
            "268\n",
            "5505\n",
            "(5184, 180)\n"
          ],
          "name": "stdout"
        },
        {
          "output_type": "stream",
          "text": [
            "\n",
            "\n",
            " 87%|████████▋ | 3024/3486 [12:50<00:17, 26.35it/s]\u001b[A\u001b[A"
          ],
          "name": "stderr"
        },
        {
          "output_type": "stream",
          "text": [
            "180\n",
            "5506\n",
            "(2700, 120)\n",
            "120\n",
            "5507\n",
            "(936, 62)\n",
            "62\n",
            "5508\n",
            "(7128, 234)\n",
            "234\n",
            "5509\n",
            "(12888, 394)\n"
          ],
          "name": "stdout"
        },
        {
          "output_type": "stream",
          "text": [
            "\n",
            "\n",
            " 87%|████████▋ | 3027/3486 [12:50<00:27, 16.68it/s]\u001b[A\u001b[A"
          ],
          "name": "stderr"
        },
        {
          "output_type": "stream",
          "text": [
            "394\n",
            "5510\n",
            "(792, 58)\n",
            "58\n",
            "5511\n",
            "(3852, 143)\n",
            "143\n",
            "5512\n",
            "(4104, 150)\n",
            "150\n",
            "5513\n",
            "(288, 44)\n",
            "44\n",
            "5514\n",
            "(1080, 66)\n",
            "66\n",
            "5515\n",
            "(1260, 71)\n",
            "71\n",
            "5516\n",
            "(25992, 758)\n"
          ],
          "name": "stdout"
        },
        {
          "output_type": "stream",
          "text": [
            "\n",
            "\n",
            " 87%|████████▋ | 3032/3486 [12:51<00:58,  7.79it/s]\u001b[A\u001b[A"
          ],
          "name": "stderr"
        },
        {
          "output_type": "stream",
          "text": [
            "758\n",
            "5517\n",
            "(11376, 352)\n",
            "352\n",
            "5518\n",
            "(205812, 2119)\n"
          ],
          "name": "stdout"
        },
        {
          "output_type": "stream",
          "text": [
            "\n",
            "\n",
            " 87%|████████▋ | 3032/3486 [13:02<00:58,  7.79it/s]\u001b[A\u001b[A\n",
            "\n",
            " 87%|████████▋ | 3034/3486 [13:26<39:23,  5.23s/it]\u001b[A\u001b[A\n",
            "\n",
            " 87%|████████▋ | 3039/3486 [13:26<27:18,  3.67s/it]\u001b[A\u001b[A"
          ],
          "name": "stderr"
        },
        {
          "output_type": "stream",
          "text": [
            "2119\n",
            "5521\n",
            "(945, 66)\n",
            "66\n",
            "5522\n",
            "(3525, 122)\n",
            "122\n",
            "5523\n",
            "(3285, 118)\n",
            "118\n",
            "5524\n",
            "(540, 57)\n",
            "57\n",
            "5526\n",
            "(1656, 95)\n",
            "95\n",
            "5527\n",
            "(450, 55)"
          ],
          "name": "stdout"
        },
        {
          "output_type": "stream",
          "text": [
            "\n",
            "\n",
            " 87%|████████▋ | 3043/3486 [13:26<19:01,  2.58s/it]\u001b[A\u001b[A"
          ],
          "name": "stderr"
        },
        {
          "output_type": "stream",
          "text": [
            "\n",
            "55\n",
            "5528\n",
            "(2916, 117)\n",
            "117\n",
            "5529\n",
            "(975, 64)\n",
            "64\n",
            "5530\n",
            "(6012, 203)\n",
            "203\n",
            "5531\n",
            "(195, 44)\n",
            "44\n",
            "5532\n",
            "(312, 47)\n",
            "47\n",
            "5533\n",
            "(3150, 125)\n",
            "125\n",
            "5534\n",
            "(5760, 196)\n"
          ],
          "name": "stdout"
        },
        {
          "output_type": "stream",
          "text": [
            "\n",
            "\n",
            " 87%|████████▋ | 3047/3486 [13:26<13:15,  1.81s/it]\u001b[A\u001b[A\n",
            "\n",
            " 88%|████████▊ | 3051/3486 [13:26<09:15,  1.28s/it]\u001b[A\u001b[A"
          ],
          "name": "stderr"
        },
        {
          "output_type": "stream",
          "text": [
            "196\n",
            "5535\n",
            "(1116, 67)\n",
            "67\n",
            "5536\n",
            "(1656, 82)\n",
            "82\n",
            "5537\n",
            "(1890, 87)\n",
            "87\n",
            "5538\n",
            "(5940, 156)\n",
            "156\n",
            "5539\n",
            "(1656, 95)\n",
            "95\n",
            "5540\n",
            "(324, 45)\n",
            "45\n",
            "5541\n",
            "(576, 52)\n",
            "52\n",
            "5542\n",
            "(1152, 68)\n",
            "68\n",
            "5543\n",
            "(1044, 65)\n",
            "65\n",
            "5544\n",
            "(1215, 72)\n",
            "72\n",
            "5545\n"
          ],
          "name": "stdout"
        },
        {
          "output_type": "stream",
          "text": [
            "\n",
            "\n",
            " 88%|████████▊ | 3058/3486 [13:26<06:25,  1.11it/s]\u001b[A\u001b[A"
          ],
          "name": "stderr"
        },
        {
          "output_type": "stream",
          "text": [
            "(6396, 203)\n",
            "203\n",
            "5546\n",
            "(5544, 174)\n",
            "174\n",
            "5547\n",
            "(2628, 109)\n",
            "109\n",
            "5548\n",
            "(2088, 94)\n",
            "94\n",
            "5549\n"
          ],
          "name": "stdout"
        },
        {
          "output_type": "stream",
          "text": [
            "\n",
            "\n",
            " 88%|████████▊ | 3062/3486 [13:26<04:36,  1.54it/s]\u001b[A\u001b[A"
          ],
          "name": "stderr"
        },
        {
          "output_type": "stream",
          "text": [
            "(11214, 309)\n",
            "309\n",
            "5550\n",
            "(4608, 304)\n"
          ],
          "name": "stdout"
        },
        {
          "output_type": "stream",
          "text": [
            "\n",
            "\n",
            " 88%|████████▊ | 3065/3486 [13:27<03:17,  2.13it/s]\u001b[A\u001b[A"
          ],
          "name": "stderr"
        },
        {
          "output_type": "stream",
          "text": [
            "304\n",
            "5551\n",
            "(1125, 90)\n",
            "90\n",
            "5552\n",
            "(2016, 100)\n",
            "100\n",
            "5553\n",
            "(33156, 817)\n",
            "817\n",
            "5554\n",
            "(31797, 797)\n"
          ],
          "name": "stdout"
        },
        {
          "output_type": "stream",
          "text": [
            "\n",
            "\n",
            " 88%|████████▊ | 3068/3486 [13:30<04:57,  1.40it/s]\u001b[A\u001b[A"
          ],
          "name": "stderr"
        },
        {
          "output_type": "stream",
          "text": [
            "797\n",
            "5555\n",
            "(5310, 149)\n",
            "149\n",
            "5556\n",
            "(9315, 252)\n",
            "252\n",
            "5557\n"
          ],
          "name": "stdout"
        },
        {
          "output_type": "stream",
          "text": [
            "\n",
            "\n",
            " 88%|████████▊ | 3070/3486 [13:31<03:43,  1.86it/s]\u001b[A\u001b[A"
          ],
          "name": "stderr"
        },
        {
          "output_type": "stream",
          "text": [
            "(9945, 266)\n",
            "266\n",
            "5558\n",
            "(2772, 113)\n",
            "113\n",
            "5559\n",
            "(7524, 245)\n"
          ],
          "name": "stdout"
        },
        {
          "output_type": "stream",
          "text": [
            "\n",
            "\n",
            " 88%|████████▊ | 3072/3486 [13:31<02:45,  2.51it/s]\u001b[A\u001b[A\n",
            "\n",
            " 88%|████████▊ | 3074/3486 [13:31<02:03,  3.32it/s]\u001b[A\u001b[A"
          ],
          "name": "stderr"
        },
        {
          "output_type": "stream",
          "text": [
            "245\n",
            "5563\n",
            "(6048, 204)\n",
            "204\n",
            "5564\n",
            "(3960, 202)\n",
            "202\n",
            "5565\n",
            "(3180, 113)\n",
            "113\n",
            "5567\n",
            "(2160, 102)\n"
          ],
          "name": "stdout"
        },
        {
          "output_type": "stream",
          "text": [
            "\n",
            "\n",
            " 88%|████████▊ | 3078/3486 [13:31<01:29,  4.57it/s]\u001b[A\u001b[A\n",
            "\n",
            " 88%|████████▊ | 3082/3486 [13:31<01:05,  6.19it/s]\u001b[A\u001b[A"
          ],
          "name": "stderr"
        },
        {
          "output_type": "stream",
          "text": [
            "102\n",
            "5568\n",
            "(1116, 67)\n",
            "67\n",
            "5569\n",
            "(3780, 141)\n",
            "141\n",
            "5570\n",
            "(504, 50)\n",
            "50\n",
            "5571\n",
            "(2850, 113)\n",
            "113\n",
            "5572\n",
            "(5418, 171)\n",
            "171\n",
            "5573\n",
            "(1656, 95)\n",
            "95\n",
            "5574\n",
            "(780, 73)\n",
            "73\n",
            "5575\n",
            "(1296, 90)\n",
            "90\n",
            "5576\n"
          ],
          "name": "stdout"
        },
        {
          "output_type": "stream",
          "text": [
            "\n",
            "\n",
            " 89%|████████▊ | 3089/3486 [13:31<00:46,  8.48it/s]\u001b[A\u001b[A"
          ],
          "name": "stderr"
        },
        {
          "output_type": "stream",
          "text": [
            "(1680, 88)\n",
            "88\n",
            "5577\n",
            "(1368, 74)\n",
            "74\n",
            "5578\n",
            "(792, 58)\n",
            "58\n",
            "5579\n",
            "(819, 60)\n",
            "60\n",
            "5582\n",
            "(2808, 111)\n",
            "111\n",
            "5583\n",
            "(468, 49)\n",
            "49\n",
            "5584\n",
            "(576, 52)\n",
            "52\n",
            "5585\n",
            "(6012, 303)\n"
          ],
          "name": "stdout"
        },
        {
          "output_type": "stream",
          "text": [
            "\n",
            "\n",
            " 89%|████████▊ | 3093/3486 [13:32<00:38, 10.19it/s]\u001b[A\u001b[A"
          ],
          "name": "stderr"
        },
        {
          "output_type": "stream",
          "text": [
            "303\n",
            "5586\n",
            "(4128, 240)\n",
            "240\n",
            "5587\n",
            "(2484, 105)\n",
            "105\n",
            "5588\n",
            "(2556, 107)\n",
            "107\n",
            "5589\n",
            "(1056, 70)\n",
            "70\n",
            "5590\n",
            "(540, 51)\n",
            "51\n",
            "5591\n",
            "(9936, 312)\n"
          ],
          "name": "stdout"
        },
        {
          "output_type": "stream",
          "text": [
            "\n",
            "\n",
            " 89%|████████▉ | 3098/3486 [13:32<00:32, 11.98it/s]\u001b[A\u001b[A"
          ],
          "name": "stderr"
        },
        {
          "output_type": "stream",
          "text": [
            "312\n",
            "5592\n",
            "(3420, 199)\n",
            "199\n",
            "5593\n",
            "(828, 59)\n",
            "59\n",
            "5594\n",
            "(21195, 516)\n"
          ],
          "name": "stdout"
        },
        {
          "output_type": "stream",
          "text": [
            "\n",
            "\n",
            " 89%|████████▉ | 3101/3486 [13:32<00:47,  8.05it/s]\u001b[A\u001b[A\n",
            "\n",
            " 89%|████████▉ | 3107/3486 [13:33<00:34, 10.86it/s]\u001b[A\u001b[A"
          ],
          "name": "stderr"
        },
        {
          "output_type": "stream",
          "text": [
            "516\n",
            "5597\n",
            "(504, 50)\n",
            "50\n",
            "5598\n",
            "(3393, 126)\n",
            "126\n",
            "5599\n",
            "(840, 74)\n",
            "74\n",
            "5600\n",
            "(1620, 87)\n",
            "87\n",
            "5601\n",
            "(720, 56)\n",
            "56\n",
            "5602\n",
            "(2052, 93)\n",
            "93\n",
            "5603\n",
            "(3744, 140)\n",
            "140\n",
            "5604\n",
            "(2196, 97)\n",
            "97\n",
            "5605\n",
            "(2340, 101)\n"
          ],
          "name": "stdout"
        },
        {
          "output_type": "stream",
          "text": [
            "\n",
            "\n",
            " 89%|████████▉ | 3111/3486 [13:33<00:27, 13.49it/s]\u001b[A\u001b[A\n",
            "\n",
            " 89%|████████▉ | 3116/3486 [13:33<00:21, 16.87it/s]\u001b[A\u001b[A"
          ],
          "name": "stderr"
        },
        {
          "output_type": "stream",
          "text": [
            "101\n",
            "5606\n",
            "(3528, 134)\n",
            "134\n",
            "5607\n",
            "(1080, 78)\n",
            "78\n",
            "5608\n",
            "(792, 58)\n",
            "58\n",
            "5609\n",
            "(360, 46)\n",
            "46\n",
            "5610\n",
            "(3168, 124)\n",
            "124\n",
            "5611\n",
            "(4641, 158)\n",
            "158\n",
            "5613\n",
            "(1044, 65)\n",
            "65\n",
            "5614\n",
            "(1116, 67)\n",
            "67\n",
            "5615\n",
            "(3384, 130)\n",
            "130\n",
            "5616\n",
            "(12060, 371)\n"
          ],
          "name": "stdout"
        },
        {
          "output_type": "stream",
          "text": [
            "\n",
            "\n",
            " 90%|████████▉ | 3120/3486 [13:33<00:24, 15.25it/s]\u001b[A\u001b[A"
          ],
          "name": "stderr"
        },
        {
          "output_type": "stream",
          "text": [
            "371\n",
            "5617\n",
            "(1116, 67)\n",
            "67\n",
            "5618\n",
            "(12888, 394)\n"
          ],
          "name": "stdout"
        },
        {
          "output_type": "stream",
          "text": [
            "\n",
            "\n",
            " 90%|████████▉ | 3123/3486 [13:34<00:32, 11.31it/s]\u001b[A\u001b[A\n",
            "\n",
            " 90%|████████▉ | 3126/3486 [13:34<00:26, 13.50it/s]\u001b[A\u001b[A"
          ],
          "name": "stderr"
        },
        {
          "output_type": "stream",
          "text": [
            "394\n",
            "5621\n",
            "(5544, 190)\n",
            "190\n",
            "5622\n",
            "(6264, 210)\n",
            "210\n",
            "5623\n",
            "(3852, 143)\n",
            "143\n",
            "5624\n",
            "(252, 43)\n",
            "43\n",
            "5625"
          ],
          "name": "stdout"
        },
        {
          "output_type": "stream",
          "text": [
            "\n",
            "\n",
            " 90%|████████▉ | 3130/3486 [13:34<00:21, 16.83it/s]\u001b[A\u001b[A"
          ],
          "name": "stderr"
        },
        {
          "output_type": "stream",
          "text": [
            "\n",
            "(612, 53)\n",
            "53\n",
            "5626\n",
            "(360, 46)\n",
            "46\n",
            "5627\n",
            "(756, 57)\n",
            "57\n",
            "5628\n",
            "(5676, 173)\n",
            "173\n",
            "5629\n",
            "(8748, 279)\n"
          ],
          "name": "stdout"
        },
        {
          "output_type": "stream",
          "text": [
            "\n",
            "\n",
            " 90%|████████▉ | 3133/3486 [13:34<00:20, 17.49it/s]\u001b[A\u001b[A\n",
            "\n",
            " 90%|█████████ | 3140/3486 [13:34<00:15, 22.49it/s]\u001b[A\u001b[A"
          ],
          "name": "stderr"
        },
        {
          "output_type": "stream",
          "text": [
            "279\n",
            "5630\n",
            "(576, 52)\n",
            "52\n",
            "5631\n",
            "(288, 44)\n",
            "44\n",
            "5632\n",
            "(2040, 94)\n",
            "94\n",
            "5633\n",
            "(600, 83)\n",
            "83\n",
            "5634\n",
            "(2520, 102)\n",
            "102\n",
            "5635\n",
            "(1800, 110)\n",
            "110\n",
            "5636\n",
            "(432, 48)\n",
            "48\n",
            "5637\n",
            "(432, 48)\n",
            "48\n",
            "5638\n",
            "(741, 58)\n",
            "58\n",
            "5639\n",
            "(195, 44)\n",
            "44\n",
            "5641\n",
            "(7920, 256)\n"
          ],
          "name": "stdout"
        },
        {
          "output_type": "stream",
          "text": [
            "\n",
            "\n",
            " 90%|█████████ | 3144/3486 [13:34<00:16, 20.16it/s]\u001b[A\u001b[A"
          ],
          "name": "stderr"
        },
        {
          "output_type": "stream",
          "text": [
            "256\n",
            "5642\n",
            "(6912, 228)\n",
            "228\n",
            "5643\n",
            "(3672, 138)\n",
            "138\n",
            "5644\n",
            "(6300, 159)\n",
            "159\n",
            "5645\n"
          ],
          "name": "stdout"
        },
        {
          "output_type": "stream",
          "text": [
            "\n",
            "\n",
            " 90%|█████████ | 3148/3486 [13:34<00:16, 20.95it/s]\u001b[A\u001b[A"
          ],
          "name": "stderr"
        },
        {
          "output_type": "stream",
          "text": [
            "(4956, 160)\n",
            "160\n",
            "5647\n",
            "(4392, 158)\n",
            "158\n",
            "5648\n",
            "(1080, 66)\n",
            "66\n",
            "5649\n",
            "(5760, 154)\n",
            "154\n",
            "5650\n",
            "(3825, 130)\n",
            "130\n",
            "5651\n"
          ],
          "name": "stdout"
        },
        {
          "output_type": "stream",
          "text": [
            "\n",
            "\n",
            " 90%|█████████ | 3151/3486 [13:35<00:18, 18.13it/s]\u001b[A\u001b[A\n",
            "\n",
            " 91%|█████████ | 3156/3486 [13:35<00:15, 21.99it/s]"
          ],
          "name": "stderr"
        },
        {
          "output_type": "stream",
          "text": [
            "(8568, 274)\n",
            "274\n",
            "5652\n",
            "(1368, 74)\n",
            "74\n",
            "5653\n",
            "(2886, 115)\n",
            "115\n",
            "5654\n",
            "(1092, 67)\n",
            "67\n",
            "5655\n",
            "(702, 57)\n",
            "57\n",
            "5656\n",
            "(5490, 151)\n",
            "151\n"
          ],
          "name": "stdout"
        },
        {
          "output_type": "stream",
          "text": [
            "\u001b[A\u001b[A\n",
            "\n",
            " 91%|█████████ | 3161/3486 [13:35<00:12, 26.37it/s]\u001b[A\u001b[A"
          ],
          "name": "stderr"
        },
        {
          "output_type": "stream",
          "text": [
            "5657\n",
            "(1575, 80)\n",
            "80\n",
            "5658\n",
            "(1656, 95)\n",
            "95\n",
            "5659\n",
            "(2448, 104)\n",
            "104\n",
            "5660\n",
            "(1080, 186)\n",
            "186\n",
            "5661\n",
            "(1575, 96)\n",
            "96\n",
            "5663\n",
            "(8784, 280)\n"
          ],
          "name": "stdout"
        },
        {
          "output_type": "stream",
          "text": [
            "\n",
            "\n",
            " 91%|█████████ | 3165/3486 [13:35<00:13, 24.31it/s]\u001b[A\u001b[A"
          ],
          "name": "stderr"
        },
        {
          "output_type": "stream",
          "text": [
            "280\n",
            "5665\n",
            "(600, 83)\n",
            "83\n",
            "5666\n",
            "(1080, 102)\n",
            "102\n",
            "5667\n",
            "(1350, 75)\n",
            "75\n",
            "5668\n",
            "(900, 61)\n",
            "61\n",
            "5669\n",
            "(5625, 150)\n",
            "150\n",
            "5671\n",
            "(2160, 96)\n",
            "96\n",
            "5672\n",
            "(14616, 442)\n"
          ],
          "name": "stdout"
        },
        {
          "output_type": "stream",
          "text": [
            "\n",
            "\n",
            " 91%|█████████ | 3169/3486 [13:36<00:20, 15.44it/s]\u001b[A\u001b[A"
          ],
          "name": "stderr"
        },
        {
          "output_type": "stream",
          "text": [
            "442\n",
            "5674\n",
            "(1320, 82)\n",
            "82\n",
            "5675\n",
            "(9216, 292)\n",
            "292\n",
            "5676\n"
          ],
          "name": "stdout"
        },
        {
          "output_type": "stream",
          "text": [
            "\n",
            "\n",
            " 91%|█████████ | 3172/3486 [13:36<00:23, 13.51it/s]\u001b[A\u001b[A"
          ],
          "name": "stderr"
        },
        {
          "output_type": "stream",
          "text": [
            "(9675, 260)\n",
            "260\n",
            "5677\n",
            "(2160, 96)\n",
            "96\n",
            "5678\n",
            "(810, 63)\n",
            "63\n",
            "5679\n",
            "(720, 61)\n",
            "61\n",
            "5680\n",
            "(612, 53)\n",
            "53\n",
            "5681\n",
            "(3780, 141)\n",
            "141\n",
            "5683\n",
            "(2808, 114)\n"
          ],
          "name": "stdout"
        },
        {
          "output_type": "stream",
          "text": [
            "\n",
            "\n",
            " 91%|█████████ | 3178/3486 [13:36<00:17, 17.17it/s]\u001b[A\u001b[A"
          ],
          "name": "stderr"
        },
        {
          "output_type": "stream",
          "text": [
            "114\n",
            "5684\n",
            "(2880, 116)\n",
            "116\n",
            "5685\n",
            "(1152, 68)\n",
            "68\n",
            "5686\n",
            "(1296, 72)\n",
            "72\n",
            "5687\n",
            "(540, 57)\n",
            "57\n",
            "5688\n",
            "(396, 47)\n",
            "47\n",
            "5689\n",
            "(77616, 1185)\n"
          ],
          "name": "stdout"
        },
        {
          "output_type": "stream",
          "text": [
            "\n",
            "\n",
            " 91%|█████████▏| 3184/3486 [13:42<01:46,  2.84it/s]\u001b[A\u001b[A\n",
            "\n",
            " 91%|█████████▏| 3189/3486 [13:42<01:15,  3.93it/s]\u001b[A\u001b[A"
          ],
          "name": "stderr"
        },
        {
          "output_type": "stream",
          "text": [
            "1185\n",
            "5690\n",
            "(1296, 90)\n",
            "90\n",
            "5691\n",
            "(288, 44)\n",
            "44\n",
            "5692\n",
            "(2520, 106)\n",
            "106\n",
            "5693\n",
            "(1584, 80)\n",
            "80\n",
            "5696\n",
            "(6336, 212)\n",
            "212\n",
            "5697\n",
            "(12744, 390)\n",
            "390\n",
            "5698\n",
            "(11664, 360)\n",
            "360\n",
            "5699\n",
            "(12816, 392)\n"
          ],
          "name": "stdout"
        },
        {
          "output_type": "stream",
          "text": [
            "\n",
            "\n",
            " 92%|█████████▏| 3192/3486 [13:43<01:16,  3.85it/s]\u001b[A\u001b[A"
          ],
          "name": "stderr"
        },
        {
          "output_type": "stream",
          "text": [
            "392\n",
            "5700\n",
            "(9684, 305)\n",
            "305\n",
            "5701\n",
            "(12996, 397)\n"
          ],
          "name": "stdout"
        },
        {
          "output_type": "stream",
          "text": [
            "\n",
            "\n",
            " 92%|█████████▏| 3194/3486 [13:44<01:13,  3.99it/s]\u001b[A\u001b[A"
          ],
          "name": "stderr"
        },
        {
          "output_type": "stream",
          "text": [
            "397\n",
            "5702\n",
            "(10980, 341)\n",
            "341\n",
            "5703\n",
            "(11508, 356)\n"
          ],
          "name": "stdout"
        },
        {
          "output_type": "stream",
          "text": [
            "\n",
            "\n",
            " 92%|█████████▏| 3196/3486 [13:44<01:10,  4.14it/s]\u001b[A\u001b[A"
          ],
          "name": "stderr"
        },
        {
          "output_type": "stream",
          "text": [
            "356\n",
            "5704\n",
            "(9108, 289)\n"
          ],
          "name": "stdout"
        },
        {
          "output_type": "stream",
          "text": [
            "\n",
            "\n",
            " 92%|█████████▏| 3198/3486 [13:44<00:59,  4.84it/s]\u001b[A\u001b[A"
          ],
          "name": "stderr"
        },
        {
          "output_type": "stream",
          "text": [
            "289\n",
            "5709\n",
            "(2196, 195)\n",
            "195\n",
            "5717\n",
            "(585, 58)\n",
            "58\n",
            "5718\n",
            "(31392, 908)\n"
          ],
          "name": "stdout"
        },
        {
          "output_type": "stream",
          "text": [
            "\n",
            "\n",
            " 92%|█████████▏| 3200/3486 [13:46<01:55,  2.47it/s]\u001b[A\u001b[A\n",
            "\n",
            " 92%|█████████▏| 3204/3486 [13:46<01:22,  3.43it/s]\u001b[A\u001b[A"
          ],
          "name": "stderr"
        },
        {
          "output_type": "stream",
          "text": [
            "908\n",
            "5720\n",
            "(900, 75)\n",
            "75\n",
            "5721\n",
            "(2880, 122)\n",
            "122\n",
            "5722\n",
            "(4032, 148)\n",
            "148\n",
            "5723\n",
            "(912, 67)\n",
            "67\n",
            "5724\n",
            "(2844, 115)\n",
            "115\n",
            "5725\n",
            "(23112, 678)\n"
          ],
          "name": "stdout"
        },
        {
          "output_type": "stream",
          "text": [
            "\n",
            "\n",
            " 92%|█████████▏| 3206/3486 [13:47<01:37,  2.88it/s]\u001b[A\u001b[A"
          ],
          "name": "stderr"
        },
        {
          "output_type": "stream",
          "text": [
            "678\n",
            "5726\n",
            "(1116, 67)\n",
            "67\n",
            "5727\n",
            "(21852, 643)\n"
          ],
          "name": "stdout"
        },
        {
          "output_type": "stream",
          "text": [
            "\n",
            "\n",
            " 92%|█████████▏| 3208/3486 [13:48<01:42,  2.72it/s]\u001b[A\u001b[A"
          ],
          "name": "stderr"
        },
        {
          "output_type": "stream",
          "text": [
            "643\n",
            "5728\n",
            "(17100, 511)\n"
          ],
          "name": "stdout"
        },
        {
          "output_type": "stream",
          "text": [
            "\n",
            "\n",
            " 92%|█████████▏| 3209/3486 [13:48<01:55,  2.40it/s]\u001b[A\u001b[A"
          ],
          "name": "stderr"
        },
        {
          "output_type": "stream",
          "text": [
            "511\n",
            "5729\n",
            "(18144, 540)\n"
          ],
          "name": "stdout"
        },
        {
          "output_type": "stream",
          "text": [
            "\n",
            "\n",
            " 92%|█████████▏| 3210/3486 [13:49<02:03,  2.24it/s]\u001b[A\u001b[A\n",
            "\n",
            " 92%|█████████▏| 3212/3486 [13:49<01:31,  3.01it/s]\u001b[A\u001b[A"
          ],
          "name": "stderr"
        },
        {
          "output_type": "stream",
          "text": [
            "540\n",
            "5735\n",
            "(5688, 194)\n",
            "194\n",
            "5737\n",
            "(5724, 195)\n",
            "195\n",
            "5739\n",
            "(392, 63)\n",
            "63\n",
            "5740\n",
            "(9000, 286)\n"
          ],
          "name": "stdout"
        },
        {
          "output_type": "stream",
          "text": [
            "\n",
            "\n",
            " 92%|█████████▏| 3214/3486 [13:49<01:09,  3.90it/s]\u001b[A\u001b[A\n",
            "\n",
            " 92%|█████████▏| 3215/3486 [13:49<00:57,  4.70it/s]\u001b[A\u001b[A"
          ],
          "name": "stderr"
        },
        {
          "output_type": "stream",
          "text": [
            "286\n",
            "5741\n",
            "(7524, 245)\n",
            "245\n",
            "5742\n",
            "(576, 52)\n",
            "52\n",
            "5743\n",
            "(1044, 65)\n",
            "65\n",
            "5744\n",
            "(11376, 352)\n"
          ],
          "name": "stdout"
        },
        {
          "output_type": "stream",
          "text": [
            "\n",
            "\n",
            " 92%|█████████▏| 3218/3486 [13:50<00:46,  5.80it/s]\u001b[A\u001b[A"
          ],
          "name": "stderr"
        },
        {
          "output_type": "stream",
          "text": [
            "352\n",
            "5745\n",
            "(3852, 143)\n",
            "143\n",
            "5748\n",
            "(576, 60)\n",
            "60\n",
            "5749\n",
            "(90, 33)\n",
            "33\n",
            "5750\n",
            "(1650, 97)\n",
            "97\n",
            "5751\n",
            "(43848, 1254)\n"
          ],
          "name": "stdout"
        },
        {
          "output_type": "stream",
          "text": [
            "\n",
            "\n",
            " 92%|█████████▏| 3223/3486 [13:53<01:24,  3.12it/s]\u001b[A\u001b[A"
          ],
          "name": "stderr"
        },
        {
          "output_type": "stream",
          "text": [
            "1254\n",
            "5752\n",
            "(34668, 999)\n"
          ],
          "name": "stdout"
        },
        {
          "output_type": "stream",
          "text": [
            "\n",
            "\n",
            " 92%|█████████▏| 3224/3486 [13:55<03:58,  1.10it/s]\u001b[A\u001b[A"
          ],
          "name": "stderr"
        },
        {
          "output_type": "stream",
          "text": [
            "999\n",
            "5756\n",
            "(21384, 630)\n"
          ],
          "name": "stdout"
        },
        {
          "output_type": "stream",
          "text": [
            "\n",
            "\n",
            " 93%|█████████▎| 3225/3486 [13:56<03:52,  1.12it/s]\u001b[A\u001b[A"
          ],
          "name": "stderr"
        },
        {
          "output_type": "stream",
          "text": [
            "630\n",
            "5757\n",
            "(42288, 929)\n"
          ],
          "name": "stdout"
        },
        {
          "output_type": "stream",
          "text": [
            "\n",
            "\n",
            " 93%|█████████▎| 3226/3486 [13:59<06:00,  1.39s/it]\u001b[A\u001b[A"
          ],
          "name": "stderr"
        },
        {
          "output_type": "stream",
          "text": [
            "929\n",
            "5760\n",
            "(155628, 2074)\n"
          ],
          "name": "stdout"
        },
        {
          "output_type": "stream",
          "text": [
            "\n",
            "\n",
            " 93%|█████████▎| 3227/3486 [14:24<36:31,  8.46s/it]\u001b[A\u001b[A"
          ],
          "name": "stderr"
        },
        {
          "output_type": "stream",
          "text": [
            "2074\n",
            "5761\n",
            "(18180, 541)\n"
          ],
          "name": "stdout"
        },
        {
          "output_type": "stream",
          "text": [
            "\n",
            "\n",
            " 93%|█████████▎| 3228/3486 [14:24<26:08,  6.08s/it]\u001b[A\u001b[A"
          ],
          "name": "stderr"
        },
        {
          "output_type": "stream",
          "text": [
            "541\n",
            "5762\n",
            "(585, 58)\n",
            "58\n",
            "5763\n",
            "(1404, 75)\n",
            "75\n",
            "5764\n",
            "(10188, 319)\n"
          ],
          "name": "stdout"
        },
        {
          "output_type": "stream",
          "text": [
            "\n",
            "\n",
            " 93%|█████████▎| 3231/3486 [14:24<18:10,  4.28s/it]\u001b[A\u001b[A\n",
            "\n",
            " 93%|█████████▎| 3232/3486 [14:24<12:48,  3.03s/it]\u001b[A\u001b[A"
          ],
          "name": "stderr"
        },
        {
          "output_type": "stream",
          "text": [
            "319\n",
            "5765\n",
            "(7452, 243)\n",
            "243\n",
            "5766\n",
            "(10620, 331)\n"
          ],
          "name": "stdout"
        },
        {
          "output_type": "stream",
          "text": [
            "\n",
            "\n",
            " 93%|█████████▎| 3233/3486 [14:25<09:11,  2.18s/it]\u001b[A\u001b[A\n",
            "\n",
            " 93%|█████████▎| 3234/3486 [14:25<06:38,  1.58s/it]\u001b[A\u001b[A"
          ],
          "name": "stderr"
        },
        {
          "output_type": "stream",
          "text": [
            "331\n",
            "5767\n",
            "(9756, 307)\n",
            "307\n",
            "5768\n",
            "(2376, 102)"
          ],
          "name": "stdout"
        },
        {
          "output_type": "stream",
          "text": [
            "\n",
            "\n",
            " 93%|█████████▎| 3236/3486 [14:25<04:40,  1.12s/it]\u001b[A\u001b[A"
          ],
          "name": "stderr"
        },
        {
          "output_type": "stream",
          "text": [
            "\n",
            "102\n",
            "5769\n",
            "(6048, 204)\n",
            "204\n",
            "5770\n",
            "(13860, 421)\n"
          ],
          "name": "stdout"
        },
        {
          "output_type": "stream",
          "text": [
            "\n",
            "\n",
            " 93%|█████████▎| 3237/3486 [14:25<03:42,  1.12it/s]\u001b[A\u001b[A\n",
            "\n",
            " 93%|█████████▎| 3239/3486 [14:25<02:38,  1.56it/s]\u001b[A\u001b[A"
          ],
          "name": "stderr"
        },
        {
          "output_type": "stream",
          "text": [
            "421\n",
            "5771\n",
            "(6696, 222)\n",
            "222\n",
            "5772\n",
            "(2844, 115)\n",
            "115\n",
            "5773\n",
            "(2700, 111)\n",
            "111\n",
            "5774\n",
            "(6930, 199)\n"
          ],
          "name": "stdout"
        },
        {
          "output_type": "stream",
          "text": [
            "\n",
            "\n",
            " 93%|█████████▎| 3241/3486 [14:26<01:54,  2.14it/s]\u001b[A\u001b[A\n",
            "\n",
            " 93%|█████████▎| 3244/3486 [14:26<01:22,  2.95it/s]\u001b[A\u001b[A"
          ],
          "name": "stderr"
        },
        {
          "output_type": "stream",
          "text": [
            "199\n",
            "5775\n",
            "(6600, 163)\n",
            "163\n",
            "5776\n",
            "(2376, 102)\n",
            "102\n",
            "5777\n",
            "(3555, 124)\n",
            "124\n",
            "5778\n",
            "(4560, 136)\n",
            "136\n",
            "5779\n",
            "(4284, 155)\n"
          ],
          "name": "stdout"
        },
        {
          "output_type": "stream",
          "text": [
            "\n",
            "\n",
            " 93%|█████████▎| 3247/3486 [14:26<01:00,  3.93it/s]\u001b[A\u001b[A"
          ],
          "name": "stderr"
        },
        {
          "output_type": "stream",
          "text": [
            "155\n",
            "5780\n",
            "(5904, 200)\n",
            "200\n",
            "5781\n",
            "(5550, 149)\n",
            "149\n",
            "5782\n",
            "(468, 49)\n",
            "49\n",
            "5783\n",
            "(2088, 94)\n",
            "94\n",
            "5784\n",
            "(6300, 211)\n"
          ],
          "name": "stdout"
        },
        {
          "output_type": "stream",
          "text": [
            "\n",
            "\n",
            " 93%|█████████▎| 3251/3486 [14:26<00:44,  5.23it/s]\u001b[A\u001b[A"
          ],
          "name": "stderr"
        },
        {
          "output_type": "stream",
          "text": [
            "211\n",
            "5785\n",
            "(7524, 245)\n",
            "245\n",
            "5786\n",
            "(7452, 243)\n"
          ],
          "name": "stdout"
        },
        {
          "output_type": "stream",
          "text": [
            "\n",
            "\n",
            " 93%|█████████▎| 3253/3486 [14:26<00:40,  5.70it/s]\u001b[A\u001b[A\n",
            "\n",
            " 93%|█████████▎| 3258/3486 [14:26<00:29,  7.75it/s]\u001b[A\u001b[A"
          ],
          "name": "stderr"
        },
        {
          "output_type": "stream",
          "text": [
            "243\n",
            "5788\n",
            "(2880, 112)\n",
            "112\n",
            "5789\n",
            "(800, 60)\n",
            "60\n",
            "5790\n",
            "(2520, 106)\n",
            "106\n",
            "5791\n",
            "(720, 72)\n",
            "72\n",
            "5792\n",
            "(2520, 107)\n",
            "107\n",
            "5794\n",
            "(3780, 141)\n",
            "141\n",
            "5795\n",
            "(5880, 158)\n",
            "158\n",
            "5796\n",
            "(11856, 343)\n",
            "343\n"
          ],
          "name": "stdout"
        },
        {
          "output_type": "stream",
          "text": [
            "\n",
            "\n",
            " 94%|█████████▎| 3261/3486 [14:27<00:27,  8.20it/s]\u001b[A\u001b[A\n",
            "\n",
            " 94%|█████████▎| 3264/3486 [14:27<00:23,  9.39it/s]\u001b[A\u001b[A"
          ],
          "name": "stderr"
        },
        {
          "output_type": "stream",
          "text": [
            "5797\n",
            "(6192, 208)\n",
            "208\n",
            "5802\n",
            "(6804, 225)\n",
            "225\n",
            "5803\n",
            "(4464, 160)\n",
            "160\n",
            "5807\n",
            "(12816, 392)\n"
          ],
          "name": "stdout"
        },
        {
          "output_type": "stream",
          "text": [
            "\n",
            "\n",
            " 94%|█████████▎| 3266/3486 [14:27<00:26,  8.20it/s]\u001b[A\u001b[A\n",
            "\n",
            " 94%|█████████▍| 3269/3486 [14:27<00:20, 10.35it/s]\u001b[A\u001b[A"
          ],
          "name": "stderr"
        },
        {
          "output_type": "stream",
          "text": [
            "392\n",
            "5812\n",
            "(1836, 87)\n",
            "87\n",
            "5814\n",
            "(2880, 122)\n",
            "122\n",
            "5815\n",
            "(2844, 115)\n",
            "115\n",
            "5817\n",
            "(3240, 126)\n",
            "126\n",
            "5818\n",
            "(36540, 1051)\n",
            "1051\n",
            "5819\n",
            "(37728, 1084)\n"
          ],
          "name": "stdout"
        },
        {
          "output_type": "stream",
          "text": [
            "\n",
            "\n",
            " 94%|█████████▍| 3271/3486 [14:32<02:49,  1.27it/s]\u001b[A\u001b[A"
          ],
          "name": "stderr"
        },
        {
          "output_type": "stream",
          "text": [
            "1084\n",
            "5820\n",
            "(34956, 1007)\n",
            "1007\n",
            "5821\n",
            "(34092, 983)\n"
          ],
          "name": "stdout"
        },
        {
          "output_type": "stream",
          "text": [
            "\n",
            "\n",
            " 94%|█████████▍| 3273/3486 [14:36<04:09,  1.17s/it]\u001b[A\u001b[A"
          ],
          "name": "stderr"
        },
        {
          "output_type": "stream",
          "text": [
            "983\n",
            "5822\n",
            "(34020, 981)\n"
          ],
          "name": "stdout"
        },
        {
          "output_type": "stream",
          "text": [
            "\n",
            "\n",
            " 94%|█████████▍| 3274/3486 [14:39<05:19,  1.51s/it]\u001b[A\u001b[A\n",
            "\n",
            " 94%|█████████▍| 3275/3486 [14:39<03:50,  1.09s/it]\u001b[A\u001b[A"
          ],
          "name": "stderr"
        },
        {
          "output_type": "stream",
          "text": [
            "981\n",
            "5824\n",
            "(8172, 263)\n",
            "263\n",
            "5825\n",
            "(2736, 110)\n",
            "110\n",
            "5826\n",
            "(2736, 110)\n"
          ],
          "name": "stdout"
        },
        {
          "output_type": "stream",
          "text": [
            "\n",
            "\n",
            " 94%|█████████▍| 3279/3486 [14:39<02:40,  1.29it/s]\u001b[A\u001b[A"
          ],
          "name": "stderr"
        },
        {
          "output_type": "stream",
          "text": [
            "110\n",
            "5827\n",
            "(2000, 504)\n",
            "504\n",
            "5828\n",
            "(5868, 199)\n",
            "199\n",
            "5830\n",
            "(1160, 69)\n",
            "69\n",
            "5831\n",
            "(792, 58)\n",
            "58\n",
            "5832\n",
            "(2160, 96)\n",
            "96\n",
            "5833\n",
            "(5400, 165)\n"
          ],
          "name": "stdout"
        },
        {
          "output_type": "stream",
          "text": [
            "\n",
            "\n",
            " 94%|█████████▍| 3283/3486 [14:39<01:51,  1.81it/s]\u001b[A\u001b[A\n",
            "\n",
            " 94%|█████████▍| 3288/3486 [14:39<01:18,  2.53it/s]\u001b[A\u001b[A"
          ],
          "name": "stderr"
        },
        {
          "output_type": "stream",
          "text": [
            "165\n",
            "5834\n",
            "(2052, 93)\n",
            "93\n",
            "5835\n",
            "(1488, 79)\n",
            "79\n",
            "5836\n",
            "(1530, 79)\n",
            "79\n",
            "5837\n",
            "(1620, 81)\n",
            "81\n",
            "5838\n",
            "(6336, 212)\n",
            "212\n",
            "5839\n",
            "(11565, 302)\n",
            "302\n",
            "5840\n",
            "(3492, 133)\n",
            "133\n",
            "5841\n"
          ],
          "name": "stdout"
        },
        {
          "output_type": "stream",
          "text": [
            "\n",
            "\n",
            " 94%|█████████▍| 3291/3486 [14:39<01:00,  3.25it/s]\u001b[A\u001b[A\n",
            "\n",
            " 94%|█████████▍| 3293/3486 [14:40<00:44,  4.31it/s]\u001b[A\u001b[A"
          ],
          "name": "stderr"
        },
        {
          "output_type": "stream",
          "text": [
            "(6435, 188)\n",
            "188\n",
            "5842\n",
            "(4905, 154)\n",
            "154\n",
            "5843\n",
            "(4536, 162)\n",
            "162\n",
            "5844\n",
            "(6300, 211)\n"
          ],
          "name": "stdout"
        },
        {
          "output_type": "stream",
          "text": [
            "\n",
            "\n",
            " 95%|█████████▍| 3295/3486 [14:40<00:37,  5.06it/s]\u001b[A\u001b[A"
          ],
          "name": "stderr"
        },
        {
          "output_type": "stream",
          "text": [
            "211\n",
            "5845\n",
            "(10125, 270)\n",
            "270\n",
            "5847\n",
            "(2790, 121)\n",
            "121\n",
            "5851\n",
            "(816, 65)\n",
            "65\n",
            "5852\n",
            "(27756, 807)\n"
          ],
          "name": "stdout"
        },
        {
          "output_type": "stream",
          "text": [
            "\n",
            "\n",
            " 95%|█████████▍| 3298/3486 [14:41<00:53,  3.48it/s]\u001b[A\u001b[A"
          ],
          "name": "stderr"
        },
        {
          "output_type": "stream",
          "text": [
            "807\n",
            "5853\n",
            "(24336, 712)\n",
            "712\n",
            "5854\n",
            "(18864, 560)\n"
          ],
          "name": "stdout"
        },
        {
          "output_type": "stream",
          "text": [
            "\n",
            "\n",
            " 95%|█████████▍| 3300/3486 [14:43<01:23,  2.23it/s]\u001b[A\u001b[A"
          ],
          "name": "stderr"
        },
        {
          "output_type": "stream",
          "text": [
            "560\n",
            "5855\n",
            "(16128, 484)\n"
          ],
          "name": "stdout"
        },
        {
          "output_type": "stream",
          "text": [
            "\n",
            "\n",
            " 95%|█████████▍| 3301/3486 [14:43<01:23,  2.22it/s]\u001b[A\u001b[A\n",
            "\n",
            " 95%|█████████▍| 3302/3486 [14:44<01:08,  2.70it/s]\u001b[A\u001b[A"
          ],
          "name": "stderr"
        },
        {
          "output_type": "stream",
          "text": [
            "484\n",
            "5857\n",
            "(10584, 330)\n",
            "330\n"
          ],
          "name": "stdout"
        },
        {
          "output_type": "stream",
          "text": [
            "\n",
            "\n",
            " 95%|█████████▍| 3305/3486 [14:44<00:49,  3.63it/s]\u001b[A\u001b[A"
          ],
          "name": "stderr"
        },
        {
          "output_type": "stream",
          "text": [
            "5858\n",
            "(1485, 78)\n",
            "78\n",
            "5860\n",
            "(1980, 91)\n",
            "91\n",
            "5861\n",
            "(8480, 252)\n",
            "252\n",
            "5862\n",
            "(6640, 206)\n",
            "206\n",
            "5863\n",
            "(288, 54)\n",
            "54\n",
            "5864\n",
            "(18225, 483)\n"
          ],
          "name": "stdout"
        },
        {
          "output_type": "stream",
          "text": [
            "\n",
            "\n",
            " 95%|█████████▍| 3308/3486 [14:44<00:46,  3.86it/s]\u001b[A\u001b[A\n",
            "\n",
            " 95%|█████████▌| 3313/3486 [14:45<00:33,  5.20it/s]\u001b[A\u001b[A"
          ],
          "name": "stderr"
        },
        {
          "output_type": "stream",
          "text": [
            "483\n",
            "5865\n",
            "(1224, 89)\n",
            "89\n",
            "5866\n",
            "(972, 63)\n",
            "63\n",
            "5867\n",
            "(4788, 169)\n",
            "169\n",
            "5869\n",
            "(336, 55)\n",
            "55\n",
            "5870\n",
            "(6912, 228)\n",
            "228\n",
            "5872\n",
            "(288, 44)\n"
          ],
          "name": "stdout"
        },
        {
          "output_type": "stream",
          "text": [
            "\n",
            "\n",
            " 95%|█████████▌| 3316/3486 [14:45<00:24,  6.86it/s]\u001b[A\u001b[A"
          ],
          "name": "stderr"
        },
        {
          "output_type": "stream",
          "text": [
            "44\n",
            "5874\n",
            "(3996, 147)\n",
            "147\n",
            "5875\n",
            "(4896, 172)\n",
            "172\n",
            "5876\n",
            "(36, 37)\n",
            "37\n",
            "5877\n",
            "(1440, 84)\n",
            "84\n",
            "5878\n",
            "(4068, 149)\n",
            "149\n",
            "5879\n",
            "(6012, 203)\n"
          ],
          "name": "stdout"
        },
        {
          "output_type": "stream",
          "text": [
            "\n",
            "\n",
            " 95%|█████████▌| 3320/3486 [14:45<00:18,  8.88it/s]\u001b[A\u001b[A\n",
            "\n",
            " 95%|█████████▌| 3323/3486 [14:45<00:15, 10.83it/s]\u001b[A\u001b[A"
          ],
          "name": "stderr"
        },
        {
          "output_type": "stream",
          "text": [
            "203\n",
            "5880\n",
            "(4104, 129)\n",
            "129\n",
            "5881\n",
            "(1728, 84)\n",
            "84\n",
            "5882\n",
            "(5796, 197)\n",
            "197\n",
            "5883\n",
            "(390, 43)\n",
            "43\n",
            "5885\n",
            "(1476, 77)\n",
            "77\n",
            "5886\n",
            "(2592, 108)\n",
            "108\n",
            "5887\n"
          ],
          "name": "stdout"
        },
        {
          "output_type": "stream",
          "text": [
            "\n",
            "\n",
            " 95%|█████████▌| 3328/3486 [14:45<00:12, 13.15it/s]\u001b[A\u001b[A"
          ],
          "name": "stderr"
        },
        {
          "output_type": "stream",
          "text": [
            "(2520, 118)\n",
            "118\n",
            "5888\n",
            "(8064, 260)\n",
            "260\n",
            "5890\n",
            "(9360, 296)\n"
          ],
          "name": "stdout"
        },
        {
          "output_type": "stream",
          "text": [
            "\n",
            "\n",
            " 96%|█████████▌| 3331/3486 [14:45<00:12, 12.48it/s]\u001b[A\u001b[A"
          ],
          "name": "stderr"
        },
        {
          "output_type": "stream",
          "text": [
            "296\n",
            "5894\n",
            "(5112, 178)\n",
            "178\n",
            "5895\n",
            "(3852, 143)\n",
            "143\n",
            "5896\n",
            "(1332, 73)\n",
            "73\n",
            "5897\n",
            "(2700, 111)\n",
            "111\n",
            "5898\n",
            "(1764, 85)\n",
            "85\n",
            "5899\n",
            "(1008, 64)\n",
            "64\n",
            "5900\n",
            "(180, 41)\n",
            "41\n",
            "5903\n"
          ],
          "name": "stdout"
        },
        {
          "output_type": "stream",
          "text": [
            "\n",
            "\n",
            " 96%|█████████▌| 3337/3486 [14:46<00:09, 16.07it/s]\u001b[A\u001b[A\n",
            "\n",
            " 96%|█████████▌| 3340/3486 [14:46<00:07, 18.37it/s]\u001b[A\u001b[A"
          ],
          "name": "stderr"
        },
        {
          "output_type": "stream",
          "text": [
            "(4140, 136)\n",
            "136\n",
            "5904\n",
            "(2592, 108)\n",
            "108\n",
            "5905\n",
            "(2808, 114)\n",
            "114\n",
            "5907\n",
            "(4320, 156)\n",
            "156\n",
            "5908\n",
            "(14976, 452)\n"
          ],
          "name": "stdout"
        },
        {
          "output_type": "stream",
          "text": [
            "\n",
            "\n",
            " 96%|█████████▌| 3343/3486 [14:46<00:12, 11.39it/s]\u001b[A\u001b[A"
          ],
          "name": "stderr"
        },
        {
          "output_type": "stream",
          "text": [
            "452\n",
            "5910\n",
            "(7344, 240)\n",
            "240\n",
            "5911\n",
            "(1140, 79)\n",
            "79\n",
            "5912\n",
            "(1800, 85)\n",
            "85\n",
            "5913\n",
            "(7371, 228)\n"
          ],
          "name": "stdout"
        },
        {
          "output_type": "stream",
          "text": [
            "\n",
            "\n",
            " 96%|█████████▌| 3346/3486 [14:46<00:10, 13.51it/s]\u001b[A\u001b[A\n",
            "\n",
            " 96%|█████████▌| 3349/3486 [14:46<00:08, 15.58it/s]\u001b[A\u001b[A"
          ],
          "name": "stderr"
        },
        {
          "output_type": "stream",
          "text": [
            "228\n",
            "5915\n",
            "(1080, 66)\n",
            "66\n",
            "5916\n",
            "(1944, 90)\n",
            "90\n",
            "5920\n",
            "(624, 61)\n",
            "61\n",
            "5921\n",
            "(6624, 220)\n",
            "220\n",
            "5924\n",
            "(11340, 351)\n"
          ],
          "name": "stdout"
        },
        {
          "output_type": "stream",
          "text": [
            "\n",
            "\n",
            " 96%|█████████▌| 3352/3486 [14:47<00:09, 13.99it/s]\u001b[A\u001b[A"
          ],
          "name": "stderr"
        },
        {
          "output_type": "stream",
          "text": [
            "351\n",
            "5927\n",
            "(648, 54)\n",
            "54\n",
            "5928\n",
            "(3150, 115)\n",
            "115\n",
            "5929\n",
            "(585, 58)\n",
            "58\n",
            "5930\n",
            "(360, 46)\n",
            "46\n",
            "5934\n",
            "(360, 46)\n",
            "46\n",
            "5935\n",
            "(1140, 68)\n",
            "68\n",
            "5936\n",
            "(25164, 735)\n"
          ],
          "name": "stdout"
        },
        {
          "output_type": "stream",
          "text": [
            "\n",
            "\n",
            " 96%|█████████▋| 3357/3486 [14:48<00:17,  7.56it/s]\u001b[A\u001b[A\n",
            "\n",
            " 97%|█████████▋| 3365/3486 [14:48<00:11, 10.34it/s]\u001b[A\u001b[A"
          ],
          "name": "stderr"
        },
        {
          "output_type": "stream",
          "text": [
            "735\n",
            "5937\n",
            "(792, 58)\n",
            "58\n",
            "5938\n",
            "(450, 45)\n",
            "45\n",
            "5939\n",
            "(900, 60)\n",
            "60\n",
            "5940\n",
            "(870, 59)\n",
            "59\n",
            "5941\n",
            "(450, 45)\n",
            "45\n",
            "5942\n",
            "(900, 60)\n",
            "60\n",
            "5943\n",
            "(870, 59)\n",
            "59\n",
            "5944\n",
            "(3168, 124)\n",
            "124\n",
            "5945\n",
            "(450, 45)\n",
            "45\n",
            "5946\n",
            "(900, 60)\n",
            "60\n",
            "5947\n",
            "(870, 59)\n",
            "59\n",
            "5948\n",
            "(450, 45)\n",
            "45\n",
            "5949\n",
            "(900, 60)\n",
            "60\n",
            "5950\n",
            "(870, 59)\n",
            "59\n",
            "5952\n",
            "(2196, 97)\n",
            "97\n",
            "5953\n",
            "(324, 45)\n",
            "45\n",
            "5954\n",
            "(24768, 724)\n"
          ],
          "name": "stdout"
        },
        {
          "output_type": "stream",
          "text": [
            "\n",
            "\n",
            " 97%|█████████▋| 3374/3486 [14:49<00:12,  9.22it/s]\u001b[A\u001b[A"
          ],
          "name": "stderr"
        },
        {
          "output_type": "stream",
          "text": [
            "724\n",
            "5955\n",
            "(22068, 649)\n"
          ],
          "name": "stdout"
        },
        {
          "output_type": "stream",
          "text": [
            "\n",
            "\n",
            " 97%|█████████▋| 3377/3486 [14:50<00:19,  5.72it/s]\u001b[A\u001b[A"
          ],
          "name": "stderr"
        },
        {
          "output_type": "stream",
          "text": [
            "649\n",
            "5959\n",
            "(792, 83)\n",
            "83\n",
            "5960\n",
            "(4248, 154)\n",
            "154\n",
            "5961\n",
            "(3996, 147)\n",
            "147\n",
            "5963\n",
            "(216, 42)\n",
            "42\n",
            "5964\n",
            "(1692, 83)\n",
            "83\n",
            "5965\n",
            "(5724, 195)\n"
          ],
          "name": "stdout"
        },
        {
          "output_type": "stream",
          "text": [
            "\n",
            "\n",
            " 97%|█████████▋| 3381/3486 [14:50<00:14,  7.48it/s]\u001b[A\u001b[A\n",
            "\n",
            " 97%|█████████▋| 3384/3486 [14:51<00:11,  9.26it/s]\u001b[A\u001b[A"
          ],
          "name": "stderr"
        },
        {
          "output_type": "stream",
          "text": [
            "195\n",
            "5966\n",
            "(5220, 181)\n",
            "181\n",
            "5967\n",
            "(4824, 170)\n",
            "170\n",
            "5972\n",
            "(2808, 114)\n",
            "114\n",
            "5974\n",
            "(972, 63)\n",
            "63\n",
            "5975\n",
            "(1512, 78)\n",
            "78\n",
            "5976\n",
            "(2160, 192)\n"
          ],
          "name": "stdout"
        },
        {
          "output_type": "stream",
          "text": [
            "\n",
            "\n",
            " 97%|█████████▋| 3391/3486 [14:51<00:07, 12.40it/s]\u001b[A\u001b[A\n",
            "\n",
            " 97%|█████████▋| 3398/3486 [14:51<00:05, 16.40it/s]\u001b[A\u001b[A"
          ],
          "name": "stderr"
        },
        {
          "output_type": "stream",
          "text": [
            "192\n",
            "5977\n",
            "(360, 49)\n",
            "49\n",
            "5978\n",
            "(680, 57)\n",
            "57\n",
            "5979\n",
            "(504, 50)\n",
            "50\n",
            "5980\n",
            "(2520, 101)\n",
            "101\n",
            "5981\n",
            "(684, 55)\n",
            "55\n",
            "5982\n",
            "(2340, 99)\n",
            "99\n",
            "5983\n",
            "(1476, 77)\n",
            "77\n",
            "5985\n",
            "(2268, 99)\n",
            "99\n",
            "5986\n",
            "(936, 62)\n",
            "62\n",
            "5987\n",
            "(768, 64)\n",
            "64\n",
            "5989\n",
            "(1200, 80)\n",
            "80\n",
            "5990\n",
            "(1584, 80)\n",
            "80\n",
            "5991\n",
            "(1224, 70)\n",
            "70\n",
            "5992\n"
          ],
          "name": "stdout"
        },
        {
          "output_type": "stream",
          "text": [
            "\n",
            "\n",
            " 98%|█████████▊| 3403/3486 [14:51<00:04, 19.04it/s]\u001b[A\u001b[A"
          ],
          "name": "stderr"
        },
        {
          "output_type": "stream",
          "text": [
            "(4608, 164)\n",
            "164\n",
            "5993\n",
            "(6750, 165)\n",
            "165\n",
            "5994\n",
            "(684, 55)\n",
            "55\n",
            "5995\n",
            "(2664, 110)\n",
            "110\n",
            "5996\n",
            "(2160, 96)\n",
            "96\n",
            "5997\n",
            "(3300, 119)\n",
            "119\n",
            "5998\n",
            "(2250, 105)\n"
          ],
          "name": "stdout"
        },
        {
          "output_type": "stream",
          "text": [
            "\n",
            "\n",
            " 98%|█████████▊| 3407/3486 [14:51<00:03, 22.26it/s]\u001b[A\u001b[A\n",
            "\n",
            " 98%|█████████▊| 3412/3486 [14:51<00:02, 26.29it/s]\u001b[A\u001b[A"
          ],
          "name": "stderr"
        },
        {
          "output_type": "stream",
          "text": [
            "105\n",
            "6001\n",
            "(1548, 79)\n",
            "79\n",
            "6003\n",
            "(972, 63)\n",
            "63\n",
            "6005\n",
            "(1890, 87)\n",
            "87\n",
            "6006\n",
            "(2988, 119)\n",
            "119\n",
            "6008\n",
            "(3384, 119)\n",
            "119\n",
            "6009\n",
            "(2745, 106)\n",
            "106\n",
            "6011\n",
            "(2850, 113)\n",
            "113\n",
            "6012\n",
            "(2412, 103)\n",
            "103\n",
            "6014\n"
          ],
          "name": "stdout"
        },
        {
          "output_type": "stream",
          "text": [
            "\n",
            "\n",
            " 98%|█████████▊| 3417/3486 [14:51<00:02, 28.58it/s]\u001b[A\u001b[A\n",
            "\n",
            " 98%|█████████▊| 3421/3486 [14:51<00:02, 31.22it/s]\u001b[A\u001b[A"
          ],
          "name": "stderr"
        },
        {
          "output_type": "stream",
          "text": [
            "(1980, 93)\n",
            "93\n",
            "6015\n",
            "(3132, 123)\n",
            "123\n",
            "6017\n",
            "(780, 59)\n",
            "59\n",
            "6018\n",
            "(432, 48)\n",
            "48\n",
            "6023\n",
            "(6075, 156)\n",
            "156\n",
            "6024\n",
            "(1548, 79)\n",
            "79\n",
            "6025\n",
            "(792, 58)\n",
            "58\n",
            "6026\n",
            "(2102, 132)\n",
            "132\n",
            "6027\n",
            "(1665, 82)\n"
          ],
          "name": "stdout"
        },
        {
          "output_type": "stream",
          "text": [
            "\n",
            "\n",
            " 98%|█████████▊| 3427/3486 [14:52<00:01, 33.23it/s]\u001b[A\u001b[A\n",
            "\n"
          ],
          "name": "stderr"
        },
        {
          "output_type": "stream",
          "text": [
            "82\n",
            "6028\n",
            "(1332, 73)\n",
            "73\n",
            "6037\n",
            "(792, 83)\n",
            "83\n",
            "6048\n",
            "(5904, 200)\n",
            "200\n",
            "6049\n",
            "(720, 56)\n",
            "56\n",
            "6051\n",
            "(108, 39)\n",
            "39\n",
            "6052\n",
            "(1638, 81)\n",
            "81\n",
            "6055\n",
            "(1224, 70)\n",
            "70\n",
            "6061\n",
            "(360, 66)\n",
            "66\n",
            "6062\n",
            "(1152, 72)\n",
            "72\n",
            "6063\n",
            "(2340, 101)\n",
            "101\n",
            "6065\n",
            "(1632, 82)\n",
            "82\n"
          ],
          "name": "stdout"
        },
        {
          "output_type": "stream",
          "text": [
            "\r 99%|█████████▊| 3435/3486 [14:52<00:01, 39.76it/s]\u001b[A\u001b[A"
          ],
          "name": "stderr"
        },
        {
          "output_type": "stream",
          "text": [
            "6068\n",
            "(1224, 70)\n",
            "70\n",
            "6069\n",
            "(1656, 82)\n",
            "82\n",
            "6071\n",
            "(1080, 66)\n",
            "66\n",
            "6074\n",
            "(1584, 94)\n",
            "94\n",
            "6078\n",
            "(540, 57)\n",
            "57\n",
            "6085\n",
            "(44775, 809)\n"
          ],
          "name": "stdout"
        },
        {
          "output_type": "stream",
          "text": [
            "\n",
            "\n",
            " 99%|█████████▊| 3441/3486 [14:54<00:05,  8.49it/s]\u001b[A\u001b[A"
          ],
          "name": "stderr"
        },
        {
          "output_type": "stream",
          "text": [
            "809\n",
            "6086\n",
            "(3888, 144)\n",
            "144\n",
            "6087\n",
            "(1728, 84)\n",
            "84\n",
            "6088\n",
            "(252, 43)\n",
            "43\n",
            "6089\n",
            "(432, 48)\n",
            "48\n",
            "6090\n",
            "(8675, 455)\n"
          ],
          "name": "stdout"
        },
        {
          "output_type": "stream",
          "text": [
            "\n",
            "\n",
            " 99%|█████████▉| 3446/3486 [14:54<00:03, 10.11it/s]\u001b[A\u001b[A\n",
            "\n",
            " 99%|█████████▉| 3455/3486 [14:54<00:02, 13.72it/s]\u001b[A\u001b[A"
          ],
          "name": "stderr"
        },
        {
          "output_type": "stream",
          "text": [
            "455\n",
            "6094\n",
            "(288, 44)\n",
            "44\n",
            "6097\n",
            "(1080, 66)\n",
            "66\n",
            "6098\n",
            "(1260, 71)\n",
            "71\n",
            "6101\n",
            "(1656, 82)\n",
            "82\n",
            "6102\n",
            "(36, 37)\n",
            "37\n",
            "6103\n",
            "(2124, 95)\n",
            "95\n",
            "6104\n",
            "(765, 62)\n",
            "62\n",
            "6105\n",
            "(720, 56)\n",
            "56\n",
            "6106\n",
            "(900, 65)\n",
            "65\n",
            "6107\n",
            "(1368, 74)\n",
            "74\n",
            "6110\n",
            "(252, 43)\n",
            "43\n",
            "6112\n",
            "(936, 62)\n",
            "62\n",
            "6113\n",
            "(180, 41)\n",
            "41\n",
            "6115\n",
            "(324, 45)\n",
            "45\n",
            "6116\n",
            "(675, 60)\n",
            "60\n",
            "6120\n",
            "(828, 59)\n",
            "59\n",
            "6122\n",
            "(1224, 70)\n",
            "70\n",
            "6123\n",
            "(792, 58)\n",
            "58\n",
            "6131\n"
          ],
          "name": "stdout"
        },
        {
          "output_type": "stream",
          "text": [
            "\n",
            "\n",
            " 99%|█████████▉| 3466/3486 [14:54<00:01, 18.46it/s]\u001b[A\u001b[A\n",
            "\n",
            "100%|█████████▉| 3473/3486 [14:54<00:00, 22.96it/s]\u001b[A\u001b[A"
          ],
          "name": "stderr"
        },
        {
          "output_type": "stream",
          "text": [
            "(115, 28)\n",
            "28\n",
            "6135\n",
            "(1440, 78)\n",
            "78\n",
            "6137\n",
            "(3636, 137)\n",
            "137\n",
            "6138\n",
            "(1692, 83)\n",
            "83\n",
            "6141\n",
            "(900, 61)\n",
            "61\n",
            "6144\n",
            "(1296, 72)\n",
            "72\n",
            "6145\n",
            "(1080, 69)\n",
            "69\n",
            "6146\n",
            "(396, 47)\n",
            "47\n",
            "6147\n",
            "(720, 63)\n",
            "63\n",
            "6149\n",
            "<=2 categories\n",
            "6150\n"
          ],
          "name": "stdout"
        },
        {
          "output_type": "stream",
          "text": [
            "\n",
            "\n",
            "100%|█████████▉| 3479/3486 [14:55<00:00, 26.82it/s]\u001b[A\u001b[A"
          ],
          "name": "stderr"
        },
        {
          "output_type": "stream",
          "text": [
            "(2160, 192)\n",
            "192\n",
            "6151\n",
            "(612, 53)\n",
            "53\n",
            "6159\n",
            "(1188, 69)\n",
            "69\n",
            "6161\n",
            "(1035, 68)\n",
            "68\n",
            "6170\n",
            "(768, 64)\n",
            "64\n",
            "6173\n",
            "(960, 76)\n",
            "76\n",
            "6183\n",
            "(2448, 104)\n",
            "104\n",
            "6191\n",
            "(792, 58)\n",
            "58\n",
            "6249\n",
            "(75384, 1050)\n",
            "1050\n",
            "6254\n",
            "(121968, 1061)\n",
            "1061\n",
            "6255\n",
            "(213516, 2235)\n"
          ],
          "name": "stdout"
        },
        {
          "output_type": "stream",
          "text": [
            "\n",
            "\n",
            "100%|█████████▉| 3479/3486 [15:12<00:00, 26.82it/s]\u001b[A\u001b[A\n",
            "\n",
            "100%|██████████| 3486/3486 [15:43<00:00,  3.69it/s]"
          ],
          "name": "stderr"
        },
        {
          "output_type": "stream",
          "text": [
            "2235\n",
            "6349\n",
            "(900, 61)\n",
            "61\n"
          ],
          "name": "stdout"
        },
        {
          "output_type": "stream",
          "text": [
            "\n"
          ],
          "name": "stderr"
        }
      ]
    },
    {
      "cell_type": "code",
      "metadata": {
        "id": "ElK-3hlk3rFB",
        "colab_type": "code",
        "outputId": "9d09ff20-bf17-474a-ed03-c97a5f41fe2f",
        "colab": {
          "base_uri": "https://localhost:8080/",
          "height": 187
        }
      },
      "source": [
        "ranking = [(k, 0 if v[1]== 0 else v[0]/v[1],v[1]) for k,v in all_results.items()]\n",
        "print(ranking)\n",
        "\n",
        "ranking.sort(key = lambda x: -x[1])\n",
        "\n",
        "print(ranking)"
      ],
      "execution_count": 23,
      "outputs": [
        {
          "output_type": "stream",
          "text": [
            "IOPub data rate exceeded.\n",
            "The notebook server will temporarily stop sending output\n",
            "to the client in order to avoid crashing it.\n",
            "To change this limit, set the config variable\n",
            "`--NotebookApp.iopub_data_rate_limit`.\n",
            "\n",
            "Current values:\n",
            "NotebookApp.iopub_data_rate_limit=1000000.0 (bytes/sec)\n",
            "NotebookApp.rate_limit_window=3.0 (secs)\n",
            "\n"
          ],
          "name": "stderr"
        }
      ]
    },
    {
      "cell_type": "code",
      "metadata": {
        "id": "wIr5vqGOlhfR",
        "colab_type": "code",
        "outputId": "43c8174f-12de-4909-eea4-0e1460c22f91",
        "colab": {
          "base_uri": "https://localhost:8080/",
          "height": 374
        }
      },
      "source": [
        "results_cleaned2[4943]"
      ],
      "execution_count": 11,
      "outputs": [
        {
          "output_type": "execute_result",
          "data": {
            "text/plain": [
              "[('000000000000000000000000000000000000000000000000000000000000000000000000000000000000000000000000000000000000000000000000000000000000000000000000',\n",
              "  0,\n",
              "  [22723, 76235, 47668, 59544, 125669]),\n",
              " ('000000000000000000000000000000000000000000000000000000000000000000000000000000000000000000000000000000000000000000000000000000000000000000000000',\n",
              "  0,\n",
              "  [60410, 60481, 60482, 108449, 103975, 71689, 125371, 166336]),\n",
              " ('000000000000000000000000000000000000000000000000000000000000000000000000000000000000000000000000000000000000000000000000000000000000000000000000',\n",
              "  0,\n",
              "  [108034,\n",
              "   102421,\n",
              "   131144,\n",
              "   88268,\n",
              "   61649,\n",
              "   47474,\n",
              "   88269,\n",
              "   166315,\n",
              "   166316,\n",
              "   170230]),\n",
              " ('000000000000000000000000000000000000000000000000000000000000000000000000000000000000000000000000000000000000000000000000000000000000000000000000',\n",
              "  0,\n",
              "  [47677, 47678, 126843, 62815])]"
            ]
          },
          "metadata": {
            "tags": []
          },
          "execution_count": 11
        }
      ]
    }
  ]
}