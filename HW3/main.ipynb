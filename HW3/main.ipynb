{
  "nbformat": 4,
  "nbformat_minor": 0,
  "metadata": {
    "colab": {
      "name": "Untitled",
      "provenance": [],
      "collapsed_sections": [],
      "authorship_tag": "ABX9TyPYkK3GkMe4GQPbGQd5TyES",
      "include_colab_link": true
    },
    "kernelspec": {
      "name": "python3",
      "display_name": "Python 3"
    }
  },
  "cells": [
    {
      "cell_type": "markdown",
      "metadata": {
        "id": "view-in-github",
        "colab_type": "text"
      },
      "source": [
        "<a href=\"https://colab.research.google.com/github/OlegPozovnoy/MailRuMLHomeworks/blob/master/HW3/main.ipynb\" target=\"_parent\"><img src=\"https://colab.research.google.com/assets/colab-badge.svg\" alt=\"Open In Colab\"/></a>"
      ]
    },
    {
      "cell_type": "code",
      "metadata": {
        "id": "6Zu_gS6BesAI",
        "colab_type": "code",
        "outputId": "c6dc94bd-0c71-4002-94e0-d763b0d0b4a0",
        "colab": {
          "base_uri": "https://localhost:8080/",
          "height": 122
        }
      },
      "source": [
        "from google.colab import drive\n",
        "drive.mount('/datasets/')"
      ],
      "execution_count": 2,
      "outputs": [
        {
          "output_type": "stream",
          "text": [
            "Go to this URL in a browser: https://accounts.google.com/o/oauth2/auth?client_id=947318989803-6bn6qk8qdgf4n4g3pfee6491hc0brc4i.apps.googleusercontent.com&redirect_uri=urn%3aietf%3awg%3aoauth%3a2.0%3aoob&response_type=code&scope=email%20https%3a%2f%2fwww.googleapis.com%2fauth%2fdocs.test%20https%3a%2f%2fwww.googleapis.com%2fauth%2fdrive%20https%3a%2f%2fwww.googleapis.com%2fauth%2fdrive.photos.readonly%20https%3a%2f%2fwww.googleapis.com%2fauth%2fpeopleapi.readonly\n",
            "\n",
            "Enter your authorization code:\n",
            "··········\n",
            "Mounted at /datasets/\n"
          ],
          "name": "stdout"
        }
      ]
    },
    {
      "cell_type": "code",
      "metadata": {
        "id": "YUKYWDYejhWP",
        "colab_type": "code",
        "outputId": "17dc274e-20d0-4ba5-8759-c1fdd78ab4f3",
        "colab": {
          "base_uri": "https://localhost:8080/",
          "height": 34
        }
      },
      "source": [
        "!ls \"/datasets/My Drive/datasets/\""
      ],
      "execution_count": 3,
      "outputs": [
        {
          "output_type": "stream",
          "text": [
            "players.pkl  results.pkl  tournaments.pkl\n"
          ],
          "name": "stdout"
        }
      ]
    },
    {
      "cell_type": "code",
      "metadata": {
        "id": "VPH9pU3ai3hh",
        "colab_type": "code",
        "colab": {}
      },
      "source": [
        "import pickle\n",
        "import pandas as pd"
      ],
      "execution_count": 0,
      "outputs": []
    },
    {
      "cell_type": "code",
      "metadata": {
        "id": "SjVYMl3_l-nH",
        "colab_type": "code",
        "colab": {}
      },
      "source": [
        "tournaments = pd.read_pickle(\"/datasets/My Drive/datasets/tournaments.pkl\")\n",
        "#tournaments = pd.read_pickle(\"./tournaments.pkl\")\n",
        "\n",
        "tournaments_cleaned = [(v['id'], v['name'], v['dateStart'][0:4], v['type']['name'], v['questionQty']) for k,v in tournaments.items() if v['questionQty'] != None]\n",
        "del tournaments"
      ],
      "execution_count": 0,
      "outputs": []
    },
    {
      "cell_type": "markdown",
      "metadata": {
        "id": "0tf0NonT3YUU",
        "colab_type": "text"
      },
      "source": [
        "Создадим трейн и тест набор турниров."
      ]
    },
    {
      "cell_type": "code",
      "metadata": {
        "id": "_CGbnhciI8Tm",
        "colab_type": "code",
        "outputId": "7fdc997e-0060-49b9-d863-022e62726419",
        "colab": {
          "base_uri": "https://localhost:8080/",
          "height": 51
        }
      },
      "source": [
        "train_id = [ v[0] for v in tournaments_cleaned if int(v[2])== 2019]\n",
        "test_id = [v[0] for v in tournaments_cleaned if int(v[2])== 2020]\n",
        "\n",
        "print(len(train_id))\n",
        "print(len(test_id))"
      ],
      "execution_count": 6,
      "outputs": [
        {
          "output_type": "stream",
          "text": [
            "687\n",
            "418\n"
          ],
          "name": "stdout"
        }
      ]
    },
    {
      "cell_type": "code",
      "metadata": {
        "id": "P7fpAzcWk_mT",
        "colab_type": "code",
        "colab": {}
      },
      "source": [
        "results = pd.read_pickle(\"/datasets/My Drive/datasets/results.pkl\")\n",
        "#results = pd.read_pickle(\"./results.pkl\")\n",
        "results_cleaned = {k: v for k,v in results.items() if k in train_id or k in test_id}\n",
        "\n",
        "results_cleaned2 = {}\n",
        "for k,v in results_cleaned.items():\n",
        "  results_cleaned2[k] = []\n",
        "  for s in v:\n",
        "    if s.get('mask') != None:\n",
        "      results_cleaned2[k].append((s.get('mask'),s.get('questionsTotal'), [k.get('player').get('id') for k in s.get('teamMembers')]))\n",
        "\n",
        "del results\n",
        "del results_cleaned"
      ],
      "execution_count": 0,
      "outputs": []
    },
    {
      "cell_type": "code",
      "metadata": {
        "id": "Ba8T5dEQLw7g",
        "colab_type": "code",
        "outputId": "47a5ae93-6cbd-4ed9-b9d8-0d952d0e6076",
        "colab": {
          "base_uri": "https://localhost:8080/",
          "height": 51
        }
      },
      "source": [
        "train_id = [id for id in train_id if id in results_cleaned2.keys() and len(results_cleaned2[id]) > 0]\n",
        "test_id = [id for id in test_id if id in results_cleaned2.keys() and len(results_cleaned2[id]) > 0]\n",
        "\n",
        "print(len(train_id))\n",
        "print(len(test_id))"
      ],
      "execution_count": 8,
      "outputs": [
        {
          "output_type": "stream",
          "text": [
            "675\n",
            "173\n"
          ],
          "name": "stdout"
        }
      ]
    },
    {
      "cell_type": "code",
      "metadata": {
        "id": "y-bgXk1RT8A-",
        "colab_type": "code",
        "outputId": "f78d863b-6536-41f7-e25a-db95accc9b9b",
        "colab": {
          "base_uri": "https://localhost:8080/",
          "height": 34
        }
      },
      "source": [
        "import numpy as np\n",
        "from sklearn.linear_model import LogisticRegression\n",
        "import tqdm\n",
        "import gc\n",
        "\n",
        "# creating all questions and players set\n",
        "all_words = []\n",
        "for k,v in results_cleaned2.items():\n",
        "  for team in v: \n",
        "    for p in range(len(team[0])):\n",
        "        all_words.append(str(k)+'_'+str(p))\n",
        "    for m in team[2]:\n",
        "        all_words.append(m)\n",
        "\n",
        "all_words = set(all_words)\n",
        "print(len(all_words))\n",
        "\n",
        "# creating storage for competetion results\n",
        "all_results = {}\n",
        "for s in all_words:\n",
        "  all_results[s] = [0,0] # total rating and num of competetions\n",
        "\n",
        "\n",
        "logistic = LogisticRegression(fit_intercept = False)\n",
        "\n",
        "def process_tournament(id):\n",
        "  task3 = []\n",
        "  words = []\n",
        "   \n",
        "  for n in range(len(results_cleaned2[id])): # command id\n",
        "    for p in range(len(results_cleaned2[id][n][0])): #answers\n",
        "        quest = str(id)+'_'+str(p)\n",
        "        team = n\n",
        "        task3.append((quest, team,results_cleaned2[id][n][0][p]) )\n",
        "        words.append(quest)\n",
        "        words.append(team)\n",
        "\n",
        "  if len(words)==0:\n",
        "    return \n",
        "  \n",
        "  words = set(words) # encoding questions and teams no\n",
        "\n",
        "  idx_to_word = dict(enumerate(words))\n",
        "  word_to_idx = dict([(y,x) for x,y in idx_to_word.items()])\n",
        "  #preparing matrix\n",
        "  X = np.zeros((len(task3),len(words)))\n",
        "  Y = np.zeros(len(task3))\n",
        "  for i in range(len(task3)):\n",
        "    X[i,word_to_idx[task3[i][0]]] = 1\n",
        "    X[i,word_to_idx[task3[i][1]]] = 1\n",
        "    Y[i] = 1 if str(task3[i][2]) == '1' else 0\n",
        "\n",
        "  if len(set(Y)) <= 1:\n",
        "    print ('<2 categories , skipping')\n",
        "    return\n",
        "\n",
        "  #print(X.shape)\n",
        "  logistic.fit(X, Y)\n",
        "\n",
        "  for s in range(len(logistic.coef_[0])):\n",
        "    if isinstance(idx_to_word[s], int): ## teanm no\n",
        "        #print('team '+ str(idx_to_word[s]))\n",
        "        for player in results_cleaned2[id][idx_to_word[s]][2]:\n",
        "            #print(player)\n",
        "            all_results[player][1] +=1\n",
        "            all_results[player][0] +=logistic.coef_[0][s]\n",
        "    else: #question no\n",
        "        #print('question '+ str(idx_to_word[s]))\n",
        "        all_results[idx_to_word[s]][1] +=1\n",
        "        all_results[idx_to_word[s]][0] +=logistic.coef_[0][s]\n",
        "\n",
        "#process_tournament(1526)\n"
      ],
      "execution_count": 9,
      "outputs": [
        {
          "output_type": "stream",
          "text": [
            "104707\n"
          ],
          "name": "stdout"
        }
      ]
    },
    {
      "cell_type": "markdown",
      "metadata": {
        "id": "Ec8_oUCP2pir",
        "colab_type": "text"
      },
      "source": [
        "Пройдемся по всем турнирам и посчитаем рейтинг всех игроков и вопросов в заданном турнире, за неимением лучшего, усредним по каждому игроку рейтинг в турнире"
      ]
    },
    {
      "cell_type": "code",
      "metadata": {
        "id": "ovg-qp80xZy0",
        "colab_type": "code",
        "outputId": "bc0eb0aa-cb88-402a-89ee-7fdadb2c06d5",
        "colab": {
          "base_uri": "https://localhost:8080/",
          "height": 51
        }
      },
      "source": [
        "import tqdm\n",
        "\n",
        "for tourn_id in tqdm.tqdm(train_id):\n",
        "  process_tournament(tourn_id)"
      ],
      "execution_count": 10,
      "outputs": [
        {
          "output_type": "stream",
          "text": [
            " 99%|█████████▉| 671/675 [01:47<00:00, 30.26it/s]"
          ],
          "name": "stderr"
        },
        {
          "output_type": "stream",
          "text": [
            "<2 categories , skipping\n"
          ],
          "name": "stdout"
        },
        {
          "output_type": "stream",
          "text": [
            "100%|██████████| 675/675 [02:34<00:00,  4.37it/s]\n"
          ],
          "name": "stderr"
        }
      ]
    },
    {
      "cell_type": "code",
      "metadata": {
        "id": "ElK-3hlk3rFB",
        "colab_type": "code",
        "outputId": "b016b370-9885-4549-ccf8-5f46a94fff7d",
        "colab": {
          "base_uri": "https://localhost:8080/",
          "height": 34
        }
      },
      "source": [
        "import statistics as stat\n",
        "\n",
        "def is_player(t):\n",
        "  return isinstance(t, int)\n",
        "\n",
        "all_ranking = {}\n",
        "\n",
        "for k,v in all_results.items():\n",
        "  if v[1] != 0:\n",
        "    all_ranking[k] = v[0]/v[1] \n",
        "\n",
        "blank_rank = stat.mean ([ v for k,v in all_ranking.items() if is_player(k)])\n",
        "print(blank_rank)\n"
      ],
      "execution_count": 11,
      "outputs": [
        {
          "output_type": "stream",
          "text": [
            "-0.5379797641338596\n"
          ],
          "name": "stdout"
        }
      ]
    },
    {
      "cell_type": "code",
      "metadata": {
        "colab_type": "code",
        "id": "IcKhuZV02dmn",
        "colab": {}
      },
      "source": [
        "def get_team_ranking(players):\n",
        "  global all_ranking\n",
        "  result = []\n",
        "  #print('Team:',players)\n",
        "  if (len(players)==0):\n",
        "    return blank_rank\n",
        "  for player in players:\n",
        "    if (all_results[player][1]>0): # num of competetions\n",
        "      #print(player, ' rating is ', all_ranking[player])\n",
        "      result.append(all_ranking[player])\n",
        "    else:\n",
        "      result.append(blank_rank)\n",
        "  return stat.mean(result)\n"
      ],
      "execution_count": 0,
      "outputs": []
    },
    {
      "cell_type": "code",
      "metadata": {
        "id": "W7AZv2Eg1NE6",
        "colab_type": "code",
        "colab": {
          "base_uri": "https://localhost:8080/",
          "height": 105
        },
        "outputId": "025b9ea2-1367-48e6-af30-b334e699f07b"
      },
      "source": [
        "from scipy import stats\n",
        "\n",
        "spearman = []\n",
        "pearson = []\n",
        "\n",
        "test_id = [x for x in test_id if len(results_cleaned2[x])>1] ## фильтруем турниры с 1 командой\n",
        "\n",
        "for tourn_id in test_id:\n",
        "  #print('Tournament:', tourn_id)\n",
        "  rating = []\n",
        "  ranking = []\n",
        "  i=1\n",
        "  for team in results_cleaned2[tourn_id]:\n",
        "    rating.append(get_team_ranking(team[2]))\n",
        "    ranking.append(-i)\n",
        "    i+=1\n",
        "  #print ('Spearman: ',stats.spearmanr(rating, ranking)[0])\n",
        "  #print ('Pearson: ',stats.pearsonr(rating,ranking)[0])\n",
        "  # ставим минус т.к. у нас места возрастают а сила убывает\n",
        "  spearman.append(stats.spearmanr(rating, ranking)[0])\n",
        "  pearson.append(stats.pearsonr(rating,ranking)[0])\n",
        "\n",
        "print(spearman)\n",
        "print(pearson)\n",
        "print(stat.mean(spearman))\n",
        "print(stat.mean(pearson))\n"
      ],
      "execution_count": 13,
      "outputs": [
        {
          "output_type": "stream",
          "text": [
            "[0.7302837415039378, 0.7769638794729264, 0.7857266542980827, 0.7571551572305485, 0.5878069812176181, 0.721943417706411, 0.6338391968235293, 0.7020631281960853, 0.5958556798082136, 0.4168306855170206, 0.5182010463585892, 0.8440030750950487, 0.6928426044300088, 0.6432143638468918, 0.6397192764003768, 0.5945538602214889, 0.8308823529411766, 0.7972044866550946, 0.8032883294648357, 0.7004561824729891, 0.821067714289558, 0.8381972265023113, 0.7826655282623971, 0.8164776477647764, 0.6346326739079873, 0.7690484126021944, 0.755033462365203, 0.617391304347826, 0.8361712453244572, 0.787268817204301, 0.8869021782814887, 0.8590717678970162, 0.764092326055874, 0.7668308702791461, 0.882706766917293, 0.8022405775523899, 0.748051948051948, 0.7898180910906758, 0.7693191013030302, 0.7615320790320791, 0.812891986062718, 0.7277026368207713, 0.7622377622377624, 0.9009304871373838, 0.7033580067453409, 0.8251082251082253, 0.8128977114315507, 0.8183650615901457, 0.7867509848641924, 0.8587219541924115, 0.8181000756345432, 0.6571428571428573, 0.4689655172413792, 0.6963409362683286, 0.8396513443141436, 0.8829505677452403, 0.8481943155860211, 0.9210526315789472, 0.6870703040181546, 0.7648427521845242, 0.8558558558558559, 0.8391834035168557, 0.7957935750496438, 0.7295482295482296, 0.842421729214182, 0.7165412566724549, 0.7378378378378376, 0.861730564795446, 0.8081550802139037, 0.5857746904258532, 0.6590436590436591, 0.8652065581838876, 0.6694033935413245, 0.7866631248521995, 0.7542768356454039, 0.43333333333333335, 0.4047619047619048, 0.6131593874078276, 0.8269633930011289, 0.7635984030472791, 0.6445651996642154, 0.8145725416327753, 0.8083772316979413, 0.5155844155844156, 0.7392857142857142, 0.6, 0.8768889268334329, 0.7974598930481285, 0.7994868035190615, 0.7447735191637632, 0.5, 0.7927013436060364, 0.7908982318608375, 0.8573913043478261, 0.5909090909090909, 0.7914059827782258, 0.6955277026064663, 0.5553846153846154, 0.8382352941176472, 0.7828644501278774, 0.7999999999999999, 0.5121414190035763, 0.7568627450980393, 0.6761310826964955, 0.7905306718597858, 0.7090909090909092, 0.8414479638009049, 0.7939475554558039, 0.8300328721598093, 0.827705169852182, 0.5780399274047188, 0.8828673548922835, 0.8190274841437631, 0.897132284921369, 0.6862745098039217, 0.8069650781400736, 0.6342026868008056, 0.8035352012167758, 0.6556390977443608, 0.5636318875814049, 0.814790764790765, 0.7652173913043477, 0.43363148031400334, 0.7661302296596267, 0.25, 0.8947467166979364, 0.8927159796725015, 0.7634912240940797, 0.4889771355732317, 0.7142857142857143, 0.3963137969823335, 0.7726920502976297, 0.5897435897435898, 0.6756756756756755, 0.717948717948718, 0.9065934065934066, 0.6860093946436949, 0.7210233592880979, 0.7668308702791461, 0.6458069062720225, 0.33672290888528267, 0.4371881245943184, 0.8080098117835747, 0.7256300137752209, 0.2178969483265981, 0.7862745098039217, 0.5208008898776418, 0.7948635601618521, 0.8051209103840682, 0.4648863035430988, 0.5609243697478992, 0.48098447284627743, 0.762911059042521, 0.7837214959246787, 0.6221288515406164, 0.45293392076296074, 0.8728438508043247, 0.5684282421241356, 0.8178571428571428, 0.41272012912998046, 0.5823005138741677, 0.599014778325123, 0.33186161488129085, 0.37139805029334727, 0.7454545454545454, 0.5727272727272729, 1.0, 0.8999999999999998, 0.4265734265734266, 0.717673630717109, 0.7197802197802198, 0.7500000000000002]\n",
            "[0.726031210678791, 0.7704715997903536, 0.7701561701582379, 0.7515110584216693, 0.5810492690717274, 0.7207689891510406, 0.6230433434586647, 0.6936494682290143, 0.5903306331566492, 0.3608204137791622, 0.5152419480392674, 0.8301843093812968, 0.6714421745380721, 0.6208798340171654, 0.622273912854719, 0.5922300535545681, 0.8422798397998257, 0.7826438419904409, 0.7950636217745571, 0.7009923160308542, 0.8151323245084366, 0.8323767463004724, 0.7846200099296676, 0.8123204121698813, 0.6212663973626817, 0.7594870367255896, 0.7447743997450198, 0.5913107251803793, 0.8229377779793868, 0.7880111434104788, 0.858858876423644, 0.8473205087090132, 0.7525646133798729, 0.8021143100575399, 0.8571058732394516, 0.7948107725843672, 0.7606915808984809, 0.7816419384411872, 0.7647503835929086, 0.7565195906663904, 0.8360429740534142, 0.7231815282107996, 0.827498238736125, 0.8908840805580375, 0.7049017384260267, 0.8302701501041504, 0.7991504665981384, 0.7981455671109116, 0.7734799792624449, 0.8470009530917824, 0.8001681398860702, 0.49699235687779153, 0.5156657111694911, 0.7506685547407733, 0.8192938150022424, 0.8623473033676674, 0.8356276733761008, 0.9017345720671764, 0.6621881331953394, 0.7485404459438757, 0.8707100468455884, 0.8275397412569933, 0.8067359505114299, 0.7142476519649571, 0.8250979088058259, 0.7184401907548137, 0.7091739135075237, 0.8419730808324918, 0.8194377550464311, 0.6029536409030083, 0.6744166314329727, 0.8288668029687216, 0.6452338555321284, 0.7790308974737103, 0.740505531206048, 0.3884642996329024, 0.5927636518181768, 0.6276133675608787, 0.8263854464438026, 0.7606554085235169, 0.6401776287006273, 0.8074618819714899, 0.8037071082087804, 0.4584754391263129, 0.7324373246866502, 0.6236163481377031, 0.8837088560865402, 0.7548271241842229, 0.795421700957211, 0.7091165742271389, 0.7985814728773278, 0.7939629336985238, 0.7941430781037123, 0.8545389163912532, 0.6202140736411982, 0.7749654743920052, 0.6857195223118004, 0.5278711297096305, 0.8547527218985117, 0.7541150583347538, 0.8241331653170918, 0.5398120800432566, 0.7475505468383189, 0.6425881751804785, 0.7670978183826559, 0.7799566614124189, 0.8211318259259804, 0.7732334098042982, 0.8083230685556094, 0.819946648034614, 0.5615570113785383, 0.8725770440530229, 0.8068616897281958, 0.8990010050798874, 0.6744212866753293, 0.7810668970177835, 0.6058963284941628, 0.7994802986045155, 0.7086736234624011, 0.5110509710038426, 0.7858815574250716, 0.7214521410756628, 0.4106619987766401, 0.7178182949145075, 0.24974277632107078, 0.8852819664398153, 0.882392900625025, 0.757668377361151, 0.4419306398000415, 0.5187817303190623, 0.3718735334242997, 0.7727707019815995, 0.5984076229002316, 0.673596063909658, 0.6945313335058011, 0.8870186670012521, 0.6769643886828469, 0.7508843793010362, 0.7581275943083435, 0.6252041741307955, 0.4190938076883044, 0.5033144815357598, 0.7830505994187409, 0.7306279315134498, 0.315389753663077, 0.7783559455083179, 0.5257142691542351, 0.7584906279590476, 0.7731861684654602, 0.46294424527980815, 0.5453118429292093, 0.5304377551621166, 0.7528379761893113, 0.7734017698790573, 0.6718812687625769, 0.6456315385287564, 0.8376474580458504, 0.5473762982366654, 0.8316453502434695, 0.44077122394566587, 0.5837564250369921, 0.5956435120872758, 0.4338044342532075, 0.4747854571601579, 0.7290620835302357, 0.5136211628667098, 0.9936686646447015, 0.9155240220472946, 0.49244099787949913, 0.7620897020360183, 0.7551451272852556, 0.6636816644411005]\n",
            "0.7128933506281387\n",
            "0.7108558483383736\n"
          ],
          "name": "stdout"
        }
      ]
    },
    {
      "cell_type": "markdown",
      "metadata": {
        "id": "OH-Dr563TYQv",
        "colab_type": "text"
      },
      "source": [
        "Теперь будем работать в рамках модели, когда участники команды отвечают на вопрос независимо и если кто то ответил - команда отвечает правильно, если никто - не отвечает. Будем попеременно улучшать оценки для сложностей вопросов и индивидуальных показателей всех участников"
      ]
    },
    {
      "cell_type": "code",
      "metadata": {
        "id": "qv6DYfRGT1R7",
        "colab_type": "code",
        "colab": {}
      },
      "source": [
        "from scipy.special import expit\n",
        "import math\n",
        "\n",
        "def sigmoid(x):\n",
        "  return expit(x)\n",
        "\n",
        "def sigm_reverse(x):\n",
        "  if x<0.001:\n",
        "    return -10\n",
        "  elif x>0.999:\n",
        "    return 10\n",
        "  result = -math.log(1/x-1)\n",
        "  if (result >6):\n",
        "    return 6\n",
        "  elif(result < -6):\n",
        "    return -6\n",
        "  else:\n",
        "    return result\n",
        "\n",
        "def adjust_individual(players, team_X, Y):\n",
        "  global all_ranking\n",
        "  #print('Adjust individual rank by team rank: ', players, team_X, Y)\n",
        "  prob_real = 1-sigmoid(team_X + Y)\n",
        "  if len(players) ==0:\n",
        "    return\n",
        "  #print('Prob_real:',prob_real)\n",
        "  prob_adjusted = 1\n",
        "  probs = []\n",
        "  player_ratings = []\n",
        "  for player in players:\n",
        "    player_rating = all_ranking[player]\n",
        "    player_ratings.append(player_rating)\n",
        "    player_prob = (1 - sigmoid(player_rating + Y))\n",
        "    probs.append(player_prob)\n",
        "    prob_adjusted *= (1 - sigmoid(player_rating + Y))\n",
        "  #print('Prob_adjusted', prob_adjusted)\n",
        "  multiplier = math.pow(prob_real/prob_adjusted, 1.0/len(players))\n",
        "  #print(multiplier)\n",
        "  probs = [x*multiplier for x in probs]\n",
        "  #print(probs)\n",
        "  #print([sigm_reverse(1-x) - Y for x in probs])\n",
        "  result = [sigm_reverse(1-x) - Y for x in probs] \n",
        "  #print ('Before adjustment: ', player_ratings)\n",
        "  #print ('After adjustment: ', result)  \n",
        "  return result\n",
        "\n",
        "def compose_team(players, Y):\n",
        "  global blank_rank\n",
        "  global all_ranking\n",
        "  #print('Get team rating by individual: ', players, team_X)\n",
        "  prob_adjusted = 1\n",
        "  players_ranks = []\n",
        "  for player in players:\n",
        "    if player in all_ranking:\n",
        "      player_rating = all_ranking[player]\n",
        "    else:\n",
        "      player_rating = blank_rank\n",
        "    players_ranks.append(player_rating)\n",
        "    #print('player:',player,'rating:',player_rating)\n",
        "    prob_adjusted *= (1 - sigmoid(player_rating + Y))\n",
        "  #print('prob_by_member:', prob_adjusted)\n",
        "  #print('prob_by_condition', 1-sigmoid(team_X+Y))\n",
        "  #print('Players rank:',player_ranks)\n",
        "  result = sigm_reverse(1-prob_adjusted) - Y \n",
        "  #print('Team rank: ', result)\n",
        "  return result\n",
        "\n",
        "def get_team_rank(players):\n",
        "  global all_ranking\n",
        "  if len(players)==0:\n",
        "    return sigm_reverse(1 - (1 - sigmoid(blank_rank)**5))\n",
        "  prob = 1\n",
        "  players_ranks = []\n",
        "  for player in players:\n",
        "    if player in all_ranking:\n",
        "      player_rating = all_ranking[player]\n",
        "    else:\n",
        "      player_rating = blank_rank\n",
        "    players_ranks.append(player_rating)\n",
        "    player_prob = (1 - sigmoid(player_rating))\n",
        "    prob *= player_prob\n",
        "  #print ('Players ranks: ',player_ranks)\n",
        "  result = sigm_reverse(1-prob)\n",
        "  #print('Team rank:') \n",
        "  return result"
      ],
      "execution_count": 0,
      "outputs": []
    },
    {
      "cell_type": "code",
      "metadata": {
        "colab_type": "code",
        "id": "6wVDKCSzcXR-",
        "colab": {}
      },
      "source": [
        "# creating storage for competetion results\n",
        "\n",
        "logistic = LogisticRegression(fit_intercept = False)\n",
        "\n",
        "def record_item(item, value):\n",
        "  global all_results_upd\n",
        "  all_results_upd[item][1] += 1\n",
        "  all_results_upd[item][0] += value\n",
        "\n",
        "def upd_EM(id, update_questions):\n",
        "  global all_ranking\n",
        "  task3 = []\n",
        "  words = []\n",
        "   \n",
        "  for n in range(len(results_cleaned2[id])): # command id\n",
        "    for p in range(len(results_cleaned2[id][n][0])): #answers\n",
        "        quest = str(id)+'_'+str(p)\n",
        "        team = n\n",
        "        task3.append((quest, team,results_cleaned2[id][n][0][p]))\n",
        "        words.append(quest)\n",
        "        words.append(team)\n",
        "\n",
        "  if len(words)==0:\n",
        "    return \n",
        "  \n",
        "  words = set(words) # encoding questions and teams no\n",
        "\n",
        "  idx_to_word = dict(enumerate(words))\n",
        "  word_to_idx = dict([(y,x) for x,y in idx_to_word.items()])\n",
        "  #preparing matrix\n",
        "  X = np.zeros((len(task3),len(words)))\n",
        "  Y = np.zeros(len(task3))\n",
        "  for i in range(len(task3)):\n",
        "    X[i,word_to_idx[task3[i][0]]] = 1\n",
        "    X[i,word_to_idx[task3[i][1]]] = 1\n",
        "    Y[i] = 1 if str(task3[i][2]) == '1' else 0\n",
        "\n",
        "  if len(set(Y)) <= 1:\n",
        "    print ('<2 categories , skipping')\n",
        "    return\n",
        "\n",
        "  logistic.fit(X, Y)\n",
        "\n",
        "  for i in range(len(task3)):\n",
        "    X[i,word_to_idx[task3[i][0]]] = 1\n",
        "    X[i,word_to_idx[task3[i][1]]] = 1\n",
        "    Y[i] = 1 if str(task3[i][2]) == '1' else 0\n",
        "\n",
        "\n",
        "  for i in range(len(task3)):\n",
        "    question = word_to_idx[task3[i][0]]\n",
        "    team = word_to_idx[task3[i][1]]\n",
        "    k_quest = logistic.coef_[0][question]\n",
        "    k_team = logistic.coef_[0][team]\n",
        "    players_list = results_cleaned2[id][task3[i][1]][2]\n",
        "    if (update_questions):\n",
        "      K = compose_team(players_list, all_ranking[task3[i][0]])\n",
        "      record_item(task3[i][0], k_quest + k_team - K)\n",
        "    else: # team members\n",
        "      #print(players_list, k_team, task3[i][0],all_ranking[task3[i][0]])\n",
        "      ranking_split = adjust_individual(players_list, k_team,all_ranking[task3[i][0]])\n",
        "      for j in range(len(players_list)):\n",
        "        record_item(players_list[j], ranking_split[j])"
      ],
      "execution_count": 0,
      "outputs": []
    },
    {
      "cell_type": "code",
      "metadata": {
        "id": "BU05fh2f6jt1",
        "colab_type": "code",
        "colab": {
          "base_uri": "https://localhost:8080/",
          "height": 476
        },
        "outputId": "102803ff-88de-4b3f-88bd-5f315eab130e"
      },
      "source": [
        "import tqdm\n",
        "\n",
        "all_results_upd = {}\n",
        "for s in all_words:\n",
        "  all_results_upd[s] = [0,0] # total rating and num of competetions\n",
        "\n",
        "def record_new_ratings():\n",
        "  global all_ranking\n",
        "  global blank_rank\n",
        "  global all_results_upd\n",
        "  for k,v in all_results_upd.items():\n",
        "    if v[1] != 0:\n",
        "      all_ranking[k] = v[0]/v[1] \n",
        "  print('blank_rank before',blank_rank)\n",
        "  blank_rank = stat.mean ([ v for k,v in all_ranking.items() if is_player(k)])\n",
        "  print('blank_rank after',blank_rank)\n",
        "\n",
        "  all_results_upd = {}\n",
        "  for s in all_words:\n",
        "    all_results_upd[s] = [0,0] # total rating and num of competetions\n",
        "\n",
        "\n",
        "def calc_corellations():\n",
        "  spearman = []\n",
        "  pearson = []\n",
        "\n",
        "  for tourn_id in test_id:\n",
        "    #print('Tournament:', tourn_id)\n",
        "    rating = []\n",
        "    ranking = []\n",
        "    i=1\n",
        "    for team in results_cleaned2[tourn_id]:\n",
        "      rating.append(get_team_rank(team[2]))\n",
        "      ranking.append(-i)\n",
        "      i+=1\n",
        "    #print ('Spearman: ',stats.spearmanr(rating, ranking)[0])\n",
        "    #print ('Pearson: ',stats.pearsonr(rating,ranking)[0])\n",
        "    # ставим минус т.к. у нас места возрастают а сила убывает\n",
        "    spearman.append(stats.spearmanr(rating, ranking)[0])\n",
        "    pearson.append(stats.pearsonr(rating,ranking)[0])\n",
        "  \n",
        "  print('Spearman: ',stat.mean(spearman))\n",
        "  print('Pearson: ',stat.mean(pearson))  \n",
        "\n",
        "\n",
        "def EM_cycle():  \n",
        "  print('Updating individual ranking')\n",
        "  for tourn_id in tqdm.tqdm(train_id):\n",
        "    upd_EM(tourn_id, update_questions = False)\n",
        "\n",
        "  record_new_ratings()\n",
        "  print('Updating questions')\n",
        "  for tourn_id in tqdm.tqdm(train_id):\n",
        "    upd_EM(tourn_id, update_questions = True)\n",
        "\n",
        "  calc_corellations()\n",
        "\n",
        "EM_cycle()"
      ],
      "execution_count": 16,
      "outputs": [
        {
          "output_type": "stream",
          "text": [
            "\r  0%|          | 0/675 [00:00<?, ?it/s]"
          ],
          "name": "stderr"
        },
        {
          "output_type": "stream",
          "text": [
            "Updating individual ranking\n"
          ],
          "name": "stdout"
        },
        {
          "output_type": "stream",
          "text": [
            " 98%|█████████▊| 664/675 [04:39<00:00, 12.04it/s]"
          ],
          "name": "stderr"
        },
        {
          "output_type": "stream",
          "text": [
            "<2 categories , skipping\n"
          ],
          "name": "stdout"
        },
        {
          "output_type": "stream",
          "text": [
            "100%|██████████| 675/675 [05:50<00:00,  1.93it/s]\n",
            "  0%|          | 0/675 [00:00<?, ?it/s]"
          ],
          "name": "stderr"
        },
        {
          "output_type": "stream",
          "text": [
            "blank_rank before -0.5379797641338596\n",
            "blank_rank after -3.5750687979852587\n",
            "Updating questions\n"
          ],
          "name": "stdout"
        },
        {
          "output_type": "stream",
          "text": [
            " 99%|█████████▊| 666/675 [03:11<00:00, 15.69it/s]"
          ],
          "name": "stderr"
        },
        {
          "output_type": "stream",
          "text": [
            "<2 categories , skipping\n"
          ],
          "name": "stdout"
        },
        {
          "output_type": "stream",
          "text": [
            "100%|██████████| 675/675 [04:08<00:00,  2.72it/s]\n"
          ],
          "name": "stderr"
        },
        {
          "output_type": "error",
          "ename": "NameError",
          "evalue": "ignored",
          "traceback": [
            "\u001b[0;31m---------------------------------------------------------------------------\u001b[0m",
            "\u001b[0;31mNameError\u001b[0m                                 Traceback (most recent call last)",
            "\u001b[0;32m<ipython-input-16-7cb94ee23ab7>\u001b[0m in \u001b[0;36m<module>\u001b[0;34m()\u001b[0m\n\u001b[1;32m     56\u001b[0m   \u001b[0mcalc_corellations\u001b[0m\u001b[0;34m(\u001b[0m\u001b[0;34m)\u001b[0m\u001b[0;34m\u001b[0m\u001b[0;34m\u001b[0m\u001b[0m\n\u001b[1;32m     57\u001b[0m \u001b[0;34m\u001b[0m\u001b[0m\n\u001b[0;32m---> 58\u001b[0;31m \u001b[0mEM_cycle\u001b[0m\u001b[0;34m(\u001b[0m\u001b[0;34m)\u001b[0m\u001b[0;34m\u001b[0m\u001b[0;34m\u001b[0m\u001b[0m\n\u001b[0m",
            "\u001b[0;32m<ipython-input-16-7cb94ee23ab7>\u001b[0m in \u001b[0;36mEM_cycle\u001b[0;34m()\u001b[0m\n\u001b[1;32m     54\u001b[0m     \u001b[0mupd_EM\u001b[0m\u001b[0;34m(\u001b[0m\u001b[0mtourn_id\u001b[0m\u001b[0;34m,\u001b[0m \u001b[0mupdate_questions\u001b[0m \u001b[0;34m=\u001b[0m \u001b[0;32mTrue\u001b[0m\u001b[0;34m)\u001b[0m\u001b[0;34m\u001b[0m\u001b[0;34m\u001b[0m\u001b[0m\n\u001b[1;32m     55\u001b[0m \u001b[0;34m\u001b[0m\u001b[0m\n\u001b[0;32m---> 56\u001b[0;31m   \u001b[0mcalc_corellations\u001b[0m\u001b[0;34m(\u001b[0m\u001b[0;34m)\u001b[0m\u001b[0;34m\u001b[0m\u001b[0;34m\u001b[0m\u001b[0m\n\u001b[0m\u001b[1;32m     57\u001b[0m \u001b[0;34m\u001b[0m\u001b[0m\n\u001b[1;32m     58\u001b[0m \u001b[0mEM_cycle\u001b[0m\u001b[0;34m(\u001b[0m\u001b[0;34m)\u001b[0m\u001b[0;34m\u001b[0m\u001b[0;34m\u001b[0m\u001b[0m\n",
            "\u001b[0;32m<ipython-input-16-7cb94ee23ab7>\u001b[0m in \u001b[0;36mcalc_corellations\u001b[0;34m()\u001b[0m\n\u001b[1;32m     31\u001b[0m     \u001b[0mi\u001b[0m\u001b[0;34m=\u001b[0m\u001b[0;36m1\u001b[0m\u001b[0;34m\u001b[0m\u001b[0;34m\u001b[0m\u001b[0m\n\u001b[1;32m     32\u001b[0m     \u001b[0;32mfor\u001b[0m \u001b[0mteam\u001b[0m \u001b[0;32min\u001b[0m \u001b[0mresults_cleaned2\u001b[0m\u001b[0;34m[\u001b[0m\u001b[0mtourn_id\u001b[0m\u001b[0;34m]\u001b[0m\u001b[0;34m:\u001b[0m\u001b[0;34m\u001b[0m\u001b[0;34m\u001b[0m\u001b[0m\n\u001b[0;32m---> 33\u001b[0;31m       \u001b[0mrating\u001b[0m\u001b[0;34m.\u001b[0m\u001b[0mappend\u001b[0m\u001b[0;34m(\u001b[0m\u001b[0mget_team_rank\u001b[0m\u001b[0;34m(\u001b[0m\u001b[0mteam\u001b[0m\u001b[0;34m[\u001b[0m\u001b[0;36m2\u001b[0m\u001b[0;34m]\u001b[0m\u001b[0;34m)\u001b[0m\u001b[0;34m)\u001b[0m\u001b[0;34m\u001b[0m\u001b[0;34m\u001b[0m\u001b[0m\n\u001b[0m\u001b[1;32m     34\u001b[0m       \u001b[0mranking\u001b[0m\u001b[0;34m.\u001b[0m\u001b[0mappend\u001b[0m\u001b[0;34m(\u001b[0m\u001b[0;34m-\u001b[0m\u001b[0mi\u001b[0m\u001b[0;34m)\u001b[0m\u001b[0;34m\u001b[0m\u001b[0;34m\u001b[0m\u001b[0m\n\u001b[1;32m     35\u001b[0m       \u001b[0mi\u001b[0m\u001b[0;34m+=\u001b[0m\u001b[0;36m1\u001b[0m\u001b[0;34m\u001b[0m\u001b[0;34m\u001b[0m\u001b[0m\n",
            "\u001b[0;32m<ipython-input-14-11aa3339598d>\u001b[0m in \u001b[0;36mget_team_rank\u001b[0;34m(players)\u001b[0m\n\u001b[1;32m     77\u001b[0m     \u001b[0;32melse\u001b[0m\u001b[0;34m:\u001b[0m\u001b[0;34m\u001b[0m\u001b[0;34m\u001b[0m\u001b[0m\n\u001b[1;32m     78\u001b[0m       \u001b[0mplayer_rating\u001b[0m \u001b[0;34m=\u001b[0m \u001b[0mblank_rank\u001b[0m\u001b[0;34m\u001b[0m\u001b[0;34m\u001b[0m\u001b[0m\n\u001b[0;32m---> 79\u001b[0;31m     \u001b[0mplayer_ranks\u001b[0m\u001b[0;34m.\u001b[0m\u001b[0mappend\u001b[0m\u001b[0;34m(\u001b[0m\u001b[0mplayer_rating\u001b[0m\u001b[0;34m)\u001b[0m\u001b[0;34m\u001b[0m\u001b[0;34m\u001b[0m\u001b[0m\n\u001b[0m\u001b[1;32m     80\u001b[0m     \u001b[0mplayer_prob\u001b[0m \u001b[0;34m=\u001b[0m \u001b[0;34m(\u001b[0m\u001b[0;36m1\u001b[0m \u001b[0;34m-\u001b[0m \u001b[0msigmoid\u001b[0m\u001b[0;34m(\u001b[0m\u001b[0mplayer_rating\u001b[0m\u001b[0;34m)\u001b[0m\u001b[0;34m)\u001b[0m\u001b[0;34m\u001b[0m\u001b[0;34m\u001b[0m\u001b[0m\n\u001b[1;32m     81\u001b[0m     \u001b[0mprob\u001b[0m \u001b[0;34m*=\u001b[0m \u001b[0mplayer_prob\u001b[0m\u001b[0;34m\u001b[0m\u001b[0;34m\u001b[0m\u001b[0m\n",
            "\u001b[0;31mNameError\u001b[0m: name 'player_ranks' is not defined"
          ]
        }
      ]
    },
    {
      "cell_type": "code",
      "metadata": {
        "id": "LqKeNQ9swzUm",
        "colab_type": "code",
        "colab": {
          "base_uri": "https://localhost:8080/",
          "height": 51
        },
        "outputId": "a3f65b64-c8ad-48ae-b8f4-3ddf96ad7b9f"
      },
      "source": [
        ""
      ],
      "execution_count": 20,
      "outputs": [
        {
          "output_type": "stream",
          "text": [
            "Spearman:  0.6457651887789548\n",
            "Pearson:  0.6227593483707757\n"
          ],
          "name": "stdout"
        }
      ]
    },
    {
      "cell_type": "code",
      "metadata": {
        "id": "8HKkSSJPVcBl",
        "colab_type": "code",
        "colab": {
          "base_uri": "https://localhost:8080/",
          "height": 1000
        },
        "outputId": "8724a9ab-7625-46de-c40c-55374a22b10f"
      },
      "source": [
        "for i in range(10):\n",
        "  print('итерация ',i)\n",
        "  EM_cycle()"
      ],
      "execution_count": 21,
      "outputs": [
        {
          "output_type": "stream",
          "text": [
            "\r  0%|          | 0/675 [00:00<?, ?it/s]"
          ],
          "name": "stderr"
        },
        {
          "output_type": "stream",
          "text": [
            "итерация  0\n",
            "Updating individual ranking\n"
          ],
          "name": "stdout"
        },
        {
          "output_type": "stream",
          "text": [
            " 98%|█████████▊| 664/675 [04:40<00:00, 12.04it/s]"
          ],
          "name": "stderr"
        },
        {
          "output_type": "stream",
          "text": [
            "<2 categories , skipping\n"
          ],
          "name": "stdout"
        },
        {
          "output_type": "stream",
          "text": [
            "100%|██████████| 675/675 [05:52<00:00,  1.92it/s]\n",
            "  0%|          | 0/675 [00:00<?, ?it/s]"
          ],
          "name": "stderr"
        },
        {
          "output_type": "stream",
          "text": [
            "blank_rank before -3.5750687979852587\n",
            "blank_rank after -3.040158300674814\n",
            "Updating questions\n"
          ],
          "name": "stdout"
        },
        {
          "output_type": "stream",
          "text": [
            " 98%|█████████▊| 664/675 [03:11<00:00, 18.17it/s]"
          ],
          "name": "stderr"
        },
        {
          "output_type": "stream",
          "text": [
            "<2 categories , skipping\n"
          ],
          "name": "stdout"
        },
        {
          "output_type": "stream",
          "text": [
            "100%|██████████| 675/675 [04:10<00:00,  2.69it/s]\n",
            "  0%|          | 0/675 [00:00<?, ?it/s]"
          ],
          "name": "stderr"
        },
        {
          "output_type": "stream",
          "text": [
            "Spearman:  0.6690894994762909\n",
            "Pearson:  0.6430032907694301\n",
            "итерация  1\n",
            "Updating individual ranking\n"
          ],
          "name": "stdout"
        },
        {
          "output_type": "stream",
          "text": [
            " 98%|█████████▊| 664/675 [04:41<00:00, 11.55it/s]"
          ],
          "name": "stderr"
        },
        {
          "output_type": "stream",
          "text": [
            "<2 categories , skipping\n"
          ],
          "name": "stdout"
        },
        {
          "output_type": "stream",
          "text": [
            "100%|██████████| 675/675 [05:51<00:00,  1.92it/s]\n",
            "  0%|          | 0/675 [00:00<?, ?it/s]"
          ],
          "name": "stderr"
        },
        {
          "output_type": "stream",
          "text": [
            "blank_rank before -3.040158300674814\n",
            "blank_rank after -3.1315844593708584\n",
            "Updating questions\n"
          ],
          "name": "stdout"
        },
        {
          "output_type": "stream",
          "text": [
            " 98%|█████████▊| 664/675 [03:12<00:00, 17.46it/s]"
          ],
          "name": "stderr"
        },
        {
          "output_type": "stream",
          "text": [
            "<2 categories , skipping\n"
          ],
          "name": "stdout"
        },
        {
          "output_type": "stream",
          "text": [
            "100%|██████████| 675/675 [04:10<00:00,  2.69it/s]\n",
            "  0%|          | 0/675 [00:00<?, ?it/s]"
          ],
          "name": "stderr"
        },
        {
          "output_type": "stream",
          "text": [
            "Spearman:  0.6798163556251267\n",
            "Pearson:  0.6493320135470664\n",
            "итерация  2\n",
            "Updating individual ranking\n"
          ],
          "name": "stdout"
        },
        {
          "output_type": "stream",
          "text": [
            " 98%|█████████▊| 664/675 [04:40<00:00, 11.91it/s]"
          ],
          "name": "stderr"
        },
        {
          "output_type": "stream",
          "text": [
            "<2 categories , skipping\n"
          ],
          "name": "stdout"
        },
        {
          "output_type": "stream",
          "text": [
            "100%|██████████| 675/675 [05:49<00:00,  1.93it/s]\n",
            "  0%|          | 0/675 [00:00<?, ?it/s]"
          ],
          "name": "stderr"
        },
        {
          "output_type": "stream",
          "text": [
            "blank_rank before -3.1315844593708584\n",
            "blank_rank after -3.1687214103044643\n",
            "Updating questions\n"
          ],
          "name": "stdout"
        },
        {
          "output_type": "stream",
          "text": [
            " 98%|█████████▊| 664/675 [03:12<00:00, 17.20it/s]"
          ],
          "name": "stderr"
        },
        {
          "output_type": "stream",
          "text": [
            "<2 categories , skipping\n"
          ],
          "name": "stdout"
        },
        {
          "output_type": "stream",
          "text": [
            "100%|██████████| 675/675 [04:10<00:00,  2.69it/s]\n",
            "  0%|          | 0/675 [00:00<?, ?it/s]"
          ],
          "name": "stderr"
        },
        {
          "output_type": "stream",
          "text": [
            "Spearman:  0.6806822315752546\n",
            "Pearson:  0.6452932974848961\n",
            "итерация  3\n",
            "Updating individual ranking\n"
          ],
          "name": "stdout"
        },
        {
          "output_type": "stream",
          "text": [
            " 98%|█████████▊| 664/675 [04:42<00:00, 12.24it/s]"
          ],
          "name": "stderr"
        },
        {
          "output_type": "stream",
          "text": [
            "<2 categories , skipping\n"
          ],
          "name": "stdout"
        },
        {
          "output_type": "stream",
          "text": [
            "100%|██████████| 675/675 [05:52<00:00,  1.91it/s]\n",
            "  0%|          | 0/675 [00:00<?, ?it/s]"
          ],
          "name": "stderr"
        },
        {
          "output_type": "stream",
          "text": [
            "blank_rank before -3.1687214103044643\n",
            "blank_rank after -3.211020299898643\n",
            "Updating questions\n"
          ],
          "name": "stdout"
        },
        {
          "output_type": "stream",
          "text": [
            " 99%|█████████▊| 665/675 [03:12<00:00, 15.30it/s]"
          ],
          "name": "stderr"
        },
        {
          "output_type": "stream",
          "text": [
            "<2 categories , skipping\n"
          ],
          "name": "stdout"
        },
        {
          "output_type": "stream",
          "text": [
            "100%|██████████| 675/675 [04:10<00:00,  2.69it/s]\n",
            "  0%|          | 0/675 [00:00<?, ?it/s]"
          ],
          "name": "stderr"
        },
        {
          "output_type": "stream",
          "text": [
            "Spearman:  0.6825148821557177\n",
            "Pearson:  0.6489945753503868\n",
            "итерация  4\n",
            "Updating individual ranking\n"
          ],
          "name": "stdout"
        },
        {
          "output_type": "stream",
          "text": [
            " 98%|█████████▊| 664/675 [04:41<00:00, 12.09it/s]"
          ],
          "name": "stderr"
        },
        {
          "output_type": "stream",
          "text": [
            "<2 categories , skipping\n"
          ],
          "name": "stdout"
        },
        {
          "output_type": "stream",
          "text": [
            "100%|██████████| 675/675 [05:51<00:00,  1.92it/s]\n",
            "  0%|          | 0/675 [00:00<?, ?it/s]"
          ],
          "name": "stderr"
        },
        {
          "output_type": "stream",
          "text": [
            "blank_rank before -3.211020299898643\n",
            "blank_rank after -3.3276590774265307\n",
            "Updating questions\n"
          ],
          "name": "stdout"
        },
        {
          "output_type": "stream",
          "text": [
            " 99%|█████████▊| 665/675 [03:12<00:00, 15.36it/s]"
          ],
          "name": "stderr"
        },
        {
          "output_type": "stream",
          "text": [
            "<2 categories , skipping\n"
          ],
          "name": "stdout"
        },
        {
          "output_type": "stream",
          "text": [
            "100%|██████████| 675/675 [04:10<00:00,  2.69it/s]\n",
            "  0%|          | 0/675 [00:00<?, ?it/s]"
          ],
          "name": "stderr"
        },
        {
          "output_type": "stream",
          "text": [
            "Spearman:  0.6809303438597251\n",
            "Pearson:  0.6402056567897246\n",
            "итерация  5\n",
            "Updating individual ranking\n"
          ],
          "name": "stdout"
        },
        {
          "output_type": "stream",
          "text": [
            " 98%|█████████▊| 664/675 [04:43<00:00, 12.29it/s]"
          ],
          "name": "stderr"
        },
        {
          "output_type": "stream",
          "text": [
            "<2 categories , skipping\n"
          ],
          "name": "stdout"
        },
        {
          "output_type": "stream",
          "text": [
            "100%|██████████| 675/675 [05:54<00:00,  1.91it/s]\n",
            "  0%|          | 0/675 [00:00<?, ?it/s]"
          ],
          "name": "stderr"
        },
        {
          "output_type": "stream",
          "text": [
            "blank_rank before -3.3276590774265307\n",
            "blank_rank after -3.302458459581128\n",
            "Updating questions\n"
          ],
          "name": "stdout"
        },
        {
          "output_type": "stream",
          "text": [
            " 98%|█████████▊| 664/675 [03:10<00:00, 16.89it/s]"
          ],
          "name": "stderr"
        },
        {
          "output_type": "stream",
          "text": [
            "<2 categories , skipping\n"
          ],
          "name": "stdout"
        },
        {
          "output_type": "stream",
          "text": [
            "100%|██████████| 675/675 [04:07<00:00,  2.73it/s]\n",
            "  0%|          | 0/675 [00:00<?, ?it/s]"
          ],
          "name": "stderr"
        },
        {
          "output_type": "stream",
          "text": [
            "Spearman:  0.6833181175343571\n",
            "Pearson:  0.6455083040376719\n",
            "итерация  6\n",
            "Updating individual ranking\n"
          ],
          "name": "stdout"
        },
        {
          "output_type": "stream",
          "text": [
            " 98%|█████████▊| 664/675 [04:40<00:00, 11.60it/s]"
          ],
          "name": "stderr"
        },
        {
          "output_type": "stream",
          "text": [
            "<2 categories , skipping\n"
          ],
          "name": "stdout"
        },
        {
          "output_type": "stream",
          "text": [
            "100%|██████████| 675/675 [05:49<00:00,  1.93it/s]\n",
            "  0%|          | 0/675 [00:00<?, ?it/s]"
          ],
          "name": "stderr"
        },
        {
          "output_type": "stream",
          "text": [
            "blank_rank before -3.302458459581128\n",
            "blank_rank after -3.4509121163037264\n",
            "Updating questions\n"
          ],
          "name": "stdout"
        },
        {
          "output_type": "stream",
          "text": [
            " 98%|█████████▊| 664/675 [03:12<00:00, 16.27it/s]"
          ],
          "name": "stderr"
        },
        {
          "output_type": "stream",
          "text": [
            "<2 categories , skipping\n"
          ],
          "name": "stdout"
        },
        {
          "output_type": "stream",
          "text": [
            "100%|██████████| 675/675 [04:10<00:00,  2.70it/s]\n",
            "  0%|          | 0/675 [00:00<?, ?it/s]"
          ],
          "name": "stderr"
        },
        {
          "output_type": "stream",
          "text": [
            "Spearman:  0.6797583307539166\n",
            "Pearson:  0.6338895132599612\n",
            "итерация  7\n",
            "Updating individual ranking\n"
          ],
          "name": "stdout"
        },
        {
          "output_type": "stream",
          "text": [
            " 98%|█████████▊| 664/675 [04:41<00:00, 12.24it/s]"
          ],
          "name": "stderr"
        },
        {
          "output_type": "stream",
          "text": [
            "<2 categories , skipping\n"
          ],
          "name": "stdout"
        },
        {
          "output_type": "stream",
          "text": [
            "100%|██████████| 675/675 [05:51<00:00,  1.92it/s]\n"
          ],
          "name": "stderr"
        },
        {
          "output_type": "stream",
          "text": [
            "blank_rank before -3.4509121163037264\n",
            "blank_rank after -3.375404745863029\n"
          ],
          "name": "stdout"
        },
        {
          "output_type": "stream",
          "text": [
            "\r  0%|          | 0/675 [00:00<?, ?it/s]"
          ],
          "name": "stderr"
        },
        {
          "output_type": "stream",
          "text": [
            "Updating questions\n"
          ],
          "name": "stdout"
        },
        {
          "output_type": "stream",
          "text": [
            " 98%|█████████▊| 664/675 [03:11<00:00, 17.91it/s]"
          ],
          "name": "stderr"
        },
        {
          "output_type": "stream",
          "text": [
            "<2 categories , skipping\n"
          ],
          "name": "stdout"
        },
        {
          "output_type": "stream",
          "text": [
            "100%|██████████| 675/675 [04:08<00:00,  2.72it/s]\n",
            "  0%|          | 0/675 [00:00<?, ?it/s]"
          ],
          "name": "stderr"
        },
        {
          "output_type": "stream",
          "text": [
            "Spearman:  0.6844744353714283\n",
            "Pearson:  0.6423349438509861\n",
            "итерация  8\n",
            "Updating individual ranking\n"
          ],
          "name": "stdout"
        },
        {
          "output_type": "stream",
          "text": [
            " 98%|█████████▊| 664/675 [04:38<00:00, 11.46it/s]"
          ],
          "name": "stderr"
        },
        {
          "output_type": "stream",
          "text": [
            "<2 categories , skipping\n"
          ],
          "name": "stdout"
        },
        {
          "output_type": "stream",
          "text": [
            "100%|██████████| 675/675 [05:47<00:00,  1.94it/s]\n"
          ],
          "name": "stderr"
        },
        {
          "output_type": "stream",
          "text": [
            "blank_rank before -3.375404745863029\n",
            "blank_rank after -3.5455536570474955\n"
          ],
          "name": "stdout"
        },
        {
          "output_type": "stream",
          "text": [
            "\r  0%|          | 0/675 [00:00<?, ?it/s]"
          ],
          "name": "stderr"
        },
        {
          "output_type": "stream",
          "text": [
            "Updating questions\n"
          ],
          "name": "stdout"
        },
        {
          "output_type": "stream",
          "text": [
            " 99%|█████████▊| 666/675 [03:10<00:00, 15.92it/s]"
          ],
          "name": "stderr"
        },
        {
          "output_type": "stream",
          "text": [
            "<2 categories , skipping\n"
          ],
          "name": "stdout"
        },
        {
          "output_type": "stream",
          "text": [
            "100%|██████████| 675/675 [04:08<00:00,  2.72it/s]\n",
            "  0%|          | 0/675 [00:00<?, ?it/s]"
          ],
          "name": "stderr"
        },
        {
          "output_type": "stream",
          "text": [
            "Spearman:  0.6778258992551353\n",
            "Pearson:  0.6293518409542831\n",
            "итерация  9\n",
            "Updating individual ranking\n"
          ],
          "name": "stdout"
        },
        {
          "output_type": "stream",
          "text": [
            " 98%|█████████▊| 664/675 [04:37<00:01, 10.89it/s]"
          ],
          "name": "stderr"
        },
        {
          "output_type": "stream",
          "text": [
            "<2 categories , skipping\n"
          ],
          "name": "stdout"
        },
        {
          "output_type": "stream",
          "text": [
            "100%|██████████| 675/675 [05:47<00:00,  1.94it/s]\n"
          ],
          "name": "stderr"
        },
        {
          "output_type": "stream",
          "text": [
            "blank_rank before -3.5455536570474955\n",
            "blank_rank after -3.437744251478344\n"
          ],
          "name": "stdout"
        },
        {
          "output_type": "stream",
          "text": [
            "\r  0%|          | 0/675 [00:00<?, ?it/s]"
          ],
          "name": "stderr"
        },
        {
          "output_type": "stream",
          "text": [
            "Updating questions\n"
          ],
          "name": "stdout"
        },
        {
          "output_type": "stream",
          "text": [
            " 98%|█████████▊| 663/675 [03:08<00:00, 16.68it/s]"
          ],
          "name": "stderr"
        },
        {
          "output_type": "stream",
          "text": [
            "<2 categories , skipping\n"
          ],
          "name": "stdout"
        },
        {
          "output_type": "stream",
          "text": [
            "100%|██████████| 675/675 [04:07<00:00,  2.73it/s]\n"
          ],
          "name": "stderr"
        },
        {
          "output_type": "stream",
          "text": [
            "Spearman:  0.681531978724274\n",
            "Pearson:  0.6379497417482434\n"
          ],
          "name": "stdout"
        }
      ]
    }
  ]
}