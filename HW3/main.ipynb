{
  "nbformat": 4,
  "nbformat_minor": 0,
  "metadata": {
    "colab": {
      "name": "Untitled",
      "provenance": [],
      "collapsed_sections": [],
      "authorship_tag": "ABX9TyOCK1ROgifIE3C2etQ48bJ7",
      "include_colab_link": true
    },
    "kernelspec": {
      "name": "python3",
      "display_name": "Python 3"
    }
  },
  "cells": [
    {
      "cell_type": "markdown",
      "metadata": {
        "id": "view-in-github",
        "colab_type": "text"
      },
      "source": [
        "<a href=\"https://colab.research.google.com/github/OlegPozovnoy/MailRuMLHomeworks/blob/master/HW3/main.ipynb\" target=\"_parent\"><img src=\"https://colab.research.google.com/assets/colab-badge.svg\" alt=\"Open In Colab\"/></a>"
      ]
    },
    {
      "cell_type": "code",
      "metadata": {
        "id": "6Zu_gS6BesAI",
        "colab_type": "code",
        "outputId": "a5892384-dab9-4481-9b6a-b7b17d1c0d24",
        "colab": {
          "base_uri": "https://localhost:8080/",
          "height": 34
        }
      },
      "source": [
        "from google.colab import drive\n",
        "drive.mount('/datasets/')"
      ],
      "execution_count": 1,
      "outputs": [
        {
          "output_type": "stream",
          "text": [
            "Drive already mounted at /datasets/; to attempt to forcibly remount, call drive.mount(\"/datasets/\", force_remount=True).\n"
          ],
          "name": "stdout"
        }
      ]
    },
    {
      "cell_type": "code",
      "metadata": {
        "id": "YUKYWDYejhWP",
        "colab_type": "code",
        "outputId": "6f3aca8a-2cc8-45b7-d023-ea9115996cf5",
        "colab": {
          "base_uri": "https://localhost:8080/",
          "height": 34
        }
      },
      "source": [
        "!ls \"/datasets/My Drive/datasets/\""
      ],
      "execution_count": 2,
      "outputs": [
        {
          "output_type": "stream",
          "text": [
            "players.pkl  results.pkl  tournaments.pkl\n"
          ],
          "name": "stdout"
        }
      ]
    },
    {
      "cell_type": "code",
      "metadata": {
        "id": "VPH9pU3ai3hh",
        "colab_type": "code",
        "colab": {}
      },
      "source": [
        "import pickle\n",
        "import pandas as pd"
      ],
      "execution_count": 0,
      "outputs": []
    },
    {
      "cell_type": "code",
      "metadata": {
        "id": "SjVYMl3_l-nH",
        "colab_type": "code",
        "colab": {}
      },
      "source": [
        "tournaments = pd.read_pickle(\"/datasets/My Drive/datasets/tournaments.pkl\")\n",
        "\n",
        "tournaments_cleaned = [(v['id'], v['name'], v['dateStart'][0:4], v['type']['name'], v['questionQty']) for k,v in tournaments.items() if v['questionQty'] != None]\n",
        "del tournaments"
      ],
      "execution_count": 0,
      "outputs": []
    },
    {
      "cell_type": "markdown",
      "metadata": {
        "id": "0tf0NonT3YUU",
        "colab_type": "text"
      },
      "source": [
        "Создадим трейн и тест набор турниров."
      ]
    },
    {
      "cell_type": "code",
      "metadata": {
        "id": "_CGbnhciI8Tm",
        "colab_type": "code",
        "outputId": "90a70eaf-4a78-460b-cac7-1438755b2769",
        "colab": {
          "base_uri": "https://localhost:8080/",
          "height": 51
        }
      },
      "source": [
        "train_id = [ v[0] for v in tournaments_cleaned if int(v[2])<= 2019]\n",
        "test_id = [v[0] for v in tournaments_cleaned if int(v[2])== 2020]\n",
        "\n",
        "print(len(train_id))\n",
        "print(len(test_id))"
      ],
      "execution_count": 5,
      "outputs": [
        {
          "output_type": "stream",
          "text": [
            "3921\n",
            "418\n"
          ],
          "name": "stdout"
        }
      ]
    },
    {
      "cell_type": "code",
      "metadata": {
        "id": "P7fpAzcWk_mT",
        "colab_type": "code",
        "colab": {}
      },
      "source": [
        "results = pd.read_pickle(\"/datasets/My Drive/datasets/results.pkl\")\n",
        "\n",
        "results_cleaned = {k: v for k,v in results.items() if k in train_id or k in test_id}\n",
        "\n",
        "results_cleaned2 = {}\n",
        "for k,v in results_cleaned.items():\n",
        "  #print(k,v)\n",
        "  results_cleaned2[k] = []\n",
        "  for s in v:\n",
        "    if s.get('mask') != None:\n",
        "      results_cleaned2[k].append((s.get('mask'),s.get('questionsTotal'), [k.get('player').get('id') for k in s.get('teamMembers')]))\n",
        "\n",
        "del results\n",
        "del results_cleaned"
      ],
      "execution_count": 0,
      "outputs": []
    },
    {
      "cell_type": "code",
      "metadata": {
        "id": "Ba8T5dEQLw7g",
        "colab_type": "code",
        "colab": {
          "base_uri": "https://localhost:8080/",
          "height": 51
        },
        "outputId": "64e9908f-5a71-43cb-b7da-e7883b6944be"
      },
      "source": [
        "train_id = [id for id in train_id if id in results_cleaned2.keys() and len(results_cleaned2[id]) > 0]\n",
        "test_id = [id for id in test_id if id in results_cleaned2.keys() and len(results_cleaned2[id]) > 0]\n",
        "\n",
        "print(len(train_id))\n",
        "print(len(test_id))"
      ],
      "execution_count": 7,
      "outputs": [
        {
          "output_type": "stream",
          "text": [
            "3486\n",
            "173\n"
          ],
          "name": "stdout"
        }
      ]
    },
    {
      "cell_type": "code",
      "metadata": {
        "id": "y-bgXk1RT8A-",
        "colab_type": "code",
        "outputId": "fccd391d-4592-4d4d-c987-5da803d34815",
        "colab": {
          "base_uri": "https://localhost:8080/",
          "height": 34
        }
      },
      "source": [
        "import numpy as np\n",
        "from sklearn.linear_model import LogisticRegression\n",
        "import tqdm\n",
        "import gc\n",
        "\n",
        "print (len(results_cleaned2))\n",
        "vocabulary =  set()\n",
        "\n",
        "\n",
        "def process_tournament(id):\n",
        "  task3 = []\n",
        "  words = []\n",
        "  for v in results_cleaned2[id]:\n",
        "    for p in range(len(v[0])): #answers\n",
        "      for k in v[2]: # players\n",
        "        quest = str(id)+'_'+str(p)\n",
        "        player = int(k)\n",
        "        task3.append((quest, player, v[0][p]) )\n",
        "        words.append(quest)\n",
        "        words.append(player)\n",
        "\n",
        "  if len(words)==0:\n",
        "    return []\n",
        "  \n",
        "  words = set(words)\n",
        "  word_to_idx = dict([(y,x) for x,y in enumerate(words)])\n",
        "  idx_to_word = dict([(x,y) for x,y in enumerate(words)])\n",
        "  \n",
        "  X = np.zeros((len(task3),len(words)))\n",
        "  Y = np.zeros(len(task3))\n",
        "  for i in range(len(task3)):\n",
        "    X[i,word_to_idx[task3[i][0]]] = 1\n",
        "    X[i,word_to_idx[task3[i][1]]] = 1\n",
        "    Y[i] = task3[i][2]\n",
        "\n",
        "  logistic = LogisticRegression(fit_intercept = False ) #penalty = 'none', \n",
        "  logistic.fit(X, Y)\n",
        "\n",
        "  result = []\n",
        "  for s in range(len(logistic.coef_[0])):\n",
        "    result.append((idx_to_word[s],logistic.coef_[0][s]))\n",
        "  gc.collect()\n",
        "  return result\n",
        "\n",
        "#print(process_tournament(1521))\n",
        "#process_tournament(6349)"
      ],
      "execution_count": 8,
      "outputs": [
        {
          "output_type": "stream",
          "text": [
            "4339\n"
          ],
          "name": "stdout"
        }
      ]
    },
    {
      "cell_type": "markdown",
      "metadata": {
        "id": "ZYAuLnul2Ztn",
        "colab_type": "text"
      },
      "source": [
        "Создадим словарь из всех вопросов и игроков, их можно отличать по наличию символа '_' в названии."
      ]
    },
    {
      "cell_type": "code",
      "metadata": {
        "id": "XSTSPsSxd8Up",
        "colab_type": "code",
        "colab": {
          "base_uri": "https://localhost:8080/",
          "height": 34
        },
        "outputId": "12c5a1a4-00a3-4e6b-fb91-785120ad9fe7"
      },
      "source": [
        "#del all_words\n",
        "all_words = []\n",
        "\n",
        "for k,v in results_cleaned2.items():\n",
        "  for team in v: \n",
        "    for p in range(len(team[0])):\n",
        "        all_words.append(str(k)+'_'+str(p))\n",
        "    for m in team[2]:\n",
        "        all_words.append(m)\n",
        "\n",
        "all_words = set(all_words)\n",
        "print(len(all_words))"
      ],
      "execution_count": 9,
      "outputs": [
        {
          "output_type": "stream",
          "text": [
            "357955\n"
          ],
          "name": "stdout"
        }
      ]
    },
    {
      "cell_type": "markdown",
      "metadata": {
        "id": "Ec8_oUCP2pir",
        "colab_type": "text"
      },
      "source": [
        "Пройдемся по всем турнирам и посчитаем рейтинг всех игроков и вопросов в заданном турнире, за неимением лучшего, усредним по каждому игроку рейтинг в турнире"
      ]
    },
    {
      "cell_type": "code",
      "metadata": {
        "id": "ovg-qp80xZy0",
        "colab_type": "code",
        "outputId": "33647a82-bf0b-4a6d-f869-82746fba356d",
        "colab": {
          "base_uri": "https://localhost:8080/",
          "height": 493
        }
      },
      "source": [
        "import tqdm\n",
        "import gc\n",
        "all_results = {}\n",
        "for s in all_words:\n",
        "  all_results[s] = [0,0]\n",
        "\n",
        "print(all_results)\n",
        "\n",
        "i=0\n",
        "for tourn in tqdm.tqdm(train_id):\n",
        "  i=i+1\n",
        "  print(tourn)\n",
        "  result = process_tournament(tourn)\n",
        "  #for s in result:\n",
        "  #  all_results[s[0]][1] +=1\n",
        "  #  all_results[s[0]][0] +=s[1]\n",
        "  gc.collect()"
      ],
      "execution_count": 0,
      "outputs": [
        {
          "output_type": "stream",
          "text": [
            "\r  0%|          | 0/3486 [00:00<?, ?it/s]IOPub data rate exceeded.\n",
            "The notebook server will temporarily stop sending output\n",
            "to the client in order to avoid crashing it.\n",
            "To change this limit, set the config variable\n",
            "`--NotebookApp.iopub_data_rate_limit`.\n",
            "\n",
            "Current values:\n",
            "NotebookApp.iopub_data_rate_limit=1000000.0 (bytes/sec)\n",
            "NotebookApp.rate_limit_window=3.0 (secs)\n",
            "\n",
            "  0%|          | 1/3486 [00:00<46:47,  1.24it/s]"
          ],
          "name": "stderr"
        },
        {
          "output_type": "stream",
          "text": [
            "76\n"
          ],
          "name": "stdout"
        },
        {
          "output_type": "stream",
          "text": [
            "\r  0%|          | 2/3486 [00:02<55:24,  1.05it/s]"
          ],
          "name": "stderr"
        },
        {
          "output_type": "stream",
          "text": [
            "141\n"
          ],
          "name": "stdout"
        },
        {
          "output_type": "stream",
          "text": [
            "\r  0%|          | 3/3486 [00:03<57:07,  1.02it/s]"
          ],
          "name": "stderr"
        },
        {
          "output_type": "stream",
          "text": [
            "226\n"
          ],
          "name": "stdout"
        },
        {
          "output_type": "stream",
          "text": [
            "\r  0%|          | 4/3486 [00:04<1:02:56,  1.08s/it]"
          ],
          "name": "stderr"
        },
        {
          "output_type": "stream",
          "text": [
            "315\n"
          ],
          "name": "stdout"
        },
        {
          "output_type": "stream",
          "text": [
            "\r  0%|          | 5/3486 [00:06<1:13:20,  1.26s/it]"
          ],
          "name": "stderr"
        },
        {
          "output_type": "stream",
          "text": [
            "484\n"
          ],
          "name": "stdout"
        },
        {
          "output_type": "stream",
          "text": [
            "\r  0%|          | 6/3486 [00:08<1:28:11,  1.52s/it]"
          ],
          "name": "stderr"
        },
        {
          "output_type": "stream",
          "text": [
            "583\n"
          ],
          "name": "stdout"
        },
        {
          "output_type": "stream",
          "text": [
            "\r  0%|          | 7/3486 [00:09<1:30:27,  1.56s/it]"
          ],
          "name": "stderr"
        },
        {
          "output_type": "stream",
          "text": [
            "652\n"
          ],
          "name": "stdout"
        },
        {
          "output_type": "stream",
          "text": [
            "\r  0%|          | 8/3486 [00:10<1:17:23,  1.34s/it]"
          ],
          "name": "stderr"
        },
        {
          "output_type": "stream",
          "text": [
            "1082\n"
          ],
          "name": "stdout"
        },
        {
          "output_type": "stream",
          "text": [
            "\r  0%|          | 9/3486 [00:11<1:10:55,  1.22s/it]"
          ],
          "name": "stderr"
        },
        {
          "output_type": "stream",
          "text": [
            "1224\n"
          ],
          "name": "stdout"
        },
        {
          "output_type": "stream",
          "text": [
            "\r  0%|          | 10/3486 [00:12<1:06:55,  1.16s/it]"
          ],
          "name": "stderr"
        },
        {
          "output_type": "stream",
          "text": [
            "1348\n"
          ],
          "name": "stdout"
        },
        {
          "output_type": "stream",
          "text": [
            "\r  0%|          | 11/3486 [00:13<58:52,  1.02s/it]  "
          ],
          "name": "stderr"
        },
        {
          "output_type": "stream",
          "text": [
            "1369\n"
          ],
          "name": "stdout"
        },
        {
          "output_type": "stream",
          "text": [
            "\r  0%|          | 12/3486 [00:14<55:28,  1.04it/s]"
          ],
          "name": "stderr"
        },
        {
          "output_type": "stream",
          "text": [
            "1515\n"
          ],
          "name": "stdout"
        },
        {
          "output_type": "stream",
          "text": [
            "\r  0%|          | 13/3486 [00:15<53:35,  1.08it/s]"
          ],
          "name": "stderr"
        },
        {
          "output_type": "stream",
          "text": [
            "1516\n"
          ],
          "name": "stdout"
        },
        {
          "output_type": "stream",
          "text": [
            "\r  0%|          | 14/3486 [00:15<50:21,  1.15it/s]"
          ],
          "name": "stderr"
        },
        {
          "output_type": "stream",
          "text": [
            "1517\n"
          ],
          "name": "stdout"
        },
        {
          "output_type": "stream",
          "text": [
            "\r  0%|          | 15/3486 [00:16<51:58,  1.11it/s]"
          ],
          "name": "stderr"
        },
        {
          "output_type": "stream",
          "text": [
            "1518\n"
          ],
          "name": "stdout"
        },
        {
          "output_type": "stream",
          "text": [
            "\r  0%|          | 16/3486 [00:30<4:38:15,  4.81s/it]"
          ],
          "name": "stderr"
        },
        {
          "output_type": "stream",
          "text": [
            "1519\n"
          ],
          "name": "stdout"
        },
        {
          "output_type": "stream",
          "text": [
            "\r  0%|          | 17/3486 [00:31<3:33:51,  3.70s/it]"
          ],
          "name": "stderr"
        },
        {
          "output_type": "stream",
          "text": [
            "1521\n"
          ],
          "name": "stdout"
        },
        {
          "output_type": "stream",
          "text": [
            "\r  1%|          | 18/3486 [00:40<4:53:13,  5.07s/it]"
          ],
          "name": "stderr"
        },
        {
          "output_type": "stream",
          "text": [
            "1526\n"
          ],
          "name": "stdout"
        }
      ]
    },
    {
      "cell_type": "code",
      "metadata": {
        "id": "QVEkjc7v-aXV",
        "colab_type": "code",
        "outputId": "9be32c2e-4ac0-400d-d514-23789a8b5478",
        "colab": {
          "base_uri": "https://localhost:8080/",
          "height": 35
        }
      },
      "source": [
        "#print(results_cleaned2[314])\n",
        "#print(results_cleaned2[1518])"
      ],
      "execution_count": 0,
      "outputs": [
        {
          "output_type": "stream",
          "text": [
            "(314, None, 0, [])\n"
          ],
          "name": "stdout"
        }
      ]
    },
    {
      "cell_type": "code",
      "metadata": {
        "id": "ElK-3hlk3rFB",
        "colab_type": "code",
        "outputId": "31eb3dca-8c09-4374-b133-2b6e5694005b",
        "colab": {
          "base_uri": "https://localhost:8080/",
          "height": 74
        }
      },
      "source": [
        "ranking = [(k,sum(v)/len(v),len(v)) for k,v in all_results.items() if len(v)>0]\n",
        "print(ranking)\n",
        "\n",
        "ranking.sort(key = lambda x: -x[1])\n",
        "\n",
        "print(len(ranking))"
      ],
      "execution_count": 0,
      "outputs": [
        {
          "output_type": "stream",
          "text": [
            "[(144, 0.8115716822453486, 3921), (439, 0.8115716822453486, 3921), (606, 0.3096916142463704, 3921), (668, 1.2453003007722203, 3921), (707, 1.81281595304428, 3921), ('22_61', -0.8014541582410943, 3921), (1055, -0.024618723036230465, 3921), (1145, 0.8115716822453486, 3921), (1560, 2.021934955245346, 3921), (1603, 1.3353444131489387, 3921), (2005, 1.1565697901447998, 3921), (2454, 1.1565697901447998, 3921), (2626, 0.3096916142463704, 3921), (2694, 1.81281595304428, 3921), ('22_89', 2.3396746890502476, 3921), (2935, 2.021934955245346, 3921), (3207, 1.5201563477227515, 3921), (3270, 2.021934955245346, 3921), (3498, -1.2127987362172403, 3921), (3645, 1.5201563477227515, 3921), (4060, 1.2453003007722203, 3921), (4551, 1.1565697901447998, 3921), (4576, 0.9823792319043849, 3921), ('22_46', -20.77005188280133, 3921), (4878, 2.021934955245346, 3921), (5526, 1.7128253338578534, 3921), (5935, 1.3353444131489387, 3921), (6020, 0.4761072327512964, 3921), (6212, 1.5201563477227515, 3921), (6625, 0.8115716822453486, 3921), (7158, -1.2127987362172403, 3921), (7996, -0.6330630253194914, 3921), (8229, 1.4268922368001018, 3921), (8333, 1.5201563477227515, 3921), (8505, 0.8115716822453486, 3921), (9908, 0.8115716822453486, 3921), (10816, 0.8115716822453486, 3921), ('22_31', 2.00995285085283, 3921), (12119, 1.1565697901447998, 3921), (12770, 1.1565697901447998, 3921), (13288, 0.3096916142463704, 3921), (13551, 1.81281595304428, 3921), (13601, 0.3096916142463704, 3921), (13647, 0.3096916142463704, 3921), (14259, 1.7128253338578534, 3921), (14933, -0.024618723036230465, 3921), (15265, 0.4761072327512964, 3921), (15276, 1.2453003007722203, 3921), (15442, 1.81281595304428, 3921), (15624, 0.3096916142463704, 3921), (16033, -1.2127987362172403, 3921), (16482, -0.6330630253194914, 3921), (17050, 1.3353444131489387, 3921), (17730, 0.3096916142463704, 3921), (17746, 0.8115716822453486, 3921), (17751, 0.8115716822453486, 3921), (18036, 1.3353444131489387, 3921), (18332, 1.3353444131489387, 3921), (18686, 1.7128253338578534, 3921), (18935, 2.021934955245346, 3921), (19287, -0.024618723036230465, 3921), (19298, 0.3096916142463704, 3921), (19599, 0.9823792319043849, 3921), (19775, -0.6330630253194914, 3921), (19782, 0.8115716822453486, 3921), (19798, 0.3096916142463704, 3921), (20207, 1.4268922368001018, 3921), (20260, 1.7128253338578534, 3921), (20612, 1.3353444131489387, 3921), (20691, 1.81281595304428, 3921), (21487, 1.4268922368001018, 3921), (21805, 1.7128253338578534, 3921), (22482, 1.81281595304428, 3921), (22935, 1.81281595304428, 3921), (23558, 1.4268922368001018, 3921), (23588, 1.2453003007722203, 3921), ('22_45', 0.9208034429843535, 3921), (24290, 1.1565697901447998, 3921), (24786, 0.3096916142463704, 3921), (24891, -1.2127987362172403, 3921), (25120, 0.3096916142463704, 3921), (25153, 0.8115716822453486, 3921), (25155, 0.8115716822453486, 3921), (25604, -0.6330630253194914, 3921), (25678, 0.9823792319043849, 3921), (25724, 0.9823792319043849, 3921), (25882, 1.81281595304428, 3921), (26173, 0.8115716822453486, 3921), (26990, 0.8115716822453486, 3921), (27238, 1.4268922368001018, 3921), (27403, 1.2453003007722203, 3921), (27409, -0.024618723036230465, 3921), ('22_2', 2.3396746890502476, 3921), ('22_11', -1.422546360080561, 3921), (28087, 1.2453003007722203, 3921), (28513, 1.81281595304428, 3921), (29333, 1.7128253338578534, 3921), (29399, 1.4268922368001018, 3921), (29613, -0.024618723036230465, 3921), (29700, 0.9823792319043849, 3921), (29800, 1.81281595304428, 3921), (30270, 0.4761072327512964, 3921), (30475, 1.81281595304428, 3921), (30990, 1.3353444131489387, 3921), (31562, -0.6330630253194914, 3921), (32684, -1.2127987362172403, 3921), (32685, -1.2127987362172403, 3921), (32979, 2.021934955245346, 3921), (33146, 0.3096916142463704, 3921), (34078, -0.024618723036230465, 3921), (34846, 1.81281595304428, 3921), (35065, 1.1565697901447998, 3921), (35373, 0.4761072327512964, 3921), (35506, 0.9823792319043849, 3921), (35902, 0.4761072327512964, 3921), (35908, 0.4761072327512964, 3921), (36497, 2.021934955245346, 3921), (37114, -0.6330630253194914, 3921), ('22_82', -2.0575252279606424, 3921), (49151, 1.5201563477227515, 3921), ('22_14', -0.46349462254600754, 3921), ('22_87', -1.465014872823368, 3921), ('22_64', 1.5216027985468294, 3921), ('22_58', 0.1421263011379772, 3921), ('22_8', -20.77005188280133, 3921), ('22_53', 1.5216027985468294, 3921), ('22_3', 0.1937495116523069, 3921), ('22_10', -1.1309862533379513, 3921), ('22_9', 0.8496058163688072, 3921), ('22_57', -1.6381488918665903, 3921), ('22_19', 19.27206616389847, 3921), ('22_39', -1.7271555036085724, 3921), ('22_83', -0.9664863143948668, 3921), ('22_79', -0.42000210999071985, 3921), ('22_27', 19.27206616389847, 3921), ('22_34', 0.9948300645211301, 3921), ('22_37', -0.9664863143948669, 3921), ('22_44', 1.5216027985468292, 3921), ('22_88', 0.8496058163688072, 3921), ('22_15', -2.3771154653657813, 3921), ('22_62', -0.33185737122812464, 3921), ('22_24', -0.9253402011569409, 3921), ('22_73', 0.24637323935724606, 3921), ('22_81', -20.77005188280133, 3921), ('22_17', -1.0898225221695912, 3921), ('22_42', 19.27206616389847, 3921), ('22_32', -0.007348732847192075, 3921), ('22_52', 0.9948300645211301, 3921), ('22_50', 19.27206616389847, 3921), ('22_12', 0.9948300645211301, 3921), ('22_4', -1.6824150408939, 3921), ('22_28', 0.4110556804250747, 3921), ('22_16', -20.77005188280133, 3921), ('22_49', 1.3266733833407642, 3921), ('22_85', -0.6343323773971833, 3921), ('22_20', -3.2468822002889657, 3921), ('22_23', -0.8841354579035665, 3921), ('22_43', 19.27206616389847, 3921), ('22_59', -0.14993761503194428, 3921), ('22_66', 0.2463732393572461, 3921), ('22_71', -0.6343323773971833, 3921), ('22_0', -20.77005188280133, 3921), ('22_25', -2.3206241690721887, 3921), ('22_21', 1.5216027985468294, 3921), ('22_54', -1.7724174303493152, 3921), ('22_41', 2.3396746890502476, 3921), ('22_51', -2.0081070276337556, 3921), ('22_74', 19.27206616389847, 3921), ('22_69', -2.3771154653657813, 3921), ('22_67', -0.7182524911219342, 3921), ('22_47', 0.41105568042507484, 3921), ('22_56', 19.27206616389847, 3921), ('22_72', 0.9208034429843535, 3921), ('22_13', -0.6343323773971833, 3921), ('22_84', 0.5275018450786269, 3921), ('22_22', 19.27206616389847, 3921), ('22_76', -3.854136884765442, 3921), ('22_36', -2.2118406355676123, 3921), ('22_29', 0.8496058163688072, 3921), ('22_38', -1.1722196347487985, 3921), ('22_18', -2.0081070276337556, 3921), ('22_33', 0.2463732393572461, 3921), ('22_63', 19.27206616389847, 3921), ('22_55', 0.5880701530411189, 3921), ('22_60', 19.27206616389847, 3921), ('22_35', 0.5275018450786269, 3921), ('22_86', 0.9948300645211301, 3921), ('22_80', -0.055563818452355807, 3921), ('22_7', -2.0081070276337556, 3921), ('22_65', -1.5508670412971173, 3921), ('22_68', -20.77005188280133, 3921), ('22_70', -2.0081070276337556, 3921), ('22_77', -20.77005188280133, 3921), ('22_75', 19.27206616389847, 3921), ('22_48', -1.3383685385691175, 3921), ('22_30', 19.27206616389847, 3921), ('22_40', -0.10307359354360979, 3921), ('22_5', 2.3396746890502476, 3921), ('22_1', -0.9253402011569409, 3921), ('22_26', 19.27206616389847, 3921), ('22_6', 19.27206616389847, 3921), ('22_78', -3.152860928375393, 3921)]\n",
            "202\n"
          ],
          "name": "stdout"
        }
      ]
    },
    {
      "cell_type": "code",
      "metadata": {
        "id": "T3LbC9605VAV",
        "colab_type": "code",
        "colab": {}
      },
      "source": [
        "def isquestion():\n",
        "  if "
      ],
      "execution_count": 0,
      "outputs": []
    },
    {
      "cell_type": "code",
      "metadata": {
        "id": "wIr5vqGOlhfR",
        "colab_type": "code",
        "outputId": "1fa11452-dff8-43b8-d2cf-f20869995a17",
        "colab": {
          "base_uri": "https://localhost:8080/",
          "height": 35
        }
      },
      "source": [
        ""
      ],
      "execution_count": 0,
      "outputs": [
        {
          "output_type": "execute_result",
          "data": {
            "text/plain": [
              "24"
            ]
          },
          "metadata": {
            "tags": []
          },
          "execution_count": 10
        }
      ]
    }
  ]
}